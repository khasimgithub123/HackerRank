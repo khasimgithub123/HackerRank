{
  "cells": [
    {
      "cell_type": "markdown",
      "source": [
        "## 3. Dictionary"
      ],
      "metadata": {
        "id": "o6_wVMr6lzEd"
      }
    },
    {
      "cell_type": "code",
      "execution_count": null,
      "metadata": {
        "id": "H20yfPR8_4Tw"
      },
      "outputs": [],
      "source": [
        "empty_dict = {}"
      ]
    },
    {
      "cell_type": "code",
      "execution_count": null,
      "metadata": {
        "id": "W8hua9yP_4Tx",
        "outputId": "8a16792e-aecd-4932-e38a-19c5c5b334b0"
      },
      "outputs": [
        {
          "data": {
            "text/plain": [
              "{}"
            ]
          },
          "execution_count": 2,
          "metadata": {},
          "output_type": "execute_result"
        }
      ],
      "source": [
        "empty_dict"
      ]
    },
    {
      "cell_type": "code",
      "execution_count": null,
      "metadata": {
        "id": "mgU9BDQI_4Ty",
        "outputId": "69abadb8-d393-4f5a-a6d9-088bca81f6ca"
      },
      "outputs": [
        {
          "data": {
            "text/plain": [
              "{'James': 'Ducati Monster 1200',\n",
              " 'Jacob': 'Ducati Scrambler 1100',\n",
              " 'William': 'BMW S 1000 RR',\n",
              " 'Aiden': 'Harley Davidson'}"
            ]
          },
          "execution_count": 3,
          "metadata": {},
          "output_type": "execute_result"
        }
      ],
      "source": [
        "bike_owners = {\"James\" : \"Ducati Monster 1200\",\n",
        "               \"Jacob\" : \"Ducati Scrambler 1100\",\n",
        "               \"William\" : \"BMW S 1000 RR\",\n",
        "               \"Aiden\" : \"Harley Davidson\"}\n",
        "bike_owners"
      ]
    },
    {
      "cell_type": "code",
      "execution_count": null,
      "metadata": {
        "id": "EVNaOs1F_4Ty",
        "outputId": "594be76a-8898-4e1f-eeb4-27956ff634e3"
      },
      "outputs": [
        {
          "data": {
            "text/plain": [
              "'Ducati Monster 1200'"
            ]
          },
          "execution_count": 4,
          "metadata": {},
          "output_type": "execute_result"
        }
      ],
      "source": [
        "bike_owners[\"James\"]"
      ]
    },
    {
      "cell_type": "code",
      "execution_count": null,
      "metadata": {
        "id": "k0p70Lpa_4Tz",
        "outputId": "7aa25338-2ab6-4e33-8c30-5b4676bfe258"
      },
      "outputs": [
        {
          "data": {
            "text/plain": [
              "'Harley Davidson'"
            ]
          },
          "execution_count": 5,
          "metadata": {},
          "output_type": "execute_result"
        }
      ],
      "source": [
        "bike_owners[\"Aiden\"]"
      ]
    },
    {
      "cell_type": "code",
      "execution_count": null,
      "metadata": {
        "id": "HHbtQxZn_4Tz",
        "outputId": "b4ec0da4-f0c0-44be-db3e-8687389dbd50"
      },
      "outputs": [
        {
          "ename": "KeyError",
          "evalue": "'BMW S 1000 R'",
          "output_type": "error",
          "traceback": [
            "\u001b[0;31m---------------------------------------------------------------------------\u001b[0m",
            "\u001b[0;31mKeyError\u001b[0m                                  Traceback (most recent call last)",
            "\u001b[0;32m<ipython-input-6-4be6923e3ccd>\u001b[0m in \u001b[0;36m<module>\u001b[0;34m()\u001b[0m\n\u001b[0;32m----> 1\u001b[0;31m \u001b[0mbike_owners\u001b[0m\u001b[0;34m[\u001b[0m\u001b[0;34m\"BMW S 1000 R\"\u001b[0m\u001b[0;34m]\u001b[0m\u001b[0;34m\u001b[0m\u001b[0;34m\u001b[0m\u001b[0m\n\u001b[0m",
            "\u001b[0;31mKeyError\u001b[0m: 'BMW S 1000 R'"
          ]
        }
      ],
      "source": [
        "bike_owners[\"BMW S 1000 R\"]"
      ]
    },
    {
      "cell_type": "code",
      "execution_count": null,
      "metadata": {
        "id": "FZOdqwHW_4Tz",
        "outputId": "6f3bec33-c30a-42fc-dbd3-e0b552535b64"
      },
      "outputs": [
        {
          "data": {
            "text/plain": [
              "{1: 45, 2: 55, 3: 65}"
            ]
          },
          "execution_count": 7,
          "metadata": {},
          "output_type": "execute_result"
        }
      ],
      "source": [
        "int_dict = {1 : 45, 2 : 55, 3 : 65}\n",
        "\n",
        "int_dict"
      ]
    },
    {
      "cell_type": "code",
      "execution_count": null,
      "metadata": {
        "id": "lucafC7H_4Tz",
        "outputId": "51af7a8a-2dcd-493e-f9c5-902b15d5f3a3"
      },
      "outputs": [
        {
          "data": {
            "text/plain": [
              "55"
            ]
          },
          "execution_count": 8,
          "metadata": {},
          "output_type": "execute_result"
        }
      ],
      "source": [
        "int_dict[2]"
      ]
    },
    {
      "cell_type": "code",
      "execution_count": null,
      "metadata": {
        "id": "xd93SpuD_4Tz",
        "outputId": "03f3a652-bbcb-43d1-eee0-7ec7ac26f66c"
      },
      "outputs": [
        {
          "data": {
            "text/plain": [
              "{1: 45, 2: 55, 3: 75}"
            ]
          },
          "execution_count": 9,
          "metadata": {},
          "output_type": "execute_result"
        }
      ],
      "source": [
        "int_dict = {1 : 45, 2 : 55, 3 : 85, 3 : 75}\n",
        "\n",
        "int_dict"
      ]
    },
    {
      "cell_type": "code",
      "execution_count": null,
      "metadata": {
        "id": "C-1atu6m_4Tz",
        "outputId": "4be4694b-3f33-4b12-9794-e71f78f2c1b1"
      },
      "outputs": [
        {
          "data": {
            "text/plain": [
              "{'Henry': 1995, 'Samuel': 1999, 'Ingrid': 2005}"
            ]
          },
          "execution_count": 10,
          "metadata": {},
          "output_type": "execute_result"
        }
      ],
      "source": [
        "student_details = {\"Henry\" : 1995, \n",
        "                   \"Samuel\" : 1999, \n",
        "                   \"Ingrid\" :2005}\n",
        "\n",
        "student_details"
      ]
    },
    {
      "cell_type": "code",
      "execution_count": null,
      "metadata": {
        "id": "9v0cqjfy_4T0",
        "outputId": "918f14b3-c222-41f9-f8e1-5626c70ae99b"
      },
      "outputs": [
        {
          "data": {
            "text/plain": [
              "dict_keys(['Henry', 'Samuel', 'Ingrid'])"
            ]
          },
          "execution_count": 11,
          "metadata": {},
          "output_type": "execute_result"
        }
      ],
      "source": [
        "student_details.keys()"
      ]
    },
    {
      "cell_type": "code",
      "execution_count": null,
      "metadata": {
        "id": "qhmG2YCw_4T0",
        "outputId": "77641611-c74d-4ab6-ada1-0f48492c7022"
      },
      "outputs": [
        {
          "data": {
            "text/plain": [
              "True"
            ]
          },
          "execution_count": 12,
          "metadata": {},
          "output_type": "execute_result"
        }
      ],
      "source": [
        "\"Samuel\" in student_details.keys()"
      ]
    },
    {
      "cell_type": "code",
      "execution_count": null,
      "metadata": {
        "id": "BPY8dpyx_4T0",
        "outputId": "7b9b47ec-b0a9-4c40-99a6-c1d50ed00620"
      },
      "outputs": [
        {
          "data": {
            "text/plain": [
              "False"
            ]
          },
          "execution_count": 13,
          "metadata": {},
          "output_type": "execute_result"
        }
      ],
      "source": [
        "\"Andrew\" in student_details.keys()"
      ]
    },
    {
      "cell_type": "code",
      "execution_count": null,
      "metadata": {
        "id": "WjQi2ywo_4T0",
        "outputId": "c71e428a-dfef-4a11-afd3-cd124e31ca20"
      },
      "outputs": [
        {
          "data": {
            "text/plain": [
              "True"
            ]
          },
          "execution_count": 14,
          "metadata": {},
          "output_type": "execute_result"
        }
      ],
      "source": [
        "\"Henry\" in student_details.keys()"
      ]
    },
    {
      "cell_type": "code",
      "execution_count": null,
      "metadata": {
        "id": "0Liid37b_4T0",
        "outputId": "e82faef7-6118-4bac-8c90-600957aa0e71"
      },
      "outputs": [
        {
          "data": {
            "text/plain": [
              "dict_values([1995, 1999, 2005])"
            ]
          },
          "execution_count": 15,
          "metadata": {},
          "output_type": "execute_result"
        }
      ],
      "source": [
        "student_details.values()"
      ]
    },
    {
      "cell_type": "code",
      "execution_count": null,
      "metadata": {
        "id": "pblkmpl-_4T1",
        "outputId": "cf04cac6-005d-4a63-d21d-29ee3586f306"
      },
      "outputs": [
        {
          "data": {
            "text/plain": [
              "{False: 'Daniel', 'Aria': [1, 2, 3], 'Jacob': True}"
            ]
          },
          "execution_count": 16,
          "metadata": {},
          "output_type": "execute_result"
        }
      ],
      "source": [
        "mixed_dict = {False: \"Daniel\", \n",
        "              \"Aria\": [1,2,3], \n",
        "              \"Jacob\": True}\n",
        "\n",
        "mixed_dict"
      ]
    },
    {
      "cell_type": "code",
      "execution_count": null,
      "metadata": {
        "id": "tL2j058X_4T1",
        "outputId": "11b10dd4-66dc-4da3-8d49-550fbe232b23"
      },
      "outputs": [
        {
          "data": {
            "text/plain": [
              "[1, 2, 3]"
            ]
          },
          "execution_count": 17,
          "metadata": {},
          "output_type": "execute_result"
        }
      ],
      "source": [
        "mixed_dict[\"Aria\"]"
      ]
    },
    {
      "cell_type": "code",
      "execution_count": null,
      "metadata": {
        "id": "DG00MyS-_4T1",
        "outputId": "6eb7d580-36f4-421f-a105-6cbf884de14f"
      },
      "outputs": [
        {
          "data": {
            "text/plain": [
              "'Daniel'"
            ]
          },
          "execution_count": 18,
          "metadata": {},
          "output_type": "execute_result"
        }
      ],
      "source": [
        "mixed_dict[False]"
      ]
    },
    {
      "cell_type": "code",
      "execution_count": null,
      "metadata": {
        "id": "HuaYwBpF_4T1",
        "outputId": "85f1d416-e38d-4954-8643-68ff6c9a406a"
      },
      "outputs": [
        {
          "data": {
            "text/plain": [
              "{'bike_owner': 'James Smith',\n",
              " 'bike_model': 'Ducati Monster 1200',\n",
              " 'bike_price': 28140,\n",
              " 'engine_displacement': 1197}"
            ]
          },
          "execution_count": 19,
          "metadata": {},
          "output_type": "execute_result"
        }
      ],
      "source": [
        "bike_details = {\"bike_owner\" : \"James Smith\" ,\n",
        "                \"bike_model\" : \"Ducati Monster 1200\" ,\n",
        "                \"bike_price\" : 28140 ,\n",
        "                \"engine_displacement\" : 1197}\n",
        "bike_details"
      ]
    },
    {
      "cell_type": "code",
      "execution_count": null,
      "metadata": {
        "id": "doyyyLub_4T1"
      },
      "outputs": [],
      "source": [
        "bike_details['num_cylinders'] = 2"
      ]
    },
    {
      "cell_type": "code",
      "execution_count": null,
      "metadata": {
        "id": "48SKDOP2_4T1",
        "outputId": "572a2006-054b-423b-db29-1457d8708dfa"
      },
      "outputs": [
        {
          "data": {
            "text/plain": [
              "{'bike_owner': 'James Smith',\n",
              " 'bike_model': 'Ducati Monster 1200',\n",
              " 'bike_price': 28140,\n",
              " 'engine_displacement': 1197,\n",
              " 'num_cylinders': 2}"
            ]
          },
          "execution_count": 21,
          "metadata": {},
          "output_type": "execute_result"
        }
      ],
      "source": [
        "bike_details"
      ]
    },
    {
      "cell_type": "code",
      "execution_count": null,
      "metadata": {
        "id": "CvHxldfW_4T2"
      },
      "outputs": [],
      "source": [
        "bike_details['bike_price'] = 29140"
      ]
    },
    {
      "cell_type": "code",
      "execution_count": null,
      "metadata": {
        "id": "_lMxv9uP_4T2",
        "outputId": "e972b6ad-fd80-482f-8fb7-258c65958237"
      },
      "outputs": [
        {
          "data": {
            "text/plain": [
              "29140"
            ]
          },
          "execution_count": 23,
          "metadata": {},
          "output_type": "execute_result"
        }
      ],
      "source": [
        "bike_details['bike_price']"
      ]
    },
    {
      "cell_type": "code",
      "execution_count": null,
      "metadata": {
        "id": "sk7hxvoo_4T2",
        "outputId": "092b1a56-4dda-4660-b4d3-31d17d787121"
      },
      "outputs": [
        {
          "data": {
            "text/plain": [
              "29140"
            ]
          },
          "execution_count": 24,
          "metadata": {},
          "output_type": "execute_result"
        }
      ],
      "source": [
        "bike_details.get('bike_price')"
      ]
    },
    {
      "cell_type": "code",
      "execution_count": null,
      "metadata": {
        "id": "6FKLNlfR_4T2",
        "outputId": "c4c0111c-e868-4376-d1fe-bda30888b15c"
      },
      "outputs": [
        {
          "data": {
            "text/plain": [
              "{'bike_owner': 'James Smith',\n",
              " 'bike_model': 'Ducati Monster 1200',\n",
              " 'bike_price': 29140,\n",
              " 'engine_displacement': 1197,\n",
              " 'num_cylinders': 2}"
            ]
          },
          "execution_count": 25,
          "metadata": {},
          "output_type": "execute_result"
        }
      ],
      "source": [
        "bike_details"
      ]
    },
    {
      "cell_type": "code",
      "execution_count": null,
      "metadata": {
        "id": "luTdhmng_4T2"
      },
      "outputs": [],
      "source": [
        "del bike_details[\"engine_displacement\"]"
      ]
    },
    {
      "cell_type": "code",
      "execution_count": null,
      "metadata": {
        "id": "x9pTspiM_4T2",
        "outputId": "67e9ec48-dc0d-4a00-e11b-cd2fba946f31"
      },
      "outputs": [
        {
          "data": {
            "text/plain": [
              "{'bike_owner': 'James Smith',\n",
              " 'bike_model': 'Ducati Monster 1200',\n",
              " 'bike_price': 29140,\n",
              " 'num_cylinders': 2}"
            ]
          },
          "execution_count": 27,
          "metadata": {},
          "output_type": "execute_result"
        }
      ],
      "source": [
        "bike_details"
      ]
    },
    {
      "cell_type": "code",
      "execution_count": null,
      "metadata": {
        "id": "FHAo7t0k_4T2"
      },
      "outputs": [],
      "source": [
        ""
      ]
    },
    {
      "cell_type": "code",
      "execution_count": null,
      "metadata": {
        "id": "JbMNmKrH_4T2"
      },
      "outputs": [],
      "source": [
        ""
      ]
    },
    {
      "cell_type": "code",
      "execution_count": null,
      "metadata": {
        "id": "c7_f5wmi_4T2"
      },
      "outputs": [],
      "source": [
        ""
      ]
    },
    {
      "cell_type": "code",
      "execution_count": null,
      "metadata": {
        "id": "rnyL5ZLW_4T3",
        "outputId": "9ded90b8-71c1-40c0-8d97-bb322bf5b198"
      },
      "outputs": [
        {
          "data": {
            "text/plain": [
              "{}"
            ]
          },
          "execution_count": 1,
          "metadata": {},
          "output_type": "execute_result"
        }
      ],
      "source": [
        "fruit_qty = {}\n",
        "\n",
        "fruit_qty"
      ]
    },
    {
      "cell_type": "code",
      "execution_count": null,
      "metadata": {
        "id": "C57gRrA9_4T3"
      },
      "outputs": [],
      "source": [
        "fruit_qty['Banana'] = 50\n",
        "\n",
        "fruit_qty['Apple'] = 78\n",
        "\n",
        "fruit_qty['Apricot'] = 40"
      ]
    },
    {
      "cell_type": "code",
      "execution_count": null,
      "metadata": {
        "id": "HJa21GUV_4T3",
        "outputId": "cd64b1e7-d352-409b-a046-5f591080fcea"
      },
      "outputs": [
        {
          "data": {
            "text/plain": [
              "{'Banana': 50, 'Apple': 78, 'Apricot': 40}"
            ]
          },
          "execution_count": 3,
          "metadata": {},
          "output_type": "execute_result"
        }
      ],
      "source": [
        "fruit_qty"
      ]
    },
    {
      "cell_type": "code",
      "execution_count": null,
      "metadata": {
        "id": "G8ByKisZ_4T4",
        "outputId": "6167e456-080c-4c23-f7bd-9a4f9aabc08f"
      },
      "outputs": [
        {
          "data": {
            "text/plain": [
              "{'Banana': 50, 'Apple': 78, 'Apricot': 40, 'Orange': 70, 'Avocado': 30}"
            ]
          },
          "execution_count": 4,
          "metadata": {},
          "output_type": "execute_result"
        }
      ],
      "source": [
        "fruit_qty['Orange'] = 70\n",
        "fruit_qty['Avocado'] = 30\n",
        "\n",
        "fruit_qty"
      ]
    },
    {
      "cell_type": "code",
      "execution_count": null,
      "metadata": {
        "id": "VTskvO6Q_4T4",
        "outputId": "d4b985af-ab87-4f5d-a3be-3d9fb90619d9"
      },
      "outputs": [
        {
          "data": {
            "text/plain": [
              "40"
            ]
          },
          "execution_count": 5,
          "metadata": {},
          "output_type": "execute_result"
        }
      ],
      "source": [
        "fruit_qty['Apricot']"
      ]
    },
    {
      "cell_type": "code",
      "execution_count": null,
      "metadata": {
        "id": "6LaJrp_X_4T4",
        "outputId": "13488d21-0117-4c16-ed18-266fba29ddea"
      },
      "outputs": [
        {
          "ename": "KeyError",
          "evalue": "'Watermelon'",
          "output_type": "error",
          "traceback": [
            "\u001b[0;31m---------------------------------------------------------------------------\u001b[0m",
            "\u001b[0;31mKeyError\u001b[0m                                  Traceback (most recent call last)",
            "\u001b[0;32m<ipython-input-6-36b34f77a611>\u001b[0m in \u001b[0;36m<module>\u001b[0;34m()\u001b[0m\n\u001b[0;32m----> 1\u001b[0;31m \u001b[0mfruit_qty\u001b[0m\u001b[0;34m[\u001b[0m\u001b[0;34m'Watermelon'\u001b[0m\u001b[0;34m]\u001b[0m\u001b[0;34m\u001b[0m\u001b[0;34m\u001b[0m\u001b[0m\n\u001b[0m",
            "\u001b[0;31mKeyError\u001b[0m: 'Watermelon'"
          ]
        }
      ],
      "source": [
        "fruit_qty['Watermelon']"
      ]
    },
    {
      "cell_type": "code",
      "execution_count": null,
      "metadata": {
        "id": "EBUeqYSM_4T4",
        "outputId": "a223ae1a-352f-4b9a-96e1-9a48bbb8dd5a"
      },
      "outputs": [
        {
          "data": {
            "text/plain": [
              "{'Banana': 50,\n",
              " 'Apple': 78,\n",
              " 'Apricot': 40,\n",
              " 'Orange': 70,\n",
              " 'Avocado': 30,\n",
              " 'Watermelon': 10}"
            ]
          },
          "execution_count": 7,
          "metadata": {},
          "output_type": "execute_result"
        }
      ],
      "source": [
        "fruit_qty['Watermelon'] = 10\n",
        "\n",
        "fruit_qty"
      ]
    },
    {
      "cell_type": "code",
      "execution_count": null,
      "metadata": {
        "id": "m8kNWElt_4T4",
        "outputId": "8d9d706c-ecef-44e0-c1fd-eaaf764c3cff"
      },
      "outputs": [
        {
          "data": {
            "text/plain": [
              "10"
            ]
          },
          "execution_count": 8,
          "metadata": {},
          "output_type": "execute_result"
        }
      ],
      "source": [
        "fruit_qty['Watermelon']"
      ]
    },
    {
      "cell_type": "code",
      "execution_count": null,
      "metadata": {
        "id": "EQFvy6VK_4T4"
      },
      "outputs": [],
      "source": [
        "fruit_qty_consumed = {'Banana': [50, 60, 40, 55],\n",
        "                      'Apple': [78, 86, 80, 60], \n",
        "                      'Apricot': [40, 70, 30, 55],\n",
        "                      'Orange': [70, 80, 60, 65],\n",
        "                      'Avocado': [30, 50, 40, 45]}"
      ]
    },
    {
      "cell_type": "code",
      "execution_count": null,
      "metadata": {
        "id": "_bDgnl_K_4T4",
        "outputId": "1268b7be-258b-4bf4-f863-10f18b01d41d"
      },
      "outputs": [
        {
          "data": {
            "text/plain": [
              "{'Banana': [50, 60, 40, 55],\n",
              " 'Apple': [78, 86, 80, 60],\n",
              " 'Apricot': [40, 70, 30, 55],\n",
              " 'Orange': [70, 80, 60, 65],\n",
              " 'Avocado': [30, 50, 40, 45]}"
            ]
          },
          "execution_count": 10,
          "metadata": {},
          "output_type": "execute_result"
        }
      ],
      "source": [
        "fruit_qty_consumed"
      ]
    },
    {
      "cell_type": "code",
      "execution_count": null,
      "metadata": {
        "id": "0J8APkeV_4T4",
        "outputId": "4f80c68e-8e05-41b7-bdec-4d9f1a425c80"
      },
      "outputs": [
        {
          "data": {
            "text/plain": [
              "[70, 80, 60, 65]"
            ]
          },
          "execution_count": 11,
          "metadata": {},
          "output_type": "execute_result"
        }
      ],
      "source": [
        "fruit_qty_consumed['Orange']"
      ]
    },
    {
      "cell_type": "code",
      "execution_count": null,
      "metadata": {
        "id": "1xcVSNR7_4T4",
        "outputId": "3d8b1f24-3989-4c24-baee-0260d8f3d46d"
      },
      "outputs": [
        {
          "data": {
            "text/plain": [
              "65"
            ]
          },
          "execution_count": 12,
          "metadata": {},
          "output_type": "execute_result"
        }
      ],
      "source": [
        "fruit_qty_consumed['Orange'][3]"
      ]
    },
    {
      "cell_type": "code",
      "execution_count": null,
      "metadata": {
        "id": "f3_E3kDT_4T5",
        "outputId": "7e42ab81-571b-4f80-dc9a-7101d841f69c"
      },
      "outputs": [
        {
          "data": {
            "text/plain": [
              "[30, 50, 40, 45]"
            ]
          },
          "execution_count": 13,
          "metadata": {},
          "output_type": "execute_result"
        }
      ],
      "source": [
        "fruit_qty_consumed['Avocado']"
      ]
    },
    {
      "cell_type": "code",
      "execution_count": null,
      "metadata": {
        "id": "9Bc9V37k_4T5"
      },
      "outputs": [],
      "source": [
        "fruit_qty_consumed['Avocado'][3] = 50"
      ]
    },
    {
      "cell_type": "code",
      "execution_count": null,
      "metadata": {
        "id": "URd-dB5e_4T5",
        "outputId": "2186a2d4-a37b-433c-fdc1-7344f4acfea5"
      },
      "outputs": [
        {
          "data": {
            "text/plain": [
              "[30, 50, 40, 50]"
            ]
          },
          "execution_count": 15,
          "metadata": {},
          "output_type": "execute_result"
        }
      ],
      "source": [
        "fruit_qty_consumed['Avocado']"
      ]
    },
    {
      "cell_type": "code",
      "execution_count": null,
      "metadata": {
        "id": "qD9mXSTR_4T5"
      },
      "outputs": [],
      "source": [
        "fruit_qty_consumed = {\n",
        "                'Banana': {'Fri': 70, 'Sat': 80, 'Sun': 95},\n",
        "                'Apple': {'Fri': 90, 'Sat': 95, 'Sun': 110},\n",
        "                'Apricot': {'Fri': 70, 'Sat': 85, 'Sun': 95},\n",
        "                'Orange': {'Fri': 80, 'Sat': 90, 'Sun': 100},\n",
        "                'Avocado': {'Fri': 60, 'Sat': 70, 'Sun': 80}\n",
        "}"
      ]
    },
    {
      "cell_type": "code",
      "execution_count": null,
      "metadata": {
        "id": "RFTvnyoT_4T5",
        "outputId": "c4142af1-ed36-4145-f1b0-cf515d645dca"
      },
      "outputs": [
        {
          "data": {
            "text/plain": [
              "{'Banana': {'Fri': 70, 'Sat': 80, 'Sun': 95},\n",
              " 'Apple': {'Fri': 90, 'Sat': 95, 'Sun': 110},\n",
              " 'Apricot': {'Fri': 70, 'Sat': 85, 'Sun': 95},\n",
              " 'Orange': {'Fri': 80, 'Sat': 90, 'Sun': 100},\n",
              " 'Avocado': {'Fri': 60, 'Sat': 70, 'Sun': 80}}"
            ]
          },
          "execution_count": 17,
          "metadata": {},
          "output_type": "execute_result"
        }
      ],
      "source": [
        "fruit_qty_consumed"
      ]
    },
    {
      "cell_type": "code",
      "execution_count": null,
      "metadata": {
        "id": "BkDI-g58_4T5",
        "outputId": "8e8f7b7a-0713-4849-b12d-fa97ee7d05f9"
      },
      "outputs": [
        {
          "data": {
            "text/plain": [
              "{'Fri': 90, 'Sat': 95, 'Sun': 110}"
            ]
          },
          "execution_count": 18,
          "metadata": {},
          "output_type": "execute_result"
        }
      ],
      "source": [
        "fruit_qty_consumed['Apple']"
      ]
    },
    {
      "cell_type": "code",
      "execution_count": null,
      "metadata": {
        "id": "gMCx7W-7_4T5",
        "outputId": "01c6b3ac-b412-419f-8670-a9b6c41f4f47"
      },
      "outputs": [
        {
          "data": {
            "text/plain": [
              "95"
            ]
          },
          "execution_count": 19,
          "metadata": {},
          "output_type": "execute_result"
        }
      ],
      "source": [
        "fruit_qty_consumed['Apricot']['Sun']"
      ]
    },
    {
      "cell_type": "code",
      "execution_count": null,
      "metadata": {
        "id": "HD8EhwDm_4T5",
        "outputId": "ab059eb8-8ff8-431f-b576-be583538dd37"
      },
      "outputs": [
        {
          "ename": "KeyError",
          "evalue": "'Mon'",
          "output_type": "error",
          "traceback": [
            "\u001b[0;31m---------------------------------------------------------------------------\u001b[0m",
            "\u001b[0;31mKeyError\u001b[0m                                  Traceback (most recent call last)",
            "\u001b[0;32m<ipython-input-20-0529139c7028>\u001b[0m in \u001b[0;36m<module>\u001b[0;34m()\u001b[0m\n\u001b[0;32m----> 1\u001b[0;31m \u001b[0mfruit_qty_consumed\u001b[0m\u001b[0;34m[\u001b[0m\u001b[0;34m'Apricot'\u001b[0m\u001b[0;34m]\u001b[0m\u001b[0;34m[\u001b[0m\u001b[0;34m'Mon'\u001b[0m\u001b[0;34m]\u001b[0m\u001b[0;34m\u001b[0m\u001b[0;34m\u001b[0m\u001b[0m\n\u001b[0m",
            "\u001b[0;31mKeyError\u001b[0m: 'Mon'"
          ]
        }
      ],
      "source": [
        "fruit_qty_consumed['Apricot']['Mon']"
      ]
    },
    {
      "cell_type": "code",
      "execution_count": null,
      "metadata": {
        "id": "nMXWK4sb_4T5"
      },
      "outputs": [],
      "source": [
        ""
      ]
    },
    {
      "cell_type": "code",
      "execution_count": null,
      "metadata": {
        "id": "iOyn6X7a_4T5"
      },
      "outputs": [],
      "source": [
        ""
      ]
    },
    {
      "cell_type": "code",
      "execution_count": null,
      "metadata": {
        "id": "uzRvne3r_4T5"
      },
      "outputs": [],
      "source": [
        ""
      ]
    },
    {
      "cell_type": "code",
      "execution_count": null,
      "metadata": {
        "id": "X4VRADAB_4T6",
        "outputId": "cf92789e-f7f3-47f9-8e51-35a87b110c8e"
      },
      "outputs": [
        {
          "data": {
            "text/plain": [
              "{'bike_owner': 'James Smith',\n",
              " 'bike_model': 'Ducati Monster 1200',\n",
              " 'bike_price': 28140,\n",
              " 'engine_displacement': 1197}"
            ]
          },
          "execution_count": 1,
          "metadata": {},
          "output_type": "execute_result"
        }
      ],
      "source": [
        "bike_details = {\"bike_owner\" : \"James Smith\" ,\n",
        "                \"bike_model\" : \"Ducati Monster 1200\" ,\n",
        "                \"bike_price\" : 28140 ,\n",
        "                \"engine_displacement\" : 1197}\n",
        "\n",
        "bike_details"
      ]
    },
    {
      "cell_type": "code",
      "execution_count": null,
      "metadata": {
        "id": "aEVtXFxA_4T6",
        "outputId": "a5f5d505-b3a4-4c79-aab3-29fcf7baba82"
      },
      "outputs": [
        {
          "data": {
            "text/plain": [
              "4"
            ]
          },
          "execution_count": 2,
          "metadata": {},
          "output_type": "execute_result"
        }
      ],
      "source": [
        "len(bike_details)"
      ]
    },
    {
      "cell_type": "code",
      "execution_count": null,
      "metadata": {
        "id": "DIkqNlJF_4T6",
        "outputId": "eb5c02e9-d1f6-4368-a9a2-bd16b73e9d4b"
      },
      "outputs": [
        {
          "data": {
            "text/plain": [
              "4"
            ]
          },
          "execution_count": 3,
          "metadata": {},
          "output_type": "execute_result"
        }
      ],
      "source": [
        "len(bike_details.keys())"
      ]
    },
    {
      "cell_type": "code",
      "execution_count": null,
      "metadata": {
        "id": "VxxD_5nr_4T6",
        "outputId": "b72e50b8-c964-4647-9640-2807ab5ccfe9"
      },
      "outputs": [
        {
          "data": {
            "text/plain": [
              "4"
            ]
          },
          "execution_count": 4,
          "metadata": {},
          "output_type": "execute_result"
        }
      ],
      "source": [
        "len(bike_details.values())"
      ]
    },
    {
      "cell_type": "code",
      "execution_count": null,
      "metadata": {
        "id": "tGHN8Pb2_4T6",
        "outputId": "6ae54b1c-f3d5-440d-eeb3-95bb383a452f"
      },
      "outputs": [
        {
          "data": {
            "text/plain": [
              "['bike_model', 'bike_owner', 'bike_price', 'engine_displacement']"
            ]
          },
          "execution_count": 5,
          "metadata": {},
          "output_type": "execute_result"
        }
      ],
      "source": [
        "sorted(bike_details)"
      ]
    },
    {
      "cell_type": "code",
      "execution_count": null,
      "metadata": {
        "id": "BtW6hbT5_4T6",
        "outputId": "61bf600a-93d4-4063-aae3-a32a46d10765"
      },
      "outputs": [
        {
          "data": {
            "text/plain": [
              "['engine_displacement', 'bike_price', 'bike_owner', 'bike_model']"
            ]
          },
          "execution_count": 6,
          "metadata": {},
          "output_type": "execute_result"
        }
      ],
      "source": [
        "sorted(bike_details, reverse=True)"
      ]
    },
    {
      "cell_type": "code",
      "execution_count": null,
      "metadata": {
        "id": "skVvbbA8_4T7",
        "outputId": "73b25d3b-0263-4180-d091-f0bec0c80fe2"
      },
      "outputs": [
        {
          "ename": "TypeError",
          "evalue": "'<' not supported between instances of 'int' and 'str'",
          "output_type": "error",
          "traceback": [
            "\u001b[0;31m---------------------------------------------------------------------------\u001b[0m",
            "\u001b[0;31mTypeError\u001b[0m                                 Traceback (most recent call last)",
            "\u001b[0;32m<ipython-input-7-ca91adb6a0ff>\u001b[0m in \u001b[0;36m<module>\u001b[0;34m()\u001b[0m\n\u001b[0;32m----> 1\u001b[0;31m \u001b[0msorted\u001b[0m\u001b[0;34m(\u001b[0m\u001b[0mbike_details\u001b[0m\u001b[0;34m.\u001b[0m\u001b[0mvalues\u001b[0m\u001b[0;34m(\u001b[0m\u001b[0;34m)\u001b[0m\u001b[0;34m)\u001b[0m\u001b[0;34m\u001b[0m\u001b[0;34m\u001b[0m\u001b[0m\n\u001b[0m",
            "\u001b[0;31mTypeError\u001b[0m: '<' not supported between instances of 'int' and 'str'"
          ]
        }
      ],
      "source": [
        "sorted(bike_details.values())"
      ]
    },
    {
      "cell_type": "code",
      "execution_count": null,
      "metadata": {
        "id": "JNQWJfEI_4T7",
        "outputId": "4a693380-3584-47a1-f8ee-456bd52bceb5"
      },
      "outputs": [
        {
          "data": {
            "text/plain": [
              "dict_keys(['bike_owner', 'bike_model', 'bike_price', 'engine_displacement'])"
            ]
          },
          "execution_count": 8,
          "metadata": {},
          "output_type": "execute_result"
        }
      ],
      "source": [
        "bike_details.keys()"
      ]
    },
    {
      "cell_type": "code",
      "execution_count": null,
      "metadata": {
        "id": "lkChBmdh_4T7",
        "outputId": "39f5e4ec-3f68-4238-8a35-99dd6aed54b5"
      },
      "outputs": [
        {
          "data": {
            "text/plain": [
              "dict_items([('bike_owner', 'James Smith'), ('bike_model', 'Ducati Monster 1200'), ('bike_price', 28140), ('engine_displacement', 1197)])"
            ]
          },
          "execution_count": 9,
          "metadata": {},
          "output_type": "execute_result"
        }
      ],
      "source": [
        "bike_details.items()"
      ]
    },
    {
      "cell_type": "code",
      "execution_count": null,
      "metadata": {
        "id": "1IPNiz3I_4T7"
      },
      "outputs": [],
      "source": [
        "copy_bike_details = bike_details.copy()"
      ]
    },
    {
      "cell_type": "code",
      "execution_count": null,
      "metadata": {
        "id": "toQ92aWm_4T7",
        "outputId": "54bcc7f7-eea0-46f8-a5c1-c7032d06655e"
      },
      "outputs": [
        {
          "data": {
            "text/plain": [
              "{'bike_owner': 'James Smith',\n",
              " 'bike_model': 'Ducati Monster 1200',\n",
              " 'bike_price': 28140,\n",
              " 'engine_displacement': 1197}"
            ]
          },
          "execution_count": 11,
          "metadata": {},
          "output_type": "execute_result"
        }
      ],
      "source": [
        "copy_bike_details"
      ]
    },
    {
      "cell_type": "code",
      "execution_count": null,
      "metadata": {
        "id": "3xECIigR_4T7",
        "outputId": "0ac918a3-64fa-413a-c0ac-be6f30949052"
      },
      "outputs": [
        {
          "data": {
            "text/plain": [
              "1197"
            ]
          },
          "execution_count": 12,
          "metadata": {},
          "output_type": "execute_result"
        }
      ],
      "source": [
        "copy_bike_details.pop('engine_displacement')"
      ]
    },
    {
      "cell_type": "code",
      "execution_count": null,
      "metadata": {
        "id": "dWJbfMWo_4T7",
        "outputId": "eb70313a-2ae3-44ce-b0b9-8c67dc182ab4"
      },
      "outputs": [
        {
          "data": {
            "text/plain": [
              "{'bike_owner': 'James Smith',\n",
              " 'bike_model': 'Ducati Monster 1200',\n",
              " 'bike_price': 28140}"
            ]
          },
          "execution_count": 13,
          "metadata": {},
          "output_type": "execute_result"
        }
      ],
      "source": [
        "copy_bike_details"
      ]
    },
    {
      "cell_type": "code",
      "execution_count": null,
      "metadata": {
        "id": "7w8v3EsC_4T7",
        "outputId": "c4384948-ee3d-4467-d1c5-9878b494f7ab"
      },
      "outputs": [
        {
          "data": {
            "text/plain": [
              "{'bike_owner': 'James Smith',\n",
              " 'bike_model': 'Ducati Monster 1200',\n",
              " 'bike_price': 28140,\n",
              " 'engine_displacement': 1197}"
            ]
          },
          "execution_count": 14,
          "metadata": {},
          "output_type": "execute_result"
        }
      ],
      "source": [
        "bike_details"
      ]
    },
    {
      "cell_type": "code",
      "execution_count": null,
      "metadata": {
        "id": "Gko_BGAf_4T7",
        "outputId": "0a3fc243-ea18-4a33-bc32-d746cd149799"
      },
      "outputs": [
        {
          "ename": "KeyError",
          "evalue": "'engine_displacement'",
          "output_type": "error",
          "traceback": [
            "\u001b[0;31m---------------------------------------------------------------------------\u001b[0m",
            "\u001b[0;31mKeyError\u001b[0m                                  Traceback (most recent call last)",
            "\u001b[0;32m<ipython-input-15-a6cd79d5b241>\u001b[0m in \u001b[0;36m<module>\u001b[0;34m()\u001b[0m\n\u001b[0;32m----> 1\u001b[0;31m \u001b[0mcopy_bike_details\u001b[0m\u001b[0;34m.\u001b[0m\u001b[0mpop\u001b[0m\u001b[0;34m(\u001b[0m\u001b[0;34m'engine_displacement'\u001b[0m\u001b[0;34m)\u001b[0m\u001b[0;34m\u001b[0m\u001b[0;34m\u001b[0m\u001b[0m\n\u001b[0m",
            "\u001b[0;31mKeyError\u001b[0m: 'engine_displacement'"
          ]
        }
      ],
      "source": [
        "copy_bike_details.pop('engine_displacement')"
      ]
    },
    {
      "cell_type": "code",
      "execution_count": null,
      "metadata": {
        "id": "O8WpoHxm_4T7",
        "outputId": "d1ea1db1-b791-481d-e979-392a6f6c3ac2"
      },
      "outputs": [
        {
          "data": {
            "text/plain": [
              "('bike_price', 28140)"
            ]
          },
          "execution_count": 16,
          "metadata": {},
          "output_type": "execute_result"
        }
      ],
      "source": [
        "copy_bike_details.popitem()"
      ]
    },
    {
      "cell_type": "code",
      "execution_count": null,
      "metadata": {
        "id": "nZLvFmdB_4T8",
        "outputId": "d96963db-e6a2-46d5-83c3-11951054f56a"
      },
      "outputs": [
        {
          "data": {
            "text/plain": [
              "{'bike_owner': 'James Smith', 'bike_model': 'Ducati Monster 1200'}"
            ]
          },
          "execution_count": 17,
          "metadata": {},
          "output_type": "execute_result"
        }
      ],
      "source": [
        "copy_bike_details"
      ]
    },
    {
      "cell_type": "code",
      "execution_count": null,
      "metadata": {
        "id": "HbpAZTad_4T8"
      },
      "outputs": [],
      "source": [
        "dict_age = {\"Ethan\": 54,\"Sofia\": 50}\n",
        "\n",
        "new_dict_age = {\"Ethan\": 55,\"Harper\": 58}"
      ]
    },
    {
      "cell_type": "code",
      "execution_count": null,
      "metadata": {
        "id": "0WfrlR0X_4T8",
        "outputId": "f8dc5eb1-fa2d-409d-d35b-2c8ec1ba8c08"
      },
      "outputs": [
        {
          "data": {
            "text/plain": [
              "{'Ethan': 55, 'Sofia': 50, 'Harper': 58}"
            ]
          },
          "execution_count": 19,
          "metadata": {},
          "output_type": "execute_result"
        }
      ],
      "source": [
        "dict_age.update(new_dict_age)\n",
        "\n",
        "dict_age"
      ]
    },
    {
      "cell_type": "code",
      "execution_count": null,
      "metadata": {
        "id": "MKy4G0s9_4T8",
        "outputId": "5008b4ab-9f4f-46d9-dd84-1ac0b4a4c907"
      },
      "outputs": [
        {
          "data": {
            "text/plain": [
              "{'bike_owner': 'James Smith', 'bike_model': 'Ducati Monster 1200'}"
            ]
          },
          "execution_count": 20,
          "metadata": {},
          "output_type": "execute_result"
        }
      ],
      "source": [
        "copy_bike_details"
      ]
    },
    {
      "cell_type": "code",
      "execution_count": null,
      "metadata": {
        "id": "7Jr20JcR_4T8",
        "outputId": "6bf14664-fd8b-4f95-b272-46980eafc777"
      },
      "outputs": [
        {
          "data": {
            "text/plain": [
              "{'bike_owner': 'James Smith',\n",
              " 'bike_model': 'Ducati Monster 1200',\n",
              " 'bike_price': 28140,\n",
              " 'engine_displacement': 1197}"
            ]
          },
          "execution_count": 21,
          "metadata": {},
          "output_type": "execute_result"
        }
      ],
      "source": [
        "bike_details"
      ]
    },
    {
      "cell_type": "code",
      "execution_count": null,
      "metadata": {
        "id": "52aXDtzq_4T8"
      },
      "outputs": [],
      "source": [
        "bike_details.clear()"
      ]
    },
    {
      "cell_type": "code",
      "execution_count": null,
      "metadata": {
        "id": "VoqXijPP_4T8",
        "outputId": "021712b1-894e-41f9-fde0-4a4268c1844a"
      },
      "outputs": [
        {
          "data": {
            "text/plain": [
              "{}"
            ]
          },
          "execution_count": 23,
          "metadata": {},
          "output_type": "execute_result"
        }
      ],
      "source": [
        "bike_details"
      ]
    },
    {
      "cell_type": "code",
      "execution_count": null,
      "metadata": {
        "id": "tFxFtJC3_4T8"
      },
      "outputs": [],
      "source": [
        "del copy_bike_details"
      ]
    },
    {
      "cell_type": "code",
      "execution_count": null,
      "metadata": {
        "id": "MGqhTrTx_4T8",
        "outputId": "581dc8cd-ab62-4a30-e18b-2b7291d830c8"
      },
      "outputs": [
        {
          "ename": "NameError",
          "evalue": "name 'copy_bike_details' is not defined",
          "output_type": "error",
          "traceback": [
            "\u001b[0;31m---------------------------------------------------------------------------\u001b[0m",
            "\u001b[0;31mNameError\u001b[0m                                 Traceback (most recent call last)",
            "\u001b[0;32m<ipython-input-25-aecc742109f0>\u001b[0m in \u001b[0;36m<module>\u001b[0;34m()\u001b[0m\n\u001b[0;32m----> 1\u001b[0;31m \u001b[0mcopy_bike_details\u001b[0m\u001b[0;34m\u001b[0m\u001b[0;34m\u001b[0m\u001b[0m\n\u001b[0m",
            "\u001b[0;31mNameError\u001b[0m: name 'copy_bike_details' is not defined"
          ]
        }
      ],
      "source": [
        "copy_bike_details"
      ]
    },
    {
      "cell_type": "code",
      "execution_count": null,
      "metadata": {
        "id": "nNHH3qv2_4T8"
      },
      "outputs": [],
      "source": [
        ""
      ]
    },
    {
      "cell_type": "code",
      "execution_count": null,
      "metadata": {
        "id": "yZuFiU6e_4T8"
      },
      "outputs": [],
      "source": [
        ""
      ]
    },
    {
      "cell_type": "code",
      "execution_count": null,
      "metadata": {
        "id": "McD67_Mx_4T8"
      },
      "outputs": [],
      "source": [
        ""
      ]
    },
    {
      "cell_type": "markdown",
      "source": [
        "## 4. Sets"
      ],
      "metadata": {
        "id": "QYwDG4b0mMz_"
      }
    },
    {
      "cell_type": "code",
      "execution_count": null,
      "metadata": {
        "id": "5wIoH4TW_4T9",
        "outputId": "c930a0a7-46c8-4e8b-8217-6d697c29894b"
      },
      "outputs": [
        {
          "data": {
            "text/plain": [
              "{'Ava', 'Emma', 'Mia', 'Olivia'}"
            ]
          },
          "execution_count": 1,
          "metadata": {},
          "output_type": "execute_result"
        }
      ],
      "source": [
        "set_string = {\"Emma\", \"Olivia\", \"Ava\", \"Mia\"}\n",
        "\n",
        "set_string"
      ]
    },
    {
      "cell_type": "code",
      "execution_count": null,
      "metadata": {
        "id": "EKjSNgN__4T9",
        "outputId": "28d56989-3445-4810-e073-001cdf58ec42"
      },
      "outputs": [
        {
          "name": "stdout",
          "output_type": "stream",
          "text": [
            "{'Mia', 'Ava', 'Olivia', 'Emma'}\n"
          ]
        }
      ],
      "source": [
        "print(set_string)"
      ]
    },
    {
      "cell_type": "code",
      "execution_count": null,
      "metadata": {
        "id": "SDYSpqkQ_4T9",
        "outputId": "ebaae076-a8d4-4fdd-9988-53bf864da7c1"
      },
      "outputs": [
        {
          "data": {
            "text/plain": [
              "set()"
            ]
          },
          "execution_count": 3,
          "metadata": {},
          "output_type": "execute_result"
        }
      ],
      "source": [
        "empty_set = set()\n",
        "\n",
        "empty_set"
      ]
    },
    {
      "cell_type": "code",
      "execution_count": null,
      "metadata": {
        "id": "l6AieFHR_4T9",
        "outputId": "7366831f-73e9-4f98-c14e-b91d78b58816"
      },
      "outputs": [
        {
          "name": "stdout",
          "output_type": "stream",
          "text": [
            "<class 'set'>\n"
          ]
        }
      ],
      "source": [
        "print(type(empty_set))"
      ]
    },
    {
      "cell_type": "code",
      "execution_count": null,
      "metadata": {
        "id": "MO1UtC48_4T9"
      },
      "outputs": [],
      "source": [
        "mixed_set = {\"Emma\", 5, 1.5, True}"
      ]
    },
    {
      "cell_type": "code",
      "execution_count": null,
      "metadata": {
        "id": "pC_ZrnD3_4UA",
        "outputId": "eb764b59-e942-4168-f43e-3723dd1d8aaa"
      },
      "outputs": [
        {
          "data": {
            "text/plain": [
              "{1.5, 5, 'Emma', True}"
            ]
          },
          "execution_count": 6,
          "metadata": {},
          "output_type": "execute_result"
        }
      ],
      "source": [
        "mixed_set"
      ]
    },
    {
      "cell_type": "code",
      "execution_count": null,
      "metadata": {
        "id": "OnVj3Lrh_4UA",
        "outputId": "4e8bc193-34cb-47bb-fb2b-699d0a92d872"
      },
      "outputs": [
        {
          "data": {
            "text/plain": [
              "{(1, 2, 3), 1.5, 5, 'Emma', True}"
            ]
          },
          "execution_count": 7,
          "metadata": {},
          "output_type": "execute_result"
        }
      ],
      "source": [
        "mixed_set1 = {\"Emma\", 5, 1.5 ,True, (1,2,3)}\n",
        "\n",
        "mixed_set1"
      ]
    },
    {
      "cell_type": "code",
      "execution_count": null,
      "metadata": {
        "id": "xRxr2Uzv_4UA",
        "outputId": "3f29cf84-b353-47c9-834f-8f9fa24abd26"
      },
      "outputs": [
        {
          "ename": "TypeError",
          "evalue": "unhashable type: 'list'",
          "output_type": "error",
          "traceback": [
            "\u001b[0;31m---------------------------------------------------------------------------\u001b[0m",
            "\u001b[0;31mTypeError\u001b[0m                                 Traceback (most recent call last)",
            "\u001b[0;32m<ipython-input-8-bdc05fc7dfe7>\u001b[0m in \u001b[0;36m<module>\u001b[0;34m()\u001b[0m\n\u001b[0;32m----> 1\u001b[0;31m \u001b[0mset_list\u001b[0m \u001b[0;34m=\u001b[0m \u001b[0;34m{\u001b[0m\u001b[0;36m1\u001b[0m\u001b[0;34m,\u001b[0m \u001b[0;36m2\u001b[0m\u001b[0;34m,\u001b[0m \u001b[0;36m3\u001b[0m\u001b[0;34m,\u001b[0m \u001b[0;34m[\u001b[0m\u001b[0;36m4\u001b[0m\u001b[0;34m,\u001b[0m \u001b[0;36m5\u001b[0m\u001b[0;34m,\u001b[0m \u001b[0;36m6\u001b[0m\u001b[0;34m]\u001b[0m\u001b[0;34m}\u001b[0m\u001b[0;34m\u001b[0m\u001b[0;34m\u001b[0m\u001b[0m\n\u001b[0m",
            "\u001b[0;31mTypeError\u001b[0m: unhashable type: 'list'"
          ]
        }
      ],
      "source": [
        "set_list = {1, 2, 3, [4, 5, 6]}"
      ]
    },
    {
      "cell_type": "code",
      "execution_count": null,
      "metadata": {
        "id": "OnUoEQTV_4UB",
        "outputId": "f3fb9554-2722-4ae2-d00d-25d891c1a89a"
      },
      "outputs": [
        {
          "ename": "TypeError",
          "evalue": "unhashable type: 'dict'",
          "output_type": "error",
          "traceback": [
            "\u001b[0;31m---------------------------------------------------------------------------\u001b[0m",
            "\u001b[0;31mTypeError\u001b[0m                                 Traceback (most recent call last)",
            "\u001b[0;32m<ipython-input-9-76f83327b82c>\u001b[0m in \u001b[0;36m<module>\u001b[0;34m()\u001b[0m\n\u001b[0;32m----> 1\u001b[0;31m \u001b[0mset_dict\u001b[0m \u001b[0;34m=\u001b[0m \u001b[0;34m{\u001b[0m\u001b[0;36m1\u001b[0m\u001b[0;34m,\u001b[0m \u001b[0;36m2\u001b[0m\u001b[0;34m,\u001b[0m \u001b[0;36m3\u001b[0m\u001b[0;34m,\u001b[0m \u001b[0;34m{\u001b[0m\u001b[0;36m4\u001b[0m\u001b[0;34m:\u001b[0m \u001b[0;34m\"Emma\"\u001b[0m\u001b[0;34m}\u001b[0m\u001b[0;34m}\u001b[0m\u001b[0;34m\u001b[0m\u001b[0;34m\u001b[0m\u001b[0m\n\u001b[0m",
            "\u001b[0;31mTypeError\u001b[0m: unhashable type: 'dict'"
          ]
        }
      ],
      "source": [
        "set_dict = {1, 2, 3, {4: \"Emma\"}}"
      ]
    },
    {
      "cell_type": "code",
      "execution_count": null,
      "metadata": {
        "id": "lmLLWUNm_4UB",
        "outputId": "09095b42-3453-4621-a36a-be8b6c6abf0a"
      },
      "outputs": [
        {
          "data": {
            "text/plain": [
              "{(4, 5, 6), 1, 2, 3}"
            ]
          },
          "execution_count": 10,
          "metadata": {},
          "output_type": "execute_result"
        }
      ],
      "source": [
        "set_tuple = {1, 2, 3, (4, 5, 6)}\n",
        "\n",
        "set_tuple"
      ]
    },
    {
      "cell_type": "code",
      "execution_count": null,
      "metadata": {
        "id": "QMCiYS7V_4UB",
        "outputId": "51810c0f-9762-4d06-afde-80596735d9cc"
      },
      "outputs": [
        {
          "data": {
            "text/plain": [
              "{'Ava', 'Emma', 'Mia', 'Olivia'}"
            ]
          },
          "execution_count": 11,
          "metadata": {},
          "output_type": "execute_result"
        }
      ],
      "source": [
        "student_set = {\"Emma\", \"Olivia\", \"Ava\", \"Mia\", \"Emma\", \"Ava\"} \n",
        "\n",
        "student_set"
      ]
    },
    {
      "cell_type": "code",
      "execution_count": null,
      "metadata": {
        "id": "25tRVLp0_4UB",
        "outputId": "338baab0-1f39-4606-f94b-b59ce90c65bb"
      },
      "outputs": [
        {
          "data": {
            "text/plain": [
              "{1, 2, 3, 4, 5, 6}"
            ]
          },
          "execution_count": 12,
          "metadata": {},
          "output_type": "execute_result"
        }
      ],
      "source": [
        "set_int = {1, 3, 4, 5, 6, 2, 5, 3, 4}\n",
        "\n",
        "set_int"
      ]
    },
    {
      "cell_type": "code",
      "execution_count": null,
      "metadata": {
        "id": "0_2e-wQS_4UB",
        "outputId": "c22fffa0-0acc-4afc-c35b-b9d3d6868c69"
      },
      "outputs": [
        {
          "data": {
            "text/plain": [
              "{'Ava', 'Emma', 'Mia', 'Olivia'}"
            ]
          },
          "execution_count": 13,
          "metadata": {},
          "output_type": "execute_result"
        }
      ],
      "source": [
        "student_set"
      ]
    },
    {
      "cell_type": "code",
      "execution_count": null,
      "metadata": {
        "id": "fHaTLL6C_4UB",
        "outputId": "574e19fa-25a3-46c2-db4a-f07bbee2bd56"
      },
      "outputs": [
        {
          "ename": "TypeError",
          "evalue": "'set' object does not support indexing",
          "output_type": "error",
          "traceback": [
            "\u001b[0;31m---------------------------------------------------------------------------\u001b[0m",
            "\u001b[0;31mTypeError\u001b[0m                                 Traceback (most recent call last)",
            "\u001b[0;32m<ipython-input-14-f9ac60ca120e>\u001b[0m in \u001b[0;36m<module>\u001b[0;34m()\u001b[0m\n\u001b[0;32m----> 1\u001b[0;31m \u001b[0mstudent_set\u001b[0m\u001b[0;34m[\u001b[0m\u001b[0;36m1\u001b[0m\u001b[0;34m]\u001b[0m\u001b[0;34m\u001b[0m\u001b[0;34m\u001b[0m\u001b[0m\n\u001b[0m",
            "\u001b[0;31mTypeError\u001b[0m: 'set' object does not support indexing"
          ]
        }
      ],
      "source": [
        "student_set[1]"
      ]
    },
    {
      "cell_type": "code",
      "execution_count": null,
      "metadata": {
        "id": "Qh08hhb4_4UB",
        "outputId": "44259be8-1295-4b47-f966-7001e639e072"
      },
      "outputs": [
        {
          "data": {
            "text/plain": [
              "{1, 10, 2, 3, 4, 6, 8, 'a'}"
            ]
          },
          "execution_count": 15,
          "metadata": {},
          "output_type": "execute_result"
        }
      ],
      "source": [
        "set_1 = {1, 3, 4, 8, 'a', 6, 2, 10, 3, 4}\n",
        "\n",
        "set_1"
      ]
    },
    {
      "cell_type": "code",
      "execution_count": null,
      "metadata": {
        "id": "NZE6wU3w_4UB",
        "outputId": "c8fb6b76-0c94-4375-a1bf-eaa842cac6be"
      },
      "outputs": [
        {
          "data": {
            "text/plain": [
              "{1, 10, 2, 3, 4, 6, 8, 9, 'a'}"
            ]
          },
          "execution_count": 16,
          "metadata": {},
          "output_type": "execute_result"
        }
      ],
      "source": [
        "set_1.add(9)\n",
        "\n",
        "set_1"
      ]
    },
    {
      "cell_type": "code",
      "execution_count": null,
      "metadata": {
        "id": "MIyuFjsi_4UB",
        "outputId": "669410ee-fa09-466b-bb4e-d67b159623a5"
      },
      "outputs": [
        {
          "data": {
            "text/plain": [
              "{1, 10, 2, 3, 4, 6, 8, 9, 9.5, 'a'}"
            ]
          },
          "execution_count": 17,
          "metadata": {},
          "output_type": "execute_result"
        }
      ],
      "source": [
        "set_1.add(9.5)\n",
        "\n",
        "set_1"
      ]
    },
    {
      "cell_type": "code",
      "execution_count": null,
      "metadata": {
        "id": "ZboJdgYb_4UC",
        "outputId": "930116aa-df8d-4192-e041-721d642afb4a"
      },
      "outputs": [
        {
          "data": {
            "text/plain": [
              "{1, 10, 2, 3, 4, 6, 8, 9, 9.5, 'a'}"
            ]
          },
          "execution_count": 18,
          "metadata": {},
          "output_type": "execute_result"
        }
      ],
      "source": [
        "set_1.add(9)\n",
        "\n",
        "set_1"
      ]
    },
    {
      "cell_type": "code",
      "execution_count": null,
      "metadata": {
        "id": "oWU1vFiZ_4UC",
        "outputId": "7c8637bf-9354-4037-b29e-6489e1494aa1"
      },
      "outputs": [
        {
          "data": {
            "text/plain": [
              "{'Ava', 'Avery', 'Daniel', 'Emma', 'Jacob', 'Mia', 'Olivia'}"
            ]
          },
          "execution_count": 19,
          "metadata": {},
          "output_type": "execute_result"
        }
      ],
      "source": [
        "teachers_set = {\"Emma\", \"Olivia\", \"Ava\", \"Mia\", \"Avery\", \"Jacob\", \"Daniel\"}\n",
        "\n",
        "teachers_set"
      ]
    },
    {
      "cell_type": "code",
      "execution_count": null,
      "metadata": {
        "id": "HCjPIZLC_4UC",
        "outputId": "4d9318a4-e5b9-4c96-e025-ceadde45667a"
      },
      "outputs": [
        {
          "data": {
            "text/plain": [
              "7"
            ]
          },
          "execution_count": 20,
          "metadata": {},
          "output_type": "execute_result"
        }
      ],
      "source": [
        "len(teachers_set)"
      ]
    },
    {
      "cell_type": "code",
      "execution_count": null,
      "metadata": {
        "id": "kmxazUeW_4UC",
        "outputId": "5f75aa45-787b-412c-eae4-b87fa8dafba8"
      },
      "outputs": [
        {
          "data": {
            "text/plain": [
              "'Olivia'"
            ]
          },
          "execution_count": 21,
          "metadata": {},
          "output_type": "execute_result"
        }
      ],
      "source": [
        "max(teachers_set)"
      ]
    },
    {
      "cell_type": "code",
      "execution_count": null,
      "metadata": {
        "id": "NYZp5jc5_4UC",
        "outputId": "09e43664-9f78-49ac-9319-86a80acc89f9"
      },
      "outputs": [
        {
          "data": {
            "text/plain": [
              "'Ava'"
            ]
          },
          "execution_count": 22,
          "metadata": {},
          "output_type": "execute_result"
        }
      ],
      "source": [
        "min(teachers_set)"
      ]
    },
    {
      "cell_type": "code",
      "execution_count": null,
      "metadata": {
        "id": "FPAt63A3_4UC",
        "outputId": "1358639c-c7c0-4d3b-e174-3083eb280028"
      },
      "outputs": [
        {
          "data": {
            "text/plain": [
              "{'Ava', 'Avery', 'Daniel', 'Jacob', 'Mia', 'Olivia'}"
            ]
          },
          "execution_count": 23,
          "metadata": {},
          "output_type": "execute_result"
        }
      ],
      "source": [
        "teachers_set.discard('Emma')\n",
        "\n",
        "teachers_set"
      ]
    },
    {
      "cell_type": "code",
      "execution_count": null,
      "metadata": {
        "id": "ioG8ukpw_4UC",
        "outputId": "22de2b4b-6896-4c05-92cc-728f5821338c"
      },
      "outputs": [
        {
          "data": {
            "text/plain": [
              "{'Ava', 'Avery', 'Daniel', 'Jacob', 'Olivia'}"
            ]
          },
          "execution_count": 24,
          "metadata": {},
          "output_type": "execute_result"
        }
      ],
      "source": [
        "teachers_set.remove('Mia')\n",
        "\n",
        "teachers_set"
      ]
    },
    {
      "cell_type": "code",
      "execution_count": null,
      "metadata": {
        "id": "IiKlfjJz_4UC"
      },
      "outputs": [],
      "source": [
        "teachers_set.discard('Mia')"
      ]
    },
    {
      "cell_type": "code",
      "execution_count": null,
      "metadata": {
        "id": "axMTOItL_4UD",
        "outputId": "1b795767-b586-469b-8e94-283a8e9ac2a5"
      },
      "outputs": [
        {
          "ename": "KeyError",
          "evalue": "'Mia'",
          "output_type": "error",
          "traceback": [
            "\u001b[0;31m---------------------------------------------------------------------------\u001b[0m",
            "\u001b[0;31mKeyError\u001b[0m                                  Traceback (most recent call last)",
            "\u001b[0;32m<ipython-input-26-c342dc639252>\u001b[0m in \u001b[0;36m<module>\u001b[0;34m()\u001b[0m\n\u001b[0;32m----> 1\u001b[0;31m \u001b[0mteachers_set\u001b[0m\u001b[0;34m.\u001b[0m\u001b[0mremove\u001b[0m\u001b[0;34m(\u001b[0m\u001b[0;34m'Mia'\u001b[0m\u001b[0;34m)\u001b[0m\u001b[0;34m\u001b[0m\u001b[0;34m\u001b[0m\u001b[0m\n\u001b[0m",
            "\u001b[0;31mKeyError\u001b[0m: 'Mia'"
          ]
        }
      ],
      "source": [
        "teachers_set.remove('Mia')"
      ]
    },
    {
      "cell_type": "code",
      "execution_count": null,
      "metadata": {
        "id": "TuwMTu3x_4UD"
      },
      "outputs": [],
      "source": [
        "teachers_set.clear()"
      ]
    },
    {
      "cell_type": "code",
      "execution_count": null,
      "metadata": {
        "id": "p5ekia4K_4UD",
        "outputId": "663cc896-3559-476b-87cd-995f1e1b7ab9"
      },
      "outputs": [
        {
          "data": {
            "text/plain": [
              "set()"
            ]
          },
          "execution_count": 28,
          "metadata": {},
          "output_type": "execute_result"
        }
      ],
      "source": [
        "teachers_set"
      ]
    },
    {
      "cell_type": "code",
      "execution_count": null,
      "metadata": {
        "id": "6vpAXIdn_4UD"
      },
      "outputs": [],
      "source": [
        ""
      ]
    },
    {
      "cell_type": "code",
      "execution_count": null,
      "metadata": {
        "id": "8N-qtfyn_4UD"
      },
      "outputs": [],
      "source": [
        ""
      ]
    },
    {
      "cell_type": "code",
      "execution_count": null,
      "metadata": {
        "id": "EHz_td0P_4UD"
      },
      "outputs": [],
      "source": [
        ""
      ]
    },
    {
      "cell_type": "code",
      "execution_count": null,
      "metadata": {
        "id": "WrByE86N_4UD"
      },
      "outputs": [],
      "source": [
        "number1 = {1, 2, 3, 4, 5}\n",
        "\n",
        "number2 = {4, 5, 6, 7, 8}\n",
        "\n",
        "number3 = {7, 8, 9, 10, 11}"
      ]
    },
    {
      "cell_type": "code",
      "execution_count": null,
      "metadata": {
        "id": "Lkpqs7HD_4UE",
        "outputId": "a2a5a9e3-3b5c-4dde-8d94-5c24120c80e7"
      },
      "outputs": [
        {
          "data": {
            "text/plain": [
              "{1, 2, 3, 4, 5, 6, 7, 8}"
            ]
          },
          "execution_count": 2,
          "metadata": {},
          "output_type": "execute_result"
        }
      ],
      "source": [
        "number1.union(number2)"
      ]
    },
    {
      "cell_type": "code",
      "execution_count": null,
      "metadata": {
        "id": "wLdV3FSK_4UE",
        "outputId": "b83e7357-7b95-4fe4-c802-8168ad69b4c1"
      },
      "outputs": [
        {
          "data": {
            "text/plain": [
              "{1, 2, 3, 4, 5, 6, 7, 8, 9, 10, 11}"
            ]
          },
          "execution_count": 3,
          "metadata": {},
          "output_type": "execute_result"
        }
      ],
      "source": [
        "number_union = number1.union(number2, number3)\n",
        "\n",
        "number_union"
      ]
    },
    {
      "cell_type": "code",
      "execution_count": null,
      "metadata": {
        "id": "ZQFoW7ub_4UE"
      },
      "outputs": [],
      "source": [
        "student_set_1 = {\"Ava\", \"Emma\", \"James\"}\n",
        "\n",
        "student_set_2 = {\"James\", \"Mia\", \"Olivia\"}\n",
        "\n",
        "student_set_3 = {\"Olivia\", \"Sarah\", \"Sofia\"}"
      ]
    },
    {
      "cell_type": "code",
      "execution_count": null,
      "metadata": {
        "id": "EBPtULis_4UE",
        "outputId": "b43d3c24-e0f6-4579-faf3-430840485b92"
      },
      "outputs": [
        {
          "data": {
            "text/plain": [
              "{'Ava', 'Emma', 'James', 'Mia', 'Olivia', 'Sarah', 'Sofia'}"
            ]
          },
          "execution_count": 5,
          "metadata": {},
          "output_type": "execute_result"
        }
      ],
      "source": [
        "student_set_1.union(student_set_2, student_set_3)"
      ]
    },
    {
      "cell_type": "code",
      "execution_count": null,
      "metadata": {
        "id": "aeWFhaN9_4UE",
        "outputId": "aa00c9a7-aafc-42d6-96cf-dfbe9a6052b4"
      },
      "outputs": [
        {
          "name": "stdout",
          "output_type": "stream",
          "text": [
            "{1, 2, 3, 4, 5}\n",
            "{4, 5, 6, 7, 8}\n",
            "{7, 8, 9, 10, 11}\n"
          ]
        }
      ],
      "source": [
        "print(number1)\n",
        "\n",
        "print(number2)\n",
        "\n",
        "print(number3)"
      ]
    },
    {
      "cell_type": "code",
      "execution_count": null,
      "metadata": {
        "id": "XrL7Y4sl_4UE",
        "outputId": "54009c66-8391-41ef-a905-535720f4414d"
      },
      "outputs": [
        {
          "data": {
            "text/plain": [
              "{4, 5}"
            ]
          },
          "execution_count": 7,
          "metadata": {},
          "output_type": "execute_result"
        }
      ],
      "source": [
        "number2.intersection(number1)"
      ]
    },
    {
      "cell_type": "code",
      "execution_count": null,
      "metadata": {
        "id": "utmhMUF0_4UE",
        "outputId": "e72b770f-a8a0-497b-c772-81f27daf9691"
      },
      "outputs": [
        {
          "name": "stdout",
          "output_type": "stream",
          "text": [
            "{1, 2, 3, 4, 5}\n",
            "{4, 5, 6, 7, 8}\n",
            "{7, 8, 9, 10, 11}\n"
          ]
        }
      ],
      "source": [
        "print(number1)\n",
        "\n",
        "print(number2)\n",
        "\n",
        "print(number3)"
      ]
    },
    {
      "cell_type": "code",
      "execution_count": null,
      "metadata": {
        "id": "8OPknOWK_4UF",
        "outputId": "b12901df-cc15-4c73-b24b-9c741fe21f67"
      },
      "outputs": [
        {
          "data": {
            "text/plain": [
              "{1, 2, 3}"
            ]
          },
          "execution_count": 9,
          "metadata": {},
          "output_type": "execute_result"
        }
      ],
      "source": [
        "number1.difference(number2)"
      ]
    },
    {
      "cell_type": "code",
      "execution_count": null,
      "metadata": {
        "id": "g0vafACE_4UF",
        "outputId": "36b506ec-a34e-4ba9-a3f0-54a81e6c9d71"
      },
      "outputs": [
        {
          "data": {
            "text/plain": [
              "{'Ava', 'Emma'}"
            ]
          },
          "execution_count": 10,
          "metadata": {},
          "output_type": "execute_result"
        }
      ],
      "source": [
        "diff_set = student_set_1.difference(student_set_2)\n",
        "\n",
        "diff_set"
      ]
    },
    {
      "cell_type": "code",
      "execution_count": null,
      "metadata": {
        "id": "apdco__2_4UF",
        "outputId": "516b83aa-eac5-4fce-a677-43be3cc1f919"
      },
      "outputs": [
        {
          "name": "stdout",
          "output_type": "stream",
          "text": [
            "{1, 2, 3, 4, 5}\n",
            "{4, 5, 6, 7, 8}\n"
          ]
        }
      ],
      "source": [
        "print(number1)\n",
        "\n",
        "print(number2)"
      ]
    },
    {
      "cell_type": "code",
      "execution_count": null,
      "metadata": {
        "id": "xEuteiyK_4UF",
        "outputId": "2cb51925-8095-47b4-89e6-a4146dbb1a87"
      },
      "outputs": [
        {
          "data": {
            "text/plain": [
              "{4, 5}"
            ]
          },
          "execution_count": 12,
          "metadata": {},
          "output_type": "execute_result"
        }
      ],
      "source": [
        "number1.intersection_update(number2)\n",
        "\n",
        "number1"
      ]
    },
    {
      "cell_type": "code",
      "execution_count": null,
      "metadata": {
        "id": "evJtsxjr_4UF",
        "outputId": "9725d1e5-2767-4570-bcc7-0cf6bbc17e9f"
      },
      "outputs": [
        {
          "data": {
            "text/plain": [
              "{4, 5, 6, 7, 8}"
            ]
          },
          "execution_count": 13,
          "metadata": {},
          "output_type": "execute_result"
        }
      ],
      "source": [
        "number2"
      ]
    },
    {
      "cell_type": "code",
      "execution_count": null,
      "metadata": {
        "id": "EGBvDeA0_4UF",
        "outputId": "da57b7b0-c897-4515-bc08-d09241dee4b0"
      },
      "outputs": [
        {
          "data": {
            "text/plain": [
              "({'Ava', 'Emma', 'James'},\n",
              " {'James', 'Mia', 'Olivia'},\n",
              " {'Olivia', 'Sarah', 'Sofia'})"
            ]
          },
          "execution_count": 14,
          "metadata": {},
          "output_type": "execute_result"
        }
      ],
      "source": [
        "student_set_1, student_set_2, student_set_3"
      ]
    },
    {
      "cell_type": "code",
      "execution_count": null,
      "metadata": {
        "id": "fEs23B0x_4UF",
        "outputId": "0d256794-d5d3-4b5a-d199-4c375d79672e"
      },
      "outputs": [
        {
          "data": {
            "text/plain": [
              "{'James'}"
            ]
          },
          "execution_count": 15,
          "metadata": {},
          "output_type": "execute_result"
        }
      ],
      "source": [
        "student_set_1.intersection_update(student_set_2)\n",
        "\n",
        "student_set_1"
      ]
    },
    {
      "cell_type": "code",
      "execution_count": null,
      "metadata": {
        "id": "h55Q59kO_4UF",
        "outputId": "32e7192f-4fde-40fa-a004-e1a97165df2b"
      },
      "outputs": [
        {
          "data": {
            "text/plain": [
              "{'James', 'Mia', 'Olivia'}"
            ]
          },
          "execution_count": 16,
          "metadata": {},
          "output_type": "execute_result"
        }
      ],
      "source": [
        "student_set_2"
      ]
    },
    {
      "cell_type": "code",
      "execution_count": null,
      "metadata": {
        "id": "9YyRkCRp_4UF"
      },
      "outputs": [],
      "source": [
        "student_set_1 = {\"Ava\", \"Emma\", \"James\"}\n",
        "student_set_2 = {\"James\", \"Mia\", \"Olivia\"}\n",
        "student_set_3 = {\"Olivia\", \"Sarah\", \"Sofia\"}"
      ]
    },
    {
      "cell_type": "code",
      "execution_count": null,
      "metadata": {
        "id": "5pDyyuna_4UG",
        "outputId": "0a8674d6-5a9c-42ae-d119-ad714dc1a212"
      },
      "outputs": [
        {
          "data": {
            "text/plain": [
              "{'Ava', 'Emma'}"
            ]
          },
          "execution_count": 18,
          "metadata": {},
          "output_type": "execute_result"
        }
      ],
      "source": [
        "student_set_1.difference_update(student_set_2)\n",
        "\n",
        "student_set_1"
      ]
    },
    {
      "cell_type": "code",
      "execution_count": null,
      "metadata": {
        "id": "zn0XzwP0_4UG",
        "outputId": "ac0681f3-8358-4cd2-ac24-16e3ee2fb0ee"
      },
      "outputs": [
        {
          "data": {
            "text/plain": [
              "True"
            ]
          },
          "execution_count": 19,
          "metadata": {},
          "output_type": "execute_result"
        }
      ],
      "source": [
        "{1, 2, 3}.isdisjoint({4, 5, 6})"
      ]
    },
    {
      "cell_type": "code",
      "execution_count": null,
      "metadata": {
        "id": "DN0EkWa2_4UG",
        "outputId": "ba13c27d-371f-4406-d47b-35a22cc3f992"
      },
      "outputs": [
        {
          "data": {
            "text/plain": [
              "False"
            ]
          },
          "execution_count": 20,
          "metadata": {},
          "output_type": "execute_result"
        }
      ],
      "source": [
        "{1, 2, 3}.isdisjoint({1, 5, 6})"
      ]
    },
    {
      "cell_type": "code",
      "execution_count": null,
      "metadata": {
        "id": "GAQ_1ExG_4UG",
        "outputId": "b8c3de8b-0858-4be7-b918-369202e116d2"
      },
      "outputs": [
        {
          "data": {
            "text/plain": [
              "False"
            ]
          },
          "execution_count": 21,
          "metadata": {},
          "output_type": "execute_result"
        }
      ],
      "source": [
        "number1.isdisjoint(number2)"
      ]
    },
    {
      "cell_type": "code",
      "execution_count": null,
      "metadata": {
        "id": "EuuL4AVo_4UG",
        "outputId": "95992de4-a2aa-4a43-ff04-13cb460f4056"
      },
      "outputs": [
        {
          "data": {
            "text/plain": [
              "True"
            ]
          },
          "execution_count": 22,
          "metadata": {},
          "output_type": "execute_result"
        }
      ],
      "source": [
        "{10, 20}.issubset({10, 20, 30})"
      ]
    },
    {
      "cell_type": "code",
      "execution_count": null,
      "metadata": {
        "id": "QvXGiLZr_4UG",
        "outputId": "5cbd16e0-d5a5-4dd1-e75e-ada9fca00740"
      },
      "outputs": [
        {
          "data": {
            "text/plain": [
              "True"
            ]
          },
          "execution_count": 23,
          "metadata": {},
          "output_type": "execute_result"
        }
      ],
      "source": [
        "{10, 20, 30}.issuperset({10, 20})"
      ]
    },
    {
      "cell_type": "code",
      "execution_count": null,
      "metadata": {
        "id": "DUqdeiel_4UG",
        "outputId": "274ef458-6093-44a5-f04b-f279923e7bda"
      },
      "outputs": [
        {
          "data": {
            "text/plain": [
              "False"
            ]
          },
          "execution_count": 24,
          "metadata": {},
          "output_type": "execute_result"
        }
      ],
      "source": [
        "number1.issuperset(number2)"
      ]
    },
    {
      "cell_type": "code",
      "execution_count": null,
      "metadata": {
        "id": "Q70g50ya_4UG"
      },
      "outputs": [],
      "source": [
        ""
      ]
    },
    {
      "cell_type": "code",
      "execution_count": null,
      "metadata": {
        "id": "IYJ9hdel_4UG"
      },
      "outputs": [],
      "source": [
        ""
      ]
    },
    {
      "cell_type": "code",
      "execution_count": null,
      "metadata": {
        "id": "iI_eqgUE_4UG"
      },
      "outputs": [],
      "source": [
        ""
      ]
    },
    {
      "cell_type": "markdown",
      "source": [
        "## Lists, Tuples, Dictionary, Sets"
      ],
      "metadata": {
        "id": "gptHMRFTmbsk"
      }
    },
    {
      "cell_type": "code",
      "execution_count": null,
      "metadata": {
        "id": "v9sTrrcu_4UH",
        "outputId": "90bd86ea-6592-4b37-b57b-8027984950fc"
      },
      "outputs": [
        {
          "data": {
            "text/plain": [
              "[['Hennessey Venom GT', 1244],\n",
              " ['SSC Ultimate Aero', 1287],\n",
              " ['Zenvo ST1', 1100]]"
            ]
          },
          "execution_count": 1,
          "metadata": {},
          "output_type": "execute_result"
        }
      ],
      "source": [
        "car_matrix = [['Hennessey Venom GT', 1244 ],\n",
        "              ['SSC Ultimate Aero', 1287],\n",
        "              ['Zenvo ST1', 1100]]\n",
        "\n",
        "car_matrix"
      ]
    },
    {
      "cell_type": "code",
      "execution_count": null,
      "metadata": {
        "id": "0yOnIDEP_4UH",
        "outputId": "b5df630c-3955-4471-f0d5-4d8fc3192bed"
      },
      "outputs": [
        {
          "data": {
            "text/plain": [
              "3"
            ]
          },
          "execution_count": 2,
          "metadata": {},
          "output_type": "execute_result"
        }
      ],
      "source": [
        "len(car_matrix)"
      ]
    },
    {
      "cell_type": "code",
      "execution_count": null,
      "metadata": {
        "id": "8WCrVZLT_4UH",
        "outputId": "5fdec11f-275a-489b-dec4-27f14343d6d6"
      },
      "outputs": [
        {
          "data": {
            "text/plain": [
              "2"
            ]
          },
          "execution_count": 3,
          "metadata": {},
          "output_type": "execute_result"
        }
      ],
      "source": [
        "len(car_matrix[1])"
      ]
    },
    {
      "cell_type": "code",
      "execution_count": null,
      "metadata": {
        "id": "AE-oGuJa_4UH",
        "outputId": "cc1194f5-54f9-400b-f92a-c81e6826414e"
      },
      "outputs": [
        {
          "data": {
            "text/plain": [
              "2"
            ]
          },
          "execution_count": 4,
          "metadata": {},
          "output_type": "execute_result"
        }
      ],
      "source": [
        "len(car_matrix[2])"
      ]
    },
    {
      "cell_type": "code",
      "execution_count": null,
      "metadata": {
        "id": "sV-vRNBk_4UH",
        "outputId": "5165d8b8-d1c7-4d1d-fc9a-cc576bb0bc14"
      },
      "outputs": [
        {
          "data": {
            "text/plain": [
              "'SSC Ultimate Aero'"
            ]
          },
          "execution_count": 5,
          "metadata": {},
          "output_type": "execute_result"
        }
      ],
      "source": [
        "car_matrix[1][0]"
      ]
    },
    {
      "cell_type": "code",
      "execution_count": null,
      "metadata": {
        "id": "PTnUU7ev_4UI",
        "outputId": "f2f5c973-17ab-462f-e018-94a6406c9eb5"
      },
      "outputs": [
        {
          "data": {
            "text/plain": [
              "1287"
            ]
          },
          "execution_count": 6,
          "metadata": {},
          "output_type": "execute_result"
        }
      ],
      "source": [
        "car_matrix[1][1]"
      ]
    },
    {
      "cell_type": "code",
      "execution_count": null,
      "metadata": {
        "id": "Oo-TkMQU_4UI",
        "outputId": "f925a639-06c8-48ca-9c83-964fd48dfa64"
      },
      "outputs": [
        {
          "data": {
            "text/plain": [
              "'Zenvo ST1'"
            ]
          },
          "execution_count": 7,
          "metadata": {},
          "output_type": "execute_result"
        }
      ],
      "source": [
        "car_matrix[2][0]"
      ]
    },
    {
      "cell_type": "code",
      "execution_count": null,
      "metadata": {
        "id": "mJu_EYYQ_4UI",
        "outputId": "4449f9d3-067c-4b1d-cfe0-a4214ed86bcf"
      },
      "outputs": [
        {
          "ename": "IndexError",
          "evalue": "list index out of range",
          "output_type": "error",
          "traceback": [
            "\u001b[0;31m---------------------------------------------------------------------------\u001b[0m",
            "\u001b[0;31mIndexError\u001b[0m                                Traceback (most recent call last)",
            "\u001b[0;32m<ipython-input-8-20ad39fe5ed9>\u001b[0m in \u001b[0;36m<module>\u001b[0;34m()\u001b[0m\n\u001b[0;32m----> 1\u001b[0;31m \u001b[0mcar_matrix\u001b[0m\u001b[0;34m[\u001b[0m\u001b[0;36m1\u001b[0m\u001b[0;34m]\u001b[0m\u001b[0;34m[\u001b[0m\u001b[0;36m2\u001b[0m\u001b[0;34m]\u001b[0m\u001b[0;34m\u001b[0m\u001b[0m\n\u001b[0m",
            "\u001b[0;31mIndexError\u001b[0m: list index out of range"
          ]
        }
      ],
      "source": [
        "car_matrix[1][2]"
      ]
    },
    {
      "cell_type": "code",
      "execution_count": null,
      "metadata": {
        "id": "tnpw-zrk_4UI",
        "outputId": "94a66925-fbc9-4b3c-f47e-b388975fcb58"
      },
      "outputs": [
        {
          "data": {
            "text/plain": [
              "2"
            ]
          },
          "execution_count": 9,
          "metadata": {},
          "output_type": "execute_result"
        }
      ],
      "source": [
        "len(car_matrix[1])"
      ]
    },
    {
      "cell_type": "code",
      "execution_count": null,
      "metadata": {
        "id": "q18_Ab2X_4UI",
        "outputId": "4e6254ee-3ec4-4987-9fc8-c224a37ee872"
      },
      "outputs": [
        {
          "data": {
            "text/plain": [
              "['Zenvo ST1', 1100]"
            ]
          },
          "execution_count": 10,
          "metadata": {},
          "output_type": "execute_result"
        }
      ],
      "source": [
        "car_matrix[2][0:2]"
      ]
    },
    {
      "cell_type": "code",
      "execution_count": null,
      "metadata": {
        "id": "gfP4OVDg_4UI",
        "outputId": "93737e64-597d-4fcf-bdd5-79c47db5f5cb"
      },
      "outputs": [
        {
          "data": {
            "text/plain": [
              "['SSC Ultimate Aero', 1287]"
            ]
          },
          "execution_count": 11,
          "metadata": {},
          "output_type": "execute_result"
        }
      ],
      "source": [
        "car_matrix[1][0:2]"
      ]
    },
    {
      "cell_type": "code",
      "execution_count": null,
      "metadata": {
        "id": "ykC_Rw2p_4UI",
        "outputId": "13cd96d6-f08b-4b96-a5e7-966733dfa2e5"
      },
      "outputs": [
        {
          "data": {
            "text/plain": [
              "['Leo', 18, 'Aaron', 25, 'Easton', 34, 'Jordan', 30]"
            ]
          },
          "execution_count": 12,
          "metadata": {},
          "output_type": "execute_result"
        }
      ],
      "source": [
        "my_list = ['Leo', 18,\n",
        "           'Aaron', 25,\n",
        "           'Easton', 34,\n",
        "           'Jordan', 30]\n",
        "\n",
        "my_list"
      ]
    },
    {
      "cell_type": "code",
      "execution_count": null,
      "metadata": {
        "id": "Zttv_MQa_4UI",
        "outputId": "3b37f379-4a12-4ea9-ff10-1866f874be47"
      },
      "outputs": [
        {
          "data": {
            "text/plain": [
              "('Leo', 18, 'Aaron', 25, 'Easton', 34, 'Jordan', 30)"
            ]
          },
          "execution_count": 13,
          "metadata": {},
          "output_type": "execute_result"
        }
      ],
      "source": [
        "tuple(my_list)"
      ]
    },
    {
      "cell_type": "code",
      "execution_count": null,
      "metadata": {
        "id": "zgVnqbdt_4UI",
        "outputId": "838b843c-f2d6-4b8a-b2b2-c5f82f513f90"
      },
      "outputs": [
        {
          "data": {
            "text/plain": [
              "[['Leo', 18], ['Aaron', 25], ['Easton', 34], ['Jordan', 30]]"
            ]
          },
          "execution_count": 14,
          "metadata": {},
          "output_type": "execute_result"
        }
      ],
      "source": [
        "my_list1 = [['Leo', 18],\n",
        "            ['Aaron', 25],\n",
        "            ['Easton', 34],\n",
        "            ['Jordan', 30]]\n",
        "\n",
        "my_list1"
      ]
    },
    {
      "cell_type": "code",
      "execution_count": null,
      "metadata": {
        "id": "_X5-3H_3_4UI",
        "outputId": "0b215392-e04c-4d08-cc77-f53a4b7ddbfe"
      },
      "outputs": [
        {
          "data": {
            "text/plain": [
              "(['Leo', 18], ['Aaron', 25], ['Easton', 34], ['Jordan', 30])"
            ]
          },
          "execution_count": 15,
          "metadata": {},
          "output_type": "execute_result"
        }
      ],
      "source": [
        "tuple(my_list1)"
      ]
    },
    {
      "cell_type": "code",
      "execution_count": null,
      "metadata": {
        "id": "ZssQ8NiM_4UI"
      },
      "outputs": [],
      "source": [
        "students_list = [[1, 'Caleb', 2, 'Leo'],\n",
        "                 [3, 'Easton', 4, 'Jordan']]"
      ]
    },
    {
      "cell_type": "code",
      "execution_count": null,
      "metadata": {
        "id": "7osAlWHU_4UI",
        "outputId": "95b27ff2-16da-4138-cee3-dde111affc88"
      },
      "outputs": [
        {
          "data": {
            "text/plain": [
              "[[1, 'Caleb', 2, 'Leo'], [3, 'Easton', 4, 'Jordan']]"
            ]
          },
          "execution_count": 17,
          "metadata": {},
          "output_type": "execute_result"
        }
      ],
      "source": [
        "students_list"
      ]
    },
    {
      "cell_type": "code",
      "execution_count": null,
      "metadata": {
        "id": "Dn4mkf74_4UJ",
        "outputId": "9a26862a-083e-48ad-e17b-ee16f35cfa17"
      },
      "outputs": [
        {
          "ename": "ValueError",
          "evalue": "dictionary update sequence element #0 has length 4; 2 is required",
          "output_type": "error",
          "traceback": [
            "\u001b[0;31m---------------------------------------------------------------------------\u001b[0m",
            "\u001b[0;31mValueError\u001b[0m                                Traceback (most recent call last)",
            "\u001b[0;32m<ipython-input-18-2bff5063b929>\u001b[0m in \u001b[0;36m<module>\u001b[0;34m()\u001b[0m\n\u001b[0;32m----> 1\u001b[0;31m \u001b[0mdict\u001b[0m\u001b[0;34m(\u001b[0m\u001b[0mstudents_list\u001b[0m\u001b[0;34m)\u001b[0m\u001b[0;34m\u001b[0m\u001b[0m\n\u001b[0m",
            "\u001b[0;31mValueError\u001b[0m: dictionary update sequence element #0 has length 4; 2 is required"
          ]
        }
      ],
      "source": [
        "dict(students_list)"
      ]
    },
    {
      "cell_type": "code",
      "execution_count": null,
      "metadata": {
        "id": "qW3FS4_Q_4UJ",
        "outputId": "5db53ac9-d7c7-4a0e-bb6b-00dc0b711271"
      },
      "outputs": [
        {
          "data": {
            "text/plain": [
              "[[1, 'Caleb'], [2, 'Leo'], [3, 'Easton'], [4, 'Jordan']]"
            ]
          },
          "execution_count": 19,
          "metadata": {},
          "output_type": "execute_result"
        }
      ],
      "source": [
        "students_list_2 = [[1,'Caleb'], [2,'Leo'],\n",
        "                   [3,'Easton'], [4,'Jordan']]\n",
        "\n",
        "students_list_2"
      ]
    },
    {
      "cell_type": "code",
      "execution_count": null,
      "metadata": {
        "id": "m1Q2LIkr_4UJ",
        "outputId": "a12991f4-454e-446a-901b-eb64a804506c"
      },
      "outputs": [
        {
          "data": {
            "text/plain": [
              "{1: 'Caleb', 2: 'Leo', 3: 'Easton', 4: 'Jordan'}"
            ]
          },
          "execution_count": 20,
          "metadata": {},
          "output_type": "execute_result"
        }
      ],
      "source": [
        "dict(students_list_2)"
      ]
    },
    {
      "cell_type": "code",
      "execution_count": null,
      "metadata": {
        "id": "nAeC_SkG_4UJ"
      },
      "outputs": [],
      "source": [
        "students_list_3 = [[1, 'Caleb'],\n",
        "                   [2, 'Leo'],\n",
        "                   [3, 'Easton'],\n",
        "                   [4, 'Jordan','Adam']]"
      ]
    },
    {
      "cell_type": "code",
      "execution_count": null,
      "metadata": {
        "id": "PToS2Lkb_4UJ",
        "outputId": "58591069-be52-4b7b-99de-6fabc8e8da69"
      },
      "outputs": [
        {
          "ename": "ValueError",
          "evalue": "dictionary update sequence element #3 has length 3; 2 is required",
          "output_type": "error",
          "traceback": [
            "\u001b[0;31m---------------------------------------------------------------------------\u001b[0m",
            "\u001b[0;31mValueError\u001b[0m                                Traceback (most recent call last)",
            "\u001b[0;32m<ipython-input-22-e078bde4fad4>\u001b[0m in \u001b[0;36m<module>\u001b[0;34m()\u001b[0m\n\u001b[0;32m----> 1\u001b[0;31m \u001b[0mdict\u001b[0m\u001b[0;34m(\u001b[0m\u001b[0mstudents_list_3\u001b[0m\u001b[0;34m)\u001b[0m\u001b[0;34m\u001b[0m\u001b[0m\n\u001b[0m",
            "\u001b[0;31mValueError\u001b[0m: dictionary update sequence element #3 has length 3; 2 is required"
          ]
        }
      ],
      "source": [
        "dict(students_list_3)"
      ]
    },
    {
      "cell_type": "code",
      "execution_count": null,
      "metadata": {
        "id": "7f4FHSyx_4UJ"
      },
      "outputs": [],
      "source": [
        "students_list_4 = [[1, 'Caleb'],\n",
        "                   [2, 'Leo'],\n",
        "                   [3, 'Easton'],\n",
        "                   [4, ['Jordan', 'Adam']]]"
      ]
    },
    {
      "cell_type": "code",
      "execution_count": null,
      "metadata": {
        "id": "jmu9mszh_4UJ",
        "outputId": "3994a6ba-2073-4d99-c82e-f739b3fd40b1"
      },
      "outputs": [
        {
          "data": {
            "text/plain": [
              "{1: 'Caleb', 2: 'Leo', 3: 'Easton', 4: ['Jordan', 'Adam']}"
            ]
          },
          "execution_count": 24,
          "metadata": {},
          "output_type": "execute_result"
        }
      ],
      "source": [
        "dict(students_list_4)"
      ]
    },
    {
      "cell_type": "code",
      "execution_count": null,
      "metadata": {
        "id": "-S0oN8iP_4UJ",
        "outputId": "f020b660-6f25-4e53-a190-4e67c5d68f17"
      },
      "outputs": [
        {
          "data": {
            "text/plain": [
              "[['Hennessey Venom GT', 1244],\n",
              " ['SSC Ultimate Aero', 1287],\n",
              " ['Zenvo ST1', 1100]]"
            ]
          },
          "execution_count": 25,
          "metadata": {},
          "output_type": "execute_result"
        }
      ],
      "source": [
        "car_matrix"
      ]
    },
    {
      "cell_type": "code",
      "execution_count": null,
      "metadata": {
        "id": "wC34Sezb_4UJ"
      },
      "outputs": [],
      "source": [
        "car_matrix_dict = dict(car_matrix)"
      ]
    },
    {
      "cell_type": "code",
      "execution_count": null,
      "metadata": {
        "id": "dRvbFxFo_4UJ",
        "outputId": "0d9f7013-e3d1-419f-c0c8-96f532c07d0e"
      },
      "outputs": [
        {
          "data": {
            "text/plain": [
              "{'Hennessey Venom GT': 1244, 'SSC Ultimate Aero': 1287, 'Zenvo ST1': 1100}"
            ]
          },
          "execution_count": 27,
          "metadata": {},
          "output_type": "execute_result"
        }
      ],
      "source": [
        "car_matrix_dict"
      ]
    },
    {
      "cell_type": "code",
      "execution_count": null,
      "metadata": {
        "id": "pcxavkmc_4UJ",
        "outputId": "a9dd2f89-ee00-41ed-8979-0e8e1f499fe6"
      },
      "outputs": [
        {
          "data": {
            "text/plain": [
              "['Zenvo ST1', 1100]"
            ]
          },
          "execution_count": 28,
          "metadata": {},
          "output_type": "execute_result"
        }
      ],
      "source": [
        "car_matrix.pop()"
      ]
    },
    {
      "cell_type": "code",
      "execution_count": null,
      "metadata": {
        "id": "MbYarNYi_4UJ",
        "outputId": "841f4f4c-bbce-436a-cfa4-88e70f549a20"
      },
      "outputs": [
        {
          "data": {
            "text/plain": [
              "[['Hennessey Venom GT', 1244], ['SSC Ultimate Aero', 1287]]"
            ]
          },
          "execution_count": 29,
          "metadata": {},
          "output_type": "execute_result"
        }
      ],
      "source": [
        "car_matrix"
      ]
    },
    {
      "cell_type": "code",
      "execution_count": null,
      "metadata": {
        "id": "b9RN0aKT_4UJ"
      },
      "outputs": [],
      "source": [
        "car_matrix.clear()"
      ]
    },
    {
      "cell_type": "code",
      "execution_count": null,
      "metadata": {
        "id": "nd_oVg3f_4UK",
        "outputId": "9a10a6b6-fda2-4a84-ee67-a0d7887332a3"
      },
      "outputs": [
        {
          "data": {
            "text/plain": [
              "[]"
            ]
          },
          "execution_count": 31,
          "metadata": {},
          "output_type": "execute_result"
        }
      ],
      "source": [
        "car_matrix"
      ]
    },
    {
      "cell_type": "code",
      "execution_count": null,
      "metadata": {
        "id": "irA0T9zD_4UK",
        "outputId": "f2f9577d-4c10-497e-8c5f-453224682938"
      },
      "outputs": [
        {
          "data": {
            "text/plain": [
              "{'Hennessey Venom GT': 1244, 'SSC Ultimate Aero': 1287, 'Zenvo ST1': 1100}"
            ]
          },
          "execution_count": 32,
          "metadata": {},
          "output_type": "execute_result"
        }
      ],
      "source": [
        "car_matrix_dict"
      ]
    },
    {
      "cell_type": "code",
      "execution_count": null,
      "metadata": {
        "id": "5w4gG4eC_4UK"
      },
      "outputs": [],
      "source": [
        "car_names = list(car_matrix_dict)"
      ]
    },
    {
      "cell_type": "code",
      "execution_count": null,
      "metadata": {
        "id": "hhQxUiAq_4UK",
        "outputId": "ae18781f-e519-4338-cd4d-5062d88a5d79"
      },
      "outputs": [
        {
          "data": {
            "text/plain": [
              "['Hennessey Venom GT', 'SSC Ultimate Aero', 'Zenvo ST1']"
            ]
          },
          "execution_count": 34,
          "metadata": {},
          "output_type": "execute_result"
        }
      ],
      "source": [
        "car_names"
      ]
    },
    {
      "cell_type": "code",
      "execution_count": null,
      "metadata": {
        "id": "jObo4etw_4UK"
      },
      "outputs": [],
      "source": [
        "car_hp = list(car_matrix_dict.values())"
      ]
    },
    {
      "cell_type": "code",
      "execution_count": null,
      "metadata": {
        "id": "pe-1Dwo0_4UK",
        "outputId": "9e7694e7-8d69-4585-a229-7400c2daa462"
      },
      "outputs": [
        {
          "data": {
            "text/plain": [
              "[1244, 1287, 1100]"
            ]
          },
          "execution_count": 36,
          "metadata": {},
          "output_type": "execute_result"
        }
      ],
      "source": [
        "car_hp"
      ]
    },
    {
      "cell_type": "code",
      "execution_count": null,
      "metadata": {
        "id": "pgoA7P5I_4UK"
      },
      "outputs": [],
      "source": [
        ""
      ]
    },
    {
      "cell_type": "code",
      "execution_count": null,
      "metadata": {
        "id": "3ubUceSW_4UK"
      },
      "outputs": [],
      "source": [
        ""
      ]
    },
    {
      "cell_type": "code",
      "execution_count": null,
      "metadata": {
        "id": "X2cVVv7-_4UK"
      },
      "outputs": [],
      "source": [
        ""
      ]
    }
  ],
  "metadata": {
    "kernelspec": {
      "display_name": "Python 3",
      "language": "python",
      "name": "python3"
    },
    "language_info": {
      "codemirror_mode": {
        "name": "ipython",
        "version": 3
      },
      "file_extension": ".py",
      "mimetype": "text/x-python",
      "name": "python",
      "nbconvert_exporter": "python",
      "pygments_lexer": "ipython3",
      "version": "3.6.8"
    },
    "colab": {
      "name": "2-DictionarySets.ipynb",
      "provenance": [],
      "collapsed_sections": []
    }
  },
  "nbformat": 4,
  "nbformat_minor": 0
}