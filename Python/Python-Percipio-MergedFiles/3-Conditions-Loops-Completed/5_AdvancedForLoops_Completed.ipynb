{
  "nbformat": 4,
  "nbformat_minor": 0,
  "metadata": {
    "kernelspec": {
      "display_name": "Python 3",
      "language": "python",
      "name": "python3"
    },
    "language_info": {
      "codemirror_mode": {
        "name": "ipython",
        "version": 3
      },
      "file_extension": ".py",
      "mimetype": "text/x-python",
      "name": "python",
      "nbconvert_exporter": "python",
      "pygments_lexer": "ipython3",
      "version": "3.6.8"
    },
    "colab": {
      "name": "5-AdvancedForLoops.ipynb",
      "provenance": [],
      "collapsed_sections": [
        "STv711zY_2T5"
      ]
    }
  },
  "cells": [
    {
      "cell_type": "markdown",
      "metadata": {
        "id": "okIBgQld_2Tn"
      },
      "source": [
        "#### Break Keyword\n",
        "\n",
        "* The `break` keyword is used to break out a `for loop`"
      ]
    },
    {
      "cell_type": "markdown",
      "metadata": {
        "id": "R4rgaTrc_2Tp"
      },
      "source": [
        "End the loop val is equals to n"
      ]
    },
    {
      "cell_type": "code",
      "metadata": {
        "id": "CUHd7Zj9_2Tq",
        "outputId": "969ff532-1465-447f-ea22-459174917aa6",
        "colab": {
          "base_uri": "https://localhost:8080/"
        }
      },
      "source": [
        "for letter in \"python\":\n",
        "    if letter == \"o\":\n",
        "        \n",
        "        break\n",
        "    print(letter)     "
      ],
      "execution_count": null,
      "outputs": [
        {
          "output_type": "stream",
          "name": "stdout",
          "text": [
            "p\n",
            "y\n",
            "t\n",
            "h\n"
          ]
        }
      ]
    },
    {
      "cell_type": "code",
      "metadata": {
        "id": "ICRYD1PC_2Ts",
        "outputId": "c4859c1f-052e-47e9-8966-a444c6a55860",
        "colab": {
          "base_uri": "https://localhost:8080/"
        }
      },
      "source": [
        "for letter in \"python\":\n",
        "    print(letter)\n",
        "    \n",
        "    if letter == \"o\":\n",
        "        break        "
      ],
      "execution_count": null,
      "outputs": [
        {
          "output_type": "stream",
          "name": "stdout",
          "text": [
            "p\n",
            "y\n",
            "t\n",
            "h\n",
            "o\n"
          ]
        }
      ]
    },
    {
      "cell_type": "code",
      "metadata": {
        "id": "VAb_-Xdi_2Ts",
        "outputId": "f08be0c0-e357-4cf7-aeb4-93131f256e4b",
        "colab": {
          "base_uri": "https://localhost:8080/"
        }
      },
      "source": [
        "for char in 'icecream':\n",
        "    if char == 'c':\n",
        "        \n",
        "        print ('The letter %s was found in the string' % char)\n",
        "        break\n",
        "else:\n",
        "    print('The letter %s does not exist in the string' % char)"
      ],
      "execution_count": null,
      "outputs": [
        {
          "output_type": "stream",
          "name": "stdout",
          "text": [
            "The letter c was found in the string\n"
          ]
        }
      ]
    },
    {
      "cell_type": "code",
      "metadata": {
        "id": "2W3ImYRj_2Tt",
        "outputId": "b8a5d8fa-1e64-4602-a0d8-643e3ed1ad34",
        "colab": {
          "base_uri": "https://localhost:8080/"
        }
      },
      "source": [
        "for num in [3, 11, 22, 35, 90]:\n",
        "    print (num)\n",
        "    \n",
        "    if (num == 22):\n",
        "        print (\"The number %d has been found\" % num )\n",
        "        print (\"Terminating the loop...\")\n",
        "        \n",
        "        break"
      ],
      "execution_count": null,
      "outputs": [
        {
          "output_type": "stream",
          "name": "stdout",
          "text": [
            "3\n",
            "11\n",
            "22\n",
            "The number 22 has been found\n",
            "Terminating the loop...\n"
          ]
        }
      ]
    },
    {
      "cell_type": "markdown",
      "metadata": {
        "id": "Rv5AM_ZG_2Tt"
      },
      "source": [
        "#### Break statement using range"
      ]
    },
    {
      "cell_type": "code",
      "metadata": {
        "id": "zq8_gFKg_2Tt",
        "outputId": "5156b4be-02e0-4c04-de67-38dbc5411a2f",
        "colab": {
          "base_uri": "https://localhost:8080/"
        }
      },
      "source": [
        "for i in range (5):\n",
        "    \n",
        "    if i == 4:\n",
        "        break\n",
        "        \n",
        "    print(i)"
      ],
      "execution_count": null,
      "outputs": [
        {
          "output_type": "stream",
          "name": "stdout",
          "text": [
            "0\n",
            "1\n",
            "2\n",
            "3\n"
          ]
        }
      ]
    },
    {
      "cell_type": "markdown",
      "metadata": {
        "id": "W4JzYfH6_2Tu"
      },
      "source": [
        "End the loop if i is larger than num"
      ]
    },
    {
      "cell_type": "code",
      "metadata": {
        "id": "7RmqO6JF_2Tu",
        "outputId": "2f4641fa-8003-4951-d4dc-ee0724c7172f",
        "colab": {
          "base_uri": "https://localhost:8080/"
        }
      },
      "source": [
        "for i in range (1, 10):\n",
        "    \n",
        "    if i >= 5:\n",
        "        break \n",
        "        \n",
        "    print(i, \"is less than 5\")    "
      ],
      "execution_count": null,
      "outputs": [
        {
          "output_type": "stream",
          "name": "stdout",
          "text": [
            "1 is less than 5\n",
            "2 is less than 5\n",
            "3 is less than 5\n",
            "4 is less than 5\n"
          ]
        }
      ]
    },
    {
      "cell_type": "markdown",
      "metadata": {
        "id": "kwWZj8_Z_2Tv"
      },
      "source": [
        "Print the number to the power of 2"
      ]
    },
    {
      "cell_type": "code",
      "metadata": {
        "id": "FcumrymA_2Tv",
        "outputId": "42ec8e90-f914-4d40-8a29-d6ea8d4e2f71",
        "colab": {
          "base_uri": "https://localhost:8080/"
        }
      },
      "source": [
        "my_list = range(10)\n",
        " \n",
        "for num in my_list:\n",
        "    if num ** 2 > 20:\n",
        "         \n",
        "        break\n",
        "        \n",
        "    print(num, \"square\", num ** 2 )"
      ],
      "execution_count": null,
      "outputs": [
        {
          "output_type": "stream",
          "name": "stdout",
          "text": [
            "0 square 0\n",
            "1 square 1\n",
            "2 square 4\n",
            "3 square 9\n",
            "4 square 16\n"
          ]
        }
      ]
    },
    {
      "cell_type": "markdown",
      "metadata": {
        "id": "Hh0vtKEh_2Tw"
      },
      "source": [
        "* Here the variable number is initialized 0.  Then a for statement constructs the loop which executes as long as the variable is less than 10.\n",
        "* Within the for loop, the number increases incrementally by 1 with each pass\n",
        "* Then if statement presents the condition that if the variable is equivalent to the integer 5,then the loop will break\n",
        "* Print() statement within loop will execute with each iteration until the loop breaks, since it is after the break statement\n",
        "* When we are out of the loop, we have included a final print() statement outside of the for loop."
      ]
    },
    {
      "cell_type": "code",
      "metadata": {
        "id": "dpTFikJn_2Tw",
        "outputId": "92521459-2ecb-4180-e586-6701c01c96da",
        "colab": {
          "base_uri": "https://localhost:8080/"
        }
      },
      "source": [
        "number = 0\n",
        "\n",
        "for number in range (10):\n",
        "    \n",
        "    number = number + 1     \n",
        "    \n",
        "    if number == 5:\n",
        "        break\n",
        "        \n",
        "    print (\"number is: \" + str(number)) \n",
        "    \n",
        "print (\"we are out of the loop\")    "
      ],
      "execution_count": null,
      "outputs": [
        {
          "output_type": "stream",
          "name": "stdout",
          "text": [
            "number is: 1\n",
            "number is: 2\n",
            "number is: 3\n",
            "number is: 4\n",
            "we are out of the loop\n"
          ]
        }
      ]
    },
    {
      "cell_type": "markdown",
      "metadata": {
        "id": "KoHRMXrk_2Tx"
      },
      "source": [
        "Here we have small change within the for loop the `i` variable increses incrementally by `i` value not 1.\n",
        "\n",
        "Here we can see break statement is not applying because when we pass the itereation each time that number incrementing with i that means, in if statemet number is 3 and i is 3 (number + i)it will give you output is 6, not 5 that's why here that output is coming upto range 10."
      ]
    },
    {
      "cell_type": "markdown",
      "metadata": {
        "id": "UdMOn5Cj_2Tx"
      },
      "source": [
        "Print 'Odd Numbers Between', start and End"
      ]
    },
    {
      "cell_type": "code",
      "metadata": {
        "id": "PpdXUdLE_2Ty",
        "outputId": "5b36c6a1-9e92-41b9-9806-94025f4a615e",
        "colab": {
          "base_uri": "https://localhost:8080/"
        }
      },
      "source": [
        "start = 0\n",
        "end = 10\n",
        "\n",
        "print (\"odd numbers between\",start, \"and\", end, \"are:\")\n",
        "\n",
        "for i in range (start, end + 1):\n",
        "    \n",
        "    if (i % 2) != 0:\n",
        "        print (i)\n",
        "        \n",
        "    if i == 7:\n",
        "        break"
      ],
      "execution_count": null,
      "outputs": [
        {
          "output_type": "stream",
          "name": "stdout",
          "text": [
            "odd numbers between 0 and 10 are:\n",
            "1\n",
            "3\n",
            "5\n",
            "7\n"
          ]
        }
      ]
    },
    {
      "cell_type": "markdown",
      "metadata": {
        "id": "HIDoSU7__2Ty"
      },
      "source": [
        "Find the sum of first five integers"
      ]
    },
    {
      "cell_type": "code",
      "metadata": {
        "id": "7nutEk0V_2Ty",
        "outputId": "621366db-2017-4ac9-90a4-93667eaf609c",
        "colab": {
          "base_uri": "https://localhost:8080/"
        }
      },
      "source": [
        "num_tuple = (10, 20, 30, 40, 50, 60, 70, 80, 90)\n",
        "\n",
        "sum_num = 0\n",
        "count = 0\n",
        "\n",
        "for num in num_tuple:\n",
        "    \n",
        "    sum_num = sum_num + num\n",
        "    print(\"at index\", count, \" the sum is\", sum_num)\n",
        "    \n",
        "    count = count + 1\n",
        "    \n",
        "    if count == 5:\n",
        "        break\n",
        "print (\"the sum of first\", count, \"integers is:\", sum_num)"
      ],
      "execution_count": null,
      "outputs": [
        {
          "output_type": "stream",
          "name": "stdout",
          "text": [
            "at index 0  the sum is 10\n",
            "at index 1  the sum is 30\n",
            "at index 2  the sum is 60\n",
            "at index 3  the sum is 100\n",
            "at index 4  the sum is 150\n",
            "the sum of first 5 integers is: 150\n"
          ]
        }
      ]
    },
    {
      "cell_type": "markdown",
      "metadata": {
        "id": "EyAnQKyr_2Tz"
      },
      "source": [
        "#### The else clause! After the loop is completed, and has not encountered a break statement, it will run the code in else. However, if the loop is broken out of manually, it will skip the else altogether."
      ]
    },
    {
      "cell_type": "markdown",
      "metadata": {
        "id": "h9iD7TU4_2Tz"
      },
      "source": [
        "Since 'Mali' was not in the list, we see the message \"The villain got away agian.  'If we change the value of villain_at to Norway, we will see 'Villain captured!' instead. \n",
        "code got from https://dev.to/codemouse92/dead-simple-python-loops-and-iterators-15bp"
      ]
    },
    {
      "cell_type": "code",
      "metadata": {
        "id": "lKcCFRwY_2Tz",
        "outputId": "1c49d6a0-b75f-41f6-a76c-c7ec82cd08ea",
        "colab": {
          "base_uri": "https://localhost:8080/"
        }
      },
      "source": [
        "places = [\"New Zealand\", \"Norway\", \"Botswana\", \"Zimbabwe\", \"Uzbekistan\", \"Paraguay\"]\n",
        "\n",
        "villain_at = \"Mali\"  \n",
        "\n",
        "for place in places:\n",
        "    if place == villain_at:\n",
        "        \n",
        "        print(\"The Villain has been captured!\")\n",
        "        break\n",
        "else:\n",
        "    print(\"The villain got away :(\")"
      ],
      "execution_count": null,
      "outputs": [
        {
          "output_type": "stream",
          "name": "stdout",
          "text": [
            "The villain got away :(\n"
          ]
        }
      ]
    },
    {
      "cell_type": "code",
      "metadata": {
        "id": "KWA5nI4t_2Tz",
        "outputId": "8807dbef-e85b-4d96-accf-d45720160445",
        "colab": {
          "base_uri": "https://localhost:8080/"
        }
      },
      "source": [
        "places = [\"New Zealand\", \"Norway\", \"Botswana\", \"Zimbabwe\", \"Uzbekistan\", \"Paraguay\"]\n",
        "\n",
        "villain_at = \"Norway\"  \n",
        "\n",
        "for place in places:\n",
        "    if place == villain_at:\n",
        "        \n",
        "        print(\"The Villain has been captured!\")\n",
        "        break\n",
        "else:\n",
        "    print(\"The villain got away :(\")"
      ],
      "execution_count": null,
      "outputs": [
        {
          "output_type": "stream",
          "name": "stdout",
          "text": [
            "The Villain has been captured!\n"
          ]
        }
      ]
    },
    {
      "cell_type": "markdown",
      "metadata": {
        "id": "lWB3z_Wq_2T0"
      },
      "source": [
        "Run this once with Apple and once with Mango"
      ]
    },
    {
      "cell_type": "code",
      "metadata": {
        "collapsed": true,
        "id": "E6cTG9VP_2T0"
      },
      "source": [
        "list_of_fruits = [\"Apple\", \"Watermelon\", \"Orange\", \"Papaya\", \"Kiwi\"]"
      ],
      "execution_count": null,
      "outputs": []
    },
    {
      "cell_type": "code",
      "metadata": {
        "id": "N7RcjxWW_2T0",
        "outputId": "86c8764b-4918-4917-fb33-87be43b08145",
        "colab": {
          "base_uri": "https://localhost:8080/"
        }
      },
      "source": [
        "fruit = input(\"Enter a fruit: \")\n",
        "\n",
        "for i in list_of_fruits:\n",
        "    \n",
        "    if i == fruit:\n",
        "        \n",
        "        print(\"The fruit was found in the list\")\n",
        "        break\n",
        "        \n",
        "else:\n",
        "    print (\"The fruit was not found\")"
      ],
      "execution_count": null,
      "outputs": [
        {
          "output_type": "stream",
          "name": "stdout",
          "text": [
            "Enter a fruit: Mango\n",
            "The fruit was not found\n"
          ]
        }
      ]
    },
    {
      "cell_type": "markdown",
      "metadata": {
        "id": "ks6ek204_2T0"
      },
      "source": [
        "Finding prime number"
      ]
    },
    {
      "cell_type": "code",
      "metadata": {
        "id": "7IkWmlT8_2T1",
        "outputId": "e14a7c0d-e21d-4fd6-916c-c980521490dc",
        "colab": {
          "base_uri": "https://localhost:8080/"
        }
      },
      "source": [
        "num = int(input(\"Enter a number: \"))\n",
        "\n",
        "for i in range(2, num//2):\n",
        "    if num % i == 0:\n",
        "        \n",
        "        print(\"It is not a prime number\")\n",
        "        break\n",
        "        \n",
        "else:\n",
        "    print(num,\"is a prime number\")"
      ],
      "execution_count": null,
      "outputs": [
        {
          "output_type": "stream",
          "name": "stdout",
          "text": [
            "Enter a number: 6\n",
            "It is not a prime number\n"
          ]
        }
      ]
    },
    {
      "cell_type": "markdown",
      "metadata": {
        "id": "lvjK4coQ_2T1"
      },
      "source": [
        "Find Prime numbers with given range(10 to 20)"
      ]
    },
    {
      "cell_type": "markdown",
      "metadata": {
        "id": "xBDqYs7p_2T1"
      },
      "source": [
        "Here the list is defined and the user is asked to input a number if the number is found then it will report that it is found otherwise it will say not found"
      ]
    },
    {
      "cell_type": "markdown",
      "metadata": {
        "id": "Y-6rUb3s_2T1"
      },
      "source": [
        "# technically correct?"
      ]
    },
    {
      "cell_type": "code",
      "metadata": {
        "id": "4rxHY3xL_2T1",
        "outputId": "929eccbb-cd36-4c5e-f028-231d37478702",
        "colab": {
          "base_uri": "https://localhost:8080/"
        }
      },
      "source": [
        "id_number = [1, 3, 6, 5, 2, 7, 4]\n",
        "print (id_number)\n",
        "\n",
        "x = int (input(\"\\nEnter a number: \"))\n",
        "\n",
        "for i in range (len(id_number)):\n",
        "    if x == id_number[i]:\n",
        "        break\n",
        "        \n",
        "if i < len(id_number) - 1:\n",
        "    print (x, \"found at index:\", i )\n",
        "    \n",
        "else:\n",
        "    print (x,\"is not in the list\")"
      ],
      "execution_count": null,
      "outputs": [
        {
          "output_type": "stream",
          "name": "stdout",
          "text": [
            "[1, 3, 6, 5, 2, 7, 4]\n",
            "\n",
            "Enter a number: 5\n",
            "5 found at index: 3\n"
          ]
        }
      ]
    },
    {
      "cell_type": "markdown",
      "metadata": {
        "id": "Pcu5708y_2T1"
      },
      "source": [
        "first enter 3 wrong guesses then run again and pass correct password"
      ]
    },
    {
      "cell_type": "code",
      "metadata": {
        "id": "JKTdIcwD_2T2",
        "outputId": "6922babb-c507-45c3-8ffe-b0f35f529d5c",
        "colab": {
          "base_uri": "https://localhost:8080/"
        }
      },
      "source": [
        "for i in range(3):\n",
        "    password = str(input(\"Enter a password: \"))\n",
        "    \n",
        "    if password == \"secret\":\n",
        "        print (\"you guessed the password :)\")\n",
        "        break\n",
        "        \n",
        "else:\n",
        "    print (\"3 incorrect password attempts\")"
      ],
      "execution_count": null,
      "outputs": [
        {
          "output_type": "stream",
          "name": "stdout",
          "text": [
            "Enter a password: secret\n",
            "you guessed the password :)\n"
          ]
        }
      ]
    },
    {
      "cell_type": "markdown",
      "metadata": {
        "id": "kz_2VbTV_2T2"
      },
      "source": [
        "first check gor great then for level"
      ]
    },
    {
      "cell_type": "code",
      "metadata": {
        "id": "r6ygnefg_2T2",
        "outputId": "e0f40b82-decd-497c-f779-5a69a8ad551c",
        "colab": {
          "base_uri": "https://localhost:8080/"
        }
      },
      "source": [
        "my_str = input(\"Enter a string: \")\n",
        "length = len(my_str)\n",
        "start = 0\n",
        "end = int(length // 2 + 1)\n",
        "\n",
        "for i in range(start, end):\n",
        "    if my_str[i] == my_str[-i -1]:\n",
        "        \n",
        "        i = i + 1\n",
        "        \n",
        "    else:\n",
        "        break\n",
        "        \n",
        "if i < (length / 2):\n",
        "    print(\"This is not a palindrome\")\n",
        "    \n",
        "else:\n",
        "    print (\"This is a palindrome\") "
      ],
      "execution_count": null,
      "outputs": [
        {
          "output_type": "stream",
          "name": "stdout",
          "text": [
            "Enter a string: madam\n",
            "This is a palindrome\n"
          ]
        }
      ]
    },
    {
      "cell_type": "markdown",
      "metadata": {
        "id": "d5yDfcEL_2T4"
      },
      "source": [
        "* Here the variable number is initialized 0.  Then a for statement constructs the loop which executes as long as the variable is less than 10.\n",
        "* Within the for loop, the number increases incrementally by 1 with each pass\n",
        "* Then if statement presents the condition that if the variable is equivalent to the integer 5,then the loop will break\n",
        "* Print() statement within loop will execute with each iteration until the loop breaks, since it is after the break statement\n",
        "* When we are out of the loop, we have included a final print() statement outside of the for loop."
      ]
    },
    {
      "cell_type": "markdown",
      "metadata": {
        "id": "KcqHv80E_2T5"
      },
      "source": [
        "Here we have small change within the for loop the `i` variable increses incrementally by `i` value not 1.\n",
        "\n",
        "Here we can see break statement is not applying because when we pass the itereation each time that number incrementing with i that means, in if statemet number is 3 and i is 3 (number + i)it will give you output is 6, not 5 that's why here that output is coming upto range 10."
      ]
    },
    {
      "cell_type": "code",
      "metadata": {
        "id": "5tLXUr99_2T5",
        "outputId": "c02e19f7-868e-4788-ed39-5be620e67686",
        "colab": {
          "base_uri": "https://localhost:8080/"
        }
      },
      "source": [
        "num_tuple = (10, 20, 30, 40, 50, 60, 70, 80, 90)\n",
        "\n",
        "sum_num = 0\n",
        "count = 0\n",
        "\n",
        "for num in num_tuple:\n",
        "    \n",
        "    sum_num = sum_num + num\n",
        "    print(\"at index\", count, \" the sum is\", sum_num)\n",
        "    \n",
        "    count = count + 1\n",
        "    \n",
        "    if count == 5:\n",
        "        break\n",
        "print (\"the sum of first\", count, \"integers is:\", sum_num)"
      ],
      "execution_count": 40,
      "outputs": [
        {
          "output_type": "stream",
          "name": "stdout",
          "text": [
            "at index 0  the sum is 10\n",
            "at index 1  the sum is 30\n",
            "at index 2  the sum is 60\n",
            "at index 3  the sum is 100\n",
            "at index 4  the sum is 150\n",
            "the sum of first 5 integers is: 150\n"
          ]
        }
      ]
    },
    {
      "cell_type": "markdown",
      "metadata": {
        "id": "STv711zY_2T5"
      },
      "source": [
        "#### The else clause! After the loop is completed, and has not encountered a break statement, it will run the code in else. However, if the loop is broken out of manually, it will skip the else altogether."
      ]
    },
    {
      "cell_type": "markdown",
      "metadata": {
        "id": "lQoyxo1F_2T8"
      },
      "source": [
        "#### Continue keyword\n",
        "* The continue statement is used to skip the rest of the code inside a loop for the current iteration only.\n",
        "* Loop does not terminate but continues on with the next iteration."
      ]
    },
    {
      "cell_type": "markdown",
      "metadata": {
        "id": "55QEzXCD_2T8"
      },
      "source": [
        "Here letter `i` is skipped"
      ]
    },
    {
      "cell_type": "code",
      "metadata": {
        "id": "Kcn2Z1GP_2T8",
        "outputId": "e12c7ae8-dee0-4b1d-936c-baffcf845bd8",
        "colab": {
          "base_uri": "https://localhost:8080/"
        }
      },
      "source": [
        "for letter in \"string\":\n",
        "    \n",
        "    if letter == \"i\":\n",
        "        continue\n",
        "        \n",
        "    print(letter)  \n",
        "    \n",
        "print (\"The end\")"
      ],
      "execution_count": null,
      "outputs": [
        {
          "output_type": "stream",
          "name": "stdout",
          "text": [
            "s\n",
            "t\n",
            "r\n",
            "n\n",
            "g\n",
            "The end\n"
          ]
        }
      ]
    },
    {
      "cell_type": "markdown",
      "metadata": {
        "id": "o5-K1Beg_2T8"
      },
      "source": [
        "Here `e` and `s` both skipped"
      ]
    },
    {
      "cell_type": "code",
      "metadata": {
        "id": "h3d3pBdE_2T9",
        "outputId": "041843d8-1aa5-4f00-87a5-0d4f65ed8a6c",
        "colab": {
          "base_uri": "https://localhost:8080/"
        }
      },
      "source": [
        "my_string = \"Students\"\n",
        "\n",
        "for letter in my_string:\n",
        "    if (letter == \"e\" or letter == \"s\"):\n",
        "        \n",
        "        continue\n",
        "    else:\n",
        "        print(letter)"
      ],
      "execution_count": null,
      "outputs": [
        {
          "output_type": "stream",
          "name": "stdout",
          "text": [
            "S\n",
            "t\n",
            "u\n",
            "d\n",
            "n\n",
            "t\n"
          ]
        }
      ]
    },
    {
      "cell_type": "markdown",
      "metadata": {
        "id": "Y6aBEGIx_2T9"
      },
      "source": [
        "Here the numbers divisible by `2` will prints and remaining numbers will skip "
      ]
    },
    {
      "cell_type": "code",
      "metadata": {
        "id": "xH9-BI2A_2T9",
        "outputId": "f5f37bb1-6ba8-449c-a06f-edd8b9a8e29d",
        "colab": {
          "base_uri": "https://localhost:8080/"
        }
      },
      "source": [
        "for i in range (1, 10):\n",
        "    \n",
        "    if i % 2 == 0:\n",
        "        print (\"Is %s is an even number? \" % i)\n",
        "\n",
        "    else:    \n",
        "        continue\n",
        "        \n",
        "    print(\"Yes\")     "
      ],
      "execution_count": null,
      "outputs": [
        {
          "output_type": "stream",
          "name": "stdout",
          "text": [
            "Is 2 is an even number? \n",
            "Yes\n",
            "Is 4 is an even number? \n",
            "Yes\n",
            "Is 6 is an even number? \n",
            "Yes\n",
            "Is 8 is an even number? \n",
            "Yes\n"
          ]
        }
      ]
    },
    {
      "cell_type": "code",
      "metadata": {
        "id": "mxoP5c4P_2T9",
        "outputId": "623582c5-847b-4ce8-cb11-24f19623cbf7",
        "colab": {
          "base_uri": "https://localhost:8080/"
        }
      },
      "source": [
        "for num in range(1, 10):\n",
        "    \n",
        "    if num % 2 == 0:\n",
        "        print(\"Found an even number:\", num)\n",
        "        \n",
        "        continue\n",
        "    print(num)"
      ],
      "execution_count": null,
      "outputs": [
        {
          "output_type": "stream",
          "name": "stdout",
          "text": [
            "1\n",
            "Found an even number: 2\n",
            "3\n",
            "Found an even number: 4\n",
            "5\n",
            "Found an even number: 6\n",
            "7\n",
            "Found an even number: 8\n",
            "9\n"
          ]
        }
      ]
    },
    {
      "cell_type": "markdown",
      "metadata": {
        "id": "4t2Wr0iL_2T9"
      },
      "source": [
        "Here the values divisible by `3` and `5` both got skipped"
      ]
    },
    {
      "cell_type": "code",
      "metadata": {
        "id": "dFtl06i3_2T9",
        "outputId": "0fe6fa7d-e4a2-49fb-ce01-6b543907e22e",
        "colab": {
          "base_uri": "https://localhost:8080/"
        }
      },
      "source": [
        "for value in range(10):\n",
        "    \n",
        "    if value % 3 == 0 or value % 5== 0:\n",
        "        \n",
        "        continue\n",
        "        \n",
        "    print(value, \"is not divisible by either 3 or 5\")"
      ],
      "execution_count": null,
      "outputs": [
        {
          "output_type": "stream",
          "name": "stdout",
          "text": [
            "1 is not divisible by either 3 or 5\n",
            "2 is not divisible by either 3 or 5\n",
            "4 is not divisible by either 3 or 5\n",
            "7 is not divisible by either 3 or 5\n",
            "8 is not divisible by either 3 or 5\n"
          ]
        }
      ]
    },
    {
      "cell_type": "markdown",
      "metadata": {
        "id": "RTmiLuYz_2T-"
      },
      "source": [
        "Continue will despite the disruption when the variable number is evaluated as equivalent to `5`\n",
        "\n",
        "Here we see that the line Number is `5` never occurs in the output, but the loop `continues` after that point to print lines for the numbers `6-8` before leaving the loop."
      ]
    },
    {
      "cell_type": "code",
      "metadata": {
        "id": "U-v13fAj_2T-",
        "outputId": "fc12445e-c83f-482e-cfd9-9c142ead8769",
        "colab": {
          "base_uri": "https://localhost:8080/"
        }
      },
      "source": [
        "number = 0\n",
        "\n",
        "for number in range(8):\n",
        "    number = number + 1\n",
        "    \n",
        "    if number == 5:\n",
        "        continue\n",
        "        \n",
        "    print (\"number is: \" + str(number))\n",
        "print(\"out of the for loop\")        "
      ],
      "execution_count": null,
      "outputs": [
        {
          "output_type": "stream",
          "name": "stdout",
          "text": [
            "number is: 1\n",
            "number is: 2\n",
            "number is: 3\n",
            "number is: 4\n",
            "number is: 6\n",
            "number is: 7\n",
            "number is: 8\n",
            "out of the for loop\n"
          ]
        }
      ]
    },
    {
      "cell_type": "code",
      "metadata": {
        "id": "azpZz-7p_2T-",
        "outputId": "0654a99d-3756-459b-b32f-f66111efd67f",
        "colab": {
          "base_uri": "https://localhost:8080/"
        }
      },
      "source": [
        "for i in range (1, 12):\n",
        "    \n",
        "    print()\n",
        "    print (\"Before the continue statement\", i)\n",
        "    \n",
        "    if i % 3 == 0:\n",
        "        continue\n",
        "        \n",
        "    print(\"After the continue statement\", i)"
      ],
      "execution_count": null,
      "outputs": [
        {
          "output_type": "stream",
          "name": "stdout",
          "text": [
            "\n",
            "Before the continue statement 1\n",
            "After the continue statement 1\n",
            "\n",
            "Before the continue statement 2\n",
            "After the continue statement 2\n",
            "\n",
            "Before the continue statement 3\n",
            "\n",
            "Before the continue statement 4\n",
            "After the continue statement 4\n",
            "\n",
            "Before the continue statement 5\n",
            "After the continue statement 5\n",
            "\n",
            "Before the continue statement 6\n",
            "\n",
            "Before the continue statement 7\n",
            "After the continue statement 7\n",
            "\n",
            "Before the continue statement 8\n",
            "After the continue statement 8\n",
            "\n",
            "Before the continue statement 9\n",
            "\n",
            "Before the continue statement 10\n",
            "After the continue statement 10\n",
            "\n",
            "Before the continue statement 11\n",
            "After the continue statement 11\n"
          ]
        }
      ]
    },
    {
      "cell_type": "markdown",
      "metadata": {
        "id": "6pInBK5i_2T-"
      },
      "source": [
        "printing `sum of all positive numbers` in given list"
      ]
    },
    {
      "cell_type": "code",
      "metadata": {
        "id": "fcUAm-Nl_2T-",
        "outputId": "1526f2bc-7340-4e67-dd30-7eea8e1c6e28",
        "colab": {
          "base_uri": "https://localhost:8080/"
        }
      },
      "source": [
        "num_list = [5, 4, -4, -3, 1, 2, -3, -5]\n",
        "\n",
        "total = 0\n",
        "\n",
        "for element in num_list:\n",
        "    if element <= 0:\n",
        "        \n",
        "        \n",
        "        continue\n",
        "    total += element\n",
        "    print(\"At index\",num_list.index(element) , \"sum is\", total)\n",
        "\n",
        "print(\"\\nSum of all positive numbers is:\", total)    "
      ],
      "execution_count": null,
      "outputs": [
        {
          "output_type": "stream",
          "name": "stdout",
          "text": [
            "At index 0 sum is 5\n",
            "At index 1 sum is 9\n",
            "At index 4 sum is 10\n",
            "At index 5 sum is 12\n",
            "\n",
            "Sum of all positive numbers is: 12\n"
          ]
        }
      ]
    },
    {
      "cell_type": "code",
      "metadata": {
        "id": "KZkzt4Yz_2T-",
        "outputId": "73f9d39f-a5a4-44bc-beff-a3c7958cb383",
        "colab": {
          "base_uri": "https://localhost:8080/"
        }
      },
      "source": [
        "files = [\"Junk\", \"Trash\", \"Useless\", \"Important File\", \"Random File\"]\n",
        "\n",
        "for file in files:\n",
        "    print (file)\n",
        "    \n",
        "    if file == \"Important File\":        \n",
        "        print (\"That's exactly what we were looking for :)\")\n",
        "        \n",
        "        continue\n",
        "        \n",
        "    else:\n",
        "        print(\"We are not looking for this\")"
      ],
      "execution_count": null,
      "outputs": [
        {
          "output_type": "stream",
          "name": "stdout",
          "text": [
            "Junk\n",
            "We are not looking for this\n",
            "Trash\n",
            "We are not looking for this\n",
            "Useless\n",
            "We are not looking for this\n",
            "Important File\n",
            "That's exactly what we were looking for :)\n",
            "Random File\n",
            "We are not looking for this\n"
          ]
        }
      ]
    },
    {
      "cell_type": "markdown",
      "metadata": {
        "id": "sJMPvdqW_2T-"
      },
      "source": [
        "Here lists are created: one with the numeric items and other with months. Skip which are 30 days, 28 days and print remaining which has 31 days  "
      ]
    },
    {
      "cell_type": "code",
      "metadata": {
        "id": "eYy9euOT_2T_",
        "outputId": "88dddb56-4e5a-4854-c473-9b2504b77c15",
        "colab": {
          "base_uri": "https://localhost:8080/"
        }
      },
      "source": [
        "num_days = [31, 28, 31, 30, 31, 30, 31, 31, 30, 31, 30, 31] \n",
        "months = [\"Jan\", \"Feb\",\"Mar\", \"Apr\", \"May\", \"Jun\", \"Jul\", \"Aug\", \"Sep\", \"Oct\", \"Nov\", \"Dec\"]\n",
        " \n",
        "new_dict = dict() \n",
        "\n",
        "for i, j in zip(months, num_days):\n",
        "    new_dict.update({i:j})\n",
        "    \n",
        "    if new_dict[i] < 29:  \n",
        "        continue\n",
        "        \n",
        "    else:\n",
        "        print(i, \"month has\", new_dict[i], \"days\")"
      ],
      "execution_count": null,
      "outputs": [
        {
          "output_type": "stream",
          "name": "stdout",
          "text": [
            "Jan month has 31 days\n",
            "Mar month has 31 days\n",
            "Apr month has 30 days\n",
            "May month has 31 days\n",
            "Jun month has 30 days\n",
            "Jul month has 31 days\n",
            "Aug month has 31 days\n",
            "Sep month has 30 days\n",
            "Oct month has 31 days\n",
            "Nov month has 30 days\n",
            "Dec month has 31 days\n"
          ]
        }
      ]
    },
    {
      "cell_type": "markdown",
      "metadata": {
        "id": "GG7OKQeh_2T_"
      },
      "source": [
        "Here we are using both break and continue keyword in this list"
      ]
    },
    {
      "cell_type": "code",
      "metadata": {
        "id": "Ly_HuNfP_2T_",
        "outputId": "fea8959a-d65c-4a2d-aadf-9b1cd8f78038",
        "colab": {
          "base_uri": "https://localhost:8080/"
        }
      },
      "source": [
        "animals = [\"Deer\", \"Rabbit\", \"Lion\", \"Dog\", \"Cat\", \"Elephant\", \"Giraffe\"]\n",
        "\n",
        "for pet in animals:\n",
        "    \n",
        "    if pet == \"Lion\":\n",
        "        \n",
        "        continue\n",
        "    if pet == \"Elephant\":\n",
        "        \n",
        "        break\n",
        "        \n",
        "    print (pet)"
      ],
      "execution_count": null,
      "outputs": [
        {
          "output_type": "stream",
          "name": "stdout",
          "text": [
            "Deer\n",
            "Rabbit\n",
            "Dog\n",
            "Cat\n"
          ]
        }
      ]
    },
    {
      "cell_type": "markdown",
      "metadata": {
        "id": "GqCQWdD7_2UC"
      },
      "source": [
        "#### Pass keyword"
      ]
    },
    {
      "cell_type": "markdown",
      "metadata": {
        "id": "AzwhKryP_2UC"
      },
      "source": [
        "The pass statement does nothing. It can be used when a statement is required syntactically but the program requires no action.\n",
        "\n",
        "The pass statement occurring after the if conditional statement is telling the program to continue to run the loop and ignore the fact that the variable number evaluates as equivalent to 5 during one of its iterations.\n",
        "\n",
        "The pass statement tells the program to disregard that condition and continue to run the program as usual.  This sttement is a null operation; nothing happens when it executes."
      ]
    },
    {
      "cell_type": "markdown",
      "metadata": {
        "id": "SIS2d8M9_2UC"
      },
      "source": [
        "The pass statement is used to write the empty loop"
      ]
    },
    {
      "cell_type": "code",
      "metadata": {
        "id": "-q3vLgDl_2UC",
        "outputId": "dc82310b-78dd-48a9-c7b1-355b11816f1d",
        "colab": {
          "base_uri": "https://localhost:8080/"
        }
      },
      "source": [
        "for letter in \"string\": \n",
        "    if letter == \"r\":\n",
        "        pass\n",
        "        \n",
        "    print (letter)        "
      ],
      "execution_count": null,
      "outputs": [
        {
          "output_type": "stream",
          "name": "stdout",
          "text": [
            "s\n",
            "t\n",
            "r\n",
            "i\n",
            "n\n",
            "g\n"
          ]
        }
      ]
    },
    {
      "cell_type": "markdown",
      "metadata": {
        "id": "aGM3fJAy_2UC"
      },
      "source": [
        "# print statements"
      ]
    },
    {
      "cell_type": "code",
      "metadata": {
        "id": "bYG3Jcad_2UC",
        "outputId": "33a3f1d0-5680-4f10-a14d-0458bb33f993",
        "colab": {
          "base_uri": "https://localhost:8080/"
        }
      },
      "source": [
        "for letter in \"string\": \n",
        "    \n",
        "    if letter == \"r\":\n",
        "        \n",
        "        pass\n",
        "        print(\"This is the pass block\")\n",
        "    \n",
        "    else:   \n",
        "        print (\"Current Letter :\", letter)\n",
        "print (\"out of the loop\")"
      ],
      "execution_count": null,
      "outputs": [
        {
          "output_type": "stream",
          "name": "stdout",
          "text": [
            "Current Letter : s\n",
            "Current Letter : t\n",
            "This is the pass block\n",
            "Current Letter : i\n",
            "Current Letter : n\n",
            "Current Letter : g\n",
            "out of the loop\n"
          ]
        }
      ]
    },
    {
      "cell_type": "markdown",
      "metadata": {
        "id": "8MAElldA_2UC"
      },
      "source": [
        "program for getting all the odd numbers"
      ]
    },
    {
      "cell_type": "code",
      "metadata": {
        "id": "7RG3RVpO_2UC",
        "outputId": "f7340fd7-3c3e-4da3-d7ee-f1fb70a3ced9",
        "colab": {
          "base_uri": "https://localhost:8080/"
        }
      },
      "source": [
        "for i in range(10):\n",
        "    \n",
        "    if(i % 2 == 0):\n",
        "        pass\n",
        "    \n",
        "    else:\n",
        "        print(i)"
      ],
      "execution_count": null,
      "outputs": [
        {
          "output_type": "stream",
          "name": "stdout",
          "text": [
            "1\n",
            "3\n",
            "5\n",
            "7\n",
            "9\n"
          ]
        }
      ]
    },
    {
      "cell_type": "markdown",
      "metadata": {
        "id": "xfX7tK-Z_2UC"
      },
      "source": [
        "The difference becomes apparent if we added another statement after the if: After executing pass,  this further statement would be executed"
      ]
    },
    {
      "cell_type": "code",
      "metadata": {
        "id": "ocES9is0_2UD",
        "outputId": "8c27f6e4-d2cb-48e0-a7fc-e0eeed374dd5",
        "colab": {
          "base_uri": "https://localhost:8080/"
        }
      },
      "source": [
        "odd_count = 0\n",
        "total_count = 0\n",
        "\n",
        "for i in range(10):\n",
        "    \n",
        "    if(i % 2 == 0):\n",
        "        pass\n",
        "    \n",
        "    else:\n",
        "        print(i)\n",
        "        odd_count += 1\n",
        "        \n",
        "    total_count += 1\n",
        "    \n",
        "    print(\"Count of odd numbers: \", odd_count)\n",
        "    print(\"Total count of numbers: \", total_count, \"\\n\")"
      ],
      "execution_count": null,
      "outputs": [
        {
          "output_type": "stream",
          "name": "stdout",
          "text": [
            "Count of odd numbers:  0\n",
            "Total count of numbers:  1 \n",
            "\n",
            "1\n",
            "Count of odd numbers:  1\n",
            "Total count of numbers:  2 \n",
            "\n",
            "Count of odd numbers:  1\n",
            "Total count of numbers:  3 \n",
            "\n",
            "3\n",
            "Count of odd numbers:  2\n",
            "Total count of numbers:  4 \n",
            "\n",
            "Count of odd numbers:  2\n",
            "Total count of numbers:  5 \n",
            "\n",
            "5\n",
            "Count of odd numbers:  3\n",
            "Total count of numbers:  6 \n",
            "\n",
            "Count of odd numbers:  3\n",
            "Total count of numbers:  7 \n",
            "\n",
            "7\n",
            "Count of odd numbers:  4\n",
            "Total count of numbers:  8 \n",
            "\n",
            "Count of odd numbers:  4\n",
            "Total count of numbers:  9 \n",
            "\n",
            "9\n",
            "Count of odd numbers:  5\n",
            "Total count of numbers:  10 \n",
            "\n"
          ]
        }
      ]
    },
    {
      "cell_type": "markdown",
      "metadata": {
        "id": "malaxd2i_2UD"
      },
      "source": [
        "Write a python program that accepts a string and calculate the number of digits and letters.\n",
        "\n",
        "Enter the following strings:\n",
        "* python3\n",
        "* python$$3"
      ]
    },
    {
      "cell_type": "code",
      "metadata": {
        "id": "P_FmR3Jf_2UD",
        "outputId": "2007126f-0973-43ca-8150-6286a823fc11",
        "colab": {
          "base_uri": "https://localhost:8080/"
        }
      },
      "source": [
        "my_str = input (\"Input a string: \")\n",
        "\n",
        "digits = 0\n",
        "letters = 0\n",
        "\n",
        "for i in my_str:\n",
        "    if i.isdigit():\n",
        "        digits = digits + 1\n",
        "        \n",
        "    elif i.isalpha():\n",
        "        letters = letters + 1\n",
        "        \n",
        "    else:\n",
        "        pass\n",
        "    \n",
        "print(\"Digits = \", digits)\n",
        "print(\"Letters = \", letters)        "
      ],
      "execution_count": null,
      "outputs": [
        {
          "output_type": "stream",
          "name": "stdout",
          "text": [
            "Input a string: python$%#2\n",
            "Digits =  1\n",
            "Letters =  6\n"
          ]
        }
      ]
    },
    {
      "cell_type": "markdown",
      "metadata": {
        "id": "M2sQkErl_2UD"
      },
      "source": [
        "\"Write a program that accepts a sentence and calculate the number of upper case letters and lower case letters.\n",
        "Suppose the following input is supplied to the program:\n",
        "Hello world!\n",
        "Then, the output should be:\n",
        "UPPER CASE 1\n",
        "LOWER CASE 9\""
      ]
    },
    {
      "cell_type": "markdown",
      "metadata": {
        "id": "gcyv8CDG_2UD"
      },
      "source": [
        "Your Time Is Limited, So Don't Waste It Living Someone Else's Life."
      ]
    },
    {
      "cell_type": "code",
      "metadata": {
        "id": "9B2G8y9Z_2UD",
        "outputId": "3643b2df-4d5d-4c83-d0e8-c3ffedea4a60",
        "colab": {
          "base_uri": "https://localhost:8080/"
        }
      },
      "source": [
        "sentence = input(\"Pass In A Sentence : \")\n",
        "\n",
        "case = {\"upper_case\":0, \"lower_case\":0}\n",
        "\n",
        "for i in sentence:    \n",
        "    if i.isupper():\n",
        "        case[\"upper_case\"] += 1\n",
        "        \n",
        "    elif i.islower():\n",
        "            case[\"lower_case\"] += 1\n",
        "            \n",
        "    else:\n",
        "        pass\n",
        "\n",
        "print (\"no. of upper case characters : \", case[\"upper_case\"])\n",
        "print (\"no. of lower case Characters : \", case[\"lower_case\"])"
      ],
      "execution_count": null,
      "outputs": [
        {
          "output_type": "stream",
          "name": "stdout",
          "text": [
            "Pass In A Sentence : The rain in Spain is mainly in the Plain\n",
            "no. of upper case characters :  3\n",
            "no. of lower case Characters :  29\n"
          ]
        }
      ]
    },
    {
      "cell_type": "markdown",
      "metadata": {
        "id": "JDVHsHoH_2UD"
      },
      "source": [
        "let's see the difference between **break continue and pass** with one example"
      ]
    },
    {
      "cell_type": "code",
      "metadata": {
        "id": "OiyD-6jT_2UD",
        "outputId": "687a6efa-a6e5-47b8-835b-f7fd7c62d722",
        "colab": {
          "base_uri": "https://localhost:8080/"
        }
      },
      "source": [
        "for i in range(10):\n",
        "    \n",
        "    print(i)\n",
        "    \n",
        "    if i > 3:\n",
        "        break\n",
        "        \n",
        "    else:\n",
        "        print(\"hello\")\n",
        "        \n",
        "    print(\"end of an iteration of the for loop\")"
      ],
      "execution_count": null,
      "outputs": [
        {
          "output_type": "stream",
          "name": "stdout",
          "text": [
            "0\n",
            "hello\n",
            "end of an iteration of the for loop\n",
            "1\n",
            "hello\n",
            "end of an iteration of the for loop\n",
            "2\n",
            "hello\n",
            "end of an iteration of the for loop\n",
            "3\n",
            "hello\n",
            "end of an iteration of the for loop\n",
            "4\n"
          ]
        }
      ]
    },
    {
      "cell_type": "markdown",
      "metadata": {
        "id": "lvqocY4g_2UD"
      },
      "source": [
        "here continue doesn't break out of the loop. it does not contine going down instead it goes back to the begining of the loop."
      ]
    },
    {
      "cell_type": "code",
      "metadata": {
        "id": "Z2HqVdKF_2UD",
        "outputId": "b5d92d93-b1b0-46a8-97f5-6e007576e3ef",
        "colab": {
          "base_uri": "https://localhost:8080/"
        }
      },
      "source": [
        "for i in range(10):\n",
        "    \n",
        "    print(i)\n",
        "    \n",
        "    if i > 3:\n",
        "        continue\n",
        "        \n",
        "    else:\n",
        "        print(\"hello\")\n",
        "        \n",
        "    print(\"end of an iteration of the for loop\")"
      ],
      "execution_count": null,
      "outputs": [
        {
          "output_type": "stream",
          "name": "stdout",
          "text": [
            "0\n",
            "hello\n",
            "end of an iteration of the for loop\n",
            "1\n",
            "hello\n",
            "end of an iteration of the for loop\n",
            "2\n",
            "hello\n",
            "end of an iteration of the for loop\n",
            "3\n",
            "hello\n",
            "end of an iteration of the for loop\n",
            "4\n",
            "5\n",
            "6\n",
            "7\n",
            "8\n",
            "9\n"
          ]
        }
      ]
    },
    {
      "cell_type": "markdown",
      "metadata": {
        "id": "s0KEAum6_2UD"
      },
      "source": [
        "pass is nothing but do nothing"
      ]
    },
    {
      "cell_type": "code",
      "metadata": {
        "scrolled": true,
        "id": "iILK35Fm_2UD",
        "outputId": "55f9614b-f193-4eb0-f99d-805bf36e8c19",
        "colab": {
          "base_uri": "https://localhost:8080/"
        }
      },
      "source": [
        "for i in range(10):\n",
        "    \n",
        "    print(i)\n",
        "    \n",
        "    if i > 3:\n",
        "        pass\n",
        "    \n",
        "    else:\n",
        "        print(\"hello\")\n",
        "        \n",
        "    print(\"end of an iteration of the for loop\")    \n",
        "        "
      ],
      "execution_count": null,
      "outputs": [
        {
          "output_type": "stream",
          "name": "stdout",
          "text": [
            "0\n",
            "hello\n",
            "end of an iteration of the for loop\n",
            "1\n",
            "hello\n",
            "end of an iteration of the for loop\n",
            "2\n",
            "hello\n",
            "end of an iteration of the for loop\n",
            "3\n",
            "hello\n",
            "end of an iteration of the for loop\n",
            "4\n",
            "end of an iteration of the for loop\n",
            "5\n",
            "end of an iteration of the for loop\n",
            "6\n",
            "end of an iteration of the for loop\n",
            "7\n",
            "end of an iteration of the for loop\n",
            "8\n",
            "end of an iteration of the for loop\n",
            "9\n",
            "end of an iteration of the for loop\n"
          ]
        }
      ]
    },
    {
      "cell_type": "markdown",
      "metadata": {
        "id": "dpUn6mSm_2UE"
      },
      "source": [
        "### List Comprehension\n",
        "#### An elegant way to define and create lists in python.  List comprehension allows you to generate a list of numbers from another list of numbes"
      ]
    },
    {
      "cell_type": "code",
      "metadata": {
        "collapsed": true,
        "id": "y4hJusEI_2UE"
      },
      "source": [
        "num = range(10)"
      ],
      "execution_count": 41,
      "outputs": []
    },
    {
      "cell_type": "code",
      "metadata": {
        "id": "pU268_4W_2UE",
        "outputId": "2e3b9ada-94db-4e12-f042-9aa334353977",
        "colab": {
          "base_uri": "https://localhost:8080/"
        }
      },
      "source": [
        "[x * x for x in num]"
      ],
      "execution_count": 42,
      "outputs": [
        {
          "output_type": "execute_result",
          "data": {
            "text/plain": [
              "[0, 1, 4, 9, 16, 25, 36, 49, 64, 81]"
            ]
          },
          "metadata": {},
          "execution_count": 42
        }
      ]
    },
    {
      "cell_type": "code",
      "metadata": {
        "id": "nBpIG06Q_2UE",
        "outputId": "226a41d1-37cf-4cfa-e38f-9be4ff82af3f",
        "colab": {
          "base_uri": "https://localhost:8080/"
        }
      },
      "source": [
        "letters = [letter for letter in \"anxiety\"]\n",
        "\n",
        "print (letters)"
      ],
      "execution_count": 43,
      "outputs": [
        {
          "output_type": "stream",
          "name": "stdout",
          "text": [
            "['a', 'n', 'x', 'i', 'e', 't', 'y']\n"
          ]
        }
      ]
    },
    {
      "cell_type": "code",
      "metadata": {
        "id": "cIyEM_lE_2UE",
        "outputId": "ed503151-3861-4ffd-9682-375a27f499ed",
        "colab": {
          "base_uri": "https://localhost:8080/"
        }
      },
      "source": [
        "list_of_words = [\"this\", \"is\", \"a\", \"list\", \"of\", \"words\"]\n",
        "\n",
        "items = [word[0] for word in list_of_words]\n",
        "\n",
        "print (items)"
      ],
      "execution_count": 44,
      "outputs": [
        {
          "output_type": "stream",
          "name": "stdout",
          "text": [
            "['t', 'i', 'a', 'l', 'o', 'w']\n"
          ]
        }
      ]
    },
    {
      "cell_type": "code",
      "metadata": {
        "id": "0rZWuE4H_2UE",
        "outputId": "6fe0b2b9-ff59-462a-eede-0725b49160f9",
        "colab": {
          "base_uri": "https://localhost:8080/"
        }
      },
      "source": [
        "[word[0].upper() for word in list_of_words]"
      ],
      "execution_count": 45,
      "outputs": [
        {
          "output_type": "execute_result",
          "data": {
            "text/plain": [
              "['T', 'I', 'A', 'L', 'O', 'W']"
            ]
          },
          "metadata": {},
          "execution_count": 45
        }
      ]
    },
    {
      "cell_type": "code",
      "metadata": {
        "id": "ROg6EwZi_2UE",
        "outputId": "149f1c61-d919-47af-a0d7-facac8c5e9e0",
        "colab": {
          "base_uri": "https://localhost:8080/"
        }
      },
      "source": [
        "[word.upper() for word in list_of_words]"
      ],
      "execution_count": 46,
      "outputs": [
        {
          "output_type": "execute_result",
          "data": {
            "text/plain": [
              "['THIS', 'IS', 'A', 'LIST', 'OF', 'WORDS']"
            ]
          },
          "metadata": {},
          "execution_count": 46
        }
      ]
    },
    {
      "cell_type": "markdown",
      "metadata": {
        "id": "0X5yOxI1_2UE"
      },
      "source": [
        "####  conditional expressions with for loops"
      ]
    },
    {
      "cell_type": "code",
      "metadata": {
        "id": "ix2qM8J-_2UE",
        "outputId": "c22d3781-9b10-4d23-c17d-9d92b48db887",
        "colab": {
          "base_uri": "https://localhost:8080/"
        }
      },
      "source": [
        "[x * x for x in num if x % 2 != 0]"
      ],
      "execution_count": 47,
      "outputs": [
        {
          "output_type": "execute_result",
          "data": {
            "text/plain": [
              "[1, 9, 25, 49, 81]"
            ]
          },
          "metadata": {},
          "execution_count": 47
        }
      ]
    },
    {
      "cell_type": "code",
      "metadata": {
        "id": "er9ycz6j_2UE",
        "outputId": "2766298b-8657-4241-c19b-a2fd971da84d",
        "colab": {
          "base_uri": "https://localhost:8080/"
        }
      },
      "source": [
        "number_list = [number for number in range(20) if number % 2 == 0]\n",
        "\n",
        "print(number_list)"
      ],
      "execution_count": 48,
      "outputs": [
        {
          "output_type": "stream",
          "name": "stdout",
          "text": [
            "[0, 2, 4, 6, 8, 10, 12, 14, 16, 18]\n"
          ]
        }
      ]
    },
    {
      "cell_type": "markdown",
      "metadata": {
        "id": "uFydH47j_2UF"
      },
      "source": [
        "numbers that are divisible between 0 and 300 that are divisible by 27."
      ]
    },
    {
      "cell_type": "code",
      "metadata": {
        "id": "kpOxIIxf_2UF",
        "outputId": "2fc23496-da56-4cf5-942a-655d90e4508a",
        "colab": {
          "base_uri": "https://localhost:8080/"
        }
      },
      "source": [
        "multiples_27 = [i for i in range(300) if i % 27 == 0]\n",
        "\n",
        "print(multiples_27)"
      ],
      "execution_count": 49,
      "outputs": [
        {
          "output_type": "stream",
          "name": "stdout",
          "text": [
            "[0, 27, 54, 81, 108, 135, 162, 189, 216, 243, 270, 297]\n"
          ]
        }
      ]
    },
    {
      "cell_type": "code",
      "metadata": {
        "id": "zcin8uOp_2UF",
        "outputId": "34ab16fa-ce0a-4c55-cc75-61d25b3cfd3f",
        "colab": {
          "base_uri": "https://localhost:8080/"
        }
      },
      "source": [
        "[i for i in \"MATHEMATICS\" if i in [\"A\", \"E\", \"I\", \"O\", \"U\"]]"
      ],
      "execution_count": 50,
      "outputs": [
        {
          "output_type": "execute_result",
          "data": {
            "text/plain": [
              "['A', 'E', 'A', 'I']"
            ]
          },
          "metadata": {},
          "execution_count": 50
        }
      ]
    },
    {
      "cell_type": "markdown",
      "metadata": {
        "id": "XR5kjEQ3_2UF"
      },
      "source": [
        "Extracting all the numbers from a string"
      ]
    },
    {
      "cell_type": "code",
      "metadata": {
        "id": "3gijEaeA_2UF",
        "outputId": "ff89993e-6d84-4299-fb67-0c359fa4fe5d",
        "colab": {
          "base_uri": "https://localhost:8080/"
        }
      },
      "source": [
        "string = \"Hello 12345 World\"\n",
        "\n",
        "numbers = [int(x) for x in string if x.isdigit()]\n",
        "\n",
        "print (numbers)"
      ],
      "execution_count": 51,
      "outputs": [
        {
          "output_type": "stream",
          "name": "stdout",
          "text": [
            "[1, 2, 3, 4, 5]\n"
          ]
        }
      ]
    },
    {
      "cell_type": "markdown",
      "metadata": {
        "id": "G2mc7ifk_2UF"
      },
      "source": [
        "Extracting all the alpha from string"
      ]
    },
    {
      "cell_type": "code",
      "metadata": {
        "id": "uM3oKxjP_2UF",
        "outputId": "e3577ede-cec8-4626-ea12-f8b354550cfa",
        "colab": {
          "base_uri": "https://localhost:8080/"
        }
      },
      "source": [
        "alpha = [x for x in string if x.isalpha()]\n",
        "\n",
        "print (alpha)"
      ],
      "execution_count": 52,
      "outputs": [
        {
          "output_type": "stream",
          "name": "stdout",
          "text": [
            "['H', 'e', 'l', 'l', 'o', 'W', 'o', 'r', 'l', 'd']\n"
          ]
        }
      ]
    },
    {
      "cell_type": "markdown",
      "metadata": {
        "id": "PA7Rq6Ik_2UF"
      },
      "source": [
        "#### nested for"
      ]
    },
    {
      "cell_type": "code",
      "metadata": {
        "id": "xV_R1z9y_2UF",
        "outputId": "be9310e6-8e52-45f9-f4d7-547ddfafa96a",
        "colab": {
          "base_uri": "https://localhost:8080/"
        }
      },
      "source": [
        "stationery = [\"Pen\", \"Marker\", \"Ink\"]\n",
        "colors = [\"Red\", \"Blue\", \"Green\"]\n",
        "\n",
        "combined = [(i, j) for j in stationery for i in colors ]\n",
        "\n",
        "combined"
      ],
      "execution_count": 53,
      "outputs": [
        {
          "output_type": "execute_result",
          "data": {
            "text/plain": [
              "[('Red', 'Pen'),\n",
              " ('Blue', 'Pen'),\n",
              " ('Green', 'Pen'),\n",
              " ('Red', 'Marker'),\n",
              " ('Blue', 'Marker'),\n",
              " ('Green', 'Marker'),\n",
              " ('Red', 'Ink'),\n",
              " ('Blue', 'Ink'),\n",
              " ('Green', 'Ink')]"
            ]
          },
          "metadata": {},
          "execution_count": 53
        }
      ]
    },
    {
      "cell_type": "markdown",
      "metadata": {
        "id": "ZAWOjsDb_2UF"
      },
      "source": [
        "#### nested if"
      ]
    },
    {
      "cell_type": "code",
      "metadata": {
        "id": "EqXHkZwO_2UF",
        "outputId": "f1832663-6882-4469-ffe2-cb6dbe04b5d0",
        "colab": {
          "base_uri": "https://localhost:8080/"
        }
      },
      "source": [
        "number_list = [number for number in range(51) if number % 2 == 0 if number % 5 == 0]\n",
        "\n",
        "print(number_list)"
      ],
      "execution_count": 54,
      "outputs": [
        {
          "output_type": "stream",
          "name": "stdout",
          "text": [
            "[0, 10, 20, 30, 40, 50]\n"
          ]
        }
      ]
    },
    {
      "cell_type": "markdown",
      "metadata": {
        "id": "DtHXEhXK_2UF"
      },
      "source": [
        "if-else"
      ]
    },
    {
      "cell_type": "code",
      "metadata": {
        "id": "_4lf_XCU_2UF",
        "outputId": "56ec6ba2-66ae-46f1-98b9-a559dbe74b05",
        "colab": {
          "base_uri": "https://localhost:8080/"
        }
      },
      "source": [
        "num = [\"Even\" if i % 2 == 0 else \"Odd\" for i in range(10)]\n",
        "print(num)"
      ],
      "execution_count": 55,
      "outputs": [
        {
          "output_type": "stream",
          "name": "stdout",
          "text": [
            "['Even', 'Odd', 'Even', 'Odd', 'Even', 'Odd', 'Even', 'Odd', 'Even', 'Odd']\n"
          ]
        }
      ]
    },
    {
      "cell_type": "code",
      "metadata": {
        "id": "_fi4hOQR_2UG",
        "outputId": "9966f890-a67f-4130-dd8b-ce3c2a48df30",
        "colab": {
          "base_uri": "https://localhost:8080/"
        }
      },
      "source": [
        "numbers = [22, 30, 45, 50, 18, 69, 43, 44, 12]\n",
        "\n",
        "[x + 1  if x >= 45  else  x + 5  for x in numbers]"
      ],
      "execution_count": 56,
      "outputs": [
        {
          "output_type": "execute_result",
          "data": {
            "text/plain": [
              "[27, 35, 46, 51, 23, 70, 48, 49, 17]"
            ]
          },
          "metadata": {},
          "execution_count": 56
        }
      ]
    },
    {
      "cell_type": "code",
      "metadata": {
        "id": "kOK77u5O_2UG",
        "outputId": "ad73085c-5760-43fd-9f72-d3a1a76b06aa",
        "colab": {
          "base_uri": "https://localhost:8080/"
        }
      },
      "source": [
        "z = [\"small\" if number < 20 else \"large\" for number in numbers if number % 2 == 0 if number % 3 == 0]\n",
        "\n",
        "print(z)"
      ],
      "execution_count": 57,
      "outputs": [
        {
          "output_type": "stream",
          "name": "stdout",
          "text": [
            "['large', 'small', 'small']\n"
          ]
        }
      ]
    },
    {
      "cell_type": "markdown",
      "metadata": {
        "id": "gEgdyxTo_2UG"
      },
      "source": [
        "#### Nested list comprehension"
      ]
    },
    {
      "cell_type": "code",
      "metadata": {
        "id": "tRFS43SS_2UG",
        "outputId": "ddeed378-92b8-4d23-bbaf-c20e2a88b15c",
        "colab": {
          "base_uri": "https://localhost:8080/"
        }
      },
      "source": [
        "[ [ 1 if item_idx == row_idx else 0 for item_idx in range(0, 3) ] for row_idx in range(0, 3) ]"
      ],
      "execution_count": 58,
      "outputs": [
        {
          "output_type": "execute_result",
          "data": {
            "text/plain": [
              "[[1, 0, 0], [0, 1, 0], [0, 0, 1]]"
            ]
          },
          "metadata": {},
          "execution_count": 58
        }
      ]
    },
    {
      "cell_type": "markdown",
      "metadata": {
        "id": "LBc2dBCT_2UG"
      },
      "source": [
        "Transpose of a Matrix using List Comprehension<br>\n",
        "Find transpose of a matrix using nested loop inside list comprehension."
      ]
    },
    {
      "cell_type": "code",
      "metadata": {
        "id": "Q2B0pflt_2UG",
        "outputId": "d40281e3-6654-4a26-aead-670856f82812",
        "colab": {
          "base_uri": "https://localhost:8080/"
        }
      },
      "source": [
        "matrix = [[1, 2], [3,4], [5,6], [7,8]]\n",
        "\n",
        "transpose = [[row[i] for row in matrix] for i in range(2)]\n",
        "print (transpose)"
      ],
      "execution_count": 59,
      "outputs": [
        {
          "output_type": "stream",
          "name": "stdout",
          "text": [
            "[[1, 3, 5, 7], [2, 4, 6, 8]]\n"
          ]
        }
      ]
    },
    {
      "cell_type": "code",
      "metadata": {
        "id": "dbBkTu0c_2UG",
        "outputId": "d1ce1dcf-4180-4ebb-d3f8-67cb37e1494a",
        "colab": {
          "base_uri": "https://localhost:8080/"
        }
      },
      "source": [
        "flattened = [item for row in matrix for item in row]\n",
        "print (flattened)"
      ],
      "execution_count": 60,
      "outputs": [
        {
          "output_type": "stream",
          "name": "stdout",
          "text": [
            "[1, 2, 3, 4, 5, 6, 7, 8]\n"
          ]
        }
      ]
    },
    {
      "cell_type": "markdown",
      "metadata": {
        "id": "pBFJrTbz_2UG"
      },
      "source": [
        "##### Generator Comprehensions\n",
        "\n",
        "Generator Comprehensions are very similar to list comprehensions.  One difference between them is that generator comprhensions use circular brackets whereas list comprehensions use square brackets.  The major difference between them is that generators don't allocate memory for the whole list.  Instead, they generate each value one by one which is why they are memory efficient."
      ]
    },
    {
      "cell_type": "code",
      "metadata": {
        "id": "OCQeHfPp_2UG",
        "outputId": "d19c3935-89f0-4f7f-eac3-d23a3ebd9e59",
        "colab": {
          "base_uri": "https://localhost:8080/"
        }
      },
      "source": [
        "input_list = [1, 2, 3, 4, 5, 6, 7]\n",
        "\n",
        "output_gen = (var for var in input_list if var % 2 == 0)\n",
        "\n",
        "print(output_gen)"
      ],
      "execution_count": 61,
      "outputs": [
        {
          "output_type": "stream",
          "name": "stdout",
          "text": [
            "<generator object <genexpr> at 0x7feddcd56c50>\n"
          ]
        }
      ]
    },
    {
      "cell_type": "markdown",
      "metadata": {
        "id": "3aGgjT8T_2UH"
      },
      "source": [
        "If we want to print the output for generator expressions, we can simply iterate it over generator object"
      ]
    },
    {
      "cell_type": "code",
      "metadata": {
        "id": "Izc2Sug0_2UH",
        "outputId": "4fef337b-714d-4ca1-8dee-5997f27d768f",
        "colab": {
          "base_uri": "https://localhost:8080/"
        }
      },
      "source": [
        "for i in output_gen:\n",
        "    print(i)"
      ],
      "execution_count": 62,
      "outputs": [
        {
          "output_type": "stream",
          "name": "stdout",
          "text": [
            "2\n",
            "4\n",
            "6\n"
          ]
        }
      ]
    },
    {
      "cell_type": "markdown",
      "metadata": {
        "id": "fSloJkac_2UH"
      },
      "source": [
        "Generator expression allows creating a generator on a fly without a yield keyword. However, it doesn't share the whole power of genertor created with a yield function."
      ]
    },
    {
      "cell_type": "code",
      "metadata": {
        "id": "EI6NK0LS_2UH",
        "outputId": "537e6fbf-9dd4-47fe-d5db-63b97354e6d4",
        "colab": {
          "base_uri": "https://localhost:8080/"
        }
      },
      "source": [
        "gen_exp = (x ** 2 for x in range(10) if x % 2 == 0)\n",
        "\n",
        "for x in gen_exp:\n",
        "    print(x)"
      ],
      "execution_count": 64,
      "outputs": [
        {
          "output_type": "stream",
          "name": "stdout",
          "text": [
            "0\n",
            "4\n",
            "16\n",
            "36\n",
            "64\n"
          ]
        }
      ]
    },
    {
      "cell_type": "markdown",
      "metadata": {
        "id": "sy0NpPRA_2UH"
      },
      "source": [
        "##### Set comprehension\n",
        "The code creates a set of all the first letters in a sequence of words\n",
        "\n",
        "you become what you believe"
      ]
    },
    {
      "cell_type": "code",
      "metadata": {
        "id": "-Xf0_R1P_2UH",
        "outputId": "5a888996-4ca5-4db8-c620-1b08a1cddca0",
        "colab": {
          "base_uri": "https://localhost:8080/"
        }
      },
      "source": [
        "sentence = input(\"write a sentence: \")\n",
        "\n",
        "words = sentence.split()\n",
        "words"
      ],
      "execution_count": 65,
      "outputs": [
        {
          "name": "stdout",
          "output_type": "stream",
          "text": [
            "write a sentence: you become what you believe\n"
          ]
        },
        {
          "output_type": "execute_result",
          "data": {
            "text/plain": [
              "['you', 'become', 'what', 'you', 'believe']"
            ]
          },
          "metadata": {},
          "execution_count": 65
        }
      ]
    },
    {
      "cell_type": "code",
      "source": [
        "first_letters1 = [w[0] for w in words]\n",
        "\n",
        "first_letters1"
      ],
      "metadata": {
        "colab": {
          "base_uri": "https://localhost:8080/"
        },
        "id": "0KPWkc-gl19f",
        "outputId": "45849c07-0605-45f8-f0c6-000eabb5da63"
      },
      "execution_count": 66,
      "outputs": [
        {
          "output_type": "execute_result",
          "data": {
            "text/plain": [
              "['y', 'b', 'w', 'y', 'b']"
            ]
          },
          "metadata": {},
          "execution_count": 66
        }
      ]
    },
    {
      "cell_type": "code",
      "metadata": {
        "id": "hJBon37A_2UH",
        "outputId": "60e4310b-9a32-44f1-9e90-8d4783a83690",
        "colab": {
          "base_uri": "https://localhost:8080/"
        }
      },
      "source": [
        "first_letters = {w[0] for w in words}\n",
        "\n",
        "first_letters"
      ],
      "execution_count": 67,
      "outputs": [
        {
          "output_type": "execute_result",
          "data": {
            "text/plain": [
              "{'b', 'w', 'y'}"
            ]
          },
          "metadata": {},
          "execution_count": 67
        }
      ]
    },
    {
      "cell_type": "markdown",
      "metadata": {
        "id": "x3FDyU3v_2UH"
      },
      "source": [
        "##### Dictionary comprehension\n",
        "Code that makes a new dictionary by swapping the keys and values of the original one:"
      ]
    },
    {
      "cell_type": "code",
      "metadata": {
        "id": "2nSxr4T1_2UH",
        "outputId": "f8313a82-0249-46f9-b111-f5b655c39631",
        "colab": {
          "base_uri": "https://localhost:8080/"
        }
      },
      "source": [
        "original = {\"alpha\":\"a\", \"beta\":\"b\", \"gamma\":\"g\"}\n",
        "\n",
        "flipped = {value: key for key, value in original.items()}\n",
        "\n",
        "flipped"
      ],
      "execution_count": 68,
      "outputs": [
        {
          "output_type": "execute_result",
          "data": {
            "text/plain": [
              "{'a': 'alpha', 'b': 'beta', 'g': 'gamma'}"
            ]
          },
          "metadata": {},
          "execution_count": 68
        }
      ]
    },
    {
      "cell_type": "code",
      "metadata": {
        "id": "nQT2N1Im_2UH",
        "outputId": "dd7c2b1c-bc3a-4f87-9f36-4f7d6e9d2071",
        "colab": {
          "base_uri": "https://localhost:8080/"
        }
      },
      "source": [
        "objects = [\"lunchbox\", \"candles\", \"tape\"]\n",
        "price = [13, 17, 6]\n",
        "\n",
        "dict_obj = {key:value for (key, value) in zip (objects, price)}\n",
        "\n",
        "print(dict_obj)"
      ],
      "execution_count": 69,
      "outputs": [
        {
          "output_type": "stream",
          "name": "stdout",
          "text": [
            "{'lunchbox': 13, 'candles': 17, 'tape': 6}\n"
          ]
        }
      ]
    },
    {
      "cell_type": "markdown",
      "metadata": {
        "id": "e90xMBP0_2UH"
      },
      "source": [
        "#### Python Program to Create a List of Tuples with the First Element as the Number and Second Element as the Square of the Number\n"
      ]
    },
    {
      "cell_type": "code",
      "metadata": {
        "id": "xcEQN0j-_2UH",
        "outputId": "533c3537-d5f1-4708-e902-e60f22c1d528",
        "colab": {
          "base_uri": "https://localhost:8080/"
        }
      },
      "source": [
        "num_1 = int(input(\"enter a number: \"))\n",
        "num_2 = int(input(\"enter another number: \"))\n",
        "\n",
        "a = [(x, x ** 2) for x in (num_1, num_2)]\n",
        "\n",
        "print(a)"
      ],
      "execution_count": 70,
      "outputs": [
        {
          "output_type": "stream",
          "name": "stdout",
          "text": [
            "enter a number: 3\n",
            "enter another number: 8\n",
            "[(3, 9), (8, 64)]\n"
          ]
        }
      ]
    }
  ]
}