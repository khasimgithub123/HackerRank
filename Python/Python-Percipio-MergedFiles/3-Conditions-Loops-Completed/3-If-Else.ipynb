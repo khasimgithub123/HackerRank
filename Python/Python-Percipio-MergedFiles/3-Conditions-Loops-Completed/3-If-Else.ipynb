{
 "cells": [
  {
   "cell_type": "code",
   "execution_count": 1,
   "metadata": {},
   "outputs": [
    {
     "data": {
      "text/plain": [
       "True"
      ]
     },
     "execution_count": 1,
     "metadata": {},
     "output_type": "execute_result"
    }
   ],
   "source": [
    "10 == 10"
   ]
  },
  {
   "cell_type": "code",
   "execution_count": 2,
   "metadata": {},
   "outputs": [
    {
     "data": {
      "text/plain": [
       "False"
      ]
     },
     "execution_count": 2,
     "metadata": {},
     "output_type": "execute_result"
    }
   ],
   "source": [
    "10 == 20"
   ]
  },
  {
   "cell_type": "code",
   "execution_count": 3,
   "metadata": {},
   "outputs": [
    {
     "data": {
      "text/plain": [
       "False"
      ]
     },
     "execution_count": 3,
     "metadata": {},
     "output_type": "execute_result"
    }
   ],
   "source": [
    "20 == \"Hello\""
   ]
  },
  {
   "cell_type": "code",
   "execution_count": 4,
   "metadata": {},
   "outputs": [
    {
     "ename": "SyntaxError",
     "evalue": "can't assign to literal (<ipython-input-4-d36b08588c45>, line 1)",
     "output_type": "error",
     "traceback": [
      "\u001b[0;36m  File \u001b[0;32m\"<ipython-input-4-d36b08588c45>\"\u001b[0;36m, line \u001b[0;32m1\u001b[0m\n\u001b[0;31m    20 = \"Hello\"\u001b[0m\n\u001b[0m                ^\u001b[0m\n\u001b[0;31mSyntaxError\u001b[0m\u001b[0;31m:\u001b[0m can't assign to literal\n"
     ]
    }
   ],
   "source": [
    "20 = \"Hello\""
   ]
  },
  {
   "cell_type": "code",
   "execution_count": 5,
   "metadata": {},
   "outputs": [
    {
     "data": {
      "text/plain": [
       "False"
      ]
     },
     "execution_count": 5,
     "metadata": {},
     "output_type": "execute_result"
    }
   ],
   "source": [
    "\"Hello\" == 20"
   ]
  },
  {
   "cell_type": "code",
   "execution_count": 6,
   "metadata": {},
   "outputs": [
    {
     "data": {
      "text/plain": [
       "True"
      ]
     },
     "execution_count": 6,
     "metadata": {},
     "output_type": "execute_result"
    }
   ],
   "source": [
    "\"Hello\" == \"Hello\""
   ]
  },
  {
   "cell_type": "code",
   "execution_count": 7,
   "metadata": {},
   "outputs": [
    {
     "data": {
      "text/plain": [
       "False"
      ]
     },
     "execution_count": 7,
     "metadata": {},
     "output_type": "execute_result"
    }
   ],
   "source": [
    "20 != 20"
   ]
  },
  {
   "cell_type": "code",
   "execution_count": 8,
   "metadata": {},
   "outputs": [
    {
     "data": {
      "text/plain": [
       "True"
      ]
     },
     "execution_count": 8,
     "metadata": {},
     "output_type": "execute_result"
    }
   ],
   "source": [
    "20 != 10"
   ]
  },
  {
   "cell_type": "code",
   "execution_count": 9,
   "metadata": {},
   "outputs": [
    {
     "data": {
      "text/plain": [
       "True"
      ]
     },
     "execution_count": 9,
     "metadata": {},
     "output_type": "execute_result"
    }
   ],
   "source": [
    "20 != \"Hello\""
   ]
  },
  {
   "cell_type": "code",
   "execution_count": 10,
   "metadata": {},
   "outputs": [
    {
     "data": {
      "text/plain": [
       "False"
      ]
     },
     "execution_count": 10,
     "metadata": {},
     "output_type": "execute_result"
    }
   ],
   "source": [
    "\"Hello\" != \"Hello\""
   ]
  },
  {
   "cell_type": "code",
   "execution_count": 11,
   "metadata": {},
   "outputs": [],
   "source": [
    "x = \"Hello\""
   ]
  },
  {
   "cell_type": "code",
   "execution_count": 12,
   "metadata": {},
   "outputs": [
    {
     "data": {
      "text/plain": [
       "True"
      ]
     },
     "execution_count": 12,
     "metadata": {},
     "output_type": "execute_result"
    }
   ],
   "source": [
    "x == \"Hello\""
   ]
  },
  {
   "cell_type": "code",
   "execution_count": 13,
   "metadata": {},
   "outputs": [
    {
     "data": {
      "text/plain": [
       "False"
      ]
     },
     "execution_count": 13,
     "metadata": {},
     "output_type": "execute_result"
    }
   ],
   "source": [
    "x == \"Python\""
   ]
  },
  {
   "cell_type": "code",
   "execution_count": 14,
   "metadata": {},
   "outputs": [
    {
     "data": {
      "text/plain": [
       "True"
      ]
     },
     "execution_count": 14,
     "metadata": {},
     "output_type": "execute_result"
    }
   ],
   "source": [
    "x != \"Python\""
   ]
  },
  {
   "cell_type": "code",
   "execution_count": 15,
   "metadata": {},
   "outputs": [
    {
     "data": {
      "text/plain": [
       "True"
      ]
     },
     "execution_count": 15,
     "metadata": {},
     "output_type": "execute_result"
    }
   ],
   "source": [
    "10 < 20"
   ]
  },
  {
   "cell_type": "code",
   "execution_count": 16,
   "metadata": {},
   "outputs": [
    {
     "data": {
      "text/plain": [
       "False"
      ]
     },
     "execution_count": 16,
     "metadata": {},
     "output_type": "execute_result"
    }
   ],
   "source": [
    "10 < 9"
   ]
  },
  {
   "cell_type": "code",
   "execution_count": 17,
   "metadata": {},
   "outputs": [
    {
     "data": {
      "text/plain": [
       "False"
      ]
     },
     "execution_count": 17,
     "metadata": {},
     "output_type": "execute_result"
    }
   ],
   "source": [
    "10 < 10"
   ]
  },
  {
   "cell_type": "code",
   "execution_count": 18,
   "metadata": {},
   "outputs": [
    {
     "data": {
      "text/plain": [
       "False"
      ]
     },
     "execution_count": 18,
     "metadata": {},
     "output_type": "execute_result"
    }
   ],
   "source": [
    "15 > 20"
   ]
  },
  {
   "cell_type": "code",
   "execution_count": 19,
   "metadata": {},
   "outputs": [
    {
     "data": {
      "text/plain": [
       "False"
      ]
     },
     "execution_count": 19,
     "metadata": {},
     "output_type": "execute_result"
    }
   ],
   "source": [
    "20 <= 15"
   ]
  },
  {
   "cell_type": "code",
   "execution_count": 20,
   "metadata": {},
   "outputs": [
    {
     "data": {
      "text/plain": [
       "True"
      ]
     },
     "execution_count": 20,
     "metadata": {},
     "output_type": "execute_result"
    }
   ],
   "source": [
    "20 <= 20"
   ]
  },
  {
   "cell_type": "code",
   "execution_count": 21,
   "metadata": {},
   "outputs": [
    {
     "data": {
      "text/plain": [
       "False"
      ]
     },
     "execution_count": 21,
     "metadata": {},
     "output_type": "execute_result"
    }
   ],
   "source": [
    "20 < 20"
   ]
  },
  {
   "cell_type": "code",
   "execution_count": 22,
   "metadata": {},
   "outputs": [
    {
     "data": {
      "text/plain": [
       "False"
      ]
     },
     "execution_count": 22,
     "metadata": {},
     "output_type": "execute_result"
    }
   ],
   "source": [
    "10 >= 20"
   ]
  },
  {
   "cell_type": "code",
   "execution_count": 23,
   "metadata": {},
   "outputs": [
    {
     "data": {
      "text/plain": [
       "True"
      ]
     },
     "execution_count": 23,
     "metadata": {},
     "output_type": "execute_result"
    }
   ],
   "source": [
    "2 + 3 < 6"
   ]
  },
  {
   "cell_type": "code",
   "execution_count": 24,
   "metadata": {},
   "outputs": [
    {
     "data": {
      "text/plain": [
       "True"
      ]
     },
     "execution_count": 24,
     "metadata": {},
     "output_type": "execute_result"
    }
   ],
   "source": [
    "(2 + 3) < 6"
   ]
  },
  {
   "cell_type": "code",
   "execution_count": 25,
   "metadata": {},
   "outputs": [
    {
     "data": {
      "text/plain": [
       "True"
      ]
     },
     "execution_count": 25,
     "metadata": {},
     "output_type": "execute_result"
    }
   ],
   "source": [
    "8 + 5 > 10 + 2"
   ]
  },
  {
   "cell_type": "code",
   "execution_count": 26,
   "metadata": {},
   "outputs": [
    {
     "data": {
      "text/plain": [
       "True"
      ]
     },
     "execution_count": 26,
     "metadata": {},
     "output_type": "execute_result"
    }
   ],
   "source": [
    "8 + 5 == 10 + 3"
   ]
  },
  {
   "cell_type": "code",
   "execution_count": 27,
   "metadata": {},
   "outputs": [
    {
     "data": {
      "text/plain": [
       "False"
      ]
     },
     "execution_count": 27,
     "metadata": {},
     "output_type": "execute_result"
    }
   ],
   "source": [
    "2 * 5 > 10 "
   ]
  },
  {
   "cell_type": "code",
   "execution_count": 28,
   "metadata": {},
   "outputs": [
    {
     "data": {
      "text/plain": [
       "True"
      ]
     },
     "execution_count": 28,
     "metadata": {},
     "output_type": "execute_result"
    }
   ],
   "source": [
    "2 * 5 >= 10 "
   ]
  },
  {
   "cell_type": "code",
   "execution_count": 29,
   "metadata": {},
   "outputs": [
    {
     "data": {
      "text/plain": [
       "False"
      ]
     },
     "execution_count": 29,
     "metadata": {},
     "output_type": "execute_result"
    }
   ],
   "source": [
    "40 % 3 == 0"
   ]
  },
  {
   "cell_type": "code",
   "execution_count": 30,
   "metadata": {},
   "outputs": [
    {
     "data": {
      "text/plain": [
       "True"
      ]
     },
     "execution_count": 30,
     "metadata": {},
     "output_type": "execute_result"
    }
   ],
   "source": [
    "40 % 2 == 0"
   ]
  },
  {
   "cell_type": "code",
   "execution_count": 31,
   "metadata": {},
   "outputs": [
    {
     "data": {
      "text/plain": [
       "True"
      ]
     },
     "execution_count": 31,
     "metadata": {},
     "output_type": "execute_result"
    }
   ],
   "source": [
    "0 == 40 % 2 "
   ]
  },
  {
   "cell_type": "code",
   "execution_count": 32,
   "metadata": {},
   "outputs": [
    {
     "data": {
      "text/plain": [
       "True"
      ]
     },
     "execution_count": 32,
     "metadata": {},
     "output_type": "execute_result"
    }
   ],
   "source": [
    "5 > 3 and 4 < 6"
   ]
  },
  {
   "cell_type": "code",
   "execution_count": 33,
   "metadata": {},
   "outputs": [
    {
     "data": {
      "text/plain": [
       "True"
      ]
     },
     "execution_count": 33,
     "metadata": {},
     "output_type": "execute_result"
    }
   ],
   "source": [
    "(5 > 3) and (4 < 6)"
   ]
  },
  {
   "cell_type": "code",
   "execution_count": 34,
   "metadata": {},
   "outputs": [
    {
     "data": {
      "text/plain": [
       "False"
      ]
     },
     "execution_count": 34,
     "metadata": {},
     "output_type": "execute_result"
    }
   ],
   "source": [
    "5 > 3 and 4 < 2"
   ]
  },
  {
   "cell_type": "code",
   "execution_count": 35,
   "metadata": {},
   "outputs": [
    {
     "data": {
      "text/plain": [
       "False"
      ]
     },
     "execution_count": 35,
     "metadata": {},
     "output_type": "execute_result"
    }
   ],
   "source": [
    "10 == 10 == True"
   ]
  },
  {
   "cell_type": "code",
   "execution_count": 36,
   "metadata": {},
   "outputs": [
    {
     "data": {
      "text/plain": [
       "False"
      ]
     },
     "execution_count": 36,
     "metadata": {},
     "output_type": "execute_result"
    }
   ],
   "source": [
    "10 == 10 and 10 == True"
   ]
  },
  {
   "cell_type": "code",
   "execution_count": 37,
   "metadata": {},
   "outputs": [
    {
     "data": {
      "text/plain": [
       "True"
      ]
     },
     "execution_count": 37,
     "metadata": {},
     "output_type": "execute_result"
    }
   ],
   "source": [
    "(10 == 10) == True"
   ]
  },
  {
   "cell_type": "code",
   "execution_count": 38,
   "metadata": {},
   "outputs": [
    {
     "data": {
      "text/plain": [
       "True"
      ]
     },
     "execution_count": 38,
     "metadata": {},
     "output_type": "execute_result"
    }
   ],
   "source": [
    "5 > 3 or 4 < 2"
   ]
  },
  {
   "cell_type": "code",
   "execution_count": 39,
   "metadata": {},
   "outputs": [
    {
     "data": {
      "text/plain": [
       "True"
      ]
     },
     "execution_count": 39,
     "metadata": {},
     "output_type": "execute_result"
    }
   ],
   "source": [
    "5 > 3 or 4 < 6"
   ]
  },
  {
   "cell_type": "code",
   "execution_count": 40,
   "metadata": {},
   "outputs": [
    {
     "data": {
      "text/plain": [
       "False"
      ]
     },
     "execution_count": 40,
     "metadata": {},
     "output_type": "execute_result"
    }
   ],
   "source": [
    "5 > 6 or 4 < 2"
   ]
  },
  {
   "cell_type": "code",
   "execution_count": 41,
   "metadata": {},
   "outputs": [
    {
     "data": {
      "text/plain": [
       "True"
      ]
     },
     "execution_count": 41,
     "metadata": {},
     "output_type": "execute_result"
    }
   ],
   "source": [
    "not(5 > 3 and 4 < 2)"
   ]
  },
  {
   "cell_type": "code",
   "execution_count": 42,
   "metadata": {},
   "outputs": [
    {
     "data": {
      "text/plain": [
       "False"
      ]
     },
     "execution_count": 42,
     "metadata": {},
     "output_type": "execute_result"
    }
   ],
   "source": [
    "not(5 > 3 or 4 < 6)"
   ]
  },
  {
   "cell_type": "code",
   "execution_count": null,
   "metadata": {},
   "outputs": [],
   "source": []
  },
  {
   "cell_type": "code",
   "execution_count": null,
   "metadata": {},
   "outputs": [],
   "source": []
  },
  {
   "cell_type": "code",
   "execution_count": null,
   "metadata": {},
   "outputs": [],
   "source": []
  },
  {
   "cell_type": "code",
   "execution_count": null,
   "metadata": {},
   "outputs": [],
   "source": []
  },
  {
   "cell_type": "code",
   "execution_count": 1,
   "metadata": {},
   "outputs": [
    {
     "name": "stdout",
     "output_type": "stream",
     "text": [
      "10 is less than 15\n"
     ]
    }
   ],
   "source": [
    "if 10 < 15:\n",
    "    \n",
    "    print(\"10 is less than 15\")"
   ]
  },
  {
   "cell_type": "code",
   "execution_count": 2,
   "metadata": {},
   "outputs": [
    {
     "name": "stdout",
     "output_type": "stream",
     "text": [
      "46 is greater than 45\n"
     ]
    }
   ],
   "source": [
    "if 46 > 40 + 5:\n",
    "    \n",
    "    print(\"46 is greater than 45\")"
   ]
  },
  {
   "cell_type": "code",
   "execution_count": 3,
   "metadata": {},
   "outputs": [
    {
     "ename": "IndentationError",
     "evalue": "expected an indented block (<ipython-input-3-3d53fbde06da>, line 3)",
     "output_type": "error",
     "traceback": [
      "\u001b[0;36m  File \u001b[0;32m\"<ipython-input-3-3d53fbde06da>\"\u001b[0;36m, line \u001b[0;32m3\u001b[0m\n\u001b[0;31m    print(\"46 is greater than 40\")\u001b[0m\n\u001b[0m        ^\u001b[0m\n\u001b[0;31mIndentationError\u001b[0m\u001b[0;31m:\u001b[0m expected an indented block\n"
     ]
    }
   ],
   "source": [
    "if 46 > 40:\n",
    "    \n",
    "print(\"46 is greater than 40\")"
   ]
  },
  {
   "cell_type": "code",
   "execution_count": 4,
   "metadata": {},
   "outputs": [],
   "source": [
    "x_value = 65\n",
    "\n",
    "y_value = 25"
   ]
  },
  {
   "cell_type": "code",
   "execution_count": 5,
   "metadata": {},
   "outputs": [],
   "source": [
    "if x_value < y_value:\n",
    "    \n",
    "    print('Value of x is less than the value of y')"
   ]
  },
  {
   "cell_type": "code",
   "execution_count": 6,
   "metadata": {},
   "outputs": [
    {
     "name": "stdout",
     "output_type": "stream",
     "text": [
      "Value of x is greater than the value of y\n"
     ]
    }
   ],
   "source": [
    "if x_value > y_value:\n",
    "    \n",
    "    print('Value of x is greater than the value of y')"
   ]
  },
  {
   "cell_type": "code",
   "execution_count": 7,
   "metadata": {},
   "outputs": [],
   "source": [
    "my_string = \"Hello python world\""
   ]
  },
  {
   "cell_type": "code",
   "execution_count": 8,
   "metadata": {},
   "outputs": [
    {
     "name": "stdout",
     "output_type": "stream",
     "text": [
      "Yes, \"python\" is in my_string\n"
     ]
    }
   ],
   "source": [
    "if \"python\" in my_string:\n",
    "    \n",
    "    print('Yes, \"python\" is in my_string')"
   ]
  },
  {
   "cell_type": "code",
   "execution_count": 9,
   "metadata": {},
   "outputs": [],
   "source": [
    "if \"pythonworld\" in my_string:\n",
    "    \n",
    "    print('Yes, \"python world\" is in my_string')"
   ]
  },
  {
   "cell_type": "code",
   "execution_count": 10,
   "metadata": {},
   "outputs": [
    {
     "name": "stdout",
     "output_type": "stream",
     "text": [
      "Yes, \"python world\" is in my_string\n"
     ]
    }
   ],
   "source": [
    "if \"python world\" in my_string:\n",
    "    \n",
    "    print('Yes, \"python world\" is in my_string')"
   ]
  },
  {
   "cell_type": "code",
   "execution_count": 11,
   "metadata": {},
   "outputs": [],
   "source": [
    "if \"Python World\" in my_string:\n",
    "    \n",
    "    print('Yes, \"python world\" is in my_string')"
   ]
  },
  {
   "cell_type": "code",
   "execution_count": 12,
   "metadata": {},
   "outputs": [
    {
     "data": {
      "text/plain": [
       "['Ayden', 'Gavin', 'Ian', 'Jose', 'Jane']"
      ]
     },
     "execution_count": 12,
     "metadata": {},
     "output_type": "execute_result"
    }
   ],
   "source": [
    "list_student = [\"Ayden\", \"Gavin\", \"Ian\", \"Jose\", \"Jane\"]\n",
    "\n",
    "list_student"
   ]
  },
  {
   "cell_type": "code",
   "execution_count": 13,
   "metadata": {},
   "outputs": [
    {
     "name": "stdout",
     "output_type": "stream",
     "text": [
      "Jose is a student\n"
     ]
    }
   ],
   "source": [
    "if \"Jose\" in list_student:\n",
    "    \n",
    "    print(\"Jose is a student\")"
   ]
  },
  {
   "cell_type": "code",
   "execution_count": 14,
   "metadata": {},
   "outputs": [],
   "source": [
    "if \"Eva\" in list_student:\n",
    "    \n",
    "    print(\"Eva is a student\")"
   ]
  },
  {
   "cell_type": "code",
   "execution_count": 15,
   "metadata": {},
   "outputs": [
    {
     "data": {
      "text/plain": [
       "('Alice', 'Alexa', 'Robert', 'Bella')"
      ]
     },
     "execution_count": 15,
     "metadata": {},
     "output_type": "execute_result"
    }
   ],
   "source": [
    "tuple_teachers = (\"Alice\", \"Alexa\", \"Robert\", \"Bella\")\n",
    "\n",
    "tuple_teachers"
   ]
  },
  {
   "cell_type": "code",
   "execution_count": 16,
   "metadata": {},
   "outputs": [
    {
     "name": "stdout",
     "output_type": "stream",
     "text": [
      "Alexa is a teacher\n"
     ]
    }
   ],
   "source": [
    "if \"Alexa\" in tuple_teachers:\n",
    "    \n",
    "    print(\"Alexa is a teacher\")"
   ]
  },
  {
   "cell_type": "code",
   "execution_count": 17,
   "metadata": {},
   "outputs": [
    {
     "data": {
      "text/plain": [
       "{'Ayden': 60, 'Gavin': 85, 'Ian': 76, 'Jose': 70, 'Jane': 82}"
      ]
     },
     "execution_count": 17,
     "metadata": {},
     "output_type": "execute_result"
    }
   ],
   "source": [
    "student_score = {\"Ayden\":60, \"Gavin\":85, \"Ian\":76, \"Jose\":70, \"Jane\":82}\n",
    "student_score"
   ]
  },
  {
   "cell_type": "code",
   "execution_count": 18,
   "metadata": {},
   "outputs": [
    {
     "name": "stdout",
     "output_type": "stream",
     "text": [
      "Ian is in the student_score dictionary\n"
     ]
    }
   ],
   "source": [
    "if \"Ian\" in student_score:\n",
    "    \n",
    "    print(\"Ian is in the student_score dictionary\")"
   ]
  },
  {
   "cell_type": "code",
   "execution_count": 19,
   "metadata": {},
   "outputs": [
    {
     "name": "stdout",
     "output_type": "stream",
     "text": [
      "Jane's score: 82\n"
     ]
    }
   ],
   "source": [
    "if \"Jane\" in student_score:\n",
    "    \n",
    "    print(\"Jane's score:\", student_score[\"Jane\"])"
   ]
  },
  {
   "cell_type": "code",
   "execution_count": 20,
   "metadata": {},
   "outputs": [
    {
     "name": "stdout",
     "output_type": "stream",
     "text": [
      "Ayden's score: 60\n"
     ]
    }
   ],
   "source": [
    "if \"Ayden\" in student_score:\n",
    "    \n",
    "    print(\"Ayden's score:\", student_score[\"Ayden\"])"
   ]
  },
  {
   "cell_type": "code",
   "execution_count": 21,
   "metadata": {},
   "outputs": [],
   "source": [
    "a = 60\n",
    "b = 35"
   ]
  },
  {
   "cell_type": "code",
   "execution_count": 22,
   "metadata": {},
   "outputs": [
    {
     "name": "stdout",
     "output_type": "stream",
     "text": [
      "a is greater than b\n"
     ]
    }
   ],
   "source": [
    "if a > b and b < a:\n",
    "    print(\"a is greater than b\")"
   ]
  },
  {
   "cell_type": "code",
   "execution_count": 23,
   "metadata": {},
   "outputs": [],
   "source": [
    "if a > b and b > a:\n",
    "    print(\"a is greater than b\")"
   ]
  },
  {
   "cell_type": "code",
   "execution_count": 24,
   "metadata": {},
   "outputs": [
    {
     "name": "stdout",
     "output_type": "stream",
     "text": [
      "65\n",
      "25\n"
     ]
    }
   ],
   "source": [
    "print(x_value)\n",
    "print(y_value)"
   ]
  },
  {
   "cell_type": "code",
   "execution_count": 25,
   "metadata": {},
   "outputs": [
    {
     "data": {
      "text/plain": [
       "90"
      ]
     },
     "execution_count": 25,
     "metadata": {},
     "output_type": "execute_result"
    }
   ],
   "source": [
    "z_value = x_value + y_value\n",
    "z_value"
   ]
  },
  {
   "cell_type": "code",
   "execution_count": 26,
   "metadata": {},
   "outputs": [
    {
     "name": "stdout",
     "output_type": "stream",
     "text": [
      "Both conditions are True\n"
     ]
    }
   ],
   "source": [
    "if x_value > y_value and y_value < z_value:\n",
    "    \n",
    "    print(\"Both conditions are True\")"
   ]
  },
  {
   "cell_type": "code",
   "execution_count": 27,
   "metadata": {},
   "outputs": [
    {
     "data": {
      "text/plain": [
       "(60, 35)"
      ]
     },
     "execution_count": 27,
     "metadata": {},
     "output_type": "execute_result"
    }
   ],
   "source": [
    "a,b"
   ]
  },
  {
   "cell_type": "code",
   "execution_count": 28,
   "metadata": {},
   "outputs": [
    {
     "name": "stdout",
     "output_type": "stream",
     "text": [
      "At least one of the above conditions is true\n"
     ]
    }
   ],
   "source": [
    "if a > b or b < a:\n",
    "    print(\"At least one of the above conditions is true\")"
   ]
  },
  {
   "cell_type": "code",
   "execution_count": 29,
   "metadata": {},
   "outputs": [],
   "source": [
    "bike_price = 716"
   ]
  },
  {
   "cell_type": "code",
   "execution_count": 30,
   "metadata": {},
   "outputs": [],
   "source": [
    "bike_is_electric = False"
   ]
  },
  {
   "cell_type": "code",
   "execution_count": 31,
   "metadata": {},
   "outputs": [
    {
     "name": "stdout",
     "output_type": "stream",
     "text": [
      "At least one of the above conditions is true\n"
     ]
    }
   ],
   "source": [
    "if bike_price > 500 or bike_is_electric:\n",
    "    print(\"At least one of the above conditions is true\")"
   ]
  },
  {
   "cell_type": "code",
   "execution_count": 32,
   "metadata": {},
   "outputs": [],
   "source": [
    "if bike_price > 1000 or bike_is_electric:\n",
    "    print(\"At least one of the above conditions is true\")"
   ]
  },
  {
   "cell_type": "code",
   "execution_count": 33,
   "metadata": {},
   "outputs": [
    {
     "name": "stdout",
     "output_type": "stream",
     "text": [
      "It's a human-powered bike\n"
     ]
    }
   ],
   "source": [
    "if not bike_is_electric:\n",
    "    print(\"It's a human-powered bike\")"
   ]
  },
  {
   "cell_type": "code",
   "execution_count": 34,
   "metadata": {},
   "outputs": [],
   "source": [
    "x = 45\n",
    "y = 78"
   ]
  },
  {
   "cell_type": "code",
   "execution_count": 35,
   "metadata": {},
   "outputs": [],
   "source": [
    "if not (x < y):\n",
    "    print(\"x is not less than y\")"
   ]
  },
  {
   "cell_type": "code",
   "execution_count": 36,
   "metadata": {},
   "outputs": [
    {
     "name": "stdout",
     "output_type": "stream",
     "text": [
      "x is not greater than y\n"
     ]
    }
   ],
   "source": [
    "if not (x > y):\n",
    "    print(\"x is not greater than y\")"
   ]
  },
  {
   "cell_type": "code",
   "execution_count": null,
   "metadata": {},
   "outputs": [],
   "source": []
  },
  {
   "cell_type": "code",
   "execution_count": null,
   "metadata": {},
   "outputs": [],
   "source": []
  },
  {
   "cell_type": "code",
   "execution_count": 1,
   "metadata": {},
   "outputs": [
    {
     "name": "stdout",
     "output_type": "stream",
     "text": [
      "10 is less than 15\n"
     ]
    }
   ],
   "source": [
    "if 10 < 15:\n",
    "    \n",
    "    print(\"10 is less than 15\")"
   ]
  },
  {
   "cell_type": "code",
   "execution_count": 2,
   "metadata": {},
   "outputs": [
    {
     "name": "stdout",
     "output_type": "stream",
     "text": [
      "46 is greater than 45\n"
     ]
    }
   ],
   "source": [
    "if 46 > 40 + 5:\n",
    "    \n",
    "    print(\"46 is greater than 45\")"
   ]
  },
  {
   "cell_type": "code",
   "execution_count": 3,
   "metadata": {},
   "outputs": [
    {
     "ename": "IndentationError",
     "evalue": "expected an indented block (<ipython-input-3-3d53fbde06da>, line 3)",
     "output_type": "error",
     "traceback": [
      "\u001b[0;36m  File \u001b[0;32m\"<ipython-input-3-3d53fbde06da>\"\u001b[0;36m, line \u001b[0;32m3\u001b[0m\n\u001b[0;31m    print(\"46 is greater than 40\")\u001b[0m\n\u001b[0m        ^\u001b[0m\n\u001b[0;31mIndentationError\u001b[0m\u001b[0;31m:\u001b[0m expected an indented block\n"
     ]
    }
   ],
   "source": [
    "if 46 > 40:\n",
    "    \n",
    "print(\"46 is greater than 40\")"
   ]
  },
  {
   "cell_type": "code",
   "execution_count": 4,
   "metadata": {},
   "outputs": [],
   "source": [
    "x_value = 65\n",
    "\n",
    "y_value = 25"
   ]
  },
  {
   "cell_type": "code",
   "execution_count": 5,
   "metadata": {},
   "outputs": [],
   "source": [
    "if x_value < y_value:\n",
    "    \n",
    "    print('Value of x is less than the value of y')"
   ]
  },
  {
   "cell_type": "code",
   "execution_count": 6,
   "metadata": {},
   "outputs": [
    {
     "name": "stdout",
     "output_type": "stream",
     "text": [
      "Value of x is greater than the value of y\n"
     ]
    }
   ],
   "source": [
    "if x_value > y_value:\n",
    "    \n",
    "    print('Value of x is greater than the value of y')"
   ]
  },
  {
   "cell_type": "code",
   "execution_count": 7,
   "metadata": {},
   "outputs": [],
   "source": [
    "my_string = \"Hello python world\""
   ]
  },
  {
   "cell_type": "code",
   "execution_count": 8,
   "metadata": {},
   "outputs": [
    {
     "name": "stdout",
     "output_type": "stream",
     "text": [
      "Yes, \"python\" is in my_string\n"
     ]
    }
   ],
   "source": [
    "if \"python\" in my_string:\n",
    "    \n",
    "    print('Yes, \"python\" is in my_string')"
   ]
  },
  {
   "cell_type": "code",
   "execution_count": 9,
   "metadata": {},
   "outputs": [],
   "source": [
    "if \"pythonworld\" in my_string:\n",
    "    \n",
    "    print('Yes, \"python world\" is in my_string')"
   ]
  },
  {
   "cell_type": "code",
   "execution_count": 10,
   "metadata": {},
   "outputs": [
    {
     "name": "stdout",
     "output_type": "stream",
     "text": [
      "Yes, \"python world\" is in my_string\n"
     ]
    }
   ],
   "source": [
    "if \"python world\" in my_string:\n",
    "    \n",
    "    print('Yes, \"python world\" is in my_string')"
   ]
  },
  {
   "cell_type": "code",
   "execution_count": 11,
   "metadata": {},
   "outputs": [],
   "source": [
    "if \"Python World\" in my_string:\n",
    "    \n",
    "    print('Yes, \"python world\" is in my_string')"
   ]
  },
  {
   "cell_type": "code",
   "execution_count": 12,
   "metadata": {},
   "outputs": [
    {
     "data": {
      "text/plain": [
       "['Ayden', 'Gavin', 'Ian', 'Jose', 'Jane']"
      ]
     },
     "execution_count": 12,
     "metadata": {},
     "output_type": "execute_result"
    }
   ],
   "source": [
    "list_student = [\"Ayden\", \"Gavin\", \"Ian\", \"Jose\", \"Jane\"]\n",
    "\n",
    "list_student"
   ]
  },
  {
   "cell_type": "code",
   "execution_count": 13,
   "metadata": {},
   "outputs": [
    {
     "name": "stdout",
     "output_type": "stream",
     "text": [
      "Jose is a student\n"
     ]
    }
   ],
   "source": [
    "if \"Jose\" in list_student:\n",
    "    \n",
    "    print(\"Jose is a student\")"
   ]
  },
  {
   "cell_type": "code",
   "execution_count": 14,
   "metadata": {},
   "outputs": [],
   "source": [
    "if \"Eva\" in list_student:\n",
    "    \n",
    "    print(\"Eva is a student\")"
   ]
  },
  {
   "cell_type": "code",
   "execution_count": 15,
   "metadata": {},
   "outputs": [
    {
     "data": {
      "text/plain": [
       "('Alice', 'Alexa', 'Robert', 'Bella')"
      ]
     },
     "execution_count": 15,
     "metadata": {},
     "output_type": "execute_result"
    }
   ],
   "source": [
    "tuple_teachers = (\"Alice\", \"Alexa\", \"Robert\", \"Bella\")\n",
    "\n",
    "tuple_teachers"
   ]
  },
  {
   "cell_type": "code",
   "execution_count": 16,
   "metadata": {},
   "outputs": [
    {
     "name": "stdout",
     "output_type": "stream",
     "text": [
      "Alexa is a teacher\n"
     ]
    }
   ],
   "source": [
    "if \"Alexa\" in tuple_teachers:\n",
    "    \n",
    "    print(\"Alexa is a teacher\")"
   ]
  },
  {
   "cell_type": "code",
   "execution_count": 17,
   "metadata": {},
   "outputs": [
    {
     "data": {
      "text/plain": [
       "{'Ayden': 60, 'Gavin': 85, 'Ian': 76, 'Jose': 70, 'Jane': 82}"
      ]
     },
     "execution_count": 17,
     "metadata": {},
     "output_type": "execute_result"
    }
   ],
   "source": [
    "student_score = {\"Ayden\":60, \"Gavin\":85, \"Ian\":76, \"Jose\":70, \"Jane\":82}\n",
    "student_score"
   ]
  },
  {
   "cell_type": "code",
   "execution_count": 18,
   "metadata": {},
   "outputs": [
    {
     "name": "stdout",
     "output_type": "stream",
     "text": [
      "Ian is in the student_score dictionary\n"
     ]
    }
   ],
   "source": [
    "if \"Ian\" in student_score:\n",
    "    \n",
    "    print(\"Ian is in the student_score dictionary\")"
   ]
  },
  {
   "cell_type": "code",
   "execution_count": 19,
   "metadata": {},
   "outputs": [
    {
     "name": "stdout",
     "output_type": "stream",
     "text": [
      "Jane's score: 82\n"
     ]
    }
   ],
   "source": [
    "if \"Jane\" in student_score:\n",
    "    \n",
    "    print(\"Jane's score:\", student_score[\"Jane\"])"
   ]
  },
  {
   "cell_type": "code",
   "execution_count": 20,
   "metadata": {},
   "outputs": [
    {
     "name": "stdout",
     "output_type": "stream",
     "text": [
      "Ayden's score: 60\n"
     ]
    }
   ],
   "source": [
    "if \"Ayden\" in student_score:\n",
    "    \n",
    "    print(\"Ayden's score:\", student_score[\"Ayden\"])"
   ]
  },
  {
   "cell_type": "code",
   "execution_count": 21,
   "metadata": {},
   "outputs": [],
   "source": [
    "a = 60\n",
    "b = 35"
   ]
  },
  {
   "cell_type": "code",
   "execution_count": 22,
   "metadata": {},
   "outputs": [
    {
     "name": "stdout",
     "output_type": "stream",
     "text": [
      "a is greater than b\n"
     ]
    }
   ],
   "source": [
    "if a > b and b < a:\n",
    "    print(\"a is greater than b\")"
   ]
  },
  {
   "cell_type": "code",
   "execution_count": 23,
   "metadata": {},
   "outputs": [],
   "source": [
    "if a > b and b > a:\n",
    "    print(\"a is greater than b\")"
   ]
  },
  {
   "cell_type": "code",
   "execution_count": 24,
   "metadata": {},
   "outputs": [
    {
     "name": "stdout",
     "output_type": "stream",
     "text": [
      "65\n",
      "25\n"
     ]
    }
   ],
   "source": [
    "print(x_value)\n",
    "print(y_value)"
   ]
  },
  {
   "cell_type": "code",
   "execution_count": 25,
   "metadata": {},
   "outputs": [
    {
     "data": {
      "text/plain": [
       "90"
      ]
     },
     "execution_count": 25,
     "metadata": {},
     "output_type": "execute_result"
    }
   ],
   "source": [
    "z_value = x_value + y_value\n",
    "z_value"
   ]
  },
  {
   "cell_type": "code",
   "execution_count": 26,
   "metadata": {},
   "outputs": [
    {
     "name": "stdout",
     "output_type": "stream",
     "text": [
      "Both conditions are True\n"
     ]
    }
   ],
   "source": [
    "if x_value > y_value and y_value < z_value:\n",
    "    \n",
    "    print(\"Both conditions are True\")"
   ]
  },
  {
   "cell_type": "code",
   "execution_count": 27,
   "metadata": {},
   "outputs": [
    {
     "data": {
      "text/plain": [
       "(60, 35)"
      ]
     },
     "execution_count": 27,
     "metadata": {},
     "output_type": "execute_result"
    }
   ],
   "source": [
    "a,b"
   ]
  },
  {
   "cell_type": "code",
   "execution_count": 28,
   "metadata": {},
   "outputs": [
    {
     "name": "stdout",
     "output_type": "stream",
     "text": [
      "At least one of the above conditions is true\n"
     ]
    }
   ],
   "source": [
    "if a > b or b < a:\n",
    "    print(\"At least one of the above conditions is true\")"
   ]
  },
  {
   "cell_type": "code",
   "execution_count": 29,
   "metadata": {},
   "outputs": [],
   "source": [
    "bike_price = 716"
   ]
  },
  {
   "cell_type": "code",
   "execution_count": 30,
   "metadata": {},
   "outputs": [],
   "source": [
    "bike_is_electric = False"
   ]
  },
  {
   "cell_type": "code",
   "execution_count": 31,
   "metadata": {},
   "outputs": [
    {
     "name": "stdout",
     "output_type": "stream",
     "text": [
      "At least one of the above conditions is true\n"
     ]
    }
   ],
   "source": [
    "if bike_price > 500 or bike_is_electric:\n",
    "    print(\"At least one of the above conditions is true\")"
   ]
  },
  {
   "cell_type": "code",
   "execution_count": 32,
   "metadata": {},
   "outputs": [],
   "source": [
    "if bike_price > 1000 or bike_is_electric:\n",
    "    print(\"At least one of the above conditions is true\")"
   ]
  },
  {
   "cell_type": "code",
   "execution_count": 33,
   "metadata": {},
   "outputs": [
    {
     "name": "stdout",
     "output_type": "stream",
     "text": [
      "It's a human-powered bike\n"
     ]
    }
   ],
   "source": [
    "if not bike_is_electric:\n",
    "    print(\"It's a human-powered bike\")"
   ]
  },
  {
   "cell_type": "code",
   "execution_count": 34,
   "metadata": {},
   "outputs": [],
   "source": [
    "x = 45\n",
    "y = 78"
   ]
  },
  {
   "cell_type": "code",
   "execution_count": 35,
   "metadata": {},
   "outputs": [],
   "source": [
    "if not (x < y):\n",
    "    print(\"x is not less than y\")"
   ]
  },
  {
   "cell_type": "code",
   "execution_count": 36,
   "metadata": {},
   "outputs": [
    {
     "name": "stdout",
     "output_type": "stream",
     "text": [
      "x is not greater than y\n"
     ]
    }
   ],
   "source": [
    "if not (x > y):\n",
    "    print(\"x is not greater than y\")"
   ]
  },
  {
   "cell_type": "code",
   "execution_count": null,
   "metadata": {},
   "outputs": [],
   "source": []
  },
  {
   "cell_type": "code",
   "execution_count": null,
   "metadata": {},
   "outputs": [],
   "source": []
  },
  {
   "cell_type": "code",
   "execution_count": 1,
   "metadata": {},
   "outputs": [
    {
     "name": "stdout",
     "output_type": "stream",
     "text": [
      "10 is less than 20\n",
      "else block activated\n"
     ]
    }
   ],
   "source": [
    "if 10 > 20:\n",
    "    print(\"10 is greater than 20\")\n",
    "    print(\"if block activated\")\n",
    "    \n",
    "else:\n",
    "    print(\"10 is less than 20\")\n",
    "    print(\"else block activated\")"
   ]
  },
  {
   "cell_type": "code",
   "execution_count": 2,
   "metadata": {},
   "outputs": [
    {
     "data": {
      "text/plain": [
       "7160"
      ]
     },
     "execution_count": 2,
     "metadata": {},
     "output_type": "execute_result"
    }
   ],
   "source": [
    "bike_price = 7160\n",
    "bike_price"
   ]
  },
  {
   "cell_type": "code",
   "execution_count": 3,
   "metadata": {},
   "outputs": [
    {
     "name": "stdout",
     "output_type": "stream",
     "text": [
      "It's a cheap bike\n",
      "if block activated\n"
     ]
    }
   ],
   "source": [
    "if bike_price <= 8000:\n",
    "    print(\"It's a cheap bike\")\n",
    "    print(\"if block activated\")\n",
    "    \n",
    "else:\n",
    "    print(\"It's an expensive bike\")\n",
    "    print(\"else block activated\")"
   ]
  },
  {
   "cell_type": "code",
   "execution_count": 4,
   "metadata": {},
   "outputs": [
    {
     "ename": "SyntaxError",
     "evalue": "invalid syntax (<ipython-input-4-2fa0f571119d>, line 6)",
     "output_type": "error",
     "traceback": [
      "\u001b[0;36m  File \u001b[0;32m\"<ipython-input-4-2fa0f571119d>\"\u001b[0;36m, line \u001b[0;32m6\u001b[0m\n\u001b[0;31m    else:\u001b[0m\n\u001b[0m       ^\u001b[0m\n\u001b[0;31mSyntaxError\u001b[0m\u001b[0;31m:\u001b[0m invalid syntax\n"
     ]
    }
   ],
   "source": [
    "bike_price = 9000\n",
    "\n",
    "if bike_price <= 8000:\n",
    "    print(\"It's a cheap bike\")\n",
    "    \n",
    "    else:\n",
    "        print(\"It's an expensive bike\")"
   ]
  },
  {
   "cell_type": "code",
   "execution_count": 5,
   "metadata": {},
   "outputs": [
    {
     "name": "stdout",
     "output_type": "stream",
     "text": [
      "It's an expensive bike\n"
     ]
    }
   ],
   "source": [
    "bike_price = 9000\n",
    "\n",
    "if bike_price <= 8000:\n",
    "    print(\"It's a cheap bike\")\n",
    "    \n",
    "else:\n",
    "    print(\"It's an expensive bike\")"
   ]
  },
  {
   "cell_type": "code",
   "execution_count": 6,
   "metadata": {},
   "outputs": [
    {
     "name": "stdout",
     "output_type": "stream",
     "text": [
      "num before expression:  50\n",
      "num after expression:  30\n"
     ]
    }
   ],
   "source": [
    "num = 50\n",
    "print(\"num before expression: \", num)\n",
    "\n",
    "num = num - 20 if num > 20 else num + 20\n",
    "\n",
    "print(\"num after expression: \", num)"
   ]
  },
  {
   "cell_type": "code",
   "execution_count": 7,
   "metadata": {},
   "outputs": [
    {
     "name": "stdout",
     "output_type": "stream",
     "text": [
      "num before expression:  50\n",
      "num after expression:  30\n"
     ]
    }
   ],
   "source": [
    "num = 50\n",
    "print(\"num before expression: \", num)\n",
    "\n",
    "if num > 20:\n",
    "    num = num - 20\n",
    "else:\n",
    "    num = num + 20\n",
    "\n",
    "print(\"num after expression: \", num)"
   ]
  },
  {
   "cell_type": "code",
   "execution_count": 8,
   "metadata": {},
   "outputs": [
    {
     "name": "stdout",
     "output_type": "stream",
     "text": [
      "Number before expression :  100\n",
      "Number after expression :  500\n"
     ]
    }
   ],
   "source": [
    "num = 100\n",
    "print(\"Number before expression : \", num)\n",
    "\n",
    "result = num / 5 if num < 50 else num * 5\n",
    "\n",
    "print(\"Number after expression : \", result)"
   ]
  },
  {
   "cell_type": "code",
   "execution_count": 9,
   "metadata": {},
   "outputs": [
    {
     "name": "stdout",
     "output_type": "stream",
     "text": [
      "15 is less than 20\n",
      "elif block activated\n"
     ]
    }
   ],
   "source": [
    "if 15 > 20:\n",
    "    print(\"15 is greater than 20\")\n",
    "    print(\"if block activated\")\n",
    "    \n",
    "elif 15 < 20:\n",
    "    print(\"15 is less than 20\")\n",
    "    print(\"elif block activated\")\n",
    "    \n",
    "else:\n",
    "    print(\"Both are equal\")\n",
    "    print(\"else block activated\")"
   ]
  },
  {
   "cell_type": "code",
   "execution_count": 10,
   "metadata": {},
   "outputs": [
    {
     "name": "stdout",
     "output_type": "stream",
     "text": [
      "a and b are equal\n",
      "elif block activated\n"
     ]
    }
   ],
   "source": [
    "a = 45\n",
    "b = 45\n",
    "\n",
    "if b > a:\n",
    "    print(\"b is greater than a\")\n",
    "    print(\"if block activated\")\n",
    "    \n",
    "elif a == b:\n",
    "    print(\"a and b are equal\")\n",
    "    print(\"elif block activated\")\n",
    "    \n",
    "else:\n",
    "    print(\"a is greater than b\")\n",
    "    print(\"else block activated\")    "
   ]
  },
  {
   "cell_type": "code",
   "execution_count": 11,
   "metadata": {},
   "outputs": [],
   "source": [
    "bike_price = 20000"
   ]
  },
  {
   "cell_type": "code",
   "execution_count": 12,
   "metadata": {},
   "outputs": [],
   "source": [
    "if bike_price < 6000:\n",
    "    print(\"It's a cheap bike\")\n",
    "    \n",
    "elif bike_price >= 6000 and bike_price < 10000:\n",
    "    print(\"It's a moderately priced bike\")\n",
    "    \n",
    "elif bike_price >= 10000 and bike_price < 15000:\n",
    "    print(\"It's a somewhat expensive bike\")"
   ]
  },
  {
   "cell_type": "code",
   "execution_count": 13,
   "metadata": {},
   "outputs": [
    {
     "name": "stdout",
     "output_type": "stream",
     "text": [
      "It's a somewhat expensive bike\n"
     ]
    }
   ],
   "source": [
    "if bike_price < 6000:\n",
    "    print(\"It's a cheap bike\")\n",
    "    \n",
    "elif bike_price >= 6000 and bike_price < 10000:\n",
    "    print(\"It's a moderately priced bike\")\n",
    "    \n",
    "elif bike_price >= 10000:\n",
    "    print(\"It's a somewhat expensive bike\")\n",
    "    \n",
    "elif bike_price >= 20000:\n",
    "    print(\"It's a very expensive bike\")"
   ]
  },
  {
   "cell_type": "code",
   "execution_count": 14,
   "metadata": {},
   "outputs": [],
   "source": [
    "x = 25\n",
    "y = 35\n",
    "z = 45"
   ]
  },
  {
   "cell_type": "code",
   "execution_count": 15,
   "metadata": {},
   "outputs": [
    {
     "name": "stdout",
     "output_type": "stream",
     "text": [
      "The first condition is true\n",
      "Both conditions are true\n"
     ]
    }
   ],
   "source": [
    "if x < y:\n",
    "    print(\"The first condition is true\")\n",
    "    \n",
    "    if x < z:\n",
    "        print(\"Both conditions are true\")\n",
    "        \n",
    "    else:\n",
    "        print(\"The first condition is true, the second one is false\")"
   ]
  },
  {
   "cell_type": "code",
   "execution_count": 16,
   "metadata": {},
   "outputs": [
    {
     "name": "stdout",
     "output_type": "stream",
     "text": [
      "The first condition is false\n"
     ]
    }
   ],
   "source": [
    "x = 55\n",
    "\n",
    "if x < y:\n",
    "    print(\"The first condition is true\")\n",
    "    \n",
    "    if x < z:\n",
    "        print(\"Both conditions are true\")\n",
    "        \n",
    "    else:\n",
    "        print(\"The first condition is true, the second one is false\")\n",
    "        \n",
    "else:\n",
    "    print(\"The first condition is false\")"
   ]
  },
  {
   "cell_type": "code",
   "execution_count": 17,
   "metadata": {},
   "outputs": [
    {
     "name": "stdout",
     "output_type": "stream",
     "text": [
      "Enter your age: 21\n",
      "You are too old for this camping trip!\n"
     ]
    }
   ],
   "source": [
    "age = int(input(\"Enter your age: \"))\n",
    "\n",
    "if age >= 15:\n",
    "    \n",
    "    if age > 20:\n",
    "        print(\"You are too old for this camping trip!\")\n",
    "        \n",
    "    else:\n",
    "        print(\"You are of the right age for this camping trip!\")\n",
    "        \n",
    "else:\n",
    "    print(\"You are too young for this camping trip!\")"
   ]
  },
  {
   "cell_type": "code",
   "execution_count": 19,
   "metadata": {},
   "outputs": [
    {
     "name": "stdout",
     "output_type": "stream",
     "text": [
      "What is the total amount of your online shopping? 80\n",
      "USA or Canada? USA\n",
      "Shipping Cost is $6.00\n"
     ]
    }
   ],
   "source": [
    "total = int(input(\"What is the total amount of your online shopping? \"))\n",
    "country = input(\"USA or Canada? \")\n",
    "\n",
    "if country == \"USA\":\n",
    "    if total <= 50:\n",
    "        print (\"Shipping Cost is $9.00\")\n",
    "        \n",
    "    elif total <= 100:\n",
    "        print (\"Shipping Cost is $6.00\")\n",
    "        \n",
    "    else:\n",
    "        print (\"Shipping is FREE\")\n",
    "        \n",
    "if country == \"Canada\":\n",
    "    if total <= 50:\n",
    "        print (\"Shipping Cost is $12.00\")\n",
    "        \n",
    "    elif total <= 100:\n",
    "        print (\"Shipping Cost is $8.00\")\n",
    "   \n",
    "    else:\n",
    "        print (\" Shipping is FREE\")"
   ]
  },
  {
   "cell_type": "code",
   "execution_count": null,
   "metadata": {},
   "outputs": [],
   "source": []
  },
  {
   "cell_type": "code",
   "execution_count": null,
   "metadata": {},
   "outputs": [],
   "source": []
  },
  {
   "cell_type": "code",
   "execution_count": 1,
   "metadata": {},
   "outputs": [
    {
     "name": "stdout",
     "output_type": "stream",
     "text": [
      "10 is less than 20\n",
      "else block activated\n"
     ]
    }
   ],
   "source": [
    "if 10 > 20:\n",
    "    print(\"10 is greater than 20\")\n",
    "    print(\"if block activated\")\n",
    "    \n",
    "else:\n",
    "    print(\"10 is less than 20\")\n",
    "    print(\"else block activated\")"
   ]
  },
  {
   "cell_type": "code",
   "execution_count": 2,
   "metadata": {},
   "outputs": [
    {
     "data": {
      "text/plain": [
       "7160"
      ]
     },
     "execution_count": 2,
     "metadata": {},
     "output_type": "execute_result"
    }
   ],
   "source": [
    "bike_price = 7160\n",
    "bike_price"
   ]
  },
  {
   "cell_type": "code",
   "execution_count": 3,
   "metadata": {},
   "outputs": [
    {
     "name": "stdout",
     "output_type": "stream",
     "text": [
      "It's a cheap bike\n",
      "if block activated\n"
     ]
    }
   ],
   "source": [
    "if bike_price <= 8000:\n",
    "    print(\"It's a cheap bike\")\n",
    "    print(\"if block activated\")\n",
    "    \n",
    "else:\n",
    "    print(\"It's an expensive bike\")\n",
    "    print(\"else block activated\")"
   ]
  },
  {
   "cell_type": "code",
   "execution_count": 4,
   "metadata": {},
   "outputs": [
    {
     "ename": "SyntaxError",
     "evalue": "invalid syntax (<ipython-input-4-2fa0f571119d>, line 6)",
     "output_type": "error",
     "traceback": [
      "\u001b[0;36m  File \u001b[0;32m\"<ipython-input-4-2fa0f571119d>\"\u001b[0;36m, line \u001b[0;32m6\u001b[0m\n\u001b[0;31m    else:\u001b[0m\n\u001b[0m       ^\u001b[0m\n\u001b[0;31mSyntaxError\u001b[0m\u001b[0;31m:\u001b[0m invalid syntax\n"
     ]
    }
   ],
   "source": [
    "bike_price = 9000\n",
    "\n",
    "if bike_price <= 8000:\n",
    "    print(\"It's a cheap bike\")\n",
    "    \n",
    "    else:\n",
    "        print(\"It's an expensive bike\")"
   ]
  },
  {
   "cell_type": "code",
   "execution_count": 5,
   "metadata": {},
   "outputs": [
    {
     "name": "stdout",
     "output_type": "stream",
     "text": [
      "It's an expensive bike\n"
     ]
    }
   ],
   "source": [
    "bike_price = 9000\n",
    "\n",
    "if bike_price <= 8000:\n",
    "    print(\"It's a cheap bike\")\n",
    "    \n",
    "else:\n",
    "    print(\"It's an expensive bike\")"
   ]
  },
  {
   "cell_type": "code",
   "execution_count": 6,
   "metadata": {},
   "outputs": [
    {
     "name": "stdout",
     "output_type": "stream",
     "text": [
      "num before expression:  50\n",
      "num after expression:  30\n"
     ]
    }
   ],
   "source": [
    "num = 50\n",
    "print(\"num before expression: \", num)\n",
    "\n",
    "num = num - 20 if num > 20 else num + 20\n",
    "\n",
    "print(\"num after expression: \", num)"
   ]
  },
  {
   "cell_type": "code",
   "execution_count": 7,
   "metadata": {},
   "outputs": [
    {
     "name": "stdout",
     "output_type": "stream",
     "text": [
      "num before expression:  50\n",
      "num after expression:  30\n"
     ]
    }
   ],
   "source": [
    "num = 50\n",
    "print(\"num before expression: \", num)\n",
    "\n",
    "if num > 20:\n",
    "    num = num - 20\n",
    "else:\n",
    "    num = num + 20\n",
    "\n",
    "print(\"num after expression: \", num)"
   ]
  },
  {
   "cell_type": "code",
   "execution_count": 8,
   "metadata": {},
   "outputs": [
    {
     "name": "stdout",
     "output_type": "stream",
     "text": [
      "Number before expression :  100\n",
      "Number after expression :  500\n"
     ]
    }
   ],
   "source": [
    "num = 100\n",
    "print(\"Number before expression : \", num)\n",
    "\n",
    "result = num / 5 if num < 50 else num * 5\n",
    "\n",
    "print(\"Number after expression : \", result)"
   ]
  },
  {
   "cell_type": "code",
   "execution_count": 9,
   "metadata": {},
   "outputs": [
    {
     "name": "stdout",
     "output_type": "stream",
     "text": [
      "15 is less than 20\n",
      "elif block activated\n"
     ]
    }
   ],
   "source": [
    "if 15 > 20:\n",
    "    print(\"15 is greater than 20\")\n",
    "    print(\"if block activated\")\n",
    "    \n",
    "elif 15 < 20:\n",
    "    print(\"15 is less than 20\")\n",
    "    print(\"elif block activated\")\n",
    "    \n",
    "else:\n",
    "    print(\"Both are equal\")\n",
    "    print(\"else block activated\")"
   ]
  },
  {
   "cell_type": "code",
   "execution_count": 10,
   "metadata": {},
   "outputs": [
    {
     "name": "stdout",
     "output_type": "stream",
     "text": [
      "a and b are equal\n",
      "elif block activated\n"
     ]
    }
   ],
   "source": [
    "a = 45\n",
    "b = 45\n",
    "\n",
    "if b > a:\n",
    "    print(\"b is greater than a\")\n",
    "    print(\"if block activated\")\n",
    "    \n",
    "elif a == b:\n",
    "    print(\"a and b are equal\")\n",
    "    print(\"elif block activated\")\n",
    "    \n",
    "else:\n",
    "    print(\"a is greater than b\")\n",
    "    print(\"else block activated\")    "
   ]
  },
  {
   "cell_type": "code",
   "execution_count": 11,
   "metadata": {},
   "outputs": [],
   "source": [
    "bike_price = 20000"
   ]
  },
  {
   "cell_type": "code",
   "execution_count": 12,
   "metadata": {},
   "outputs": [],
   "source": [
    "if bike_price < 6000:\n",
    "    print(\"It's a cheap bike\")\n",
    "    \n",
    "elif bike_price >= 6000 and bike_price < 10000:\n",
    "    print(\"It's a moderately priced bike\")\n",
    "    \n",
    "elif bike_price >= 10000 and bike_price < 15000:\n",
    "    print(\"It's a somewhat expensive bike\")"
   ]
  },
  {
   "cell_type": "code",
   "execution_count": 13,
   "metadata": {},
   "outputs": [
    {
     "name": "stdout",
     "output_type": "stream",
     "text": [
      "It's a somewhat expensive bike\n"
     ]
    }
   ],
   "source": [
    "if bike_price < 6000:\n",
    "    print(\"It's a cheap bike\")\n",
    "    \n",
    "elif bike_price >= 6000 and bike_price < 10000:\n",
    "    print(\"It's a moderately priced bike\")\n",
    "    \n",
    "elif bike_price >= 10000:\n",
    "    print(\"It's a somewhat expensive bike\")\n",
    "    \n",
    "elif bike_price >= 20000:\n",
    "    print(\"It's a very expensive bike\")"
   ]
  },
  {
   "cell_type": "code",
   "execution_count": 14,
   "metadata": {},
   "outputs": [],
   "source": [
    "x = 25\n",
    "y = 35\n",
    "z = 45"
   ]
  },
  {
   "cell_type": "code",
   "execution_count": 15,
   "metadata": {},
   "outputs": [
    {
     "name": "stdout",
     "output_type": "stream",
     "text": [
      "The first condition is true\n",
      "Both conditions are true\n"
     ]
    }
   ],
   "source": [
    "if x < y:\n",
    "    print(\"The first condition is true\")\n",
    "    \n",
    "    if x < z:\n",
    "        print(\"Both conditions are true\")\n",
    "        \n",
    "    else:\n",
    "        print(\"The first condition is true, the second one is false\")"
   ]
  },
  {
   "cell_type": "code",
   "execution_count": 16,
   "metadata": {},
   "outputs": [
    {
     "name": "stdout",
     "output_type": "stream",
     "text": [
      "The first condition is false\n"
     ]
    }
   ],
   "source": [
    "x = 55\n",
    "\n",
    "if x < y:\n",
    "    print(\"The first condition is true\")\n",
    "    \n",
    "    if x < z:\n",
    "        print(\"Both conditions are true\")\n",
    "        \n",
    "    else:\n",
    "        print(\"The first condition is true, the second one is false\")\n",
    "        \n",
    "else:\n",
    "    print(\"The first condition is false\")"
   ]
  },
  {
   "cell_type": "code",
   "execution_count": 17,
   "metadata": {},
   "outputs": [
    {
     "name": "stdout",
     "output_type": "stream",
     "text": [
      "Enter your age: 21\n",
      "You are too old for this camping trip!\n"
     ]
    }
   ],
   "source": [
    "age = int(input(\"Enter your age: \"))\n",
    "\n",
    "if age >= 15:\n",
    "    \n",
    "    if age > 20:\n",
    "        print(\"You are too old for this camping trip!\")\n",
    "        \n",
    "    else:\n",
    "        print(\"You are of the right age for this camping trip!\")\n",
    "        \n",
    "else:\n",
    "    print(\"You are too young for this camping trip!\")"
   ]
  },
  {
   "cell_type": "code",
   "execution_count": 19,
   "metadata": {},
   "outputs": [
    {
     "name": "stdout",
     "output_type": "stream",
     "text": [
      "What is the total amount of your online shopping? 80\n",
      "USA or Canada? USA\n",
      "Shipping Cost is $6.00\n"
     ]
    }
   ],
   "source": [
    "total = int(input(\"What is the total amount of your online shopping? \"))\n",
    "country = input(\"USA or Canada? \")\n",
    "\n",
    "if country == \"USA\":\n",
    "    if total <= 50:\n",
    "        print (\"Shipping Cost is $9.00\")\n",
    "        \n",
    "    elif total <= 100:\n",
    "        print (\"Shipping Cost is $6.00\")\n",
    "        \n",
    "    else:\n",
    "        print (\"Shipping is FREE\")\n",
    "        \n",
    "if country == \"Canada\":\n",
    "    if total <= 50:\n",
    "        print (\"Shipping Cost is $12.00\")\n",
    "        \n",
    "    elif total <= 100:\n",
    "        print (\"Shipping Cost is $8.00\")\n",
    "   \n",
    "    else:\n",
    "        print (\" Shipping is FREE\")"
   ]
  },
  {
   "cell_type": "code",
   "execution_count": null,
   "metadata": {},
   "outputs": [],
   "source": []
  },
  {
   "cell_type": "code",
   "execution_count": null,
   "metadata": {},
   "outputs": [],
   "source": []
  },
  {
   "cell_type": "code",
   "execution_count": 1,
   "metadata": {},
   "outputs": [],
   "source": [
    "fruit_list = [\"apple\", \"orange\", \"grape\", \"banana\", \"avocado\"]"
   ]
  },
  {
   "cell_type": "code",
   "execution_count": 2,
   "metadata": {},
   "outputs": [
    {
     "name": "stdout",
     "output_type": "stream",
     "text": [
      "Yes, grape is in the fruit list\n"
     ]
    }
   ],
   "source": [
    "if \"grape\" in fruit_list:\n",
    "    print(\"Yes, grape is in the fruit list\")\n",
    "    \n",
    "else:\n",
    "    print(\"No, grape is not in the fruit list\")"
   ]
  },
  {
   "cell_type": "code",
   "execution_count": 3,
   "metadata": {},
   "outputs": [
    {
     "name": "stdout",
     "output_type": "stream",
     "text": [
      "orange is in the fruit list\n"
     ]
    }
   ],
   "source": [
    "if \"strawberry\" in fruit_list:\n",
    "    print(\"strawberry is in the fruit list\")\n",
    "    \n",
    "elif \"orange\" in fruit_list:\n",
    "    print(\"orange is in the fruit list\")\n",
    "    \n",
    "else:\n",
    "    print(\"Both strawberry and orange are not in the fruit list\")"
   ]
  },
  {
   "cell_type": "code",
   "execution_count": 4,
   "metadata": {},
   "outputs": [
    {
     "name": "stdout",
     "output_type": "stream",
     "text": [
      "True\n"
     ]
    }
   ],
   "source": [
    "if fruit_list[1] == \"orange\":\n",
    "    print(\"True\")\n",
    "    \n",
    "else:\n",
    "    print(\"False\")"
   ]
  },
  {
   "cell_type": "code",
   "execution_count": 5,
   "metadata": {},
   "outputs": [
    {
     "name": "stdout",
     "output_type": "stream",
     "text": [
      "Yes, avocado is at the fourth index\n",
      "Replacing avocado with strawberry at the fourth index\n",
      "['apple', 'orange', 'grape', 'banana', 'strawberry']\n"
     ]
    }
   ],
   "source": [
    "if fruit_list[4] == \"avocado\":\n",
    "    \n",
    "    print(\"Yes, avocado is at the fourth index\")\n",
    "    print(\"Replacing avocado with strawberry at the fourth index\")\n",
    "    \n",
    "    fruit_list[4] = \"strawberry\"\n",
    "    print(fruit_list)\n",
    "    \n",
    "else:\n",
    "    print(\"avocado is not at the fourth index\")"
   ]
  },
  {
   "cell_type": "code",
   "execution_count": 6,
   "metadata": {},
   "outputs": [],
   "source": [
    "car_tuple = ('Toyota Camry', 'Honda Accord', 'Honda Civic', 'Toyota Corolla')"
   ]
  },
  {
   "cell_type": "code",
   "execution_count": 7,
   "metadata": {},
   "outputs": [
    {
     "name": "stdout",
     "output_type": "stream",
     "text": [
      "Honda Accord is present in our car tuple\n"
     ]
    }
   ],
   "source": [
    "if \"Honda Accord\" in car_tuple:\n",
    "    print(\"Honda Accord is present in our car tuple\")\n",
    "    \n",
    "else:\n",
    "    print(\"Honda Accord is not present in our car tuple\")"
   ]
  },
  {
   "cell_type": "code",
   "execution_count": 8,
   "metadata": {},
   "outputs": [
    {
     "name": "stdout",
     "output_type": "stream",
     "text": [
      "Ducati Monster is not a car\n"
     ]
    }
   ],
   "source": [
    "if \"Ducati Monster\" in car_tuple:\n",
    "    print(\"Ducati Monster is a car\")\n",
    "    \n",
    "else:\n",
    "    print(\"Ducati Monster is not a car\")"
   ]
  },
  {
   "cell_type": "code",
   "execution_count": 9,
   "metadata": {},
   "outputs": [
    {
     "name": "stdout",
     "output_type": "stream",
     "text": [
      "At least one of Ducati Monster and Honda Accord is not a car\n"
     ]
    }
   ],
   "source": [
    "if \"Ducati Monster\" in car_tuple and 'Honda Accord' in car_tuple:\n",
    "    \n",
    "    print(\"Ducati Monster and Honda Accord are both cars\")\n",
    "    \n",
    "else:\n",
    "    print(\"At least one of Ducati Monster and Honda Accord is not a car\")"
   ]
  },
  {
   "cell_type": "code",
   "execution_count": 10,
   "metadata": {},
   "outputs": [
    {
     "name": "stdout",
     "output_type": "stream",
     "text": [
      "At least one of Ducati Monster and Honda Accord is a car\n"
     ]
    }
   ],
   "source": [
    "if \"Ducati Monster\" in car_tuple or 'Honda Accord' in car_tuple:\n",
    "    print(\"At least one of Ducati Monster and Honda Accord is a car\")\n",
    "    \n",
    "else:\n",
    "    print(\"Neither Ducati Monster nor Honda Accord is a car\")"
   ]
  },
  {
   "cell_type": "code",
   "execution_count": 2,
   "metadata": {},
   "outputs": [],
   "source": [
    "salary_details = {\"Lisa\":25000,\n",
    "                  \"Jason\":45000,\n",
    "                  \"Cooper\":35000,\n",
    "                  \"Elias\":23000,\n",
    "                  \"Jordan\":77000}"
   ]
  },
  {
   "cell_type": "code",
   "execution_count": 3,
   "metadata": {},
   "outputs": [
    {
     "data": {
      "text/plain": [
       "{'Lisa': 25000,\n",
       " 'Jason': 45000,\n",
       " 'Cooper': 35000,\n",
       " 'Elias': 23000,\n",
       " 'Jordan': 77000}"
      ]
     },
     "execution_count": 3,
     "metadata": {},
     "output_type": "execute_result"
    }
   ],
   "source": [
    "salary_details"
   ]
  },
  {
   "cell_type": "code",
   "execution_count": 4,
   "metadata": {},
   "outputs": [
    {
     "name": "stdout",
     "output_type": "stream",
     "text": [
      "We have the salary details for Lisa\n"
     ]
    }
   ],
   "source": [
    "if \"Lisa\" in salary_details:\n",
    "    print(\"We have the salary details for Lisa\")\n",
    "    \n",
    "else:\n",
    "    print(\"We don't have the salary details for Lisa\") "
   ]
  },
  {
   "cell_type": "code",
   "execution_count": 14,
   "metadata": {},
   "outputs": [
    {
     "name": "stdout",
     "output_type": "stream",
     "text": [
      "We don't have the salary details for Ruby \n"
     ]
    }
   ],
   "source": [
    "if \"Ruby\" in salary_details:\n",
    "    print(\"We have the salary details for Ruby \")\n",
    "    \n",
    "else:\n",
    "    print(\"We don't have the salary details for Ruby \") "
   ]
  },
  {
   "cell_type": "code",
   "execution_count": 15,
   "metadata": {},
   "outputs": [
    {
     "name": "stdout",
     "output_type": "stream",
     "text": [
      "Cora's annual income is 31000\n"
     ]
    }
   ],
   "source": [
    "if \"Cora\" in salary_details:\n",
    "    print(\"We have salary details for Cora\")\n",
    "    \n",
    "else :\n",
    "    salary_details[\"Cora\"] = 31000\n",
    "    print(\"Cora's annual income is %s\"%salary_details[\"Cora\"])"
   ]
  },
  {
   "cell_type": "code",
   "execution_count": 16,
   "metadata": {},
   "outputs": [
    {
     "data": {
      "text/plain": [
       "{'Lisa': 25000,\n",
       " 'Jason': 45000,\n",
       " 'Cooper': 35000,\n",
       " 'Elias': 23000,\n",
       " 'Jordan': 77000,\n",
       " 'Cora': 31000}"
      ]
     },
     "execution_count": 16,
     "metadata": {},
     "output_type": "execute_result"
    }
   ],
   "source": [
    "salary_details"
   ]
  },
  {
   "cell_type": "code",
   "execution_count": 17,
   "metadata": {},
   "outputs": [],
   "source": [
    "age_details = {\"Lisa\": 25, \"Jason\": 30, \"Cooper\": 29, \"Sarah\": 22}"
   ]
  },
  {
   "cell_type": "code",
   "execution_count": 18,
   "metadata": {},
   "outputs": [
    {
     "name": "stdout",
     "output_type": "stream",
     "text": [
      "Jason is older than Lisa\n",
      "Jason is older than Cooper\n",
      "Jason is the oldest person in the given dictionary\n"
     ]
    }
   ],
   "source": [
    "if age_details[\"Lisa\"] < age_details[\"Jason\"]:\n",
    "    \n",
    "    print(\"Jason is older than Lisa\")\n",
    "    \n",
    "    if age_details[\"Jason\"] > age_details[\"Cooper\"]:\n",
    "        \n",
    "        print(\"Jason is older than Cooper\")\n",
    "        \n",
    "        if age_details[\"Cooper\"] < age_details[\"Sarah\"]:\n",
    "\n",
    "             print(\"Cooper is younger than Sarah\")\n",
    "                \n",
    "        elif age_details[\"Cooper\"] > age_details[\"Sarah\"]:\n",
    "\n",
    "             print(\"Jason is the oldest person in the given dictionary\")\n",
    "            \n",
    "else:\n",
    "    print(\"Jason is not the oldest person in the given dictionary\")"
   ]
  },
  {
   "cell_type": "code",
   "execution_count": 19,
   "metadata": {},
   "outputs": [],
   "source": [
    "details = [['Jane', 'Amanda', 'Emma'], \n",
    "           [35, 40, 50], \n",
    "           [20000, 50000, 40000]]"
   ]
  },
  {
   "cell_type": "code",
   "execution_count": 20,
   "metadata": {},
   "outputs": [
    {
     "name": "stdout",
     "output_type": "stream",
     "text": [
      "Amanda has the highest salary and her age is greater than 30\n"
     ]
    }
   ],
   "source": [
    "max_sal = max(details[2])\n",
    "\n",
    "if (details[2][1] == max_sal):\n",
    "        \n",
    "        if(details[1][1] > 30):\n",
    "            print(details[0][1], \"has the highest salary and her age is greater than 30\")\n",
    "            \n",
    "        elif(details[1][1] == 30):\n",
    "            print(details[0][1],\"has the highest salary and she is 30 years old\")\n",
    "           \n",
    "        else:\n",
    "            print(\"Amanda has the highest salary and her age is less than 30\")\n",
    "else:\n",
    "    print(\"Amanda is not the highest paid employee\")\n",
    "            "
   ]
  },
  {
   "cell_type": "code",
   "execution_count": null,
   "metadata": {},
   "outputs": [],
   "source": []
  },
  {
   "cell_type": "code",
   "execution_count": null,
   "metadata": {},
   "outputs": [],
   "source": []
  },
  {
   "cell_type": "code",
   "execution_count": null,
   "metadata": {},
   "outputs": [],
   "source": []
  },
  {
   "cell_type": "code",
   "execution_count": null,
   "metadata": {},
   "outputs": [],
   "source": []
  },
  {
   "cell_type": "code",
   "execution_count": null,
   "metadata": {},
   "outputs": [],
   "source": []
  },
  {
   "cell_type": "code",
   "execution_count": null,
   "metadata": {},
   "outputs": [],
   "source": []
  },
  {
   "cell_type": "code",
   "execution_count": null,
   "metadata": {},
   "outputs": [],
   "source": []
  },
  {
   "cell_type": "code",
   "execution_count": 1,
   "metadata": {},
   "outputs": [
    {
     "data": {
      "text/plain": [
       "int"
      ]
     },
     "execution_count": 1,
     "metadata": {},
     "output_type": "execute_result"
    }
   ],
   "source": [
    "type(66)"
   ]
  },
  {
   "cell_type": "code",
   "execution_count": 2,
   "metadata": {},
   "outputs": [
    {
     "data": {
      "text/plain": [
       "66.0"
      ]
     },
     "execution_count": 2,
     "metadata": {},
     "output_type": "execute_result"
    }
   ],
   "source": [
    "float(66)"
   ]
  },
  {
   "cell_type": "code",
   "execution_count": 3,
   "metadata": {},
   "outputs": [
    {
     "data": {
      "text/plain": [
       "int"
      ]
     },
     "execution_count": 3,
     "metadata": {},
     "output_type": "execute_result"
    }
   ],
   "source": [
    "a = 66\n",
    "\n",
    "type(a)"
   ]
  },
  {
   "cell_type": "code",
   "execution_count": 4,
   "metadata": {},
   "outputs": [
    {
     "data": {
      "text/plain": [
       "66.0"
      ]
     },
     "execution_count": 4,
     "metadata": {},
     "output_type": "execute_result"
    }
   ],
   "source": [
    "my_float = float(a)\n",
    "\n",
    "my_float"
   ]
  },
  {
   "cell_type": "code",
   "execution_count": 5,
   "metadata": {},
   "outputs": [
    {
     "data": {
      "text/plain": [
       "float"
      ]
     },
     "execution_count": 5,
     "metadata": {},
     "output_type": "execute_result"
    }
   ],
   "source": [
    "type(my_float)"
   ]
  },
  {
   "cell_type": "code",
   "execution_count": 6,
   "metadata": {},
   "outputs": [
    {
     "data": {
      "text/plain": [
       "float"
      ]
     },
     "execution_count": 6,
     "metadata": {},
     "output_type": "execute_result"
    }
   ],
   "source": [
    "type(390.8)"
   ]
  },
  {
   "cell_type": "code",
   "execution_count": 7,
   "metadata": {},
   "outputs": [
    {
     "data": {
      "text/plain": [
       "390"
      ]
     },
     "execution_count": 7,
     "metadata": {},
     "output_type": "execute_result"
    }
   ],
   "source": [
    "int(390.8)"
   ]
  },
  {
   "cell_type": "code",
   "execution_count": 8,
   "metadata": {},
   "outputs": [
    {
     "data": {
      "text/plain": [
       "66"
      ]
     },
     "execution_count": 8,
     "metadata": {},
     "output_type": "execute_result"
    }
   ],
   "source": [
    "b = 66.6\n",
    "\n",
    "my_int = int(b)\n",
    "\n",
    "my_int"
   ]
  },
  {
   "cell_type": "code",
   "execution_count": 9,
   "metadata": {},
   "outputs": [
    {
     "data": {
      "text/plain": [
       "float"
      ]
     },
     "execution_count": 9,
     "metadata": {},
     "output_type": "execute_result"
    }
   ],
   "source": [
    "type(b)"
   ]
  },
  {
   "cell_type": "code",
   "execution_count": 10,
   "metadata": {},
   "outputs": [
    {
     "data": {
      "text/plain": [
       "int"
      ]
     },
     "execution_count": 10,
     "metadata": {},
     "output_type": "execute_result"
    }
   ],
   "source": [
    "type(my_int)"
   ]
  },
  {
   "cell_type": "code",
   "execution_count": 11,
   "metadata": {},
   "outputs": [
    {
     "name": "stdout",
     "output_type": "stream",
     "text": [
      "datatype of num_int: <class 'int'>\n",
      "datatype of num_float: <class 'float'>\n"
     ]
    }
   ],
   "source": [
    "num_int = 76\n",
    "num_float = 23.4\n",
    "\n",
    "print(\"datatype of num_int:\", type(num_int))\n",
    "print(\"datatype of num_float:\", type(num_float))"
   ]
  },
  {
   "cell_type": "code",
   "execution_count": 12,
   "metadata": {},
   "outputs": [
    {
     "name": "stdout",
     "output_type": "stream",
     "text": [
      "99.4\n",
      "datatype of new_num is <class 'float'>\n"
     ]
    }
   ],
   "source": [
    "new_num = num_int + num_float\n",
    "\n",
    "print(new_num)\n",
    "print(\"datatype of new_num is\", type(new_num))"
   ]
  },
  {
   "cell_type": "code",
   "execution_count": 13,
   "metadata": {},
   "outputs": [],
   "source": [
    "my_float = 66.999999"
   ]
  },
  {
   "cell_type": "code",
   "execution_count": 14,
   "metadata": {},
   "outputs": [
    {
     "data": {
      "text/plain": [
       "66"
      ]
     },
     "execution_count": 14,
     "metadata": {},
     "output_type": "execute_result"
    }
   ],
   "source": [
    "my_num = int(my_float)\n",
    "\n",
    "my_num"
   ]
  },
  {
   "cell_type": "code",
   "execution_count": 15,
   "metadata": {},
   "outputs": [
    {
     "name": "stdout",
     "output_type": "stream",
     "text": [
      "125\n",
      "390\n"
     ]
    }
   ],
   "source": [
    "a = 125.0\n",
    "b = 390.8\n",
    "\n",
    "print(int (a))\n",
    "print(int (b))"
   ]
  },
  {
   "cell_type": "code",
   "execution_count": 16,
   "metadata": {},
   "outputs": [
    {
     "data": {
      "text/plain": [
       "12"
      ]
     },
     "execution_count": 16,
     "metadata": {},
     "output_type": "execute_result"
    }
   ],
   "source": [
    "int('12')"
   ]
  },
  {
   "cell_type": "code",
   "execution_count": 17,
   "metadata": {},
   "outputs": [
    {
     "data": {
      "text/plain": [
       "str"
      ]
     },
     "execution_count": 17,
     "metadata": {},
     "output_type": "execute_result"
    }
   ],
   "source": [
    "a = \"66\"\n",
    "\n",
    "type(a)"
   ]
  },
  {
   "cell_type": "code",
   "execution_count": 18,
   "metadata": {},
   "outputs": [
    {
     "data": {
      "text/plain": [
       "66"
      ]
     },
     "execution_count": 18,
     "metadata": {},
     "output_type": "execute_result"
    }
   ],
   "source": [
    "my_int = int(a)\n",
    "\n",
    "my_int"
   ]
  },
  {
   "cell_type": "code",
   "execution_count": 19,
   "metadata": {},
   "outputs": [
    {
     "data": {
      "text/plain": [
       "int"
      ]
     },
     "execution_count": 19,
     "metadata": {},
     "output_type": "execute_result"
    }
   ],
   "source": [
    "type (my_int)"
   ]
  },
  {
   "cell_type": "code",
   "execution_count": 20,
   "metadata": {},
   "outputs": [
    {
     "ename": "TypeError",
     "evalue": "unsupported operand type(s) for +: 'int' and 'str'",
     "output_type": "error",
     "traceback": [
      "\u001b[0;31m---------------------------------------------------------------------------\u001b[0m",
      "\u001b[0;31mTypeError\u001b[0m                                 Traceback (most recent call last)",
      "\u001b[0;32m<ipython-input-20-c44667efbb63>\u001b[0m in \u001b[0;36m<module>\u001b[0;34m\u001b[0m\n\u001b[1;32m      2\u001b[0m \u001b[0mnum_str\u001b[0m \u001b[0;34m=\u001b[0m \u001b[0;34m\"456\"\u001b[0m\u001b[0;34m\u001b[0m\u001b[0;34m\u001b[0m\u001b[0m\n\u001b[1;32m      3\u001b[0m \u001b[0;34m\u001b[0m\u001b[0m\n\u001b[0;32m----> 4\u001b[0;31m \u001b[0mprint\u001b[0m\u001b[0;34m(\u001b[0m\u001b[0mnum_int\u001b[0m \u001b[0;34m+\u001b[0m \u001b[0mnum_str\u001b[0m\u001b[0;34m)\u001b[0m\u001b[0;34m\u001b[0m\u001b[0;34m\u001b[0m\u001b[0m\n\u001b[0m",
      "\u001b[0;31mTypeError\u001b[0m: unsupported operand type(s) for +: 'int' and 'str'"
     ]
    }
   ],
   "source": [
    "num_int = 123\n",
    "num_str = \"456\"\n",
    "\n",
    "print(num_int + num_str)"
   ]
  },
  {
   "cell_type": "code",
   "execution_count": 21,
   "metadata": {},
   "outputs": [
    {
     "name": "stdout",
     "output_type": "stream",
     "text": [
      "Data type of num_int: <class 'int'>\n",
      "Data type of num_str: <class 'str'>\n"
     ]
    }
   ],
   "source": [
    "print(\"Data type of num_int:\", type(num_int))\n",
    "print(\"Data type of num_str:\", type(num_str))"
   ]
  },
  {
   "cell_type": "code",
   "execution_count": 22,
   "metadata": {},
   "outputs": [
    {
     "name": "stdout",
     "output_type": "stream",
     "text": [
      "Data type of num_str: <class 'int'>\n"
     ]
    }
   ],
   "source": [
    "num_str = int(num_str)\n",
    "\n",
    "print(\"Data type of num_str:\", type(num_str))"
   ]
  },
  {
   "cell_type": "code",
   "execution_count": 23,
   "metadata": {},
   "outputs": [
    {
     "name": "stdout",
     "output_type": "stream",
     "text": [
      "579\n",
      "Data type of sum_value: <class 'int'>\n"
     ]
    }
   ],
   "source": [
    "sum_value = num_int + num_str\n",
    "\n",
    "print(sum_value)\n",
    "print(\"Data type of sum_value:\",type(sum_value))"
   ]
  },
  {
   "cell_type": "code",
   "execution_count": 24,
   "metadata": {},
   "outputs": [
    {
     "ename": "ValueError",
     "evalue": "invalid literal for int() with base 10: 'five'",
     "output_type": "error",
     "traceback": [
      "\u001b[0;31m---------------------------------------------------------------------------\u001b[0m",
      "\u001b[0;31mValueError\u001b[0m                                Traceback (most recent call last)",
      "\u001b[0;32m<ipython-input-24-fba7bc20d09b>\u001b[0m in \u001b[0;36m<module>\u001b[0;34m\u001b[0m\n\u001b[1;32m      1\u001b[0m \u001b[0mvalue_str\u001b[0m \u001b[0;34m=\u001b[0m \u001b[0;34m\"five\"\u001b[0m\u001b[0;34m\u001b[0m\u001b[0;34m\u001b[0m\u001b[0m\n\u001b[1;32m      2\u001b[0m \u001b[0;34m\u001b[0m\u001b[0m\n\u001b[0;32m----> 3\u001b[0;31m \u001b[0mvalue_int\u001b[0m \u001b[0;34m=\u001b[0m \u001b[0mint\u001b[0m\u001b[0;34m(\u001b[0m\u001b[0mvalue_str\u001b[0m\u001b[0;34m)\u001b[0m\u001b[0;34m\u001b[0m\u001b[0;34m\u001b[0m\u001b[0m\n\u001b[0m",
      "\u001b[0;31mValueError\u001b[0m: invalid literal for int() with base 10: 'five'"
     ]
    }
   ],
   "source": [
    "value_str = \"five\"\n",
    "\n",
    "value_int = int(value_str)"
   ]
  },
  {
   "cell_type": "code",
   "execution_count": 25,
   "metadata": {},
   "outputs": [
    {
     "data": {
      "text/plain": [
       "'12'"
      ]
     },
     "execution_count": 25,
     "metadata": {},
     "output_type": "execute_result"
    }
   ],
   "source": [
    "str(12)"
   ]
  },
  {
   "cell_type": "code",
   "execution_count": 26,
   "metadata": {},
   "outputs": [
    {
     "data": {
      "text/plain": [
       "'123'"
      ]
     },
     "execution_count": 26,
     "metadata": {},
     "output_type": "execute_result"
    }
   ],
   "source": [
    "my_str = str(num_int)\n",
    "my_str"
   ]
  },
  {
   "cell_type": "code",
   "execution_count": 27,
   "metadata": {},
   "outputs": [
    {
     "name": "stdout",
     "output_type": "stream",
     "text": [
      "John has 5524.53 points.\n"
     ]
    }
   ],
   "source": [
    "my_float = 5524.53\n",
    "\n",
    "print(\"John has \" + str(my_float) + \" points.\")"
   ]
  },
  {
   "cell_type": "code",
   "execution_count": 28,
   "metadata": {},
   "outputs": [
    {
     "ename": "TypeError",
     "evalue": "can only concatenate str (not \"int\") to str",
     "output_type": "error",
     "traceback": [
      "\u001b[0;31m---------------------------------------------------------------------------\u001b[0m",
      "\u001b[0;31mTypeError\u001b[0m                                 Traceback (most recent call last)",
      "\u001b[0;32m<ipython-input-28-73bd9960d346>\u001b[0m in \u001b[0;36m<module>\u001b[0;34m\u001b[0m\n\u001b[1;32m      2\u001b[0m \u001b[0mlines\u001b[0m \u001b[0;34m=\u001b[0m \u001b[0;36m50\u001b[0m\u001b[0;34m\u001b[0m\u001b[0;34m\u001b[0m\u001b[0m\n\u001b[1;32m      3\u001b[0m \u001b[0;34m\u001b[0m\u001b[0m\n\u001b[0;32m----> 4\u001b[0;31m \u001b[0mprint\u001b[0m\u001b[0;34m(\u001b[0m\u001b[0;34m\"Congratulations, \"\u001b[0m \u001b[0;34m+\u001b[0m \u001b[0muser\u001b[0m \u001b[0;34m+\u001b[0m \u001b[0;34m\"! You just wrote \"\u001b[0m \u001b[0;34m+\u001b[0m \u001b[0mlines\u001b[0m \u001b[0;34m+\u001b[0m \u001b[0;34m\" lines of code.\"\u001b[0m\u001b[0;34m)\u001b[0m\u001b[0;34m\u001b[0m\u001b[0;34m\u001b[0m\u001b[0m\n\u001b[0m",
      "\u001b[0;31mTypeError\u001b[0m: can only concatenate str (not \"int\") to str"
     ]
    }
   ],
   "source": [
    "user = \"John\"\n",
    "lines = 50\n",
    "\n",
    "print(\"Congratulations, \" + user + \"! You just wrote \" + lines + \" lines of code.\")"
   ]
  },
  {
   "cell_type": "code",
   "execution_count": 29,
   "metadata": {},
   "outputs": [
    {
     "name": "stdout",
     "output_type": "stream",
     "text": [
      "Congratulations, John! You just wrote 50 lines of code.\n"
     ]
    }
   ],
   "source": [
    "user = \"John\"\n",
    "lines = 50\n",
    "\n",
    "print(\"Congratulations, \" + user + \"! You just wrote \" + str (lines) + \" lines of code.\")"
   ]
  },
  {
   "cell_type": "code",
   "execution_count": 30,
   "metadata": {},
   "outputs": [
    {
     "name": "stdout",
     "output_type": "stream",
     "text": [
      "6\n"
     ]
    },
    {
     "ename": "TypeError",
     "evalue": "can only concatenate str (not \"int\") to str",
     "output_type": "error",
     "traceback": [
      "\u001b[0;31m---------------------------------------------------------------------------\u001b[0m",
      "\u001b[0;31mTypeError\u001b[0m                                 Traceback (most recent call last)",
      "\u001b[0;32m<ipython-input-30-e6bea4f2be92>\u001b[0m in \u001b[0;36m<module>\u001b[0;34m\u001b[0m\n\u001b[1;32m      1\u001b[0m \u001b[0mnumber\u001b[0m \u001b[0;34m=\u001b[0m \u001b[0minput\u001b[0m\u001b[0;34m(\u001b[0m\u001b[0;34m)\u001b[0m\u001b[0;34m\u001b[0m\u001b[0;34m\u001b[0m\u001b[0m\n\u001b[1;32m      2\u001b[0m \u001b[0;34m\u001b[0m\u001b[0m\n\u001b[0;32m----> 3\u001b[0;31m \u001b[0mplus_ten\u001b[0m \u001b[0;34m=\u001b[0m \u001b[0mnumber\u001b[0m \u001b[0;34m+\u001b[0m \u001b[0;36m10\u001b[0m\u001b[0;34m\u001b[0m\u001b[0;34m\u001b[0m\u001b[0m\n\u001b[0m",
      "\u001b[0;31mTypeError\u001b[0m: can only concatenate str (not \"int\") to str"
     ]
    }
   ],
   "source": [
    "number = input()\n",
    "\n",
    "plus_ten = number + 10"
   ]
  },
  {
   "cell_type": "code",
   "execution_count": 31,
   "metadata": {},
   "outputs": [
    {
     "data": {
      "text/plain": [
       "str"
      ]
     },
     "execution_count": 31,
     "metadata": {},
     "output_type": "execute_result"
    }
   ],
   "source": [
    "type(number)"
   ]
  },
  {
   "cell_type": "code",
   "execution_count": 32,
   "metadata": {},
   "outputs": [
    {
     "name": "stdout",
     "output_type": "stream",
     "text": [
      "7\n"
     ]
    },
    {
     "ename": "TypeError",
     "evalue": "can only concatenate str (not \"int\") to str",
     "output_type": "error",
     "traceback": [
      "\u001b[0;31m---------------------------------------------------------------------------\u001b[0m",
      "\u001b[0;31mTypeError\u001b[0m                                 Traceback (most recent call last)",
      "\u001b[0;32m<ipython-input-32-ca282ef253ad>\u001b[0m in \u001b[0;36m<module>\u001b[0;34m\u001b[0m\n\u001b[1;32m      3\u001b[0m \u001b[0mplus_ten\u001b[0m \u001b[0;34m=\u001b[0m \u001b[0mnumber\u001b[0m \u001b[0;34m+\u001b[0m \u001b[0;36m10\u001b[0m\u001b[0;34m\u001b[0m\u001b[0;34m\u001b[0m\u001b[0m\n\u001b[1;32m      4\u001b[0m \u001b[0;34m\u001b[0m\u001b[0m\n\u001b[0;32m----> 5\u001b[0;31m \u001b[0mprint\u001b[0m \u001b[0;34m(\u001b[0m\u001b[0;34m\"If we add 10 to this number, we get \"\u001b[0m \u001b[0;34m+\u001b[0m \u001b[0mplus_ten\u001b[0m\u001b[0;34m)\u001b[0m\u001b[0;34m\u001b[0m\u001b[0;34m\u001b[0m\u001b[0m\n\u001b[0m",
      "\u001b[0;31mTypeError\u001b[0m: can only concatenate str (not \"int\") to str"
     ]
    }
   ],
   "source": [
    "number = int(input())\n",
    "\n",
    "plus_ten = number + 10\n",
    "\n",
    "print (\"If we add 10 to this number, we get \" + plus_ten)"
   ]
  },
  {
   "cell_type": "code",
   "execution_count": 33,
   "metadata": {},
   "outputs": [
    {
     "name": "stdout",
     "output_type": "stream",
     "text": [
      "6\n",
      "If we add 10 to this number, we get 16\n"
     ]
    }
   ],
   "source": [
    "number = int(input())\n",
    "\n",
    "plus_ten = number + 10\n",
    "\n",
    "print (\"If we add 10 to this number, we get \" + str(plus_ten))"
   ]
  },
  {
   "cell_type": "code",
   "execution_count": 34,
   "metadata": {},
   "outputs": [
    {
     "name": "stdout",
     "output_type": "stream",
     "text": [
      "67\n",
      "\n",
      "If we add 10 and 20 to this number, we get 77 and 87 \n"
     ]
    }
   ],
   "source": [
    "number = int(input())\n",
    "plus_ten = number + 10\n",
    "plus_twenty = number + 20\n",
    "\n",
    "print (\"\\nIf we add 10 and 20 to this number, we get %s and %s \" %(plus_ten, plus_twenty))"
   ]
  },
  {
   "cell_type": "code",
   "execution_count": null,
   "metadata": {},
   "outputs": [],
   "source": []
  },
  {
   "cell_type": "code",
   "execution_count": null,
   "metadata": {},
   "outputs": [],
   "source": []
  },
  {
   "cell_type": "code",
   "execution_count": null,
   "metadata": {},
   "outputs": [],
   "source": []
  },
  {
   "cell_type": "code",
   "execution_count": null,
   "metadata": {},
   "outputs": [],
   "source": []
  },
  {
   "cell_type": "code",
   "execution_count": 1,
   "metadata": {},
   "outputs": [
    {
     "ename": "TypeError",
     "evalue": "unsupported operand type(s) for -: 'str' and 'str'",
     "output_type": "error",
     "traceback": [
      "\u001b[0;31m---------------------------------------------------------------------------\u001b[0m",
      "\u001b[0;31mTypeError\u001b[0m                                 Traceback (most recent call last)",
      "\u001b[0;32m<ipython-input-1-ab2d6d835aef>\u001b[0m in \u001b[0;36m<module>\u001b[0;34m\u001b[0m\n\u001b[1;32m      3\u001b[0m \u001b[0mnew_num\u001b[0m \u001b[0;34m=\u001b[0m \u001b[0;34m\"10\"\u001b[0m\u001b[0;34m\u001b[0m\u001b[0;34m\u001b[0m\u001b[0m\n\u001b[1;32m      4\u001b[0m \u001b[0;34m\u001b[0m\u001b[0m\n\u001b[0;32m----> 5\u001b[0;31m \u001b[0mremaining_num\u001b[0m \u001b[0;34m=\u001b[0m \u001b[0mold_num\u001b[0m \u001b[0;34m-\u001b[0m \u001b[0mnew_num\u001b[0m\u001b[0;34m\u001b[0m\u001b[0;34m\u001b[0m\u001b[0m\n\u001b[0m",
      "\u001b[0;31mTypeError\u001b[0m: unsupported operand type(s) for -: 'str' and 'str'"
     ]
    }
   ],
   "source": [
    "old_num = \"500\"\n",
    "\n",
    "new_num = \"10\"\n",
    "\n",
    "remaining_num = old_num - new_num"
   ]
  },
  {
   "cell_type": "code",
   "execution_count": 2,
   "metadata": {},
   "outputs": [
    {
     "data": {
      "text/plain": [
       "str"
      ]
     },
     "execution_count": 2,
     "metadata": {},
     "output_type": "execute_result"
    }
   ],
   "source": [
    "type(old_num)"
   ]
  },
  {
   "cell_type": "code",
   "execution_count": 3,
   "metadata": {},
   "outputs": [
    {
     "data": {
      "text/plain": [
       "500"
      ]
     },
     "execution_count": 3,
     "metadata": {},
     "output_type": "execute_result"
    }
   ],
   "source": [
    "int(old_num)"
   ]
  },
  {
   "cell_type": "code",
   "execution_count": 4,
   "metadata": {},
   "outputs": [
    {
     "data": {
      "text/plain": [
       "int"
      ]
     },
     "execution_count": 4,
     "metadata": {},
     "output_type": "execute_result"
    }
   ],
   "source": [
    "type(int(old_num))"
   ]
  },
  {
   "cell_type": "code",
   "execution_count": 5,
   "metadata": {},
   "outputs": [
    {
     "data": {
      "text/plain": [
       "490"
      ]
     },
     "execution_count": 5,
     "metadata": {},
     "output_type": "execute_result"
    }
   ],
   "source": [
    "old_num = \"500\"\n",
    "new_num = \"10\"\n",
    "\n",
    "remaining_num = int(old_num) - int(new_num)\n",
    "\n",
    "remaining_num"
   ]
  },
  {
   "cell_type": "code",
   "execution_count": 6,
   "metadata": {},
   "outputs": [
    {
     "data": {
      "text/plain": [
       "'40.660.8'"
      ]
     },
     "execution_count": 6,
     "metadata": {},
     "output_type": "execute_result"
    }
   ],
   "source": [
    "old_code = \"40.6\"\n",
    "new_code = \"60.8\"\n",
    "\n",
    "total_code = old_code + new_code\n",
    "\n",
    "total_code"
   ]
  },
  {
   "cell_type": "code",
   "execution_count": 7,
   "metadata": {},
   "outputs": [
    {
     "data": {
      "text/plain": [
       "101.0"
      ]
     },
     "execution_count": 7,
     "metadata": {},
     "output_type": "execute_result"
    }
   ],
   "source": [
    "old_code = \"40.6\"\n",
    "new_code = \"60.4\"\n",
    "\n",
    "total_code = float(old_code) + float(new_code)\n",
    "\n",
    "total_code"
   ]
  },
  {
   "cell_type": "code",
   "execution_count": 8,
   "metadata": {},
   "outputs": [
    {
     "data": {
      "text/plain": [
       "10.6"
      ]
     },
     "execution_count": 8,
     "metadata": {},
     "output_type": "execute_result"
    }
   ],
   "source": [
    "my_float = \"4.6\"\n",
    "my_int = \"6\"\n",
    "\n",
    "total = float(my_float) + int(my_int)\n",
    "total"
   ]
  },
  {
   "cell_type": "code",
   "execution_count": 9,
   "metadata": {},
   "outputs": [
    {
     "data": {
      "text/plain": [
       "['p', 'y', 't', 'h', 'o', 'n', ' ', 'w', 'o', 'r', 'l', 'd']"
      ]
     },
     "execution_count": 9,
     "metadata": {},
     "output_type": "execute_result"
    }
   ],
   "source": [
    "value_str = \"python world\"\n",
    "\n",
    "value_list = list(value_str)\n",
    "value_list"
   ]
  },
  {
   "cell_type": "code",
   "execution_count": 10,
   "metadata": {},
   "outputs": [
    {
     "name": "stdout",
     "output_type": "stream",
     "text": [
      "Type of value_str is: <class 'str'>\n",
      "Type of value_list is: <class 'list'>\n"
     ]
    }
   ],
   "source": [
    "print('Type of value_str is:', type(value_str))\n",
    "\n",
    "print('Type of value_list is:', type(value_list))"
   ]
  },
  {
   "cell_type": "code",
   "execution_count": 11,
   "metadata": {},
   "outputs": [
    {
     "ename": "TypeError",
     "evalue": "list expected at most 1 arguments, got 5",
     "output_type": "error",
     "traceback": [
      "\u001b[0;31m---------------------------------------------------------------------------\u001b[0m",
      "\u001b[0;31mTypeError\u001b[0m                                 Traceback (most recent call last)",
      "\u001b[0;32m<ipython-input-11-f76743461436>\u001b[0m in \u001b[0;36m<module>\u001b[0;34m\u001b[0m\n\u001b[0;32m----> 1\u001b[0;31m \u001b[0mlist\u001b[0m\u001b[0;34m(\u001b[0m\u001b[0;36m1\u001b[0m\u001b[0;34m,\u001b[0m \u001b[0;36m2\u001b[0m\u001b[0;34m,\u001b[0m \u001b[0;36m3\u001b[0m\u001b[0;34m,\u001b[0m \u001b[0;36m4\u001b[0m\u001b[0;34m,\u001b[0m \u001b[0;36m5\u001b[0m\u001b[0;34m)\u001b[0m\u001b[0;34m\u001b[0m\u001b[0;34m\u001b[0m\u001b[0m\n\u001b[0m",
      "\u001b[0;31mTypeError\u001b[0m: list expected at most 1 arguments, got 5"
     ]
    }
   ],
   "source": [
    "list(1, 2, 3, 4, 5)"
   ]
  },
  {
   "cell_type": "code",
   "execution_count": 12,
   "metadata": {},
   "outputs": [
    {
     "data": {
      "text/plain": [
       "[1, 2, 3, 4, 5]"
      ]
     },
     "execution_count": 12,
     "metadata": {},
     "output_type": "execute_result"
    }
   ],
   "source": [
    "list((1, 2, 3, 4, 5))"
   ]
  },
  {
   "cell_type": "code",
   "execution_count": 13,
   "metadata": {},
   "outputs": [
    {
     "data": {
      "text/plain": [
       "('Apple', 'Orange', 'Mango', 'Banana')"
      ]
     },
     "execution_count": 13,
     "metadata": {},
     "output_type": "execute_result"
    }
   ],
   "source": [
    "my_tuple = ('Apple', 'Orange', 'Mango', 'Banana')\n",
    "\n",
    "my_tuple"
   ]
  },
  {
   "cell_type": "code",
   "execution_count": 14,
   "metadata": {},
   "outputs": [
    {
     "data": {
      "text/plain": [
       "tuple"
      ]
     },
     "execution_count": 14,
     "metadata": {},
     "output_type": "execute_result"
    }
   ],
   "source": [
    "type(my_tuple)"
   ]
  },
  {
   "cell_type": "code",
   "execution_count": 15,
   "metadata": {},
   "outputs": [
    {
     "data": {
      "text/plain": [
       "['Apple', 'Orange', 'Mango', 'Banana']"
      ]
     },
     "execution_count": 15,
     "metadata": {},
     "output_type": "execute_result"
    }
   ],
   "source": [
    "my_list = list(my_tuple)\n",
    "\n",
    "my_list"
   ]
  },
  {
   "cell_type": "code",
   "execution_count": 16,
   "metadata": {},
   "outputs": [
    {
     "data": {
      "text/plain": [
       "list"
      ]
     },
     "execution_count": 16,
     "metadata": {},
     "output_type": "execute_result"
    }
   ],
   "source": [
    "type (my_list)"
   ]
  },
  {
   "cell_type": "code",
   "execution_count": 17,
   "metadata": {},
   "outputs": [
    {
     "data": {
      "text/plain": [
       "('p', 'y', 't', 'h', 'o', 'n', ' ', 'w', 'o', 'r', 'l', 'd')"
      ]
     },
     "execution_count": 17,
     "metadata": {},
     "output_type": "execute_result"
    }
   ],
   "source": [
    "value_str = \"python world\"\n",
    "\n",
    "value_tup = tuple(value_str)\n",
    "\n",
    "value_tup"
   ]
  },
  {
   "cell_type": "code",
   "execution_count": 18,
   "metadata": {},
   "outputs": [
    {
     "name": "stdout",
     "output_type": "stream",
     "text": [
      "Type of value_str is: <class 'str'>\n",
      "Type of value_tup is: <class 'tuple'>\n"
     ]
    }
   ],
   "source": [
    "print('Type of value_str is:', type(value_str))\n",
    "\n",
    "print('Type of value_tup is:', type(value_tup))"
   ]
  },
  {
   "cell_type": "code",
   "execution_count": 19,
   "metadata": {},
   "outputs": [
    {
     "ename": "TypeError",
     "evalue": "'int' object is not iterable",
     "output_type": "error",
     "traceback": [
      "\u001b[0;31m---------------------------------------------------------------------------\u001b[0m",
      "\u001b[0;31mTypeError\u001b[0m                                 Traceback (most recent call last)",
      "\u001b[0;32m<ipython-input-19-69ffd3dbb1e0>\u001b[0m in \u001b[0;36m<module>\u001b[0;34m\u001b[0m\n\u001b[0;32m----> 1\u001b[0;31m \u001b[0mtuple\u001b[0m\u001b[0;34m(\u001b[0m\u001b[0;36m5000\u001b[0m\u001b[0;34m)\u001b[0m\u001b[0;34m\u001b[0m\u001b[0;34m\u001b[0m\u001b[0m\n\u001b[0m",
      "\u001b[0;31mTypeError\u001b[0m: 'int' object is not iterable"
     ]
    }
   ],
   "source": [
    "tuple(5000)"
   ]
  },
  {
   "cell_type": "code",
   "execution_count": 20,
   "metadata": {},
   "outputs": [
    {
     "name": "stdout",
     "output_type": "stream",
     "text": [
      "['Apple', 'Orange', 'Mango', 'Banana']\n"
     ]
    }
   ],
   "source": [
    "my_list = ['Apple', 'Orange', 'Mango', 'Banana']\n",
    "\n",
    "print(my_list)"
   ]
  },
  {
   "cell_type": "code",
   "execution_count": 21,
   "metadata": {},
   "outputs": [
    {
     "data": {
      "text/plain": [
       "list"
      ]
     },
     "execution_count": 21,
     "metadata": {},
     "output_type": "execute_result"
    }
   ],
   "source": [
    "type(my_list)"
   ]
  },
  {
   "cell_type": "code",
   "execution_count": 22,
   "metadata": {},
   "outputs": [
    {
     "name": "stdout",
     "output_type": "stream",
     "text": [
      "('Apple', 'Orange', 'Mango', 'Banana')\n"
     ]
    }
   ],
   "source": [
    "my_tuple = tuple(my_list)\n",
    "\n",
    "print(my_tuple)"
   ]
  },
  {
   "cell_type": "code",
   "execution_count": 23,
   "metadata": {},
   "outputs": [
    {
     "data": {
      "text/plain": [
       "tuple"
      ]
     },
     "execution_count": 23,
     "metadata": {},
     "output_type": "execute_result"
    }
   ],
   "source": [
    "type (my_tuple)"
   ]
  },
  {
   "cell_type": "code",
   "execution_count": 24,
   "metadata": {},
   "outputs": [
    {
     "data": {
      "text/plain": [
       "(['William', 50], ['Henry', 60], ['James', 90])"
      ]
     },
     "execution_count": 24,
     "metadata": {},
     "output_type": "execute_result"
    }
   ],
   "source": [
    "age_list = [['William', 50], ['Henry', 60], ['James', 90]]\n",
    "\n",
    "age_tuple = tuple(age_list)\n",
    "\n",
    "age_tuple"
   ]
  },
  {
   "cell_type": "code",
   "execution_count": 25,
   "metadata": {},
   "outputs": [
    {
     "data": {
      "text/plain": [
       "('William', 50)"
      ]
     },
     "execution_count": 25,
     "metadata": {},
     "output_type": "execute_result"
    }
   ],
   "source": [
    "age_tuple = tuple(age_list[0])\n",
    "\n",
    "age_tuple"
   ]
  },
  {
   "cell_type": "code",
   "execution_count": 26,
   "metadata": {},
   "outputs": [
    {
     "name": "stdout",
     "output_type": "stream",
     "text": [
      "Type of age_list is: <class 'list'>\n",
      "Type of age_tuple is: <class 'tuple'>\n"
     ]
    }
   ],
   "source": [
    "print('Type of age_list is:', type(age_list))\n",
    "\n",
    "print('Type of age_tuple is:', type(age_tuple))"
   ]
  },
  {
   "cell_type": "code",
   "execution_count": 27,
   "metadata": {},
   "outputs": [],
   "source": [
    "pet_list = [('Dog', 1), ('Cat', 2), ('Cow', 3), ('Goat', 4)]"
   ]
  },
  {
   "cell_type": "code",
   "execution_count": 28,
   "metadata": {},
   "outputs": [
    {
     "data": {
      "text/plain": [
       "(('Dog', 1), ('Cat', 2), ('Cow', 3), ('Goat', 4))"
      ]
     },
     "execution_count": 28,
     "metadata": {},
     "output_type": "execute_result"
    }
   ],
   "source": [
    "pet_tuple = tuple(pet_list)\n",
    "\n",
    "pet_tuple"
   ]
  },
  {
   "cell_type": "code",
   "execution_count": 29,
   "metadata": {},
   "outputs": [],
   "source": [
    "age_tuple = ('Leo', 18,\n",
    "             'Aaron', 25,\n",
    "             'Easton', 34,\n",
    "             'Jordan', 30)"
   ]
  },
  {
   "cell_type": "code",
   "execution_count": 30,
   "metadata": {},
   "outputs": [
    {
     "data": {
      "text/plain": [
       "('Leo', 18, 'Aaron', 25, 'Easton', 34, 'Jordan', 30)"
      ]
     },
     "execution_count": 30,
     "metadata": {},
     "output_type": "execute_result"
    }
   ],
   "source": [
    "age_tuple"
   ]
  },
  {
   "cell_type": "code",
   "execution_count": 31,
   "metadata": {},
   "outputs": [
    {
     "ename": "ValueError",
     "evalue": "dictionary update sequence element #0 has length 3; 2 is required",
     "output_type": "error",
     "traceback": [
      "\u001b[0;31m---------------------------------------------------------------------------\u001b[0m",
      "\u001b[0;31mValueError\u001b[0m                                Traceback (most recent call last)",
      "\u001b[0;32m<ipython-input-31-c428f45057a9>\u001b[0m in \u001b[0;36m<module>\u001b[0;34m\u001b[0m\n\u001b[0;32m----> 1\u001b[0;31m \u001b[0mdict\u001b[0m\u001b[0;34m(\u001b[0m\u001b[0mage_tuple\u001b[0m\u001b[0;34m)\u001b[0m\u001b[0;34m\u001b[0m\u001b[0;34m\u001b[0m\u001b[0m\n\u001b[0m",
      "\u001b[0;31mValueError\u001b[0m: dictionary update sequence element #0 has length 3; 2 is required"
     ]
    }
   ],
   "source": [
    "dict(age_tuple)"
   ]
  },
  {
   "cell_type": "code",
   "execution_count": 32,
   "metadata": {},
   "outputs": [
    {
     "data": {
      "text/plain": [
       "(('Leo', 18), ('Aaron', 25), ('Easton', 34), ('Jordan', 30))"
      ]
     },
     "execution_count": 32,
     "metadata": {},
     "output_type": "execute_result"
    }
   ],
   "source": [
    "age_tuple1 = (('Leo', 18),\n",
    "              ('Aaron', 25),\n",
    "              ('Easton', 34),\n",
    "              ('Jordan', 30))\n",
    "\n",
    "\n",
    "age_tuple1"
   ]
  },
  {
   "cell_type": "code",
   "execution_count": 33,
   "metadata": {},
   "outputs": [
    {
     "data": {
      "text/plain": [
       "{'Leo': 18, 'Aaron': 25, 'Easton': 34, 'Jordan': 30}"
      ]
     },
     "execution_count": 33,
     "metadata": {},
     "output_type": "execute_result"
    }
   ],
   "source": [
    "dict(age_tuple1)"
   ]
  },
  {
   "cell_type": "code",
   "execution_count": 34,
   "metadata": {},
   "outputs": [
    {
     "data": {
      "text/plain": [
       "(('Leo', 18), ('Aaron', 25), ('Easton', 34), (['Jordan', 'John'], 30))"
      ]
     },
     "execution_count": 34,
     "metadata": {},
     "output_type": "execute_result"
    }
   ],
   "source": [
    "age_tuple2 = (('Leo', 18),\n",
    "              ('Aaron', 25),\n",
    "              ('Easton', 34),\n",
    "              (['Jordan', 'John'], 30))\n",
    "\n",
    "age_tuple2"
   ]
  },
  {
   "cell_type": "code",
   "execution_count": 35,
   "metadata": {},
   "outputs": [
    {
     "ename": "TypeError",
     "evalue": "unhashable type: 'list'",
     "output_type": "error",
     "traceback": [
      "\u001b[0;31m---------------------------------------------------------------------------\u001b[0m",
      "\u001b[0;31mTypeError\u001b[0m                                 Traceback (most recent call last)",
      "\u001b[0;32m<ipython-input-35-b4453b4af653>\u001b[0m in \u001b[0;36m<module>\u001b[0;34m\u001b[0m\n\u001b[0;32m----> 1\u001b[0;31m \u001b[0mdict\u001b[0m\u001b[0;34m(\u001b[0m\u001b[0mage_tuple2\u001b[0m\u001b[0;34m)\u001b[0m\u001b[0;34m\u001b[0m\u001b[0;34m\u001b[0m\u001b[0m\n\u001b[0m",
      "\u001b[0;31mTypeError\u001b[0m: unhashable type: 'list'"
     ]
    }
   ],
   "source": [
    "dict(age_tuple2)"
   ]
  },
  {
   "cell_type": "code",
   "execution_count": 36,
   "metadata": {},
   "outputs": [
    {
     "data": {
      "text/plain": [
       "(('Leo', 18), ('Aaron', 25), ('Easton', 34), ('Jordan', ['John', 30]))"
      ]
     },
     "execution_count": 36,
     "metadata": {},
     "output_type": "execute_result"
    }
   ],
   "source": [
    "age_tuple3 = (('Leo', 18),\n",
    "              ('Aaron', 25),\n",
    "              ('Easton', 34),\n",
    "              ('Jordan', ['John', 30]))\n",
    "\n",
    "age_tuple3"
   ]
  },
  {
   "cell_type": "code",
   "execution_count": 37,
   "metadata": {},
   "outputs": [
    {
     "data": {
      "text/plain": [
       "{'Leo': 18, 'Aaron': 25, 'Easton': 34, 'Jordan': ['John', 30]}"
      ]
     },
     "execution_count": 37,
     "metadata": {},
     "output_type": "execute_result"
    }
   ],
   "source": [
    "dict(age_tuple3)"
   ]
  },
  {
   "cell_type": "code",
   "execution_count": 38,
   "metadata": {},
   "outputs": [
    {
     "data": {
      "text/plain": [
       "{'William': 50, 'Joanne': 60, 'Maria': 90}"
      ]
     },
     "execution_count": 38,
     "metadata": {},
     "output_type": "execute_result"
    }
   ],
   "source": [
    "age_list = [['William', 50],\n",
    "            ['Joanne', 60],\n",
    "            ['Maria', 90]]\n",
    "\n",
    "age_dict = dict(age_list)\n",
    "\n",
    "age_dict"
   ]
  },
  {
   "cell_type": "code",
   "execution_count": 39,
   "metadata": {},
   "outputs": [
    {
     "name": "stdout",
     "output_type": "stream",
     "text": [
      "Type of age_list is: <class 'list'>\n",
      "Type of age_dict is: <class 'dict'>\n"
     ]
    }
   ],
   "source": [
    "print('Type of age_list is:', type(age_list))\n",
    "\n",
    "print('Type of age_dict is:', type(age_dict))"
   ]
  },
  {
   "cell_type": "code",
   "execution_count": 40,
   "metadata": {},
   "outputs": [
    {
     "data": {
      "text/plain": [
       "{'a', 'e', 'l', 'p'}"
      ]
     },
     "execution_count": 40,
     "metadata": {},
     "output_type": "execute_result"
    }
   ],
   "source": [
    "set('apple')"
   ]
  },
  {
   "cell_type": "code",
   "execution_count": 41,
   "metadata": {},
   "outputs": [
    {
     "data": {
      "text/plain": [
       "{'Apple', 'Banana', 'Mango', 'Orange'}"
      ]
     },
     "execution_count": 41,
     "metadata": {},
     "output_type": "execute_result"
    }
   ],
   "source": [
    "fruit_tuple = ('Apple', 'Orange', 'Mango', 'Banana', 'Banana')\n",
    "\n",
    "fruit_set = set(fruit_tuple)\n",
    "\n",
    "fruit_set"
   ]
  },
  {
   "cell_type": "code",
   "execution_count": 42,
   "metadata": {},
   "outputs": [
    {
     "data": {
      "text/plain": [
       "set"
      ]
     },
     "execution_count": 42,
     "metadata": {},
     "output_type": "execute_result"
    }
   ],
   "source": [
    "type(fruit_set) "
   ]
  },
  {
   "cell_type": "code",
   "execution_count": 43,
   "metadata": {},
   "outputs": [
    {
     "data": {
      "text/plain": [
       "'0x32'"
      ]
     },
     "execution_count": 43,
     "metadata": {},
     "output_type": "execute_result"
    }
   ],
   "source": [
    "hex(50)"
   ]
  },
  {
   "cell_type": "code",
   "execution_count": 44,
   "metadata": {},
   "outputs": [
    {
     "data": {
      "text/plain": [
       "'0x3c'"
      ]
     },
     "execution_count": 44,
     "metadata": {},
     "output_type": "execute_result"
    }
   ],
   "source": [
    "hex(60)"
   ]
  },
  {
   "cell_type": "code",
   "execution_count": 45,
   "metadata": {},
   "outputs": [
    {
     "data": {
      "text/plain": [
       "'0o62'"
      ]
     },
     "execution_count": 45,
     "metadata": {},
     "output_type": "execute_result"
    }
   ],
   "source": [
    "oct(50) "
   ]
  },
  {
   "cell_type": "code",
   "execution_count": 46,
   "metadata": {},
   "outputs": [
    {
     "data": {
      "text/plain": [
       "'0o11'"
      ]
     },
     "execution_count": 46,
     "metadata": {},
     "output_type": "execute_result"
    }
   ],
   "source": [
    "oct(9)"
   ]
  },
  {
   "cell_type": "code",
   "execution_count": 47,
   "metadata": {},
   "outputs": [
    {
     "data": {
      "text/plain": [
       "'0b101'"
      ]
     },
     "execution_count": 47,
     "metadata": {},
     "output_type": "execute_result"
    }
   ],
   "source": [
    "bin(5)"
   ]
  },
  {
   "cell_type": "code",
   "execution_count": 48,
   "metadata": {},
   "outputs": [
    {
     "data": {
      "text/plain": [
       "'0b1010'"
      ]
     },
     "execution_count": 48,
     "metadata": {},
     "output_type": "execute_result"
    }
   ],
   "source": [
    "bin(10)"
   ]
  },
  {
   "cell_type": "code",
   "execution_count": 49,
   "metadata": {},
   "outputs": [
    {
     "data": {
      "text/plain": [
       "10"
      ]
     },
     "execution_count": 49,
     "metadata": {},
     "output_type": "execute_result"
    }
   ],
   "source": [
    "int('0b1010',2)"
   ]
  },
  {
   "cell_type": "code",
   "execution_count": 50,
   "metadata": {},
   "outputs": [
    {
     "data": {
      "text/plain": [
       "10"
      ]
     },
     "execution_count": 50,
     "metadata": {},
     "output_type": "execute_result"
    }
   ],
   "source": [
    "int('0b1010', 0)"
   ]
  },
  {
   "cell_type": "code",
   "execution_count": 51,
   "metadata": {},
   "outputs": [
    {
     "data": {
      "text/plain": [
       "257"
      ]
     },
     "execution_count": 51,
     "metadata": {},
     "output_type": "execute_result"
    }
   ],
   "source": [
    "int('0x101', 16)"
   ]
  },
  {
   "cell_type": "code",
   "execution_count": 52,
   "metadata": {},
   "outputs": [
    {
     "data": {
      "text/plain": [
       "97"
      ]
     },
     "execution_count": 52,
     "metadata": {},
     "output_type": "execute_result"
    }
   ],
   "source": [
    "ord('a')"
   ]
  },
  {
   "cell_type": "code",
   "execution_count": 53,
   "metadata": {},
   "outputs": [
    {
     "data": {
      "text/plain": [
       "65"
      ]
     },
     "execution_count": 53,
     "metadata": {},
     "output_type": "execute_result"
    }
   ],
   "source": [
    "ord('A')"
   ]
  },
  {
   "cell_type": "code",
   "execution_count": 54,
   "metadata": {},
   "outputs": [
    {
     "data": {
      "text/plain": [
       "'d'"
      ]
     },
     "execution_count": 54,
     "metadata": {},
     "output_type": "execute_result"
    }
   ],
   "source": [
    "chr(100)"
   ]
  },
  {
   "cell_type": "code",
   "execution_count": 55,
   "metadata": {},
   "outputs": [
    {
     "data": {
      "text/plain": [
       "'a'"
      ]
     },
     "execution_count": 55,
     "metadata": {},
     "output_type": "execute_result"
    }
   ],
   "source": [
    "chr(97)"
   ]
  },
  {
   "cell_type": "code",
   "execution_count": 56,
   "metadata": {},
   "outputs": [
    {
     "data": {
      "text/plain": [
       "1j"
      ]
     },
     "execution_count": 56,
     "metadata": {},
     "output_type": "execute_result"
    }
   ],
   "source": [
    "complex(1j)"
   ]
  },
  {
   "cell_type": "code",
   "execution_count": 57,
   "metadata": {},
   "outputs": [
    {
     "data": {
      "text/plain": [
       "(10+0j)"
      ]
     },
     "execution_count": 57,
     "metadata": {},
     "output_type": "execute_result"
    }
   ],
   "source": [
    "complex(10)"
   ]
  },
  {
   "cell_type": "code",
   "execution_count": 58,
   "metadata": {},
   "outputs": [
    {
     "data": {
      "text/plain": [
       "(1+2j)"
      ]
     },
     "execution_count": 58,
     "metadata": {},
     "output_type": "execute_result"
    }
   ],
   "source": [
    "complex(1,2)"
   ]
  },
  {
   "cell_type": "code",
   "execution_count": null,
   "metadata": {},
   "outputs": [],
   "source": []
  },
  {
   "cell_type": "code",
   "execution_count": null,
   "metadata": {},
   "outputs": [],
   "source": []
  },
  {
   "cell_type": "code",
   "execution_count": null,
   "metadata": {},
   "outputs": [],
   "source": []
  },
  {
   "cell_type": "code",
   "execution_count": 1,
   "metadata": {},
   "outputs": [
    {
     "ename": "TypeError",
     "evalue": "unsupported operand type(s) for -: 'str' and 'str'",
     "output_type": "error",
     "traceback": [
      "\u001b[0;31m---------------------------------------------------------------------------\u001b[0m",
      "\u001b[0;31mTypeError\u001b[0m                                 Traceback (most recent call last)",
      "\u001b[0;32m<ipython-input-1-ab2d6d835aef>\u001b[0m in \u001b[0;36m<module>\u001b[0;34m\u001b[0m\n\u001b[1;32m      3\u001b[0m \u001b[0mnew_num\u001b[0m \u001b[0;34m=\u001b[0m \u001b[0;34m\"10\"\u001b[0m\u001b[0;34m\u001b[0m\u001b[0;34m\u001b[0m\u001b[0m\n\u001b[1;32m      4\u001b[0m \u001b[0;34m\u001b[0m\u001b[0m\n\u001b[0;32m----> 5\u001b[0;31m \u001b[0mremaining_num\u001b[0m \u001b[0;34m=\u001b[0m \u001b[0mold_num\u001b[0m \u001b[0;34m-\u001b[0m \u001b[0mnew_num\u001b[0m\u001b[0;34m\u001b[0m\u001b[0;34m\u001b[0m\u001b[0m\n\u001b[0m",
      "\u001b[0;31mTypeError\u001b[0m: unsupported operand type(s) for -: 'str' and 'str'"
     ]
    }
   ],
   "source": [
    "old_num = \"500\"\n",
    "\n",
    "new_num = \"10\"\n",
    "\n",
    "remaining_num = old_num - new_num"
   ]
  },
  {
   "cell_type": "code",
   "execution_count": 2,
   "metadata": {},
   "outputs": [
    {
     "data": {
      "text/plain": [
       "str"
      ]
     },
     "execution_count": 2,
     "metadata": {},
     "output_type": "execute_result"
    }
   ],
   "source": [
    "type(old_num)"
   ]
  },
  {
   "cell_type": "code",
   "execution_count": 3,
   "metadata": {},
   "outputs": [
    {
     "data": {
      "text/plain": [
       "500"
      ]
     },
     "execution_count": 3,
     "metadata": {},
     "output_type": "execute_result"
    }
   ],
   "source": [
    "int(old_num)"
   ]
  },
  {
   "cell_type": "code",
   "execution_count": 4,
   "metadata": {},
   "outputs": [
    {
     "data": {
      "text/plain": [
       "int"
      ]
     },
     "execution_count": 4,
     "metadata": {},
     "output_type": "execute_result"
    }
   ],
   "source": [
    "type(int(old_num))"
   ]
  },
  {
   "cell_type": "code",
   "execution_count": 5,
   "metadata": {},
   "outputs": [
    {
     "data": {
      "text/plain": [
       "490"
      ]
     },
     "execution_count": 5,
     "metadata": {},
     "output_type": "execute_result"
    }
   ],
   "source": [
    "old_num = \"500\"\n",
    "new_num = \"10\"\n",
    "\n",
    "remaining_num = int(old_num) - int(new_num)\n",
    "\n",
    "remaining_num"
   ]
  },
  {
   "cell_type": "code",
   "execution_count": 6,
   "metadata": {},
   "outputs": [
    {
     "data": {
      "text/plain": [
       "'40.660.8'"
      ]
     },
     "execution_count": 6,
     "metadata": {},
     "output_type": "execute_result"
    }
   ],
   "source": [
    "old_code = \"40.6\"\n",
    "new_code = \"60.8\"\n",
    "\n",
    "total_code = old_code + new_code\n",
    "\n",
    "total_code"
   ]
  },
  {
   "cell_type": "code",
   "execution_count": 7,
   "metadata": {},
   "outputs": [
    {
     "data": {
      "text/plain": [
       "101.0"
      ]
     },
     "execution_count": 7,
     "metadata": {},
     "output_type": "execute_result"
    }
   ],
   "source": [
    "old_code = \"40.6\"\n",
    "new_code = \"60.4\"\n",
    "\n",
    "total_code = float(old_code) + float(new_code)\n",
    "\n",
    "total_code"
   ]
  },
  {
   "cell_type": "code",
   "execution_count": 8,
   "metadata": {},
   "outputs": [
    {
     "data": {
      "text/plain": [
       "10.6"
      ]
     },
     "execution_count": 8,
     "metadata": {},
     "output_type": "execute_result"
    }
   ],
   "source": [
    "my_float = \"4.6\"\n",
    "my_int = \"6\"\n",
    "\n",
    "total = float(my_float) + int(my_int)\n",
    "total"
   ]
  },
  {
   "cell_type": "code",
   "execution_count": 9,
   "metadata": {},
   "outputs": [
    {
     "data": {
      "text/plain": [
       "['p', 'y', 't', 'h', 'o', 'n', ' ', 'w', 'o', 'r', 'l', 'd']"
      ]
     },
     "execution_count": 9,
     "metadata": {},
     "output_type": "execute_result"
    }
   ],
   "source": [
    "value_str = \"python world\"\n",
    "\n",
    "value_list = list(value_str)\n",
    "value_list"
   ]
  },
  {
   "cell_type": "code",
   "execution_count": 10,
   "metadata": {},
   "outputs": [
    {
     "name": "stdout",
     "output_type": "stream",
     "text": [
      "Type of value_str is: <class 'str'>\n",
      "Type of value_list is: <class 'list'>\n"
     ]
    }
   ],
   "source": [
    "print('Type of value_str is:', type(value_str))\n",
    "\n",
    "print('Type of value_list is:', type(value_list))"
   ]
  },
  {
   "cell_type": "code",
   "execution_count": 11,
   "metadata": {},
   "outputs": [
    {
     "ename": "TypeError",
     "evalue": "list expected at most 1 arguments, got 5",
     "output_type": "error",
     "traceback": [
      "\u001b[0;31m---------------------------------------------------------------------------\u001b[0m",
      "\u001b[0;31mTypeError\u001b[0m                                 Traceback (most recent call last)",
      "\u001b[0;32m<ipython-input-11-f76743461436>\u001b[0m in \u001b[0;36m<module>\u001b[0;34m\u001b[0m\n\u001b[0;32m----> 1\u001b[0;31m \u001b[0mlist\u001b[0m\u001b[0;34m(\u001b[0m\u001b[0;36m1\u001b[0m\u001b[0;34m,\u001b[0m \u001b[0;36m2\u001b[0m\u001b[0;34m,\u001b[0m \u001b[0;36m3\u001b[0m\u001b[0;34m,\u001b[0m \u001b[0;36m4\u001b[0m\u001b[0;34m,\u001b[0m \u001b[0;36m5\u001b[0m\u001b[0;34m)\u001b[0m\u001b[0;34m\u001b[0m\u001b[0;34m\u001b[0m\u001b[0m\n\u001b[0m",
      "\u001b[0;31mTypeError\u001b[0m: list expected at most 1 arguments, got 5"
     ]
    }
   ],
   "source": [
    "list(1, 2, 3, 4, 5)"
   ]
  },
  {
   "cell_type": "code",
   "execution_count": 12,
   "metadata": {},
   "outputs": [
    {
     "data": {
      "text/plain": [
       "[1, 2, 3, 4, 5]"
      ]
     },
     "execution_count": 12,
     "metadata": {},
     "output_type": "execute_result"
    }
   ],
   "source": [
    "list((1, 2, 3, 4, 5))"
   ]
  },
  {
   "cell_type": "code",
   "execution_count": 13,
   "metadata": {},
   "outputs": [
    {
     "data": {
      "text/plain": [
       "('Apple', 'Orange', 'Mango', 'Banana')"
      ]
     },
     "execution_count": 13,
     "metadata": {},
     "output_type": "execute_result"
    }
   ],
   "source": [
    "my_tuple = ('Apple', 'Orange', 'Mango', 'Banana')\n",
    "\n",
    "my_tuple"
   ]
  },
  {
   "cell_type": "code",
   "execution_count": 14,
   "metadata": {},
   "outputs": [
    {
     "data": {
      "text/plain": [
       "tuple"
      ]
     },
     "execution_count": 14,
     "metadata": {},
     "output_type": "execute_result"
    }
   ],
   "source": [
    "type(my_tuple)"
   ]
  },
  {
   "cell_type": "code",
   "execution_count": 15,
   "metadata": {},
   "outputs": [
    {
     "data": {
      "text/plain": [
       "['Apple', 'Orange', 'Mango', 'Banana']"
      ]
     },
     "execution_count": 15,
     "metadata": {},
     "output_type": "execute_result"
    }
   ],
   "source": [
    "my_list = list(my_tuple)\n",
    "\n",
    "my_list"
   ]
  },
  {
   "cell_type": "code",
   "execution_count": 16,
   "metadata": {},
   "outputs": [
    {
     "data": {
      "text/plain": [
       "list"
      ]
     },
     "execution_count": 16,
     "metadata": {},
     "output_type": "execute_result"
    }
   ],
   "source": [
    "type (my_list)"
   ]
  },
  {
   "cell_type": "code",
   "execution_count": 17,
   "metadata": {},
   "outputs": [
    {
     "data": {
      "text/plain": [
       "('p', 'y', 't', 'h', 'o', 'n', ' ', 'w', 'o', 'r', 'l', 'd')"
      ]
     },
     "execution_count": 17,
     "metadata": {},
     "output_type": "execute_result"
    }
   ],
   "source": [
    "value_str = \"python world\"\n",
    "\n",
    "value_tup = tuple(value_str)\n",
    "\n",
    "value_tup"
   ]
  },
  {
   "cell_type": "code",
   "execution_count": 18,
   "metadata": {},
   "outputs": [
    {
     "name": "stdout",
     "output_type": "stream",
     "text": [
      "Type of value_str is: <class 'str'>\n",
      "Type of value_tup is: <class 'tuple'>\n"
     ]
    }
   ],
   "source": [
    "print('Type of value_str is:', type(value_str))\n",
    "\n",
    "print('Type of value_tup is:', type(value_tup))"
   ]
  },
  {
   "cell_type": "code",
   "execution_count": 19,
   "metadata": {},
   "outputs": [
    {
     "ename": "TypeError",
     "evalue": "'int' object is not iterable",
     "output_type": "error",
     "traceback": [
      "\u001b[0;31m---------------------------------------------------------------------------\u001b[0m",
      "\u001b[0;31mTypeError\u001b[0m                                 Traceback (most recent call last)",
      "\u001b[0;32m<ipython-input-19-69ffd3dbb1e0>\u001b[0m in \u001b[0;36m<module>\u001b[0;34m\u001b[0m\n\u001b[0;32m----> 1\u001b[0;31m \u001b[0mtuple\u001b[0m\u001b[0;34m(\u001b[0m\u001b[0;36m5000\u001b[0m\u001b[0;34m)\u001b[0m\u001b[0;34m\u001b[0m\u001b[0;34m\u001b[0m\u001b[0m\n\u001b[0m",
      "\u001b[0;31mTypeError\u001b[0m: 'int' object is not iterable"
     ]
    }
   ],
   "source": [
    "tuple(5000)"
   ]
  },
  {
   "cell_type": "code",
   "execution_count": 20,
   "metadata": {},
   "outputs": [
    {
     "name": "stdout",
     "output_type": "stream",
     "text": [
      "['Apple', 'Orange', 'Mango', 'Banana']\n"
     ]
    }
   ],
   "source": [
    "my_list = ['Apple', 'Orange', 'Mango', 'Banana']\n",
    "\n",
    "print(my_list)"
   ]
  },
  {
   "cell_type": "code",
   "execution_count": 21,
   "metadata": {},
   "outputs": [
    {
     "data": {
      "text/plain": [
       "list"
      ]
     },
     "execution_count": 21,
     "metadata": {},
     "output_type": "execute_result"
    }
   ],
   "source": [
    "type(my_list)"
   ]
  },
  {
   "cell_type": "code",
   "execution_count": 22,
   "metadata": {},
   "outputs": [
    {
     "name": "stdout",
     "output_type": "stream",
     "text": [
      "('Apple', 'Orange', 'Mango', 'Banana')\n"
     ]
    }
   ],
   "source": [
    "my_tuple = tuple(my_list)\n",
    "\n",
    "print(my_tuple)"
   ]
  },
  {
   "cell_type": "code",
   "execution_count": 23,
   "metadata": {},
   "outputs": [
    {
     "data": {
      "text/plain": [
       "tuple"
      ]
     },
     "execution_count": 23,
     "metadata": {},
     "output_type": "execute_result"
    }
   ],
   "source": [
    "type (my_tuple)"
   ]
  },
  {
   "cell_type": "code",
   "execution_count": 24,
   "metadata": {},
   "outputs": [
    {
     "data": {
      "text/plain": [
       "(['William', 50], ['Henry', 60], ['James', 90])"
      ]
     },
     "execution_count": 24,
     "metadata": {},
     "output_type": "execute_result"
    }
   ],
   "source": [
    "age_list = [['William', 50], ['Henry', 60], ['James', 90]]\n",
    "\n",
    "age_tuple = tuple(age_list)\n",
    "\n",
    "age_tuple"
   ]
  },
  {
   "cell_type": "code",
   "execution_count": 25,
   "metadata": {},
   "outputs": [
    {
     "data": {
      "text/plain": [
       "('William', 50)"
      ]
     },
     "execution_count": 25,
     "metadata": {},
     "output_type": "execute_result"
    }
   ],
   "source": [
    "age_tuple = tuple(age_list[0])\n",
    "\n",
    "age_tuple"
   ]
  },
  {
   "cell_type": "code",
   "execution_count": 26,
   "metadata": {},
   "outputs": [
    {
     "name": "stdout",
     "output_type": "stream",
     "text": [
      "Type of age_list is: <class 'list'>\n",
      "Type of age_tuple is: <class 'tuple'>\n"
     ]
    }
   ],
   "source": [
    "print('Type of age_list is:', type(age_list))\n",
    "\n",
    "print('Type of age_tuple is:', type(age_tuple))"
   ]
  },
  {
   "cell_type": "code",
   "execution_count": 27,
   "metadata": {},
   "outputs": [],
   "source": [
    "pet_list = [('Dog', 1), ('Cat', 2), ('Cow', 3), ('Goat', 4)]"
   ]
  },
  {
   "cell_type": "code",
   "execution_count": 28,
   "metadata": {},
   "outputs": [
    {
     "data": {
      "text/plain": [
       "(('Dog', 1), ('Cat', 2), ('Cow', 3), ('Goat', 4))"
      ]
     },
     "execution_count": 28,
     "metadata": {},
     "output_type": "execute_result"
    }
   ],
   "source": [
    "pet_tuple = tuple(pet_list)\n",
    "\n",
    "pet_tuple"
   ]
  },
  {
   "cell_type": "code",
   "execution_count": 29,
   "metadata": {},
   "outputs": [],
   "source": [
    "age_tuple = ('Leo', 18,\n",
    "             'Aaron', 25,\n",
    "             'Easton', 34,\n",
    "             'Jordan', 30)"
   ]
  },
  {
   "cell_type": "code",
   "execution_count": 30,
   "metadata": {},
   "outputs": [
    {
     "data": {
      "text/plain": [
       "('Leo', 18, 'Aaron', 25, 'Easton', 34, 'Jordan', 30)"
      ]
     },
     "execution_count": 30,
     "metadata": {},
     "output_type": "execute_result"
    }
   ],
   "source": [
    "age_tuple"
   ]
  },
  {
   "cell_type": "code",
   "execution_count": 31,
   "metadata": {},
   "outputs": [
    {
     "ename": "ValueError",
     "evalue": "dictionary update sequence element #0 has length 3; 2 is required",
     "output_type": "error",
     "traceback": [
      "\u001b[0;31m---------------------------------------------------------------------------\u001b[0m",
      "\u001b[0;31mValueError\u001b[0m                                Traceback (most recent call last)",
      "\u001b[0;32m<ipython-input-31-c428f45057a9>\u001b[0m in \u001b[0;36m<module>\u001b[0;34m\u001b[0m\n\u001b[0;32m----> 1\u001b[0;31m \u001b[0mdict\u001b[0m\u001b[0;34m(\u001b[0m\u001b[0mage_tuple\u001b[0m\u001b[0;34m)\u001b[0m\u001b[0;34m\u001b[0m\u001b[0;34m\u001b[0m\u001b[0m\n\u001b[0m",
      "\u001b[0;31mValueError\u001b[0m: dictionary update sequence element #0 has length 3; 2 is required"
     ]
    }
   ],
   "source": [
    "dict(age_tuple)"
   ]
  },
  {
   "cell_type": "code",
   "execution_count": 32,
   "metadata": {},
   "outputs": [
    {
     "data": {
      "text/plain": [
       "(('Leo', 18), ('Aaron', 25), ('Easton', 34), ('Jordan', 30))"
      ]
     },
     "execution_count": 32,
     "metadata": {},
     "output_type": "execute_result"
    }
   ],
   "source": [
    "age_tuple1 = (('Leo', 18),\n",
    "              ('Aaron', 25),\n",
    "              ('Easton', 34),\n",
    "              ('Jordan', 30))\n",
    "\n",
    "\n",
    "age_tuple1"
   ]
  },
  {
   "cell_type": "code",
   "execution_count": 33,
   "metadata": {},
   "outputs": [
    {
     "data": {
      "text/plain": [
       "{'Leo': 18, 'Aaron': 25, 'Easton': 34, 'Jordan': 30}"
      ]
     },
     "execution_count": 33,
     "metadata": {},
     "output_type": "execute_result"
    }
   ],
   "source": [
    "dict(age_tuple1)"
   ]
  },
  {
   "cell_type": "code",
   "execution_count": 34,
   "metadata": {},
   "outputs": [
    {
     "data": {
      "text/plain": [
       "(('Leo', 18), ('Aaron', 25), ('Easton', 34), (['Jordan', 'John'], 30))"
      ]
     },
     "execution_count": 34,
     "metadata": {},
     "output_type": "execute_result"
    }
   ],
   "source": [
    "age_tuple2 = (('Leo', 18),\n",
    "              ('Aaron', 25),\n",
    "              ('Easton', 34),\n",
    "              (['Jordan', 'John'], 30))\n",
    "\n",
    "age_tuple2"
   ]
  },
  {
   "cell_type": "code",
   "execution_count": 35,
   "metadata": {},
   "outputs": [
    {
     "ename": "TypeError",
     "evalue": "unhashable type: 'list'",
     "output_type": "error",
     "traceback": [
      "\u001b[0;31m---------------------------------------------------------------------------\u001b[0m",
      "\u001b[0;31mTypeError\u001b[0m                                 Traceback (most recent call last)",
      "\u001b[0;32m<ipython-input-35-b4453b4af653>\u001b[0m in \u001b[0;36m<module>\u001b[0;34m\u001b[0m\n\u001b[0;32m----> 1\u001b[0;31m \u001b[0mdict\u001b[0m\u001b[0;34m(\u001b[0m\u001b[0mage_tuple2\u001b[0m\u001b[0;34m)\u001b[0m\u001b[0;34m\u001b[0m\u001b[0;34m\u001b[0m\u001b[0m\n\u001b[0m",
      "\u001b[0;31mTypeError\u001b[0m: unhashable type: 'list'"
     ]
    }
   ],
   "source": [
    "dict(age_tuple2)"
   ]
  },
  {
   "cell_type": "code",
   "execution_count": 36,
   "metadata": {},
   "outputs": [
    {
     "data": {
      "text/plain": [
       "(('Leo', 18), ('Aaron', 25), ('Easton', 34), ('Jordan', ['John', 30]))"
      ]
     },
     "execution_count": 36,
     "metadata": {},
     "output_type": "execute_result"
    }
   ],
   "source": [
    "age_tuple3 = (('Leo', 18),\n",
    "              ('Aaron', 25),\n",
    "              ('Easton', 34),\n",
    "              ('Jordan', ['John', 30]))\n",
    "\n",
    "age_tuple3"
   ]
  },
  {
   "cell_type": "code",
   "execution_count": 37,
   "metadata": {},
   "outputs": [
    {
     "data": {
      "text/plain": [
       "{'Leo': 18, 'Aaron': 25, 'Easton': 34, 'Jordan': ['John', 30]}"
      ]
     },
     "execution_count": 37,
     "metadata": {},
     "output_type": "execute_result"
    }
   ],
   "source": [
    "dict(age_tuple3)"
   ]
  },
  {
   "cell_type": "code",
   "execution_count": 38,
   "metadata": {},
   "outputs": [
    {
     "data": {
      "text/plain": [
       "{'William': 50, 'Joanne': 60, 'Maria': 90}"
      ]
     },
     "execution_count": 38,
     "metadata": {},
     "output_type": "execute_result"
    }
   ],
   "source": [
    "age_list = [['William', 50],\n",
    "            ['Joanne', 60],\n",
    "            ['Maria', 90]]\n",
    "\n",
    "age_dict = dict(age_list)\n",
    "\n",
    "age_dict"
   ]
  },
  {
   "cell_type": "code",
   "execution_count": 39,
   "metadata": {},
   "outputs": [
    {
     "name": "stdout",
     "output_type": "stream",
     "text": [
      "Type of age_list is: <class 'list'>\n",
      "Type of age_dict is: <class 'dict'>\n"
     ]
    }
   ],
   "source": [
    "print('Type of age_list is:', type(age_list))\n",
    "\n",
    "print('Type of age_dict is:', type(age_dict))"
   ]
  },
  {
   "cell_type": "code",
   "execution_count": 40,
   "metadata": {},
   "outputs": [
    {
     "data": {
      "text/plain": [
       "{'a', 'e', 'l', 'p'}"
      ]
     },
     "execution_count": 40,
     "metadata": {},
     "output_type": "execute_result"
    }
   ],
   "source": [
    "set('apple')"
   ]
  },
  {
   "cell_type": "code",
   "execution_count": 41,
   "metadata": {},
   "outputs": [
    {
     "data": {
      "text/plain": [
       "{'Apple', 'Banana', 'Mango', 'Orange'}"
      ]
     },
     "execution_count": 41,
     "metadata": {},
     "output_type": "execute_result"
    }
   ],
   "source": [
    "fruit_tuple = ('Apple', 'Orange', 'Mango', 'Banana', 'Banana')\n",
    "\n",
    "fruit_set = set(fruit_tuple)\n",
    "\n",
    "fruit_set"
   ]
  },
  {
   "cell_type": "code",
   "execution_count": 42,
   "metadata": {},
   "outputs": [
    {
     "data": {
      "text/plain": [
       "set"
      ]
     },
     "execution_count": 42,
     "metadata": {},
     "output_type": "execute_result"
    }
   ],
   "source": [
    "type(fruit_set) "
   ]
  },
  {
   "cell_type": "code",
   "execution_count": 43,
   "metadata": {},
   "outputs": [
    {
     "data": {
      "text/plain": [
       "'0x32'"
      ]
     },
     "execution_count": 43,
     "metadata": {},
     "output_type": "execute_result"
    }
   ],
   "source": [
    "hex(50)"
   ]
  },
  {
   "cell_type": "code",
   "execution_count": 44,
   "metadata": {},
   "outputs": [
    {
     "data": {
      "text/plain": [
       "'0x3c'"
      ]
     },
     "execution_count": 44,
     "metadata": {},
     "output_type": "execute_result"
    }
   ],
   "source": [
    "hex(60)"
   ]
  },
  {
   "cell_type": "code",
   "execution_count": 45,
   "metadata": {},
   "outputs": [
    {
     "data": {
      "text/plain": [
       "'0o62'"
      ]
     },
     "execution_count": 45,
     "metadata": {},
     "output_type": "execute_result"
    }
   ],
   "source": [
    "oct(50) "
   ]
  },
  {
   "cell_type": "code",
   "execution_count": 46,
   "metadata": {},
   "outputs": [
    {
     "data": {
      "text/plain": [
       "'0o11'"
      ]
     },
     "execution_count": 46,
     "metadata": {},
     "output_type": "execute_result"
    }
   ],
   "source": [
    "oct(9)"
   ]
  },
  {
   "cell_type": "code",
   "execution_count": 47,
   "metadata": {},
   "outputs": [
    {
     "data": {
      "text/plain": [
       "'0b101'"
      ]
     },
     "execution_count": 47,
     "metadata": {},
     "output_type": "execute_result"
    }
   ],
   "source": [
    "bin(5)"
   ]
  },
  {
   "cell_type": "code",
   "execution_count": 48,
   "metadata": {},
   "outputs": [
    {
     "data": {
      "text/plain": [
       "'0b1010'"
      ]
     },
     "execution_count": 48,
     "metadata": {},
     "output_type": "execute_result"
    }
   ],
   "source": [
    "bin(10)"
   ]
  },
  {
   "cell_type": "code",
   "execution_count": 49,
   "metadata": {},
   "outputs": [
    {
     "data": {
      "text/plain": [
       "10"
      ]
     },
     "execution_count": 49,
     "metadata": {},
     "output_type": "execute_result"
    }
   ],
   "source": [
    "int('0b1010',2)"
   ]
  },
  {
   "cell_type": "code",
   "execution_count": 50,
   "metadata": {},
   "outputs": [
    {
     "data": {
      "text/plain": [
       "10"
      ]
     },
     "execution_count": 50,
     "metadata": {},
     "output_type": "execute_result"
    }
   ],
   "source": [
    "int('0b1010', 0)"
   ]
  },
  {
   "cell_type": "code",
   "execution_count": 51,
   "metadata": {},
   "outputs": [
    {
     "data": {
      "text/plain": [
       "257"
      ]
     },
     "execution_count": 51,
     "metadata": {},
     "output_type": "execute_result"
    }
   ],
   "source": [
    "int('0x101', 16)"
   ]
  },
  {
   "cell_type": "code",
   "execution_count": 52,
   "metadata": {},
   "outputs": [
    {
     "data": {
      "text/plain": [
       "97"
      ]
     },
     "execution_count": 52,
     "metadata": {},
     "output_type": "execute_result"
    }
   ],
   "source": [
    "ord('a')"
   ]
  },
  {
   "cell_type": "code",
   "execution_count": 53,
   "metadata": {},
   "outputs": [
    {
     "data": {
      "text/plain": [
       "65"
      ]
     },
     "execution_count": 53,
     "metadata": {},
     "output_type": "execute_result"
    }
   ],
   "source": [
    "ord('A')"
   ]
  },
  {
   "cell_type": "code",
   "execution_count": 54,
   "metadata": {},
   "outputs": [
    {
     "data": {
      "text/plain": [
       "'d'"
      ]
     },
     "execution_count": 54,
     "metadata": {},
     "output_type": "execute_result"
    }
   ],
   "source": [
    "chr(100)"
   ]
  },
  {
   "cell_type": "code",
   "execution_count": 55,
   "metadata": {},
   "outputs": [
    {
     "data": {
      "text/plain": [
       "'a'"
      ]
     },
     "execution_count": 55,
     "metadata": {},
     "output_type": "execute_result"
    }
   ],
   "source": [
    "chr(97)"
   ]
  },
  {
   "cell_type": "code",
   "execution_count": 56,
   "metadata": {},
   "outputs": [
    {
     "data": {
      "text/plain": [
       "1j"
      ]
     },
     "execution_count": 56,
     "metadata": {},
     "output_type": "execute_result"
    }
   ],
   "source": [
    "complex(1j)"
   ]
  },
  {
   "cell_type": "code",
   "execution_count": 57,
   "metadata": {},
   "outputs": [
    {
     "data": {
      "text/plain": [
       "(10+0j)"
      ]
     },
     "execution_count": 57,
     "metadata": {},
     "output_type": "execute_result"
    }
   ],
   "source": [
    "complex(10)"
   ]
  },
  {
   "cell_type": "code",
   "execution_count": 58,
   "metadata": {},
   "outputs": [
    {
     "data": {
      "text/plain": [
       "(1+2j)"
      ]
     },
     "execution_count": 58,
     "metadata": {},
     "output_type": "execute_result"
    }
   ],
   "source": [
    "complex(1,2)"
   ]
  },
  {
   "cell_type": "code",
   "execution_count": null,
   "metadata": {},
   "outputs": [],
   "source": []
  },
  {
   "cell_type": "code",
   "execution_count": null,
   "metadata": {},
   "outputs": [],
   "source": []
  },
  {
   "cell_type": "code",
   "execution_count": null,
   "metadata": {},
   "outputs": [],
   "source": []
  },
  {
   "cell_type": "code",
   "execution_count": 1,
   "metadata": {},
   "outputs": [
    {
     "name": "stdout",
     "output_type": "stream",
     "text": [
      "Enter salary amount: 700\n",
      "Enter expenses: 230\n",
      "My total savings in a month is:  470\n"
     ]
    }
   ],
   "source": [
    "salary = int(input(\"Enter salary amount: \"))\n",
    "expenses = int(input(\"Enter expenses: \"))\n",
    "\n",
    "savings = salary - expenses\n",
    "\n",
    "print(\"My total savings in a month is: \", savings)"
   ]
  },
  {
   "cell_type": "code",
   "execution_count": 1,
   "metadata": {},
   "outputs": [
    {
     "name": "stdout",
     "output_type": "stream",
     "text": [
      "Enter first variable: 20\n",
      "Enter second variable: 25\n",
      "\n",
      "First_num is: 25 \n",
      "Second_num is: 20\n"
     ]
    }
   ],
   "source": [
    "first_num = int(input(\"Enter first variable: \"))      \n",
    "second_num = int(input(\"Enter second variable: \"))    \n",
    "\n",
    "first_num = first_num + second_num       \n",
    "second_num = first_num - second_num       \n",
    "first_num = first_num - second_num       \n",
    "\n",
    "print (\"\\nFirst_num is:\", first_num , \"\\nSecond_num is:\", second_num)"
   ]
  },
  {
   "cell_type": "code",
   "execution_count": 3,
   "metadata": {},
   "outputs": [
    {
     "name": "stdout",
     "output_type": "stream",
     "text": [
      "Enter a number: 12\n",
      "12 + 1212 + 121212 = 122436\n"
     ]
    }
   ],
   "source": [
    "num = int(input(\"Enter a number: \"))\n",
    "\n",
    "temp1 = str(num)                       \n",
    "temp2 = temp1 + temp1                  \n",
    "temp3 = temp1 + temp1 + temp1           \n",
    "\n",
    "total = num + (int(temp2) + int(temp3)) \n",
    "\n",
    "print(temp1, '+', temp2, '+', temp3, '=', total) "
   ]
  },
  {
   "cell_type": "code",
   "execution_count": 1,
   "metadata": {},
   "outputs": [
    {
     "name": "stdout",
     "output_type": "stream",
     "text": [
      "Enter first number: 13\n",
      "Enter second number: 4\n",
      "\n",
      "Quotient: 3\n",
      "Remainder: 1\n"
     ]
    }
   ],
   "source": [
    "num_1 = int(input(\"Enter first number: \"))\n",
    "num_2 = int(input(\"Enter second number: \"))\n",
    "\n",
    "Quotient = int(num_1 / num_2)\n",
    "print(\"\\nQuotient:\", Quotient)\n",
    "        \n",
    "Remainder = num_1 % num_2\n",
    "print(\"Remainder:\", Remainder)"
   ]
  },
  {
   "cell_type": "code",
   "execution_count": 2,
   "metadata": {},
   "outputs": [
    {
     "name": "stdout",
     "output_type": "stream",
     "text": [
      "Enter the principle amount: 800\n",
      "Enter the time(years): 6\n",
      "Enter the rate: 3\n",
      "The simple interest is: 144.0\n"
     ]
    }
   ],
   "source": [
    "principle = float(input(\"Enter the principle amount: \"))\n",
    "time = int(input(\"Enter the time(years): \"))\n",
    "rate = float(input(\"Enter the rate: \"))\n",
    "\n",
    "simple_int = (principle * time * rate) / 100\n",
    "\n",
    "print(\"The simple interest is:\",simple_int)"
   ]
  },
  {
   "cell_type": "code",
   "execution_count": 6,
   "metadata": {},
   "outputs": [
    {
     "name": "stdout",
     "output_type": "stream",
     "text": [
      "Give the height in centimeters: 168\n",
      "The length in inches:  66.19\n",
      "The length is feet:  5.44\n"
     ]
    }
   ],
   "source": [
    "cm = int(input(\"Give the height in centimeters: \"))\n",
    "inches = 0.394 * cm\n",
    "feet = 0.0324 * cm\n",
    "\n",
    "print (\"The length in inches: \", round(inches, 2))\n",
    "print (\"The length in feet: \", round(feet, 2))"
   ]
  },
  {
   "cell_type": "code",
   "execution_count": 7,
   "metadata": {},
   "outputs": [
    {
     "name": "stdout",
     "output_type": "stream",
     "text": [
      "List of cars before the swap:  ['Toyota Camry', 'Honda Accord', 'Honda Civic', 'Toyota Corolla']\n",
      "List of cars after the swap:  ['Honda Civic', 'Honda Accord', 'Toyota Camry', 'Toyota Corolla']\n"
     ]
    }
   ],
   "source": [
    "cars_list = [\"Toyota Camry\", \"Honda Accord\", \"Honda Civic\", \"Toyota Corolla\"]\n",
    "\n",
    "print(\"List of cars before the swap: \", cars_list)\n",
    "\n",
    "cars_list_temp = cars_list[0]\n",
    "\n",
    "cars_list[0] = cars_list[2]\n",
    "\n",
    "cars_list[2] = cars_list_temp\n",
    "\n",
    "print(\"List of cars after the swap: \", cars_list)"
   ]
  },
  {
   "cell_type": "code",
   "execution_count": 8,
   "metadata": {},
   "outputs": [
    {
     "name": "stdout",
     "output_type": "stream",
     "text": [
      "list of cars before the swap:  ['Toyota Camry', 'Honda Accord', 'Honda Civic', 'Toyota Corolla']\n",
      "list of cars after  the swap:  ['Toyota Camry', 'Honda Civic', 'Honda Accord', 'Toyota Corolla']\n"
     ]
    }
   ],
   "source": [
    "cars_list = [\"Toyota Camry\", \"Honda Accord\", \"Honda Civic\", \"Toyota Corolla\"]\n",
    "\n",
    "print(\"list of cars before the swap: \", cars_list)\n",
    "\n",
    "car1 = 1\n",
    "car2 = 2\n",
    "\n",
    "cars_list[car1], cars_list[car2] = cars_list[car2], cars_list[car1]\n",
    "\n",
    "print(\"list of cars after  the swap: \", cars_list)"
   ]
  },
  {
   "cell_type": "code",
   "execution_count": 4,
   "metadata": {},
   "outputs": [
    {
     "name": "stdout",
     "output_type": "stream",
     "text": [
      "Student list:  ['Sofia', 'Ella', 'Samuel', 'Ella', 'Aiden', 'Sofia']\n",
      "Number of Students:  6\n",
      "\n",
      "New student list:  ['Ella', 'Samuel', 'Aiden', 'Sofia']\n",
      "Length of modified students list:  4\n",
      "There are 2 duplicate elements\n"
     ]
    }
   ],
   "source": [
    "list_student = [\"Sofia\", \"Ella\", \"Samuel\", \"Ella\", \"Aiden\", \"Sofia\"]\n",
    "\n",
    "print(\"Student list: \", list_student)\n",
    "\n",
    "print(\"Number of Students: \", len(list_student))\n",
    "\n",
    "student_set = set(list_student)\n",
    "\n",
    "print(\"\\nNew student list: \", list(student_set))\n",
    "\n",
    "print(\"Length of modified students list: \", len(student_set))\n",
    "\n",
    "print(\"There are %s duplicate elements\"%(len(list_student) - len(student_set)))"
   ]
  },
  {
   "cell_type": "code",
   "execution_count": 5,
   "metadata": {},
   "outputs": [
    {
     "name": "stdout",
     "output_type": "stream",
     "text": [
      "There are 2 duplicate elements\n"
     ]
    }
   ],
   "source": [
    "list_str = [\"Sofia\",\"Ella\",\"Samuel\",\"Ella\",\"Aiden\",\"Sofia\"]\n",
    "\n",
    "len_list_str = len(list_str)\n",
    "\n",
    "len_set_str = len(set(list_str))\n",
    "\n",
    "if len_list_str == len_set_str:\n",
    "    \n",
    "    print(\"There are no duplicate elements\")\n",
    "    \n",
    "else:\n",
    "    \n",
    "    print(\"There are {} duplicate elements\".format(len_list_str - len_set_str))"
   ]
  },
  {
   "cell_type": "code",
   "execution_count": 11,
   "metadata": {},
   "outputs": [
    {
     "name": "stdout",
     "output_type": "stream",
     "text": [
      "The number stored in num_value is : 50\n",
      "The number is an even number\n"
     ]
    }
   ],
   "source": [
    "num_value = 50\n",
    "print(\"The number stored in num_value is :\", num_value)\n",
    "\n",
    "if not num_value % 2 == 0:\n",
    "    print(\"The number is an odd number\")\n",
    "else:\n",
    "    print(\"The number is an even number\")"
   ]
  },
  {
   "cell_type": "code",
   "execution_count": 12,
   "metadata": {},
   "outputs": [
    {
     "name": "stdout",
     "output_type": "stream",
     "text": [
      "Enter some comma separated numbers : 12,23,45,56\n",
      "List :  ['12', '23', '45', '56']\n",
      "Tuple :  ('12', '23', '45', '56')\n"
     ]
    }
   ],
   "source": [
    "values = input(\"Enter some comma separated numbers : \")\n",
    "\n",
    "list_value = values.split(\",\")\n",
    "tuple_value = tuple(list_value)\n",
    "\n",
    "print(\"List : \", list_value)\n",
    "print(\"Tuple : \", tuple_value)"
   ]
  },
  {
   "cell_type": "code",
   "execution_count": 13,
   "metadata": {},
   "outputs": [
    {
     "name": "stdout",
     "output_type": "stream",
     "text": [
      "Enter some comma separated words : Kiwi,Apple,Banana\n",
      "['Apple', 'Banana', 'Kiwi']\n"
     ]
    }
   ],
   "source": [
    "list_words = input(\"Enter some comma separated words : \")\n",
    "\n",
    "words = list_words.split(\",\")\n",
    "\n",
    "new_list_words = sorted(words)\n",
    "\n",
    "print (new_list_words)"
   ]
  },
  {
   "cell_type": "markdown",
   "metadata": {},
   "source": [
    "what lies behind us and what lies before us are tiny matters compared to what lies within us"
   ]
  },
  {
   "cell_type": "code",
   "execution_count": 2,
   "metadata": {},
   "outputs": [
    {
     "name": "stdout",
     "output_type": "stream",
     "text": [
      "Enter some whitespace-separated words : what lies behind us and what lies before us are tiny matters compared to what lies within us\n",
      "and are before behind compared lies matters tiny to us what within\n"
     ]
    }
   ],
   "source": [
    "sentence = input(\"Enter some whitespace-separated words : \")\n",
    "\n",
    "words = sentence.split(\" \")\n",
    "\n",
    "set_of_words = set(words)\n",
    "\n",
    "sorted_set_of_words = sorted(set_of_words)\n",
    "\n",
    "print(\" \".join(sorted_set_of_words))"
   ]
  },
  {
   "cell_type": "code",
   "execution_count": 15,
   "metadata": {},
   "outputs": [
    {
     "name": "stdout",
     "output_type": "stream",
     "text": [
      "{1: 1, 2: 4, 3: 9}\n"
     ]
    }
   ],
   "source": [
    "num_dict = dict()\n",
    "\n",
    "num_dict[1] = 1\n",
    "num_dict[2] = 2 ** 2\n",
    "num_dict[3] = 3 ** 2\n",
    "\n",
    "print (num_dict)"
   ]
  },
  {
   "cell_type": "code",
   "execution_count": 3,
   "metadata": {},
   "outputs": [
    {
     "name": "stdout",
     "output_type": "stream",
     "text": [
      "Enter first string: hello\n",
      "Enter second string: python\n",
      "\n",
      "Common letters:  ['h', 'o']\n"
     ]
    }
   ],
   "source": [
    "string_1 = input(\"Enter first string: \")\n",
    "\n",
    "string_2 = input(\"Enter second string: \")\n",
    "\n",
    "set_1 = set(string_1)\n",
    "set_2 = set(string_2)\n",
    "\n",
    "common_char = set_1.intersection(set_2)\n",
    "\n",
    "print(\"\\nCommon letters: \", list(common_char))"
   ]
  },
  {
   "cell_type": "code",
   "execution_count": 7,
   "metadata": {},
   "outputs": [
    {
     "name": "stdout",
     "output_type": "stream",
     "text": [
      "Numbers before slicing: [10, 11, 12, 13, 14, 15, 16, 17, 18, 19, 20, 21]\n",
      "Length of numbers before slicing:  12\n",
      "\n",
      "First half: [10, 11, 12, 13, 14, 15]\n",
      "Second half: [16, 17, 18, 19, 20, 21]\n"
     ]
    }
   ],
   "source": [
    "list_num = [10, 11, 12, 13, 14, 15, 16, 17, 18, 19, 20, 21]\n",
    "\n",
    "len_of_list = len(list_num)\n",
    "\n",
    "print(\"Numbers before slicing: %s\" %list_num)\n",
    "print(\"Length of numbers before slicing: \", len_of_list)\n",
    "\n",
    "half = int(len_of_list / 2)\n",
    "\n",
    "list_num1 = list_num[:half]\n",
    "list_num2 = list_num[half:]\n",
    "\n",
    "print(\"\\nFirst half: %s\" %list_num1)\n",
    "print(\"Second half: %s\" %list_num2)"
   ]
  },
  {
   "cell_type": "code",
   "execution_count": 19,
   "metadata": {},
   "outputs": [
    {
     "name": "stdout",
     "output_type": "stream",
     "text": [
      "Enter a number: -12\n",
      "Negative number\n"
     ]
    }
   ],
   "source": [
    "num = float(input(\"Enter a number: \"))\n",
    "\n",
    "if num >= 0:\n",
    "    \n",
    "    if num == 0:\n",
    "        print(\"Zero\")\n",
    "        \n",
    "    else:\n",
    "        print(\"Positive number\")\n",
    "        \n",
    "else:\n",
    "    \n",
    "    print(\"Negative number\")"
   ]
  },
  {
   "cell_type": "markdown",
   "metadata": {},
   "source": [
    "run this cell twice first with var = 3\n",
    "\n",
    "the var = 1+2j"
   ]
  },
  {
   "cell_type": "code",
   "execution_count": 12,
   "metadata": {},
   "outputs": [
    {
     "name": "stdout",
     "output_type": "stream",
     "text": [
      "Type of the variable is Integer\n"
     ]
    }
   ],
   "source": [
    "var = 3\n",
    "\n",
    "if (type(var) == int):\n",
    "    print(\"Type of the variable is Integer\")\n",
    "    \n",
    "elif (type(var) == float):\n",
    "    print(\"Type of the variable is Float\")\n",
    "    \n",
    "elif (type(var) == complex):\n",
    "    print(\"Type of the variable is Complex\")\n",
    "\n",
    "else:\n",
    "    print(\"Type of the variable is Unknown\")"
   ]
  },
  {
   "cell_type": "code",
   "execution_count": 22,
   "metadata": {},
   "outputs": [
    {
     "name": "stdout",
     "output_type": "stream",
     "text": [
      "Enter a number: 59\n",
      "59 is Odd\n"
     ]
    }
   ],
   "source": [
    "num = int(input(\"Enter a number: \"))\n",
    "\n",
    "if (num % 2) == 0:\n",
    "    \n",
    "    print(\"%d is Even\" % num)\n",
    "    \n",
    "else:\n",
    "    \n",
    "    print(\"%d is Odd\" % num)"
   ]
  },
  {
   "cell_type": "code",
   "execution_count": 24,
   "metadata": {},
   "outputs": [
    {
     "name": "stdout",
     "output_type": "stream",
     "text": [
      "Enter the first number: 12\n",
      "Operator: /\n",
      "Enter the second number: 4\n",
      "Division:  3.0\n"
     ]
    }
   ],
   "source": [
    "num1 = float(input(\"Enter the first number: \"))\n",
    "\n",
    "operator = input(\"Operator: \")\n",
    "\n",
    "num2 = float(input(\"Enter the second number: \"))\n",
    "\n",
    "if operator == \"+\":\n",
    "    print(\"Addition: \", num1 + num2)\n",
    "\n",
    "elif operator == \"-\":\n",
    "    print(\"Subtraction: \", num1 - num2)\n",
    "\n",
    "elif operator == \"*\":\n",
    "    print(\"Multiplication: \", num1 * num2)\n",
    "\n",
    "elif operator == \"/\":\n",
    "    print(\"Division: \", num1 / num2)\n",
    "    \n",
    "else:\n",
    "    print(\"This is not a valid operator\")"
   ]
  },
  {
   "cell_type": "code",
   "execution_count": 26,
   "metadata": {},
   "outputs": [
    {
     "name": "stdout",
     "output_type": "stream",
     "text": [
      "Enter a number: 35\n",
      "This number is divisible by both 5 and 7\n"
     ]
    }
   ],
   "source": [
    "num_1 = int(input(\"Enter a number: \"))\n",
    "\n",
    "if num_1 % 5 == 0 and num_1 % 7 == 0:\n",
    "    print(\"This number is divisible by both 5 and 7\")\n",
    "    \n",
    "elif num_1 % 5 == 0:\n",
    "    print(\"This number is divisible by 5\")\n",
    "    \n",
    "elif num_1 % 7 == 0:\n",
    "    print(\"This number is divisible by 7\")\n",
    "    \n",
    "else:\n",
    "    print(\"This number is neither divisible by 5 nor 7\")"
   ]
  },
  {
   "cell_type": "code",
   "execution_count": 28,
   "metadata": {},
   "outputs": [
    {
     "name": "stdout",
     "output_type": "stream",
     "text": [
      "Enter a number: 13000\n",
      "This bike is very expensive\n"
     ]
    }
   ],
   "source": [
    "bike_price = int(input('Enter a number: '))\n",
    "\n",
    "if bike_price < 4000:\n",
    "    \n",
    "    print(\"It's a cheap bike\")\n",
    "    \n",
    "elif bike_price >= 4000 and bike_price < 7000:\n",
    "    print(\"It's a moderately priced bike\")\n",
    "    \n",
    "elif bike_price >= 7000 and bike_price < 12000:\n",
    "    print(\"It's an expensive bike\")\n",
    "    \n",
    "else:\n",
    "    print(\"This bike is very expensive\")"
   ]
  },
  {
   "cell_type": "code",
   "execution_count": 29,
   "metadata": {},
   "outputs": [
    {
     "name": "stdout",
     "output_type": "stream",
     "text": [
      "Enter dog's age in human years: 3\n",
      "The dog's age in dog years is 25\n"
     ]
    }
   ],
   "source": [
    "human_age = int(input(\"Enter dog's age in human years: \"))\n",
    "\n",
    "if human_age < 0:\n",
    "    print(\"Age must be a positive number.\")\n",
    "    exit()\n",
    "    \n",
    "if human_age <= 2:\n",
    "    dog_age = human_age * 10.5\n",
    "    \n",
    "else:\n",
    "    dog_age = 21 + (human_age - 2)*4\n",
    "\n",
    "print(\"The dog's age in dog years is\", dog_age)"
   ]
  },
  {
   "cell_type": "code",
   "execution_count": 32,
   "metadata": {},
   "outputs": [
    {
     "name": "stdout",
     "output_type": "stream",
     "text": [
      "Enter a letter of the alphabet: y\n",
      "Y is ambiguous. It depends where it is used\n"
     ]
    }
   ],
   "source": [
    "letter = input(\"Enter a letter of the alphabet: \")\n",
    "letter = letter.lower()\n",
    "\n",
    "if letter in ('a', 'e', 'i', 'o', 'u'):\n",
    "    \n",
    "    print(\"%s is a vowel.\" % letter)\n",
    "    \n",
    "elif letter == 'y':\n",
    "    print(\"Y is ambiguous. It depends where it is used\")\n",
    "    \n",
    "else:\n",
    "    print(\"%s is a consonant.\" % letter) "
   ]
  },
  {
   "cell_type": "code",
   "execution_count": 34,
   "metadata": {},
   "outputs": [
    {
     "name": "stdout",
     "output_type": "stream",
     "text": [
      "Enter the name of the Month: April\n",
      "No. of days: 30 days\n"
     ]
    }
   ],
   "source": [
    "month_name = input(\"Enter the name of the Month: \")\n",
    "\n",
    "if month_name == \"February\":\n",
    "    print(\"No. of days: 28/29 days\")\n",
    "    \n",
    "elif month_name in (\"April\", \"June\", \"September\", \"November\"):\n",
    "    print(\"No. of days: 30 days\")\n",
    "    \n",
    "elif month_name in (\"January\", \"March\", \"May\", \"July\", \"August\", \"October\", \"December\"):\n",
    "    print(\"No. of days: 31 days\")\n",
    "    \n",
    "else:\n",
    "    print(\"Give a correct month name\") "
   ]
  },
  {
   "cell_type": "code",
   "execution_count": 35,
   "metadata": {},
   "outputs": [
    {
     "name": "stdout",
     "output_type": "stream",
     "text": [
      "Enter first number: 34\n",
      "Enter second number: 23\n",
      "Enter third number: 45\n",
      "\n",
      "The median is 34.0\n"
     ]
    }
   ],
   "source": [
    "num_1 = float(input(\"Enter first number: \"))\n",
    "num_2 = float(input(\"Enter second number: \"))\n",
    "num_3 = float(input(\"Enter third number: \"))\n",
    "\n",
    "if num_1 > num_2:\n",
    "    \n",
    "    if num_1 < num_3:\n",
    "        median = num_1\n",
    "        \n",
    "    elif num_2 > num_3:\n",
    "        median = num_2\n",
    "        \n",
    "    else:\n",
    "        median = num_3\n",
    "        \n",
    "else:\n",
    "    if num_1 > num_3:\n",
    "        median = num_1\n",
    "        \n",
    "    elif num_2 < num_3:\n",
    "        median = num_2\n",
    "        \n",
    "    else:\n",
    "        median = num_3\n",
    "\n",
    "print(\"\\nThe median is\", median)"
   ]
  },
  {
   "cell_type": "code",
   "execution_count": 38,
   "metadata": {},
   "outputs": [
    {
     "name": "stdout",
     "output_type": "stream",
     "text": [
      "a: 12\n",
      "b: 12\n",
      "c: 12\n",
      "Equilateral triangle\n"
     ]
    }
   ],
   "source": [
    "a = int(input(\"a: \"))\n",
    "b = int(input(\"b: \"))\n",
    "c = int(input(\"c: \"))\n",
    "\n",
    "if a == b == c:\n",
    "    print(\"Equilateral triangle\")\n",
    "    \n",
    "elif a == b or b == c or c == a:\n",
    "    print(\"Isosceles triangle\")\n",
    "    \n",
    "else:\n",
    "    print(\"\\nScalene triangle\")"
   ]
  },
  {
   "cell_type": "code",
   "execution_count": 40,
   "metadata": {},
   "outputs": [
    {
     "name": "stdout",
     "output_type": "stream",
     "text": [
      "Enter the string: madam\n",
      "The string is a palindrome\n"
     ]
    }
   ],
   "source": [
    "str_value = input(\"Enter the string: \")\n",
    "\n",
    "reversed_str = str_value[::-1]\n",
    "\n",
    "if(str_value == reversed_str):\n",
    "      print(\"The string is a palindrome\")\n",
    "        \n",
    "else:\n",
    "      print(\"The string is not a palindrome\")"
   ]
  },
  {
   "cell_type": "code",
   "execution_count": 42,
   "metadata": {},
   "outputs": [
    {
     "name": "stdout",
     "output_type": "stream",
     "text": [
      "How many days are there in a leap year? 366\n",
      "You entered: 366\n",
      "You have cleared the first level.\n",
      "\n",
      "Which month has an extra day in a leap year?february\n",
      "You have cleared the test.\n"
     ]
    }
   ],
   "source": [
    "ans = int(input(\"How many days are there in a leap year? \"))\n",
    "print(\"You entered:\", ans)\n",
    "    \n",
    "if ans == 366 :\n",
    "    print(\"You have cleared the first level.\")\n",
    "    \n",
    "    ans = input(\"\\nWhich month has an extra day in a leap year?\").lower()\n",
    "    if ans == \"february\" :\n",
    "        \n",
    "        print(\"You have cleared the test.\")\n",
    "        \n",
    "    else :\n",
    "        \n",
    "        print(\"You have failed the test.\")\n",
    "        \n",
    "else :\n",
    "    print(\"Your answer is wrong, please try again.\")"
   ]
  },
  {
   "cell_type": "code",
   "execution_count": 43,
   "metadata": {},
   "outputs": [
    {
     "name": "stdout",
     "output_type": "stream",
     "text": [
      "Enter a score: 75\n",
      "C grade\n"
     ]
    }
   ],
   "source": [
    "score = int(input(\"Enter a score: \"))\n",
    "\n",
    "if score >= 90:\n",
    "    print(\"A grade\")\n",
    "\n",
    "elif score >=80:\n",
    "    print(\"B grade\")\n",
    "\n",
    "elif score >=70:\n",
    "    print(\"C grade\")\n",
    "\n",
    "elif score >= 50:\n",
    "    print(\"D grade\")\n",
    "\n",
    "else:\n",
    "    print(\"Fail\")"
   ]
  },
  {
   "cell_type": "code",
   "execution_count": 1,
   "metadata": {},
   "outputs": [
    {
     "name": "stdout",
     "output_type": "stream",
     "text": [
      "Enter annual salary: 40000\n",
      "Enter years of service: 8\n",
      "Bonus is:  2000.0\n"
     ]
    }
   ],
   "source": [
    "salary = int(input(\"Enter annual salary: \"))\n",
    "\n",
    "years_service = int(input(\"Enter years of service: \"))\n",
    "\n",
    "if years_service >= 10: \n",
    "    print (\"Bonus is: \", .15 * salary)\n",
    "\n",
    "elif years_service >= 5 and years_service < 10:\n",
    "    print (\"Bonus is: \", .05 * salary)\n",
    "    \n",
    "else:\n",
    "    print (\"No bonus\")"
   ]
  },
  {
   "cell_type": "code",
   "execution_count": null,
   "metadata": {},
   "outputs": [],
   "source": []
  },
  {
   "cell_type": "code",
   "execution_count": 1,
   "metadata": {},
   "outputs": [
    {
     "name": "stdout",
     "output_type": "stream",
     "text": [
      "Enter salary amount: 700\n",
      "Enter expenses: 230\n",
      "My total savings in a month is:  470\n"
     ]
    }
   ],
   "source": [
    "salary = int(input(\"Enter salary amount: \"))\n",
    "expenses = int(input(\"Enter expenses: \"))\n",
    "\n",
    "savings = salary - expenses\n",
    "\n",
    "print(\"My total savings in a month is: \", savings)"
   ]
  },
  {
   "cell_type": "code",
   "execution_count": 1,
   "metadata": {},
   "outputs": [
    {
     "name": "stdout",
     "output_type": "stream",
     "text": [
      "Enter first variable: 20\n",
      "Enter second variable: 25\n",
      "\n",
      "First_num is: 25 \n",
      "Second_num is: 20\n"
     ]
    }
   ],
   "source": [
    "first_num = int(input(\"Enter first variable: \"))      \n",
    "second_num = int(input(\"Enter second variable: \"))    \n",
    "\n",
    "first_num = first_num + second_num       \n",
    "second_num = first_num - second_num       \n",
    "first_num = first_num - second_num       \n",
    "\n",
    "print (\"\\nFirst_num is:\", first_num , \"\\nSecond_num is:\", second_num)"
   ]
  },
  {
   "cell_type": "code",
   "execution_count": 3,
   "metadata": {},
   "outputs": [
    {
     "name": "stdout",
     "output_type": "stream",
     "text": [
      "Enter a number: 12\n",
      "12 + 1212 + 121212 = 122436\n"
     ]
    }
   ],
   "source": [
    "num = int(input(\"Enter a number: \"))\n",
    "\n",
    "temp1 = str(num)                       \n",
    "temp2 = temp1 + temp1                  \n",
    "temp3 = temp1 + temp1 + temp1           \n",
    "\n",
    "total = num + (int(temp2) + int(temp3)) \n",
    "\n",
    "print(temp1, '+', temp2, '+', temp3, '=', total) "
   ]
  },
  {
   "cell_type": "code",
   "execution_count": 1,
   "metadata": {},
   "outputs": [
    {
     "name": "stdout",
     "output_type": "stream",
     "text": [
      "Enter first number: 13\n",
      "Enter second number: 4\n",
      "\n",
      "Quotient: 3\n",
      "Remainder: 1\n"
     ]
    }
   ],
   "source": [
    "num_1 = int(input(\"Enter first number: \"))\n",
    "num_2 = int(input(\"Enter second number: \"))\n",
    "\n",
    "Quotient = int(num_1 / num_2)\n",
    "print(\"\\nQuotient:\", Quotient)\n",
    "        \n",
    "Remainder = num_1 % num_2\n",
    "print(\"Remainder:\", Remainder)"
   ]
  },
  {
   "cell_type": "code",
   "execution_count": 2,
   "metadata": {},
   "outputs": [
    {
     "name": "stdout",
     "output_type": "stream",
     "text": [
      "Enter the principle amount: 800\n",
      "Enter the time(years): 6\n",
      "Enter the rate: 3\n",
      "The simple interest is: 144.0\n"
     ]
    }
   ],
   "source": [
    "principle = float(input(\"Enter the principle amount: \"))\n",
    "time = int(input(\"Enter the time(years): \"))\n",
    "rate = float(input(\"Enter the rate: \"))\n",
    "\n",
    "simple_int = (principle * time * rate) / 100\n",
    "\n",
    "print(\"The simple interest is:\",simple_int)"
   ]
  },
  {
   "cell_type": "code",
   "execution_count": 6,
   "metadata": {},
   "outputs": [
    {
     "name": "stdout",
     "output_type": "stream",
     "text": [
      "Give the height in centimeters: 168\n",
      "The length in inches:  66.19\n",
      "The length is feet:  5.44\n"
     ]
    }
   ],
   "source": [
    "cm = int(input(\"Give the height in centimeters: \"))\n",
    "inches = 0.394 * cm\n",
    "feet = 0.0324 * cm\n",
    "\n",
    "print (\"The length in inches: \", round(inches, 2))\n",
    "print (\"The length in feet: \", round(feet, 2))"
   ]
  },
  {
   "cell_type": "code",
   "execution_count": 7,
   "metadata": {},
   "outputs": [
    {
     "name": "stdout",
     "output_type": "stream",
     "text": [
      "List of cars before the swap:  ['Toyota Camry', 'Honda Accord', 'Honda Civic', 'Toyota Corolla']\n",
      "List of cars after the swap:  ['Honda Civic', 'Honda Accord', 'Toyota Camry', 'Toyota Corolla']\n"
     ]
    }
   ],
   "source": [
    "cars_list = [\"Toyota Camry\", \"Honda Accord\", \"Honda Civic\", \"Toyota Corolla\"]\n",
    "\n",
    "print(\"List of cars before the swap: \", cars_list)\n",
    "\n",
    "cars_list_temp = cars_list[0]\n",
    "\n",
    "cars_list[0] = cars_list[2]\n",
    "\n",
    "cars_list[2] = cars_list_temp\n",
    "\n",
    "print(\"List of cars after the swap: \", cars_list)"
   ]
  },
  {
   "cell_type": "code",
   "execution_count": 8,
   "metadata": {},
   "outputs": [
    {
     "name": "stdout",
     "output_type": "stream",
     "text": [
      "list of cars before the swap:  ['Toyota Camry', 'Honda Accord', 'Honda Civic', 'Toyota Corolla']\n",
      "list of cars after  the swap:  ['Toyota Camry', 'Honda Civic', 'Honda Accord', 'Toyota Corolla']\n"
     ]
    }
   ],
   "source": [
    "cars_list = [\"Toyota Camry\", \"Honda Accord\", \"Honda Civic\", \"Toyota Corolla\"]\n",
    "\n",
    "print(\"list of cars before the swap: \", cars_list)\n",
    "\n",
    "car1 = 1\n",
    "car2 = 2\n",
    "\n",
    "cars_list[car1], cars_list[car2] = cars_list[car2], cars_list[car1]\n",
    "\n",
    "print(\"list of cars after  the swap: \", cars_list)"
   ]
  },
  {
   "cell_type": "code",
   "execution_count": 4,
   "metadata": {},
   "outputs": [
    {
     "name": "stdout",
     "output_type": "stream",
     "text": [
      "Student list:  ['Sofia', 'Ella', 'Samuel', 'Ella', 'Aiden', 'Sofia']\n",
      "Number of Students:  6\n",
      "\n",
      "New student list:  ['Ella', 'Samuel', 'Aiden', 'Sofia']\n",
      "Length of modified students list:  4\n",
      "There are 2 duplicate elements\n"
     ]
    }
   ],
   "source": [
    "list_student = [\"Sofia\", \"Ella\", \"Samuel\", \"Ella\", \"Aiden\", \"Sofia\"]\n",
    "\n",
    "print(\"Student list: \", list_student)\n",
    "\n",
    "print(\"Number of Students: \", len(list_student))\n",
    "\n",
    "student_set = set(list_student)\n",
    "\n",
    "print(\"\\nNew student list: \", list(student_set))\n",
    "\n",
    "print(\"Length of modified students list: \", len(student_set))\n",
    "\n",
    "print(\"There are %s duplicate elements\"%(len(list_student) - len(student_set)))"
   ]
  },
  {
   "cell_type": "code",
   "execution_count": 5,
   "metadata": {},
   "outputs": [
    {
     "name": "stdout",
     "output_type": "stream",
     "text": [
      "There are 2 duplicate elements\n"
     ]
    }
   ],
   "source": [
    "list_str = [\"Sofia\",\"Ella\",\"Samuel\",\"Ella\",\"Aiden\",\"Sofia\"]\n",
    "\n",
    "len_list_str = len(list_str)\n",
    "\n",
    "len_set_str = len(set(list_str))\n",
    "\n",
    "if len_list_str == len_set_str:\n",
    "    \n",
    "    print(\"There are no duplicate elements\")\n",
    "    \n",
    "else:\n",
    "    \n",
    "    print(\"There are {} duplicate elements\".format(len_list_str - len_set_str))"
   ]
  },
  {
   "cell_type": "code",
   "execution_count": 11,
   "metadata": {},
   "outputs": [
    {
     "name": "stdout",
     "output_type": "stream",
     "text": [
      "The number stored in num_value is : 50\n",
      "The number is an even number\n"
     ]
    }
   ],
   "source": [
    "num_value = 50\n",
    "print(\"The number stored in num_value is :\", num_value)\n",
    "\n",
    "if not num_value % 2 == 0:\n",
    "    print(\"The number is an odd number\")\n",
    "else:\n",
    "    print(\"The number is an even number\")"
   ]
  },
  {
   "cell_type": "code",
   "execution_count": 12,
   "metadata": {},
   "outputs": [
    {
     "name": "stdout",
     "output_type": "stream",
     "text": [
      "Enter some comma separated numbers : 12,23,45,56\n",
      "List :  ['12', '23', '45', '56']\n",
      "Tuple :  ('12', '23', '45', '56')\n"
     ]
    }
   ],
   "source": [
    "values = input(\"Enter some comma separated numbers : \")\n",
    "\n",
    "list_value = values.split(\",\")\n",
    "tuple_value = tuple(list_value)\n",
    "\n",
    "print(\"List : \", list_value)\n",
    "print(\"Tuple : \", tuple_value)"
   ]
  },
  {
   "cell_type": "code",
   "execution_count": 13,
   "metadata": {},
   "outputs": [
    {
     "name": "stdout",
     "output_type": "stream",
     "text": [
      "Enter some comma separated words : Kiwi,Apple,Banana\n",
      "['Apple', 'Banana', 'Kiwi']\n"
     ]
    }
   ],
   "source": [
    "list_words = input(\"Enter some comma separated words : \")\n",
    "\n",
    "words = list_words.split(\",\")\n",
    "\n",
    "new_list_words = sorted(words)\n",
    "\n",
    "print (new_list_words)"
   ]
  },
  {
   "cell_type": "markdown",
   "metadata": {},
   "source": [
    "what lies behind us and what lies before us are tiny matters compared to what lies within us"
   ]
  },
  {
   "cell_type": "code",
   "execution_count": 2,
   "metadata": {},
   "outputs": [
    {
     "name": "stdout",
     "output_type": "stream",
     "text": [
      "Enter some whitespace-separated words : what lies behind us and what lies before us are tiny matters compared to what lies within us\n",
      "and are before behind compared lies matters tiny to us what within\n"
     ]
    }
   ],
   "source": [
    "sentence = input(\"Enter some whitespace-separated words : \")\n",
    "\n",
    "words = sentence.split(\" \")\n",
    "\n",
    "set_of_words = set(words)\n",
    "\n",
    "sorted_set_of_words = sorted(set_of_words)\n",
    "\n",
    "print(\" \".join(sorted_set_of_words))"
   ]
  },
  {
   "cell_type": "code",
   "execution_count": 15,
   "metadata": {},
   "outputs": [
    {
     "name": "stdout",
     "output_type": "stream",
     "text": [
      "{1: 1, 2: 4, 3: 9}\n"
     ]
    }
   ],
   "source": [
    "num_dict = dict()\n",
    "\n",
    "num_dict[1] = 1\n",
    "num_dict[2] = 2 ** 2\n",
    "num_dict[3] = 3 ** 2\n",
    "\n",
    "print (num_dict)"
   ]
  },
  {
   "cell_type": "code",
   "execution_count": 3,
   "metadata": {},
   "outputs": [
    {
     "name": "stdout",
     "output_type": "stream",
     "text": [
      "Enter first string: hello\n",
      "Enter second string: python\n",
      "\n",
      "Common letters:  ['h', 'o']\n"
     ]
    }
   ],
   "source": [
    "string_1 = input(\"Enter first string: \")\n",
    "\n",
    "string_2 = input(\"Enter second string: \")\n",
    "\n",
    "set_1 = set(string_1)\n",
    "set_2 = set(string_2)\n",
    "\n",
    "common_char = set_1.intersection(set_2)\n",
    "\n",
    "print(\"\\nCommon letters: \", list(common_char))"
   ]
  },
  {
   "cell_type": "code",
   "execution_count": 7,
   "metadata": {},
   "outputs": [
    {
     "name": "stdout",
     "output_type": "stream",
     "text": [
      "Numbers before slicing: [10, 11, 12, 13, 14, 15, 16, 17, 18, 19, 20, 21]\n",
      "Length of numbers before slicing:  12\n",
      "\n",
      "First half: [10, 11, 12, 13, 14, 15]\n",
      "Second half: [16, 17, 18, 19, 20, 21]\n"
     ]
    }
   ],
   "source": [
    "list_num = [10, 11, 12, 13, 14, 15, 16, 17, 18, 19, 20, 21]\n",
    "\n",
    "len_of_list = len(list_num)\n",
    "\n",
    "print(\"Numbers before slicing: %s\" %list_num)\n",
    "print(\"Length of numbers before slicing: \", len_of_list)\n",
    "\n",
    "half = int(len_of_list / 2)\n",
    "\n",
    "list_num1 = list_num[:half]\n",
    "list_num2 = list_num[half:]\n",
    "\n",
    "print(\"\\nFirst half: %s\" %list_num1)\n",
    "print(\"Second half: %s\" %list_num2)"
   ]
  },
  {
   "cell_type": "code",
   "execution_count": 19,
   "metadata": {},
   "outputs": [
    {
     "name": "stdout",
     "output_type": "stream",
     "text": [
      "Enter a number: -12\n",
      "Negative number\n"
     ]
    }
   ],
   "source": [
    "num = float(input(\"Enter a number: \"))\n",
    "\n",
    "if num >= 0:\n",
    "    \n",
    "    if num == 0:\n",
    "        print(\"Zero\")\n",
    "        \n",
    "    else:\n",
    "        print(\"Positive number\")\n",
    "        \n",
    "else:\n",
    "    \n",
    "    print(\"Negative number\")"
   ]
  },
  {
   "cell_type": "markdown",
   "metadata": {},
   "source": [
    "run this cell twice first with var = 3\n",
    "\n",
    "the var = 1+2j"
   ]
  },
  {
   "cell_type": "code",
   "execution_count": 12,
   "metadata": {},
   "outputs": [
    {
     "name": "stdout",
     "output_type": "stream",
     "text": [
      "Type of the variable is Integer\n"
     ]
    }
   ],
   "source": [
    "var = 3\n",
    "\n",
    "if (type(var) == int):\n",
    "    print(\"Type of the variable is Integer\")\n",
    "    \n",
    "elif (type(var) == float):\n",
    "    print(\"Type of the variable is Float\")\n",
    "    \n",
    "elif (type(var) == complex):\n",
    "    print(\"Type of the variable is Complex\")\n",
    "\n",
    "else:\n",
    "    print(\"Type of the variable is Unknown\")"
   ]
  },
  {
   "cell_type": "code",
   "execution_count": 22,
   "metadata": {},
   "outputs": [
    {
     "name": "stdout",
     "output_type": "stream",
     "text": [
      "Enter a number: 59\n",
      "59 is Odd\n"
     ]
    }
   ],
   "source": [
    "num = int(input(\"Enter a number: \"))\n",
    "\n",
    "if (num % 2) == 0:\n",
    "    \n",
    "    print(\"%d is Even\" % num)\n",
    "    \n",
    "else:\n",
    "    \n",
    "    print(\"%d is Odd\" % num)"
   ]
  },
  {
   "cell_type": "code",
   "execution_count": 24,
   "metadata": {},
   "outputs": [
    {
     "name": "stdout",
     "output_type": "stream",
     "text": [
      "Enter the first number: 12\n",
      "Operator: /\n",
      "Enter the second number: 4\n",
      "Division:  3.0\n"
     ]
    }
   ],
   "source": [
    "num1 = float(input(\"Enter the first number: \"))\n",
    "\n",
    "operator = input(\"Operator: \")\n",
    "\n",
    "num2 = float(input(\"Enter the second number: \"))\n",
    "\n",
    "if operator == \"+\":\n",
    "    print(\"Addition: \", num1 + num2)\n",
    "\n",
    "elif operator == \"-\":\n",
    "    print(\"Subtraction: \", num1 - num2)\n",
    "\n",
    "elif operator == \"*\":\n",
    "    print(\"Multiplication: \", num1 * num2)\n",
    "\n",
    "elif operator == \"/\":\n",
    "    print(\"Division: \", num1 / num2)\n",
    "    \n",
    "else:\n",
    "    print(\"This is not a valid operator\")"
   ]
  },
  {
   "cell_type": "code",
   "execution_count": 26,
   "metadata": {},
   "outputs": [
    {
     "name": "stdout",
     "output_type": "stream",
     "text": [
      "Enter a number: 35\n",
      "This number is divisible by both 5 and 7\n"
     ]
    }
   ],
   "source": [
    "num_1 = int(input(\"Enter a number: \"))\n",
    "\n",
    "if num_1 % 5 == 0 and num_1 % 7 == 0:\n",
    "    print(\"This number is divisible by both 5 and 7\")\n",
    "    \n",
    "elif num_1 % 5 == 0:\n",
    "    print(\"This number is divisible by 5\")\n",
    "    \n",
    "elif num_1 % 7 == 0:\n",
    "    print(\"This number is divisible by 7\")\n",
    "    \n",
    "else:\n",
    "    print(\"This number is neither divisible by 5 nor 7\")"
   ]
  },
  {
   "cell_type": "code",
   "execution_count": 28,
   "metadata": {},
   "outputs": [
    {
     "name": "stdout",
     "output_type": "stream",
     "text": [
      "Enter a number: 13000\n",
      "This bike is very expensive\n"
     ]
    }
   ],
   "source": [
    "bike_price = int(input('Enter a number: '))\n",
    "\n",
    "if bike_price < 4000:\n",
    "    \n",
    "    print(\"It's a cheap bike\")\n",
    "    \n",
    "elif bike_price >= 4000 and bike_price < 7000:\n",
    "    print(\"It's a moderately priced bike\")\n",
    "    \n",
    "elif bike_price >= 7000 and bike_price < 12000:\n",
    "    print(\"It's an expensive bike\")\n",
    "    \n",
    "else:\n",
    "    print(\"This bike is very expensive\")"
   ]
  },
  {
   "cell_type": "code",
   "execution_count": 29,
   "metadata": {},
   "outputs": [
    {
     "name": "stdout",
     "output_type": "stream",
     "text": [
      "Enter dog's age in human years: 3\n",
      "The dog's age in dog years is 25\n"
     ]
    }
   ],
   "source": [
    "human_age = int(input(\"Enter dog's age in human years: \"))\n",
    "\n",
    "if human_age < 0:\n",
    "    print(\"Age must be a positive number.\")\n",
    "    exit()\n",
    "    \n",
    "if human_age <= 2:\n",
    "    dog_age = human_age * 10.5\n",
    "    \n",
    "else:\n",
    "    dog_age = 21 + (human_age - 2)*4\n",
    "\n",
    "print(\"The dog's age in dog years is\", dog_age)"
   ]
  },
  {
   "cell_type": "code",
   "execution_count": 32,
   "metadata": {},
   "outputs": [
    {
     "name": "stdout",
     "output_type": "stream",
     "text": [
      "Enter a letter of the alphabet: y\n",
      "Y is ambiguous. It depends where it is used\n"
     ]
    }
   ],
   "source": [
    "letter = input(\"Enter a letter of the alphabet: \")\n",
    "letter = letter.lower()\n",
    "\n",
    "if letter in ('a', 'e', 'i', 'o', 'u'):\n",
    "    \n",
    "    print(\"%s is a vowel.\" % letter)\n",
    "    \n",
    "elif letter == 'y':\n",
    "    print(\"Y is ambiguous. It depends where it is used\")\n",
    "    \n",
    "else:\n",
    "    print(\"%s is a consonant.\" % letter) "
   ]
  },
  {
   "cell_type": "code",
   "execution_count": 34,
   "metadata": {},
   "outputs": [
    {
     "name": "stdout",
     "output_type": "stream",
     "text": [
      "Enter the name of the Month: April\n",
      "No. of days: 30 days\n"
     ]
    }
   ],
   "source": [
    "month_name = input(\"Enter the name of the Month: \")\n",
    "\n",
    "if month_name == \"February\":\n",
    "    print(\"No. of days: 28/29 days\")\n",
    "    \n",
    "elif month_name in (\"April\", \"June\", \"September\", \"November\"):\n",
    "    print(\"No. of days: 30 days\")\n",
    "    \n",
    "elif month_name in (\"January\", \"March\", \"May\", \"July\", \"August\", \"October\", \"December\"):\n",
    "    print(\"No. of days: 31 days\")\n",
    "    \n",
    "else:\n",
    "    print(\"Give a correct month name\") "
   ]
  },
  {
   "cell_type": "code",
   "execution_count": 35,
   "metadata": {},
   "outputs": [
    {
     "name": "stdout",
     "output_type": "stream",
     "text": [
      "Enter first number: 34\n",
      "Enter second number: 23\n",
      "Enter third number: 45\n",
      "\n",
      "The median is 34.0\n"
     ]
    }
   ],
   "source": [
    "num_1 = float(input(\"Enter first number: \"))\n",
    "num_2 = float(input(\"Enter second number: \"))\n",
    "num_3 = float(input(\"Enter third number: \"))\n",
    "\n",
    "if num_1 > num_2:\n",
    "    \n",
    "    if num_1 < num_3:\n",
    "        median = num_1\n",
    "        \n",
    "    elif num_2 > num_3:\n",
    "        median = num_2\n",
    "        \n",
    "    else:\n",
    "        median = num_3\n",
    "        \n",
    "else:\n",
    "    if num_1 > num_3:\n",
    "        median = num_1\n",
    "        \n",
    "    elif num_2 < num_3:\n",
    "        median = num_2\n",
    "        \n",
    "    else:\n",
    "        median = num_3\n",
    "\n",
    "print(\"\\nThe median is\", median)"
   ]
  },
  {
   "cell_type": "code",
   "execution_count": 38,
   "metadata": {},
   "outputs": [
    {
     "name": "stdout",
     "output_type": "stream",
     "text": [
      "a: 12\n",
      "b: 12\n",
      "c: 12\n",
      "Equilateral triangle\n"
     ]
    }
   ],
   "source": [
    "a = int(input(\"a: \"))\n",
    "b = int(input(\"b: \"))\n",
    "c = int(input(\"c: \"))\n",
    "\n",
    "if a == b == c:\n",
    "    print(\"Equilateral triangle\")\n",
    "    \n",
    "elif a == b or b == c or c == a:\n",
    "    print(\"Isosceles triangle\")\n",
    "    \n",
    "else:\n",
    "    print(\"\\nScalene triangle\")"
   ]
  },
  {
   "cell_type": "code",
   "execution_count": 40,
   "metadata": {},
   "outputs": [
    {
     "name": "stdout",
     "output_type": "stream",
     "text": [
      "Enter the string: madam\n",
      "The string is a palindrome\n"
     ]
    }
   ],
   "source": [
    "str_value = input(\"Enter the string: \")\n",
    "\n",
    "reversed_str = str_value[::-1]\n",
    "\n",
    "if(str_value == reversed_str):\n",
    "      print(\"The string is a palindrome\")\n",
    "        \n",
    "else:\n",
    "      print(\"The string is not a palindrome\")"
   ]
  },
  {
   "cell_type": "code",
   "execution_count": 42,
   "metadata": {},
   "outputs": [
    {
     "name": "stdout",
     "output_type": "stream",
     "text": [
      "How many days are there in a leap year? 366\n",
      "You entered: 366\n",
      "You have cleared the first level.\n",
      "\n",
      "Which month has an extra day in a leap year?february\n",
      "You have cleared the test.\n"
     ]
    }
   ],
   "source": [
    "ans = int(input(\"How many days are there in a leap year? \"))\n",
    "print(\"You entered:\", ans)\n",
    "    \n",
    "if ans == 366 :\n",
    "    print(\"You have cleared the first level.\")\n",
    "    \n",
    "    ans = input(\"\\nWhich month has an extra day in a leap year?\").lower()\n",
    "    if ans == \"february\" :\n",
    "        \n",
    "        print(\"You have cleared the test.\")\n",
    "        \n",
    "    else :\n",
    "        \n",
    "        print(\"You have failed the test.\")\n",
    "        \n",
    "else :\n",
    "    print(\"Your answer is wrong, please try again.\")"
   ]
  },
  {
   "cell_type": "code",
   "execution_count": 43,
   "metadata": {},
   "outputs": [
    {
     "name": "stdout",
     "output_type": "stream",
     "text": [
      "Enter a score: 75\n",
      "C grade\n"
     ]
    }
   ],
   "source": [
    "score = int(input(\"Enter a score: \"))\n",
    "\n",
    "if score >= 90:\n",
    "    print(\"A grade\")\n",
    "\n",
    "elif score >=80:\n",
    "    print(\"B grade\")\n",
    "\n",
    "elif score >=70:\n",
    "    print(\"C grade\")\n",
    "\n",
    "elif score >= 50:\n",
    "    print(\"D grade\")\n",
    "\n",
    "else:\n",
    "    print(\"Fail\")"
   ]
  },
  {
   "cell_type": "code",
   "execution_count": 1,
   "metadata": {},
   "outputs": [
    {
     "name": "stdout",
     "output_type": "stream",
     "text": [
      "Enter annual salary: 40000\n",
      "Enter years of service: 8\n",
      "Bonus is:  2000.0\n"
     ]
    }
   ],
   "source": [
    "salary = int(input(\"Enter annual salary: \"))\n",
    "\n",
    "years_service = int(input(\"Enter years of service: \"))\n",
    "\n",
    "if years_service >= 10: \n",
    "    print (\"Bonus is: \", .15 * salary)\n",
    "\n",
    "elif years_service >= 5 and years_service < 10:\n",
    "    print (\"Bonus is: \", .05 * salary)\n",
    "    \n",
    "else:\n",
    "    print (\"No bonus\")"
   ]
  },
  {
   "cell_type": "code",
   "execution_count": null,
   "metadata": {},
   "outputs": [],
   "source": []
  },
  {
   "cell_type": "code",
   "execution_count": 1,
   "metadata": {},
   "outputs": [
    {
     "name": "stdout",
     "output_type": "stream",
     "text": [
      "Enter salary amount: 700\n",
      "Enter expenses: 230\n",
      "My total savings in a month is:  470\n"
     ]
    }
   ],
   "source": [
    "salary = int(input(\"Enter salary amount: \"))\n",
    "expenses = int(input(\"Enter expenses: \"))\n",
    "\n",
    "savings = salary - expenses\n",
    "\n",
    "print(\"My total savings in a month is: \", savings)"
   ]
  },
  {
   "cell_type": "code",
   "execution_count": 1,
   "metadata": {},
   "outputs": [
    {
     "name": "stdout",
     "output_type": "stream",
     "text": [
      "Enter first variable: 20\n",
      "Enter second variable: 25\n",
      "\n",
      "First_num is: 25 \n",
      "Second_num is: 20\n"
     ]
    }
   ],
   "source": [
    "first_num = int(input(\"Enter first variable: \"))      \n",
    "second_num = int(input(\"Enter second variable: \"))    \n",
    "\n",
    "first_num = first_num + second_num       \n",
    "second_num = first_num - second_num       \n",
    "first_num = first_num - second_num       \n",
    "\n",
    "print (\"\\nFirst_num is:\", first_num , \"\\nSecond_num is:\", second_num)"
   ]
  },
  {
   "cell_type": "code",
   "execution_count": 3,
   "metadata": {},
   "outputs": [
    {
     "name": "stdout",
     "output_type": "stream",
     "text": [
      "Enter a number: 12\n",
      "12 + 1212 + 121212 = 122436\n"
     ]
    }
   ],
   "source": [
    "num = int(input(\"Enter a number: \"))\n",
    "\n",
    "temp1 = str(num)                       \n",
    "temp2 = temp1 + temp1                  \n",
    "temp3 = temp1 + temp1 + temp1           \n",
    "\n",
    "total = num + (int(temp2) + int(temp3)) \n",
    "\n",
    "print(temp1, '+', temp2, '+', temp3, '=', total) "
   ]
  },
  {
   "cell_type": "code",
   "execution_count": 1,
   "metadata": {},
   "outputs": [
    {
     "name": "stdout",
     "output_type": "stream",
     "text": [
      "Enter first number: 13\n",
      "Enter second number: 4\n",
      "\n",
      "Quotient: 3\n",
      "Remainder: 1\n"
     ]
    }
   ],
   "source": [
    "num_1 = int(input(\"Enter first number: \"))\n",
    "num_2 = int(input(\"Enter second number: \"))\n",
    "\n",
    "Quotient = int(num_1 / num_2)\n",
    "print(\"\\nQuotient:\", Quotient)\n",
    "        \n",
    "Remainder = num_1 % num_2\n",
    "print(\"Remainder:\", Remainder)"
   ]
  },
  {
   "cell_type": "code",
   "execution_count": 2,
   "metadata": {},
   "outputs": [
    {
     "name": "stdout",
     "output_type": "stream",
     "text": [
      "Enter the principle amount: 800\n",
      "Enter the time(years): 6\n",
      "Enter the rate: 3\n",
      "The simple interest is: 144.0\n"
     ]
    }
   ],
   "source": [
    "principle = float(input(\"Enter the principle amount: \"))\n",
    "time = int(input(\"Enter the time(years): \"))\n",
    "rate = float(input(\"Enter the rate: \"))\n",
    "\n",
    "simple_int = (principle * time * rate) / 100\n",
    "\n",
    "print(\"The simple interest is:\",simple_int)"
   ]
  },
  {
   "cell_type": "code",
   "execution_count": 6,
   "metadata": {},
   "outputs": [
    {
     "name": "stdout",
     "output_type": "stream",
     "text": [
      "Give the height in centimeters: 168\n",
      "The length in inches:  66.19\n",
      "The length is feet:  5.44\n"
     ]
    }
   ],
   "source": [
    "cm = int(input(\"Give the height in centimeters: \"))\n",
    "inches = 0.394 * cm\n",
    "feet = 0.0324 * cm\n",
    "\n",
    "print (\"The length in inches: \", round(inches, 2))\n",
    "print (\"The length in feet: \", round(feet, 2))"
   ]
  },
  {
   "cell_type": "code",
   "execution_count": 7,
   "metadata": {},
   "outputs": [
    {
     "name": "stdout",
     "output_type": "stream",
     "text": [
      "List of cars before the swap:  ['Toyota Camry', 'Honda Accord', 'Honda Civic', 'Toyota Corolla']\n",
      "List of cars after the swap:  ['Honda Civic', 'Honda Accord', 'Toyota Camry', 'Toyota Corolla']\n"
     ]
    }
   ],
   "source": [
    "cars_list = [\"Toyota Camry\", \"Honda Accord\", \"Honda Civic\", \"Toyota Corolla\"]\n",
    "\n",
    "print(\"List of cars before the swap: \", cars_list)\n",
    "\n",
    "cars_list_temp = cars_list[0]\n",
    "\n",
    "cars_list[0] = cars_list[2]\n",
    "\n",
    "cars_list[2] = cars_list_temp\n",
    "\n",
    "print(\"List of cars after the swap: \", cars_list)"
   ]
  },
  {
   "cell_type": "code",
   "execution_count": 8,
   "metadata": {},
   "outputs": [
    {
     "name": "stdout",
     "output_type": "stream",
     "text": [
      "list of cars before the swap:  ['Toyota Camry', 'Honda Accord', 'Honda Civic', 'Toyota Corolla']\n",
      "list of cars after  the swap:  ['Toyota Camry', 'Honda Civic', 'Honda Accord', 'Toyota Corolla']\n"
     ]
    }
   ],
   "source": [
    "cars_list = [\"Toyota Camry\", \"Honda Accord\", \"Honda Civic\", \"Toyota Corolla\"]\n",
    "\n",
    "print(\"list of cars before the swap: \", cars_list)\n",
    "\n",
    "car1 = 1\n",
    "car2 = 2\n",
    "\n",
    "cars_list[car1], cars_list[car2] = cars_list[car2], cars_list[car1]\n",
    "\n",
    "print(\"list of cars after  the swap: \", cars_list)"
   ]
  },
  {
   "cell_type": "code",
   "execution_count": 4,
   "metadata": {},
   "outputs": [
    {
     "name": "stdout",
     "output_type": "stream",
     "text": [
      "Student list:  ['Sofia', 'Ella', 'Samuel', 'Ella', 'Aiden', 'Sofia']\n",
      "Number of Students:  6\n",
      "\n",
      "New student list:  ['Ella', 'Samuel', 'Aiden', 'Sofia']\n",
      "Length of modified students list:  4\n",
      "There are 2 duplicate elements\n"
     ]
    }
   ],
   "source": [
    "list_student = [\"Sofia\", \"Ella\", \"Samuel\", \"Ella\", \"Aiden\", \"Sofia\"]\n",
    "\n",
    "print(\"Student list: \", list_student)\n",
    "\n",
    "print(\"Number of Students: \", len(list_student))\n",
    "\n",
    "student_set = set(list_student)\n",
    "\n",
    "print(\"\\nNew student list: \", list(student_set))\n",
    "\n",
    "print(\"Length of modified students list: \", len(student_set))\n",
    "\n",
    "print(\"There are %s duplicate elements\"%(len(list_student) - len(student_set)))"
   ]
  },
  {
   "cell_type": "code",
   "execution_count": 5,
   "metadata": {},
   "outputs": [
    {
     "name": "stdout",
     "output_type": "stream",
     "text": [
      "There are 2 duplicate elements\n"
     ]
    }
   ],
   "source": [
    "list_str = [\"Sofia\",\"Ella\",\"Samuel\",\"Ella\",\"Aiden\",\"Sofia\"]\n",
    "\n",
    "len_list_str = len(list_str)\n",
    "\n",
    "len_set_str = len(set(list_str))\n",
    "\n",
    "if len_list_str == len_set_str:\n",
    "    \n",
    "    print(\"There are no duplicate elements\")\n",
    "    \n",
    "else:\n",
    "    \n",
    "    print(\"There are {} duplicate elements\".format(len_list_str - len_set_str))"
   ]
  },
  {
   "cell_type": "code",
   "execution_count": 11,
   "metadata": {},
   "outputs": [
    {
     "name": "stdout",
     "output_type": "stream",
     "text": [
      "The number stored in num_value is : 50\n",
      "The number is an even number\n"
     ]
    }
   ],
   "source": [
    "num_value = 50\n",
    "print(\"The number stored in num_value is :\", num_value)\n",
    "\n",
    "if not num_value % 2 == 0:\n",
    "    print(\"The number is an odd number\")\n",
    "else:\n",
    "    print(\"The number is an even number\")"
   ]
  },
  {
   "cell_type": "code",
   "execution_count": 12,
   "metadata": {},
   "outputs": [
    {
     "name": "stdout",
     "output_type": "stream",
     "text": [
      "Enter some comma separated numbers : 12,23,45,56\n",
      "List :  ['12', '23', '45', '56']\n",
      "Tuple :  ('12', '23', '45', '56')\n"
     ]
    }
   ],
   "source": [
    "values = input(\"Enter some comma separated numbers : \")\n",
    "\n",
    "list_value = values.split(\",\")\n",
    "tuple_value = tuple(list_value)\n",
    "\n",
    "print(\"List : \", list_value)\n",
    "print(\"Tuple : \", tuple_value)"
   ]
  },
  {
   "cell_type": "code",
   "execution_count": 13,
   "metadata": {},
   "outputs": [
    {
     "name": "stdout",
     "output_type": "stream",
     "text": [
      "Enter some comma separated words : Kiwi,Apple,Banana\n",
      "['Apple', 'Banana', 'Kiwi']\n"
     ]
    }
   ],
   "source": [
    "list_words = input(\"Enter some comma separated words : \")\n",
    "\n",
    "words = list_words.split(\",\")\n",
    "\n",
    "new_list_words = sorted(words)\n",
    "\n",
    "print (new_list_words)"
   ]
  },
  {
   "cell_type": "markdown",
   "metadata": {},
   "source": [
    "what lies behind us and what lies before us are tiny matters compared to what lies within us"
   ]
  },
  {
   "cell_type": "code",
   "execution_count": 2,
   "metadata": {},
   "outputs": [
    {
     "name": "stdout",
     "output_type": "stream",
     "text": [
      "Enter some whitespace-separated words : what lies behind us and what lies before us are tiny matters compared to what lies within us\n",
      "and are before behind compared lies matters tiny to us what within\n"
     ]
    }
   ],
   "source": [
    "sentence = input(\"Enter some whitespace-separated words : \")\n",
    "\n",
    "words = sentence.split(\" \")\n",
    "\n",
    "set_of_words = set(words)\n",
    "\n",
    "sorted_set_of_words = sorted(set_of_words)\n",
    "\n",
    "print(\" \".join(sorted_set_of_words))"
   ]
  },
  {
   "cell_type": "code",
   "execution_count": 15,
   "metadata": {},
   "outputs": [
    {
     "name": "stdout",
     "output_type": "stream",
     "text": [
      "{1: 1, 2: 4, 3: 9}\n"
     ]
    }
   ],
   "source": [
    "num_dict = dict()\n",
    "\n",
    "num_dict[1] = 1\n",
    "num_dict[2] = 2 ** 2\n",
    "num_dict[3] = 3 ** 2\n",
    "\n",
    "print (num_dict)"
   ]
  },
  {
   "cell_type": "code",
   "execution_count": 3,
   "metadata": {},
   "outputs": [
    {
     "name": "stdout",
     "output_type": "stream",
     "text": [
      "Enter first string: hello\n",
      "Enter second string: python\n",
      "\n",
      "Common letters:  ['h', 'o']\n"
     ]
    }
   ],
   "source": [
    "string_1 = input(\"Enter first string: \")\n",
    "\n",
    "string_2 = input(\"Enter second string: \")\n",
    "\n",
    "set_1 = set(string_1)\n",
    "set_2 = set(string_2)\n",
    "\n",
    "common_char = set_1.intersection(set_2)\n",
    "\n",
    "print(\"\\nCommon letters: \", list(common_char))"
   ]
  },
  {
   "cell_type": "code",
   "execution_count": 7,
   "metadata": {},
   "outputs": [
    {
     "name": "stdout",
     "output_type": "stream",
     "text": [
      "Numbers before slicing: [10, 11, 12, 13, 14, 15, 16, 17, 18, 19, 20, 21]\n",
      "Length of numbers before slicing:  12\n",
      "\n",
      "First half: [10, 11, 12, 13, 14, 15]\n",
      "Second half: [16, 17, 18, 19, 20, 21]\n"
     ]
    }
   ],
   "source": [
    "list_num = [10, 11, 12, 13, 14, 15, 16, 17, 18, 19, 20, 21]\n",
    "\n",
    "len_of_list = len(list_num)\n",
    "\n",
    "print(\"Numbers before slicing: %s\" %list_num)\n",
    "print(\"Length of numbers before slicing: \", len_of_list)\n",
    "\n",
    "half = int(len_of_list / 2)\n",
    "\n",
    "list_num1 = list_num[:half]\n",
    "list_num2 = list_num[half:]\n",
    "\n",
    "print(\"\\nFirst half: %s\" %list_num1)\n",
    "print(\"Second half: %s\" %list_num2)"
   ]
  },
  {
   "cell_type": "code",
   "execution_count": 19,
   "metadata": {},
   "outputs": [
    {
     "name": "stdout",
     "output_type": "stream",
     "text": [
      "Enter a number: -12\n",
      "Negative number\n"
     ]
    }
   ],
   "source": [
    "num = float(input(\"Enter a number: \"))\n",
    "\n",
    "if num >= 0:\n",
    "    \n",
    "    if num == 0:\n",
    "        print(\"Zero\")\n",
    "        \n",
    "    else:\n",
    "        print(\"Positive number\")\n",
    "        \n",
    "else:\n",
    "    \n",
    "    print(\"Negative number\")"
   ]
  },
  {
   "cell_type": "markdown",
   "metadata": {},
   "source": [
    "run this cell twice first with var = 3\n",
    "\n",
    "the var = 1+2j"
   ]
  },
  {
   "cell_type": "code",
   "execution_count": 12,
   "metadata": {},
   "outputs": [
    {
     "name": "stdout",
     "output_type": "stream",
     "text": [
      "Type of the variable is Integer\n"
     ]
    }
   ],
   "source": [
    "var = 3\n",
    "\n",
    "if (type(var) == int):\n",
    "    print(\"Type of the variable is Integer\")\n",
    "    \n",
    "elif (type(var) == float):\n",
    "    print(\"Type of the variable is Float\")\n",
    "    \n",
    "elif (type(var) == complex):\n",
    "    print(\"Type of the variable is Complex\")\n",
    "\n",
    "else:\n",
    "    print(\"Type of the variable is Unknown\")"
   ]
  },
  {
   "cell_type": "code",
   "execution_count": 22,
   "metadata": {},
   "outputs": [
    {
     "name": "stdout",
     "output_type": "stream",
     "text": [
      "Enter a number: 59\n",
      "59 is Odd\n"
     ]
    }
   ],
   "source": [
    "num = int(input(\"Enter a number: \"))\n",
    "\n",
    "if (num % 2) == 0:\n",
    "    \n",
    "    print(\"%d is Even\" % num)\n",
    "    \n",
    "else:\n",
    "    \n",
    "    print(\"%d is Odd\" % num)"
   ]
  },
  {
   "cell_type": "code",
   "execution_count": 24,
   "metadata": {},
   "outputs": [
    {
     "name": "stdout",
     "output_type": "stream",
     "text": [
      "Enter the first number: 12\n",
      "Operator: /\n",
      "Enter the second number: 4\n",
      "Division:  3.0\n"
     ]
    }
   ],
   "source": [
    "num1 = float(input(\"Enter the first number: \"))\n",
    "\n",
    "operator = input(\"Operator: \")\n",
    "\n",
    "num2 = float(input(\"Enter the second number: \"))\n",
    "\n",
    "if operator == \"+\":\n",
    "    print(\"Addition: \", num1 + num2)\n",
    "\n",
    "elif operator == \"-\":\n",
    "    print(\"Subtraction: \", num1 - num2)\n",
    "\n",
    "elif operator == \"*\":\n",
    "    print(\"Multiplication: \", num1 * num2)\n",
    "\n",
    "elif operator == \"/\":\n",
    "    print(\"Division: \", num1 / num2)\n",
    "    \n",
    "else:\n",
    "    print(\"This is not a valid operator\")"
   ]
  },
  {
   "cell_type": "code",
   "execution_count": 26,
   "metadata": {},
   "outputs": [
    {
     "name": "stdout",
     "output_type": "stream",
     "text": [
      "Enter a number: 35\n",
      "This number is divisible by both 5 and 7\n"
     ]
    }
   ],
   "source": [
    "num_1 = int(input(\"Enter a number: \"))\n",
    "\n",
    "if num_1 % 5 == 0 and num_1 % 7 == 0:\n",
    "    print(\"This number is divisible by both 5 and 7\")\n",
    "    \n",
    "elif num_1 % 5 == 0:\n",
    "    print(\"This number is divisible by 5\")\n",
    "    \n",
    "elif num_1 % 7 == 0:\n",
    "    print(\"This number is divisible by 7\")\n",
    "    \n",
    "else:\n",
    "    print(\"This number is neither divisible by 5 nor 7\")"
   ]
  },
  {
   "cell_type": "code",
   "execution_count": 28,
   "metadata": {},
   "outputs": [
    {
     "name": "stdout",
     "output_type": "stream",
     "text": [
      "Enter a number: 13000\n",
      "This bike is very expensive\n"
     ]
    }
   ],
   "source": [
    "bike_price = int(input('Enter a number: '))\n",
    "\n",
    "if bike_price < 4000:\n",
    "    \n",
    "    print(\"It's a cheap bike\")\n",
    "    \n",
    "elif bike_price >= 4000 and bike_price < 7000:\n",
    "    print(\"It's a moderately priced bike\")\n",
    "    \n",
    "elif bike_price >= 7000 and bike_price < 12000:\n",
    "    print(\"It's an expensive bike\")\n",
    "    \n",
    "else:\n",
    "    print(\"This bike is very expensive\")"
   ]
  },
  {
   "cell_type": "code",
   "execution_count": 29,
   "metadata": {},
   "outputs": [
    {
     "name": "stdout",
     "output_type": "stream",
     "text": [
      "Enter dog's age in human years: 3\n",
      "The dog's age in dog years is 25\n"
     ]
    }
   ],
   "source": [
    "human_age = int(input(\"Enter dog's age in human years: \"))\n",
    "\n",
    "if human_age < 0:\n",
    "    print(\"Age must be a positive number.\")\n",
    "    exit()\n",
    "    \n",
    "if human_age <= 2:\n",
    "    dog_age = human_age * 10.5\n",
    "    \n",
    "else:\n",
    "    dog_age = 21 + (human_age - 2)*4\n",
    "\n",
    "print(\"The dog's age in dog years is\", dog_age)"
   ]
  },
  {
   "cell_type": "code",
   "execution_count": 32,
   "metadata": {},
   "outputs": [
    {
     "name": "stdout",
     "output_type": "stream",
     "text": [
      "Enter a letter of the alphabet: y\n",
      "Y is ambiguous. It depends where it is used\n"
     ]
    }
   ],
   "source": [
    "letter = input(\"Enter a letter of the alphabet: \")\n",
    "letter = letter.lower()\n",
    "\n",
    "if letter in ('a', 'e', 'i', 'o', 'u'):\n",
    "    \n",
    "    print(\"%s is a vowel.\" % letter)\n",
    "    \n",
    "elif letter == 'y':\n",
    "    print(\"Y is ambiguous. It depends where it is used\")\n",
    "    \n",
    "else:\n",
    "    print(\"%s is a consonant.\" % letter) "
   ]
  },
  {
   "cell_type": "code",
   "execution_count": 34,
   "metadata": {},
   "outputs": [
    {
     "name": "stdout",
     "output_type": "stream",
     "text": [
      "Enter the name of the Month: April\n",
      "No. of days: 30 days\n"
     ]
    }
   ],
   "source": [
    "month_name = input(\"Enter the name of the Month: \")\n",
    "\n",
    "if month_name == \"February\":\n",
    "    print(\"No. of days: 28/29 days\")\n",
    "    \n",
    "elif month_name in (\"April\", \"June\", \"September\", \"November\"):\n",
    "    print(\"No. of days: 30 days\")\n",
    "    \n",
    "elif month_name in (\"January\", \"March\", \"May\", \"July\", \"August\", \"October\", \"December\"):\n",
    "    print(\"No. of days: 31 days\")\n",
    "    \n",
    "else:\n",
    "    print(\"Give a correct month name\") "
   ]
  },
  {
   "cell_type": "code",
   "execution_count": 35,
   "metadata": {},
   "outputs": [
    {
     "name": "stdout",
     "output_type": "stream",
     "text": [
      "Enter first number: 34\n",
      "Enter second number: 23\n",
      "Enter third number: 45\n",
      "\n",
      "The median is 34.0\n"
     ]
    }
   ],
   "source": [
    "num_1 = float(input(\"Enter first number: \"))\n",
    "num_2 = float(input(\"Enter second number: \"))\n",
    "num_3 = float(input(\"Enter third number: \"))\n",
    "\n",
    "if num_1 > num_2:\n",
    "    \n",
    "    if num_1 < num_3:\n",
    "        median = num_1\n",
    "        \n",
    "    elif num_2 > num_3:\n",
    "        median = num_2\n",
    "        \n",
    "    else:\n",
    "        median = num_3\n",
    "        \n",
    "else:\n",
    "    if num_1 > num_3:\n",
    "        median = num_1\n",
    "        \n",
    "    elif num_2 < num_3:\n",
    "        median = num_2\n",
    "        \n",
    "    else:\n",
    "        median = num_3\n",
    "\n",
    "print(\"\\nThe median is\", median)"
   ]
  },
  {
   "cell_type": "code",
   "execution_count": 38,
   "metadata": {},
   "outputs": [
    {
     "name": "stdout",
     "output_type": "stream",
     "text": [
      "a: 12\n",
      "b: 12\n",
      "c: 12\n",
      "Equilateral triangle\n"
     ]
    }
   ],
   "source": [
    "a = int(input(\"a: \"))\n",
    "b = int(input(\"b: \"))\n",
    "c = int(input(\"c: \"))\n",
    "\n",
    "if a == b == c:\n",
    "    print(\"Equilateral triangle\")\n",
    "    \n",
    "elif a == b or b == c or c == a:\n",
    "    print(\"Isosceles triangle\")\n",
    "    \n",
    "else:\n",
    "    print(\"\\nScalene triangle\")"
   ]
  },
  {
   "cell_type": "code",
   "execution_count": 40,
   "metadata": {},
   "outputs": [
    {
     "name": "stdout",
     "output_type": "stream",
     "text": [
      "Enter the string: madam\n",
      "The string is a palindrome\n"
     ]
    }
   ],
   "source": [
    "str_value = input(\"Enter the string: \")\n",
    "\n",
    "reversed_str = str_value[::-1]\n",
    "\n",
    "if(str_value == reversed_str):\n",
    "      print(\"The string is a palindrome\")\n",
    "        \n",
    "else:\n",
    "      print(\"The string is not a palindrome\")"
   ]
  },
  {
   "cell_type": "code",
   "execution_count": 42,
   "metadata": {},
   "outputs": [
    {
     "name": "stdout",
     "output_type": "stream",
     "text": [
      "How many days are there in a leap year? 366\n",
      "You entered: 366\n",
      "You have cleared the first level.\n",
      "\n",
      "Which month has an extra day in a leap year?february\n",
      "You have cleared the test.\n"
     ]
    }
   ],
   "source": [
    "ans = int(input(\"How many days are there in a leap year? \"))\n",
    "print(\"You entered:\", ans)\n",
    "    \n",
    "if ans == 366 :\n",
    "    print(\"You have cleared the first level.\")\n",
    "    \n",
    "    ans = input(\"\\nWhich month has an extra day in a leap year?\").lower()\n",
    "    if ans == \"february\" :\n",
    "        \n",
    "        print(\"You have cleared the test.\")\n",
    "        \n",
    "    else :\n",
    "        \n",
    "        print(\"You have failed the test.\")\n",
    "        \n",
    "else :\n",
    "    print(\"Your answer is wrong, please try again.\")"
   ]
  },
  {
   "cell_type": "code",
   "execution_count": 43,
   "metadata": {},
   "outputs": [
    {
     "name": "stdout",
     "output_type": "stream",
     "text": [
      "Enter a score: 75\n",
      "C grade\n"
     ]
    }
   ],
   "source": [
    "score = int(input(\"Enter a score: \"))\n",
    "\n",
    "if score >= 90:\n",
    "    print(\"A grade\")\n",
    "\n",
    "elif score >=80:\n",
    "    print(\"B grade\")\n",
    "\n",
    "elif score >=70:\n",
    "    print(\"C grade\")\n",
    "\n",
    "elif score >= 50:\n",
    "    print(\"D grade\")\n",
    "\n",
    "else:\n",
    "    print(\"Fail\")"
   ]
  },
  {
   "cell_type": "code",
   "execution_count": 1,
   "metadata": {},
   "outputs": [
    {
     "name": "stdout",
     "output_type": "stream",
     "text": [
      "Enter annual salary: 40000\n",
      "Enter years of service: 8\n",
      "Bonus is:  2000.0\n"
     ]
    }
   ],
   "source": [
    "salary = int(input(\"Enter annual salary: \"))\n",
    "\n",
    "years_service = int(input(\"Enter years of service: \"))\n",
    "\n",
    "if years_service >= 10: \n",
    "    print (\"Bonus is: \", .15 * salary)\n",
    "\n",
    "elif years_service >= 5 and years_service < 10:\n",
    "    print (\"Bonus is: \", .05 * salary)\n",
    "    \n",
    "else:\n",
    "    print (\"No bonus\")"
   ]
  },
  {
   "cell_type": "code",
   "execution_count": null,
   "metadata": {},
   "outputs": [],
   "source": []
  },
  {
   "cell_type": "code",
   "execution_count": 1,
   "metadata": {},
   "outputs": [
    {
     "name": "stdout",
     "output_type": "stream",
     "text": [
      "Enter salary amount: 700\n",
      "Enter expenses: 230\n",
      "My total savings in a month is:  470\n"
     ]
    }
   ],
   "source": [
    "salary = int(input(\"Enter salary amount: \"))\n",
    "expenses = int(input(\"Enter expenses: \"))\n",
    "\n",
    "savings = salary - expenses\n",
    "\n",
    "print(\"My total savings in a month is: \", savings)"
   ]
  },
  {
   "cell_type": "code",
   "execution_count": 1,
   "metadata": {},
   "outputs": [
    {
     "name": "stdout",
     "output_type": "stream",
     "text": [
      "Enter first variable: 20\n",
      "Enter second variable: 25\n",
      "\n",
      "First_num is: 25 \n",
      "Second_num is: 20\n"
     ]
    }
   ],
   "source": [
    "first_num = int(input(\"Enter first variable: \"))      \n",
    "second_num = int(input(\"Enter second variable: \"))    \n",
    "\n",
    "first_num = first_num + second_num       \n",
    "second_num = first_num - second_num       \n",
    "first_num = first_num - second_num       \n",
    "\n",
    "print (\"\\nFirst_num is:\", first_num , \"\\nSecond_num is:\", second_num)"
   ]
  },
  {
   "cell_type": "code",
   "execution_count": 3,
   "metadata": {},
   "outputs": [
    {
     "name": "stdout",
     "output_type": "stream",
     "text": [
      "Enter a number: 12\n",
      "12 + 1212 + 121212 = 122436\n"
     ]
    }
   ],
   "source": [
    "num = int(input(\"Enter a number: \"))\n",
    "\n",
    "temp1 = str(num)                       \n",
    "temp2 = temp1 + temp1                  \n",
    "temp3 = temp1 + temp1 + temp1           \n",
    "\n",
    "total = num + (int(temp2) + int(temp3)) \n",
    "\n",
    "print(temp1, '+', temp2, '+', temp3, '=', total) "
   ]
  },
  {
   "cell_type": "code",
   "execution_count": 1,
   "metadata": {},
   "outputs": [
    {
     "name": "stdout",
     "output_type": "stream",
     "text": [
      "Enter first number: 13\n",
      "Enter second number: 4\n",
      "\n",
      "Quotient: 3\n",
      "Remainder: 1\n"
     ]
    }
   ],
   "source": [
    "num_1 = int(input(\"Enter first number: \"))\n",
    "num_2 = int(input(\"Enter second number: \"))\n",
    "\n",
    "Quotient = int(num_1 / num_2)\n",
    "print(\"\\nQuotient:\", Quotient)\n",
    "        \n",
    "Remainder = num_1 % num_2\n",
    "print(\"Remainder:\", Remainder)"
   ]
  },
  {
   "cell_type": "code",
   "execution_count": 2,
   "metadata": {},
   "outputs": [
    {
     "name": "stdout",
     "output_type": "stream",
     "text": [
      "Enter the principle amount: 800\n",
      "Enter the time(years): 6\n",
      "Enter the rate: 3\n",
      "The simple interest is: 144.0\n"
     ]
    }
   ],
   "source": [
    "principle = float(input(\"Enter the principle amount: \"))\n",
    "time = int(input(\"Enter the time(years): \"))\n",
    "rate = float(input(\"Enter the rate: \"))\n",
    "\n",
    "simple_int = (principle * time * rate) / 100\n",
    "\n",
    "print(\"The simple interest is:\",simple_int)"
   ]
  },
  {
   "cell_type": "code",
   "execution_count": 6,
   "metadata": {},
   "outputs": [
    {
     "name": "stdout",
     "output_type": "stream",
     "text": [
      "Give the height in centimeters: 168\n",
      "The length in inches:  66.19\n",
      "The length is feet:  5.44\n"
     ]
    }
   ],
   "source": [
    "cm = int(input(\"Give the height in centimeters: \"))\n",
    "inches = 0.394 * cm\n",
    "feet = 0.0324 * cm\n",
    "\n",
    "print (\"The length in inches: \", round(inches, 2))\n",
    "print (\"The length in feet: \", round(feet, 2))"
   ]
  },
  {
   "cell_type": "code",
   "execution_count": 7,
   "metadata": {},
   "outputs": [
    {
     "name": "stdout",
     "output_type": "stream",
     "text": [
      "List of cars before the swap:  ['Toyota Camry', 'Honda Accord', 'Honda Civic', 'Toyota Corolla']\n",
      "List of cars after the swap:  ['Honda Civic', 'Honda Accord', 'Toyota Camry', 'Toyota Corolla']\n"
     ]
    }
   ],
   "source": [
    "cars_list = [\"Toyota Camry\", \"Honda Accord\", \"Honda Civic\", \"Toyota Corolla\"]\n",
    "\n",
    "print(\"List of cars before the swap: \", cars_list)\n",
    "\n",
    "cars_list_temp = cars_list[0]\n",
    "\n",
    "cars_list[0] = cars_list[2]\n",
    "\n",
    "cars_list[2] = cars_list_temp\n",
    "\n",
    "print(\"List of cars after the swap: \", cars_list)"
   ]
  },
  {
   "cell_type": "code",
   "execution_count": 8,
   "metadata": {},
   "outputs": [
    {
     "name": "stdout",
     "output_type": "stream",
     "text": [
      "list of cars before the swap:  ['Toyota Camry', 'Honda Accord', 'Honda Civic', 'Toyota Corolla']\n",
      "list of cars after  the swap:  ['Toyota Camry', 'Honda Civic', 'Honda Accord', 'Toyota Corolla']\n"
     ]
    }
   ],
   "source": [
    "cars_list = [\"Toyota Camry\", \"Honda Accord\", \"Honda Civic\", \"Toyota Corolla\"]\n",
    "\n",
    "print(\"list of cars before the swap: \", cars_list)\n",
    "\n",
    "car1 = 1\n",
    "car2 = 2\n",
    "\n",
    "cars_list[car1], cars_list[car2] = cars_list[car2], cars_list[car1]\n",
    "\n",
    "print(\"list of cars after  the swap: \", cars_list)"
   ]
  },
  {
   "cell_type": "code",
   "execution_count": 4,
   "metadata": {},
   "outputs": [
    {
     "name": "stdout",
     "output_type": "stream",
     "text": [
      "Student list:  ['Sofia', 'Ella', 'Samuel', 'Ella', 'Aiden', 'Sofia']\n",
      "Number of Students:  6\n",
      "\n",
      "New student list:  ['Ella', 'Samuel', 'Aiden', 'Sofia']\n",
      "Length of modified students list:  4\n",
      "There are 2 duplicate elements\n"
     ]
    }
   ],
   "source": [
    "list_student = [\"Sofia\", \"Ella\", \"Samuel\", \"Ella\", \"Aiden\", \"Sofia\"]\n",
    "\n",
    "print(\"Student list: \", list_student)\n",
    "\n",
    "print(\"Number of Students: \", len(list_student))\n",
    "\n",
    "student_set = set(list_student)\n",
    "\n",
    "print(\"\\nNew student list: \", list(student_set))\n",
    "\n",
    "print(\"Length of modified students list: \", len(student_set))\n",
    "\n",
    "print(\"There are %s duplicate elements\"%(len(list_student) - len(student_set)))"
   ]
  },
  {
   "cell_type": "code",
   "execution_count": 5,
   "metadata": {},
   "outputs": [
    {
     "name": "stdout",
     "output_type": "stream",
     "text": [
      "There are 2 duplicate elements\n"
     ]
    }
   ],
   "source": [
    "list_str = [\"Sofia\",\"Ella\",\"Samuel\",\"Ella\",\"Aiden\",\"Sofia\"]\n",
    "\n",
    "len_list_str = len(list_str)\n",
    "\n",
    "len_set_str = len(set(list_str))\n",
    "\n",
    "if len_list_str == len_set_str:\n",
    "    \n",
    "    print(\"There are no duplicate elements\")\n",
    "    \n",
    "else:\n",
    "    \n",
    "    print(\"There are {} duplicate elements\".format(len_list_str - len_set_str))"
   ]
  },
  {
   "cell_type": "code",
   "execution_count": 11,
   "metadata": {},
   "outputs": [
    {
     "name": "stdout",
     "output_type": "stream",
     "text": [
      "The number stored in num_value is : 50\n",
      "The number is an even number\n"
     ]
    }
   ],
   "source": [
    "num_value = 50\n",
    "print(\"The number stored in num_value is :\", num_value)\n",
    "\n",
    "if not num_value % 2 == 0:\n",
    "    print(\"The number is an odd number\")\n",
    "else:\n",
    "    print(\"The number is an even number\")"
   ]
  },
  {
   "cell_type": "code",
   "execution_count": 12,
   "metadata": {},
   "outputs": [
    {
     "name": "stdout",
     "output_type": "stream",
     "text": [
      "Enter some comma separated numbers : 12,23,45,56\n",
      "List :  ['12', '23', '45', '56']\n",
      "Tuple :  ('12', '23', '45', '56')\n"
     ]
    }
   ],
   "source": [
    "values = input(\"Enter some comma separated numbers : \")\n",
    "\n",
    "list_value = values.split(\",\")\n",
    "tuple_value = tuple(list_value)\n",
    "\n",
    "print(\"List : \", list_value)\n",
    "print(\"Tuple : \", tuple_value)"
   ]
  },
  {
   "cell_type": "code",
   "execution_count": 13,
   "metadata": {},
   "outputs": [
    {
     "name": "stdout",
     "output_type": "stream",
     "text": [
      "Enter some comma separated words : Kiwi,Apple,Banana\n",
      "['Apple', 'Banana', 'Kiwi']\n"
     ]
    }
   ],
   "source": [
    "list_words = input(\"Enter some comma separated words : \")\n",
    "\n",
    "words = list_words.split(\",\")\n",
    "\n",
    "new_list_words = sorted(words)\n",
    "\n",
    "print (new_list_words)"
   ]
  },
  {
   "cell_type": "markdown",
   "metadata": {},
   "source": [
    "what lies behind us and what lies before us are tiny matters compared to what lies within us"
   ]
  },
  {
   "cell_type": "code",
   "execution_count": 2,
   "metadata": {},
   "outputs": [
    {
     "name": "stdout",
     "output_type": "stream",
     "text": [
      "Enter some whitespace-separated words : what lies behind us and what lies before us are tiny matters compared to what lies within us\n",
      "and are before behind compared lies matters tiny to us what within\n"
     ]
    }
   ],
   "source": [
    "sentence = input(\"Enter some whitespace-separated words : \")\n",
    "\n",
    "words = sentence.split(\" \")\n",
    "\n",
    "set_of_words = set(words)\n",
    "\n",
    "sorted_set_of_words = sorted(set_of_words)\n",
    "\n",
    "print(\" \".join(sorted_set_of_words))"
   ]
  },
  {
   "cell_type": "code",
   "execution_count": 15,
   "metadata": {},
   "outputs": [
    {
     "name": "stdout",
     "output_type": "stream",
     "text": [
      "{1: 1, 2: 4, 3: 9}\n"
     ]
    }
   ],
   "source": [
    "num_dict = dict()\n",
    "\n",
    "num_dict[1] = 1\n",
    "num_dict[2] = 2 ** 2\n",
    "num_dict[3] = 3 ** 2\n",
    "\n",
    "print (num_dict)"
   ]
  },
  {
   "cell_type": "code",
   "execution_count": 3,
   "metadata": {},
   "outputs": [
    {
     "name": "stdout",
     "output_type": "stream",
     "text": [
      "Enter first string: hello\n",
      "Enter second string: python\n",
      "\n",
      "Common letters:  ['h', 'o']\n"
     ]
    }
   ],
   "source": [
    "string_1 = input(\"Enter first string: \")\n",
    "\n",
    "string_2 = input(\"Enter second string: \")\n",
    "\n",
    "set_1 = set(string_1)\n",
    "set_2 = set(string_2)\n",
    "\n",
    "common_char = set_1.intersection(set_2)\n",
    "\n",
    "print(\"\\nCommon letters: \", list(common_char))"
   ]
  },
  {
   "cell_type": "code",
   "execution_count": 7,
   "metadata": {},
   "outputs": [
    {
     "name": "stdout",
     "output_type": "stream",
     "text": [
      "Numbers before slicing: [10, 11, 12, 13, 14, 15, 16, 17, 18, 19, 20, 21]\n",
      "Length of numbers before slicing:  12\n",
      "\n",
      "First half: [10, 11, 12, 13, 14, 15]\n",
      "Second half: [16, 17, 18, 19, 20, 21]\n"
     ]
    }
   ],
   "source": [
    "list_num = [10, 11, 12, 13, 14, 15, 16, 17, 18, 19, 20, 21]\n",
    "\n",
    "len_of_list = len(list_num)\n",
    "\n",
    "print(\"Numbers before slicing: %s\" %list_num)\n",
    "print(\"Length of numbers before slicing: \", len_of_list)\n",
    "\n",
    "half = int(len_of_list / 2)\n",
    "\n",
    "list_num1 = list_num[:half]\n",
    "list_num2 = list_num[half:]\n",
    "\n",
    "print(\"\\nFirst half: %s\" %list_num1)\n",
    "print(\"Second half: %s\" %list_num2)"
   ]
  },
  {
   "cell_type": "code",
   "execution_count": 19,
   "metadata": {},
   "outputs": [
    {
     "name": "stdout",
     "output_type": "stream",
     "text": [
      "Enter a number: -12\n",
      "Negative number\n"
     ]
    }
   ],
   "source": [
    "num = float(input(\"Enter a number: \"))\n",
    "\n",
    "if num >= 0:\n",
    "    \n",
    "    if num == 0:\n",
    "        print(\"Zero\")\n",
    "        \n",
    "    else:\n",
    "        print(\"Positive number\")\n",
    "        \n",
    "else:\n",
    "    \n",
    "    print(\"Negative number\")"
   ]
  },
  {
   "cell_type": "markdown",
   "metadata": {},
   "source": [
    "run this cell twice first with var = 3\n",
    "\n",
    "the var = 1+2j"
   ]
  },
  {
   "cell_type": "code",
   "execution_count": 12,
   "metadata": {},
   "outputs": [
    {
     "name": "stdout",
     "output_type": "stream",
     "text": [
      "Type of the variable is Integer\n"
     ]
    }
   ],
   "source": [
    "var = 3\n",
    "\n",
    "if (type(var) == int):\n",
    "    print(\"Type of the variable is Integer\")\n",
    "    \n",
    "elif (type(var) == float):\n",
    "    print(\"Type of the variable is Float\")\n",
    "    \n",
    "elif (type(var) == complex):\n",
    "    print(\"Type of the variable is Complex\")\n",
    "\n",
    "else:\n",
    "    print(\"Type of the variable is Unknown\")"
   ]
  },
  {
   "cell_type": "code",
   "execution_count": 22,
   "metadata": {},
   "outputs": [
    {
     "name": "stdout",
     "output_type": "stream",
     "text": [
      "Enter a number: 59\n",
      "59 is Odd\n"
     ]
    }
   ],
   "source": [
    "num = int(input(\"Enter a number: \"))\n",
    "\n",
    "if (num % 2) == 0:\n",
    "    \n",
    "    print(\"%d is Even\" % num)\n",
    "    \n",
    "else:\n",
    "    \n",
    "    print(\"%d is Odd\" % num)"
   ]
  },
  {
   "cell_type": "code",
   "execution_count": 24,
   "metadata": {},
   "outputs": [
    {
     "name": "stdout",
     "output_type": "stream",
     "text": [
      "Enter the first number: 12\n",
      "Operator: /\n",
      "Enter the second number: 4\n",
      "Division:  3.0\n"
     ]
    }
   ],
   "source": [
    "num1 = float(input(\"Enter the first number: \"))\n",
    "\n",
    "operator = input(\"Operator: \")\n",
    "\n",
    "num2 = float(input(\"Enter the second number: \"))\n",
    "\n",
    "if operator == \"+\":\n",
    "    print(\"Addition: \", num1 + num2)\n",
    "\n",
    "elif operator == \"-\":\n",
    "    print(\"Subtraction: \", num1 - num2)\n",
    "\n",
    "elif operator == \"*\":\n",
    "    print(\"Multiplication: \", num1 * num2)\n",
    "\n",
    "elif operator == \"/\":\n",
    "    print(\"Division: \", num1 / num2)\n",
    "    \n",
    "else:\n",
    "    print(\"This is not a valid operator\")"
   ]
  },
  {
   "cell_type": "code",
   "execution_count": 26,
   "metadata": {},
   "outputs": [
    {
     "name": "stdout",
     "output_type": "stream",
     "text": [
      "Enter a number: 35\n",
      "This number is divisible by both 5 and 7\n"
     ]
    }
   ],
   "source": [
    "num_1 = int(input(\"Enter a number: \"))\n",
    "\n",
    "if num_1 % 5 == 0 and num_1 % 7 == 0:\n",
    "    print(\"This number is divisible by both 5 and 7\")\n",
    "    \n",
    "elif num_1 % 5 == 0:\n",
    "    print(\"This number is divisible by 5\")\n",
    "    \n",
    "elif num_1 % 7 == 0:\n",
    "    print(\"This number is divisible by 7\")\n",
    "    \n",
    "else:\n",
    "    print(\"This number is neither divisible by 5 nor 7\")"
   ]
  },
  {
   "cell_type": "code",
   "execution_count": 28,
   "metadata": {},
   "outputs": [
    {
     "name": "stdout",
     "output_type": "stream",
     "text": [
      "Enter a number: 13000\n",
      "This bike is very expensive\n"
     ]
    }
   ],
   "source": [
    "bike_price = int(input('Enter a number: '))\n",
    "\n",
    "if bike_price < 4000:\n",
    "    \n",
    "    print(\"It's a cheap bike\")\n",
    "    \n",
    "elif bike_price >= 4000 and bike_price < 7000:\n",
    "    print(\"It's a moderately priced bike\")\n",
    "    \n",
    "elif bike_price >= 7000 and bike_price < 12000:\n",
    "    print(\"It's an expensive bike\")\n",
    "    \n",
    "else:\n",
    "    print(\"This bike is very expensive\")"
   ]
  },
  {
   "cell_type": "code",
   "execution_count": 29,
   "metadata": {},
   "outputs": [
    {
     "name": "stdout",
     "output_type": "stream",
     "text": [
      "Enter dog's age in human years: 3\n",
      "The dog's age in dog years is 25\n"
     ]
    }
   ],
   "source": [
    "human_age = int(input(\"Enter dog's age in human years: \"))\n",
    "\n",
    "if human_age < 0:\n",
    "    print(\"Age must be a positive number.\")\n",
    "    exit()\n",
    "    \n",
    "if human_age <= 2:\n",
    "    dog_age = human_age * 10.5\n",
    "    \n",
    "else:\n",
    "    dog_age = 21 + (human_age - 2)*4\n",
    "\n",
    "print(\"The dog's age in dog years is\", dog_age)"
   ]
  },
  {
   "cell_type": "code",
   "execution_count": 32,
   "metadata": {},
   "outputs": [
    {
     "name": "stdout",
     "output_type": "stream",
     "text": [
      "Enter a letter of the alphabet: y\n",
      "Y is ambiguous. It depends where it is used\n"
     ]
    }
   ],
   "source": [
    "letter = input(\"Enter a letter of the alphabet: \")\n",
    "letter = letter.lower()\n",
    "\n",
    "if letter in ('a', 'e', 'i', 'o', 'u'):\n",
    "    \n",
    "    print(\"%s is a vowel.\" % letter)\n",
    "    \n",
    "elif letter == 'y':\n",
    "    print(\"Y is ambiguous. It depends where it is used\")\n",
    "    \n",
    "else:\n",
    "    print(\"%s is a consonant.\" % letter) "
   ]
  },
  {
   "cell_type": "code",
   "execution_count": 34,
   "metadata": {},
   "outputs": [
    {
     "name": "stdout",
     "output_type": "stream",
     "text": [
      "Enter the name of the Month: April\n",
      "No. of days: 30 days\n"
     ]
    }
   ],
   "source": [
    "month_name = input(\"Enter the name of the Month: \")\n",
    "\n",
    "if month_name == \"February\":\n",
    "    print(\"No. of days: 28/29 days\")\n",
    "    \n",
    "elif month_name in (\"April\", \"June\", \"September\", \"November\"):\n",
    "    print(\"No. of days: 30 days\")\n",
    "    \n",
    "elif month_name in (\"January\", \"March\", \"May\", \"July\", \"August\", \"October\", \"December\"):\n",
    "    print(\"No. of days: 31 days\")\n",
    "    \n",
    "else:\n",
    "    print(\"Give a correct month name\") "
   ]
  },
  {
   "cell_type": "code",
   "execution_count": 35,
   "metadata": {},
   "outputs": [
    {
     "name": "stdout",
     "output_type": "stream",
     "text": [
      "Enter first number: 34\n",
      "Enter second number: 23\n",
      "Enter third number: 45\n",
      "\n",
      "The median is 34.0\n"
     ]
    }
   ],
   "source": [
    "num_1 = float(input(\"Enter first number: \"))\n",
    "num_2 = float(input(\"Enter second number: \"))\n",
    "num_3 = float(input(\"Enter third number: \"))\n",
    "\n",
    "if num_1 > num_2:\n",
    "    \n",
    "    if num_1 < num_3:\n",
    "        median = num_1\n",
    "        \n",
    "    elif num_2 > num_3:\n",
    "        median = num_2\n",
    "        \n",
    "    else:\n",
    "        median = num_3\n",
    "        \n",
    "else:\n",
    "    if num_1 > num_3:\n",
    "        median = num_1\n",
    "        \n",
    "    elif num_2 < num_3:\n",
    "        median = num_2\n",
    "        \n",
    "    else:\n",
    "        median = num_3\n",
    "\n",
    "print(\"\\nThe median is\", median)"
   ]
  },
  {
   "cell_type": "code",
   "execution_count": 38,
   "metadata": {},
   "outputs": [
    {
     "name": "stdout",
     "output_type": "stream",
     "text": [
      "a: 12\n",
      "b: 12\n",
      "c: 12\n",
      "Equilateral triangle\n"
     ]
    }
   ],
   "source": [
    "a = int(input(\"a: \"))\n",
    "b = int(input(\"b: \"))\n",
    "c = int(input(\"c: \"))\n",
    "\n",
    "if a == b == c:\n",
    "    print(\"Equilateral triangle\")\n",
    "    \n",
    "elif a == b or b == c or c == a:\n",
    "    print(\"Isosceles triangle\")\n",
    "    \n",
    "else:\n",
    "    print(\"\\nScalene triangle\")"
   ]
  },
  {
   "cell_type": "code",
   "execution_count": 40,
   "metadata": {},
   "outputs": [
    {
     "name": "stdout",
     "output_type": "stream",
     "text": [
      "Enter the string: madam\n",
      "The string is a palindrome\n"
     ]
    }
   ],
   "source": [
    "str_value = input(\"Enter the string: \")\n",
    "\n",
    "reversed_str = str_value[::-1]\n",
    "\n",
    "if(str_value == reversed_str):\n",
    "      print(\"The string is a palindrome\")\n",
    "        \n",
    "else:\n",
    "      print(\"The string is not a palindrome\")"
   ]
  },
  {
   "cell_type": "code",
   "execution_count": 42,
   "metadata": {},
   "outputs": [
    {
     "name": "stdout",
     "output_type": "stream",
     "text": [
      "How many days are there in a leap year? 366\n",
      "You entered: 366\n",
      "You have cleared the first level.\n",
      "\n",
      "Which month has an extra day in a leap year?february\n",
      "You have cleared the test.\n"
     ]
    }
   ],
   "source": [
    "ans = int(input(\"How many days are there in a leap year? \"))\n",
    "print(\"You entered:\", ans)\n",
    "    \n",
    "if ans == 366 :\n",
    "    print(\"You have cleared the first level.\")\n",
    "    \n",
    "    ans = input(\"\\nWhich month has an extra day in a leap year?\").lower()\n",
    "    if ans == \"february\" :\n",
    "        \n",
    "        print(\"You have cleared the test.\")\n",
    "        \n",
    "    else :\n",
    "        \n",
    "        print(\"You have failed the test.\")\n",
    "        \n",
    "else :\n",
    "    print(\"Your answer is wrong, please try again.\")"
   ]
  },
  {
   "cell_type": "code",
   "execution_count": 43,
   "metadata": {},
   "outputs": [
    {
     "name": "stdout",
     "output_type": "stream",
     "text": [
      "Enter a score: 75\n",
      "C grade\n"
     ]
    }
   ],
   "source": [
    "score = int(input(\"Enter a score: \"))\n",
    "\n",
    "if score >= 90:\n",
    "    print(\"A grade\")\n",
    "\n",
    "elif score >=80:\n",
    "    print(\"B grade\")\n",
    "\n",
    "elif score >=70:\n",
    "    print(\"C grade\")\n",
    "\n",
    "elif score >= 50:\n",
    "    print(\"D grade\")\n",
    "\n",
    "else:\n",
    "    print(\"Fail\")"
   ]
  },
  {
   "cell_type": "code",
   "execution_count": 1,
   "metadata": {},
   "outputs": [
    {
     "name": "stdout",
     "output_type": "stream",
     "text": [
      "Enter annual salary: 40000\n",
      "Enter years of service: 8\n",
      "Bonus is:  2000.0\n"
     ]
    }
   ],
   "source": [
    "salary = int(input(\"Enter annual salary: \"))\n",
    "\n",
    "years_service = int(input(\"Enter years of service: \"))\n",
    "\n",
    "if years_service >= 10: \n",
    "    print (\"Bonus is: \", .15 * salary)\n",
    "\n",
    "elif years_service >= 5 and years_service < 10:\n",
    "    print (\"Bonus is: \", .05 * salary)\n",
    "    \n",
    "else:\n",
    "    print (\"No bonus\")"
   ]
  },
  {
   "cell_type": "code",
   "execution_count": null,
   "metadata": {},
   "outputs": [],
   "source": []
  }
 ],
 "metadata": {
  "kernelspec": {
   "display_name": "Python 3",
   "language": "python",
   "name": "python3"
  },
  "language_info": {
   "codemirror_mode": {
    "name": "ipython",
    "version": 3
   },
   "file_extension": ".py",
   "mimetype": "text/x-python",
   "name": "python",
   "nbconvert_exporter": "python",
   "pygments_lexer": "ipython3",
   "version": "3.7.3"
  }
 },
 "nbformat": 4,
 "nbformat_minor": 2
}
