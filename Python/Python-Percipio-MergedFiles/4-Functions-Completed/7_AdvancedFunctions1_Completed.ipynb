{
  "cells": [
    {
      "cell_type": "code",
      "execution_count": 1,
      "metadata": {
        "id": "XOzEyKPWGJ5K"
      },
      "outputs": [],
      "source": [
        "country = \"USA\"\n",
        "city = \"Seattle\""
      ]
    },
    {
      "cell_type": "code",
      "execution_count": 2,
      "metadata": {
        "id": "_UcBDdCsGJ5L"
      },
      "outputs": [],
      "source": [
        "def some_fn():\n",
        "    print(\"Country: \", country)\n",
        "    print(\"City: \", city)"
      ]
    },
    {
      "cell_type": "code",
      "execution_count": 3,
      "metadata": {
        "colab": {
          "base_uri": "https://localhost:8080/"
        },
        "id": "_ecVQxmiGJ5M",
        "outputId": "50974d69-74d4-4587-9677-550702c5eb1b"
      },
      "outputs": [
        {
          "output_type": "stream",
          "name": "stdout",
          "text": [
            "Country:  USA\n",
            "City:  Seattle\n"
          ]
        }
      ],
      "source": [
        "some_fn()"
      ]
    },
    {
      "cell_type": "code",
      "execution_count": 4,
      "metadata": {
        "id": "2wIBulmdGJ5N"
      },
      "outputs": [],
      "source": [
        "def some_fn():\n",
        "    country = \"India\"\n",
        "\n",
        "    print(\"Country: \", country)\n",
        "    print(\"City: \", city)    "
      ]
    },
    {
      "cell_type": "code",
      "execution_count": 5,
      "metadata": {
        "colab": {
          "base_uri": "https://localhost:8080/"
        },
        "id": "X7Qf5dKSGJ5O",
        "outputId": "de8a4070-beae-44aa-c7eb-20cafd397f0d"
      },
      "outputs": [
        {
          "output_type": "stream",
          "name": "stdout",
          "text": [
            "Country:  India\n",
            "City:  Seattle\n"
          ]
        }
      ],
      "source": [
        "some_fn()"
      ]
    },
    {
      "cell_type": "code",
      "execution_count": 6,
      "metadata": {
        "colab": {
          "base_uri": "https://localhost:8080/"
        },
        "id": "LG3MkgGNGJ5O",
        "outputId": "57fd992e-be28-4c4f-cf29-3714ac442e9d"
      },
      "outputs": [
        {
          "output_type": "execute_result",
          "data": {
            "text/plain": [
              "('USA', 'Seattle')"
            ]
          },
          "metadata": {},
          "execution_count": 6
        }
      ],
      "source": [
        "country, city"
      ]
    },
    {
      "cell_type": "code",
      "execution_count": 7,
      "metadata": {
        "id": "ZK-uzApzGJ5P"
      },
      "outputs": [],
      "source": [
        "def some_fn():\n",
        "    city = \"Detroit\"\n",
        "\n",
        "    print(\"Country: \", country)\n",
        "    print(\"City: \", city)"
      ]
    },
    {
      "cell_type": "code",
      "execution_count": 8,
      "metadata": {
        "colab": {
          "base_uri": "https://localhost:8080/"
        },
        "id": "avLPbpUQGJ5Q",
        "outputId": "4167ddb2-3050-446d-cd0c-4569b8faa14e"
      },
      "outputs": [
        {
          "output_type": "stream",
          "name": "stdout",
          "text": [
            "Country:  USA\n",
            "City:  Detroit\n"
          ]
        }
      ],
      "source": [
        "some_fn()"
      ]
    },
    {
      "cell_type": "code",
      "execution_count": 9,
      "metadata": {
        "colab": {
          "base_uri": "https://localhost:8080/"
        },
        "id": "-O2gueduGJ5Q",
        "outputId": "33e11917-aa74-4259-df03-83d308b088f7"
      },
      "outputs": [
        {
          "output_type": "execute_result",
          "data": {
            "text/plain": [
              "('USA', 'Seattle')"
            ]
          },
          "metadata": {},
          "execution_count": 9
        }
      ],
      "source": [
        "country, city"
      ]
    },
    {
      "cell_type": "code",
      "execution_count": 10,
      "metadata": {
        "id": "waFMzg_6GJ5R"
      },
      "outputs": [],
      "source": [
        "def some_fn():\n",
        "    country = \"India\"\n",
        "    city = \"Bangalore\"\n",
        "\n",
        "    print(\"Country: \", country)\n",
        "    print(\"City: \", city)"
      ]
    },
    {
      "cell_type": "code",
      "execution_count": 11,
      "metadata": {
        "colab": {
          "base_uri": "https://localhost:8080/"
        },
        "id": "G_KFnhuDGJ5R",
        "outputId": "2f18ca78-6267-4b5c-8077-588905bf856d"
      },
      "outputs": [
        {
          "output_type": "stream",
          "name": "stdout",
          "text": [
            "Country:  India\n",
            "City:  Bangalore\n"
          ]
        }
      ],
      "source": [
        "some_fn()"
      ]
    },
    {
      "cell_type": "code",
      "execution_count": 12,
      "metadata": {
        "colab": {
          "base_uri": "https://localhost:8080/"
        },
        "id": "EBDS8h50GJ5S",
        "outputId": "7b4e8293-bb2e-4038-ad0a-9f7d4e265977"
      },
      "outputs": [
        {
          "output_type": "execute_result",
          "data": {
            "text/plain": [
              "('USA', 'Seattle')"
            ]
          },
          "metadata": {},
          "execution_count": 12
        }
      ],
      "source": [
        "country, city"
      ]
    },
    {
      "cell_type": "code",
      "execution_count": 13,
      "metadata": {
        "id": "cKagRoB-GJ5T"
      },
      "outputs": [],
      "source": [
        "def some_fn():\n",
        "    city = city + \"-Washington\"\n",
        "\n",
        "    print(\"Country: \", country)\n",
        "    print(\"City: \", city)"
      ]
    },
    {
      "cell_type": "code",
      "execution_count": 14,
      "metadata": {
        "colab": {
          "base_uri": "https://localhost:8080/",
          "height": 287
        },
        "id": "JLurBcd_GJ5T",
        "outputId": "cff977cb-29a8-478d-82a6-1d0cb52d15c8"
      },
      "outputs": [
        {
          "output_type": "error",
          "ename": "UnboundLocalError",
          "evalue": "ignored",
          "traceback": [
            "\u001b[0;31m---------------------------------------------------------------------------\u001b[0m",
            "\u001b[0;31mUnboundLocalError\u001b[0m                         Traceback (most recent call last)",
            "\u001b[0;32m<ipython-input-14-c49aff4e3378>\u001b[0m in \u001b[0;36m<module>\u001b[0;34m()\u001b[0m\n\u001b[0;32m----> 1\u001b[0;31m \u001b[0msome_fn\u001b[0m\u001b[0;34m(\u001b[0m\u001b[0;34m)\u001b[0m\u001b[0;34m\u001b[0m\u001b[0;34m\u001b[0m\u001b[0m\n\u001b[0m",
            "\u001b[0;32m<ipython-input-13-3f5351bd5594>\u001b[0m in \u001b[0;36msome_fn\u001b[0;34m()\u001b[0m\n\u001b[1;32m      1\u001b[0m \u001b[0;32mdef\u001b[0m \u001b[0msome_fn\u001b[0m\u001b[0;34m(\u001b[0m\u001b[0;34m)\u001b[0m\u001b[0;34m:\u001b[0m\u001b[0;34m\u001b[0m\u001b[0;34m\u001b[0m\u001b[0m\n\u001b[0;32m----> 2\u001b[0;31m     \u001b[0mcity\u001b[0m \u001b[0;34m=\u001b[0m \u001b[0mcity\u001b[0m \u001b[0;34m+\u001b[0m \u001b[0;34m\"-Washington\"\u001b[0m\u001b[0;34m\u001b[0m\u001b[0;34m\u001b[0m\u001b[0m\n\u001b[0m\u001b[1;32m      3\u001b[0m \u001b[0;34m\u001b[0m\u001b[0m\n\u001b[1;32m      4\u001b[0m     \u001b[0mprint\u001b[0m\u001b[0;34m(\u001b[0m\u001b[0;34m\"Country: \"\u001b[0m\u001b[0;34m,\u001b[0m \u001b[0mcountry\u001b[0m\u001b[0;34m)\u001b[0m\u001b[0;34m\u001b[0m\u001b[0;34m\u001b[0m\u001b[0m\n\u001b[1;32m      5\u001b[0m     \u001b[0mprint\u001b[0m\u001b[0;34m(\u001b[0m\u001b[0;34m\"City: \"\u001b[0m\u001b[0;34m,\u001b[0m \u001b[0mcity\u001b[0m\u001b[0;34m)\u001b[0m\u001b[0;34m\u001b[0m\u001b[0;34m\u001b[0m\u001b[0m\n",
            "\u001b[0;31mUnboundLocalError\u001b[0m: local variable 'city' referenced before assignment"
          ]
        }
      ],
      "source": [
        "some_fn()"
      ]
    },
    {
      "cell_type": "code",
      "execution_count": 15,
      "metadata": {
        "id": "cQy-DwI9GJ5U"
      },
      "outputs": [],
      "source": [
        "def some_fn():\n",
        "    city = \"Seattle\"\n",
        "    city = city + \"-Washington\"\n",
        "\n",
        "    print(\"Country: \", country)\n",
        "    print(\"City: \", city)"
      ]
    },
    {
      "cell_type": "code",
      "execution_count": 16,
      "metadata": {
        "colab": {
          "base_uri": "https://localhost:8080/"
        },
        "id": "LFBUCCnNGJ5U",
        "outputId": "4256b917-b440-4fce-bdc4-c6266d49700f"
      },
      "outputs": [
        {
          "output_type": "stream",
          "name": "stdout",
          "text": [
            "Country:  USA\n",
            "City:  Seattle-Washington\n"
          ]
        }
      ],
      "source": [
        "some_fn()"
      ]
    },
    {
      "cell_type": "code",
      "execution_count": 17,
      "metadata": {
        "colab": {
          "base_uri": "https://localhost:8080/"
        },
        "id": "jUTbo_y4GJ5U",
        "outputId": "ac485018-9c72-4c56-d2be-7b771a90e816"
      },
      "outputs": [
        {
          "output_type": "execute_result",
          "data": {
            "text/plain": [
              "('USA', 'Seattle')"
            ]
          },
          "metadata": {},
          "execution_count": 17
        }
      ],
      "source": [
        "country, city"
      ]
    },
    {
      "cell_type": "code",
      "execution_count": 18,
      "metadata": {
        "id": "7PT7Wj1yGJ5V"
      },
      "outputs": [],
      "source": [
        "def some_fn():\n",
        "    city = \"San Francisco\"\n",
        "    city = city + \"-California\"\n",
        "\n",
        "    print(\"Country: \", country)\n",
        "    print(\"City: \", city)"
      ]
    },
    {
      "cell_type": "code",
      "execution_count": 19,
      "metadata": {
        "colab": {
          "base_uri": "https://localhost:8080/"
        },
        "id": "cYVLuSUWGJ5V",
        "outputId": "c1212432-0f50-4002-880f-b8cc3c0a10ad"
      },
      "outputs": [
        {
          "output_type": "stream",
          "name": "stdout",
          "text": [
            "Country:  USA\n",
            "City:  San Francisco-California\n"
          ]
        }
      ],
      "source": [
        "some_fn()"
      ]
    },
    {
      "cell_type": "code",
      "execution_count": 20,
      "metadata": {
        "colab": {
          "base_uri": "https://localhost:8080/"
        },
        "id": "2xl1P3X_GJ5V",
        "outputId": "833a593a-dd99-4594-afac-b1c1af9a2e64"
      },
      "outputs": [
        {
          "output_type": "execute_result",
          "data": {
            "text/plain": [
              "('USA', 'Seattle')"
            ]
          },
          "metadata": {},
          "execution_count": 20
        }
      ],
      "source": [
        "country, city"
      ]
    },
    {
      "cell_type": "code",
      "execution_count": 21,
      "metadata": {
        "id": "OjFBhJ_zGJ5W"
      },
      "outputs": [],
      "source": [
        "def some_fn(country, city):\n",
        "    print(\"Country: \", country)\n",
        "    print(\"City: \", city) "
      ]
    },
    {
      "cell_type": "code",
      "execution_count": 22,
      "metadata": {
        "colab": {
          "base_uri": "https://localhost:8080/"
        },
        "id": "uTJGaNvrGJ5W",
        "outputId": "5f1a5511-103c-4f59-be4d-09d8e797289d"
      },
      "outputs": [
        {
          "output_type": "stream",
          "name": "stdout",
          "text": [
            "Country:  India\n",
            "City:  Bangalore\n"
          ]
        }
      ],
      "source": [
        "some_fn(\"India\", \"Bangalore\")"
      ]
    },
    {
      "cell_type": "code",
      "execution_count": 23,
      "metadata": {
        "id": "fzSLFawbGJ5W"
      },
      "outputs": [],
      "source": [
        "def some_fn():\n",
        "    \n",
        "    global city\n",
        "    \n",
        "    city = city + \"-Washington\"\n",
        "    \n",
        "    print(\"Country: \", country)\n",
        "    print(\"City: \", city) "
      ]
    },
    {
      "cell_type": "code",
      "execution_count": 24,
      "metadata": {
        "colab": {
          "base_uri": "https://localhost:8080/"
        },
        "id": "6BrfYkXxGJ5W",
        "outputId": "f24f9a37-be39-406a-8349-e5048942a996"
      },
      "outputs": [
        {
          "output_type": "stream",
          "name": "stdout",
          "text": [
            "Country:  USA\n",
            "City:  Seattle-Washington\n"
          ]
        }
      ],
      "source": [
        "some_fn()"
      ]
    },
    {
      "cell_type": "code",
      "execution_count": 25,
      "metadata": {
        "colab": {
          "base_uri": "https://localhost:8080/"
        },
        "id": "ltNwWPLhGJ5W",
        "outputId": "d0b20b34-b62b-485e-8feb-2c64dea65512"
      },
      "outputs": [
        {
          "output_type": "execute_result",
          "data": {
            "text/plain": [
              "('USA', 'Seattle-Washington')"
            ]
          },
          "metadata": {},
          "execution_count": 25
        }
      ],
      "source": [
        "country, city"
      ]
    },
    {
      "cell_type": "code",
      "execution_count": 26,
      "metadata": {
        "colab": {
          "base_uri": "https://localhost:8080/"
        },
        "id": "aOD4jyjsGJ5X",
        "outputId": "7a5f4c9e-f755-4599-a994-20459757d21a"
      },
      "outputs": [
        {
          "output_type": "execute_result",
          "data": {
            "text/plain": [
              "('USA', 'Seattle')"
            ]
          },
          "metadata": {},
          "execution_count": 26
        }
      ],
      "source": [
        "city = \"Seattle\"\n",
        "\n",
        "country, city"
      ]
    },
    {
      "cell_type": "code",
      "execution_count": 27,
      "metadata": {
        "id": "PH8XOI-nGJ5X"
      },
      "outputs": [],
      "source": [
        "def some_fn():\n",
        "    \n",
        "    global city, country\n",
        "    \n",
        "    city = city + \"-Washington\"\n",
        "    country = country + \"-World\"\n",
        "    \n",
        "    print(\"Country: \", country)\n",
        "    print(\"City: \", city) "
      ]
    },
    {
      "cell_type": "code",
      "execution_count": 28,
      "metadata": {
        "colab": {
          "base_uri": "https://localhost:8080/"
        },
        "id": "olOB5hM-GJ5X",
        "outputId": "56092fcd-d275-4e9f-c4c1-78e86402df03"
      },
      "outputs": [
        {
          "output_type": "stream",
          "name": "stdout",
          "text": [
            "Country:  USA-World\n",
            "City:  Seattle-Washington\n"
          ]
        }
      ],
      "source": [
        "some_fn()"
      ]
    },
    {
      "cell_type": "code",
      "execution_count": 29,
      "metadata": {
        "colab": {
          "base_uri": "https://localhost:8080/"
        },
        "id": "W8jTckQzGJ5X",
        "outputId": "6e544a9f-06ad-407e-d911-1eac2bb6acdc"
      },
      "outputs": [
        {
          "output_type": "execute_result",
          "data": {
            "text/plain": [
              "('USA-World', 'Seattle-Washington')"
            ]
          },
          "metadata": {},
          "execution_count": 29
        }
      ],
      "source": [
        "country, city"
      ]
    },
    {
      "cell_type": "code",
      "execution_count": null,
      "metadata": {
        "id": "LmhWeCAGGJ5X"
      },
      "outputs": [],
      "source": [
        ""
      ]
    },
    {
      "cell_type": "code",
      "execution_count": null,
      "metadata": {
        "id": "KO1BB6gMGJ5X"
      },
      "outputs": [],
      "source": [
        ""
      ]
    },
    {
      "cell_type": "code",
      "execution_count": null,
      "metadata": {
        "id": "1wwQ0R50GJ5X"
      },
      "outputs": [],
      "source": [
        ""
      ]
    },
    {
      "cell_type": "code",
      "execution_count": 30,
      "metadata": {
        "id": "EYTyjeP8GJ5Y"
      },
      "outputs": [],
      "source": [
        "salary = 1000\n",
        "expense = 200\n",
        "\n",
        "name = \"James\"\n",
        "interest_rate = 0.04"
      ]
    },
    {
      "cell_type": "code",
      "execution_count": 31,
      "metadata": {
        "id": "B9a6PtByGJ5Y"
      },
      "outputs": [],
      "source": [
        "def print_savings_details():\n",
        "    \n",
        "    print(\"Name on account: \", name)\n",
        "    \n",
        "    savings  = salary - expense\n",
        "    print(\"Savings: \", savings)\n",
        "    \n",
        "    print(\"Interest rate: \", interest_rate)"
      ]
    },
    {
      "cell_type": "code",
      "execution_count": 32,
      "metadata": {
        "colab": {
          "base_uri": "https://localhost:8080/"
        },
        "id": "bVvEOKVfGJ5Y",
        "outputId": "c9c65e4d-48c3-4eda-ba51-7a9761e7e8fa"
      },
      "outputs": [
        {
          "output_type": "stream",
          "name": "stdout",
          "text": [
            "Name on account:  James\n",
            "Savings:  800\n",
            "Interest rate:  0.04\n"
          ]
        }
      ],
      "source": [
        "print_savings_details()"
      ]
    },
    {
      "cell_type": "code",
      "execution_count": 33,
      "metadata": {
        "id": "ezYhDCQbGJ5Y"
      },
      "outputs": [],
      "source": [
        "def print_savings_details(name, salary, expense, interest_rate):\n",
        "    \n",
        "    print(\"Name on account: \", name)\n",
        "    \n",
        "    savings  = salary - expense\n",
        "    print(\"Savings: \", savings)\n",
        "    \n",
        "    print(\"Interest rate: \", interest_rate)"
      ]
    },
    {
      "cell_type": "code",
      "execution_count": 34,
      "metadata": {
        "colab": {
          "base_uri": "https://localhost:8080/"
        },
        "id": "fnyYbZwYGJ5Y",
        "outputId": "145069e9-4f38-47b4-82fb-6625a609b447"
      },
      "outputs": [
        {
          "output_type": "stream",
          "name": "stdout",
          "text": [
            "Name on account:  James\n",
            "Savings:  800\n",
            "Interest rate:  0.04\n"
          ]
        }
      ],
      "source": [
        "print_savings_details(name, salary, expense, interest_rate)"
      ]
    },
    {
      "cell_type": "code",
      "execution_count": 35,
      "metadata": {
        "colab": {
          "base_uri": "https://localhost:8080/"
        },
        "id": "HliP5qzoGJ5Z",
        "outputId": "4038ff6e-4e48-45d9-a52d-fa0cbeecff60"
      },
      "outputs": [
        {
          "output_type": "stream",
          "name": "stdout",
          "text": [
            "Name on account:  Julie\n",
            "Savings:  8000\n",
            "Interest rate:  0.02\n"
          ]
        }
      ],
      "source": [
        "print_savings_details(\"Julie\", 10000, 2000, 0.02)"
      ]
    },
    {
      "cell_type": "code",
      "execution_count": 36,
      "metadata": {
        "id": "pksmF2-RGJ5Z"
      },
      "outputs": [],
      "source": [
        "def print_savings_details(name, salary, expense, interest_rate):\n",
        "    \n",
        "    print(\"Name on account: \", name)\n",
        "\n",
        "    expense = expense + 100\n",
        "    \n",
        "    savings  = salary - expense\n",
        "    print(\"Savings: \", savings)\n",
        "    \n",
        "    print(\"Interest rate: \", interest_rate)"
      ]
    },
    {
      "cell_type": "code",
      "execution_count": 37,
      "metadata": {
        "colab": {
          "base_uri": "https://localhost:8080/"
        },
        "id": "jTJSjmpBGJ5Z",
        "outputId": "3db7b84a-340e-40e4-d6be-4366e0731911"
      },
      "outputs": [
        {
          "output_type": "stream",
          "name": "stdout",
          "text": [
            "Name on account:  James\n",
            "Savings:  700\n",
            "Interest rate:  0.04\n"
          ]
        }
      ],
      "source": [
        "print_savings_details(name, salary, expense, interest_rate)"
      ]
    },
    {
      "cell_type": "code",
      "execution_count": 38,
      "metadata": {
        "colab": {
          "base_uri": "https://localhost:8080/"
        },
        "id": "QfjA2eyIGJ5Z",
        "outputId": "d7f97fa2-2bad-499f-a503-2a793a5135df"
      },
      "outputs": [
        {
          "output_type": "execute_result",
          "data": {
            "text/plain": [
              "('James', 1000, 200, 0.04)"
            ]
          },
          "metadata": {},
          "execution_count": 38
        }
      ],
      "source": [
        "name, salary, expense, interest_rate"
      ]
    },
    {
      "cell_type": "code",
      "execution_count": 39,
      "metadata": {
        "id": "5Igrj3fuGJ5a"
      },
      "outputs": [],
      "source": [
        "def print_savings_details(name, salary, expense, interest_rate):\n",
        "    \n",
        "    name = \"Harry\"\n",
        "    print(\"Name on account: \", name)\n",
        "\n",
        "    salary = salary * 2\n",
        "    expense = expense + 100\n",
        "\n",
        "    savings  = salary - expense\n",
        "    print(\"Savings: \", savings)\n",
        "    \n",
        "    interest_rate = 0.09\n",
        "    print(\"Interest rate: \", interest_rate)"
      ]
    },
    {
      "cell_type": "code",
      "execution_count": 40,
      "metadata": {
        "colab": {
          "base_uri": "https://localhost:8080/"
        },
        "id": "uWLlsexyGJ5a",
        "outputId": "86cb25fe-a19b-4f0a-a3db-9397b8770ac8"
      },
      "outputs": [
        {
          "output_type": "stream",
          "name": "stdout",
          "text": [
            "Name on account:  Harry\n",
            "Savings:  1700\n",
            "Interest rate:  0.09\n"
          ]
        }
      ],
      "source": [
        "print_savings_details(name, salary, expense, interest_rate)"
      ]
    },
    {
      "cell_type": "code",
      "execution_count": 41,
      "metadata": {
        "colab": {
          "base_uri": "https://localhost:8080/"
        },
        "id": "Uvsdjyu-GJ5a",
        "outputId": "d7043991-31c7-4e6c-8100-4f57bc0e402d"
      },
      "outputs": [
        {
          "output_type": "execute_result",
          "data": {
            "text/plain": [
              "('James', 1000, 200, 0.04)"
            ]
          },
          "metadata": {},
          "execution_count": 41
        }
      ],
      "source": [
        "name, salary, expense, interest_rate"
      ]
    },
    {
      "cell_type": "code",
      "execution_count": null,
      "metadata": {
        "id": "6o3HEMOrGJ5b"
      },
      "outputs": [],
      "source": [
        ""
      ]
    },
    {
      "cell_type": "code",
      "source": [
        ""
      ],
      "metadata": {
        "id": "TsFZ7TXWMMnx"
      },
      "execution_count": null,
      "outputs": []
    },
    {
      "cell_type": "code",
      "source": [
        ""
      ],
      "metadata": {
        "id": "yD5pL8F1MNKR"
      },
      "execution_count": null,
      "outputs": []
    },
    {
      "cell_type": "code",
      "execution_count": 42,
      "metadata": {
        "id": "ibB_kpgYGJ5b"
      },
      "outputs": [],
      "source": [
        "fruits_list = [\"Apple\", \"Grapes\", \"Mango\", \"Bananas\"]"
      ]
    },
    {
      "cell_type": "code",
      "execution_count": 43,
      "metadata": {
        "colab": {
          "base_uri": "https://localhost:8080/"
        },
        "id": "1LYJLqs4GJ5b",
        "outputId": "f527416e-5de1-4f1b-e8aa-bb828e065b69"
      },
      "outputs": [
        {
          "output_type": "stream",
          "name": "stdout",
          "text": [
            "Inside the function:  ['Kiwi', 'Strawberry']\n",
            "\n",
            "Outside the function:  ['Apple', 'Grapes', 'Mango', 'Bananas']\n"
          ]
        }
      ],
      "source": [
        "def change_list(fruits_list):\n",
        "    \n",
        "    fruits_list = [\"Kiwi\", \"Strawberry\"]\n",
        "    \n",
        "    print(\"Inside the function: \", fruits_list)\n",
        "\n",
        "change_list(fruits_list)\n",
        "print()\n",
        "print(\"Outside the function: \", fruits_list)"
      ]
    },
    {
      "cell_type": "code",
      "execution_count": 44,
      "metadata": {
        "id": "ch4cU4pIGJ5b"
      },
      "outputs": [],
      "source": [
        "fruits_list = [\"Apple\", \"Grapes\"]"
      ]
    },
    {
      "cell_type": "code",
      "execution_count": 45,
      "metadata": {
        "colab": {
          "base_uri": "https://localhost:8080/"
        },
        "id": "kKxaDp_QGJ5b",
        "outputId": "afb21a3c-ef43-42f0-9ee3-483681535046"
      },
      "outputs": [
        {
          "output_type": "stream",
          "name": "stdout",
          "text": [
            "Inside the function:  ['Kiwi', 'Strawberry']\n"
          ]
        }
      ],
      "source": [
        "change_list(fruits_list)"
      ]
    },
    {
      "cell_type": "code",
      "execution_count": 46,
      "metadata": {
        "colab": {
          "base_uri": "https://localhost:8080/"
        },
        "id": "xy_eRHvNGJ5b",
        "outputId": "042fdad2-3aee-45b8-8b99-5cccf8b77781"
      },
      "outputs": [
        {
          "output_type": "execute_result",
          "data": {
            "text/plain": [
              "['Apple', 'Grapes']"
            ]
          },
          "metadata": {},
          "execution_count": 46
        }
      ],
      "source": [
        "fruits_list"
      ]
    },
    {
      "cell_type": "code",
      "execution_count": 47,
      "metadata": {
        "id": "n-xwyQmqGJ5c"
      },
      "outputs": [],
      "source": [
        "fruits_tuple = (\"Apple\", \"Grapes\", \"Mango\", \"Bananas\")"
      ]
    },
    {
      "cell_type": "code",
      "execution_count": 48,
      "metadata": {
        "colab": {
          "base_uri": "https://localhost:8080/"
        },
        "id": "Jam36dLcGJ5c",
        "outputId": "6abeec3b-88de-44ca-9505-e56c5095f7ef"
      },
      "outputs": [
        {
          "output_type": "stream",
          "name": "stdout",
          "text": [
            "Inside the function:  ('Kiwi', 'Strawberry')\n",
            "\n",
            "Outside the function:  ('Apple', 'Grapes', 'Mango', 'Bananas')\n"
          ]
        }
      ],
      "source": [
        "def change_tuple(fruits_tuple):\n",
        "    \n",
        "    fruits_tuple = (\"Kiwi\", \"Strawberry\")\n",
        "    \n",
        "    print(\"Inside the function: \", fruits_tuple)\n",
        "\n",
        "change_tuple(fruits_tuple)\n",
        "print()\n",
        "print(\"Outside the function: \", fruits_tuple)"
      ]
    },
    {
      "cell_type": "code",
      "execution_count": 49,
      "metadata": {
        "colab": {
          "base_uri": "https://localhost:8080/"
        },
        "id": "m-8sNSIVGJ5c",
        "outputId": "b6b38cff-bcf4-40ee-91ca-d676a491f685"
      },
      "outputs": [
        {
          "output_type": "stream",
          "name": "stdout",
          "text": [
            "Inside the function:  This is not even a tuple\n",
            "\n",
            "Outside the function:  ('Apple', 'Grapes', 'Mango', 'Bananas')\n"
          ]
        }
      ],
      "source": [
        "def change_tuple(fruits_tuple):\n",
        "    \n",
        "    fruits_tuple = \"This is not even a tuple\"\n",
        "    \n",
        "    print(\"Inside the function: \", fruits_tuple)\n",
        "\n",
        "change_tuple(fruits_tuple)\n",
        "print()\n",
        "print(\"Outside the function: \", fruits_tuple)"
      ]
    },
    {
      "cell_type": "code",
      "execution_count": null,
      "metadata": {
        "id": "kRT4YVz4GJ5c"
      },
      "outputs": [],
      "source": [
        ""
      ]
    },
    {
      "cell_type": "code",
      "source": [
        ""
      ],
      "metadata": {
        "id": "VjUKYjX2M_sd"
      },
      "execution_count": null,
      "outputs": []
    },
    {
      "cell_type": "code",
      "source": [
        ""
      ],
      "metadata": {
        "id": "aMCIi-JnNAHr"
      },
      "execution_count": null,
      "outputs": []
    },
    {
      "cell_type": "code",
      "execution_count": 50,
      "metadata": {
        "id": "cCFbsVxFGJ5c"
      },
      "outputs": [],
      "source": [
        "car_speeds_dictionary = {\n",
        "    \"Camry\": 120,\n",
        "    \"Accord\": 130,\n",
        "    \"Cayenne\": 250,\n",
        "    \"Mini Cooper\": 100\n",
        "}"
      ]
    },
    {
      "cell_type": "code",
      "execution_count": 51,
      "metadata": {
        "id": "jeBn227aGJ5c"
      },
      "outputs": [],
      "source": [
        "def change_dictionary(car_speeds_dictionary):\n",
        "    \n",
        "    car_speeds_dictionary = {\n",
        "        \"Mustang\": 200\n",
        "    }\n",
        "    \n",
        "    print(\"Inside the function: \", car_speeds_dictionary)"
      ]
    },
    {
      "cell_type": "code",
      "execution_count": 52,
      "metadata": {
        "colab": {
          "base_uri": "https://localhost:8080/"
        },
        "id": "RKqhAFsIGJ5c",
        "outputId": "8f312230-4e33-48ca-b1d3-5eef6657911f"
      },
      "outputs": [
        {
          "output_type": "stream",
          "name": "stdout",
          "text": [
            "Inside the function:  {'Mustang': 200}\n"
          ]
        }
      ],
      "source": [
        "change_dictionary(car_speeds_dictionary)"
      ]
    },
    {
      "cell_type": "code",
      "execution_count": 53,
      "metadata": {
        "colab": {
          "base_uri": "https://localhost:8080/"
        },
        "id": "qgJBiQmsGJ5d",
        "outputId": "4f0c3800-eaac-4d27-f0dc-28233aefadd4"
      },
      "outputs": [
        {
          "output_type": "execute_result",
          "data": {
            "text/plain": [
              "{'Accord': 130, 'Camry': 120, 'Cayenne': 250, 'Mini Cooper': 100}"
            ]
          },
          "metadata": {},
          "execution_count": 53
        }
      ],
      "source": [
        "car_speeds_dictionary"
      ]
    },
    {
      "cell_type": "code",
      "execution_count": null,
      "metadata": {
        "id": "EdVznbLmGJ5d"
      },
      "outputs": [],
      "source": [
        ""
      ]
    },
    {
      "cell_type": "code",
      "execution_count": null,
      "metadata": {
        "id": "VMqKCJ6EGJ5d"
      },
      "outputs": [],
      "source": [
        ""
      ]
    },
    {
      "cell_type": "code",
      "source": [
        ""
      ],
      "metadata": {
        "id": "7aB8gsPuNPRU"
      },
      "execution_count": null,
      "outputs": []
    },
    {
      "cell_type": "code",
      "execution_count": 54,
      "metadata": {
        "id": "TU6Dcj5LGJ5d"
      },
      "outputs": [],
      "source": [
        "fruits_list = [\"Apple\", \"Grapes\", \"Mango\", \"Bananas\"]"
      ]
    },
    {
      "cell_type": "code",
      "execution_count": 55,
      "metadata": {
        "colab": {
          "base_uri": "https://localhost:8080/"
        },
        "id": "elCe6PhYGJ5d",
        "outputId": "c50b1b87-2f8c-46ff-94d1-face3dc228b4"
      },
      "outputs": [
        {
          "output_type": "stream",
          "name": "stdout",
          "text": [
            "Inside the function:  ['Kiwi', 'Grapes', 'Mango', 'Bananas']\n",
            "\n",
            "Outside the function:  ['Kiwi', 'Grapes', 'Mango', 'Bananas']\n"
          ]
        }
      ],
      "source": [
        "def change_list(fruits_list):\n",
        "    \n",
        "    fruits_list[0] = \"Kiwi\"\n",
        "    \n",
        "    print(\"Inside the function: \", fruits_list)\n",
        "\n",
        "change_list(fruits_list)\n",
        "print()\n",
        "print(\"Outside the function: \", fruits_list)"
      ]
    },
    {
      "cell_type": "code",
      "execution_count": 56,
      "metadata": {
        "id": "Dt_6kKRdGJ5d"
      },
      "outputs": [],
      "source": [
        "fruits_list = [\"Apple\", \"Grapes\"]"
      ]
    },
    {
      "cell_type": "code",
      "execution_count": 57,
      "metadata": {
        "colab": {
          "base_uri": "https://localhost:8080/"
        },
        "id": "8Y1JulaRGJ5d",
        "outputId": "912b0da1-0d2b-45a3-8e28-bcc4b986441d"
      },
      "outputs": [
        {
          "output_type": "stream",
          "name": "stdout",
          "text": [
            "Inside the function:  ['Kiwi', 'Grapes']\n"
          ]
        }
      ],
      "source": [
        "change_list(fruits_list)"
      ]
    },
    {
      "cell_type": "code",
      "execution_count": 58,
      "metadata": {
        "colab": {
          "base_uri": "https://localhost:8080/"
        },
        "id": "M7bZdam0GJ5e",
        "outputId": "f90f1a06-b82a-43d3-a484-f77f0288f597"
      },
      "outputs": [
        {
          "output_type": "execute_result",
          "data": {
            "text/plain": [
              "['Kiwi', 'Grapes']"
            ]
          },
          "metadata": {},
          "execution_count": 58
        }
      ],
      "source": [
        "fruits_list"
      ]
    },
    {
      "cell_type": "code",
      "execution_count": 59,
      "metadata": {
        "colab": {
          "base_uri": "https://localhost:8080/"
        },
        "id": "OtD7ypv4GJ5e",
        "outputId": "a81fcce2-64cf-458f-d118-21caf52791c4"
      },
      "outputs": [
        {
          "output_type": "stream",
          "name": "stdout",
          "text": [
            "Inside the function:  ['Apple', 'Grapes', 'Mango', 'Bananas', 'Kiwi']\n",
            "\n",
            "Outside the function:  ['Apple', 'Grapes', 'Mango', 'Bananas', 'Kiwi']\n"
          ]
        }
      ],
      "source": [
        "fruits_list = [\"Apple\", \"Grapes\", \"Mango\", \"Bananas\"]\n",
        "\n",
        "def change_list(fruits_list):\n",
        "    \n",
        "    fruits_list.append(\"Kiwi\")\n",
        "    \n",
        "    print(\"Inside the function: \", fruits_list)\n",
        "\n",
        "change_list(fruits_list)\n",
        "print()\n",
        "print(\"Outside the function: \", fruits_list)"
      ]
    },
    {
      "cell_type": "code",
      "execution_count": 60,
      "metadata": {
        "colab": {
          "base_uri": "https://localhost:8080/"
        },
        "id": "BkQ7YvMoGJ5e",
        "outputId": "496e0d52-8b25-48de-c9ae-8fa0a559c6a9"
      },
      "outputs": [
        {
          "output_type": "stream",
          "name": "stdout",
          "text": [
            "Inside the function:  ['Grapes', 'Mango', 'Bananas']\n",
            "\n",
            "Outside the function:  ['Grapes', 'Mango', 'Bananas']\n"
          ]
        }
      ],
      "source": [
        "fruits_list = [\"Apple\", \"Grapes\", \"Mango\", \"Bananas\"]\n",
        "\n",
        "def change_list(fruits_list):\n",
        "    \n",
        "    fruits_list.remove(\"Apple\")\n",
        "    \n",
        "    print(\"Inside the function: \", fruits_list)\n",
        "\n",
        "change_list(fruits_list)\n",
        "print()\n",
        "print(\"Outside the function: \", fruits_list)"
      ]
    },
    {
      "cell_type": "code",
      "execution_count": 61,
      "metadata": {
        "id": "Bouj5QGIGJ5e"
      },
      "outputs": [],
      "source": [
        "fruits_list = [\"Apple\", \"Grapes\", \"Mango\", \"Bananas\"]\n",
        "\n",
        "def sort_items_and_remove_last(my_list):\n",
        "    my_list.sort()\n",
        "    my_list.pop()\n",
        "    \n",
        "    print(\"Inside the function\", my_list)"
      ]
    },
    {
      "cell_type": "code",
      "execution_count": 62,
      "metadata": {
        "colab": {
          "base_uri": "https://localhost:8080/"
        },
        "id": "Xxo9Y3uaGJ5e",
        "outputId": "c4bc9306-693f-4d5b-9cc4-1cd9262c56e4"
      },
      "outputs": [
        {
          "output_type": "stream",
          "name": "stdout",
          "text": [
            "Inside the function ['Apple', 'Bananas', 'Grapes']\n"
          ]
        }
      ],
      "source": [
        "sort_items_and_remove_last(fruits_list)"
      ]
    },
    {
      "cell_type": "code",
      "execution_count": 63,
      "metadata": {
        "colab": {
          "base_uri": "https://localhost:8080/"
        },
        "id": "Qsd_dlm8GJ5e",
        "outputId": "f42e7928-5062-40f8-e65b-d67b87e5ea53"
      },
      "outputs": [
        {
          "output_type": "execute_result",
          "data": {
            "text/plain": [
              "['Apple', 'Bananas', 'Grapes']"
            ]
          },
          "metadata": {},
          "execution_count": 63
        }
      ],
      "source": [
        "fruits_list"
      ]
    },
    {
      "cell_type": "code",
      "execution_count": null,
      "metadata": {
        "id": "mLYdi1OyGJ5f"
      },
      "outputs": [],
      "source": [
        ""
      ]
    },
    {
      "cell_type": "code",
      "source": [
        ""
      ],
      "metadata": {
        "id": "uvjnrSJpPGIi"
      },
      "execution_count": null,
      "outputs": []
    },
    {
      "cell_type": "code",
      "source": [
        ""
      ],
      "metadata": {
        "id": "CE49crlTPGoL"
      },
      "execution_count": null,
      "outputs": []
    },
    {
      "cell_type": "code",
      "execution_count": 64,
      "metadata": {
        "id": "0VPqdQazGJ5f"
      },
      "outputs": [],
      "source": [
        "car_speeds_dictionary = {\n",
        "    \"Camry\": 120,\n",
        "    \"Accord\": 130,\n",
        "    \"Cayenne\": 250,\n",
        "    \"Mini Cooper\": 100\n",
        "}"
      ]
    },
    {
      "cell_type": "code",
      "execution_count": 65,
      "metadata": {
        "id": "EVFKz84DGJ5f"
      },
      "outputs": [],
      "source": [
        "def change_dictionary(car_speeds_dictionary):\n",
        "    \n",
        "    car_speeds_dictionary[\"Mustang\"] = 200\n",
        "    \n",
        "    print(\"Inside the function: \", car_speeds_dictionary)"
      ]
    },
    {
      "cell_type": "code",
      "execution_count": 66,
      "metadata": {
        "colab": {
          "base_uri": "https://localhost:8080/"
        },
        "id": "0wc5_FekGJ5f",
        "outputId": "0176a856-8cdd-4062-a45d-73eee066ce67"
      },
      "outputs": [
        {
          "output_type": "stream",
          "name": "stdout",
          "text": [
            "Inside the function:  {'Camry': 120, 'Accord': 130, 'Cayenne': 250, 'Mini Cooper': 100, 'Mustang': 200}\n"
          ]
        }
      ],
      "source": [
        "change_dictionary(car_speeds_dictionary)"
      ]
    },
    {
      "cell_type": "code",
      "execution_count": 67,
      "metadata": {
        "colab": {
          "base_uri": "https://localhost:8080/"
        },
        "id": "Ky2cbUtvGJ5f",
        "outputId": "e5be5562-a58c-436e-9556-a3a5c14f2232"
      },
      "outputs": [
        {
          "output_type": "execute_result",
          "data": {
            "text/plain": [
              "{'Accord': 130,\n",
              " 'Camry': 120,\n",
              " 'Cayenne': 250,\n",
              " 'Mini Cooper': 100,\n",
              " 'Mustang': 200}"
            ]
          },
          "metadata": {},
          "execution_count": 67
        }
      ],
      "source": [
        "car_speeds_dictionary"
      ]
    },
    {
      "cell_type": "code",
      "execution_count": 68,
      "metadata": {
        "id": "iq0odhbIGJ5f"
      },
      "outputs": [],
      "source": [
        "def change_dictionary(some_dictionary):\n",
        "    \n",
        "    some_dictionary[\"Camry\"] = 140\n",
        "    \n",
        "    print(\"Inside the function: \", some_dictionary)"
      ]
    },
    {
      "cell_type": "code",
      "execution_count": 69,
      "metadata": {
        "colab": {
          "base_uri": "https://localhost:8080/"
        },
        "id": "arPUIlk9GJ5f",
        "outputId": "6679ed47-3fa0-45cf-f624-acef2016da0a"
      },
      "outputs": [
        {
          "output_type": "stream",
          "name": "stdout",
          "text": [
            "Inside the function:  {'Camry': 140, 'Accord': 130, 'Cayenne': 250, 'Mini Cooper': 100, 'Mustang': 200}\n"
          ]
        },
        {
          "output_type": "execute_result",
          "data": {
            "text/plain": [
              "{'Accord': 130,\n",
              " 'Camry': 140,\n",
              " 'Cayenne': 250,\n",
              " 'Mini Cooper': 100,\n",
              " 'Mustang': 200}"
            ]
          },
          "metadata": {},
          "execution_count": 69
        }
      ],
      "source": [
        "change_dictionary(car_speeds_dictionary)\n",
        "\n",
        "car_speeds_dictionary"
      ]
    },
    {
      "cell_type": "code",
      "execution_count": 70,
      "metadata": {
        "id": "9Us5kxJUGJ5f"
      },
      "outputs": [],
      "source": [
        "def change_dictionary(some_dictionary):\n",
        "    \n",
        "    del some_dictionary[\"Camry\"]\n",
        "    \n",
        "    print(\"Inside the function: \", some_dictionary)"
      ]
    },
    {
      "cell_type": "code",
      "execution_count": 71,
      "metadata": {
        "colab": {
          "base_uri": "https://localhost:8080/"
        },
        "id": "kVekYUryGJ5g",
        "outputId": "ce3decf6-1026-43ea-f8ad-28296dcd5653"
      },
      "outputs": [
        {
          "output_type": "stream",
          "name": "stdout",
          "text": [
            "Inside the function:  {'Accord': 130, 'Cayenne': 250, 'Mini Cooper': 100, 'Mustang': 200}\n"
          ]
        },
        {
          "output_type": "execute_result",
          "data": {
            "text/plain": [
              "{'Accord': 130, 'Cayenne': 250, 'Mini Cooper': 100, 'Mustang': 200}"
            ]
          },
          "metadata": {},
          "execution_count": 71
        }
      ],
      "source": [
        "change_dictionary(car_speeds_dictionary)\n",
        "\n",
        "car_speeds_dictionary"
      ]
    },
    {
      "cell_type": "code",
      "execution_count": null,
      "metadata": {
        "id": "CYs6fV1PGJ5g"
      },
      "outputs": [],
      "source": [
        ""
      ]
    },
    {
      "cell_type": "code",
      "source": [
        ""
      ],
      "metadata": {
        "id": "ZYWS4CPbP1iD"
      },
      "execution_count": null,
      "outputs": []
    },
    {
      "cell_type": "code",
      "source": [
        ""
      ],
      "metadata": {
        "id": "N7fLthvoP2AB"
      },
      "execution_count": null,
      "outputs": []
    },
    {
      "cell_type": "code",
      "execution_count": 72,
      "metadata": {
        "colab": {
          "base_uri": "https://localhost:8080/",
          "height": 1000
        },
        "id": "sVS66M9iGJ5g",
        "outputId": "eef34287-ec7a-4356-e56a-b3d33a3f8e97"
      },
      "outputs": [
        {
          "output_type": "stream",
          "name": "stdout",
          "text": [
            "\n",
            "Please wait a moment while I gather a list of all available modules...\n",
            "\n"
          ]
        },
        {
          "output_type": "stream",
          "name": "stderr",
          "text": [
            "/usr/local/lib/python3.7/dist-packages/IPython/kernel/__init__.py:13: ShimWarning: The `IPython.kernel` package has been deprecated since IPython 4.0.You should import from ipykernel or jupyter_client instead.\n",
            "  \"You should import from ipykernel or jupyter_client instead.\", ShimWarning)\n",
            "WARNING: AstropyDeprecationWarning: The private astropy._erfa module has been made into its own package, pyerfa, which is a dependency of astropy and can be imported directly using \"import erfa\" [astropy._erfa]\n",
            "/usr/local/lib/python3.7/dist-packages/datascience/tables.py:17: MatplotlibDeprecationWarning:\n",
            "\n",
            "The 'warn' parameter of use() is deprecated since Matplotlib 3.1 and will be removed in 3.3.  If any parameter follows 'warn', they should be pass as keyword, not positionally.\n",
            "\n",
            "/usr/local/lib/python3.7/dist-packages/datascience/util.py:10: MatplotlibDeprecationWarning:\n",
            "\n",
            "The 'warn' parameter of use() is deprecated since Matplotlib 3.1 and will be removed in 3.3.  If any parameter follows 'warn', they should be pass as keyword, not positionally.\n",
            "\n"
          ]
        },
        {
          "output_type": "stream",
          "name": "stdout",
          "text": [
            "Downloading http://dlib.net/files/shape_predictor_68_face_landmarks.dat.bz2 to /root/mlxtend_data/shape_predictor_68_face_landmarks.dat.bz2\n"
          ]
        },
        {
          "output_type": "stream",
          "name": "stderr",
          "text": [
            "/usr/lib/python3.7/pkgutil.py:92: UserWarning:\n",
            "\n",
            "The DICOM readers are highly experimental, unstable, and only work for Siemens time-series at the moment\n",
            "Please use with caution.  We would be grateful for your help in improving them\n",
            "\n",
            "/usr/local/lib/python3.7/dist-packages/nltk/twitter/__init__.py:20: UserWarning:\n",
            "\n",
            "The twython library has not been installed. Some functionality from the twitter package will not be available.\n",
            "\n",
            "/usr/local/lib/python3.7/dist-packages/psycopg2/__init__.py:144: UserWarning:\n",
            "\n",
            "The psycopg2 wheel package will be renamed from release 2.8; in order to keep installing from binary please use \"pip install psycopg2-binary\" instead. For details see: <http://initd.org/psycopg/docs/install.html#binary-install-from-pypi>.\n",
            "\n",
            "WARNING:pystan:This submodule contains experimental code, please use with caution\n"
          ]
        },
        {
          "output_type": "stream",
          "name": "stdout",
          "text": [
            "No CUDA runtime is found, using CUDA_HOME='/usr/local/cuda'\n",
            "Cython              colorlover          keras               readline\n",
            "IPython             colorsys            keras_preprocessing regex\n",
            "OpenGL              community           keyword             reprlib\n",
            "PIL                 compileall          kiwisolver          requests\n",
            "ScreenResolution    concurrent          korean_lunar_calendar requests_oauthlib\n",
            "__future__          configparser        lib2to3             resampy\n",
            "_abc                contextlib          libfuturize         resource\n",
            "_ast                contextlib2         libpasteurize       retrying\n",
            "_asyncio            contextvars         librosa             rlcompleter\n",
            "_bisect             convertdate         lightgbm            rmagic\n",
            "_blake2             copy                linecache           rpy2\n",
            "_bootlocale         copyreg             llvmlite            rsa\n",
            "_bz2                coverage            lmdb                runpy\n",
            "_cffi_backend       coveralls           locale              samples\n",
            "_codecs             crcmod              logging             sched\n",
            "_codecs_cn          crypt               lsb_release         scipy\n",
            "_codecs_hk          csv                 lunarcalendar       scs\n",
            "_codecs_iso2022     ctypes              lxml                seaborn\n",
            "_codecs_jp          cufflinks           lzma                secrets\n",
            "_codecs_kr          curses              macpath             select\n",
            "_codecs_tw          cv2                 mailbox             selectors\n",
            "_collections        cvxopt              mailcap             semver\n",
            "_collections_abc    cvxpy               markdown            send2trash\n",
            "_compat_pickle      cycler              markupsafe          setuptools\n",
            "_compression        cymem               marshal             setuptools_git\n",
            "_contextvars        cython              math                shapely\n",
            "_crypt              cythonmagic         matplotlib          shelve\n",
            "_csv                daft                matplotlib_inline   shlex\n",
            "_ctypes             dask                matplotlib_venn     shutil\n",
            "_ctypes_test        dataclasses         mimetypes           signal\n",
            "_curses             datascience         missingno           simplegeneric\n",
            "_curses_panel       datetime            mistune             site\n",
            "_cvxcore            dateutil            mizani              sitecustomize\n",
            "_datetime           dbm                 mlxtend             six\n",
            "_dbm                dbus                mmap                skimage\n",
            "_decimal            debugpy             modulefinder        sklearn\n",
            "_distutils_hack     decimal             more_itertools      sklearn_pandas\n",
            "_dummy_thread       decorator           moviepy             slugify\n",
            "_ecos               defusedxml          mpmath              smart_open\n",
            "_elementtree        descartes           msgpack             smtpd\n",
            "_functools          difflib             multiprocess        smtplib\n",
            "_hashlib            dill                multiprocessing     sndhdr\n",
            "_heapq              dis                 multitasking        snowballstemmer\n",
            "_imp                distributed         murmurhash          socket\n",
            "_io                 distutils           music21             socketserver\n",
            "_json               dlib                natsort             socks\n",
            "_locale             docopt              nbclient            sockshandler\n",
            "_lsprof             docs                nbconvert           softwareproperties\n",
            "_lzma               doctest             nbformat            sortedcontainers\n",
            "_markupbase         docutils            nest_asyncio        soundfile\n",
            "_md5                dopamine            netCDF4             spacy\n",
            "_multibytecodec     dot_parser          netrc               sphinx\n",
            "_multiprocess       dummy_threading     networkx            spwd\n",
            "_multiprocessing    easydict            nibabel             sql\n",
            "_opcode             ecos                nis                 sqlalchemy\n",
            "_operator           editdistance        nisext              sqlite3\n",
            "_osx_support        ee                  nltk                sqlparse\n",
            "_pickle             email               nntplib             sre_compile\n",
            "_plotly_future_     en_core_web_sm      notebook            sre_constants\n",
            "_plotly_utils       encodings           ntpath              sre_parse\n",
            "_posixsubprocess    entrypoints         nturl2path          srsly\n",
            "_py_abc             enum                numba               ssl\n",
            "_pydecimal          ephem               numbergen           stat\n",
            "_pyio               erfa                numbers             statistics\n",
            "_pyrsistent_version errno               numexpr             statsmodels\n",
            "_pytest             et_xmlfile          numpy               storemagic\n",
            "_queue              examples            nvidia_smi          string\n",
            "_random             fa2                 oauth2client        stringprep\n",
            "_rinterface_cffi_abi fastai              oauthlib            struct\n",
            "_rinterface_cffi_api fastdtw             ogr                 subprocess\n",
            "_scs_direct         fastprogress        okgrade             sunau\n",
            "_scs_indirect       fastrlock           opcode              symbol\n",
            "_scs_python         faulthandler        openpyxl            sympy\n",
            "_sha1               fbprophet           operator            sympyprinting\n",
            "_sha256             fcntl               opt_einsum          symtable\n",
            "_sha3               feather             optparse            sys\n",
            "_sha512             filecmp             os                  sysconfig\n",
            "_signal             fileinput           osgeo               syslog\n",
            "_sitebuiltins       filelock            osqp                tables\n",
            "_socket             firebase_admin      osqppurepy          tabnanny\n",
            "_soundfile          fix_yahoo_finance   osr                 tabulate\n",
            "_sqlite3            flask               ossaudiodev         tarfile\n",
            "_sre                flatbuffers         packaging           tblib\n",
            "_ssl                fnmatch             palettable          telnetlib\n",
            "_stat               folium              pandas              tempfile\n",
            "_string             formatter           pandas_datareader   tensorboard\n",
            "_strptime           fractions           pandas_gbq          tensorboard_data_server\n",
            "_struct             ftplib              pandas_profiling    tensorboard_plugin_wit\n",
            "_symtable           functools           pandocfilters       tensorflow\n",
            "_sysconfigdata_m_linux_x86_64-linux-gnu future              panel               tensorflow_datasets\n",
            "_testbuffer         gast                param               tensorflow_estimator\n",
            "_testcapi           gc                  parser              tensorflow_gcs_config\n",
            "_testimportmultiple gdal                parso               tensorflow_hub\n",
            "_testmultiphase     gdalconst           past                tensorflow_io_gcs_filesystem\n",
            "_thread             gdalnumeric         pasta               tensorflow_metadata\n",
            "_threading_local    gdown               pathlib             tensorflow_probability\n",
            "_tkinter            genericpath         patsy               termcolor\n",
            "_tracemalloc        gensim              pdb                 terminado\n",
            "_warnings           geographiclib       pep517              termios\n",
            "_weakref            geopy               pexpect             test\n",
            "_weakrefset         getopt              pickle              testpath\n",
            "_xxtestfuzz         getpass             pickleshare         tests\n",
            "abc                 gettext             pickletools         text_unidecode\n",
            "absl                gi                  pip                 textblob\n",
            "aifc                gin                 pipes               textwrap\n",
            "alabaster           github2pypi         piptools            theano\n",
            "albumentations      glob                pkg_resources       thinc\n",
            "altair              glob2               pkgutil             this\n",
            "antigravity         gnm                 plac                threading\n",
            "apiclient           google_auth_httplib2 plac_core           threadpoolctl\n",
            "appdirs             google_auth_oauthlib plac_ext            tifffile\n",
            "apt                 google_drive_downloader plac_tk             time\n",
            "apt_inst            googleapiclient     platform            timeit\n",
            "apt_pkg             googlesearch        plistlib            tkinter\n",
            "aptsources          graphviz            plotly              tlz\n",
            "argcomplete         greenlet            plotlywidget        token\n",
            "argon2              gridfs              plotnine            tokenize\n",
            "argparse            grp                 pluggy              toml\n",
            "array               grpc                pooch               tomli\n",
            "arviz               gspread             poplib              toolz\n",
            "ast                 gspread_dataframe   portpicker          torch\n",
            "astor               gym                 posix               torchaudio\n",
            "astropy             gzip                posixpath           torchsummary\n",
            "astunparse          h5py                pprint              torchtext\n",
            "asynchat            hashlib             prefetch_generator  torchvision\n",
            "asyncio             heapdict            preshed             tornado\n",
            "asyncore            heapq               prettytable         tqdm\n",
            "atari_py            hijri_converter     profile             trace\n",
            "atexit              hmac                progressbar         traceback\n",
            "atomicwrites        holidays            prometheus_client   tracemalloc\n",
            "attr                holoviews           promise             traitlets\n",
            "audioop             html                prompt_toolkit      tree\n",
            "audioread           html5lib            pstats              tty\n",
            "autograd            http                psutil              turtle\n",
            "autoreload          httpimport          psycopg2            tweepy\n",
            "babel               httplib2            pty                 typeguard\n",
            "backcall            httplib2shim        ptyprocess          types\n",
            "base64              humanize            pvectorc            typing\n",
            "bdb                 hyperopt            pwd                 typing_extensions\n",
            "bin                 ideep4py            py                  tzlocal\n",
            "binascii            idna                py_compile          unicodedata\n",
            "binhex              imageio             pyarrow             unittest\n",
            "bisect              imagesize           pyasn1              uritemplate\n",
            "bleach              imaplib             pyasn1_modules      urllib\n",
            "blis                imblearn            pyclbr              urllib3\n",
            "bokeh               imgaug              pycocotools         uu\n",
            "boost               imghdr              pycparser           uuid\n",
            "bottleneck          imp                 pyct                vega_datasets\n",
            "branca              importlib           pydata_google_auth  venv\n",
            "bs4                 importlib_metadata  pydoc               vis\n",
            "bson                importlib_resources pydoc_data          warnings\n",
            "builtins            imutils             pydot               wasabi\n",
            "bz2                 inflect             pydot_ng            wave\n",
            "cProfile            iniconfig           pydotplus           wcwidth\n",
            "cachecontrol        inspect             pydrive             weakref\n",
            "cached_property     intervaltree        pyemd               webbrowser\n",
            "cachetools          io                  pyexpat             webencodings\n",
            "caffe2              ipaddress           pyglet              werkzeug\n",
            "calendar            ipykernel           pygments            wheel\n",
            "catalogue           ipykernel_launcher  pygtkcompat         widgetsnbextension\n",
            "certifi             ipython_genutils    pylab               wordcloud\n",
            "cffi                ipywidgets          pymc3               wrapt\n",
            "cftime              isympy              pymeeus             wsgiref\n",
            "cgi                 itertools           pymongo             xarray\n",
            "cgitb               itsdangerous        pymystem3           xdrlib\n",
            "chardet             jax                 pynvml              xgboost\n",
            "charset_normalizer  jaxlib              pyparsing           xkit\n",
            "chess               jdcal               pyrsistent          xlrd\n",
            "chunk               jedi                pysndfile           xlwt\n",
            "clang               jieba               pystan              xml\n",
            "click               jinja2              pytest              xmlrpc\n",
            "client              joblib              python_utils        xxlimited\n",
            "cloudpickle         jpeg4py             pytz                xxsubtype\n",
            "cmake               json                pyviz_comms         yaml\n",
            "cmath               jsonschema          pywt                yellowbrick\n",
            "cmd                 jupyter             pyximport           zict\n",
            "cmdstanpy           jupyter_client      qdldl               zipapp\n",
            "code                jupyter_console     qtconsole           zipfile\n",
            "codecs              jupyter_core        qtpy                zipimport\n",
            "codeop              jupyterlab_pygments queue               zipp\n",
            "colab               jupyterlab_widgets  quopri              zlib\n",
            "collections         kaggle              random              zmq\n",
            "colorcet            kapre               re                  \n",
            "\n",
            "Enter any module name to get more help.  Or, type \"modules spam\" to search\n",
            "for modules whose name or summary contain the string \"spam\".\n",
            "\n"
          ]
        }
      ],
      "source": [
        "help(\"modules\")"
      ]
    },
    {
      "cell_type": "code",
      "execution_count": 73,
      "metadata": {
        "id": "DGfI_lwBGJ5g"
      },
      "outputs": [],
      "source": [
        "import math"
      ]
    },
    {
      "cell_type": "code",
      "execution_count": 74,
      "metadata": {
        "colab": {
          "base_uri": "https://localhost:8080/"
        },
        "id": "ikOfplBmGJ5g",
        "outputId": "c2c285d8-8154-4578-ec05-fd1554b38499"
      },
      "outputs": [
        {
          "output_type": "stream",
          "name": "stdout",
          "text": [
            "Pi:  3.141592653589793\n"
          ]
        }
      ],
      "source": [
        "print(\"Pi: \", math.pi)"
      ]
    },
    {
      "cell_type": "code",
      "execution_count": 75,
      "metadata": {
        "colab": {
          "base_uri": "https://localhost:8080/"
        },
        "id": "x4vHXS7QGJ5g",
        "outputId": "09b8e4c1-1dcb-45e2-ea49-4e09f16e850a"
      },
      "outputs": [
        {
          "output_type": "stream",
          "name": "stdout",
          "text": [
            "e:  2.718281828459045\n"
          ]
        }
      ],
      "source": [
        "print(\"e: \", math.e)"
      ]
    },
    {
      "cell_type": "code",
      "execution_count": 76,
      "metadata": {
        "colab": {
          "base_uri": "https://localhost:8080/"
        },
        "id": "ETDVKj8lGJ5g",
        "outputId": "404ec33c-1920-41cd-dc0e-881e41201c20"
      },
      "outputs": [
        {
          "output_type": "execute_result",
          "data": {
            "text/plain": [
              "9"
            ]
          },
          "metadata": {},
          "execution_count": 76
        }
      ],
      "source": [
        "math.ceil(8.1)"
      ]
    },
    {
      "cell_type": "code",
      "execution_count": 77,
      "metadata": {
        "colab": {
          "base_uri": "https://localhost:8080/"
        },
        "id": "u1gCndm2GJ5g",
        "outputId": "a272491a-c53e-4c86-d067-3f7de68b95b9"
      },
      "outputs": [
        {
          "output_type": "execute_result",
          "data": {
            "text/plain": [
              "8"
            ]
          },
          "metadata": {},
          "execution_count": 77
        }
      ],
      "source": [
        "math.floor(8.1)"
      ]
    },
    {
      "cell_type": "code",
      "execution_count": 78,
      "metadata": {
        "colab": {
          "base_uri": "https://localhost:8080/"
        },
        "id": "1WDlXVpgGJ5g",
        "outputId": "9e5408ea-a62a-4f9e-9ac3-c55a795b971e"
      },
      "outputs": [
        {
          "output_type": "execute_result",
          "data": {
            "text/plain": [
              "16.0"
            ]
          },
          "metadata": {},
          "execution_count": 78
        }
      ],
      "source": [
        "math.pow(2, 4)"
      ]
    },
    {
      "cell_type": "code",
      "execution_count": 79,
      "metadata": {
        "colab": {
          "base_uri": "https://localhost:8080/"
        },
        "id": "aaFUbRsQGJ5h",
        "outputId": "19b1c406-b189-426d-a6f2-e4a5f8488b4d"
      },
      "outputs": [
        {
          "output_type": "execute_result",
          "data": {
            "text/plain": [
              "4.898979485566356"
            ]
          },
          "metadata": {},
          "execution_count": 79
        }
      ],
      "source": [
        "math.sqrt(24)"
      ]
    },
    {
      "cell_type": "code",
      "execution_count": 80,
      "metadata": {
        "colab": {
          "base_uri": "https://localhost:8080/"
        },
        "id": "M__t6MfqGJ5h",
        "outputId": "4dee2fe2-8c95-4a51-fcbd-4f5679dba499"
      },
      "outputs": [
        {
          "output_type": "execute_result",
          "data": {
            "text/plain": [
              "720"
            ]
          },
          "metadata": {},
          "execution_count": 80
        }
      ],
      "source": [
        "math.factorial(6)"
      ]
    },
    {
      "cell_type": "code",
      "execution_count": 81,
      "metadata": {
        "id": "caLMceWCGJ5h"
      },
      "outputs": [],
      "source": [
        "import os"
      ]
    },
    {
      "cell_type": "code",
      "execution_count": 82,
      "metadata": {
        "colab": {
          "base_uri": "https://localhost:8080/",
          "height": 35
        },
        "id": "-eChPC7XGJ5h",
        "outputId": "b6c73bec-4490-416f-cbfa-758bbc30a460"
      },
      "outputs": [
        {
          "output_type": "execute_result",
          "data": {
            "application/vnd.google.colaboratory.intrinsic+json": {
              "type": "string"
            },
            "text/plain": [
              "'/content'"
            ]
          },
          "metadata": {},
          "execution_count": 82
        }
      ],
      "source": [
        "os.getcwd()"
      ]
    },
    {
      "cell_type": "code",
      "execution_count": 83,
      "metadata": {
        "colab": {
          "base_uri": "https://localhost:8080/"
        },
        "id": "kUwjNd7fGJ5h",
        "outputId": "ef171333-e29f-43c4-dcf9-afbcf91c2096"
      },
      "outputs": [
        {
          "output_type": "execute_result",
          "data": {
            "text/plain": [
              "environ({'NO_GCE_CHECK': 'True', 'GCS_READ_CACHE_BLOCK_SIZE_MB': '16', 'CLOUDSDK_CONFIG': '/content/.config', 'CUDA_VERSION': '11.1.1', 'PATH': '/usr/local/nvidia/bin:/usr/local/cuda/bin:/usr/local/sbin:/usr/local/bin:/usr/sbin:/usr/bin:/sbin:/bin:/tools/node/bin:/tools/google-cloud-sdk/bin:/opt/bin', 'HOME': '/root', 'LD_LIBRARY_PATH': '/usr/local/nvidia/lib:/usr/local/nvidia/lib64', 'LANG': 'en_US.UTF-8', 'SHELL': '/bin/bash', 'LIBRARY_PATH': '/usr/local/cuda/lib64/stubs', 'SHLVL': '0', 'GCE_METADATA_TIMEOUT': '0', 'NCCL_VERSION': '2.7.8', 'NVIDIA_VISIBLE_DEVICES': 'all', 'DEBIAN_FRONTEND': 'noninteractive', 'CUDNN_VERSION': '8.0.5.39', 'LAST_FORCED_REBUILD': '20211202', 'JPY_PARENT_PID': '45', 'PYTHONPATH': '/env/python', 'DATALAB_SETTINGS_OVERRIDES': '{\"kernelManagerProxyPort\":6000,\"kernelManagerProxyHost\":\"172.28.0.3\",\"jupyterArgs\":[\"--ip=\\\\\"172.28.0.2\\\\\"\"],\"debugAdapterMultiplexerPath\":\"/usr/local/bin/dap_multiplexer\",\"enableLsp\":true}', 'ENV': '/root/.bashrc', 'GLIBCXX_FORCE_NEW': '1', 'NVIDIA_DRIVER_CAPABILITIES': 'compute,utility', 'TF_FORCE_GPU_ALLOW_GROWTH': 'true', 'LD_PRELOAD': '/usr/lib/x86_64-linux-gnu/libtcmalloc.so.4', 'PYTHONWARNINGS': 'ignore:::pip._internal.cli.base_command', 'NVIDIA_REQUIRE_CUDA': 'cuda>=11.1 brand=tesla,driver>=418,driver<419 brand=tesla,driver>=440,driver<441 brand=tesla,driver>=450,driver<451', 'OLDPWD': '/', 'HOSTNAME': '2304d1501c51', 'COLAB_GPU': '0', 'PWD': '/', 'CLOUDSDK_PYTHON': 'python3', 'GLIBCPP_FORCE_NEW': '1', 'TBE_EPHEM_CREDS_ADDR': '172.28.0.1:8009', 'TBE_CREDS_ADDR': '172.28.0.1:8008', 'TERM': 'xterm-color', 'CLICOLOR': '1', 'PAGER': 'cat', 'GIT_PAGER': 'cat', 'MPLBACKEND': 'module://ipykernel.pylab.backend_inline', 'ENABLE_DIRECTORYPREFETCHER': '1', 'USE_EPHEM': '1', 'PYDEVD_USE_FRAME_EVAL': 'NO', 'KMP_DUPLICATE_LIB_OK': 'True', 'KMP_INIT_AT_FORK': 'FALSE', 'TF2_BEHAVIOR': '1', 'TF_CPP_MIN_LOG_LEVEL': '1', 'QT_API': 'pyside', 'R_HOME': '/usr/lib/R'})"
            ]
          },
          "metadata": {},
          "execution_count": 83
        }
      ],
      "source": [
        "os.environ"
      ]
    },
    {
      "cell_type": "code",
      "execution_count": 84,
      "metadata": {
        "colab": {
          "base_uri": "https://localhost:8080/",
          "height": 322
        },
        "id": "hrIiltVTGJ5h",
        "outputId": "5f40fe18-3662-4ae1-fde0-d010782095c6"
      },
      "outputs": [
        {
          "output_type": "error",
          "ename": "KeyError",
          "evalue": "ignored",
          "traceback": [
            "\u001b[0;31m---------------------------------------------------------------------------\u001b[0m",
            "\u001b[0;31mKeyError\u001b[0m                                  Traceback (most recent call last)",
            "\u001b[0;32m<ipython-input-84-8d011c0b76d8>\u001b[0m in \u001b[0;36m<module>\u001b[0;34m()\u001b[0m\n\u001b[0;32m----> 1\u001b[0;31m \u001b[0muser\u001b[0m \u001b[0;34m=\u001b[0m \u001b[0mos\u001b[0m\u001b[0;34m.\u001b[0m\u001b[0menviron\u001b[0m\u001b[0;34m[\u001b[0m\u001b[0;34m\"USER\"\u001b[0m\u001b[0;34m]\u001b[0m\u001b[0;34m\u001b[0m\u001b[0;34m\u001b[0m\u001b[0m\n\u001b[0m\u001b[1;32m      2\u001b[0m \u001b[0;34m\u001b[0m\u001b[0m\n\u001b[1;32m      3\u001b[0m \u001b[0mprint\u001b[0m\u001b[0;34m(\u001b[0m\u001b[0;34m\"User: \"\u001b[0m\u001b[0;34m,\u001b[0m \u001b[0muser\u001b[0m\u001b[0;34m)\u001b[0m\u001b[0;34m\u001b[0m\u001b[0;34m\u001b[0m\u001b[0m\n",
            "\u001b[0;32m/usr/lib/python3.7/os.py\u001b[0m in \u001b[0;36m__getitem__\u001b[0;34m(self, key)\u001b[0m\n\u001b[1;32m    679\u001b[0m         \u001b[0;32mexcept\u001b[0m \u001b[0mKeyError\u001b[0m\u001b[0;34m:\u001b[0m\u001b[0;34m\u001b[0m\u001b[0;34m\u001b[0m\u001b[0m\n\u001b[1;32m    680\u001b[0m             \u001b[0;31m# raise KeyError with the original key value\u001b[0m\u001b[0;34m\u001b[0m\u001b[0;34m\u001b[0m\u001b[0;34m\u001b[0m\u001b[0m\n\u001b[0;32m--> 681\u001b[0;31m             \u001b[0;32mraise\u001b[0m \u001b[0mKeyError\u001b[0m\u001b[0;34m(\u001b[0m\u001b[0mkey\u001b[0m\u001b[0;34m)\u001b[0m \u001b[0;32mfrom\u001b[0m \u001b[0;32mNone\u001b[0m\u001b[0;34m\u001b[0m\u001b[0;34m\u001b[0m\u001b[0m\n\u001b[0m\u001b[1;32m    682\u001b[0m         \u001b[0;32mreturn\u001b[0m \u001b[0mself\u001b[0m\u001b[0;34m.\u001b[0m\u001b[0mdecodevalue\u001b[0m\u001b[0;34m(\u001b[0m\u001b[0mvalue\u001b[0m\u001b[0;34m)\u001b[0m\u001b[0;34m\u001b[0m\u001b[0;34m\u001b[0m\u001b[0m\n\u001b[1;32m    683\u001b[0m \u001b[0;34m\u001b[0m\u001b[0m\n",
            "\u001b[0;31mKeyError\u001b[0m: 'USER'"
          ]
        }
      ],
      "source": [
        "user = os.environ[\"USER\"] \n",
        "\n",
        "print(\"User: \", user)"
      ]
    },
    {
      "cell_type": "code",
      "execution_count": 85,
      "metadata": {
        "colab": {
          "base_uri": "https://localhost:8080/"
        },
        "id": "EM4jzSjIGJ5h",
        "outputId": "78d18201-c149-48dd-f130-865713adf5c4"
      },
      "outputs": [
        {
          "output_type": "stream",
          "name": "stdout",
          "text": [
            "Path:  /usr/local/nvidia/bin:/usr/local/cuda/bin:/usr/local/sbin:/usr/local/bin:/usr/sbin:/usr/bin:/sbin:/bin:/tools/node/bin:/tools/google-cloud-sdk/bin:/opt/bin\n"
          ]
        }
      ],
      "source": [
        "path = os.environ[\"PATH\"] \n",
        "\n",
        "print(\"Path: \", path)"
      ]
    },
    {
      "cell_type": "code",
      "execution_count": 86,
      "metadata": {
        "colab": {
          "base_uri": "https://localhost:8080/"
        },
        "id": "FhLJkcHFGJ5i",
        "outputId": "d04d9352-9fae-4a70-f893-ce90775e6678"
      },
      "outputs": [
        {
          "output_type": "execute_result",
          "data": {
            "text/plain": [
              "['.config', 'sample_data']"
            ]
          },
          "metadata": {},
          "execution_count": 86
        }
      ],
      "source": [
        "os.listdir()"
      ]
    },
    {
      "cell_type": "code",
      "execution_count": 87,
      "metadata": {
        "id": "PSDXaR0dGJ5i"
      },
      "outputs": [],
      "source": [
        "os.mkdir(\"./my_temp_dir\")"
      ]
    },
    {
      "cell_type": "code",
      "execution_count": 88,
      "metadata": {
        "colab": {
          "base_uri": "https://localhost:8080/"
        },
        "id": "jad5jl9TGJ5i",
        "outputId": "b9cc255c-f83a-4fb6-9611-b71cb6ae94f9"
      },
      "outputs": [
        {
          "output_type": "execute_result",
          "data": {
            "text/plain": [
              "['.config', 'my_temp_dir', 'sample_data']"
            ]
          },
          "metadata": {},
          "execution_count": 88
        }
      ],
      "source": [
        "os.listdir(\".\")"
      ]
    },
    {
      "cell_type": "code",
      "execution_count": 89,
      "metadata": {
        "id": "cgCKQYNqGJ5i"
      },
      "outputs": [],
      "source": [
        "os.rename(\"my_temp_dir\", \"my_new_dir\")"
      ]
    },
    {
      "cell_type": "code",
      "execution_count": 90,
      "metadata": {
        "colab": {
          "base_uri": "https://localhost:8080/"
        },
        "id": "kZV0EMeGGJ5i",
        "outputId": "435ff5d9-f4e6-4ca8-ba9b-d74e6dfed3ea"
      },
      "outputs": [
        {
          "output_type": "execute_result",
          "data": {
            "text/plain": [
              "['.config', 'my_new_dir', 'sample_data']"
            ]
          },
          "metadata": {},
          "execution_count": 90
        }
      ],
      "source": [
        "os.listdir(\".\")"
      ]
    },
    {
      "cell_type": "code",
      "execution_count": 91,
      "metadata": {
        "id": "mcZbDo9xGJ5i"
      },
      "outputs": [],
      "source": [
        "os.rmdir(\"my_new_dir\")"
      ]
    },
    {
      "cell_type": "code",
      "execution_count": 92,
      "metadata": {
        "colab": {
          "base_uri": "https://localhost:8080/"
        },
        "id": "hNtOCHgVGJ5i",
        "outputId": "4da2a245-3eb2-416f-be8e-04b6f07ab251"
      },
      "outputs": [
        {
          "output_type": "execute_result",
          "data": {
            "text/plain": [
              "['.config', 'sample_data']"
            ]
          },
          "metadata": {},
          "execution_count": 92
        }
      ],
      "source": [
        "os.listdir(\".\")"
      ]
    },
    {
      "cell_type": "code",
      "execution_count": 93,
      "metadata": {
        "id": "kDbCCmc1GJ5i"
      },
      "outputs": [],
      "source": [
        "os.mkdir(\"./my_temp_dir\")"
      ]
    },
    {
      "cell_type": "code",
      "execution_count": 94,
      "metadata": {
        "colab": {
          "base_uri": "https://localhost:8080/",
          "height": 35
        },
        "id": "8h0EoMQpGJ5j",
        "outputId": "58d862f8-2db2-44e9-e6d1-7c05405e6069"
      },
      "outputs": [
        {
          "output_type": "execute_result",
          "data": {
            "application/vnd.google.colaboratory.intrinsic+json": {
              "type": "string"
            },
            "text/plain": [
              "'/content'"
            ]
          },
          "metadata": {},
          "execution_count": 94
        }
      ],
      "source": [
        "cwd = os.getcwd()\n",
        "\n",
        "cwd"
      ]
    },
    {
      "cell_type": "code",
      "execution_count": 95,
      "metadata": {
        "colab": {
          "base_uri": "https://localhost:8080/"
        },
        "id": "Aea2QjIKGJ5j",
        "outputId": "1ec3698b-33a4-4e0f-b5d6-0239e62c92c6"
      },
      "outputs": [
        {
          "output_type": "execute_result",
          "data": {
            "text/plain": [
              "True"
            ]
          },
          "metadata": {},
          "execution_count": 95
        }
      ],
      "source": [
        "os.path.isdir(cwd)"
      ]
    },
    {
      "cell_type": "code",
      "execution_count": 96,
      "metadata": {
        "colab": {
          "base_uri": "https://localhost:8080/"
        },
        "id": "4nhPy1GJGJ5j",
        "outputId": "336c126e-9fba-4bdd-9f9d-b2bb04c52f02"
      },
      "outputs": [
        {
          "output_type": "execute_result",
          "data": {
            "text/plain": [
              "False"
            ]
          },
          "metadata": {},
          "execution_count": 96
        }
      ],
      "source": [
        "os.path.isfile(cwd)"
      ]
    },
    {
      "cell_type": "code",
      "execution_count": 97,
      "metadata": {
        "id": "704nlCS7GJ5j"
      },
      "outputs": [],
      "source": [
        "from os import path"
      ]
    },
    {
      "cell_type": "code",
      "execution_count": 98,
      "metadata": {
        "colab": {
          "base_uri": "https://localhost:8080/"
        },
        "id": "OPbtgP5ZGJ5j",
        "outputId": "6857a595-6484-4dbd-ae75-bc154ac575d4"
      },
      "outputs": [
        {
          "output_type": "execute_result",
          "data": {
            "text/plain": [
              "True"
            ]
          },
          "metadata": {},
          "execution_count": 98
        }
      ],
      "source": [
        "path.isdir(cwd)"
      ]
    },
    {
      "cell_type": "code",
      "execution_count": 99,
      "metadata": {
        "colab": {
          "base_uri": "https://localhost:8080/"
        },
        "id": "3prWUcXcGJ5j",
        "outputId": "d90343b6-8d77-4981-c357-6c3889b9554a"
      },
      "outputs": [
        {
          "output_type": "execute_result",
          "data": {
            "text/plain": [
              "False"
            ]
          },
          "metadata": {},
          "execution_count": 99
        }
      ],
      "source": [
        "path.isfile(cwd)"
      ]
    },
    {
      "cell_type": "code",
      "execution_count": 100,
      "metadata": {
        "colab": {
          "base_uri": "https://localhost:8080/"
        },
        "id": "9KlfOR3RGJ5j",
        "outputId": "67749df8-44cf-4707-ac63-0308cc307bd3"
      },
      "outputs": [
        {
          "output_type": "execute_result",
          "data": {
            "text/plain": [
              "True"
            ]
          },
          "metadata": {},
          "execution_count": 100
        }
      ],
      "source": [
        "path.exists(\"my_temp_dir\")"
      ]
    },
    {
      "cell_type": "code",
      "execution_count": 101,
      "metadata": {
        "colab": {
          "base_uri": "https://localhost:8080/"
        },
        "id": "bs_PlubhGJ5j",
        "outputId": "3e01fe67-4816-4f41-8753-bb22fabee87e"
      },
      "outputs": [
        {
          "output_type": "execute_result",
          "data": {
            "text/plain": [
              "False"
            ]
          },
          "metadata": {},
          "execution_count": 101
        }
      ],
      "source": [
        "path.exists(\"random_dir\")"
      ]
    },
    {
      "cell_type": "code",
      "execution_count": 102,
      "metadata": {
        "id": "fpuxzuDnGJ5k"
      },
      "outputs": [],
      "source": [
        "import random"
      ]
    },
    {
      "cell_type": "code",
      "execution_count": 103,
      "metadata": {
        "colab": {
          "base_uri": "https://localhost:8080/"
        },
        "id": "OvxYkYwKGJ5k",
        "outputId": "e9f91773-9845-4eea-fb08-cbee474692d6"
      },
      "outputs": [
        {
          "output_type": "execute_result",
          "data": {
            "text/plain": [
              "0.15777101468293353"
            ]
          },
          "metadata": {},
          "execution_count": 103
        }
      ],
      "source": [
        "random.random()"
      ]
    },
    {
      "cell_type": "code",
      "execution_count": 104,
      "metadata": {
        "colab": {
          "base_uri": "https://localhost:8080/"
        },
        "id": "nf_8SqcAGJ5k",
        "outputId": "b6a1b9e6-e2f7-4802-bad9-251657734537"
      },
      "outputs": [
        {
          "output_type": "execute_result",
          "data": {
            "text/plain": [
              "0.4282832179982289"
            ]
          },
          "metadata": {},
          "execution_count": 104
        }
      ],
      "source": [
        "random.random()"
      ]
    },
    {
      "cell_type": "code",
      "execution_count": 105,
      "metadata": {
        "colab": {
          "base_uri": "https://localhost:8080/"
        },
        "id": "9Qq_KNl0GJ5k",
        "outputId": "a72449c5-3e69-45e9-8d96-3abfe35aa70a"
      },
      "outputs": [
        {
          "output_type": "execute_result",
          "data": {
            "text/plain": [
              "9"
            ]
          },
          "metadata": {},
          "execution_count": 105
        }
      ],
      "source": [
        "random.randint(0, 10)"
      ]
    },
    {
      "cell_type": "code",
      "execution_count": 106,
      "metadata": {
        "colab": {
          "base_uri": "https://localhost:8080/"
        },
        "id": "H7GBW1rnGJ5k",
        "outputId": "0f30ac2a-ca85-4e1d-995c-3b17dc93ceee"
      },
      "outputs": [
        {
          "output_type": "execute_result",
          "data": {
            "text/plain": [
              "10"
            ]
          },
          "metadata": {},
          "execution_count": 106
        }
      ],
      "source": [
        "random.randint(0, 10)"
      ]
    },
    {
      "cell_type": "code",
      "execution_count": 107,
      "metadata": {
        "colab": {
          "base_uri": "https://localhost:8080/"
        },
        "id": "MhQkKmnEGJ5k",
        "outputId": "9f9f3e7b-b881-44ed-e6cf-5dd1705c3451"
      },
      "outputs": [
        {
          "output_type": "execute_result",
          "data": {
            "text/plain": [
              "0"
            ]
          },
          "metadata": {},
          "execution_count": 107
        }
      ],
      "source": [
        "random.randint(0, 10)"
      ]
    },
    {
      "cell_type": "code",
      "execution_count": 108,
      "metadata": {
        "id": "xF3zGJjhGJ5k"
      },
      "outputs": [],
      "source": [
        "my_list = [\"John\", \"Roy\", True, 34, \"Rose\", 12.9]"
      ]
    },
    {
      "cell_type": "code",
      "execution_count": 109,
      "metadata": {
        "colab": {
          "base_uri": "https://localhost:8080/",
          "height": 35
        },
        "id": "Oht-PCJHGJ5k",
        "outputId": "0fb85042-125e-4946-8a68-9d4bbb6c065d"
      },
      "outputs": [
        {
          "output_type": "execute_result",
          "data": {
            "application/vnd.google.colaboratory.intrinsic+json": {
              "type": "string"
            },
            "text/plain": [
              "'Roy'"
            ]
          },
          "metadata": {},
          "execution_count": 109
        }
      ],
      "source": [
        "random.choice(my_list)"
      ]
    },
    {
      "cell_type": "code",
      "execution_count": 110,
      "metadata": {
        "colab": {
          "base_uri": "https://localhost:8080/",
          "height": 35
        },
        "id": "gmY9bMmKGJ5k",
        "outputId": "e504fc15-50a5-456a-f4f1-bddcec6a5db9"
      },
      "outputs": [
        {
          "output_type": "execute_result",
          "data": {
            "application/vnd.google.colaboratory.intrinsic+json": {
              "type": "string"
            },
            "text/plain": [
              "'John'"
            ]
          },
          "metadata": {},
          "execution_count": 110
        }
      ],
      "source": [
        "random.choice(my_list)"
      ]
    },
    {
      "cell_type": "code",
      "execution_count": 111,
      "metadata": {
        "colab": {
          "base_uri": "https://localhost:8080/",
          "height": 35
        },
        "id": "vapcQlgNGJ5k",
        "outputId": "0ef47087-1393-45c8-bc64-d5aebb686f55"
      },
      "outputs": [
        {
          "output_type": "execute_result",
          "data": {
            "application/vnd.google.colaboratory.intrinsic+json": {
              "type": "string"
            },
            "text/plain": [
              "'Rose'"
            ]
          },
          "metadata": {},
          "execution_count": 111
        }
      ],
      "source": [
        "random.choice(my_list)"
      ]
    },
    {
      "cell_type": "code",
      "execution_count": 112,
      "metadata": {
        "id": "qGx2Uep4GJ5l"
      },
      "outputs": [],
      "source": [
        "import datetime"
      ]
    },
    {
      "cell_type": "code",
      "execution_count": 113,
      "metadata": {
        "colab": {
          "base_uri": "https://localhost:8080/"
        },
        "id": "98P6QqNRGJ5l",
        "outputId": "d3871b3e-78d3-4e6b-886e-bf207fd379f7"
      },
      "outputs": [
        {
          "output_type": "execute_result",
          "data": {
            "text/plain": [
              "datetime.date(2021, 12, 28)"
            ]
          },
          "metadata": {},
          "execution_count": 113
        }
      ],
      "source": [
        "datetime.date.today()"
      ]
    },
    {
      "cell_type": "code",
      "execution_count": 114,
      "metadata": {
        "colab": {
          "base_uri": "https://localhost:8080/"
        },
        "id": "EhwsVWwWGJ5l",
        "outputId": "a9cdad6f-a5f8-4eed-bd7a-dfb017956ff5"
      },
      "outputs": [
        {
          "output_type": "execute_result",
          "data": {
            "text/plain": [
              "datetime.datetime(2021, 12, 28, 9, 8, 51, 215471)"
            ]
          },
          "metadata": {},
          "execution_count": 114
        }
      ],
      "source": [
        "datetime.datetime.now()"
      ]
    },
    {
      "cell_type": "code",
      "execution_count": null,
      "metadata": {
        "id": "Vs_10ZvuGJ5l"
      },
      "outputs": [],
      "source": [
        ""
      ]
    },
    {
      "cell_type": "code",
      "source": [
        ""
      ],
      "metadata": {
        "id": "UM-BpqzHTsyx"
      },
      "execution_count": null,
      "outputs": []
    },
    {
      "cell_type": "code",
      "source": [
        ""
      ],
      "metadata": {
        "id": "Po2TXXMTTtMQ"
      },
      "execution_count": null,
      "outputs": []
    },
    {
      "cell_type": "code",
      "execution_count": 115,
      "metadata": {
        "id": "pmM3yk71GJ5s"
      },
      "outputs": [],
      "source": [
        "def hello(name):\n",
        "    print(\"Hello!\", name)"
      ]
    },
    {
      "cell_type": "code",
      "execution_count": 116,
      "metadata": {
        "colab": {
          "base_uri": "https://localhost:8080/"
        },
        "id": "SEUPSkS7GJ5s",
        "outputId": "a36c1f19-601b-4f6c-e54b-c85f757177b2"
      },
      "outputs": [
        {
          "output_type": "stream",
          "name": "stdout",
          "text": [
            "Hello! Bruce\n"
          ]
        }
      ],
      "source": [
        "hello(\"Bruce\")"
      ]
    },
    {
      "cell_type": "code",
      "execution_count": 117,
      "metadata": {
        "colab": {
          "base_uri": "https://localhost:8080/"
        },
        "id": "WWkzdAgaGJ5s",
        "outputId": "1f98cc47-74ee-4e7c-acd9-9db06ed132ac"
      },
      "outputs": [
        {
          "output_type": "execute_result",
          "data": {
            "text/plain": [
              "<function __main__.hello>"
            ]
          },
          "metadata": {},
          "execution_count": 117
        }
      ],
      "source": [
        "hello"
      ]
    },
    {
      "cell_type": "code",
      "execution_count": 118,
      "metadata": {
        "id": "2VFrHPejGJ5s"
      },
      "outputs": [],
      "source": [
        "greet = hello"
      ]
    },
    {
      "cell_type": "code",
      "execution_count": 119,
      "metadata": {
        "colab": {
          "base_uri": "https://localhost:8080/"
        },
        "id": "sfUl5hbGGJ5s",
        "outputId": "9098e6c9-eb09-4cdc-da83-c38d7c13a0cb"
      },
      "outputs": [
        {
          "output_type": "stream",
          "name": "stdout",
          "text": [
            "Hello! Tom\n"
          ]
        }
      ],
      "source": [
        "greet(\"Tom\")"
      ]
    },
    {
      "cell_type": "code",
      "execution_count": 120,
      "metadata": {
        "id": "AiLMA-goGJ5s"
      },
      "outputs": [],
      "source": [
        "calculate_length = len"
      ]
    },
    {
      "cell_type": "code",
      "execution_count": 121,
      "metadata": {
        "colab": {
          "base_uri": "https://localhost:8080/"
        },
        "id": "JCnpTER5GJ5s",
        "outputId": "bf82ce29-14bc-40df-e3dc-ec40e991c95a"
      },
      "outputs": [
        {
          "output_type": "execute_result",
          "data": {
            "text/plain": [
              "10"
            ]
          },
          "metadata": {},
          "execution_count": 121
        }
      ],
      "source": [
        "calculate_length(\"SomeString\")"
      ]
    },
    {
      "cell_type": "code",
      "execution_count": 122,
      "metadata": {
        "colab": {
          "base_uri": "https://localhost:8080/"
        },
        "id": "xp6COauLGJ5t",
        "outputId": "d95bd25f-ebae-48d9-e5ac-d77c241f9a02"
      },
      "outputs": [
        {
          "output_type": "execute_result",
          "data": {
            "text/plain": [
              "True"
            ]
          },
          "metadata": {},
          "execution_count": 122
        }
      ],
      "source": [
        "calculate_length == len"
      ]
    },
    {
      "cell_type": "code",
      "execution_count": 123,
      "metadata": {
        "colab": {
          "base_uri": "https://localhost:8080/"
        },
        "id": "vGYcKfwEGJ5t",
        "outputId": "12dd1b3f-35b3-474a-bf1d-927fdbbb4f6e"
      },
      "outputs": [
        {
          "output_type": "execute_result",
          "data": {
            "text/plain": [
              "6"
            ]
          },
          "metadata": {},
          "execution_count": 123
        }
      ],
      "source": [
        "calculate_length([3, 5, 6, 8, 1, 2])"
      ]
    },
    {
      "cell_type": "code",
      "execution_count": 124,
      "metadata": {
        "id": "kl9KDILAGJ5t"
      },
      "outputs": [],
      "source": [
        "import math"
      ]
    },
    {
      "cell_type": "code",
      "execution_count": 125,
      "metadata": {
        "id": "r6w6RRquGJ5t"
      },
      "outputs": [],
      "source": [
        "def area_circle_fn(radius):\n",
        "    \n",
        "    return math.pi * radius * radius"
      ]
    },
    {
      "cell_type": "code",
      "execution_count": 126,
      "metadata": {
        "id": "iXcftu1ZGJ5t"
      },
      "outputs": [],
      "source": [
        "def perimeter_circle_fn(radius):\n",
        "    \n",
        "    return 2 * math.pi * radius"
      ]
    },
    {
      "cell_type": "code",
      "execution_count": 127,
      "metadata": {
        "id": "rMC1erxFGJ5t"
      },
      "outputs": [],
      "source": [
        "def diameter_circle_fn(radius):\n",
        "    \n",
        "    return 2 * radius"
      ]
    },
    {
      "cell_type": "code",
      "execution_count": 128,
      "metadata": {
        "id": "YN5M64m4GJ5t"
      },
      "outputs": [],
      "source": [
        "def calculate_for_circle(radius, fn):\n",
        "    return fn(radius)"
      ]
    },
    {
      "cell_type": "code",
      "execution_count": 129,
      "metadata": {
        "colab": {
          "base_uri": "https://localhost:8080/"
        },
        "id": "YNZbJB0tGJ5u",
        "outputId": "288159ef-bf4d-4fb3-84f3-6d6406c04e72"
      },
      "outputs": [
        {
          "output_type": "execute_result",
          "data": {
            "text/plain": [
              "20"
            ]
          },
          "metadata": {},
          "execution_count": 129
        }
      ],
      "source": [
        "calculate_for_circle(10, diameter_circle_fn)"
      ]
    },
    {
      "cell_type": "code",
      "execution_count": 130,
      "metadata": {
        "colab": {
          "base_uri": "https://localhost:8080/"
        },
        "id": "e91ffYEDGJ5u",
        "outputId": "3f22424b-1eae-437c-9b02-ac032a600cc3"
      },
      "outputs": [
        {
          "output_type": "execute_result",
          "data": {
            "text/plain": [
              "62.83185307179586"
            ]
          },
          "metadata": {},
          "execution_count": 130
        }
      ],
      "source": [
        "calculate_for_circle(10, perimeter_circle_fn)"
      ]
    },
    {
      "cell_type": "code",
      "execution_count": 131,
      "metadata": {
        "colab": {
          "base_uri": "https://localhost:8080/"
        },
        "id": "tXNSWUC8GJ5u",
        "outputId": "9c259f9b-b22b-4ecc-89b7-11588c1cb14a"
      },
      "outputs": [
        {
          "output_type": "execute_result",
          "data": {
            "text/plain": [
              "314.1592653589793"
            ]
          },
          "metadata": {},
          "execution_count": 131
        }
      ],
      "source": [
        "calculate_for_circle(10, area_circle_fn)"
      ]
    },
    {
      "cell_type": "code",
      "execution_count": 132,
      "metadata": {
        "colab": {
          "base_uri": "https://localhost:8080/"
        },
        "id": "tekmKhHrGJ5u",
        "outputId": "5069211f-4655-4156-8434-5b3d4282b4d1"
      },
      "outputs": [
        {
          "output_type": "execute_result",
          "data": {
            "text/plain": [
              "125.66370614359172"
            ]
          },
          "metadata": {},
          "execution_count": 132
        }
      ],
      "source": [
        "calculate_for_circle(20, perimeter_circle_fn)"
      ]
    },
    {
      "cell_type": "code",
      "execution_count": 133,
      "metadata": {
        "id": "Qpi6GUVpGJ5u"
      },
      "outputs": [],
      "source": [
        "def calculate(*args, fn):\n",
        "    return fn(*args)"
      ]
    },
    {
      "cell_type": "code",
      "execution_count": 134,
      "metadata": {
        "colab": {
          "base_uri": "https://localhost:8080/"
        },
        "id": "fs3pzRNdGJ5v",
        "outputId": "d9a686c8-206f-4369-f123-b4448550bf3b"
      },
      "outputs": [
        {
          "output_type": "execute_result",
          "data": {
            "text/plain": [
              "20"
            ]
          },
          "metadata": {},
          "execution_count": 134
        }
      ],
      "source": [
        "calculate(10, fn=diameter_circle_fn)"
      ]
    },
    {
      "cell_type": "code",
      "execution_count": 135,
      "metadata": {
        "colab": {
          "base_uri": "https://localhost:8080/"
        },
        "id": "7kbKzh4AGJ5v",
        "outputId": "73773856-1724-43d7-e83d-d3f96e20c9ec"
      },
      "outputs": [
        {
          "output_type": "execute_result",
          "data": {
            "text/plain": [
              "62.83185307179586"
            ]
          },
          "metadata": {},
          "execution_count": 135
        }
      ],
      "source": [
        "calculate(10, fn=perimeter_circle_fn)"
      ]
    },
    {
      "cell_type": "code",
      "execution_count": 136,
      "metadata": {
        "colab": {
          "base_uri": "https://localhost:8080/"
        },
        "id": "j-M3EZIpGJ5v",
        "outputId": "dd8595ad-6884-413c-b183-aa3e239599da"
      },
      "outputs": [
        {
          "output_type": "execute_result",
          "data": {
            "text/plain": [
              "314.1592653589793"
            ]
          },
          "metadata": {},
          "execution_count": 136
        }
      ],
      "source": [
        "calculate(10, fn=area_circle_fn)"
      ]
    },
    {
      "cell_type": "code",
      "execution_count": 137,
      "metadata": {
        "id": "d0hCjOK9GJ5v"
      },
      "outputs": [],
      "source": [
        "def area_rectangle_fn(length, breadth):\n",
        "    \n",
        "    return length * breadth"
      ]
    },
    {
      "cell_type": "code",
      "execution_count": 138,
      "metadata": {
        "id": "G--Ev819GJ5v"
      },
      "outputs": [],
      "source": [
        "def perimeter_rectangle_fn(length, breadth):\n",
        "    \n",
        "    return 2 * (length + breadth)"
      ]
    },
    {
      "cell_type": "code",
      "execution_count": 139,
      "metadata": {
        "colab": {
          "base_uri": "https://localhost:8080/"
        },
        "id": "GBQR73sFGJ5w",
        "outputId": "eaadc452-1736-42dd-a6cc-02939162c3d1"
      },
      "outputs": [
        {
          "output_type": "execute_result",
          "data": {
            "text/plain": [
              "800"
            ]
          },
          "metadata": {},
          "execution_count": 139
        }
      ],
      "source": [
        "calculate(20, 40, fn=area_rectangle_fn)"
      ]
    },
    {
      "cell_type": "code",
      "execution_count": 140,
      "metadata": {
        "colab": {
          "base_uri": "https://localhost:8080/"
        },
        "id": "hik-63tDGJ5w",
        "outputId": "755dc6cf-08ec-445f-9e40-54deb98a1dc4"
      },
      "outputs": [
        {
          "output_type": "execute_result",
          "data": {
            "text/plain": [
              "120"
            ]
          },
          "metadata": {},
          "execution_count": 140
        }
      ],
      "source": [
        "calculate(20, 40, fn=perimeter_rectangle_fn)"
      ]
    },
    {
      "cell_type": "code",
      "execution_count": 141,
      "metadata": {
        "colab": {
          "base_uri": "https://localhost:8080/",
          "height": 235
        },
        "id": "k2SKz2jFGJ5w",
        "outputId": "09e9c9d4-564c-4925-c079-d09536dea698"
      },
      "outputs": [
        {
          "output_type": "error",
          "ename": "TypeError",
          "evalue": "ignored",
          "traceback": [
            "\u001b[0;31m---------------------------------------------------------------------------\u001b[0m",
            "\u001b[0;31mTypeError\u001b[0m                                 Traceback (most recent call last)",
            "\u001b[0;32m<ipython-input-141-627c66573138>\u001b[0m in \u001b[0;36m<module>\u001b[0;34m()\u001b[0m\n\u001b[0;32m----> 1\u001b[0;31m \u001b[0mcalculate\u001b[0m\u001b[0;34m(\u001b[0m\u001b[0;36m10\u001b[0m\u001b[0;34m,\u001b[0m \u001b[0mfn\u001b[0m\u001b[0;34m=\u001b[0m\u001b[0marea_rectangle_fn\u001b[0m\u001b[0;34m)\u001b[0m\u001b[0;34m\u001b[0m\u001b[0;34m\u001b[0m\u001b[0m\n\u001b[0m",
            "\u001b[0;32m<ipython-input-133-f59e728e4903>\u001b[0m in \u001b[0;36mcalculate\u001b[0;34m(fn, *args)\u001b[0m\n\u001b[1;32m      1\u001b[0m \u001b[0;32mdef\u001b[0m \u001b[0mcalculate\u001b[0m\u001b[0;34m(\u001b[0m\u001b[0;34m*\u001b[0m\u001b[0margs\u001b[0m\u001b[0;34m,\u001b[0m \u001b[0mfn\u001b[0m\u001b[0;34m)\u001b[0m\u001b[0;34m:\u001b[0m\u001b[0;34m\u001b[0m\u001b[0;34m\u001b[0m\u001b[0m\n\u001b[0;32m----> 2\u001b[0;31m     \u001b[0;32mreturn\u001b[0m \u001b[0mfn\u001b[0m\u001b[0;34m(\u001b[0m\u001b[0;34m*\u001b[0m\u001b[0margs\u001b[0m\u001b[0;34m)\u001b[0m\u001b[0;34m\u001b[0m\u001b[0;34m\u001b[0m\u001b[0m\n\u001b[0m",
            "\u001b[0;31mTypeError\u001b[0m: area_rectangle_fn() missing 1 required positional argument: 'breadth'"
          ]
        }
      ],
      "source": [
        "calculate(10, fn=area_rectangle_fn)"
      ]
    },
    {
      "cell_type": "code",
      "execution_count": 142,
      "metadata": {
        "id": "jCemGrqeGJ5w"
      },
      "outputs": [],
      "source": [
        "def add(a, b):\n",
        "    return a + b\n",
        "\n",
        "def sub(a, b):\n",
        "    return a - b\n",
        "\n",
        "def mul(a, b):\n",
        "    return a * b\n",
        "\n",
        "def div(a, b):\n",
        "    return a / b"
      ]
    },
    {
      "cell_type": "code",
      "execution_count": 143,
      "metadata": {
        "id": "GMmRXBqkGJ5w"
      },
      "outputs": [],
      "source": [
        "def get_function(operator='+'):\n",
        "    \n",
        "    if operator == \"+\":\n",
        "        return add \n",
        "\n",
        "    if operator == \"-\":\n",
        "        return sub\n",
        "    \n",
        "    if operator == \"*\":\n",
        "        return mul \n",
        "    \n",
        "    if operator == \"/\":\n",
        "        return div "
      ]
    },
    {
      "cell_type": "code",
      "execution_count": 144,
      "metadata": {
        "colab": {
          "base_uri": "https://localhost:8080/"
        },
        "id": "B-JPc8MsGJ5w",
        "outputId": "0ca90fbb-bfae-4e6a-a9e1-823296a17423"
      },
      "outputs": [
        {
          "output_type": "execute_result",
          "data": {
            "text/plain": [
              "<function __main__.add>"
            ]
          },
          "metadata": {},
          "execution_count": 144
        }
      ],
      "source": [
        "func = get_function()\n",
        "\n",
        "func"
      ]
    },
    {
      "cell_type": "code",
      "execution_count": 145,
      "metadata": {
        "colab": {
          "base_uri": "https://localhost:8080/"
        },
        "id": "2rRgUogOGJ5x",
        "outputId": "61257313-dfd5-483d-8ece-24fa2bb9bc1a"
      },
      "outputs": [
        {
          "output_type": "execute_result",
          "data": {
            "text/plain": [
              "7"
            ]
          },
          "metadata": {},
          "execution_count": 145
        }
      ],
      "source": [
        "func(3, 4)"
      ]
    },
    {
      "cell_type": "code",
      "execution_count": 146,
      "metadata": {
        "colab": {
          "base_uri": "https://localhost:8080/"
        },
        "id": "6HvbzbMNGJ5x",
        "outputId": "1d8a6542-a36c-4aa9-f835-abd328b28ceb"
      },
      "outputs": [
        {
          "output_type": "execute_result",
          "data": {
            "text/plain": [
              "<function __main__.mul>"
            ]
          },
          "metadata": {},
          "execution_count": 146
        }
      ],
      "source": [
        "func = get_function('*')\n",
        "\n",
        "func"
      ]
    },
    {
      "cell_type": "code",
      "execution_count": 147,
      "metadata": {
        "colab": {
          "base_uri": "https://localhost:8080/"
        },
        "id": "NeMTsqGLGJ5x",
        "outputId": "54463822-8d00-42b4-99e6-908b9a56349d"
      },
      "outputs": [
        {
          "output_type": "execute_result",
          "data": {
            "text/plain": [
              "12"
            ]
          },
          "metadata": {},
          "execution_count": 147
        }
      ],
      "source": [
        "func(3, 4)"
      ]
    },
    {
      "cell_type": "code",
      "execution_count": 148,
      "metadata": {
        "id": "mCKeoNQnGJ5x"
      },
      "outputs": [],
      "source": [
        "calc_dictionary = {\n",
        "    '+': add,\n",
        "    '-': sub,\n",
        "    '*': mul,\n",
        "    '/': div\n",
        "}"
      ]
    },
    {
      "cell_type": "code",
      "execution_count": 149,
      "metadata": {
        "colab": {
          "base_uri": "https://localhost:8080/"
        },
        "id": "snipgdk0GJ5x",
        "outputId": "c56fbd9f-2b15-4c65-cfd6-3d7e62f4ce44"
      },
      "outputs": [
        {
          "output_type": "execute_result",
          "data": {
            "text/plain": [
              "<function __main__.div>"
            ]
          },
          "metadata": {},
          "execution_count": 149
        }
      ],
      "source": [
        "func = calc_dictionary['/']\n",
        "\n",
        "func"
      ]
    },
    {
      "cell_type": "code",
      "execution_count": 150,
      "metadata": {
        "colab": {
          "base_uri": "https://localhost:8080/"
        },
        "id": "MkXHputsGJ5x",
        "outputId": "987754b3-c6ae-4e75-9902-bfa1c8c4a8a1"
      },
      "outputs": [
        {
          "output_type": "execute_result",
          "data": {
            "text/plain": [
              "3.0"
            ]
          },
          "metadata": {},
          "execution_count": 150
        }
      ],
      "source": [
        "func(12, 4)"
      ]
    },
    {
      "cell_type": "code",
      "execution_count": 151,
      "metadata": {
        "colab": {
          "base_uri": "https://localhost:8080/"
        },
        "id": "ueGxKpZNGJ5x",
        "outputId": "b32a285c-4f66-431a-9554-346b7700ebac"
      },
      "outputs": [
        {
          "output_type": "execute_result",
          "data": {
            "text/plain": [
              "<function __main__.mul>"
            ]
          },
          "metadata": {},
          "execution_count": 151
        }
      ],
      "source": [
        "func = calc_dictionary['*']\n",
        "\n",
        "func"
      ]
    },
    {
      "cell_type": "code",
      "execution_count": 152,
      "metadata": {
        "colab": {
          "base_uri": "https://localhost:8080/"
        },
        "id": "pnvhDVkLGJ5x",
        "outputId": "b2106763-0c4a-4af1-cd8f-b1d7de972db1"
      },
      "outputs": [
        {
          "output_type": "execute_result",
          "data": {
            "text/plain": [
              "200"
            ]
          },
          "metadata": {},
          "execution_count": 152
        }
      ],
      "source": [
        "func(10, 20)"
      ]
    },
    {
      "cell_type": "code",
      "execution_count": 153,
      "metadata": {
        "colab": {
          "base_uri": "https://localhost:8080/"
        },
        "id": "I0G8ZHEnGJ5y",
        "outputId": "f71fd51b-1aa5-4ff9-8718-8f6aa9b83ed3"
      },
      "outputs": [
        {
          "output_type": "execute_result",
          "data": {
            "text/plain": [
              "300"
            ]
          },
          "metadata": {},
          "execution_count": 153
        }
      ],
      "source": [
        "calc_dictionary['*'](100, 3)"
      ]
    },
    {
      "cell_type": "code",
      "execution_count": 154,
      "metadata": {
        "colab": {
          "base_uri": "https://localhost:8080/"
        },
        "id": "tCkdJpkZGJ5y",
        "outputId": "72b58e66-70fe-407b-841e-376812c7a05f"
      },
      "outputs": [
        {
          "output_type": "execute_result",
          "data": {
            "text/plain": [
              "103"
            ]
          },
          "metadata": {},
          "execution_count": 154
        }
      ],
      "source": [
        "calc_dictionary['+'](100, 3)"
      ]
    },
    {
      "cell_type": "code",
      "execution_count": null,
      "metadata": {
        "id": "6Oaup0ZXGJ5y"
      },
      "outputs": [],
      "source": [
        ""
      ]
    },
    {
      "cell_type": "code",
      "source": [
        ""
      ],
      "metadata": {
        "id": "dW-SH6F3XLfl"
      },
      "execution_count": null,
      "outputs": []
    },
    {
      "cell_type": "code",
      "source": [
        ""
      ],
      "metadata": {
        "id": "LPLkuJBwXL7c"
      },
      "execution_count": null,
      "outputs": []
    },
    {
      "cell_type": "code",
      "execution_count": 155,
      "metadata": {
        "id": "UoFifxZbGJ59"
      },
      "outputs": [],
      "source": [
        "def square(x):\n",
        "    \n",
        "    return x * x"
      ]
    },
    {
      "cell_type": "code",
      "execution_count": 156,
      "metadata": {
        "colab": {
          "base_uri": "https://localhost:8080/"
        },
        "id": "YCXAQr7NGJ59",
        "outputId": "281b22cf-c16a-40a1-f3ad-0d78f94fbee6"
      },
      "outputs": [
        {
          "output_type": "execute_result",
          "data": {
            "text/plain": [
              "25"
            ]
          },
          "metadata": {},
          "execution_count": 156
        }
      ],
      "source": [
        "result = square(5)\n",
        "\n",
        "result"
      ]
    },
    {
      "cell_type": "code",
      "execution_count": 157,
      "metadata": {
        "colab": {
          "base_uri": "https://localhost:8080/"
        },
        "id": "TtnYWXKZGJ59",
        "outputId": "ec9c440d-ffbe-45ba-f168-02b73dac91bc"
      },
      "outputs": [
        {
          "output_type": "execute_result",
          "data": {
            "text/plain": [
              "<function __main__.square>"
            ]
          },
          "metadata": {},
          "execution_count": 157
        }
      ],
      "source": [
        "square"
      ]
    },
    {
      "cell_type": "code",
      "execution_count": 158,
      "metadata": {
        "id": "PLGeMDx8GJ59"
      },
      "outputs": [],
      "source": [
        "sq = square"
      ]
    },
    {
      "cell_type": "code",
      "execution_count": 159,
      "metadata": {
        "colab": {
          "base_uri": "https://localhost:8080/"
        },
        "id": "JqWo_D7HGJ5-",
        "outputId": "fcda2f8a-89ab-40c0-e02e-e9e36116b638"
      },
      "outputs": [
        {
          "output_type": "execute_result",
          "data": {
            "text/plain": [
              "<function __main__.square>"
            ]
          },
          "metadata": {},
          "execution_count": 159
        }
      ],
      "source": [
        "sq"
      ]
    },
    {
      "cell_type": "code",
      "execution_count": 160,
      "metadata": {
        "colab": {
          "base_uri": "https://localhost:8080/"
        },
        "id": "BEQzXp7KGJ5-",
        "outputId": "f1269e08-9011-4be3-9fcd-152129f417ac"
      },
      "outputs": [
        {
          "output_type": "execute_result",
          "data": {
            "text/plain": [
              "144"
            ]
          },
          "metadata": {},
          "execution_count": 160
        }
      ],
      "source": [
        "result = sq(12)\n",
        "\n",
        "result"
      ]
    },
    {
      "cell_type": "code",
      "execution_count": 161,
      "metadata": {
        "id": "nERHSMbFGJ5-"
      },
      "outputs": [],
      "source": [
        "cube_of = lambda x: x * x * x"
      ]
    },
    {
      "cell_type": "code",
      "execution_count": 162,
      "metadata": {
        "colab": {
          "base_uri": "https://localhost:8080/"
        },
        "id": "y-0G3sbzGJ5-",
        "outputId": "3e3345d2-c493-4119-ad11-12e92afc5c22"
      },
      "outputs": [
        {
          "output_type": "execute_result",
          "data": {
            "text/plain": [
              "125"
            ]
          },
          "metadata": {},
          "execution_count": 162
        }
      ],
      "source": [
        "result = cube_of(5)\n",
        "\n",
        "result"
      ]
    },
    {
      "cell_type": "code",
      "execution_count": 163,
      "metadata": {
        "colab": {
          "base_uri": "https://localhost:8080/"
        },
        "id": "LDXty4RgGJ5-",
        "outputId": "2cfc77e7-bda5-4cc0-802a-0ef86f65fb1f"
      },
      "outputs": [
        {
          "output_type": "execute_result",
          "data": {
            "text/plain": [
              "1000"
            ]
          },
          "metadata": {},
          "execution_count": 163
        }
      ],
      "source": [
        "result = cube_of(10)\n",
        "\n",
        "result"
      ]
    },
    {
      "cell_type": "code",
      "execution_count": 164,
      "metadata": {
        "colab": {
          "base_uri": "https://localhost:8080/"
        },
        "id": "7vnHXo5GGJ5-",
        "outputId": "574bc1b4-cc4f-4b9e-a588-583b7c68eb44"
      },
      "outputs": [
        {
          "output_type": "execute_result",
          "data": {
            "text/plain": [
              "<function __main__.<lambda>>"
            ]
          },
          "metadata": {},
          "execution_count": 164
        }
      ],
      "source": [
        "cube_of"
      ]
    },
    {
      "cell_type": "code",
      "execution_count": 165,
      "metadata": {
        "id": "G2sxRJ-UGJ5-"
      },
      "outputs": [],
      "source": [
        "add = lambda x, y: x + y"
      ]
    },
    {
      "cell_type": "code",
      "execution_count": 166,
      "metadata": {
        "id": "CLZOe8U4GJ5-"
      },
      "outputs": [],
      "source": [
        "sub = lambda x, y: x - y"
      ]
    },
    {
      "cell_type": "code",
      "execution_count": 167,
      "metadata": {
        "id": "qeRtfkFzGJ5-"
      },
      "outputs": [],
      "source": [
        "mul = lambda x, y: x * y"
      ]
    },
    {
      "cell_type": "code",
      "execution_count": 168,
      "metadata": {
        "id": "2CkEoRcbGJ5-"
      },
      "outputs": [],
      "source": [
        "div = lambda x, y: x / y"
      ]
    },
    {
      "cell_type": "code",
      "execution_count": 169,
      "metadata": {
        "id": "wZF67FAdGJ5-"
      },
      "outputs": [],
      "source": [
        "def calculate(x, y, operation=\"add\"):\n",
        "    \n",
        "    if operation == \"add\":\n",
        "        return add(x, y)\n",
        "    if operation == \"sub\":\n",
        "        return sub(x, y)\n",
        "    if operation == \"mul\":\n",
        "        return mul(x, y)\n",
        "    if operation == \"div\":\n",
        "        return div(x, y)"
      ]
    },
    {
      "cell_type": "code",
      "execution_count": 170,
      "metadata": {
        "colab": {
          "base_uri": "https://localhost:8080/"
        },
        "id": "-BAYMnpuGJ5-",
        "outputId": "cf03a39b-e37e-4ae7-eed9-fb7056233b8f"
      },
      "outputs": [
        {
          "output_type": "execute_result",
          "data": {
            "text/plain": [
              "96"
            ]
          },
          "metadata": {},
          "execution_count": 170
        }
      ],
      "source": [
        "calculate(100, 4, operation=\"sub\")"
      ]
    },
    {
      "cell_type": "code",
      "execution_count": 171,
      "metadata": {
        "colab": {
          "base_uri": "https://localhost:8080/"
        },
        "id": "C-VUs7F8GJ5-",
        "outputId": "4ec08118-e361-4551-e5f3-3b09f519a5ee"
      },
      "outputs": [
        {
          "output_type": "execute_result",
          "data": {
            "text/plain": [
              "104"
            ]
          },
          "metadata": {},
          "execution_count": 171
        }
      ],
      "source": [
        "calculate(100, 4)"
      ]
    },
    {
      "cell_type": "code",
      "execution_count": 172,
      "metadata": {
        "colab": {
          "base_uri": "https://localhost:8080/"
        },
        "id": "4zbMx9j_GJ5_",
        "outputId": "a1a9cdf8-c17c-4c76-e568-a6a6af239aa3"
      },
      "outputs": [
        {
          "output_type": "execute_result",
          "data": {
            "text/plain": [
              "400"
            ]
          },
          "metadata": {},
          "execution_count": 172
        }
      ],
      "source": [
        "calculate(100, 4, operation=\"mul\")"
      ]
    },
    {
      "cell_type": "code",
      "execution_count": 173,
      "metadata": {
        "id": "B6m0OlurGJ5_"
      },
      "outputs": [],
      "source": [
        "def calculate(*args, operation=\"add\"):\n",
        "    \n",
        "    if operation == \"add\":\n",
        "        return add(*args)\n",
        "    if operation == \"sub\":\n",
        "        return sub(*args)\n",
        "    if operation == \"mul\":\n",
        "        return mul(*args)\n",
        "    if operation == \"div\":\n",
        "        return div(*args)"
      ]
    },
    {
      "cell_type": "code",
      "execution_count": 174,
      "metadata": {
        "colab": {
          "base_uri": "https://localhost:8080/"
        },
        "id": "MDCQw89WGJ5_",
        "outputId": "2d3277d3-2570-4443-8281-6f2e784cb981"
      },
      "outputs": [
        {
          "output_type": "execute_result",
          "data": {
            "text/plain": [
              "96"
            ]
          },
          "metadata": {},
          "execution_count": 174
        }
      ],
      "source": [
        "calculate(100, 4, operation=\"sub\")"
      ]
    },
    {
      "cell_type": "code",
      "execution_count": 175,
      "metadata": {
        "colab": {
          "base_uri": "https://localhost:8080/"
        },
        "id": "_xoG_IwWGJ5_",
        "outputId": "60e49256-f6b8-4a00-d604-a9ecaf775702"
      },
      "outputs": [
        {
          "output_type": "execute_result",
          "data": {
            "text/plain": [
              "300"
            ]
          },
          "metadata": {},
          "execution_count": 175
        }
      ],
      "source": [
        "calculate(100, 3, operation=\"mul\")"
      ]
    },
    {
      "cell_type": "code",
      "execution_count": 176,
      "metadata": {
        "colab": {
          "base_uri": "https://localhost:8080/"
        },
        "id": "7pJSR-F6GJ5_",
        "outputId": "48b37c42-9743-4503-8f8f-e96cb568d42f"
      },
      "outputs": [
        {
          "output_type": "execute_result",
          "data": {
            "text/plain": [
              "103"
            ]
          },
          "metadata": {},
          "execution_count": 176
        }
      ],
      "source": [
        "calculate(100, 3)"
      ]
    },
    {
      "cell_type": "code",
      "execution_count": 177,
      "metadata": {
        "id": "5bCbNl8KGJ5_"
      },
      "outputs": [],
      "source": [
        "def calculate(*args, operation=add):\n",
        "    \n",
        "    return operation(*args)"
      ]
    },
    {
      "cell_type": "code",
      "execution_count": 178,
      "metadata": {
        "colab": {
          "base_uri": "https://localhost:8080/"
        },
        "id": "l0mLNLVxGJ5_",
        "outputId": "ac93d241-7c90-4372-f072-8ab963089af6"
      },
      "outputs": [
        {
          "output_type": "execute_result",
          "data": {
            "text/plain": [
              "96"
            ]
          },
          "metadata": {},
          "execution_count": 178
        }
      ],
      "source": [
        "calculate(100, 4, operation=sub)"
      ]
    },
    {
      "cell_type": "code",
      "execution_count": 179,
      "metadata": {
        "colab": {
          "base_uri": "https://localhost:8080/"
        },
        "id": "6Qwl4_OSGJ5_",
        "outputId": "3a4fb614-e316-412d-97a2-c1fbdd0c7490"
      },
      "outputs": [
        {
          "output_type": "execute_result",
          "data": {
            "text/plain": [
              "25.0"
            ]
          },
          "metadata": {},
          "execution_count": 179
        }
      ],
      "source": [
        "calculate(100, 4, operation=div)"
      ]
    },
    {
      "cell_type": "code",
      "execution_count": 180,
      "metadata": {
        "colab": {
          "base_uri": "https://localhost:8080/"
        },
        "id": "uJJz1D3qGJ5_",
        "outputId": "78b9fdb0-ca7e-4ea1-df3e-444a5738bb75"
      },
      "outputs": [
        {
          "output_type": "execute_result",
          "data": {
            "text/plain": [
              "10000"
            ]
          },
          "metadata": {},
          "execution_count": 180
        }
      ],
      "source": [
        "calculate(10, 4, operation=lambda x, y: x**y)"
      ]
    },
    {
      "cell_type": "code",
      "execution_count": 181,
      "metadata": {
        "colab": {
          "base_uri": "https://localhost:8080/"
        },
        "id": "eK6BtKy5GJ5_",
        "outputId": "97c07aba-70f8-4e3e-b4cd-a9928567c86e"
      },
      "outputs": [
        {
          "output_type": "execute_result",
          "data": {
            "text/plain": [
              "12"
            ]
          },
          "metadata": {},
          "execution_count": 181
        }
      ],
      "source": [
        "(lambda x: x + 2)(10)"
      ]
    },
    {
      "cell_type": "code",
      "execution_count": 182,
      "metadata": {
        "colab": {
          "base_uri": "https://localhost:8080/"
        },
        "id": "0Q9Dt1YkGJ6A",
        "outputId": "f654f2d8-b09c-4273-bae1-70ac50f3c236"
      },
      "outputs": [
        {
          "output_type": "execute_result",
          "data": {
            "text/plain": [
              "220"
            ]
          },
          "metadata": {},
          "execution_count": 182
        }
      ],
      "source": [
        "(lambda x: x * 10)(22)"
      ]
    },
    {
      "cell_type": "code",
      "execution_count": 183,
      "metadata": {
        "colab": {
          "base_uri": "https://localhost:8080/"
        },
        "id": "7AztOHIPGJ6A",
        "outputId": "f2bb33ce-a7e3-446c-c2e2-03ee257029f6"
      },
      "outputs": [
        {
          "output_type": "execute_result",
          "data": {
            "text/plain": [
              "100"
            ]
          },
          "metadata": {},
          "execution_count": 183
        }
      ],
      "source": [
        "(lambda x, y: x ** y)(10, 2)"
      ]
    },
    {
      "cell_type": "code",
      "execution_count": 184,
      "metadata": {
        "id": "nAahYuzkGJ6A"
      },
      "outputs": [],
      "source": [
        "def check_if_even(x):\n",
        "    \n",
        "    assert x % 2 == 0"
      ]
    },
    {
      "cell_type": "code",
      "execution_count": 185,
      "metadata": {
        "id": "u9DvHkTAGJ6A"
      },
      "outputs": [],
      "source": [
        "check_if_even(2)"
      ]
    },
    {
      "cell_type": "code",
      "execution_count": 186,
      "metadata": {
        "colab": {
          "base_uri": "https://localhost:8080/",
          "height": 253
        },
        "id": "bW3Xo86sGJ6A",
        "outputId": "76b1842f-bc39-44f3-e751-50fee8185678"
      },
      "outputs": [
        {
          "output_type": "error",
          "ename": "AssertionError",
          "evalue": "ignored",
          "traceback": [
            "\u001b[0;31m---------------------------------------------------------------------------\u001b[0m",
            "\u001b[0;31mAssertionError\u001b[0m                            Traceback (most recent call last)",
            "\u001b[0;32m<ipython-input-186-0e076f75e487>\u001b[0m in \u001b[0;36m<module>\u001b[0;34m()\u001b[0m\n\u001b[0;32m----> 1\u001b[0;31m \u001b[0mcheck_if_even\u001b[0m\u001b[0;34m(\u001b[0m\u001b[0;36m3\u001b[0m\u001b[0;34m)\u001b[0m\u001b[0;34m\u001b[0m\u001b[0;34m\u001b[0m\u001b[0m\n\u001b[0m",
            "\u001b[0;32m<ipython-input-184-a64be20f4c2a>\u001b[0m in \u001b[0;36mcheck_if_even\u001b[0;34m(x)\u001b[0m\n\u001b[1;32m      1\u001b[0m \u001b[0;32mdef\u001b[0m \u001b[0mcheck_if_even\u001b[0m\u001b[0;34m(\u001b[0m\u001b[0mx\u001b[0m\u001b[0;34m)\u001b[0m\u001b[0;34m:\u001b[0m\u001b[0;34m\u001b[0m\u001b[0;34m\u001b[0m\u001b[0m\n\u001b[1;32m      2\u001b[0m \u001b[0;34m\u001b[0m\u001b[0m\n\u001b[0;32m----> 3\u001b[0;31m     \u001b[0;32massert\u001b[0m \u001b[0mx\u001b[0m \u001b[0;34m%\u001b[0m \u001b[0;36m2\u001b[0m \u001b[0;34m==\u001b[0m \u001b[0;36m0\u001b[0m\u001b[0;34m\u001b[0m\u001b[0;34m\u001b[0m\u001b[0m\n\u001b[0m",
            "\u001b[0;31mAssertionError\u001b[0m: "
          ]
        }
      ],
      "source": [
        "check_if_even(3)"
      ]
    },
    {
      "cell_type": "code",
      "execution_count": 187,
      "metadata": {
        "colab": {
          "base_uri": "https://localhost:8080/",
          "height": 131
        },
        "id": "b3pzQ2ArGJ6A",
        "outputId": "b26b6eac-c673-46e7-e7bb-29dac160977f"
      },
      "outputs": [
        {
          "output_type": "error",
          "ename": "SyntaxError",
          "evalue": "ignored",
          "traceback": [
            "\u001b[0;36m  File \u001b[0;32m\"<ipython-input-187-8abda3839c92>\"\u001b[0;36m, line \u001b[0;32m1\u001b[0m\n\u001b[0;31m    even_check_lambda = lambda x : assert x % 2 == 0\u001b[0m\n\u001b[0m                                        ^\u001b[0m\n\u001b[0;31mSyntaxError\u001b[0m\u001b[0;31m:\u001b[0m invalid syntax\n"
          ]
        }
      ],
      "source": [
        "even_check_lambda = lambda x : assert x % 2 == 0"
      ]
    },
    {
      "cell_type": "code",
      "execution_count": 188,
      "metadata": {
        "id": "OPumxxVeGJ6A"
      },
      "outputs": [],
      "source": [
        "total_score = lambda math, physics, chemistry, biology: math + physics + chemistry + biology"
      ]
    },
    {
      "cell_type": "code",
      "execution_count": 189,
      "metadata": {
        "colab": {
          "base_uri": "https://localhost:8080/"
        },
        "id": "xPiVTbMnGJ6A",
        "outputId": "e366ad42-eb87-4f6c-e44c-10c0f6844e71"
      },
      "outputs": [
        {
          "output_type": "execute_result",
          "data": {
            "text/plain": [
              "281"
            ]
          },
          "metadata": {},
          "execution_count": 189
        }
      ],
      "source": [
        "total_score(44, 56, 89, 92)"
      ]
    },
    {
      "cell_type": "code",
      "execution_count": 190,
      "metadata": {
        "colab": {
          "base_uri": "https://localhost:8080/"
        },
        "id": "NmM1f0ltGJ6A",
        "outputId": "a247baea-9c3b-4cec-efea-667c56b00303"
      },
      "outputs": [
        {
          "output_type": "execute_result",
          "data": {
            "text/plain": [
              "281"
            ]
          },
          "metadata": {},
          "execution_count": 190
        }
      ],
      "source": [
        "total_score(math=44, physics=56, chemistry=89, biology=92)"
      ]
    },
    {
      "cell_type": "code",
      "execution_count": 191,
      "metadata": {
        "id": "OwtwsYSmGJ6A"
      },
      "outputs": [],
      "source": [
        "total_score = lambda math, physics, chemistry, biology=50: math + physics + chemistry + biology"
      ]
    },
    {
      "cell_type": "code",
      "execution_count": 193,
      "metadata": {
        "colab": {
          "base_uri": "https://localhost:8080/"
        },
        "id": "XSAOPJDOGJ6A",
        "outputId": "ed3b64b4-afb7-436c-a3cc-38c7f5d1fafa"
      },
      "outputs": [
        {
          "output_type": "execute_result",
          "data": {
            "text/plain": [
              "239"
            ]
          },
          "metadata": {},
          "execution_count": 193
        }
      ],
      "source": [
        "total_score(44, 56, 89)"
      ]
    },
    {
      "cell_type": "code",
      "execution_count": 192,
      "metadata": {
        "colab": {
          "base_uri": "https://localhost:8080/",
          "height": 166
        },
        "id": "n9C7zAQHGJ6A",
        "outputId": "35cd3bd8-7456-4e1c-e341-734a5740b8fc"
      },
      "outputs": [
        {
          "output_type": "error",
          "ename": "TypeError",
          "evalue": "ignored",
          "traceback": [
            "\u001b[0;31m---------------------------------------------------------------------------\u001b[0m",
            "\u001b[0;31mTypeError\u001b[0m                                 Traceback (most recent call last)",
            "\u001b[0;32m<ipython-input-192-49ae113adc31>\u001b[0m in \u001b[0;36m<module>\u001b[0;34m()\u001b[0m\n\u001b[0;32m----> 1\u001b[0;31m \u001b[0mtotal_score\u001b[0m\u001b[0;34m(\u001b[0m\u001b[0;36m44\u001b[0m\u001b[0;34m,\u001b[0m \u001b[0;36m56\u001b[0m\u001b[0;34m)\u001b[0m\u001b[0;34m\u001b[0m\u001b[0;34m\u001b[0m\u001b[0m\n\u001b[0m",
            "\u001b[0;31mTypeError\u001b[0m: <lambda>() missing 1 required positional argument: 'chemistry'"
          ]
        }
      ],
      "source": [
        "total_score(44, 56)"
      ]
    },
    {
      "cell_type": "code",
      "execution_count": 194,
      "metadata": {
        "colab": {
          "base_uri": "https://localhost:8080/"
        },
        "id": "Ofqr0RXUGJ6B",
        "outputId": "7821466e-67a5-40b2-d12c-6f0efc42473d"
      },
      "outputs": [
        {
          "output_type": "execute_result",
          "data": {
            "text/plain": [
              "21"
            ]
          },
          "metadata": {},
          "execution_count": 194
        }
      ],
      "source": [
        "(lambda *numbers: sum(numbers))(3, 5, 6, 7)"
      ]
    },
    {
      "cell_type": "code",
      "execution_count": 195,
      "metadata": {
        "colab": {
          "base_uri": "https://localhost:8080/"
        },
        "id": "GR0m5HHRGJ6B",
        "outputId": "e2d91e8f-035c-47c7-b348-599a5f56dd5d"
      },
      "outputs": [
        {
          "output_type": "execute_result",
          "data": {
            "text/plain": [
              "31"
            ]
          },
          "metadata": {},
          "execution_count": 195
        }
      ],
      "source": [
        "(lambda *numbers: sum(numbers))(3, 5, 6, 7, 10)"
      ]
    },
    {
      "cell_type": "code",
      "execution_count": 196,
      "metadata": {
        "colab": {
          "base_uri": "https://localhost:8080/"
        },
        "id": "noU1op2ZGJ6B",
        "outputId": "a46cb0d7-5533-456d-e353-68eff1b1d507"
      },
      "outputs": [
        {
          "output_type": "execute_result",
          "data": {
            "text/plain": [
              "102"
            ]
          },
          "metadata": {},
          "execution_count": 196
        }
      ],
      "source": [
        "(lambda **num_dictionary: sum(num_dictionary.values()))(a=23, b=34, c=45)"
      ]
    },
    {
      "cell_type": "code",
      "execution_count": 197,
      "metadata": {
        "colab": {
          "base_uri": "https://localhost:8080/"
        },
        "id": "ku1usDmjGJ6B",
        "outputId": "9b943604-ddc9-4e81-cfe2-4e446aba3bbe"
      },
      "outputs": [
        {
          "output_type": "execute_result",
          "data": {
            "text/plain": [
              "57"
            ]
          },
          "metadata": {},
          "execution_count": 197
        }
      ],
      "source": [
        "(lambda **num_dictionary: sum(num_dictionary.values()))(a=23, b=34)"
      ]
    },
    {
      "cell_type": "code",
      "execution_count": 198,
      "metadata": {
        "id": "6581U3qRGJ6B"
      },
      "outputs": [],
      "source": [
        "num_list = [1, 5, 6, 7, 11, 78, 99, 34, 105, 214]"
      ]
    },
    {
      "cell_type": "code",
      "execution_count": 199,
      "metadata": {
        "colab": {
          "base_uri": "https://localhost:8080/"
        },
        "id": "9dlJ4i4JGJ6B",
        "outputId": "8340df00-0f07-4814-871b-661a579b9868"
      },
      "outputs": [
        {
          "output_type": "execute_result",
          "data": {
            "text/plain": [
              "<filter at 0x7f64adddd990>"
            ]
          },
          "metadata": {},
          "execution_count": 199
        }
      ],
      "source": [
        "filter(lambda x: x > 10, num_list)"
      ]
    },
    {
      "cell_type": "code",
      "execution_count": 200,
      "metadata": {
        "colab": {
          "base_uri": "https://localhost:8080/"
        },
        "id": "WezjjXwgGJ6B",
        "outputId": "18ebba10-c8a4-4a07-cade-0035786556a5"
      },
      "outputs": [
        {
          "output_type": "execute_result",
          "data": {
            "text/plain": [
              "[11, 78, 99, 34, 105, 214]"
            ]
          },
          "metadata": {},
          "execution_count": 200
        }
      ],
      "source": [
        "greater_than_10_list = list(filter(lambda x: x > 10, num_list))\n",
        "\n",
        "greater_than_10_list"
      ]
    },
    {
      "cell_type": "code",
      "execution_count": 201,
      "metadata": {
        "colab": {
          "base_uri": "https://localhost:8080/"
        },
        "id": "ccOh6BWoGJ6B",
        "outputId": "5b0b132a-f5c4-4483-94a1-8d48b82450e1"
      },
      "outputs": [
        {
          "output_type": "execute_result",
          "data": {
            "text/plain": [
              "[6, 78, 34, 214]"
            ]
          },
          "metadata": {},
          "execution_count": 201
        }
      ],
      "source": [
        "even_list = list(filter(lambda x: x % 2 == 0, num_list))\n",
        "\n",
        "even_list"
      ]
    },
    {
      "cell_type": "code",
      "execution_count": 202,
      "metadata": {
        "colab": {
          "base_uri": "https://localhost:8080/"
        },
        "id": "GCJ_ZPslGJ6B",
        "outputId": "b9333efb-fb79-43de-ff28-c515292c0bf0"
      },
      "outputs": [
        {
          "output_type": "execute_result",
          "data": {
            "text/plain": [
              "[11, 78, 99, 34]"
            ]
          },
          "metadata": {},
          "execution_count": 202
        }
      ],
      "source": [
        "greater_than_10_less_than_100_list = list(filter(lambda x: x > 10 and x < 100, num_list))\n",
        "\n",
        "greater_than_10_less_than_100_list"
      ]
    },
    {
      "cell_type": "code",
      "execution_count": null,
      "metadata": {
        "id": "pRVGhZWbGJ6B"
      },
      "outputs": [],
      "source": [
        ""
      ]
    },
    {
      "cell_type": "code",
      "execution_count": null,
      "metadata": {
        "id": "gIoK_zyAGJ6B"
      },
      "outputs": [],
      "source": [
        ""
      ]
    },
    {
      "cell_type": "code",
      "execution_count": null,
      "metadata": {
        "id": "iknsfxQnGJ6C"
      },
      "outputs": [],
      "source": [
        ""
      ]
    }
  ],
  "metadata": {
    "kernelspec": {
      "display_name": "Python 3",
      "language": "python",
      "name": "python3"
    },
    "language_info": {
      "codemirror_mode": {
        "name": "ipython",
        "version": 3
      },
      "file_extension": ".py",
      "mimetype": "text/x-python",
      "name": "python",
      "nbconvert_exporter": "python",
      "pygments_lexer": "ipython3",
      "version": "3.6.4"
    },
    "colab": {
      "name": "7-AdvancedFunctions1.ipynb",
      "provenance": [],
      "collapsed_sections": []
    }
  },
  "nbformat": 4,
  "nbformat_minor": 0
}