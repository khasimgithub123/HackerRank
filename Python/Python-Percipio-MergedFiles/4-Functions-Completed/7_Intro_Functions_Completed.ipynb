{
  "cells": [
    {
      "cell_type": "code",
      "execution_count": 1,
      "metadata": {
        "colab": {
          "base_uri": "https://localhost:8080/"
        },
        "id": "QloRbjxIuWDs",
        "outputId": "e376fcfd-17a9-4a2f-982c-87dcbb74ac94"
      },
      "outputs": [
        {
          "output_type": "stream",
          "name": "stdout",
          "text": [
            "My name is John\n",
            "I live in Boston\n",
            "I am a data analyst and I love what I do!\n"
          ]
        }
      ],
      "source": [
        "print(\"My name is John\")\n",
        "print(\"I live in Boston\")\n",
        "print(\"I am a data analyst and I love what I do!\")"
      ]
    },
    {
      "cell_type": "code",
      "execution_count": 2,
      "metadata": {
        "id": "f4hsZ4C-uWDt"
      },
      "outputs": [],
      "source": [
        "def my_introduction():\n",
        "    print(\"My name is John\")\n",
        "    print(\"I live in Boston\")\n",
        "    print(\"I am a data analyst and I love what I do!\")"
      ]
    },
    {
      "cell_type": "code",
      "execution_count": 3,
      "metadata": {
        "colab": {
          "base_uri": "https://localhost:8080/"
        },
        "id": "RetSWxr3uWDt",
        "outputId": "c9bcee4c-2624-459b-95e3-64e494b5382f"
      },
      "outputs": [
        {
          "output_type": "stream",
          "name": "stdout",
          "text": [
            "My name is John\n",
            "I live in Boston\n",
            "I am a data analyst and I love what I do!\n"
          ]
        }
      ],
      "source": [
        "my_introduction()"
      ]
    },
    {
      "cell_type": "code",
      "execution_count": 4,
      "metadata": {
        "colab": {
          "base_uri": "https://localhost:8080/"
        },
        "id": "Z3v96k2euWDu",
        "outputId": "0476df6c-529e-4b21-e737-da47e3dfe3fd"
      },
      "outputs": [
        {
          "output_type": "stream",
          "name": "stdout",
          "text": [
            "My name is John\n",
            "I live in Boston\n",
            "I am a data analyst and I love what I do!\n"
          ]
        }
      ],
      "source": [
        "my_introduction()"
      ]
    },
    {
      "cell_type": "code",
      "execution_count": 5,
      "metadata": {
        "colab": {
          "base_uri": "https://localhost:8080/"
        },
        "id": "kqmRZ-AsuWDu",
        "outputId": "7faf05a1-f1e2-4bc1-a7fa-acddb7495e24"
      },
      "outputs": [
        {
          "output_type": "stream",
          "name": "stdout",
          "text": [
            "This is outside the function\n"
          ]
        }
      ],
      "source": [
        "def hello_world():\n",
        "    print(\"Welcome to Python!\")\n",
        "\n",
        "print(\"This is outside the function\")"
      ]
    },
    {
      "cell_type": "code",
      "execution_count": 6,
      "metadata": {
        "colab": {
          "base_uri": "https://localhost:8080/"
        },
        "id": "tO2DncdyuWDu",
        "outputId": "78ac1436-3264-405a-fd15-ed7981197e9a"
      },
      "outputs": [
        {
          "output_type": "stream",
          "name": "stdout",
          "text": [
            "Welcome to Python!\n"
          ]
        }
      ],
      "source": [
        "hello_world()"
      ]
    },
    {
      "cell_type": "code",
      "execution_count": 7,
      "metadata": {
        "colab": {
          "base_uri": "https://localhost:8080/",
          "height": 166
        },
        "id": "QPtGHHxruWDu",
        "outputId": "6480cb43-6830-4770-e5c1-820865350a75"
      },
      "outputs": [
        {
          "output_type": "error",
          "ename": "NameError",
          "evalue": "ignored",
          "traceback": [
            "\u001b[0;31m---------------------------------------------------------------------------\u001b[0m",
            "\u001b[0;31mNameError\u001b[0m                                 Traceback (most recent call last)",
            "\u001b[0;32m<ipython-input-7-e38897b6671b>\u001b[0m in \u001b[0;36m<module>\u001b[0;34m()\u001b[0m\n\u001b[0;32m----> 1\u001b[0;31m \u001b[0mmy_new_function\u001b[0m\u001b[0;34m(\u001b[0m\u001b[0;34m)\u001b[0m\u001b[0;34m\u001b[0m\u001b[0;34m\u001b[0m\u001b[0m\n\u001b[0m",
            "\u001b[0;31mNameError\u001b[0m: name 'my_new_function' is not defined"
          ]
        }
      ],
      "source": [
        "my_new_function()"
      ]
    },
    {
      "cell_type": "code",
      "execution_count": 8,
      "metadata": {
        "colab": {
          "base_uri": "https://localhost:8080/"
        },
        "id": "g5XlCMt7uWDu",
        "outputId": "e14c4a34-2a48-4b6f-c702-65504f3878b3"
      },
      "outputs": [
        {
          "output_type": "stream",
          "name": "stdout",
          "text": [
            "This is now defined\n"
          ]
        }
      ],
      "source": [
        "def my_new_function():\n",
        "    print(\"This is now defined\")\n",
        "    \n",
        "my_new_function()"
      ]
    },
    {
      "cell_type": "code",
      "execution_count": 9,
      "metadata": {
        "colab": {
          "base_uri": "https://localhost:8080/",
          "height": 131
        },
        "id": "f0Vqwu8yuWDv",
        "outputId": "7e004487-1579-4dae-b603-d5237959a6e2"
      },
      "outputs": [
        {
          "output_type": "error",
          "ename": "IndentationError",
          "evalue": "ignored",
          "traceback": [
            "\u001b[0;36m  File \u001b[0;32m\"<ipython-input-9-e767941e068e>\"\u001b[0;36m, line \u001b[0;32m2\u001b[0m\n\u001b[0;31m    print(\"This indentation is all wrong\")\u001b[0m\n\u001b[0m        ^\u001b[0m\n\u001b[0;31mIndentationError\u001b[0m\u001b[0;31m:\u001b[0m expected an indented block\n"
          ]
        }
      ],
      "source": [
        "def will_not_work_function():\n",
        "print(\"This indentation is all wrong\")"
      ]
    },
    {
      "cell_type": "code",
      "execution_count": 10,
      "metadata": {
        "id": "szjYhK5DuWDv"
      },
      "outputs": [],
      "source": [
        "def will_work_function():\n",
        "    print(\"This indentation is all right!\")\n",
        "    \n",
        "    if 10 > 5:\n",
        "        print(\"Well 10 is greater than 5\")"
      ]
    },
    {
      "cell_type": "code",
      "execution_count": 11,
      "metadata": {
        "colab": {
          "base_uri": "https://localhost:8080/"
        },
        "id": "prBvcoSquWDv",
        "outputId": "cb9578ae-e5ef-435f-a011-469432177c3d"
      },
      "outputs": [
        {
          "output_type": "stream",
          "name": "stdout",
          "text": [
            "This indentation is all right!\n",
            "Well 10 is greater than 5\n"
          ]
        }
      ],
      "source": [
        "will_work_function()"
      ]
    },
    {
      "cell_type": "code",
      "execution_count": 12,
      "metadata": {
        "id": "v2-XiXbluWDv"
      },
      "outputs": [],
      "source": [
        "def a_more_complicated_function():\n",
        "    for i in range(10):\n",
        "        print(\"i is now: \", i)"
      ]
    },
    {
      "cell_type": "code",
      "execution_count": 13,
      "metadata": {
        "colab": {
          "base_uri": "https://localhost:8080/"
        },
        "id": "nOAMwAOcuWDv",
        "outputId": "35ac4725-7f5f-4657-b871-5793c610e210"
      },
      "outputs": [
        {
          "output_type": "stream",
          "name": "stdout",
          "text": [
            "i is now:  0\n",
            "i is now:  1\n",
            "i is now:  2\n",
            "i is now:  3\n",
            "i is now:  4\n",
            "i is now:  5\n",
            "i is now:  6\n",
            "i is now:  7\n",
            "i is now:  8\n",
            "i is now:  9\n"
          ]
        }
      ],
      "source": [
        "## TODO while recording, show that tab autocomplete works\n",
        "a_more_complicated_function()"
      ]
    },
    {
      "cell_type": "code",
      "execution_count": 14,
      "metadata": {
        "colab": {
          "base_uri": "https://localhost:8080/"
        },
        "id": "VkVatzY2uWDw",
        "outputId": "89fd2e27-8a0c-4550-88a3-c1d34d0c728b"
      },
      "outputs": [
        {
          "output_type": "stream",
          "name": "stdout",
          "text": [
            "This works!\n"
          ]
        }
      ],
      "source": [
        "def _Functions_Can_Be_NamedLikeThis_123():\n",
        "    print('This works!')\n",
        "    \n",
        "_Functions_Can_Be_NamedLikeThis_123()"
      ]
    },
    {
      "cell_type": "code",
      "execution_count": 15,
      "metadata": {
        "colab": {
          "base_uri": "https://localhost:8080/",
          "height": 131
        },
        "id": "qdUGCabauWDw",
        "outputId": "cdf9b68d-ad12-426d-dd36-1112d0fafbaa"
      },
      "outputs": [
        {
          "output_type": "error",
          "ename": "SyntaxError",
          "evalue": "ignored",
          "traceback": [
            "\u001b[0;36m  File \u001b[0;32m\"<ipython-input-15-39a76a450616>\"\u001b[0;36m, line \u001b[0;32m1\u001b[0m\n\u001b[0;31m    def 123this_does_not_work():\u001b[0m\n\u001b[0m          ^\u001b[0m\n\u001b[0;31mSyntaxError\u001b[0m\u001b[0;31m:\u001b[0m invalid syntax\n"
          ]
        }
      ],
      "source": [
        "def 123this_does_not_work():\n",
        "    print('This does not work')"
      ]
    },
    {
      "cell_type": "code",
      "execution_count": 16,
      "metadata": {
        "id": "-dxs_5aFuWDw"
      },
      "outputs": [],
      "source": [
        "def documented_function():\n",
        "    \"\"\" This function does something that is well documented \"\"\"\n",
        "    print(\"Hello\")"
      ]
    },
    {
      "cell_type": "code",
      "execution_count": 17,
      "metadata": {
        "colab": {
          "base_uri": "https://localhost:8080/"
        },
        "id": "txbFjdwbuWDw",
        "outputId": "82678e72-922d-46be-8d4a-042301241e07"
      },
      "outputs": [
        {
          "output_type": "execute_result",
          "data": {
            "text/plain": [
              "<function __main__.documented_function>"
            ]
          },
          "metadata": {},
          "execution_count": 17
        }
      ],
      "source": [
        "documented_function"
      ]
    },
    {
      "cell_type": "code",
      "execution_count": 18,
      "metadata": {
        "colab": {
          "base_uri": "https://localhost:8080/",
          "height": 35
        },
        "id": "FoyL_Z_CuWDw",
        "outputId": "611be934-d7a0-409a-82f5-0327e5a59626"
      },
      "outputs": [
        {
          "output_type": "execute_result",
          "data": {
            "application/vnd.google.colaboratory.intrinsic+json": {
              "type": "string"
            },
            "text/plain": [
              "' This function does something that is well documented '"
            ]
          },
          "metadata": {},
          "execution_count": 18
        }
      ],
      "source": [
        "documented_function.__doc__"
      ]
    },
    {
      "cell_type": "code",
      "execution_count": 19,
      "metadata": {
        "id": "sZ8AA1pkuWDx"
      },
      "outputs": [],
      "source": [
        "another_function = documented_function"
      ]
    },
    {
      "cell_type": "code",
      "execution_count": 20,
      "metadata": {
        "colab": {
          "base_uri": "https://localhost:8080/"
        },
        "id": "SWLkQjx0uWDx",
        "outputId": "792bcb6d-cf54-4acd-8c3f-4c08f5a75130"
      },
      "outputs": [
        {
          "output_type": "execute_result",
          "data": {
            "text/plain": [
              "<function __main__.documented_function>"
            ]
          },
          "metadata": {},
          "execution_count": 20
        }
      ],
      "source": [
        "another_function"
      ]
    },
    {
      "cell_type": "code",
      "execution_count": 21,
      "metadata": {
        "colab": {
          "base_uri": "https://localhost:8080/"
        },
        "id": "-ZWHUm1SuWDx",
        "outputId": "69d038e8-9558-4500-b428-4fa31a6f2f40"
      },
      "outputs": [
        {
          "output_type": "stream",
          "name": "stdout",
          "text": [
            "Hello\n"
          ]
        }
      ],
      "source": [
        "another_function()"
      ]
    },
    {
      "cell_type": "code",
      "execution_count": 22,
      "metadata": {
        "colab": {
          "base_uri": "https://localhost:8080/"
        },
        "id": "v1C7cobyuWDx",
        "outputId": "26e620ba-4e1f-49a9-c897-6abf26fe8aff"
      },
      "outputs": [
        {
          "output_type": "stream",
          "name": "stdout",
          "text": [
            "Hello\n"
          ]
        }
      ],
      "source": [
        "documented_function()"
      ]
    },
    {
      "cell_type": "code",
      "execution_count": 23,
      "metadata": {
        "id": "nqC_9bnQuWDx"
      },
      "outputs": [],
      "source": [
        "name = \"John\"\n",
        "city = \"Toronto\""
      ]
    },
    {
      "cell_type": "code",
      "execution_count": 24,
      "metadata": {
        "id": "kJKHzOmvuWDx"
      },
      "outputs": [],
      "source": [
        "def introduction():\n",
        "    print(\"My name is: \", name)\n",
        "    print(\"I live in: \", city)"
      ]
    },
    {
      "cell_type": "code",
      "execution_count": 25,
      "metadata": {
        "colab": {
          "base_uri": "https://localhost:8080/"
        },
        "id": "HMNM3C9OuWDx",
        "outputId": "784b4a0e-7164-45bd-cb87-7b121937f046"
      },
      "outputs": [
        {
          "output_type": "stream",
          "name": "stdout",
          "text": [
            "My name is:  John\n",
            "I live in:  Toronto\n"
          ]
        }
      ],
      "source": [
        "introduction()"
      ]
    },
    {
      "cell_type": "code",
      "execution_count": 26,
      "metadata": {
        "id": "DXTk5LODuWDy"
      },
      "outputs": [],
      "source": [
        "name = \"Lily\"\n",
        "city = \"New York\""
      ]
    },
    {
      "cell_type": "code",
      "execution_count": 27,
      "metadata": {
        "colab": {
          "base_uri": "https://localhost:8080/"
        },
        "id": "33-wCfFsuWDy",
        "outputId": "d1ed6067-dd1e-4d27-a2fb-837a01ca6d99"
      },
      "outputs": [
        {
          "output_type": "stream",
          "name": "stdout",
          "text": [
            "My name is:  Lily\n",
            "I live in:  New York\n"
          ]
        }
      ],
      "source": [
        "introduction()"
      ]
    },
    {
      "cell_type": "code",
      "execution_count": 28,
      "metadata": {
        "id": "c_nBXeRUuWDy"
      },
      "outputs": [],
      "source": [
        "name = \"Lily\"\n",
        "city = \"Seattle\""
      ]
    },
    {
      "cell_type": "code",
      "execution_count": 29,
      "metadata": {
        "colab": {
          "base_uri": "https://localhost:8080/"
        },
        "id": "GNxpFLYquWDy",
        "outputId": "8ece99d7-6126-457b-f1d0-230056c248fa"
      },
      "outputs": [
        {
          "output_type": "stream",
          "name": "stdout",
          "text": [
            "My name is:  Lily\n",
            "I live in:  Seattle\n"
          ]
        }
      ],
      "source": [
        "introduction()"
      ]
    },
    {
      "cell_type": "code",
      "execution_count": 30,
      "metadata": {
        "colab": {
          "base_uri": "https://localhost:8080/",
          "height": 166
        },
        "id": "J_UzBFmpuWDy",
        "outputId": "c7d80467-12fa-4d1f-9a92-840506159058"
      },
      "outputs": [
        {
          "output_type": "error",
          "ename": "TypeError",
          "evalue": "ignored",
          "traceback": [
            "\u001b[0;31m---------------------------------------------------------------------------\u001b[0m",
            "\u001b[0;31mTypeError\u001b[0m                                 Traceback (most recent call last)",
            "\u001b[0;32m<ipython-input-30-338addf90d45>\u001b[0m in \u001b[0;36m<module>\u001b[0;34m()\u001b[0m\n\u001b[0;32m----> 1\u001b[0;31m \u001b[0;34m\"a\"\u001b[0m \u001b[0;34m+\u001b[0m \u001b[0;36m2\u001b[0m\u001b[0;34m\u001b[0m\u001b[0;34m\u001b[0m\u001b[0m\n\u001b[0m",
            "\u001b[0;31mTypeError\u001b[0m: can only concatenate str (not \"int\") to str"
          ]
        }
      ],
      "source": [
        "\"a\" + 2"
      ]
    },
    {
      "cell_type": "code",
      "execution_count": 31,
      "metadata": {
        "id": "xz9mOiTsuWDy"
      },
      "outputs": [],
      "source": [
        "def function_with_error():\n",
        "    result = \"a\" + 2\n",
        "    \n",
        "    print(result)"
      ]
    },
    {
      "cell_type": "code",
      "execution_count": 32,
      "metadata": {
        "colab": {
          "base_uri": "https://localhost:8080/",
          "height": 270
        },
        "id": "1eHDOQmUuWDy",
        "outputId": "4edbf05e-8f65-42b8-cfba-7615b5aad38b"
      },
      "outputs": [
        {
          "output_type": "error",
          "ename": "TypeError",
          "evalue": "ignored",
          "traceback": [
            "\u001b[0;31m---------------------------------------------------------------------------\u001b[0m",
            "\u001b[0;31mTypeError\u001b[0m                                 Traceback (most recent call last)",
            "\u001b[0;32m<ipython-input-32-deb8f53c49ec>\u001b[0m in \u001b[0;36m<module>\u001b[0;34m()\u001b[0m\n\u001b[0;32m----> 1\u001b[0;31m \u001b[0mfunction_with_error\u001b[0m\u001b[0;34m(\u001b[0m\u001b[0;34m)\u001b[0m\u001b[0;34m\u001b[0m\u001b[0;34m\u001b[0m\u001b[0m\n\u001b[0m",
            "\u001b[0;32m<ipython-input-31-94f7a855fe96>\u001b[0m in \u001b[0;36mfunction_with_error\u001b[0;34m()\u001b[0m\n\u001b[1;32m      1\u001b[0m \u001b[0;32mdef\u001b[0m \u001b[0mfunction_with_error\u001b[0m\u001b[0;34m(\u001b[0m\u001b[0;34m)\u001b[0m\u001b[0;34m:\u001b[0m\u001b[0;34m\u001b[0m\u001b[0;34m\u001b[0m\u001b[0m\n\u001b[0;32m----> 2\u001b[0;31m     \u001b[0mresult\u001b[0m \u001b[0;34m=\u001b[0m \u001b[0;34m\"a\"\u001b[0m \u001b[0;34m+\u001b[0m \u001b[0;36m2\u001b[0m\u001b[0;34m\u001b[0m\u001b[0;34m\u001b[0m\u001b[0m\n\u001b[0m\u001b[1;32m      3\u001b[0m \u001b[0;34m\u001b[0m\u001b[0m\n\u001b[1;32m      4\u001b[0m     \u001b[0mprint\u001b[0m\u001b[0;34m(\u001b[0m\u001b[0mresult\u001b[0m\u001b[0;34m)\u001b[0m\u001b[0;34m\u001b[0m\u001b[0;34m\u001b[0m\u001b[0m\n",
            "\u001b[0;31mTypeError\u001b[0m: can only concatenate str (not \"int\") to str"
          ]
        }
      ],
      "source": [
        "function_with_error()"
      ]
    },
    {
      "cell_type": "code",
      "execution_count": null,
      "metadata": {
        "id": "FsBKE2l6uWDy"
      },
      "outputs": [],
      "source": [
        ""
      ]
    },
    {
      "cell_type": "code",
      "execution_count": null,
      "metadata": {
        "id": "3yvyvgcUuWDy"
      },
      "outputs": [],
      "source": [
        ""
      ]
    },
    {
      "cell_type": "code",
      "execution_count": null,
      "metadata": {
        "id": "r0kkKHMyuWDy"
      },
      "outputs": [],
      "source": [
        ""
      ]
    },
    {
      "cell_type": "code",
      "execution_count": 33,
      "metadata": {
        "id": "h5SItazouWD6"
      },
      "outputs": [],
      "source": [
        "def my_introduction():\n",
        "    print(\"Hello, my name is Harry\")\n",
        "    print(\"I live and work in Dallas\")"
      ]
    },
    {
      "cell_type": "code",
      "execution_count": 34,
      "metadata": {
        "colab": {
          "base_uri": "https://localhost:8080/"
        },
        "id": "KPQ_dU9ruWD6",
        "outputId": "e155457d-e581-4ef2-a9ca-38612354967d"
      },
      "outputs": [
        {
          "output_type": "stream",
          "name": "stdout",
          "text": [
            "Hello, my name is Harry\n",
            "I live and work in Dallas\n"
          ]
        }
      ],
      "source": [
        "my_introduction()"
      ]
    },
    {
      "cell_type": "code",
      "execution_count": 35,
      "metadata": {
        "id": "mJovipiAuWD6"
      },
      "outputs": [],
      "source": [
        "def introduction(name):\n",
        "    print(\"Hello, my name is\", name)\n",
        "    print(\"I live and work in Dallas\")"
      ]
    },
    {
      "cell_type": "code",
      "execution_count": 36,
      "metadata": {
        "colab": {
          "base_uri": "https://localhost:8080/"
        },
        "id": "w5tneaQkuWD7",
        "outputId": "1d4caf44-9073-4ee7-9488-abc896e22c2b"
      },
      "outputs": [
        {
          "output_type": "stream",
          "name": "stdout",
          "text": [
            "Hello, my name is Lily\n",
            "I live and work in Dallas\n"
          ]
        }
      ],
      "source": [
        "introduction(\"Lily\")"
      ]
    },
    {
      "cell_type": "code",
      "execution_count": 37,
      "metadata": {
        "colab": {
          "base_uri": "https://localhost:8080/"
        },
        "id": "ailZsORRuWD7",
        "outputId": "8a091bd9-0f4e-4c90-e668-4b43cc718526"
      },
      "outputs": [
        {
          "output_type": "stream",
          "name": "stdout",
          "text": [
            "Hello, my name is Henry\n",
            "I live and work in Dallas\n"
          ]
        }
      ],
      "source": [
        "introduction(\"Henry\")"
      ]
    },
    {
      "cell_type": "code",
      "execution_count": 38,
      "metadata": {
        "id": "jFOk3KPUuWD7"
      },
      "outputs": [],
      "source": [
        "def general_introduction(name, city):\n",
        "    print(\"Hello, my name is\", name)\n",
        "    print(\"I live and work in\", city) "
      ]
    },
    {
      "cell_type": "code",
      "execution_count": 39,
      "metadata": {
        "colab": {
          "base_uri": "https://localhost:8080/"
        },
        "id": "f9ZSMIhyuWD7",
        "outputId": "3abca983-0c41-4b6f-c199-23456aab70a3"
      },
      "outputs": [
        {
          "output_type": "stream",
          "name": "stdout",
          "text": [
            "Hello, my name is Lily\n",
            "I live and work in San Francisco\n"
          ]
        }
      ],
      "source": [
        "general_introduction(\"Lily\", \"San Francisco\")"
      ]
    },
    {
      "cell_type": "code",
      "execution_count": 40,
      "metadata": {
        "colab": {
          "base_uri": "https://localhost:8080/"
        },
        "id": "hXta8RX0uWD7",
        "outputId": "2cf5f78e-505d-4a02-9a20-749fe0d5d654"
      },
      "outputs": [
        {
          "output_type": "stream",
          "name": "stdout",
          "text": [
            "Hello, my name is John\n",
            "I live and work in Dublin\n"
          ]
        }
      ],
      "source": [
        "general_introduction(\"John\", \"Dublin\")"
      ]
    },
    {
      "cell_type": "code",
      "execution_count": 41,
      "metadata": {
        "colab": {
          "base_uri": "https://localhost:8080/"
        },
        "id": "GdEML86auWD7",
        "outputId": "e635bd8f-6960-4182-e2ef-799b623eb564"
      },
      "outputs": [
        {
          "output_type": "stream",
          "name": "stdout",
          "text": [
            "Hello, my name is Dublin\n",
            "I live and work in John\n"
          ]
        }
      ],
      "source": [
        "general_introduction(\"Dublin\", \"John\")"
      ]
    },
    {
      "cell_type": "code",
      "execution_count": 42,
      "metadata": {
        "colab": {
          "base_uri": "https://localhost:8080/",
          "height": 166
        },
        "id": "jskV2bM2uWD7",
        "outputId": "61345c49-d35c-4efc-d9ad-92f15986d4ad"
      },
      "outputs": [
        {
          "output_type": "error",
          "ename": "TypeError",
          "evalue": "ignored",
          "traceback": [
            "\u001b[0;31m---------------------------------------------------------------------------\u001b[0m",
            "\u001b[0;31mTypeError\u001b[0m                                 Traceback (most recent call last)",
            "\u001b[0;32m<ipython-input-42-7ac7ccbe86ab>\u001b[0m in \u001b[0;36m<module>\u001b[0;34m()\u001b[0m\n\u001b[0;32m----> 1\u001b[0;31m \u001b[0mmy_introduction\u001b[0m\u001b[0;34m(\u001b[0m\u001b[0;34m\"Lily\"\u001b[0m\u001b[0;34m)\u001b[0m\u001b[0;34m\u001b[0m\u001b[0;34m\u001b[0m\u001b[0m\n\u001b[0m",
            "\u001b[0;31mTypeError\u001b[0m: my_introduction() takes 0 positional arguments but 1 was given"
          ]
        }
      ],
      "source": [
        "my_introduction(\"Lily\")"
      ]
    },
    {
      "cell_type": "code",
      "execution_count": 43,
      "metadata": {
        "colab": {
          "base_uri": "https://localhost:8080/",
          "height": 166
        },
        "id": "j75vZ67zuWD7",
        "outputId": "6118f2d1-8470-43cf-da44-b73445849764"
      },
      "outputs": [
        {
          "output_type": "error",
          "ename": "TypeError",
          "evalue": "ignored",
          "traceback": [
            "\u001b[0;31m---------------------------------------------------------------------------\u001b[0m",
            "\u001b[0;31mTypeError\u001b[0m                                 Traceback (most recent call last)",
            "\u001b[0;32m<ipython-input-43-48524bb229af>\u001b[0m in \u001b[0;36m<module>\u001b[0;34m()\u001b[0m\n\u001b[0;32m----> 1\u001b[0;31m \u001b[0mintroduction\u001b[0m\u001b[0;34m(\u001b[0m\u001b[0;34m\"Lily\"\u001b[0m\u001b[0;34m,\u001b[0m \u001b[0;34m\"San Francisco\"\u001b[0m\u001b[0;34m)\u001b[0m\u001b[0;34m\u001b[0m\u001b[0;34m\u001b[0m\u001b[0m\n\u001b[0m",
            "\u001b[0;31mTypeError\u001b[0m: introduction() takes 1 positional argument but 2 were given"
          ]
        }
      ],
      "source": [
        "introduction(\"Lily\", \"San Francisco\")"
      ]
    },
    {
      "cell_type": "code",
      "execution_count": 44,
      "metadata": {
        "colab": {
          "base_uri": "https://localhost:8080/",
          "height": 166
        },
        "id": "VaNgsI0_uWD7",
        "outputId": "3816dc48-6744-45a7-ab7b-5fa336b9a9d9"
      },
      "outputs": [
        {
          "output_type": "error",
          "ename": "TypeError",
          "evalue": "ignored",
          "traceback": [
            "\u001b[0;31m---------------------------------------------------------------------------\u001b[0m",
            "\u001b[0;31mTypeError\u001b[0m                                 Traceback (most recent call last)",
            "\u001b[0;32m<ipython-input-44-59b244acfeae>\u001b[0m in \u001b[0;36m<module>\u001b[0;34m()\u001b[0m\n\u001b[0;32m----> 1\u001b[0;31m \u001b[0mgeneral_introduction\u001b[0m\u001b[0;34m(\u001b[0m\u001b[0;34m\"Lily\"\u001b[0m\u001b[0;34m)\u001b[0m\u001b[0;34m\u001b[0m\u001b[0;34m\u001b[0m\u001b[0m\n\u001b[0m",
            "\u001b[0;31mTypeError\u001b[0m: general_introduction() missing 1 required positional argument: 'city'"
          ]
        }
      ],
      "source": [
        "general_introduction(\"Lily\")"
      ]
    },
    {
      "cell_type": "code",
      "execution_count": 45,
      "metadata": {
        "id": "2qIjsbfbuWD7"
      },
      "outputs": [],
      "source": [
        "def square(x):\n",
        "    \n",
        "    print(\"The square of\", x, \"is\", x*x)"
      ]
    },
    {
      "cell_type": "code",
      "execution_count": 46,
      "metadata": {
        "colab": {
          "base_uri": "https://localhost:8080/"
        },
        "id": "fhcYXgMVuWD8",
        "outputId": "d48f9ad0-5d1c-493d-e8dc-706eec4f15f8"
      },
      "outputs": [
        {
          "output_type": "stream",
          "name": "stdout",
          "text": [
            "The square of 3 is 9\n"
          ]
        }
      ],
      "source": [
        "square(3)"
      ]
    },
    {
      "cell_type": "code",
      "execution_count": 47,
      "metadata": {
        "colab": {
          "base_uri": "https://localhost:8080/"
        },
        "id": "FL9zrwvFuWD8",
        "outputId": "81cf914a-9296-4655-e726-4663d3a080ca"
      },
      "outputs": [
        {
          "output_type": "stream",
          "name": "stdout",
          "text": [
            "The square of 10001 is 100020001\n"
          ]
        }
      ],
      "source": [
        "square(10001)"
      ]
    },
    {
      "cell_type": "code",
      "execution_count": 48,
      "metadata": {
        "colab": {
          "base_uri": "https://localhost:8080/",
          "height": 253
        },
        "id": "bbtopWCauWD8",
        "outputId": "f222eb1a-3cb6-43de-836a-740e29694143"
      },
      "outputs": [
        {
          "output_type": "error",
          "ename": "TypeError",
          "evalue": "ignored",
          "traceback": [
            "\u001b[0;31m---------------------------------------------------------------------------\u001b[0m",
            "\u001b[0;31mTypeError\u001b[0m                                 Traceback (most recent call last)",
            "\u001b[0;32m<ipython-input-48-a6172ca4a02b>\u001b[0m in \u001b[0;36m<module>\u001b[0;34m()\u001b[0m\n\u001b[0;32m----> 1\u001b[0;31m \u001b[0msquare\u001b[0m\u001b[0;34m(\u001b[0m\u001b[0;34m\"James\"\u001b[0m\u001b[0;34m)\u001b[0m\u001b[0;34m\u001b[0m\u001b[0;34m\u001b[0m\u001b[0m\n\u001b[0m",
            "\u001b[0;32m<ipython-input-45-1b5ed80cb9d1>\u001b[0m in \u001b[0;36msquare\u001b[0;34m(x)\u001b[0m\n\u001b[1;32m      1\u001b[0m \u001b[0;32mdef\u001b[0m \u001b[0msquare\u001b[0m\u001b[0;34m(\u001b[0m\u001b[0mx\u001b[0m\u001b[0;34m)\u001b[0m\u001b[0;34m:\u001b[0m\u001b[0;34m\u001b[0m\u001b[0;34m\u001b[0m\u001b[0m\n\u001b[1;32m      2\u001b[0m \u001b[0;34m\u001b[0m\u001b[0m\n\u001b[0;32m----> 3\u001b[0;31m     \u001b[0mprint\u001b[0m\u001b[0;34m(\u001b[0m\u001b[0;34m\"The square of\"\u001b[0m\u001b[0;34m,\u001b[0m \u001b[0mx\u001b[0m\u001b[0;34m,\u001b[0m \u001b[0;34m\"is\"\u001b[0m\u001b[0;34m,\u001b[0m \u001b[0mx\u001b[0m\u001b[0;34m*\u001b[0m\u001b[0mx\u001b[0m\u001b[0;34m)\u001b[0m\u001b[0;34m\u001b[0m\u001b[0;34m\u001b[0m\u001b[0m\n\u001b[0m",
            "\u001b[0;31mTypeError\u001b[0m: can't multiply sequence by non-int of type 'str'"
          ]
        }
      ],
      "source": [
        "square(\"James\")"
      ]
    },
    {
      "cell_type": "code",
      "execution_count": 49,
      "metadata": {
        "colab": {
          "base_uri": "https://localhost:8080/"
        },
        "id": "8cznpLkiuWD8",
        "outputId": "90772f86-23c3-48e8-948d-012b17e38f9d"
      },
      "outputs": [
        {
          "output_type": "stream",
          "name": "stdout",
          "text": [
            "The square of 25 is 625\n"
          ]
        }
      ],
      "source": [
        "num = 25\n",
        "\n",
        "square(num)"
      ]
    },
    {
      "cell_type": "code",
      "execution_count": 50,
      "metadata": {
        "colab": {
          "base_uri": "https://localhost:8080/"
        },
        "id": "5Ig5F4ncuWD8",
        "outputId": "47b39b39-94a1-45cc-84f4-49b6e3eaaf26"
      },
      "outputs": [
        {
          "output_type": "stream",
          "name": "stdout",
          "text": [
            "The square of 25 is 625\n",
            "The square of 100 is 10000\n"
          ]
        }
      ],
      "source": [
        "another_num = 100\n",
        "\n",
        "square(num)\n",
        "square(another_num)"
      ]
    },
    {
      "cell_type": "code",
      "execution_count": 51,
      "metadata": {
        "id": "CyYfPMZZuWD8"
      },
      "outputs": [],
      "source": [
        "salary = 1000\n",
        "expense = 300\n",
        "\n",
        "def my_savings(a, b):\n",
        "    print(\"My total savings:\", salary - expense)"
      ]
    },
    {
      "cell_type": "code",
      "execution_count": 52,
      "metadata": {
        "colab": {
          "base_uri": "https://localhost:8080/"
        },
        "id": "hPSNYUMfuWD8",
        "outputId": "f93dc950-acfd-4b34-eec5-5bf23bd4064f"
      },
      "outputs": [
        {
          "output_type": "stream",
          "name": "stdout",
          "text": [
            "My total savings: 700\n"
          ]
        }
      ],
      "source": [
        "my_savings(1000, 300)"
      ]
    },
    {
      "cell_type": "code",
      "execution_count": 53,
      "metadata": {
        "colab": {
          "base_uri": "https://localhost:8080/"
        },
        "id": "hF_cD6t-uWD8",
        "outputId": "a653ee6d-0b9c-40fa-f15c-11870b2f2bb0"
      },
      "outputs": [
        {
          "output_type": "stream",
          "name": "stdout",
          "text": [
            "My total savings: 700\n"
          ]
        }
      ],
      "source": [
        "my_savings(1200, 400)"
      ]
    },
    {
      "cell_type": "code",
      "execution_count": 54,
      "metadata": {
        "id": "MbFArohBuWD8"
      },
      "outputs": [],
      "source": [
        "def my_actual_savings(a, b):\n",
        "    print(\"My actual savings:\", a - b)"
      ]
    },
    {
      "cell_type": "code",
      "execution_count": 55,
      "metadata": {
        "colab": {
          "base_uri": "https://localhost:8080/"
        },
        "id": "4cyKV-m9uWD8",
        "outputId": "8029b81e-f810-4add-cb28-d9a40d1c3827"
      },
      "outputs": [
        {
          "output_type": "stream",
          "name": "stdout",
          "text": [
            "My actual savings: 800\n"
          ]
        }
      ],
      "source": [
        "my_actual_savings(1200, 400)"
      ]
    },
    {
      "cell_type": "code",
      "execution_count": 56,
      "metadata": {
        "id": "LpAblhhUuWD9"
      },
      "outputs": [],
      "source": [
        "salary = 2000\n",
        "expense = 700\n",
        "\n",
        "def calculate_savings(salary, expense):\n",
        "     print(\"My savings are:\", salary - expense)"
      ]
    },
    {
      "cell_type": "code",
      "execution_count": 57,
      "metadata": {
        "colab": {
          "base_uri": "https://localhost:8080/",
          "height": 166
        },
        "id": "2ebwAHisuWD9",
        "outputId": "5b72afe7-df13-4a01-8208-0359caed67b6"
      },
      "outputs": [
        {
          "output_type": "error",
          "ename": "TypeError",
          "evalue": "ignored",
          "traceback": [
            "\u001b[0;31m---------------------------------------------------------------------------\u001b[0m",
            "\u001b[0;31mTypeError\u001b[0m                                 Traceback (most recent call last)",
            "\u001b[0;32m<ipython-input-57-bc57760535a5>\u001b[0m in \u001b[0;36m<module>\u001b[0;34m()\u001b[0m\n\u001b[0;32m----> 1\u001b[0;31m \u001b[0mcalculate_savings\u001b[0m\u001b[0;34m(\u001b[0m\u001b[0;34m)\u001b[0m\u001b[0;34m\u001b[0m\u001b[0;34m\u001b[0m\u001b[0m\n\u001b[0m",
            "\u001b[0;31mTypeError\u001b[0m: calculate_savings() missing 2 required positional arguments: 'salary' and 'expense'"
          ]
        }
      ],
      "source": [
        "calculate_savings()"
      ]
    },
    {
      "cell_type": "code",
      "execution_count": 58,
      "metadata": {
        "colab": {
          "base_uri": "https://localhost:8080/"
        },
        "id": "yI3adBGjuWD9",
        "outputId": "4935882f-597f-42dd-aaaf-755c2c84fccf"
      },
      "outputs": [
        {
          "output_type": "stream",
          "name": "stdout",
          "text": [
            "My savings are: 1300\n"
          ]
        }
      ],
      "source": [
        "calculate_savings(salary, expense)"
      ]
    },
    {
      "cell_type": "code",
      "execution_count": 59,
      "metadata": {
        "colab": {
          "base_uri": "https://localhost:8080/"
        },
        "id": "-9sPzQ1iuWD9",
        "outputId": "4823056a-42f2-4033-9c63-0837de89dd02"
      },
      "outputs": [
        {
          "output_type": "stream",
          "name": "stdout",
          "text": [
            "My savings are: 2000\n"
          ]
        }
      ],
      "source": [
        "calculate_savings(3000, 1000)"
      ]
    },
    {
      "cell_type": "code",
      "execution_count": 60,
      "metadata": {
        "colab": {
          "base_uri": "https://localhost:8080/"
        },
        "id": "qzFS_YXCuWD9",
        "outputId": "38e0f9a7-46c4-4436-d937-88d1199211be"
      },
      "outputs": [
        {
          "output_type": "stream",
          "name": "stdout",
          "text": [
            "My savings are: 1500\n"
          ]
        }
      ],
      "source": [
        "total_salary = 4000\n",
        "total_expense = 2500\n",
        "\n",
        "calculate_savings(total_salary, total_expense)"
      ]
    },
    {
      "cell_type": "code",
      "execution_count": 61,
      "metadata": {
        "id": "U6oaTX8suWD9"
      },
      "outputs": [],
      "source": [
        "def print_many_times(string, times):\n",
        "    \n",
        "    for i in range(times):\n",
        "        print(string)"
      ]
    },
    {
      "cell_type": "code",
      "execution_count": 62,
      "metadata": {
        "colab": {
          "base_uri": "https://localhost:8080/"
        },
        "id": "xvvlra7OuWD9",
        "outputId": "92414ae2-98fd-4d36-a96f-b9e72fab2090"
      },
      "outputs": [
        {
          "output_type": "stream",
          "name": "stdout",
          "text": [
            "Skillsoft\n",
            "Skillsoft\n",
            "Skillsoft\n",
            "Skillsoft\n",
            "Skillsoft\n"
          ]
        }
      ],
      "source": [
        "print_many_times(\"Skillsoft\", 5)"
      ]
    },
    {
      "cell_type": "code",
      "execution_count": 63,
      "metadata": {
        "colab": {
          "base_uri": "https://localhost:8080/",
          "height": 270
        },
        "id": "vYJnWIXnuWD-",
        "outputId": "18324c46-98f3-49da-ae52-c5fcf762aaff"
      },
      "outputs": [
        {
          "output_type": "error",
          "ename": "TypeError",
          "evalue": "ignored",
          "traceback": [
            "\u001b[0;31m---------------------------------------------------------------------------\u001b[0m",
            "\u001b[0;31mTypeError\u001b[0m                                 Traceback (most recent call last)",
            "\u001b[0;32m<ipython-input-63-fe7fb28e27c2>\u001b[0m in \u001b[0;36m<module>\u001b[0;34m()\u001b[0m\n\u001b[0;32m----> 1\u001b[0;31m \u001b[0mprint_many_times\u001b[0m\u001b[0;34m(\u001b[0m\u001b[0;36m5\u001b[0m\u001b[0;34m,\u001b[0m \u001b[0;34m\"Skillsoft\"\u001b[0m\u001b[0;34m)\u001b[0m\u001b[0;34m\u001b[0m\u001b[0;34m\u001b[0m\u001b[0m\n\u001b[0m",
            "\u001b[0;32m<ipython-input-61-098a3c53ab1f>\u001b[0m in \u001b[0;36mprint_many_times\u001b[0;34m(string, times)\u001b[0m\n\u001b[1;32m      1\u001b[0m \u001b[0;32mdef\u001b[0m \u001b[0mprint_many_times\u001b[0m\u001b[0;34m(\u001b[0m\u001b[0mstring\u001b[0m\u001b[0;34m,\u001b[0m \u001b[0mtimes\u001b[0m\u001b[0;34m)\u001b[0m\u001b[0;34m:\u001b[0m\u001b[0;34m\u001b[0m\u001b[0;34m\u001b[0m\u001b[0m\n\u001b[1;32m      2\u001b[0m \u001b[0;34m\u001b[0m\u001b[0m\n\u001b[0;32m----> 3\u001b[0;31m     \u001b[0;32mfor\u001b[0m \u001b[0mi\u001b[0m \u001b[0;32min\u001b[0m \u001b[0mrange\u001b[0m\u001b[0;34m(\u001b[0m\u001b[0mtimes\u001b[0m\u001b[0;34m)\u001b[0m\u001b[0;34m:\u001b[0m\u001b[0;34m\u001b[0m\u001b[0;34m\u001b[0m\u001b[0m\n\u001b[0m\u001b[1;32m      4\u001b[0m         \u001b[0mprint\u001b[0m\u001b[0;34m(\u001b[0m\u001b[0mstring\u001b[0m\u001b[0;34m)\u001b[0m\u001b[0;34m\u001b[0m\u001b[0;34m\u001b[0m\u001b[0m\n",
            "\u001b[0;31mTypeError\u001b[0m: 'str' object cannot be interpreted as an integer"
          ]
        }
      ],
      "source": [
        "print_many_times(5, \"Skillsoft\")"
      ]
    },
    {
      "cell_type": "code",
      "execution_count": 64,
      "metadata": {
        "id": "g2FWPQNouWD-"
      },
      "outputs": [],
      "source": [
        "def print_many_times_with_doc(string, times):\n",
        "    \n",
        "    \"\"\"\n",
        "        Prints the specified string the specified number of times\n",
        "        \n",
        "        The first argument is the string you want printed, the second\n",
        "        argument is the number of times you want the string printed\n",
        "        \n",
        "        Parameters (both required):\n",
        "        string(str): The string to be printed\n",
        "        times(int): The number of times the string should be printed\n",
        "        \n",
        "        Returns:\n",
        "        No return value\n",
        "    \n",
        "    \"\"\"\n",
        "    \n",
        "    for i in range(times):\n",
        "        print(string)"
      ]
    },
    {
      "cell_type": "code",
      "execution_count": 65,
      "metadata": {
        "colab": {
          "base_uri": "https://localhost:8080/",
          "height": 87
        },
        "id": "ZdaArpT-uWD-",
        "outputId": "4841bafe-ac59-4202-c5f9-5a32abc03e17"
      },
      "outputs": [
        {
          "output_type": "execute_result",
          "data": {
            "application/vnd.google.colaboratory.intrinsic+json": {
              "type": "string"
            },
            "text/plain": [
              "'\\n        Prints the specified string the specified number of times\\n        \\n        The first argument is the string you want printed, the second\\n        argument is the number of times you want the string printed\\n        \\n        Parameters (both required):\\n        string(str): The string to be printed\\n        times(int): The number of times the string should be printed\\n        \\n        Returns:\\n        No return value\\n    \\n    '"
            ]
          },
          "metadata": {},
          "execution_count": 65
        }
      ],
      "source": [
        "print_many_times_with_doc.__doc__"
      ]
    },
    {
      "cell_type": "code",
      "execution_count": 66,
      "metadata": {
        "colab": {
          "base_uri": "https://localhost:8080/"
        },
        "id": "PEwFNpFUuWD-",
        "outputId": "c6e9bbeb-61b4-4329-931b-2a2e95ec9790"
      },
      "outputs": [
        {
          "output_type": "stream",
          "name": "stdout",
          "text": [
            "\n",
            "        Prints the specified string the specified number of times\n",
            "        \n",
            "        The first argument is the string you want printed, the second\n",
            "        argument is the number of times you want the string printed\n",
            "        \n",
            "        Parameters (both required):\n",
            "        string(str): The string to be printed\n",
            "        times(int): The number of times the string should be printed\n",
            "        \n",
            "        Returns:\n",
            "        No return value\n",
            "    \n",
            "    \n"
          ]
        }
      ],
      "source": [
        "print(print_many_times_with_doc.__doc__)"
      ]
    },
    {
      "cell_type": "code",
      "execution_count": 67,
      "metadata": {
        "id": "2GaDk8pLuWD-"
      },
      "outputs": [],
      "source": [
        "def print_higher_number(a, b):\n",
        "    \n",
        "    if a > b:\n",
        "        print(\"Higher number is\", a)\n",
        "    else:\n",
        "        print(\"Higher number is\", b)"
      ]
    },
    {
      "cell_type": "code",
      "execution_count": 68,
      "metadata": {
        "colab": {
          "base_uri": "https://localhost:8080/"
        },
        "id": "qSaWeG76uWD-",
        "outputId": "687685fa-f76c-4f23-fa1c-02fd30c0fb9e"
      },
      "outputs": [
        {
          "output_type": "stream",
          "name": "stdout",
          "text": [
            "Higher number is 10\n"
          ]
        }
      ],
      "source": [
        "print_higher_number(10, 5)"
      ]
    },
    {
      "cell_type": "code",
      "execution_count": 69,
      "metadata": {
        "colab": {
          "base_uri": "https://localhost:8080/"
        },
        "id": "GhtbBKHxuWD-",
        "outputId": "e217db8b-3057-4795-a13b-ac88a1372f76"
      },
      "outputs": [
        {
          "output_type": "stream",
          "name": "stdout",
          "text": [
            "Higher number is 20\n"
          ]
        }
      ],
      "source": [
        "print_higher_number(10, 20)"
      ]
    },
    {
      "cell_type": "code",
      "execution_count": 70,
      "metadata": {
        "id": "lDyawtkduWD-"
      },
      "outputs": [],
      "source": [
        "def print_higher_number_with_error(a, b):\n",
        "    \n",
        "    if a > b:\n",
        "        print(\"Higher number is\", a)\n",
        "    else:\n",
        "        print(\"Higher number is\", b)\n",
        "        result = b + \"a\""
      ]
    },
    {
      "cell_type": "code",
      "execution_count": 71,
      "metadata": {
        "colab": {
          "base_uri": "https://localhost:8080/"
        },
        "id": "PFrec8ZOuWD-",
        "outputId": "318b31b5-0c8d-4e28-bda8-4790a2d663b4"
      },
      "outputs": [
        {
          "output_type": "stream",
          "name": "stdout",
          "text": [
            "Higher number is 10\n"
          ]
        }
      ],
      "source": [
        "print_higher_number_with_error(10, 5)"
      ]
    },
    {
      "cell_type": "code",
      "execution_count": 72,
      "metadata": {
        "colab": {
          "base_uri": "https://localhost:8080/",
          "height": 270
        },
        "id": "5Tkmm2AZuWD-",
        "outputId": "b8a09c86-2416-4b8c-cf9e-fb734e80af08"
      },
      "outputs": [
        {
          "output_type": "stream",
          "name": "stdout",
          "text": [
            "Higher number is 20\n"
          ]
        },
        {
          "output_type": "error",
          "ename": "TypeError",
          "evalue": "ignored",
          "traceback": [
            "\u001b[0;31m---------------------------------------------------------------------------\u001b[0m",
            "\u001b[0;31mTypeError\u001b[0m                                 Traceback (most recent call last)",
            "\u001b[0;32m<ipython-input-72-de96b8b790f9>\u001b[0m in \u001b[0;36m<module>\u001b[0;34m()\u001b[0m\n\u001b[0;32m----> 1\u001b[0;31m \u001b[0mprint_higher_number_with_error\u001b[0m\u001b[0;34m(\u001b[0m\u001b[0;36m10\u001b[0m\u001b[0;34m,\u001b[0m \u001b[0;36m20\u001b[0m\u001b[0;34m)\u001b[0m\u001b[0;34m\u001b[0m\u001b[0;34m\u001b[0m\u001b[0m\n\u001b[0m",
            "\u001b[0;32m<ipython-input-70-ebee5b91cfa0>\u001b[0m in \u001b[0;36mprint_higher_number_with_error\u001b[0;34m(a, b)\u001b[0m\n\u001b[1;32m      5\u001b[0m     \u001b[0;32melse\u001b[0m\u001b[0;34m:\u001b[0m\u001b[0;34m\u001b[0m\u001b[0;34m\u001b[0m\u001b[0m\n\u001b[1;32m      6\u001b[0m         \u001b[0mprint\u001b[0m\u001b[0;34m(\u001b[0m\u001b[0;34m\"Higher number is\"\u001b[0m\u001b[0;34m,\u001b[0m \u001b[0mb\u001b[0m\u001b[0;34m)\u001b[0m\u001b[0;34m\u001b[0m\u001b[0;34m\u001b[0m\u001b[0m\n\u001b[0;32m----> 7\u001b[0;31m         \u001b[0mresult\u001b[0m \u001b[0;34m=\u001b[0m \u001b[0mb\u001b[0m \u001b[0;34m+\u001b[0m \u001b[0;34m\"a\"\u001b[0m\u001b[0;34m\u001b[0m\u001b[0;34m\u001b[0m\u001b[0m\n\u001b[0m",
            "\u001b[0;31mTypeError\u001b[0m: unsupported operand type(s) for +: 'int' and 'str'"
          ]
        }
      ],
      "source": [
        "print_higher_number_with_error(10, 20)"
      ]
    },
    {
      "cell_type": "code",
      "execution_count": 73,
      "metadata": {
        "id": "SqUAAXVHuWD_"
      },
      "outputs": [],
      "source": [
        "def multiply(num_1, num_2, num_3):\n",
        "    \n",
        "    print(\"Multiplication result: \", num_1 * num_2 * num_3)"
      ]
    },
    {
      "cell_type": "code",
      "execution_count": 74,
      "metadata": {
        "colab": {
          "base_uri": "https://localhost:8080/"
        },
        "id": "xy7za_uHuWD_",
        "outputId": "80088ac8-ad9f-485b-8bad-c5cfbe78a832"
      },
      "outputs": [
        {
          "output_type": "stream",
          "name": "stdout",
          "text": [
            "Multiplication result:  9.2\n"
          ]
        }
      ],
      "source": [
        "multiply(1, 2.3, 4)"
      ]
    },
    {
      "cell_type": "code",
      "execution_count": 75,
      "metadata": {
        "colab": {
          "base_uri": "https://localhost:8080/",
          "height": 166
        },
        "id": "JicJM4mauWD_",
        "outputId": "7761e23c-af7e-4806-e7cc-fe59b7da02a1"
      },
      "outputs": [
        {
          "output_type": "error",
          "ename": "TypeError",
          "evalue": "ignored",
          "traceback": [
            "\u001b[0;31m---------------------------------------------------------------------------\u001b[0m",
            "\u001b[0;31mTypeError\u001b[0m                                 Traceback (most recent call last)",
            "\u001b[0;32m<ipython-input-75-e23e7348bb3d>\u001b[0m in \u001b[0;36m<module>\u001b[0;34m()\u001b[0m\n\u001b[0;32m----> 1\u001b[0;31m \u001b[0mmultiply\u001b[0m\u001b[0;34m(\u001b[0m\u001b[0;36m1\u001b[0m\u001b[0;34m,\u001b[0m \u001b[0;36m2.3\u001b[0m\u001b[0;34m,\u001b[0m \u001b[0;36m4\u001b[0m\u001b[0;34m,\u001b[0m \u001b[0;36m10\u001b[0m\u001b[0;34m)\u001b[0m\u001b[0;34m\u001b[0m\u001b[0;34m\u001b[0m\u001b[0m\n\u001b[0m",
            "\u001b[0;31mTypeError\u001b[0m: multiply() takes 3 positional arguments but 4 were given"
          ]
        }
      ],
      "source": [
        "multiply(1, 2.3, 4, 10)"
      ]
    },
    {
      "cell_type": "code",
      "execution_count": 76,
      "metadata": {
        "id": "EdwSjGjCuWD_"
      },
      "outputs": [],
      "source": [
        "def length(some_list):\n",
        "    \n",
        "    count = 0\n",
        "    for element in some_list:\n",
        "        count += 1\n",
        "        \n",
        "    print(\"The length of the list is\", count)"
      ]
    },
    {
      "cell_type": "code",
      "execution_count": 77,
      "metadata": {
        "colab": {
          "base_uri": "https://localhost:8080/"
        },
        "id": "-r0YiS1HuWD_",
        "outputId": "5e9570e3-6a3d-47eb-be4d-7d82281a8e49"
      },
      "outputs": [
        {
          "output_type": "stream",
          "name": "stdout",
          "text": [
            "The length of the list is 7\n"
          ]
        }
      ],
      "source": [
        "num_list = [4, 6, 12 ,7, 2, 9, 23]\n",
        "\n",
        "length(num_list)"
      ]
    },
    {
      "cell_type": "code",
      "execution_count": 78,
      "metadata": {
        "colab": {
          "base_uri": "https://localhost:8080/"
        },
        "id": "_i9p3aoouWD_",
        "outputId": "96459aef-8f6d-48b6-b88f-d87e184931cc"
      },
      "outputs": [
        {
          "output_type": "stream",
          "name": "stdout",
          "text": [
            "The length of the list is 4\n"
          ]
        }
      ],
      "source": [
        "cars_list = [\"Toyota\", \"Honda\", \"Hyundai\", \"Ford\"]\n",
        "\n",
        "length(cars_list)"
      ]
    },
    {
      "cell_type": "code",
      "execution_count": 79,
      "metadata": {
        "colab": {
          "base_uri": "https://localhost:8080/"
        },
        "id": "g83_MUTJuWD_",
        "outputId": "71b904d0-ca33-460e-f67c-292f0ecaabf6"
      },
      "outputs": [
        {
          "output_type": "stream",
          "name": "stdout",
          "text": [
            "The length of the list is 3\n"
          ]
        }
      ],
      "source": [
        "length([4.5, 7.8, 3.3])"
      ]
    },
    {
      "cell_type": "code",
      "execution_count": 80,
      "metadata": {
        "colab": {
          "base_uri": "https://localhost:8080/"
        },
        "id": "IYJP6FbguWD_",
        "outputId": "c2f3581a-bd01-4386-dac4-0bb7e9055d62"
      },
      "outputs": [
        {
          "output_type": "execute_result",
          "data": {
            "text/plain": [
              "7"
            ]
          },
          "metadata": {},
          "execution_count": 80
        }
      ],
      "source": [
        "len(num_list)"
      ]
    },
    {
      "cell_type": "code",
      "execution_count": 81,
      "metadata": {
        "colab": {
          "base_uri": "https://localhost:8080/"
        },
        "id": "FUTKv_LbuWD_",
        "outputId": "e6a67797-f3df-4fb5-b821-5022f57a976e"
      },
      "outputs": [
        {
          "output_type": "execute_result",
          "data": {
            "text/plain": [
              "4"
            ]
          },
          "metadata": {},
          "execution_count": 81
        }
      ],
      "source": [
        "len(cars_list)"
      ]
    },
    {
      "cell_type": "code",
      "execution_count": 82,
      "metadata": {
        "colab": {
          "base_uri": "https://localhost:8080/"
        },
        "id": "AuCXWXKTuWEA",
        "outputId": "68576556-9538-48a3-92bc-5c89c719974b"
      },
      "outputs": [
        {
          "output_type": "execute_result",
          "data": {
            "text/plain": [
              "4"
            ]
          },
          "metadata": {},
          "execution_count": 82
        }
      ],
      "source": [
        "num_cars = len(cars_list)\n",
        "\n",
        "num_cars"
      ]
    },
    {
      "cell_type": "code",
      "execution_count": 83,
      "metadata": {
        "colab": {
          "base_uri": "https://localhost:8080/"
        },
        "id": "r4vPo0x0uWEA",
        "outputId": "73d21988-0100-4d34-cacb-820b24e7772e"
      },
      "outputs": [
        {
          "output_type": "stream",
          "name": "stdout",
          "text": [
            "The length of the list is 4\n"
          ]
        }
      ],
      "source": [
        "num_cars = length(cars_list)"
      ]
    },
    {
      "cell_type": "code",
      "execution_count": 84,
      "metadata": {
        "id": "1KJq1dLVuWEA"
      },
      "outputs": [],
      "source": [
        "num_cars"
      ]
    },
    {
      "cell_type": "code",
      "execution_count": 85,
      "metadata": {
        "colab": {
          "base_uri": "https://localhost:8080/"
        },
        "id": "lF-glNA5uWEA",
        "outputId": "669fe1bf-b804-45be-9675-ef736817da5d"
      },
      "outputs": [
        {
          "output_type": "stream",
          "name": "stdout",
          "text": [
            "None\n"
          ]
        }
      ],
      "source": [
        "print(num_cars)"
      ]
    },
    {
      "cell_type": "code",
      "execution_count": null,
      "metadata": {
        "id": "e9InzZDUuWEA"
      },
      "outputs": [],
      "source": [
        ""
      ]
    },
    {
      "cell_type": "code",
      "source": [
        ""
      ],
      "metadata": {
        "id": "Cr1A2PzqyFg7"
      },
      "execution_count": null,
      "outputs": []
    },
    {
      "cell_type": "code",
      "source": [
        ""
      ],
      "metadata": {
        "id": "w8ulLcNJyFWj"
      },
      "execution_count": null,
      "outputs": []
    },
    {
      "cell_type": "code",
      "execution_count": 86,
      "metadata": {
        "id": "UpeR9r8EuWEN"
      },
      "outputs": [],
      "source": [
        "def subtract(num_1, num_2):\n",
        "\n",
        "    result = num_1 - num_2"
      ]
    },
    {
      "cell_type": "code",
      "execution_count": 87,
      "metadata": {
        "id": "e_MMv8FXuWEN"
      },
      "outputs": [],
      "source": [
        "subtract(10, 7.7)"
      ]
    },
    {
      "cell_type": "code",
      "execution_count": 88,
      "metadata": {
        "id": "Dms1uKexuWEN"
      },
      "outputs": [],
      "source": [
        "r = subtract(100, 50)"
      ]
    },
    {
      "cell_type": "code",
      "execution_count": 89,
      "metadata": {
        "colab": {
          "base_uri": "https://localhost:8080/"
        },
        "id": "0Bk2q1A9uWEN",
        "outputId": "30666569-c5bd-4ade-b3ce-1aaedfc1a1c2"
      },
      "outputs": [
        {
          "output_type": "stream",
          "name": "stdout",
          "text": [
            "None\n"
          ]
        }
      ],
      "source": [
        "print(r)"
      ]
    },
    {
      "cell_type": "code",
      "execution_count": 90,
      "metadata": {
        "colab": {
          "base_uri": "https://localhost:8080/"
        },
        "id": "tbuMBZt6uWEN",
        "outputId": "be18990b-e018-4d68-cb38-21e9da50b8e9"
      },
      "outputs": [
        {
          "output_type": "execute_result",
          "data": {
            "text/plain": [
              "NoneType"
            ]
          },
          "metadata": {},
          "execution_count": 90
        }
      ],
      "source": [
        "type(r)"
      ]
    },
    {
      "cell_type": "code",
      "execution_count": 91,
      "metadata": {
        "id": "hgnin2vmuWEN"
      },
      "outputs": [],
      "source": [
        "def subtract_returns_none_by_default(num_1, num_2):\n",
        "\n",
        "    result = num_1 - num_2\n",
        "    \n",
        "    return None"
      ]
    },
    {
      "cell_type": "code",
      "execution_count": 92,
      "metadata": {
        "colab": {
          "base_uri": "https://localhost:8080/"
        },
        "id": "lEolUsy5uWEO",
        "outputId": "754de746-a711-4467-c43f-ce63da0db86d"
      },
      "outputs": [
        {
          "output_type": "stream",
          "name": "stdout",
          "text": [
            "None\n"
          ]
        }
      ],
      "source": [
        "r = subtract_returns_none_by_default(100, 50)\n",
        "\n",
        "print(r)"
      ]
    },
    {
      "cell_type": "code",
      "execution_count": 93,
      "metadata": {
        "colab": {
          "base_uri": "https://localhost:8080/"
        },
        "id": "_h6fB1HtuWEO",
        "outputId": "a358b10e-bc35-477b-c227-296b2630c0c8"
      },
      "outputs": [
        {
          "output_type": "execute_result",
          "data": {
            "text/plain": [
              "NoneType"
            ]
          },
          "metadata": {},
          "execution_count": 93
        }
      ],
      "source": [
        "type(r)"
      ]
    },
    {
      "cell_type": "code",
      "execution_count": 94,
      "metadata": {
        "id": "sRA8xmx7uWEO"
      },
      "outputs": [],
      "source": [
        "def subtract_returns_a_result(num_1, num_2):\n",
        "\n",
        "    result = num_1 - num_2\n",
        "    \n",
        "    return result"
      ]
    },
    {
      "cell_type": "code",
      "execution_count": 95,
      "metadata": {
        "colab": {
          "base_uri": "https://localhost:8080/"
        },
        "id": "-Ypi1WpVuWEO",
        "outputId": "08a41d3f-1ba4-4037-94fa-1f1ddf81f2de"
      },
      "outputs": [
        {
          "output_type": "stream",
          "name": "stdout",
          "text": [
            "50\n"
          ]
        }
      ],
      "source": [
        "r = subtract_returns_a_result(100, 50)\n",
        "\n",
        "print(r)"
      ]
    },
    {
      "cell_type": "code",
      "execution_count": 96,
      "metadata": {
        "id": "iLpmYIhBuWEO"
      },
      "outputs": [],
      "source": [
        "def length(some_list):\n",
        "    \n",
        "    count = 0\n",
        "    for element in some_list:\n",
        "        count += 1\n",
        "        \n",
        "    print(\"The length of the list is\", count)\n",
        "    \n",
        "    return count"
      ]
    },
    {
      "cell_type": "code",
      "execution_count": 97,
      "metadata": {
        "colab": {
          "base_uri": "https://localhost:8080/"
        },
        "id": "N9-PvUQruWEO",
        "outputId": "9f8fdf95-bab8-436d-8ecd-861a3b1bb94b"
      },
      "outputs": [
        {
          "output_type": "stream",
          "name": "stdout",
          "text": [
            "The length of the list is 3\n"
          ]
        }
      ],
      "source": [
        "l = length([100, 200, 300])"
      ]
    },
    {
      "cell_type": "code",
      "execution_count": 98,
      "metadata": {
        "colab": {
          "base_uri": "https://localhost:8080/"
        },
        "id": "9NTDYpriuWEO",
        "outputId": "35dcdeba-cf59-4abe-e68d-eae7b2131891"
      },
      "outputs": [
        {
          "output_type": "execute_result",
          "data": {
            "text/plain": [
              "3"
            ]
          },
          "metadata": {},
          "execution_count": 98
        }
      ],
      "source": [
        "l"
      ]
    },
    {
      "cell_type": "code",
      "execution_count": 99,
      "metadata": {
        "colab": {
          "base_uri": "https://localhost:8080/"
        },
        "id": "H04ddCTDuWEO",
        "outputId": "af10ed59-02ad-40c2-c1fe-23eee72b5e80"
      },
      "outputs": [
        {
          "output_type": "stream",
          "name": "stdout",
          "text": [
            "3\n"
          ]
        }
      ],
      "source": [
        "print(l)"
      ]
    },
    {
      "cell_type": "code",
      "execution_count": 100,
      "metadata": {
        "id": "-xyPI3M8uWEO"
      },
      "outputs": [],
      "source": [
        "def find_max_in_list(some_list):\n",
        "    \n",
        "    max_element = some_list[0]\n",
        "    \n",
        "    length = len(some_list)\n",
        "    \n",
        "    for i in range(1, length):\n",
        "\n",
        "        if some_list[i] > max_element:\n",
        "                max_element = some_list[i]\n",
        "    \n",
        "    return max_element"
      ]
    },
    {
      "cell_type": "code",
      "execution_count": 101,
      "metadata": {
        "id": "HB7U8gaHuWEO"
      },
      "outputs": [],
      "source": [
        "num_list = [5, 4, 6, 7, 2, 10, 11, 3]"
      ]
    },
    {
      "cell_type": "code",
      "execution_count": 102,
      "metadata": {
        "colab": {
          "base_uri": "https://localhost:8080/"
        },
        "id": "BkBbWyRTuWEO",
        "outputId": "d7450d5c-5f37-4efe-eeda-bd8d5da311b0"
      },
      "outputs": [
        {
          "output_type": "stream",
          "name": "stdout",
          "text": [
            "11\n"
          ]
        }
      ],
      "source": [
        "max_element = find_max_in_list(num_list)\n",
        "\n",
        "print(max_element)"
      ]
    },
    {
      "cell_type": "code",
      "execution_count": 103,
      "metadata": {
        "id": "65bssO8BuWEP"
      },
      "outputs": [],
      "source": [
        "num_list.append(24)"
      ]
    },
    {
      "cell_type": "code",
      "execution_count": 104,
      "metadata": {
        "colab": {
          "base_uri": "https://localhost:8080/"
        },
        "id": "kIi8mW9vuWEP",
        "outputId": "4bdfb677-713e-458d-9068-f8d73d3dc018"
      },
      "outputs": [
        {
          "output_type": "stream",
          "name": "stdout",
          "text": [
            "24\n"
          ]
        }
      ],
      "source": [
        "max_element = find_max_in_list(num_list)\n",
        "\n",
        "print(max_element)"
      ]
    },
    {
      "cell_type": "code",
      "execution_count": 105,
      "metadata": {
        "id": "gBds-1fnuWEP"
      },
      "outputs": [],
      "source": [
        "def empty_return(x, y):\n",
        "    total = x + y\n",
        "\n",
        "    return"
      ]
    },
    {
      "cell_type": "code",
      "execution_count": 106,
      "metadata": {
        "id": "q5cJ28tiuWEP"
      },
      "outputs": [],
      "source": [
        "result = empty_return(10, 20)"
      ]
    },
    {
      "cell_type": "code",
      "execution_count": 107,
      "metadata": {
        "colab": {
          "base_uri": "https://localhost:8080/"
        },
        "id": "UTi186zQuWEP",
        "outputId": "719e5675-fb89-4d1b-8692-14234ecc9497"
      },
      "outputs": [
        {
          "output_type": "stream",
          "name": "stdout",
          "text": [
            "None\n"
          ]
        }
      ],
      "source": [
        "print(result)"
      ]
    },
    {
      "cell_type": "code",
      "execution_count": 108,
      "metadata": {
        "colab": {
          "base_uri": "https://localhost:8080/"
        },
        "id": "CWB8dd4IuWEP",
        "outputId": "2b101994-7794-48ed-f480-c629f5e86cf2"
      },
      "outputs": [
        {
          "output_type": "execute_result",
          "data": {
            "text/plain": [
              "NoneType"
            ]
          },
          "metadata": {},
          "execution_count": 108
        }
      ],
      "source": [
        "type(result)"
      ]
    },
    {
      "cell_type": "code",
      "execution_count": 109,
      "metadata": {
        "id": "_iboPHsKuWEP"
      },
      "outputs": [],
      "source": [
        "def add_sub(x, y):\n",
        "\n",
        "    add_result = x + y\n",
        "    sub_result = x - y\n",
        "    \n",
        "    return add_result, sub_result"
      ]
    },
    {
      "cell_type": "code",
      "execution_count": 110,
      "metadata": {
        "colab": {
          "base_uri": "https://localhost:8080/"
        },
        "id": "xJaFuxCkuWEP",
        "outputId": "3782dc7f-0283-4979-f709-5b32e4403c7e"
      },
      "outputs": [
        {
          "output_type": "execute_result",
          "data": {
            "text/plain": [
              "(9, 1)"
            ]
          },
          "metadata": {},
          "execution_count": 110
        }
      ],
      "source": [
        "add_sub(5, 4)"
      ]
    },
    {
      "cell_type": "code",
      "execution_count": 111,
      "metadata": {
        "colab": {
          "base_uri": "https://localhost:8080/"
        },
        "id": "5w2HNT9xuWEP",
        "outputId": "f22b0f48-b2f5-4689-e1ff-af47674320c7"
      },
      "outputs": [
        {
          "output_type": "execute_result",
          "data": {
            "text/plain": [
              "(9, 1)"
            ]
          },
          "metadata": {},
          "execution_count": 111
        }
      ],
      "source": [
        "result = add_sub(5, 4)\n",
        "\n",
        "result"
      ]
    },
    {
      "cell_type": "code",
      "execution_count": 112,
      "metadata": {
        "id": "ixd_YMcbuWEP"
      },
      "outputs": [],
      "source": [
        "result_1, result_2 = add_sub(5, 4)"
      ]
    },
    {
      "cell_type": "code",
      "execution_count": 113,
      "metadata": {
        "colab": {
          "base_uri": "https://localhost:8080/"
        },
        "id": "F6DE88jfuWEP",
        "outputId": "1164467e-9dea-4e0f-ca1a-99881d6fca64"
      },
      "outputs": [
        {
          "output_type": "execute_result",
          "data": {
            "text/plain": [
              "9"
            ]
          },
          "metadata": {},
          "execution_count": 113
        }
      ],
      "source": [
        "result_1"
      ]
    },
    {
      "cell_type": "code",
      "execution_count": 114,
      "metadata": {
        "colab": {
          "base_uri": "https://localhost:8080/"
        },
        "id": "7_wVprt7uWEP",
        "outputId": "4335c5b2-961b-4ed7-a107-55a4aac21027"
      },
      "outputs": [
        {
          "output_type": "execute_result",
          "data": {
            "text/plain": [
              "1"
            ]
          },
          "metadata": {},
          "execution_count": 114
        }
      ],
      "source": [
        "result_2"
      ]
    },
    {
      "cell_type": "code",
      "execution_count": 115,
      "metadata": {
        "colab": {
          "base_uri": "https://localhost:8080/"
        },
        "id": "TAwdK0J9uWEQ",
        "outputId": "f142ad9b-873e-4564-eb2d-23dabbf8e93b"
      },
      "outputs": [
        {
          "output_type": "execute_result",
          "data": {
            "text/plain": [
              "9"
            ]
          },
          "metadata": {},
          "execution_count": 115
        }
      ],
      "source": [
        "result_1, _ = add_sub(5, 4)\n",
        "\n",
        "result_1"
      ]
    },
    {
      "cell_type": "code",
      "execution_count": 116,
      "metadata": {
        "colab": {
          "base_uri": "https://localhost:8080/"
        },
        "id": "BVQsPbp0uWEQ",
        "outputId": "0ea08b45-1009-43ab-cf5b-534a144292ba"
      },
      "outputs": [
        {
          "output_type": "execute_result",
          "data": {
            "text/plain": [
              "1"
            ]
          },
          "metadata": {},
          "execution_count": 116
        }
      ],
      "source": [
        "_, result_2 = add_sub(5, 4)\n",
        "\n",
        "result_2"
      ]
    },
    {
      "cell_type": "code",
      "execution_count": 117,
      "metadata": {
        "id": "sT5NvzCRuWEQ"
      },
      "outputs": [],
      "source": [
        "def positive_or_negative(num):\n",
        "    \n",
        "    if num > 0:\n",
        "        return \"Positive!\"\n",
        "    \n",
        "    else:\n",
        "        return \"Zero or negative\""
      ]
    },
    {
      "cell_type": "code",
      "execution_count": 118,
      "metadata": {
        "colab": {
          "base_uri": "https://localhost:8080/",
          "height": 35
        },
        "id": "oE77hmuVuWEQ",
        "outputId": "9bf885a3-eff6-4dcd-8876-85807c92d3c2"
      },
      "outputs": [
        {
          "output_type": "execute_result",
          "data": {
            "application/vnd.google.colaboratory.intrinsic+json": {
              "type": "string"
            },
            "text/plain": [
              "'Positive!'"
            ]
          },
          "metadata": {},
          "execution_count": 118
        }
      ],
      "source": [
        "positive_or_negative(20)"
      ]
    },
    {
      "cell_type": "code",
      "execution_count": 119,
      "metadata": {
        "colab": {
          "base_uri": "https://localhost:8080/",
          "height": 35
        },
        "id": "L9H3xFZ1uWEQ",
        "outputId": "b7ec3cdb-75de-4b72-e55c-c8d4dce30de4"
      },
      "outputs": [
        {
          "output_type": "execute_result",
          "data": {
            "application/vnd.google.colaboratory.intrinsic+json": {
              "type": "string"
            },
            "text/plain": [
              "'Zero or negative'"
            ]
          },
          "metadata": {},
          "execution_count": 119
        }
      ],
      "source": [
        "positive_or_negative(-10)"
      ]
    },
    {
      "cell_type": "code",
      "execution_count": 120,
      "metadata": {
        "id": "Jgk_z4lPuWEQ"
      },
      "outputs": [],
      "source": [
        "def positive_negative_zero(num):\n",
        "    \n",
        "    if num > 0:\n",
        "        return \"Positive!\"\n",
        "    \n",
        "    elif num < 0:\n",
        "        return \"Negative!\"\n",
        "    \n",
        "    else:\n",
        "        return \"Zero\""
      ]
    },
    {
      "cell_type": "code",
      "execution_count": 121,
      "metadata": {
        "colab": {
          "base_uri": "https://localhost:8080/",
          "height": 35
        },
        "id": "ISksN6oeuWEQ",
        "outputId": "a9ce10cf-8529-42b3-85d6-104517b626ee"
      },
      "outputs": [
        {
          "output_type": "execute_result",
          "data": {
            "application/vnd.google.colaboratory.intrinsic+json": {
              "type": "string"
            },
            "text/plain": [
              "'Positive!'"
            ]
          },
          "metadata": {},
          "execution_count": 121
        }
      ],
      "source": [
        "positive_negative_zero(90)"
      ]
    },
    {
      "cell_type": "code",
      "execution_count": 122,
      "metadata": {
        "colab": {
          "base_uri": "https://localhost:8080/",
          "height": 35
        },
        "id": "FrdJCue1uWEQ",
        "outputId": "25b0c250-92c8-4dac-e7c0-2d562eeaf763"
      },
      "outputs": [
        {
          "output_type": "execute_result",
          "data": {
            "application/vnd.google.colaboratory.intrinsic+json": {
              "type": "string"
            },
            "text/plain": [
              "'Negative!'"
            ]
          },
          "metadata": {},
          "execution_count": 122
        }
      ],
      "source": [
        "positive_negative_zero(-90)"
      ]
    },
    {
      "cell_type": "code",
      "execution_count": 123,
      "metadata": {
        "colab": {
          "base_uri": "https://localhost:8080/",
          "height": 35
        },
        "id": "Gzp2OMTLuWEQ",
        "outputId": "e93b8914-b676-4758-8eb8-f9fa1d66cd6c"
      },
      "outputs": [
        {
          "output_type": "execute_result",
          "data": {
            "application/vnd.google.colaboratory.intrinsic+json": {
              "type": "string"
            },
            "text/plain": [
              "'Zero'"
            ]
          },
          "metadata": {},
          "execution_count": 123
        }
      ],
      "source": [
        "positive_negative_zero(0)"
      ]
    },
    {
      "cell_type": "code",
      "execution_count": 124,
      "metadata": {
        "id": "gJFgqfPtuWEQ"
      },
      "outputs": [],
      "source": [
        "def positive_negative_zero_forgotreturn(num):\n",
        "    \n",
        "    if num > 0:\n",
        "        return \"Positive!\"\n",
        "    \n",
        "    elif num < 0:\n",
        "        return \"Negative!\""
      ]
    },
    {
      "cell_type": "code",
      "execution_count": 125,
      "metadata": {
        "colab": {
          "base_uri": "https://localhost:8080/",
          "height": 35
        },
        "id": "HCJmuJlBuWEQ",
        "outputId": "bca72aec-2b10-4666-c107-cd223cca1dde"
      },
      "outputs": [
        {
          "output_type": "execute_result",
          "data": {
            "application/vnd.google.colaboratory.intrinsic+json": {
              "type": "string"
            },
            "text/plain": [
              "'Positive!'"
            ]
          },
          "metadata": {},
          "execution_count": 125
        }
      ],
      "source": [
        "positive_negative_zero_forgotreturn(90)"
      ]
    },
    {
      "cell_type": "code",
      "execution_count": 126,
      "metadata": {
        "colab": {
          "base_uri": "https://localhost:8080/",
          "height": 35
        },
        "id": "w19TAFyluWER",
        "outputId": "969f193b-47d7-400c-8acb-b133c722941f"
      },
      "outputs": [
        {
          "output_type": "execute_result",
          "data": {
            "application/vnd.google.colaboratory.intrinsic+json": {
              "type": "string"
            },
            "text/plain": [
              "'Negative!'"
            ]
          },
          "metadata": {},
          "execution_count": 126
        }
      ],
      "source": [
        "positive_negative_zero_forgotreturn(-10)"
      ]
    },
    {
      "cell_type": "code",
      "execution_count": 127,
      "metadata": {
        "id": "OV9BwP_KuWER"
      },
      "outputs": [],
      "source": [
        "positive_negative_zero_forgotreturn(0)"
      ]
    },
    {
      "cell_type": "code",
      "execution_count": 128,
      "metadata": {
        "colab": {
          "base_uri": "https://localhost:8080/",
          "height": 322
        },
        "id": "kBa06L1zuWER",
        "outputId": "4b5e6c8b-323d-48ae-f7bd-87e0e2caf698"
      },
      "outputs": [
        {
          "output_type": "error",
          "ename": "IndexError",
          "evalue": "ignored",
          "traceback": [
            "\u001b[0;31m---------------------------------------------------------------------------\u001b[0m",
            "\u001b[0;31mIndexError\u001b[0m                                Traceback (most recent call last)",
            "\u001b[0;32m<ipython-input-128-1d4f38f0c2a4>\u001b[0m in \u001b[0;36m<module>\u001b[0;34m()\u001b[0m\n\u001b[1;32m      1\u001b[0m \u001b[0mempty_list\u001b[0m \u001b[0;34m=\u001b[0m \u001b[0;34m[\u001b[0m\u001b[0;34m]\u001b[0m\u001b[0;34m\u001b[0m\u001b[0;34m\u001b[0m\u001b[0m\n\u001b[1;32m      2\u001b[0m \u001b[0;34m\u001b[0m\u001b[0m\n\u001b[0;32m----> 3\u001b[0;31m \u001b[0mfind_max_in_list\u001b[0m\u001b[0;34m(\u001b[0m\u001b[0mempty_list\u001b[0m\u001b[0;34m)\u001b[0m\u001b[0;34m\u001b[0m\u001b[0;34m\u001b[0m\u001b[0m\n\u001b[0m",
            "\u001b[0;32m<ipython-input-100-29a9c6cd16f0>\u001b[0m in \u001b[0;36mfind_max_in_list\u001b[0;34m(some_list)\u001b[0m\n\u001b[1;32m      1\u001b[0m \u001b[0;32mdef\u001b[0m \u001b[0mfind_max_in_list\u001b[0m\u001b[0;34m(\u001b[0m\u001b[0msome_list\u001b[0m\u001b[0;34m)\u001b[0m\u001b[0;34m:\u001b[0m\u001b[0;34m\u001b[0m\u001b[0;34m\u001b[0m\u001b[0m\n\u001b[1;32m      2\u001b[0m \u001b[0;34m\u001b[0m\u001b[0m\n\u001b[0;32m----> 3\u001b[0;31m     \u001b[0mmax_element\u001b[0m \u001b[0;34m=\u001b[0m \u001b[0msome_list\u001b[0m\u001b[0;34m[\u001b[0m\u001b[0;36m0\u001b[0m\u001b[0;34m]\u001b[0m\u001b[0;34m\u001b[0m\u001b[0;34m\u001b[0m\u001b[0m\n\u001b[0m\u001b[1;32m      4\u001b[0m \u001b[0;34m\u001b[0m\u001b[0m\n\u001b[1;32m      5\u001b[0m     \u001b[0mlength\u001b[0m \u001b[0;34m=\u001b[0m \u001b[0mlen\u001b[0m\u001b[0;34m(\u001b[0m\u001b[0msome_list\u001b[0m\u001b[0;34m)\u001b[0m\u001b[0;34m\u001b[0m\u001b[0;34m\u001b[0m\u001b[0m\n",
            "\u001b[0;31mIndexError\u001b[0m: list index out of range"
          ]
        }
      ],
      "source": [
        "empty_list = []\n",
        "\n",
        "find_max_in_list(empty_list)"
      ]
    },
    {
      "cell_type": "code",
      "execution_count": 129,
      "metadata": {
        "id": "KlCGvt8cuWER"
      },
      "outputs": [],
      "source": [
        "def find_max_in_list(some_list):\n",
        "    \n",
        "    if len(some_list) == 0:\n",
        "        print(\"Zero element list!\")\n",
        "        \n",
        "        return None\n",
        "    \n",
        "    max_element = some_list[0]\n",
        "    \n",
        "    length = len(some_list)\n",
        "    \n",
        "    for i in range(1, length):\n",
        "\n",
        "        if some_list[i] > max_element:\n",
        "                max_element = some_list[i]\n",
        "    \n",
        "    return max_element"
      ]
    },
    {
      "cell_type": "code",
      "execution_count": 130,
      "metadata": {
        "colab": {
          "base_uri": "https://localhost:8080/"
        },
        "id": "2DruOMpOuWER",
        "outputId": "c53adb8f-66de-43b8-dd38-1ddb266279b6"
      },
      "outputs": [
        {
          "output_type": "stream",
          "name": "stdout",
          "text": [
            "Zero element list!\n"
          ]
        }
      ],
      "source": [
        "find_max_in_list(empty_list)"
      ]
    },
    {
      "cell_type": "code",
      "execution_count": 131,
      "metadata": {
        "id": "jX5TvVP6uWER"
      },
      "outputs": [],
      "source": [
        "def find_first_capital_letter(some_string):\n",
        "    \n",
        "    capital_letter = None\n",
        "    \n",
        "    for ch in some_string:\n",
        "        if ch.upper() == ch and ch != \" \":\n",
        "            capital_letter = ch\n",
        "            break\n",
        "    \n",
        "    if capital_letter is None:\n",
        "        return \"No capital letters found\"\n",
        "    else:\n",
        "        return \"First capital letter \" + capital_letter"
      ]
    },
    {
      "cell_type": "code",
      "execution_count": 132,
      "metadata": {
        "colab": {
          "base_uri": "https://localhost:8080/",
          "height": 35
        },
        "id": "nnXCxUJ9uWER",
        "outputId": "f5272e3c-f4f8-42a9-cc2c-7ffe90219b8c"
      },
      "outputs": [
        {
          "output_type": "execute_result",
          "data": {
            "application/vnd.google.colaboratory.intrinsic+json": {
              "type": "string"
            },
            "text/plain": [
              "'First capital letter A'"
            ]
          },
          "metadata": {},
          "execution_count": 132
        }
      ],
      "source": [
        "find_first_capital_letter(\"how Are you\")"
      ]
    },
    {
      "cell_type": "code",
      "execution_count": 133,
      "metadata": {
        "colab": {
          "base_uri": "https://localhost:8080/",
          "height": 35
        },
        "id": "h-2eEaYIuWER",
        "outputId": "fb131795-dc45-4cbf-e3f6-5934b2455d32"
      },
      "outputs": [
        {
          "output_type": "execute_result",
          "data": {
            "application/vnd.google.colaboratory.intrinsic+json": {
              "type": "string"
            },
            "text/plain": [
              "'No capital letters found'"
            ]
          },
          "metadata": {},
          "execution_count": 133
        }
      ],
      "source": [
        "find_first_capital_letter(\"how are you\")"
      ]
    },
    {
      "cell_type": "code",
      "execution_count": 134,
      "metadata": {
        "id": "RqSpX-5wuWER"
      },
      "outputs": [],
      "source": [
        "def create_dictionary_representation(name, age, occupation):\n",
        "    \n",
        "    dictionary = {\n",
        "        \"name\": name,\n",
        "        \"age\": age,\n",
        "        \"occupation\": occupation\n",
        "    }\n",
        "    \n",
        "    return dictionary"
      ]
    },
    {
      "cell_type": "code",
      "execution_count": 135,
      "metadata": {
        "id": "Rm-ULajZuWER"
      },
      "outputs": [],
      "source": [
        "info_dictionary = create_dictionary_representation(\"John\", 35, \"Engineer\")"
      ]
    },
    {
      "cell_type": "code",
      "execution_count": 136,
      "metadata": {
        "colab": {
          "base_uri": "https://localhost:8080/"
        },
        "id": "vyC7tzsHuWER",
        "outputId": "f49c76dd-9259-4a5a-96e9-ef1cf3635d62"
      },
      "outputs": [
        {
          "output_type": "execute_result",
          "data": {
            "text/plain": [
              "{'age': 35, 'name': 'John', 'occupation': 'Engineer'}"
            ]
          },
          "metadata": {},
          "execution_count": 136
        }
      ],
      "source": [
        "info_dictionary"
      ]
    },
    {
      "cell_type": "code",
      "execution_count": 137,
      "metadata": {
        "id": "YMyMX9AAuWES"
      },
      "outputs": [],
      "source": [
        "def generate_list(name, num_elements):\n",
        "    \n",
        "    return_list = []\n",
        "\n",
        "    for i in range(num_elements):\n",
        "        return_list.append(name)\n",
        "        \n",
        "    return return_list"
      ]
    },
    {
      "cell_type": "code",
      "execution_count": 138,
      "metadata": {
        "colab": {
          "base_uri": "https://localhost:8080/"
        },
        "id": "RxcqfWLHuWES",
        "outputId": "4f786048-431a-4a5d-dc1b-551e1b11b6fe"
      },
      "outputs": [
        {
          "output_type": "execute_result",
          "data": {
            "text/plain": [
              "['Iris', 'Iris', 'Iris', 'Iris', 'Iris']"
            ]
          },
          "metadata": {},
          "execution_count": 138
        }
      ],
      "source": [
        "some_list = generate_list(\"Iris\", 5)\n",
        "\n",
        "some_list"
      ]
    },
    {
      "cell_type": "code",
      "execution_count": 139,
      "metadata": {
        "colab": {
          "base_uri": "https://localhost:8080/"
        },
        "id": "_LwEyZDMuWES",
        "outputId": "137286f1-d978-42a7-d592-e99299f2105e"
      },
      "outputs": [
        {
          "output_type": "execute_result",
          "data": {
            "text/plain": [
              "['Louise', 'Louise', 'Louise']"
            ]
          },
          "metadata": {},
          "execution_count": 139
        }
      ],
      "source": [
        "some_list = generate_list(\"Louise\", 3)\n",
        "\n",
        "some_list"
      ]
    },
    {
      "cell_type": "code",
      "execution_count": 140,
      "metadata": {
        "id": "22Hh4Xp6uWES"
      },
      "outputs": [],
      "source": [
        "def generate_list(name, num_elements):\n",
        "    \n",
        "    print(\"Generate list using list comprehension\")\n",
        "    return_list = [name for i in range(num_elements)]\n",
        "        \n",
        "    return return_list"
      ]
    },
    {
      "cell_type": "code",
      "execution_count": 141,
      "metadata": {
        "colab": {
          "base_uri": "https://localhost:8080/"
        },
        "id": "M8rh1_TguWES",
        "outputId": "ad31efd8-2fa0-43c3-f7ff-abd5affc4643"
      },
      "outputs": [
        {
          "output_type": "stream",
          "name": "stdout",
          "text": [
            "Generate list using list comprehension\n"
          ]
        },
        {
          "output_type": "execute_result",
          "data": {
            "text/plain": [
              "['Daisy', 'Daisy', 'Daisy', 'Daisy']"
            ]
          },
          "metadata": {},
          "execution_count": 141
        }
      ],
      "source": [
        "some_list = generate_list(\"Daisy\", 4)\n",
        "\n",
        "some_list"
      ]
    },
    {
      "cell_type": "code",
      "execution_count": 142,
      "metadata": {
        "id": "PXccg42LuWES"
      },
      "outputs": [],
      "source": [
        "def generate_list(name, num_elements):\n",
        "        \n",
        "    return [name for i in range(num_elements)]"
      ]
    },
    {
      "cell_type": "code",
      "execution_count": 143,
      "metadata": {
        "colab": {
          "base_uri": "https://localhost:8080/"
        },
        "id": "W10gr2qluWES",
        "outputId": "a00f0172-2656-4761-a826-357f0a0bb3f7"
      },
      "outputs": [
        {
          "output_type": "execute_result",
          "data": {
            "text/plain": [
              "['Sunflower', 'Sunflower', 'Sunflower', 'Sunflower']"
            ]
          },
          "metadata": {},
          "execution_count": 143
        }
      ],
      "source": [
        "some_list = generate_list(\"Sunflower\", 4)\n",
        "\n",
        "some_list"
      ]
    },
    {
      "cell_type": "code",
      "execution_count": 144,
      "metadata": {
        "id": "ooeGSy8VuWES"
      },
      "outputs": [],
      "source": [
        "def add(a, b):\n",
        "    return a + b\n",
        "\n",
        "def sub(a, b):\n",
        "    return a - b\n",
        "\n",
        "def mul(a, b):\n",
        "    return a * b\n",
        "\n",
        "def div(a, b):\n",
        "    return a / b"
      ]
    },
    {
      "cell_type": "code",
      "execution_count": 145,
      "metadata": {
        "id": "i7XUeQs_uWES"
      },
      "outputs": [],
      "source": [
        "def calculate(a, b, operator):\n",
        "    \n",
        "    if operator == \"add\":\n",
        "        return add(a, b) \n",
        "\n",
        "    if operator == \"sub\":\n",
        "        return sub(a, b)\n",
        "    \n",
        "    if operator == \"mul\":\n",
        "        return mul(a, b) \n",
        "    \n",
        "    if operator == \"div\":\n",
        "        return div(a, b) "
      ]
    },
    {
      "cell_type": "code",
      "execution_count": 146,
      "metadata": {
        "colab": {
          "base_uri": "https://localhost:8080/"
        },
        "id": "lC7AZ4ViuWES",
        "outputId": "5d2f790d-258f-490f-a770-791fc4da03c0"
      },
      "outputs": [
        {
          "output_type": "execute_result",
          "data": {
            "text/plain": [
              "15"
            ]
          },
          "metadata": {},
          "execution_count": 146
        }
      ],
      "source": [
        "calculate(10, 5, \"add\")"
      ]
    },
    {
      "cell_type": "code",
      "execution_count": 147,
      "metadata": {
        "colab": {
          "base_uri": "https://localhost:8080/"
        },
        "id": "6wDkZTPWuWES",
        "outputId": "5650280d-c584-456c-d729-99b1d732c452"
      },
      "outputs": [
        {
          "output_type": "execute_result",
          "data": {
            "text/plain": [
              "50"
            ]
          },
          "metadata": {},
          "execution_count": 147
        }
      ],
      "source": [
        "calculate(10, 5, \"mul\")"
      ]
    },
    {
      "cell_type": "code",
      "execution_count": 148,
      "metadata": {
        "colab": {
          "base_uri": "https://localhost:8080/"
        },
        "id": "wJUPm8CNuWET",
        "outputId": "bd03cce3-0e8e-4238-ae0c-9515ba250cd5"
      },
      "outputs": [
        {
          "output_type": "execute_result",
          "data": {
            "text/plain": [
              "2.0"
            ]
          },
          "metadata": {},
          "execution_count": 148
        }
      ],
      "source": [
        "calculate(10, 5, \"div\")"
      ]
    },
    {
      "cell_type": "code",
      "execution_count": 149,
      "metadata": {
        "id": "9LcZJv48uWET"
      },
      "outputs": [],
      "source": [
        "calculate(10, 5, \"meaningless\")"
      ]
    },
    {
      "cell_type": "code",
      "execution_count": null,
      "metadata": {
        "id": "glmtFYYyuWET"
      },
      "outputs": [],
      "source": [
        ""
      ]
    },
    {
      "cell_type": "code",
      "execution_count": 150,
      "metadata": {
        "id": "SI8LxAQCuWEX"
      },
      "outputs": [],
      "source": [
        "def find_first_capital_letter(some_string):\n",
        "    \n",
        "    capital_letter = None\n",
        "    \n",
        "    for ch in some_string:\n",
        "        if ch.upper() == ch and ch != \" \":\n",
        "            capital_letter = ch\n",
        "            break\n",
        "    \n",
        "    if capital_letter is None:\n",
        "        return \"No capital letters found\"\n",
        "    else:\n",
        "        return \"First capital letter \" + capital_letter"
      ]
    },
    {
      "cell_type": "code",
      "execution_count": 151,
      "metadata": {
        "colab": {
          "base_uri": "https://localhost:8080/",
          "height": 35
        },
        "id": "u9xY3V67uWEX",
        "outputId": "09e11e79-f866-42bb-e359-a9b408f1cc9e"
      },
      "outputs": [
        {
          "output_type": "execute_result",
          "data": {
            "application/vnd.google.colaboratory.intrinsic+json": {
              "type": "string"
            },
            "text/plain": [
              "'First capital letter A'"
            ]
          },
          "metadata": {},
          "execution_count": 151
        }
      ],
      "source": [
        "find_first_capital_letter(\"how Are you\")"
      ]
    },
    {
      "cell_type": "code",
      "execution_count": 152,
      "metadata": {
        "colab": {
          "base_uri": "https://localhost:8080/",
          "height": 35
        },
        "id": "IlzUxBFEuWEX",
        "outputId": "7b1e0990-8640-43c1-a94c-667fc28a92a3"
      },
      "outputs": [
        {
          "output_type": "execute_result",
          "data": {
            "application/vnd.google.colaboratory.intrinsic+json": {
              "type": "string"
            },
            "text/plain": [
              "'No capital letters found'"
            ]
          },
          "metadata": {},
          "execution_count": 152
        }
      ],
      "source": [
        "find_first_capital_letter(\"how are you\")"
      ]
    },
    {
      "cell_type": "code",
      "execution_count": null,
      "metadata": {
        "id": "cKTAFutRuWEY"
      },
      "outputs": [],
      "source": [
        ""
      ]
    },
    {
      "cell_type": "code",
      "execution_count": 153,
      "metadata": {
        "id": "rLYSH-_uuWEe"
      },
      "outputs": [],
      "source": [
        "def introduction(name, city):\n",
        "    print(\"Hello, my name is\", name)\n",
        "    print(\"I live and work in\", city) "
      ]
    },
    {
      "cell_type": "code",
      "execution_count": 154,
      "metadata": {
        "colab": {
          "base_uri": "https://localhost:8080/",
          "height": 166
        },
        "id": "O-z6107kuWEe",
        "outputId": "f4f875e8-3dea-46f1-cb63-7dc93656ae23"
      },
      "outputs": [
        {
          "output_type": "error",
          "ename": "TypeError",
          "evalue": "ignored",
          "traceback": [
            "\u001b[0;31m---------------------------------------------------------------------------\u001b[0m",
            "\u001b[0;31mTypeError\u001b[0m                                 Traceback (most recent call last)",
            "\u001b[0;32m<ipython-input-154-de828c0a3d06>\u001b[0m in \u001b[0;36m<module>\u001b[0;34m()\u001b[0m\n\u001b[0;32m----> 1\u001b[0;31m \u001b[0mintroduction\u001b[0m\u001b[0;34m(\u001b[0m\u001b[0;34m)\u001b[0m\u001b[0;34m\u001b[0m\u001b[0;34m\u001b[0m\u001b[0m\n\u001b[0m",
            "\u001b[0;31mTypeError\u001b[0m: introduction() missing 2 required positional arguments: 'name' and 'city'"
          ]
        }
      ],
      "source": [
        "introduction()"
      ]
    },
    {
      "cell_type": "code",
      "execution_count": 155,
      "metadata": {
        "colab": {
          "base_uri": "https://localhost:8080/",
          "height": 166
        },
        "id": "7zLf1iRGuWEe",
        "outputId": "084013ce-93a3-4b65-9ebb-49ffb5ba8cc9"
      },
      "outputs": [
        {
          "output_type": "error",
          "ename": "TypeError",
          "evalue": "ignored",
          "traceback": [
            "\u001b[0;31m---------------------------------------------------------------------------\u001b[0m",
            "\u001b[0;31mTypeError\u001b[0m                                 Traceback (most recent call last)",
            "\u001b[0;32m<ipython-input-155-2f2a23683a17>\u001b[0m in \u001b[0;36m<module>\u001b[0;34m()\u001b[0m\n\u001b[0;32m----> 1\u001b[0;31m \u001b[0mintroduction\u001b[0m\u001b[0;34m(\u001b[0m\u001b[0;34m\"Rose\"\u001b[0m\u001b[0;34m)\u001b[0m\u001b[0;34m\u001b[0m\u001b[0;34m\u001b[0m\u001b[0m\n\u001b[0m",
            "\u001b[0;31mTypeError\u001b[0m: introduction() missing 1 required positional argument: 'city'"
          ]
        }
      ],
      "source": [
        "introduction(\"Rose\")"
      ]
    },
    {
      "cell_type": "code",
      "execution_count": 156,
      "metadata": {
        "colab": {
          "base_uri": "https://localhost:8080/"
        },
        "id": "UFIXIEOtuWEe",
        "outputId": "e21b06c5-8b0b-4596-98cb-bffe7f61aab8"
      },
      "outputs": [
        {
          "output_type": "stream",
          "name": "stdout",
          "text": [
            "Hello, my name is Rose\n",
            "I live and work in San Jose\n"
          ]
        }
      ],
      "source": [
        "introduction(\"Rose\", \"San Jose\")"
      ]
    },
    {
      "cell_type": "code",
      "execution_count": 157,
      "metadata": {
        "colab": {
          "base_uri": "https://localhost:8080/",
          "height": 201
        },
        "id": "5rQ37w0IuWEf",
        "outputId": "cf49ff2a-7886-42dd-e0f0-adef83f8da45"
      },
      "outputs": [
        {
          "output_type": "error",
          "ename": "TypeError",
          "evalue": "ignored",
          "traceback": [
            "\u001b[0;31m---------------------------------------------------------------------------\u001b[0m",
            "\u001b[0;31mTypeError\u001b[0m                                 Traceback (most recent call last)",
            "\u001b[0;32m<ipython-input-157-9223dfcc6d2d>\u001b[0m in \u001b[0;36m<module>\u001b[0;34m()\u001b[0m\n\u001b[1;32m      2\u001b[0m     \u001b[0;32mreturn\u001b[0m \u001b[0;34m(\u001b[0m\u001b[0mnum_1\u001b[0m \u001b[0;34m+\u001b[0m \u001b[0mnum_2\u001b[0m \u001b[0;34m+\u001b[0m \u001b[0mnum_3\u001b[0m\u001b[0;34m)\u001b[0m\u001b[0;34m\u001b[0m\u001b[0;34m\u001b[0m\u001b[0m\n\u001b[1;32m      3\u001b[0m \u001b[0;34m\u001b[0m\u001b[0m\n\u001b[0;32m----> 4\u001b[0;31m \u001b[0msum_of\u001b[0m\u001b[0;34m(\u001b[0m\u001b[0;36m25\u001b[0m\u001b[0;34m,\u001b[0m \u001b[0;36m34\u001b[0m\u001b[0;34m)\u001b[0m\u001b[0;34m\u001b[0m\u001b[0;34m\u001b[0m\u001b[0m\n\u001b[0m",
            "\u001b[0;31mTypeError\u001b[0m: sum_of() missing 1 required positional argument: 'num_3'"
          ]
        }
      ],
      "source": [
        "def sum_of(num_1, num_2, num_3):\n",
        "    return (num_1 + num_2 + num_3)\n",
        "\n",
        "sum_of(25, 34)"
      ]
    },
    {
      "cell_type": "code",
      "execution_count": 158,
      "metadata": {
        "id": "Al1rqexxuWEf"
      },
      "outputs": [],
      "source": [
        "def total_score(math, physics, chemistry, biology):\n",
        "    \n",
        "    print(\"Math:\", math, \"Physics:\", physics, \"Chemistry:\", chemistry, \"Biology:\", biology)\n",
        "    return math + physics + chemistry + biology"
      ]
    },
    {
      "cell_type": "code",
      "execution_count": 159,
      "metadata": {
        "colab": {
          "base_uri": "https://localhost:8080/"
        },
        "id": "k2i1C86nuWEf",
        "outputId": "668d6030-182c-42cc-a074-d6355a7695c4"
      },
      "outputs": [
        {
          "output_type": "stream",
          "name": "stdout",
          "text": [
            "Math: 100 Physics: 56 Chemistry: 34 Biology: 99\n"
          ]
        },
        {
          "output_type": "execute_result",
          "data": {
            "text/plain": [
              "289"
            ]
          },
          "metadata": {},
          "execution_count": 159
        }
      ],
      "source": [
        "total_score(100, 56, 34, 99)"
      ]
    },
    {
      "cell_type": "code",
      "execution_count": 160,
      "metadata": {
        "colab": {
          "base_uri": "https://localhost:8080/"
        },
        "id": "zHju9XcquWEf",
        "outputId": "3ce1b098-8451-440a-f5f7-703ad48dd442"
      },
      "outputs": [
        {
          "output_type": "stream",
          "name": "stdout",
          "text": [
            "Math: 100 Physics: 56 Chemistry: 34 Biology: 99\n"
          ]
        },
        {
          "output_type": "execute_result",
          "data": {
            "text/plain": [
              "289"
            ]
          },
          "metadata": {},
          "execution_count": 160
        }
      ],
      "source": [
        "total_score(math=100, physics=56, chemistry=34, biology=99)"
      ]
    },
    {
      "cell_type": "code",
      "execution_count": 161,
      "metadata": {
        "colab": {
          "base_uri": "https://localhost:8080/",
          "height": 166
        },
        "id": "-MRZNu7RuWEf",
        "outputId": "0b0eff48-69fc-43d3-91e9-25b76e17c31c"
      },
      "outputs": [
        {
          "output_type": "error",
          "ename": "TypeError",
          "evalue": "ignored",
          "traceback": [
            "\u001b[0;31m---------------------------------------------------------------------------\u001b[0m",
            "\u001b[0;31mTypeError\u001b[0m                                 Traceback (most recent call last)",
            "\u001b[0;32m<ipython-input-161-559249043c24>\u001b[0m in \u001b[0;36m<module>\u001b[0;34m()\u001b[0m\n\u001b[0;32m----> 1\u001b[0;31m \u001b[0mtotal_score\u001b[0m\u001b[0;34m(\u001b[0m\u001b[0mmath\u001b[0m\u001b[0;34m=\u001b[0m\u001b[0;36m100\u001b[0m\u001b[0;34m,\u001b[0m \u001b[0mphysics\u001b[0m\u001b[0;34m=\u001b[0m\u001b[0;36m56\u001b[0m\u001b[0;34m,\u001b[0m \u001b[0mchem\u001b[0m\u001b[0;34m=\u001b[0m\u001b[0;36m34\u001b[0m\u001b[0;34m,\u001b[0m \u001b[0mbiology\u001b[0m\u001b[0;34m=\u001b[0m\u001b[0;36m99\u001b[0m\u001b[0;34m)\u001b[0m\u001b[0;34m\u001b[0m\u001b[0;34m\u001b[0m\u001b[0m\n\u001b[0m",
            "\u001b[0;31mTypeError\u001b[0m: total_score() got an unexpected keyword argument 'chem'"
          ]
        }
      ],
      "source": [
        "total_score(math=100, physics=56, chem=34, biology=99)"
      ]
    },
    {
      "cell_type": "code",
      "execution_count": 162,
      "metadata": {
        "colab": {
          "base_uri": "https://localhost:8080/",
          "height": 166
        },
        "id": "tvp_r3PauWEf",
        "outputId": "fd013f6a-07f6-4424-8bf0-1535308eef84"
      },
      "outputs": [
        {
          "output_type": "error",
          "ename": "TypeError",
          "evalue": "ignored",
          "traceback": [
            "\u001b[0;31m---------------------------------------------------------------------------\u001b[0m",
            "\u001b[0;31mTypeError\u001b[0m                                 Traceback (most recent call last)",
            "\u001b[0;32m<ipython-input-162-ab7bb3204f67>\u001b[0m in \u001b[0;36m<module>\u001b[0;34m()\u001b[0m\n\u001b[0;32m----> 1\u001b[0;31m \u001b[0mtotal_score\u001b[0m\u001b[0;34m(\u001b[0m\u001b[0mma\u001b[0m\u001b[0;34m=\u001b[0m\u001b[0;36m100\u001b[0m\u001b[0;34m,\u001b[0m \u001b[0mphy\u001b[0m\u001b[0;34m=\u001b[0m\u001b[0;36m56\u001b[0m\u001b[0;34m,\u001b[0m \u001b[0mchemistry\u001b[0m\u001b[0;34m=\u001b[0m\u001b[0;36m34\u001b[0m\u001b[0;34m,\u001b[0m \u001b[0mbiology\u001b[0m\u001b[0;34m=\u001b[0m\u001b[0;36m99\u001b[0m\u001b[0;34m)\u001b[0m\u001b[0;34m\u001b[0m\u001b[0;34m\u001b[0m\u001b[0m\n\u001b[0m",
            "\u001b[0;31mTypeError\u001b[0m: total_score() got an unexpected keyword argument 'ma'"
          ]
        }
      ],
      "source": [
        "total_score(ma=100, phy=56, chemistry=34, biology=99)"
      ]
    },
    {
      "cell_type": "code",
      "execution_count": 163,
      "metadata": {
        "colab": {
          "base_uri": "https://localhost:8080/"
        },
        "id": "ZRrps85EuWEf",
        "outputId": "fa718105-8501-4500-f8d2-dbf3325f2feb"
      },
      "outputs": [
        {
          "output_type": "stream",
          "name": "stdout",
          "text": [
            "Math: 100 Physics: 56 Chemistry: 34 Biology: 99\n"
          ]
        },
        {
          "output_type": "execute_result",
          "data": {
            "text/plain": [
              "289"
            ]
          },
          "metadata": {},
          "execution_count": 163
        }
      ],
      "source": [
        "total_score(100, physics=56, chemistry=34, biology=99)"
      ]
    },
    {
      "cell_type": "code",
      "execution_count": 164,
      "metadata": {
        "colab": {
          "base_uri": "https://localhost:8080/"
        },
        "id": "jlDRjZ5ZuWEf",
        "outputId": "ef32c76b-2d92-4d48-c985-93bf2ec8fe1b"
      },
      "outputs": [
        {
          "output_type": "stream",
          "name": "stdout",
          "text": [
            "Math: 100 Physics: 56 Chemistry: 34 Biology: 99\n"
          ]
        },
        {
          "output_type": "execute_result",
          "data": {
            "text/plain": [
              "289"
            ]
          },
          "metadata": {},
          "execution_count": 164
        }
      ],
      "source": [
        "total_score(100, 56, chemistry=34, biology=99)"
      ]
    },
    {
      "cell_type": "code",
      "execution_count": 165,
      "metadata": {
        "colab": {
          "base_uri": "https://localhost:8080/"
        },
        "id": "x1y-yRPOuWEg",
        "outputId": "23155c72-d803-4503-d8c5-daeb81813273"
      },
      "outputs": [
        {
          "output_type": "stream",
          "name": "stdout",
          "text": [
            "Math: 100 Physics: 56 Chemistry: 34 Biology: 99\n"
          ]
        },
        {
          "output_type": "execute_result",
          "data": {
            "text/plain": [
              "289"
            ]
          },
          "metadata": {},
          "execution_count": 165
        }
      ],
      "source": [
        "total_score(100, 56, 34, biology=99)"
      ]
    },
    {
      "cell_type": "code",
      "execution_count": 166,
      "metadata": {
        "colab": {
          "base_uri": "https://localhost:8080/",
          "height": 131
        },
        "id": "Crr_haxvuWEg",
        "outputId": "af72b678-9223-47c3-89cd-dd6247f95b0c"
      },
      "outputs": [
        {
          "output_type": "error",
          "ename": "SyntaxError",
          "evalue": "ignored",
          "traceback": [
            "\u001b[0;36m  File \u001b[0;32m\"<ipython-input-166-adc7be91e8d4>\"\u001b[0;36m, line \u001b[0;32m1\u001b[0m\n\u001b[0;31m    total_score(math=100, 56, chemistry=34, biology=99)\u001b[0m\n\u001b[0m                         ^\u001b[0m\n\u001b[0;31mSyntaxError\u001b[0m\u001b[0;31m:\u001b[0m positional argument follows keyword argument\n"
          ]
        }
      ],
      "source": [
        "total_score(math=100, 56, chemistry=34, biology=99)"
      ]
    },
    {
      "cell_type": "code",
      "execution_count": 167,
      "metadata": {
        "colab": {
          "base_uri": "https://localhost:8080/",
          "height": 131
        },
        "id": "UbDBkMyWuWEg",
        "outputId": "23799d4e-63e8-4c89-c20f-eb995cabb452"
      },
      "outputs": [
        {
          "output_type": "error",
          "ename": "SyntaxError",
          "evalue": "ignored",
          "traceback": [
            "\u001b[0;36m  File \u001b[0;32m\"<ipython-input-167-0107150d77f9>\"\u001b[0;36m, line \u001b[0;32m1\u001b[0m\n\u001b[0;31m    total_score(math=100, physics=56, 34, biology=99)\u001b[0m\n\u001b[0m                                     ^\u001b[0m\n\u001b[0;31mSyntaxError\u001b[0m\u001b[0;31m:\u001b[0m positional argument follows keyword argument\n"
          ]
        }
      ],
      "source": [
        "total_score(math=100, physics=56, 34, biology=99)"
      ]
    },
    {
      "cell_type": "code",
      "execution_count": 168,
      "metadata": {
        "colab": {
          "base_uri": "https://localhost:8080/",
          "height": 131
        },
        "id": "MVN9cjdTuWEg",
        "outputId": "0cef2adc-c2b4-468f-8375-f3c533ba977d"
      },
      "outputs": [
        {
          "output_type": "error",
          "ename": "SyntaxError",
          "evalue": "ignored",
          "traceback": [
            "\u001b[0;36m  File \u001b[0;32m\"<ipython-input-168-ae498980e34c>\"\u001b[0;36m, line \u001b[0;32m1\u001b[0m\n\u001b[0;31m    total_score(math=100, physics=56, chemistry=34, 99)\u001b[0m\n\u001b[0m                                                   ^\u001b[0m\n\u001b[0;31mSyntaxError\u001b[0m\u001b[0;31m:\u001b[0m positional argument follows keyword argument\n"
          ]
        }
      ],
      "source": [
        "total_score(math=100, physics=56, chemistry=34, 99)"
      ]
    },
    {
      "cell_type": "code",
      "execution_count": 169,
      "metadata": {
        "colab": {
          "base_uri": "https://localhost:8080/"
        },
        "id": "UBeM-1gduWEg",
        "outputId": "d601e75d-c720-4766-85da-df332f65c9a7"
      },
      "outputs": [
        {
          "output_type": "stream",
          "name": "stdout",
          "text": [
            "Math: 100 Physics: 56 Chemistry: 34 Biology: 99\n"
          ]
        },
        {
          "output_type": "execute_result",
          "data": {
            "text/plain": [
              "289"
            ]
          },
          "metadata": {},
          "execution_count": 169
        }
      ],
      "source": [
        "total_score(biology=99, math=100, chemistry=34, physics=56)"
      ]
    },
    {
      "cell_type": "code",
      "execution_count": 170,
      "metadata": {
        "colab": {
          "base_uri": "https://localhost:8080/"
        },
        "id": "JGGNcpgpuWEg",
        "outputId": "5ecdc2b6-c085-4ccf-d5a3-f5cfffb73c66"
      },
      "outputs": [
        {
          "output_type": "stream",
          "name": "stdout",
          "text": [
            "Math: 100 Physics: 56 Chemistry: 34 Biology: 99\n"
          ]
        },
        {
          "output_type": "execute_result",
          "data": {
            "text/plain": [
              "289"
            ]
          },
          "metadata": {},
          "execution_count": 170
        }
      ],
      "source": [
        "total_score(chemistry=34, biology=99, math=100, physics=56)"
      ]
    },
    {
      "cell_type": "code",
      "execution_count": 171,
      "metadata": {
        "colab": {
          "base_uri": "https://localhost:8080/",
          "height": 166
        },
        "id": "-365IXQauWEg",
        "outputId": "0c7c8cf7-f2bf-44dd-a635-b014a3d12666"
      },
      "outputs": [
        {
          "output_type": "error",
          "ename": "TypeError",
          "evalue": "ignored",
          "traceback": [
            "\u001b[0;31m---------------------------------------------------------------------------\u001b[0m",
            "\u001b[0;31mTypeError\u001b[0m                                 Traceback (most recent call last)",
            "\u001b[0;32m<ipython-input-171-daa677ea2d85>\u001b[0m in \u001b[0;36m<module>\u001b[0;34m()\u001b[0m\n\u001b[0;32m----> 1\u001b[0;31m \u001b[0mtotal_score\u001b[0m\u001b[0;34m(\u001b[0m\u001b[0;36m34\u001b[0m\u001b[0;34m,\u001b[0m \u001b[0mbiology\u001b[0m\u001b[0;34m=\u001b[0m\u001b[0;36m99\u001b[0m\u001b[0;34m,\u001b[0m \u001b[0mmath\u001b[0m\u001b[0;34m=\u001b[0m\u001b[0;36m100\u001b[0m\u001b[0;34m,\u001b[0m \u001b[0mphysics\u001b[0m\u001b[0;34m=\u001b[0m\u001b[0;36m56\u001b[0m\u001b[0;34m)\u001b[0m\u001b[0;34m\u001b[0m\u001b[0;34m\u001b[0m\u001b[0m\n\u001b[0m",
            "\u001b[0;31mTypeError\u001b[0m: total_score() got multiple values for argument 'math'"
          ]
        }
      ],
      "source": [
        "total_score(34, biology=99, math=100, physics=56)"
      ]
    },
    {
      "cell_type": "code",
      "execution_count": 172,
      "metadata": {
        "colab": {
          "base_uri": "https://localhost:8080/",
          "height": 131
        },
        "id": "xT-1Y5VmuWEg",
        "outputId": "1d906dc5-bb8d-4760-e85f-da71af4626f6"
      },
      "outputs": [
        {
          "output_type": "error",
          "ename": "SyntaxError",
          "evalue": "ignored",
          "traceback": [
            "\u001b[0;36m  File \u001b[0;32m\"<ipython-input-172-3794bec42792>\"\u001b[0;36m, line \u001b[0;32m1\u001b[0m\n\u001b[0;31m    total_score(physics=34, biology=99, chemistry=100, physics=56)\u001b[0m\n\u001b[0m                                                      ^\u001b[0m\n\u001b[0;31mSyntaxError\u001b[0m\u001b[0;31m:\u001b[0m keyword argument repeated\n"
          ]
        }
      ],
      "source": [
        "total_score(physics=34, biology=99, chemistry=100, physics=56)"
      ]
    },
    {
      "cell_type": "code",
      "execution_count": 173,
      "metadata": {
        "id": "bn7h9DQNuWEg"
      },
      "outputs": [],
      "source": [
        "def print_student_details(name, school, math, physics, chemistry, biology):\n",
        "    \n",
        "    total = math + physics + chemistry + biology\n",
        "    \n",
        "    print(\"Name: \", name)\n",
        "    print(\"School: \", school)\n",
        "    print(\"Score: \", total)"
      ]
    },
    {
      "cell_type": "code",
      "execution_count": 174,
      "metadata": {
        "colab": {
          "base_uri": "https://localhost:8080/"
        },
        "id": "a84ZjAICuWEg",
        "outputId": "54f61c08-c9e8-42f4-e8f8-59dcb5f2a7e6"
      },
      "outputs": [
        {
          "output_type": "stream",
          "name": "stdout",
          "text": [
            "Name:  Alice\n",
            "School:  Columbia\n",
            "Score:  339\n"
          ]
        }
      ],
      "source": [
        "print_student_details(\"Alice\", \"Columbia\", \n",
        "                      math=100, physics=76, chemistry=64, biology=99)"
      ]
    },
    {
      "cell_type": "code",
      "execution_count": 175,
      "metadata": {
        "colab": {
          "base_uri": "https://localhost:8080/"
        },
        "id": "JF19fWUNuWEg",
        "outputId": "44403ffb-1435-432f-c221-c432ef7e7080"
      },
      "outputs": [
        {
          "output_type": "stream",
          "name": "stdout",
          "text": [
            "Name:  Columbia\n",
            "School:  Alice\n",
            "Score:  339\n"
          ]
        }
      ],
      "source": [
        "print_student_details(\"Columbia\", \"Alice\", \n",
        "                      math=100, physics=76, chemistry=64, biology=99)"
      ]
    },
    {
      "cell_type": "code",
      "execution_count": 176,
      "metadata": {
        "colab": {
          "base_uri": "https://localhost:8080/"
        },
        "id": "vvWWGWLpuWEg",
        "outputId": "bf36bea5-ca57-423e-e30b-d7e6f668bb6f"
      },
      "outputs": [
        {
          "output_type": "stream",
          "name": "stdout",
          "text": [
            "Name:  Alice\n",
            "School:  Columbia\n",
            "Score:  339\n"
          ]
        }
      ],
      "source": [
        "print_student_details(name=\"Alice\", school=\"Columbia\", \n",
        "                      math=100, physics=76, chemistry=64, biology=99)"
      ]
    },
    {
      "cell_type": "code",
      "execution_count": 177,
      "metadata": {
        "colab": {
          "base_uri": "https://localhost:8080/"
        },
        "id": "itKYBWUVuWEh",
        "outputId": "38c89622-96eb-40bf-d2f3-add621ca0cfa"
      },
      "outputs": [
        {
          "output_type": "execute_result",
          "data": {
            "text/plain": [
              "[1, 3, 5, 6, 7, 9]"
            ]
          },
          "metadata": {},
          "execution_count": 177
        }
      ],
      "source": [
        "num_list = [3, 6, 1, 9, 5, 7]\n",
        "\n",
        "sorted(num_list)"
      ]
    },
    {
      "cell_type": "code",
      "execution_count": 178,
      "metadata": {
        "colab": {
          "base_uri": "https://localhost:8080/"
        },
        "id": "1ZeGP3eRuWEh",
        "outputId": "0a1c4f4d-a9aa-45c4-8b40-f72b196b5647"
      },
      "outputs": [
        {
          "output_type": "execute_result",
          "data": {
            "text/plain": [
              "[1, 3, 5, 6, 7, 9]"
            ]
          },
          "metadata": {},
          "execution_count": 178
        }
      ],
      "source": [
        "sorted(num_list, reverse=False)"
      ]
    },
    {
      "cell_type": "code",
      "execution_count": 179,
      "metadata": {
        "colab": {
          "base_uri": "https://localhost:8080/"
        },
        "id": "MtgQTw-luWEh",
        "outputId": "bcdf4426-26f7-4716-8f88-cb09440e390b"
      },
      "outputs": [
        {
          "output_type": "execute_result",
          "data": {
            "text/plain": [
              "[9, 7, 6, 5, 3, 1]"
            ]
          },
          "metadata": {},
          "execution_count": 179
        }
      ],
      "source": [
        "sorted(num_list, reverse=True)"
      ]
    },
    {
      "cell_type": "code",
      "execution_count": 180,
      "metadata": {
        "colab": {
          "base_uri": "https://localhost:8080/"
        },
        "id": "Ezv2yG8GuWEh",
        "outputId": "caeb101d-f0dd-4ffc-d74a-4762bc02877e"
      },
      "outputs": [
        {
          "output_type": "stream",
          "name": "stdout",
          "text": [
            "Alice Peter Greg\n"
          ]
        }
      ],
      "source": [
        "print(\"Alice\", \"Peter\", \"Greg\")"
      ]
    },
    {
      "cell_type": "code",
      "execution_count": 181,
      "metadata": {
        "colab": {
          "base_uri": "https://localhost:8080/"
        },
        "id": "tPSy4NJLuWEh",
        "outputId": "d5aa412a-62e3-47fc-efb2-047381608b37"
      },
      "outputs": [
        {
          "output_type": "stream",
          "name": "stdout",
          "text": [
            "Alice|Peter|Greg\n"
          ]
        }
      ],
      "source": [
        "print(\"Alice\", \"Peter\", \"Greg\", sep=\"|\")"
      ]
    },
    {
      "cell_type": "code",
      "execution_count": 182,
      "metadata": {
        "colab": {
          "base_uri": "https://localhost:8080/"
        },
        "id": "E3iaHgaauWEk",
        "outputId": "996777f4-1768-47db-849e-88a65973e68e"
      },
      "outputs": [
        {
          "output_type": "stream",
          "name": "stdout",
          "text": [
            "Alice|Peter|Greg*****"
          ]
        }
      ],
      "source": [
        "print(\"Alice\", \"Peter\", \"Greg\", sep=\"|\", end=\"*****\")"
      ]
    },
    {
      "cell_type": "code",
      "execution_count": null,
      "metadata": {
        "id": "gKsDhd7vuWEk"
      },
      "outputs": [],
      "source": [
        ""
      ]
    },
    {
      "cell_type": "code",
      "execution_count": 183,
      "metadata": {
        "id": "hwfcR4XkuWEn"
      },
      "outputs": [],
      "source": [
        "def print_student_details(name, school, \n",
        "                          math, physics, chemistry, biology, \n",
        "                          enrolled):\n",
        "    \n",
        "    total = math + physics + chemistry + biology\n",
        "    \n",
        "    print(\"Name: \", name)\n",
        "    print(\"School: \", school, \"Enrolled: \", enrolled)\n",
        "    print(\"Score: \", total)"
      ]
    },
    {
      "cell_type": "code",
      "execution_count": 184,
      "metadata": {
        "colab": {
          "base_uri": "https://localhost:8080/"
        },
        "id": "7z5qNTVSuWEn",
        "outputId": "283b2d8b-3d5c-468d-b607-da3254d1ce91"
      },
      "outputs": [
        {
          "output_type": "stream",
          "name": "stdout",
          "text": [
            "Name:  Alice\n",
            "School:  Columbia Enrolled:  True\n",
            "Score:  339\n"
          ]
        }
      ],
      "source": [
        "print_student_details(\"Alice\", \"Columbia\", \n",
        "                      math=100, physics=76, chemistry=64, biology=99, \n",
        "                      enrolled=True)"
      ]
    },
    {
      "cell_type": "code",
      "execution_count": 185,
      "metadata": {
        "colab": {
          "base_uri": "https://localhost:8080/",
          "height": 183
        },
        "id": "thTXVZ-9uWEn",
        "outputId": "7f913e0a-80f5-422b-ce56-783912bcac11"
      },
      "outputs": [
        {
          "output_type": "error",
          "ename": "TypeError",
          "evalue": "ignored",
          "traceback": [
            "\u001b[0;31m---------------------------------------------------------------------------\u001b[0m",
            "\u001b[0;31mTypeError\u001b[0m                                 Traceback (most recent call last)",
            "\u001b[0;32m<ipython-input-185-8ed89ec79990>\u001b[0m in \u001b[0;36m<module>\u001b[0;34m()\u001b[0m\n\u001b[1;32m      1\u001b[0m print_student_details(\"Alice\", \"Columbia\", \n\u001b[0;32m----> 2\u001b[0;31m                       math=100, physics=76, chemistry=64, biology=99)\n\u001b[0m",
            "\u001b[0;31mTypeError\u001b[0m: print_student_details() missing 1 required positional argument: 'enrolled'"
          ]
        }
      ],
      "source": [
        "print_student_details(\"Alice\", \"Columbia\", \n",
        "                      math=100, physics=76, chemistry=64, biology=99)"
      ]
    },
    {
      "cell_type": "code",
      "execution_count": 186,
      "metadata": {
        "id": "YsUyxliVuWEn"
      },
      "outputs": [],
      "source": [
        "def print_student_details(name, school, \n",
        "                          math, physics, chemistry, biology, \n",
        "                          enrolled=False):\n",
        "    \n",
        "    total = math + physics + chemistry + biology\n",
        "    \n",
        "    print(\"Name: \", name)\n",
        "    print(\"School: \", school, \"Enrolled: \", enrolled)\n",
        "    print(\"Score: \", total)"
      ]
    },
    {
      "cell_type": "code",
      "execution_count": 187,
      "metadata": {
        "colab": {
          "base_uri": "https://localhost:8080/"
        },
        "id": "MycXqlhvuWEn",
        "outputId": "1edb43be-d5fe-4f91-8f64-e40fa49f4daa"
      },
      "outputs": [
        {
          "output_type": "stream",
          "name": "stdout",
          "text": [
            "Name:  Alice\n",
            "School:  Columbia Enrolled:  True\n",
            "Score:  339\n"
          ]
        }
      ],
      "source": [
        "print_student_details(\"Alice\", \"Columbia\", \n",
        "                      math=100, physics=76, chemistry=64, biology=99, \n",
        "                      enrolled=True)"
      ]
    },
    {
      "cell_type": "code",
      "execution_count": 188,
      "metadata": {
        "colab": {
          "base_uri": "https://localhost:8080/"
        },
        "id": "0WEJqyGZuWEn",
        "outputId": "7ac6f3ac-2fa6-4dac-f712-4cf9b423cf04"
      },
      "outputs": [
        {
          "output_type": "stream",
          "name": "stdout",
          "text": [
            "Name:  Alice\n",
            "School:  Columbia Enrolled:  False\n",
            "Score:  339\n"
          ]
        }
      ],
      "source": [
        "print_student_details(\"Alice\", \"Columbia\", \n",
        "                      math=100, physics=76, chemistry=64, biology=99, \n",
        "                      enrolled=False)"
      ]
    },
    {
      "cell_type": "code",
      "execution_count": 189,
      "metadata": {
        "colab": {
          "base_uri": "https://localhost:8080/"
        },
        "id": "t3QxnGfcuWEn",
        "outputId": "30097b83-0ee6-4f4b-9e51-e529b4b391a9"
      },
      "outputs": [
        {
          "output_type": "stream",
          "name": "stdout",
          "text": [
            "Name:  Alice\n",
            "School:  Columbia Enrolled:  False\n",
            "Score:  339\n"
          ]
        }
      ],
      "source": [
        "print_student_details(\"Alice\", \"Columbia\", \n",
        "                      math=100, physics=76, chemistry=64, biology=99)"
      ]
    },
    {
      "cell_type": "code",
      "execution_count": 190,
      "metadata": {
        "id": "5hNccyV0uWEn"
      },
      "outputs": [],
      "source": [
        "def print_student_details(name, school, \n",
        "                          math, physics, chemistry, biology=50, \n",
        "                          enrolled=False):\n",
        "    \n",
        "    total = math + physics + chemistry + biology\n",
        "    \n",
        "    print(\"Name: \", name)\n",
        "    print(\"School: \", school, \"Enrolled: \", enrolled)\n",
        "    print(\"Biology: \", biology)\n",
        "    print(\"Score: \", total)"
      ]
    },
    {
      "cell_type": "code",
      "execution_count": 191,
      "metadata": {
        "colab": {
          "base_uri": "https://localhost:8080/"
        },
        "id": "B5sZBhyRuWEn",
        "outputId": "0c2d3a8a-aad9-4916-ed12-7ff149948567"
      },
      "outputs": [
        {
          "output_type": "stream",
          "name": "stdout",
          "text": [
            "Name:  Alice\n",
            "School:  Columbia Enrolled:  False\n",
            "Biology:  99\n",
            "Score:  339\n"
          ]
        }
      ],
      "source": [
        "print_student_details(\"Alice\", \"Columbia\", \n",
        "                      math=100, physics=76, chemistry=64, biology=99)"
      ]
    },
    {
      "cell_type": "code",
      "execution_count": 192,
      "metadata": {
        "colab": {
          "base_uri": "https://localhost:8080/"
        },
        "id": "Qt_RLGb8uWEn",
        "outputId": "bd1d6bb2-75bc-4efa-e327-86d742bca4c9"
      },
      "outputs": [
        {
          "output_type": "stream",
          "name": "stdout",
          "text": [
            "Name:  Alice\n",
            "School:  Columbia Enrolled:  False\n",
            "Biology:  50\n",
            "Score:  290\n"
          ]
        }
      ],
      "source": [
        "print_student_details(\"Alice\", \"Columbia\", \n",
        "                      math=100, physics=76, chemistry=64)"
      ]
    },
    {
      "cell_type": "code",
      "execution_count": 193,
      "metadata": {
        "colab": {
          "base_uri": "https://localhost:8080/",
          "height": 183
        },
        "id": "OTWoxDIjuWEo",
        "outputId": "55fdb638-230d-4775-80eb-422384a11603"
      },
      "outputs": [
        {
          "output_type": "error",
          "ename": "TypeError",
          "evalue": "ignored",
          "traceback": [
            "\u001b[0;31m---------------------------------------------------------------------------\u001b[0m",
            "\u001b[0;31mTypeError\u001b[0m                                 Traceback (most recent call last)",
            "\u001b[0;32m<ipython-input-193-5ed0c2412890>\u001b[0m in \u001b[0;36m<module>\u001b[0;34m()\u001b[0m\n\u001b[1;32m      1\u001b[0m print_student_details(\"Alice\", \"Columbia\", \n\u001b[0;32m----> 2\u001b[0;31m                       math=100, physics=76)\n\u001b[0m",
            "\u001b[0;31mTypeError\u001b[0m: print_student_details() missing 1 required positional argument: 'chemistry'"
          ]
        }
      ],
      "source": [
        "print_student_details(\"Alice\", \"Columbia\", \n",
        "                      math=100, physics=76)"
      ]
    },
    {
      "cell_type": "code",
      "execution_count": 194,
      "metadata": {
        "id": "LpuZoqt8uWEo"
      },
      "outputs": [],
      "source": [
        "def print_student_details(name, school, \n",
        "                          math, physics, chemistry=50, biology=50, \n",
        "                          enrolled=False):\n",
        "    \n",
        "    total = math + physics + chemistry + biology\n",
        "    \n",
        "    print(\"Name: \", name)\n",
        "    print(\"School: \", school, \"Enrolled: \", enrolled)\n",
        "    print(\"Chemistry: \", chemistry)\n",
        "    print(\"Biology: \", biology)\n",
        "    print(\"Score: \", total)"
      ]
    },
    {
      "cell_type": "code",
      "execution_count": 195,
      "metadata": {
        "colab": {
          "base_uri": "https://localhost:8080/"
        },
        "id": "zeRS4G-BuWEo",
        "outputId": "d5281880-f462-48e1-b5f9-0e2cefcca36d"
      },
      "outputs": [
        {
          "output_type": "stream",
          "name": "stdout",
          "text": [
            "Name:  Alice\n",
            "School:  Columbia Enrolled:  False\n",
            "Chemistry:  64\n",
            "Biology:  50\n",
            "Score:  290\n"
          ]
        }
      ],
      "source": [
        "print_student_details(\"Alice\", \"Columbia\", \n",
        "                      math=100, physics=76, chemistry=64)"
      ]
    },
    {
      "cell_type": "code",
      "execution_count": 196,
      "metadata": {
        "colab": {
          "base_uri": "https://localhost:8080/"
        },
        "id": "xlObJiGnuWEo",
        "outputId": "f0fc42ca-5ac7-4ee6-ae9e-941a61807ecc"
      },
      "outputs": [
        {
          "output_type": "stream",
          "name": "stdout",
          "text": [
            "Name:  Alice\n",
            "School:  Columbia Enrolled:  False\n",
            "Chemistry:  50\n",
            "Biology:  50\n",
            "Score:  276\n"
          ]
        }
      ],
      "source": [
        "print_student_details(\"Alice\", \"Columbia\", \n",
        "                      math=100, physics=76)"
      ]
    },
    {
      "cell_type": "code",
      "execution_count": 197,
      "metadata": {
        "colab": {
          "base_uri": "https://localhost:8080/",
          "height": 131
        },
        "id": "okLne5VfuWEo",
        "outputId": "c8eaa485-aca1-4e7f-b45c-5a9ccb1caa70"
      },
      "outputs": [
        {
          "output_type": "error",
          "ename": "SyntaxError",
          "evalue": "ignored",
          "traceback": [
            "\u001b[0;36m  File \u001b[0;32m\"<ipython-input-197-999df647fb27>\"\u001b[0;36m, line \u001b[0;32m1\u001b[0m\n\u001b[0;31m    def print_student_details(name, school,\u001b[0m\n\u001b[0m                             ^\u001b[0m\n\u001b[0;31mSyntaxError\u001b[0m\u001b[0;31m:\u001b[0m non-default argument follows default argument\n"
          ]
        }
      ],
      "source": [
        "def print_student_details(name, school, \n",
        "                          math=50, physics, chemistry=50, biology=50, \n",
        "                          enrolled=False):\n",
        "    \n",
        "    total = math + physics + chemistry + biology\n",
        "    \n",
        "    print(\"Name: \", name)\n",
        "    print(\"School: \", school, \"Enrolled: \", enrolled)\n",
        "    print(\"Chemistry: \", chemistry)\n",
        "    print(\"Biology: \", biology)\n",
        "    print(\"Score: \", total)"
      ]
    },
    {
      "cell_type": "code",
      "execution_count": 198,
      "metadata": {
        "colab": {
          "base_uri": "https://localhost:8080/",
          "height": 131
        },
        "id": "5N5oFoxduWEo",
        "outputId": "6eba79fd-9a8b-4b5a-dc09-e9f9d3230d1f"
      },
      "outputs": [
        {
          "output_type": "error",
          "ename": "SyntaxError",
          "evalue": "ignored",
          "traceback": [
            "\u001b[0;36m  File \u001b[0;32m\"<ipython-input-198-2e7e83e9d21d>\"\u001b[0;36m, line \u001b[0;32m1\u001b[0m\n\u001b[0;31m    def print_student_details(name, school=\"Harvard\",\u001b[0m\n\u001b[0m                             ^\u001b[0m\n\u001b[0;31mSyntaxError\u001b[0m\u001b[0;31m:\u001b[0m non-default argument follows default argument\n"
          ]
        }
      ],
      "source": [
        "def print_student_details(name, school=\"Harvard\", \n",
        "                          math, physics, chemistry=50, biology=50, \n",
        "                          enrolled=False):\n",
        "    \n",
        "    total = math + physics + chemistry + biology\n",
        "    \n",
        "    print(\"Name: \", name)\n",
        "    print(\"School: \", school, \"Enrolled: \", enrolled)\n",
        "    print(\"Chemistry: \", chemistry)\n",
        "    print(\"Biology: \", biology)\n",
        "    print(\"Score: \", total)"
      ]
    },
    {
      "cell_type": "code",
      "execution_count": 199,
      "metadata": {
        "colab": {
          "base_uri": "https://localhost:8080/",
          "height": 131
        },
        "id": "A4VdsyfWuWEo",
        "outputId": "4d3b3a64-75f8-401b-835c-a920e098fb2c"
      },
      "outputs": [
        {
          "output_type": "error",
          "ename": "SyntaxError",
          "evalue": "ignored",
          "traceback": [
            "\u001b[0;36m  File \u001b[0;32m\"<ipython-input-199-23449577e505>\"\u001b[0;36m, line \u001b[0;32m1\u001b[0m\n\u001b[0;31m    def print_student_details(name=\"Mark\", school,\u001b[0m\n\u001b[0m                             ^\u001b[0m\n\u001b[0;31mSyntaxError\u001b[0m\u001b[0;31m:\u001b[0m non-default argument follows default argument\n"
          ]
        }
      ],
      "source": [
        "def print_student_details(name=\"Mark\", school, \n",
        "                          math, physics, chemistry=50, biology=50, \n",
        "                          enrolled=False):\n",
        "    \n",
        "    total = math + physics + chemistry + biology\n",
        "    \n",
        "    print(\"Name: \", name)\n",
        "    print(\"School: \", school, \"Enrolled: \", enrolled)\n",
        "    print(\"Chemistry: \", chemistry)\n",
        "    print(\"Biology: \", biology)\n",
        "    print(\"Score: \", total)"
      ]
    },
    {
      "cell_type": "code",
      "execution_count": 200,
      "metadata": {
        "id": "hz-2fXWDuWEo"
      },
      "outputs": [],
      "source": [
        "def print_student_details(name=\"Mark\", school=\"Harvard\", \n",
        "                          math=50, physics=50, chemistry=50, biology=50, \n",
        "                          enrolled=False):\n",
        "    \n",
        "    total = math + physics + chemistry + biology\n",
        "    \n",
        "    print(\"Name: \", name)\n",
        "    print(\"School: \", school, \"Enrolled: \", enrolled)\n",
        "    print(\"Math: \", math)\n",
        "    print(\"Physics: \", physics)\n",
        "    print(\"Chemistry: \", chemistry)\n",
        "    print(\"Biology: \", biology)\n",
        "    print(\"Score: \", total)"
      ]
    },
    {
      "cell_type": "code",
      "execution_count": 201,
      "metadata": {
        "colab": {
          "base_uri": "https://localhost:8080/"
        },
        "id": "FHZ-6j9HuWEo",
        "outputId": "d448af84-8b72-4db5-d43a-d93de2cd93e4"
      },
      "outputs": [
        {
          "output_type": "stream",
          "name": "stdout",
          "text": [
            "Name:  Mark\n",
            "School:  Harvard Enrolled:  False\n",
            "Math:  50\n",
            "Physics:  50\n",
            "Chemistry:  50\n",
            "Biology:  50\n",
            "Score:  200\n"
          ]
        }
      ],
      "source": [
        "print_student_details()"
      ]
    },
    {
      "cell_type": "code",
      "execution_count": 202,
      "metadata": {
        "colab": {
          "base_uri": "https://localhost:8080/"
        },
        "id": "XgcZfb3ouWEo",
        "outputId": "ef853f38-f761-47b0-daa7-656ba0bc08c5"
      },
      "outputs": [
        {
          "output_type": "stream",
          "name": "stdout",
          "text": [
            "Name:  Alice\n",
            "School:  Harvard Enrolled:  False\n",
            "Math:  50\n",
            "Physics:  50\n",
            "Chemistry:  50\n",
            "Biology:  50\n",
            "Score:  200\n"
          ]
        }
      ],
      "source": [
        "print_student_details(\"Alice\")"
      ]
    },
    {
      "cell_type": "code",
      "execution_count": 203,
      "metadata": {
        "colab": {
          "base_uri": "https://localhost:8080/"
        },
        "id": "q5HOeC-iuWEo",
        "outputId": "c7be3f3d-7256-4e16-c70b-f915d6fa6ebe"
      },
      "outputs": [
        {
          "output_type": "stream",
          "name": "stdout",
          "text": [
            "Name:  Alice\n",
            "School:  Columbia Enrolled:  False\n",
            "Math:  50\n",
            "Physics:  50\n",
            "Chemistry:  50\n",
            "Biology:  50\n",
            "Score:  200\n"
          ]
        }
      ],
      "source": [
        "print_student_details(\"Alice\", \"Columbia\")"
      ]
    },
    {
      "cell_type": "code",
      "execution_count": 204,
      "metadata": {
        "colab": {
          "base_uri": "https://localhost:8080/"
        },
        "id": "XHipI5DguWEo",
        "outputId": "9e8f2390-59d9-468f-eeb6-cc37cd6e8d5d"
      },
      "outputs": [
        {
          "output_type": "stream",
          "name": "stdout",
          "text": [
            "Name:  Alice\n",
            "School:  Columbia Enrolled:  False\n",
            "Math:  99\n",
            "Physics:  50\n",
            "Chemistry:  50\n",
            "Biology:  50\n",
            "Score:  249\n"
          ]
        }
      ],
      "source": [
        "print_student_details(\"Alice\", \"Columbia\", 99)"
      ]
    },
    {
      "cell_type": "code",
      "execution_count": 205,
      "metadata": {
        "colab": {
          "base_uri": "https://localhost:8080/"
        },
        "id": "8AE4kCiYuWEo",
        "outputId": "48429683-d09b-4f90-c780-cec6a714cd9a"
      },
      "outputs": [
        {
          "output_type": "stream",
          "name": "stdout",
          "text": [
            "Name:  Alice\n",
            "School:  Columbia Enrolled:  True\n",
            "Math:  99\n",
            "Physics:  50\n",
            "Chemistry:  50\n",
            "Biology:  50\n",
            "Score:  249\n"
          ]
        }
      ],
      "source": [
        "print_student_details(\"Alice\", \"Columbia\", 99, enrolled=True)"
      ]
    },
    {
      "cell_type": "code",
      "execution_count": 206,
      "metadata": {
        "colab": {
          "base_uri": "https://localhost:8080/"
        },
        "id": "AeNFFvR-uWEo",
        "outputId": "abb11acb-3844-4755-a707-4a53c5b89a26"
      },
      "outputs": [
        {
          "output_type": "stream",
          "name": "stdout",
          "text": [
            "Name:  Alice\n",
            "School:  Columbia Enrolled:  True\n",
            "Math:  99\n",
            "Physics:  50\n",
            "Chemistry:  50\n",
            "Biology:  50\n",
            "Score:  249\n"
          ]
        }
      ],
      "source": [
        "print_student_details(\"Alice\", \"Columbia\", 99, enrolled=True)"
      ]
    },
    {
      "cell_type": "code",
      "execution_count": 207,
      "metadata": {
        "colab": {
          "base_uri": "https://localhost:8080/"
        },
        "id": "rnsEzfhBuWEp",
        "outputId": "a6bc4ea4-bc5c-4126-c86d-2d7fa7501e2f"
      },
      "outputs": [
        {
          "output_type": "stream",
          "name": "stdout",
          "text": [
            "Name:  Alice\n",
            "School:  Columbia Enrolled:  True\n",
            "Math:  99\n",
            "Physics:  50\n",
            "Chemistry:  50\n",
            "Biology:  66\n",
            "Score:  265\n"
          ]
        }
      ],
      "source": [
        "print_student_details(\"Alice\", \"Columbia\", 99, biology=66, enrolled=True)"
      ]
    },
    {
      "cell_type": "code",
      "source": [
        ""
      ],
      "metadata": {
        "id": "wslmpf_TFIGf"
      },
      "execution_count": null,
      "outputs": []
    },
    {
      "cell_type": "code",
      "execution_count": 208,
      "metadata": {
        "colab": {
          "base_uri": "https://localhost:8080/"
        },
        "id": "UjwddJ6RuWEp",
        "outputId": "37dea104-fca7-4364-944f-4d772bd92ca1"
      },
      "outputs": [
        {
          "output_type": "stream",
          "name": "stdout",
          "text": [
            "\n"
          ]
        }
      ],
      "source": [
        "print()"
      ]
    },
    {
      "cell_type": "code",
      "execution_count": 209,
      "metadata": {
        "colab": {
          "base_uri": "https://localhost:8080/"
        },
        "id": "Chq0uWYYuWEp",
        "outputId": "835c9f4e-cd0b-4bbe-e255-3881aa6c3615"
      },
      "outputs": [
        {
          "output_type": "stream",
          "name": "stdout",
          "text": [
            "Bob\n"
          ]
        }
      ],
      "source": [
        "print(\"Bob\")"
      ]
    },
    {
      "cell_type": "code",
      "execution_count": 210,
      "metadata": {
        "colab": {
          "base_uri": "https://localhost:8080/"
        },
        "id": "HRlBBOWauWEp",
        "outputId": "16fdfffb-3e5a-4f52-c65c-b6a11628629d"
      },
      "outputs": [
        {
          "output_type": "stream",
          "name": "stdout",
          "text": [
            "Bob Peter\n"
          ]
        }
      ],
      "source": [
        "print(\"Bob\", \"Peter\")"
      ]
    },
    {
      "cell_type": "code",
      "execution_count": 211,
      "metadata": {
        "colab": {
          "base_uri": "https://localhost:8080/"
        },
        "id": "UHB8KVypuWEp",
        "outputId": "b021bfc0-4ae0-4955-eb70-156a816f7988"
      },
      "outputs": [
        {
          "output_type": "stream",
          "name": "stdout",
          "text": [
            "Greg Claudia Bob\n"
          ]
        }
      ],
      "source": [
        "print(\"Greg\", \"Claudia\", \"Bob\")"
      ]
    },
    {
      "cell_type": "code",
      "execution_count": 212,
      "metadata": {
        "colab": {
          "base_uri": "https://localhost:8080/"
        },
        "id": "pV_pc_atuWEp",
        "outputId": "1e3729e8-a0aa-4d15-a842-ae68592e8095"
      },
      "outputs": [
        {
          "output_type": "stream",
          "name": "stdout",
          "text": [
            "Greg Claudia Bob Peter\n"
          ]
        }
      ],
      "source": [
        "print(\"Greg\", \"Claudia\", \"Bob\", \"Peter\")"
      ]
    },
    {
      "cell_type": "code",
      "execution_count": 213,
      "metadata": {
        "id": "NMivLiVXuWEp"
      },
      "outputs": [],
      "source": [
        "def print_fn(string_1):\n",
        "    \n",
        "    print(string_1)"
      ]
    },
    {
      "cell_type": "code",
      "execution_count": 214,
      "metadata": {
        "colab": {
          "base_uri": "https://localhost:8080/",
          "height": 166
        },
        "id": "TDCKa3t_uWEp",
        "outputId": "4b9db40f-422e-48fe-ef72-43b800461eeb"
      },
      "outputs": [
        {
          "output_type": "error",
          "ename": "TypeError",
          "evalue": "ignored",
          "traceback": [
            "\u001b[0;31m---------------------------------------------------------------------------\u001b[0m",
            "\u001b[0;31mTypeError\u001b[0m                                 Traceback (most recent call last)",
            "\u001b[0;32m<ipython-input-214-a2814f842039>\u001b[0m in \u001b[0;36m<module>\u001b[0;34m()\u001b[0m\n\u001b[0;32m----> 1\u001b[0;31m \u001b[0mprint_fn\u001b[0m\u001b[0;34m(\u001b[0m\u001b[0;34m)\u001b[0m\u001b[0;34m\u001b[0m\u001b[0;34m\u001b[0m\u001b[0m\n\u001b[0m",
            "\u001b[0;31mTypeError\u001b[0m: print_fn() missing 1 required positional argument: 'string_1'"
          ]
        }
      ],
      "source": [
        "print_fn()"
      ]
    },
    {
      "cell_type": "code",
      "execution_count": 215,
      "metadata": {
        "id": "fBO9DTLPuWEp"
      },
      "outputs": [],
      "source": [
        "def print_fn(string_1=\"\\n\"):\n",
        "    \n",
        "    print(string_1)"
      ]
    },
    {
      "cell_type": "code",
      "execution_count": 216,
      "metadata": {
        "colab": {
          "base_uri": "https://localhost:8080/"
        },
        "id": "BO4iVChAuWEp",
        "outputId": "2a84b2c1-c72f-4841-a914-186768245a4c"
      },
      "outputs": [
        {
          "output_type": "stream",
          "name": "stdout",
          "text": [
            "\n",
            "\n"
          ]
        }
      ],
      "source": [
        "print_fn()"
      ]
    },
    {
      "cell_type": "code",
      "execution_count": 217,
      "metadata": {
        "colab": {
          "base_uri": "https://localhost:8080/"
        },
        "id": "Bt_gl-PFuWEp",
        "outputId": "186199f6-07a7-4236-f91c-29859395b505"
      },
      "outputs": [
        {
          "output_type": "stream",
          "name": "stdout",
          "text": [
            "Bob\n"
          ]
        }
      ],
      "source": [
        "print_fn(\"Bob\")"
      ]
    },
    {
      "cell_type": "code",
      "execution_count": 218,
      "metadata": {
        "colab": {
          "base_uri": "https://localhost:8080/",
          "height": 166
        },
        "id": "tmNHwH63uWEp",
        "outputId": "c871043d-8d73-4ea1-fbd7-841f1e7e35fc"
      },
      "outputs": [
        {
          "output_type": "error",
          "ename": "TypeError",
          "evalue": "ignored",
          "traceback": [
            "\u001b[0;31m---------------------------------------------------------------------------\u001b[0m",
            "\u001b[0;31mTypeError\u001b[0m                                 Traceback (most recent call last)",
            "\u001b[0;32m<ipython-input-218-2c2500cb5399>\u001b[0m in \u001b[0;36m<module>\u001b[0;34m()\u001b[0m\n\u001b[0;32m----> 1\u001b[0;31m \u001b[0mprint_fn\u001b[0m\u001b[0;34m(\u001b[0m\u001b[0;34m\"Bob\"\u001b[0m\u001b[0;34m,\u001b[0m \u001b[0;34m\"Peter\"\u001b[0m\u001b[0;34m)\u001b[0m\u001b[0;34m\u001b[0m\u001b[0;34m\u001b[0m\u001b[0m\n\u001b[0m",
            "\u001b[0;31mTypeError\u001b[0m: print_fn() takes from 0 to 1 positional arguments but 2 were given"
          ]
        }
      ],
      "source": [
        "print_fn(\"Bob\", \"Peter\")"
      ]
    },
    {
      "cell_type": "code",
      "execution_count": 219,
      "metadata": {
        "id": "Gg24EW0ZuWEp"
      },
      "outputs": [],
      "source": [
        "def print_fn(string_1=\"\\n\", string_2=\"\"):\n",
        "    \n",
        "    print(string_1, string_2)"
      ]
    },
    {
      "cell_type": "code",
      "execution_count": 220,
      "metadata": {
        "colab": {
          "base_uri": "https://localhost:8080/"
        },
        "id": "-Jp0zrgbuWEp",
        "outputId": "6f46fd7d-abbd-4034-c366-4db6f1f17dc5"
      },
      "outputs": [
        {
          "output_type": "stream",
          "name": "stdout",
          "text": [
            "\n",
            " \n"
          ]
        }
      ],
      "source": [
        "print_fn()"
      ]
    },
    {
      "cell_type": "code",
      "execution_count": 221,
      "metadata": {
        "colab": {
          "base_uri": "https://localhost:8080/"
        },
        "id": "5p-hxrgpuWEp",
        "outputId": "bd4aa19a-b424-443d-9535-feb68414760a"
      },
      "outputs": [
        {
          "output_type": "stream",
          "name": "stdout",
          "text": [
            "Bob \n"
          ]
        }
      ],
      "source": [
        "print_fn(\"Bob\")"
      ]
    },
    {
      "cell_type": "code",
      "execution_count": 222,
      "metadata": {
        "colab": {
          "base_uri": "https://localhost:8080/"
        },
        "id": "LmyxWcY-uWEq",
        "outputId": "ab44da3c-8651-41a0-d666-628ba43fe540"
      },
      "outputs": [
        {
          "output_type": "stream",
          "name": "stdout",
          "text": [
            "Bob Peter\n"
          ]
        }
      ],
      "source": [
        "print_fn(\"Bob\", \"Peter\")"
      ]
    },
    {
      "cell_type": "code",
      "execution_count": 223,
      "metadata": {
        "colab": {
          "base_uri": "https://localhost:8080/",
          "height": 166
        },
        "id": "d1aN8vGfuWEq",
        "outputId": "d7383ccd-8530-42ff-e90e-da07c0df4019"
      },
      "outputs": [
        {
          "output_type": "error",
          "ename": "TypeError",
          "evalue": "ignored",
          "traceback": [
            "\u001b[0;31m---------------------------------------------------------------------------\u001b[0m",
            "\u001b[0;31mTypeError\u001b[0m                                 Traceback (most recent call last)",
            "\u001b[0;32m<ipython-input-223-99fc30afbfda>\u001b[0m in \u001b[0;36m<module>\u001b[0;34m()\u001b[0m\n\u001b[0;32m----> 1\u001b[0;31m \u001b[0mprint_fn\u001b[0m\u001b[0;34m(\u001b[0m\u001b[0;34m\"Greg\"\u001b[0m\u001b[0;34m,\u001b[0m \u001b[0;34m\"Claudia\"\u001b[0m\u001b[0;34m,\u001b[0m \u001b[0;34m\"Bob\"\u001b[0m\u001b[0;34m)\u001b[0m\u001b[0;34m\u001b[0m\u001b[0;34m\u001b[0m\u001b[0m\n\u001b[0m",
            "\u001b[0;31mTypeError\u001b[0m: print_fn() takes from 0 to 2 positional arguments but 3 were given"
          ]
        }
      ],
      "source": [
        "print_fn(\"Greg\", \"Claudia\", \"Bob\")"
      ]
    },
    {
      "cell_type": "code",
      "execution_count": 224,
      "metadata": {
        "id": "N0yNEFzTuWEq"
      },
      "outputs": [],
      "source": [
        "def print_fn(*args):\n",
        "    \n",
        "    args_type = type(args)\n",
        "    print(args_type)\n",
        "    \n",
        "    print(args)"
      ]
    },
    {
      "cell_type": "code",
      "execution_count": 225,
      "metadata": {
        "colab": {
          "base_uri": "https://localhost:8080/"
        },
        "id": "BkrnW3RBuWEq",
        "outputId": "b58b2081-fc11-4ee2-e98c-255bbaf7d2b1"
      },
      "outputs": [
        {
          "output_type": "stream",
          "name": "stdout",
          "text": [
            "<class 'tuple'>\n",
            "()\n"
          ]
        }
      ],
      "source": [
        "print_fn()"
      ]
    },
    {
      "cell_type": "code",
      "execution_count": 226,
      "metadata": {
        "colab": {
          "base_uri": "https://localhost:8080/"
        },
        "id": "jncSDzNQuWEq",
        "outputId": "ae18fb11-843c-4975-e952-b517c734adef"
      },
      "outputs": [
        {
          "output_type": "stream",
          "name": "stdout",
          "text": [
            "<class 'tuple'>\n",
            "('Bob',)\n"
          ]
        }
      ],
      "source": [
        "print_fn(\"Bob\")"
      ]
    },
    {
      "cell_type": "code",
      "execution_count": 227,
      "metadata": {
        "colab": {
          "base_uri": "https://localhost:8080/"
        },
        "id": "aGAL0GAeuWEq",
        "outputId": "5fc5e6ae-5780-4076-e172-323dc84601f2"
      },
      "outputs": [
        {
          "output_type": "stream",
          "name": "stdout",
          "text": [
            "<class 'tuple'>\n",
            "('Bob', 'Peter')\n"
          ]
        }
      ],
      "source": [
        "print_fn(\"Bob\", \"Peter\")"
      ]
    },
    {
      "cell_type": "code",
      "execution_count": 228,
      "metadata": {
        "colab": {
          "base_uri": "https://localhost:8080/"
        },
        "id": "tRI0fpLWuWEq",
        "outputId": "5981685a-cd26-4036-fd9f-578b0d77597b"
      },
      "outputs": [
        {
          "output_type": "stream",
          "name": "stdout",
          "text": [
            "<class 'tuple'>\n",
            "('Greg', 'Claudia', 'Bob')\n"
          ]
        }
      ],
      "source": [
        "print_fn(\"Greg\", \"Claudia\", \"Bob\")"
      ]
    },
    {
      "cell_type": "code",
      "execution_count": 229,
      "metadata": {
        "colab": {
          "base_uri": "https://localhost:8080/"
        },
        "id": "133FkXnmuWEq",
        "outputId": "43083f84-51d1-4d38-ad84-d92cba2c269c"
      },
      "outputs": [
        {
          "output_type": "stream",
          "name": "stdout",
          "text": [
            "<class 'tuple'>\n",
            "('Greg', 'Claudia', 'Bob', 'Alice', 'Steve', 'Jim')\n"
          ]
        }
      ],
      "source": [
        "print_fn(\"Greg\", \"Claudia\", \"Bob\", \"Alice\", \"Steve\", \"Jim\")"
      ]
    },
    {
      "cell_type": "code",
      "execution_count": 230,
      "metadata": {
        "colab": {
          "base_uri": "https://localhost:8080/"
        },
        "id": "FoJaeebKuWEq",
        "outputId": "57b8268b-f873-412c-8563-63b1bd03d294"
      },
      "outputs": [
        {
          "output_type": "stream",
          "name": "stdout",
          "text": [
            "<class 'tuple'>\n",
            "(['Greg', 'Claudia', 'Bob', 'Alice', 'Steve', 'Jim'],)\n"
          ]
        }
      ],
      "source": [
        "names_list = [\"Greg\", \"Claudia\", \"Bob\", \"Alice\", \"Steve\", \"Jim\"]\n",
        "\n",
        "\n",
        "print_fn(names_list)"
      ]
    },
    {
      "cell_type": "code",
      "execution_count": 231,
      "metadata": {
        "colab": {
          "base_uri": "https://localhost:8080/"
        },
        "id": "7sLPfvfAuWEq",
        "outputId": "4c613fa9-c393-4188-facf-32e8286aa164"
      },
      "outputs": [
        {
          "output_type": "stream",
          "name": "stdout",
          "text": [
            "<class 'tuple'>\n",
            "('Greg', 'Claudia', 'Bob', 'Alice', 'Steve', 'Jim')\n"
          ]
        }
      ],
      "source": [
        "print_fn(*names_list)"
      ]
    },
    {
      "cell_type": "code",
      "execution_count": 232,
      "metadata": {
        "id": "Uqfi7z8zuWEq"
      },
      "outputs": [],
      "source": [
        "def students_in_college(college, city, *students):\n",
        "    \n",
        "    print(\"College: \", college)\n",
        "    print(\"City: \", city)\n",
        "    print(\"Students: \", students)"
      ]
    },
    {
      "cell_type": "code",
      "execution_count": 233,
      "metadata": {
        "colab": {
          "base_uri": "https://localhost:8080/",
          "height": 166
        },
        "id": "JJbDaDKPuWEq",
        "outputId": "cac52ae8-7572-4452-ec3b-c021b1ac1b80"
      },
      "outputs": [
        {
          "output_type": "error",
          "ename": "TypeError",
          "evalue": "ignored",
          "traceback": [
            "\u001b[0;31m---------------------------------------------------------------------------\u001b[0m",
            "\u001b[0;31mTypeError\u001b[0m                                 Traceback (most recent call last)",
            "\u001b[0;32m<ipython-input-233-6ead0ef89412>\u001b[0m in \u001b[0;36m<module>\u001b[0;34m()\u001b[0m\n\u001b[0;32m----> 1\u001b[0;31m \u001b[0mstudents_in_college\u001b[0m\u001b[0;34m(\u001b[0m\u001b[0;34m)\u001b[0m\u001b[0;34m\u001b[0m\u001b[0;34m\u001b[0m\u001b[0m\n\u001b[0m",
            "\u001b[0;31mTypeError\u001b[0m: students_in_college() missing 2 required positional arguments: 'college' and 'city'"
          ]
        }
      ],
      "source": [
        "students_in_college()"
      ]
    },
    {
      "cell_type": "code",
      "execution_count": 234,
      "metadata": {
        "colab": {
          "base_uri": "https://localhost:8080/",
          "height": 166
        },
        "id": "OJSsmRaRuWEq",
        "outputId": "c1dbf718-f249-4d79-a339-2f9fb5f3b4fa"
      },
      "outputs": [
        {
          "output_type": "error",
          "ename": "TypeError",
          "evalue": "ignored",
          "traceback": [
            "\u001b[0;31m---------------------------------------------------------------------------\u001b[0m",
            "\u001b[0;31mTypeError\u001b[0m                                 Traceback (most recent call last)",
            "\u001b[0;32m<ipython-input-234-fb7501aef228>\u001b[0m in \u001b[0;36m<module>\u001b[0;34m()\u001b[0m\n\u001b[0;32m----> 1\u001b[0;31m \u001b[0mstudents_in_college\u001b[0m\u001b[0;34m(\u001b[0m\u001b[0;34m\"Columbia\"\u001b[0m\u001b[0;34m)\u001b[0m\u001b[0;34m\u001b[0m\u001b[0;34m\u001b[0m\u001b[0m\n\u001b[0m",
            "\u001b[0;31mTypeError\u001b[0m: students_in_college() missing 1 required positional argument: 'city'"
          ]
        }
      ],
      "source": [
        "students_in_college(\"Columbia\")"
      ]
    },
    {
      "cell_type": "code",
      "execution_count": 235,
      "metadata": {
        "colab": {
          "base_uri": "https://localhost:8080/"
        },
        "id": "uBZLatUTuWEq",
        "outputId": "e59a73ec-a73d-4dca-df1b-89eec679c12f"
      },
      "outputs": [
        {
          "output_type": "stream",
          "name": "stdout",
          "text": [
            "College:  Columbia\n",
            "City:  New York\n",
            "Students:  ()\n"
          ]
        }
      ],
      "source": [
        "students_in_college(\"Columbia\", \"New York\")"
      ]
    },
    {
      "cell_type": "code",
      "execution_count": 236,
      "metadata": {
        "colab": {
          "base_uri": "https://localhost:8080/"
        },
        "id": "JkZSuS3puWEr",
        "outputId": "55aa2f80-aab9-485e-a8a6-a098e162ffda"
      },
      "outputs": [
        {
          "output_type": "stream",
          "name": "stdout",
          "text": [
            "College:  Columbia\n",
            "City:  New York\n",
            "Students:  ('Bob',)\n"
          ]
        }
      ],
      "source": [
        "students_in_college(\"Columbia\", \"New York\", \"Bob\")"
      ]
    },
    {
      "cell_type": "code",
      "execution_count": 237,
      "metadata": {
        "colab": {
          "base_uri": "https://localhost:8080/"
        },
        "id": "0j9JfoViuWEr",
        "outputId": "5371494c-23ce-457f-e46f-da4e207c8a36"
      },
      "outputs": [
        {
          "output_type": "stream",
          "name": "stdout",
          "text": [
            "College:  Columbia\n",
            "City:  New York\n",
            "Students:  ('Peter', 'Julie')\n"
          ]
        }
      ],
      "source": [
        "students_in_college(\"Columbia\", \"New York\", \"Peter\", \"Julie\")"
      ]
    },
    {
      "cell_type": "code",
      "execution_count": 238,
      "metadata": {
        "colab": {
          "base_uri": "https://localhost:8080/"
        },
        "id": "pkSB11jNuWEr",
        "outputId": "f06eb31b-e18e-4478-d89c-37d582c4f81a"
      },
      "outputs": [
        {
          "output_type": "stream",
          "name": "stdout",
          "text": [
            "College:  Columbia\n",
            "City:  New York\n",
            "Students:  ('Peter', 'Julie', 'Trista')\n"
          ]
        }
      ],
      "source": [
        "students_in_college(\"Columbia\", \"New York\", \"Peter\", \"Julie\", \"Trista\")"
      ]
    },
    {
      "cell_type": "code",
      "execution_count": 239,
      "metadata": {
        "colab": {
          "base_uri": "https://localhost:8080/",
          "height": 131
        },
        "id": "gjjHF6RYuWEr",
        "outputId": "36023090-4270-48be-8313-66d500d46110"
      },
      "outputs": [
        {
          "output_type": "error",
          "ename": "SyntaxError",
          "evalue": "ignored",
          "traceback": [
            "\u001b[0;36m  File \u001b[0;32m\"<ipython-input-239-e282e02317eb>\"\u001b[0;36m, line \u001b[0;32m1\u001b[0m\n\u001b[0;31m    students_in_college(city=\"New York\", college=\"Columbia\", \"Peter\", \"Julie\")\u001b[0m\n\u001b[0m                                                            ^\u001b[0m\n\u001b[0;31mSyntaxError\u001b[0m\u001b[0;31m:\u001b[0m positional argument follows keyword argument\n"
          ]
        }
      ],
      "source": [
        "students_in_college(city=\"New York\", college=\"Columbia\", \"Peter\", \"Julie\")"
      ]
    },
    {
      "cell_type": "code",
      "execution_count": 240,
      "metadata": {
        "id": "kfqFdEPzuWEr"
      },
      "outputs": [],
      "source": [
        "def students_in_college(*students, college, city):\n",
        "    \n",
        "    print(\"College: \", college)\n",
        "    print(\"City: \", city)\n",
        "    print(\"Students: \", students)"
      ]
    },
    {
      "cell_type": "code",
      "execution_count": 241,
      "metadata": {
        "colab": {
          "base_uri": "https://localhost:8080/",
          "height": 166
        },
        "id": "CUZ52KCEuWEr",
        "outputId": "d6c71d4f-1741-4e14-eca2-087193efd229"
      },
      "outputs": [
        {
          "output_type": "error",
          "ename": "TypeError",
          "evalue": "ignored",
          "traceback": [
            "\u001b[0;31m---------------------------------------------------------------------------\u001b[0m",
            "\u001b[0;31mTypeError\u001b[0m                                 Traceback (most recent call last)",
            "\u001b[0;32m<ipython-input-241-09793ea67495>\u001b[0m in \u001b[0;36m<module>\u001b[0;34m()\u001b[0m\n\u001b[0;32m----> 1\u001b[0;31m \u001b[0mstudents_in_college\u001b[0m\u001b[0;34m(\u001b[0m\u001b[0;34m\"Columbia\"\u001b[0m\u001b[0;34m,\u001b[0m \u001b[0;34m\"New York\"\u001b[0m\u001b[0;34m,\u001b[0m \u001b[0;34m\"Bob\"\u001b[0m\u001b[0;34m)\u001b[0m\u001b[0;34m\u001b[0m\u001b[0;34m\u001b[0m\u001b[0m\n\u001b[0m",
            "\u001b[0;31mTypeError\u001b[0m: students_in_college() missing 2 required keyword-only arguments: 'college' and 'city'"
          ]
        }
      ],
      "source": [
        "students_in_college(\"Columbia\", \"New York\", \"Bob\")"
      ]
    },
    {
      "cell_type": "code",
      "execution_count": 242,
      "metadata": {
        "colab": {
          "base_uri": "https://localhost:8080/"
        },
        "id": "vCgeA4jruWEr",
        "outputId": "f85e94db-3031-4148-f069-7ee5d80d80c9"
      },
      "outputs": [
        {
          "output_type": "stream",
          "name": "stdout",
          "text": [
            "College:  Columbia\n",
            "City:  New York\n",
            "Students:  ('Bob',)\n"
          ]
        }
      ],
      "source": [
        "students_in_college(\"Bob\", college=\"Columbia\", city=\"New York\")"
      ]
    },
    {
      "cell_type": "code",
      "execution_count": 243,
      "metadata": {
        "colab": {
          "base_uri": "https://localhost:8080/"
        },
        "id": "8fp7SYV-uWEr",
        "outputId": "51327b87-2e71-4196-bf9b-9082e7db5416"
      },
      "outputs": [
        {
          "output_type": "stream",
          "name": "stdout",
          "text": [
            "College:  Columbia\n",
            "City:  New York\n",
            "Students:  ('Bob', 'Peter')\n"
          ]
        }
      ],
      "source": [
        "students_in_college(\"Bob\", \"Peter\", college=\"Columbia\", city=\"New York\")"
      ]
    },
    {
      "cell_type": "code",
      "execution_count": 244,
      "metadata": {
        "id": "vKYQxdxTuWEr"
      },
      "outputs": [],
      "source": [
        "def students_in_college(*students, college, city=\"Boston\"):\n",
        "    \n",
        "    print(\"College: \", college)\n",
        "    print(\"City: \", city)\n",
        "    print(\"Students: \", students)"
      ]
    },
    {
      "cell_type": "code",
      "execution_count": 245,
      "metadata": {
        "colab": {
          "base_uri": "https://localhost:8080/",
          "height": 166
        },
        "id": "SwYKdMw0uWEr",
        "outputId": "9a7bc4b0-a391-4ef7-88e2-e045b0c1485d"
      },
      "outputs": [
        {
          "output_type": "error",
          "ename": "TypeError",
          "evalue": "ignored",
          "traceback": [
            "\u001b[0;31m---------------------------------------------------------------------------\u001b[0m",
            "\u001b[0;31mTypeError\u001b[0m                                 Traceback (most recent call last)",
            "\u001b[0;32m<ipython-input-245-8f3a373ae3e9>\u001b[0m in \u001b[0;36m<module>\u001b[0;34m()\u001b[0m\n\u001b[0;32m----> 1\u001b[0;31m \u001b[0mstudents_in_college\u001b[0m\u001b[0;34m(\u001b[0m\u001b[0;34m\"Bob\"\u001b[0m\u001b[0;34m)\u001b[0m\u001b[0;34m\u001b[0m\u001b[0;34m\u001b[0m\u001b[0m\n\u001b[0m",
            "\u001b[0;31mTypeError\u001b[0m: students_in_college() missing 1 required keyword-only argument: 'college'"
          ]
        }
      ],
      "source": [
        "students_in_college(\"Bob\")"
      ]
    },
    {
      "cell_type": "code",
      "execution_count": 246,
      "metadata": {
        "colab": {
          "base_uri": "https://localhost:8080/",
          "height": 166
        },
        "id": "qLeBhPa4uWEr",
        "outputId": "c9235f70-4d2f-4e9c-d811-a78a8a49dd26"
      },
      "outputs": [
        {
          "output_type": "error",
          "ename": "TypeError",
          "evalue": "ignored",
          "traceback": [
            "\u001b[0;31m---------------------------------------------------------------------------\u001b[0m",
            "\u001b[0;31mTypeError\u001b[0m                                 Traceback (most recent call last)",
            "\u001b[0;32m<ipython-input-246-190463e26be8>\u001b[0m in \u001b[0;36m<module>\u001b[0;34m()\u001b[0m\n\u001b[0;32m----> 1\u001b[0;31m \u001b[0mstudents_in_college\u001b[0m\u001b[0;34m(\u001b[0m\u001b[0;34m\"Bob\"\u001b[0m\u001b[0;34m,\u001b[0m \u001b[0;34m\"Harvard\"\u001b[0m\u001b[0;34m)\u001b[0m\u001b[0;34m\u001b[0m\u001b[0;34m\u001b[0m\u001b[0m\n\u001b[0m",
            "\u001b[0;31mTypeError\u001b[0m: students_in_college() missing 1 required keyword-only argument: 'college'"
          ]
        }
      ],
      "source": [
        "students_in_college(\"Bob\", \"Harvard\")"
      ]
    },
    {
      "cell_type": "code",
      "execution_count": 247,
      "metadata": {
        "colab": {
          "base_uri": "https://localhost:8080/"
        },
        "id": "tNIohz_ruWEr",
        "outputId": "28ab3788-3148-4400-8c1a-3d5d60da2304"
      },
      "outputs": [
        {
          "output_type": "stream",
          "name": "stdout",
          "text": [
            "College:  Harvard\n",
            "City:  Boston\n",
            "Students:  ('Bob',)\n"
          ]
        }
      ],
      "source": [
        "students_in_college(\"Bob\", college=\"Harvard\")"
      ]
    },
    {
      "cell_type": "code",
      "execution_count": 248,
      "metadata": {
        "colab": {
          "base_uri": "https://localhost:8080/"
        },
        "id": "M4TcBeSMuWEr",
        "outputId": "c6a4c962-6918-4e16-f01c-7a502d08c04c"
      },
      "outputs": [
        {
          "output_type": "stream",
          "name": "stdout",
          "text": [
            "College:  Columbia\n",
            "City:  New York\n",
            "Students:  ('Bob',)\n"
          ]
        }
      ],
      "source": [
        "students_in_college(\"Bob\", college=\"Columbia\", city=\"New York\")"
      ]
    },
    {
      "cell_type": "code",
      "execution_count": 249,
      "metadata": {
        "id": "ECU_qzncuWEs"
      },
      "outputs": [],
      "source": [
        "def student_details(**kwargs):\n",
        "    \n",
        "    print(type(kwargs))\n",
        "    print(kwargs)"
      ]
    },
    {
      "cell_type": "code",
      "execution_count": 250,
      "metadata": {
        "colab": {
          "base_uri": "https://localhost:8080/"
        },
        "id": "dSCCe7tTuWEs",
        "outputId": "81437059-c43f-4ea0-f016-097144325079"
      },
      "outputs": [
        {
          "output_type": "stream",
          "name": "stdout",
          "text": [
            "<class 'dict'>\n",
            "{}\n"
          ]
        }
      ],
      "source": [
        "student_details()"
      ]
    },
    {
      "cell_type": "code",
      "execution_count": 251,
      "metadata": {
        "colab": {
          "base_uri": "https://localhost:8080/"
        },
        "id": "OfHy3gS1uWEs",
        "outputId": "b93d82d1-873d-462f-ecae-b95d064d8649"
      },
      "outputs": [
        {
          "output_type": "stream",
          "name": "stdout",
          "text": [
            "<class 'dict'>\n",
            "{'name': 'John'}\n"
          ]
        }
      ],
      "source": [
        "student_details(name=\"John\")"
      ]
    },
    {
      "cell_type": "code",
      "execution_count": 252,
      "metadata": {
        "colab": {
          "base_uri": "https://localhost:8080/"
        },
        "id": "M02ZJxo3uWEs",
        "outputId": "a632cba9-1912-4af4-f219-b33d0f734747"
      },
      "outputs": [
        {
          "output_type": "stream",
          "name": "stdout",
          "text": [
            "<class 'dict'>\n",
            "{'name': 'John', 'age': 18}\n"
          ]
        }
      ],
      "source": [
        "student_details(name=\"John\", age=18)"
      ]
    },
    {
      "cell_type": "code",
      "execution_count": 253,
      "metadata": {
        "colab": {
          "base_uri": "https://localhost:8080/"
        },
        "id": "o1MCGBwiuWEs",
        "outputId": "7a777753-f361-49eb-c477-0c1665149ecd"
      },
      "outputs": [
        {
          "output_type": "stream",
          "name": "stdout",
          "text": [
            "<class 'dict'>\n",
            "{'name': 'John', 'age': 18, 'college': 'Boston University'}\n"
          ]
        }
      ],
      "source": [
        "student_details(name=\"John\", age=18, college=\"Boston University\")"
      ]
    },
    {
      "cell_type": "code",
      "execution_count": 254,
      "metadata": {
        "id": "MdlWeUMGuWEs"
      },
      "outputs": [],
      "source": [
        "def student_details(**details):\n",
        "    \n",
        "    for key, value in details.items():\n",
        "        print(key, value)"
      ]
    },
    {
      "cell_type": "code",
      "execution_count": 255,
      "metadata": {
        "colab": {
          "base_uri": "https://localhost:8080/"
        },
        "id": "1uIZWqvouWEs",
        "outputId": "42259ca3-f47a-4d8a-e8dd-cadbd237b0da"
      },
      "outputs": [
        {
          "output_type": "stream",
          "name": "stdout",
          "text": [
            "name John\n",
            "age 18\n",
            "college Boston University\n"
          ]
        }
      ],
      "source": [
        "student_details(name=\"John\", age=18, college=\"Boston University\")"
      ]
    },
    {
      "cell_type": "code",
      "execution_count": 256,
      "metadata": {
        "id": "OtkpxqB3uWEs"
      },
      "outputs": [],
      "source": [
        "details_dictionary = {'name': 'John', 'age': 18, 'college': 'Boston University'}"
      ]
    },
    {
      "cell_type": "code",
      "execution_count": 257,
      "metadata": {
        "colab": {
          "base_uri": "https://localhost:8080/",
          "height": 166
        },
        "id": "5YhHydpSuWEs",
        "outputId": "d09af1b4-e144-485f-c408-e8afa5462c6a"
      },
      "outputs": [
        {
          "output_type": "error",
          "ename": "TypeError",
          "evalue": "ignored",
          "traceback": [
            "\u001b[0;31m---------------------------------------------------------------------------\u001b[0m",
            "\u001b[0;31mTypeError\u001b[0m                                 Traceback (most recent call last)",
            "\u001b[0;32m<ipython-input-257-017c6d0eb84f>\u001b[0m in \u001b[0;36m<module>\u001b[0;34m()\u001b[0m\n\u001b[0;32m----> 1\u001b[0;31m \u001b[0mstudent_details\u001b[0m\u001b[0;34m(\u001b[0m\u001b[0mdetails_dictionary\u001b[0m\u001b[0;34m)\u001b[0m\u001b[0;34m\u001b[0m\u001b[0;34m\u001b[0m\u001b[0m\n\u001b[0m",
            "\u001b[0;31mTypeError\u001b[0m: student_details() takes 0 positional arguments but 1 was given"
          ]
        }
      ],
      "source": [
        "student_details(details_dictionary)"
      ]
    },
    {
      "cell_type": "code",
      "execution_count": 258,
      "metadata": {
        "colab": {
          "base_uri": "https://localhost:8080/"
        },
        "id": "kyIrpO5guWEs",
        "outputId": "8ed84528-296a-4746-d4c3-636c92c87178"
      },
      "outputs": [
        {
          "output_type": "stream",
          "name": "stdout",
          "text": [
            "name John\n",
            "age 18\n",
            "college Boston University\n"
          ]
        }
      ],
      "source": [
        "student_details(**details_dictionary)"
      ]
    },
    {
      "cell_type": "code",
      "execution_count": 259,
      "metadata": {
        "id": "idfjnB1WuWEt"
      },
      "outputs": [],
      "source": [
        "def student_details(**details):\n",
        "    \n",
        "    if 'name' in details:\n",
        "        print(\"Name: \", details['name'])\n",
        "    \n",
        "    if 'age' in details:\n",
        "        print(\"Age: \", details['age'])\n",
        "        \n",
        "    if 'college' in details:\n",
        "        print(\"College: \", details['college'])"
      ]
    },
    {
      "cell_type": "code",
      "execution_count": 260,
      "metadata": {
        "colab": {
          "base_uri": "https://localhost:8080/"
        },
        "id": "wj5bh-4yuWEt",
        "outputId": "aac4c63d-e19d-48d9-d9d6-36f8dbc96ba8"
      },
      "outputs": [
        {
          "output_type": "stream",
          "name": "stdout",
          "text": [
            "Name:  John\n"
          ]
        }
      ],
      "source": [
        "student_details(name=\"John\")"
      ]
    },
    {
      "cell_type": "code",
      "execution_count": 261,
      "metadata": {
        "colab": {
          "base_uri": "https://localhost:8080/"
        },
        "id": "917VmxRJuWEt",
        "outputId": "3af51de1-9153-4cf6-ab57-09146e4802b4"
      },
      "outputs": [
        {
          "output_type": "stream",
          "name": "stdout",
          "text": [
            "Name:  John\n",
            "College:  Boston University\n"
          ]
        }
      ],
      "source": [
        "student_details(name=\"John\", college=\"Boston University\")"
      ]
    },
    {
      "cell_type": "code",
      "execution_count": 262,
      "metadata": {
        "colab": {
          "base_uri": "https://localhost:8080/"
        },
        "id": "su-60rSsuWEt",
        "outputId": "ac121e32-af88-4639-af1b-7f3abf3d66cd"
      },
      "outputs": [
        {
          "output_type": "stream",
          "name": "stdout",
          "text": [
            "Name:  John\n",
            "Age:  21\n",
            "College:  Boston University\n"
          ]
        }
      ],
      "source": [
        "student_details(name=\"John\", college=\"Boston University\", age=21)"
      ]
    },
    {
      "cell_type": "code",
      "execution_count": 263,
      "metadata": {
        "id": "EQ5fuwG3uWEt"
      },
      "outputs": [],
      "source": [
        "def students_in_college(*student_names, **college_details):\n",
        "    print(\"Students--\")\n",
        "    for s in student_names:\n",
        "        print(s)\n",
        "    \n",
        "    print()\n",
        "    \n",
        "    print(\"College Details--\")\n",
        "    for key, value in college_details.items():\n",
        "        print(key, value)\n"
      ]
    },
    {
      "cell_type": "code",
      "execution_count": 264,
      "metadata": {
        "colab": {
          "base_uri": "https://localhost:8080/"
        },
        "id": "lWF20_yquWEt",
        "outputId": "846cabb7-c79b-4967-9b8d-c2c4459e7d2a"
      },
      "outputs": [
        {
          "output_type": "stream",
          "name": "stdout",
          "text": [
            "Students--\n",
            "Alison\n",
            "Bob\n",
            "Charlie\n",
            "\n",
            "College Details--\n",
            "name Stanford\n",
            "city Palo Alto\n"
          ]
        }
      ],
      "source": [
        "students_in_college(\"Alison\", \"Bob\", \"Charlie\", name=\"Stanford\", city=\"Palo Alto\")"
      ]
    },
    {
      "cell_type": "code",
      "execution_count": null,
      "metadata": {
        "id": "lioywKdCuWEt"
      },
      "outputs": [],
      "source": [
        ""
      ]
    }
  ],
  "metadata": {
    "kernelspec": {
      "display_name": "Python 3",
      "language": "python",
      "name": "python3"
    },
    "language_info": {
      "codemirror_mode": {
        "name": "ipython",
        "version": 3
      },
      "file_extension": ".py",
      "mimetype": "text/x-python",
      "name": "python",
      "nbconvert_exporter": "python",
      "pygments_lexer": "ipython3",
      "version": "3.6.4"
    },
    "colab": {
      "name": "7-Intro-Functions.ipynb",
      "provenance": [],
      "collapsed_sections": []
    }
  },
  "nbformat": 4,
  "nbformat_minor": 0
}