{
  "cells": [
    {
      "cell_type": "code",
      "execution_count": 1,
      "metadata": {
        "id": "q9prHLRJ47qH"
      },
      "outputs": [],
      "source": [
        "empty_list = []"
      ]
    },
    {
      "cell_type": "code",
      "execution_count": 2,
      "metadata": {
        "colab": {
          "base_uri": "https://localhost:8080/"
        },
        "id": "kC2ZNygN47qO",
        "outputId": "4d1761c2-cb6b-4d3f-c2c4-a377194fd89b"
      },
      "outputs": [
        {
          "output_type": "execute_result",
          "data": {
            "text/plain": [
              "[]"
            ]
          },
          "metadata": {},
          "execution_count": 2
        }
      ],
      "source": [
        "empty_list "
      ]
    },
    {
      "cell_type": "code",
      "execution_count": 3,
      "metadata": {
        "colab": {
          "base_uri": "https://localhost:8080/"
        },
        "id": "rdH15x5G47qR",
        "outputId": "13697b15-047b-4e94-eada-b11020b381f8"
      },
      "outputs": [
        {
          "output_type": "execute_result",
          "data": {
            "text/plain": [
              "['Toyota Camry', 'Honda Accord', 'Honda Civic', 'Toyota Corolla']"
            ]
          },
          "metadata": {},
          "execution_count": 3
        }
      ],
      "source": [
        "list_str = ['Toyota Camry', 'Honda Accord', 'Honda Civic', 'Toyota Corolla']\n",
        "\n",
        "list_str"
      ]
    },
    {
      "cell_type": "code",
      "execution_count": 4,
      "metadata": {
        "colab": {
          "base_uri": "https://localhost:8080/"
        },
        "id": "1lyMZJH_47qT",
        "outputId": "368c7284-ac18-4e15-e808-e0dcdfaaea60"
      },
      "outputs": [
        {
          "output_type": "execute_result",
          "data": {
            "text/plain": [
              "list"
            ]
          },
          "metadata": {},
          "execution_count": 4
        }
      ],
      "source": [
        "type(list_str)"
      ]
    },
    {
      "cell_type": "code",
      "execution_count": 5,
      "metadata": {
        "colab": {
          "base_uri": "https://localhost:8080/"
        },
        "id": "PLlHRWL847qU",
        "outputId": "696e8a0e-e674-4a42-da7e-f6ec6cff90e1"
      },
      "outputs": [
        {
          "output_type": "execute_result",
          "data": {
            "text/plain": [
              "[5, 7, 8, 9, 20, 40]"
            ]
          },
          "metadata": {},
          "execution_count": 5
        }
      ],
      "source": [
        "list_int = [5, 7, 8, 9, 20, 40]\n",
        "\n",
        "list_int"
      ]
    },
    {
      "cell_type": "code",
      "execution_count": 6,
      "metadata": {
        "colab": {
          "base_uri": "https://localhost:8080/"
        },
        "id": "F03Kxp9t47qV",
        "outputId": "08be9423-71f3-493d-c884-a3d67c9bd04b"
      },
      "outputs": [
        {
          "output_type": "execute_result",
          "data": {
            "text/plain": [
              "[5.5, 7.8, 8.5, 9.2, 20.3, 40.6]"
            ]
          },
          "metadata": {},
          "execution_count": 6
        }
      ],
      "source": [
        "list_float = [5.5, 7.8, 8.5, 9.2, 20.3, 40.6]\n",
        "\n",
        "list_float"
      ]
    },
    {
      "cell_type": "code",
      "execution_count": 7,
      "metadata": {
        "colab": {
          "base_uri": "https://localhost:8080/"
        },
        "id": "jYyt3AD247qW",
        "outputId": "ba34c122-7d6a-48ff-8496-5f7a8f14ffa1"
      },
      "outputs": [
        {
          "output_type": "execute_result",
          "data": {
            "text/plain": [
              "[True, False]"
            ]
          },
          "metadata": {},
          "execution_count": 7
        }
      ],
      "source": [
        "list_bool = [True, False]\n",
        "\n",
        "list_bool"
      ]
    },
    {
      "cell_type": "code",
      "execution_count": 8,
      "metadata": {
        "colab": {
          "base_uri": "https://localhost:8080/"
        },
        "id": "PGy4K3jB47qY",
        "outputId": "b7e0cb29-cb47-42a5-ef6c-d7b886a3ad57"
      },
      "outputs": [
        {
          "output_type": "execute_result",
          "data": {
            "text/plain": [
              "['Nissan Sentra', 1, 2.5, True]"
            ]
          },
          "metadata": {},
          "execution_count": 8
        }
      ],
      "source": [
        "mixed_list = ['Nissan Sentra', 1, 2.5, True]\n",
        "\n",
        "mixed_list"
      ]
    },
    {
      "cell_type": "code",
      "execution_count": 9,
      "metadata": {
        "colab": {
          "base_uri": "https://localhost:8080/"
        },
        "id": "oksHwSgd47qZ",
        "outputId": "d7db8bde-899b-4557-b15d-b3d7840a86aa"
      },
      "outputs": [
        {
          "output_type": "execute_result",
          "data": {
            "text/plain": [
              "['Toyota Camry', 'Honda Accord', 'Honda Civic', 'Toyota Corolla']"
            ]
          },
          "metadata": {},
          "execution_count": 9
        }
      ],
      "source": [
        "cars_list = ['Toyota Camry', 'Honda Accord', 'Honda Civic', 'Toyota Corolla']\n",
        "\n",
        "cars_list"
      ]
    },
    {
      "cell_type": "code",
      "execution_count": 10,
      "metadata": {
        "colab": {
          "base_uri": "https://localhost:8080/"
        },
        "id": "yMugoB1647qb",
        "outputId": "74885518-f35b-47cb-beca-fbbd273b945c"
      },
      "outputs": [
        {
          "output_type": "stream",
          "name": "stdout",
          "text": [
            "Toyota Camry\n"
          ]
        }
      ],
      "source": [
        "print(cars_list[0])"
      ]
    },
    {
      "cell_type": "code",
      "execution_count": 11,
      "metadata": {
        "colab": {
          "base_uri": "https://localhost:8080/"
        },
        "id": "XBnii4bO47qc",
        "outputId": "eb99b251-088f-428d-970e-0c2a8af3897e"
      },
      "outputs": [
        {
          "output_type": "stream",
          "name": "stdout",
          "text": [
            "Honda Accord\n",
            "Honda Civic\n",
            "Toyota Corolla\n"
          ]
        }
      ],
      "source": [
        "print(cars_list[1])\n",
        "\n",
        "print(cars_list[2])\n",
        "\n",
        "print(cars_list[3])"
      ]
    },
    {
      "cell_type": "code",
      "execution_count": 12,
      "metadata": {
        "colab": {
          "base_uri": "https://localhost:8080/",
          "height": 166
        },
        "id": "Ztx5RFaH47qd",
        "outputId": "9bab2712-7c2d-4c68-89cd-3802734daef7"
      },
      "outputs": [
        {
          "output_type": "error",
          "ename": "IndexError",
          "evalue": "ignored",
          "traceback": [
            "\u001b[0;31m---------------------------------------------------------------------------\u001b[0m",
            "\u001b[0;31mIndexError\u001b[0m                                Traceback (most recent call last)",
            "\u001b[0;32m<ipython-input-12-25f5ce5e67be>\u001b[0m in \u001b[0;36m<module>\u001b[0;34m()\u001b[0m\n\u001b[0;32m----> 1\u001b[0;31m \u001b[0mprint\u001b[0m\u001b[0;34m(\u001b[0m\u001b[0mcars_list\u001b[0m\u001b[0;34m[\u001b[0m\u001b[0;36m4\u001b[0m\u001b[0;34m]\u001b[0m\u001b[0;34m)\u001b[0m\u001b[0;34m\u001b[0m\u001b[0;34m\u001b[0m\u001b[0m\n\u001b[0m",
            "\u001b[0;31mIndexError\u001b[0m: list index out of range"
          ]
        }
      ],
      "source": [
        "print(cars_list[4])"
      ]
    },
    {
      "cell_type": "code",
      "execution_count": 13,
      "metadata": {
        "colab": {
          "base_uri": "https://localhost:8080/"
        },
        "id": "Q4QS9AWo47qe",
        "outputId": "6bb2aa4d-bf45-42bb-d6b7-71859e9e8901"
      },
      "outputs": [
        {
          "output_type": "execute_result",
          "data": {
            "text/plain": [
              "4"
            ]
          },
          "metadata": {},
          "execution_count": 13
        }
      ],
      "source": [
        "len(cars_list)"
      ]
    },
    {
      "cell_type": "code",
      "execution_count": 14,
      "metadata": {
        "colab": {
          "base_uri": "https://localhost:8080/"
        },
        "id": "h2qTO_Lm47qe",
        "outputId": "9a1651fd-c125-4260-b59d-cb992f944067"
      },
      "outputs": [
        {
          "output_type": "stream",
          "name": "stdout",
          "text": [
            "car at index 2:  Honda Civic\n"
          ]
        }
      ],
      "source": [
        "print(\"car at index 2: \", cars_list[2])"
      ]
    },
    {
      "cell_type": "code",
      "execution_count": 15,
      "metadata": {
        "colab": {
          "base_uri": "https://localhost:8080/"
        },
        "id": "QxEB2Jk147qf",
        "outputId": "70c4f047-c4fd-484c-f9c1-ef323d9536fc"
      },
      "outputs": [
        {
          "output_type": "stream",
          "name": "stdout",
          "text": [
            "Toyota Corolla\n"
          ]
        }
      ],
      "source": [
        "print(cars_list[3])"
      ]
    },
    {
      "cell_type": "code",
      "execution_count": 16,
      "metadata": {
        "colab": {
          "base_uri": "https://localhost:8080/",
          "height": 166
        },
        "id": "XeOs-aLt47qg",
        "outputId": "1087b08d-0d8a-440f-9d2f-ca0c7ce35581"
      },
      "outputs": [
        {
          "output_type": "error",
          "ename": "TypeError",
          "evalue": "ignored",
          "traceback": [
            "\u001b[0;31m---------------------------------------------------------------------------\u001b[0m",
            "\u001b[0;31mTypeError\u001b[0m                                 Traceback (most recent call last)",
            "\u001b[0;32m<ipython-input-16-3fcaddc17d67>\u001b[0m in \u001b[0;36m<module>\u001b[0;34m()\u001b[0m\n\u001b[0;32m----> 1\u001b[0;31m \u001b[0mprint\u001b[0m\u001b[0;34m(\u001b[0m\u001b[0mcars_list\u001b[0m\u001b[0;34m[\u001b[0m\u001b[0;36m1\u001b[0m\u001b[0;34m,\u001b[0m \u001b[0;36m2\u001b[0m\u001b[0;34m]\u001b[0m\u001b[0;34m)\u001b[0m\u001b[0;34m\u001b[0m\u001b[0;34m\u001b[0m\u001b[0m\n\u001b[0m",
            "\u001b[0;31mTypeError\u001b[0m: list indices must be integers or slices, not tuple"
          ]
        }
      ],
      "source": [
        "print(cars_list[1, 2])"
      ]
    },
    {
      "cell_type": "code",
      "execution_count": 17,
      "metadata": {
        "colab": {
          "base_uri": "https://localhost:8080/"
        },
        "id": "v4HYVrn347qg",
        "outputId": "74e7764a-a604-47ba-cb44-ecea06deae32"
      },
      "outputs": [
        {
          "output_type": "execute_result",
          "data": {
            "text/plain": [
              "['Toyota Camry', 'Honda Accord', 'Honda Civic', 'Toyota Corolla']"
            ]
          },
          "metadata": {},
          "execution_count": 17
        }
      ],
      "source": [
        "cars_list"
      ]
    },
    {
      "cell_type": "code",
      "execution_count": 18,
      "metadata": {
        "colab": {
          "base_uri": "https://localhost:8080/"
        },
        "id": "D6QfUTt947qh",
        "outputId": "1f34f7f5-2bcf-49d0-e4de-7c374062d754"
      },
      "outputs": [
        {
          "output_type": "stream",
          "name": "stdout",
          "text": [
            "Toyota Corolla\n"
          ]
        }
      ],
      "source": [
        "print(cars_list[-1])"
      ]
    },
    {
      "cell_type": "code",
      "execution_count": 19,
      "metadata": {
        "colab": {
          "base_uri": "https://localhost:8080/"
        },
        "id": "yOkBoGEJ47qi",
        "outputId": "428273c7-b912-4845-9526-eab1c3ef6e9a"
      },
      "outputs": [
        {
          "output_type": "stream",
          "name": "stdout",
          "text": [
            "Honda Civic\n",
            "Honda Accord\n",
            "Toyota Camry\n"
          ]
        }
      ],
      "source": [
        "print(cars_list[-2])\n",
        "\n",
        "print(cars_list[-3])\n",
        "\n",
        "print(cars_list[-4])"
      ]
    },
    {
      "cell_type": "code",
      "execution_count": 20,
      "metadata": {
        "colab": {
          "base_uri": "https://localhost:8080/",
          "height": 166
        },
        "id": "zE2pM7vp47qj",
        "outputId": "3a0dc269-7cd5-4178-87ee-ade66d749191"
      },
      "outputs": [
        {
          "output_type": "error",
          "ename": "IndexError",
          "evalue": "ignored",
          "traceback": [
            "\u001b[0;31m---------------------------------------------------------------------------\u001b[0m",
            "\u001b[0;31mIndexError\u001b[0m                                Traceback (most recent call last)",
            "\u001b[0;32m<ipython-input-20-6b2a1c423480>\u001b[0m in \u001b[0;36m<module>\u001b[0;34m()\u001b[0m\n\u001b[0;32m----> 1\u001b[0;31m \u001b[0mprint\u001b[0m\u001b[0;34m(\u001b[0m\u001b[0mcars_list\u001b[0m\u001b[0;34m[\u001b[0m\u001b[0;34m-\u001b[0m\u001b[0;36m5\u001b[0m\u001b[0;34m]\u001b[0m\u001b[0;34m)\u001b[0m\u001b[0;34m\u001b[0m\u001b[0;34m\u001b[0m\u001b[0m\n\u001b[0m",
            "\u001b[0;31mIndexError\u001b[0m: list index out of range"
          ]
        }
      ],
      "source": [
        "print(cars_list[-5])"
      ]
    },
    {
      "cell_type": "code",
      "execution_count": 21,
      "metadata": {
        "colab": {
          "base_uri": "https://localhost:8080/",
          "height": 35
        },
        "id": "-tg_YaHO47ql",
        "outputId": "f9ecc453-a820-4295-d5b8-27c7ac486e16"
      },
      "outputs": [
        {
          "output_type": "execute_result",
          "data": {
            "application/vnd.google.colaboratory.intrinsic+json": {
              "type": "string"
            },
            "text/plain": [
              "'Honda Civic'"
            ]
          },
          "metadata": {},
          "execution_count": 21
        }
      ],
      "source": [
        "cars_list[-2]"
      ]
    },
    {
      "cell_type": "code",
      "execution_count": 22,
      "metadata": {
        "colab": {
          "base_uri": "https://localhost:8080/"
        },
        "id": "0DfJCaCo47ql",
        "outputId": "1085c12b-d95a-4f88-e8d1-90c8fa195a6f"
      },
      "outputs": [
        {
          "output_type": "execute_result",
          "data": {
            "text/plain": [
              "4"
            ]
          },
          "metadata": {},
          "execution_count": 22
        }
      ],
      "source": [
        "len(cars_list)"
      ]
    },
    {
      "cell_type": "code",
      "execution_count": 23,
      "metadata": {
        "colab": {
          "base_uri": "https://localhost:8080/"
        },
        "id": "QkVu7R9j47qm",
        "outputId": "d2caae26-ac6c-4732-fbf8-041ec88b4214"
      },
      "outputs": [
        {
          "output_type": "execute_result",
          "data": {
            "text/plain": [
              "['Toyota Camry', 'Honda Accord', 'Honda Civic', 'Toyota Corolla']"
            ]
          },
          "metadata": {},
          "execution_count": 23
        }
      ],
      "source": [
        "cars_list"
      ]
    },
    {
      "cell_type": "code",
      "execution_count": 24,
      "metadata": {
        "colab": {
          "base_uri": "https://localhost:8080/"
        },
        "id": "7INk-WuQ47qm",
        "outputId": "224c4187-bc9a-4858-e1a1-925228578fdf"
      },
      "outputs": [
        {
          "output_type": "stream",
          "name": "stdout",
          "text": [
            "New car at index 3 is:  Nissan Sentra\n"
          ]
        },
        {
          "output_type": "execute_result",
          "data": {
            "text/plain": [
              "['Toyota Camry', 'Honda Accord', 'Honda Civic', 'Nissan Sentra']"
            ]
          },
          "metadata": {},
          "execution_count": 24
        }
      ],
      "source": [
        "cars_list[3] = 'Nissan Sentra'\n",
        "\n",
        "print(\"New car at index 3 is: \", cars_list[3])\n",
        "\n",
        "cars_list"
      ]
    },
    {
      "cell_type": "code",
      "execution_count": 25,
      "metadata": {
        "colab": {
          "base_uri": "https://localhost:8080/"
        },
        "id": "JXrxdhMe47qn",
        "outputId": "c7729fb4-8862-4afe-9aac-22adbe846de5"
      },
      "outputs": [
        {
          "output_type": "execute_result",
          "data": {
            "text/plain": [
              "['Toyota Camry', 'Honda Accord', 'Hyundai Elantra', 'Nissan Sentra']"
            ]
          },
          "metadata": {},
          "execution_count": 25
        }
      ],
      "source": [
        "cars_list[2] = 'Hyundai Elantra'\n",
        "\n",
        "cars_list"
      ]
    },
    {
      "cell_type": "code",
      "execution_count": null,
      "metadata": {
        "id": "nwDAHkxS47qn"
      },
      "outputs": [],
      "source": [
        ""
      ]
    },
    {
      "cell_type": "code",
      "execution_count": null,
      "metadata": {
        "id": "ywGgFTYD47qo"
      },
      "outputs": [],
      "source": [
        ""
      ]
    },
    {
      "cell_type": "code",
      "execution_count": null,
      "metadata": {
        "id": "Z2IItwnA47qo"
      },
      "outputs": [],
      "source": [
        ""
      ]
    },
    {
      "cell_type": "code",
      "execution_count": null,
      "metadata": {
        "id": "B84_FG7n47qo"
      },
      "outputs": [],
      "source": [
        ""
      ]
    },
    {
      "cell_type": "code",
      "execution_count": null,
      "metadata": {
        "id": "_O3DRuWI47qo"
      },
      "outputs": [],
      "source": [
        ""
      ]
    },
    {
      "cell_type": "code",
      "execution_count": null,
      "metadata": {
        "id": "STkX-rnU47qp"
      },
      "outputs": [],
      "source": [
        ""
      ]
    },
    {
      "cell_type": "code",
      "execution_count": null,
      "metadata": {
        "id": "MoG8F2l547qp"
      },
      "outputs": [],
      "source": [
        ""
      ]
    },
    {
      "cell_type": "code",
      "execution_count": 26,
      "metadata": {
        "colab": {
          "base_uri": "https://localhost:8080/"
        },
        "id": "j7h3hYxd47qp",
        "outputId": "bfb52b57-957f-4dc4-f809-0e843ef4d6ab"
      },
      "outputs": [
        {
          "output_type": "execute_result",
          "data": {
            "text/plain": [
              "['Toyota Camry', 'Honda Accord', 'Honda Civic', 'Toyota Corolla']"
            ]
          },
          "metadata": {},
          "execution_count": 26
        }
      ],
      "source": [
        "cars_list = ['Toyota Camry', 'Honda Accord',\n",
        "             'Honda Civic', 'Toyota Corolla']\n",
        "\n",
        "cars_list"
      ]
    },
    {
      "cell_type": "code",
      "execution_count": 27,
      "metadata": {
        "colab": {
          "base_uri": "https://localhost:8080/",
          "height": 201
        },
        "id": "R68IEdlW47qq",
        "outputId": "354d4721-e9b3-43cc-dda5-487e46762120"
      },
      "outputs": [
        {
          "output_type": "error",
          "ename": "IndexError",
          "evalue": "ignored",
          "traceback": [
            "\u001b[0;31m---------------------------------------------------------------------------\u001b[0m",
            "\u001b[0;31mIndexError\u001b[0m                                Traceback (most recent call last)",
            "\u001b[0;32m<ipython-input-27-57a351ab2750>\u001b[0m in \u001b[0;36m<module>\u001b[0;34m()\u001b[0m\n\u001b[0;32m----> 1\u001b[0;31m \u001b[0mcars_list\u001b[0m\u001b[0;34m[\u001b[0m\u001b[0;36m4\u001b[0m\u001b[0;34m]\u001b[0m \u001b[0;34m=\u001b[0m \u001b[0;34m'Hyundai Elantra'\u001b[0m\u001b[0;34m\u001b[0m\u001b[0;34m\u001b[0m\u001b[0m\n\u001b[0m\u001b[1;32m      2\u001b[0m \u001b[0;34m\u001b[0m\u001b[0m\n\u001b[1;32m      3\u001b[0m \u001b[0mcars_list\u001b[0m\u001b[0;34m\u001b[0m\u001b[0;34m\u001b[0m\u001b[0m\n",
            "\u001b[0;31mIndexError\u001b[0m: list assignment index out of range"
          ]
        }
      ],
      "source": [
        "cars_list[4] = 'Hyundai Elantra'\n",
        "\n",
        "cars_list"
      ]
    },
    {
      "cell_type": "code",
      "execution_count": 28,
      "metadata": {
        "colab": {
          "base_uri": "https://localhost:8080/"
        },
        "id": "GrsBNm_E47qq",
        "outputId": "baebdd1f-966f-4f92-ab84-dc05038f511e"
      },
      "outputs": [
        {
          "output_type": "execute_result",
          "data": {
            "text/plain": [
              "['Toyota Camry',\n",
              " 'Honda Accord',\n",
              " 'Honda Civic',\n",
              " 'Toyota Corolla',\n",
              " 'Hyundai Elantra']"
            ]
          },
          "metadata": {},
          "execution_count": 28
        }
      ],
      "source": [
        "cars_list.append('Hyundai Elantra')\n",
        "\n",
        "cars_list"
      ]
    },
    {
      "cell_type": "code",
      "execution_count": 29,
      "metadata": {
        "colab": {
          "base_uri": "https://localhost:8080/",
          "height": 201
        },
        "id": "V3hgD2Zh47qq",
        "outputId": "cee390d7-7871-40ae-ee0d-3c44ead07ff3"
      },
      "outputs": [
        {
          "output_type": "error",
          "ename": "TypeError",
          "evalue": "ignored",
          "traceback": [
            "\u001b[0;31m---------------------------------------------------------------------------\u001b[0m",
            "\u001b[0;31mTypeError\u001b[0m                                 Traceback (most recent call last)",
            "\u001b[0;32m<ipython-input-29-69d061c925b1>\u001b[0m in \u001b[0;36m<module>\u001b[0;34m()\u001b[0m\n\u001b[0;32m----> 1\u001b[0;31m \u001b[0mcars_list\u001b[0m\u001b[0;34m.\u001b[0m\u001b[0mappend\u001b[0m\u001b[0;34m(\u001b[0m\u001b[0;34m'Nissan Sentra'\u001b[0m\u001b[0;34m,\u001b[0m\u001b[0;34m'Ford Fusion'\u001b[0m\u001b[0;34m)\u001b[0m\u001b[0;34m\u001b[0m\u001b[0;34m\u001b[0m\u001b[0m\n\u001b[0m\u001b[1;32m      2\u001b[0m \u001b[0;34m\u001b[0m\u001b[0m\n\u001b[1;32m      3\u001b[0m \u001b[0mcars_list\u001b[0m\u001b[0;34m\u001b[0m\u001b[0;34m\u001b[0m\u001b[0m\n",
            "\u001b[0;31mTypeError\u001b[0m: append() takes exactly one argument (2 given)"
          ]
        }
      ],
      "source": [
        "cars_list.append('Nissan Sentra','Ford Fusion')\n",
        "\n",
        "cars_list"
      ]
    },
    {
      "cell_type": "code",
      "execution_count": 30,
      "metadata": {
        "colab": {
          "base_uri": "https://localhost:8080/"
        },
        "id": "kWu7guWx47qr",
        "outputId": "463c8f2c-245d-4656-b7c1-1ef32d0cadb1"
      },
      "outputs": [
        {
          "output_type": "execute_result",
          "data": {
            "text/plain": [
              "5"
            ]
          },
          "metadata": {},
          "execution_count": 30
        }
      ],
      "source": [
        "len(cars_list)"
      ]
    },
    {
      "cell_type": "code",
      "execution_count": null,
      "metadata": {
        "id": "ectW118o47qr",
        "outputId": "d7727085-cd47-4a39-e060-3c80e5dfe369"
      },
      "outputs": [
        {
          "data": {
            "text/plain": [
              "['Toyota Camry',\n",
              " 'Honda Accord',\n",
              " 'Honda Civic',\n",
              " 'Toyota Corolla',\n",
              " 'Hyundai Elantra',\n",
              " 'Nissan Sentra']"
            ]
          },
          "execution_count": 6,
          "metadata": {},
          "output_type": "execute_result"
        }
      ],
      "source": [
        "cars_list.insert(6, 'Nissan Sentra')\n",
        "\n",
        "cars_list"
      ]
    },
    {
      "cell_type": "code",
      "execution_count": 31,
      "metadata": {
        "colab": {
          "base_uri": "https://localhost:8080/"
        },
        "id": "Q1TbwzJG47qs",
        "outputId": "2d57fd18-2f4c-46ee-9d94-aa0f9a21ad80"
      },
      "outputs": [
        {
          "output_type": "execute_result",
          "data": {
            "text/plain": [
              "5"
            ]
          },
          "metadata": {},
          "execution_count": 31
        }
      ],
      "source": [
        "len(cars_list)"
      ]
    },
    {
      "cell_type": "code",
      "execution_count": null,
      "metadata": {
        "id": "BblrpJGZ47qs",
        "outputId": "7e1d693c-1c30-4381-89f0-0e1d491f816f"
      },
      "outputs": [
        {
          "data": {
            "text/plain": [
              "['Toyota Camry',\n",
              " 'Honda Accord',\n",
              " 'Honda Civic',\n",
              " 'Toyota Corolla',\n",
              " 'Hyundai Elantra',\n",
              " 'Nissan Altima',\n",
              " 'Nissan Sentra']"
            ]
          },
          "execution_count": 8,
          "metadata": {},
          "output_type": "execute_result"
        }
      ],
      "source": [
        "cars_list.insert(5, 'Nissan Altima')\n",
        "\n",
        "cars_list"
      ]
    },
    {
      "cell_type": "code",
      "execution_count": 32,
      "metadata": {
        "colab": {
          "base_uri": "https://localhost:8080/"
        },
        "id": "h2LX7xG347qs",
        "outputId": "09a87902-74dc-47af-9fb3-ebe0c0a331b4"
      },
      "outputs": [
        {
          "output_type": "execute_result",
          "data": {
            "text/plain": [
              "['Toyota Camry',\n",
              " 'Honda Accord',\n",
              " 'Honda Civic',\n",
              " 'Toyota Corolla',\n",
              " 'Hyundai Elantra',\n",
              " 'Kia Optima',\n",
              " 'Kia Soul']"
            ]
          },
          "metadata": {},
          "execution_count": 32
        }
      ],
      "source": [
        "cars_list.extend(['Kia Optima', 'Kia Soul'])\n",
        "\n",
        "cars_list"
      ]
    },
    {
      "cell_type": "code",
      "execution_count": 33,
      "metadata": {
        "colab": {
          "base_uri": "https://localhost:8080/"
        },
        "id": "Afbi4K4t47qt",
        "outputId": "f0aa8986-50c4-4e02-cfc2-fcf0fc989ab8"
      },
      "outputs": [
        {
          "output_type": "execute_result",
          "data": {
            "text/plain": [
              "['Hennessey Venom GT', 'Bugatti Veyron', 'Koenigsegg Agera R']"
            ]
          },
          "metadata": {},
          "execution_count": 33
        }
      ],
      "source": [
        "cars_list2 = ['Hennessey Venom GT', 'Bugatti Veyron', 'Koenigsegg Agera R']\n",
        "\n",
        "cars_list2"
      ]
    },
    {
      "cell_type": "code",
      "execution_count": 34,
      "metadata": {
        "colab": {
          "base_uri": "https://localhost:8080/"
        },
        "id": "jy2K5GTp47qt",
        "outputId": "ee72200f-5753-4fa1-ca42-449319c98eff"
      },
      "outputs": [
        {
          "output_type": "execute_result",
          "data": {
            "text/plain": [
              "['Toyota Camry',\n",
              " 'Honda Accord',\n",
              " 'Honda Civic',\n",
              " 'Toyota Corolla',\n",
              " 'Hyundai Elantra',\n",
              " 'Kia Optima',\n",
              " 'Kia Soul',\n",
              " 'Hennessey Venom GT',\n",
              " 'Bugatti Veyron',\n",
              " 'Koenigsegg Agera R']"
            ]
          },
          "metadata": {},
          "execution_count": 34
        }
      ],
      "source": [
        "complete_cars_list = cars_list + cars_list2\n",
        "\n",
        "complete_cars_list"
      ]
    },
    {
      "cell_type": "code",
      "execution_count": 35,
      "metadata": {
        "colab": {
          "base_uri": "https://localhost:8080/"
        },
        "id": "ZL9U7lYO47qu",
        "outputId": "b8f4d51c-693c-40fd-b1c4-f31535a03e8f"
      },
      "outputs": [
        {
          "output_type": "execute_result",
          "data": {
            "text/plain": [
              "['Toyota Camry',\n",
              " 'Honda Accord',\n",
              " 'Honda Civic',\n",
              " 'Toyota Corolla',\n",
              " 'Hyundai Elantra',\n",
              " 'Kia Optima',\n",
              " 'Kia Soul']"
            ]
          },
          "metadata": {},
          "execution_count": 35
        }
      ],
      "source": [
        "cars_list"
      ]
    },
    {
      "cell_type": "code",
      "execution_count": 36,
      "metadata": {
        "colab": {
          "base_uri": "https://localhost:8080/"
        },
        "id": "qOui94QE47qu",
        "outputId": "e8c43c96-c628-4de1-feb6-ea3a15d31231"
      },
      "outputs": [
        {
          "output_type": "execute_result",
          "data": {
            "text/plain": [
              "2"
            ]
          },
          "metadata": {},
          "execution_count": 36
        }
      ],
      "source": [
        "complete_cars_list.index('Honda Civic')"
      ]
    },
    {
      "cell_type": "code",
      "execution_count": 37,
      "metadata": {
        "colab": {
          "base_uri": "https://localhost:8080/",
          "height": 166
        },
        "id": "53UvuWtR47qu",
        "outputId": "6d5d6b92-4d14-484d-a039-a01d396b6c87"
      },
      "outputs": [
        {
          "output_type": "error",
          "ename": "ValueError",
          "evalue": "ignored",
          "traceback": [
            "\u001b[0;31m---------------------------------------------------------------------------\u001b[0m",
            "\u001b[0;31mValueError\u001b[0m                                Traceback (most recent call last)",
            "\u001b[0;32m<ipython-input-37-d2b633d5b12b>\u001b[0m in \u001b[0;36m<module>\u001b[0;34m()\u001b[0m\n\u001b[0;32m----> 1\u001b[0;31m \u001b[0mcomplete_cars_list\u001b[0m\u001b[0;34m.\u001b[0m\u001b[0mindex\u001b[0m\u001b[0;34m(\u001b[0m\u001b[0;34m'honda Civic'\u001b[0m\u001b[0;34m)\u001b[0m\u001b[0;34m\u001b[0m\u001b[0;34m\u001b[0m\u001b[0m\n\u001b[0m",
            "\u001b[0;31mValueError\u001b[0m: 'honda Civic' is not in list"
          ]
        }
      ],
      "source": [
        "complete_cars_list.index('honda Civic')"
      ]
    },
    {
      "cell_type": "code",
      "execution_count": 38,
      "metadata": {
        "colab": {
          "base_uri": "https://localhost:8080/"
        },
        "id": "wLJz9nAN47qv",
        "outputId": "1944e9ee-72c3-4fea-9f61-64ba8c43d25a"
      },
      "outputs": [
        {
          "output_type": "execute_result",
          "data": {
            "text/plain": [
              "4"
            ]
          },
          "metadata": {},
          "execution_count": 38
        }
      ],
      "source": [
        "complete_cars_list.index('Hyundai Elantra')"
      ]
    },
    {
      "cell_type": "code",
      "execution_count": 39,
      "metadata": {
        "colab": {
          "base_uri": "https://localhost:8080/"
        },
        "id": "J6cdmV0v47qv",
        "outputId": "3c6cb1da-429e-4488-c3f2-24efac9e07b4"
      },
      "outputs": [
        {
          "output_type": "execute_result",
          "data": {
            "text/plain": [
              "['Toyota Camry',\n",
              " 'Honda Accord',\n",
              " 'Honda Civic',\n",
              " 'Toyota Corolla',\n",
              " 'Kia Optima',\n",
              " 'Kia Soul',\n",
              " 'Hennessey Venom GT',\n",
              " 'Bugatti Veyron',\n",
              " 'Koenigsegg Agera R']"
            ]
          },
          "metadata": {},
          "execution_count": 39
        }
      ],
      "source": [
        "complete_cars_list.remove('Hyundai Elantra')\n",
        "\n",
        "complete_cars_list"
      ]
    },
    {
      "cell_type": "code",
      "execution_count": 40,
      "metadata": {
        "colab": {
          "base_uri": "https://localhost:8080/",
          "height": 166
        },
        "id": "BD6bhd-w47qv",
        "outputId": "b6da50ff-4ff8-4572-89c3-da14728cf390"
      },
      "outputs": [
        {
          "output_type": "error",
          "ename": "ValueError",
          "evalue": "ignored",
          "traceback": [
            "\u001b[0;31m---------------------------------------------------------------------------\u001b[0m",
            "\u001b[0;31mValueError\u001b[0m                                Traceback (most recent call last)",
            "\u001b[0;32m<ipython-input-40-6fdc31c2bb40>\u001b[0m in \u001b[0;36m<module>\u001b[0;34m()\u001b[0m\n\u001b[0;32m----> 1\u001b[0;31m \u001b[0mcomplete_cars_list\u001b[0m\u001b[0;34m.\u001b[0m\u001b[0mindex\u001b[0m\u001b[0;34m(\u001b[0m\u001b[0;34m'Hyundai Elantra'\u001b[0m\u001b[0;34m)\u001b[0m\u001b[0;34m\u001b[0m\u001b[0;34m\u001b[0m\u001b[0m\n\u001b[0m",
            "\u001b[0;31mValueError\u001b[0m: 'Hyundai Elantra' is not in list"
          ]
        }
      ],
      "source": [
        "complete_cars_list.index('Hyundai Elantra')"
      ]
    },
    {
      "cell_type": "code",
      "execution_count": 41,
      "metadata": {
        "colab": {
          "base_uri": "https://localhost:8080/"
        },
        "id": "KHGgqne947qw",
        "outputId": "6e14a427-d21e-40e9-c342-d2c88925bd69"
      },
      "outputs": [
        {
          "output_type": "execute_result",
          "data": {
            "text/plain": [
              "['Toyota Camry',\n",
              " 'Honda Accord',\n",
              " 'Honda Civic',\n",
              " 'Toyota Corolla',\n",
              " 'Kia Optima',\n",
              " 'Kia Soul',\n",
              " 'Hennessey Venom GT',\n",
              " 'Bugatti Veyron',\n",
              " 'Koenigsegg Agera R',\n",
              " 'Chevrolet Cruze',\n",
              " 'Chevrolet Malibu']"
            ]
          },
          "metadata": {},
          "execution_count": 41
        }
      ],
      "source": [
        "complete_cars_list += ['Chevrolet Cruze', 'Chevrolet Malibu']\n",
        "\n",
        "complete_cars_list"
      ]
    },
    {
      "cell_type": "code",
      "execution_count": 42,
      "metadata": {
        "colab": {
          "base_uri": "https://localhost:8080/"
        },
        "id": "5r4bgZv447qw",
        "outputId": "74e60c11-bdd1-4704-84bd-0544001b1edc"
      },
      "outputs": [
        {
          "output_type": "execute_result",
          "data": {
            "text/plain": [
              "['Bugatti Veyron',\n",
              " 'Chevrolet Cruze',\n",
              " 'Chevrolet Malibu',\n",
              " 'Hennessey Venom GT',\n",
              " 'Honda Accord',\n",
              " 'Honda Civic',\n",
              " 'Kia Optima',\n",
              " 'Kia Soul',\n",
              " 'Koenigsegg Agera R',\n",
              " 'Toyota Camry',\n",
              " 'Toyota Corolla']"
            ]
          },
          "metadata": {},
          "execution_count": 42
        }
      ],
      "source": [
        "complete_cars_list.sort()\n",
        "\n",
        "complete_cars_list"
      ]
    },
    {
      "cell_type": "code",
      "source": [
        "complete_cars_list"
      ],
      "metadata": {
        "colab": {
          "base_uri": "https://localhost:8080/"
        },
        "id": "6A3kRxJdM3J9",
        "outputId": "a03b5800-864f-410d-a2f0-7090fc7dc18f"
      },
      "execution_count": 44,
      "outputs": [
        {
          "output_type": "execute_result",
          "data": {
            "text/plain": [
              "['Toyota Corolla',\n",
              " 'Toyota Camry',\n",
              " 'Koenigsegg Agera R',\n",
              " 'Kia Soul',\n",
              " 'Kia Optima',\n",
              " 'Honda Civic',\n",
              " 'Honda Accord',\n",
              " 'Hennessey Venom GT',\n",
              " 'Chevrolet Malibu',\n",
              " 'Chevrolet Cruze',\n",
              " 'Bugatti Veyron']"
            ]
          },
          "metadata": {},
          "execution_count": 44
        }
      ]
    },
    {
      "cell_type": "code",
      "execution_count": 43,
      "metadata": {
        "colab": {
          "base_uri": "https://localhost:8080/"
        },
        "id": "bYIwHh6A47qw",
        "outputId": "299a5470-7c8d-4ecc-9763-f630c46ab6b5"
      },
      "outputs": [
        {
          "output_type": "execute_result",
          "data": {
            "text/plain": [
              "['Toyota Corolla',\n",
              " 'Toyota Camry',\n",
              " 'Koenigsegg Agera R',\n",
              " 'Kia Soul',\n",
              " 'Kia Optima',\n",
              " 'Honda Civic',\n",
              " 'Honda Accord',\n",
              " 'Hennessey Venom GT',\n",
              " 'Chevrolet Malibu',\n",
              " 'Chevrolet Cruze',\n",
              " 'Bugatti Veyron']"
            ]
          },
          "metadata": {},
          "execution_count": 43
        }
      ],
      "source": [
        "complete_cars_list.reverse()\n",
        "\n",
        "complete_cars_list"
      ]
    },
    {
      "cell_type": "code",
      "source": [
        "complete_cars_list"
      ],
      "metadata": {
        "colab": {
          "base_uri": "https://localhost:8080/"
        },
        "id": "xBXtj-jeMvIp",
        "outputId": "4fa3ac5b-eec4-433e-f53c-b776909296f3"
      },
      "execution_count": 45,
      "outputs": [
        {
          "output_type": "execute_result",
          "data": {
            "text/plain": [
              "['Toyota Corolla',\n",
              " 'Toyota Camry',\n",
              " 'Koenigsegg Agera R',\n",
              " 'Kia Soul',\n",
              " 'Kia Optima',\n",
              " 'Honda Civic',\n",
              " 'Honda Accord',\n",
              " 'Hennessey Venom GT',\n",
              " 'Chevrolet Malibu',\n",
              " 'Chevrolet Cruze',\n",
              " 'Bugatti Veyron']"
            ]
          },
          "metadata": {},
          "execution_count": 45
        }
      ]
    },
    {
      "cell_type": "code",
      "execution_count": 47,
      "metadata": {
        "colab": {
          "base_uri": "https://localhost:8080/"
        },
        "id": "p0ls94Rl47qx",
        "outputId": "41154488-57e2-467b-d657-7cdc23ab31b1"
      },
      "outputs": [
        {
          "output_type": "execute_result",
          "data": {
            "text/plain": [
              "['Toyota Corolla',\n",
              " 'Toyota Camry',\n",
              " 'Koenigsegg Agera R',\n",
              " 'Kia Soul',\n",
              " 'Kia Optima',\n",
              " 'Honda Civic',\n",
              " 'Honda Accord',\n",
              " 'Hennessey Venom GT',\n",
              " 'Chevrolet Malibu']"
            ]
          },
          "metadata": {},
          "execution_count": 47
        }
      ],
      "source": [
        "complete_cars_list.pop()\n",
        "\n",
        "complete_cars_list"
      ]
    },
    {
      "cell_type": "code",
      "execution_count": 46,
      "metadata": {
        "colab": {
          "base_uri": "https://localhost:8080/"
        },
        "id": "u7Rnibgs47qx",
        "outputId": "083c35fe-7c06-48a0-8d0f-988eae9c2e53"
      },
      "outputs": [
        {
          "output_type": "execute_result",
          "data": {
            "text/plain": [
              "['Toyota Corolla',\n",
              " 'Toyota Camry',\n",
              " 'Koenigsegg Agera R',\n",
              " 'Kia Soul',\n",
              " 'Kia Optima',\n",
              " 'Honda Civic',\n",
              " 'Honda Accord',\n",
              " 'Hennessey Venom GT',\n",
              " 'Chevrolet Malibu',\n",
              " 'Chevrolet Cruze']"
            ]
          },
          "metadata": {},
          "execution_count": 46
        }
      ],
      "source": [
        "complete_cars_list.pop()\n",
        "\n",
        "complete_cars_list"
      ]
    },
    {
      "cell_type": "code",
      "execution_count": 48,
      "metadata": {
        "colab": {
          "base_uri": "https://localhost:8080/"
        },
        "id": "hr3smxqX47qy",
        "outputId": "33b6cbef-58ec-4568-e1ce-0381342aea6e"
      },
      "outputs": [
        {
          "output_type": "execute_result",
          "data": {
            "text/plain": [
              "['Toyota Corolla',\n",
              " 'Toyota Camry',\n",
              " 'Koenigsegg Agera R',\n",
              " 'Kia Soul',\n",
              " 'Kia Optima',\n",
              " 'Honda Civic',\n",
              " 'Honda Accord',\n",
              " 'Hennessey Venom GT',\n",
              " 'Chevrolet Malibu',\n",
              " 'Nissan Altima']"
            ]
          },
          "metadata": {},
          "execution_count": 48
        }
      ],
      "source": [
        "complete_cars_list.append('Nissan Altima')\n",
        "\n",
        "complete_cars_list"
      ]
    },
    {
      "cell_type": "code",
      "execution_count": 49,
      "metadata": {
        "colab": {
          "base_uri": "https://localhost:8080/"
        },
        "id": "quWNS6rq47qy",
        "outputId": "9928ebf1-7d4d-4de2-ec73-ecb003535610"
      },
      "outputs": [
        {
          "output_type": "execute_result",
          "data": {
            "text/plain": [
              "0"
            ]
          },
          "metadata": {},
          "execution_count": 49
        }
      ],
      "source": [
        "complete_cars_list.count('honda Civic')"
      ]
    },
    {
      "cell_type": "code",
      "execution_count": 50,
      "metadata": {
        "colab": {
          "base_uri": "https://localhost:8080/"
        },
        "id": "GF6E8jW347qy",
        "outputId": "4a3e062b-1583-42f1-f2af-df481c2e6a64"
      },
      "outputs": [
        {
          "output_type": "execute_result",
          "data": {
            "text/plain": [
              "1"
            ]
          },
          "metadata": {},
          "execution_count": 50
        }
      ],
      "source": [
        "complete_cars_list.count('Honda Civic')"
      ]
    },
    {
      "cell_type": "code",
      "execution_count": 51,
      "metadata": {
        "colab": {
          "base_uri": "https://localhost:8080/"
        },
        "id": "hBGkbR2P47qz",
        "outputId": "daa1b142-38c8-4fe3-e847-39205f288b11"
      },
      "outputs": [
        {
          "output_type": "execute_result",
          "data": {
            "text/plain": [
              "1"
            ]
          },
          "metadata": {},
          "execution_count": 51
        }
      ],
      "source": [
        "complete_cars_list.count('Nissan Altima')"
      ]
    },
    {
      "cell_type": "code",
      "execution_count": 52,
      "metadata": {
        "colab": {
          "base_uri": "https://localhost:8080/"
        },
        "id": "_U5NVbxc47qz",
        "outputId": "5f5aaeef-66ba-45d0-db0e-255d15ad0e36"
      },
      "outputs": [
        {
          "output_type": "execute_result",
          "data": {
            "text/plain": [
              "{'Chevrolet Malibu',\n",
              " 'Hennessey Venom GT',\n",
              " 'Honda Accord',\n",
              " 'Honda Civic',\n",
              " 'Kia Optima',\n",
              " 'Kia Soul',\n",
              " 'Koenigsegg Agera R',\n",
              " 'Nissan Altima',\n",
              " 'Toyota Camry',\n",
              " 'Toyota Corolla'}"
            ]
          },
          "metadata": {},
          "execution_count": 52
        }
      ],
      "source": [
        "set(complete_cars_list)"
      ]
    },
    {
      "cell_type": "code",
      "execution_count": 53,
      "metadata": {
        "colab": {
          "base_uri": "https://localhost:8080/"
        },
        "id": "Euuf3wDu47qz",
        "outputId": "395abb30-e936-4b76-96f8-e2ea63a01380"
      },
      "outputs": [
        {
          "output_type": "stream",
          "name": "stdout",
          "text": [
            "['Toyota Camry', 'Honda Accord', 'Honda Civic', 'Toyota Corolla', 'Hyundai Elantra', 'Kia Optima', 'Kia Soul']\n"
          ]
        }
      ],
      "source": [
        "print(cars_list)"
      ]
    },
    {
      "cell_type": "code",
      "execution_count": 54,
      "metadata": {
        "id": "I-LEndXs47q0"
      },
      "outputs": [],
      "source": [
        "cars_list.clear()"
      ]
    },
    {
      "cell_type": "code",
      "execution_count": 55,
      "metadata": {
        "colab": {
          "base_uri": "https://localhost:8080/"
        },
        "id": "XaTc8wEg47q0",
        "outputId": "629985fa-8cd9-482e-d991-653e85c86621"
      },
      "outputs": [
        {
          "output_type": "execute_result",
          "data": {
            "text/plain": [
              "[]"
            ]
          },
          "metadata": {},
          "execution_count": 55
        }
      ],
      "source": [
        "cars_list"
      ]
    },
    {
      "cell_type": "code",
      "execution_count": 56,
      "metadata": {
        "colab": {
          "base_uri": "https://localhost:8080/"
        },
        "id": "pOskr3st47q0",
        "outputId": "3b86de20-76b6-4906-e7f9-33cb1ed88027"
      },
      "outputs": [
        {
          "output_type": "execute_result",
          "data": {
            "text/plain": [
              "['Toyota Corolla',\n",
              " 'Toyota Camry',\n",
              " 'Koenigsegg Agera R',\n",
              " 'Kia Soul',\n",
              " 'Kia Optima',\n",
              " 'Honda Civic',\n",
              " 'Honda Accord',\n",
              " 'Hennessey Venom GT',\n",
              " 'Chevrolet Malibu',\n",
              " 'Nissan Altima']"
            ]
          },
          "metadata": {},
          "execution_count": 56
        }
      ],
      "source": [
        "complete_cars_list"
      ]
    },
    {
      "cell_type": "code",
      "execution_count": 57,
      "metadata": {
        "id": "VVoUEiBu47q1"
      },
      "outputs": [],
      "source": [
        "new_cars_list = complete_cars_list.copy()"
      ]
    },
    {
      "cell_type": "code",
      "source": [
        "complete_cars_list"
      ],
      "metadata": {
        "colab": {
          "base_uri": "https://localhost:8080/"
        },
        "id": "3RcC5gBgOf4u",
        "outputId": "8e7fb21c-166f-4bbf-ec6f-edccc698166f"
      },
      "execution_count": 58,
      "outputs": [
        {
          "output_type": "execute_result",
          "data": {
            "text/plain": [
              "['Toyota Corolla',\n",
              " 'Toyota Camry',\n",
              " 'Koenigsegg Agera R',\n",
              " 'Kia Soul',\n",
              " 'Kia Optima',\n",
              " 'Honda Civic',\n",
              " 'Honda Accord',\n",
              " 'Hennessey Venom GT',\n",
              " 'Chevrolet Malibu',\n",
              " 'Nissan Altima']"
            ]
          },
          "metadata": {},
          "execution_count": 58
        }
      ]
    },
    {
      "cell_type": "code",
      "source": [
        "new_cars_list"
      ],
      "metadata": {
        "colab": {
          "base_uri": "https://localhost:8080/"
        },
        "id": "9NlY5kZJOi7P",
        "outputId": "e9b86d95-0078-4d8b-fcc0-b86b5d3edb21"
      },
      "execution_count": 59,
      "outputs": [
        {
          "output_type": "execute_result",
          "data": {
            "text/plain": [
              "['Toyota Corolla',\n",
              " 'Toyota Camry',\n",
              " 'Koenigsegg Agera R',\n",
              " 'Kia Soul',\n",
              " 'Kia Optima',\n",
              " 'Honda Civic',\n",
              " 'Honda Accord',\n",
              " 'Hennessey Venom GT',\n",
              " 'Chevrolet Malibu',\n",
              " 'Nissan Altima']"
            ]
          },
          "metadata": {},
          "execution_count": 59
        }
      ]
    },
    {
      "cell_type": "code",
      "execution_count": 60,
      "metadata": {
        "id": "Yfztk12Q47q1"
      },
      "outputs": [],
      "source": [
        "del complete_cars_list"
      ]
    },
    {
      "cell_type": "code",
      "execution_count": 62,
      "metadata": {
        "colab": {
          "base_uri": "https://localhost:8080/",
          "height": 166
        },
        "id": "Bnjv7sAy47q2",
        "outputId": "d7a61b75-bda5-466f-be61-74a176826f2f"
      },
      "outputs": [
        {
          "output_type": "error",
          "ename": "NameError",
          "evalue": "ignored",
          "traceback": [
            "\u001b[0;31m---------------------------------------------------------------------------\u001b[0m",
            "\u001b[0;31mNameError\u001b[0m                                 Traceback (most recent call last)",
            "\u001b[0;32m<ipython-input-62-686e73c6e8ec>\u001b[0m in \u001b[0;36m<module>\u001b[0;34m()\u001b[0m\n\u001b[0;32m----> 1\u001b[0;31m \u001b[0mcomplete_cars_list\u001b[0m\u001b[0;34m\u001b[0m\u001b[0;34m\u001b[0m\u001b[0m\n\u001b[0m",
            "\u001b[0;31mNameError\u001b[0m: name 'complete_cars_list' is not defined"
          ]
        }
      ],
      "source": [
        "complete_cars_list"
      ]
    },
    {
      "cell_type": "code",
      "execution_count": 63,
      "metadata": {
        "colab": {
          "base_uri": "https://localhost:8080/"
        },
        "id": "6foui5jL47q2",
        "outputId": "fcd53d6d-0ce7-4d2b-d04b-4a066fbd7858"
      },
      "outputs": [
        {
          "output_type": "execute_result",
          "data": {
            "text/plain": [
              "['Toyota Corolla',\n",
              " 'Toyota Camry',\n",
              " 'Koenigsegg Agera R',\n",
              " 'Kia Soul',\n",
              " 'Kia Optima',\n",
              " 'Honda Civic',\n",
              " 'Honda Accord',\n",
              " 'Hennessey Venom GT',\n",
              " 'Chevrolet Malibu',\n",
              " 'Nissan Altima']"
            ]
          },
          "metadata": {},
          "execution_count": 63
        }
      ],
      "source": [
        "new_cars_list"
      ]
    },
    {
      "cell_type": "code",
      "execution_count": 64,
      "metadata": {
        "colab": {
          "base_uri": "https://localhost:8080/"
        },
        "id": "zVQoBYtN47q2",
        "outputId": "e70fcc64-eeee-42e4-a0a4-2e75c400d735"
      },
      "outputs": [
        {
          "output_type": "execute_result",
          "data": {
            "text/plain": [
              "['Toyota Corolla',\n",
              " 'Toyota Camry',\n",
              " 'Koenigsegg Agera R',\n",
              " 'Kia Soul',\n",
              " 'Kia Optima',\n",
              " 'Honda Civic',\n",
              " 'Honda Accord',\n",
              " 'Hennessey Venom GT',\n",
              " 'Chevrolet Malibu',\n",
              " 'Nissan Altima']"
            ]
          },
          "metadata": {},
          "execution_count": 64
        }
      ],
      "source": [
        "another_cars_list = new_cars_list\n",
        "\n",
        "another_cars_list"
      ]
    },
    {
      "cell_type": "code",
      "execution_count": 65,
      "metadata": {
        "id": "vH3XA76B47q3"
      },
      "outputs": [],
      "source": [
        "another_cars_list.remove('Hennessey Venom GT')"
      ]
    },
    {
      "cell_type": "code",
      "execution_count": 66,
      "metadata": {
        "colab": {
          "base_uri": "https://localhost:8080/"
        },
        "id": "BKgvb0OD47q3",
        "outputId": "3ae98ef4-87db-4978-9954-c113ce771286"
      },
      "outputs": [
        {
          "output_type": "execute_result",
          "data": {
            "text/plain": [
              "['Toyota Corolla',\n",
              " 'Toyota Camry',\n",
              " 'Koenigsegg Agera R',\n",
              " 'Kia Soul',\n",
              " 'Kia Optima',\n",
              " 'Honda Civic',\n",
              " 'Honda Accord',\n",
              " 'Chevrolet Malibu',\n",
              " 'Nissan Altima']"
            ]
          },
          "metadata": {},
          "execution_count": 66
        }
      ],
      "source": [
        "another_cars_list"
      ]
    },
    {
      "cell_type": "code",
      "execution_count": 67,
      "metadata": {
        "colab": {
          "base_uri": "https://localhost:8080/"
        },
        "id": "BmZbRVnZ47q3",
        "outputId": "866d07a2-7d63-4e2b-a127-d39297739fcc"
      },
      "outputs": [
        {
          "output_type": "execute_result",
          "data": {
            "text/plain": [
              "['Toyota Corolla',\n",
              " 'Toyota Camry',\n",
              " 'Koenigsegg Agera R',\n",
              " 'Kia Soul',\n",
              " 'Kia Optima',\n",
              " 'Honda Civic',\n",
              " 'Honda Accord',\n",
              " 'Chevrolet Malibu',\n",
              " 'Nissan Altima']"
            ]
          },
          "metadata": {},
          "execution_count": 67
        }
      ],
      "source": [
        "new_cars_list"
      ]
    },
    {
      "cell_type": "code",
      "execution_count": 68,
      "metadata": {
        "colab": {
          "base_uri": "https://localhost:8080/",
          "height": 166
        },
        "id": "fKVUbJqS47q4",
        "outputId": "37df9f0a-b3ba-4b0c-f108-c89ed955b1aa"
      },
      "outputs": [
        {
          "output_type": "error",
          "ename": "ValueError",
          "evalue": "ignored",
          "traceback": [
            "\u001b[0;31m---------------------------------------------------------------------------\u001b[0m",
            "\u001b[0;31mValueError\u001b[0m                                Traceback (most recent call last)",
            "\u001b[0;32m<ipython-input-68-6c269cb1c11a>\u001b[0m in \u001b[0;36m<module>\u001b[0;34m()\u001b[0m\n\u001b[0;32m----> 1\u001b[0;31m \u001b[0mnew_cars_list\u001b[0m\u001b[0;34m.\u001b[0m\u001b[0mremove\u001b[0m\u001b[0;34m(\u001b[0m\u001b[0;34m'Hennessey Venom GT'\u001b[0m\u001b[0;34m)\u001b[0m\u001b[0;34m\u001b[0m\u001b[0;34m\u001b[0m\u001b[0m\n\u001b[0m",
            "\u001b[0;31mValueError\u001b[0m: list.remove(x): x not in list"
          ]
        }
      ],
      "source": [
        "new_cars_list.remove('Hennessey Venom GT')"
      ]
    },
    {
      "cell_type": "code",
      "execution_count": 69,
      "metadata": {
        "colab": {
          "base_uri": "https://localhost:8080/",
          "height": 201
        },
        "id": "hZWGDvkn47q4",
        "outputId": "c2d3246e-a870-4502-cf68-ee4fc7ab805d"
      },
      "outputs": [
        {
          "output_type": "error",
          "ename": "ValueError",
          "evalue": "ignored",
          "traceback": [
            "\u001b[0;31m---------------------------------------------------------------------------\u001b[0m",
            "\u001b[0;31mValueError\u001b[0m                                Traceback (most recent call last)",
            "\u001b[0;32m<ipython-input-69-45cbdaa90252>\u001b[0m in \u001b[0;36m<module>\u001b[0;34m()\u001b[0m\n\u001b[0;32m----> 1\u001b[0;31m \u001b[0mnew_cars_list\u001b[0m\u001b[0;34m.\u001b[0m\u001b[0mremove\u001b[0m\u001b[0;34m(\u001b[0m\u001b[0;34m'Nissan Sentra'\u001b[0m\u001b[0;34m)\u001b[0m\u001b[0;34m\u001b[0m\u001b[0;34m\u001b[0m\u001b[0m\n\u001b[0m\u001b[1;32m      2\u001b[0m \u001b[0;34m\u001b[0m\u001b[0m\n\u001b[1;32m      3\u001b[0m \u001b[0mnew_cars_list\u001b[0m\u001b[0;34m\u001b[0m\u001b[0;34m\u001b[0m\u001b[0m\n",
            "\u001b[0;31mValueError\u001b[0m: list.remove(x): x not in list"
          ]
        }
      ],
      "source": [
        "new_cars_list.remove('Nissan Sentra')\n",
        "\n",
        "new_cars_list"
      ]
    },
    {
      "cell_type": "code",
      "execution_count": 70,
      "metadata": {
        "colab": {
          "base_uri": "https://localhost:8080/"
        },
        "id": "aURgYd5l47q4",
        "outputId": "405bdeec-7ffc-4e61-dd19-0ffe5e32f3f1"
      },
      "outputs": [
        {
          "output_type": "execute_result",
          "data": {
            "text/plain": [
              "['Toyota Corolla',\n",
              " 'Toyota Camry',\n",
              " 'Koenigsegg Agera R',\n",
              " 'Kia Soul',\n",
              " 'Kia Optima',\n",
              " 'Honda Civic',\n",
              " 'Honda Accord',\n",
              " 'Chevrolet Malibu',\n",
              " 'Nissan Altima']"
            ]
          },
          "metadata": {},
          "execution_count": 70
        }
      ],
      "source": [
        "another_cars_list"
      ]
    },
    {
      "cell_type": "code",
      "execution_count": null,
      "metadata": {
        "id": "ZC0GmB5h47q5"
      },
      "outputs": [],
      "source": [
        ""
      ]
    },
    {
      "cell_type": "code",
      "execution_count": null,
      "metadata": {
        "id": "Encj9UoE47q5"
      },
      "outputs": [],
      "source": [
        ""
      ]
    },
    {
      "cell_type": "code",
      "execution_count": null,
      "metadata": {
        "id": "nluNuJS947q5"
      },
      "outputs": [],
      "source": [
        ""
      ]
    },
    {
      "cell_type": "code",
      "execution_count": null,
      "metadata": {
        "id": "NfRV8Bmk47q5"
      },
      "outputs": [],
      "source": [
        ""
      ]
    },
    {
      "cell_type": "code",
      "execution_count": null,
      "metadata": {
        "id": "NHfdRs7m47q6"
      },
      "outputs": [],
      "source": [
        ""
      ]
    },
    {
      "cell_type": "code",
      "execution_count": null,
      "metadata": {
        "id": "ggdXFucd47q6"
      },
      "outputs": [],
      "source": [
        ""
      ]
    },
    {
      "cell_type": "code",
      "execution_count": 71,
      "metadata": {
        "id": "nU74gJwp47q7"
      },
      "outputs": [],
      "source": [
        "# START FROM HERE #"
      ]
    },
    {
      "cell_type": "code",
      "execution_count": null,
      "metadata": {
        "id": "W8ieBLUp47rN",
        "outputId": "80837fb3-f03b-49de-f8b9-c0f5fd100ef1"
      },
      "outputs": [
        {
          "data": {
            "text/plain": [
              "[20, 70, 80, 50, 30, 60, 40]"
            ]
          },
          "execution_count": 1,
          "metadata": {},
          "output_type": "execute_result"
        }
      ],
      "source": [
        "list_num = [20, 70, 80, 50, 30, 60, 40]\n",
        "\n",
        "list_num"
      ]
    },
    {
      "cell_type": "code",
      "execution_count": null,
      "metadata": {
        "id": "UltxIp0N47rN",
        "outputId": "a9f4ffb2-9e9d-4934-85c7-8a080b1eba4b"
      },
      "outputs": [
        {
          "data": {
            "text/plain": [
              "80"
            ]
          },
          "execution_count": 2,
          "metadata": {},
          "output_type": "execute_result"
        }
      ],
      "source": [
        "max(list_num)"
      ]
    },
    {
      "cell_type": "code",
      "execution_count": null,
      "metadata": {
        "id": "sFnmqUel47rN",
        "outputId": "6ac465d6-36ba-450a-b35f-8c19f08febf5"
      },
      "outputs": [
        {
          "data": {
            "text/plain": [
              "20"
            ]
          },
          "execution_count": 3,
          "metadata": {},
          "output_type": "execute_result"
        }
      ],
      "source": [
        "min(list_num)"
      ]
    },
    {
      "cell_type": "code",
      "execution_count": null,
      "metadata": {
        "id": "TglacR8j47rO",
        "outputId": "0a6eeb66-3e9f-4821-ca92-b94d51049356"
      },
      "outputs": [
        {
          "data": {
            "text/plain": [
              "7"
            ]
          },
          "execution_count": 4,
          "metadata": {},
          "output_type": "execute_result"
        }
      ],
      "source": [
        "len(list_num)"
      ]
    },
    {
      "cell_type": "code",
      "execution_count": null,
      "metadata": {
        "id": "CQ5y9p3F47rO",
        "outputId": "04db9419-d7f2-4e84-c314-d2cbe538dd89"
      },
      "outputs": [
        {
          "data": {
            "text/plain": [
              "[20, 30, 40, 50, 60, 70, 80]"
            ]
          },
          "execution_count": 5,
          "metadata": {},
          "output_type": "execute_result"
        }
      ],
      "source": [
        "list_num.sort()\n",
        "\n",
        "list_num"
      ]
    },
    {
      "cell_type": "code",
      "execution_count": null,
      "metadata": {
        "id": "aJ9FQ18r47rO",
        "outputId": "a0c39b81-1814-46b8-8b0e-b656f7a54ead"
      },
      "outputs": [
        {
          "data": {
            "text/plain": [
              "[20, 30, 40, 50, 60, 70, 80, 25]"
            ]
          },
          "execution_count": 6,
          "metadata": {},
          "output_type": "execute_result"
        }
      ],
      "source": [
        "list_num.append(25)\n",
        "\n",
        "list_num"
      ]
    },
    {
      "cell_type": "code",
      "execution_count": null,
      "metadata": {
        "id": "7GSPVR2n47rP"
      },
      "outputs": [],
      "source": [
        "sorted_list_num = sorted(list_num)"
      ]
    },
    {
      "cell_type": "code",
      "execution_count": null,
      "metadata": {
        "id": "JbS8vMSR47rP",
        "outputId": "04fad552-c5d4-4cba-e88b-10651881e347"
      },
      "outputs": [
        {
          "data": {
            "text/plain": [
              "[20, 25, 30, 40, 50, 60, 70, 80]"
            ]
          },
          "execution_count": 8,
          "metadata": {},
          "output_type": "execute_result"
        }
      ],
      "source": [
        "sorted_list_num"
      ]
    },
    {
      "cell_type": "code",
      "execution_count": null,
      "metadata": {
        "id": "-izS43_N47rP",
        "outputId": "c289bd30-307b-457f-dfc8-d0d4f5699c91"
      },
      "outputs": [
        {
          "data": {
            "text/plain": [
              "[20, 30, 40, 50, 60, 70, 80, 25]"
            ]
          },
          "execution_count": 9,
          "metadata": {},
          "output_type": "execute_result"
        }
      ],
      "source": [
        "list_num"
      ]
    },
    {
      "cell_type": "code",
      "execution_count": null,
      "metadata": {
        "id": "kpBeD2qI47rQ",
        "outputId": "17abaa8e-5925-4c6a-8332-bb851be65024"
      },
      "outputs": [
        {
          "data": {
            "text/plain": [
              "375"
            ]
          },
          "execution_count": 10,
          "metadata": {},
          "output_type": "execute_result"
        }
      ],
      "source": [
        "sum(list_num)"
      ]
    },
    {
      "cell_type": "code",
      "execution_count": null,
      "metadata": {
        "id": "icZGen9l47rQ"
      },
      "outputs": [],
      "source": [
        "list_num *= 2"
      ]
    },
    {
      "cell_type": "code",
      "execution_count": null,
      "metadata": {
        "id": "ouuGBow347rQ",
        "outputId": "24331173-b049-45d0-b8ea-4b52cccef3b9"
      },
      "outputs": [
        {
          "data": {
            "text/plain": [
              "[20, 30, 40, 50, 60, 70, 80, 25, 20, 30, 40, 50, 60, 70, 80, 25]"
            ]
          },
          "execution_count": 12,
          "metadata": {},
          "output_type": "execute_result"
        }
      ],
      "source": [
        "list_num"
      ]
    },
    {
      "cell_type": "code",
      "execution_count": null,
      "metadata": {
        "id": "k-ypWcT847rQ",
        "outputId": "96691e38-0b02-4c81-b46f-ab23b54df8c2"
      },
      "outputs": [
        {
          "ename": "TypeError",
          "evalue": "can't multiply sequence by non-int of type 'float'",
          "output_type": "error",
          "traceback": [
            "\u001b[0;31m---------------------------------------------------------------------------\u001b[0m",
            "\u001b[0;31mTypeError\u001b[0m                                 Traceback (most recent call last)",
            "\u001b[0;32m<ipython-input-13-31d211296b55>\u001b[0m in \u001b[0;36m<module>\u001b[0;34m()\u001b[0m\n\u001b[0;32m----> 1\u001b[0;31m \u001b[0mlist_num\u001b[0m \u001b[0;34m*=\u001b[0m \u001b[0;36m2.0\u001b[0m\u001b[0;34m\u001b[0m\u001b[0m\n\u001b[0m",
            "\u001b[0;31mTypeError\u001b[0m: can't multiply sequence by non-int of type 'float'"
          ]
        }
      ],
      "source": [
        "list_num *= 2.0"
      ]
    },
    {
      "cell_type": "code",
      "execution_count": null,
      "metadata": {
        "id": "esCPvRDh47rR",
        "outputId": "f19a0891-5673-4436-f338-5c6a2ae32ea6"
      },
      "outputs": [
        {
          "data": {
            "text/plain": [
              "False"
            ]
          },
          "execution_count": 14,
          "metadata": {},
          "output_type": "execute_result"
        }
      ],
      "source": [
        "all([0])"
      ]
    },
    {
      "cell_type": "code",
      "execution_count": null,
      "metadata": {
        "id": "TrNygT0Y47rR",
        "outputId": "ef4ce47b-aa99-4fdd-88ef-57e31fa0418f"
      },
      "outputs": [
        {
          "data": {
            "text/plain": [
              "True"
            ]
          },
          "execution_count": 15,
          "metadata": {},
          "output_type": "execute_result"
        }
      ],
      "source": [
        "all([1])"
      ]
    },
    {
      "cell_type": "code",
      "execution_count": null,
      "metadata": {
        "id": "6UdMo7M_47rR",
        "outputId": "37784715-b07f-4a36-f787-0c954603519f"
      },
      "outputs": [
        {
          "data": {
            "text/plain": [
              "False"
            ]
          },
          "execution_count": 16,
          "metadata": {},
          "output_type": "execute_result"
        }
      ],
      "source": [
        "all([0, 1])"
      ]
    },
    {
      "cell_type": "code",
      "execution_count": null,
      "metadata": {
        "id": "d89_iN4y47rS",
        "outputId": "d51fc6a0-5f3f-4b62-ca4c-cf086a4a4fd9"
      },
      "outputs": [
        {
          "data": {
            "text/plain": [
              "True"
            ]
          },
          "execution_count": 17,
          "metadata": {},
          "output_type": "execute_result"
        }
      ],
      "source": [
        "all(list_num)"
      ]
    },
    {
      "cell_type": "code",
      "execution_count": null,
      "metadata": {
        "id": "suDn9cy047rS",
        "outputId": "dd3d52fd-3099-4824-c245-6e2649d57069"
      },
      "outputs": [
        {
          "data": {
            "text/plain": [
              "True"
            ]
          },
          "execution_count": 18,
          "metadata": {},
          "output_type": "execute_result"
        }
      ],
      "source": [
        "new_num_list = []\n",
        "\n",
        "all(new_num_list)"
      ]
    },
    {
      "cell_type": "code",
      "execution_count": null,
      "metadata": {
        "id": "Inlby6WV47rS",
        "outputId": "d516d4e4-faa3-4356-d78f-af9c2489f16a"
      },
      "outputs": [
        {
          "data": {
            "text/plain": [
              "False"
            ]
          },
          "execution_count": 19,
          "metadata": {},
          "output_type": "execute_result"
        }
      ],
      "source": [
        "any([0])"
      ]
    },
    {
      "cell_type": "code",
      "execution_count": null,
      "metadata": {
        "id": "QEnR7-Wh47rT",
        "outputId": "26584243-fef5-4b4b-afca-a1269ce13ea1"
      },
      "outputs": [
        {
          "data": {
            "text/plain": [
              "True"
            ]
          },
          "execution_count": 20,
          "metadata": {},
          "output_type": "execute_result"
        }
      ],
      "source": [
        "any([1])"
      ]
    },
    {
      "cell_type": "code",
      "execution_count": null,
      "metadata": {
        "id": "77G7mEG947rT",
        "outputId": "f8a04acb-16d3-4bda-b226-534624c88604"
      },
      "outputs": [
        {
          "data": {
            "text/plain": [
              "True"
            ]
          },
          "execution_count": 21,
          "metadata": {},
          "output_type": "execute_result"
        }
      ],
      "source": [
        "any([0,1])"
      ]
    },
    {
      "cell_type": "code",
      "execution_count": null,
      "metadata": {
        "id": "i_1aZWr847rU",
        "outputId": "9d6f825a-ee0c-46e2-efa7-49577c62a52d"
      },
      "outputs": [
        {
          "data": {
            "text/plain": [
              "True"
            ]
          },
          "execution_count": 22,
          "metadata": {},
          "output_type": "execute_result"
        }
      ],
      "source": [
        "any(list_num)"
      ]
    },
    {
      "cell_type": "code",
      "execution_count": null,
      "metadata": {
        "id": "3d9c05Uw47rU",
        "outputId": "9e87803d-108f-4454-8306-6819295a6a9f"
      },
      "outputs": [
        {
          "data": {
            "text/plain": [
              "False"
            ]
          },
          "execution_count": 23,
          "metadata": {},
          "output_type": "execute_result"
        }
      ],
      "source": [
        "any(new_num_list)"
      ]
    },
    {
      "cell_type": "code",
      "execution_count": null,
      "metadata": {
        "id": "EPtfd3Lb47rV"
      },
      "outputs": [],
      "source": [
        ""
      ]
    },
    {
      "cell_type": "code",
      "execution_count": null,
      "metadata": {
        "id": "xSl1Ssff47rV"
      },
      "outputs": [],
      "source": [
        ""
      ]
    },
    {
      "cell_type": "code",
      "execution_count": null,
      "metadata": {
        "id": "nSK4gojh47rV"
      },
      "outputs": [],
      "source": [
        ""
      ]
    },
    {
      "cell_type": "code",
      "execution_count": null,
      "metadata": {
        "id": "7_I02_-R47rV"
      },
      "outputs": [],
      "source": [
        ""
      ]
    },
    {
      "cell_type": "code",
      "execution_count": null,
      "metadata": {
        "id": "YiBHEXuI47rV"
      },
      "outputs": [],
      "source": [
        ""
      ]
    },
    {
      "cell_type": "code",
      "execution_count": null,
      "metadata": {
        "id": "pLdK1sSS47rV"
      },
      "outputs": [],
      "source": [
        ""
      ]
    },
    {
      "cell_type": "code",
      "execution_count": null,
      "metadata": {
        "id": "3BjLEZ3847rW",
        "outputId": "8c4599c8-54ed-4adc-ae6d-ab87b275effd"
      },
      "outputs": [
        {
          "data": {
            "text/plain": [
              "['Toyota Corolla',\n",
              " 'Toyota Camry',\n",
              " 'Nissan Altima',\n",
              " 'Kia Soul',\n",
              " 'Kia Optima',\n",
              " 'Honda Civic']"
            ]
          },
          "execution_count": 1,
          "metadata": {},
          "output_type": "execute_result"
        }
      ],
      "source": [
        "my_car_list = ['Toyota Corolla', 'Toyota Camry',\n",
        "               'Nissan Altima', 'Kia Soul',\n",
        "               'Kia Optima', 'Honda Civic']\n",
        "my_car_list"
      ]
    },
    {
      "cell_type": "code",
      "execution_count": null,
      "metadata": {
        "id": "a2EYBrpH47rW",
        "outputId": "2817b801-d320-40cf-e8ff-cb362d72f380"
      },
      "outputs": [
        {
          "data": {
            "text/plain": [
              "6"
            ]
          },
          "execution_count": 2,
          "metadata": {},
          "output_type": "execute_result"
        }
      ],
      "source": [
        "len(my_car_list)"
      ]
    },
    {
      "cell_type": "code",
      "execution_count": null,
      "metadata": {
        "id": "-XvYn99247rX",
        "outputId": "367c71df-efd8-4ca0-c341-6bfceffc8ec1"
      },
      "outputs": [
        {
          "data": {
            "text/plain": [
              "'Kia Optima'"
            ]
          },
          "execution_count": 3,
          "metadata": {},
          "output_type": "execute_result"
        }
      ],
      "source": [
        "my_car_list[4]"
      ]
    },
    {
      "cell_type": "code",
      "execution_count": null,
      "metadata": {
        "id": "pDEUs7n547rX",
        "outputId": "518b5323-4a0e-4485-f447-87ca22ac7fbc"
      },
      "outputs": [
        {
          "data": {
            "text/plain": [
              "'Honda Civic'"
            ]
          },
          "execution_count": 4,
          "metadata": {},
          "output_type": "execute_result"
        }
      ],
      "source": [
        "my_car_list[5]"
      ]
    },
    {
      "cell_type": "code",
      "execution_count": null,
      "metadata": {
        "id": "uzSHur-X47rY",
        "outputId": "2c6fef0f-95ae-49bc-ae89-2c9bb8b4d5b6"
      },
      "outputs": [
        {
          "data": {
            "text/plain": [
              "'Kia Optima'"
            ]
          },
          "execution_count": 5,
          "metadata": {},
          "output_type": "execute_result"
        }
      ],
      "source": [
        "my_car_list[-2]"
      ]
    },
    {
      "cell_type": "code",
      "execution_count": null,
      "metadata": {
        "id": "VgSha2JR47rY",
        "outputId": "6ae9e19a-8bf0-4c6c-a998-3e9904d356fe"
      },
      "outputs": [
        {
          "data": {
            "text/plain": [
              "'Nissan Altima'"
            ]
          },
          "execution_count": 6,
          "metadata": {},
          "output_type": "execute_result"
        }
      ],
      "source": [
        "my_car_list[-4]"
      ]
    },
    {
      "cell_type": "code",
      "execution_count": null,
      "metadata": {
        "id": "oWv5xfNG47rZ",
        "outputId": "8cd1561b-faa2-4a8a-db77-c772803ce497"
      },
      "outputs": [
        {
          "data": {
            "text/plain": [
              "['Toyota Corolla',\n",
              " 'Toyota Camry',\n",
              " 'Nissan Altima',\n",
              " 'Kia Soul',\n",
              " 'Kia Optima',\n",
              " 'Honda Civic']"
            ]
          },
          "execution_count": 7,
          "metadata": {},
          "output_type": "execute_result"
        }
      ],
      "source": [
        "my_car_list"
      ]
    },
    {
      "cell_type": "code",
      "execution_count": null,
      "metadata": {
        "id": "yGfwZbcW47rZ",
        "outputId": "5a5ec5c4-c063-407c-ec50-62228da67bdb"
      },
      "outputs": [
        {
          "data": {
            "text/plain": [
              "['Toyota Corolla', 'Toyota Camry', 'Nissan Altima', 'Kia Soul']"
            ]
          },
          "execution_count": 8,
          "metadata": {},
          "output_type": "execute_result"
        }
      ],
      "source": [
        "my_car_list[0:4]"
      ]
    },
    {
      "cell_type": "code",
      "execution_count": null,
      "metadata": {
        "id": "0XVgCwYy47ra",
        "outputId": "7847b4cc-9bcf-41fd-edee-650023dd4a26"
      },
      "outputs": [
        {
          "data": {
            "text/plain": [
              "['Toyota Corolla', 'Toyota Camry']"
            ]
          },
          "execution_count": 9,
          "metadata": {},
          "output_type": "execute_result"
        }
      ],
      "source": [
        "my_car_list[0:2]"
      ]
    },
    {
      "cell_type": "code",
      "execution_count": null,
      "metadata": {
        "id": "_aWXsDip47ra",
        "outputId": "a99d4ab2-7f24-4b4a-d7cc-aaf403dada09"
      },
      "outputs": [
        {
          "data": {
            "text/plain": [
              "['Toyota Corolla',\n",
              " 'Toyota Camry',\n",
              " 'Nissan Altima',\n",
              " 'Kia Soul',\n",
              " 'Kia Optima',\n",
              " 'Honda Civic']"
            ]
          },
          "execution_count": 10,
          "metadata": {},
          "output_type": "execute_result"
        }
      ],
      "source": [
        "my_car_list[0:6]"
      ]
    },
    {
      "cell_type": "code",
      "execution_count": null,
      "metadata": {
        "id": "N3emyzyQ47ra",
        "outputId": "7ed0cab5-02bf-4aaf-c76e-2ab22eee319b"
      },
      "outputs": [
        {
          "data": {
            "text/plain": [
              "['Toyota Corolla',\n",
              " 'Toyota Camry',\n",
              " 'Nissan Altima',\n",
              " 'Kia Soul',\n",
              " 'Kia Optima',\n",
              " 'Honda Civic']"
            ]
          },
          "execution_count": 11,
          "metadata": {},
          "output_type": "execute_result"
        }
      ],
      "source": [
        "my_car_list[0:7]"
      ]
    },
    {
      "cell_type": "code",
      "execution_count": null,
      "metadata": {
        "id": "UElLICD-47rb",
        "outputId": "8bd0808f-550d-492a-aa51-c10cdabd808b"
      },
      "outputs": [
        {
          "data": {
            "text/plain": [
              "[]"
            ]
          },
          "execution_count": 12,
          "metadata": {},
          "output_type": "execute_result"
        }
      ],
      "source": [
        "my_car_list[7:]"
      ]
    },
    {
      "cell_type": "code",
      "execution_count": null,
      "metadata": {
        "id": "TK3AdYIh47rb",
        "outputId": "97e695aa-3443-4a2a-ddd4-3c4e88e7105c"
      },
      "outputs": [
        {
          "data": {
            "text/plain": [
              "['Honda Civic']"
            ]
          },
          "execution_count": 13,
          "metadata": {},
          "output_type": "execute_result"
        }
      ],
      "source": [
        "my_car_list[5:6]"
      ]
    },
    {
      "cell_type": "code",
      "execution_count": null,
      "metadata": {
        "id": "Harrfr5q47rb",
        "outputId": "ebc63ee7-b83d-4f8b-ce8d-480b6c194d0e"
      },
      "outputs": [
        {
          "data": {
            "text/plain": [
              "['Kia Soul', 'Kia Optima', 'Honda Civic']"
            ]
          },
          "execution_count": 14,
          "metadata": {},
          "output_type": "execute_result"
        }
      ],
      "source": [
        "my_car_list[3:6]"
      ]
    },
    {
      "cell_type": "code",
      "execution_count": null,
      "metadata": {
        "id": "amvK8ium47rb",
        "outputId": "414d0d60-567b-4e59-e9e2-0b70c5b281a6"
      },
      "outputs": [
        {
          "data": {
            "text/plain": [
              "['Toyota Corolla', 'Toyota Camry', 'Nissan Altima']"
            ]
          },
          "execution_count": 15,
          "metadata": {},
          "output_type": "execute_result"
        }
      ],
      "source": [
        "my_car_list[:3]"
      ]
    },
    {
      "cell_type": "code",
      "execution_count": null,
      "metadata": {
        "id": "_AGAjFaB47rc",
        "outputId": "c7616247-a227-41c5-fcb2-cf86657ed154"
      },
      "outputs": [
        {
          "data": {
            "text/plain": [
              "['Kia Soul', 'Kia Optima', 'Honda Civic']"
            ]
          },
          "execution_count": 16,
          "metadata": {},
          "output_type": "execute_result"
        }
      ],
      "source": [
        "my_car_list[3:]"
      ]
    },
    {
      "cell_type": "code",
      "execution_count": null,
      "metadata": {
        "id": "uG9cK4j-47rc",
        "outputId": "ddcd96b8-c6ca-4d2b-fc56-e31fb5dc3ae0"
      },
      "outputs": [
        {
          "data": {
            "text/plain": [
              "['Toyota Corolla', 'Toyota Camry']"
            ]
          },
          "execution_count": 17,
          "metadata": {},
          "output_type": "execute_result"
        }
      ],
      "source": [
        "my_car_list[0:-4]"
      ]
    },
    {
      "cell_type": "code",
      "execution_count": null,
      "metadata": {
        "id": "MUTXto6-47rc",
        "outputId": "52204ff8-6e51-488a-c712-bfe421dcb833"
      },
      "outputs": [
        {
          "data": {
            "text/plain": [
              "['Nissan Altima', 'Kia Soul', 'Kia Optima']"
            ]
          },
          "execution_count": 18,
          "metadata": {},
          "output_type": "execute_result"
        }
      ],
      "source": [
        "my_car_list[-4:-1]"
      ]
    },
    {
      "cell_type": "code",
      "execution_count": null,
      "metadata": {
        "id": "kSsHbNpQ47rc",
        "outputId": "f2a24515-e856-4b39-c60c-4e0136cc35c9"
      },
      "outputs": [
        {
          "data": {
            "text/plain": [
              "[]"
            ]
          },
          "execution_count": 19,
          "metadata": {},
          "output_type": "execute_result"
        }
      ],
      "source": [
        "my_car_list[-2:-4]"
      ]
    },
    {
      "cell_type": "code",
      "execution_count": null,
      "metadata": {
        "id": "3fsOdhhW47rd",
        "outputId": "50a959fd-075f-41d7-aef6-2bb6a1736516"
      },
      "outputs": [
        {
          "data": {
            "text/plain": [
              "['Toyota Corolla',\n",
              " 'Toyota Camry',\n",
              " 'Nissan Altima',\n",
              " 'Kia Soul',\n",
              " 'Kia Optima',\n",
              " 'Honda Civic']"
            ]
          },
          "execution_count": 20,
          "metadata": {},
          "output_type": "execute_result"
        }
      ],
      "source": [
        "my_car_list"
      ]
    },
    {
      "cell_type": "code",
      "execution_count": null,
      "metadata": {
        "id": "iHV65Zoo47rd",
        "outputId": "06f9be93-b62d-40fc-c05c-67a62b9d39a5"
      },
      "outputs": [
        {
          "data": {
            "text/plain": [
              "['Toyota Corolla', 'Toyota Camry', 'Nissan Altima', 'Kia Soul', 'Kia Optima']"
            ]
          },
          "execution_count": 21,
          "metadata": {},
          "output_type": "execute_result"
        }
      ],
      "source": [
        "my_car_list[0:5:]"
      ]
    },
    {
      "cell_type": "code",
      "execution_count": null,
      "metadata": {
        "id": "pEOSBuxv47rd",
        "outputId": "02375eea-c85a-4adc-e479-b5d819952b21"
      },
      "outputs": [
        {
          "data": {
            "text/plain": [
              "['Toyota Corolla', 'Nissan Altima', 'Kia Optima']"
            ]
          },
          "execution_count": 22,
          "metadata": {},
          "output_type": "execute_result"
        }
      ],
      "source": [
        "my_car_list[::2]"
      ]
    },
    {
      "cell_type": "code",
      "execution_count": null,
      "metadata": {
        "id": "JdFUciwI47re",
        "outputId": "4bfcebe7-a9c1-44f1-80ba-3560525010c3"
      },
      "outputs": [
        {
          "data": {
            "text/plain": [
              "['Toyota Corolla', 'Nissan Altima', 'Kia Optima']"
            ]
          },
          "execution_count": 23,
          "metadata": {},
          "output_type": "execute_result"
        }
      ],
      "source": [
        "my_car_list[0:5:2]"
      ]
    },
    {
      "cell_type": "code",
      "execution_count": null,
      "metadata": {
        "id": "AOYxJLCX47re",
        "outputId": "c64a8dd8-27a6-44bf-ba63-71042ea4afd4"
      },
      "outputs": [
        {
          "data": {
            "text/plain": [
              "['Nissan Altima', 'Kia Optima']"
            ]
          },
          "execution_count": 24,
          "metadata": {},
          "output_type": "execute_result"
        }
      ],
      "source": [
        "my_car_list[2:5:2]"
      ]
    },
    {
      "cell_type": "code",
      "execution_count": null,
      "metadata": {
        "id": "tTYlVuFg47re",
        "outputId": "31ea69c2-b0ab-4069-81bc-b1900fcd0a6d"
      },
      "outputs": [
        {
          "data": {
            "text/plain": [
              "['Toyota Corolla', 'Kia Soul']"
            ]
          },
          "execution_count": 25,
          "metadata": {},
          "output_type": "execute_result"
        }
      ],
      "source": [
        "my_car_list[0:5:3]"
      ]
    },
    {
      "cell_type": "code",
      "execution_count": null,
      "metadata": {
        "id": "swfy1eca47re",
        "outputId": "72600e75-51be-4244-a35e-b90c619d4397"
      },
      "outputs": [
        {
          "data": {
            "text/plain": [
              "['Toyota Camry', 'Kia Soul']"
            ]
          },
          "execution_count": 26,
          "metadata": {},
          "output_type": "execute_result"
        }
      ],
      "source": [
        "my_car_list[1:4:2]"
      ]
    },
    {
      "cell_type": "code",
      "execution_count": null,
      "metadata": {
        "id": "GemT4T0O47rf",
        "outputId": "87f2c293-b706-4b2f-cad9-3d1cf5f0201a"
      },
      "outputs": [
        {
          "data": {
            "text/plain": [
              "['Toyota Corolla',\n",
              " 'Toyota Camry',\n",
              " 'Nissan Altima',\n",
              " 'Kia Soul',\n",
              " 'Kia Optima',\n",
              " 'Honda Civic']"
            ]
          },
          "execution_count": 27,
          "metadata": {},
          "output_type": "execute_result"
        }
      ],
      "source": [
        "my_car_list"
      ]
    },
    {
      "cell_type": "code",
      "execution_count": null,
      "metadata": {
        "id": "LDW8kMyR47rf",
        "outputId": "b53795d3-9ca8-4214-fad3-17b75ede9b12"
      },
      "outputs": [
        {
          "data": {
            "text/plain": [
              "['Honda Civic',\n",
              " 'Kia Optima',\n",
              " 'Kia Soul',\n",
              " 'Nissan Altima',\n",
              " 'Toyota Camry',\n",
              " 'Toyota Corolla']"
            ]
          },
          "execution_count": 28,
          "metadata": {},
          "output_type": "execute_result"
        }
      ],
      "source": [
        "my_car_list[::-1]"
      ]
    },
    {
      "cell_type": "code",
      "execution_count": null,
      "metadata": {
        "id": "5wVjmJdm47rf",
        "outputId": "82b57b8a-dd17-455a-aee1-a1669a9e9e27"
      },
      "outputs": [
        {
          "data": {
            "text/plain": [
              "['Nissan Altima', 'Toyota Camry']"
            ]
          },
          "execution_count": 29,
          "metadata": {},
          "output_type": "execute_result"
        }
      ],
      "source": [
        "my_car_list[2:0:-1]"
      ]
    },
    {
      "cell_type": "code",
      "execution_count": null,
      "metadata": {
        "id": "Fz32_InE47rg",
        "outputId": "7e9e7c80-69f6-4319-f41a-c27776f2d87e"
      },
      "outputs": [
        {
          "data": {
            "text/plain": [
              "['Kia Optima', 'Kia Soul', 'Nissan Altima']"
            ]
          },
          "execution_count": 30,
          "metadata": {},
          "output_type": "execute_result"
        }
      ],
      "source": [
        "my_car_list[4:1:-1]"
      ]
    },
    {
      "cell_type": "code",
      "execution_count": null,
      "metadata": {
        "id": "pCPV4Wba47rg",
        "outputId": "a3649239-6674-418c-9dc5-77aab7f6932d"
      },
      "outputs": [
        {
          "data": {
            "text/plain": [
              "['Nissan Altima', 'Toyota Camry']"
            ]
          },
          "execution_count": 31,
          "metadata": {},
          "output_type": "execute_result"
        }
      ],
      "source": [
        "my_car_list[-4:0:-1]"
      ]
    },
    {
      "cell_type": "code",
      "execution_count": null,
      "metadata": {
        "id": "SXRZSQYu47rg",
        "outputId": "143afcae-beb4-436a-d607-a47568181f64"
      },
      "outputs": [
        {
          "data": {
            "text/plain": [
              "['Honda Civic', 'Kia Soul', 'Toyota Camry']"
            ]
          },
          "execution_count": 32,
          "metadata": {},
          "output_type": "execute_result"
        }
      ],
      "source": [
        "my_car_list[::-2]"
      ]
    },
    {
      "cell_type": "code",
      "execution_count": null,
      "metadata": {
        "id": "0C7G3H4O47rg",
        "outputId": "88a3f311-6837-4302-873c-1c9c29728902"
      },
      "outputs": [
        {
          "data": {
            "text/plain": [
              "['Toyota Corolla',\n",
              " 'Toyota Camry',\n",
              " 'Nissan Altima',\n",
              " 'Kia Soul',\n",
              " 'Kia Optima',\n",
              " 'Honda Civic']"
            ]
          },
          "execution_count": 33,
          "metadata": {},
          "output_type": "execute_result"
        }
      ],
      "source": [
        "my_car_list"
      ]
    },
    {
      "cell_type": "code",
      "execution_count": null,
      "metadata": {
        "id": "4sFeZ4rf47rh",
        "outputId": "ea663be0-c68b-455c-b629-6ee931ce2b65"
      },
      "outputs": [
        {
          "name": "stdout",
          "output_type": "stream",
          "text": [
            "['Toyota Corolla', 'Toyota Camry', 'Nissan Altima', 'Kia Soul', 'Kia Optima', 'Honda Civic']\n"
          ]
        },
        {
          "data": {
            "text/plain": [
              "6"
            ]
          },
          "execution_count": 34,
          "metadata": {},
          "output_type": "execute_result"
        }
      ],
      "source": [
        "print(my_car_list)\n",
        "\n",
        "len(my_car_list)"
      ]
    },
    {
      "cell_type": "code",
      "execution_count": null,
      "metadata": {
        "id": "ARfJXR6R47rh",
        "outputId": "dbd21c65-1710-4165-d0ee-849b4d5b49cf"
      },
      "outputs": [
        {
          "data": {
            "text/plain": [
              "['Toyota Corolla',\n",
              " 'Toyota Camry',\n",
              " 'Nissan Altima',\n",
              " 'Kia Soul',\n",
              " 'Kia Optima',\n",
              " 'Honda Civic',\n",
              " 'Ford Focus',\n",
              " 'Dodge Charger']"
            ]
          },
          "execution_count": 35,
          "metadata": {},
          "output_type": "execute_result"
        }
      ],
      "source": [
        "my_car_list[6:-1] = ['Ford Focus','Dodge Charger']\n",
        "\n",
        "my_car_list"
      ]
    },
    {
      "cell_type": "code",
      "execution_count": null,
      "metadata": {
        "id": "Izy8RAXb47rh",
        "outputId": "c9c0a686-cce1-4560-c1da-1630752e7a77"
      },
      "outputs": [
        {
          "name": "stdout",
          "output_type": "stream",
          "text": [
            "['Toyota Corolla', 'Toyota Camry', 'Nissan Altima', 'Kia Soul', 'Kia Optima', 'Honda Civic', 'Ford Focus', 'Dodge Charger']\n"
          ]
        },
        {
          "data": {
            "text/plain": [
              "8"
            ]
          },
          "execution_count": 36,
          "metadata": {},
          "output_type": "execute_result"
        }
      ],
      "source": [
        "print(my_car_list)\n",
        "\n",
        "len(my_car_list)"
      ]
    },
    {
      "cell_type": "code",
      "execution_count": null,
      "metadata": {
        "id": "9nopxcLh47ri",
        "outputId": "6f80b47a-cfcc-463a-c7ae-244bb3a9771e"
      },
      "outputs": [
        {
          "data": {
            "text/plain": [
              "True"
            ]
          },
          "execution_count": 37,
          "metadata": {},
          "output_type": "execute_result"
        }
      ],
      "source": [
        "'Ford Focus' in my_car_list"
      ]
    },
    {
      "cell_type": "code",
      "execution_count": null,
      "metadata": {
        "id": "uCbFViH947ri",
        "outputId": "cb8ec578-e383-438b-8fcc-beac1fe359cd"
      },
      "outputs": [
        {
          "data": {
            "text/plain": [
              "'Ford Focus'"
            ]
          },
          "execution_count": 38,
          "metadata": {},
          "output_type": "execute_result"
        }
      ],
      "source": [
        "my_car_list.pop(-2)"
      ]
    },
    {
      "cell_type": "code",
      "execution_count": null,
      "metadata": {
        "id": "jnzsOo3-47ri",
        "outputId": "c35ac4a9-4761-4e4e-e489-c0c1ebdb280d"
      },
      "outputs": [
        {
          "data": {
            "text/plain": [
              "False"
            ]
          },
          "execution_count": 39,
          "metadata": {},
          "output_type": "execute_result"
        }
      ],
      "source": [
        "'Ford Focus' in my_car_list"
      ]
    },
    {
      "cell_type": "code",
      "execution_count": null,
      "metadata": {
        "id": "Rf2rKM4M47rj",
        "outputId": "bb4d196d-92da-4ac0-cc36-bc5cc84aab8f"
      },
      "outputs": [
        {
          "data": {
            "text/plain": [
              "['Toyota Corolla',\n",
              " 'Toyota Camry',\n",
              " 'Nissan Altima',\n",
              " 'Kia Soul',\n",
              " 'Kia Optima',\n",
              " 'Honda Civic',\n",
              " 'Dodge Charger']"
            ]
          },
          "execution_count": 40,
          "metadata": {},
          "output_type": "execute_result"
        }
      ],
      "source": [
        "my_car_list"
      ]
    },
    {
      "cell_type": "code",
      "execution_count": null,
      "metadata": {
        "id": "GpLKumWW47rk"
      },
      "outputs": [],
      "source": [
        ""
      ]
    },
    {
      "cell_type": "code",
      "execution_count": null,
      "metadata": {
        "id": "r7k9QNka47rk"
      },
      "outputs": [],
      "source": [
        ""
      ]
    },
    {
      "cell_type": "code",
      "execution_count": null,
      "metadata": {
        "id": "Sr7O9UB947rk"
      },
      "outputs": [],
      "source": [
        ""
      ]
    },
    {
      "cell_type": "code",
      "execution_count": null,
      "metadata": {
        "id": "8ECBBv9T47rk"
      },
      "outputs": [],
      "source": [
        ""
      ]
    },
    {
      "cell_type": "code",
      "execution_count": null,
      "metadata": {
        "id": "yRVZUWtY47rl"
      },
      "outputs": [],
      "source": [
        ""
      ]
    },
    {
      "cell_type": "code",
      "execution_count": null,
      "metadata": {
        "id": "6LFqOmUc47rl"
      },
      "outputs": [],
      "source": [
        ""
      ]
    },
    {
      "cell_type": "code",
      "execution_count": null,
      "metadata": {
        "id": "yL72NWhF47rl"
      },
      "outputs": [],
      "source": [
        ""
      ]
    },
    {
      "cell_type": "code",
      "execution_count": null,
      "metadata": {
        "id": "WcWGtfr447rl"
      },
      "outputs": [],
      "source": [
        ""
      ]
    },
    {
      "cell_type": "code",
      "execution_count": null,
      "metadata": {
        "id": "3norl7wH47rm"
      },
      "outputs": [],
      "source": [
        ""
      ]
    },
    {
      "cell_type": "code",
      "execution_count": null,
      "metadata": {
        "id": "TzrPbGpn47rm",
        "outputId": "ad8953e0-7103-45e7-ae84-a91f6993c420"
      },
      "outputs": [
        {
          "data": {
            "text/plain": [
              "['Toyota Corolla',\n",
              " 'Toyota Camry',\n",
              " 'Nissan Altima',\n",
              " 'Kia Soul',\n",
              " 'Kia Optima',\n",
              " 'Honda Civic']"
            ]
          },
          "execution_count": 1,
          "metadata": {},
          "output_type": "execute_result"
        }
      ],
      "source": [
        "my_car_list = ['Toyota Corolla', 'Toyota Camry',\n",
        "               'Nissan Altima', 'Kia Soul',\n",
        "               'Kia Optima', 'Honda Civic']\n",
        "my_car_list"
      ]
    },
    {
      "cell_type": "code",
      "execution_count": null,
      "metadata": {
        "id": "01uYpy1e47rm",
        "outputId": "91bd15a0-224b-42fa-9956-c8ed4f1c9cae"
      },
      "outputs": [
        {
          "data": {
            "text/plain": [
              "6"
            ]
          },
          "execution_count": 2,
          "metadata": {},
          "output_type": "execute_result"
        }
      ],
      "source": [
        "len(my_car_list)"
      ]
    },
    {
      "cell_type": "code",
      "execution_count": null,
      "metadata": {
        "id": "pztiJZGz47rn",
        "outputId": "3aef5e50-b33e-4f54-b09a-e43116011789"
      },
      "outputs": [
        {
          "data": {
            "text/plain": [
              "'Kia Optima'"
            ]
          },
          "execution_count": 3,
          "metadata": {},
          "output_type": "execute_result"
        }
      ],
      "source": [
        "my_car_list[4]"
      ]
    },
    {
      "cell_type": "code",
      "execution_count": null,
      "metadata": {
        "id": "zqrTOnvV47rn",
        "outputId": "bd75fd13-d93d-4a9f-a819-189463c619a1"
      },
      "outputs": [
        {
          "data": {
            "text/plain": [
              "'Honda Civic'"
            ]
          },
          "execution_count": 4,
          "metadata": {},
          "output_type": "execute_result"
        }
      ],
      "source": [
        "my_car_list[5]"
      ]
    },
    {
      "cell_type": "code",
      "execution_count": null,
      "metadata": {
        "id": "IdpXu33y47rn",
        "outputId": "9729f220-b8c5-4853-c1d5-afbfe3d96ea4"
      },
      "outputs": [
        {
          "data": {
            "text/plain": [
              "'Kia Optima'"
            ]
          },
          "execution_count": 5,
          "metadata": {},
          "output_type": "execute_result"
        }
      ],
      "source": [
        "my_car_list[-2]"
      ]
    },
    {
      "cell_type": "code",
      "execution_count": null,
      "metadata": {
        "id": "wTUOuvnZ47ro",
        "outputId": "71f03551-c848-4bd3-9318-04743aaaf20e"
      },
      "outputs": [
        {
          "data": {
            "text/plain": [
              "'Nissan Altima'"
            ]
          },
          "execution_count": 6,
          "metadata": {},
          "output_type": "execute_result"
        }
      ],
      "source": [
        "my_car_list[-4]"
      ]
    },
    {
      "cell_type": "code",
      "execution_count": null,
      "metadata": {
        "id": "Tm0MruxU47ro",
        "outputId": "855f1a65-90ab-4978-b1a0-cd1d19d920ce"
      },
      "outputs": [
        {
          "data": {
            "text/plain": [
              "['Toyota Corolla',\n",
              " 'Toyota Camry',\n",
              " 'Nissan Altima',\n",
              " 'Kia Soul',\n",
              " 'Kia Optima',\n",
              " 'Honda Civic']"
            ]
          },
          "execution_count": 7,
          "metadata": {},
          "output_type": "execute_result"
        }
      ],
      "source": [
        "my_car_list"
      ]
    },
    {
      "cell_type": "code",
      "execution_count": null,
      "metadata": {
        "id": "VB4sKEGl47rp",
        "outputId": "86aff3ab-1bab-4cc8-c2a6-db8972cb81a3"
      },
      "outputs": [
        {
          "data": {
            "text/plain": [
              "['Toyota Corolla', 'Toyota Camry', 'Nissan Altima', 'Kia Soul']"
            ]
          },
          "execution_count": 8,
          "metadata": {},
          "output_type": "execute_result"
        }
      ],
      "source": [
        "my_car_list[0:4]"
      ]
    },
    {
      "cell_type": "code",
      "execution_count": null,
      "metadata": {
        "id": "D_pRaDpl47rp",
        "outputId": "2ee3211d-7e0d-4c0b-ab30-e726a40854d2"
      },
      "outputs": [
        {
          "data": {
            "text/plain": [
              "['Toyota Corolla', 'Toyota Camry']"
            ]
          },
          "execution_count": 9,
          "metadata": {},
          "output_type": "execute_result"
        }
      ],
      "source": [
        "my_car_list[0:2]"
      ]
    },
    {
      "cell_type": "code",
      "execution_count": null,
      "metadata": {
        "id": "6ieYy1d_47rp",
        "outputId": "9395f80a-af63-4828-dfe9-9cf22ad72141"
      },
      "outputs": [
        {
          "data": {
            "text/plain": [
              "['Toyota Corolla',\n",
              " 'Toyota Camry',\n",
              " 'Nissan Altima',\n",
              " 'Kia Soul',\n",
              " 'Kia Optima',\n",
              " 'Honda Civic']"
            ]
          },
          "execution_count": 10,
          "metadata": {},
          "output_type": "execute_result"
        }
      ],
      "source": [
        "my_car_list[0:6]"
      ]
    },
    {
      "cell_type": "code",
      "execution_count": null,
      "metadata": {
        "id": "9Ipu8yhI47rq",
        "outputId": "de8ff20b-5bbc-4f19-89df-ab1569ca4afe"
      },
      "outputs": [
        {
          "data": {
            "text/plain": [
              "['Toyota Corolla',\n",
              " 'Toyota Camry',\n",
              " 'Nissan Altima',\n",
              " 'Kia Soul',\n",
              " 'Kia Optima',\n",
              " 'Honda Civic']"
            ]
          },
          "execution_count": 11,
          "metadata": {},
          "output_type": "execute_result"
        }
      ],
      "source": [
        "my_car_list[0:7]"
      ]
    },
    {
      "cell_type": "code",
      "execution_count": null,
      "metadata": {
        "id": "vhi86jWC47rq",
        "outputId": "cd484164-acf1-4cf2-c083-2e25c2be5bb3"
      },
      "outputs": [
        {
          "data": {
            "text/plain": [
              "[]"
            ]
          },
          "execution_count": 12,
          "metadata": {},
          "output_type": "execute_result"
        }
      ],
      "source": [
        "my_car_list[7:]"
      ]
    },
    {
      "cell_type": "code",
      "execution_count": null,
      "metadata": {
        "id": "esyrgio-47rq",
        "outputId": "affcea5e-2a24-4bf6-c2d3-a36fa77293eb"
      },
      "outputs": [
        {
          "data": {
            "text/plain": [
              "['Honda Civic']"
            ]
          },
          "execution_count": 13,
          "metadata": {},
          "output_type": "execute_result"
        }
      ],
      "source": [
        "my_car_list[5:6]"
      ]
    },
    {
      "cell_type": "code",
      "execution_count": null,
      "metadata": {
        "id": "CN2u6J0M47rq",
        "outputId": "145e3221-a216-4376-b6a3-bd0312bc08a7"
      },
      "outputs": [
        {
          "data": {
            "text/plain": [
              "['Kia Soul', 'Kia Optima', 'Honda Civic']"
            ]
          },
          "execution_count": 14,
          "metadata": {},
          "output_type": "execute_result"
        }
      ],
      "source": [
        "my_car_list[3:6]"
      ]
    },
    {
      "cell_type": "code",
      "execution_count": null,
      "metadata": {
        "id": "v0Hyggm_47rr",
        "outputId": "76a819dd-41b0-45bd-dc25-767d1507025c"
      },
      "outputs": [
        {
          "data": {
            "text/plain": [
              "['Toyota Corolla', 'Toyota Camry', 'Nissan Altima']"
            ]
          },
          "execution_count": 15,
          "metadata": {},
          "output_type": "execute_result"
        }
      ],
      "source": [
        "my_car_list[:3]"
      ]
    },
    {
      "cell_type": "code",
      "execution_count": null,
      "metadata": {
        "id": "qMVCd7FO47rr",
        "outputId": "548cfac6-9743-43da-e228-b4d7cca8fcb2"
      },
      "outputs": [
        {
          "data": {
            "text/plain": [
              "['Kia Soul', 'Kia Optima', 'Honda Civic']"
            ]
          },
          "execution_count": 16,
          "metadata": {},
          "output_type": "execute_result"
        }
      ],
      "source": [
        "my_car_list[3:]"
      ]
    },
    {
      "cell_type": "code",
      "execution_count": null,
      "metadata": {
        "id": "LI_WtXQi47rr",
        "outputId": "4c649994-c481-4f7f-c117-4b4d7ae1f6ab"
      },
      "outputs": [
        {
          "data": {
            "text/plain": [
              "['Toyota Corolla', 'Toyota Camry']"
            ]
          },
          "execution_count": 17,
          "metadata": {},
          "output_type": "execute_result"
        }
      ],
      "source": [
        "my_car_list[0:-4]"
      ]
    },
    {
      "cell_type": "code",
      "execution_count": null,
      "metadata": {
        "id": "SkQBbyEh47rs",
        "outputId": "39709722-2f30-452c-d72b-e1602b8ebb7b"
      },
      "outputs": [
        {
          "data": {
            "text/plain": [
              "['Nissan Altima', 'Kia Soul', 'Kia Optima']"
            ]
          },
          "execution_count": 18,
          "metadata": {},
          "output_type": "execute_result"
        }
      ],
      "source": [
        "my_car_list[-4:-1]"
      ]
    },
    {
      "cell_type": "code",
      "execution_count": null,
      "metadata": {
        "id": "znZthWSX47rs",
        "outputId": "e4431cc6-eea7-4f81-b8df-9954f11904e3"
      },
      "outputs": [
        {
          "data": {
            "text/plain": [
              "[]"
            ]
          },
          "execution_count": 19,
          "metadata": {},
          "output_type": "execute_result"
        }
      ],
      "source": [
        "my_car_list[-2:-4]"
      ]
    },
    {
      "cell_type": "code",
      "execution_count": null,
      "metadata": {
        "id": "dYannagK47rs",
        "outputId": "2c84649e-c1a5-4aca-e0da-2ca64f161334"
      },
      "outputs": [
        {
          "data": {
            "text/plain": [
              "['Toyota Corolla',\n",
              " 'Toyota Camry',\n",
              " 'Nissan Altima',\n",
              " 'Kia Soul',\n",
              " 'Kia Optima',\n",
              " 'Honda Civic']"
            ]
          },
          "execution_count": 20,
          "metadata": {},
          "output_type": "execute_result"
        }
      ],
      "source": [
        "my_car_list"
      ]
    },
    {
      "cell_type": "code",
      "execution_count": null,
      "metadata": {
        "id": "r8sBzvga47rt",
        "outputId": "0b31952c-4580-40c9-a7e1-9edabe46d61c"
      },
      "outputs": [
        {
          "data": {
            "text/plain": [
              "['Toyota Corolla', 'Toyota Camry', 'Nissan Altima', 'Kia Soul', 'Kia Optima']"
            ]
          },
          "execution_count": 21,
          "metadata": {},
          "output_type": "execute_result"
        }
      ],
      "source": [
        "my_car_list[0:5:]"
      ]
    },
    {
      "cell_type": "code",
      "execution_count": null,
      "metadata": {
        "id": "l-dFXDOh47rt",
        "outputId": "fea8ae28-9956-4d22-81f5-a4ac9fc5edf2"
      },
      "outputs": [
        {
          "data": {
            "text/plain": [
              "['Toyota Corolla', 'Nissan Altima', 'Kia Optima']"
            ]
          },
          "execution_count": 22,
          "metadata": {},
          "output_type": "execute_result"
        }
      ],
      "source": [
        "my_car_list[::2]"
      ]
    },
    {
      "cell_type": "code",
      "execution_count": null,
      "metadata": {
        "id": "W5n5J-pD47rt",
        "outputId": "b55b59f9-9900-4fcc-b9f9-3686ac395186"
      },
      "outputs": [
        {
          "data": {
            "text/plain": [
              "['Toyota Corolla', 'Nissan Altima', 'Kia Optima']"
            ]
          },
          "execution_count": 23,
          "metadata": {},
          "output_type": "execute_result"
        }
      ],
      "source": [
        "my_car_list[0:5:2]"
      ]
    },
    {
      "cell_type": "code",
      "execution_count": null,
      "metadata": {
        "id": "_vfTdccB47ru",
        "outputId": "66039bcc-8822-4a86-d190-344f47e0a02c"
      },
      "outputs": [
        {
          "data": {
            "text/plain": [
              "['Nissan Altima', 'Kia Optima']"
            ]
          },
          "execution_count": 24,
          "metadata": {},
          "output_type": "execute_result"
        }
      ],
      "source": [
        "my_car_list[2:5:2]"
      ]
    },
    {
      "cell_type": "code",
      "execution_count": null,
      "metadata": {
        "id": "VhYt37P047ru",
        "outputId": "30f5f7fe-a5a8-4c15-b394-5989b0a22cc5"
      },
      "outputs": [
        {
          "data": {
            "text/plain": [
              "['Toyota Corolla', 'Kia Soul']"
            ]
          },
          "execution_count": 25,
          "metadata": {},
          "output_type": "execute_result"
        }
      ],
      "source": [
        "my_car_list[0:5:3]"
      ]
    },
    {
      "cell_type": "code",
      "execution_count": null,
      "metadata": {
        "id": "QHd8WhgS47ru",
        "outputId": "ad3018e4-6bb1-4040-bd0e-f8ffd9fc0698"
      },
      "outputs": [
        {
          "data": {
            "text/plain": [
              "['Toyota Camry', 'Kia Soul']"
            ]
          },
          "execution_count": 26,
          "metadata": {},
          "output_type": "execute_result"
        }
      ],
      "source": [
        "my_car_list[1:4:2]"
      ]
    },
    {
      "cell_type": "code",
      "execution_count": null,
      "metadata": {
        "id": "KJw-29HD47rv",
        "outputId": "4ceddb98-dfb0-45f5-94b8-1f7f54c1534f"
      },
      "outputs": [
        {
          "data": {
            "text/plain": [
              "['Toyota Corolla',\n",
              " 'Toyota Camry',\n",
              " 'Nissan Altima',\n",
              " 'Kia Soul',\n",
              " 'Kia Optima',\n",
              " 'Honda Civic']"
            ]
          },
          "execution_count": 27,
          "metadata": {},
          "output_type": "execute_result"
        }
      ],
      "source": [
        "my_car_list"
      ]
    },
    {
      "cell_type": "code",
      "execution_count": null,
      "metadata": {
        "id": "9rKpoZgk47rv",
        "outputId": "abddccc5-dad0-4d8e-db8e-3f64f48c5b7b"
      },
      "outputs": [
        {
          "data": {
            "text/plain": [
              "['Honda Civic',\n",
              " 'Kia Optima',\n",
              " 'Kia Soul',\n",
              " 'Nissan Altima',\n",
              " 'Toyota Camry',\n",
              " 'Toyota Corolla']"
            ]
          },
          "execution_count": 28,
          "metadata": {},
          "output_type": "execute_result"
        }
      ],
      "source": [
        "my_car_list[::-1]"
      ]
    },
    {
      "cell_type": "code",
      "execution_count": null,
      "metadata": {
        "id": "jeTN_5yl47rv",
        "outputId": "4488e87c-e2bc-43ad-89b6-d72d5c089e67"
      },
      "outputs": [
        {
          "data": {
            "text/plain": [
              "['Nissan Altima', 'Toyota Camry']"
            ]
          },
          "execution_count": 29,
          "metadata": {},
          "output_type": "execute_result"
        }
      ],
      "source": [
        "my_car_list[2:0:-1]"
      ]
    },
    {
      "cell_type": "code",
      "execution_count": null,
      "metadata": {
        "id": "oKr2CdVs47rw",
        "outputId": "19b916d5-1846-4146-98e7-50c52dede25b"
      },
      "outputs": [
        {
          "data": {
            "text/plain": [
              "['Kia Optima', 'Kia Soul', 'Nissan Altima']"
            ]
          },
          "execution_count": 30,
          "metadata": {},
          "output_type": "execute_result"
        }
      ],
      "source": [
        "my_car_list[4:1:-1]"
      ]
    },
    {
      "cell_type": "code",
      "execution_count": null,
      "metadata": {
        "id": "L6D0rMcr47rw",
        "outputId": "beb6a679-b530-401d-ec05-cbe201f3643f"
      },
      "outputs": [
        {
          "data": {
            "text/plain": [
              "['Nissan Altima', 'Toyota Camry']"
            ]
          },
          "execution_count": 31,
          "metadata": {},
          "output_type": "execute_result"
        }
      ],
      "source": [
        "my_car_list[-4:0:-1]"
      ]
    },
    {
      "cell_type": "code",
      "execution_count": null,
      "metadata": {
        "id": "jOJ7CAch47rw",
        "outputId": "2e12fdc2-7d30-4c32-d212-6048a91793f4"
      },
      "outputs": [
        {
          "data": {
            "text/plain": [
              "['Honda Civic', 'Kia Soul', 'Toyota Camry']"
            ]
          },
          "execution_count": 32,
          "metadata": {},
          "output_type": "execute_result"
        }
      ],
      "source": [
        "my_car_list[::-2]"
      ]
    },
    {
      "cell_type": "code",
      "execution_count": null,
      "metadata": {
        "id": "Y9BvC6WM47rw",
        "outputId": "b420476b-584a-4deb-8e89-03bccebd97c3"
      },
      "outputs": [
        {
          "data": {
            "text/plain": [
              "['Toyota Corolla',\n",
              " 'Toyota Camry',\n",
              " 'Nissan Altima',\n",
              " 'Kia Soul',\n",
              " 'Kia Optima',\n",
              " 'Honda Civic']"
            ]
          },
          "execution_count": 33,
          "metadata": {},
          "output_type": "execute_result"
        }
      ],
      "source": [
        "my_car_list"
      ]
    },
    {
      "cell_type": "code",
      "execution_count": null,
      "metadata": {
        "id": "3M7mbYs047rx",
        "outputId": "240f3dc0-8698-435b-8cd3-b764349aabf5"
      },
      "outputs": [
        {
          "name": "stdout",
          "output_type": "stream",
          "text": [
            "['Toyota Corolla', 'Toyota Camry', 'Nissan Altima', 'Kia Soul', 'Kia Optima', 'Honda Civic']\n"
          ]
        },
        {
          "data": {
            "text/plain": [
              "6"
            ]
          },
          "execution_count": 34,
          "metadata": {},
          "output_type": "execute_result"
        }
      ],
      "source": [
        "print(my_car_list)\n",
        "\n",
        "len(my_car_list)"
      ]
    },
    {
      "cell_type": "code",
      "execution_count": null,
      "metadata": {
        "id": "SrM3tvy447rx",
        "outputId": "45f9bed8-985f-4f38-ee8b-ced2aaa3621f"
      },
      "outputs": [
        {
          "data": {
            "text/plain": [
              "['Toyota Corolla',\n",
              " 'Toyota Camry',\n",
              " 'Nissan Altima',\n",
              " 'Kia Soul',\n",
              " 'Kia Optima',\n",
              " 'Honda Civic',\n",
              " 'Ford Focus',\n",
              " 'Dodge Charger']"
            ]
          },
          "execution_count": 35,
          "metadata": {},
          "output_type": "execute_result"
        }
      ],
      "source": [
        "my_car_list[6:-1] = ['Ford Focus','Dodge Charger']\n",
        "\n",
        "my_car_list"
      ]
    },
    {
      "cell_type": "code",
      "execution_count": null,
      "metadata": {
        "id": "csePyVXK47rx",
        "outputId": "8fab2e45-e75e-4bd4-e347-6b70cba8b145"
      },
      "outputs": [
        {
          "name": "stdout",
          "output_type": "stream",
          "text": [
            "['Toyota Corolla', 'Toyota Camry', 'Nissan Altima', 'Kia Soul', 'Kia Optima', 'Honda Civic', 'Ford Focus', 'Dodge Charger']\n"
          ]
        },
        {
          "data": {
            "text/plain": [
              "8"
            ]
          },
          "execution_count": 36,
          "metadata": {},
          "output_type": "execute_result"
        }
      ],
      "source": [
        "print(my_car_list)\n",
        "\n",
        "len(my_car_list)"
      ]
    },
    {
      "cell_type": "code",
      "execution_count": null,
      "metadata": {
        "id": "c_kVJzdv47ry",
        "outputId": "5555ca02-805c-49a7-8828-d8ff4dc8343c"
      },
      "outputs": [
        {
          "data": {
            "text/plain": [
              "True"
            ]
          },
          "execution_count": 37,
          "metadata": {},
          "output_type": "execute_result"
        }
      ],
      "source": [
        "'Ford Focus' in my_car_list"
      ]
    },
    {
      "cell_type": "code",
      "execution_count": null,
      "metadata": {
        "id": "HAq33nMI47ry",
        "outputId": "e9cbd89c-867b-405f-c991-ee283fea92e7"
      },
      "outputs": [
        {
          "data": {
            "text/plain": [
              "'Ford Focus'"
            ]
          },
          "execution_count": 38,
          "metadata": {},
          "output_type": "execute_result"
        }
      ],
      "source": [
        "my_car_list.pop(-2)"
      ]
    },
    {
      "cell_type": "code",
      "execution_count": null,
      "metadata": {
        "id": "Mqv72atU47ry",
        "outputId": "c4ec3b71-c4de-49f7-d333-9b4dc30450aa"
      },
      "outputs": [
        {
          "data": {
            "text/plain": [
              "False"
            ]
          },
          "execution_count": 39,
          "metadata": {},
          "output_type": "execute_result"
        }
      ],
      "source": [
        "'Ford Focus' in my_car_list"
      ]
    },
    {
      "cell_type": "code",
      "execution_count": null,
      "metadata": {
        "id": "XyuuFGb247rz",
        "outputId": "ce25243d-b153-4007-a462-ef0f76778b68"
      },
      "outputs": [
        {
          "data": {
            "text/plain": [
              "['Toyota Corolla',\n",
              " 'Toyota Camry',\n",
              " 'Nissan Altima',\n",
              " 'Kia Soul',\n",
              " 'Kia Optima',\n",
              " 'Honda Civic',\n",
              " 'Dodge Charger']"
            ]
          },
          "execution_count": 40,
          "metadata": {},
          "output_type": "execute_result"
        }
      ],
      "source": [
        "my_car_list"
      ]
    },
    {
      "cell_type": "code",
      "execution_count": null,
      "metadata": {
        "id": "N5EzlRga47rz"
      },
      "outputs": [],
      "source": [
        ""
      ]
    },
    {
      "cell_type": "code",
      "execution_count": null,
      "metadata": {
        "id": "qBVDwaS-47rz"
      },
      "outputs": [],
      "source": [
        ""
      ]
    },
    {
      "cell_type": "code",
      "execution_count": null,
      "metadata": {
        "id": "B-kxcarP47rz"
      },
      "outputs": [],
      "source": [
        ""
      ]
    },
    {
      "cell_type": "code",
      "execution_count": null,
      "metadata": {
        "id": "RfB74pqP47r0"
      },
      "outputs": [],
      "source": [
        ""
      ]
    },
    {
      "cell_type": "code",
      "execution_count": null,
      "metadata": {
        "id": "BI2P_rDC47r0"
      },
      "outputs": [],
      "source": [
        ""
      ]
    },
    {
      "cell_type": "code",
      "execution_count": null,
      "metadata": {
        "id": "HkKQiskG47r0"
      },
      "outputs": [],
      "source": [
        ""
      ]
    },
    {
      "cell_type": "code",
      "execution_count": null,
      "metadata": {
        "id": "26EXITgu47r0"
      },
      "outputs": [],
      "source": [
        ""
      ]
    },
    {
      "cell_type": "code",
      "execution_count": null,
      "metadata": {
        "id": "Kq0Md_8347r1"
      },
      "outputs": [],
      "source": [
        ""
      ]
    },
    {
      "cell_type": "code",
      "execution_count": null,
      "metadata": {
        "id": "oWWnZgHZ47r1"
      },
      "outputs": [],
      "source": [
        ""
      ]
    },
    {
      "cell_type": "code",
      "execution_count": null,
      "metadata": {
        "id": "5_waGVkJ47r1",
        "outputId": "6d8a222b-b755-4653-c093-33a407da304a"
      },
      "outputs": [
        {
          "name": "stdout",
          "output_type": "stream",
          "text": [
            "World\n"
          ]
        }
      ],
      "source": [
        "print('World')"
      ]
    },
    {
      "cell_type": "code",
      "execution_count": null,
      "metadata": {
        "id": "2qSSM1_b47r1",
        "outputId": "bf6082be-2f15-463c-f2b4-34ae13498e3f"
      },
      "outputs": [
        {
          "data": {
            "text/plain": [
              "'World'"
            ]
          },
          "execution_count": 2,
          "metadata": {},
          "output_type": "execute_result"
        }
      ],
      "source": [
        "x = 'World'\n",
        "\n",
        "x"
      ]
    },
    {
      "cell_type": "code",
      "execution_count": null,
      "metadata": {
        "id": "P0G-pt5o47r2",
        "outputId": "0c4cbd0f-23e7-4902-ebf1-38fff734147f"
      },
      "outputs": [
        {
          "data": {
            "text/plain": [
              "'W'"
            ]
          },
          "execution_count": 3,
          "metadata": {},
          "output_type": "execute_result"
        }
      ],
      "source": [
        "x[0]"
      ]
    },
    {
      "cell_type": "code",
      "execution_count": null,
      "metadata": {
        "id": "Ek1gCwTh47r2",
        "outputId": "94903af8-ec0f-4833-c223-00c1d848bef6"
      },
      "outputs": [
        {
          "data": {
            "text/plain": [
              "'l'"
            ]
          },
          "execution_count": 4,
          "metadata": {},
          "output_type": "execute_result"
        }
      ],
      "source": [
        "x[3]"
      ]
    },
    {
      "cell_type": "code",
      "execution_count": null,
      "metadata": {
        "id": "5rGrmnvO47r2",
        "outputId": "b474e4d2-1087-4214-a9d4-104eb48f08f0"
      },
      "outputs": [
        {
          "ename": "IndexError",
          "evalue": "string index out of range",
          "output_type": "error",
          "traceback": [
            "\u001b[0;31m---------------------------------------------------------------------------\u001b[0m",
            "\u001b[0;31mIndexError\u001b[0m                                Traceback (most recent call last)",
            "\u001b[0;32m<ipython-input-5-04aa5bc9ecce>\u001b[0m in \u001b[0;36m<module>\u001b[0;34m()\u001b[0m\n\u001b[0;32m----> 1\u001b[0;31m \u001b[0mx\u001b[0m\u001b[0;34m[\u001b[0m\u001b[0;36m6\u001b[0m\u001b[0;34m]\u001b[0m\u001b[0;34m\u001b[0m\u001b[0;34m\u001b[0m\u001b[0m\n\u001b[0m",
            "\u001b[0;31mIndexError\u001b[0m: string index out of range"
          ]
        }
      ],
      "source": [
        "x[6]"
      ]
    },
    {
      "cell_type": "code",
      "execution_count": null,
      "metadata": {
        "id": "lzucwdpg47r3",
        "outputId": "1195bbfd-dda6-4122-a575-bb0d85bb6f60"
      },
      "outputs": [
        {
          "ename": "TypeError",
          "evalue": "'str' object does not support item assignment",
          "output_type": "error",
          "traceback": [
            "\u001b[0;31m---------------------------------------------------------------------------\u001b[0m",
            "\u001b[0;31mTypeError\u001b[0m                                 Traceback (most recent call last)",
            "\u001b[0;32m<ipython-input-6-3d0efcc40298>\u001b[0m in \u001b[0;36m<module>\u001b[0;34m()\u001b[0m\n\u001b[0;32m----> 1\u001b[0;31m \u001b[0mx\u001b[0m\u001b[0;34m[\u001b[0m\u001b[0;36m0\u001b[0m\u001b[0;34m]\u001b[0m \u001b[0;34m=\u001b[0m \u001b[0;34m'B'\u001b[0m\u001b[0;34m\u001b[0m\u001b[0;34m\u001b[0m\u001b[0m\n\u001b[0m",
            "\u001b[0;31mTypeError\u001b[0m: 'str' object does not support item assignment"
          ]
        }
      ],
      "source": [
        "x[0] = 'B'"
      ]
    },
    {
      "cell_type": "code",
      "execution_count": null,
      "metadata": {
        "id": "VneDwY2V47r3",
        "outputId": "8ebc408b-7e49-4811-8a12-8b5667aec810"
      },
      "outputs": [
        {
          "name": "stdout",
          "output_type": "stream",
          "text": [
            "W\n"
          ]
        }
      ],
      "source": [
        "a, b, c, d, e = x\n",
        "\n",
        "print(a)"
      ]
    },
    {
      "cell_type": "code",
      "execution_count": null,
      "metadata": {
        "id": "qq3lTyBZ47r3",
        "outputId": "61c90d84-1430-4c1e-afc7-eb4973f21980"
      },
      "outputs": [
        {
          "data": {
            "text/plain": [
              "('W', 'o', 'r', 'l', 'd')"
            ]
          },
          "execution_count": 8,
          "metadata": {},
          "output_type": "execute_result"
        }
      ],
      "source": [
        "a, b, c, d, e"
      ]
    },
    {
      "cell_type": "code",
      "execution_count": null,
      "metadata": {
        "id": "i1ucsPOO47r4",
        "outputId": "cce8544a-58f3-4450-955f-46ba62a7ca78"
      },
      "outputs": [
        {
          "ename": "ValueError",
          "evalue": "too many values to unpack (expected 4)",
          "output_type": "error",
          "traceback": [
            "\u001b[0;31m---------------------------------------------------------------------------\u001b[0m",
            "\u001b[0;31mValueError\u001b[0m                                Traceback (most recent call last)",
            "\u001b[0;32m<ipython-input-9-a39ad1354afd>\u001b[0m in \u001b[0;36m<module>\u001b[0;34m()\u001b[0m\n\u001b[0;32m----> 1\u001b[0;31m \u001b[0ma\u001b[0m\u001b[0;34m,\u001b[0m \u001b[0mb\u001b[0m\u001b[0;34m,\u001b[0m \u001b[0mc\u001b[0m\u001b[0;34m,\u001b[0m \u001b[0md\u001b[0m \u001b[0;34m=\u001b[0m \u001b[0mx\u001b[0m\u001b[0;34m\u001b[0m\u001b[0;34m\u001b[0m\u001b[0m\n\u001b[0m",
            "\u001b[0;31mValueError\u001b[0m: too many values to unpack (expected 4)"
          ]
        }
      ],
      "source": [
        "a, b, c, d = x"
      ]
    },
    {
      "cell_type": "code",
      "execution_count": null,
      "metadata": {
        "id": "JFs5JxC747r4",
        "outputId": "6df8e8d2-2b6c-48d2-f9e7-18c4cdbb55e4"
      },
      "outputs": [
        {
          "name": "stdout",
          "output_type": "stream",
          "text": [
            "o\n"
          ]
        }
      ],
      "source": [
        "a, b,_ ,_ ,_ = x\n",
        "\n",
        "print(b)"
      ]
    },
    {
      "cell_type": "code",
      "execution_count": null,
      "metadata": {
        "id": "FasI2d8t47r4",
        "outputId": "8ba0bea5-390b-48c7-9287-208940add643"
      },
      "outputs": [
        {
          "name": "stdout",
          "output_type": "stream",
          "text": [
            "How are you?: ok\n"
          ]
        },
        {
          "data": {
            "text/plain": [
              "'ok'"
            ]
          },
          "execution_count": 11,
          "metadata": {},
          "output_type": "execute_result"
        }
      ],
      "source": [
        "input('How are you?: ')"
      ]
    },
    {
      "cell_type": "code",
      "execution_count": null,
      "metadata": {
        "id": "HIvjrH_q47r_",
        "outputId": "ef066ec7-1dc7-4c06-c3c4-f3c64acc6c65"
      },
      "outputs": [
        {
          "name": "stdout",
          "output_type": "stream",
          "text": [
            "Where are you from?: New York City\n"
          ]
        }
      ],
      "source": [
        "place = input('Where are you from?: ')"
      ]
    },
    {
      "cell_type": "code",
      "execution_count": null,
      "metadata": {
        "id": "41DZP9gm47sA",
        "outputId": "9abcb89e-0ef3-4c95-9683-237cb10a1692"
      },
      "outputs": [
        {
          "data": {
            "text/plain": [
              "'New York City'"
            ]
          },
          "execution_count": 13,
          "metadata": {},
          "output_type": "execute_result"
        }
      ],
      "source": [
        "place "
      ]
    },
    {
      "cell_type": "code",
      "execution_count": null,
      "metadata": {
        "id": "5Lvtx7ev47sA",
        "outputId": "4728c32b-1d92-4b07-f8d0-63360c3443b1"
      },
      "outputs": [
        {
          "data": {
            "text/plain": [
              "13"
            ]
          },
          "execution_count": 14,
          "metadata": {},
          "output_type": "execute_result"
        }
      ],
      "source": [
        "len(place)"
      ]
    },
    {
      "cell_type": "code",
      "execution_count": null,
      "metadata": {
        "id": "TYCV5ByK47sA",
        "outputId": "467bb805-a3f7-4073-a68c-37a40ab15029"
      },
      "outputs": [
        {
          "data": {
            "text/plain": [
              "'City'"
            ]
          },
          "execution_count": 15,
          "metadata": {},
          "output_type": "execute_result"
        }
      ],
      "source": [
        "place[9:]"
      ]
    },
    {
      "cell_type": "code",
      "execution_count": null,
      "metadata": {
        "id": "eHDTJ9-a47sB",
        "outputId": "070a0197-de6d-4852-eae5-4284cd5e79c3"
      },
      "outputs": [
        {
          "data": {
            "text/plain": [
              "'City'"
            ]
          },
          "execution_count": 16,
          "metadata": {},
          "output_type": "execute_result"
        }
      ],
      "source": [
        "place[-4:]"
      ]
    },
    {
      "cell_type": "code",
      "execution_count": null,
      "metadata": {
        "id": "WAYxdjMZ47sB",
        "outputId": "3c7b88a6-5cfb-4a0c-db53-96a4c05f4056"
      },
      "outputs": [
        {
          "data": {
            "text/plain": [
              "'York '"
            ]
          },
          "execution_count": 17,
          "metadata": {},
          "output_type": "execute_result"
        }
      ],
      "source": [
        "place[4:-4]"
      ]
    },
    {
      "cell_type": "code",
      "execution_count": null,
      "metadata": {
        "id": "A3HUwlHG47sB",
        "outputId": "b2d4efa0-6943-47a3-b81a-5bf5981521eb"
      },
      "outputs": [
        {
          "data": {
            "text/plain": [
              "'NwYr'"
            ]
          },
          "execution_count": 18,
          "metadata": {},
          "output_type": "execute_result"
        }
      ],
      "source": [
        "place[0:8:2]"
      ]
    },
    {
      "cell_type": "code",
      "execution_count": null,
      "metadata": {
        "id": "2LxPNDlY47sC",
        "outputId": "53f11187-22d5-4616-97fe-f0423465819e"
      },
      "outputs": [
        {
          "data": {
            "text/plain": [
              "'York '"
            ]
          },
          "execution_count": 19,
          "metadata": {},
          "output_type": "execute_result"
        }
      ],
      "source": [
        "place[4:-4]"
      ]
    },
    {
      "cell_type": "code",
      "execution_count": null,
      "metadata": {
        "id": "IZyq9zDI47sC",
        "outputId": "3112ec3e-8b89-4d9d-90d4-49c87d33bf90"
      },
      "outputs": [
        {
          "data": {
            "text/plain": [
              "'New York City'"
            ]
          },
          "execution_count": 20,
          "metadata": {},
          "output_type": "execute_result"
        }
      ],
      "source": [
        "place[::1]"
      ]
    },
    {
      "cell_type": "code",
      "execution_count": null,
      "metadata": {
        "id": "FrFgNgCj47sC",
        "outputId": "1d60dbb4-c886-4292-830c-eb1837d2099d"
      },
      "outputs": [
        {
          "data": {
            "text/plain": [
              "'ytiC kroY weN'"
            ]
          },
          "execution_count": 21,
          "metadata": {},
          "output_type": "execute_result"
        }
      ],
      "source": [
        "place[::-1]"
      ]
    },
    {
      "cell_type": "code",
      "execution_count": null,
      "metadata": {
        "id": "TvjqcGC847sD",
        "outputId": "4c576208-b9de-4081-c9e4-d3518a62d049"
      },
      "outputs": [
        {
          "data": {
            "text/plain": [
              "'New York'"
            ]
          },
          "execution_count": 22,
          "metadata": {},
          "output_type": "execute_result"
        }
      ],
      "source": [
        "place[:8]"
      ]
    },
    {
      "cell_type": "code",
      "execution_count": null,
      "metadata": {
        "id": "kuB0K9Se47sD"
      },
      "outputs": [],
      "source": [
        "city = place[:8]"
      ]
    },
    {
      "cell_type": "code",
      "execution_count": null,
      "metadata": {
        "id": "5hb3CPFV47sD"
      },
      "outputs": [],
      "source": [
        "del city "
      ]
    },
    {
      "cell_type": "code",
      "execution_count": null,
      "metadata": {
        "id": "xew-W6WZ47sD",
        "outputId": "0b00c2a5-9784-4a57-f82c-2f9ed2cdb139"
      },
      "outputs": [
        {
          "ename": "NameError",
          "evalue": "name 'city' is not defined",
          "output_type": "error",
          "traceback": [
            "\u001b[0;31m---------------------------------------------------------------------------\u001b[0m",
            "\u001b[0;31mNameError\u001b[0m                                 Traceback (most recent call last)",
            "\u001b[0;32m<ipython-input-25-6a177a2862af>\u001b[0m in \u001b[0;36m<module>\u001b[0;34m()\u001b[0m\n\u001b[0;32m----> 1\u001b[0;31m \u001b[0mcity\u001b[0m\u001b[0;34m\u001b[0m\u001b[0;34m\u001b[0m\u001b[0m\n\u001b[0m",
            "\u001b[0;31mNameError\u001b[0m: name 'city' is not defined"
          ]
        }
      ],
      "source": [
        "city"
      ]
    },
    {
      "cell_type": "code",
      "execution_count": null,
      "metadata": {
        "id": "ltxWJ5Gz47sE",
        "outputId": "d3f36a64-9b3a-49ed-de46-e2ffe0bf922b"
      },
      "outputs": [
        {
          "name": "stdout",
          "output_type": "stream",
          "text": [
            "True\n"
          ]
        }
      ],
      "source": [
        "print(place.startswith('N'))"
      ]
    },
    {
      "cell_type": "code",
      "execution_count": null,
      "metadata": {
        "id": "8E9jx_Xe47sE",
        "outputId": "f23ebb4f-2859-4898-f16a-687929703cba"
      },
      "outputs": [
        {
          "name": "stdout",
          "output_type": "stream",
          "text": [
            "False\n"
          ]
        }
      ],
      "source": [
        "print(place.startswith('n'))"
      ]
    },
    {
      "cell_type": "code",
      "execution_count": null,
      "metadata": {
        "id": "Cod6WBrk47sE",
        "outputId": "253595c4-2d88-490a-ccdb-a5cc6a2517fe"
      },
      "outputs": [
        {
          "name": "stdout",
          "output_type": "stream",
          "text": [
            "True\n"
          ]
        }
      ],
      "source": [
        "print(place.endswith('y'))"
      ]
    },
    {
      "cell_type": "code",
      "execution_count": null,
      "metadata": {
        "id": "oVy7LSfU47sE",
        "outputId": "df726aa5-bfc2-4b80-a917-963ed7cf16a9"
      },
      "outputs": [
        {
          "name": "stdout",
          "output_type": "stream",
          "text": [
            "True\n"
          ]
        }
      ],
      "source": [
        "print(place.endswith('City'))"
      ]
    },
    {
      "cell_type": "code",
      "execution_count": null,
      "metadata": {
        "id": "51oSgYZC47sF",
        "outputId": "f4373176-4e52-4b30-8d4f-6ad8a356554d"
      },
      "outputs": [
        {
          "data": {
            "text/plain": [
              "1"
            ]
          },
          "execution_count": 30,
          "metadata": {},
          "output_type": "execute_result"
        }
      ],
      "source": [
        "place.count('y')"
      ]
    },
    {
      "cell_type": "code",
      "execution_count": null,
      "metadata": {
        "id": "nlztbcnu47sF",
        "outputId": "1a435227-4912-4239-870e-872b17bab7ae"
      },
      "outputs": [
        {
          "data": {
            "text/plain": [
              "'new york city'"
            ]
          },
          "execution_count": 31,
          "metadata": {},
          "output_type": "execute_result"
        }
      ],
      "source": [
        "lower_place = place.lower()\n",
        "\n",
        "lower_place"
      ]
    },
    {
      "cell_type": "code",
      "execution_count": null,
      "metadata": {
        "id": "TW7ud9Jr47sG",
        "outputId": "2a7c5d76-dd8e-4843-8975-c0aae057d50a"
      },
      "outputs": [
        {
          "data": {
            "text/plain": [
              "'NEW YORK CITY'"
            ]
          },
          "execution_count": 32,
          "metadata": {},
          "output_type": "execute_result"
        }
      ],
      "source": [
        "upper_place = place.upper()\n",
        "\n",
        "upper_place"
      ]
    },
    {
      "cell_type": "code",
      "execution_count": null,
      "metadata": {
        "id": "BQL175r747sG",
        "outputId": "a2df8354-3bfd-464d-da3a-d8cebe7ffa8c"
      },
      "outputs": [
        {
          "data": {
            "text/plain": [
              "2"
            ]
          },
          "execution_count": 33,
          "metadata": {},
          "output_type": "execute_result"
        }
      ],
      "source": [
        "upper_place.count('Y')"
      ]
    },
    {
      "cell_type": "code",
      "execution_count": null,
      "metadata": {
        "id": "MbSzY4jo47sH",
        "outputId": "14fa4a72-82dd-464a-d0fb-9dbc622303af"
      },
      "outputs": [
        {
          "data": {
            "text/plain": [
              "False"
            ]
          },
          "execution_count": 34,
          "metadata": {},
          "output_type": "execute_result"
        }
      ],
      "source": [
        "lower_place == upper_place"
      ]
    },
    {
      "cell_type": "code",
      "execution_count": null,
      "metadata": {
        "id": "Z9Q-DXWL47sH",
        "outputId": "162aeb94-237f-4693-f08e-4e2fe6141a13"
      },
      "outputs": [
        {
          "data": {
            "text/plain": [
              "False"
            ]
          },
          "execution_count": 35,
          "metadata": {},
          "output_type": "execute_result"
        }
      ],
      "source": [
        "place == upper_place"
      ]
    },
    {
      "cell_type": "code",
      "execution_count": null,
      "metadata": {
        "id": "uZUO4IHJ47sH",
        "outputId": "0f7238fe-1031-436c-d222-c7c97d685eec"
      },
      "outputs": [
        {
          "data": {
            "text/plain": [
              "9"
            ]
          },
          "execution_count": 36,
          "metadata": {},
          "output_type": "execute_result"
        }
      ],
      "source": [
        "place.find('C')"
      ]
    },
    {
      "cell_type": "code",
      "execution_count": null,
      "metadata": {
        "id": "oqv499oP47sH",
        "outputId": "18106465-1e29-4627-f5ef-54d9741b6245"
      },
      "outputs": [
        {
          "data": {
            "text/plain": [
              "4"
            ]
          },
          "execution_count": 37,
          "metadata": {},
          "output_type": "execute_result"
        }
      ],
      "source": [
        "place.find('York')"
      ]
    },
    {
      "cell_type": "code",
      "execution_count": null,
      "metadata": {
        "id": "K42qpcxB47sI",
        "outputId": "c445de5b-b955-40a7-a4ee-b60992165f46"
      },
      "outputs": [
        {
          "data": {
            "text/plain": [
              "4"
            ]
          },
          "execution_count": 38,
          "metadata": {},
          "output_type": "execute_result"
        }
      ],
      "source": [
        "place.index('Y')"
      ]
    },
    {
      "cell_type": "code",
      "execution_count": null,
      "metadata": {
        "id": "fZi8uONu47sI",
        "outputId": "5c4b0b7e-3cfd-4e71-cc26-94ebf05c20b4"
      },
      "outputs": [
        {
          "ename": "ValueError",
          "evalue": "substring not found",
          "output_type": "error",
          "traceback": [
            "\u001b[0;31m---------------------------------------------------------------------------\u001b[0m",
            "\u001b[0;31mValueError\u001b[0m                                Traceback (most recent call last)",
            "\u001b[0;32m<ipython-input-39-f13916badec9>\u001b[0m in \u001b[0;36m<module>\u001b[0;34m()\u001b[0m\n\u001b[0;32m----> 1\u001b[0;31m \u001b[0mplace\u001b[0m\u001b[0;34m.\u001b[0m\u001b[0mindex\u001b[0m\u001b[0;34m(\u001b[0m\u001b[0;34m'c'\u001b[0m\u001b[0;34m)\u001b[0m\u001b[0;34m\u001b[0m\u001b[0;34m\u001b[0m\u001b[0m\n\u001b[0m",
            "\u001b[0;31mValueError\u001b[0m: substring not found"
          ]
        }
      ],
      "source": [
        "place.index('c')"
      ]
    },
    {
      "cell_type": "code",
      "execution_count": null,
      "metadata": {
        "id": "8aQukrSC47sI",
        "outputId": "24198dfd-b01c-478a-989a-44dac4f9a31a"
      },
      "outputs": [
        {
          "data": {
            "text/plain": [
              "-1"
            ]
          },
          "execution_count": 40,
          "metadata": {},
          "output_type": "execute_result"
        }
      ],
      "source": [
        "place.find('c')"
      ]
    },
    {
      "cell_type": "code",
      "execution_count": null,
      "metadata": {
        "id": "zz-BblF147sJ",
        "outputId": "8c94e55c-7f4c-4dcf-deba-87831953a3d5"
      },
      "outputs": [
        {
          "data": {
            "text/plain": [
              "['New Yor', ' City']"
            ]
          },
          "execution_count": 41,
          "metadata": {},
          "output_type": "execute_result"
        }
      ],
      "source": [
        "split_place = place.split('k')\n",
        "\n",
        "split_place"
      ]
    },
    {
      "cell_type": "code",
      "execution_count": null,
      "metadata": {
        "id": "UBiMciGf47sJ",
        "outputId": "b9b539e9-5840-4b59-f5da-d1a3d49e721e"
      },
      "outputs": [
        {
          "data": {
            "text/plain": [
              "2"
            ]
          },
          "execution_count": 42,
          "metadata": {},
          "output_type": "execute_result"
        }
      ],
      "source": [
        "place.count(' ')"
      ]
    },
    {
      "cell_type": "code",
      "execution_count": null,
      "metadata": {
        "id": "mNURV1Yb47sJ"
      },
      "outputs": [],
      "source": [
        "split_place = place.split(' ')"
      ]
    },
    {
      "cell_type": "code",
      "execution_count": null,
      "metadata": {
        "id": "LpvMM23H47sK",
        "outputId": "9271bc08-cb37-4110-b2aa-26b4ae29a846"
      },
      "outputs": [
        {
          "data": {
            "text/plain": [
              "['New', 'York', 'City']"
            ]
          },
          "execution_count": 44,
          "metadata": {},
          "output_type": "execute_result"
        }
      ],
      "source": [
        "split_place "
      ]
    },
    {
      "cell_type": "code",
      "execution_count": null,
      "metadata": {
        "id": "5-0m4J1z47sK",
        "outputId": "51c26881-a3fb-413c-f170-c135ebd94bb2"
      },
      "outputs": [
        {
          "data": {
            "text/plain": [
              "3"
            ]
          },
          "execution_count": 45,
          "metadata": {},
          "output_type": "execute_result"
        }
      ],
      "source": [
        "len(split_place)"
      ]
    },
    {
      "cell_type": "code",
      "execution_count": null,
      "metadata": {
        "id": "SkOyMfpf47sL",
        "outputId": "dec78aa1-202e-44a7-ec87-8ec1ae6cb678"
      },
      "outputs": [
        {
          "data": {
            "text/plain": [
              "'New,York,City'"
            ]
          },
          "execution_count": 46,
          "metadata": {},
          "output_type": "execute_result"
        }
      ],
      "source": [
        "join_char = ','\n",
        "\n",
        "join_char.join(split_place)"
      ]
    },
    {
      "cell_type": "code",
      "execution_count": null,
      "metadata": {
        "id": "g2gLgJ-x47sM",
        "outputId": "ed1c5edb-ef61-4ab2-d833-99a5df925856"
      },
      "outputs": [
        {
          "data": {
            "text/plain": [
              "'New York City'"
            ]
          },
          "execution_count": 47,
          "metadata": {},
          "output_type": "execute_result"
        }
      ],
      "source": [
        "join_char1 = ' '\n",
        "\n",
        "join_char1.join(split_place)"
      ]
    },
    {
      "cell_type": "code",
      "execution_count": null,
      "metadata": {
        "id": "Oq1FK4h_47sM",
        "outputId": "3d20cb82-8e87-4e26-ee38-ce552c46cdbd"
      },
      "outputs": [
        {
          "data": {
            "text/plain": [
              "'New|York|City'"
            ]
          },
          "execution_count": 48,
          "metadata": {},
          "output_type": "execute_result"
        }
      ],
      "source": [
        "\"|\".join(split_place)"
      ]
    },
    {
      "cell_type": "code",
      "execution_count": null,
      "metadata": {
        "id": "xttneVg647sN"
      },
      "outputs": [],
      "source": [
        ""
      ]
    },
    {
      "cell_type": "code",
      "execution_count": null,
      "metadata": {
        "id": "KVL4vpS247sN"
      },
      "outputs": [],
      "source": [
        ""
      ]
    },
    {
      "cell_type": "code",
      "execution_count": null,
      "metadata": {
        "id": "YkiCqwvf47sN"
      },
      "outputs": [],
      "source": [
        ""
      ]
    },
    {
      "cell_type": "code",
      "execution_count": null,
      "metadata": {
        "id": "0CamcW6e47sN"
      },
      "outputs": [],
      "source": [
        ""
      ]
    },
    {
      "cell_type": "code",
      "execution_count": null,
      "metadata": {
        "id": "ZBGolJ_147sN"
      },
      "outputs": [],
      "source": [
        ""
      ]
    },
    {
      "cell_type": "code",
      "execution_count": null,
      "metadata": {
        "id": "0KDu0Xj647sN"
      },
      "outputs": [],
      "source": [
        ""
      ]
    },
    {
      "cell_type": "code",
      "execution_count": null,
      "metadata": {
        "id": "MJ_n4d4047sO",
        "outputId": "7d485aef-b206-474b-bc12-11c11ad9d1f5"
      },
      "outputs": [
        {
          "name": "stdout",
          "output_type": "stream",
          "text": [
            "World\n"
          ]
        }
      ],
      "source": [
        "print('World')"
      ]
    },
    {
      "cell_type": "code",
      "execution_count": null,
      "metadata": {
        "id": "Y_5DmtIl47sO",
        "outputId": "c66c36a1-bd54-4ca7-8bb1-a0c6d7243891"
      },
      "outputs": [
        {
          "data": {
            "text/plain": [
              "'World'"
            ]
          },
          "execution_count": 2,
          "metadata": {},
          "output_type": "execute_result"
        }
      ],
      "source": [
        "x = 'World'\n",
        "\n",
        "x"
      ]
    },
    {
      "cell_type": "code",
      "execution_count": null,
      "metadata": {
        "id": "SvYkgRrn47sO",
        "outputId": "e33ab6e0-8bdb-4660-c2cb-5a66e186bf21"
      },
      "outputs": [
        {
          "data": {
            "text/plain": [
              "'W'"
            ]
          },
          "execution_count": 3,
          "metadata": {},
          "output_type": "execute_result"
        }
      ],
      "source": [
        "x[0]"
      ]
    },
    {
      "cell_type": "code",
      "execution_count": null,
      "metadata": {
        "id": "mNXZKTgR47sO",
        "outputId": "a170ac5a-40e3-4cbf-9aed-af740b7cd000"
      },
      "outputs": [
        {
          "data": {
            "text/plain": [
              "'l'"
            ]
          },
          "execution_count": 4,
          "metadata": {},
          "output_type": "execute_result"
        }
      ],
      "source": [
        "x[3]"
      ]
    },
    {
      "cell_type": "code",
      "execution_count": null,
      "metadata": {
        "id": "YJ1jiQre47sP",
        "outputId": "60d57d7e-96e9-48e7-a39f-9f3621b44ab8"
      },
      "outputs": [
        {
          "ename": "IndexError",
          "evalue": "string index out of range",
          "output_type": "error",
          "traceback": [
            "\u001b[0;31m---------------------------------------------------------------------------\u001b[0m",
            "\u001b[0;31mIndexError\u001b[0m                                Traceback (most recent call last)",
            "\u001b[0;32m<ipython-input-5-04aa5bc9ecce>\u001b[0m in \u001b[0;36m<module>\u001b[0;34m()\u001b[0m\n\u001b[0;32m----> 1\u001b[0;31m \u001b[0mx\u001b[0m\u001b[0;34m[\u001b[0m\u001b[0;36m6\u001b[0m\u001b[0;34m]\u001b[0m\u001b[0;34m\u001b[0m\u001b[0;34m\u001b[0m\u001b[0m\n\u001b[0m",
            "\u001b[0;31mIndexError\u001b[0m: string index out of range"
          ]
        }
      ],
      "source": [
        "x[6]"
      ]
    },
    {
      "cell_type": "code",
      "execution_count": null,
      "metadata": {
        "id": "rF6ihjk-47sP",
        "outputId": "cdd3e782-3ac7-4a25-fa6b-79fe959c594f"
      },
      "outputs": [
        {
          "ename": "TypeError",
          "evalue": "'str' object does not support item assignment",
          "output_type": "error",
          "traceback": [
            "\u001b[0;31m---------------------------------------------------------------------------\u001b[0m",
            "\u001b[0;31mTypeError\u001b[0m                                 Traceback (most recent call last)",
            "\u001b[0;32m<ipython-input-6-3d0efcc40298>\u001b[0m in \u001b[0;36m<module>\u001b[0;34m()\u001b[0m\n\u001b[0;32m----> 1\u001b[0;31m \u001b[0mx\u001b[0m\u001b[0;34m[\u001b[0m\u001b[0;36m0\u001b[0m\u001b[0;34m]\u001b[0m \u001b[0;34m=\u001b[0m \u001b[0;34m'B'\u001b[0m\u001b[0;34m\u001b[0m\u001b[0;34m\u001b[0m\u001b[0m\n\u001b[0m",
            "\u001b[0;31mTypeError\u001b[0m: 'str' object does not support item assignment"
          ]
        }
      ],
      "source": [
        "x[0] = 'B'"
      ]
    },
    {
      "cell_type": "code",
      "execution_count": null,
      "metadata": {
        "id": "mT86a-DD47sP",
        "outputId": "4d182d6d-2be0-4975-a466-5bbb1f8f6748"
      },
      "outputs": [
        {
          "name": "stdout",
          "output_type": "stream",
          "text": [
            "W\n"
          ]
        }
      ],
      "source": [
        "a, b, c, d, e = x\n",
        "\n",
        "print(a)"
      ]
    },
    {
      "cell_type": "code",
      "execution_count": null,
      "metadata": {
        "id": "3NEkliyB47sP",
        "outputId": "ab452bcb-672e-4b30-e014-ef1b9d482046"
      },
      "outputs": [
        {
          "data": {
            "text/plain": [
              "('W', 'o', 'r', 'l', 'd')"
            ]
          },
          "execution_count": 8,
          "metadata": {},
          "output_type": "execute_result"
        }
      ],
      "source": [
        "a, b, c, d, e"
      ]
    },
    {
      "cell_type": "code",
      "execution_count": null,
      "metadata": {
        "id": "ZZ9Wv2GE47sQ",
        "outputId": "f4439635-1f32-4ce5-c756-96d13eb6737d"
      },
      "outputs": [
        {
          "ename": "ValueError",
          "evalue": "too many values to unpack (expected 4)",
          "output_type": "error",
          "traceback": [
            "\u001b[0;31m---------------------------------------------------------------------------\u001b[0m",
            "\u001b[0;31mValueError\u001b[0m                                Traceback (most recent call last)",
            "\u001b[0;32m<ipython-input-9-a39ad1354afd>\u001b[0m in \u001b[0;36m<module>\u001b[0;34m()\u001b[0m\n\u001b[0;32m----> 1\u001b[0;31m \u001b[0ma\u001b[0m\u001b[0;34m,\u001b[0m \u001b[0mb\u001b[0m\u001b[0;34m,\u001b[0m \u001b[0mc\u001b[0m\u001b[0;34m,\u001b[0m \u001b[0md\u001b[0m \u001b[0;34m=\u001b[0m \u001b[0mx\u001b[0m\u001b[0;34m\u001b[0m\u001b[0;34m\u001b[0m\u001b[0m\n\u001b[0m",
            "\u001b[0;31mValueError\u001b[0m: too many values to unpack (expected 4)"
          ]
        }
      ],
      "source": [
        "a, b, c, d = x"
      ]
    },
    {
      "cell_type": "code",
      "execution_count": null,
      "metadata": {
        "id": "6xB74xuC47sQ",
        "outputId": "9b2452a2-7cc2-473f-f9c4-e713091358d9"
      },
      "outputs": [
        {
          "name": "stdout",
          "output_type": "stream",
          "text": [
            "o\n"
          ]
        }
      ],
      "source": [
        "a, b,_ ,_ ,_ = x\n",
        "\n",
        "print(b)"
      ]
    },
    {
      "cell_type": "code",
      "execution_count": null,
      "metadata": {
        "id": "drpZJFCx47sQ",
        "outputId": "f9947a98-cec1-4599-e6e0-b066984c5be6"
      },
      "outputs": [
        {
          "name": "stdout",
          "output_type": "stream",
          "text": [
            "How are you?: ok\n"
          ]
        },
        {
          "data": {
            "text/plain": [
              "'ok'"
            ]
          },
          "execution_count": 11,
          "metadata": {},
          "output_type": "execute_result"
        }
      ],
      "source": [
        "input('How are you?: ')"
      ]
    },
    {
      "cell_type": "code",
      "execution_count": null,
      "metadata": {
        "id": "cnx-IkZj47sQ",
        "outputId": "caa33293-50b2-4478-bab2-c05fbe00ddc2"
      },
      "outputs": [
        {
          "name": "stdout",
          "output_type": "stream",
          "text": [
            "Where are you from?: New York City\n"
          ]
        }
      ],
      "source": [
        "place = input('Where are you from?: ')"
      ]
    },
    {
      "cell_type": "code",
      "execution_count": null,
      "metadata": {
        "id": "gcJLGWAk47sR",
        "outputId": "362a8eaa-c4c6-4bc6-8f32-6fd5ce88873d"
      },
      "outputs": [
        {
          "data": {
            "text/plain": [
              "'New York City'"
            ]
          },
          "execution_count": 13,
          "metadata": {},
          "output_type": "execute_result"
        }
      ],
      "source": [
        "place "
      ]
    },
    {
      "cell_type": "code",
      "execution_count": null,
      "metadata": {
        "id": "4jMQlRyD47sR",
        "outputId": "2f352f83-17fc-484d-e914-d995560b20db"
      },
      "outputs": [
        {
          "data": {
            "text/plain": [
              "13"
            ]
          },
          "execution_count": 14,
          "metadata": {},
          "output_type": "execute_result"
        }
      ],
      "source": [
        "len(place)"
      ]
    },
    {
      "cell_type": "code",
      "execution_count": null,
      "metadata": {
        "id": "9tt6VmUv47sR",
        "outputId": "0aecc033-cbba-449d-cbcf-b22f03cabcd8"
      },
      "outputs": [
        {
          "data": {
            "text/plain": [
              "'City'"
            ]
          },
          "execution_count": 15,
          "metadata": {},
          "output_type": "execute_result"
        }
      ],
      "source": [
        "place[9:]"
      ]
    },
    {
      "cell_type": "code",
      "execution_count": null,
      "metadata": {
        "id": "93r0b4F447sS",
        "outputId": "bab524a5-120a-4a09-95f4-65749e65ec14"
      },
      "outputs": [
        {
          "data": {
            "text/plain": [
              "'City'"
            ]
          },
          "execution_count": 16,
          "metadata": {},
          "output_type": "execute_result"
        }
      ],
      "source": [
        "place[-4:]"
      ]
    },
    {
      "cell_type": "code",
      "execution_count": null,
      "metadata": {
        "id": "0BX43Nfo47sS",
        "outputId": "dd292aef-7ebd-41cd-ca19-077556131563"
      },
      "outputs": [
        {
          "data": {
            "text/plain": [
              "'York '"
            ]
          },
          "execution_count": 17,
          "metadata": {},
          "output_type": "execute_result"
        }
      ],
      "source": [
        "place[4:-4]"
      ]
    },
    {
      "cell_type": "code",
      "execution_count": null,
      "metadata": {
        "id": "CDvbnu_k47sS",
        "outputId": "e032a4e0-577f-4e1b-f3ac-f97a94fd2bf4"
      },
      "outputs": [
        {
          "data": {
            "text/plain": [
              "'NwYr'"
            ]
          },
          "execution_count": 18,
          "metadata": {},
          "output_type": "execute_result"
        }
      ],
      "source": [
        "place[0:8:2]"
      ]
    },
    {
      "cell_type": "code",
      "execution_count": null,
      "metadata": {
        "id": "neLJqAgH47sT",
        "outputId": "cd2b13dd-6424-4201-ff67-a60127b12758"
      },
      "outputs": [
        {
          "data": {
            "text/plain": [
              "'York '"
            ]
          },
          "execution_count": 19,
          "metadata": {},
          "output_type": "execute_result"
        }
      ],
      "source": [
        "place[4:-4]"
      ]
    },
    {
      "cell_type": "code",
      "execution_count": null,
      "metadata": {
        "id": "o642STAp47sT",
        "outputId": "7615eb24-9388-467c-ff59-aeefda021d7b"
      },
      "outputs": [
        {
          "data": {
            "text/plain": [
              "'New York City'"
            ]
          },
          "execution_count": 20,
          "metadata": {},
          "output_type": "execute_result"
        }
      ],
      "source": [
        "place[::1]"
      ]
    },
    {
      "cell_type": "code",
      "execution_count": null,
      "metadata": {
        "id": "Drl6OK-Z47sT",
        "outputId": "f3e762ea-0759-4ceb-f5c1-c51497eac36f"
      },
      "outputs": [
        {
          "data": {
            "text/plain": [
              "'ytiC kroY weN'"
            ]
          },
          "execution_count": 21,
          "metadata": {},
          "output_type": "execute_result"
        }
      ],
      "source": [
        "place[::-1]"
      ]
    },
    {
      "cell_type": "code",
      "execution_count": null,
      "metadata": {
        "id": "F3xI_G8c47sT",
        "outputId": "79401c01-2fc5-48d4-a4d9-5247f2fbef96"
      },
      "outputs": [
        {
          "data": {
            "text/plain": [
              "'New York'"
            ]
          },
          "execution_count": 22,
          "metadata": {},
          "output_type": "execute_result"
        }
      ],
      "source": [
        "place[:8]"
      ]
    },
    {
      "cell_type": "code",
      "execution_count": null,
      "metadata": {
        "id": "eAbwCKJW47sU"
      },
      "outputs": [],
      "source": [
        "city = place[:8]"
      ]
    },
    {
      "cell_type": "code",
      "execution_count": null,
      "metadata": {
        "id": "b7J8crI647sU"
      },
      "outputs": [],
      "source": [
        "del city "
      ]
    },
    {
      "cell_type": "code",
      "execution_count": null,
      "metadata": {
        "id": "lnzbNY3Q47sU",
        "outputId": "5ce59d1b-90e9-47bb-c5ca-5b562df95873"
      },
      "outputs": [
        {
          "ename": "NameError",
          "evalue": "name 'city' is not defined",
          "output_type": "error",
          "traceback": [
            "\u001b[0;31m---------------------------------------------------------------------------\u001b[0m",
            "\u001b[0;31mNameError\u001b[0m                                 Traceback (most recent call last)",
            "\u001b[0;32m<ipython-input-25-6a177a2862af>\u001b[0m in \u001b[0;36m<module>\u001b[0;34m()\u001b[0m\n\u001b[0;32m----> 1\u001b[0;31m \u001b[0mcity\u001b[0m\u001b[0;34m\u001b[0m\u001b[0;34m\u001b[0m\u001b[0m\n\u001b[0m",
            "\u001b[0;31mNameError\u001b[0m: name 'city' is not defined"
          ]
        }
      ],
      "source": [
        "city"
      ]
    },
    {
      "cell_type": "code",
      "execution_count": null,
      "metadata": {
        "id": "WUIuCvQk47sU",
        "outputId": "71ef58ce-ebca-4c1f-9d1c-814b85481682"
      },
      "outputs": [
        {
          "name": "stdout",
          "output_type": "stream",
          "text": [
            "True\n"
          ]
        }
      ],
      "source": [
        "print(place.startswith('N'))"
      ]
    },
    {
      "cell_type": "code",
      "execution_count": null,
      "metadata": {
        "id": "giJ6d1ra47sV",
        "outputId": "e18381ce-55e3-4cfd-f79d-d20caba026d1"
      },
      "outputs": [
        {
          "name": "stdout",
          "output_type": "stream",
          "text": [
            "False\n"
          ]
        }
      ],
      "source": [
        "print(place.startswith('n'))"
      ]
    },
    {
      "cell_type": "code",
      "execution_count": null,
      "metadata": {
        "id": "-T-u0oHS47sV",
        "outputId": "cd2a670d-49f7-45c4-ea9e-282b8a6cea33"
      },
      "outputs": [
        {
          "name": "stdout",
          "output_type": "stream",
          "text": [
            "True\n"
          ]
        }
      ],
      "source": [
        "print(place.endswith('y'))"
      ]
    },
    {
      "cell_type": "code",
      "execution_count": null,
      "metadata": {
        "id": "cn8knH2-47sV",
        "outputId": "480841f1-e6b3-478b-c5ca-38f2f0c3d2ce"
      },
      "outputs": [
        {
          "name": "stdout",
          "output_type": "stream",
          "text": [
            "True\n"
          ]
        }
      ],
      "source": [
        "print(place.endswith('City'))"
      ]
    },
    {
      "cell_type": "code",
      "execution_count": null,
      "metadata": {
        "id": "tKUiPDTn47sV",
        "outputId": "f98d1341-8ea3-432a-903c-83f08032f7bf"
      },
      "outputs": [
        {
          "data": {
            "text/plain": [
              "1"
            ]
          },
          "execution_count": 30,
          "metadata": {},
          "output_type": "execute_result"
        }
      ],
      "source": [
        "place.count('y')"
      ]
    },
    {
      "cell_type": "code",
      "execution_count": null,
      "metadata": {
        "id": "ilZURmHW47sW",
        "outputId": "260bb51d-c3d2-4108-f696-c67eb40c82a4"
      },
      "outputs": [
        {
          "data": {
            "text/plain": [
              "'new york city'"
            ]
          },
          "execution_count": 31,
          "metadata": {},
          "output_type": "execute_result"
        }
      ],
      "source": [
        "lower_place = place.lower()\n",
        "\n",
        "lower_place"
      ]
    },
    {
      "cell_type": "code",
      "execution_count": null,
      "metadata": {
        "id": "rd0GcPJ847sW",
        "outputId": "2fa563df-7c4e-430d-cd56-c8bbc656b738"
      },
      "outputs": [
        {
          "data": {
            "text/plain": [
              "'NEW YORK CITY'"
            ]
          },
          "execution_count": 32,
          "metadata": {},
          "output_type": "execute_result"
        }
      ],
      "source": [
        "upper_place = place.upper()\n",
        "\n",
        "upper_place"
      ]
    },
    {
      "cell_type": "code",
      "execution_count": null,
      "metadata": {
        "id": "DzLZQvmh47sX",
        "outputId": "1038c94a-efbc-40bb-d5aa-90949cf226d6"
      },
      "outputs": [
        {
          "data": {
            "text/plain": [
              "2"
            ]
          },
          "execution_count": 33,
          "metadata": {},
          "output_type": "execute_result"
        }
      ],
      "source": [
        "upper_place.count('Y')"
      ]
    },
    {
      "cell_type": "code",
      "execution_count": null,
      "metadata": {
        "id": "5j-V4uTB47sX",
        "outputId": "53efd4b2-9942-442b-a27a-04e2bc72b108"
      },
      "outputs": [
        {
          "data": {
            "text/plain": [
              "False"
            ]
          },
          "execution_count": 34,
          "metadata": {},
          "output_type": "execute_result"
        }
      ],
      "source": [
        "lower_place == upper_place"
      ]
    },
    {
      "cell_type": "code",
      "execution_count": null,
      "metadata": {
        "id": "qlDeXBgi47sY",
        "outputId": "344206df-50bc-404b-b0b4-07890e41c938"
      },
      "outputs": [
        {
          "data": {
            "text/plain": [
              "False"
            ]
          },
          "execution_count": 35,
          "metadata": {},
          "output_type": "execute_result"
        }
      ],
      "source": [
        "place == upper_place"
      ]
    },
    {
      "cell_type": "code",
      "execution_count": null,
      "metadata": {
        "id": "LXCaZAAt47sY",
        "outputId": "c30ba4ef-5ce0-4a97-dd54-2117aa8c4d16"
      },
      "outputs": [
        {
          "data": {
            "text/plain": [
              "9"
            ]
          },
          "execution_count": 36,
          "metadata": {},
          "output_type": "execute_result"
        }
      ],
      "source": [
        "place.find('C')"
      ]
    },
    {
      "cell_type": "code",
      "execution_count": null,
      "metadata": {
        "id": "KaVYOzPk47sZ",
        "outputId": "301ac372-93ad-4da4-d1bf-390d70afdfc1"
      },
      "outputs": [
        {
          "data": {
            "text/plain": [
              "4"
            ]
          },
          "execution_count": 37,
          "metadata": {},
          "output_type": "execute_result"
        }
      ],
      "source": [
        "place.find('York')"
      ]
    },
    {
      "cell_type": "code",
      "execution_count": null,
      "metadata": {
        "id": "k4fIqGSd47sZ",
        "outputId": "33e2614b-7cb9-45d6-f458-14bd268c12dd"
      },
      "outputs": [
        {
          "data": {
            "text/plain": [
              "4"
            ]
          },
          "execution_count": 38,
          "metadata": {},
          "output_type": "execute_result"
        }
      ],
      "source": [
        "place.index('Y')"
      ]
    },
    {
      "cell_type": "code",
      "execution_count": null,
      "metadata": {
        "id": "MY259VCY47sa",
        "outputId": "c4f4ee51-2ddd-44dd-b31c-876e8d18f0a4"
      },
      "outputs": [
        {
          "ename": "ValueError",
          "evalue": "substring not found",
          "output_type": "error",
          "traceback": [
            "\u001b[0;31m---------------------------------------------------------------------------\u001b[0m",
            "\u001b[0;31mValueError\u001b[0m                                Traceback (most recent call last)",
            "\u001b[0;32m<ipython-input-39-f13916badec9>\u001b[0m in \u001b[0;36m<module>\u001b[0;34m()\u001b[0m\n\u001b[0;32m----> 1\u001b[0;31m \u001b[0mplace\u001b[0m\u001b[0;34m.\u001b[0m\u001b[0mindex\u001b[0m\u001b[0;34m(\u001b[0m\u001b[0;34m'c'\u001b[0m\u001b[0;34m)\u001b[0m\u001b[0;34m\u001b[0m\u001b[0;34m\u001b[0m\u001b[0m\n\u001b[0m",
            "\u001b[0;31mValueError\u001b[0m: substring not found"
          ]
        }
      ],
      "source": [
        "place.index('c')"
      ]
    },
    {
      "cell_type": "code",
      "execution_count": null,
      "metadata": {
        "id": "uTZGEWiY47sa",
        "outputId": "9438a16d-e8cd-406c-eb79-f0debae578b4"
      },
      "outputs": [
        {
          "data": {
            "text/plain": [
              "-1"
            ]
          },
          "execution_count": 40,
          "metadata": {},
          "output_type": "execute_result"
        }
      ],
      "source": [
        "place.find('c')"
      ]
    },
    {
      "cell_type": "code",
      "execution_count": null,
      "metadata": {
        "id": "E2nJL_4C47sa",
        "outputId": "dc22fd0c-1360-428d-b07c-e221dffed9d4"
      },
      "outputs": [
        {
          "data": {
            "text/plain": [
              "['New Yor', ' City']"
            ]
          },
          "execution_count": 41,
          "metadata": {},
          "output_type": "execute_result"
        }
      ],
      "source": [
        "split_place = place.split('k')\n",
        "\n",
        "split_place"
      ]
    },
    {
      "cell_type": "code",
      "execution_count": null,
      "metadata": {
        "id": "AibYLfp847sa",
        "outputId": "ca681283-268f-43ae-cbcf-11f761b28a7a"
      },
      "outputs": [
        {
          "data": {
            "text/plain": [
              "2"
            ]
          },
          "execution_count": 42,
          "metadata": {},
          "output_type": "execute_result"
        }
      ],
      "source": [
        "place.count(' ')"
      ]
    },
    {
      "cell_type": "code",
      "execution_count": null,
      "metadata": {
        "id": "YjM-3vCp47sa"
      },
      "outputs": [],
      "source": [
        "split_place = place.split(' ')"
      ]
    },
    {
      "cell_type": "code",
      "execution_count": null,
      "metadata": {
        "id": "N7u8X6Xw47sb",
        "outputId": "478eca0f-a8cc-4881-b7e1-e00da63463b9"
      },
      "outputs": [
        {
          "data": {
            "text/plain": [
              "['New', 'York', 'City']"
            ]
          },
          "execution_count": 44,
          "metadata": {},
          "output_type": "execute_result"
        }
      ],
      "source": [
        "split_place "
      ]
    },
    {
      "cell_type": "code",
      "execution_count": null,
      "metadata": {
        "id": "foxLW8LM47sb",
        "outputId": "0e224cee-cada-48e0-887a-a1da9b23f47c"
      },
      "outputs": [
        {
          "data": {
            "text/plain": [
              "3"
            ]
          },
          "execution_count": 45,
          "metadata": {},
          "output_type": "execute_result"
        }
      ],
      "source": [
        "len(split_place)"
      ]
    },
    {
      "cell_type": "code",
      "execution_count": null,
      "metadata": {
        "id": "75wUj2fc47sb",
        "outputId": "c1cf1501-df2d-4f05-a42f-befae8ebdf5a"
      },
      "outputs": [
        {
          "data": {
            "text/plain": [
              "'New,York,City'"
            ]
          },
          "execution_count": 46,
          "metadata": {},
          "output_type": "execute_result"
        }
      ],
      "source": [
        "join_char = ','\n",
        "\n",
        "join_char.join(split_place)"
      ]
    },
    {
      "cell_type": "code",
      "execution_count": null,
      "metadata": {
        "id": "_QuwdEK147sb",
        "outputId": "207e8ea5-09ca-443e-8986-d4cc31a2c7d9"
      },
      "outputs": [
        {
          "data": {
            "text/plain": [
              "'New York City'"
            ]
          },
          "execution_count": 47,
          "metadata": {},
          "output_type": "execute_result"
        }
      ],
      "source": [
        "join_char1 = ' '\n",
        "\n",
        "join_char1.join(split_place)"
      ]
    },
    {
      "cell_type": "code",
      "execution_count": null,
      "metadata": {
        "id": "pQTE1y8Z47sc",
        "outputId": "aa78596f-d57e-4e75-80be-e563dc74b6b9"
      },
      "outputs": [
        {
          "data": {
            "text/plain": [
              "'New|York|City'"
            ]
          },
          "execution_count": 48,
          "metadata": {},
          "output_type": "execute_result"
        }
      ],
      "source": [
        "\"|\".join(split_place)"
      ]
    },
    {
      "cell_type": "code",
      "execution_count": null,
      "metadata": {
        "id": "GqiEXWqF47sc"
      },
      "outputs": [],
      "source": [
        ""
      ]
    },
    {
      "cell_type": "code",
      "execution_count": null,
      "metadata": {
        "id": "LXn80mk847sc"
      },
      "outputs": [],
      "source": [
        ""
      ]
    },
    {
      "cell_type": "code",
      "execution_count": null,
      "metadata": {
        "id": "JR6LFuCZ47sc"
      },
      "outputs": [],
      "source": [
        ""
      ]
    },
    {
      "cell_type": "code",
      "execution_count": null,
      "metadata": {
        "id": "0plV5BG247sc"
      },
      "outputs": [],
      "source": [
        ""
      ]
    },
    {
      "cell_type": "code",
      "execution_count": null,
      "metadata": {
        "id": "gdt0eT-j47sd"
      },
      "outputs": [],
      "source": [
        ""
      ]
    },
    {
      "cell_type": "code",
      "execution_count": null,
      "metadata": {
        "id": "07ku8P4647sd"
      },
      "outputs": [],
      "source": [
        ""
      ]
    },
    {
      "cell_type": "code",
      "execution_count": null,
      "metadata": {
        "id": "jQYw_PUn47sd",
        "outputId": "bb40af1b-a28c-474d-a810-9aafa31bc35e"
      },
      "outputs": [
        {
          "name": "stdout",
          "output_type": "stream",
          "text": [
            "Hello Python World\n"
          ]
        }
      ],
      "source": [
        "my_string = \"Hello Python World\"\n",
        "\n",
        "print (my_string[0:18])"
      ]
    },
    {
      "cell_type": "code",
      "execution_count": null,
      "metadata": {
        "id": "Is4I4T2u47sd",
        "outputId": "4cfffc44-0da4-41e6-c1ec-97926c2fe437"
      },
      "outputs": [
        {
          "name": "stdout",
          "output_type": "stream",
          "text": [
            "Hello \n"
          ]
        }
      ],
      "source": [
        "print (my_string[0:6])"
      ]
    },
    {
      "cell_type": "code",
      "execution_count": null,
      "metadata": {
        "id": "EpRYBq5u47sd",
        "outputId": "27398c2d-f72e-43f9-d029-475208d26211"
      },
      "outputs": [
        {
          "name": "stdout",
          "output_type": "stream",
          "text": [
            "Python World\n"
          ]
        }
      ],
      "source": [
        "print (my_string[6:18])"
      ]
    },
    {
      "cell_type": "code",
      "execution_count": null,
      "metadata": {
        "id": "pO8Slk7p47se",
        "outputId": "669fa1ca-d0d1-417e-999b-97948444a15d"
      },
      "outputs": [
        {
          "name": "stdout",
          "output_type": "stream",
          "text": [
            "Python\n"
          ]
        }
      ],
      "source": [
        "print (my_string[6:12])"
      ]
    },
    {
      "cell_type": "code",
      "execution_count": null,
      "metadata": {
        "id": "hDCtre2j47se",
        "outputId": "6dc18cdd-a11b-4369-b540-d540af00eb3a"
      },
      "outputs": [
        {
          "name": "stdout",
          "output_type": "stream",
          "text": [
            "HloPto ol\n"
          ]
        }
      ],
      "source": [
        "my_string = \"Hello Python World\"\n",
        "print(my_string[::2])"
      ]
    },
    {
      "cell_type": "code",
      "execution_count": null,
      "metadata": {
        "id": "hES8xMzi47se",
        "outputId": "aa661e4b-7bcc-4f7d-f293-99d59e5621db"
      },
      "outputs": [
        {
          "name": "stdout",
          "output_type": "stream",
          "text": [
            "Hello Python World\n"
          ]
        }
      ],
      "source": [
        "my_string = \"Hello Python World\"\n",
        "print(my_string[0:18:1])"
      ]
    },
    {
      "cell_type": "code",
      "execution_count": null,
      "metadata": {
        "id": "H7nBQ2Rh47se",
        "outputId": "9a4aa892-9c92-410c-b4ca-1f35086968d1"
      },
      "outputs": [
        {
          "name": "stdout",
          "output_type": "stream",
          "text": [
            "HloPto ol\n"
          ]
        }
      ],
      "source": [
        "my_string = \"Hello Python World\"\n",
        "print(my_string[0:18:2])"
      ]
    },
    {
      "cell_type": "code",
      "execution_count": null,
      "metadata": {
        "id": "AVIF5fVP47sf",
        "outputId": "86e9c21d-b1c1-4667-d756-f980ffbfe524"
      },
      "outputs": [
        {
          "name": "stdout",
          "output_type": "stream",
          "text": [
            "drWnhy le\n"
          ]
        }
      ],
      "source": [
        "my_string = \"Hello Python World\"\n",
        "print(my_string[18:0:-2])"
      ]
    },
    {
      "cell_type": "code",
      "execution_count": null,
      "metadata": {
        "id": "XD40Fn2S47sf",
        "outputId": "31546e08-cc3b-4307-9f35-5edfcd37949d"
      },
      "outputs": [
        {
          "data": {
            "text/plain": [
              "'olleH'"
            ]
          },
          "execution_count": 9,
          "metadata": {},
          "output_type": "execute_result"
        }
      ],
      "source": [
        "my_string[4::-1]"
      ]
    },
    {
      "cell_type": "code",
      "execution_count": null,
      "metadata": {
        "id": "XbztXFkL47sf",
        "outputId": "48523e66-9b5f-4940-ebd1-0ff0b3fb2084"
      },
      "outputs": [
        {
          "name": "stdout",
          "output_type": "stream",
          "text": [
            "dlroW nohtyP olleH\n"
          ]
        }
      ],
      "source": [
        "my_string = \"Hello Python World\"\n",
        "print (my_string[::-1])"
      ]
    },
    {
      "cell_type": "code",
      "execution_count": null,
      "metadata": {
        "id": "qZEsu_cZ47sg",
        "outputId": "66880ad4-5a47-49dd-980c-6f3316e93487"
      },
      "outputs": [
        {
          "data": {
            "text/plain": [
              "['Hello', 'Python', 'World']"
            ]
          },
          "execution_count": 11,
          "metadata": {},
          "output_type": "execute_result"
        }
      ],
      "source": [
        "my_string = \"Hello Python World\"\n",
        "\n",
        "some_string = my_string.split( )\n",
        "some_string"
      ]
    },
    {
      "cell_type": "code",
      "execution_count": null,
      "metadata": {
        "id": "-IaiZazE47sg",
        "outputId": "57a6b073-76b3-428f-cc1a-2103b5c3686f"
      },
      "outputs": [
        {
          "data": {
            "text/plain": [
              "'HELLO PYTHON WORLD'"
            ]
          },
          "execution_count": 12,
          "metadata": {},
          "output_type": "execute_result"
        }
      ],
      "source": [
        "my_string = \"hello python world\"\n",
        "\n",
        "my_string.upper()"
      ]
    },
    {
      "cell_type": "code",
      "execution_count": null,
      "metadata": {
        "id": "duwuWkh547sg",
        "outputId": "a4d6a905-56dc-45bf-8f72-3e92112b0083"
      },
      "outputs": [
        {
          "data": {
            "text/plain": [
              "True"
            ]
          },
          "execution_count": 13,
          "metadata": {},
          "output_type": "execute_result"
        }
      ],
      "source": [
        "\"HELLO PYTHON WORLD\".isupper()"
      ]
    },
    {
      "cell_type": "code",
      "execution_count": null,
      "metadata": {
        "id": "6_XD9a0L47sh",
        "outputId": "f05ab2ed-90fa-4a57-b293-1d246d4b45c4"
      },
      "outputs": [
        {
          "data": {
            "text/plain": [
              "'HELLO PYTHON WORLD'"
            ]
          },
          "execution_count": 14,
          "metadata": {},
          "output_type": "execute_result"
        }
      ],
      "source": [
        "my_string = \"HELLO PYTHON WORLD\"\n",
        "\n",
        "my_string"
      ]
    },
    {
      "cell_type": "code",
      "execution_count": null,
      "metadata": {
        "id": "wK-RfCCi47sh",
        "outputId": "a0fd7e46-2d2a-4f76-fe90-6076e005e59c"
      },
      "outputs": [
        {
          "data": {
            "text/plain": [
              "'hello python world'"
            ]
          },
          "execution_count": 15,
          "metadata": {},
          "output_type": "execute_result"
        }
      ],
      "source": [
        "my_string.lower()"
      ]
    },
    {
      "cell_type": "code",
      "execution_count": null,
      "metadata": {
        "id": "SB0YRP9v47si"
      },
      "outputs": [],
      "source": [
        ""
      ]
    },
    {
      "cell_type": "code",
      "execution_count": null,
      "metadata": {
        "id": "QatQJJA-47si"
      },
      "outputs": [],
      "source": [
        ""
      ]
    },
    {
      "cell_type": "code",
      "execution_count": null,
      "metadata": {
        "id": "03HUHKmV47si"
      },
      "outputs": [],
      "source": [
        ""
      ]
    },
    {
      "cell_type": "code",
      "execution_count": null,
      "metadata": {
        "id": "l3GG8ZFc47si"
      },
      "outputs": [],
      "source": [
        ""
      ]
    },
    {
      "cell_type": "code",
      "execution_count": null,
      "metadata": {
        "id": "SwC6cZvx47sj"
      },
      "outputs": [],
      "source": [
        ""
      ]
    },
    {
      "cell_type": "code",
      "execution_count": null,
      "metadata": {
        "id": "vIS5JSqD47sj"
      },
      "outputs": [],
      "source": [
        ""
      ]
    },
    {
      "cell_type": "code",
      "execution_count": null,
      "metadata": {
        "id": "rpmKmJra47sj"
      },
      "outputs": [],
      "source": [
        ""
      ]
    },
    {
      "cell_type": "code",
      "execution_count": null,
      "metadata": {
        "id": "BeWnIb9J47sj",
        "outputId": "8c300bd2-66d1-442b-bf7b-27bb4c84307d"
      },
      "outputs": [
        {
          "data": {
            "text/plain": [
              "()"
            ]
          },
          "execution_count": 1,
          "metadata": {},
          "output_type": "execute_result"
        }
      ],
      "source": [
        "my_tuple = ()\n",
        "\n",
        "my_tuple"
      ]
    },
    {
      "cell_type": "code",
      "execution_count": null,
      "metadata": {
        "id": "OdYDPZjF47sj",
        "outputId": "a2765e54-bd94-4abd-a3c7-5454ef67e51a"
      },
      "outputs": [
        {
          "data": {
            "text/plain": [
              "tuple"
            ]
          },
          "execution_count": 2,
          "metadata": {},
          "output_type": "execute_result"
        }
      ],
      "source": [
        "type(my_tuple)"
      ]
    },
    {
      "cell_type": "code",
      "execution_count": null,
      "metadata": {
        "id": "jLJyO0nG47sk",
        "outputId": "de2a5a1a-e737-4663-cab6-1015f5042580"
      },
      "outputs": [
        {
          "name": "stdout",
          "output_type": "stream",
          "text": [
            "<class 'tuple'>\n"
          ]
        }
      ],
      "source": [
        "print(type(my_tuple))"
      ]
    },
    {
      "cell_type": "code",
      "execution_count": null,
      "metadata": {
        "id": "93ATwKeB47sk",
        "outputId": "8ee91625-289f-46ca-f6c4-e979b2b0b54f"
      },
      "outputs": [
        {
          "name": "stdout",
          "output_type": "stream",
          "text": [
            "(1, 2, 3)\n"
          ]
        }
      ],
      "source": [
        "int_tuple = (1, 2, 3)\n",
        "\n",
        "print(int_tuple)"
      ]
    },
    {
      "cell_type": "code",
      "execution_count": null,
      "metadata": {
        "id": "mFiKVtVb47sk",
        "outputId": "083c871a-824b-43f9-b050-bf3b144a3013"
      },
      "outputs": [
        {
          "name": "stdout",
          "output_type": "stream",
          "text": [
            "('Hello', 'Python')\n"
          ]
        }
      ],
      "source": [
        "str_tuple = (\"Hello\", \"Python\")\n",
        "\n",
        "print(str_tuple)"
      ]
    },
    {
      "cell_type": "code",
      "execution_count": null,
      "metadata": {
        "id": "EHF_4-6f47sk",
        "outputId": "a3bc763d-6e5a-4190-e607-1f7f9ceabd6e"
      },
      "outputs": [
        {
          "name": "stdout",
          "output_type": "stream",
          "text": [
            "(1, 2, 3) ('Hello', 'Python')\n"
          ]
        }
      ],
      "source": [
        "print(int_tuple , str_tuple)"
      ]
    },
    {
      "cell_type": "code",
      "execution_count": null,
      "metadata": {
        "id": "dUw0IKJE47sl",
        "outputId": "4bddd818-0a47-4c70-d23b-54b4e36e5b4c"
      },
      "outputs": [
        {
          "name": "stdout",
          "output_type": "stream",
          "text": [
            "(1, 2, 3, 'Hello', 'Python')\n"
          ]
        }
      ],
      "source": [
        "combined_tuple = int_tuple + str_tuple\n",
        "\n",
        "print(combined_tuple)"
      ]
    },
    {
      "cell_type": "code",
      "execution_count": null,
      "metadata": {
        "id": "QMaSP0lH47sl",
        "outputId": "d23ce29b-8769-49c3-b94a-e342a2d90baa"
      },
      "outputs": [
        {
          "name": "stdout",
          "output_type": "stream",
          "text": [
            "(1, 2, 3, 10)\n"
          ]
        }
      ],
      "source": [
        "int_tuple += (10,)\n",
        "\n",
        "print(int_tuple)"
      ]
    },
    {
      "cell_type": "code",
      "execution_count": null,
      "metadata": {
        "id": "P7mu-GFf47sm",
        "outputId": "87cb6c1c-441a-446f-a3bb-a7cd048c6d4b"
      },
      "outputs": [
        {
          "name": "stdout",
          "output_type": "stream",
          "text": [
            "('Hello', 'Python', 'Hello', 'Python', 'Hello', 'Python')\n"
          ]
        }
      ],
      "source": [
        "print(str_tuple * 3)"
      ]
    },
    {
      "cell_type": "code",
      "execution_count": null,
      "metadata": {
        "id": "79_IMTg347sm",
        "outputId": "0d5254ee-d40d-476f-8d75-b6e4944227b4"
      },
      "outputs": [
        {
          "name": "stdout",
          "output_type": "stream",
          "text": [
            "(1, 'Hello', 3.4)\n"
          ]
        }
      ],
      "source": [
        "mixed_tuple = (1, \"Hello\", 3.4)\n",
        "\n",
        "print(mixed_tuple)"
      ]
    },
    {
      "cell_type": "code",
      "execution_count": null,
      "metadata": {
        "id": "1OIeHcqm47sn",
        "outputId": "6ffc2f20-afb4-4047-ef9a-160355a244ed"
      },
      "outputs": [
        {
          "name": "stdout",
          "output_type": "stream",
          "text": [
            "(1, 'Hello', 3.4)\n"
          ]
        }
      ],
      "source": [
        "my_tuple = 1, \"Hello\", 3.4\n",
        "\n",
        "print(my_tuple)"
      ]
    },
    {
      "cell_type": "code",
      "execution_count": null,
      "metadata": {
        "id": "SuKxox_l47so",
        "outputId": "0a820dd8-90bf-4078-9852-7aeb8a736619"
      },
      "outputs": [
        {
          "name": "stdout",
          "output_type": "stream",
          "text": [
            "1\n",
            "Hello\n",
            "3.4\n"
          ]
        }
      ],
      "source": [
        "a, b, c = my_tuple\n",
        "\n",
        "print(a)\n",
        "print(b)\n",
        "print(c)"
      ]
    },
    {
      "cell_type": "code",
      "execution_count": null,
      "metadata": {
        "id": "RGGd4KPv47so",
        "outputId": "b8e4826c-fb33-46cb-a941-769635b8727e"
      },
      "outputs": [
        {
          "name": "stdout",
          "output_type": "stream",
          "text": [
            "(1, 2, 3, (4, 5, 6))\n"
          ]
        }
      ],
      "source": [
        "nested_tuple = (1, 2, 3, (4, 5, 6))\n",
        "\n",
        "print(nested_tuple)"
      ]
    },
    {
      "cell_type": "code",
      "execution_count": null,
      "metadata": {
        "id": "kHUQECm047so",
        "outputId": "f8828ee2-d5de-442c-8e56-3270750690af"
      },
      "outputs": [
        {
          "name": "stdout",
          "output_type": "stream",
          "text": [
            "('mouse', [8, 4, 6], (1, 2, 3))\n"
          ]
        }
      ],
      "source": [
        "mixed_tuple = (\"mouse\", [8, 4, 6], (1, 2, 3))\n",
        "\n",
        "print(mixed_tuple)"
      ]
    },
    {
      "cell_type": "code",
      "execution_count": null,
      "metadata": {
        "id": "FYCqm8bM47sp",
        "outputId": "becb3a49-c7a0-4c49-cdf5-56e791f5f471"
      },
      "outputs": [
        {
          "data": {
            "text/plain": [
              "('p', 'e', 'r', 'm', 'i', 't')"
            ]
          },
          "execution_count": 15,
          "metadata": {},
          "output_type": "execute_result"
        }
      ],
      "source": [
        "my_tuple = ('p','e','r','m','i','t')\n",
        "\n",
        "my_tuple"
      ]
    },
    {
      "cell_type": "code",
      "execution_count": null,
      "metadata": {
        "id": "Q1HAQPJo47sp",
        "outputId": "cd6a2616-cdd7-4994-f32c-ba479fff59cc"
      },
      "outputs": [
        {
          "name": "stdout",
          "output_type": "stream",
          "text": [
            "p\n"
          ]
        }
      ],
      "source": [
        "print(my_tuple[0])"
      ]
    },
    {
      "cell_type": "code",
      "execution_count": null,
      "metadata": {
        "id": "jRUmo3xQ47sq",
        "outputId": "82ad9c34-3315-4bd0-db21-5d04aa2a7e6b"
      },
      "outputs": [
        {
          "name": "stdout",
          "output_type": "stream",
          "text": [
            "t\n"
          ]
        }
      ],
      "source": [
        "print(my_tuple[5])"
      ]
    },
    {
      "cell_type": "code",
      "execution_count": null,
      "metadata": {
        "id": "kS_-53q947sq",
        "outputId": "e8a4e9ad-c465-4573-cafe-e8e82d05607f"
      },
      "outputs": [
        {
          "ename": "IndexError",
          "evalue": "tuple index out of range",
          "output_type": "error",
          "traceback": [
            "\u001b[0;31m---------------------------------------------------------------------------\u001b[0m",
            "\u001b[0;31mIndexError\u001b[0m                                Traceback (most recent call last)",
            "\u001b[0;32m<ipython-input-18-ca4e6f2072f6>\u001b[0m in \u001b[0;36m<module>\u001b[0;34m()\u001b[0m\n\u001b[0;32m----> 1\u001b[0;31m \u001b[0mprint\u001b[0m\u001b[0;34m(\u001b[0m\u001b[0mmy_tuple\u001b[0m\u001b[0;34m[\u001b[0m\u001b[0;36m6\u001b[0m\u001b[0;34m]\u001b[0m\u001b[0;34m)\u001b[0m\u001b[0;34m\u001b[0m\u001b[0;34m\u001b[0m\u001b[0m\n\u001b[0m",
            "\u001b[0;31mIndexError\u001b[0m: tuple index out of range"
          ]
        }
      ],
      "source": [
        "print(my_tuple[6])"
      ]
    },
    {
      "cell_type": "code",
      "execution_count": null,
      "metadata": {
        "id": "23QRhrey47sr",
        "outputId": "6d846ddb-794d-496e-eeb7-a1090cd8ae1f"
      },
      "outputs": [
        {
          "data": {
            "text/plain": [
              "('mouse', [8, 4, 6], (1, 2, 3))"
            ]
          },
          "execution_count": 19,
          "metadata": {},
          "output_type": "execute_result"
        }
      ],
      "source": [
        "mixed_tuple = (\"mouse\", [8, 4, 6], (1, 2, 3))\n",
        "\n",
        "mixed_tuple"
      ]
    },
    {
      "cell_type": "code",
      "execution_count": null,
      "metadata": {
        "id": "Dq-vpkA-47ss",
        "outputId": "7e1e1373-37fd-4f94-a1f6-0b72caec85e8"
      },
      "outputs": [
        {
          "name": "stdout",
          "output_type": "stream",
          "text": [
            "mouse\n"
          ]
        }
      ],
      "source": [
        "print (mixed_tuple[0])"
      ]
    },
    {
      "cell_type": "code",
      "execution_count": null,
      "metadata": {
        "id": "lStGcQfh47st",
        "outputId": "40715fce-645d-4ac6-a279-3d5ea1f87787"
      },
      "outputs": [
        {
          "name": "stdout",
          "output_type": "stream",
          "text": [
            "s\n"
          ]
        }
      ],
      "source": [
        "print (mixed_tuple[0][3])"
      ]
    },
    {
      "cell_type": "code",
      "execution_count": null,
      "metadata": {
        "id": "SAFsik-T47st",
        "outputId": "09ffdb82-0aa7-40cf-d30b-a023a9472fcb"
      },
      "outputs": [
        {
          "ename": "TypeError",
          "evalue": "tuple indices must be integers or slices, not str",
          "output_type": "error",
          "traceback": [
            "\u001b[0;31m---------------------------------------------------------------------------\u001b[0m",
            "\u001b[0;31mTypeError\u001b[0m                                 Traceback (most recent call last)",
            "\u001b[0;32m<ipython-input-22-fac567c8664e>\u001b[0m in \u001b[0;36m<module>\u001b[0;34m()\u001b[0m\n\u001b[0;32m----> 1\u001b[0;31m \u001b[0mprint\u001b[0m \u001b[0;34m(\u001b[0m\u001b[0mmixed_tuple\u001b[0m\u001b[0;34m[\u001b[0m\u001b[0;34m's'\u001b[0m\u001b[0;34m]\u001b[0m\u001b[0;34m)\u001b[0m\u001b[0;34m\u001b[0m\u001b[0;34m\u001b[0m\u001b[0m\n\u001b[0m",
            "\u001b[0;31mTypeError\u001b[0m: tuple indices must be integers or slices, not str"
          ]
        }
      ],
      "source": [
        "print (mixed_tuple['s'])"
      ]
    },
    {
      "cell_type": "code",
      "execution_count": null,
      "metadata": {
        "id": "NA49s40R47su",
        "outputId": "bb639b44-d990-4852-e8c7-bb4a3d2bb7a5"
      },
      "outputs": [
        {
          "name": "stdout",
          "output_type": "stream",
          "text": [
            "[8, 4, 6]\n"
          ]
        }
      ],
      "source": [
        "print (mixed_tuple[1])"
      ]
    },
    {
      "cell_type": "code",
      "execution_count": null,
      "metadata": {
        "id": "UBbpMmfn47su",
        "outputId": "f0d1f749-e8f4-43ea-881d-6895ce7b5d17"
      },
      "outputs": [
        {
          "name": "stdout",
          "output_type": "stream",
          "text": [
            "8\n"
          ]
        }
      ],
      "source": [
        "print (mixed_tuple[1][0])"
      ]
    },
    {
      "cell_type": "code",
      "execution_count": null,
      "metadata": {
        "id": "ErPbbGIg47su",
        "outputId": "fe20875b-dead-4a33-866e-fa81940fc6f2"
      },
      "outputs": [
        {
          "name": "stdout",
          "output_type": "stream",
          "text": [
            "(1, 2, 3)\n"
          ]
        }
      ],
      "source": [
        "nested_tuple = mixed_tuple[2]\n",
        "\n",
        "print (nested_tuple)"
      ]
    },
    {
      "cell_type": "code",
      "execution_count": null,
      "metadata": {
        "id": "XAHA0G7347sv",
        "outputId": "c3ac22ae-0514-4bd8-e2b8-74d32c283efd"
      },
      "outputs": [
        {
          "name": "stdout",
          "output_type": "stream",
          "text": [
            "3\n"
          ]
        }
      ],
      "source": [
        "print (mixed_tuple[2][2])"
      ]
    },
    {
      "cell_type": "code",
      "execution_count": null,
      "metadata": {
        "id": "HmAdaFqL47sv",
        "outputId": "aac7c844-8b44-4ccc-f2d1-cc80a2bcd3b9"
      },
      "outputs": [
        {
          "name": "stdout",
          "output_type": "stream",
          "text": [
            "('l', 'e', 'p', 'h', 'a', 'n', 't')\n"
          ]
        }
      ],
      "source": [
        "my_tuple = ('E','l','e','p','h','a','n','t')\n",
        "\n",
        "print(my_tuple[1:])"
      ]
    },
    {
      "cell_type": "code",
      "execution_count": null,
      "metadata": {
        "id": "1PBjnXjf47sw",
        "outputId": "a1513316-23be-4c6e-ff8b-9f8ea3498de3"
      },
      "outputs": [
        {
          "name": "stdout",
          "output_type": "stream",
          "text": [
            "('e', 'p')\n"
          ]
        }
      ],
      "source": [
        "print(my_tuple[2:4])"
      ]
    },
    {
      "cell_type": "code",
      "execution_count": null,
      "metadata": {
        "id": "2OPZigl147sw",
        "outputId": "7f1ef4b4-893e-4925-f508-0d92c43e2f1e"
      },
      "outputs": [
        {
          "name": "stdout",
          "output_type": "stream",
          "text": [
            "('E', 'e', 'h', 'n')\n"
          ]
        }
      ],
      "source": [
        "print(my_tuple[::2])"
      ]
    },
    {
      "cell_type": "code",
      "execution_count": null,
      "metadata": {
        "id": "AOiKFBI247sx",
        "outputId": "abb3b5f1-4c2d-493c-eafc-fa06c4110f3a"
      },
      "outputs": [
        {
          "name": "stdout",
          "output_type": "stream",
          "text": [
            "t\n"
          ]
        }
      ],
      "source": [
        "print(my_tuple[-1])"
      ]
    },
    {
      "cell_type": "code",
      "execution_count": null,
      "metadata": {
        "id": "N_eJvB3O47sx",
        "outputId": "42f4d938-12cf-4823-b199-17ae5bcca47d"
      },
      "outputs": [
        {
          "name": "stdout",
          "output_type": "stream",
          "text": [
            "a\n"
          ]
        }
      ],
      "source": [
        "print(my_tuple[-3])"
      ]
    },
    {
      "cell_type": "code",
      "execution_count": null,
      "metadata": {
        "id": "K8rTTRgL47sy",
        "outputId": "b23783df-8fa1-4c3a-a4c8-744880166396"
      },
      "outputs": [
        {
          "name": "stdout",
          "output_type": "stream",
          "text": [
            "('t', 'n', 'a', 'h', 'p', 'e', 'l', 'E')\n"
          ]
        }
      ],
      "source": [
        "print(my_tuple[::-1])"
      ]
    },
    {
      "cell_type": "code",
      "execution_count": null,
      "metadata": {
        "id": "frOPZ6GB47sy",
        "outputId": "9d5baeb1-8852-4092-ace0-48b0a9d74630"
      },
      "outputs": [
        {
          "data": {
            "text/plain": [
              "('H', 'e', 'l', 'l', 'o')"
            ]
          },
          "execution_count": 33,
          "metadata": {},
          "output_type": "execute_result"
        }
      ],
      "source": [
        "my_tuple = ('H','e','l','l','o')\n",
        "\n",
        "my_tuple"
      ]
    },
    {
      "cell_type": "code",
      "execution_count": null,
      "metadata": {
        "id": "ycJG4QWZ47sy",
        "outputId": "d8ad089e-968b-4cd7-e08c-7e3ec4158d98"
      },
      "outputs": [
        {
          "name": "stdout",
          "output_type": "stream",
          "text": [
            "0\n"
          ]
        }
      ],
      "source": [
        "print(my_tuple.index('H'))"
      ]
    },
    {
      "cell_type": "code",
      "execution_count": null,
      "metadata": {
        "id": "ir3t-v8-47sz",
        "outputId": "5c16b087-4e6b-498d-85c7-fd517b0463c6"
      },
      "outputs": [
        {
          "name": "stdout",
          "output_type": "stream",
          "text": [
            "4\n"
          ]
        }
      ],
      "source": [
        "print(my_tuple.index('o'))"
      ]
    },
    {
      "cell_type": "code",
      "execution_count": null,
      "metadata": {
        "id": "Trv_i4bJ47sz",
        "outputId": "be96ca8e-8dd8-4ce2-d237-883ece1cdf12"
      },
      "outputs": [
        {
          "data": {
            "text/plain": [
              "('H', 'e', 'l', 'l', 'o')"
            ]
          },
          "execution_count": 36,
          "metadata": {},
          "output_type": "execute_result"
        }
      ],
      "source": [
        "my_tuple = ('H','e','l','l','o')\n",
        "\n",
        "my_tuple"
      ]
    },
    {
      "cell_type": "code",
      "execution_count": null,
      "metadata": {
        "id": "QbbhQGFb47s0",
        "outputId": "4fb30fc2-0794-4fba-b616-96a24d4e72e0"
      },
      "outputs": [
        {
          "name": "stdout",
          "output_type": "stream",
          "text": [
            "True\n"
          ]
        }
      ],
      "source": [
        "print('e' in my_tuple)"
      ]
    },
    {
      "cell_type": "code",
      "execution_count": null,
      "metadata": {
        "id": "W6AvapvY47s0",
        "outputId": "2980a84f-5353-47b6-fa60-089b9a28453e"
      },
      "outputs": [
        {
          "name": "stdout",
          "output_type": "stream",
          "text": [
            "False\n"
          ]
        }
      ],
      "source": [
        "print('t' in my_tuple)"
      ]
    },
    {
      "cell_type": "code",
      "execution_count": null,
      "metadata": {
        "id": "rpWgd3Lv47s0",
        "outputId": "f346f3b8-1912-42e5-8b77-b24379f807cb"
      },
      "outputs": [
        {
          "name": "stdout",
          "output_type": "stream",
          "text": [
            "False\n"
          ]
        }
      ],
      "source": [
        "print('e' not in my_tuple)"
      ]
    },
    {
      "cell_type": "code",
      "execution_count": null,
      "metadata": {
        "id": "AT4dIIfD47s1",
        "outputId": "7a5d7a67-0a54-48b0-c219-c44277d3fb99"
      },
      "outputs": [
        {
          "data": {
            "text/plain": [
              "6"
            ]
          },
          "execution_count": 40,
          "metadata": {},
          "output_type": "execute_result"
        }
      ],
      "source": [
        "my_tuple = ('p','y','t','h','o','n')\n",
        "\n",
        "len(my_tuple)"
      ]
    },
    {
      "cell_type": "code",
      "execution_count": null,
      "metadata": {
        "id": "y5FEQfom47s1",
        "outputId": "f8cff328-9097-4208-dd69-47a0f364ea7b"
      },
      "outputs": [
        {
          "data": {
            "text/plain": [
              "3"
            ]
          },
          "execution_count": 41,
          "metadata": {},
          "output_type": "execute_result"
        }
      ],
      "source": [
        "int_tuple = (1, 4, 9)\n",
        "\n",
        "len(int_tuple)"
      ]
    },
    {
      "cell_type": "code",
      "execution_count": null,
      "metadata": {
        "id": "WuFkSA8X47s1",
        "outputId": "a22e8c4d-56fd-4db1-956e-c3c3739a141d"
      },
      "outputs": [
        {
          "data": {
            "text/plain": [
              "3"
            ]
          },
          "execution_count": 42,
          "metadata": {},
          "output_type": "execute_result"
        }
      ],
      "source": [
        "mixed_tuple = (\"mouse\", [8, 4, 6], (1, 2, 3))\n",
        "\n",
        "len(mixed_tuple)"
      ]
    },
    {
      "cell_type": "code",
      "execution_count": null,
      "metadata": {
        "id": "h8BilBMJ47s2",
        "outputId": "07cc1b8b-5e3f-4645-9174-a4ba076e0302"
      },
      "outputs": [
        {
          "data": {
            "text/plain": [
              "'y'"
            ]
          },
          "execution_count": 43,
          "metadata": {},
          "output_type": "execute_result"
        }
      ],
      "source": [
        "max(my_tuple)"
      ]
    },
    {
      "cell_type": "code",
      "execution_count": null,
      "metadata": {
        "id": "mzCrjNhU47s3",
        "outputId": "48f4ca6f-30b6-476e-8d95-3d5c05819cd7"
      },
      "outputs": [
        {
          "data": {
            "text/plain": [
              "9"
            ]
          },
          "execution_count": 44,
          "metadata": {},
          "output_type": "execute_result"
        }
      ],
      "source": [
        "max(int_tuple)"
      ]
    },
    {
      "cell_type": "code",
      "execution_count": null,
      "metadata": {
        "id": "s1TAJIyn47s4",
        "outputId": "616a3b79-cfba-40c4-d5ca-d1c6602a52e8"
      },
      "outputs": [
        {
          "ename": "TypeError",
          "evalue": "'>' not supported between instances of 'list' and 'str'",
          "output_type": "error",
          "traceback": [
            "\u001b[0;31m---------------------------------------------------------------------------\u001b[0m",
            "\u001b[0;31mTypeError\u001b[0m                                 Traceback (most recent call last)",
            "\u001b[0;32m<ipython-input-45-d0234a0bfc54>\u001b[0m in \u001b[0;36m<module>\u001b[0;34m()\u001b[0m\n\u001b[0;32m----> 1\u001b[0;31m \u001b[0mmax\u001b[0m\u001b[0;34m(\u001b[0m\u001b[0mmixed_tuple\u001b[0m\u001b[0;34m)\u001b[0m\u001b[0;34m\u001b[0m\u001b[0;34m\u001b[0m\u001b[0m\n\u001b[0m",
            "\u001b[0;31mTypeError\u001b[0m: '>' not supported between instances of 'list' and 'str'"
          ]
        }
      ],
      "source": [
        "max(mixed_tuple)"
      ]
    },
    {
      "cell_type": "code",
      "execution_count": null,
      "metadata": {
        "id": "KhZ_iK7r47s4",
        "outputId": "98f07d90-eac6-48fc-d741-cfda93af112e"
      },
      "outputs": [
        {
          "data": {
            "text/plain": [
              "'h'"
            ]
          },
          "execution_count": 46,
          "metadata": {},
          "output_type": "execute_result"
        }
      ],
      "source": [
        "min(my_tuple)"
      ]
    },
    {
      "cell_type": "code",
      "execution_count": null,
      "metadata": {
        "id": "qNGJJotE47s5",
        "outputId": "2b81d194-98e1-4330-edac-165f2e22a754"
      },
      "outputs": [
        {
          "data": {
            "text/plain": [
              "1"
            ]
          },
          "execution_count": 47,
          "metadata": {},
          "output_type": "execute_result"
        }
      ],
      "source": [
        "min(int_tuple)"
      ]
    },
    {
      "cell_type": "code",
      "execution_count": null,
      "metadata": {
        "id": "Bq8rzp1K47s5",
        "outputId": "e1ff9624-9656-43a5-89b4-446d54d4d978"
      },
      "outputs": [
        {
          "data": {
            "text/plain": [
              "23"
            ]
          },
          "execution_count": 48,
          "metadata": {},
          "output_type": "execute_result"
        }
      ],
      "source": [
        "int_tuple = (1, 4, 9, 9)\n",
        "\n",
        "sum(int_tuple)"
      ]
    },
    {
      "cell_type": "code",
      "execution_count": null,
      "metadata": {
        "id": "omH9vpJZ47s6",
        "outputId": "568298c0-ce8d-47c4-b281-cd4f0f9d5f1c"
      },
      "outputs": [
        {
          "data": {
            "text/plain": [
              "[1, 4, 9, 9]"
            ]
          },
          "execution_count": 49,
          "metadata": {},
          "output_type": "execute_result"
        }
      ],
      "source": [
        "int_tuple = (1, 4, 9, 9)\n",
        "\n",
        "list(int_tuple)"
      ]
    },
    {
      "cell_type": "code",
      "execution_count": null,
      "metadata": {
        "id": "dYQAhcei47s6",
        "outputId": "2bad14f6-6ad0-444a-aa53-8c3bbaf8e1a3"
      },
      "outputs": [
        {
          "data": {
            "text/plain": [
              "{1, 4, 9}"
            ]
          },
          "execution_count": 50,
          "metadata": {},
          "output_type": "execute_result"
        }
      ],
      "source": [
        "int_tuple = (1, 4, 9, 9)\n",
        "\n",
        "set(int_tuple)"
      ]
    },
    {
      "cell_type": "code",
      "execution_count": null,
      "metadata": {
        "id": "uKchYg0e47s7"
      },
      "outputs": [],
      "source": [
        ""
      ]
    },
    {
      "cell_type": "code",
      "execution_count": null,
      "metadata": {
        "id": "URnSX1sw47s7"
      },
      "outputs": [],
      "source": [
        ""
      ]
    },
    {
      "cell_type": "code",
      "execution_count": null,
      "metadata": {
        "id": "BYyaYeLf47s7"
      },
      "outputs": [],
      "source": [
        ""
      ]
    },
    {
      "cell_type": "code",
      "execution_count": null,
      "metadata": {
        "id": "D51Z59lQ47s7"
      },
      "outputs": [],
      "source": [
        ""
      ]
    },
    {
      "cell_type": "code",
      "execution_count": null,
      "metadata": {
        "id": "Fsx0t7mQ47s7"
      },
      "outputs": [],
      "source": [
        ""
      ]
    },
    {
      "cell_type": "code",
      "execution_count": null,
      "metadata": {
        "id": "N8In-H3247s7",
        "outputId": "9281b952-4953-49f0-ba17-bcd97736c988"
      },
      "outputs": [
        {
          "data": {
            "text/plain": [
              "(0, 1, 2, 3)"
            ]
          },
          "execution_count": 1,
          "metadata": {},
          "output_type": "execute_result"
        }
      ],
      "source": [
        "immutable_tuple_1 = (0, 1, 2, 3) \n",
        "\n",
        "immutable_tuple_1"
      ]
    },
    {
      "cell_type": "code",
      "execution_count": null,
      "metadata": {
        "id": "tuq_H-GZ47s8",
        "outputId": "d304cd59-fe61-4ecd-fcd2-a0d942ff42b7"
      },
      "outputs": [
        {
          "ename": "TypeError",
          "evalue": "'tuple' object does not support item assignment",
          "output_type": "error",
          "traceback": [
            "\u001b[0;31m---------------------------------------------------------------------------\u001b[0m",
            "\u001b[0;31mTypeError\u001b[0m                                 Traceback (most recent call last)",
            "\u001b[0;32m<ipython-input-2-4b1442137a3e>\u001b[0m in \u001b[0;36m<module>\u001b[0;34m\u001b[0m\n\u001b[0;32m----> 1\u001b[0;31m \u001b[0mimmutable_tuple_1\u001b[0m \u001b[0;34m[\u001b[0m\u001b[0;36m0\u001b[0m\u001b[0;34m]\u001b[0m \u001b[0;34m=\u001b[0m \u001b[0;36m4\u001b[0m\u001b[0;34m\u001b[0m\u001b[0;34m\u001b[0m\u001b[0m\n\u001b[0m\u001b[1;32m      2\u001b[0m \u001b[0;34m\u001b[0m\u001b[0m\n\u001b[1;32m      3\u001b[0m \u001b[0mprint\u001b[0m\u001b[0;34m(\u001b[0m\u001b[0mimmutable_tuple\u001b[0m\u001b[0;34m)\u001b[0m\u001b[0;34m\u001b[0m\u001b[0;34m\u001b[0m\u001b[0m\n",
            "\u001b[0;31mTypeError\u001b[0m: 'tuple' object does not support item assignment"
          ]
        }
      ],
      "source": [
        "immutable_tuple_1 [0] = 4\n",
        "\n",
        "print(immutable_tuple)"
      ]
    },
    {
      "cell_type": "code",
      "execution_count": null,
      "metadata": {
        "id": "VcppHy5947s8",
        "outputId": "7cc98679-41ab-47d1-b371-04ab50f19c1b"
      },
      "outputs": [
        {
          "data": {
            "text/plain": [
              "(4, 2, 3, (6, 5))"
            ]
          },
          "execution_count": 3,
          "metadata": {},
          "output_type": "execute_result"
        }
      ],
      "source": [
        "immutable_tuple_2 = (4, 2, 3, (6, 5))\n",
        "\n",
        "immutable_tuple_2"
      ]
    },
    {
      "cell_type": "code",
      "execution_count": null,
      "metadata": {
        "id": "LaXV-qzh47s8",
        "outputId": "934fb362-a849-4b65-f0ac-8d040d49ab58"
      },
      "outputs": [
        {
          "data": {
            "text/plain": [
              "4"
            ]
          },
          "execution_count": 4,
          "metadata": {},
          "output_type": "execute_result"
        }
      ],
      "source": [
        "immutable_tuple_2[0]"
      ]
    },
    {
      "cell_type": "code",
      "execution_count": null,
      "metadata": {
        "id": "ofnkp3qp47s9",
        "outputId": "3095e033-5849-4418-fc6c-e999ad832c03"
      },
      "outputs": [
        {
          "ename": "TypeError",
          "evalue": "'tuple' object does not support item assignment",
          "output_type": "error",
          "traceback": [
            "\u001b[0;31m---------------------------------------------------------------------------\u001b[0m",
            "\u001b[0;31mTypeError\u001b[0m                                 Traceback (most recent call last)",
            "\u001b[0;32m<ipython-input-5-d125ea7307c6>\u001b[0m in \u001b[0;36m<module>\u001b[0;34m\u001b[0m\n\u001b[0;32m----> 1\u001b[0;31m \u001b[0mimmutable_tuple_2\u001b[0m\u001b[0;34m[\u001b[0m\u001b[0;36m0\u001b[0m\u001b[0;34m]\u001b[0m \u001b[0;34m=\u001b[0m \u001b[0;36m9\u001b[0m\u001b[0;34m\u001b[0m\u001b[0;34m\u001b[0m\u001b[0m\n\u001b[0m",
            "\u001b[0;31mTypeError\u001b[0m: 'tuple' object does not support item assignment"
          ]
        }
      ],
      "source": [
        "immutable_tuple_2[0] = 9"
      ]
    },
    {
      "cell_type": "code",
      "execution_count": null,
      "metadata": {
        "id": "wovD2reU47s9",
        "outputId": "1430be2e-f586-440a-f878-2b1fc629e3b4"
      },
      "outputs": [
        {
          "data": {
            "text/plain": [
              "(4, 2, 3, [6, 5])"
            ]
          },
          "execution_count": 6,
          "metadata": {},
          "output_type": "execute_result"
        }
      ],
      "source": [
        "immutable_tuple_2 = (4, 2, 3, [6, 5])\n",
        "\n",
        "immutable_tuple_2"
      ]
    },
    {
      "cell_type": "code",
      "execution_count": null,
      "metadata": {
        "id": "ic47kRPi47s9",
        "outputId": "2c4362d4-237d-4b4d-bcf3-b829c640a0da"
      },
      "outputs": [
        {
          "data": {
            "text/plain": [
              "[6, 5]"
            ]
          },
          "execution_count": 7,
          "metadata": {},
          "output_type": "execute_result"
        }
      ],
      "source": [
        "immutable_tuple_2[3]"
      ]
    },
    {
      "cell_type": "code",
      "execution_count": null,
      "metadata": {
        "id": "MnaZd-RV47s9",
        "outputId": "82399ca9-4af8-463c-e4df-aed10be79377"
      },
      "outputs": [
        {
          "name": "stdout",
          "output_type": "stream",
          "text": [
            "(4, 2, 3, [6, 100])\n"
          ]
        }
      ],
      "source": [
        "immutable_tuple_2[3][1] = 100\n",
        "\n",
        "print(immutable_tuple_2)"
      ]
    },
    {
      "cell_type": "code",
      "execution_count": null,
      "metadata": {
        "id": "Aix5JymX47s-",
        "outputId": "ef6c2ba3-3d32-410f-c30a-723b7b8fd516"
      },
      "outputs": [
        {
          "data": {
            "text/plain": [
              "('p', 'y', 't', 'h', 'o', 'n')"
            ]
          },
          "execution_count": 9,
          "metadata": {},
          "output_type": "execute_result"
        }
      ],
      "source": [
        "my_tuple = ('p','y','t','h','o','n')\n",
        "\n",
        "my_tuple"
      ]
    },
    {
      "cell_type": "code",
      "execution_count": null,
      "metadata": {
        "id": "VfYC0X4147s-",
        "outputId": "958393aa-64cb-441b-9468-bd18106a54e5"
      },
      "outputs": [
        {
          "ename": "TypeError",
          "evalue": "'tuple' object doesn't support item deletion",
          "output_type": "error",
          "traceback": [
            "\u001b[0;31m---------------------------------------------------------------------------\u001b[0m",
            "\u001b[0;31mTypeError\u001b[0m                                 Traceback (most recent call last)",
            "\u001b[0;32m<ipython-input-10-8716aa5eaea2>\u001b[0m in \u001b[0;36m<module>\u001b[0;34m\u001b[0m\n\u001b[0;32m----> 1\u001b[0;31m \u001b[0;32mdel\u001b[0m \u001b[0mmy_tuple\u001b[0m\u001b[0;34m[\u001b[0m\u001b[0;36m3\u001b[0m\u001b[0;34m]\u001b[0m\u001b[0;34m\u001b[0m\u001b[0;34m\u001b[0m\u001b[0m\n\u001b[0m",
            "\u001b[0;31mTypeError\u001b[0m: 'tuple' object doesn't support item deletion"
          ]
        }
      ],
      "source": [
        "del my_tuple[3]"
      ]
    },
    {
      "cell_type": "code",
      "execution_count": null,
      "metadata": {
        "id": "_Odvw6-S47s-"
      },
      "outputs": [],
      "source": [
        "del my_tuple"
      ]
    },
    {
      "cell_type": "code",
      "execution_count": null,
      "metadata": {
        "id": "p_pH-UJL47s-",
        "outputId": "6336060d-c5ad-40fc-9e97-cfa9be7bd9ea"
      },
      "outputs": [
        {
          "ename": "NameError",
          "evalue": "name 'my_tuple' is not defined",
          "output_type": "error",
          "traceback": [
            "\u001b[0;31m---------------------------------------------------------------------------\u001b[0m",
            "\u001b[0;31mNameError\u001b[0m                                 Traceback (most recent call last)",
            "\u001b[0;32m<ipython-input-12-a32cbb859ab4>\u001b[0m in \u001b[0;36m<module>\u001b[0;34m\u001b[0m\n\u001b[0;32m----> 1\u001b[0;31m \u001b[0mprint\u001b[0m\u001b[0;34m(\u001b[0m\u001b[0mmy_tuple\u001b[0m\u001b[0;34m)\u001b[0m\u001b[0;34m\u001b[0m\u001b[0;34m\u001b[0m\u001b[0m\n\u001b[0m",
            "\u001b[0;31mNameError\u001b[0m: name 'my_tuple' is not defined"
          ]
        }
      ],
      "source": [
        "print(my_tuple)"
      ]
    },
    {
      "cell_type": "code",
      "execution_count": null,
      "metadata": {
        "id": "iM0VYbxC47s-"
      },
      "outputs": [],
      "source": [
        "tuple_a = (1, 2, 3, 4, 5)\n",
        "\n",
        "tuple_b = ('a', 'b', 'c', 'd', 'e')"
      ]
    },
    {
      "cell_type": "code",
      "execution_count": null,
      "metadata": {
        "id": "VBq-YO0M47s_",
        "outputId": "e593e991-34c2-4922-84c3-7ff18d80b80f"
      },
      "outputs": [
        {
          "name": "stdout",
          "output_type": "stream",
          "text": [
            "<zip object at 0x105273808>\n"
          ]
        }
      ],
      "source": [
        "zipped = zip(tuple_a, tuple_b)\n",
        "\n",
        "print(zipped)"
      ]
    },
    {
      "cell_type": "code",
      "execution_count": null,
      "metadata": {
        "id": "2n5WT3od47s_",
        "outputId": "ac14c57c-0d8e-4c08-9dfd-1c69c792c41a"
      },
      "outputs": [
        {
          "name": "stdout",
          "output_type": "stream",
          "text": [
            "((1, 'a'), (2, 'b'), (3, 'c'), (4, 'd'), (5, 'e'))\n"
          ]
        }
      ],
      "source": [
        "result = tuple(zipped)\n",
        "\n",
        "print (result)"
      ]
    },
    {
      "cell_type": "code",
      "execution_count": null,
      "metadata": {
        "id": "4u5iVI3g47s_"
      },
      "outputs": [],
      "source": [
        "tuple_x, tuple_y = zip(*result)"
      ]
    },
    {
      "cell_type": "code",
      "execution_count": null,
      "metadata": {
        "id": "FYmhNXTK47s_",
        "outputId": "5e2a9fac-28a3-4823-93f5-4ce125067a7d"
      },
      "outputs": [
        {
          "name": "stdout",
          "output_type": "stream",
          "text": [
            "tuple_x : (1, 2, 3, 4, 5)\n",
            "tuple_y : ('a', 'b', 'c', 'd', 'e')\n"
          ]
        }
      ],
      "source": [
        "print('tuple_x :',tuple_x)\n",
        "\n",
        "print('tuple_y :',tuple_y)"
      ]
    },
    {
      "cell_type": "code",
      "execution_count": null,
      "metadata": {
        "id": "sJLaKurO47tA"
      },
      "outputs": [],
      "source": [
        "list_a = [6, 7, 8, 9, 10]\n",
        "\n",
        "list_b = ['a', 'e', 'i', 'o', 'u']"
      ]
    },
    {
      "cell_type": "code",
      "execution_count": null,
      "metadata": {
        "id": "2L1uwwKA47tA"
      },
      "outputs": [],
      "source": [
        "zipped_list = zip(list_a, list_b)"
      ]
    },
    {
      "cell_type": "code",
      "execution_count": null,
      "metadata": {
        "id": "XnUNv3SO47tA",
        "outputId": "d0e6c97b-fbd6-4d9c-fde2-adf9cc8e56ba"
      },
      "outputs": [
        {
          "name": "stdout",
          "output_type": "stream",
          "text": [
            "[(6, 'a'), (7, 'e'), (8, 'i'), (9, 'o'), (10, 'u')]\n"
          ]
        }
      ],
      "source": [
        "result = list(zipped_list)\n",
        "\n",
        "print(result)"
      ]
    },
    {
      "cell_type": "code",
      "execution_count": null,
      "metadata": {
        "id": "gA-Wp1rJ47tA"
      },
      "outputs": [],
      "source": [
        "a = (\"John\", \"Charles\", \"Mike\")\n",
        "\n",
        "b = (\"Manager\", \"Supervisor\", \"Engineer\")\n",
        "\n",
        "x = zip(a, b)"
      ]
    },
    {
      "cell_type": "code",
      "execution_count": null,
      "metadata": {
        "id": "1_ZjYoHG47tA",
        "outputId": "07192812-35c8-4720-e4ce-89dcdb30fa98"
      },
      "outputs": [
        {
          "name": "stdout",
          "output_type": "stream",
          "text": [
            "{'John': 'Manager', 'Charles': 'Supervisor', 'Mike': 'Engineer'}\n"
          ]
        }
      ],
      "source": [
        "print(dict(x))"
      ]
    },
    {
      "cell_type": "code",
      "execution_count": null,
      "metadata": {
        "id": "jHs8C5nb47tB"
      },
      "outputs": [],
      "source": [
        "numbers_list = [1, 2, 3]\n",
        "\n",
        "str_list = ['one', 'two', 'three']\n",
        "\n",
        "numbers_tuple = ('ONE', 'TWO', 'THREE', 'FOUR')\n",
        "\n",
        "result = zip(numbers_list, numbers_tuple)"
      ]
    },
    {
      "cell_type": "code",
      "execution_count": null,
      "metadata": {
        "id": "AYgbMYXj47tB",
        "outputId": "e0412f77-9313-4ab3-8825-92948d9ba411"
      },
      "outputs": [
        {
          "name": "stdout",
          "output_type": "stream",
          "text": [
            "<zip object at 0x1053181c8>\n"
          ]
        }
      ],
      "source": [
        "print(result)"
      ]
    },
    {
      "cell_type": "code",
      "execution_count": null,
      "metadata": {
        "id": "iOdngZNl47tC",
        "outputId": "56cddf52-98c6-4f28-ce93-24122e5d6117"
      },
      "outputs": [
        {
          "name": "stdout",
          "output_type": "stream",
          "text": [
            "{(2, 'TWO'), (3, 'THREE'), (1, 'ONE')}\n"
          ]
        }
      ],
      "source": [
        "result_set = set(result)\n",
        "\n",
        "print(result_set)"
      ]
    },
    {
      "cell_type": "code",
      "execution_count": null,
      "metadata": {
        "id": "UG-w_d4U47tC"
      },
      "outputs": [],
      "source": [
        "result = zip(numbers_list, str_list, numbers_tuple)"
      ]
    },
    {
      "cell_type": "code",
      "execution_count": null,
      "metadata": {
        "id": "X4qtBhWO47tC",
        "outputId": "008fd705-24fe-4f5a-aae6-20cb45fe67e8"
      },
      "outputs": [
        {
          "name": "stdout",
          "output_type": "stream",
          "text": [
            "{(1, 'one', 'ONE'), (3, 'three', 'THREE'), (2, 'two', 'TWO')}\n"
          ]
        }
      ],
      "source": [
        "result_set = set(result)\n",
        "\n",
        "print(result_set)"
      ]
    },
    {
      "cell_type": "code",
      "execution_count": null,
      "metadata": {
        "id": "F4-QZPBi47tC"
      },
      "outputs": [],
      "source": [
        ""
      ]
    },
    {
      "cell_type": "code",
      "execution_count": null,
      "metadata": {
        "id": "paMU1qTe47tD"
      },
      "outputs": [],
      "source": [
        ""
      ]
    },
    {
      "cell_type": "code",
      "execution_count": null,
      "metadata": {
        "id": "HB1sLI0x47tD"
      },
      "outputs": [],
      "source": [
        ""
      ]
    },
    {
      "cell_type": "code",
      "execution_count": null,
      "metadata": {
        "id": "ukjQWCYi47tD"
      },
      "outputs": [],
      "source": [
        ""
      ]
    },
    {
      "cell_type": "code",
      "execution_count": null,
      "metadata": {
        "id": "MVyEVjuk47tD",
        "outputId": "58794e44-ce1c-4247-faa5-cae6fab88a18"
      },
      "outputs": [
        {
          "name": "stdout",
          "output_type": "stream",
          "text": [
            "[1, 2.5, 'num', True]\n"
          ]
        }
      ],
      "source": [
        "num_list = [1, 2.5, 'num', True]\n",
        "\n",
        "print(num_list)"
      ]
    },
    {
      "cell_type": "code",
      "execution_count": null,
      "metadata": {
        "id": "1DjMzYUj47tD",
        "outputId": "55fa4008-a70c-4937-a179-c710f5a9a0fb"
      },
      "outputs": [
        {
          "data": {
            "text/plain": [
              "list"
            ]
          },
          "execution_count": 2,
          "metadata": {},
          "output_type": "execute_result"
        }
      ],
      "source": [
        "type(num_list)"
      ]
    },
    {
      "cell_type": "code",
      "execution_count": null,
      "metadata": {
        "id": "hDqoDm2h47tE",
        "outputId": "47e10ca0-14b6-450a-868a-880cc07bf6c1"
      },
      "outputs": [
        {
          "data": {
            "text/plain": [
              "float"
            ]
          },
          "execution_count": 3,
          "metadata": {},
          "output_type": "execute_result"
        }
      ],
      "source": [
        "type(num_list[1])"
      ]
    },
    {
      "cell_type": "code",
      "execution_count": null,
      "metadata": {
        "id": "etLT4DZz47tE",
        "outputId": "0dd41e3c-f299-4b37-c96a-0904e27d2dbf"
      },
      "outputs": [
        {
          "data": {
            "text/plain": [
              "bool"
            ]
          },
          "execution_count": 4,
          "metadata": {},
          "output_type": "execute_result"
        }
      ],
      "source": [
        "type(num_list[3])"
      ]
    },
    {
      "cell_type": "code",
      "execution_count": null,
      "metadata": {
        "id": "w_ayBj3M47tE",
        "outputId": "81509249-cf66-41fa-e8a5-3ea37427c3a7"
      },
      "outputs": [
        {
          "data": {
            "text/plain": [
              "(1, 2.5, 'num', True)"
            ]
          },
          "execution_count": 5,
          "metadata": {},
          "output_type": "execute_result"
        }
      ],
      "source": [
        "num_t = (1, 2.5, 'num', True)\n",
        "\n",
        "num_t "
      ]
    },
    {
      "cell_type": "code",
      "execution_count": null,
      "metadata": {
        "id": "OinTMuSs47tE",
        "outputId": "98d15ca0-be9f-4379-b282-0b1702490cba"
      },
      "outputs": [
        {
          "data": {
            "text/plain": [
              "tuple"
            ]
          },
          "execution_count": 6,
          "metadata": {},
          "output_type": "execute_result"
        }
      ],
      "source": [
        "type(num_t)"
      ]
    },
    {
      "cell_type": "code",
      "execution_count": null,
      "metadata": {
        "id": "AJuJYLVT47tE",
        "outputId": "69393ea6-4a97-422d-b905-439852f2102f"
      },
      "outputs": [
        {
          "data": {
            "text/plain": [
              "str"
            ]
          },
          "execution_count": 7,
          "metadata": {},
          "output_type": "execute_result"
        }
      ],
      "source": [
        "type(num_t[2])"
      ]
    },
    {
      "cell_type": "code",
      "execution_count": null,
      "metadata": {
        "id": "t3nws6nj47tF",
        "outputId": "d00eee61-4d3b-4765-8df7-179cd2c9e7b4"
      },
      "outputs": [
        {
          "data": {
            "text/plain": [
              "{'a': 25, 'b': 3.4, 'c': 20}"
            ]
          },
          "execution_count": 8,
          "metadata": {},
          "output_type": "execute_result"
        }
      ],
      "source": [
        "my_dictionary = {\"a\":25, \n",
        "                 \"b\":3.4, \n",
        "                 \"c\":20}\n",
        "\n",
        "my_dictionary"
      ]
    },
    {
      "cell_type": "code",
      "execution_count": null,
      "metadata": {
        "id": "ykLUaVWD47tF",
        "outputId": "83ffd3e6-ca73-49c2-8ffb-6ed714b5d457"
      },
      "outputs": [
        {
          "data": {
            "text/plain": [
              "dict"
            ]
          },
          "execution_count": 9,
          "metadata": {},
          "output_type": "execute_result"
        }
      ],
      "source": [
        "type(my_dictionary)"
      ]
    },
    {
      "cell_type": "code",
      "execution_count": null,
      "metadata": {
        "id": "9IQf4Oyh47tF",
        "outputId": "767f41aa-135c-427f-82ba-02f9b92c8be7"
      },
      "outputs": [
        {
          "data": {
            "text/plain": [
              "{'1', 2, 3, 4, 5}"
            ]
          },
          "execution_count": 10,
          "metadata": {},
          "output_type": "execute_result"
        }
      ],
      "source": [
        "a = {5, 2, 3, '1', 4, 4}\n",
        "a"
      ]
    },
    {
      "cell_type": "code",
      "execution_count": null,
      "metadata": {
        "id": "Z2695CTv47tG",
        "outputId": "e84ec054-0b1b-4d7a-b148-ce9628b7f2b8"
      },
      "outputs": [
        {
          "data": {
            "text/plain": [
              "set"
            ]
          },
          "execution_count": 11,
          "metadata": {},
          "output_type": "execute_result"
        }
      ],
      "source": [
        "type(a)"
      ]
    },
    {
      "cell_type": "code",
      "execution_count": null,
      "metadata": {
        "id": "A5RHdcqK47tG"
      },
      "outputs": [],
      "source": [
        ""
      ]
    },
    {
      "cell_type": "code",
      "execution_count": null,
      "metadata": {
        "id": "KZ9A0y5s47tG"
      },
      "outputs": [],
      "source": [
        ""
      ]
    },
    {
      "cell_type": "code",
      "execution_count": null,
      "metadata": {
        "id": "oNFvQVRL47tG"
      },
      "outputs": [],
      "source": [
        ""
      ]
    },
    {
      "cell_type": "code",
      "execution_count": null,
      "metadata": {
        "id": "yGg1vQdg47tG"
      },
      "outputs": [],
      "source": [
        ""
      ]
    },
    {
      "cell_type": "code",
      "execution_count": null,
      "metadata": {
        "id": "hiIR33BS47tG"
      },
      "outputs": [],
      "source": [
        ""
      ]
    },
    {
      "cell_type": "code",
      "execution_count": null,
      "metadata": {
        "id": "JBqfKLJH47tG"
      },
      "outputs": [],
      "source": [
        ""
      ]
    },
    {
      "cell_type": "code",
      "execution_count": null,
      "metadata": {
        "id": "ifWXbZOO47tH"
      },
      "outputs": [],
      "source": [
        ""
      ]
    },
    {
      "cell_type": "code",
      "execution_count": null,
      "metadata": {
        "id": "g-fwNrcC47tH"
      },
      "outputs": [],
      "source": [
        ""
      ]
    }
  ],
  "metadata": {
    "kernelspec": {
      "display_name": "Python 3",
      "language": "python",
      "name": "python3"
    },
    "language_info": {
      "codemirror_mode": {
        "name": "ipython",
        "version": 3
      },
      "file_extension": ".py",
      "mimetype": "text/x-python",
      "name": "python",
      "nbconvert_exporter": "python",
      "pygments_lexer": "ipython3",
      "version": "3.7.1"
    },
    "colab": {
      "name": "1-List-Tuples.ipynb",
      "provenance": [],
      "collapsed_sections": []
    }
  },
  "nbformat": 4,
  "nbformat_minor": 0
}