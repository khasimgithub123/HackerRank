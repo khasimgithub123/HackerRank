{
  "cells": [
    {
      "cell_type": "markdown",
      "metadata": {
        "id": "_0T1fEIYBTt4"
      },
      "source": [
        "# Exceptions"
      ]
    },
    {
      "cell_type": "markdown",
      "metadata": {
        "id": "-u7_fqJnBTt6"
      },
      "source": [
        "* An exception is an error that happens during execution of a program. When that\n",
        "error occurs, Python generate an exception that can be handled, which avoids your\n",
        "program to crash.<br><br>\n",
        "* Python has many built-in exceptions which forces your program to output an error when something in it goes wrong.<br><br>\n",
        "* When you think that you have a code which can produce an error then\n",
        "you can use exception handling.<br><br>\n"
      ]
    },
    {
      "cell_type": "markdown",
      "metadata": {
        "id": "HQ0FMpD3BTt6"
      },
      "source": [
        "* The `try` block lets you test a block of code for errors."
      ]
    },
    {
      "cell_type": "markdown",
      "metadata": {
        "id": "bym33baBBTt7"
      },
      "source": [
        "* The `except` block lets you handle the error.\n",
        "\n"
      ]
    },
    {
      "cell_type": "markdown",
      "metadata": {
        "id": "5inXVVa5BTt7"
      },
      "source": [
        "* The `finally` block lets you execute code, regardless of the result of the try- and except blocks.\n",
        "\n"
      ]
    },
    {
      "cell_type": "markdown",
      "metadata": {
        "id": "KFiv4TZdBTt7"
      },
      "source": [
        "![Screenshot%202019-08-06%20at%206.51.33%20PM.png](attachment:Screenshot%202019-08-06%20at%206.51.33%20PM.png)\n",
        "![Screenshot%202019-08-06%20at%206.52.18%20PM.png](attachment:Screenshot%202019-08-06%20at%206.52.18%20PM.png)"
      ]
    },
    {
      "cell_type": "markdown",
      "metadata": {
        "id": "iEa5JP8sBTt8"
      },
      "source": [
        "## <br><br>Exception Handling"
      ]
    },
    {
      "cell_type": "markdown",
      "metadata": {
        "id": "IRu6jPjWBTt8"
      },
      "source": [
        "## <br>`try` block"
      ]
    },
    {
      "cell_type": "markdown",
      "metadata": {
        "id": "bE_GhAovBTt8"
      },
      "source": [
        "### The `try` block lets you test a block of code for errors."
      ]
    },
    {
      "cell_type": "markdown",
      "metadata": {
        "id": "uOM1eZhvBTt8"
      },
      "source": [
        "#### <br><br>Example 1"
      ]
    },
    {
      "cell_type": "code",
      "execution_count": 1,
      "metadata": {
        "colab": {
          "base_uri": "https://localhost:8080/",
          "height": 166
        },
        "id": "y0oDAB9PBTt9",
        "outputId": "4b4b1cb0-ba40-4550-9d03-03c194bb8c08"
      },
      "outputs": [
        {
          "output_type": "error",
          "ename": "NameError",
          "evalue": "ignored",
          "traceback": [
            "\u001b[0;31m---------------------------------------------------------------------------\u001b[0m",
            "\u001b[0;31mNameError\u001b[0m                                 Traceback (most recent call last)",
            "\u001b[0;32m<ipython-input-1-503d059fc525>\u001b[0m in \u001b[0;36m<module>\u001b[0;34m()\u001b[0m\n\u001b[0;32m----> 1\u001b[0;31m \u001b[0mprint\u001b[0m\u001b[0;34m(\u001b[0m\u001b[0mvariable\u001b[0m\u001b[0;34m)\u001b[0m\u001b[0;34m\u001b[0m\u001b[0;34m\u001b[0m\u001b[0m\n\u001b[0m",
            "\u001b[0;31mNameError\u001b[0m: name 'variable' is not defined"
          ]
        }
      ],
      "source": [
        "print(variable)"
      ]
    },
    {
      "cell_type": "code",
      "execution_count": 2,
      "metadata": {
        "colab": {
          "base_uri": "https://localhost:8080/"
        },
        "id": "tRnstlYYBTt-",
        "outputId": "cb847250-2419-442c-acc6-10b1c84b3962"
      },
      "outputs": [
        {
          "output_type": "stream",
          "name": "stdout",
          "text": [
            "Exception occurred(Name Error), because 'variable' was not defined \n"
          ]
        }
      ],
      "source": [
        "try:\n",
        "    print(variable)\n",
        "    \n",
        "except:\n",
        "    print(\"Exception occurred(Name Error), because 'variable' was not defined \")"
      ]
    },
    {
      "cell_type": "code",
      "execution_count": 3,
      "metadata": {
        "colab": {
          "base_uri": "https://localhost:8080/"
        },
        "id": "YpIBLRObBTt_",
        "outputId": "431b41f1-20ee-4c6f-b6d7-9425b4e81bcf"
      },
      "outputs": [
        {
          "output_type": "stream",
          "name": "stdout",
          "text": [
            "Variable  is not defined\n"
          ]
        }
      ],
      "source": [
        "try:\n",
        "    print(variable)\n",
        "    \n",
        "except NameError:\n",
        "    print(\"Variable  is not defined\")\n",
        "    \n",
        "except:\n",
        "    print(\"An unknown error has occurred\")"
      ]
    },
    {
      "cell_type": "markdown",
      "metadata": {
        "id": "EIb1Y8etBTt_"
      },
      "source": [
        "#### <br><br>Example 2"
      ]
    },
    {
      "cell_type": "code",
      "execution_count": 4,
      "metadata": {
        "colab": {
          "base_uri": "https://localhost:8080/",
          "height": 166
        },
        "id": "-QZCc-ThBTt_",
        "outputId": "8d9c80c7-69cf-435e-c64f-87c09add579f"
      },
      "outputs": [
        {
          "output_type": "error",
          "ename": "FileNotFoundError",
          "evalue": "ignored",
          "traceback": [
            "\u001b[0;31m---------------------------------------------------------------------------\u001b[0m",
            "\u001b[0;31mFileNotFoundError\u001b[0m                         Traceback (most recent call last)",
            "\u001b[0;32m<ipython-input-4-03fb5d55533c>\u001b[0m in \u001b[0;36m<module>\u001b[0;34m()\u001b[0m\n\u001b[0;32m----> 1\u001b[0;31m \u001b[0mf\u001b[0m \u001b[0;34m=\u001b[0m \u001b[0mopen\u001b[0m\u001b[0;34m(\u001b[0m\u001b[0;34m'nonexistent_file'\u001b[0m\u001b[0;34m)\u001b[0m\u001b[0;34m\u001b[0m\u001b[0;34m\u001b[0m\u001b[0m\n\u001b[0m",
            "\u001b[0;31mFileNotFoundError\u001b[0m: [Errno 2] No such file or directory: 'nonexistent_file'"
          ]
        }
      ],
      "source": [
        "f = open('nonexistent_file') "
      ]
    },
    {
      "cell_type": "code",
      "execution_count": 5,
      "metadata": {
        "colab": {
          "base_uri": "https://localhost:8080/"
        },
        "id": "46OlaIJ6BTuA",
        "outputId": "4c08e6b1-ff91-4d1c-f85a-6a678375f25d"
      },
      "outputs": [
        {
          "output_type": "stream",
          "name": "stdout",
          "text": [
            "No such file\n"
          ]
        }
      ],
      "source": [
        "try:\n",
        "    f = open('nonexistent_file') \n",
        "    \n",
        "except FileNotFoundError: \n",
        "    print('No such file')\n",
        "    \n",
        "except:\n",
        "    print('An unknown error has occurred')"
      ]
    },
    {
      "cell_type": "markdown",
      "metadata": {
        "id": "NWoRmnLMBTuA"
      },
      "source": [
        "#### <br><br>Example 3\n",
        "Enter a string such as \"python\". This will throw a ValueError exception"
      ]
    },
    {
      "cell_type": "code",
      "execution_count": 6,
      "metadata": {
        "colab": {
          "base_uri": "https://localhost:8080/",
          "height": 183
        },
        "id": "XDBoai5jBTuA",
        "outputId": "2f0d73a8-8615-4ac6-c568-346ed0974de6"
      },
      "outputs": [
        {
          "name": "stdout",
          "output_type": "stream",
          "text": [
            "Please enter a number:  python\n"
          ]
        },
        {
          "output_type": "error",
          "ename": "ValueError",
          "evalue": "ignored",
          "traceback": [
            "\u001b[0;31m---------------------------------------------------------------------------\u001b[0m",
            "\u001b[0;31mValueError\u001b[0m                                Traceback (most recent call last)",
            "\u001b[0;32m<ipython-input-6-7ebda6fe1e7d>\u001b[0m in \u001b[0;36m<module>\u001b[0;34m()\u001b[0m\n\u001b[0;32m----> 1\u001b[0;31m \u001b[0minput_var\u001b[0m \u001b[0;34m=\u001b[0m \u001b[0mint\u001b[0m\u001b[0;34m(\u001b[0m\u001b[0minput\u001b[0m\u001b[0;34m(\u001b[0m\u001b[0;34m\"Please enter a number:  \"\u001b[0m\u001b[0;34m)\u001b[0m\u001b[0;34m)\u001b[0m\u001b[0;34m\u001b[0m\u001b[0;34m\u001b[0m\u001b[0m\n\u001b[0m",
            "\u001b[0;31mValueError\u001b[0m: invalid literal for int() with base 10: 'python'"
          ]
        }
      ],
      "source": [
        "input_var = int(input(\"Please enter a number:  \"))"
      ]
    },
    {
      "cell_type": "markdown",
      "metadata": {
        "id": "2voerz5oBTuB"
      },
      "source": [
        "#### Enter different strings and then a number\n",
        "This will keep throwing a ValueError until a number has been input."
      ]
    },
    {
      "cell_type": "code",
      "execution_count": 7,
      "metadata": {
        "colab": {
          "base_uri": "https://localhost:8080/"
        },
        "id": "Qt4Wqf6cBTuB",
        "outputId": "608673bb-4dee-4692-810d-69865ed01b4c"
      },
      "outputs": [
        {
          "name": "stdout",
          "output_type": "stream",
          "text": [
            "Please enter a number: python\n",
            "Oops!  That was not a valid number. Try again...\n",
            "Please enter a number: khasim\n",
            "Oops!  That was not a valid number. Try again...\n",
            "Please enter a number: 2\n"
          ]
        }
      ],
      "source": [
        "while True:\n",
        "    try:\n",
        "        input_var = int(input(\"Please enter a number: \"))\n",
        "        break\n",
        "    except ValueError:\n",
        "        print(\"Oops!  That was not a valid number. Try again...\")\n"
      ]
    },
    {
      "cell_type": "markdown",
      "metadata": {
        "id": "NaBt4L1KBTuB"
      },
      "source": [
        "#### It is up to you how you handle an exception\n",
        "Here, an exception is thrown the first two times a user enters a non-numeric value. Then on the third attempt we process the input as a string"
      ]
    },
    {
      "cell_type": "code",
      "execution_count": 8,
      "metadata": {
        "colab": {
          "base_uri": "https://localhost:8080/"
        },
        "id": "AtLsNNLdBTuC",
        "outputId": "1e88fcb1-31dc-4a88-b40e-3a72b6ae2756"
      },
      "outputs": [
        {
          "output_type": "stream",
          "name": "stdout",
          "text": [
            "Please enter a number: python\n",
            "Oops!  That was not a valid number. Try again...\n",
            "Please enter a number: viper\n",
            "Oops!  That was not a valid number. Try again...\n",
            "Please enter a number: againviper\n",
            "You really want to input a string! Fine we'll handle it\n"
          ]
        }
      ],
      "source": [
        "attempts = 0\n",
        "\n",
        "while True:\n",
        "    \n",
        "    try:\n",
        "        input_var = input(\"Please enter a number: \")\n",
        "        input_var = int(input_var)\n",
        "        break\n",
        "        \n",
        "    except ValueError:\n",
        "        attempts += 1\n",
        "        \n",
        "        if attempts < 3:\n",
        "            print(\"Oops!  That was not a valid number. Try again...\")\n",
        "        else:\n",
        "            print(\"You really want to input a string! Fine we'll handle it\")\n",
        "            input_var = str(input_var)\n",
        "            break"
      ]
    },
    {
      "cell_type": "markdown",
      "metadata": {
        "id": "PQTmZgmjBTuC"
      },
      "source": [
        "#### A KeyboardInterrupt can also be caught and handled\n",
        "Unless you'd rather wait for 111 seconds, hit the \"Stop\" button on the Jupyter Notebook to halt the sleep. That will trigger a keyboard interrupt and can be caught and handled"
      ]
    },
    {
      "cell_type": "code",
      "source": [
        "import time\n",
        "\n",
        "time.sleep(111)"
      ],
      "metadata": {
        "colab": {
          "base_uri": "https://localhost:8080/",
          "height": 201
        },
        "id": "ee3JUNacEQXF",
        "outputId": "26ac284b-267a-4dcf-ab0c-fea7374205fc"
      },
      "execution_count": 10,
      "outputs": [
        {
          "output_type": "error",
          "ename": "KeyboardInterrupt",
          "evalue": "ignored",
          "traceback": [
            "\u001b[0;31m---------------------------------------------------------------------------\u001b[0m",
            "\u001b[0;31mKeyboardInterrupt\u001b[0m                         Traceback (most recent call last)",
            "\u001b[0;32m<ipython-input-10-24aead4d7aab>\u001b[0m in \u001b[0;36m<module>\u001b[0;34m()\u001b[0m\n\u001b[1;32m      1\u001b[0m \u001b[0;32mimport\u001b[0m \u001b[0mtime\u001b[0m\u001b[0;34m\u001b[0m\u001b[0;34m\u001b[0m\u001b[0m\n\u001b[1;32m      2\u001b[0m \u001b[0;34m\u001b[0m\u001b[0m\n\u001b[0;32m----> 3\u001b[0;31m \u001b[0mtime\u001b[0m\u001b[0;34m.\u001b[0m\u001b[0msleep\u001b[0m\u001b[0;34m(\u001b[0m\u001b[0;36m111\u001b[0m\u001b[0;34m)\u001b[0m\u001b[0;34m\u001b[0m\u001b[0;34m\u001b[0m\u001b[0m\n\u001b[0m",
            "\u001b[0;31mKeyboardInterrupt\u001b[0m: "
          ]
        }
      ]
    },
    {
      "cell_type": "code",
      "execution_count": 11,
      "metadata": {
        "colab": {
          "base_uri": "https://localhost:8080/"
        },
        "id": "u0bwgZnyBTuD",
        "outputId": "06b1e4fc-32b7-4198-cacb-270589286908"
      },
      "outputs": [
        {
          "output_type": "stream",
          "name": "stdout",
          "text": [
            "KeyboardInterrupt has occurred!\n"
          ]
        }
      ],
      "source": [
        "try:\n",
        "    time.sleep(111)\n",
        "    \n",
        "except KeyboardInterrupt:\n",
        "    print (\"KeyboardInterrupt has occurred!\")"
      ]
    },
    {
      "cell_type": "code",
      "execution_count": 12,
      "metadata": {
        "colab": {
          "base_uri": "https://localhost:8080/",
          "height": 166
        },
        "id": "Tb2wNPNQBTuD",
        "outputId": "ec261f4e-7ecd-4883-c381-d5971a95cc5e"
      },
      "outputs": [
        {
          "output_type": "error",
          "ename": "FileNotFoundError",
          "evalue": "ignored",
          "traceback": [
            "\u001b[0;31m---------------------------------------------------------------------------\u001b[0m",
            "\u001b[0;31mFileNotFoundError\u001b[0m                         Traceback (most recent call last)",
            "\u001b[0;32m<ipython-input-12-03fb5d55533c>\u001b[0m in \u001b[0;36m<module>\u001b[0;34m()\u001b[0m\n\u001b[0;32m----> 1\u001b[0;31m \u001b[0mf\u001b[0m \u001b[0;34m=\u001b[0m \u001b[0mopen\u001b[0m\u001b[0;34m(\u001b[0m\u001b[0;34m'nonexistent_file'\u001b[0m\u001b[0;34m)\u001b[0m\u001b[0;34m\u001b[0m\u001b[0;34m\u001b[0m\u001b[0m\n\u001b[0m",
            "\u001b[0;31mFileNotFoundError\u001b[0m: [Errno 2] No such file or directory: 'nonexistent_file'"
          ]
        }
      ],
      "source": [
        "f = open('nonexistent_file') "
      ]
    },
    {
      "cell_type": "markdown",
      "metadata": {
        "id": "C_sPav2hBTuD"
      },
      "source": [
        "#### There is an exception hierarchy in Python\n",
        "FileNotFoundError is a subclass of OSError"
      ]
    },
    {
      "cell_type": "code",
      "execution_count": 13,
      "metadata": {
        "colab": {
          "base_uri": "https://localhost:8080/"
        },
        "id": "xSLYZkp9BTuE",
        "outputId": "0a02ce6f-1ee1-4139-fd76-6c8ee1bcc3e0"
      },
      "outputs": [
        {
          "output_type": "stream",
          "name": "stdout",
          "text": [
            "OS Error\n"
          ]
        }
      ],
      "source": [
        "try: \n",
        "    f = open('nonexistent_file') \n",
        "except OSError: \n",
        "        print('OS Error') \n",
        "except FileNotFoundError: \n",
        "        print('File not found Error') "
      ]
    },
    {
      "cell_type": "code",
      "execution_count": 14,
      "metadata": {
        "colab": {
          "base_uri": "https://localhost:8080/"
        },
        "id": "Sm5S9erTBTuE",
        "outputId": "86744c1f-34a2-41c9-ee04-fe4a466c3964"
      },
      "outputs": [
        {
          "output_type": "stream",
          "name": "stdout",
          "text": [
            "File not found Error\n"
          ]
        }
      ],
      "source": [
        "try: \n",
        "    f = open('nonexistent_file') \n",
        "except FileNotFoundError: \n",
        "        print('File not found Error') \n",
        "except OSError: \n",
        "        print('OS Error') "
      ]
    },
    {
      "cell_type": "markdown",
      "metadata": {
        "id": "0WhLvZktBTuE"
      },
      "source": [
        "## <br><br>`finally` block"
      ]
    },
    {
      "cell_type": "markdown",
      "metadata": {
        "id": "5h5moQmjBTuE"
      },
      "source": [
        "### The `finally` block lets you execute code, regardless of the result of the try- and except blocks.\n",
        "\n"
      ]
    },
    {
      "cell_type": "markdown",
      "metadata": {
        "id": "3lQk9N1LBTuE"
      },
      "source": [
        "#### <br><br>Example 1"
      ]
    },
    {
      "cell_type": "code",
      "execution_count": 15,
      "metadata": {
        "colab": {
          "base_uri": "https://localhost:8080/",
          "height": 166
        },
        "id": "YeWC05WeBTuE",
        "outputId": "a64508f9-92d3-4b6a-8a41-20fb82e7920b"
      },
      "outputs": [
        {
          "output_type": "error",
          "ename": "NameError",
          "evalue": "ignored",
          "traceback": [
            "\u001b[0;31m---------------------------------------------------------------------------\u001b[0m",
            "\u001b[0;31mNameError\u001b[0m                                 Traceback (most recent call last)",
            "\u001b[0;32m<ipython-input-15-2ea387ab95ff>\u001b[0m in \u001b[0;36m<module>\u001b[0;34m()\u001b[0m\n\u001b[0;32m----> 1\u001b[0;31m \u001b[0mprint\u001b[0m\u001b[0;34m(\u001b[0m\u001b[0mvar\u001b[0m\u001b[0;34m)\u001b[0m\u001b[0;34m\u001b[0m\u001b[0;34m\u001b[0m\u001b[0m\n\u001b[0m",
            "\u001b[0;31mNameError\u001b[0m: name 'var' is not defined"
          ]
        }
      ],
      "source": [
        "print(var)"
      ]
    },
    {
      "cell_type": "code",
      "execution_count": 16,
      "metadata": {
        "colab": {
          "base_uri": "https://localhost:8080/"
        },
        "id": "5gqx-dtxBTuF",
        "outputId": "8012e537-7e54-4aeb-f3e9-5fe3e43b4b02"
      },
      "outputs": [
        {
          "output_type": "stream",
          "name": "stdout",
          "text": [
            "The variable has not been defined\n",
            "The 'try except block' ended\n"
          ]
        }
      ],
      "source": [
        "try:\n",
        "    print(var)\n",
        "    \n",
        "except NameError:\n",
        "    print(\"The variable has not been defined\")\n",
        "    \n",
        "finally:\n",
        "    print(\"The 'try except block' ended\")"
      ]
    },
    {
      "cell_type": "code",
      "execution_count": 17,
      "metadata": {
        "colab": {
          "base_uri": "https://localhost:8080/"
        },
        "id": "Qo0IDru8BTuF",
        "outputId": "1872ae4f-503f-43f2-9a4f-d2ce82606af1"
      },
      "outputs": [
        {
          "output_type": "stream",
          "name": "stdout",
          "text": [
            "xyz\n",
            "The 'try except block' ended\n"
          ]
        }
      ],
      "source": [
        "var = 'xyz'\n",
        "\n",
        "try:\n",
        "    print(var)\n",
        "    \n",
        "except NameError:\n",
        "    print(\"The variable has not been defined\")\n",
        "    \n",
        "finally:\n",
        "    print(\"The 'try except block' ended\")"
      ]
    },
    {
      "cell_type": "markdown",
      "metadata": {
        "id": "Zy9hYui1BTuF"
      },
      "source": [
        "#### <br><br>Example 2"
      ]
    },
    {
      "cell_type": "code",
      "execution_count": 18,
      "metadata": {
        "colab": {
          "base_uri": "https://localhost:8080/"
        },
        "id": "fFTjDhihBTuF",
        "outputId": "86d2651d-9e4f-40e7-8f8b-4dbdc26a08c6"
      },
      "outputs": [
        {
          "output_type": "stream",
          "name": "stdout",
          "text": [
            "Done with processing the file.\n"
          ]
        }
      ],
      "source": [
        "try:\n",
        "    file = open(\"testfile.txt\", \"w\")\n",
        "    \n",
        "finally:\n",
        "    print (\"Done with processing the file.\")"
      ]
    },
    {
      "cell_type": "code",
      "execution_count": 19,
      "metadata": {
        "colab": {
          "base_uri": "https://localhost:8080/"
        },
        "id": "a4fU1R54BTuF",
        "outputId": "64b40d7b-a012-4612-d1c5-061d016a1625"
      },
      "outputs": [
        {
          "output_type": "stream",
          "name": "stdout",
          "text": [
            "\u001b[0m\u001b[01;34msample_data\u001b[0m/  testfile.txt\n"
          ]
        }
      ],
      "source": [
        "ls"
      ]
    },
    {
      "cell_type": "code",
      "execution_count": 20,
      "metadata": {
        "colab": {
          "base_uri": "https://localhost:8080/"
        },
        "id": "r9aZig5kBTuG",
        "outputId": "cf89f07a-dfa3-46b1-afe9-2b6c16184541"
      },
      "outputs": [
        {
          "output_type": "execute_result",
          "data": {
            "text/plain": [
              "False"
            ]
          },
          "metadata": {},
          "execution_count": 20
        }
      ],
      "source": [
        "file.closed"
      ]
    },
    {
      "cell_type": "markdown",
      "metadata": {
        "id": "CIhf97BXBTuG"
      },
      "source": [
        "#### <br><br>Example 3"
      ]
    },
    {
      "cell_type": "markdown",
      "metadata": {
        "id": "DTR-s25OBTuG"
      },
      "source": [
        "* Here using `try` and `finally`  we can open and close the file named `testfile.txt`"
      ]
    },
    {
      "cell_type": "code",
      "execution_count": 21,
      "metadata": {
        "colab": {
          "base_uri": "https://localhost:8080/"
        },
        "id": "vyzomKa-BTuG",
        "outputId": "8aadef85-2c1c-4767-943b-b450fcf9c1ec"
      },
      "outputs": [
        {
          "output_type": "stream",
          "name": "stdout",
          "text": [
            "Done with processing the file.\n"
          ]
        }
      ],
      "source": [
        "try:\n",
        "    file = open(\"testfile.txt\")\n",
        "    \n",
        "finally:\n",
        "    file.close()\n",
        "    print (\"Done with processing the file.\")"
      ]
    },
    {
      "cell_type": "code",
      "execution_count": 22,
      "metadata": {
        "colab": {
          "base_uri": "https://localhost:8080/"
        },
        "id": "_E5I1VcsBTuG",
        "outputId": "f604820a-0e95-4837-9896-1856a902af4d"
      },
      "outputs": [
        {
          "output_type": "execute_result",
          "data": {
            "text/plain": [
              "True"
            ]
          },
          "metadata": {},
          "execution_count": 22
        }
      ],
      "source": [
        "file.closed"
      ]
    },
    {
      "cell_type": "markdown",
      "metadata": {
        "id": "X6B4Kus7BTuG"
      },
      "source": [
        "## <br><br> `else`"
      ]
    },
    {
      "cell_type": "markdown",
      "metadata": {
        "id": "VL6H74ybBTuG"
      },
      "source": [
        "### We can use the `else` keyword to define a block of code to be executed if no errors were raised:"
      ]
    },
    {
      "cell_type": "markdown",
      "metadata": {
        "id": "2jbq749vBTuI"
      },
      "source": [
        "#### <br><br>Example 1"
      ]
    },
    {
      "cell_type": "code",
      "execution_count": 23,
      "metadata": {
        "colab": {
          "base_uri": "https://localhost:8080/"
        },
        "id": "DkMoByvzBTuI",
        "outputId": "b3d4e1ab-de6e-443e-ec80-d5db34e8ca08"
      },
      "outputs": [
        {
          "output_type": "stream",
          "name": "stdout",
          "text": [
            "Oops! Something went wrong\n"
          ]
        }
      ],
      "source": [
        "try:\n",
        "    file = open(\"testfile.txt\")\n",
        "    file.write(\"Writing to the open file\")\n",
        "    \n",
        "except:\n",
        "    print(\"Oops! Something went wrong\")\n",
        "    \n",
        "else:\n",
        "    print(\"Nothing went wrong\")"
      ]
    },
    {
      "cell_type": "code",
      "execution_count": 24,
      "metadata": {
        "colab": {
          "base_uri": "https://localhost:8080/"
        },
        "id": "Iyww4wbLBTuI",
        "outputId": "da245a59-6701-4edf-d2ea-7fbe40187f70"
      },
      "outputs": [
        {
          "output_type": "stream",
          "name": "stdout",
          "text": [
            "One line written to the file\n",
            "Nothing went wrong\n"
          ]
        }
      ],
      "source": [
        "try:\n",
        "    file = open(\"testfile.txt\", \"w\")\n",
        "    file.write(\"Writing to the open file\")\n",
        "    print(\"One line written to the file\")\n",
        "    \n",
        "except:\n",
        "    print(\"Oops! Something went wrong\")\n",
        "    \n",
        "else:\n",
        "    print(\"Nothing went wrong\")"
      ]
    },
    {
      "cell_type": "markdown",
      "metadata": {
        "id": "DQ9lvSruBTuI"
      },
      "source": [
        "#### <br><br>Example 4"
      ]
    },
    {
      "cell_type": "code",
      "execution_count": 25,
      "metadata": {
        "colab": {
          "base_uri": "https://localhost:8080/",
          "height": 235
        },
        "id": "XllDoTsRBTuJ",
        "outputId": "2b493f9d-b0bb-49ff-ccb4-0a4a996ed1fa"
      },
      "outputs": [
        {
          "output_type": "error",
          "ename": "TypeError",
          "evalue": "ignored",
          "traceback": [
            "\u001b[0;31m---------------------------------------------------------------------------\u001b[0m",
            "\u001b[0;31mTypeError\u001b[0m                                 Traceback (most recent call last)",
            "\u001b[0;32m<ipython-input-25-107a7c54a784>\u001b[0m in \u001b[0;36m<module>\u001b[0;34m()\u001b[0m\n\u001b[1;32m      3\u001b[0m \u001b[0mb\u001b[0m \u001b[0;34m=\u001b[0m \u001b[0mstr\u001b[0m\u001b[0;34m(\u001b[0m\u001b[0;34m'Hello'\u001b[0m\u001b[0;34m)\u001b[0m\u001b[0;34m\u001b[0m\u001b[0;34m\u001b[0m\u001b[0m\n\u001b[1;32m      4\u001b[0m \u001b[0;34m\u001b[0m\u001b[0m\n\u001b[0;32m----> 5\u001b[0;31m \u001b[0md\u001b[0m \u001b[0;34m=\u001b[0m \u001b[0ma\u001b[0m \u001b[0;34m+\u001b[0m \u001b[0mb\u001b[0m \u001b[0;34m+\u001b[0m \u001b[0mc\u001b[0m\u001b[0;34m\u001b[0m\u001b[0;34m\u001b[0m\u001b[0m\n\u001b[0m\u001b[1;32m      6\u001b[0m \u001b[0;34m\u001b[0m\u001b[0m\n\u001b[1;32m      7\u001b[0m \u001b[0md\u001b[0m\u001b[0;34m\u001b[0m\u001b[0;34m\u001b[0m\u001b[0m\n",
            "\u001b[0;31mTypeError\u001b[0m: unsupported operand type(s) for +: 'int' and 'str'"
          ]
        }
      ],
      "source": [
        "a = int(5)\n",
        "\n",
        "b = str('Hello')\n",
        "\n",
        "d = a + b + c\n",
        "\n",
        "d"
      ]
    },
    {
      "cell_type": "markdown",
      "metadata": {
        "id": "9MUaVeMWBTuJ"
      },
      "source": [
        "#### Handle the TypeError"
      ]
    },
    {
      "cell_type": "code",
      "execution_count": 26,
      "metadata": {
        "colab": {
          "base_uri": "https://localhost:8080/"
        },
        "id": "MN3AcaCzBTuJ",
        "outputId": "ed9abf33-4185-4b3e-c4dc-dd58415ab895"
      },
      "outputs": [
        {
          "output_type": "stream",
          "name": "stdout",
          "text": [
            "TypeError was thrown\n"
          ]
        }
      ],
      "source": [
        "try: \n",
        "    \n",
        "    a = int(5)\n",
        "    b = str('Hello')\n",
        "    d = a + b + c\n",
        "    \n",
        "except TypeError:\n",
        "    print ('TypeError was thrown')"
      ]
    },
    {
      "cell_type": "markdown",
      "metadata": {
        "id": "9A6FByDwBTuJ"
      },
      "source": [
        "#### Fix the error\n",
        "This time a NameError is thrown and is not handled"
      ]
    },
    {
      "cell_type": "code",
      "execution_count": 27,
      "metadata": {
        "colab": {
          "base_uri": "https://localhost:8080/",
          "height": 235
        },
        "id": "F9aUihbwBTuJ",
        "outputId": "8596fa48-a632-4a8e-a439-c0348e8cef63"
      },
      "outputs": [
        {
          "output_type": "error",
          "ename": "NameError",
          "evalue": "ignored",
          "traceback": [
            "\u001b[0;31m---------------------------------------------------------------------------\u001b[0m",
            "\u001b[0;31mNameError\u001b[0m                                 Traceback (most recent call last)",
            "\u001b[0;32m<ipython-input-27-1a061faa8c32>\u001b[0m in \u001b[0;36m<module>\u001b[0;34m()\u001b[0m\n\u001b[1;32m      3\u001b[0m     \u001b[0ma\u001b[0m \u001b[0;34m=\u001b[0m \u001b[0mstr\u001b[0m\u001b[0;34m(\u001b[0m\u001b[0;36m5\u001b[0m\u001b[0;34m)\u001b[0m\u001b[0;34m\u001b[0m\u001b[0;34m\u001b[0m\u001b[0m\n\u001b[1;32m      4\u001b[0m     \u001b[0mb\u001b[0m \u001b[0;34m=\u001b[0m \u001b[0mstr\u001b[0m\u001b[0;34m(\u001b[0m\u001b[0;34m'Hello'\u001b[0m\u001b[0;34m)\u001b[0m\u001b[0;34m\u001b[0m\u001b[0;34m\u001b[0m\u001b[0m\n\u001b[0;32m----> 5\u001b[0;31m     \u001b[0md\u001b[0m \u001b[0;34m=\u001b[0m \u001b[0ma\u001b[0m \u001b[0;34m+\u001b[0m \u001b[0mb\u001b[0m \u001b[0;34m+\u001b[0m \u001b[0mc\u001b[0m\u001b[0;34m\u001b[0m\u001b[0;34m\u001b[0m\u001b[0m\n\u001b[0m\u001b[1;32m      6\u001b[0m \u001b[0;34m\u001b[0m\u001b[0m\n\u001b[1;32m      7\u001b[0m \u001b[0;32mexcept\u001b[0m \u001b[0mTypeError\u001b[0m\u001b[0;34m:\u001b[0m\u001b[0;34m\u001b[0m\u001b[0;34m\u001b[0m\u001b[0m\n",
            "\u001b[0;31mNameError\u001b[0m: name 'c' is not defined"
          ]
        }
      ],
      "source": [
        "try: \n",
        "    \n",
        "    a = str(5)\n",
        "    b = str('Hello')\n",
        "    d = a + b + c\n",
        "    \n",
        "except TypeError:\n",
        "    print ('TypeError was thrown')"
      ]
    },
    {
      "cell_type": "markdown",
      "metadata": {
        "id": "0oxuBA2gBTuJ"
      },
      "source": [
        "#### Handle the NameError"
      ]
    },
    {
      "cell_type": "code",
      "execution_count": 28,
      "metadata": {
        "colab": {
          "base_uri": "https://localhost:8080/"
        },
        "id": "AecA2A80BTuK",
        "outputId": "b2922fcf-f0e2-4162-bbaf-5862034d1b65"
      },
      "outputs": [
        {
          "output_type": "stream",
          "name": "stdout",
          "text": [
            "NameError was thrown\n"
          ]
        }
      ],
      "source": [
        "try: \n",
        "    \n",
        "    a = str(5)\n",
        "    b = str('Hello')\n",
        "    d = a + b + c\n",
        "    \n",
        "except TypeError:\n",
        "    print ('TypeError was thrown')\n",
        "    \n",
        "except NameError:\n",
        "    print(\"NameError was thrown\")"
      ]
    },
    {
      "cell_type": "markdown",
      "metadata": {
        "id": "s3V_vNCuBTuK"
      },
      "source": [
        "#### Fix the NameError\n",
        "A ValueError is thrown this time"
      ]
    },
    {
      "cell_type": "code",
      "execution_count": 29,
      "metadata": {
        "colab": {
          "base_uri": "https://localhost:8080/",
          "height": 235
        },
        "id": "pCSkOxxABTuK",
        "outputId": "ce2ba4aa-df14-44a2-9ff0-1956cfb4d3eb"
      },
      "outputs": [
        {
          "output_type": "error",
          "ename": "ValueError",
          "evalue": "ignored",
          "traceback": [
            "\u001b[0;31m---------------------------------------------------------------------------\u001b[0m",
            "\u001b[0;31mValueError\u001b[0m                                Traceback (most recent call last)",
            "\u001b[0;32m<ipython-input-29-7ba832be9aa9>\u001b[0m in \u001b[0;36m<module>\u001b[0;34m()\u001b[0m\n\u001b[1;32m      3\u001b[0m     \u001b[0ma\u001b[0m \u001b[0;34m=\u001b[0m \u001b[0mstr\u001b[0m\u001b[0;34m(\u001b[0m\u001b[0;36m5\u001b[0m\u001b[0;34m)\u001b[0m\u001b[0;34m\u001b[0m\u001b[0;34m\u001b[0m\u001b[0m\n\u001b[1;32m      4\u001b[0m     \u001b[0mb\u001b[0m \u001b[0;34m=\u001b[0m \u001b[0mstr\u001b[0m\u001b[0;34m(\u001b[0m\u001b[0;34m'Hello'\u001b[0m\u001b[0;34m)\u001b[0m\u001b[0;34m\u001b[0m\u001b[0;34m\u001b[0m\u001b[0m\n\u001b[0;32m----> 5\u001b[0;31m     \u001b[0mc\u001b[0m \u001b[0;34m=\u001b[0m \u001b[0mint\u001b[0m\u001b[0;34m(\u001b[0m\u001b[0;34m' World'\u001b[0m\u001b[0;34m)\u001b[0m\u001b[0;34m\u001b[0m\u001b[0;34m\u001b[0m\u001b[0m\n\u001b[0m\u001b[1;32m      6\u001b[0m     \u001b[0md\u001b[0m \u001b[0;34m=\u001b[0m \u001b[0ma\u001b[0m \u001b[0;34m+\u001b[0m \u001b[0mb\u001b[0m \u001b[0;34m+\u001b[0m \u001b[0mc\u001b[0m\u001b[0;34m\u001b[0m\u001b[0;34m\u001b[0m\u001b[0m\n\u001b[1;32m      7\u001b[0m \u001b[0;34m\u001b[0m\u001b[0m\n",
            "\u001b[0;31mValueError\u001b[0m: invalid literal for int() with base 10: ' World'"
          ]
        }
      ],
      "source": [
        "try: \n",
        "    \n",
        "    a = str(5)\n",
        "    b = str('Hello')\n",
        "    c = int(' World')\n",
        "    d = a + b + c\n",
        "    \n",
        "except TypeError:\n",
        "    print ('TypeError was thrown')\n",
        "    \n",
        "except NameError:\n",
        "    print('NameError was thrown')"
      ]
    },
    {
      "cell_type": "markdown",
      "metadata": {
        "id": "EAwrB-eoBTuK"
      },
      "source": [
        "#### Handle the ValueError"
      ]
    },
    {
      "cell_type": "code",
      "execution_count": 30,
      "metadata": {
        "colab": {
          "base_uri": "https://localhost:8080/"
        },
        "id": "_BeWUrFdBTuK",
        "outputId": "b633faac-babf-4125-8b1c-634fd376272f"
      },
      "outputs": [
        {
          "output_type": "stream",
          "name": "stdout",
          "text": [
            "ValueError was thrown\n"
          ]
        }
      ],
      "source": [
        "try: \n",
        "    \n",
        "    a = str(5)\n",
        "    b = str('Hello')\n",
        "    c = int(' World')\n",
        "    d = a + b + c\n",
        "    \n",
        "except TypeError:\n",
        "    print ('TypeError was thrown')\n",
        "    \n",
        "except NameError:\n",
        "    print('NameError was thrown')\n",
        "    \n",
        "except ValueError:\n",
        "    print('ValueError was thrown')"
      ]
    },
    {
      "cell_type": "code",
      "execution_count": 31,
      "metadata": {
        "id": "1GPY2ufpBTuK"
      },
      "outputs": [],
      "source": [
        "try: \n",
        "    \n",
        "    a = str(5)\n",
        "    b = str('Hello')\n",
        "    c = str(' World')\n",
        "    d = a + b + c\n",
        "    \n",
        "except TypeError:\n",
        "    print ('TypeError was thrown')\n",
        "    \n",
        "except NameError:\n",
        "    print(\"NameError was thrown\")\n",
        "    \n",
        "except ValueError:\n",
        "    print('ValueError was thrown')    \n",
        "    \n",
        "except:\n",
        "    print('An unknown error was thrown')"
      ]
    },
    {
      "cell_type": "markdown",
      "metadata": {
        "id": "cield6EYBTuK"
      },
      "source": [
        "## <br>Raising an Exception"
      ]
    },
    {
      "cell_type": "markdown",
      "metadata": {
        "id": "wrbO6D04BTuK"
      },
      "source": [
        "#### Example1\n",
        "Define the conditions under which you would like to raise an exception"
      ]
    },
    {
      "cell_type": "code",
      "execution_count": 32,
      "metadata": {
        "scrolled": true,
        "colab": {
          "base_uri": "https://localhost:8080/",
          "height": 218
        },
        "id": "zwxwY2vdBTuL",
        "outputId": "bbf1064d-4199-4731-f5f8-0f6e2118e411"
      },
      "outputs": [
        {
          "name": "stdout",
          "output_type": "stream",
          "text": [
            "Enter a number:34\n"
          ]
        },
        {
          "output_type": "error",
          "ename": "Exception",
          "evalue": "ignored",
          "traceback": [
            "\u001b[0;31m---------------------------------------------------------------------------\u001b[0m",
            "\u001b[0;31mException\u001b[0m                                 Traceback (most recent call last)",
            "\u001b[0;32m<ipython-input-32-d5abcb37332d>\u001b[0m in \u001b[0;36m<module>\u001b[0;34m()\u001b[0m\n\u001b[1;32m      2\u001b[0m \u001b[0;34m\u001b[0m\u001b[0m\n\u001b[1;32m      3\u001b[0m \u001b[0;32mif\u001b[0m \u001b[0mnumber\u001b[0m \u001b[0;34m>\u001b[0m \u001b[0;36m5\u001b[0m\u001b[0;34m:\u001b[0m\u001b[0;34m\u001b[0m\u001b[0;34m\u001b[0m\u001b[0m\n\u001b[0;32m----> 4\u001b[0;31m     \u001b[0;32mraise\u001b[0m \u001b[0mException\u001b[0m\u001b[0;34m(\u001b[0m\u001b[0;34m'The number should not exceed 5. The value of number is: {}'\u001b[0m\u001b[0;34m.\u001b[0m\u001b[0mformat\u001b[0m\u001b[0;34m(\u001b[0m\u001b[0mnumber\u001b[0m\u001b[0;34m)\u001b[0m\u001b[0;34m)\u001b[0m\u001b[0;34m\u001b[0m\u001b[0;34m\u001b[0m\u001b[0m\n\u001b[0m",
            "\u001b[0;31mException\u001b[0m: The number should not exceed 5. The value of number is: 34"
          ]
        }
      ],
      "source": [
        "number = int(input(\"Enter a number:\"))\n",
        "\n",
        "if number > 5:\n",
        "    raise Exception('The number should not exceed 5. The value of number is: {}'.format(number))"
      ]
    },
    {
      "cell_type": "markdown",
      "metadata": {
        "id": "hL44e4zaBTuL"
      },
      "source": [
        "#### Example 2\n",
        "Handle exceptions which you raise"
      ]
    },
    {
      "cell_type": "code",
      "execution_count": 33,
      "metadata": {
        "colab": {
          "base_uri": "https://localhost:8080/"
        },
        "id": "I4o5gJKHBTuL",
        "outputId": "28bc9d6a-3120-488a-b68f-0106d82f156b"
      },
      "outputs": [
        {
          "output_type": "stream",
          "name": "stdout",
          "text": [
            "Enter a number:36\n",
            "Caught this Error: Exception('The number should not exceed 5. The value of number is: 36')\n"
          ]
        }
      ],
      "source": [
        "number = int(input(\"Enter a number:\"))\n",
        "\n",
        "try:\n",
        "    if number > 5:\n",
        "        raise Exception('The number should not exceed 5. The value of number is: {}'.format(number))\n",
        "\n",
        "except Exception as error:\n",
        "    print('Caught this Error: ' + repr(error))"
      ]
    },
    {
      "cell_type": "code",
      "execution_count": null,
      "metadata": {
        "id": "Vts3DQ31BTuL"
      },
      "outputs": [],
      "source": [
        ""
      ]
    }
  ],
  "metadata": {
    "kernelspec": {
      "display_name": "Python 3",
      "language": "python",
      "name": "python3"
    },
    "language_info": {
      "codemirror_mode": {
        "name": "ipython",
        "version": 3
      },
      "file_extension": ".py",
      "mimetype": "text/x-python",
      "name": "python",
      "nbconvert_exporter": "python",
      "pygments_lexer": "ipython3",
      "version": "3.7.3"
    },
    "colab": {
      "name": "10-Execptions.ipynb",
      "provenance": [],
      "collapsed_sections": []
    }
  },
  "nbformat": 4,
  "nbformat_minor": 0
}