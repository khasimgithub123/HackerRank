{
  "cells": [
    {
      "cell_type": "markdown",
      "metadata": {
        "id": "OXDpu7xbKd_3"
      },
      "source": [
        "### Building an empty class\n",
        "* Class is like a blueprint or they denote a specific type"
      ]
    },
    {
      "cell_type": "code",
      "execution_count": 1,
      "metadata": {
        "id": "9vtL5UNUKd_5"
      },
      "outputs": [],
      "source": [
        "class Student:\n",
        "    pass"
      ]
    },
    {
      "cell_type": "code",
      "execution_count": 2,
      "metadata": {
        "colab": {
          "base_uri": "https://localhost:8080/"
        },
        "id": "sRANUL0yKd_6",
        "outputId": "7f977587-f9f4-43bf-e709-6c0537564df3"
      },
      "outputs": [
        {
          "output_type": "execute_result",
          "data": {
            "text/plain": [
              "type"
            ]
          },
          "metadata": {},
          "execution_count": 2
        }
      ],
      "source": [
        "type(Student)"
      ]
    },
    {
      "cell_type": "markdown",
      "metadata": {
        "id": "Hr5FnnqDKd_7"
      },
      "source": [
        "* These two are instance variable or object\n",
        "* Although these are made from same class but both instances are different\n",
        "\n"
      ]
    },
    {
      "cell_type": "code",
      "execution_count": 3,
      "metadata": {
        "id": "TWFUao5VKd_7"
      },
      "outputs": [],
      "source": [
        "object_1 = Student()"
      ]
    },
    {
      "cell_type": "code",
      "execution_count": 4,
      "metadata": {
        "id": "pocGy6XwKd_7"
      },
      "outputs": [],
      "source": [
        "object_2 = Student()"
      ]
    },
    {
      "cell_type": "markdown",
      "metadata": {
        "id": "866BzfK4Kd_7"
      },
      "source": [
        "* As it can be noticed that both of the instance variables are being saved in different and unique memory location"
      ]
    },
    {
      "cell_type": "code",
      "execution_count": 5,
      "metadata": {
        "colab": {
          "base_uri": "https://localhost:8080/"
        },
        "id": "bPiY_GyLKd_7",
        "outputId": "e15c19ff-66a3-4968-ec8f-f2dbde42ba25"
      },
      "outputs": [
        {
          "output_type": "execute_result",
          "data": {
            "text/plain": [
              "<__main__.Student at 0x7f62579e6b90>"
            ]
          },
          "metadata": {},
          "execution_count": 5
        }
      ],
      "source": [
        "object_1"
      ]
    },
    {
      "cell_type": "code",
      "execution_count": 6,
      "metadata": {
        "colab": {
          "base_uri": "https://localhost:8080/"
        },
        "id": "FlI-n-b8Kd_8",
        "outputId": "3b1740d8-3c70-401b-fa83-f5cd4021e880"
      },
      "outputs": [
        {
          "output_type": "execute_result",
          "data": {
            "text/plain": [
              "<__main__.Student at 0x7f6253f66810>"
            ]
          },
          "metadata": {},
          "execution_count": 6
        }
      ],
      "source": [
        "object_2"
      ]
    },
    {
      "cell_type": "markdown",
      "metadata": {
        "id": "ulp0kt1yKd_8"
      },
      "source": [
        "### There is a method in python, which is useful to verify whether a instance belong to a claimed class or not"
      ]
    },
    {
      "cell_type": "code",
      "execution_count": 7,
      "metadata": {
        "colab": {
          "base_uri": "https://localhost:8080/"
        },
        "id": "d-eAFd7kKd_8",
        "outputId": "ca445b0c-6935-4c26-fc25-e218036b43de"
      },
      "outputs": [
        {
          "output_type": "execute_result",
          "data": {
            "text/plain": [
              "True"
            ]
          },
          "metadata": {},
          "execution_count": 7
        }
      ],
      "source": [
        "isinstance(object_1, Student)"
      ]
    },
    {
      "cell_type": "code",
      "execution_count": 8,
      "metadata": {
        "colab": {
          "base_uri": "https://localhost:8080/"
        },
        "id": "WX92pwq5Kd_9",
        "outputId": "3cba2d28-24b9-442d-f159-0af698b98633"
      },
      "outputs": [
        {
          "output_type": "execute_result",
          "data": {
            "text/plain": [
              "True"
            ]
          },
          "metadata": {},
          "execution_count": 8
        }
      ],
      "source": [
        "isinstance(object_2, Student)"
      ]
    },
    {
      "cell_type": "code",
      "execution_count": 9,
      "metadata": {
        "colab": {
          "base_uri": "https://localhost:8080/",
          "height": 166
        },
        "id": "fOx-Fs_pKd_9",
        "outputId": "b359dc3d-4cb7-4edd-df0b-5c0e6492ff5f"
      },
      "outputs": [
        {
          "output_type": "error",
          "ename": "NameError",
          "evalue": "ignored",
          "traceback": [
            "\u001b[0;31m---------------------------------------------------------------------------\u001b[0m",
            "\u001b[0;31mNameError\u001b[0m                                 Traceback (most recent call last)",
            "\u001b[0;32m<ipython-input-9-2e4472fd9ace>\u001b[0m in \u001b[0;36m<module>\u001b[0;34m()\u001b[0m\n\u001b[0;32m----> 1\u001b[0;31m \u001b[0misinstance\u001b[0m\u001b[0;34m(\u001b[0m\u001b[0mobject_3\u001b[0m\u001b[0;34m,\u001b[0m \u001b[0mStudent\u001b[0m\u001b[0;34m)\u001b[0m\u001b[0;34m\u001b[0m\u001b[0;34m\u001b[0m\u001b[0m\n\u001b[0m",
            "\u001b[0;31mNameError\u001b[0m: name 'object_3' is not defined"
          ]
        }
      ],
      "source": [
        "isinstance(object_3, Student)"
      ]
    },
    {
      "cell_type": "code",
      "execution_count": 10,
      "metadata": {
        "colab": {
          "base_uri": "https://localhost:8080/"
        },
        "id": "Nqyi2MkQKd_9",
        "outputId": "ee6ffb0a-e8af-40a2-adca-ff0237a12b4e"
      },
      "outputs": [
        {
          "output_type": "execute_result",
          "data": {
            "text/plain": [
              "False"
            ]
          },
          "metadata": {},
          "execution_count": 10
        }
      ],
      "source": [
        "object_3 = {}\n",
        "\n",
        "isinstance(object_3, Student)"
      ]
    },
    {
      "cell_type": "markdown",
      "metadata": {
        "id": "MLAnanrSKd_-"
      },
      "source": [
        "### Assigning attributes"
      ]
    },
    {
      "cell_type": "code",
      "execution_count": 11,
      "metadata": {
        "id": "qtaveasdKd_-"
      },
      "outputs": [],
      "source": [
        "object_1.name = 'Michel'\n",
        "\n",
        "object_1.email = 'Michel@xyz.com'"
      ]
    },
    {
      "cell_type": "code",
      "execution_count": 12,
      "metadata": {
        "colab": {
          "base_uri": "https://localhost:8080/",
          "height": 35
        },
        "id": "GuRt_t5UKd_-",
        "outputId": "6478049f-909f-4d6f-e764-a1624b2ad75e"
      },
      "outputs": [
        {
          "output_type": "execute_result",
          "data": {
            "application/vnd.google.colaboratory.intrinsic+json": {
              "type": "string"
            },
            "text/plain": [
              "'Michel'"
            ]
          },
          "metadata": {},
          "execution_count": 12
        }
      ],
      "source": [
        "object_1.name"
      ]
    },
    {
      "cell_type": "code",
      "execution_count": 13,
      "metadata": {
        "colab": {
          "base_uri": "https://localhost:8080/",
          "height": 35
        },
        "id": "W4xOl0SkKd_-",
        "outputId": "d8ed4085-547a-4721-81dd-e1f7a83809a9"
      },
      "outputs": [
        {
          "output_type": "execute_result",
          "data": {
            "application/vnd.google.colaboratory.intrinsic+json": {
              "type": "string"
            },
            "text/plain": [
              "'Michel@xyz.com'"
            ]
          },
          "metadata": {},
          "execution_count": 13
        }
      ],
      "source": [
        "object_1.email"
      ]
    },
    {
      "cell_type": "code",
      "execution_count": 14,
      "metadata": {
        "colab": {
          "base_uri": "https://localhost:8080/",
          "height": 166
        },
        "id": "tNUkOW_wKd__",
        "outputId": "55f92150-71aa-4a4e-dd5d-8d32cb2c256d"
      },
      "outputs": [
        {
          "output_type": "error",
          "ename": "AttributeError",
          "evalue": "ignored",
          "traceback": [
            "\u001b[0;31m---------------------------------------------------------------------------\u001b[0m",
            "\u001b[0;31mAttributeError\u001b[0m                            Traceback (most recent call last)",
            "\u001b[0;32m<ipython-input-14-68b03d9bbaba>\u001b[0m in \u001b[0;36m<module>\u001b[0;34m()\u001b[0m\n\u001b[0;32m----> 1\u001b[0;31m \u001b[0mobject_1\u001b[0m\u001b[0;34m.\u001b[0m\u001b[0mschool\u001b[0m\u001b[0;34m\u001b[0m\u001b[0;34m\u001b[0m\u001b[0m\n\u001b[0m",
            "\u001b[0;31mAttributeError\u001b[0m: 'Student' object has no attribute 'school'"
          ]
        }
      ],
      "source": [
        "object_1.school"
      ]
    },
    {
      "cell_type": "code",
      "execution_count": 15,
      "metadata": {
        "id": "-SJsGk2DKd__"
      },
      "outputs": [],
      "source": [
        "object_2.name = 'Chad'\n",
        "\n",
        "object_2.email = 'Chad@xyz.com'"
      ]
    },
    {
      "cell_type": "markdown",
      "metadata": {
        "id": "ZeexpnQeKd__"
      },
      "source": [
        "* Now each of the instance has attributes those are unique to them"
      ]
    },
    {
      "cell_type": "code",
      "execution_count": 16,
      "metadata": {
        "colab": {
          "base_uri": "https://localhost:8080/",
          "height": 35
        },
        "id": "l21bHXG3KeAA",
        "outputId": "901213b8-f16b-40a5-83ff-2f5f31484f39"
      },
      "outputs": [
        {
          "output_type": "execute_result",
          "data": {
            "application/vnd.google.colaboratory.intrinsic+json": {
              "type": "string"
            },
            "text/plain": [
              "'Chad'"
            ]
          },
          "metadata": {},
          "execution_count": 16
        }
      ],
      "source": [
        "object_2.name"
      ]
    },
    {
      "cell_type": "code",
      "execution_count": 17,
      "metadata": {
        "colab": {
          "base_uri": "https://localhost:8080/",
          "height": 35
        },
        "id": "A2eVmttvKeAA",
        "outputId": "fe29cd1e-0bfc-4a29-f7c8-37dcd4cbb770"
      },
      "outputs": [
        {
          "output_type": "execute_result",
          "data": {
            "application/vnd.google.colaboratory.intrinsic+json": {
              "type": "string"
            },
            "text/plain": [
              "'Chad@xyz.com'"
            ]
          },
          "metadata": {},
          "execution_count": 17
        }
      ],
      "source": [
        "object_2.email"
      ]
    },
    {
      "cell_type": "code",
      "execution_count": 18,
      "metadata": {
        "colab": {
          "base_uri": "https://localhost:8080/",
          "height": 166
        },
        "id": "1EvmOTftKeAA",
        "outputId": "f22cba3e-3adf-4750-d329-c45d40673757"
      },
      "outputs": [
        {
          "output_type": "error",
          "ename": "AttributeError",
          "evalue": "ignored",
          "traceback": [
            "\u001b[0;31m---------------------------------------------------------------------------\u001b[0m",
            "\u001b[0;31mAttributeError\u001b[0m                            Traceback (most recent call last)",
            "\u001b[0;32m<ipython-input-18-6beb4034d273>\u001b[0m in \u001b[0;36m<module>\u001b[0;34m()\u001b[0m\n\u001b[0;32m----> 1\u001b[0;31m \u001b[0mobject_2\u001b[0m\u001b[0;34m.\u001b[0m\u001b[0mschool\u001b[0m\u001b[0;34m\u001b[0m\u001b[0;34m\u001b[0m\u001b[0m\n\u001b[0m",
            "\u001b[0;31mAttributeError\u001b[0m: 'Student' object has no attribute 'school'"
          ]
        }
      ],
      "source": [
        "object_2.school"
      ]
    },
    {
      "cell_type": "code",
      "execution_count": 19,
      "metadata": {
        "colab": {
          "base_uri": "https://localhost:8080/",
          "height": 201
        },
        "id": "KBB7qeHtKeAB",
        "outputId": "89c76ae2-17cf-4323-aedd-65b126c311f4"
      },
      "outputs": [
        {
          "output_type": "error",
          "ename": "AttributeError",
          "evalue": "ignored",
          "traceback": [
            "\u001b[0;31m---------------------------------------------------------------------------\u001b[0m",
            "\u001b[0;31mAttributeError\u001b[0m                            Traceback (most recent call last)",
            "\u001b[0;32m<ipython-input-19-a4515f11cd70>\u001b[0m in \u001b[0;36m<module>\u001b[0;34m()\u001b[0m\n\u001b[1;32m      1\u001b[0m \u001b[0mobject_3\u001b[0m \u001b[0;34m=\u001b[0m \u001b[0mStudent\u001b[0m\u001b[0;34m(\u001b[0m\u001b[0;34m)\u001b[0m\u001b[0;34m\u001b[0m\u001b[0;34m\u001b[0m\u001b[0m\n\u001b[1;32m      2\u001b[0m \u001b[0;34m\u001b[0m\u001b[0m\n\u001b[0;32m----> 3\u001b[0;31m \u001b[0mobject_3\u001b[0m\u001b[0;34m.\u001b[0m\u001b[0mname\u001b[0m\u001b[0;34m\u001b[0m\u001b[0;34m\u001b[0m\u001b[0m\n\u001b[0m",
            "\u001b[0;31mAttributeError\u001b[0m: 'Student' object has no attribute 'name'"
          ]
        }
      ],
      "source": [
        "object_3 = Student()\n",
        "\n",
        "object_3.name"
      ]
    },
    {
      "cell_type": "code",
      "execution_count": 20,
      "metadata": {
        "id": "0Cz4MyX_KeAB"
      },
      "outputs": [],
      "source": [
        "class Student:\n",
        "    \n",
        "    name = ''\n",
        "    score = 0\n",
        "    active = True"
      ]
    },
    {
      "cell_type": "code",
      "execution_count": 21,
      "metadata": {
        "id": "-urLBlSQKeAB"
      },
      "outputs": [],
      "source": [
        "s1 = Student()"
      ]
    },
    {
      "cell_type": "code",
      "execution_count": 22,
      "metadata": {
        "colab": {
          "base_uri": "https://localhost:8080/"
        },
        "id": "Dtrm2fRgKeAB",
        "outputId": "e4248bc7-4d82-442a-d0e2-297359f1431b"
      },
      "outputs": [
        {
          "output_type": "execute_result",
          "data": {
            "text/plain": [
              "('', 0, True)"
            ]
          },
          "metadata": {},
          "execution_count": 22
        }
      ],
      "source": [
        "s1.name, s1.score, s1.active"
      ]
    },
    {
      "cell_type": "code",
      "execution_count": 23,
      "metadata": {
        "colab": {
          "base_uri": "https://localhost:8080/"
        },
        "id": "U38XHUScKeAB",
        "outputId": "665c4903-6a37-48fc-d843-80bcae15bdea"
      },
      "outputs": [
        {
          "output_type": "execute_result",
          "data": {
            "text/plain": [
              "('John', 50, True)"
            ]
          },
          "metadata": {},
          "execution_count": 23
        }
      ],
      "source": [
        "s1.name = 'John'\n",
        "\n",
        "s1.score = 50\n",
        "\n",
        "s1.name, s1.score, s1.active"
      ]
    },
    {
      "cell_type": "code",
      "execution_count": 24,
      "metadata": {
        "id": "bsNRjtKgKeAC"
      },
      "outputs": [],
      "source": [
        "s2 = Student()"
      ]
    },
    {
      "cell_type": "code",
      "execution_count": 25,
      "metadata": {
        "colab": {
          "base_uri": "https://localhost:8080/"
        },
        "id": "V6rkcbMEKeAC",
        "outputId": "9c733ce0-5f61-4486-bae6-62572081f29b"
      },
      "outputs": [
        {
          "output_type": "execute_result",
          "data": {
            "text/plain": [
              "('', 0, True)"
            ]
          },
          "metadata": {},
          "execution_count": 25
        }
      ],
      "source": [
        "s2.name, s2.score, s2.active"
      ]
    },
    {
      "cell_type": "code",
      "execution_count": 26,
      "metadata": {
        "id": "rBP8_hQVKeAC"
      },
      "outputs": [],
      "source": [
        "s2.name = 'Lily'"
      ]
    },
    {
      "cell_type": "code",
      "execution_count": 27,
      "metadata": {
        "colab": {
          "base_uri": "https://localhost:8080/"
        },
        "id": "rwa2tY9KKeAD",
        "outputId": "f299154e-f4eb-4078-9ede-7b837a57c512"
      },
      "outputs": [
        {
          "output_type": "execute_result",
          "data": {
            "text/plain": [
              "('Lily', 0, True)"
            ]
          },
          "metadata": {},
          "execution_count": 27
        }
      ],
      "source": [
        "s2.name, s2.score, s2.active"
      ]
    },
    {
      "cell_type": "code",
      "execution_count": 28,
      "metadata": {
        "colab": {
          "base_uri": "https://localhost:8080/"
        },
        "id": "lOcwfMEMKeAD",
        "outputId": "d6477639-f3b1-45c9-8f96-925b63dcf388"
      },
      "outputs": [
        {
          "output_type": "execute_result",
          "data": {
            "text/plain": [
              "('John', 50, True)"
            ]
          },
          "metadata": {},
          "execution_count": 28
        }
      ],
      "source": [
        "s1.name, s1.score, s1.active"
      ]
    },
    {
      "cell_type": "code",
      "execution_count": 29,
      "metadata": {
        "colab": {
          "base_uri": "https://localhost:8080/"
        },
        "id": "Ldxga-IKKeAD",
        "outputId": "57bfea02-8097-4f3a-f348-d8886c88f0b7"
      },
      "outputs": [
        {
          "output_type": "execute_result",
          "data": {
            "text/plain": [
              "('Lily', 0, False)"
            ]
          },
          "metadata": {},
          "execution_count": 29
        }
      ],
      "source": [
        "s2.active = False\n",
        "\n",
        "s2.name, s2.score, s2.active"
      ]
    },
    {
      "cell_type": "code",
      "execution_count": 30,
      "metadata": {
        "colab": {
          "base_uri": "https://localhost:8080/"
        },
        "id": "kAnnlL8DKeAE",
        "outputId": "f678382b-ddc6-4a21-afd7-788ed700d1ac"
      },
      "outputs": [
        {
          "output_type": "execute_result",
          "data": {
            "text/plain": [
              "('John', 50, True)"
            ]
          },
          "metadata": {},
          "execution_count": 30
        }
      ],
      "source": [
        "s1.name, s1.score, s1.active"
      ]
    },
    {
      "cell_type": "markdown",
      "metadata": {
        "id": "grelatSeKeAI"
      },
      "source": [
        "* Although the data can be stored but for every student assigning the data is a long process ,so using the class in this way is of no use \n",
        "\n",
        "* To over come this the initialization method \"init\" is used"
      ]
    },
    {
      "cell_type": "code",
      "execution_count": 31,
      "metadata": {
        "id": "I9HA7enlKeAJ"
      },
      "outputs": [],
      "source": [
        "class Student:\n",
        "    \n",
        "    def __init__(self):\n",
        "        \n",
        "        print('Initialize called!')"
      ]
    },
    {
      "cell_type": "code",
      "execution_count": 32,
      "metadata": {
        "colab": {
          "base_uri": "https://localhost:8080/"
        },
        "id": "EHdxEEC4KeAJ",
        "outputId": "1ef4bdf1-891b-4784-d415-3bd13846fe12"
      },
      "outputs": [
        {
          "output_type": "stream",
          "name": "stdout",
          "text": [
            "Initialize called!\n"
          ]
        }
      ],
      "source": [
        "s1 = Student()"
      ]
    },
    {
      "cell_type": "code",
      "execution_count": 33,
      "metadata": {
        "colab": {
          "base_uri": "https://localhost:8080/"
        },
        "id": "uSUibgUZKeAJ",
        "outputId": "8c2ec494-bf44-46b0-b29b-7ed5a413fad3"
      },
      "outputs": [
        {
          "output_type": "stream",
          "name": "stdout",
          "text": [
            "Initialize called!\n",
            "Initialize called!\n"
          ]
        }
      ],
      "source": [
        "s2 = Student()\n",
        "\n",
        "s3 = Student()"
      ]
    },
    {
      "cell_type": "code",
      "execution_count": 34,
      "metadata": {
        "id": "aCIQtHYsKeAJ"
      },
      "outputs": [],
      "source": [
        "class Student:\n",
        "    \n",
        "    def __init__():\n",
        "        \n",
        "        print('Initialize called!')"
      ]
    },
    {
      "cell_type": "code",
      "execution_count": 35,
      "metadata": {
        "colab": {
          "base_uri": "https://localhost:8080/",
          "height": 166
        },
        "id": "UwShV2kfKeAJ",
        "outputId": "9c143277-c7ce-4d52-c33a-77363e3a71df"
      },
      "outputs": [
        {
          "output_type": "error",
          "ename": "TypeError",
          "evalue": "ignored",
          "traceback": [
            "\u001b[0;31m---------------------------------------------------------------------------\u001b[0m",
            "\u001b[0;31mTypeError\u001b[0m                                 Traceback (most recent call last)",
            "\u001b[0;32m<ipython-input-35-906bfe3cbabc>\u001b[0m in \u001b[0;36m<module>\u001b[0;34m()\u001b[0m\n\u001b[0;32m----> 1\u001b[0;31m \u001b[0ms1\u001b[0m \u001b[0;34m=\u001b[0m \u001b[0mStudent\u001b[0m\u001b[0;34m(\u001b[0m\u001b[0;34m)\u001b[0m\u001b[0;34m\u001b[0m\u001b[0;34m\u001b[0m\u001b[0m\n\u001b[0m",
            "\u001b[0;31mTypeError\u001b[0m: __init__() takes 0 positional arguments but 1 was given"
          ]
        }
      ],
      "source": [
        "s1 = Student()"
      ]
    },
    {
      "cell_type": "code",
      "execution_count": 36,
      "metadata": {
        "id": "8V2w3eAuKeAJ"
      },
      "outputs": [],
      "source": [
        "class Student:\n",
        "    \n",
        "    def __init__(boo):\n",
        "        \n",
        "        print('Initialize called!')"
      ]
    },
    {
      "cell_type": "code",
      "execution_count": 37,
      "metadata": {
        "colab": {
          "base_uri": "https://localhost:8080/"
        },
        "id": "sB1o3wJ7KeAK",
        "outputId": "7b54c295-855d-48c7-c301-3c08bef72a0a"
      },
      "outputs": [
        {
          "output_type": "stream",
          "name": "stdout",
          "text": [
            "Initialize called!\n"
          ]
        }
      ],
      "source": [
        "s1 = Student()"
      ]
    },
    {
      "cell_type": "code",
      "execution_count": 38,
      "metadata": {
        "id": "lDVZNp2uKeAK"
      },
      "outputs": [],
      "source": [
        "class Student:\n",
        "    \n",
        "    def __init__(self, name):\n",
        "        \n",
        "        self.name = name\n",
        "    \n",
        "        self.mail = name + \".\" + \"@xyz.com\""
      ]
    },
    {
      "cell_type": "markdown",
      "metadata": {
        "id": "-M6WXN_uKeAK"
      },
      "source": [
        "* first, last , mail are the attributes of the class"
      ]
    },
    {
      "cell_type": "markdown",
      "metadata": {
        "id": "KdM4EiGaKeAK"
      },
      "source": [
        "* <b> \"Self\" in the \"init\"  method is the placeholder for the instance </b>\n",
        "* <b>  But \"Self\" should not be specified while creating instance, python gives the argument automatically </b>"
      ]
    },
    {
      "cell_type": "code",
      "execution_count": 39,
      "metadata": {
        "colab": {
          "base_uri": "https://localhost:8080/",
          "height": 166
        },
        "id": "ryyOrCyEKeAK",
        "outputId": "a7c5c7bf-a73d-45aa-d577-606352fb7ba4"
      },
      "outputs": [
        {
          "output_type": "error",
          "ename": "TypeError",
          "evalue": "ignored",
          "traceback": [
            "\u001b[0;31m---------------------------------------------------------------------------\u001b[0m",
            "\u001b[0;31mTypeError\u001b[0m                                 Traceback (most recent call last)",
            "\u001b[0;32m<ipython-input-39-906bfe3cbabc>\u001b[0m in \u001b[0;36m<module>\u001b[0;34m()\u001b[0m\n\u001b[0;32m----> 1\u001b[0;31m \u001b[0ms1\u001b[0m \u001b[0;34m=\u001b[0m \u001b[0mStudent\u001b[0m\u001b[0;34m(\u001b[0m\u001b[0;34m)\u001b[0m\u001b[0;34m\u001b[0m\u001b[0;34m\u001b[0m\u001b[0m\n\u001b[0m",
            "\u001b[0;31mTypeError\u001b[0m: __init__() missing 1 required positional argument: 'name'"
          ]
        }
      ],
      "source": [
        "s1 = Student()"
      ]
    },
    {
      "cell_type": "markdown",
      "metadata": {
        "id": "lrITzmnmKeAK"
      },
      "source": [
        "* <b> From the above error we can see that, one argument is already given </b>"
      ]
    },
    {
      "cell_type": "code",
      "execution_count": 40,
      "metadata": {
        "id": "Fyd_iZL5KeAL"
      },
      "outputs": [],
      "source": [
        "s1 = Student('Michel')"
      ]
    },
    {
      "cell_type": "code",
      "execution_count": 41,
      "metadata": {
        "colab": {
          "base_uri": "https://localhost:8080/",
          "height": 166
        },
        "id": "2HazGMJyKeAL",
        "outputId": "5c0a959b-b7d6-4558-dac9-8c7e61f425f7"
      },
      "outputs": [
        {
          "output_type": "error",
          "ename": "TypeError",
          "evalue": "ignored",
          "traceback": [
            "\u001b[0;31m---------------------------------------------------------------------------\u001b[0m",
            "\u001b[0;31mTypeError\u001b[0m                                 Traceback (most recent call last)",
            "\u001b[0;32m<ipython-input-41-2d44b10c8c7e>\u001b[0m in \u001b[0;36m<module>\u001b[0;34m()\u001b[0m\n\u001b[0;32m----> 1\u001b[0;31m \u001b[0ms1\u001b[0m \u001b[0;34m=\u001b[0m \u001b[0mStudent\u001b[0m\u001b[0;34m(\u001b[0m\u001b[0;34m'Michel'\u001b[0m\u001b[0;34m,\u001b[0m \u001b[0;34m'Michel@xyz.com'\u001b[0m\u001b[0;34m)\u001b[0m\u001b[0;34m\u001b[0m\u001b[0;34m\u001b[0m\u001b[0m\n\u001b[0m",
            "\u001b[0;31mTypeError\u001b[0m: __init__() takes 2 positional arguments but 3 were given"
          ]
        }
      ],
      "source": [
        "s1 = Student('Michel', 'Michel@xyz.com')"
      ]
    },
    {
      "cell_type": "markdown",
      "metadata": {
        "id": "haGe2ABrKeAL"
      },
      "source": [
        "* <b> Two arguments are given and it is not throwing an error</b>"
      ]
    },
    {
      "cell_type": "code",
      "execution_count": 42,
      "metadata": {
        "colab": {
          "base_uri": "https://localhost:8080/"
        },
        "id": "YJvEAteWKeAL",
        "outputId": "9b313fa3-8124-42d5-cc61-fd404c5f7e99"
      },
      "outputs": [
        {
          "output_type": "stream",
          "name": "stdout",
          "text": [
            "<__main__.Student object at 0x7f6253f04a10>\n"
          ]
        }
      ],
      "source": [
        "print(s1)"
      ]
    },
    {
      "cell_type": "code",
      "execution_count": 43,
      "metadata": {
        "colab": {
          "base_uri": "https://localhost:8080/",
          "height": 35
        },
        "id": "H4KckijAKeAL",
        "outputId": "699c363a-c939-44f7-b016-294df2b3d19a"
      },
      "outputs": [
        {
          "output_type": "execute_result",
          "data": {
            "application/vnd.google.colaboratory.intrinsic+json": {
              "type": "string"
            },
            "text/plain": [
              "'Michel'"
            ]
          },
          "metadata": {},
          "execution_count": 43
        }
      ],
      "source": [
        "s1.name"
      ]
    },
    {
      "cell_type": "code",
      "execution_count": 44,
      "metadata": {
        "colab": {
          "base_uri": "https://localhost:8080/",
          "height": 35
        },
        "id": "bqsjYhb8KeAL",
        "outputId": "0238acf8-8b05-4c1d-89ea-705bff5c92dd"
      },
      "outputs": [
        {
          "output_type": "execute_result",
          "data": {
            "application/vnd.google.colaboratory.intrinsic+json": {
              "type": "string"
            },
            "text/plain": [
              "'Michel.@xyz.com'"
            ]
          },
          "metadata": {},
          "execution_count": 44
        }
      ],
      "source": [
        "s1.mail"
      ]
    },
    {
      "cell_type": "code",
      "execution_count": 45,
      "metadata": {
        "id": "oc03HWU6KeAL"
      },
      "outputs": [],
      "source": [
        "s2 = Student('Chad')"
      ]
    },
    {
      "cell_type": "code",
      "execution_count": 46,
      "metadata": {
        "colab": {
          "base_uri": "https://localhost:8080/"
        },
        "id": "5tBFvf5nKeAM",
        "outputId": "eb34a864-43bb-421a-9d2b-c04b7a75d1e3"
      },
      "outputs": [
        {
          "output_type": "execute_result",
          "data": {
            "text/plain": [
              "('Chad', 'Chad.@xyz.com')"
            ]
          },
          "metadata": {},
          "execution_count": 46
        }
      ],
      "source": [
        "s2.name, s2.mail"
      ]
    },
    {
      "cell_type": "code",
      "execution_count": 47,
      "metadata": {
        "colab": {
          "base_uri": "https://localhost:8080/"
        },
        "id": "hNRiOhv8KeAM",
        "outputId": "078141aa-430c-45a0-abb9-c1ea4f8e1438"
      },
      "outputs": [
        {
          "output_type": "execute_result",
          "data": {
            "text/plain": [
              "('Michael', 'Michel.@xyz.com')"
            ]
          },
          "metadata": {},
          "execution_count": 47
        }
      ],
      "source": [
        "s1.name = 'Michael'\n",
        "\n",
        "s1.name, s1.mail"
      ]
    },
    {
      "cell_type": "code",
      "execution_count": 48,
      "metadata": {
        "colab": {
          "base_uri": "https://localhost:8080/"
        },
        "id": "-YftAfYXKeAM",
        "outputId": "42e65543-9242-4469-c655-88af5f8cbfa4"
      },
      "outputs": [
        {
          "output_type": "execute_result",
          "data": {
            "text/plain": [
              "('Chad', 'Chad.@xyz.com')"
            ]
          },
          "metadata": {},
          "execution_count": 48
        }
      ],
      "source": [
        "s2.name, s2.mail"
      ]
    },
    {
      "cell_type": "markdown",
      "metadata": {
        "id": "gZfIsX9UKeAM"
      },
      "source": [
        "* <b> From the above class it can be seen that, it works as an blueprint and it can be used to create as many instances as required </b>"
      ]
    },
    {
      "cell_type": "markdown",
      "metadata": {
        "id": "zohb1SHyKeAM"
      },
      "source": [
        "### To execute desired operations, functions should be defined inside a class, in class functions are called methods\n",
        "\n",
        "* Instead writing this code for every employee, we can just define a method inside the class"
      ]
    },
    {
      "cell_type": "code",
      "execution_count": 49,
      "metadata": {
        "id": "gkytr9Z-KeAN"
      },
      "outputs": [],
      "source": [
        "class Student:\n",
        "    \n",
        "    def __init__(self, first, last):\n",
        "        \n",
        "        self.first = first\n",
        "        \n",
        "        self.last = last\n",
        "        \n",
        "        self.mail = first + \".\" + last + \"@xyz.com\"\n",
        "        \n",
        "    def fullname(self):\n",
        "        \n",
        "        return '{} {}'.format(self.first, self.last)"
      ]
    },
    {
      "cell_type": "code",
      "execution_count": 50,
      "metadata": {
        "id": "fyBQs66iKeAN"
      },
      "outputs": [],
      "source": [
        "s1 = Student('Rodrigo', 'Joseph')"
      ]
    },
    {
      "cell_type": "code",
      "execution_count": 51,
      "metadata": {
        "colab": {
          "base_uri": "https://localhost:8080/"
        },
        "id": "luKfwDanKeAN",
        "outputId": "202a9ca0-8315-48ce-b81c-8cca8d75bf4c"
      },
      "outputs": [
        {
          "output_type": "stream",
          "name": "stdout",
          "text": [
            "Rodrigo Joseph\n"
          ]
        }
      ],
      "source": [
        "print(s1.fullname())"
      ]
    },
    {
      "cell_type": "markdown",
      "metadata": {
        "id": "ZeNSSdNfKeAN"
      },
      "source": [
        "* As the fullname is a method instead of a attribute ( in attribute there is no need of parenthesis) that is why the parenthesis is given along the fullname( )"
      ]
    },
    {
      "cell_type": "code",
      "execution_count": 52,
      "metadata": {
        "colab": {
          "base_uri": "https://localhost:8080/"
        },
        "id": "RilS2TAmKeAN",
        "outputId": "566384b9-855c-40d7-8fe9-38e44e96c9d0"
      },
      "outputs": [
        {
          "output_type": "execute_result",
          "data": {
            "text/plain": [
              "<bound method Student.fullname of <__main__.Student object at 0x7f6253ea0890>>"
            ]
          },
          "metadata": {},
          "execution_count": 52
        }
      ],
      "source": [
        "s1.fullname"
      ]
    },
    {
      "cell_type": "markdown",
      "metadata": {
        "id": "SkVDBavmKeAN"
      },
      "source": [
        "### Here the code is reused, which is one of the advantages of class\n",
        "* We can print the full name of any employee we want if the required attributes are present"
      ]
    },
    {
      "cell_type": "code",
      "execution_count": 53,
      "metadata": {
        "id": "vsCEWYPrKeAO"
      },
      "outputs": [],
      "source": [
        "s2 = Student('Anthony', 'Hopkins')"
      ]
    },
    {
      "cell_type": "code",
      "execution_count": 54,
      "metadata": {
        "colab": {
          "base_uri": "https://localhost:8080/"
        },
        "id": "FJE7wKCpKeAO",
        "outputId": "bb661716-d6f9-4962-aa2b-9dba4c5e0477"
      },
      "outputs": [
        {
          "output_type": "stream",
          "name": "stdout",
          "text": [
            "Anthony Hopkins\n"
          ]
        }
      ],
      "source": [
        "print(s2.fullname())"
      ]
    },
    {
      "cell_type": "markdown",
      "metadata": {
        "id": "FkxU-bv7KeAO"
      },
      "source": [
        "### Calling the method on the class"
      ]
    },
    {
      "cell_type": "code",
      "execution_count": 55,
      "metadata": {
        "colab": {
          "base_uri": "https://localhost:8080/",
          "height": 35
        },
        "id": "b4ujZfilKeAO",
        "outputId": "243009b3-e161-4f9c-dc06-fc6a94e0affd"
      },
      "outputs": [
        {
          "output_type": "execute_result",
          "data": {
            "application/vnd.google.colaboratory.intrinsic+json": {
              "type": "string"
            },
            "text/plain": [
              "'Anthony Hopkins'"
            ]
          },
          "metadata": {},
          "execution_count": 55
        }
      ],
      "source": [
        "Student.fullname(s2)"
      ]
    },
    {
      "cell_type": "code",
      "execution_count": 56,
      "metadata": {
        "colab": {
          "base_uri": "https://localhost:8080/",
          "height": 35
        },
        "id": "Bs2VJdV1KeAO",
        "outputId": "3a8a34fe-9f6e-4ace-f715-97e5b5bd5c98"
      },
      "outputs": [
        {
          "output_type": "execute_result",
          "data": {
            "application/vnd.google.colaboratory.intrinsic+json": {
              "type": "string"
            },
            "text/plain": [
              "'Rodrigo Joseph'"
            ]
          },
          "metadata": {},
          "execution_count": 56
        }
      ],
      "source": [
        "Student.fullname(s1)"
      ]
    },
    {
      "cell_type": "markdown",
      "metadata": {
        "id": "fshFBXTeKeAO"
      },
      "source": [
        "* Here the instance have to pass inside method\n",
        "\n",
        "* This is what happen under the hood and <b> \"student_2.fullname()\"</b> converted to <b> \"student_2.fullname(student_1)\" </b> that is why the \"self\" argument is needed"
      ]
    },
    {
      "cell_type": "markdown",
      "metadata": {
        "id": "0CqsRxwNKeAO"
      },
      "source": [
        "### Deleting Attributes and instances\n",
        "\n",
        "#### An attribute or object can be deleted with the \"del\" operator in python"
      ]
    },
    {
      "cell_type": "code",
      "execution_count": 57,
      "metadata": {
        "id": "dGSCg-8uKeAO"
      },
      "outputs": [],
      "source": [
        "s3 = Student('James', 'Miller')"
      ]
    },
    {
      "cell_type": "code",
      "execution_count": 58,
      "metadata": {
        "colab": {
          "base_uri": "https://localhost:8080/",
          "height": 35
        },
        "id": "xTCC7XdOKeAO",
        "outputId": "63de5757-2360-48e6-eb41-75629e7b975a"
      },
      "outputs": [
        {
          "output_type": "execute_result",
          "data": {
            "application/vnd.google.colaboratory.intrinsic+json": {
              "type": "string"
            },
            "text/plain": [
              "'James'"
            ]
          },
          "metadata": {},
          "execution_count": 58
        }
      ],
      "source": [
        "s3.first"
      ]
    },
    {
      "cell_type": "code",
      "execution_count": 59,
      "metadata": {
        "id": "6NWETimIKeAP"
      },
      "outputs": [],
      "source": [
        "del s3.first"
      ]
    },
    {
      "cell_type": "code",
      "execution_count": 60,
      "metadata": {
        "colab": {
          "base_uri": "https://localhost:8080/",
          "height": 166
        },
        "id": "E17Id3fqKeAP",
        "outputId": "dbd9b59f-bd46-4869-eb58-a7d1070af7e6"
      },
      "outputs": [
        {
          "output_type": "error",
          "ename": "AttributeError",
          "evalue": "ignored",
          "traceback": [
            "\u001b[0;31m---------------------------------------------------------------------------\u001b[0m",
            "\u001b[0;31mAttributeError\u001b[0m                            Traceback (most recent call last)",
            "\u001b[0;32m<ipython-input-60-4f98b3eb131d>\u001b[0m in \u001b[0;36m<module>\u001b[0;34m()\u001b[0m\n\u001b[0;32m----> 1\u001b[0;31m \u001b[0mprint\u001b[0m\u001b[0;34m(\u001b[0m\u001b[0ms3\u001b[0m\u001b[0;34m.\u001b[0m\u001b[0mfirst\u001b[0m\u001b[0;34m)\u001b[0m\u001b[0;34m\u001b[0m\u001b[0;34m\u001b[0m\u001b[0m\n\u001b[0m",
            "\u001b[0;31mAttributeError\u001b[0m: 'Student' object has no attribute 'first'"
          ]
        }
      ],
      "source": [
        "print(s3.first)"
      ]
    },
    {
      "cell_type": "code",
      "execution_count": 61,
      "metadata": {
        "colab": {
          "base_uri": "https://localhost:8080/"
        },
        "id": "q_tHdjZxKeAP",
        "outputId": "e2d2acfe-11af-4f47-8364-2f7255438cb5"
      },
      "outputs": [
        {
          "output_type": "stream",
          "name": "stdout",
          "text": [
            "Miller\n"
          ]
        }
      ],
      "source": [
        "print(s3.last)"
      ]
    },
    {
      "cell_type": "code",
      "execution_count": 62,
      "metadata": {
        "colab": {
          "base_uri": "https://localhost:8080/",
          "height": 253
        },
        "id": "eQioC8QrKeAP",
        "outputId": "3fb6029f-08ea-4607-c241-44bcd0cc39ea"
      },
      "outputs": [
        {
          "output_type": "error",
          "ename": "AttributeError",
          "evalue": "ignored",
          "traceback": [
            "\u001b[0;31m---------------------------------------------------------------------------\u001b[0m",
            "\u001b[0;31mAttributeError\u001b[0m                            Traceback (most recent call last)",
            "\u001b[0;32m<ipython-input-62-49e08ad8114f>\u001b[0m in \u001b[0;36m<module>\u001b[0;34m()\u001b[0m\n\u001b[0;32m----> 1\u001b[0;31m \u001b[0mprint\u001b[0m\u001b[0;34m(\u001b[0m\u001b[0ms3\u001b[0m\u001b[0;34m.\u001b[0m\u001b[0mfullname\u001b[0m\u001b[0;34m(\u001b[0m\u001b[0;34m)\u001b[0m\u001b[0;34m)\u001b[0m\u001b[0;34m\u001b[0m\u001b[0;34m\u001b[0m\u001b[0m\n\u001b[0m",
            "\u001b[0;32m<ipython-input-49-bbdd686d8b0b>\u001b[0m in \u001b[0;36mfullname\u001b[0;34m(self)\u001b[0m\n\u001b[1;32m     11\u001b[0m     \u001b[0;32mdef\u001b[0m \u001b[0mfullname\u001b[0m\u001b[0;34m(\u001b[0m\u001b[0mself\u001b[0m\u001b[0;34m)\u001b[0m\u001b[0;34m:\u001b[0m\u001b[0;34m\u001b[0m\u001b[0;34m\u001b[0m\u001b[0m\n\u001b[1;32m     12\u001b[0m \u001b[0;34m\u001b[0m\u001b[0m\n\u001b[0;32m---> 13\u001b[0;31m         \u001b[0;32mreturn\u001b[0m \u001b[0;34m'{} {}'\u001b[0m\u001b[0;34m.\u001b[0m\u001b[0mformat\u001b[0m\u001b[0;34m(\u001b[0m\u001b[0mself\u001b[0m\u001b[0;34m.\u001b[0m\u001b[0mfirst\u001b[0m\u001b[0;34m,\u001b[0m \u001b[0mself\u001b[0m\u001b[0;34m.\u001b[0m\u001b[0mlast\u001b[0m\u001b[0;34m)\u001b[0m\u001b[0;34m\u001b[0m\u001b[0;34m\u001b[0m\u001b[0m\n\u001b[0m",
            "\u001b[0;31mAttributeError\u001b[0m: 'Student' object has no attribute 'first'"
          ]
        }
      ],
      "source": [
        "print(s3.fullname())"
      ]
    },
    {
      "cell_type": "code",
      "execution_count": 63,
      "metadata": {
        "colab": {
          "base_uri": "https://localhost:8080/",
          "height": 35
        },
        "id": "YbvdSBK0KeAP",
        "outputId": "44dc8804-8026-4764-95fb-d0f6f986c705"
      },
      "outputs": [
        {
          "output_type": "execute_result",
          "data": {
            "application/vnd.google.colaboratory.intrinsic+json": {
              "type": "string"
            },
            "text/plain": [
              "'Anthony Hopkins'"
            ]
          },
          "metadata": {},
          "execution_count": 63
        }
      ],
      "source": [
        "s2.fullname()"
      ]
    },
    {
      "cell_type": "code",
      "execution_count": 64,
      "metadata": {
        "id": "q3nHGgVoKeAP"
      },
      "outputs": [],
      "source": [
        "del s3"
      ]
    },
    {
      "cell_type": "code",
      "execution_count": 65,
      "metadata": {
        "colab": {
          "base_uri": "https://localhost:8080/",
          "height": 166
        },
        "id": "qqQZXmOxKeAP",
        "outputId": "d0be1d71-bf7b-4a61-b96c-127f3f8787a1"
      },
      "outputs": [
        {
          "output_type": "error",
          "ename": "NameError",
          "evalue": "ignored",
          "traceback": [
            "\u001b[0;31m---------------------------------------------------------------------------\u001b[0m",
            "\u001b[0;31mNameError\u001b[0m                                 Traceback (most recent call last)",
            "\u001b[0;32m<ipython-input-65-ffeb7ec7d415>\u001b[0m in \u001b[0;36m<module>\u001b[0;34m()\u001b[0m\n\u001b[0;32m----> 1\u001b[0;31m \u001b[0ms3\u001b[0m\u001b[0;34m.\u001b[0m\u001b[0mlast\u001b[0m\u001b[0;34m\u001b[0m\u001b[0;34m\u001b[0m\u001b[0m\n\u001b[0m",
            "\u001b[0;31mNameError\u001b[0m: name 's3' is not defined"
          ]
        }
      ],
      "source": [
        "s3.last"
      ]
    },
    {
      "cell_type": "code",
      "execution_count": 66,
      "metadata": {
        "id": "gesPqA96KeAP"
      },
      "outputs": [],
      "source": [
        "class Student:\n",
        "    \n",
        "    def __init__(self, first, last):\n",
        "        \n",
        "        self.first = first\n",
        "        \n",
        "        self.last = last\n",
        "        \n",
        "        self.mail = first + \".\" + last + \"@xyz.com\"\n",
        "        \n",
        "    def fullname(self):\n",
        "        \n",
        "        return '{} {}'.format(self.first, self.last)\n",
        "    \n",
        "    def uppercase(self):\n",
        "        \n",
        "        self.first = self.first.upper()\n",
        "        \n",
        "        self.last = self.last.upper()"
      ]
    },
    {
      "cell_type": "code",
      "execution_count": 67,
      "metadata": {
        "id": "jP82GJ47KeAQ"
      },
      "outputs": [],
      "source": [
        "s1 = Student('Anthony', 'Hopkins')\n",
        "\n",
        "s2 = Student('John', 'Smith')"
      ]
    },
    {
      "cell_type": "code",
      "execution_count": 68,
      "metadata": {
        "colab": {
          "base_uri": "https://localhost:8080/",
          "height": 35
        },
        "id": "zwNQiUi7KeAQ",
        "outputId": "fdc68c8f-b820-404b-aa94-3416aa7bbffd"
      },
      "outputs": [
        {
          "output_type": "execute_result",
          "data": {
            "application/vnd.google.colaboratory.intrinsic+json": {
              "type": "string"
            },
            "text/plain": [
              "'Anthony Hopkins'"
            ]
          },
          "metadata": {},
          "execution_count": 68
        }
      ],
      "source": [
        "s1.fullname()"
      ]
    },
    {
      "cell_type": "code",
      "execution_count": 69,
      "metadata": {
        "colab": {
          "base_uri": "https://localhost:8080/",
          "height": 35
        },
        "id": "0YrQjEiEKeAQ",
        "outputId": "99f688e0-855d-4fe8-fab5-34d32e64ec9f"
      },
      "outputs": [
        {
          "output_type": "execute_result",
          "data": {
            "application/vnd.google.colaboratory.intrinsic+json": {
              "type": "string"
            },
            "text/plain": [
              "'John Smith'"
            ]
          },
          "metadata": {},
          "execution_count": 69
        }
      ],
      "source": [
        "s2.fullname()"
      ]
    },
    {
      "cell_type": "code",
      "execution_count": 70,
      "metadata": {
        "id": "I4wUqCsuKeAQ"
      },
      "outputs": [],
      "source": [
        "s1.uppercase()"
      ]
    },
    {
      "cell_type": "code",
      "execution_count": 71,
      "metadata": {
        "colab": {
          "base_uri": "https://localhost:8080/",
          "height": 35
        },
        "id": "CvE-DrFJKeAQ",
        "outputId": "b92d45b2-7686-4a59-a838-df184ac5b375"
      },
      "outputs": [
        {
          "output_type": "execute_result",
          "data": {
            "application/vnd.google.colaboratory.intrinsic+json": {
              "type": "string"
            },
            "text/plain": [
              "'ANTHONY HOPKINS'"
            ]
          },
          "metadata": {},
          "execution_count": 71
        }
      ],
      "source": [
        "s1.fullname()"
      ]
    },
    {
      "cell_type": "code",
      "execution_count": 72,
      "metadata": {
        "colab": {
          "base_uri": "https://localhost:8080/",
          "height": 35
        },
        "id": "xWqQSQIjKeAQ",
        "outputId": "7d4db61c-73fb-4d16-956c-ab6e4ba90a6b"
      },
      "outputs": [
        {
          "output_type": "execute_result",
          "data": {
            "application/vnd.google.colaboratory.intrinsic+json": {
              "type": "string"
            },
            "text/plain": [
              "'John Smith'"
            ]
          },
          "metadata": {},
          "execution_count": 72
        }
      ],
      "source": [
        "s2.fullname()"
      ]
    },
    {
      "cell_type": "markdown",
      "metadata": {
        "id": "IDgd1kMwKeAc"
      },
      "source": [
        "### Class variables are shared among all the instances of a  class where as instance variables are unique for every instance of a class"
      ]
    },
    {
      "cell_type": "code",
      "execution_count": 73,
      "metadata": {
        "id": "PqonRj6oKeAc"
      },
      "outputs": [],
      "source": [
        "class Competition:\n",
        "    \n",
        "    # class variable\n",
        "    raise_amount = 1.04\n",
        "    \n",
        "    def __init__(self, name, prize):\n",
        "\n",
        "        self.name = name\n",
        "        self.prize = prize\n",
        "        \n",
        "    def raise_prize(self):\n",
        "        self.prize = self.prize * raise_amount"
      ]
    },
    {
      "cell_type": "code",
      "execution_count": 74,
      "metadata": {
        "colab": {
          "base_uri": "https://localhost:8080/"
        },
        "id": "ZFGnhO7fKeAc",
        "outputId": "e14478d4-2eb3-48d0-e51e-29d4d34bd2df"
      },
      "outputs": [
        {
          "output_type": "stream",
          "name": "stdout",
          "text": [
            "1.04\n"
          ]
        }
      ],
      "source": [
        "debate = Competition('Debate', 500)\n",
        "\n",
        "print(debate.raise_amount)"
      ]
    },
    {
      "cell_type": "code",
      "execution_count": 75,
      "metadata": {
        "colab": {
          "base_uri": "https://localhost:8080/"
        },
        "id": "jEJ3ISw5KeAc",
        "outputId": "f96bea77-06f6-41d6-f765-e65eecc7b793"
      },
      "outputs": [
        {
          "output_type": "execute_result",
          "data": {
            "text/plain": [
              "1.04"
            ]
          },
          "metadata": {},
          "execution_count": 75
        }
      ],
      "source": [
        "Competition.raise_amount"
      ]
    },
    {
      "cell_type": "markdown",
      "metadata": {
        "id": "Ne1gEW2qKeAc"
      },
      "source": [
        "### The class variables can only be accessed through class or instance that is why the following will through an error"
      ]
    },
    {
      "cell_type": "code",
      "execution_count": 76,
      "metadata": {
        "colab": {
          "base_uri": "https://localhost:8080/",
          "height": 253
        },
        "id": "pkSD2MwCKeAc",
        "outputId": "3482077c-a37c-45f2-aa57-acd3d558d56c"
      },
      "outputs": [
        {
          "output_type": "error",
          "ename": "NameError",
          "evalue": "ignored",
          "traceback": [
            "\u001b[0;31m---------------------------------------------------------------------------\u001b[0m",
            "\u001b[0;31mNameError\u001b[0m                                 Traceback (most recent call last)",
            "\u001b[0;32m<ipython-input-76-78b078c49b52>\u001b[0m in \u001b[0;36m<module>\u001b[0;34m()\u001b[0m\n\u001b[0;32m----> 1\u001b[0;31m \u001b[0mdebate\u001b[0m\u001b[0;34m.\u001b[0m\u001b[0mraise_prize\u001b[0m\u001b[0;34m(\u001b[0m\u001b[0;34m)\u001b[0m\u001b[0;34m\u001b[0m\u001b[0;34m\u001b[0m\u001b[0m\n\u001b[0m",
            "\u001b[0;32m<ipython-input-73-d4b315a1d396>\u001b[0m in \u001b[0;36mraise_prize\u001b[0;34m(self)\u001b[0m\n\u001b[1;32m     10\u001b[0m \u001b[0;34m\u001b[0m\u001b[0m\n\u001b[1;32m     11\u001b[0m     \u001b[0;32mdef\u001b[0m \u001b[0mraise_prize\u001b[0m\u001b[0;34m(\u001b[0m\u001b[0mself\u001b[0m\u001b[0;34m)\u001b[0m\u001b[0;34m:\u001b[0m\u001b[0;34m\u001b[0m\u001b[0;34m\u001b[0m\u001b[0m\n\u001b[0;32m---> 12\u001b[0;31m         \u001b[0mself\u001b[0m\u001b[0;34m.\u001b[0m\u001b[0mprize\u001b[0m \u001b[0;34m=\u001b[0m \u001b[0mself\u001b[0m\u001b[0;34m.\u001b[0m\u001b[0mprize\u001b[0m \u001b[0;34m*\u001b[0m \u001b[0mraise_amount\u001b[0m\u001b[0;34m\u001b[0m\u001b[0;34m\u001b[0m\u001b[0m\n\u001b[0m",
            "\u001b[0;31mNameError\u001b[0m: name 'raise_amount' is not defined"
          ]
        }
      ],
      "source": [
        "debate.raise_prize()"
      ]
    },
    {
      "cell_type": "markdown",
      "metadata": {
        "id": "Tznx_Q5QKeAd"
      },
      "source": [
        "### Accessing the class variables through the class itself"
      ]
    },
    {
      "cell_type": "code",
      "execution_count": 77,
      "metadata": {
        "id": "YhIGVAwiKeAd"
      },
      "outputs": [],
      "source": [
        "class Competition:\n",
        "    \n",
        "    raise_amount = 1.04\n",
        "    \n",
        "    def __init__(self, name, prize):\n",
        "        \n",
        "        self.name = name \n",
        "        self.prize = prize \n",
        "        \n",
        "    def raise_prize(self):\n",
        "\n",
        "        self.prize = self.prize * Competition.raise_amount"
      ]
    },
    {
      "cell_type": "code",
      "execution_count": 78,
      "metadata": {
        "id": "GE8gLzs-KeAd"
      },
      "outputs": [],
      "source": [
        "essay = Competition('Essay', 500)"
      ]
    },
    {
      "cell_type": "code",
      "execution_count": 79,
      "metadata": {
        "colab": {
          "base_uri": "https://localhost:8080/"
        },
        "id": "cIpeMPU3KeAd",
        "outputId": "e0115c7f-db11-4600-80b6-daa488109102"
      },
      "outputs": [
        {
          "output_type": "execute_result",
          "data": {
            "text/plain": [
              "500"
            ]
          },
          "metadata": {},
          "execution_count": 79
        }
      ],
      "source": [
        "essay.prize"
      ]
    },
    {
      "cell_type": "markdown",
      "metadata": {
        "id": "vIZNPckRKeAd"
      },
      "source": [
        "#### It will not throw an error this time"
      ]
    },
    {
      "cell_type": "code",
      "execution_count": 80,
      "metadata": {
        "colab": {
          "base_uri": "https://localhost:8080/"
        },
        "id": "zyBtiH_AKeAd",
        "outputId": "77053d36-b9f0-46ac-a950-0038d5479b28"
      },
      "outputs": [
        {
          "output_type": "execute_result",
          "data": {
            "text/plain": [
              "520.0"
            ]
          },
          "metadata": {},
          "execution_count": 80
        }
      ],
      "source": [
        "essay.raise_prize()\n",
        "\n",
        "essay.prize"
      ]
    },
    {
      "cell_type": "markdown",
      "metadata": {
        "id": "fAlyVQ_QKeAd"
      },
      "source": [
        "#### Accessing the class variables through the instance i.e using \" self \"\n",
        "\n",
        "* Accessing from the instance is a good practice as the variables can be changed at the instance level while accessing from class that is not possible"
      ]
    },
    {
      "cell_type": "code",
      "execution_count": 81,
      "metadata": {
        "id": "naDxwjjUKeAg"
      },
      "outputs": [],
      "source": [
        "class Competition:\n",
        "    \n",
        "    raise_amount = 1.04\n",
        "    \n",
        "    def __init__(self, name, prize):\n",
        "        self.name = name                                                  \n",
        "        self.prize = prize                         \n",
        "\n",
        "    def raise_prize(self): \n",
        "        self.prize = int( self.prize)  * self.raise_amount       "
      ]
    },
    {
      "cell_type": "code",
      "execution_count": 82,
      "metadata": {
        "id": "SpsgI9DhKeAh"
      },
      "outputs": [],
      "source": [
        "simulation = Competition('Simulation', 100)"
      ]
    },
    {
      "cell_type": "code",
      "execution_count": 83,
      "metadata": {
        "colab": {
          "base_uri": "https://localhost:8080/"
        },
        "id": "9QlagH2HKeAh",
        "outputId": "f46da3c8-844e-4991-e442-38f9647f12d1"
      },
      "outputs": [
        {
          "output_type": "execute_result",
          "data": {
            "text/plain": [
              "100"
            ]
          },
          "metadata": {},
          "execution_count": 83
        }
      ],
      "source": [
        "simulation.prize"
      ]
    },
    {
      "cell_type": "markdown",
      "metadata": {
        "id": "yx-yNQccKeAh"
      },
      "source": [
        "* <b> In this case also there will be no error </b>"
      ]
    },
    {
      "cell_type": "code",
      "execution_count": 84,
      "metadata": {
        "colab": {
          "base_uri": "https://localhost:8080/"
        },
        "id": "y37ceBbsKeAh",
        "outputId": "2302c68a-5b5b-4542-af95-210ddf9ec999"
      },
      "outputs": [
        {
          "output_type": "execute_result",
          "data": {
            "text/plain": [
              "104.0"
            ]
          },
          "metadata": {},
          "execution_count": 84
        }
      ],
      "source": [
        "simulation.raise_prize()\n",
        "\n",
        "simulation.prize"
      ]
    },
    {
      "cell_type": "markdown",
      "metadata": {
        "id": "XnrCKHYUKeAh"
      },
      "source": [
        "### How the instance can access the class variable?\n",
        "#### When an attribute is being tried to access from an instance than the instance will see whether the attribute is present in the instance, if it is not that it will look in the class or any other class from where it will inherit the attribute"
      ]
    },
    {
      "cell_type": "code",
      "execution_count": 85,
      "metadata": {
        "colab": {
          "base_uri": "https://localhost:8080/"
        },
        "id": "xz4a_P2DKeAh",
        "outputId": "04096031-413f-433d-c74c-668997e21780"
      },
      "outputs": [
        {
          "output_type": "execute_result",
          "data": {
            "text/plain": [
              "1.04"
            ]
          },
          "metadata": {},
          "execution_count": 85
        }
      ],
      "source": [
        "Competition.raise_amount"
      ]
    },
    {
      "cell_type": "code",
      "execution_count": 86,
      "metadata": {
        "colab": {
          "base_uri": "https://localhost:8080/"
        },
        "id": "OeoEKTD-KeAi",
        "outputId": "8db05bb7-4774-4f1d-921b-e6ae759db6b9"
      },
      "outputs": [
        {
          "output_type": "execute_result",
          "data": {
            "text/plain": [
              "1.04"
            ]
          },
          "metadata": {},
          "execution_count": 86
        }
      ],
      "source": [
        "simulation.raise_amount"
      ]
    },
    {
      "cell_type": "markdown",
      "metadata": {
        "id": "BaEWYoFvKeAi"
      },
      "source": [
        "### It can be seen more clearly, if the name space is being printed for the instance and as well as for the class\n",
        "\n",
        "* <b> As it can be seen that \"c_3\" doesn't have any \"raise_amount\" attribute </b>"
      ]
    },
    {
      "cell_type": "code",
      "execution_count": 87,
      "metadata": {
        "colab": {
          "base_uri": "https://localhost:8080/"
        },
        "id": "xPhcWUscKeAi",
        "outputId": "1e87f84f-1faa-4bde-d694-b05ca7722fd6"
      },
      "outputs": [
        {
          "output_type": "execute_result",
          "data": {
            "text/plain": [
              "{'name': 'Simulation', 'prize': 104.0}"
            ]
          },
          "metadata": {},
          "execution_count": 87
        }
      ],
      "source": [
        "simulation.__dict__"
      ]
    },
    {
      "cell_type": "code",
      "execution_count": 88,
      "metadata": {
        "colab": {
          "base_uri": "https://localhost:8080/"
        },
        "id": "RK4B94_PKeAi",
        "outputId": "faa07d7b-5baa-4102-c6f3-72da962bb312"
      },
      "outputs": [
        {
          "output_type": "execute_result",
          "data": {
            "text/plain": [
              "mappingproxy({'__dict__': <attribute '__dict__' of 'Competition' objects>,\n",
              "              '__doc__': None,\n",
              "              '__init__': <function __main__.Competition.__init__>,\n",
              "              '__module__': '__main__',\n",
              "              '__weakref__': <attribute '__weakref__' of 'Competition' objects>,\n",
              "              'raise_amount': 1.04,\n",
              "              'raise_prize': <function __main__.Competition.raise_prize>})"
            ]
          },
          "metadata": {},
          "execution_count": 88
        }
      ],
      "source": [
        "Competition.__dict__"
      ]
    },
    {
      "cell_type": "markdown",
      "metadata": {
        "id": "woCqTpXIKeAi"
      },
      "source": [
        "*  <b> Here we can see that the class has the attribute \"raise_amount\" </b>"
      ]
    },
    {
      "cell_type": "code",
      "execution_count": 89,
      "metadata": {
        "colab": {
          "base_uri": "https://localhost:8080/"
        },
        "id": "ki2R3K-cKeAi",
        "outputId": "0508a790-5639-4968-ea21-2668b5d45587"
      },
      "outputs": [
        {
          "output_type": "execute_result",
          "data": {
            "text/plain": [
              "1.04"
            ]
          },
          "metadata": {},
          "execution_count": 89
        }
      ],
      "source": [
        "racing = Competition('Racing', 1000)\n",
        "\n",
        "racing.raise_amount"
      ]
    },
    {
      "cell_type": "markdown",
      "metadata": {
        "id": "_O4mg3SAKeAi"
      },
      "source": [
        "#### Changing the \"raise_amount\" through the Class "
      ]
    },
    {
      "cell_type": "code",
      "execution_count": 90,
      "metadata": {
        "id": "apX8eQ9eKeAi"
      },
      "outputs": [],
      "source": [
        "Competition.raise_amount = 1.05"
      ]
    },
    {
      "cell_type": "code",
      "execution_count": 91,
      "metadata": {
        "colab": {
          "base_uri": "https://localhost:8080/"
        },
        "id": "uig90mxqKeAj",
        "outputId": "bfef852a-e57b-4050-bdf3-88f4cfb23e3e"
      },
      "outputs": [
        {
          "output_type": "execute_result",
          "data": {
            "text/plain": [
              "1.05"
            ]
          },
          "metadata": {},
          "execution_count": 91
        }
      ],
      "source": [
        "Competition.raise_amount "
      ]
    },
    {
      "cell_type": "markdown",
      "metadata": {
        "id": "TojoxcWOKeAj"
      },
      "source": [
        "#### As the attribute is changed in the class level than it'll also change in the instance level"
      ]
    },
    {
      "cell_type": "code",
      "execution_count": 92,
      "metadata": {
        "colab": {
          "base_uri": "https://localhost:8080/"
        },
        "id": "2PL_xbmwKeAj",
        "outputId": "6ecc6ac9-87ae-4453-c473-edf0771af24d"
      },
      "outputs": [
        {
          "output_type": "execute_result",
          "data": {
            "text/plain": [
              "1.05"
            ]
          },
          "metadata": {},
          "execution_count": 92
        }
      ],
      "source": [
        "simulation.raise_amount"
      ]
    },
    {
      "cell_type": "code",
      "execution_count": 93,
      "metadata": {
        "colab": {
          "base_uri": "https://localhost:8080/"
        },
        "id": "vECGvDR8KeAj",
        "outputId": "6ab55410-2485-4b26-bb2d-b38b09f45ca0"
      },
      "outputs": [
        {
          "output_type": "execute_result",
          "data": {
            "text/plain": [
              "1.05"
            ]
          },
          "metadata": {},
          "execution_count": 93
        }
      ],
      "source": [
        "racing.raise_amount"
      ]
    },
    {
      "cell_type": "markdown",
      "metadata": {
        "id": "Gc0ImpAEKeAj"
      },
      "source": [
        "### Changing the raise_amount at the instance level"
      ]
    },
    {
      "cell_type": "code",
      "execution_count": 94,
      "metadata": {
        "colab": {
          "base_uri": "https://localhost:8080/"
        },
        "id": "l73iHZTNKeAj",
        "outputId": "e83042d6-c495-4a0c-afc7-34a4488126d7"
      },
      "outputs": [
        {
          "output_type": "execute_result",
          "data": {
            "text/plain": [
              "(1.05, 10, 1.05)"
            ]
          },
          "metadata": {},
          "execution_count": 94
        }
      ],
      "source": [
        "simulation.raise_amount = 10\n",
        "\n",
        "Competition.raise_amount, simulation.raise_amount, racing.raise_amount"
      ]
    },
    {
      "cell_type": "code",
      "execution_count": 95,
      "metadata": {
        "colab": {
          "base_uri": "https://localhost:8080/"
        },
        "id": "VQpYoClbKeAj",
        "outputId": "8aca987b-318b-4525-801f-2c8b7f6fe7c5"
      },
      "outputs": [
        {
          "output_type": "execute_result",
          "data": {
            "text/plain": [
              "(1.05, 10, 20)"
            ]
          },
          "metadata": {},
          "execution_count": 95
        }
      ],
      "source": [
        "racing.raise_amount = 20\n",
        "\n",
        "Competition.raise_amount, simulation.raise_amount, racing.raise_amount"
      ]
    },
    {
      "cell_type": "code",
      "execution_count": 96,
      "metadata": {
        "colab": {
          "base_uri": "https://localhost:8080/"
        },
        "id": "esCsWKpAKeAj",
        "outputId": "05a84231-d378-48c6-fb84-87f2aebc1862"
      },
      "outputs": [
        {
          "output_type": "execute_result",
          "data": {
            "text/plain": [
              "mappingproxy({'__dict__': <attribute '__dict__' of 'Competition' objects>,\n",
              "              '__doc__': None,\n",
              "              '__init__': <function __main__.Competition.__init__>,\n",
              "              '__module__': '__main__',\n",
              "              '__weakref__': <attribute '__weakref__' of 'Competition' objects>,\n",
              "              'raise_amount': 1.05,\n",
              "              'raise_prize': <function __main__.Competition.raise_prize>})"
            ]
          },
          "metadata": {},
          "execution_count": 96
        }
      ],
      "source": [
        "Competition.__dict__"
      ]
    },
    {
      "cell_type": "code",
      "execution_count": 97,
      "metadata": {
        "colab": {
          "base_uri": "https://localhost:8080/"
        },
        "id": "Yuke4P8_KeAk",
        "outputId": "c56e4e4d-009c-4cb1-fad7-5f148cc03480"
      },
      "outputs": [
        {
          "output_type": "execute_result",
          "data": {
            "text/plain": [
              "{'name': 'Simulation', 'prize': 104.0, 'raise_amount': 10}"
            ]
          },
          "metadata": {},
          "execution_count": 97
        }
      ],
      "source": [
        "simulation.__dict__"
      ]
    },
    {
      "cell_type": "code",
      "execution_count": 98,
      "metadata": {
        "colab": {
          "base_uri": "https://localhost:8080/"
        },
        "id": "Ztr8GGq1KeAk",
        "outputId": "8b52dd65-a6c0-494d-c3d4-8d609266fcc2"
      },
      "outputs": [
        {
          "output_type": "execute_result",
          "data": {
            "text/plain": [
              "{'name': 'Racing', 'prize': 1000, 'raise_amount': 20}"
            ]
          },
          "metadata": {},
          "execution_count": 98
        }
      ],
      "source": [
        "racing.__dict__"
      ]
    },
    {
      "cell_type": "markdown",
      "metadata": {
        "id": "kn2O5OXEKeAo"
      },
      "source": [
        "### Class variables are shared among all the instances of a  class where as instance variables are unique for every instance of a class"
      ]
    },
    {
      "cell_type": "code",
      "execution_count": 99,
      "metadata": {
        "id": "T1KXMtc-KeAo"
      },
      "outputs": [],
      "source": [
        "class Competition:\n",
        "    \n",
        "    # class variable\n",
        "    participants = []\n",
        "    \n",
        "    def __init__(self, name, prize):\n",
        "\n",
        "        self.name = name\n",
        "        self.prize = prize\n",
        "        "
      ]
    },
    {
      "cell_type": "code",
      "execution_count": 100,
      "metadata": {
        "colab": {
          "base_uri": "https://localhost:8080/"
        },
        "id": "UCxSVLVmKeAo",
        "outputId": "3fb47599-b446-4c6d-92d1-bcef2fab39e9"
      },
      "outputs": [
        {
          "output_type": "execute_result",
          "data": {
            "text/plain": [
              "[]"
            ]
          },
          "metadata": {},
          "execution_count": 100
        }
      ],
      "source": [
        "debate = Competition('Debate', 500)\n",
        "\n",
        "debate.participants"
      ]
    },
    {
      "cell_type": "code",
      "execution_count": 101,
      "metadata": {
        "colab": {
          "base_uri": "https://localhost:8080/"
        },
        "id": "sK9IRsnAKeAo",
        "outputId": "677965d2-83f0-49e4-8658-f2e4cf34b5a4"
      },
      "outputs": [
        {
          "output_type": "execute_result",
          "data": {
            "text/plain": [
              "['John']"
            ]
          },
          "metadata": {},
          "execution_count": 101
        }
      ],
      "source": [
        "Competition.participants.append('John')\n",
        "\n",
        "Competition.participants"
      ]
    },
    {
      "cell_type": "code",
      "execution_count": 102,
      "metadata": {
        "colab": {
          "base_uri": "https://localhost:8080/"
        },
        "id": "DyknmLmSKeAo",
        "outputId": "ca2fb011-bff0-4a06-ff06-811dd94c4d0d"
      },
      "outputs": [
        {
          "output_type": "execute_result",
          "data": {
            "text/plain": [
              "['John']"
            ]
          },
          "metadata": {},
          "execution_count": 102
        }
      ],
      "source": [
        "Competition.participants"
      ]
    },
    {
      "cell_type": "code",
      "execution_count": 103,
      "metadata": {
        "colab": {
          "base_uri": "https://localhost:8080/"
        },
        "id": "OHUZbRxoKeAo",
        "outputId": "4c805d6f-9285-408a-8d2b-a79b53314ce7"
      },
      "outputs": [
        {
          "output_type": "execute_result",
          "data": {
            "text/plain": [
              "['John', 'Alice']"
            ]
          },
          "metadata": {},
          "execution_count": 103
        }
      ],
      "source": [
        "debate.participants.append('Alice')\n",
        "\n",
        "debate.participants"
      ]
    },
    {
      "cell_type": "code",
      "execution_count": 104,
      "metadata": {
        "colab": {
          "base_uri": "https://localhost:8080/"
        },
        "id": "6t__HFqfKeAo",
        "outputId": "729855b7-7c1e-4560-8ad8-945ac87166f2"
      },
      "outputs": [
        {
          "output_type": "execute_result",
          "data": {
            "text/plain": [
              "['John', 'Alice']"
            ]
          },
          "metadata": {},
          "execution_count": 104
        }
      ],
      "source": [
        "Competition.participants"
      ]
    },
    {
      "cell_type": "code",
      "execution_count": 105,
      "metadata": {
        "colab": {
          "base_uri": "https://localhost:8080/"
        },
        "id": "ls1qy7X0KeAp",
        "outputId": "24ca3694-0878-4770-a86b-2795a5fde18d"
      },
      "outputs": [
        {
          "output_type": "execute_result",
          "data": {
            "text/plain": [
              "['John', 'Alice']"
            ]
          },
          "metadata": {},
          "execution_count": 105
        }
      ],
      "source": [
        "essay = Competition('Essay', 456)\n",
        "\n",
        "essay.participants"
      ]
    },
    {
      "cell_type": "code",
      "execution_count": 106,
      "metadata": {
        "colab": {
          "base_uri": "https://localhost:8080/"
        },
        "id": "xnzEseHGKeAp",
        "outputId": "1ce3ad66-f684-450d-f59a-2839424db572"
      },
      "outputs": [
        {
          "output_type": "execute_result",
          "data": {
            "text/plain": [
              "['John', 'Alice', 'Lily']"
            ]
          },
          "metadata": {},
          "execution_count": 106
        }
      ],
      "source": [
        "debate.participants.append('Lily')\n",
        "\n",
        "debate.participants"
      ]
    },
    {
      "cell_type": "code",
      "execution_count": 107,
      "metadata": {
        "colab": {
          "base_uri": "https://localhost:8080/"
        },
        "id": "i_c4C9cjKeAp",
        "outputId": "cd25eed5-465f-4f9e-e5b4-cacc34beec19"
      },
      "outputs": [
        {
          "output_type": "execute_result",
          "data": {
            "text/plain": [
              "['John', 'Alice', 'Lily']"
            ]
          },
          "metadata": {},
          "execution_count": 107
        }
      ],
      "source": [
        "essay.participants"
      ]
    },
    {
      "cell_type": "code",
      "execution_count": 108,
      "metadata": {
        "colab": {
          "base_uri": "https://localhost:8080/"
        },
        "id": "8wGyYrMuKeAp",
        "outputId": "fe1aa277-424a-4d9b-aec4-4995e9b52946"
      },
      "outputs": [
        {
          "output_type": "execute_result",
          "data": {
            "text/plain": [
              "mappingproxy({'__dict__': <attribute '__dict__' of 'Competition' objects>,\n",
              "              '__doc__': None,\n",
              "              '__init__': <function __main__.Competition.__init__>,\n",
              "              '__module__': '__main__',\n",
              "              '__weakref__': <attribute '__weakref__' of 'Competition' objects>,\n",
              "              'participants': ['John', 'Alice', 'Lily']})"
            ]
          },
          "metadata": {},
          "execution_count": 108
        }
      ],
      "source": [
        "Competition.__dict__"
      ]
    },
    {
      "cell_type": "code",
      "execution_count": 109,
      "metadata": {
        "colab": {
          "base_uri": "https://localhost:8080/"
        },
        "id": "57Ee1Cn5KeAp",
        "outputId": "c02542f4-5b9d-4bc7-ddd5-25f3c158da60"
      },
      "outputs": [
        {
          "output_type": "execute_result",
          "data": {
            "text/plain": [
              "{'name': 'Debate', 'prize': 500}"
            ]
          },
          "metadata": {},
          "execution_count": 109
        }
      ],
      "source": [
        "debate.__dict__"
      ]
    },
    {
      "cell_type": "code",
      "execution_count": 110,
      "metadata": {
        "colab": {
          "base_uri": "https://localhost:8080/"
        },
        "id": "y99c0RKxKeAp",
        "outputId": "5f2ababc-f552-4124-effd-e7b2f4cc094d"
      },
      "outputs": [
        {
          "output_type": "execute_result",
          "data": {
            "text/plain": [
              "{'name': 'Essay', 'prize': 456}"
            ]
          },
          "metadata": {},
          "execution_count": 110
        }
      ],
      "source": [
        "essay.__dict__"
      ]
    },
    {
      "cell_type": "markdown",
      "metadata": {
        "id": "HZUi_5KdKeAr"
      },
      "source": [
        "#### Making variables private. This is a hack in Python"
      ]
    },
    {
      "cell_type": "code",
      "execution_count": 111,
      "metadata": {
        "id": "ek46DjMvKeAr"
      },
      "outputs": [],
      "source": [
        "class Dog:\n",
        "   \n",
        "    def __init__(self, name, breed):\n",
        "        \n",
        "        self.name = name\n",
        "        self.breed = breed\n",
        "    \n",
        "    def print_details(self):\n",
        "\n",
        "        print('My name is %s and I am a %s' % (self.name, self.breed))"
      ]
    },
    {
      "cell_type": "code",
      "execution_count": 112,
      "metadata": {
        "colab": {
          "base_uri": "https://localhost:8080/"
        },
        "id": "xbJFHte-KeAr",
        "outputId": "81d50c44-e629-42fd-8ff7-89230d6e460d"
      },
      "outputs": [
        {
          "output_type": "stream",
          "name": "stdout",
          "text": [
            "My name is Oba and I am a Labrador\n"
          ]
        }
      ],
      "source": [
        "d1 = Dog('Oba', 'Labrador')\n",
        "\n",
        "d1.print_details()"
      ]
    },
    {
      "cell_type": "code",
      "execution_count": 113,
      "metadata": {
        "colab": {
          "base_uri": "https://localhost:8080/"
        },
        "id": "cy6_EHyOKeAr",
        "outputId": "fc780dd4-b3a6-46a8-aa0e-8c677d55bf30"
      },
      "outputs": [
        {
          "output_type": "stream",
          "name": "stdout",
          "text": [
            "My name is Nemo and I am a Labrador\n"
          ]
        }
      ],
      "source": [
        "d1.name = 'Nemo'\n",
        "\n",
        "d1.print_details()"
      ]
    },
    {
      "cell_type": "code",
      "execution_count": 114,
      "metadata": {
        "colab": {
          "base_uri": "https://localhost:8080/"
        },
        "id": "mTan5QjmKeAr",
        "outputId": "c00906c0-72d9-4448-f26d-f35099724133"
      },
      "outputs": [
        {
          "output_type": "stream",
          "name": "stdout",
          "text": [
            "My name is Nemo and I am a Golden Retriever\n"
          ]
        }
      ],
      "source": [
        "d1.breed = 'Golden Retriever'\n",
        "\n",
        "d1.print_details()"
      ]
    },
    {
      "cell_type": "code",
      "execution_count": 115,
      "metadata": {
        "colab": {
          "base_uri": "https://localhost:8080/"
        },
        "id": "98__ODGwKeAr",
        "outputId": "4f4f81c5-71eb-4f2d-9533-32972d0e7566"
      },
      "outputs": [
        {
          "output_type": "execute_result",
          "data": {
            "text/plain": [
              "mappingproxy({'__dict__': <attribute '__dict__' of 'Dog' objects>,\n",
              "              '__doc__': None,\n",
              "              '__init__': <function __main__.Dog.__init__>,\n",
              "              '__module__': '__main__',\n",
              "              '__weakref__': <attribute '__weakref__' of 'Dog' objects>,\n",
              "              'print_details': <function __main__.Dog.print_details>})"
            ]
          },
          "metadata": {},
          "execution_count": 115
        }
      ],
      "source": [
        "Dog.__dict__"
      ]
    },
    {
      "cell_type": "code",
      "execution_count": 116,
      "metadata": {
        "colab": {
          "base_uri": "https://localhost:8080/"
        },
        "id": "hvhayljOKeAr",
        "outputId": "35eb0ef7-058d-465f-b49c-70c6cd713769"
      },
      "outputs": [
        {
          "output_type": "execute_result",
          "data": {
            "text/plain": [
              "{'breed': 'Golden Retriever', 'name': 'Nemo'}"
            ]
          },
          "metadata": {},
          "execution_count": 116
        }
      ],
      "source": [
        "d1.__dict__"
      ]
    },
    {
      "cell_type": "code",
      "execution_count": 117,
      "metadata": {
        "id": "L4U6pWRCKeAr"
      },
      "outputs": [],
      "source": [
        "class Dog:\n",
        "   \n",
        "    def __init__(self, name, breed):\n",
        "        \n",
        "        self.__name = name\n",
        "        self.__breed = breed\n",
        "    \n",
        "    def print_details(self):\n",
        "\n",
        "        print('My name is %s and I am a %s' % (self.__name, self.__breed))"
      ]
    },
    {
      "cell_type": "code",
      "execution_count": 118,
      "metadata": {
        "colab": {
          "base_uri": "https://localhost:8080/"
        },
        "id": "VL0YlTuvKeAr",
        "outputId": "a03fccbe-f0db-479e-9e26-1ef330c5a1aa"
      },
      "outputs": [
        {
          "output_type": "stream",
          "name": "stdout",
          "text": [
            "My name is Moje and I am a Golden Retriever\n"
          ]
        }
      ],
      "source": [
        "d1 = Dog('Moje', 'Golden Retriever')\n",
        "\n",
        "d1.print_details()"
      ]
    },
    {
      "cell_type": "code",
      "execution_count": 119,
      "metadata": {
        "colab": {
          "base_uri": "https://localhost:8080/"
        },
        "id": "auXZkbZGKeAr",
        "outputId": "4fab3711-6fd9-488d-c5b0-9fe268710311"
      },
      "outputs": [
        {
          "output_type": "execute_result",
          "data": {
            "text/plain": [
              "{'_Dog__breed': 'Golden Retriever', '_Dog__name': 'Moje'}"
            ]
          },
          "metadata": {},
          "execution_count": 119
        }
      ],
      "source": [
        "d1.__dict__"
      ]
    },
    {
      "cell_type": "code",
      "execution_count": 120,
      "metadata": {
        "colab": {
          "base_uri": "https://localhost:8080/"
        },
        "id": "mcneY7S1KeAs",
        "outputId": "b167c2d9-1201-48de-8411-3fa90ddfc791"
      },
      "outputs": [
        {
          "output_type": "stream",
          "name": "stdout",
          "text": [
            "My name is Moje and I am a Golden Retriever\n"
          ]
        }
      ],
      "source": [
        "d1.__name = \"Oba\"\n",
        "\n",
        "d1.print_details()"
      ]
    },
    {
      "cell_type": "code",
      "execution_count": 121,
      "metadata": {
        "colab": {
          "base_uri": "https://localhost:8080/"
        },
        "id": "nq866xgGKeAs",
        "outputId": "16e6be4d-8bce-4358-edc9-899af1b6f6e5"
      },
      "outputs": [
        {
          "output_type": "execute_result",
          "data": {
            "text/plain": [
              "{'_Dog__breed': 'Golden Retriever', '_Dog__name': 'Moje', '__name': 'Oba'}"
            ]
          },
          "metadata": {},
          "execution_count": 121
        }
      ],
      "source": [
        "d1.__dict__"
      ]
    },
    {
      "cell_type": "code",
      "execution_count": 122,
      "metadata": {
        "colab": {
          "base_uri": "https://localhost:8080/"
        },
        "id": "-emWRO5rKeAs",
        "outputId": "4e93aa17-e69c-48b5-a760-573d2a73858b"
      },
      "outputs": [
        {
          "output_type": "stream",
          "name": "stdout",
          "text": [
            "My name is Moje and I am a Husky\n"
          ]
        }
      ],
      "source": [
        "d1._Dog__breed = 'Husky'\n",
        "\n",
        "d1.print_details()"
      ]
    },
    {
      "cell_type": "code",
      "execution_count": 123,
      "metadata": {
        "id": "_VsyrNSPKeAs"
      },
      "outputs": [],
      "source": [
        "class Dog:\n",
        "    \n",
        "    def __init__(self, name, breed):\n",
        "        \n",
        "        self.__name = name\n",
        "        self.__breed = breed\n",
        "    \n",
        "    def print_details(self):\n",
        "        print('My name is %s and I am a %s' % (self.__name, self.__breed))\n",
        "        \n",
        "    def change_name(self, name):\n",
        "        self.__name = name"
      ]
    },
    {
      "cell_type": "code",
      "execution_count": 124,
      "metadata": {
        "colab": {
          "base_uri": "https://localhost:8080/"
        },
        "id": "wXIEY356KeAs",
        "outputId": "997cf0b1-3185-4929-98ea-25b21faee7e0"
      },
      "outputs": [
        {
          "output_type": "stream",
          "name": "stdout",
          "text": [
            "My name is Nemo and I am a Husky\n"
          ]
        }
      ],
      "source": [
        "d1 = Dog('Nemo', 'Husky')\n",
        "\n",
        "d1.print_details()"
      ]
    },
    {
      "cell_type": "code",
      "execution_count": 125,
      "metadata": {
        "colab": {
          "base_uri": "https://localhost:8080/"
        },
        "id": "Uh_Ft5-GKeAs",
        "outputId": "8173a912-038a-4251-c82b-cfef7141406b"
      },
      "outputs": [
        {
          "output_type": "stream",
          "name": "stdout",
          "text": [
            "My name is Oba and I am a Husky\n"
          ]
        }
      ],
      "source": [
        "d1.change_name(\"Oba\")\n",
        "\n",
        "d1.print_details()"
      ]
    },
    {
      "cell_type": "code",
      "execution_count": 126,
      "metadata": {
        "id": "2IAlYt8EKeAs"
      },
      "outputs": [],
      "source": [
        "class Dog:\n",
        "    \n",
        "    __species = 'canine'\n",
        "    \n",
        "    def __init__(self, name, breed):\n",
        "        \n",
        "        self.__name = name\n",
        "        self.__breed = breed\n",
        "        self.__tricks = []\n",
        "    \n",
        "    def get_name(self):\n",
        "        return self.__name\n",
        "    \n",
        "    def set_name(self, name):\n",
        "        self.__name = name\n",
        "\n",
        "    def get_breed(self):\n",
        "        return self.__breed\n",
        "    \n",
        "    def set_breed(self, breed):\n",
        "        self.__breed = breed\n",
        "\n",
        "    def add_trick(self, trick):\n",
        "        self.__tricks.append(trick)\n",
        "    \n",
        "    def print_details(self):\n",
        "        print('My name is %s and I am a %s and I can do tricks! %s' % \n",
        "              (self.__name, self.__breed, self.__tricks))\n"
      ]
    },
    {
      "cell_type": "markdown",
      "metadata": {
        "id": "na9_ptLaKeAt"
      },
      "source": [
        "#### Initializing classes in Python"
      ]
    },
    {
      "cell_type": "code",
      "execution_count": 127,
      "metadata": {
        "colab": {
          "base_uri": "https://localhost:8080/"
        },
        "id": "oUbtQm5WKeAt",
        "outputId": "4c43bc9e-0540-42bc-85ca-98d83a1c6816"
      },
      "outputs": [
        {
          "output_type": "stream",
          "name": "stdout",
          "text": [
            "My name is Moje and I am a Golden Retriever and I can do tricks! []\n"
          ]
        }
      ],
      "source": [
        "d1 = Dog('Moje', 'Golden Retriever')\n",
        "\n",
        "d1.print_details()"
      ]
    },
    {
      "cell_type": "code",
      "execution_count": 128,
      "metadata": {
        "colab": {
          "base_uri": "https://localhost:8080/"
        },
        "id": "uXGcqzCxKeAt",
        "outputId": "e4901db0-8fff-4216-f434-65acbe02de57"
      },
      "outputs": [
        {
          "output_type": "stream",
          "name": "stdout",
          "text": [
            "My name is Moje and I am a Golden Retriever and I can do tricks! ['roll over']\n"
          ]
        }
      ],
      "source": [
        "d1.add_trick('roll over')\n",
        "\n",
        "d1.print_details()"
      ]
    },
    {
      "cell_type": "code",
      "execution_count": 129,
      "metadata": {
        "colab": {
          "base_uri": "https://localhost:8080/"
        },
        "id": "D6ZW2qeGKeAt",
        "outputId": "bed53e3e-5675-4712-b164-4b6bcd4a5aeb"
      },
      "outputs": [
        {
          "output_type": "stream",
          "name": "stdout",
          "text": [
            "My name is Moje and I am a Labrador and I can do tricks! ['roll over']\n"
          ]
        }
      ],
      "source": [
        "d1.set_breed('Labrador')\n",
        "\n",
        "d1.print_details()"
      ]
    },
    {
      "cell_type": "markdown",
      "metadata": {
        "id": "mxQ2HBsHKeAt"
      },
      "source": [
        "#### Calling one method from another within a class"
      ]
    },
    {
      "cell_type": "code",
      "execution_count": 130,
      "metadata": {
        "id": "RZZ6xXLvKeAt"
      },
      "outputs": [],
      "source": [
        "class Dog:\n",
        "    \"\"\" This is a class which defines a dog.\n",
        "        This includes cute dogs as well as ferocious dogs.\n",
        "    \"\"\"\n",
        "    \n",
        "    __species = 'canine'\n",
        "    \n",
        "    def __init__(self, name, breed):\n",
        "        self.__name = name\n",
        "        self.__breed = breed\n",
        "        self.__tricks = []\n",
        "    \n",
        "    def print_details(self):\n",
        "        print('My name is %s and I am a %s' % (self.__name, self.__breed))\n",
        "        print('Here are the tricks I can do: ', self.__tricks)\n",
        "\n",
        "    def change_name(self, name):\n",
        "        self.__name = name\n",
        "\n",
        "    def change_breed(self, breed):\n",
        "        self.__breed = breed\n",
        "\n",
        "    def change_name_and_breed(self, name, breed):\n",
        "        self.change_name(name)\n",
        "        self.change_breed(breed)\n",
        "        \n",
        "    def add_trick(self, trick):\n",
        "        self.__tricks.append(trick)"
      ]
    },
    {
      "cell_type": "code",
      "execution_count": 131,
      "metadata": {
        "colab": {
          "base_uri": "https://localhost:8080/"
        },
        "id": "p4hcpGzzKeAt",
        "outputId": "9d21fdf7-9cc4-40f2-b210-a4687e375cb0"
      },
      "outputs": [
        {
          "output_type": "stream",
          "name": "stdout",
          "text": [
            "My name is Moje and I am a Golden Retriever\n",
            "Here are the tricks I can do:  []\n"
          ]
        }
      ],
      "source": [
        "d1 = Dog('Moje', 'Golden Retriever')\n",
        "\n",
        "d1.print_details()"
      ]
    },
    {
      "cell_type": "code",
      "execution_count": 132,
      "metadata": {
        "colab": {
          "base_uri": "https://localhost:8080/"
        },
        "id": "-Im0jTRUKeAt",
        "outputId": "1224e130-6bb8-4f00-f088-011b7731b7bf"
      },
      "outputs": [
        {
          "output_type": "stream",
          "name": "stdout",
          "text": [
            "My name is Oba and I am a Labrador\n",
            "Here are the tricks I can do:  []\n"
          ]
        }
      ],
      "source": [
        "d1.change_name_and_breed('Oba', 'Labrador')\n",
        "\n",
        "d1.print_details()"
      ]
    },
    {
      "cell_type": "code",
      "execution_count": 133,
      "metadata": {
        "id": "J8-rpfgdKeAv"
      },
      "outputs": [],
      "source": [
        "class Dog:\n",
        "    \n",
        "    __species = 'canine'\n",
        "    \n",
        "    def __init__(self, name, breed):\n",
        "        \n",
        "        self.__name = name\n",
        "        self.__breed = breed\n",
        "        self.__tricks = []\n",
        "    \n",
        "    def get_name(self):\n",
        "        return self.__name\n",
        "    \n",
        "    def set_name(self, name):\n",
        "        self.__name = name\n",
        "\n",
        "    def get_breed(self):\n",
        "        return self.__breed\n",
        "    \n",
        "    def set_breed(self, breed):\n",
        "        self.__breed = breed\n",
        "\n",
        "    def add_trick(self, trick):\n",
        "        self.__tricks.append(trick)\n",
        "    \n",
        "    def print_details(self):\n",
        "        print('My name is %s and I am a %s and I can do tricks! %s' % \n",
        "              (self.__name, self.__breed, self.__tricks))\n"
      ]
    },
    {
      "cell_type": "markdown",
      "metadata": {
        "id": "JAsrD5MDKeAw"
      },
      "source": [
        "#### Initializing classes in Python"
      ]
    },
    {
      "cell_type": "code",
      "execution_count": 134,
      "metadata": {
        "colab": {
          "base_uri": "https://localhost:8080/"
        },
        "id": "_gt65kj3KeAw",
        "outputId": "655cbd53-7e06-4d25-a331-ce77f155a02d"
      },
      "outputs": [
        {
          "output_type": "stream",
          "name": "stdout",
          "text": [
            "My name is Moje and I am a Golden Retriever and I can do tricks! []\n"
          ]
        }
      ],
      "source": [
        "d1 = Dog('Moje', 'Golden Retriever')\n",
        "\n",
        "d1.print_details()"
      ]
    },
    {
      "cell_type": "code",
      "execution_count": 135,
      "metadata": {
        "colab": {
          "base_uri": "https://localhost:8080/"
        },
        "id": "0EfYjJxVKeAw",
        "outputId": "f0889173-5e58-492a-a3e0-8effaa04eefb"
      },
      "outputs": [
        {
          "output_type": "stream",
          "name": "stdout",
          "text": [
            "My name is Moje and I am a Golden Retriever and I can do tricks! ['roll over']\n"
          ]
        }
      ],
      "source": [
        "d1.add_trick('roll over')\n",
        "\n",
        "d1.print_details()"
      ]
    },
    {
      "cell_type": "code",
      "execution_count": 136,
      "metadata": {
        "colab": {
          "base_uri": "https://localhost:8080/"
        },
        "id": "Ln_06TsxKeAw",
        "outputId": "8ab806f6-5313-44c0-d8c4-2542e642a0de"
      },
      "outputs": [
        {
          "output_type": "stream",
          "name": "stdout",
          "text": [
            "My name is Moje and I am a Labrador and I can do tricks! ['roll over']\n"
          ]
        }
      ],
      "source": [
        "d1.set_breed('Labrador')\n",
        "\n",
        "d1.print_details()"
      ]
    },
    {
      "cell_type": "markdown",
      "metadata": {
        "id": "-ntihB6aKeAw"
      },
      "source": [
        "#### Calling one method from another within a class"
      ]
    },
    {
      "cell_type": "code",
      "execution_count": 137,
      "metadata": {
        "id": "ut7IzMazKeAw"
      },
      "outputs": [],
      "source": [
        "class Dog:\n",
        "    \"\"\" This is a class which defines a dog.\n",
        "        This includes cute dogs as well as ferocious dogs.\n",
        "    \"\"\"\n",
        "    \n",
        "    __species = 'canine'\n",
        "    \n",
        "    def __init__(self, name, breed):\n",
        "        self.__name = name\n",
        "        self.__breed = breed\n",
        "        self.__tricks = []\n",
        "    \n",
        "    def print_details(self):\n",
        "        print('My name is %s and I am a %s' % (self.__name, self.__breed))\n",
        "        print('Here are the tricks I can do: ', self.__tricks)\n",
        "\n",
        "    def change_name(self, name):\n",
        "        self.__name = name\n",
        "\n",
        "    def change_breed(self, breed):\n",
        "        self.__breed = breed\n",
        "\n",
        "    def change_name_and_breed(self, name, breed):\n",
        "        self.change_name(name)\n",
        "        self.change_breed(breed)\n",
        "        \n",
        "    def add_trick(self, trick):\n",
        "        self.__tricks.append(trick)"
      ]
    },
    {
      "cell_type": "code",
      "execution_count": 138,
      "metadata": {
        "colab": {
          "base_uri": "https://localhost:8080/"
        },
        "id": "8PutJYDxKeAw",
        "outputId": "9f66a96c-d09e-4f27-c7e7-d1cf1befca4a"
      },
      "outputs": [
        {
          "output_type": "stream",
          "name": "stdout",
          "text": [
            "My name is Moje and I am a Golden Retriever\n",
            "Here are the tricks I can do:  []\n"
          ]
        }
      ],
      "source": [
        "d1 = Dog('Moje', 'Golden Retriever')\n",
        "\n",
        "d1.print_details()"
      ]
    },
    {
      "cell_type": "code",
      "execution_count": 139,
      "metadata": {
        "colab": {
          "base_uri": "https://localhost:8080/"
        },
        "id": "_KaQx7gpKeAx",
        "outputId": "8f048139-0c54-4f88-ed60-cdcf03b9781e"
      },
      "outputs": [
        {
          "output_type": "stream",
          "name": "stdout",
          "text": [
            "My name is Oba and I am a Labrador\n",
            "Here are the tricks I can do:  []\n"
          ]
        }
      ],
      "source": [
        "d1.change_name_and_breed('Oba', 'Labrador')\n",
        "\n",
        "d1.print_details()"
      ]
    },
    {
      "cell_type": "markdown",
      "metadata": {
        "id": "IsR8wJNQKeAx"
      },
      "source": [
        "### Create a class for a student which contains the following information\n",
        "\n",
        "* name\n",
        "* gpa\n",
        "* active student or not\n",
        "* clubs the student is a member of\n",
        "\n",
        "Write functions to change the value of each student attribute"
      ]
    },
    {
      "cell_type": "code",
      "execution_count": 140,
      "metadata": {
        "id": "556_e_IzKeAx"
      },
      "outputs": [],
      "source": [
        "class Student:\n",
        "    \n",
        "    def __init__(self, name, gpa):\n",
        "        self.__name = name\n",
        "        self.__gpa = gpa\n",
        "        self.__clubs = set()\n",
        "        self.__active = True\n",
        "        \n",
        "    def set_name(self, name):\n",
        "        self.__name = name\n",
        "        \n",
        "    def set_gpa(self, gpa):\n",
        "        self.__gpa = gpa\n",
        "        \n",
        "    def add_club(self, club):\n",
        "        self.__clubs.add(club)\n",
        "\n",
        "    def remove_club(self, club):\n",
        "        self.__clubs.remove(club)\n",
        "    \n",
        "    def set_active(self, is_honors_student):\n",
        "        self.__is_honors_student = is_honors_student\n",
        "        \n",
        "    def print_details(self):\n",
        "        print('Student: ', self.__name)\n",
        "        print(self.__gpa, self.__clubs, self.__active)"
      ]
    },
    {
      "cell_type": "code",
      "execution_count": 141,
      "metadata": {
        "id": "Q3sZR9Q4KeAx"
      },
      "outputs": [],
      "source": [
        "s = Student('James', 3.8)"
      ]
    },
    {
      "cell_type": "code",
      "execution_count": 142,
      "metadata": {
        "id": "u4ETjIkzKeAx"
      },
      "outputs": [],
      "source": [
        "s.add_club('Yoga')"
      ]
    },
    {
      "cell_type": "code",
      "execution_count": 143,
      "metadata": {
        "colab": {
          "base_uri": "https://localhost:8080/"
        },
        "id": "8MuVyjwnKeAy",
        "outputId": "79faeabe-a9cb-460f-a78e-af074cc1eb9a"
      },
      "outputs": [
        {
          "output_type": "stream",
          "name": "stdout",
          "text": [
            "Student:  James\n",
            "3.8 {'Yoga'} True\n"
          ]
        }
      ],
      "source": [
        "s.print_details()"
      ]
    },
    {
      "cell_type": "code",
      "execution_count": 144,
      "metadata": {
        "id": "HxH-KLFmKeAy"
      },
      "outputs": [],
      "source": [
        "s.add_club('yoga')"
      ]
    },
    {
      "cell_type": "code",
      "execution_count": 145,
      "metadata": {
        "colab": {
          "base_uri": "https://localhost:8080/"
        },
        "id": "u7XkZhvJKeAy",
        "outputId": "c0b038ed-1eef-457c-ff09-29f5def6d36a"
      },
      "outputs": [
        {
          "output_type": "stream",
          "name": "stdout",
          "text": [
            "Student:  James\n",
            "3.8 {'yoga', 'Yoga'} True\n"
          ]
        }
      ],
      "source": [
        "s.print_details()"
      ]
    },
    {
      "cell_type": "code",
      "execution_count": 146,
      "metadata": {
        "id": "Yrrn1DO4KeAy"
      },
      "outputs": [],
      "source": [
        "s.add_club('yoga')"
      ]
    },
    {
      "cell_type": "code",
      "execution_count": 147,
      "metadata": {
        "colab": {
          "base_uri": "https://localhost:8080/"
        },
        "id": "z3I_B1uxKeAy",
        "outputId": "d7ea6492-79a6-4cfc-b15a-f362ab75c354"
      },
      "outputs": [
        {
          "output_type": "stream",
          "name": "stdout",
          "text": [
            "Student:  James\n",
            "3.8 {'yoga', 'Yoga'} True\n"
          ]
        }
      ],
      "source": [
        "s.print_details()"
      ]
    },
    {
      "cell_type": "code",
      "execution_count": 148,
      "metadata": {
        "colab": {
          "base_uri": "https://localhost:8080/"
        },
        "id": "JvI1BehBKeAy",
        "outputId": "8d372ac8-0a0c-4217-c51b-051c7ad8b0b9"
      },
      "outputs": [
        {
          "output_type": "stream",
          "name": "stdout",
          "text": [
            "Student:  James\n",
            "3.9 {'yoga', 'Yoga'} True\n"
          ]
        }
      ],
      "source": [
        "s.set_gpa(3.9)\n",
        "\n",
        "s.print_details()"
      ]
    },
    {
      "cell_type": "code",
      "execution_count": 149,
      "metadata": {
        "id": "im0_o330KeAy"
      },
      "outputs": [],
      "source": [
        "# You have student details in a dictionary format i.e a list of dictionaries. Write a method to convert these \n",
        "# to instances of the student class. Return a list of instances from a function\n",
        "\n",
        "student_details_list = [\n",
        "    {'name': 'Nina', 'gpa': 3.6, 'clubs': ['tennis', 'chess']},\n",
        "    {'name': 'Emily', 'gpa': 3.9, 'clubs': ['tennis'], 'active': False},\n",
        "    {'name': 'Michael', 'gpa': 3.2, 'clubs': ['football', 'chess']},\n",
        "    {'name': 'Joe', 'gpa': 3.9, 'is_honors_student': True}\n",
        "]"
      ]
    },
    {
      "cell_type": "code",
      "execution_count": 150,
      "metadata": {
        "id": "0LstyvkMKeAy"
      },
      "outputs": [],
      "source": [
        "def get_students(student_details_list):\n",
        "    students_list = []\n",
        "\n",
        "    for student_details in student_details_list:\n",
        "        \n",
        "        if 'name' not in student_details or 'gpa' not in student_details:\n",
        "            continue\n",
        "            \n",
        "        s = Student(student_details['name'], student_details['gpa'])\n",
        "        \n",
        "        if 'clubs' in student_details:\n",
        "            for club in student_details['clubs']:\n",
        "                s.add_club(club)\n",
        "\n",
        "        if 'active' in student_details:\n",
        "            s.set_active(student_details['active'])\n",
        "    \n",
        "        students_list.append(s)\n",
        "        \n",
        "    return students_list    "
      ]
    },
    {
      "cell_type": "code",
      "execution_count": 151,
      "metadata": {
        "id": "EhaDDU-RKeAy"
      },
      "outputs": [],
      "source": [
        "students = get_students(student_details_list)"
      ]
    },
    {
      "cell_type": "code",
      "execution_count": 152,
      "metadata": {
        "colab": {
          "base_uri": "https://localhost:8080/"
        },
        "id": "eO6k9pmTKeAy",
        "outputId": "addb7504-25fa-4d49-819e-bcf508fe97d6"
      },
      "outputs": [
        {
          "output_type": "execute_result",
          "data": {
            "text/plain": [
              "[<__main__.Student at 0x7f6253ed46d0>,\n",
              " <__main__.Student at 0x7f6253ed4410>,\n",
              " <__main__.Student at 0x7f6253ed4610>,\n",
              " <__main__.Student at 0x7f6253ed4490>]"
            ]
          },
          "metadata": {},
          "execution_count": 152
        }
      ],
      "source": [
        "students"
      ]
    },
    {
      "cell_type": "code",
      "execution_count": 153,
      "metadata": {
        "colab": {
          "base_uri": "https://localhost:8080/"
        },
        "id": "cxBxxWbZKeAy",
        "outputId": "66a1d4e1-58bb-4f62-cbdb-dc8cb32e95dd"
      },
      "outputs": [
        {
          "output_type": "stream",
          "name": "stdout",
          "text": [
            "Student:  Nina\n",
            "3.6 {'chess', 'tennis'} True\n",
            "Student:  Emily\n",
            "3.9 {'tennis'} True\n",
            "Student:  Michael\n",
            "3.2 {'chess', 'football'} True\n",
            "Student:  Joe\n",
            "3.9 set() True\n"
          ]
        }
      ],
      "source": [
        "for student in students:\n",
        "    student.print_details()"
      ]
    },
    {
      "cell_type": "code",
      "execution_count": 154,
      "metadata": {
        "id": "BoRLYXdRKeAz"
      },
      "outputs": [],
      "source": [
        "# Set up a Circle class which takes in a radius and has methods which calculate the area and perimeter\n",
        "# for the circle\n",
        "\n",
        "import math\n",
        "\n",
        "class Circle:\n",
        "    \n",
        "    def __init__(self, radius):\n",
        "        self.__radius = radius\n",
        "    \n",
        "    def get_area(self):\n",
        "        return math.pi * self.__radius * self.__radius\n",
        "    \n",
        "    def get_perimeter(self):\n",
        "        return 2 * math.pi * self.__radius\n",
        "        "
      ]
    },
    {
      "cell_type": "code",
      "execution_count": 155,
      "metadata": {
        "id": "-AKZa3FFKeAz"
      },
      "outputs": [],
      "source": [
        "c = Circle(12)"
      ]
    },
    {
      "cell_type": "code",
      "execution_count": 156,
      "metadata": {
        "colab": {
          "base_uri": "https://localhost:8080/"
        },
        "id": "zPFeEeLaKeAz",
        "outputId": "103e50c2-055e-47ce-c041-a47cf71de88a"
      },
      "outputs": [
        {
          "output_type": "execute_result",
          "data": {
            "text/plain": [
              "(452.3893421169302, 75.39822368615503)"
            ]
          },
          "metadata": {},
          "execution_count": 156
        }
      ],
      "source": [
        "c.get_area(), c.get_perimeter()"
      ]
    },
    {
      "cell_type": "markdown",
      "metadata": {
        "id": "MUua12BgKeAz"
      },
      "source": [
        "### Create a class for a student which contains the following information\n",
        "\n",
        "* name\n",
        "* gpa\n",
        "* active student or not\n",
        "* clubs the student is a member of\n",
        "\n",
        "Write functions to change the value of each student attribute"
      ]
    },
    {
      "cell_type": "markdown",
      "metadata": {
        "id": "UCOTHYxUKeA1"
      },
      "source": [
        "#### All these ways of declaring a class are the same in Python 3"
      ]
    },
    {
      "cell_type": "code",
      "execution_count": 157,
      "metadata": {
        "id": "m_jt7OAvKeA1"
      },
      "outputs": [],
      "source": [
        "class Shape:\n",
        "    pass"
      ]
    },
    {
      "cell_type": "code",
      "execution_count": 158,
      "metadata": {
        "id": "qTaI6Pz1KeA2"
      },
      "outputs": [],
      "source": [
        "class Shape():\n",
        "    pass"
      ]
    },
    {
      "cell_type": "code",
      "execution_count": 159,
      "metadata": {
        "id": "Ck5g-ZYaKeA2"
      },
      "outputs": [],
      "source": [
        "class Shape(object):\n",
        "    pass"
      ]
    },
    {
      "cell_type": "code",
      "execution_count": 160,
      "metadata": {
        "id": "le2gx9KTKeA2"
      },
      "outputs": [],
      "source": [
        "class Shape:\n",
        "    \n",
        "    def __init__(self, shape_type):\n",
        "        self.__type = shape_type\n",
        "    \n",
        "    def get_type(self):\n",
        "        return self.__type"
      ]
    },
    {
      "cell_type": "code",
      "execution_count": 161,
      "metadata": {
        "colab": {
          "base_uri": "https://localhost:8080/"
        },
        "id": "gX1KqRikKeA2",
        "outputId": "59266b20-0c8a-4c90-9e3e-56bf291ad755"
      },
      "outputs": [
        {
          "output_type": "execute_result",
          "data": {
            "text/plain": [
              "__main__.Shape"
            ]
          },
          "metadata": {},
          "execution_count": 161
        }
      ],
      "source": [
        "circle = Shape('circle')\n",
        "\n",
        "type(circle)"
      ]
    },
    {
      "cell_type": "code",
      "execution_count": 162,
      "metadata": {
        "colab": {
          "base_uri": "https://localhost:8080/",
          "height": 35
        },
        "id": "KrwnxTBJKeA2",
        "outputId": "f312a018-23c4-4d0b-dbcf-c46fd6bd77b5"
      },
      "outputs": [
        {
          "output_type": "execute_result",
          "data": {
            "application/vnd.google.colaboratory.intrinsic+json": {
              "type": "string"
            },
            "text/plain": [
              "'circle'"
            ]
          },
          "metadata": {},
          "execution_count": 162
        }
      ],
      "source": [
        "circle.get_type()"
      ]
    },
    {
      "cell_type": "code",
      "execution_count": 163,
      "metadata": {
        "colab": {
          "base_uri": "https://localhost:8080/"
        },
        "id": "JhqBor0JKeA2",
        "outputId": "91b9a51d-5eb4-4346-b1c1-1dc266334ecd"
      },
      "outputs": [
        {
          "output_type": "execute_result",
          "data": {
            "text/plain": [
              "__main__.Shape"
            ]
          },
          "metadata": {},
          "execution_count": 163
        }
      ],
      "source": [
        "square = Shape('square')\n",
        "\n",
        "type(square)"
      ]
    },
    {
      "cell_type": "code",
      "execution_count": 164,
      "metadata": {
        "colab": {
          "base_uri": "https://localhost:8080/",
          "height": 35
        },
        "id": "uhCcCqR9KeA2",
        "outputId": "80362015-571b-4fbe-b21c-254877a31770"
      },
      "outputs": [
        {
          "output_type": "execute_result",
          "data": {
            "application/vnd.google.colaboratory.intrinsic+json": {
              "type": "string"
            },
            "text/plain": [
              "'square'"
            ]
          },
          "metadata": {},
          "execution_count": 164
        }
      ],
      "source": [
        "square.get_type()"
      ]
    },
    {
      "cell_type": "code",
      "execution_count": 165,
      "metadata": {
        "id": "ov-JZmthKeA2"
      },
      "outputs": [],
      "source": [
        "class Shape:\n",
        "    \n",
        "    def __init__(self, shape_type, color='Red'):\n",
        "        self.__type = shape_type\n",
        "        self.__color = color\n",
        "    \n",
        "    def get_type(self):\n",
        "        return self.__type\n",
        "    \n",
        "    def get_color(self):\n",
        "        return self.__color"
      ]
    },
    {
      "cell_type": "code",
      "execution_count": 166,
      "metadata": {
        "colab": {
          "base_uri": "https://localhost:8080/",
          "height": 35
        },
        "id": "exAQXYghKeA2",
        "outputId": "d9c7a6d5-88bc-40dc-fe6a-d31e91acedf7"
      },
      "outputs": [
        {
          "output_type": "execute_result",
          "data": {
            "application/vnd.google.colaboratory.intrinsic+json": {
              "type": "string"
            },
            "text/plain": [
              "'Red'"
            ]
          },
          "metadata": {},
          "execution_count": 166
        }
      ],
      "source": [
        "circle = Shape('circle')\n",
        "\n",
        "circle.get_color()"
      ]
    },
    {
      "cell_type": "code",
      "execution_count": 167,
      "metadata": {
        "colab": {
          "base_uri": "https://localhost:8080/",
          "height": 35
        },
        "id": "hdO_mgfkKeA2",
        "outputId": "d99eae74-7773-4663-bb7e-62c8510cd1a8"
      },
      "outputs": [
        {
          "output_type": "execute_result",
          "data": {
            "application/vnd.google.colaboratory.intrinsic+json": {
              "type": "string"
            },
            "text/plain": [
              "'Blue'"
            ]
          },
          "metadata": {},
          "execution_count": 167
        }
      ],
      "source": [
        "square = Shape('square', color='Blue')\n",
        "\n",
        "square.get_color()"
      ]
    },
    {
      "cell_type": "code",
      "execution_count": 168,
      "metadata": {
        "id": "MXeNBgbjKeA2"
      },
      "outputs": [],
      "source": [
        "class Shape:\n",
        "    \n",
        "    def __init__(self, shape_type, color='Red'):\n",
        "        self.__type = shape_type\n",
        "        self.__color = color\n",
        "    \n",
        "    def get_type(self):\n",
        "        return self.__type\n",
        "    \n",
        "    def get_color(self):\n",
        "        return self.__color\n",
        "    \n",
        "    def get_area(self):\n",
        "        pass\n",
        "    \n",
        "    def get_perimeter(self):\n",
        "        pass"
      ]
    },
    {
      "cell_type": "code",
      "execution_count": 169,
      "metadata": {
        "id": "--lewO7gKeA3"
      },
      "outputs": [],
      "source": [
        "s = Shape('circle')"
      ]
    },
    {
      "cell_type": "code",
      "execution_count": 170,
      "metadata": {
        "id": "rAmIug-AKeA3"
      },
      "outputs": [],
      "source": [
        "s.get_area()"
      ]
    },
    {
      "cell_type": "code",
      "execution_count": 171,
      "metadata": {
        "id": "NCQn95BsKeA3"
      },
      "outputs": [],
      "source": [
        "s.get_perimeter()"
      ]
    },
    {
      "cell_type": "code",
      "execution_count": 172,
      "metadata": {
        "id": "TpvTsdIqKeA3"
      },
      "outputs": [],
      "source": [
        "class Circle(Shape):\n",
        "    pass"
      ]
    },
    {
      "cell_type": "code",
      "execution_count": 173,
      "metadata": {
        "colab": {
          "base_uri": "https://localhost:8080/",
          "height": 166
        },
        "id": "-TXq57QDKeA3",
        "outputId": "5d79070e-f8ef-486f-9fe3-a8385eff70bc"
      },
      "outputs": [
        {
          "output_type": "error",
          "ename": "TypeError",
          "evalue": "ignored",
          "traceback": [
            "\u001b[0;31m---------------------------------------------------------------------------\u001b[0m",
            "\u001b[0;31mTypeError\u001b[0m                                 Traceback (most recent call last)",
            "\u001b[0;32m<ipython-input-173-44096b99874a>\u001b[0m in \u001b[0;36m<module>\u001b[0;34m()\u001b[0m\n\u001b[0;32m----> 1\u001b[0;31m \u001b[0mcircle\u001b[0m \u001b[0;34m=\u001b[0m \u001b[0mCircle\u001b[0m\u001b[0;34m(\u001b[0m\u001b[0;34m)\u001b[0m\u001b[0;34m\u001b[0m\u001b[0;34m\u001b[0m\u001b[0m\n\u001b[0m",
            "\u001b[0;31mTypeError\u001b[0m: __init__() missing 1 required positional argument: 'shape_type'"
          ]
        }
      ],
      "source": [
        "circle = Circle()"
      ]
    },
    {
      "cell_type": "code",
      "execution_count": 174,
      "metadata": {
        "colab": {
          "base_uri": "https://localhost:8080/"
        },
        "id": "6FN_H-dnKeA3",
        "outputId": "140f6f67-fab9-489b-e609-44f5f36ee3b5"
      },
      "outputs": [
        {
          "output_type": "execute_result",
          "data": {
            "text/plain": [
              "__main__.Circle"
            ]
          },
          "metadata": {},
          "execution_count": 174
        }
      ],
      "source": [
        "circle = Circle('circle')\n",
        "\n",
        "type(circle)"
      ]
    },
    {
      "cell_type": "code",
      "execution_count": 175,
      "metadata": {
        "id": "bqoPWvBNKeA3"
      },
      "outputs": [],
      "source": [
        "class Square(Shape):\n",
        "    pass"
      ]
    },
    {
      "cell_type": "code",
      "execution_count": 176,
      "metadata": {
        "colab": {
          "base_uri": "https://localhost:8080/"
        },
        "id": "chWY9Y4VKeA4",
        "outputId": "6b73fa9a-3454-4f90-89b6-abe720e9a43f"
      },
      "outputs": [
        {
          "output_type": "execute_result",
          "data": {
            "text/plain": [
              "__main__.Square"
            ]
          },
          "metadata": {},
          "execution_count": 176
        }
      ],
      "source": [
        "square = Square('square')\n",
        "\n",
        "type(square)"
      ]
    },
    {
      "cell_type": "code",
      "execution_count": 177,
      "metadata": {
        "id": "avfsIilFKeA4"
      },
      "outputs": [],
      "source": [
        "class Circle(Shape):\n",
        "    \n",
        "    def __init__(self):\n",
        "        Shape.__init__(self, 'circle')"
      ]
    },
    {
      "cell_type": "code",
      "execution_count": 178,
      "metadata": {
        "id": "E8ffmhYlKeA4"
      },
      "outputs": [],
      "source": [
        "class Square(Shape):\n",
        "    \n",
        "    def __init__(self):\n",
        "        Shape.__init__(self, 'square')"
      ]
    },
    {
      "cell_type": "code",
      "execution_count": 179,
      "metadata": {
        "id": "zAKzOHkPKeA4"
      },
      "outputs": [],
      "source": [
        "circle = Circle()\n",
        "\n",
        "square = Square()"
      ]
    },
    {
      "cell_type": "code",
      "execution_count": 180,
      "metadata": {
        "colab": {
          "base_uri": "https://localhost:8080/"
        },
        "id": "_8hzrW7ZKeA4",
        "outputId": "59738a36-b340-45fe-f760-4101f6f74bc8"
      },
      "outputs": [
        {
          "output_type": "execute_result",
          "data": {
            "text/plain": [
              "(__main__.Circle, __main__.Square)"
            ]
          },
          "metadata": {},
          "execution_count": 180
        }
      ],
      "source": [
        "type(circle), type(square)"
      ]
    },
    {
      "cell_type": "code",
      "execution_count": 181,
      "metadata": {
        "colab": {
          "base_uri": "https://localhost:8080/"
        },
        "id": "eSHbTV8tKeA5",
        "outputId": "3b3eb7f9-ead5-472c-bf66-d196ec3478e1"
      },
      "outputs": [
        {
          "output_type": "execute_result",
          "data": {
            "text/plain": [
              "('circle', 'square')"
            ]
          },
          "metadata": {},
          "execution_count": 181
        }
      ],
      "source": [
        "circle.get_type(), square.get_type()"
      ]
    },
    {
      "cell_type": "code",
      "execution_count": 182,
      "metadata": {
        "colab": {
          "base_uri": "https://localhost:8080/"
        },
        "id": "BrsCk7s4KeA5",
        "outputId": "110d2110-7772-427b-d1a6-01e002abee59"
      },
      "outputs": [
        {
          "output_type": "execute_result",
          "data": {
            "text/plain": [
              "('Red', 'Red')"
            ]
          },
          "metadata": {},
          "execution_count": 182
        }
      ],
      "source": [
        "circle.get_color(), square.get_color()"
      ]
    },
    {
      "cell_type": "code",
      "execution_count": 183,
      "metadata": {
        "id": "3Jt1wyrJKeA5"
      },
      "outputs": [],
      "source": [
        "class Circle(Shape):\n",
        "    \n",
        "    def __init__(self, color='Green'):\n",
        "        Shape.__init__(self, 'circle', color)     "
      ]
    },
    {
      "cell_type": "code",
      "execution_count": 184,
      "metadata": {
        "colab": {
          "base_uri": "https://localhost:8080/",
          "height": 35
        },
        "id": "aA794BqzKeA5",
        "outputId": "4cd80e0e-25de-45e1-f88a-37b6d5c46f7a"
      },
      "outputs": [
        {
          "output_type": "execute_result",
          "data": {
            "application/vnd.google.colaboratory.intrinsic+json": {
              "type": "string"
            },
            "text/plain": [
              "'Green'"
            ]
          },
          "metadata": {},
          "execution_count": 184
        }
      ],
      "source": [
        "circle = Circle()\n",
        "\n",
        "circle.get_color()"
      ]
    },
    {
      "cell_type": "code",
      "execution_count": 185,
      "metadata": {
        "colab": {
          "base_uri": "https://localhost:8080/",
          "height": 35
        },
        "id": "-t39z6s7KeA5",
        "outputId": "7318bd37-9173-4437-a058-2407eb5ebb24"
      },
      "outputs": [
        {
          "output_type": "execute_result",
          "data": {
            "application/vnd.google.colaboratory.intrinsic+json": {
              "type": "string"
            },
            "text/plain": [
              "'Yellow'"
            ]
          },
          "metadata": {},
          "execution_count": 185
        }
      ],
      "source": [
        "circle = Circle('Yellow')\n",
        "\n",
        "circle.get_color()"
      ]
    },
    {
      "cell_type": "code",
      "execution_count": 186,
      "metadata": {
        "id": "f2QTrJssKeA5"
      },
      "outputs": [],
      "source": [
        "class Square(Shape):\n",
        "    \n",
        "    def __init__(self, color):\n",
        "        Shape.__init__(self, 'square', color) "
      ]
    },
    {
      "cell_type": "code",
      "execution_count": 187,
      "metadata": {
        "colab": {
          "base_uri": "https://localhost:8080/",
          "height": 166
        },
        "id": "Bqev1YMYKeA5",
        "outputId": "4b0cb9b6-93c0-4a4e-f78d-7af54bcf19c1"
      },
      "outputs": [
        {
          "output_type": "error",
          "ename": "TypeError",
          "evalue": "ignored",
          "traceback": [
            "\u001b[0;31m---------------------------------------------------------------------------\u001b[0m",
            "\u001b[0;31mTypeError\u001b[0m                                 Traceback (most recent call last)",
            "\u001b[0;32m<ipython-input-187-9d3d9d456fa9>\u001b[0m in \u001b[0;36m<module>\u001b[0;34m()\u001b[0m\n\u001b[0;32m----> 1\u001b[0;31m \u001b[0msquare\u001b[0m \u001b[0;34m=\u001b[0m \u001b[0mSquare\u001b[0m\u001b[0;34m(\u001b[0m\u001b[0;34m)\u001b[0m\u001b[0;34m\u001b[0m\u001b[0;34m\u001b[0m\u001b[0m\n\u001b[0m",
            "\u001b[0;31mTypeError\u001b[0m: __init__() missing 1 required positional argument: 'color'"
          ]
        }
      ],
      "source": [
        "square = Square()"
      ]
    },
    {
      "cell_type": "code",
      "execution_count": 188,
      "metadata": {
        "colab": {
          "base_uri": "https://localhost:8080/",
          "height": 35
        },
        "id": "l07vIPv9KeA6",
        "outputId": "146f3621-5e4a-4b08-e171-1aa9f8e85363"
      },
      "outputs": [
        {
          "output_type": "execute_result",
          "data": {
            "application/vnd.google.colaboratory.intrinsic+json": {
              "type": "string"
            },
            "text/plain": [
              "'Orange'"
            ]
          },
          "metadata": {},
          "execution_count": 188
        }
      ],
      "source": [
        "square = Square('Orange')\n",
        "\n",
        "square.get_color()"
      ]
    },
    {
      "cell_type": "code",
      "execution_count": 189,
      "metadata": {
        "id": "wCzIeDtdKeA6"
      },
      "outputs": [],
      "source": [
        "import math\n",
        "\n",
        "class Circle(Shape):\n",
        "    \n",
        "    def __init__(self, radius):\n",
        "        Shape.__init__(self, 'circle')\n",
        "        \n",
        "        self.__radius = radius\n",
        "        \n",
        "    def get_area(self):\n",
        "        return math.pi * self.__radius * self.__radius\n",
        "    \n",
        "    def get_perimeter(self):\n",
        "        return 2 * math.pi * self.__radius"
      ]
    },
    {
      "cell_type": "code",
      "execution_count": 190,
      "metadata": {
        "id": "RO8sz7rIKeA6"
      },
      "outputs": [],
      "source": [
        "c = Circle(10)"
      ]
    },
    {
      "cell_type": "code",
      "execution_count": 191,
      "metadata": {
        "colab": {
          "base_uri": "https://localhost:8080/"
        },
        "id": "ga_eyJAqKeA6",
        "outputId": "9d374285-be29-4ba6-820f-efceba03944e"
      },
      "outputs": [
        {
          "output_type": "execute_result",
          "data": {
            "text/plain": [
              "314.1592653589793"
            ]
          },
          "metadata": {},
          "execution_count": 191
        }
      ],
      "source": [
        "c.get_area()"
      ]
    },
    {
      "cell_type": "code",
      "execution_count": 192,
      "metadata": {
        "colab": {
          "base_uri": "https://localhost:8080/"
        },
        "id": "0MsWrszPKeA6",
        "outputId": "d7174803-eb97-46ca-c518-ff464461761e"
      },
      "outputs": [
        {
          "output_type": "execute_result",
          "data": {
            "text/plain": [
              "62.83185307179586"
            ]
          },
          "metadata": {},
          "execution_count": 192
        }
      ],
      "source": [
        "c.get_perimeter()"
      ]
    },
    {
      "cell_type": "code",
      "execution_count": 193,
      "metadata": {
        "id": "OdWm-V8yKeA6"
      },
      "outputs": [],
      "source": [
        "class Square(Shape):\n",
        "    \n",
        "    def __init__(self, side):\n",
        "        Shape.__init__(self, 'square')\n",
        "        \n",
        "        self.__side = side\n",
        "        \n",
        "    def get_area(self):\n",
        "        return self.__side * self.__side\n",
        "    \n",
        "    def get_perimeter(self):\n",
        "        return 4 * self.__side"
      ]
    },
    {
      "cell_type": "code",
      "execution_count": 194,
      "metadata": {
        "id": "A-BfoxYnKeA6"
      },
      "outputs": [],
      "source": [
        "s = Square(10)"
      ]
    },
    {
      "cell_type": "code",
      "execution_count": 195,
      "metadata": {
        "colab": {
          "base_uri": "https://localhost:8080/"
        },
        "id": "RhidqH1QKeA6",
        "outputId": "78d3e3d7-18db-4339-f15b-17ca87c8b965"
      },
      "outputs": [
        {
          "output_type": "execute_result",
          "data": {
            "text/plain": [
              "100"
            ]
          },
          "metadata": {},
          "execution_count": 195
        }
      ],
      "source": [
        "s.get_area()"
      ]
    },
    {
      "cell_type": "code",
      "execution_count": 196,
      "metadata": {
        "colab": {
          "base_uri": "https://localhost:8080/"
        },
        "id": "luRlKcrGKeA6",
        "outputId": "2b9e1c7a-0327-4e6b-9b0b-98b8b7e7c256"
      },
      "outputs": [
        {
          "output_type": "execute_result",
          "data": {
            "text/plain": [
              "40"
            ]
          },
          "metadata": {},
          "execution_count": 196
        }
      ],
      "source": [
        "s.get_perimeter()"
      ]
    },
    {
      "cell_type": "markdown",
      "metadata": {
        "id": "xp84rY8RKeBI"
      },
      "source": [
        "### In inheritance the subclass inherits all the attributes and the methods from the super class"
      ]
    },
    {
      "cell_type": "code",
      "execution_count": 197,
      "metadata": {
        "id": "jQOnOBBDKeBJ"
      },
      "outputs": [],
      "source": [
        "class Competition:\n",
        "    \n",
        "    __raise_amount = 1.10\n",
        "    \n",
        "    def __init__(self, name, prize):  \n",
        "        self.__name = name\n",
        "        self.__prize = prize\n",
        "        \n",
        "    def get_name(self):\n",
        "        return self.__name\n",
        "\n",
        "    def get_prize(self):\n",
        "        return self.__prize\n",
        "\n",
        "    def raise_prize(self): \n",
        "        self.__prize = self.__prize * self.__raise_amount    "
      ]
    },
    {
      "cell_type": "code",
      "execution_count": 198,
      "metadata": {
        "colab": {
          "base_uri": "https://localhost:8080/"
        },
        "id": "ednCzBsLKeBJ",
        "outputId": "c5abad20-bf8c-4ee3-f889-2d1e60e08650"
      },
      "outputs": [
        {
          "output_type": "execute_result",
          "data": {
            "text/plain": [
              "__main__.Competition"
            ]
          },
          "metadata": {},
          "execution_count": 198
        }
      ],
      "source": [
        "race = Competition('Race', 100)\n",
        "\n",
        "type(race)"
      ]
    },
    {
      "cell_type": "code",
      "execution_count": 199,
      "metadata": {
        "colab": {
          "base_uri": "https://localhost:8080/"
        },
        "id": "2-zwq13_KeBJ",
        "outputId": "1d10622a-037d-4ec5-bb68-cc9d27e5215f"
      },
      "outputs": [
        {
          "output_type": "stream",
          "name": "stdout",
          "text": [
            "Help on class Competition in module __main__:\n",
            "\n",
            "class Competition(builtins.object)\n",
            " |  Competition(name, prize)\n",
            " |  \n",
            " |  Methods defined here:\n",
            " |  \n",
            " |  __init__(self, name, prize)\n",
            " |      Initialize self.  See help(type(self)) for accurate signature.\n",
            " |  \n",
            " |  get_name(self)\n",
            " |  \n",
            " |  get_prize(self)\n",
            " |  \n",
            " |  raise_prize(self)\n",
            " |  \n",
            " |  ----------------------------------------------------------------------\n",
            " |  Data descriptors defined here:\n",
            " |  \n",
            " |  __dict__\n",
            " |      dictionary for instance variables (if defined)\n",
            " |  \n",
            " |  __weakref__\n",
            " |      list of weak references to the object (if defined)\n",
            "\n"
          ]
        }
      ],
      "source": [
        "help(Competition)"
      ]
    },
    {
      "cell_type": "code",
      "execution_count": 200,
      "metadata": {
        "colab": {
          "base_uri": "https://localhost:8080/"
        },
        "id": "FL9k2jqxKeBJ",
        "outputId": "e5163180-915f-4ba7-f656-881feff3eba3"
      },
      "outputs": [
        {
          "output_type": "execute_result",
          "data": {
            "text/plain": [
              "mappingproxy({'_Competition__raise_amount': 1.1,\n",
              "              '__dict__': <attribute '__dict__' of 'Competition' objects>,\n",
              "              '__doc__': None,\n",
              "              '__init__': <function __main__.Competition.__init__>,\n",
              "              '__module__': '__main__',\n",
              "              '__weakref__': <attribute '__weakref__' of 'Competition' objects>,\n",
              "              'get_name': <function __main__.Competition.get_name>,\n",
              "              'get_prize': <function __main__.Competition.get_prize>,\n",
              "              'raise_prize': <function __main__.Competition.raise_prize>})"
            ]
          },
          "metadata": {},
          "execution_count": 200
        }
      ],
      "source": [
        "Competition.__dict__"
      ]
    },
    {
      "cell_type": "markdown",
      "metadata": {
        "id": "_N1nAfisKeBJ"
      },
      "source": [
        "### Creating subclass"
      ]
    },
    {
      "cell_type": "code",
      "execution_count": 201,
      "metadata": {
        "id": "_QMudr27KeBJ"
      },
      "outputs": [],
      "source": [
        "class Sprint(Competition):\n",
        "    pass"
      ]
    },
    {
      "cell_type": "code",
      "execution_count": 202,
      "metadata": {
        "colab": {
          "base_uri": "https://localhost:8080/"
        },
        "id": "SbYr4CLFKeBJ",
        "outputId": "9ea0a768-8fad-4e43-b2ac-3904af15004f"
      },
      "outputs": [
        {
          "output_type": "stream",
          "name": "stdout",
          "text": [
            "Help on class Sprint in module __main__:\n",
            "\n",
            "class Sprint(Competition)\n",
            " |  Sprint(name, prize)\n",
            " |  \n",
            " |  Method resolution order:\n",
            " |      Sprint\n",
            " |      Competition\n",
            " |      builtins.object\n",
            " |  \n",
            " |  Methods inherited from Competition:\n",
            " |  \n",
            " |  __init__(self, name, prize)\n",
            " |      Initialize self.  See help(type(self)) for accurate signature.\n",
            " |  \n",
            " |  get_name(self)\n",
            " |  \n",
            " |  get_prize(self)\n",
            " |  \n",
            " |  raise_prize(self)\n",
            " |  \n",
            " |  ----------------------------------------------------------------------\n",
            " |  Data descriptors inherited from Competition:\n",
            " |  \n",
            " |  __dict__\n",
            " |      dictionary for instance variables (if defined)\n",
            " |  \n",
            " |  __weakref__\n",
            " |      list of weak references to the object (if defined)\n",
            "\n"
          ]
        }
      ],
      "source": [
        "help(Sprint)"
      ]
    },
    {
      "cell_type": "code",
      "execution_count": 203,
      "metadata": {
        "colab": {
          "base_uri": "https://localhost:8080/"
        },
        "id": "_1FDXZCmKeBJ",
        "outputId": "672e6dd8-91b6-42cb-9cb0-660c78109fdd"
      },
      "outputs": [
        {
          "output_type": "execute_result",
          "data": {
            "text/plain": [
              "mappingproxy({'_Competition__raise_amount': 1.1,\n",
              "              '__dict__': <attribute '__dict__' of 'Competition' objects>,\n",
              "              '__doc__': None,\n",
              "              '__init__': <function __main__.Competition.__init__>,\n",
              "              '__module__': '__main__',\n",
              "              '__weakref__': <attribute '__weakref__' of 'Competition' objects>,\n",
              "              'get_name': <function __main__.Competition.get_name>,\n",
              "              'get_prize': <function __main__.Competition.get_prize>,\n",
              "              'raise_prize': <function __main__.Competition.raise_prize>})"
            ]
          },
          "metadata": {},
          "execution_count": 203
        }
      ],
      "source": [
        "Competition.__dict__"
      ]
    },
    {
      "cell_type": "code",
      "execution_count": 204,
      "metadata": {
        "colab": {
          "base_uri": "https://localhost:8080/"
        },
        "id": "yV_02W53KeBJ",
        "outputId": "f406dd65-73a0-4865-fa62-f7323085fd7d"
      },
      "outputs": [
        {
          "output_type": "execute_result",
          "data": {
            "text/plain": [
              "mappingproxy({'__doc__': None, '__module__': '__main__'})"
            ]
          },
          "metadata": {},
          "execution_count": 204
        }
      ],
      "source": [
        "Sprint.__dict__"
      ]
    },
    {
      "cell_type": "markdown",
      "metadata": {
        "id": "ma6HOmv0KeBJ"
      },
      "source": [
        "* Here the Sprinter will inherit all the methods and attributes of class Competition"
      ]
    },
    {
      "cell_type": "code",
      "execution_count": 205,
      "metadata": {
        "colab": {
          "base_uri": "https://localhost:8080/"
        },
        "id": "ssyDeUI5KeBJ",
        "outputId": "9b45ff81-fd80-454a-ff9f-62218f93f07a"
      },
      "outputs": [
        {
          "output_type": "execute_result",
          "data": {
            "text/plain": [
              "__main__.Sprint"
            ]
          },
          "metadata": {},
          "execution_count": 205
        }
      ],
      "source": [
        "sprint = Sprint('100m', 700)\n",
        "\n",
        "type(sprint)"
      ]
    },
    {
      "cell_type": "code",
      "execution_count": 206,
      "metadata": {
        "colab": {
          "base_uri": "https://localhost:8080/"
        },
        "id": "tzLqmg7nKeBJ",
        "outputId": "68cd97c0-af17-4457-f3fd-617d8c6a28f9"
      },
      "outputs": [
        {
          "output_type": "execute_result",
          "data": {
            "text/plain": [
              "{'_Competition__name': '100m', '_Competition__prize': 700}"
            ]
          },
          "metadata": {},
          "execution_count": 206
        }
      ],
      "source": [
        "sprint.__dict__"
      ]
    },
    {
      "cell_type": "code",
      "execution_count": 207,
      "metadata": {
        "colab": {
          "base_uri": "https://localhost:8080/"
        },
        "id": "NKU6lzuEKeBJ",
        "outputId": "798b20d9-4c2c-429b-ae3f-fde266cb7882"
      },
      "outputs": [
        {
          "output_type": "execute_result",
          "data": {
            "text/plain": [
              "('100m', 700)"
            ]
          },
          "metadata": {},
          "execution_count": 207
        }
      ],
      "source": [
        "sprint.get_name(), sprint.get_prize()"
      ]
    },
    {
      "cell_type": "code",
      "execution_count": 208,
      "metadata": {
        "colab": {
          "base_uri": "https://localhost:8080/"
        },
        "id": "FdI1MzBHKeBJ",
        "outputId": "37114330-c908-4951-b5a5-a7b35fe05d2b"
      },
      "outputs": [
        {
          "output_type": "execute_result",
          "data": {
            "text/plain": [
              "770.0000000000001"
            ]
          },
          "metadata": {},
          "execution_count": 208
        }
      ],
      "source": [
        "sprint.raise_prize()\n",
        "\n",
        "sprint.get_prize()"
      ]
    },
    {
      "cell_type": "markdown",
      "metadata": {
        "id": "V5izPsJlKeBK"
      },
      "source": [
        "### Creating a object of the Parent class"
      ]
    },
    {
      "cell_type": "code",
      "execution_count": 209,
      "metadata": {
        "id": "u0717hbPKeBK"
      },
      "outputs": [],
      "source": [
        "chess = Competition('Chess', 1000)"
      ]
    },
    {
      "cell_type": "code",
      "execution_count": 210,
      "metadata": {
        "colab": {
          "base_uri": "https://localhost:8080/"
        },
        "id": "DbaQVpsmKeBK",
        "outputId": "7aef249d-8b60-4226-d171-60bfeb80ef5a"
      },
      "outputs": [
        {
          "output_type": "execute_result",
          "data": {
            "text/plain": [
              "1000"
            ]
          },
          "metadata": {},
          "execution_count": 210
        }
      ],
      "source": [
        "chess.get_prize()"
      ]
    },
    {
      "cell_type": "code",
      "execution_count": 211,
      "metadata": {
        "colab": {
          "base_uri": "https://localhost:8080/"
        },
        "id": "ewZPJLCXKeBK",
        "outputId": "ff303682-c434-49b0-d36d-cf42f133167e"
      },
      "outputs": [
        {
          "output_type": "execute_result",
          "data": {
            "text/plain": [
              "1100.0"
            ]
          },
          "metadata": {},
          "execution_count": 211
        }
      ],
      "source": [
        "chess.raise_prize()\n",
        "\n",
        "chess.get_prize()"
      ]
    },
    {
      "cell_type": "markdown",
      "metadata": {
        "id": "-oBvsc18KeBK"
      },
      "source": [
        "### Now to pass an additional information in the sub class instance i.e Cyclists\n",
        "\n",
        "* Define a new <b> \" init \" </b> method, including the new attribute\n",
        "\n",
        "*  Let the first three attribute is being handeled by the parent/super class, which is achieved by the <b> \" super( ) \" </b>function, this also be achieved by the class"
      ]
    },
    {
      "cell_type": "code",
      "execution_count": 212,
      "metadata": {
        "id": "W-Uof7GFKeBK"
      },
      "outputs": [],
      "source": [
        "class Cycling(Competition):\n",
        "      \n",
        "    def __init__(self, name, prize, country):\n",
        "        super().__init__(name, prize)                                            \n",
        "        \n",
        "        self.__country = country\n",
        "    \n",
        "    def get_country(self):\n",
        "        \n",
        "        return self.__country"
      ]
    },
    {
      "cell_type": "code",
      "execution_count": 213,
      "metadata": {
        "id": "IAIrH5sNKeBK"
      },
      "outputs": [],
      "source": [
        "cycling = Cycling('10km', 7500, 'USA')"
      ]
    },
    {
      "cell_type": "code",
      "execution_count": 214,
      "metadata": {
        "colab": {
          "base_uri": "https://localhost:8080/",
          "height": 35
        },
        "id": "mgxQ9LUOKeBK",
        "outputId": "8065b7fe-2954-4c0e-8d1a-0211aa307da7"
      },
      "outputs": [
        {
          "output_type": "execute_result",
          "data": {
            "application/vnd.google.colaboratory.intrinsic+json": {
              "type": "string"
            },
            "text/plain": [
              "'USA'"
            ]
          },
          "metadata": {},
          "execution_count": 214
        }
      ],
      "source": [
        "cycling.get_country()"
      ]
    },
    {
      "cell_type": "code",
      "execution_count": 215,
      "metadata": {
        "colab": {
          "base_uri": "https://localhost:8080/"
        },
        "id": "aq9xEf2FKeBK",
        "outputId": "0c0d2f22-33f5-484b-9d9e-00e3160ab48d"
      },
      "outputs": [
        {
          "output_type": "execute_result",
          "data": {
            "text/plain": [
              "('10km', 7500)"
            ]
          },
          "metadata": {},
          "execution_count": 215
        }
      ],
      "source": [
        "cycling.get_name(), cycling.get_prize()"
      ]
    },
    {
      "cell_type": "code",
      "execution_count": 216,
      "metadata": {
        "colab": {
          "base_uri": "https://localhost:8080/"
        },
        "id": "KIVtAXMBKeBK",
        "outputId": "1fa0d518-5d6f-40f6-9cf7-a434798e10ba"
      },
      "outputs": [
        {
          "output_type": "execute_result",
          "data": {
            "text/plain": [
              "True"
            ]
          },
          "metadata": {},
          "execution_count": 216
        }
      ],
      "source": [
        "issubclass(Cycling, Competition)"
      ]
    },
    {
      "cell_type": "code",
      "execution_count": 217,
      "metadata": {
        "id": "wm8a8Tb0KeBK"
      },
      "outputs": [],
      "source": [
        "class Shooting():\n",
        "    \n",
        "    def __init__(self, name):                                                    \n",
        "        self.first = name "
      ]
    },
    {
      "cell_type": "code",
      "execution_count": 218,
      "metadata": {
        "colab": {
          "base_uri": "https://localhost:8080/"
        },
        "id": "Cf23WaBiKeBK",
        "outputId": "0d0be39f-901f-45c4-c4d7-f1c800646fa6"
      },
      "outputs": [
        {
          "output_type": "execute_result",
          "data": {
            "text/plain": [
              "False"
            ]
          },
          "metadata": {},
          "execution_count": 218
        }
      ],
      "source": [
        "issubclass(Shooting, Competition)"
      ]
    },
    {
      "cell_type": "code",
      "execution_count": 219,
      "metadata": {
        "id": "9LJLUevmKeBK"
      },
      "outputs": [],
      "source": [
        "class Shooting(Competition):\n",
        "    \n",
        "    def __init__(self, name):\n",
        "        super().__init__(name)                                            "
      ]
    },
    {
      "cell_type": "code",
      "execution_count": 220,
      "metadata": {
        "colab": {
          "base_uri": "https://localhost:8080/",
          "height": 253
        },
        "id": "EpdRi7GXKeBK",
        "outputId": "3d150864-5093-48aa-fe11-5dac78191b84"
      },
      "outputs": [
        {
          "output_type": "error",
          "ename": "TypeError",
          "evalue": "ignored",
          "traceback": [
            "\u001b[0;31m---------------------------------------------------------------------------\u001b[0m",
            "\u001b[0;31mTypeError\u001b[0m                                 Traceback (most recent call last)",
            "\u001b[0;32m<ipython-input-220-5f814330ceca>\u001b[0m in \u001b[0;36m<module>\u001b[0;34m()\u001b[0m\n\u001b[0;32m----> 1\u001b[0;31m \u001b[0mshooting\u001b[0m \u001b[0;34m=\u001b[0m \u001b[0mShooting\u001b[0m\u001b[0;34m(\u001b[0m\u001b[0;34m'Rifle'\u001b[0m\u001b[0;34m)\u001b[0m\u001b[0;34m\u001b[0m\u001b[0;34m\u001b[0m\u001b[0m\n\u001b[0m",
            "\u001b[0;32m<ipython-input-219-a12d421754e1>\u001b[0m in \u001b[0;36m__init__\u001b[0;34m(self, name)\u001b[0m\n\u001b[1;32m      2\u001b[0m \u001b[0;34m\u001b[0m\u001b[0m\n\u001b[1;32m      3\u001b[0m     \u001b[0;32mdef\u001b[0m \u001b[0m__init__\u001b[0m\u001b[0;34m(\u001b[0m\u001b[0mself\u001b[0m\u001b[0;34m,\u001b[0m \u001b[0mname\u001b[0m\u001b[0;34m)\u001b[0m\u001b[0;34m:\u001b[0m\u001b[0;34m\u001b[0m\u001b[0;34m\u001b[0m\u001b[0m\n\u001b[0;32m----> 4\u001b[0;31m         \u001b[0msuper\u001b[0m\u001b[0;34m(\u001b[0m\u001b[0;34m)\u001b[0m\u001b[0;34m.\u001b[0m\u001b[0m__init__\u001b[0m\u001b[0;34m(\u001b[0m\u001b[0mname\u001b[0m\u001b[0;34m)\u001b[0m\u001b[0;34m\u001b[0m\u001b[0;34m\u001b[0m\u001b[0m\n\u001b[0m",
            "\u001b[0;31mTypeError\u001b[0m: __init__() missing 1 required positional argument: 'prize'"
          ]
        }
      ],
      "source": [
        "shooting = Shooting('Rifle')"
      ]
    },
    {
      "cell_type": "code",
      "execution_count": 221,
      "metadata": {
        "id": "C0-2lur3KeBK"
      },
      "outputs": [],
      "source": [
        "class Shooting(Competition):\n",
        "    \n",
        "    def __init__(self, name, prize):\n",
        "        super().__init__(name, prize)"
      ]
    },
    {
      "cell_type": "code",
      "execution_count": 222,
      "metadata": {
        "id": "r--hlPA7KeBK"
      },
      "outputs": [],
      "source": [
        "shooting = Shooting('Rifle', 1000)"
      ]
    },
    {
      "cell_type": "markdown",
      "metadata": {
        "id": "PNZRkxbDKeBN"
      },
      "source": [
        "### Multiple inheritence\n",
        "\n",
        "* A class can be derived from more than one class that is called multiple inheritence"
      ]
    },
    {
      "cell_type": "code",
      "execution_count": 223,
      "metadata": {
        "id": "cWw5mXLcKeBN"
      },
      "outputs": [],
      "source": [
        "class Father:\n",
        "    pass\n",
        "\n",
        "class Mother:\n",
        "    pass"
      ]
    },
    {
      "cell_type": "code",
      "execution_count": 224,
      "metadata": {
        "id": "jy4gKxcVKeBN"
      },
      "outputs": [],
      "source": [
        "class Child1(Father, Mother):\n",
        "    pass"
      ]
    },
    {
      "cell_type": "code",
      "execution_count": 225,
      "metadata": {
        "colab": {
          "base_uri": "https://localhost:8080/"
        },
        "id": "Qn5HnXxcKeBN",
        "outputId": "530a2d4f-dea4-4a50-a6d5-b8b39dc8beaf"
      },
      "outputs": [
        {
          "output_type": "stream",
          "name": "stdout",
          "text": [
            "Help on class Child1 in module __main__:\n",
            "\n",
            "class Child1(Father, Mother)\n",
            " |  Method resolution order:\n",
            " |      Child1\n",
            " |      Father\n",
            " |      Mother\n",
            " |      builtins.object\n",
            " |  \n",
            " |  Data descriptors inherited from Father:\n",
            " |  \n",
            " |  __dict__\n",
            " |      dictionary for instance variables (if defined)\n",
            " |  \n",
            " |  __weakref__\n",
            " |      list of weak references to the object (if defined)\n",
            "\n"
          ]
        }
      ],
      "source": [
        "help(Child1)"
      ]
    },
    {
      "cell_type": "code",
      "execution_count": 226,
      "metadata": {
        "id": "QobiOWD9KeBN"
      },
      "outputs": [],
      "source": [
        "class Child2(Mother, Father):\n",
        "    pass"
      ]
    },
    {
      "cell_type": "code",
      "execution_count": 227,
      "metadata": {
        "colab": {
          "base_uri": "https://localhost:8080/"
        },
        "id": "rVweKFwYKeBN",
        "outputId": "9959e818-1ed0-4620-e3f9-24aef5861696"
      },
      "outputs": [
        {
          "output_type": "stream",
          "name": "stdout",
          "text": [
            "Help on class Child2 in module __main__:\n",
            "\n",
            "class Child2(Mother, Father)\n",
            " |  Method resolution order:\n",
            " |      Child2\n",
            " |      Mother\n",
            " |      Father\n",
            " |      builtins.object\n",
            " |  \n",
            " |  Data descriptors inherited from Mother:\n",
            " |  \n",
            " |  __dict__\n",
            " |      dictionary for instance variables (if defined)\n",
            " |  \n",
            " |  __weakref__\n",
            " |      list of weak references to the object (if defined)\n",
            "\n"
          ]
        }
      ],
      "source": [
        "help(Child2)"
      ]
    },
    {
      "cell_type": "code",
      "execution_count": 228,
      "metadata": {
        "id": "YzQZ1yxOKeBO"
      },
      "outputs": [],
      "source": [
        "class Father:\n",
        "    \n",
        "    def height(self):\n",
        "        print('I have inherited my height from my father')\n",
        "\n",
        "class Mother:\n",
        "\n",
        "    def intelligence(self):\n",
        "        print('I have inherited my intelligence from my mother')\n"
      ]
    },
    {
      "cell_type": "code",
      "execution_count": 229,
      "metadata": {
        "id": "dvHDvcHmKeBO"
      },
      "outputs": [],
      "source": [
        "class Child(Father, Mother):\n",
        "    \n",
        "    def experience(self):\n",
        "        print('My experiences are all my own')"
      ]
    },
    {
      "cell_type": "code",
      "execution_count": 230,
      "metadata": {
        "id": "aymdr698KeBO"
      },
      "outputs": [],
      "source": [
        "c = Child()"
      ]
    },
    {
      "cell_type": "code",
      "execution_count": 231,
      "metadata": {
        "colab": {
          "base_uri": "https://localhost:8080/"
        },
        "id": "9qB8qbNvKeBO",
        "outputId": "c40dae5b-6833-4bc4-8d31-2dc9327ca36c"
      },
      "outputs": [
        {
          "output_type": "stream",
          "name": "stdout",
          "text": [
            "I have inherited my height from my father\n"
          ]
        }
      ],
      "source": [
        "c.height()"
      ]
    },
    {
      "cell_type": "code",
      "execution_count": 232,
      "metadata": {
        "colab": {
          "base_uri": "https://localhost:8080/"
        },
        "id": "PTKb8Y1GKeBO",
        "outputId": "7d9ad915-a3bf-4e98-ae83-72f2b652d86e"
      },
      "outputs": [
        {
          "output_type": "stream",
          "name": "stdout",
          "text": [
            "I have inherited my intelligence from my mother\n"
          ]
        }
      ],
      "source": [
        "c.intelligence()"
      ]
    },
    {
      "cell_type": "code",
      "execution_count": 233,
      "metadata": {
        "colab": {
          "base_uri": "https://localhost:8080/"
        },
        "id": "Twtl-zUnKeBO",
        "outputId": "55cfe6dc-a659-4116-c3eb-869a9d3ad2f6"
      },
      "outputs": [
        {
          "output_type": "stream",
          "name": "stdout",
          "text": [
            "My experiences are all my own\n"
          ]
        }
      ],
      "source": [
        "c.experience()"
      ]
    },
    {
      "cell_type": "code",
      "execution_count": null,
      "metadata": {
        "id": "cSHy-K51KeBO"
      },
      "outputs": [],
      "source": [
        ""
      ]
    },
    {
      "cell_type": "code",
      "execution_count": 234,
      "metadata": {
        "id": "NWs5ZlN9KeBO"
      },
      "outputs": [],
      "source": [
        "class Employee:  \n",
        "  \n",
        "    def __init__(self, name, age):  \n",
        "        self.__name = name  \n",
        "        self.__age = age  \n",
        "\n",
        "    def show_name(self):  \n",
        "        print(self.__name)  \n",
        "  \n",
        "    def show_age(self):  \n",
        "        print(self.__age)  "
      ]
    },
    {
      "cell_type": "code",
      "execution_count": 235,
      "metadata": {
        "id": "vhhvp0EOKeBO"
      },
      "outputs": [],
      "source": [
        "class Salary: \n",
        "    \n",
        "    def __init__(self, salary):  \n",
        "        self.__salary = salary  \n",
        "  \n",
        "    def get_salary(self):  \n",
        "        print(self.__salary)"
      ]
    },
    {
      "cell_type": "code",
      "execution_count": 236,
      "metadata": {
        "id": "IiNTACUcKeBO"
      },
      "outputs": [],
      "source": [
        "class Database(Employee, Salary):  \n",
        "    \n",
        "    def __init__(self, name, age, salary):  \n",
        "        Employee.__init__(self, name, age)  \n",
        "        Salary.__init__(self, salary) "
      ]
    },
    {
      "cell_type": "code",
      "execution_count": 237,
      "metadata": {
        "id": "UcfylWfMKeBO"
      },
      "outputs": [],
      "source": [
        "emp1 = Database('Robin', 26, 98000)  "
      ]
    },
    {
      "cell_type": "code",
      "execution_count": 238,
      "metadata": {
        "colab": {
          "base_uri": "https://localhost:8080/"
        },
        "id": "NQIlmnpVKeBO",
        "outputId": "95cb4b6e-fe98-4071-d9a6-fe359739ee06"
      },
      "outputs": [
        {
          "output_type": "stream",
          "name": "stdout",
          "text": [
            "Robin\n"
          ]
        }
      ],
      "source": [
        "emp1.show_name()"
      ]
    },
    {
      "cell_type": "code",
      "execution_count": 239,
      "metadata": {
        "colab": {
          "base_uri": "https://localhost:8080/"
        },
        "id": "I5xyD89XKeBO",
        "outputId": "62d1a5aa-441d-40cf-997d-5254385e7c67"
      },
      "outputs": [
        {
          "output_type": "stream",
          "name": "stdout",
          "text": [
            "26\n"
          ]
        }
      ],
      "source": [
        "emp1.show_age()"
      ]
    },
    {
      "cell_type": "code",
      "execution_count": 240,
      "metadata": {
        "colab": {
          "base_uri": "https://localhost:8080/"
        },
        "id": "OT6Xm_3IKeBO",
        "outputId": "de6d5878-8aa0-463e-929b-7705d1a731d1"
      },
      "outputs": [
        {
          "output_type": "stream",
          "name": "stdout",
          "text": [
            "98000\n"
          ]
        }
      ],
      "source": [
        "emp1.get_salary()"
      ]
    },
    {
      "cell_type": "code",
      "execution_count": 241,
      "metadata": {
        "colab": {
          "base_uri": "https://localhost:8080/"
        },
        "id": "nUY2KPbeKeBP",
        "outputId": "313b561b-ea12-4c9f-de00-3a7d4889e6f3"
      },
      "outputs": [
        {
          "output_type": "stream",
          "name": "stdout",
          "text": [
            "Help on class Database in module __main__:\n",
            "\n",
            "class Database(Employee, Salary)\n",
            " |  Database(name, age, salary)\n",
            " |  \n",
            " |  Method resolution order:\n",
            " |      Database\n",
            " |      Employee\n",
            " |      Salary\n",
            " |      builtins.object\n",
            " |  \n",
            " |  Methods defined here:\n",
            " |  \n",
            " |  __init__(self, name, age, salary)\n",
            " |      Initialize self.  See help(type(self)) for accurate signature.\n",
            " |  \n",
            " |  ----------------------------------------------------------------------\n",
            " |  Methods inherited from Employee:\n",
            " |  \n",
            " |  show_age(self)\n",
            " |  \n",
            " |  show_name(self)\n",
            " |  \n",
            " |  ----------------------------------------------------------------------\n",
            " |  Data descriptors inherited from Employee:\n",
            " |  \n",
            " |  __dict__\n",
            " |      dictionary for instance variables (if defined)\n",
            " |  \n",
            " |  __weakref__\n",
            " |      list of weak references to the object (if defined)\n",
            " |  \n",
            " |  ----------------------------------------------------------------------\n",
            " |  Methods inherited from Salary:\n",
            " |  \n",
            " |  get_salary(self)\n",
            "\n"
          ]
        }
      ],
      "source": [
        "help(Database)"
      ]
    },
    {
      "cell_type": "markdown",
      "metadata": {
        "id": "XE4_N4zwKeBP"
      },
      "source": [
        "### Multilevel inheritence\n",
        "\n",
        "* Deriving class from allready derived class is called multilevel inheritence, the level can be of any number\n",
        "\n"
      ]
    },
    {
      "cell_type": "code",
      "execution_count": 242,
      "metadata": {
        "id": "5CPfvR9ZKeBP"
      },
      "outputs": [],
      "source": [
        "class Grandparent:\n",
        "\n",
        "    def height(self):\n",
        "        print('I have inherited my height from my grandparent')\n",
        "\n",
        "    \n",
        "class Parent(Grandparent):\n",
        "\n",
        "    def intelligence(self):\n",
        "        print('I have inherited my intelligence from my parent')\n",
        "\n",
        "class Child(Parent):\n",
        "\n",
        "    def experience(self):\n",
        "        print('My experiences are all my own')\n"
      ]
    },
    {
      "cell_type": "code",
      "execution_count": 243,
      "metadata": {
        "colab": {
          "base_uri": "https://localhost:8080/"
        },
        "id": "KBBVYKUfKeBP",
        "outputId": "c78245c4-e588-40cc-8263-31c946858f55"
      },
      "outputs": [
        {
          "output_type": "stream",
          "name": "stdout",
          "text": [
            "Help on class Child in module __main__:\n",
            "\n",
            "class Child(Parent)\n",
            " |  Method resolution order:\n",
            " |      Child\n",
            " |      Parent\n",
            " |      Grandparent\n",
            " |      builtins.object\n",
            " |  \n",
            " |  Methods defined here:\n",
            " |  \n",
            " |  experience(self)\n",
            " |  \n",
            " |  ----------------------------------------------------------------------\n",
            " |  Methods inherited from Parent:\n",
            " |  \n",
            " |  intelligence(self)\n",
            " |  \n",
            " |  ----------------------------------------------------------------------\n",
            " |  Methods inherited from Grandparent:\n",
            " |  \n",
            " |  height(self)\n",
            " |  \n",
            " |  ----------------------------------------------------------------------\n",
            " |  Data descriptors inherited from Grandparent:\n",
            " |  \n",
            " |  __dict__\n",
            " |      dictionary for instance variables (if defined)\n",
            " |  \n",
            " |  __weakref__\n",
            " |      list of weak references to the object (if defined)\n",
            "\n"
          ]
        }
      ],
      "source": [
        "help(Child)"
      ]
    },
    {
      "cell_type": "code",
      "execution_count": 244,
      "metadata": {
        "id": "8GAhFZ2rKeBP"
      },
      "outputs": [],
      "source": [
        "c = Child()"
      ]
    },
    {
      "cell_type": "code",
      "execution_count": 245,
      "metadata": {
        "colab": {
          "base_uri": "https://localhost:8080/"
        },
        "id": "qL2PHVpeKeBP",
        "outputId": "a8df31ce-7eb1-4286-e587-86e0913e1e43"
      },
      "outputs": [
        {
          "output_type": "stream",
          "name": "stdout",
          "text": [
            "I have inherited my height from my grandparent\n"
          ]
        }
      ],
      "source": [
        "c.height()"
      ]
    },
    {
      "cell_type": "code",
      "execution_count": 246,
      "metadata": {
        "colab": {
          "base_uri": "https://localhost:8080/"
        },
        "id": "EffacYblKeBP",
        "outputId": "6e4b437c-68bc-4d14-bb02-33a418128019"
      },
      "outputs": [
        {
          "output_type": "stream",
          "name": "stdout",
          "text": [
            "I have inherited my intelligence from my parent\n"
          ]
        }
      ],
      "source": [
        "c.intelligence()"
      ]
    },
    {
      "cell_type": "code",
      "execution_count": 247,
      "metadata": {
        "colab": {
          "base_uri": "https://localhost:8080/"
        },
        "id": "a5XIHYoeKeBP",
        "outputId": "997f395b-9858-4b73-be0f-cd873cfa2f38"
      },
      "outputs": [
        {
          "output_type": "stream",
          "name": "stdout",
          "text": [
            "My experiences are all my own\n"
          ]
        }
      ],
      "source": [
        "c.experience()"
      ]
    },
    {
      "cell_type": "code",
      "execution_count": 248,
      "metadata": {
        "id": "S3jpiOMTKeBP"
      },
      "outputs": [],
      "source": [
        "class Grandparent(object):    \n",
        "\n",
        "    def __init__(self, city): \n",
        "        self.__city = city\n",
        "  \n",
        "    def get_city(self): \n",
        "        return self.__city "
      ]
    },
    {
      "cell_type": "code",
      "execution_count": 249,
      "metadata": {
        "id": "JFRIboJcKeBP"
      },
      "outputs": [],
      "source": [
        "class Parent(Grandparent): \n",
        "      \n",
        "    def __init__(self, city, lastname): \n",
        "        Grandparent.__init__(self, city) \n",
        "        \n",
        "        self.__lastname = lastname\n",
        "   \n",
        "    def get_lastname(self): \n",
        "        return self.__lastname"
      ]
    },
    {
      "cell_type": "code",
      "execution_count": 250,
      "metadata": {
        "id": "Dsxm6LzYKeBP"
      },
      "outputs": [],
      "source": [
        "p1 = Parent(city='Kentucky', lastname='Smith')"
      ]
    },
    {
      "cell_type": "code",
      "execution_count": 251,
      "metadata": {
        "colab": {
          "base_uri": "https://localhost:8080/",
          "height": 35
        },
        "id": "U8BkBdeaKeBP",
        "outputId": "610efbb9-8db5-4f7b-e1c6-998a78bcdcc5"
      },
      "outputs": [
        {
          "output_type": "execute_result",
          "data": {
            "application/vnd.google.colaboratory.intrinsic+json": {
              "type": "string"
            },
            "text/plain": [
              "'Kentucky'"
            ]
          },
          "metadata": {},
          "execution_count": 251
        }
      ],
      "source": [
        "p1.get_city()"
      ]
    },
    {
      "cell_type": "code",
      "execution_count": 252,
      "metadata": {
        "colab": {
          "base_uri": "https://localhost:8080/",
          "height": 35
        },
        "id": "Wzv02EnLKeBP",
        "outputId": "47b58edb-5d83-4c7a-f221-c80b18b92b2a"
      },
      "outputs": [
        {
          "output_type": "execute_result",
          "data": {
            "application/vnd.google.colaboratory.intrinsic+json": {
              "type": "string"
            },
            "text/plain": [
              "'Smith'"
            ]
          },
          "metadata": {},
          "execution_count": 252
        }
      ],
      "source": [
        "p1.get_lastname()"
      ]
    },
    {
      "cell_type": "code",
      "execution_count": 253,
      "metadata": {
        "id": "4KMo-lE9KeBQ"
      },
      "outputs": [],
      "source": [
        "class Person(Parent): \n",
        "      \n",
        "    def __init__(self, city, lastname, firstname): \n",
        "        Parent.__init__(self, city, lastname)\n",
        "        \n",
        "        self.__firstname = firstname\n",
        "  \n",
        "    def get_firstname(self): \n",
        "        return self.__firstname"
      ]
    },
    {
      "cell_type": "code",
      "execution_count": 254,
      "metadata": {
        "id": "Z8as3O-WKeBQ"
      },
      "outputs": [],
      "source": [
        "person = Person(\"Kentucky\", \"Smith\", \"Mark\")"
      ]
    },
    {
      "cell_type": "code",
      "execution_count": 255,
      "metadata": {
        "colab": {
          "base_uri": "https://localhost:8080/"
        },
        "id": "QD9Rz8MyKeBQ",
        "outputId": "24666c4b-a077-4dda-bc7c-b8f3fe726e81"
      },
      "outputs": [
        {
          "output_type": "execute_result",
          "data": {
            "text/plain": [
              "('Kentucky', 'Smith', 'Mark')"
            ]
          },
          "metadata": {},
          "execution_count": 255
        }
      ],
      "source": [
        "person.get_city(), person.get_lastname(), person.get_firstname()"
      ]
    },
    {
      "cell_type": "code",
      "execution_count": 256,
      "metadata": {
        "colab": {
          "base_uri": "https://localhost:8080/"
        },
        "id": "BqBlpYHSKeBQ",
        "outputId": "56366396-c82c-4369-8e4d-4e84269003bd"
      },
      "outputs": [
        {
          "output_type": "stream",
          "name": "stdout",
          "text": [
            "Help on class Person in module __main__:\n",
            "\n",
            "class Person(Parent)\n",
            " |  Person(city, lastname, firstname)\n",
            " |  \n",
            " |  Method resolution order:\n",
            " |      Person\n",
            " |      Parent\n",
            " |      Grandparent\n",
            " |      builtins.object\n",
            " |  \n",
            " |  Methods defined here:\n",
            " |  \n",
            " |  __init__(self, city, lastname, firstname)\n",
            " |      Initialize self.  See help(type(self)) for accurate signature.\n",
            " |  \n",
            " |  get_firstname(self)\n",
            " |  \n",
            " |  ----------------------------------------------------------------------\n",
            " |  Methods inherited from Parent:\n",
            " |  \n",
            " |  get_lastname(self)\n",
            " |  \n",
            " |  ----------------------------------------------------------------------\n",
            " |  Methods inherited from Grandparent:\n",
            " |  \n",
            " |  get_city(self)\n",
            " |  \n",
            " |  ----------------------------------------------------------------------\n",
            " |  Data descriptors inherited from Grandparent:\n",
            " |  \n",
            " |  __dict__\n",
            " |      dictionary for instance variables (if defined)\n",
            " |  \n",
            " |  __weakref__\n",
            " |      list of weak references to the object (if defined)\n",
            "\n"
          ]
        }
      ],
      "source": [
        "help(Person)"
      ]
    },
    {
      "cell_type": "code",
      "execution_count": 257,
      "metadata": {
        "id": "RPLyfqG4KeBQ"
      },
      "outputs": [],
      "source": [
        "class Person(Parent): \n",
        "      \n",
        "    def __init__(self, city, lastname, firstname): \n",
        "        Parent.__init__(self, city, lastname)\n",
        "        \n",
        "        self.__firstname = firstname\n",
        "  \n",
        "    def get_firstname(self): \n",
        "        return self.__firstname\n",
        "    \n",
        "    def get_introduction(self):\n",
        "        lastname = super().get_lastname()\n",
        "        city = super().get_city()\n",
        "        \n",
        "        print('Hi I am %s %s from %s' % (self.__firstname, lastname, city))\n",
        "        \n",
        "    def get_information(self):\n",
        "        lastname = self.get_lastname()\n",
        "        city = self.get_city()\n",
        "        \n",
        "        print('Hi I am %s %s from %s' % (self.__firstname, lastname, city))"
      ]
    },
    {
      "cell_type": "code",
      "execution_count": 258,
      "metadata": {
        "id": "ZqqJp09PKeBQ"
      },
      "outputs": [],
      "source": [
        "p = Person('Kentucky', 'Jones', 'Lily')"
      ]
    },
    {
      "cell_type": "code",
      "execution_count": 259,
      "metadata": {
        "colab": {
          "base_uri": "https://localhost:8080/"
        },
        "id": "L9Hj9SuyKeBQ",
        "outputId": "6392c08f-448b-4f22-dece-840bfa62cfa2"
      },
      "outputs": [
        {
          "output_type": "stream",
          "name": "stdout",
          "text": [
            "Hi I am Lily Jones from Kentucky\n"
          ]
        }
      ],
      "source": [
        "p.get_introduction()"
      ]
    },
    {
      "cell_type": "code",
      "execution_count": 260,
      "metadata": {
        "colab": {
          "base_uri": "https://localhost:8080/"
        },
        "id": "9KhSq90DKeBQ",
        "outputId": "e55917e6-7d36-4731-8ab0-46599ca1f26d"
      },
      "outputs": [
        {
          "output_type": "stream",
          "name": "stdout",
          "text": [
            "Hi I am Lily Jones from Kentucky\n"
          ]
        }
      ],
      "source": [
        "p.get_information()"
      ]
    },
    {
      "cell_type": "markdown",
      "metadata": {
        "id": "fO8GlW0RKeBU"
      },
      "source": [
        "### The literal meaning of polymorphism is that same name many behaviour or forms\n",
        "### One simple analogy example will be\n",
        "\n",
        "If anybody says CUT to these people\n",
        "\n",
        "* The Butcher\n",
        "* The Hair Stylist\n",
        "* The Actor\n",
        "\n",
        "What will happen?\n",
        "\n",
        "* The Butcher wil start cutting the meat.\n",
        "* The Hair Stylist would begin to cut someone's hair.\n",
        "* The Actor would abruptly stop acting out of the current scene, awaiting directorial guidance."
      ]
    },
    {
      "cell_type": "markdown",
      "metadata": {
        "id": "ZkGswKDdKeBU"
      },
      "source": [
        "### Polymorphism describes a pattern in object oriented programming in which classes have different functionality while sharing a common interface."
      ]
    },
    {
      "cell_type": "code",
      "execution_count": 261,
      "metadata": {
        "id": "Tl_k7tlAKeBU"
      },
      "outputs": [],
      "source": [
        "class Hominidae():\n",
        "\n",
        "    def communication(self):\n",
        "        print(\"They use auditory calls and visual cues.\")\n",
        "        \n",
        "    def walk(self):\n",
        "        print(\"They are knuckle-walkers, used to hang and swing from one tree to another\")"
      ]
    },
    {
      "cell_type": "code",
      "execution_count": 262,
      "metadata": {
        "id": "Q_UMhH1fKeBU"
      },
      "outputs": [],
      "source": [
        "class Human(Hominidae):\n",
        "\n",
        "    def communication(self):\n",
        "        print(\"They use language to communicate.\")\n",
        "        \n",
        "    def walk(self):\n",
        "        print(\"They are bipeds.\")"
      ]
    },
    {
      "cell_type": "code",
      "execution_count": 263,
      "metadata": {
        "id": "OMtRj108KeBV"
      },
      "outputs": [],
      "source": [
        "class Gorrila(Hominidae):\n",
        "\n",
        "    def communication(self):\n",
        "        print(\"They use twenty-five distinct vocalizations to communicate.\")\n",
        "        \n",
        "    def walk(self):\n",
        "        print(\"They are knuckle-walkers.\")"
      ]
    },
    {
      "cell_type": "code",
      "execution_count": 264,
      "metadata": {
        "id": "ZP1FSG5pKeBV"
      },
      "outputs": [],
      "source": [
        "hominidae_1 = Hominidae()\n",
        "\n",
        "human_1 = Human()\n",
        "\n",
        "gorrila_1 = Gorrila()"
      ]
    },
    {
      "cell_type": "code",
      "execution_count": 265,
      "metadata": {
        "colab": {
          "base_uri": "https://localhost:8080/"
        },
        "id": "Fe1gTZ80KeBV",
        "outputId": "cb5e884d-b3e5-4a88-aea7-c9bd86c4141e"
      },
      "outputs": [
        {
          "output_type": "stream",
          "name": "stdout",
          "text": [
            "They use auditory calls and visual cues.\n",
            "They use language to communicate.\n",
            "They use twenty-five distinct vocalizations to communicate.\n"
          ]
        }
      ],
      "source": [
        "hominidae_1.communication()\n",
        "\n",
        "human_1.communication()\n",
        "\n",
        "gorrila_1.communication()"
      ]
    },
    {
      "cell_type": "code",
      "execution_count": 266,
      "metadata": {
        "colab": {
          "base_uri": "https://localhost:8080/"
        },
        "id": "6Lg30fQcKeBV",
        "outputId": "faabd2af-b504-4dfd-fd90-ae298b148125"
      },
      "outputs": [
        {
          "output_type": "stream",
          "name": "stdout",
          "text": [
            "They are knuckle-walkers, used to hang and swing from one tree to another\n",
            "They are bipeds.\n",
            "They are knuckle-walkers.\n"
          ]
        }
      ],
      "source": [
        "hominidae_1.walk()\n",
        "\n",
        "human_1.walk()\n",
        "\n",
        "gorrila_1.walk()"
      ]
    },
    {
      "cell_type": "code",
      "execution_count": 267,
      "metadata": {
        "id": "yfzJTT8VKeBV"
      },
      "outputs": [],
      "source": [
        "class BankAccount:\n",
        "    \n",
        "    def __init__(self, balance):\n",
        "        self.__balance = balance\n",
        "        \n",
        "    def deposit(self, value):\n",
        "        self.__balance =  self.__balance + value\n",
        "        \n",
        "        print('Deposit amount:', value)\n",
        "        print('Balance after depositing:', self.__balance)\n",
        "            \n",
        "    def withdrawal(self, value):\n",
        "        self.__balance =  self.__balance - value\n",
        "        \n",
        "        print('Withdrawal amount:', value)\n",
        "        print('Balance after withdrawal:', self.__balance)"
      ]
    },
    {
      "cell_type": "code",
      "execution_count": 268,
      "metadata": {
        "id": "yTRA0AMOKeBV"
      },
      "outputs": [],
      "source": [
        "b_1 = BankAccount(1500)"
      ]
    },
    {
      "cell_type": "code",
      "execution_count": 269,
      "metadata": {
        "colab": {
          "base_uri": "https://localhost:8080/"
        },
        "id": "pQZjbjiMKeBV",
        "outputId": "2dc8deea-91fb-48cd-8b08-e5c4a3a9fa6a"
      },
      "outputs": [
        {
          "output_type": "stream",
          "name": "stdout",
          "text": [
            "Deposit amount: 100\n",
            "Balance after depositing: 1600\n"
          ]
        }
      ],
      "source": [
        "b_1.deposit(100)"
      ]
    },
    {
      "cell_type": "code",
      "execution_count": 270,
      "metadata": {
        "colab": {
          "base_uri": "https://localhost:8080/"
        },
        "id": "5joa0wy2KeBV",
        "outputId": "c1342e9d-7ed1-4f4e-a37a-4a4944ec33a3"
      },
      "outputs": [
        {
          "output_type": "stream",
          "name": "stdout",
          "text": [
            "Withdrawal amount: 200\n",
            "Balance after withdrawal: 1400\n"
          ]
        }
      ],
      "source": [
        "b_1.withdrawal(200)"
      ]
    },
    {
      "cell_type": "code",
      "execution_count": 271,
      "metadata": {
        "id": "xXW1B4iTKeBV"
      },
      "outputs": [],
      "source": [
        "class CurrentAccount(BankAccount):\n",
        "    \n",
        "    def __init__(self, balance):\n",
        "        super().__init__(balance)\n",
        "                  \n",
        "    def withdrawal(self, value):\n",
        "        if value > 1000:\n",
        "            print('Contact your branch manager')\n",
        "        else:\n",
        "            super().withdrawal(value)"
      ]
    },
    {
      "cell_type": "code",
      "execution_count": 272,
      "metadata": {
        "id": "skGg6Sm7KeBV"
      },
      "outputs": [],
      "source": [
        "c_1 = CurrentAccount(1500)"
      ]
    },
    {
      "cell_type": "code",
      "execution_count": 273,
      "metadata": {
        "colab": {
          "base_uri": "https://localhost:8080/"
        },
        "id": "32MQSkPRKeBV",
        "outputId": "f38aaf03-bf7f-4cfc-b5a4-314a6d0f4611"
      },
      "outputs": [
        {
          "output_type": "stream",
          "name": "stdout",
          "text": [
            "Withdrawal amount: 100\n",
            "Balance after withdrawal: 1400\n"
          ]
        }
      ],
      "source": [
        "c_1.withdrawal(100)"
      ]
    },
    {
      "cell_type": "code",
      "execution_count": 274,
      "metadata": {
        "colab": {
          "base_uri": "https://localhost:8080/"
        },
        "id": "BJSWvy6TKeBV",
        "outputId": "4a2ff383-0fbf-474c-9e83-f40d094246f0"
      },
      "outputs": [
        {
          "output_type": "stream",
          "name": "stdout",
          "text": [
            "Contact your branch manager\n"
          ]
        }
      ],
      "source": [
        "c_1.withdrawal(1400)"
      ]
    },
    {
      "cell_type": "code",
      "execution_count": 275,
      "metadata": {
        "id": "u9G8wL7oKeBV"
      },
      "outputs": [],
      "source": [
        "class SavingsAccount(BankAccount):\n",
        "    \n",
        "    def __init__(self, balance):\n",
        "        super().__init__(balance)\n",
        "        \n",
        "    def deposit(self, value):\n",
        "        value += 0.05 * value\n",
        "        \n",
        "        super().deposit(value)"
      ]
    },
    {
      "cell_type": "code",
      "execution_count": 276,
      "metadata": {
        "id": "5yUoN80eKeBW"
      },
      "outputs": [],
      "source": [
        "s_1 = SavingsAccount(2000)"
      ]
    },
    {
      "cell_type": "code",
      "execution_count": 277,
      "metadata": {
        "colab": {
          "base_uri": "https://localhost:8080/"
        },
        "id": "O2OtdcYsKeBW",
        "outputId": "ac87c0ef-9614-4e33-8c07-2a7add0ab5f8"
      },
      "outputs": [
        {
          "output_type": "stream",
          "name": "stdout",
          "text": [
            "Deposit amount: 525.0\n",
            "Balance after depositing: 2525.0\n"
          ]
        }
      ],
      "source": [
        "s_1.deposit(500)"
      ]
    }
  ],
  "metadata": {
    "kernelspec": {
      "display_name": "Python 3",
      "language": "python",
      "name": "python3"
    },
    "language_info": {
      "codemirror_mode": {
        "name": "ipython",
        "version": 3
      },
      "file_extension": ".py",
      "mimetype": "text/x-python",
      "name": "python",
      "nbconvert_exporter": "python",
      "pygments_lexer": "ipython3",
      "version": "3.6.4"
    },
    "colab": {
      "name": "9-ClassesInheritance.ipynb",
      "provenance": [],
      "collapsed_sections": [
        "fO8GlW0RKeBU"
      ]
    }
  },
  "nbformat": 4,
  "nbformat_minor": 0
}