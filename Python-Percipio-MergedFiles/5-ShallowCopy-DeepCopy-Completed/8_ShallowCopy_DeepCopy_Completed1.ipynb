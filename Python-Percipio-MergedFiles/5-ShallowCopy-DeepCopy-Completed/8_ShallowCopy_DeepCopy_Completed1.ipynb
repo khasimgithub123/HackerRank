{
  "cells": [
    {
      "cell_type": "markdown",
      "source": [
        "### 1. Strings"
      ],
      "metadata": {
        "id": "mtYn1KuILauy"
      }
    },
    {
      "cell_type": "code",
      "execution_count": 1,
      "metadata": {
        "colab": {
          "base_uri": "https://localhost:8080/",
          "height": 35
        },
        "id": "Jq_azUKCCJMf",
        "outputId": "6ca47da4-6ca8-4e40-99aa-4ad66ddbc8ea"
      },
      "outputs": [
        {
          "output_type": "execute_result",
          "data": {
            "application/vnd.google.colaboratory.intrinsic+json": {
              "type": "string"
            },
            "text/plain": [
              "'Python'"
            ]
          },
          "metadata": {},
          "execution_count": 1
        }
      ],
      "source": [
        "old_str = \"Python\"\n",
        "\n",
        "old_str"
      ]
    },
    {
      "cell_type": "code",
      "execution_count": 2,
      "metadata": {
        "colab": {
          "base_uri": "https://localhost:8080/"
        },
        "id": "ODzjHtaZCJMh",
        "outputId": "96ec60f9-148e-4ca2-800f-c5161aa0c362"
      },
      "outputs": [
        {
          "output_type": "stream",
          "name": "stdout",
          "text": [
            "Python\n",
            "Python\n"
          ]
        }
      ],
      "source": [
        "new_str = old_str\n",
        "\n",
        "print (old_str)\n",
        "print (new_str)"
      ]
    },
    {
      "cell_type": "code",
      "execution_count": 3,
      "metadata": {
        "colab": {
          "base_uri": "https://localhost:8080/",
          "height": 35
        },
        "id": "NFHLOSdoCJMi",
        "outputId": "fb9b08b2-add0-4f72-cf52-1bc0fea2460b"
      },
      "outputs": [
        {
          "output_type": "execute_result",
          "data": {
            "application/vnd.google.colaboratory.intrinsic+json": {
              "type": "string"
            },
            "text/plain": [
              "'t'"
            ]
          },
          "metadata": {},
          "execution_count": 3
        }
      ],
      "source": [
        "new_str[2]"
      ]
    },
    {
      "cell_type": "code",
      "execution_count": 4,
      "metadata": {
        "colab": {
          "base_uri": "https://localhost:8080/",
          "height": 166
        },
        "id": "o5rMFDmJCJMi",
        "outputId": "45498438-6dd8-4aec-833c-564096b921cd"
      },
      "outputs": [
        {
          "output_type": "error",
          "ename": "TypeError",
          "evalue": "ignored",
          "traceback": [
            "\u001b[0;31m---------------------------------------------------------------------------\u001b[0m",
            "\u001b[0;31mTypeError\u001b[0m                                 Traceback (most recent call last)",
            "\u001b[0;32m<ipython-input-4-c4298649d588>\u001b[0m in \u001b[0;36m<module>\u001b[0;34m()\u001b[0m\n\u001b[0;32m----> 1\u001b[0;31m \u001b[0mnew_str\u001b[0m\u001b[0;34m[\u001b[0m\u001b[0;36m2\u001b[0m\u001b[0;34m]\u001b[0m \u001b[0;34m=\u001b[0m\u001b[0;34m'T'\u001b[0m\u001b[0;34m\u001b[0m\u001b[0;34m\u001b[0m\u001b[0m\n\u001b[0m",
            "\u001b[0;31mTypeError\u001b[0m: 'str' object does not support item assignment"
          ]
        }
      ],
      "source": [
        "new_str[2] ='T'"
      ]
    },
    {
      "cell_type": "code",
      "execution_count": 5,
      "metadata": {
        "id": "hKiS1QlRCJMi"
      },
      "outputs": [],
      "source": [
        "import copy"
      ]
    },
    {
      "cell_type": "code",
      "execution_count": 6,
      "metadata": {
        "colab": {
          "base_uri": "https://localhost:8080/",
          "height": 35
        },
        "id": "fl1uQvA1CJMj",
        "outputId": "c9aee009-0a61-4705-d858-08b673a37890"
      },
      "outputs": [
        {
          "output_type": "execute_result",
          "data": {
            "application/vnd.google.colaboratory.intrinsic+json": {
              "type": "string"
            },
            "text/plain": [
              "'Will'"
            ]
          },
          "metadata": {},
          "execution_count": 6
        }
      ],
      "source": [
        "first_str = 'Will'\n",
        "\n",
        "first_str"
      ]
    },
    {
      "cell_type": "code",
      "execution_count": 7,
      "metadata": {
        "colab": {
          "base_uri": "https://localhost:8080/"
        },
        "id": "ZJVd1QjGCJMj",
        "outputId": "2b3e3652-aaa3-44e4-a7df-a3e271c372be"
      },
      "outputs": [
        {
          "output_type": "stream",
          "name": "stdout",
          "text": [
            "First string:  Will\n",
            "Second string:  Will\n"
          ]
        }
      ],
      "source": [
        "second_str = copy.copy(first_str)\n",
        "\n",
        "print(\"First string: \", first_str)\n",
        "\n",
        "print(\"Second string: \", second_str)"
      ]
    },
    {
      "cell_type": "code",
      "execution_count": 8,
      "metadata": {
        "colab": {
          "base_uri": "https://localhost:8080/"
        },
        "id": "ZfK5svO1CJMj",
        "outputId": "ba725898-99e2-40ff-87f3-6b3bc80906bc"
      },
      "outputs": [
        {
          "output_type": "stream",
          "name": "stdout",
          "text": [
            "First string:  Will\n",
            "Second string:  Smith\n"
          ]
        }
      ],
      "source": [
        "second_str = 'Smith'\n",
        "\n",
        "print(\"First string: \", first_str)\n",
        "print(\"Second string: \", second_str)"
      ]
    },
    {
      "cell_type": "code",
      "execution_count": 9,
      "metadata": {
        "colab": {
          "base_uri": "https://localhost:8080/",
          "height": 35
        },
        "id": "ph5lViO3CJMj",
        "outputId": "a8292ed8-d788-4eaf-8f32-f955289c3fcf"
      },
      "outputs": [
        {
          "output_type": "execute_result",
          "data": {
            "application/vnd.google.colaboratory.intrinsic+json": {
              "type": "string"
            },
            "text/plain": [
              "'Johnny'"
            ]
          },
          "metadata": {},
          "execution_count": 9
        }
      ],
      "source": [
        "first_str = 'Johnny'\n",
        "\n",
        "first_str"
      ]
    },
    {
      "cell_type": "code",
      "execution_count": 10,
      "metadata": {
        "colab": {
          "base_uri": "https://localhost:8080/"
        },
        "id": "6rQDgBgQCJMk",
        "outputId": "faa4e2fd-3d3e-4902-b637-b8c9dafabb3d"
      },
      "outputs": [
        {
          "output_type": "stream",
          "name": "stdout",
          "text": [
            "First string:  Johnny\n",
            "Second string:  Johnny\n"
          ]
        }
      ],
      "source": [
        "second_str = copy.deepcopy(first_str)\n",
        "\n",
        "print(\"First string: \", first_str)\n",
        "print(\"Second string: \", second_str)"
      ]
    },
    {
      "cell_type": "code",
      "execution_count": 11,
      "metadata": {
        "colab": {
          "base_uri": "https://localhost:8080/"
        },
        "id": "4GpvgawNCJMl",
        "outputId": "93e54f52-9cba-476c-ffc0-c5700cb3bde2"
      },
      "outputs": [
        {
          "output_type": "stream",
          "name": "stdout",
          "text": [
            "First string:  Johnny\n",
            "Second string:  Depp\n"
          ]
        }
      ],
      "source": [
        "second_str = 'Depp'\n",
        "\n",
        "print(\"First string: \",first_str)\n",
        "print(\"Second string: \", second_str)"
      ]
    },
    {
      "cell_type": "code",
      "execution_count": null,
      "metadata": {
        "id": "oKho_Ec3CJMl"
      },
      "outputs": [],
      "source": [
        ""
      ]
    },
    {
      "cell_type": "code",
      "execution_count": null,
      "metadata": {
        "id": "SYo8YVgXCJMl"
      },
      "outputs": [],
      "source": [
        ""
      ]
    },
    {
      "cell_type": "code",
      "execution_count": null,
      "metadata": {
        "id": "WU5T9A9cCJMl"
      },
      "outputs": [],
      "source": [
        ""
      ]
    },
    {
      "cell_type": "markdown",
      "source": [
        "### 2. List"
      ],
      "metadata": {
        "id": "as21NfvKLjGm"
      }
    },
    {
      "cell_type": "code",
      "execution_count": 12,
      "metadata": {
        "colab": {
          "base_uri": "https://localhost:8080/"
        },
        "id": "i1KDQVwmCJMm",
        "outputId": "298d81c9-636a-4435-a512-c034a4d18442"
      },
      "outputs": [
        {
          "output_type": "execute_result",
          "data": {
            "text/plain": [
              "['Sara', 'David', 'Warner', 'Sandy']"
            ]
          },
          "metadata": {},
          "execution_count": 12
        }
      ],
      "source": [
        "names = [\"Sara\", \"David\", \"Warner\", \"Sandy\"]\n",
        "\n",
        "names"
      ]
    },
    {
      "cell_type": "code",
      "execution_count": 13,
      "metadata": {
        "colab": {
          "base_uri": "https://localhost:8080/"
        },
        "id": "oNoyKjdvCJMm",
        "outputId": "20998345-0d74-465c-84e8-18171803a320"
      },
      "outputs": [
        {
          "output_type": "stream",
          "name": "stdout",
          "text": [
            "Original: ['Sara', 'David', 'Warner', 'Sandy']\n",
            "Copy: ['Sara', 'David', 'Warner', 'Sandy']\n"
          ]
        }
      ],
      "source": [
        "new_names = names\n",
        "\n",
        "print(\"Original:\", names)\n",
        "print(\"Copy:\", new_names)"
      ]
    },
    {
      "cell_type": "code",
      "execution_count": 14,
      "metadata": {
        "colab": {
          "base_uri": "https://localhost:8080/",
          "height": 35
        },
        "id": "4M68PssLCJMn",
        "outputId": "59d25580-791f-43bd-ec83-4888cc3668d9"
      },
      "outputs": [
        {
          "output_type": "execute_result",
          "data": {
            "application/vnd.google.colaboratory.intrinsic+json": {
              "type": "string"
            },
            "text/plain": [
              "'David'"
            ]
          },
          "metadata": {},
          "execution_count": 14
        }
      ],
      "source": [
        "names[1]"
      ]
    },
    {
      "cell_type": "code",
      "execution_count": 15,
      "metadata": {
        "colab": {
          "base_uri": "https://localhost:8080/"
        },
        "id": "Yb2zmcQjCJMn",
        "outputId": "a55a975e-e669-4ae7-85fd-b5938a024154"
      },
      "outputs": [
        {
          "output_type": "stream",
          "name": "stdout",
          "text": [
            "Original: ['Sara', 'Ridley', 'Warner', 'Sandy']\n",
            "Modified: ['Sara', 'Ridley', 'Warner', 'Sandy']\n"
          ]
        }
      ],
      "source": [
        "new_names[1] = 'Ridley'\n",
        "\n",
        "print(\"Original:\", names)\n",
        "print(\"Modified:\", new_names)"
      ]
    },
    {
      "cell_type": "code",
      "execution_count": 16,
      "metadata": {
        "id": "3BGq1FFyCJMn"
      },
      "outputs": [],
      "source": [
        "import copy"
      ]
    },
    {
      "cell_type": "code",
      "execution_count": 17,
      "metadata": {
        "colab": {
          "base_uri": "https://localhost:8080/"
        },
        "id": "DuB6xc7PCJMn",
        "outputId": "dc31a941-ee18-4dca-bc21-cf132dc41635"
      },
      "outputs": [
        {
          "output_type": "execute_result",
          "data": {
            "text/plain": [
              "['hackerearth', 'google', 'facebook']"
            ]
          },
          "metadata": {},
          "execution_count": 17
        }
      ],
      "source": [
        "companies = [\"hackerearth\", \"google\", \"facebook\"]\n",
        "\n",
        "companies"
      ]
    },
    {
      "cell_type": "code",
      "execution_count": 18,
      "metadata": {
        "colab": {
          "base_uri": "https://localhost:8080/"
        },
        "id": "1PbYb5l8CJMn",
        "outputId": "0f953b1b-062b-4563-f9fe-17b55c48b165"
      },
      "outputs": [
        {
          "output_type": "stream",
          "name": "stdout",
          "text": [
            "Original: ['hackerearth', 'google', 'facebook']\n",
            "Modified: ['hackerearth', 'google', 'facebook']\n"
          ]
        }
      ],
      "source": [
        "new_companies = copy.copy(companies)\n",
        "\n",
        "print('Original:', companies)\n",
        "print('Modified:', new_companies)"
      ]
    },
    {
      "cell_type": "code",
      "execution_count": 19,
      "metadata": {
        "colab": {
          "base_uri": "https://localhost:8080/",
          "height": 35
        },
        "id": "z4Eh0k90CJMn",
        "outputId": "12a6f89e-a713-4cf8-89d6-9698c6dda69e"
      },
      "outputs": [
        {
          "output_type": "execute_result",
          "data": {
            "application/vnd.google.colaboratory.intrinsic+json": {
              "type": "string"
            },
            "text/plain": [
              "'google'"
            ]
          },
          "metadata": {},
          "execution_count": 19
        }
      ],
      "source": [
        "new_companies[1]"
      ]
    },
    {
      "cell_type": "code",
      "execution_count": 20,
      "metadata": {
        "colab": {
          "base_uri": "https://localhost:8080/"
        },
        "id": "7DV3CmreCJMn",
        "outputId": "35642b2b-e67e-4561-f3a3-73942dd43b7c"
      },
      "outputs": [
        {
          "output_type": "stream",
          "name": "stdout",
          "text": [
            "Original: ['hackerearth', 'google', 'facebook']\n",
            "Modified: ['hackerearth', 'microsoft', 'facebook']\n"
          ]
        }
      ],
      "source": [
        "new_companies[1] = 'microsoft'\n",
        "\n",
        "print('Original:', companies)\n",
        "print('Modified:', new_companies)"
      ]
    },
    {
      "cell_type": "code",
      "execution_count": 21,
      "metadata": {
        "colab": {
          "base_uri": "https://localhost:8080/"
        },
        "id": "yKanU0q7CJMo",
        "outputId": "d81be04f-06e9-42c7-9212-73cd1105e3ed"
      },
      "outputs": [
        {
          "output_type": "execute_result",
          "data": {
            "text/plain": [
              "[[1, 2, 3], [4, 5, 6], [7, 8, 9]]"
            ]
          },
          "metadata": {},
          "execution_count": 21
        }
      ],
      "source": [
        "old_list = [[1, 2, 3], [4, 5, 6], [7, 8, 9]]\n",
        "\n",
        "old_list"
      ]
    },
    {
      "cell_type": "code",
      "execution_count": 22,
      "metadata": {
        "colab": {
          "base_uri": "https://localhost:8080/"
        },
        "id": "Id3kSKDhCJMo",
        "outputId": "afd83f6c-34d5-483c-b458-004ac063b2e0"
      },
      "outputs": [
        {
          "output_type": "stream",
          "name": "stdout",
          "text": [
            "Old list: [[1, 2, 3], [4, 5, 6], [7, 8, 9]]\n",
            "New list: [[1, 2, 3], [4, 5, 6], [7, 8, 9]]\n"
          ]
        }
      ],
      "source": [
        "new_list = copy.copy(old_list)\n",
        "\n",
        "print(\"Old list:\", old_list)\n",
        "print(\"New list:\", new_list)"
      ]
    },
    {
      "cell_type": "code",
      "execution_count": 23,
      "metadata": {
        "colab": {
          "base_uri": "https://localhost:8080/"
        },
        "id": "AF5YaT61CJMo",
        "outputId": "4a09717a-8722-418f-b306-fed73b0290a0"
      },
      "outputs": [
        {
          "output_type": "execute_result",
          "data": {
            "text/plain": [
              "5"
            ]
          },
          "metadata": {},
          "execution_count": 23
        }
      ],
      "source": [
        "old_list[1][1]"
      ]
    },
    {
      "cell_type": "code",
      "execution_count": 24,
      "metadata": {
        "colab": {
          "base_uri": "https://localhost:8080/"
        },
        "id": "0zLFozatCJMo",
        "outputId": "dfd2fae8-178e-4522-ee9e-7562772b7525"
      },
      "outputs": [
        {
          "output_type": "stream",
          "name": "stdout",
          "text": [
            "Old list: [[1, 2, 3], [4, 'Five', 6], [7, 8, 9]]\n",
            "New list: [[1, 2, 3], [4, 'Five', 6], [7, 8, 9]]\n"
          ]
        }
      ],
      "source": [
        "old_list[1][1] = 'Five'\n",
        "\n",
        "print(\"Old list:\", old_list)\n",
        "print(\"New list:\", new_list)"
      ]
    },
    {
      "cell_type": "code",
      "execution_count": 25,
      "metadata": {
        "colab": {
          "base_uri": "https://localhost:8080/"
        },
        "id": "DB3YRKXTCJMo",
        "outputId": "7d0faa93-bd9e-4a78-906b-a836448e3206"
      },
      "outputs": [
        {
          "output_type": "stream",
          "name": "stdout",
          "text": [
            "Original: [[1, 2, 3], [4, 'Five', 6], [7, 8, 9, 'Ten']]\n",
            "Modified: [[1, 2, 3], [4, 'Five', 6], [7, 8, 9, 'Ten']]\n"
          ]
        }
      ],
      "source": [
        "new_list[2].append('Ten')\n",
        "\n",
        "print ('Original:', old_list)\n",
        "print ('Modified:', new_list)"
      ]
    },
    {
      "cell_type": "code",
      "execution_count": 26,
      "metadata": {
        "colab": {
          "base_uri": "https://localhost:8080/"
        },
        "id": "BfQA_S_9CJMp",
        "outputId": "2eb6bf7d-902c-4c16-f248-c8895c8942db"
      },
      "outputs": [
        {
          "output_type": "stream",
          "name": "stdout",
          "text": [
            "Old list: [[1, 2, 3], [4, 'Five', 6], [7, 8, 9, 'Ten'], [10, 11, 12]]\n",
            "New list: [[1, 2, 3], [4, 'Five', 6], [7, 8, 9, 'Ten']]\n"
          ]
        }
      ],
      "source": [
        "old_list.append([10, 11, 12])\n",
        "\n",
        "print(\"Old list:\", old_list)\n",
        "print(\"New list:\", new_list)"
      ]
    },
    {
      "cell_type": "code",
      "execution_count": null,
      "metadata": {
        "id": "ib4bjxAfCJMp"
      },
      "outputs": [],
      "source": [
        ""
      ]
    },
    {
      "cell_type": "code",
      "execution_count": null,
      "metadata": {
        "id": "w_vxC1UsCJMp"
      },
      "outputs": [],
      "source": [
        ""
      ]
    },
    {
      "cell_type": "code",
      "execution_count": null,
      "metadata": {
        "id": "A0wzwZwJCJMp"
      },
      "outputs": [],
      "source": [
        ""
      ]
    },
    {
      "cell_type": "code",
      "execution_count": 27,
      "metadata": {
        "colab": {
          "base_uri": "https://localhost:8080/"
        },
        "id": "a8xoop7qCJMp",
        "outputId": "eaa6785e-bcc1-4c5a-d960-2ecb1d68dbbe"
      },
      "outputs": [
        {
          "output_type": "execute_result",
          "data": {
            "text/plain": [
              "['Sara', 'David', 'Warner', 'Sandy']"
            ]
          },
          "metadata": {},
          "execution_count": 27
        }
      ],
      "source": [
        "names = [\"Sara\", \"David\", \"Warner\", \"Sandy\"]\n",
        "\n",
        "names"
      ]
    },
    {
      "cell_type": "code",
      "execution_count": 28,
      "metadata": {
        "colab": {
          "base_uri": "https://localhost:8080/"
        },
        "id": "LSP_Ijo_CJMp",
        "outputId": "7f393203-4b6c-4617-e94f-caf39941a67b"
      },
      "outputs": [
        {
          "output_type": "stream",
          "name": "stdout",
          "text": [
            "Original: ['Sara', 'David', 'Warner', 'Sandy']\n",
            "Modified: ['Sara', 'David', 'Warner', 'Sandy']\n"
          ]
        }
      ],
      "source": [
        "new_names = names.copy()\n",
        "\n",
        "print(\"Original:\", names)\n",
        "print(\"Modified:\", new_names)"
      ]
    },
    {
      "cell_type": "code",
      "execution_count": 29,
      "metadata": {
        "colab": {
          "base_uri": "https://localhost:8080/",
          "height": 35
        },
        "id": "6sY6ORkiCJMq",
        "outputId": "da118a87-4600-4c30-82fc-0d64a1ba0753"
      },
      "outputs": [
        {
          "output_type": "execute_result",
          "data": {
            "application/vnd.google.colaboratory.intrinsic+json": {
              "type": "string"
            },
            "text/plain": [
              "'David'"
            ]
          },
          "metadata": {},
          "execution_count": 29
        }
      ],
      "source": [
        "new_names[1]"
      ]
    },
    {
      "cell_type": "code",
      "execution_count": 30,
      "metadata": {
        "colab": {
          "base_uri": "https://localhost:8080/"
        },
        "id": "BMB1vemqCJMq",
        "outputId": "28eea4c6-0505-4547-955b-ba146e6fc121"
      },
      "outputs": [
        {
          "output_type": "stream",
          "name": "stdout",
          "text": [
            "Original: ['Sara', 'David', 'Warner', 'Sandy']\n",
            "Modified: ['Sara', 'Ridley', 'Warner', 'Sandy']\n"
          ]
        }
      ],
      "source": [
        "new_names[1] = 'Ridley'\n",
        "\n",
        "print('Original:', names)\n",
        "print('Modified:', new_names)"
      ]
    },
    {
      "cell_type": "code",
      "execution_count": 31,
      "metadata": {
        "id": "n6wnhHLoCJMq"
      },
      "outputs": [],
      "source": [
        "import copy"
      ]
    },
    {
      "cell_type": "code",
      "execution_count": 32,
      "metadata": {
        "colab": {
          "base_uri": "https://localhost:8080/"
        },
        "id": "dpB1m0z1CJMq",
        "outputId": "c3d50e70-c808-4788-9487-e9cb290573c5"
      },
      "outputs": [
        {
          "output_type": "execute_result",
          "data": {
            "text/plain": [
              "['hackerearth', 'google', 'facebook']"
            ]
          },
          "metadata": {},
          "execution_count": 32
        }
      ],
      "source": [
        "companies = [\"hackerearth\", \"google\", \"facebook\"]\n",
        "\n",
        "companies"
      ]
    },
    {
      "cell_type": "code",
      "execution_count": 33,
      "metadata": {
        "colab": {
          "base_uri": "https://localhost:8080/"
        },
        "id": "05lV_ciVCJMq",
        "outputId": "42ea1cb8-a335-46ef-8663-024735962675"
      },
      "outputs": [
        {
          "output_type": "stream",
          "name": "stdout",
          "text": [
            "Original: ['hackerearth', 'google', 'facebook']\n",
            "Modified: ['hackerearth', 'google', 'facebook']\n"
          ]
        }
      ],
      "source": [
        "new_companies = copy.deepcopy(companies)\n",
        "\n",
        "print('Original:', companies)\n",
        "print('Modified:', new_companies)"
      ]
    },
    {
      "cell_type": "code",
      "execution_count": 34,
      "metadata": {
        "colab": {
          "base_uri": "https://localhost:8080/",
          "height": 35
        },
        "id": "te2T_yp5CJMq",
        "outputId": "41a10ea8-04bd-4960-a126-b2f75fe12d34"
      },
      "outputs": [
        {
          "output_type": "execute_result",
          "data": {
            "application/vnd.google.colaboratory.intrinsic+json": {
              "type": "string"
            },
            "text/plain": [
              "'google'"
            ]
          },
          "metadata": {},
          "execution_count": 34
        }
      ],
      "source": [
        "new_companies[1]"
      ]
    },
    {
      "cell_type": "code",
      "execution_count": 35,
      "metadata": {
        "colab": {
          "base_uri": "https://localhost:8080/"
        },
        "id": "quIBgqLsCJMq",
        "outputId": "b4a02cca-cd44-477c-ca14-9ed59871c099"
      },
      "outputs": [
        {
          "output_type": "stream",
          "name": "stdout",
          "text": [
            "Original: ['hackerearth', 'google', 'facebook']\n",
            "Modified: ['hackerearth', 'microsoft', 'facebook']\n"
          ]
        }
      ],
      "source": [
        "new_companies[1] = 'microsoft'\n",
        "\n",
        "print('Original:', companies)\n",
        "print('Modified:', new_companies)"
      ]
    },
    {
      "cell_type": "code",
      "execution_count": 36,
      "metadata": {
        "colab": {
          "base_uri": "https://localhost:8080/"
        },
        "id": "D5jM8jdiCJMq",
        "outputId": "968e1ecc-cec5-4bde-80c3-9f55f53d01e7"
      },
      "outputs": [
        {
          "output_type": "execute_result",
          "data": {
            "text/plain": [
              "[[1, 2, 3], [4, 5, 6], [7, 8, 9]]"
            ]
          },
          "metadata": {},
          "execution_count": 36
        }
      ],
      "source": [
        "old_list = [[1, 2, 3], [4, 5, 6], [7, 8, 9]]\n",
        "\n",
        "old_list"
      ]
    },
    {
      "cell_type": "code",
      "execution_count": 37,
      "metadata": {
        "colab": {
          "base_uri": "https://localhost:8080/"
        },
        "id": "mclS1085CJMq",
        "outputId": "d33adef4-6e53-4c1f-a49d-972a49661515"
      },
      "outputs": [
        {
          "output_type": "stream",
          "name": "stdout",
          "text": [
            "Old list: [[1, 2, 3], [4, 5, 6], [7, 8, 9]]\n",
            "New list: [[1, 2, 3], [4, 5, 6], [7, 8, 9]]\n"
          ]
        }
      ],
      "source": [
        "new_list = copy.deepcopy(old_list)\n",
        "\n",
        "print(\"Old list:\", old_list)\n",
        "print(\"New list:\", new_list)"
      ]
    },
    {
      "cell_type": "code",
      "execution_count": 38,
      "metadata": {
        "colab": {
          "base_uri": "https://localhost:8080/"
        },
        "id": "ZN3GiwMDCJMr",
        "outputId": "6ba6bf0b-8d18-4bdc-c1cb-bcdc46027a09"
      },
      "outputs": [
        {
          "output_type": "execute_result",
          "data": {
            "text/plain": [
              "6"
            ]
          },
          "metadata": {},
          "execution_count": 38
        }
      ],
      "source": [
        "old_list[1][2]"
      ]
    },
    {
      "cell_type": "code",
      "execution_count": 39,
      "metadata": {
        "colab": {
          "base_uri": "https://localhost:8080/"
        },
        "id": "1QI1yFElCJMr",
        "outputId": "6ae5f7bd-8a85-4585-c024-20b07e8fb1b3"
      },
      "outputs": [
        {
          "output_type": "stream",
          "name": "stdout",
          "text": [
            "Old list: [[1, 2, 3], [4, 5, 'Six'], [7, 8, 9]]\n",
            "New list: [[1, 2, 3], [4, 5, 6], [7, 8, 9]]\n"
          ]
        }
      ],
      "source": [
        "old_list[1][2] = 'Six'\n",
        "\n",
        "print(\"Old list:\", old_list)\n",
        "print(\"New list:\", new_list)"
      ]
    },
    {
      "cell_type": "code",
      "execution_count": 40,
      "metadata": {
        "colab": {
          "base_uri": "https://localhost:8080/"
        },
        "id": "2q-a6H6jCJMr",
        "outputId": "fa6415c1-374f-450a-eca2-6e07f7455826"
      },
      "outputs": [
        {
          "output_type": "execute_result",
          "data": {
            "text/plain": [
              "['hackerearth', 'google', 'facebook']"
            ]
          },
          "metadata": {},
          "execution_count": 40
        }
      ],
      "source": [
        "companies"
      ]
    },
    {
      "cell_type": "code",
      "execution_count": 41,
      "metadata": {
        "colab": {
          "base_uri": "https://localhost:8080/"
        },
        "id": "zgpDe11ZCJMr",
        "outputId": "a37ebf6f-aa62-450b-cdc4-c4adc0d5a5d0"
      },
      "outputs": [
        {
          "output_type": "execute_result",
          "data": {
            "text/plain": [
              "['hackerearth', 'google', 'facebook']"
            ]
          },
          "metadata": {},
          "execution_count": 41
        }
      ],
      "source": [
        "new_companies = companies[:]\n",
        "\n",
        "new_companies"
      ]
    },
    {
      "cell_type": "code",
      "execution_count": 42,
      "metadata": {
        "colab": {
          "base_uri": "https://localhost:8080/"
        },
        "id": "FfPI3jlRCJMr",
        "outputId": "f1e5c2f4-36d0-4cf3-df19-38453b452188"
      },
      "outputs": [
        {
          "output_type": "stream",
          "name": "stdout",
          "text": [
            "Original: ['hackerearth', 'google', 'facebook']\n",
            "Modified: ['skillsoft', 'google', 'facebook']\n"
          ]
        }
      ],
      "source": [
        "new_companies[0] = 'skillsoft'\n",
        "\n",
        "print('Original:', companies)\n",
        "print('Modified:', new_companies)"
      ]
    },
    {
      "cell_type": "code",
      "execution_count": null,
      "metadata": {
        "id": "4INAOGIRCJMr"
      },
      "outputs": [],
      "source": [
        ""
      ]
    },
    {
      "cell_type": "code",
      "execution_count": null,
      "metadata": {
        "id": "zLVLadN5CJMr"
      },
      "outputs": [],
      "source": [
        ""
      ]
    },
    {
      "cell_type": "code",
      "execution_count": null,
      "metadata": {
        "id": "tOobGH6_CJMr"
      },
      "outputs": [],
      "source": [
        ""
      ]
    },
    {
      "cell_type": "markdown",
      "source": [
        "### 3. Tuples"
      ],
      "metadata": {
        "id": "lmX53yrQMdRd"
      }
    },
    {
      "cell_type": "code",
      "execution_count": 43,
      "metadata": {
        "colab": {
          "base_uri": "https://localhost:8080/"
        },
        "id": "kn_iKP3kCJMs",
        "outputId": "c5ce86e8-2aa9-4302-a8f4-59f0bc74892d"
      },
      "outputs": [
        {
          "output_type": "execute_result",
          "data": {
            "text/plain": [
              "('apple', 'banana', 'cherry')"
            ]
          },
          "metadata": {},
          "execution_count": 43
        }
      ],
      "source": [
        "fruits = (\"apple\", \"banana\", \"cherry\")\n",
        "\n",
        "fruits"
      ]
    },
    {
      "cell_type": "code",
      "execution_count": 44,
      "metadata": {
        "colab": {
          "base_uri": "https://localhost:8080/"
        },
        "id": "KdghW3PNCJMs",
        "outputId": "8c8afdd1-fd5f-4593-e68f-80809971d057"
      },
      "outputs": [
        {
          "output_type": "stream",
          "name": "stdout",
          "text": [
            "Original: ('apple', 'banana', 'cherry')\n",
            "Modified: ('apple', 'banana', 'cherry')\n"
          ]
        }
      ],
      "source": [
        "new_fruits = fruits\n",
        "\n",
        "print(\"Original:\", fruits)\n",
        "print(\"Modified:\", new_fruits)"
      ]
    },
    {
      "cell_type": "code",
      "execution_count": 45,
      "metadata": {
        "colab": {
          "base_uri": "https://localhost:8080/",
          "height": 35
        },
        "id": "tf03GTwyCJMs",
        "outputId": "5b74d5ec-c14f-48d0-e345-4ac4fbdb14d1"
      },
      "outputs": [
        {
          "output_type": "execute_result",
          "data": {
            "application/vnd.google.colaboratory.intrinsic+json": {
              "type": "string"
            },
            "text/plain": [
              "'cherry'"
            ]
          },
          "metadata": {},
          "execution_count": 45
        }
      ],
      "source": [
        "new_fruits[2]"
      ]
    },
    {
      "cell_type": "code",
      "execution_count": 46,
      "metadata": {
        "colab": {
          "base_uri": "https://localhost:8080/",
          "height": 166
        },
        "id": "WlpWan0BCJMs",
        "outputId": "2e350d00-a1c5-45c8-b07f-f6b1085f73ce"
      },
      "outputs": [
        {
          "output_type": "error",
          "ename": "TypeError",
          "evalue": "ignored",
          "traceback": [
            "\u001b[0;31m---------------------------------------------------------------------------\u001b[0m",
            "\u001b[0;31mTypeError\u001b[0m                                 Traceback (most recent call last)",
            "\u001b[0;32m<ipython-input-46-38447069ae89>\u001b[0m in \u001b[0;36m<module>\u001b[0;34m()\u001b[0m\n\u001b[0;32m----> 1\u001b[0;31m \u001b[0mnew_fruits\u001b[0m\u001b[0;34m[\u001b[0m\u001b[0;36m2\u001b[0m\u001b[0;34m]\u001b[0m \u001b[0;34m=\u001b[0m \u001b[0;34m\"orange\"\u001b[0m\u001b[0;34m\u001b[0m\u001b[0;34m\u001b[0m\u001b[0m\n\u001b[0m",
            "\u001b[0;31mTypeError\u001b[0m: 'tuple' object does not support item assignment"
          ]
        }
      ],
      "source": [
        "new_fruits[2] = \"orange\""
      ]
    },
    {
      "cell_type": "code",
      "execution_count": 47,
      "metadata": {
        "colab": {
          "base_uri": "https://localhost:8080/"
        },
        "id": "eeqUJfkrCJMs",
        "outputId": "68aca568-11be-4197-831c-a2022fd24602"
      },
      "outputs": [
        {
          "output_type": "execute_result",
          "data": {
            "text/plain": [
              "('apple', ['banana', 'cherry'], 'blackcurrant')"
            ]
          },
          "metadata": {},
          "execution_count": 47
        }
      ],
      "source": [
        "fruits = (\"apple\", [\"banana\", \"cherry\"], \"blackcurrant\")\n",
        "\n",
        "fruits"
      ]
    },
    {
      "cell_type": "code",
      "execution_count": 48,
      "metadata": {
        "colab": {
          "base_uri": "https://localhost:8080/"
        },
        "id": "nvCX7UwsCJMs",
        "outputId": "4e673b0e-5d5f-48e5-dbde-62af9f1b5a83"
      },
      "outputs": [
        {
          "output_type": "stream",
          "name": "stdout",
          "text": [
            "Original: ('apple', ['banana', 'cherry'], 'blackcurrant')\n",
            "Modified: ('apple', ['banana', 'cherry'], 'blackcurrant')\n"
          ]
        }
      ],
      "source": [
        "new_fruits = fruits\n",
        "\n",
        "print(\"Original:\", fruits)\n",
        "print(\"Modified:\", new_fruits)"
      ]
    },
    {
      "cell_type": "code",
      "execution_count": 49,
      "metadata": {
        "colab": {
          "base_uri": "https://localhost:8080/",
          "height": 35
        },
        "id": "_udxFoqTCJMs",
        "outputId": "e26eda0d-659a-427b-f04d-0fe27a6a59f5"
      },
      "outputs": [
        {
          "output_type": "execute_result",
          "data": {
            "application/vnd.google.colaboratory.intrinsic+json": {
              "type": "string"
            },
            "text/plain": [
              "'banana'"
            ]
          },
          "metadata": {},
          "execution_count": 49
        }
      ],
      "source": [
        "new_fruits[1][0]"
      ]
    },
    {
      "cell_type": "code",
      "execution_count": 50,
      "metadata": {
        "colab": {
          "base_uri": "https://localhost:8080/"
        },
        "id": "FTKW_l_WCJMs",
        "outputId": "6da901ef-11ad-4af5-a6a3-6482259fa9f0"
      },
      "outputs": [
        {
          "output_type": "stream",
          "name": "stdout",
          "text": [
            "Original: ('apple', ['orange', 'cherry'], 'blackcurrant')\n",
            "Modified: ('apple', ['orange', 'cherry'], 'blackcurrant')\n"
          ]
        }
      ],
      "source": [
        "new_fruits[1][0] = 'orange'\n",
        "\n",
        "print(\"Original:\", fruits)\n",
        "print(\"Modified:\", new_fruits)"
      ]
    },
    {
      "cell_type": "code",
      "execution_count": 51,
      "metadata": {
        "id": "-70TWqcpCJMt"
      },
      "outputs": [],
      "source": [
        "import copy"
      ]
    },
    {
      "cell_type": "code",
      "execution_count": 52,
      "metadata": {
        "colab": {
          "base_uri": "https://localhost:8080/"
        },
        "id": "rANzHc0OCJMt",
        "outputId": "952c3c76-ab12-4ad7-8556-ff84081a4fae"
      },
      "outputs": [
        {
          "output_type": "execute_result",
          "data": {
            "text/plain": [
              "('Honda', 'Suzuki', 'Triumph', ['Kawasaki', 'Ducati'])"
            ]
          },
          "metadata": {},
          "execution_count": 52
        }
      ],
      "source": [
        "bikes = ('Honda', 'Suzuki', 'Triumph', ['Kawasaki', 'Ducati'])\n",
        "\n",
        "bikes"
      ]
    },
    {
      "cell_type": "code",
      "execution_count": 53,
      "metadata": {
        "colab": {
          "base_uri": "https://localhost:8080/"
        },
        "id": "B7QyNsALCJMt",
        "outputId": "712bf9d8-0d93-45a1-faa0-a9468539e4b3"
      },
      "outputs": [
        {
          "output_type": "stream",
          "name": "stdout",
          "text": [
            "Original: ('Honda', 'Suzuki', 'Triumph', ['Kawasaki', 'Ducati'])\n",
            "Modified: ('Honda', 'Suzuki', 'Triumph', ['Kawasaki', 'Ducati'])\n"
          ]
        }
      ],
      "source": [
        "new_bikes = copy.copy(bikes)\n",
        "\n",
        "print('Original:', bikes)\n",
        "print('Modified:', new_bikes)"
      ]
    },
    {
      "cell_type": "code",
      "execution_count": 54,
      "metadata": {
        "colab": {
          "base_uri": "https://localhost:8080/",
          "height": 35
        },
        "id": "VMJhsbeVCJMt",
        "outputId": "0a76d2fb-2a1e-43a3-c0ac-55f4c708534a"
      },
      "outputs": [
        {
          "output_type": "execute_result",
          "data": {
            "application/vnd.google.colaboratory.intrinsic+json": {
              "type": "string"
            },
            "text/plain": [
              "'Kawasaki'"
            ]
          },
          "metadata": {},
          "execution_count": 54
        }
      ],
      "source": [
        "new_bikes[3][0]"
      ]
    },
    {
      "cell_type": "code",
      "execution_count": 55,
      "metadata": {
        "colab": {
          "base_uri": "https://localhost:8080/"
        },
        "id": "7aryPoX_CJMt",
        "outputId": "ffef6fe1-ec30-4151-f473-f7bd8886563d"
      },
      "outputs": [
        {
          "output_type": "stream",
          "name": "stdout",
          "text": [
            "Original: ('Honda', 'Suzuki', 'Triumph', ['Dodge', 'Ducati'])\n",
            "Modified: ('Honda', 'Suzuki', 'Triumph', ['Dodge', 'Ducati'])\n"
          ]
        }
      ],
      "source": [
        "new_bikes[3][0] = 'Dodge'\n",
        "\n",
        "print('Original:', bikes)\n",
        "print('Modified:', new_bikes)"
      ]
    },
    {
      "cell_type": "code",
      "execution_count": 56,
      "metadata": {
        "colab": {
          "base_uri": "https://localhost:8080/"
        },
        "id": "-3Ur2tJ5CJMt",
        "outputId": "706d4d51-f930-4f8e-dd90-f17212f1dc3e"
      },
      "outputs": [
        {
          "output_type": "stream",
          "name": "stdout",
          "text": [
            "Original: ('Honda', 'Suzuki', 'Triumph', ['Dodge', 'Ducati'])\n",
            "Modified: ('Honda', 'Suzuki', 'Triumph', ['Dodge', 'Ducati'])\n"
          ]
        }
      ],
      "source": [
        "new_bikes = copy.deepcopy(bikes)\n",
        "\n",
        "print('Original:', bikes)\n",
        "print('Modified:', new_bikes)"
      ]
    },
    {
      "cell_type": "code",
      "execution_count": 57,
      "metadata": {
        "colab": {
          "base_uri": "https://localhost:8080/"
        },
        "id": "iQ1WElbzCJMt",
        "outputId": "84d26015-2263-458f-86bf-1b98c39a36c8"
      },
      "outputs": [
        {
          "output_type": "stream",
          "name": "stdout",
          "text": [
            "Original: ('Honda', 'Suzuki', 'Triumph', ['Dodge', 'Ducati'])\n",
            "Modified: ('Honda', 'Suzuki', 'Triumph', ['Harley Davidson', 'Ducati'])\n"
          ]
        }
      ],
      "source": [
        "new_bikes[3][0] = 'Harley Davidson'\n",
        "\n",
        "print('Original:', bikes)\n",
        "print('Modified:', new_bikes)"
      ]
    },
    {
      "cell_type": "code",
      "execution_count": null,
      "metadata": {
        "id": "djXFPq97CJMu"
      },
      "outputs": [],
      "source": [
        ""
      ]
    },
    {
      "cell_type": "code",
      "execution_count": null,
      "metadata": {
        "id": "1aLZppAZCJMu"
      },
      "outputs": [],
      "source": [
        ""
      ]
    },
    {
      "cell_type": "code",
      "execution_count": null,
      "metadata": {
        "id": "kLHHXcfqCJMu"
      },
      "outputs": [],
      "source": [
        ""
      ]
    },
    {
      "cell_type": "markdown",
      "source": [
        "### 4. Dictionary"
      ],
      "metadata": {
        "id": "IDb9LhW4Mmtm"
      }
    },
    {
      "cell_type": "code",
      "execution_count": 58,
      "metadata": {
        "colab": {
          "base_uri": "https://localhost:8080/"
        },
        "id": "aAJvcGvICJMv",
        "outputId": "cf30a3b6-94de-40a3-ab89-d1fd908b3af7"
      },
      "outputs": [
        {
          "output_type": "execute_result",
          "data": {
            "text/plain": [
              "{'april': 4, 'feb': 2, 'jan': 1, 'march': 3}"
            ]
          },
          "metadata": {},
          "execution_count": 58
        }
      ],
      "source": [
        "months = {'jan': 1, 'feb': 2, 'march': 3, 'april':4}\n",
        "\n",
        "months"
      ]
    },
    {
      "cell_type": "code",
      "execution_count": 59,
      "metadata": {
        "colab": {
          "base_uri": "https://localhost:8080/"
        },
        "id": "dr396W53CJMv",
        "outputId": "2f2cc9ec-8836-4f99-b8c5-4f4a7f3f00f0"
      },
      "outputs": [
        {
          "output_type": "stream",
          "name": "stdout",
          "text": [
            "Original: {'jan': 1, 'feb': 2, 'march': 3, 'april': 4}\n",
            "Modified: {'jan': 1, 'feb': 2, 'march': 3, 'april': 4}\n"
          ]
        }
      ],
      "source": [
        "new_months = months\n",
        "\n",
        "print(\"Original:\", months)\n",
        "print(\"Modified:\", new_months)"
      ]
    },
    {
      "cell_type": "code",
      "execution_count": 60,
      "metadata": {
        "colab": {
          "base_uri": "https://localhost:8080/"
        },
        "id": "XWNF-rPaCJMv",
        "outputId": "2ee84444-6852-4012-f4b1-2fe6f68f532c"
      },
      "outputs": [
        {
          "output_type": "execute_result",
          "data": {
            "text/plain": [
              "2"
            ]
          },
          "metadata": {},
          "execution_count": 60
        }
      ],
      "source": [
        "new_months['feb']"
      ]
    },
    {
      "cell_type": "code",
      "execution_count": 61,
      "metadata": {
        "colab": {
          "base_uri": "https://localhost:8080/"
        },
        "id": "caJVTtXOCJMv",
        "outputId": "634cb076-3e49-4da8-dab7-a38928488bdc"
      },
      "outputs": [
        {
          "output_type": "stream",
          "name": "stdout",
          "text": [
            "Original: {'jan': 1, 'feb': 'FEB', 'march': 3, 'april': 4}\n",
            "Modified: {'jan': 1, 'feb': 'FEB', 'march': 3, 'april': 4}\n"
          ]
        }
      ],
      "source": [
        "new_months['feb'] = 'FEB'\n",
        "\n",
        "print(\"Original:\", months)\n",
        "print(\"Modified:\", new_months)"
      ]
    },
    {
      "cell_type": "code",
      "execution_count": 62,
      "metadata": {
        "id": "fwjnSTKACJMv"
      },
      "outputs": [],
      "source": [
        "import copy"
      ]
    },
    {
      "cell_type": "code",
      "execution_count": 63,
      "metadata": {
        "colab": {
          "base_uri": "https://localhost:8080/"
        },
        "id": "acxusZg4CJMv",
        "outputId": "d8f6f784-9fd5-43ea-eedd-acd29ace2173"
      },
      "outputs": [
        {
          "output_type": "execute_result",
          "data": {
            "text/plain": [
              "{'Alison': 2007, 'Bart': 2008, 'Cathy': 2009, 'Dan': 2010}"
            ]
          },
          "metadata": {},
          "execution_count": 63
        }
      ],
      "source": [
        "employees = {\"Alison\" : 2007, \"Bart\" : 2008, \"Cathy\" : 2009, \"Dan\" : 2010} \n",
        "\n",
        "employees"
      ]
    },
    {
      "cell_type": "code",
      "execution_count": 64,
      "metadata": {
        "colab": {
          "base_uri": "https://localhost:8080/"
        },
        "id": "-dsErnb_CJMw",
        "outputId": "775ec566-705a-4346-8b21-b5520dbfeea6"
      },
      "outputs": [
        {
          "output_type": "stream",
          "name": "stdout",
          "text": [
            "{'Alison': 2007, 'Bart': 2008, 'Cathy': 2009, 'Dan': 2010}\n",
            "{'Alison': 2007, 'Bart': 2008, 'Cathy': 2009, 'Dan': 2010}\n"
          ]
        }
      ],
      "source": [
        "employees_copy = copy.copy(employees)\n",
        "\n",
        "print(employees)\n",
        "print(employees_copy)"
      ]
    },
    {
      "cell_type": "code",
      "execution_count": 65,
      "metadata": {
        "colab": {
          "base_uri": "https://localhost:8080/"
        },
        "id": "8iRCGFSzCJMw",
        "outputId": "fb7a0ea8-9d66-4d3b-9b26-4127bddbf967"
      },
      "outputs": [
        {
          "output_type": "execute_result",
          "data": {
            "text/plain": [
              "2007"
            ]
          },
          "metadata": {},
          "execution_count": 65
        }
      ],
      "source": [
        "employees[\"Alison\"]"
      ]
    },
    {
      "cell_type": "code",
      "execution_count": 66,
      "metadata": {
        "colab": {
          "base_uri": "https://localhost:8080/"
        },
        "id": "LDjWTI1TCJMw",
        "outputId": "f1069bb3-292c-4e3b-b514-e629185be335"
      },
      "outputs": [
        {
          "output_type": "stream",
          "name": "stdout",
          "text": [
            "{'Alison': 2007, 'Bart': 2008, 'Cathy': 2009, 'Dan': 2010}\n",
            "{'Alison': 2005, 'Bart': 2008, 'Cathy': 2009, 'Dan': 2010}\n"
          ]
        }
      ],
      "source": [
        "employees_copy[\"Alison\"] = 2005\n",
        "\n",
        "print(employees)\n",
        "print(employees_copy)"
      ]
    },
    {
      "cell_type": "code",
      "execution_count": 67,
      "metadata": {
        "colab": {
          "base_uri": "https://localhost:8080/"
        },
        "id": "7L5Z6fLRCJMw",
        "outputId": "1b823f82-f0f7-4a35-862d-15ad7b3128aa"
      },
      "outputs": [
        {
          "output_type": "execute_result",
          "data": {
            "text/plain": [
              "{'four': [1, 2, 3, 4.0], 'one': 1, 'three': 3, 'two': 2}"
            ]
          },
          "metadata": {},
          "execution_count": 67
        }
      ],
      "source": [
        "orig_dict = {'one':1, 'two':2, 'three':3, 'four':[1, 2, 3, 4.0]}\n",
        "\n",
        "orig_dict"
      ]
    },
    {
      "cell_type": "code",
      "execution_count": 68,
      "metadata": {
        "colab": {
          "base_uri": "https://localhost:8080/"
        },
        "id": "E7s3z8s1CJMw",
        "outputId": "a1bd2917-fa2f-4eb1-aaa7-e143cb272785"
      },
      "outputs": [
        {
          "output_type": "stream",
          "name": "stdout",
          "text": [
            "Original: {'one': 1, 'two': 2, 'three': 3, 'four': [1, 2, 3, 4.0]}\n",
            "Modified: {'one': 1, 'two': 2, 'three': 3, 'four': [1, 2, 3, 4.0]}\n"
          ]
        }
      ],
      "source": [
        "new_dict = copy.copy(orig_dict)\n",
        "\n",
        "print ('Original:', orig_dict)\n",
        "print ('Modified:', new_dict)"
      ]
    },
    {
      "cell_type": "code",
      "execution_count": 69,
      "metadata": {
        "colab": {
          "base_uri": "https://localhost:8080/"
        },
        "id": "IaLD-pr_CJMw",
        "outputId": "1c208c14-8166-4a44-d837-035d3ac73e64"
      },
      "outputs": [
        {
          "output_type": "execute_result",
          "data": {
            "text/plain": [
              "4.0"
            ]
          },
          "metadata": {},
          "execution_count": 69
        }
      ],
      "source": [
        "new_dict['four'][3]"
      ]
    },
    {
      "cell_type": "code",
      "execution_count": 70,
      "metadata": {
        "colab": {
          "base_uri": "https://localhost:8080/"
        },
        "id": "TvUn4rMyCJMw",
        "outputId": "c0947e79-f3dc-460b-ca3e-d5a9fee19c19"
      },
      "outputs": [
        {
          "output_type": "stream",
          "name": "stdout",
          "text": [
            "Original: {'one': 1, 'two': 2, 'three': 3, 'four': [1, 2, 3, 'FOUR']}\n",
            "Modified: {'one': 1, 'two': 2, 'three': 3, 'four': [1, 2, 3, 'FOUR']}\n"
          ]
        }
      ],
      "source": [
        "new_dict['four'][3] = 'FOUR'\n",
        "\n",
        "print ('Original:',orig_dict)\n",
        "print ('Modified:',new_dict)"
      ]
    },
    {
      "cell_type": "code",
      "execution_count": 71,
      "metadata": {
        "colab": {
          "base_uri": "https://localhost:8080/"
        },
        "id": "vENnCTMACJMx",
        "outputId": "85a66eb6-1cbd-4ab2-c4b1-31f88fc5d710"
      },
      "outputs": [
        {
          "output_type": "stream",
          "name": "stdout",
          "text": [
            "Original: {'one': 1, 'two': 2, 'three': 3, 'four': [1, 2, 3, 'FOUR', 5]}\n",
            "Modified: {'one': 1, 'two': 2, 'three': 3, 'four': [1, 2, 3, 'FOUR', 5]}\n"
          ]
        }
      ],
      "source": [
        "new_dict['four'].append(5)\n",
        "\n",
        "print ('Original:',orig_dict) \n",
        "print ('Modified:',new_dict)"
      ]
    },
    {
      "cell_type": "code",
      "execution_count": 72,
      "metadata": {
        "colab": {
          "base_uri": "https://localhost:8080/"
        },
        "id": "ehs3LXudCJMx",
        "outputId": "e891ff2e-bd89-4d82-c389-b54210592c7f"
      },
      "outputs": [
        {
          "output_type": "execute_result",
          "data": {
            "text/plain": [
              "{'four': 4, 'one': 1, 'three': {'one': 1, 'zero': 0}, 'two': 2}"
            ]
          },
          "metadata": {},
          "execution_count": 72
        }
      ],
      "source": [
        "orig_dict = {'one':1, 'two':2, 'three': {'zero':0, 'one':1}, 'four':4}\n",
        "\n",
        "orig_dict"
      ]
    },
    {
      "cell_type": "code",
      "execution_count": 73,
      "metadata": {
        "colab": {
          "base_uri": "https://localhost:8080/"
        },
        "id": "JpGXDmJTCJMx",
        "outputId": "c7d0fb9c-9680-4354-ef69-238d68e1e47c"
      },
      "outputs": [
        {
          "output_type": "stream",
          "name": "stdout",
          "text": [
            "{'one': 1, 'two': 2, 'three': {'zero': 0, 'one': 1}, 'four': 4}\n",
            "{'one': 1, 'two': 2, 'three': {'zero': 0, 'one': 1}, 'four': 4}\n"
          ]
        }
      ],
      "source": [
        "new_dict = copy.copy(orig_dict)\n",
        "\n",
        "print(orig_dict)\n",
        "print(new_dict)"
      ]
    },
    {
      "cell_type": "code",
      "execution_count": 74,
      "metadata": {
        "colab": {
          "base_uri": "https://localhost:8080/"
        },
        "id": "OJiRjp0KCJMx",
        "outputId": "909c95b3-a563-456e-cee7-0fa197aa1f29"
      },
      "outputs": [
        {
          "output_type": "execute_result",
          "data": {
            "text/plain": [
              "0"
            ]
          },
          "metadata": {},
          "execution_count": 74
        }
      ],
      "source": [
        "new_dict['three']['zero']"
      ]
    },
    {
      "cell_type": "code",
      "execution_count": 75,
      "metadata": {
        "colab": {
          "base_uri": "https://localhost:8080/"
        },
        "id": "kQ_XxCUMCJMx",
        "outputId": "8b0fae36-7e6e-43ab-ffdc-3c84fd143497"
      },
      "outputs": [
        {
          "output_type": "stream",
          "name": "stdout",
          "text": [
            "{'one': 1, 'two': 2, 'three': {'zero': 'ZERO', 'one': 1}, 'four': 4}\n",
            "{'one': 1, 'two': 2, 'three': {'zero': 'ZERO', 'one': 1}, 'four': 4}\n"
          ]
        }
      ],
      "source": [
        "new_dict['three']['zero'] = 'ZERO'\n",
        "\n",
        "print(orig_dict)\n",
        "print(new_dict)"
      ]
    },
    {
      "cell_type": "code",
      "execution_count": 76,
      "metadata": {
        "colab": {
          "base_uri": "https://localhost:8080/"
        },
        "id": "EP_KhDYvCJMx",
        "outputId": "66a3dad3-5ea4-4bf3-db8e-1f905e73975b"
      },
      "outputs": [
        {
          "output_type": "execute_result",
          "data": {
            "text/plain": [
              "{'four': 4, 'one': 1, 'three': {0, 1, 2}, 'two': 2}"
            ]
          },
          "metadata": {},
          "execution_count": 76
        }
      ],
      "source": [
        "orig_dict = {'one':1, 'two':2, 'three': {0, 1, 2}, 'four':4}\n",
        "\n",
        "orig_dict"
      ]
    },
    {
      "cell_type": "code",
      "execution_count": 77,
      "metadata": {
        "colab": {
          "base_uri": "https://localhost:8080/"
        },
        "id": "go_w4A4dCJMy",
        "outputId": "2b09cbf8-3470-4df5-e776-2f32c4549b1b"
      },
      "outputs": [
        {
          "output_type": "stream",
          "name": "stdout",
          "text": [
            "Original: {'one': 1, 'two': 2, 'three': {0, 1, 2}, 'four': 4}\n",
            "Modified: {'one': 1, 'two': 2, 'three': {0, 1, 2}, 'four': 4}\n"
          ]
        }
      ],
      "source": [
        "new_dict = copy.copy(orig_dict)\n",
        "\n",
        "print ('Original:', orig_dict)\n",
        "print ('Modified:', new_dict)"
      ]
    },
    {
      "cell_type": "code",
      "execution_count": 78,
      "metadata": {
        "colab": {
          "base_uri": "https://localhost:8080/"
        },
        "id": "Yv0Iv9PqCJMy",
        "outputId": "8663f45e-131c-4e4f-c36d-3ed045657d65"
      },
      "outputs": [
        {
          "output_type": "execute_result",
          "data": {
            "text/plain": [
              "{0, 1, 2}"
            ]
          },
          "metadata": {},
          "execution_count": 78
        }
      ],
      "source": [
        "new_dict['three']"
      ]
    },
    {
      "cell_type": "code",
      "execution_count": 79,
      "metadata": {
        "colab": {
          "base_uri": "https://localhost:8080/"
        },
        "id": "on7uVsgRCJMy",
        "outputId": "315cfeb8-ea37-4b5f-b44a-86653034e15e"
      },
      "outputs": [
        {
          "output_type": "stream",
          "name": "stdout",
          "text": [
            "Original: {'one': 1, 'two': 2, 'three': {0, 1, 2, 3}, 'four': 4}\n",
            "Modified: {'one': 1, 'two': 2, 'three': {0, 1, 2, 3}, 'four': 4}\n"
          ]
        }
      ],
      "source": [
        "new_dict['three'].add(3)\n",
        "\n",
        "print ('Original:', orig_dict)\n",
        "print ('Modified:', new_dict)"
      ]
    },
    {
      "cell_type": "code",
      "execution_count": null,
      "metadata": {
        "id": "PaYEMw7ZCJMy"
      },
      "outputs": [],
      "source": [
        ""
      ]
    },
    {
      "cell_type": "code",
      "execution_count": null,
      "metadata": {
        "id": "MQZTQ4W4CJMy"
      },
      "outputs": [],
      "source": [
        ""
      ]
    },
    {
      "cell_type": "code",
      "execution_count": null,
      "metadata": {
        "id": "Xo1TG-CCCJMy"
      },
      "outputs": [],
      "source": [
        ""
      ]
    },
    {
      "cell_type": "code",
      "execution_count": 80,
      "metadata": {
        "colab": {
          "base_uri": "https://localhost:8080/"
        },
        "id": "DSluuwVMCJMz",
        "outputId": "d47f40bd-cb63-49a5-e617-1b33b5bc26ac"
      },
      "outputs": [
        {
          "output_type": "execute_result",
          "data": {
            "text/plain": [
              "{'april': 4, 'feb': 2, 'jan': 1, 'march': 3}"
            ]
          },
          "metadata": {},
          "execution_count": 80
        }
      ],
      "source": [
        "months = {'jan': 1, 'feb': 2, 'march': 3, 'april':4}\n",
        "\n",
        "months"
      ]
    },
    {
      "cell_type": "code",
      "execution_count": 81,
      "metadata": {
        "colab": {
          "base_uri": "https://localhost:8080/"
        },
        "id": "sbJGpXFxCJMz",
        "outputId": "59b7edda-fdea-4ba2-ce7a-beba2c4ea264"
      },
      "outputs": [
        {
          "output_type": "stream",
          "name": "stdout",
          "text": [
            "Original: {'jan': 1, 'feb': 2, 'march': 3, 'april': 4}\n",
            "Modified: {'jan': 1, 'feb': 2, 'march': 3, 'april': 4}\n"
          ]
        }
      ],
      "source": [
        "new_months = months.copy()\n",
        "\n",
        "print(\"Original:\", months)\n",
        "print(\"Modified:\", new_months)"
      ]
    },
    {
      "cell_type": "code",
      "execution_count": 82,
      "metadata": {
        "colab": {
          "base_uri": "https://localhost:8080/"
        },
        "id": "sdPpmvyACJMz",
        "outputId": "f7a26e26-16e5-47df-b008-31cd8d76e20c"
      },
      "outputs": [
        {
          "output_type": "execute_result",
          "data": {
            "text/plain": [
              "2"
            ]
          },
          "metadata": {},
          "execution_count": 82
        }
      ],
      "source": [
        "new_months['feb']"
      ]
    },
    {
      "cell_type": "code",
      "execution_count": 83,
      "metadata": {
        "colab": {
          "base_uri": "https://localhost:8080/"
        },
        "id": "9-apEBBGCJMz",
        "outputId": "4e8fdeb6-e577-4d54-edf2-a401379ece03"
      },
      "outputs": [
        {
          "output_type": "stream",
          "name": "stdout",
          "text": [
            "Original: {'jan': 1, 'feb': 2, 'march': 3, 'april': 4}\n",
            "Modified: {'jan': 1, 'feb': 'FEB', 'march': 3, 'april': 4}\n"
          ]
        }
      ],
      "source": [
        "new_months['feb'] = 'FEB'\n",
        "\n",
        "print(\"Original:\", months)\n",
        "print(\"Modified:\", new_months)"
      ]
    },
    {
      "cell_type": "code",
      "execution_count": 84,
      "metadata": {
        "id": "SYhywGreCJMz"
      },
      "outputs": [],
      "source": [
        "import copy"
      ]
    },
    {
      "cell_type": "code",
      "execution_count": 85,
      "metadata": {
        "colab": {
          "base_uri": "https://localhost:8080/"
        },
        "id": "-GGWo9QnCJM0",
        "outputId": "a21c8880-06ad-4f76-c9fe-2d93859374ec"
      },
      "outputs": [
        {
          "output_type": "execute_result",
          "data": {
            "text/plain": [
              "{'Alison': 2007, 'Bart': 2008, 'Cathy': 2009, 'Dan': 2010}"
            ]
          },
          "metadata": {},
          "execution_count": 85
        }
      ],
      "source": [
        "employees = {\"Alison\" : 2007, \"Bart\" : 2008, \"Cathy\" : 2009, \"Dan\" : 2010} \n",
        "\n",
        "employees"
      ]
    },
    {
      "cell_type": "code",
      "execution_count": 86,
      "metadata": {
        "colab": {
          "base_uri": "https://localhost:8080/"
        },
        "id": "ROn5xzwRCJM3",
        "outputId": "bd4ae357-b5b7-4744-abbd-e3141a4839cf"
      },
      "outputs": [
        {
          "output_type": "stream",
          "name": "stdout",
          "text": [
            "{'Alison': 2007, 'Bart': 2008, 'Cathy': 2009, 'Dan': 2010}\n",
            "{'Alison': 2007, 'Bart': 2008, 'Cathy': 2009, 'Dan': 2010}\n"
          ]
        }
      ],
      "source": [
        "employees_copy = copy.deepcopy(employees)\n",
        "\n",
        "print(employees)\n",
        "print(employees_copy)"
      ]
    },
    {
      "cell_type": "code",
      "execution_count": 87,
      "metadata": {
        "colab": {
          "base_uri": "https://localhost:8080/"
        },
        "id": "KX7l2enuCJM3",
        "outputId": "8b072858-a0d6-4d0b-cfc2-e61238c96367"
      },
      "outputs": [
        {
          "output_type": "execute_result",
          "data": {
            "text/plain": [
              "2007"
            ]
          },
          "metadata": {},
          "execution_count": 87
        }
      ],
      "source": [
        "employees[\"Alison\"]"
      ]
    },
    {
      "cell_type": "code",
      "execution_count": 88,
      "metadata": {
        "colab": {
          "base_uri": "https://localhost:8080/"
        },
        "id": "sbYy54oUCJM3",
        "outputId": "c9c4a309-e19b-4bad-dc81-921671394477"
      },
      "outputs": [
        {
          "output_type": "stream",
          "name": "stdout",
          "text": [
            "{'Alison': 2011, 'Bart': 2008, 'Cathy': 2009, 'Dan': 2010}\n",
            "{'Alison': 2007, 'Bart': 2008, 'Cathy': 2009, 'Dan': 2010}\n"
          ]
        }
      ],
      "source": [
        "employees[\"Alison\"] = 2011\n",
        "\n",
        "print(employees)\n",
        "print(employees_copy)"
      ]
    },
    {
      "cell_type": "code",
      "execution_count": 89,
      "metadata": {
        "colab": {
          "base_uri": "https://localhost:8080/"
        },
        "id": "2_vml0kLCJM3",
        "outputId": "72f56a24-3225-40d1-d1ee-a899d3ade32a"
      },
      "outputs": [
        {
          "output_type": "execute_result",
          "data": {
            "text/plain": [
              "{'four': [1, 2, 3, 4.0], 'one': 1, 'three': 3, 'two': 2}"
            ]
          },
          "metadata": {},
          "execution_count": 89
        }
      ],
      "source": [
        "orig_dict = {'one':1, 'two':2, 'three':3, 'four':[1, 2, 3, 4.0]}\n",
        "\n",
        "orig_dict"
      ]
    },
    {
      "cell_type": "code",
      "execution_count": 90,
      "metadata": {
        "colab": {
          "base_uri": "https://localhost:8080/"
        },
        "id": "q2KUTNJjCJM3",
        "outputId": "6c0da067-96fd-490a-d200-d415e379ed58"
      },
      "outputs": [
        {
          "output_type": "stream",
          "name": "stdout",
          "text": [
            "Original: {'one': 1, 'two': 2, 'three': 3, 'four': [1, 2, 3, 4.0]}\n",
            "Modified: {'one': 1, 'two': 2, 'three': 3, 'four': [1, 2, 3, 4.0]}\n"
          ]
        }
      ],
      "source": [
        "new_dict = copy.deepcopy(orig_dict)\n",
        "\n",
        "print ('Original:', orig_dict)\n",
        "print ('Modified:', new_dict)"
      ]
    },
    {
      "cell_type": "code",
      "execution_count": 91,
      "metadata": {
        "colab": {
          "base_uri": "https://localhost:8080/"
        },
        "id": "ttI1p1taCJM3",
        "outputId": "b8b434da-a5c1-401d-943d-7042a6febc3a"
      },
      "outputs": [
        {
          "output_type": "execute_result",
          "data": {
            "text/plain": [
              "4.0"
            ]
          },
          "metadata": {},
          "execution_count": 91
        }
      ],
      "source": [
        "new_dict['four'][3]"
      ]
    },
    {
      "cell_type": "code",
      "execution_count": 92,
      "metadata": {
        "colab": {
          "base_uri": "https://localhost:8080/"
        },
        "id": "1L4BNLRNCJM3",
        "outputId": "3fcdb11b-2da4-441d-eea1-3cc5dd3799d3"
      },
      "outputs": [
        {
          "output_type": "stream",
          "name": "stdout",
          "text": [
            "Original: {'one': 1, 'two': 2, 'three': 3, 'four': [1, 2, 3, 4.0]}\n",
            "Modified: {'one': 1, 'two': 2, 'three': 3, 'four': [1, 2, 3, 'FOUR']}\n"
          ]
        }
      ],
      "source": [
        "new_dict['four'][3] = 'FOUR'\n",
        "\n",
        "print ('Original:', orig_dict) \n",
        "print ('Modified:', new_dict)"
      ]
    },
    {
      "cell_type": "code",
      "execution_count": 93,
      "metadata": {
        "colab": {
          "base_uri": "https://localhost:8080/"
        },
        "id": "i-cHvXosCJM3",
        "outputId": "9bc50c39-fc0d-407c-86d5-a4da22db9e11"
      },
      "outputs": [
        {
          "output_type": "stream",
          "name": "stdout",
          "text": [
            "Original: {'one': 1, 'two': 2, 'three': 3, 'four': [1, 2, 3, 4.0]}\n",
            "Modified: {'one': 1, 'two': 2, 'three': 3, 'four': [1, 2, 3, 'FOUR', 5]}\n"
          ]
        }
      ],
      "source": [
        "new_dict['four'].append(5)\n",
        "\n",
        "print ('Original:', orig_dict) \n",
        "print ('Modified:', new_dict)"
      ]
    },
    {
      "cell_type": "code",
      "execution_count": 94,
      "metadata": {
        "colab": {
          "base_uri": "https://localhost:8080/"
        },
        "id": "tUU4kn2lCJM3",
        "outputId": "b66f1261-f34e-488e-feed-cf0e161065ae"
      },
      "outputs": [
        {
          "output_type": "execute_result",
          "data": {
            "text/plain": [
              "{'four': 4, 'one': 1, 'three': {'one': 1, 'zero': 0}, 'two': 2}"
            ]
          },
          "metadata": {},
          "execution_count": 94
        }
      ],
      "source": [
        "orig_dict = {'one':1, 'two':2, 'three': {'zero':0, 'one':1}, 'four':4}\n",
        "\n",
        "orig_dict"
      ]
    },
    {
      "cell_type": "code",
      "execution_count": 95,
      "metadata": {
        "colab": {
          "base_uri": "https://localhost:8080/"
        },
        "id": "BytA_IzACJM4",
        "outputId": "439def00-cfa5-4f19-cfaf-0f3cd13a19f0"
      },
      "outputs": [
        {
          "output_type": "stream",
          "name": "stdout",
          "text": [
            "{'one': 1, 'two': 2, 'three': {'zero': 0, 'one': 1}, 'four': 4}\n",
            "{'one': 1, 'two': 2, 'three': {'zero': 0, 'one': 1}, 'four': 4}\n"
          ]
        }
      ],
      "source": [
        "new_dict = copy.deepcopy(orig_dict)\n",
        "\n",
        "print(orig_dict)\n",
        "print(new_dict)"
      ]
    },
    {
      "cell_type": "code",
      "execution_count": 96,
      "metadata": {
        "colab": {
          "base_uri": "https://localhost:8080/"
        },
        "id": "G8FUNb0vCJM4",
        "outputId": "a02132b7-0337-45f5-ba1c-0e53864c1382"
      },
      "outputs": [
        {
          "output_type": "execute_result",
          "data": {
            "text/plain": [
              "0"
            ]
          },
          "metadata": {},
          "execution_count": 96
        }
      ],
      "source": [
        "new_dict['three']['zero']"
      ]
    },
    {
      "cell_type": "code",
      "execution_count": 97,
      "metadata": {
        "colab": {
          "base_uri": "https://localhost:8080/"
        },
        "id": "-gh2lP-RCJM4",
        "outputId": "cd63487b-8463-4760-aab8-b0c3f9f4f3de"
      },
      "outputs": [
        {
          "output_type": "stream",
          "name": "stdout",
          "text": [
            "{'one': 1, 'two': 2, 'three': {'zero': 0, 'one': 1}, 'four': 4}\n",
            "{'one': 1, 'two': 2, 'three': {'zero': 'ZERO', 'one': 1}, 'four': 4}\n"
          ]
        }
      ],
      "source": [
        "new_dict['three']['zero'] = 'ZERO'\n",
        "\n",
        "print(orig_dict)\n",
        "print(new_dict)"
      ]
    },
    {
      "cell_type": "code",
      "execution_count": 98,
      "metadata": {
        "colab": {
          "base_uri": "https://localhost:8080/"
        },
        "id": "ANr1WLpACJM5",
        "outputId": "100ff5bc-65b3-496a-8b3b-f0ea94bde812"
      },
      "outputs": [
        {
          "output_type": "execute_result",
          "data": {
            "text/plain": [
              "{'four': 4, 'one': 1, 'three': {0, 1, 2}, 'two': 2}"
            ]
          },
          "metadata": {},
          "execution_count": 98
        }
      ],
      "source": [
        "orig_dict = {'one':1, 'two':2, 'three':{0,1,2}, 'four':4}\n",
        "orig_dict"
      ]
    },
    {
      "cell_type": "code",
      "execution_count": 99,
      "metadata": {
        "colab": {
          "base_uri": "https://localhost:8080/"
        },
        "id": "Jn-9xpBiCJM5",
        "outputId": "8eaa53a0-a2b6-4b42-ee02-a91fdbc3fa61"
      },
      "outputs": [
        {
          "output_type": "stream",
          "name": "stdout",
          "text": [
            "Original: {'one': 1, 'two': 2, 'three': {0, 1, 2}, 'four': 4}\n",
            "Modified: {'one': 1, 'two': 2, 'three': {0, 1, 2}, 'four': 4}\n"
          ]
        }
      ],
      "source": [
        "new_dict = copy.deepcopy(orig_dict)\n",
        "\n",
        "print ('Original:', orig_dict)\n",
        "print ('Modified:', new_dict)"
      ]
    },
    {
      "cell_type": "code",
      "execution_count": 100,
      "metadata": {
        "colab": {
          "base_uri": "https://localhost:8080/"
        },
        "id": "qEMQGeRJCJM5",
        "outputId": "20cbcf9b-5afa-49a7-8aaa-0650b2e2aa3f"
      },
      "outputs": [
        {
          "output_type": "execute_result",
          "data": {
            "text/plain": [
              "{0, 1, 2}"
            ]
          },
          "metadata": {},
          "execution_count": 100
        }
      ],
      "source": [
        "new_dict['three']"
      ]
    },
    {
      "cell_type": "code",
      "execution_count": 101,
      "metadata": {
        "colab": {
          "base_uri": "https://localhost:8080/"
        },
        "id": "DLBD0Rf9CJM5",
        "outputId": "d6504560-f45c-46b9-e212-fb19db422acd"
      },
      "outputs": [
        {
          "output_type": "stream",
          "name": "stdout",
          "text": [
            "Original: {'one': 1, 'two': 2, 'three': {0, 1, 2}, 'four': 4}\n",
            "Modified: {'one': 1, 'two': 2, 'three': {0, 1, 2, 'THREE'}, 'four': 4}\n"
          ]
        }
      ],
      "source": [
        "new_dict['three'].add('THREE')\n",
        "\n",
        "print ('Original:', orig_dict)\n",
        "print ('Modified:', new_dict)"
      ]
    },
    {
      "cell_type": "code",
      "execution_count": null,
      "metadata": {
        "id": "jlNmebK2CJM5"
      },
      "outputs": [],
      "source": [
        ""
      ]
    },
    {
      "cell_type": "code",
      "execution_count": null,
      "metadata": {
        "id": "nOTsYykvCJM6"
      },
      "outputs": [],
      "source": [
        ""
      ]
    },
    {
      "cell_type": "code",
      "execution_count": null,
      "metadata": {
        "id": "TV6zGTwCCJM6"
      },
      "outputs": [],
      "source": [
        ""
      ]
    },
    {
      "cell_type": "markdown",
      "source": [
        "### 5. Sets"
      ],
      "metadata": {
        "id": "oZSiFu96Mz6-"
      }
    },
    {
      "cell_type": "code",
      "execution_count": 102,
      "metadata": {
        "colab": {
          "base_uri": "https://localhost:8080/"
        },
        "id": "Rxy1UPgBCJM6",
        "outputId": "d86d061f-d5de-44f7-feff-c3b56ff75ec1"
      },
      "outputs": [
        {
          "output_type": "execute_result",
          "data": {
            "text/plain": [
              "{'c++', 'java', 'php', 'python'}"
            ]
          },
          "metadata": {},
          "execution_count": 102
        }
      ],
      "source": [
        "set_1 = {'c++', 'php', 'java', 'python'}\n",
        "\n",
        "set_1"
      ]
    },
    {
      "cell_type": "code",
      "execution_count": 103,
      "metadata": {
        "colab": {
          "base_uri": "https://localhost:8080/"
        },
        "id": "Ipfi_VBpCJM6",
        "outputId": "534e193b-6bd6-4dfd-d179-af593a499b64"
      },
      "outputs": [
        {
          "output_type": "stream",
          "name": "stdout",
          "text": [
            "Original: {'python', 'java', 'php', 'c++'}\n",
            "Modified: {'python', 'java', 'php', 'c++'}\n"
          ]
        }
      ],
      "source": [
        "set_2 = set_1\n",
        "\n",
        "print(\"Original:\", set_1)\n",
        "print(\"Modified:\", set_2) "
      ]
    },
    {
      "cell_type": "code",
      "execution_count": 104,
      "metadata": {
        "colab": {
          "base_uri": "https://localhost:8080/"
        },
        "id": "8gkm5ZnPCJM6",
        "outputId": "3d2a8d42-69aa-4048-a8cc-972d9729c1d0"
      },
      "outputs": [
        {
          "output_type": "stream",
          "name": "stdout",
          "text": [
            "Original: {'sql', 'python', 'c++', 'php', 'java'}\n",
            "Modified: {'sql', 'python', 'c++', 'php', 'java'}\n"
          ]
        }
      ],
      "source": [
        "set_2.add('sql')\n",
        "\n",
        "print(\"Original:\", set_1)\n",
        "print(\"Modified:\", set_2)"
      ]
    },
    {
      "cell_type": "code",
      "execution_count": 105,
      "metadata": {
        "colab": {
          "base_uri": "https://localhost:8080/",
          "height": 35
        },
        "id": "oahPvj4MCJM6",
        "outputId": "9902da0b-7716-4eb6-8757-3ddcbcd5adaa"
      },
      "outputs": [
        {
          "output_type": "execute_result",
          "data": {
            "application/vnd.google.colaboratory.intrinsic+json": {
              "type": "string"
            },
            "text/plain": [
              "'sql'"
            ]
          },
          "metadata": {},
          "execution_count": 105
        }
      ],
      "source": [
        "set_2.pop()"
      ]
    },
    {
      "cell_type": "code",
      "execution_count": 106,
      "metadata": {
        "colab": {
          "base_uri": "https://localhost:8080/"
        },
        "id": "YL0IWzhiCJM6",
        "outputId": "d34c6bf6-6984-4120-f20b-5fbe18c095b2"
      },
      "outputs": [
        {
          "output_type": "stream",
          "name": "stdout",
          "text": [
            "Original: {'python', 'c++', 'php', 'java'}\n",
            "Modified: {'python', 'c++', 'php', 'java'}\n"
          ]
        }
      ],
      "source": [
        "print(\"Original:\", set_1)\n",
        "print(\"Modified:\", set_2)"
      ]
    },
    {
      "cell_type": "code",
      "execution_count": 107,
      "metadata": {
        "colab": {
          "base_uri": "https://localhost:8080/",
          "height": 166
        },
        "id": "VtLDIkZJCJM7",
        "outputId": "6715e3f0-8160-450b-9784-a05a24b0d39d"
      },
      "outputs": [
        {
          "output_type": "error",
          "ename": "TypeError",
          "evalue": "ignored",
          "traceback": [
            "\u001b[0;31m---------------------------------------------------------------------------\u001b[0m",
            "\u001b[0;31mTypeError\u001b[0m                                 Traceback (most recent call last)",
            "\u001b[0;32m<ipython-input-107-f0806d9ed1ed>\u001b[0m in \u001b[0;36m<module>\u001b[0;34m()\u001b[0m\n\u001b[0;32m----> 1\u001b[0;31m \u001b[0mset_2\u001b[0m\u001b[0;34m[\u001b[0m\u001b[0;36m2\u001b[0m\u001b[0;34m]\u001b[0m\u001b[0;34m\u001b[0m\u001b[0;34m\u001b[0m\u001b[0m\n\u001b[0m",
            "\u001b[0;31mTypeError\u001b[0m: 'set' object is not subscriptable"
          ]
        }
      ],
      "source": [
        "set_2[2]"
      ]
    },
    {
      "cell_type": "code",
      "execution_count": 108,
      "metadata": {
        "colab": {
          "base_uri": "https://localhost:8080/",
          "height": 166
        },
        "id": "43i-JEW8CJM7",
        "outputId": "a528f5ee-bf70-453b-9796-e659bd8740ec"
      },
      "outputs": [
        {
          "output_type": "error",
          "ename": "TypeError",
          "evalue": "ignored",
          "traceback": [
            "\u001b[0;31m---------------------------------------------------------------------------\u001b[0m",
            "\u001b[0;31mTypeError\u001b[0m                                 Traceback (most recent call last)",
            "\u001b[0;32m<ipython-input-108-0cd1cfd792d6>\u001b[0m in \u001b[0;36m<module>\u001b[0;34m()\u001b[0m\n\u001b[0;32m----> 1\u001b[0;31m \u001b[0mset_2\u001b[0m\u001b[0;34m[\u001b[0m\u001b[0;36m2\u001b[0m\u001b[0;34m]\u001b[0m \u001b[0;34m=\u001b[0m \u001b[0;34m'ruby'\u001b[0m\u001b[0;34m\u001b[0m\u001b[0;34m\u001b[0m\u001b[0m\n\u001b[0m",
            "\u001b[0;31mTypeError\u001b[0m: 'set' object does not support item assignment"
          ]
        }
      ],
      "source": [
        "set_2[2] = 'ruby'"
      ]
    },
    {
      "cell_type": "code",
      "execution_count": 109,
      "metadata": {
        "colab": {
          "base_uri": "https://localhost:8080/",
          "height": 201
        },
        "id": "qEkdDJLECJM7",
        "outputId": "3adee807-b949-45e6-b19d-a9dbbe59deaf"
      },
      "outputs": [
        {
          "output_type": "error",
          "ename": "TypeError",
          "evalue": "ignored",
          "traceback": [
            "\u001b[0;31m---------------------------------------------------------------------------\u001b[0m",
            "\u001b[0;31mTypeError\u001b[0m                                 Traceback (most recent call last)",
            "\u001b[0;32m<ipython-input-109-e7419cb37a76>\u001b[0m in \u001b[0;36m<module>\u001b[0;34m()\u001b[0m\n\u001b[0;32m----> 1\u001b[0;31m \u001b[0mset_1\u001b[0m \u001b[0;34m=\u001b[0m \u001b[0;34m{\u001b[0m\u001b[0;34m'c++'\u001b[0m\u001b[0;34m,\u001b[0m \u001b[0;34m'php'\u001b[0m\u001b[0;34m,\u001b[0m \u001b[0;34m[\u001b[0m\u001b[0;34m'java'\u001b[0m\u001b[0;34m,\u001b[0m \u001b[0;34m'python'\u001b[0m\u001b[0;34m]\u001b[0m\u001b[0;34m,\u001b[0m \u001b[0;34m'sql'\u001b[0m\u001b[0;34m}\u001b[0m\u001b[0;34m\u001b[0m\u001b[0;34m\u001b[0m\u001b[0m\n\u001b[0m\u001b[1;32m      2\u001b[0m \u001b[0;34m\u001b[0m\u001b[0m\n\u001b[1;32m      3\u001b[0m \u001b[0mset_1\u001b[0m\u001b[0;34m\u001b[0m\u001b[0;34m\u001b[0m\u001b[0m\n",
            "\u001b[0;31mTypeError\u001b[0m: unhashable type: 'list'"
          ]
        }
      ],
      "source": [
        "set_1 = {'c++', 'php', ['java', 'python'], 'sql'}\n",
        "\n",
        "set_1"
      ]
    },
    {
      "cell_type": "code",
      "execution_count": 110,
      "metadata": {
        "colab": {
          "base_uri": "https://localhost:8080/"
        },
        "id": "sx-4H8VVCJM7",
        "outputId": "e6e9a01f-341d-401b-ae22-9cc476f668c1"
      },
      "outputs": [
        {
          "output_type": "execute_result",
          "data": {
            "text/plain": [
              "{('java', 'python'), 'c++', 'php', 'sql'}"
            ]
          },
          "metadata": {},
          "execution_count": 110
        }
      ],
      "source": [
        "set_1 = {'c++', 'php', ('java', 'python'), 'sql'}\n",
        "\n",
        "set_1"
      ]
    },
    {
      "cell_type": "code",
      "execution_count": 111,
      "metadata": {
        "colab": {
          "base_uri": "https://localhost:8080/"
        },
        "id": "fxbt9O6ECJM7",
        "outputId": "3461d5a6-7c82-4583-c3bf-c2a9598523e5"
      },
      "outputs": [
        {
          "output_type": "stream",
          "name": "stdout",
          "text": [
            "Original: {('java', 'python'), 'sql', 'php', 'c++'}\n",
            "Modified: {('java', 'python'), 'sql', 'php', 'c++'}\n"
          ]
        }
      ],
      "source": [
        "set_2 = set_1\n",
        "\n",
        "print(\"Original:\", set_1)\n",
        "print(\"Modified:\", set_2)"
      ]
    },
    {
      "cell_type": "code",
      "execution_count": 112,
      "metadata": {
        "id": "CgwURcMXCJM7"
      },
      "outputs": [],
      "source": [
        "import copy"
      ]
    },
    {
      "cell_type": "code",
      "execution_count": 113,
      "metadata": {
        "colab": {
          "base_uri": "https://localhost:8080/"
        },
        "id": "yh1IscgCCJM7",
        "outputId": "c6b8dc88-4854-4e6d-9e0d-9bc66e657fd5"
      },
      "outputs": [
        {
          "output_type": "execute_result",
          "data": {
            "text/plain": [
              "{'Ava', 'Daniel', 'Jacob', 'Mia'}"
            ]
          },
          "metadata": {},
          "execution_count": 113
        }
      ],
      "source": [
        "teachers_set = {\"Ava\", \"Mia\", \"Jacob\", \"Daniel\"}\n",
        "\n",
        "teachers_set"
      ]
    },
    {
      "cell_type": "code",
      "execution_count": 114,
      "metadata": {
        "colab": {
          "base_uri": "https://localhost:8080/"
        },
        "id": "UElZhhyGCJM8",
        "outputId": "ade2d3ec-557d-44d2-c85a-f01ee3b2d592"
      },
      "outputs": [
        {
          "output_type": "stream",
          "name": "stdout",
          "text": [
            "{'Mia', 'Ava', 'Jacob', 'Daniel'}\n",
            "{'Mia', 'Ava', 'Jacob', 'Daniel'}\n"
          ]
        }
      ],
      "source": [
        "new_teachers_set = copy.copy(teachers_set)\n",
        "\n",
        "print(teachers_set)\n",
        "print(new_teachers_set)"
      ]
    },
    {
      "cell_type": "code",
      "execution_count": 115,
      "metadata": {
        "colab": {
          "base_uri": "https://localhost:8080/"
        },
        "id": "9Q1eH9EECJM8",
        "outputId": "22e2dc02-20a6-46da-b8af-2cc25b7e4c39"
      },
      "outputs": [
        {
          "output_type": "stream",
          "name": "stdout",
          "text": [
            "{'Jacob', 'Emma', 'Daniel', 'Ava', 'Mia'}\n",
            "{'Mia', 'Ava', 'Jacob', 'Daniel'}\n"
          ]
        }
      ],
      "source": [
        "teachers_set.add(\"Emma\")\n",
        "\n",
        "print(teachers_set)\n",
        "print(new_teachers_set)"
      ]
    },
    {
      "cell_type": "code",
      "execution_count": 116,
      "metadata": {
        "colab": {
          "base_uri": "https://localhost:8080/"
        },
        "id": "NGUWZ-UqCJM8",
        "outputId": "3364d627-1088-46c1-c7dc-bdfcbcb56555"
      },
      "outputs": [
        {
          "output_type": "stream",
          "name": "stdout",
          "text": [
            "{'Jacob', 'Emma', 'Daniel', 'Ava', 'Mia'}\n",
            "{'Mia', 'Jacob', 'Daniel'}\n"
          ]
        }
      ],
      "source": [
        "new_teachers_set.remove(\"Ava\")\n",
        "\n",
        "print(teachers_set)\n",
        "print(new_teachers_set)"
      ]
    },
    {
      "cell_type": "code",
      "execution_count": 117,
      "metadata": {
        "colab": {
          "base_uri": "https://localhost:8080/"
        },
        "id": "viHzYX05CJM8",
        "outputId": "90e7698c-1021-4eea-d066-fdc9945776c7"
      },
      "outputs": [
        {
          "output_type": "execute_result",
          "data": {
            "text/plain": [
              "{'Ava', 'Daniel', 'Jacob', 'Mia'}"
            ]
          },
          "metadata": {},
          "execution_count": 117
        }
      ],
      "source": [
        "teachers_set = {\"Ava\", \"Mia\", \"Jacob\", \"Daniel\"}\n",
        "\n",
        "teachers_set"
      ]
    },
    {
      "cell_type": "code",
      "execution_count": 118,
      "metadata": {
        "colab": {
          "base_uri": "https://localhost:8080/"
        },
        "id": "z6FTDWzKCJM8",
        "outputId": "af6d3603-06d4-4ded-d448-2a5c68a38096"
      },
      "outputs": [
        {
          "output_type": "stream",
          "name": "stdout",
          "text": [
            "{'Mia', 'Ava', 'Jacob', 'Daniel'}\n",
            "{'Mia', 'Ava', 'Jacob', 'Daniel'}\n"
          ]
        }
      ],
      "source": [
        "new_teachers_set = copy.deepcopy(teachers_set)\n",
        "\n",
        "print(teachers_set)\n",
        "print(new_teachers_set)"
      ]
    },
    {
      "cell_type": "code",
      "execution_count": 119,
      "metadata": {
        "colab": {
          "base_uri": "https://localhost:8080/"
        },
        "id": "rSH3EFc_CJM9",
        "outputId": "3333dede-0c44-45e6-b847-b2910903585b"
      },
      "outputs": [
        {
          "output_type": "stream",
          "name": "stdout",
          "text": [
            "{'Jacob', 'Emma', 'Daniel', 'Ava', 'Mia'}\n",
            "{'Mia', 'Ava', 'Jacob', 'Daniel'}\n"
          ]
        }
      ],
      "source": [
        "teachers_set.add(\"Emma\")\n",
        "\n",
        "print(teachers_set)\n",
        "print(new_teachers_set)"
      ]
    },
    {
      "cell_type": "code",
      "execution_count": 120,
      "metadata": {
        "colab": {
          "base_uri": "https://localhost:8080/"
        },
        "id": "3qTm1JN4CJM9",
        "outputId": "d47326fb-1a88-4538-b45d-c83702ee0bfc"
      },
      "outputs": [
        {
          "output_type": "stream",
          "name": "stdout",
          "text": [
            "{'Jacob', 'Emma', 'Daniel', 'Mia'}\n",
            "{'Mia', 'Ava', 'Jacob', 'Daniel'}\n"
          ]
        }
      ],
      "source": [
        "teachers_set.remove(\"Ava\")\n",
        "\n",
        "print(teachers_set)\n",
        "print(new_teachers_set)"
      ]
    },
    {
      "cell_type": "code",
      "execution_count": null,
      "metadata": {
        "id": "yY2CCrckCJM9"
      },
      "outputs": [],
      "source": [
        ""
      ]
    },
    {
      "cell_type": "code",
      "execution_count": null,
      "metadata": {
        "id": "FpoXPv68CJM9"
      },
      "outputs": [],
      "source": [
        ""
      ]
    },
    {
      "cell_type": "code",
      "execution_count": null,
      "metadata": {
        "id": "7wfi8YUkCJM9"
      },
      "outputs": [],
      "source": [
        ""
      ]
    }
  ],
  "metadata": {
    "kernelspec": {
      "display_name": "Python 3",
      "language": "python",
      "name": "python3"
    },
    "language_info": {
      "codemirror_mode": {
        "name": "ipython",
        "version": 3
      },
      "file_extension": ".py",
      "mimetype": "text/x-python",
      "name": "python",
      "nbconvert_exporter": "python",
      "pygments_lexer": "ipython3",
      "version": "3.7.1"
    },
    "colab": {
      "name": "8-Shallow-Deep-Copy.ipynb",
      "provenance": [],
      "collapsed_sections": []
    }
  },
  "nbformat": 4,
  "nbformat_minor": 0
}