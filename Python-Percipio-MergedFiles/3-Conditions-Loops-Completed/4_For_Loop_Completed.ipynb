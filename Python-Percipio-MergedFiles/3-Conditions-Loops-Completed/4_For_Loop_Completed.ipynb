{
  "cells": [
    {
      "cell_type": "markdown",
      "metadata": {
        "id": "rX-84r_Jzleq"
      },
      "source": [
        "### IntroducingForLoops"
      ]
    },
    {
      "cell_type": "markdown",
      "metadata": {
        "id": "bXtsT2dWzles"
      },
      "source": [
        "##### Syntax of the For Loop\n",
        "\n",
        "* for variable in sequence:<br>\n",
        "\tstatements\n",
        "    \n",
        "    \n",
        " A for loop is used for iterating over a sequence (that is either a list, a tuple, a dictionary, a set, or a string)."
      ]
    },
    {
      "cell_type": "code",
      "execution_count": 1,
      "metadata": {
        "colab": {
          "base_uri": "https://localhost:8080/"
        },
        "id": "3HzQ8QJVzles",
        "outputId": "08adcb26-17e1-44b6-b02b-aad70c19804d"
      },
      "outputs": [
        {
          "output_type": "stream",
          "name": "stdout",
          "text": [
            "H\n",
            "e\n",
            "l\n",
            "l\n",
            "o\n"
          ]
        }
      ],
      "source": [
        "for letter in ['H', 'e', 'l', 'l', 'o']:\n",
        "    print(letter)"
      ]
    },
    {
      "cell_type": "markdown",
      "metadata": {
        "id": "c13PMO0Uzlet"
      },
      "source": [
        "strings are iterable objects, they contain a sequence of characters"
      ]
    },
    {
      "cell_type": "code",
      "execution_count": 2,
      "metadata": {
        "colab": {
          "base_uri": "https://localhost:8080/"
        },
        "id": "sMFFTAdZzleu",
        "outputId": "fb72b21f-9e92-4664-9af7-0be26564d6d2"
      },
      "outputs": [
        {
          "output_type": "stream",
          "name": "stdout",
          "text": [
            "H\n",
            "e\n",
            "l\n",
            "l\n",
            "o\n"
          ]
        }
      ],
      "source": [
        "for letter in \"Hello\":\n",
        "    print(letter) "
      ]
    },
    {
      "cell_type": "code",
      "execution_count": 3,
      "metadata": {
        "colab": {
          "base_uri": "https://localhost:8080/"
        },
        "id": "ojVZGQiHzleu",
        "outputId": "dd92cb37-1615-448e-efdf-9ad76da2c733"
      },
      "outputs": [
        {
          "output_type": "stream",
          "name": "stdout",
          "text": [
            "H\n",
            "e\n",
            "l\n",
            "l\n",
            "o\n",
            " \n",
            "W\n",
            "o\n",
            "r\n",
            "l\n",
            "d\n"
          ]
        }
      ],
      "source": [
        "my_string = \"Hello World\"\n",
        "\n",
        "for char in my_string:\n",
        "    print (char)"
      ]
    },
    {
      "cell_type": "code",
      "execution_count": 4,
      "metadata": {
        "colab": {
          "base_uri": "https://localhost:8080/"
        },
        "id": "3RONJya4zleu",
        "outputId": "d95416f7-3a1a-4035-ff51-98b064967445"
      },
      "outputs": [
        {
          "output_type": "stream",
          "name": "stdout",
          "text": [
            "1\n",
            "0\n"
          ]
        }
      ],
      "source": [
        "for digit in \"10\":\n",
        "    print (digit)"
      ]
    },
    {
      "cell_type": "markdown",
      "metadata": {
        "id": "JKWcwJO4zleu"
      },
      "source": [
        "Integer is not a iterable"
      ]
    },
    {
      "cell_type": "code",
      "execution_count": 5,
      "metadata": {
        "colab": {
          "base_uri": "https://localhost:8080/",
          "height": 183
        },
        "id": "cpjU9IHHzleu",
        "outputId": "a0968a00-61de-4d65-9394-29a33a0c1e4e"
      },
      "outputs": [
        {
          "output_type": "error",
          "ename": "TypeError",
          "evalue": "ignored",
          "traceback": [
            "\u001b[0;31m---------------------------------------------------------------------------\u001b[0m",
            "\u001b[0;31mTypeError\u001b[0m                                 Traceback (most recent call last)",
            "\u001b[0;32m<ipython-input-5-ba881c1a9633>\u001b[0m in \u001b[0;36m<module>\u001b[0;34m()\u001b[0m\n\u001b[0;32m----> 1\u001b[0;31m \u001b[0;32mfor\u001b[0m \u001b[0mdigit\u001b[0m \u001b[0;32min\u001b[0m \u001b[0;36m10\u001b[0m\u001b[0;34m:\u001b[0m\u001b[0;34m\u001b[0m\u001b[0;34m\u001b[0m\u001b[0m\n\u001b[0m\u001b[1;32m      2\u001b[0m     \u001b[0mprint\u001b[0m \u001b[0;34m(\u001b[0m\u001b[0mdigit\u001b[0m\u001b[0;34m)\u001b[0m\u001b[0;34m\u001b[0m\u001b[0;34m\u001b[0m\u001b[0m\n",
            "\u001b[0;31mTypeError\u001b[0m: 'int' object is not iterable"
          ]
        }
      ],
      "source": [
        "for digit in 10:\n",
        "    print (digit)"
      ]
    },
    {
      "cell_type": "markdown",
      "metadata": {
        "id": "XjRcDBWGzlev"
      },
      "source": [
        "Print each country "
      ]
    },
    {
      "cell_type": "code",
      "execution_count": 6,
      "metadata": {
        "scrolled": true,
        "colab": {
          "base_uri": "https://localhost:8080/"
        },
        "id": "uT0TT_67zlev",
        "outputId": "bb848a9d-980a-496a-ac87-2c2ba4684759"
      },
      "outputs": [
        {
          "output_type": "stream",
          "name": "stdout",
          "text": [
            "Germany\n",
            "India\n",
            "Israel\n"
          ]
        }
      ],
      "source": [
        "for country in \"Germany\", \"India\", \"Israel\":\n",
        "    print(country)"
      ]
    },
    {
      "cell_type": "markdown",
      "metadata": {
        "id": "6gfJlTX9zlev"
      },
      "source": [
        "Iterating over Tuple"
      ]
    },
    {
      "cell_type": "code",
      "execution_count": 7,
      "metadata": {
        "collapsed": true,
        "id": "toULQUMEzlev"
      },
      "outputs": [],
      "source": [
        "dogs = (\"Pug\", \"Doberman\", \"Golden Retriever\")"
      ]
    },
    {
      "cell_type": "code",
      "execution_count": 8,
      "metadata": {
        "colab": {
          "base_uri": "https://localhost:8080/"
        },
        "id": "xoZnUL3Wzlev",
        "outputId": "63c3f046-3c6c-423e-da47-37a31588678d"
      },
      "outputs": [
        {
          "output_type": "stream",
          "name": "stdout",
          "text": [
            "It's a Pug\n",
            "It's a Doberman\n",
            "It's a Golden Retriever\n"
          ]
        }
      ],
      "source": [
        "for dog in dogs:\n",
        "    print(\"It's a\", dog)"
      ]
    },
    {
      "cell_type": "markdown",
      "metadata": {
        "id": "Xjz3SHnjzlev"
      },
      "source": [
        "built-in function `enumerate()`adds a counter to an iterable and returns it in a form of enumerate object\n",
        "\n",
        "A lot of times when dealing with iterators, we also get a need to keep a count of iterations. Python eases the programmers’ task by providing a built-in function enumerate() for this task.\n",
        "Enumerate() method adds a counter to an iterable and returns it in a form of enumerate object. "
      ]
    },
    {
      "cell_type": "code",
      "execution_count": 9,
      "metadata": {
        "colab": {
          "base_uri": "https://localhost:8080/"
        },
        "id": "fdfwHAD1zle5",
        "outputId": "826735c1-b21b-4d52-bd08-818cdaa99fbe"
      },
      "outputs": [
        {
          "output_type": "stream",
          "name": "stdout",
          "text": [
            "The dog at index 0 is a Pug and it weighs 20 pounds\n",
            "The dog at index 1 is a Doberman and it weighs 80 pounds\n",
            "The dog at index 2 is a Golden Retriever and it weighs 55 pounds\n"
          ]
        }
      ],
      "source": [
        "dog_weight = ((\"Pug\", 20),\n",
        "              (\"Doberman\", 80),\n",
        "              (\"Golden Retriever\", 55))\n",
        "\n",
        "\n",
        "for i, (dog, weight) in enumerate(dog_weight):\n",
        "    print(\"The dog at index %d is a %s and it weighs %s pounds\" % (i, dog, weight))"
      ]
    },
    {
      "cell_type": "markdown",
      "metadata": {
        "id": "ntNCpR48zle5"
      },
      "source": [
        "Iterating over List"
      ]
    },
    {
      "cell_type": "code",
      "execution_count": 10,
      "metadata": {
        "colab": {
          "base_uri": "https://localhost:8080/"
        },
        "id": "mMwqeNu7zle5",
        "outputId": "97639f74-29f5-4362-dc54-cbf3904962ea"
      },
      "outputs": [
        {
          "output_type": "stream",
          "name": "stdout",
          "text": [
            "Happy New Year, John\n",
            "Happy New Year, Sam\n",
            "Happy New Year, Jill\n"
          ]
        }
      ],
      "source": [
        "friends = [\"John\", \"Sam\", \"Jill\"]\n",
        "\n",
        "for friend in friends:\n",
        "    print(\"Happy New Year,\", friend)"
      ]
    },
    {
      "cell_type": "markdown",
      "metadata": {
        "id": "zPqG4qAszle6"
      },
      "source": [
        "The purpose of zip() is to map the similar index of multiple containers so that they can be used just using as single entity."
      ]
    },
    {
      "cell_type": "code",
      "execution_count": 11,
      "metadata": {
        "colab": {
          "base_uri": "https://localhost:8080/"
        },
        "id": "OihiAHpozle6",
        "outputId": "a94510c3-1cb2-4689-fc58-076ec039661d"
      },
      "outputs": [
        {
          "output_type": "execute_result",
          "data": {
            "text/plain": [
              "{'Bob': 96, 'Jill': 50, 'John': 80, 'Sam': 60}"
            ]
          },
          "metadata": {},
          "execution_count": 11
        }
      ],
      "source": [
        "student_scores = {'John': 80, \n",
        "                  'Sam': 60, \n",
        "                  'Jill': 50, \n",
        "                  'Bob': 96}  \n",
        "\n",
        "student_scores"
      ]
    },
    {
      "cell_type": "markdown",
      "metadata": {
        "id": "aAHAr5nyzle6"
      },
      "source": [
        "Iterating over dictionary"
      ]
    },
    {
      "cell_type": "markdown",
      "metadata": {
        "id": "wrEhLOetzle6"
      },
      "source": [
        "Iterating over keys"
      ]
    },
    {
      "cell_type": "code",
      "execution_count": 12,
      "metadata": {
        "colab": {
          "base_uri": "https://localhost:8080/"
        },
        "id": "Qj-jS8tvzle6",
        "outputId": "55905d17-f827-408b-8882-095e04d28883"
      },
      "outputs": [
        {
          "output_type": "stream",
          "name": "stdout",
          "text": [
            "John\n",
            "Sam\n",
            "Jill\n",
            "Bob\n"
          ]
        }
      ],
      "source": [
        "for student in student_scores:\n",
        "    print(student)"
      ]
    },
    {
      "cell_type": "markdown",
      "metadata": {
        "id": "GHEH94C3zle7"
      },
      "source": [
        "Using `.keys` function we can get all keys in dictionary"
      ]
    },
    {
      "cell_type": "code",
      "execution_count": 13,
      "metadata": {
        "colab": {
          "base_uri": "https://localhost:8080/"
        },
        "id": "HFlFG6Kjzle7",
        "outputId": "c49f591f-76dc-4111-be27-b04637b9c5a7"
      },
      "outputs": [
        {
          "output_type": "execute_result",
          "data": {
            "text/plain": [
              "dict_keys(['John', 'Sam', 'Jill', 'Bob'])"
            ]
          },
          "metadata": {},
          "execution_count": 13
        }
      ],
      "source": [
        "student_scores.keys()"
      ]
    },
    {
      "cell_type": "code",
      "execution_count": 14,
      "metadata": {
        "colab": {
          "base_uri": "https://localhost:8080/"
        },
        "id": "wnnkx76Lzle7",
        "outputId": "60d2bf12-5c3a-4b13-cc65-65ad5b59c4f1"
      },
      "outputs": [
        {
          "output_type": "stream",
          "name": "stdout",
          "text": [
            "John\n",
            "Sam\n",
            "Jill\n",
            "Bob\n"
          ]
        }
      ],
      "source": [
        "for student in student_scores.keys():\n",
        "    print(student)"
      ]
    },
    {
      "cell_type": "markdown",
      "metadata": {
        "id": "LXwVzVX_zle7"
      },
      "source": [
        "Using `.value` function we can get all values in dictionary"
      ]
    },
    {
      "cell_type": "code",
      "execution_count": 15,
      "metadata": {
        "colab": {
          "base_uri": "https://localhost:8080/"
        },
        "id": "mAPTsrLazle7",
        "outputId": "cd7d66e8-ce5c-4f8e-9785-7637f6b29e48"
      },
      "outputs": [
        {
          "output_type": "stream",
          "name": "stdout",
          "text": [
            "80\n",
            "60\n",
            "50\n",
            "96\n"
          ]
        }
      ],
      "source": [
        "for score in student_scores.values():\n",
        "    print(score)"
      ]
    },
    {
      "cell_type": "markdown",
      "metadata": {
        "id": "_mWLE_DPzle7"
      },
      "source": [
        "Using `[]` we can get all keys and values in a dictionary<br>\n",
        "Print each key value pair in dictionary"
      ]
    },
    {
      "cell_type": "code",
      "execution_count": 16,
      "metadata": {
        "colab": {
          "base_uri": "https://localhost:8080/"
        },
        "id": "8LSxS_zFzle7",
        "outputId": "6fb6a822-c686-4a2d-d6d3-18d91249eda2"
      },
      "outputs": [
        {
          "output_type": "stream",
          "name": "stdout",
          "text": [
            "Key value pair - John : 80\n",
            "Key value pair - Sam : 60\n",
            "Key value pair - Jill : 50\n",
            "Key value pair - Bob : 96\n"
          ]
        }
      ],
      "source": [
        "for key in student_scores:\n",
        "    print(\"Key value pair -\", key, \":\", student_scores[key])"
      ]
    },
    {
      "cell_type": "markdown",
      "metadata": {
        "id": "nID5NGIyzle8"
      },
      "source": [
        "Using `.items` function we can get keys and value list of tuple"
      ]
    },
    {
      "cell_type": "code",
      "execution_count": 17,
      "metadata": {
        "colab": {
          "base_uri": "https://localhost:8080/"
        },
        "id": "-GJWJiP9zle8",
        "outputId": "99daee84-e65a-4dde-ebba-13f2baf30010"
      },
      "outputs": [
        {
          "output_type": "stream",
          "name": "stdout",
          "text": [
            "('John', 80)\n",
            "('Sam', 60)\n",
            "('Jill', 50)\n",
            "('Bob', 96)\n"
          ]
        }
      ],
      "source": [
        "for key_value in student_scores.items():\n",
        "    print (key_value)"
      ]
    },
    {
      "cell_type": "markdown",
      "metadata": {
        "id": "bBFgwX8Xzle8"
      },
      "source": [
        "Giving two variables (first variable will hold fist field in the Dictionary\n",
        "and second variable will hold second field in the Dictionary)"
      ]
    },
    {
      "cell_type": "code",
      "execution_count": 18,
      "metadata": {
        "colab": {
          "base_uri": "https://localhost:8080/"
        },
        "id": "pMBlqxLPzle8",
        "outputId": "1643a81d-2df0-4be6-d40b-9d2cddde92ff"
      },
      "outputs": [
        {
          "output_type": "stream",
          "name": "stdout",
          "text": [
            "Student: John \tScore: 80\n",
            "Student: Sam \tScore: 60\n",
            "Student: Jill \tScore: 50\n",
            "Student: Bob \tScore: 96\n"
          ]
        }
      ],
      "source": [
        "for student, score in student_scores.items():\n",
        "    print (\"Student:\", student, \"\\tScore:\", score)"
      ]
    },
    {
      "cell_type": "markdown",
      "metadata": {
        "id": "dQzrcEUvzle8"
      },
      "source": [
        "Let's see another example for iterating over dictionary."
      ]
    },
    {
      "cell_type": "markdown",
      "metadata": {
        "id": "MKVx7Ejtzle8"
      },
      "source": [
        "program to perform a division using for loops:"
      ]
    },
    {
      "cell_type": "code",
      "execution_count": 19,
      "metadata": {
        "colab": {
          "base_uri": "https://localhost:8080/"
        },
        "id": "f5Zk5dOKzle8",
        "outputId": "a77a9be7-a66c-4030-c57d-4141ab65d713"
      },
      "outputs": [
        {
          "output_type": "stream",
          "name": "stdout",
          "text": [
            "2 is the quotient of 4 / 2\n",
            "3 is the quotient of 6 / 2\n",
            "4 is the quotient of 9 / 2\n",
            "5 is the quotient of 10 / 2\n"
          ]
        }
      ],
      "source": [
        "numbers = [4, 6, 9, 10]\n",
        "\n",
        "for num in numbers:\n",
        "    quotient = num // 2\n",
        "    \n",
        "    print(quotient, \"is the quotient of\", num, \"/ 2\" )"
      ]
    },
    {
      "cell_type": "markdown",
      "metadata": {
        "id": "RaayTosjzle8"
      },
      "source": [
        "program that prints each item and its corresponding type from the following list."
      ]
    },
    {
      "cell_type": "code",
      "execution_count": 20,
      "metadata": {
        "colab": {
          "base_uri": "https://localhost:8080/"
        },
        "id": "9I-Q97N6zle9",
        "outputId": "789fd7b7-5516-4e78-a450-40d56684cc5a"
      },
      "outputs": [
        {
          "output_type": "stream",
          "name": "stdout",
          "text": [
            "Type of  145  is  <class 'int'>\n",
            "Type of  10.5  is  <class 'float'>\n",
            "Type of  (1+3j)  is  <class 'complex'>\n",
            "Type of  True  is  <class 'bool'>\n",
            "Type of  Python  is  <class 'str'>\n",
            "Type of  (0, 1)  is  <class 'tuple'>\n",
            "Type of  [2, -5]  is  <class 'list'>\n",
            "Type of  {'Class': 'V', 'Section': 'A'}  is  <class 'dict'>\n"
          ]
        }
      ],
      "source": [
        "mixed_list = [145, 10.5, 1+3j,\n",
        "              True, \"Python\",\n",
        "              (0, 1),[2, -5],\n",
        "              {\"Class\":\"V\", \"Section\":\"A\"}]\n",
        "\n",
        "for item in mixed_list:\n",
        "    print (\"Type of \", item, \" is \", type(item))"
      ]
    },
    {
      "cell_type": "markdown",
      "metadata": {
        "id": "s0ZIEKcdzle9"
      },
      "source": [
        "Print squares of all numbers present in a list"
      ]
    },
    {
      "cell_type": "code",
      "execution_count": 21,
      "metadata": {
        "scrolled": true,
        "colab": {
          "base_uri": "https://localhost:8080/"
        },
        "id": "pfN0SJUjzle9",
        "outputId": "fc8443e2-e530-46f5-b416-2fb03807c9d6"
      },
      "outputs": [
        {
          "output_type": "stream",
          "name": "stdout",
          "text": [
            "Square of 2 is 4\n",
            "Square of 4 is 16\n",
            "Square of 6 is 36\n",
            "Square of 8 is 64\n"
          ]
        }
      ],
      "source": [
        "num_list = [2, 4, 6, 8]         \n",
        "\n",
        "square = 0 \n",
        "\n",
        "for val in num_list:         \n",
        "    square = val ** 2  \n",
        "    \n",
        "    print (\"Square of\", val, \"is\", square)   "
      ]
    },
    {
      "cell_type": "markdown",
      "metadata": {
        "id": "KPnVDQDvzle9"
      },
      "source": [
        "program to find lenght of a function with out using len function."
      ]
    },
    {
      "cell_type": "code",
      "execution_count": 22,
      "metadata": {
        "colab": {
          "base_uri": "https://localhost:8080/"
        },
        "id": "QC73Q3vtzle9",
        "outputId": "94b7911b-86d8-4539-d0d2-409ef3cb9127"
      },
      "outputs": [
        {
          "output_type": "stream",
          "name": "stdout",
          "text": [
            "Enter a string: python\n",
            "6\n"
          ]
        }
      ],
      "source": [
        "string = input(\"Enter a string: \")\n",
        "\n",
        "count = 0\n",
        "\n",
        "for i in string:\n",
        "    count = count + 1\n",
        "    \n",
        "print(count)"
      ]
    },
    {
      "cell_type": "markdown",
      "metadata": {
        "id": "o0IKQNjxzle9"
      },
      "source": [
        "#### For Loop with else"
      ]
    },
    {
      "cell_type": "code",
      "execution_count": 23,
      "metadata": {
        "colab": {
          "base_uri": "https://localhost:8080/"
        },
        "id": "FupI24mwzle-",
        "outputId": "9daa01eb-49d3-4c19-e245-7056c494553f"
      },
      "outputs": [
        {
          "output_type": "stream",
          "name": "stdout",
          "text": [
            "2\n",
            "3\n",
            "5\n",
            "7\n",
            "No more items left in the list.\n"
          ]
        }
      ],
      "source": [
        "numbers = [2, 3, 5, 7]\n",
        "\n",
        "for num in numbers:\n",
        "    print(num)\n",
        "    \n",
        "else:    \n",
        "    print(\"No more items left in the list.\")"
      ]
    },
    {
      "cell_type": "code",
      "execution_count": 24,
      "metadata": {
        "colab": {
          "base_uri": "https://localhost:8080/"
        },
        "id": "dCsDALi6zle-",
        "outputId": "9a61c732-634c-4832-9cf2-42681c8c2e37"
      },
      "outputs": [
        {
          "output_type": "stream",
          "name": "stdout",
          "text": [
            "d\n",
            "b\n",
            "a\n",
            "c\n",
            "No more characters left \n"
          ]
        }
      ],
      "source": [
        "characters = {\"a\", \"b\", \"c\", \"d\"}\n",
        "\n",
        "for letter in characters:\n",
        "    print(letter)\n",
        "    \n",
        "else:\n",
        "    print(\"No more characters left \")"
      ]
    },
    {
      "cell_type": "markdown",
      "metadata": {
        "id": "7mq7q8Kozle-"
      },
      "source": [
        "Print the Bristol city is available or not in us_cities list"
      ]
    },
    {
      "cell_type": "markdown",
      "metadata": {
        "id": "_W2pk_c7zle-"
      },
      "source": [
        "Using append attribute to add cities near new york to the list us_cities."
      ]
    },
    {
      "cell_type": "code",
      "execution_count": 25,
      "metadata": {
        "colab": {
          "base_uri": "https://localhost:8080/"
        },
        "id": "lXZzUKC2zle-",
        "outputId": "d3b3be1f-ce70-4888-bd83-620e7c2654f3"
      },
      "outputs": [
        {
          "output_type": "stream",
          "name": "stdout",
          "text": [
            "New York is present in the list\n"
          ]
        }
      ],
      "source": [
        "us_cities = [\"New York\", \"Nashville\", \"Seattle\"]\n",
        "\n",
        "for city in us_cities:\n",
        "    \n",
        "    if city == \"New York\":\n",
        "        \n",
        "        print(\"New York is present in the list\")"
      ]
    },
    {
      "cell_type": "markdown",
      "metadata": {
        "id": "1w9YNjhDzle_"
      },
      "source": [
        "Add an even number in the list to show that the nested if statement works"
      ]
    },
    {
      "cell_type": "code",
      "execution_count": 26,
      "metadata": {
        "colab": {
          "base_uri": "https://localhost:8080/"
        },
        "id": "7LeYO21azle_",
        "outputId": "ab8621e8-d82a-4921-984e-c7bdc45ca63a"
      },
      "outputs": [
        {
          "output_type": "stream",
          "name": "stdout",
          "text": [
            "The list contains an even number: 2\n",
            "The list contains an even number: 22\n"
          ]
        }
      ],
      "source": [
        "numbers = [11, 33, 55, 39, 2, 55, 75, 37, 22, 23, 41, 13]\n",
        "\n",
        "for num in numbers:\n",
        "    \n",
        "    if num % 2 == 0:\n",
        "        \n",
        "        print(\"The list contains an even number:\", num) "
      ]
    },
    {
      "cell_type": "markdown",
      "metadata": {
        "id": "Oi7-Gocvzle_"
      },
      "source": [
        "Finding out which year is leap year and which year is not leap in list"
      ]
    },
    {
      "cell_type": "code",
      "execution_count": 27,
      "metadata": {
        "colab": {
          "base_uri": "https://localhost:8080/"
        },
        "id": "h1qZ31T8zle_",
        "outputId": "b57e93ba-e627-4971-a610-88d2d218fd72"
      },
      "outputs": [
        {
          "output_type": "stream",
          "name": "stdout",
          "text": [
            "2016 is a leap year\n",
            "2017 is not a leap year\n",
            "2018 is not a leap year\n",
            "2019 is not a leap year\n",
            "2020 is a leap year\n"
          ]
        }
      ],
      "source": [
        "years = [2016, 2017, 2018, 2019, 2020]\n",
        "\n",
        "for year in years:\n",
        "    \n",
        "    if year % 4 == 0:\n",
        "        \n",
        "        print(year, \"is a leap year\")\n",
        "        \n",
        "    else:\n",
        "        print(year, \"is not a leap year\")"
      ]
    },
    {
      "cell_type": "markdown",
      "metadata": {
        "id": "QCnvAR_bzlfA"
      },
      "source": [
        "#### Nested loops"
      ]
    },
    {
      "cell_type": "markdown",
      "metadata": {
        "id": "KtiBS0k5zlfA"
      },
      "source": [
        "Loop over Lists of lists\n",
        "\n",
        "Nested for loops can be useful for iterating through items within lists composed of lists. "
      ]
    },
    {
      "cell_type": "code",
      "execution_count": 28,
      "metadata": {
        "colab": {
          "base_uri": "https://localhost:8080/"
        },
        "id": "dG8etVMyzlfA",
        "outputId": "84a39651-f832-48f0-8038-8a0889c43647"
      },
      "outputs": [
        {
          "output_type": "stream",
          "name": "stdout",
          "text": [
            "['Mary', 'Linda', 'Jessica']\n",
            "['James', 'Jacob', 'William']\n"
          ]
        }
      ],
      "source": [
        "names = [[\"Mary\", \"Linda\", \"Jessica\"],\n",
        "         [\"James\", \"Jacob\", \"William\"]]\n",
        "\n",
        "for sublist in names:\n",
        "    print(sublist)"
      ]
    },
    {
      "cell_type": "code",
      "execution_count": 29,
      "metadata": {
        "colab": {
          "base_uri": "https://localhost:8080/"
        },
        "id": "9MkZSCayzlfA",
        "outputId": "fa5d0a76-4963-4318-d68d-d07792b71750"
      },
      "outputs": [
        {
          "output_type": "stream",
          "name": "stdout",
          "text": [
            "Mary\n",
            "Linda\n",
            "Jessica\n",
            "James\n",
            "Jacob\n",
            "William\n"
          ]
        }
      ],
      "source": [
        "for sublist in names:\n",
        "    for name in sublist:\n",
        "        print(name)"
      ]
    },
    {
      "cell_type": "code",
      "execution_count": 30,
      "metadata": {
        "scrolled": true,
        "colab": {
          "base_uri": "https://localhost:8080/"
        },
        "id": "iMtUBzSjzlfA",
        "outputId": "b8abbc9f-d821-4b46-daac-67776e76c225"
      },
      "outputs": [
        {
          "output_type": "stream",
          "name": "stdout",
          "text": [
            "Red Pen\n",
            "Red Marker\n",
            "Red Pencil\n",
            "Green Pen\n",
            "Green Marker\n",
            "Green Pencil\n",
            "Blue Pen\n",
            "Blue Marker\n",
            "Blue Pencil\n"
          ]
        }
      ],
      "source": [
        "colors_list = [\"Red\", \"Green\", \"Blue\"]\n",
        "objects_list = [\"Pen\", \"Marker\", \"Pencil\"]\n",
        "\n",
        "for color in colors_list:\n",
        "    for obj in objects_list:\n",
        "        \n",
        "        print (color, obj)"
      ]
    },
    {
      "cell_type": "markdown",
      "metadata": {
        "id": "Hbr3BONYzlfT"
      },
      "source": [
        "### TheRangeFunctionInForLoop"
      ]
    },
    {
      "cell_type": "markdown",
      "metadata": {
        "id": "l9VvGnvCzlfT"
      },
      "source": [
        "To loop through a set of code a specified number of times, we can use the range() function\n",
        "\n",
        "The range() function returns a sequence of numbers, starting from 0 by default, and increments by 1 (by default), and ends at a specified number."
      ]
    },
    {
      "cell_type": "markdown",
      "metadata": {
        "id": "R7NEPUevzlfU"
      },
      "source": [
        "The `range(n)` function can be considered a shorthand for `0,1,2,....n-1`.<br>"
      ]
    },
    {
      "cell_type": "code",
      "execution_count": 31,
      "metadata": {
        "colab": {
          "base_uri": "https://localhost:8080/"
        },
        "id": "jFalwdZFzlfU",
        "outputId": "416bdc33-30c0-4eeb-947b-5bb2b72ae288"
      },
      "outputs": [
        {
          "output_type": "execute_result",
          "data": {
            "text/plain": [
              "range(0, 5)"
            ]
          },
          "metadata": {},
          "execution_count": 31
        }
      ],
      "source": [
        "my_range = range(5)\n",
        "\n",
        "my_range"
      ]
    },
    {
      "cell_type": "code",
      "execution_count": 32,
      "metadata": {
        "colab": {
          "base_uri": "https://localhost:8080/"
        },
        "id": "pNct7SOHzlfU",
        "outputId": "8c0196b0-3d8b-43dd-b505-9e8b84d6a8d5"
      },
      "outputs": [
        {
          "output_type": "execute_result",
          "data": {
            "text/plain": [
              "(0, 1, 2, 3, 4)"
            ]
          },
          "metadata": {},
          "execution_count": 32
        }
      ],
      "source": [
        "tuple(my_range)"
      ]
    },
    {
      "cell_type": "code",
      "execution_count": 33,
      "metadata": {
        "colab": {
          "base_uri": "https://localhost:8080/"
        },
        "id": "K_QH8TCLzlfU",
        "outputId": "9bd39a11-2c8c-4a89-8d5d-a93e57d13644"
      },
      "outputs": [
        {
          "output_type": "execute_result",
          "data": {
            "text/plain": [
              "[0, 1, 2, 3, 4]"
            ]
          },
          "metadata": {},
          "execution_count": 33
        }
      ],
      "source": [
        "list(my_range)"
      ]
    },
    {
      "cell_type": "markdown",
      "metadata": {
        "id": "FcoVDkPuzlfU"
      },
      "source": [
        "The Range start with 5, and stop with 10"
      ]
    },
    {
      "cell_type": "code",
      "execution_count": 34,
      "metadata": {
        "colab": {
          "base_uri": "https://localhost:8080/"
        },
        "id": "cCxdgmAzzlfU",
        "outputId": "6fd3c9f3-a1b7-4b62-dc52-4b00b2b4c28f"
      },
      "outputs": [
        {
          "output_type": "execute_result",
          "data": {
            "text/plain": [
              "[5, 6, 7, 8, 9]"
            ]
          },
          "metadata": {},
          "execution_count": 34
        }
      ],
      "source": [
        "list(range(5, 10))"
      ]
    },
    {
      "cell_type": "markdown",
      "metadata": {
        "id": "8HjieUTvzlfU"
      },
      "source": [
        "Here we can use negative values also"
      ]
    },
    {
      "cell_type": "code",
      "execution_count": 35,
      "metadata": {
        "colab": {
          "base_uri": "https://localhost:8080/"
        },
        "id": "JhyOnFCDzlfU",
        "outputId": "7c3a385d-5247-4e1f-84e7-fdcd11bebeac"
      },
      "outputs": [
        {
          "output_type": "execute_result",
          "data": {
            "text/plain": [
              "[-5, -4, -3, -2, -1, 0, 1, 2, 3, 4]"
            ]
          },
          "metadata": {},
          "execution_count": 35
        }
      ],
      "source": [
        "list(range(-5, 5))"
      ]
    },
    {
      "cell_type": "markdown",
      "metadata": {
        "id": "ll_bbQkezlfU"
      },
      "source": [
        "Here calling `range()` with float will not work"
      ]
    },
    {
      "cell_type": "code",
      "execution_count": 36,
      "metadata": {
        "scrolled": true,
        "colab": {
          "base_uri": "https://localhost:8080/",
          "height": 183
        },
        "id": "SDsCdNAezlfU",
        "outputId": "3a9c2922-4b0c-4d43-af39-ef7cbb2494d6"
      },
      "outputs": [
        {
          "output_type": "error",
          "ename": "TypeError",
          "evalue": "ignored",
          "traceback": [
            "\u001b[0;31m---------------------------------------------------------------------------\u001b[0m",
            "\u001b[0;31mTypeError\u001b[0m                                 Traceback (most recent call last)",
            "\u001b[0;32m<ipython-input-36-0f066e55bbef>\u001b[0m in \u001b[0;36m<module>\u001b[0;34m()\u001b[0m\n\u001b[0;32m----> 1\u001b[0;31m \u001b[0;32mfor\u001b[0m \u001b[0mi\u001b[0m \u001b[0;32min\u001b[0m \u001b[0mrange\u001b[0m \u001b[0;34m(\u001b[0m\u001b[0;36m3.3\u001b[0m\u001b[0;34m)\u001b[0m\u001b[0;34m:\u001b[0m\u001b[0;34m\u001b[0m\u001b[0;34m\u001b[0m\u001b[0m\n\u001b[0m\u001b[1;32m      2\u001b[0m     \u001b[0mprint\u001b[0m \u001b[0;34m(\u001b[0m\u001b[0mi\u001b[0m\u001b[0;34m)\u001b[0m\u001b[0;34m\u001b[0m\u001b[0;34m\u001b[0m\u001b[0m\n",
            "\u001b[0;31mTypeError\u001b[0m: 'float' object cannot be interpreted as an integer"
          ]
        }
      ],
      "source": [
        "for i in range (3.3):\n",
        "    print (i)"
      ]
    },
    {
      "cell_type": "markdown",
      "metadata": {
        "id": "PIc3KrT0zlfU"
      },
      "source": [
        "Here calling `range()` with string will not work"
      ]
    },
    {
      "cell_type": "code",
      "execution_count": 37,
      "metadata": {
        "scrolled": true,
        "colab": {
          "base_uri": "https://localhost:8080/",
          "height": 183
        },
        "id": "jidykmRLzlfV",
        "outputId": "b7593faa-2b3f-47d8-dd63-d5dfc72cc350"
      },
      "outputs": [
        {
          "output_type": "error",
          "ename": "TypeError",
          "evalue": "ignored",
          "traceback": [
            "\u001b[0;31m---------------------------------------------------------------------------\u001b[0m",
            "\u001b[0;31mTypeError\u001b[0m                                 Traceback (most recent call last)",
            "\u001b[0;32m<ipython-input-37-9a370c2f81e0>\u001b[0m in \u001b[0;36m<module>\u001b[0;34m()\u001b[0m\n\u001b[0;32m----> 1\u001b[0;31m \u001b[0;32mfor\u001b[0m \u001b[0mi\u001b[0m \u001b[0;32min\u001b[0m \u001b[0mrange\u001b[0m \u001b[0;34m(\u001b[0m\u001b[0;34m\"C\"\u001b[0m\u001b[0;34m,\u001b[0m\u001b[0;34m\"Y\"\u001b[0m\u001b[0;34m)\u001b[0m\u001b[0;34m:\u001b[0m\u001b[0;34m\u001b[0m\u001b[0;34m\u001b[0m\u001b[0m\n\u001b[0m\u001b[1;32m      2\u001b[0m     \u001b[0mprint\u001b[0m\u001b[0;34m(\u001b[0m\u001b[0mi\u001b[0m\u001b[0;34m)\u001b[0m\u001b[0;34m\u001b[0m\u001b[0;34m\u001b[0m\u001b[0m\n",
            "\u001b[0;31mTypeError\u001b[0m: 'str' object cannot be interpreted as an integer"
          ]
        }
      ],
      "source": [
        "for i in range (\"C\",\"Y\"):\n",
        "    print(i)"
      ]
    },
    {
      "cell_type": "markdown",
      "metadata": {
        "id": "nb4jzRzTzlfV"
      },
      "source": [
        "The `range()` function returns a sequence of numbers.  Starting from `0` by default and ends at a specified number."
      ]
    },
    {
      "cell_type": "code",
      "execution_count": 38,
      "metadata": {
        "colab": {
          "base_uri": "https://localhost:8080/"
        },
        "id": "wG93YA8DzlfV",
        "outputId": "26c9bb57-7ead-416d-8884-2d61c2056699"
      },
      "outputs": [
        {
          "output_type": "stream",
          "name": "stdout",
          "text": [
            "0\n",
            "1\n",
            "2\n",
            "3\n",
            "4\n",
            "5\n"
          ]
        }
      ],
      "source": [
        "for i in range(6):\n",
        "    print(i)"
      ]
    },
    {
      "cell_type": "markdown",
      "metadata": {
        "id": "VYXDP8BTzlfV"
      },
      "source": [
        "program to print \"hello\" 5 times"
      ]
    },
    {
      "cell_type": "code",
      "execution_count": 39,
      "metadata": {
        "scrolled": true,
        "colab": {
          "base_uri": "https://localhost:8080/"
        },
        "id": "1titOUPEzlfV",
        "outputId": "9f88a84c-c07b-4f14-c527-00d4a7266f3f"
      },
      "outputs": [
        {
          "output_type": "stream",
          "name": "stdout",
          "text": [
            "Hello\n",
            "Hello\n",
            "Hello\n"
          ]
        }
      ],
      "source": [
        "for i in range (3):\n",
        "    print (\"Hello\")"
      ]
    },
    {
      "cell_type": "markdown",
      "metadata": {
        "id": "DbPZbQ9dzlfV"
      },
      "source": [
        "Here we are replacing value of the `i` variable with `_`"
      ]
    },
    {
      "cell_type": "code",
      "execution_count": 40,
      "metadata": {
        "scrolled": true,
        "colab": {
          "base_uri": "https://localhost:8080/"
        },
        "id": "UfzVSIyczlfV",
        "outputId": "73f05caf-0d12-4ff2-9a51-2d1da638eea6"
      },
      "outputs": [
        {
          "output_type": "stream",
          "name": "stdout",
          "text": [
            "Hello\n",
            "Hello\n",
            "Hello\n"
          ]
        }
      ],
      "source": [
        "for _ in range(3):\n",
        "    print(\"Hello\")"
      ]
    },
    {
      "cell_type": "code",
      "execution_count": 41,
      "metadata": {
        "scrolled": false,
        "colab": {
          "base_uri": "https://localhost:8080/"
        },
        "id": "2LDhTwGEzlfV",
        "outputId": "ba09434b-e323-415d-c6b3-81377a1d9a18"
      },
      "outputs": [
        {
          "output_type": "stream",
          "name": "stdout",
          "text": [
            "python\n",
            "python\n",
            "python\n",
            "python\n"
          ]
        }
      ],
      "source": [
        "for i in range (2 ** 2):\n",
        "    print (\"python\")"
      ]
    },
    {
      "cell_type": "markdown",
      "metadata": {
        "id": "F1Ezm0hSzlfV"
      },
      "source": [
        "Here we are giving starting value by adding a parameter: `range(5,10)`<br>\n",
        "Example of exclusive `range()`"
      ]
    },
    {
      "cell_type": "code",
      "execution_count": 42,
      "metadata": {
        "colab": {
          "base_uri": "https://localhost:8080/"
        },
        "id": "rSBdvHMXzlfV",
        "outputId": "fafdcdee-a2bf-4f1d-f83c-6ea0bc5eb6f6"
      },
      "outputs": [
        {
          "output_type": "stream",
          "name": "stdout",
          "text": [
            "number: 5\n",
            "number: 6\n",
            "number: 7\n",
            "number: 8\n",
            "number: 9\n"
          ]
        }
      ],
      "source": [
        "for num in range (5, 10):\n",
        "    print(\"number:\", num) "
      ]
    },
    {
      "cell_type": "markdown",
      "metadata": {
        "id": "b6gKMCPAzlfV"
      },
      "source": [
        "Print the number to the power two with given range"
      ]
    },
    {
      "cell_type": "code",
      "execution_count": 43,
      "metadata": {
        "colab": {
          "base_uri": "https://localhost:8080/"
        },
        "id": "eo2jYgeFzlfV",
        "outputId": "a331de99-96ff-4f00-f2e5-661e1328586a"
      },
      "outputs": [
        {
          "output_type": "stream",
          "name": "stdout",
          "text": [
            "5 square is 25\n",
            "6 square is 36\n",
            "7 square is 49\n",
            "End of loop\n"
          ]
        }
      ],
      "source": [
        "for i in range(5, 8):\n",
        "    print(i, \"square is\", i ** 2)\n",
        "    \n",
        "print(\"End of loop\")"
      ]
    },
    {
      "cell_type": "markdown",
      "metadata": {
        "id": "KhrfwHl3zlfV"
      },
      "source": [
        "Example of inclusive `range()`, Print all numbers from 5 to 10, and print a message when the loop has ended:"
      ]
    },
    {
      "cell_type": "code",
      "execution_count": 44,
      "metadata": {
        "colab": {
          "base_uri": "https://localhost:8080/"
        },
        "id": "wk4CfNOfzlfW",
        "outputId": "53438294-0f56-4505-f587-63ed6ab06334"
      },
      "outputs": [
        {
          "output_type": "stream",
          "name": "stdout",
          "text": [
            "5\n",
            "6\n",
            "7\n",
            "8\n",
            "9\n",
            "10\n",
            "the loop has ended\n"
          ]
        }
      ],
      "source": [
        "for val in range (5, 10 + 1):\n",
        "    print (val)\n",
        "    \n",
        "print (\"the loop has ended\")    "
      ]
    },
    {
      "cell_type": "markdown",
      "metadata": {
        "id": "OIH3PR1EzlfW"
      },
      "source": [
        "Reversing the order using built-in reversed function:"
      ]
    },
    {
      "cell_type": "code",
      "execution_count": 45,
      "metadata": {
        "scrolled": true,
        "colab": {
          "base_uri": "https://localhost:8080/"
        },
        "id": "CG_6BKTBzlfW",
        "outputId": "50d682ac-aca2-4c72-949a-5852c95cd3d3"
      },
      "outputs": [
        {
          "output_type": "stream",
          "name": "stdout",
          "text": [
            "4\n",
            "3\n",
            "2\n",
            "1\n",
            "0\n"
          ]
        }
      ],
      "source": [
        "x = range(5)\n",
        "\n",
        "for i in reversed(x):\n",
        "    print (i)"
      ]
    },
    {
      "cell_type": "markdown",
      "metadata": {
        "id": "JEudk_xmzlfW"
      },
      "source": [
        "Reversing string"
      ]
    },
    {
      "cell_type": "code",
      "execution_count": 46,
      "metadata": {
        "scrolled": true,
        "colab": {
          "base_uri": "https://localhost:8080/"
        },
        "id": "yfo1Kk2MzlfW",
        "outputId": "5dc1764a-cb94-4a48-d382-6f2b06e3cbbd"
      },
      "outputs": [
        {
          "output_type": "stream",
          "name": "stdout",
          "text": [
            "e\n",
            "m\n",
            "o\n",
            "c\n",
            "l\n",
            "e\n",
            "w\n"
          ]
        }
      ],
      "source": [
        "for i in reversed(\"welcome\"):\n",
        "    print (i)"
      ]
    },
    {
      "cell_type": "markdown",
      "metadata": {
        "id": "H0f9poV_zlfW"
      },
      "source": [
        "Range `(begin , end , stride)`or `(start, stop, step)` returns an iterable that integers starting with `begin`, up to but not including `end`.  If specified, `stride` indicates and amount to skip between values.<br>\n",
        "Omitted, it defaults to 1:"
      ]
    },
    {
      "cell_type": "code",
      "execution_count": 47,
      "metadata": {
        "colab": {
          "base_uri": "https://localhost:8080/"
        },
        "id": "YyKOeFRizlfW",
        "outputId": "e091697a-4b28-44c3-f32e-58f442b55e62"
      },
      "outputs": [
        {
          "output_type": "execute_result",
          "data": {
            "text/plain": [
              "[5, 6, 7, 8, 9]"
            ]
          },
          "metadata": {},
          "execution_count": 47
        }
      ],
      "source": [
        "list(range(5, 10, 1))"
      ]
    },
    {
      "cell_type": "code",
      "execution_count": 48,
      "metadata": {
        "colab": {
          "base_uri": "https://localhost:8080/"
        },
        "id": "_wEpmrzXzlfW",
        "outputId": "d5609e48-6f30-4129-dc9d-cf1e23f6f6b8"
      },
      "outputs": [
        {
          "output_type": "stream",
          "name": "stdout",
          "text": [
            "[5, 7, 9]\n"
          ]
        }
      ],
      "source": [
        "x = list(range(5, 10, 2))\n",
        "print(x)"
      ]
    },
    {
      "cell_type": "markdown",
      "metadata": {
        "id": "QpKyuKXYzlfW"
      },
      "source": [
        "We can specify the `step` (including a negative `step`) as the third argument"
      ]
    },
    {
      "cell_type": "code",
      "execution_count": 49,
      "metadata": {
        "scrolled": true,
        "colab": {
          "base_uri": "https://localhost:8080/"
        },
        "id": "XmAuRRDvzlfW",
        "outputId": "91becfaf-2e79-455b-b6c3-b700fc2b30b7"
      },
      "outputs": [
        {
          "output_type": "execute_result",
          "data": {
            "text/plain": [
              "(5, 3, 1, -1, -3, -5, -7, -9)"
            ]
          },
          "metadata": {},
          "execution_count": 49
        }
      ],
      "source": [
        "tuple(range(5, -10, -2))"
      ]
    },
    {
      "cell_type": "code",
      "execution_count": 50,
      "metadata": {
        "colab": {
          "base_uri": "https://localhost:8080/"
        },
        "id": "qHqVcx6KzlfW",
        "outputId": "a29ce9c4-72cf-4ceb-e4da-b2134abfe354"
      },
      "outputs": [
        {
          "output_type": "execute_result",
          "data": {
            "text/plain": [
              "[-2, -4, -6, -8]"
            ]
          },
          "metadata": {},
          "execution_count": 50
        }
      ],
      "source": [
        "list(range(-2, -10, -2))"
      ]
    },
    {
      "cell_type": "code",
      "execution_count": 51,
      "metadata": {
        "colab": {
          "base_uri": "https://localhost:8080/"
        },
        "id": "v0curtR0zlfW",
        "outputId": "89acef57-c992-4328-d36f-e3acd15961f4"
      },
      "outputs": [
        {
          "output_type": "stream",
          "name": "stdout",
          "text": [
            "-2\n",
            "-4\n",
            "-6\n",
            "-8\n"
          ]
        }
      ],
      "source": [
        "start = -2\n",
        "stop = -10\n",
        "step = -2\n",
        "\n",
        "for number in range (start, stop, step):\n",
        "    print (number)"
      ]
    },
    {
      "cell_type": "markdown",
      "metadata": {
        "id": "8N39FQPszlfW"
      },
      "source": [
        "If step is positive, then you move through a series of increasing numbers.\n",
        "Increment the sequence with 2 (default is 1):"
      ]
    },
    {
      "cell_type": "code",
      "execution_count": 52,
      "metadata": {
        "scrolled": true,
        "colab": {
          "base_uri": "https://localhost:8080/"
        },
        "id": "qJh5iySuzlfX",
        "outputId": "1b9ae3d5-038a-4621-8f80-44210aea26b7"
      },
      "outputs": [
        {
          "output_type": "stream",
          "name": "stdout",
          "text": [
            "2, 4, 6, 8, 10, 12, 14, 16, 18, "
          ]
        }
      ],
      "source": [
        "for x in range (2, 20, 2):\n",
        "    print (x, end = ', ')"
      ]
    },
    {
      "cell_type": "markdown",
      "metadata": {
        "id": "rDHvcp88zlfX"
      },
      "source": [
        "5 to 1 descending order:<br>\n",
        "Range (start_value, end_value, step)."
      ]
    },
    {
      "cell_type": "markdown",
      "metadata": {
        "id": "xCQEDUgSzlfX"
      },
      "source": [
        "Write a Python program that accepts a word from the user and reverse it<br>\n",
        "to get this below code https://www.w3resource.com/python-exercises/python-conditional-exercise-5.php "
      ]
    },
    {
      "cell_type": "markdown",
      "metadata": {
        "id": "GcK_oxRnzlfX"
      },
      "source": [
        "practice makes a man perfect"
      ]
    },
    {
      "cell_type": "code",
      "execution_count": 53,
      "metadata": {
        "colab": {
          "base_uri": "https://localhost:8080/"
        },
        "id": "WxavWKQ5zlfZ",
        "outputId": "84871843-683d-4721-fa07-cdb7f8788ecb"
      },
      "outputs": [
        {
          "output_type": "stream",
          "name": "stdout",
          "text": [
            "Input a word to reverse: Schweinsteiger\n",
            "regietsniewhcS\n",
            "\n"
          ]
        }
      ],
      "source": [
        "word = input(\"Input a word to reverse: \")\n",
        "\n",
        "len_word = len(word)\n",
        "\n",
        "for char in range(len_word-1, -1, -1):\n",
        "    \n",
        "    print(word[char], end = \"\")\n",
        "    \n",
        "print(\"\\n\")"
      ]
    },
    {
      "cell_type": "markdown",
      "metadata": {
        "id": "zuDFUYd4zlfZ"
      },
      "source": [
        "Using `len()` function to get the length of elements"
      ]
    },
    {
      "cell_type": "code",
      "execution_count": 54,
      "metadata": {
        "scrolled": true,
        "colab": {
          "base_uri": "https://localhost:8080/"
        },
        "id": "cWH_3iUVzlfZ",
        "outputId": "1f069cd8-0533-4fa5-922a-2423e6d81ed9"
      },
      "outputs": [
        {
          "output_type": "stream",
          "name": "stdout",
          "text": [
            "0 Jan\n",
            "1 Feb\n",
            "2 Mar\n",
            "3 Apr\n"
          ]
        }
      ],
      "source": [
        "months = [\"Jan\", \"Feb\", \"Mar\", \"Apr\"]\n",
        "\n",
        "\n",
        "for index in range(len(months)):\n",
        "    print (index, months[index])"
      ]
    },
    {
      "cell_type": "markdown",
      "metadata": {
        "id": "S3pjqVa7zlfZ"
      },
      "source": [
        "Printing the sum of first 5 natural numbers"
      ]
    },
    {
      "cell_type": "code",
      "execution_count": 55,
      "metadata": {
        "colab": {
          "base_uri": "https://localhost:8080/"
        },
        "id": "w0CnmWaJzlfa",
        "outputId": "8290529e-70c3-4069-c3f7-cd0590b743cc"
      },
      "outputs": [
        {
          "output_type": "stream",
          "name": "stdout",
          "text": [
            "15\n"
          ]
        }
      ],
      "source": [
        "value = 0                \n",
        "\n",
        "for num in range(1, 6):  \n",
        "    value = value + num  \n",
        "    \n",
        "print (value)            "
      ]
    },
    {
      "cell_type": "markdown",
      "metadata": {
        "id": "5s7AUea2zlfa"
      },
      "source": [
        "Here we are created empty list and we added numbers in that list using append attribute"
      ]
    },
    {
      "cell_type": "code",
      "execution_count": 56,
      "metadata": {
        "colab": {
          "base_uri": "https://localhost:8080/"
        },
        "id": "786NV_AFzlfa",
        "outputId": "f30c3e64-d648-42d6-9c4e-8ac97e9e1735"
      },
      "outputs": [
        {
          "output_type": "stream",
          "name": "stdout",
          "text": [
            "[0, 1, 2, 3, 4, 5, 6, 7, 8, 9]\n"
          ]
        }
      ],
      "source": [
        "integers = []\n",
        "\n",
        "for i in range (10):\n",
        "    integers.append(i)\n",
        "    \n",
        "print (integers)"
      ]
    },
    {
      "cell_type": "markdown",
      "metadata": {
        "id": "-mztbL2Szlfa"
      },
      "source": [
        "### If, else in foor loop"
      ]
    },
    {
      "cell_type": "code",
      "execution_count": 57,
      "metadata": {
        "colab": {
          "base_uri": "https://localhost:8080/"
        },
        "id": "zu5OEEorzlfa",
        "outputId": "3d771034-63c9-46b8-af3a-313452582b54"
      },
      "outputs": [
        {
          "output_type": "stream",
          "name": "stdout",
          "text": [
            "0\n",
            "1\n",
            "2\n",
            "3\n",
            "4\n",
            "The loop has completed execution\n"
          ]
        }
      ],
      "source": [
        "for val in range(5):\n",
        "    print (val)\n",
        "    \n",
        "else:\n",
        "    print (\"The loop has completed execution\")"
      ]
    },
    {
      "cell_type": "code",
      "execution_count": 58,
      "metadata": {
        "colab": {
          "base_uri": "https://localhost:8080/"
        },
        "id": "sxPiIT0Ozlfa",
        "outputId": "32d8e234-6175-46bc-a3e1-8d5582a54645"
      },
      "outputs": [
        {
          "output_type": "stream",
          "name": "stdout",
          "text": [
            "The number 1 is not divisible by 2\n",
            "The number 2 is divisible by 2\n",
            "The number 3 is not divisible by 2\n",
            "The number 4 is divisible by 2\n",
            "The number 5 is not divisible by 2\n",
            "The number 6 is divisible by 2\n",
            "The number 7 is not divisible by 2\n",
            "The number 8 is divisible by 2\n",
            "The number 9 is not divisible by 2\n"
          ]
        }
      ],
      "source": [
        "for i in range (1, 10):\n",
        "    \n",
        "    if i % 2 == 0:\n",
        "        print(\"The number %s is divisible by 2\" % i)\n",
        "        \n",
        "    else:\n",
        "        print(\"The number %s is not divisible by 2\" % i)"
      ]
    },
    {
      "cell_type": "code",
      "execution_count": 59,
      "metadata": {
        "colab": {
          "base_uri": "https://localhost:8080/"
        },
        "id": "RLDZszBMzlfa",
        "outputId": "e6c8464c-098a-46d2-a52e-245f9bca4e00"
      },
      "outputs": [
        {
          "output_type": "stream",
          "name": "stdout",
          "text": [
            "[3, 5, 6, 9, 10, 12, 15, 18, 20]\n"
          ]
        }
      ],
      "source": [
        "num_list = []\n",
        "\n",
        "for i in range(1, 21):\n",
        "    \n",
        "    if (i%3==0 or i%5==0):\n",
        "        num_list.append(i)\n",
        "        \n",
        "print(num_list)"
      ]
    },
    {
      "cell_type": "markdown",
      "metadata": {
        "id": "U_sEbVwQzlfa"
      },
      "source": [
        "Print program to find numbers between 100 and 301 where each digit of a number is an even number.  The numbers obtained should be printed in a comma-separated sequence"
      ]
    },
    {
      "cell_type": "code",
      "execution_count": 60,
      "metadata": {
        "colab": {
          "base_uri": "https://localhost:8080/"
        },
        "id": "C5mciBnczlfa",
        "outputId": "1f185b1c-fdaf-47a8-9b3e-331bbc203085"
      },
      "outputs": [
        {
          "output_type": "stream",
          "name": "stdout",
          "text": [
            "200, 202, 204, 206, 208, 220, 222, 224, 226, 228, 240, 242, 244, 246, 248, 260, 262, 264, 266, 268, 280, 282, 284, 286, 288\n"
          ]
        }
      ],
      "source": [
        "items = []\n",
        "\n",
        "for i in range(100, 301):\n",
        "    \n",
        "    num_str = str(i)\n",
        "    first_digit = int(num_str[0])\n",
        "    second_digit = int(num_str[1])\n",
        "    third_digit = int(num_str[2])\n",
        "    \n",
        "    if (first_digit % 2 == 0) and (second_digit % 2 == 0) and (third_digit % 2 == 0):\n",
        "        items.append(num_str)\n",
        "        \n",
        "print( \", \".join(items))"
      ]
    },
    {
      "cell_type": "markdown",
      "metadata": {
        "id": "oQSY0iOazlfa"
      },
      "source": [
        "### If, elif and else statement in for loop"
      ]
    },
    {
      "cell_type": "code",
      "execution_count": 61,
      "metadata": {
        "colab": {
          "base_uri": "https://localhost:8080/"
        },
        "id": "0MDnQSx6zlfa",
        "outputId": "ab62fe4f-8a98-49ca-d97e-45b50efc9485"
      },
      "outputs": [
        {
          "output_type": "stream",
          "name": "stdout",
          "text": [
            "3 is divisible by 3\n",
            "5 is divisible by 5\n",
            "6 is divisible by 3\n",
            "9 is divisible by 3\n",
            "10 is divisible by 5\n",
            "12 is divisible by 3\n",
            "15 is divisible by both 3 and 5\n"
          ]
        }
      ],
      "source": [
        "for i in range(1, 16):\n",
        "    \n",
        "    if i % 3 == 0 and i % 5 == 0:\n",
        "        print(i,\"is divisible by both 3 and 5\")\n",
        "    elif i % 3 == 0:\n",
        "        print(i,\"is divisible by 3\")\n",
        "    elif i % 5 == 0:\n",
        "        print(i,\"is divisible by 5\")"
      ]
    },
    {
      "cell_type": "markdown",
      "metadata": {
        "id": "xFgdXhU-zlfb"
      },
      "source": [
        "### Nested ForLoop"
      ]
    },
    {
      "cell_type": "markdown",
      "metadata": {
        "id": "G415_Z7_zlfb"
      },
      "source": [
        "A nested loop is a loop inside a loop"
      ]
    },
    {
      "cell_type": "markdown",
      "metadata": {
        "id": "i-xtMLyFzlfb"
      },
      "source": [
        "Here we have nested loop means simply we have a loop (outer loop) that has inside its commands annother loop(inner loop)."
      ]
    },
    {
      "cell_type": "markdown",
      "metadata": {
        "id": "kNFGSQiGzlfb"
      },
      "source": [
        "Pattern program"
      ]
    },
    {
      "cell_type": "code",
      "execution_count": 63,
      "metadata": {
        "colab": {
          "base_uri": "https://localhost:8080/"
        },
        "id": "C3kZmQHUzlfb",
        "outputId": "8f0cf4e2-a685-4e56-a2fb-f6bd948b39bb"
      },
      "outputs": [
        {
          "output_type": "stream",
          "name": "stdout",
          "text": [
            "Enter the number of rows:6\n",
            "\n",
            "1 \n",
            "2 2 \n",
            "3 3 3 \n",
            "4 4 4 4 \n",
            "5 5 5 5 5 \n"
          ]
        }
      ],
      "source": [
        "num = int(input(\"Enter the number of rows:\"))\n",
        "\n",
        "for i in range(num): \n",
        "    for j in range(i):\n",
        "        \n",
        "         print(i, end = \" \") \n",
        "    print()"
      ]
    },
    {
      "cell_type": "code",
      "execution_count": 65,
      "metadata": {
        "colab": {
          "base_uri": "https://localhost:8080/"
        },
        "id": "Bu0JFErDzlfb",
        "outputId": "1088c675-89c0-4158-8c16-8b9d6440e53c"
      },
      "outputs": [
        {
          "output_type": "stream",
          "name": "stdout",
          "text": [
            "Enter the number of rows:5\n",
            "\n",
            "* \n",
            "* * \n",
            "* * * \n",
            "* * * * \n"
          ]
        }
      ],
      "source": [
        "num = int(input(\"Enter the number of rows:\"))\n",
        "\n",
        "for i in range(num):\n",
        "    for x in range (i):\n",
        "        \n",
        "        print (\"*\", end = \" \") \n",
        "    print()"
      ]
    },
    {
      "cell_type": "code",
      "execution_count": 66,
      "metadata": {
        "colab": {
          "base_uri": "https://localhost:8080/"
        },
        "id": "cJFRZrEGzlfb",
        "outputId": "374b4533-843b-4ef7-8a1e-33129e4540bb"
      },
      "outputs": [
        {
          "output_type": "stream",
          "name": "stdout",
          "text": [
            "Enter the number of rows:6\n",
            "* * * * * * \n",
            "* * * * * \n",
            "* * * * \n",
            "* * * \n",
            "* * \n",
            "* \n"
          ]
        }
      ],
      "source": [
        "num = int(input(\"Enter the number of rows:\"))\n",
        "\n",
        "for i in range(num, 0, -1):\n",
        "    for x in range(i):\n",
        "        \n",
        "        print (\"*\", end = \" \") \n",
        "    print()"
      ]
    },
    {
      "cell_type": "markdown",
      "metadata": {
        "id": "E9df0irVzlfb"
      },
      "source": [
        "Here we a block of code you want to run x number of times, then a block of code within that code which you want to run y number of times"
      ]
    },
    {
      "cell_type": "code",
      "execution_count": 67,
      "metadata": {
        "colab": {
          "base_uri": "https://localhost:8080/"
        },
        "id": "B4lFRVt3zlfb",
        "outputId": "4f4aa825-bd05-45aa-efe0-efa05f6e867e"
      },
      "outputs": [
        {
          "output_type": "stream",
          "name": "stdout",
          "text": [
            "1 * 5 = 5\n",
            "1 * 6 = 6\n",
            "1 * 7 = 7\n",
            "2 * 5 = 10\n",
            "2 * 6 = 12\n",
            "2 * 7 = 14\n",
            "3 * 5 = 15\n",
            "3 * 6 = 18\n",
            "3 * 7 = 21\n"
          ]
        }
      ],
      "source": [
        "for x in range (1, 4):\n",
        "    for y in range (5, 8):\n",
        "        \n",
        "        print(\"%d * %d = %d\" % (x, y, x * y))"
      ]
    },
    {
      "cell_type": "markdown",
      "metadata": {
        "id": "cnw4U701zlfc"
      },
      "source": [
        "{:2d} in the format function makes sure that you have always have space for two digits.\n",
        "\n",
        "create a table like structure having multiples of 1 to 9"
      ]
    },
    {
      "cell_type": "code",
      "execution_count": 71,
      "metadata": {
        "colab": {
          "base_uri": "https://localhost:8080/"
        },
        "id": "O_GpAMWZzlfc",
        "outputId": "8efb0ed9-d428-4f26-9900-d9112c464043"
      },
      "outputs": [
        {
          "output_type": "stream",
          "name": "stdout",
          "text": [
            "num = 1 :  1  2  3  4  5  6  7  8  9 \n",
            "num = 2 :  2  4  6  8 10 12 14 16 18 \n",
            "num = 3 :  3  6  9 12 15 18 21 24 27 \n",
            "num = 4 :  4  8 12 16 20 24 28 32 36 \n",
            "num = 5 :  5 10 15 20 25 30 35 40 45 \n",
            "num = 6 :  6 12 18 24 30 36 42 48 54 \n",
            "num = 7 :  7 14 21 28 35 42 49 56 63 \n",
            "num = 8 :  8 16 24 32 40 48 56 64 72 \n",
            "num = 9 :  9 18 27 36 45 54 63 72 81 \n"
          ]
        }
      ],
      "source": [
        "for num1 in range(1, 10):\n",
        "    print(\"num =\", num1, \":\", end = \" \")\n",
        "    \n",
        "    for num_2 in range(1, 10):\n",
        "        print(\"{:2d}\".format(num1 * num_2), end = \" \")\n",
        "        \n",
        "    print()"
      ]
    },
    {
      "cell_type": "code",
      "execution_count": null,
      "metadata": {
        "collapsed": true,
        "id": "YtAx2WLhzlfc"
      },
      "outputs": [],
      "source": [
        ""
      ]
    }
  ],
  "metadata": {
    "kernelspec": {
      "display_name": "Python 3",
      "language": "python",
      "name": "python3"
    },
    "language_info": {
      "codemirror_mode": {
        "name": "ipython",
        "version": 3
      },
      "file_extension": ".py",
      "mimetype": "text/x-python",
      "name": "python",
      "nbconvert_exporter": "python",
      "pygments_lexer": "ipython3",
      "version": "3.6.8"
    },
    "colab": {
      "name": "4-For-Loop.ipynb",
      "provenance": [],
      "collapsed_sections": [
        "rX-84r_Jzleq",
        "Hbr3BONYzlfT",
        "-mztbL2Szlfa",
        "oQSY0iOazlfa",
        "xFgdXhU-zlfb"
      ]
    }
  },
  "nbformat": 4,
  "nbformat_minor": 0
}