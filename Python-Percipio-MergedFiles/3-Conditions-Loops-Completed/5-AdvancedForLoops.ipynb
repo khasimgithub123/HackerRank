{
  "nbformat": 4,
  "nbformat_minor": 0,
  "metadata": {
    "kernelspec": {
      "display_name": "Python 3",
      "language": "python",
      "name": "python3"
    },
    "language_info": {
      "codemirror_mode": {
        "name": "ipython",
        "version": 3
      },
      "file_extension": ".py",
      "mimetype": "text/x-python",
      "name": "python",
      "nbconvert_exporter": "python",
      "pygments_lexer": "ipython3",
      "version": "3.6.8"
    },
    "colab": {
      "name": "AdvanceForLoops.ipynb",
      "provenance": []
    }
  },
  "cells": [
    {
      "cell_type": "markdown",
      "metadata": {
        "id": "okIBgQld_2Tn"
      },
      "source": [
        "#### Break Keyword\n",
        "\n",
        "* The `break` keyword is used to break out a `for loop`"
      ]
    },
    {
      "cell_type": "markdown",
      "metadata": {
        "id": "R4rgaTrc_2Tp"
      },
      "source": [
        "End the loop val is equals to n"
      ]
    },
    {
      "cell_type": "code",
      "metadata": {
        "id": "CUHd7Zj9_2Tq",
        "outputId": "55b9cf27-5926-4501-b438-882b91b41eef"
      },
      "source": [
        "for letter in \"python\":\n",
        "    if letter == \"o\":\n",
        "        \n",
        "        break\n",
        "    print(letter)     "
      ],
      "execution_count": null,
      "outputs": [
        {
          "name": "stdout",
          "output_type": "stream",
          "text": [
            "p\n",
            "y\n",
            "t\n",
            "h\n"
          ]
        }
      ]
    },
    {
      "cell_type": "code",
      "metadata": {
        "id": "ICRYD1PC_2Ts",
        "outputId": "40dbfbb9-5fdf-4e90-cd02-80a2afe56a3c"
      },
      "source": [
        "for letter in \"python\":\n",
        "    print(letter)\n",
        "    \n",
        "    if letter == \"o\":\n",
        "        break        "
      ],
      "execution_count": null,
      "outputs": [
        {
          "name": "stdout",
          "output_type": "stream",
          "text": [
            "p\n",
            "y\n",
            "t\n",
            "h\n",
            "o\n"
          ]
        }
      ]
    },
    {
      "cell_type": "code",
      "metadata": {
        "id": "VAb_-Xdi_2Ts",
        "outputId": "22bdde0e-47b6-4740-a6fd-75c0896eddef"
      },
      "source": [
        "for char in 'icecream':\n",
        "    if char == 'c':\n",
        "        \n",
        "        print ('The letter %s was found in the string' % char)\n",
        "        break\n",
        "else:\n",
        "    print('The letter %s does not exist in the string' % char)"
      ],
      "execution_count": null,
      "outputs": [
        {
          "name": "stdout",
          "output_type": "stream",
          "text": [
            "The letter c was found in the string\n"
          ]
        }
      ]
    },
    {
      "cell_type": "code",
      "metadata": {
        "id": "2W3ImYRj_2Tt",
        "outputId": "7c86b578-1f21-4249-9c33-bf9a975e8006"
      },
      "source": [
        "for num in [3, 11, 22, 35, 90]:\n",
        "    print (num)\n",
        "    \n",
        "    if (num == 22):\n",
        "        print (\"The number %d has been found\" % num )\n",
        "        print (\"Terminating the loop...\")\n",
        "        \n",
        "        break"
      ],
      "execution_count": null,
      "outputs": [
        {
          "name": "stdout",
          "output_type": "stream",
          "text": [
            "3\n",
            "11\n",
            "22\n",
            "The number 22 has been found\n",
            "Terminating the loop...\n"
          ]
        }
      ]
    },
    {
      "cell_type": "markdown",
      "metadata": {
        "id": "Rv5AM_ZG_2Tt"
      },
      "source": [
        "#### Break statement using range"
      ]
    },
    {
      "cell_type": "code",
      "metadata": {
        "id": "zq8_gFKg_2Tt",
        "outputId": "0c952e8d-0f59-4a99-a2c5-d45cc4379b3b"
      },
      "source": [
        "for i in range (5):\n",
        "    \n",
        "    if i == 4:\n",
        "        break\n",
        "        \n",
        "    print(i)"
      ],
      "execution_count": null,
      "outputs": [
        {
          "name": "stdout",
          "output_type": "stream",
          "text": [
            "0\n",
            "1\n",
            "2\n",
            "3\n"
          ]
        }
      ]
    },
    {
      "cell_type": "markdown",
      "metadata": {
        "id": "W4JzYfH6_2Tu"
      },
      "source": [
        "End the loop if i is larger than num"
      ]
    },
    {
      "cell_type": "code",
      "metadata": {
        "id": "7RmqO6JF_2Tu",
        "outputId": "45209b61-9f34-4824-b8a5-42a3749b93ec"
      },
      "source": [
        "for i in range (1, 10):\n",
        "    \n",
        "    if i >= 5:\n",
        "        break \n",
        "        \n",
        "    print(i, \"is less than 5\")    "
      ],
      "execution_count": null,
      "outputs": [
        {
          "name": "stdout",
          "output_type": "stream",
          "text": [
            "1 is less than 5\n",
            "2 is less than 5\n",
            "3 is less than 5\n",
            "4 is less than 5\n"
          ]
        }
      ]
    },
    {
      "cell_type": "markdown",
      "metadata": {
        "id": "kwWZj8_Z_2Tv"
      },
      "source": [
        "Print the number to the power of 2"
      ]
    },
    {
      "cell_type": "code",
      "metadata": {
        "id": "FcumrymA_2Tv",
        "outputId": "f48ce7d6-abd3-48e2-c383-8d134904864d"
      },
      "source": [
        "my_list = range(10)\n",
        " \n",
        "for num in my_list:\n",
        "    if num ** 2 > 20:\n",
        "         \n",
        "        break\n",
        "        \n",
        "    print(num, \"square\", num ** 2 )"
      ],
      "execution_count": null,
      "outputs": [
        {
          "name": "stdout",
          "output_type": "stream",
          "text": [
            "0 square 0\n",
            "1 square 1\n",
            "2 square 4\n",
            "3 square 9\n",
            "4 square 16\n"
          ]
        }
      ]
    },
    {
      "cell_type": "markdown",
      "metadata": {
        "id": "Hh0vtKEh_2Tw"
      },
      "source": [
        "* Here the variable number is initialized 0.  Then a for statement constructs the loop which executes as long as the variable is less than 10.\n",
        "* Within the for loop, the number increases incrementally by 1 with each pass\n",
        "* Then if statement presents the condition that if the variable is equivalent to the integer 5,then the loop will break\n",
        "* Print() statement within loop will execute with each iteration until the loop breaks, since it is after the break statement\n",
        "* When we are out of the loop, we have included a final print() statement outside of the for loop."
      ]
    },
    {
      "cell_type": "code",
      "metadata": {
        "id": "dpTFikJn_2Tw",
        "outputId": "2c77cd54-6a90-40bf-f4b7-04f694857cb7"
      },
      "source": [
        "number = 0\n",
        "\n",
        "for number in range (10):\n",
        "    \n",
        "    number = number + 1     \n",
        "    \n",
        "    if number == 5:\n",
        "        break\n",
        "        \n",
        "    print (\"number is: \" + str(number)) \n",
        "    \n",
        "print (\"we are out of the loop\")    "
      ],
      "execution_count": null,
      "outputs": [
        {
          "name": "stdout",
          "output_type": "stream",
          "text": [
            "number is: 1\n",
            "number is: 2\n",
            "number is: 3\n",
            "number is: 4\n",
            "we are out of the loop\n"
          ]
        }
      ]
    },
    {
      "cell_type": "markdown",
      "metadata": {
        "id": "KoHRMXrk_2Tx"
      },
      "source": [
        "Here we have small change within the for loop the `i` variable increses incrementally by `i` value not 1.\n",
        "\n",
        "Here we can see break statement is not applying because when we pass the itereation each time that number incrementing with i that means, in if statemet number is 3 and i is 3 (number + i)it will give you output is 6, not 5 that's why here that output is coming upto range 10."
      ]
    },
    {
      "cell_type": "markdown",
      "metadata": {
        "id": "UdMOn5Cj_2Tx"
      },
      "source": [
        "Print 'Odd Numbers Between', start and End"
      ]
    },
    {
      "cell_type": "code",
      "metadata": {
        "id": "PpdXUdLE_2Ty",
        "outputId": "ab415e11-19e5-4f2b-c9d9-c13945eea0a1"
      },
      "source": [
        "start = 0\n",
        "end = 10\n",
        "\n",
        "print (\"odd numbers between\",start, \"and\", end, \"are:\")\n",
        "\n",
        "for i in range (start, end + 1):\n",
        "    \n",
        "    if (i % 2) != 0:\n",
        "        print (i)\n",
        "        \n",
        "    if i == 7:\n",
        "        break"
      ],
      "execution_count": null,
      "outputs": [
        {
          "name": "stdout",
          "output_type": "stream",
          "text": [
            "odd numbers between 0 and 10 are:\n",
            "1\n",
            "3\n",
            "5\n",
            "7\n"
          ]
        }
      ]
    },
    {
      "cell_type": "markdown",
      "metadata": {
        "id": "HIDoSU7__2Ty"
      },
      "source": [
        "Find the sum of first five integers"
      ]
    },
    {
      "cell_type": "code",
      "metadata": {
        "id": "7nutEk0V_2Ty",
        "outputId": "ba668b6c-0bf4-4122-90cb-ab963b75209b"
      },
      "source": [
        "num_tuple = (10, 20, 30, 40, 50, 60, 70, 80, 90)\n",
        "\n",
        "sum_num = 0\n",
        "count = 0\n",
        "\n",
        "for num in num_tuple:\n",
        "    \n",
        "    sum_num = sum_num + num\n",
        "    print(\"at index\", count, \" the sum is\", sum_num)\n",
        "    \n",
        "    count = count + 1\n",
        "    \n",
        "    if count == 5:\n",
        "        break\n",
        "print (\"the sum of first\", count, \"integers is:\", sum_num)"
      ],
      "execution_count": null,
      "outputs": [
        {
          "name": "stdout",
          "output_type": "stream",
          "text": [
            "at index 0  the sum is 10\n",
            "at index 1  the sum is 30\n",
            "at index 2  the sum is 60\n",
            "at index 3  the sum is 100\n",
            "at index 4  the sum is 150\n",
            "the sum of first 5 integers is: 150\n"
          ]
        }
      ]
    },
    {
      "cell_type": "markdown",
      "metadata": {
        "id": "EyAnQKyr_2Tz"
      },
      "source": [
        "#### The else clause! After the loop is completed, and has not encountered a break statement, it will run the code in else. However, if the loop is broken out of manually, it will skip the else altogether."
      ]
    },
    {
      "cell_type": "markdown",
      "metadata": {
        "id": "h9iD7TU4_2Tz"
      },
      "source": [
        "Since 'Mali' was not in the list, we see the message \"The villain got away agian.  'If we change the value of villain_at to Norway, we will see 'Villain captured!' instead. \n",
        "code got from https://dev.to/codemouse92/dead-simple-python-loops-and-iterators-15bp"
      ]
    },
    {
      "cell_type": "code",
      "metadata": {
        "id": "lKcCFRwY_2Tz",
        "outputId": "8b1057b8-50b5-41dc-d8e1-d7c9be2bf50a"
      },
      "source": [
        "places = [\"New Zealand\", \"Norway\", \"Botswana\", \"Zimbabwe\", \"Uzbekistan\", \"Paraguay\"]\n",
        "\n",
        "villain_at = \"Mali\"  \n",
        "\n",
        "for place in places:\n",
        "    if place == villain_at:\n",
        "        \n",
        "        print(\"The Villain has been captured!\")\n",
        "        break\n",
        "else:\n",
        "    print(\"The villain got away :(\")"
      ],
      "execution_count": null,
      "outputs": [
        {
          "name": "stdout",
          "output_type": "stream",
          "text": [
            "The villain got away :(\n"
          ]
        }
      ]
    },
    {
      "cell_type": "code",
      "metadata": {
        "id": "KWA5nI4t_2Tz",
        "outputId": "68489f2c-4ba7-40ad-c1ee-b80e8d3aad76"
      },
      "source": [
        "places = [\"New Zealand\", \"Norway\", \"Botswana\", \"Zimbabwe\", \"Uzbekistan\", \"Paraguay\"]\n",
        "\n",
        "villain_at = \"Norway\"  \n",
        "\n",
        "for place in places:\n",
        "    if place == villain_at:\n",
        "        \n",
        "        print(\"The Villain has been captured!\")\n",
        "        break\n",
        "else:\n",
        "    print(\"The villain got away :(\")"
      ],
      "execution_count": null,
      "outputs": [
        {
          "name": "stdout",
          "output_type": "stream",
          "text": [
            "The Villain has been captured!\n"
          ]
        }
      ]
    },
    {
      "cell_type": "markdown",
      "metadata": {
        "id": "lWB3z_Wq_2T0"
      },
      "source": [
        "Run this once with Apple and once with Mango"
      ]
    },
    {
      "cell_type": "code",
      "metadata": {
        "collapsed": true,
        "id": "E6cTG9VP_2T0"
      },
      "source": [
        "list_of_fruits = [\"Apple\", \"Watermelon\", \"Orange\", \"Papaya\", \"Kiwi\"]"
      ],
      "execution_count": null,
      "outputs": []
    },
    {
      "cell_type": "code",
      "metadata": {
        "id": "N7RcjxWW_2T0",
        "outputId": "df9d8bc5-e9a1-4077-d059-f3d8d49cd439"
      },
      "source": [
        "fruit = input(\"Enter a fruit: \")\n",
        "\n",
        "for i in list_of_fruits:\n",
        "    \n",
        "    if i == fruit:\n",
        "        \n",
        "        print(\"The fruit was found in the list\")\n",
        "        break\n",
        "        \n",
        "else:\n",
        "    print (\"The fruit was not found\")"
      ],
      "execution_count": null,
      "outputs": [
        {
          "name": "stdout",
          "output_type": "stream",
          "text": [
            "Enter a fruit: Mango\n",
            "The fruit was not found\n"
          ]
        }
      ]
    },
    {
      "cell_type": "markdown",
      "metadata": {
        "id": "ks6ek204_2T0"
      },
      "source": [
        "Finding prime number"
      ]
    },
    {
      "cell_type": "code",
      "metadata": {
        "id": "7IkWmlT8_2T1",
        "outputId": "0d8e6034-a804-4eab-b20a-58570b5513d0"
      },
      "source": [
        "num = int(input(\"Enter a number: \"))\n",
        "\n",
        "for i in range(2, num//2):\n",
        "    if num % i == 0:\n",
        "        \n",
        "        print(\"It is not a prime number\")\n",
        "        break\n",
        "        \n",
        "else:\n",
        "    print(num,\"is a prime number\")"
      ],
      "execution_count": null,
      "outputs": [
        {
          "name": "stdout",
          "output_type": "stream",
          "text": [
            "Enter a number: 6\n",
            "It is not a prime number\n"
          ]
        }
      ]
    },
    {
      "cell_type": "markdown",
      "metadata": {
        "id": "lvjK4coQ_2T1"
      },
      "source": [
        "Find Prime numbers with given range(10 to 20)"
      ]
    },
    {
      "cell_type": "markdown",
      "metadata": {
        "id": "xBDqYs7p_2T1"
      },
      "source": [
        "Here the list is defined and the user is asked to input a number if the number is found then it will report that it is found otherwise it will say not found"
      ]
    },
    {
      "cell_type": "markdown",
      "metadata": {
        "id": "Y-6rUb3s_2T1"
      },
      "source": [
        "# technically correct?"
      ]
    },
    {
      "cell_type": "code",
      "metadata": {
        "id": "4rxHY3xL_2T1",
        "outputId": "4fb6bb17-19c7-4afe-f518-1a96db9d7c1e"
      },
      "source": [
        "id_number = [1, 3, 6, 5, 2, 7, 4]\n",
        "print (id_number)\n",
        "\n",
        "x = int (input(\"\\nEnter a number: \"))\n",
        "\n",
        "for i in range (len(id_number)):\n",
        "    if x == id_number[i]:\n",
        "        break\n",
        "        \n",
        "if i < len(id_number) - 1:\n",
        "    print (x, \"found at index:\", i )\n",
        "    \n",
        "else:\n",
        "    print (x,\"is not in the list\")"
      ],
      "execution_count": null,
      "outputs": [
        {
          "name": "stdout",
          "output_type": "stream",
          "text": [
            "[1, 3, 6, 5, 2, 7, 4]\n",
            "\n",
            "Enter a number: 5\n",
            "5 found at index: 3\n"
          ]
        }
      ]
    },
    {
      "cell_type": "markdown",
      "metadata": {
        "id": "Pcu5708y_2T1"
      },
      "source": [
        "first enter 3 wrong guesses then run again and pass correct password"
      ]
    },
    {
      "cell_type": "code",
      "metadata": {
        "id": "JKTdIcwD_2T2",
        "outputId": "845be195-f013-40fd-953f-4ac75558b2b0"
      },
      "source": [
        "for i in range(3):\n",
        "    password = str(input(\"Enter a password: \"))\n",
        "    \n",
        "    if password == \"secret\":\n",
        "        print (\"you guessed the password :)\")\n",
        "        break\n",
        "        \n",
        "else:\n",
        "    print (\"3 incorrect password attempts\")"
      ],
      "execution_count": null,
      "outputs": [
        {
          "name": "stdout",
          "output_type": "stream",
          "text": [
            "Enter a password: secret\n",
            "you guessed the password :)\n"
          ]
        }
      ]
    },
    {
      "cell_type": "markdown",
      "metadata": {
        "id": "kz_2VbTV_2T2"
      },
      "source": [
        "first check gor great then for level"
      ]
    },
    {
      "cell_type": "code",
      "metadata": {
        "id": "r6ygnefg_2T2",
        "outputId": "387a2220-f291-4c05-d508-cc3fca9133cd"
      },
      "source": [
        "my_str = input(\"Enter a string: \")\n",
        "length = len(my_str)\n",
        "start = 0\n",
        "end = int(length // 2 + 1)\n",
        "\n",
        "for i in range(start, end):\n",
        "    if my_str[i] == my_str[-i -1]:\n",
        "        \n",
        "        i = i + 1\n",
        "        \n",
        "    else:\n",
        "        break\n",
        "        \n",
        "if i < (length / 2):\n",
        "    print(\"This is not a palindrome\")\n",
        "    \n",
        "else:\n",
        "    print (\"This is a palindrome\") "
      ],
      "execution_count": null,
      "outputs": [
        {
          "name": "stdout",
          "output_type": "stream",
          "text": [
            "Enter a string: otto\n",
            "This is a palindrome\n"
          ]
        }
      ]
    },
    {
      "cell_type": "code",
      "metadata": {
        "collapsed": true,
        "id": "YBBd7FgA_2T2"
      },
      "source": [
        ""
      ],
      "execution_count": null,
      "outputs": []
    },
    {
      "cell_type": "markdown",
      "metadata": {
        "id": "jwX_zIJF_2T2"
      },
      "source": [
        "#### Break Keyword\n",
        "\n",
        "* The `break` keyword is used to break out a `for loop`"
      ]
    },
    {
      "cell_type": "markdown",
      "metadata": {
        "id": "daAZJCHI_2T2"
      },
      "source": [
        "End the loop val is equals to n"
      ]
    },
    {
      "cell_type": "code",
      "metadata": {
        "id": "tx9Ac6Us_2T3",
        "outputId": "a603c69a-cfef-4414-e372-74873125f02c"
      },
      "source": [
        "for letter in \"python\":\n",
        "    if letter == \"o\":\n",
        "        \n",
        "        break\n",
        "    print(letter)     "
      ],
      "execution_count": null,
      "outputs": [
        {
          "name": "stdout",
          "output_type": "stream",
          "text": [
            "p\n",
            "y\n",
            "t\n",
            "h\n"
          ]
        }
      ]
    },
    {
      "cell_type": "code",
      "metadata": {
        "id": "N7_7idRr_2T3",
        "outputId": "c09e7f18-0928-4fcc-c84f-15cc481c2d8d"
      },
      "source": [
        "for letter in \"python\":\n",
        "    print(letter)\n",
        "    \n",
        "    if letter == \"o\":\n",
        "        break        "
      ],
      "execution_count": null,
      "outputs": [
        {
          "name": "stdout",
          "output_type": "stream",
          "text": [
            "p\n",
            "y\n",
            "t\n",
            "h\n",
            "o\n"
          ]
        }
      ]
    },
    {
      "cell_type": "code",
      "metadata": {
        "id": "mSL-vDsd_2T3",
        "outputId": "00065893-b441-4474-8970-bf518eb2dc31"
      },
      "source": [
        "for char in 'icecream':\n",
        "    if char == 'c':\n",
        "        \n",
        "        print ('The letter %s was found in the string' % char)\n",
        "        break\n",
        "else:\n",
        "    print('The letter %s does not exist in the string' % char)"
      ],
      "execution_count": null,
      "outputs": [
        {
          "name": "stdout",
          "output_type": "stream",
          "text": [
            "The letter c was found in the string\n"
          ]
        }
      ]
    },
    {
      "cell_type": "code",
      "metadata": {
        "id": "SJBXbhMd_2T3",
        "outputId": "c0f83547-81f4-4b3a-f086-65f05615357c"
      },
      "source": [
        "for num in [3, 11, 22, 35, 90]:\n",
        "    print (num)\n",
        "    \n",
        "    if (num == 22):\n",
        "        print (\"The number %d has been found\" % num )\n",
        "        print (\"Terminating the loop...\")\n",
        "        \n",
        "        break"
      ],
      "execution_count": null,
      "outputs": [
        {
          "name": "stdout",
          "output_type": "stream",
          "text": [
            "3\n",
            "11\n",
            "22\n",
            "The number 22 has been found\n",
            "Terminating the loop...\n"
          ]
        }
      ]
    },
    {
      "cell_type": "markdown",
      "metadata": {
        "id": "LMMHV0MD_2T3"
      },
      "source": [
        "#### Break statement using range"
      ]
    },
    {
      "cell_type": "code",
      "metadata": {
        "id": "xjhsU67d_2T3",
        "outputId": "94791555-cccf-4f53-8097-983e394b9872"
      },
      "source": [
        "for i in range (5):\n",
        "    \n",
        "    if i == 4:\n",
        "        break\n",
        "        \n",
        "    print(i)"
      ],
      "execution_count": null,
      "outputs": [
        {
          "name": "stdout",
          "output_type": "stream",
          "text": [
            "0\n",
            "1\n",
            "2\n",
            "3\n"
          ]
        }
      ]
    },
    {
      "cell_type": "markdown",
      "metadata": {
        "id": "HctvXQ9Q_2T4"
      },
      "source": [
        "End the loop if i is larger than num"
      ]
    },
    {
      "cell_type": "code",
      "metadata": {
        "id": "P80yn00y_2T4",
        "outputId": "8cb77d4b-898f-4e5d-f31c-0a93599d31bb"
      },
      "source": [
        "for i in range (1, 10):\n",
        "    \n",
        "    if i >= 5:\n",
        "        break \n",
        "        \n",
        "    print(i, \"is less than 5\")    "
      ],
      "execution_count": null,
      "outputs": [
        {
          "name": "stdout",
          "output_type": "stream",
          "text": [
            "1 is less than 5\n",
            "2 is less than 5\n",
            "3 is less than 5\n",
            "4 is less than 5\n"
          ]
        }
      ]
    },
    {
      "cell_type": "markdown",
      "metadata": {
        "id": "8JfLa3cn_2T4"
      },
      "source": [
        "Print the number to the power of 2"
      ]
    },
    {
      "cell_type": "code",
      "metadata": {
        "id": "hzG2EeMs_2T4",
        "outputId": "315cbeac-f7c7-4750-98ed-995dd2cd027f"
      },
      "source": [
        "my_list = range(10)\n",
        " \n",
        "for num in my_list:\n",
        "    if num ** 2 > 20:\n",
        "         \n",
        "        break\n",
        "        \n",
        "    print(num, \"square\", num ** 2 )"
      ],
      "execution_count": null,
      "outputs": [
        {
          "name": "stdout",
          "output_type": "stream",
          "text": [
            "0 square 0\n",
            "1 square 1\n",
            "2 square 4\n",
            "3 square 9\n",
            "4 square 16\n"
          ]
        }
      ]
    },
    {
      "cell_type": "markdown",
      "metadata": {
        "id": "d5yDfcEL_2T4"
      },
      "source": [
        "* Here the variable number is initialized 0.  Then a for statement constructs the loop which executes as long as the variable is less than 10.\n",
        "* Within the for loop, the number increases incrementally by 1 with each pass\n",
        "* Then if statement presents the condition that if the variable is equivalent to the integer 5,then the loop will break\n",
        "* Print() statement within loop will execute with each iteration until the loop breaks, since it is after the break statement\n",
        "* When we are out of the loop, we have included a final print() statement outside of the for loop."
      ]
    },
    {
      "cell_type": "code",
      "metadata": {
        "id": "-L_wvr0x_2T4",
        "outputId": "21b9eb7c-1f4a-44eb-8845-2a33174fe082"
      },
      "source": [
        "number = 0\n",
        "\n",
        "for number in range (10):\n",
        "    \n",
        "    number = number + 1     \n",
        "    \n",
        "    if number == 5:\n",
        "        break\n",
        "        \n",
        "    print (\"number is: \" + str(number)) \n",
        "    \n",
        "print (\"we are out of the loop\")    "
      ],
      "execution_count": null,
      "outputs": [
        {
          "name": "stdout",
          "output_type": "stream",
          "text": [
            "number is: 1\n",
            "number is: 2\n",
            "number is: 3\n",
            "number is: 4\n",
            "we are out of the loop\n"
          ]
        }
      ]
    },
    {
      "cell_type": "markdown",
      "metadata": {
        "id": "KcqHv80E_2T5"
      },
      "source": [
        "Here we have small change within the for loop the `i` variable increses incrementally by `i` value not 1.\n",
        "\n",
        "Here we can see break statement is not applying because when we pass the itereation each time that number incrementing with i that means, in if statemet number is 3 and i is 3 (number + i)it will give you output is 6, not 5 that's why here that output is coming upto range 10."
      ]
    },
    {
      "cell_type": "markdown",
      "metadata": {
        "id": "eHCpQK1k_2T5"
      },
      "source": [
        "Print 'Odd Numbers Between', start and End"
      ]
    },
    {
      "cell_type": "code",
      "metadata": {
        "id": "wKCbN2nZ_2T5",
        "outputId": "721558af-a96d-4f20-bf9c-8df3a99828e5"
      },
      "source": [
        "start = 0\n",
        "end = 10\n",
        "\n",
        "print (\"odd numbers between\",start, \"and\", end, \"are:\")\n",
        "\n",
        "for i in range (start, end + 1):\n",
        "    \n",
        "    if (i % 2) != 0:\n",
        "        print (i)\n",
        "        \n",
        "    if i == 7:\n",
        "        break"
      ],
      "execution_count": null,
      "outputs": [
        {
          "name": "stdout",
          "output_type": "stream",
          "text": [
            "odd numbers between 0 and 10 are:\n",
            "1\n",
            "3\n",
            "5\n",
            "7\n"
          ]
        }
      ]
    },
    {
      "cell_type": "markdown",
      "metadata": {
        "id": "rrC8wdSj_2T5"
      },
      "source": [
        "Find the sum of first five integers"
      ]
    },
    {
      "cell_type": "code",
      "metadata": {
        "id": "5tLXUr99_2T5",
        "outputId": "654e4ab7-e892-4cc6-8542-2b1b2b596d52"
      },
      "source": [
        "num_tuple = (10, 20, 30, 40, 50, 60, 70, 80, 90)\n",
        "\n",
        "sum_num = 0\n",
        "count = 0\n",
        "\n",
        "for num in num_tuple:\n",
        "    \n",
        "    sum_num = sum_num + num\n",
        "    print(\"at index\", count, \" the sum is\", sum_num)\n",
        "    \n",
        "    count = count + 1\n",
        "    \n",
        "    if count == 5:\n",
        "        break\n",
        "print (\"the sum of first\", count, \"integers is:\", sum_num)"
      ],
      "execution_count": null,
      "outputs": [
        {
          "name": "stdout",
          "output_type": "stream",
          "text": [
            "at index 0  the sum is 10\n",
            "at index 1  the sum is 30\n",
            "at index 2  the sum is 60\n",
            "at index 3  the sum is 100\n",
            "at index 4  the sum is 150\n",
            "the sum of first 5 integers is: 150\n"
          ]
        }
      ]
    },
    {
      "cell_type": "markdown",
      "metadata": {
        "id": "STv711zY_2T5"
      },
      "source": [
        "#### The else clause! After the loop is completed, and has not encountered a break statement, it will run the code in else. However, if the loop is broken out of manually, it will skip the else altogether."
      ]
    },
    {
      "cell_type": "markdown",
      "metadata": {
        "id": "VqmCT09s_2T5"
      },
      "source": [
        "Since 'Mali' was not in the list, we see the message \"The villain got away agian.  'If we change the value of villain_at to Norway, we will see 'Villain captured!' instead. \n",
        "code got from https://dev.to/codemouse92/dead-simple-python-loops-and-iterators-15bp"
      ]
    },
    {
      "cell_type": "code",
      "metadata": {
        "id": "If2Wd7Xo_2T6",
        "outputId": "13272bc5-3b8a-4b32-9b89-ce5d2dfd9e20"
      },
      "source": [
        "places = [\"New Zealand\", \"Norway\", \"Botswana\", \"Zimbabwe\", \"Uzbekistan\", \"Paraguay\"]\n",
        "\n",
        "villain_at = \"Mali\"  \n",
        "\n",
        "for place in places:\n",
        "    if place == villain_at:\n",
        "        \n",
        "        print(\"The Villain has been captured!\")\n",
        "        break\n",
        "else:\n",
        "    print(\"The villain got away :(\")"
      ],
      "execution_count": null,
      "outputs": [
        {
          "name": "stdout",
          "output_type": "stream",
          "text": [
            "The villain got away :(\n"
          ]
        }
      ]
    },
    {
      "cell_type": "code",
      "metadata": {
        "id": "1lcptyui_2T6",
        "outputId": "5ec5c870-86bc-449a-c797-5442db3f6d74"
      },
      "source": [
        "places = [\"New Zealand\", \"Norway\", \"Botswana\", \"Zimbabwe\", \"Uzbekistan\", \"Paraguay\"]\n",
        "\n",
        "villain_at = \"Norway\"  \n",
        "\n",
        "for place in places:\n",
        "    if place == villain_at:\n",
        "        \n",
        "        print(\"The Villain has been captured!\")\n",
        "        break\n",
        "else:\n",
        "    print(\"The villain got away :(\")"
      ],
      "execution_count": null,
      "outputs": [
        {
          "name": "stdout",
          "output_type": "stream",
          "text": [
            "The Villain has been captured!\n"
          ]
        }
      ]
    },
    {
      "cell_type": "markdown",
      "metadata": {
        "id": "hJ7sfKTv_2T6"
      },
      "source": [
        "Run this once with Apple and once with Mango"
      ]
    },
    {
      "cell_type": "code",
      "metadata": {
        "collapsed": true,
        "id": "qY7M7ML5_2T6"
      },
      "source": [
        "list_of_fruits = [\"Apple\", \"Watermelon\", \"Orange\", \"Papaya\", \"Kiwi\"]"
      ],
      "execution_count": null,
      "outputs": []
    },
    {
      "cell_type": "code",
      "metadata": {
        "id": "XC3-veFh_2T6",
        "outputId": "412f9a1b-938f-4ea5-9c82-4fd56cf4e424"
      },
      "source": [
        "fruit = input(\"Enter a fruit: \")\n",
        "\n",
        "for i in list_of_fruits:\n",
        "    \n",
        "    if i == fruit:\n",
        "        \n",
        "        print(\"The fruit was found in the list\")\n",
        "        break\n",
        "        \n",
        "else:\n",
        "    print (\"The fruit was not found\")"
      ],
      "execution_count": null,
      "outputs": [
        {
          "name": "stdout",
          "output_type": "stream",
          "text": [
            "Enter a fruit: Mango\n",
            "The fruit was not found\n"
          ]
        }
      ]
    },
    {
      "cell_type": "markdown",
      "metadata": {
        "id": "u8_6gqrK_2T6"
      },
      "source": [
        "Finding prime number"
      ]
    },
    {
      "cell_type": "code",
      "metadata": {
        "id": "q6jIgtvO_2T7",
        "outputId": "22391bf1-f83e-4000-f5fd-145352bc2d60"
      },
      "source": [
        "num = int(input(\"Enter a number: \"))\n",
        "\n",
        "for i in range(2, num//2):\n",
        "    if num % i == 0:\n",
        "        \n",
        "        print(\"It is not a prime number\")\n",
        "        break\n",
        "        \n",
        "else:\n",
        "    print(num,\"is a prime number\")"
      ],
      "execution_count": null,
      "outputs": [
        {
          "name": "stdout",
          "output_type": "stream",
          "text": [
            "Enter a number: 6\n",
            "It is not a prime number\n"
          ]
        }
      ]
    },
    {
      "cell_type": "markdown",
      "metadata": {
        "id": "346IkFCu_2T7"
      },
      "source": [
        "Find Prime numbers with given range(10 to 20)"
      ]
    },
    {
      "cell_type": "markdown",
      "metadata": {
        "id": "8PTBLzGz_2T7"
      },
      "source": [
        "Here the list is defined and the user is asked to input a number if the number is found then it will report that it is found otherwise it will say not found"
      ]
    },
    {
      "cell_type": "markdown",
      "metadata": {
        "id": "D5X1Pml5_2T7"
      },
      "source": [
        "# technically correct?"
      ]
    },
    {
      "cell_type": "code",
      "metadata": {
        "id": "DahhenMt_2T7",
        "outputId": "7e670dac-ddac-4ab6-ead8-2b8d9c768567"
      },
      "source": [
        "id_number = [1, 3, 6, 5, 2, 7, 4]\n",
        "print (id_number)\n",
        "\n",
        "x = int (input(\"\\nEnter a number: \"))\n",
        "\n",
        "for i in range (len(id_number)):\n",
        "    if x == id_number[i]:\n",
        "        break\n",
        "        \n",
        "if i < len(id_number) - 1:\n",
        "    print (x, \"found at index:\", i )\n",
        "    \n",
        "else:\n",
        "    print (x,\"is not in the list\")"
      ],
      "execution_count": null,
      "outputs": [
        {
          "name": "stdout",
          "output_type": "stream",
          "text": [
            "[1, 3, 6, 5, 2, 7, 4]\n",
            "\n",
            "Enter a number: 5\n",
            "5 found at index: 3\n"
          ]
        }
      ]
    },
    {
      "cell_type": "markdown",
      "metadata": {
        "id": "HujWIb9x_2T7"
      },
      "source": [
        "first enter 3 wrong guesses then run again and pass correct password"
      ]
    },
    {
      "cell_type": "code",
      "metadata": {
        "id": "iwnsu1Iq_2T7",
        "outputId": "3076e3ed-cabc-4b4b-aee8-ce3781c470a3"
      },
      "source": [
        "for i in range(3):\n",
        "    password = str(input(\"Enter a password: \"))\n",
        "    \n",
        "    if password == \"secret\":\n",
        "        print (\"you guessed the password :)\")\n",
        "        break\n",
        "        \n",
        "else:\n",
        "    print (\"3 incorrect password attempts\")"
      ],
      "execution_count": null,
      "outputs": [
        {
          "name": "stdout",
          "output_type": "stream",
          "text": [
            "Enter a password: secret\n",
            "you guessed the password :)\n"
          ]
        }
      ]
    },
    {
      "cell_type": "markdown",
      "metadata": {
        "id": "mm6R6KcM_2T8"
      },
      "source": [
        "first check gor great then for level"
      ]
    },
    {
      "cell_type": "code",
      "metadata": {
        "id": "celESMVx_2T8",
        "outputId": "b3db9586-9435-46c3-ee69-ffc17141293d"
      },
      "source": [
        "my_str = input(\"Enter a string: \")\n",
        "length = len(my_str)\n",
        "start = 0\n",
        "end = int(length // 2 + 1)\n",
        "\n",
        "for i in range(start, end):\n",
        "    if my_str[i] == my_str[-i -1]:\n",
        "        \n",
        "        i = i + 1\n",
        "        \n",
        "    else:\n",
        "        break\n",
        "        \n",
        "if i < (length / 2):\n",
        "    print(\"This is not a palindrome\")\n",
        "    \n",
        "else:\n",
        "    print (\"This is a palindrome\") "
      ],
      "execution_count": null,
      "outputs": [
        {
          "name": "stdout",
          "output_type": "stream",
          "text": [
            "Enter a string: otto\n",
            "This is a palindrome\n"
          ]
        }
      ]
    },
    {
      "cell_type": "code",
      "metadata": {
        "collapsed": true,
        "id": "vaGrCMuq_2T8"
      },
      "source": [
        ""
      ],
      "execution_count": null,
      "outputs": []
    },
    {
      "cell_type": "markdown",
      "metadata": {
        "id": "lQoyxo1F_2T8"
      },
      "source": [
        "#### Continue keyword\n",
        "* The continue statement is used to skip the rest of the code inside a loop for the current iteration only.\n",
        "* Loop does not terminate but continues on with the next iteration."
      ]
    },
    {
      "cell_type": "markdown",
      "metadata": {
        "id": "55QEzXCD_2T8"
      },
      "source": [
        "Here letter `i` is skipped"
      ]
    },
    {
      "cell_type": "code",
      "metadata": {
        "id": "Kcn2Z1GP_2T8",
        "outputId": "0cf32969-7bf1-421d-cf56-6babc11146e9"
      },
      "source": [
        "for letter in \"string\":\n",
        "    \n",
        "    if letter == \"i\":\n",
        "        continue\n",
        "        \n",
        "    print(letter)  \n",
        "    \n",
        "print (\"The end\")"
      ],
      "execution_count": null,
      "outputs": [
        {
          "name": "stdout",
          "output_type": "stream",
          "text": [
            "s\n",
            "t\n",
            "r\n",
            "n\n",
            "g\n",
            "The end\n"
          ]
        }
      ]
    },
    {
      "cell_type": "markdown",
      "metadata": {
        "id": "o5-K1Beg_2T8"
      },
      "source": [
        "Here `e` and `s` both skipped"
      ]
    },
    {
      "cell_type": "code",
      "metadata": {
        "id": "h3d3pBdE_2T9",
        "outputId": "456868ac-5767-4353-d3b0-ac7fd18361be"
      },
      "source": [
        "my_string = \"Students\"\n",
        "\n",
        "for letter in my_string:\n",
        "    if (letter == \"e\" or letter == \"s\"):\n",
        "        \n",
        "        continue\n",
        "    else:\n",
        "        print(letter)"
      ],
      "execution_count": null,
      "outputs": [
        {
          "name": "stdout",
          "output_type": "stream",
          "text": [
            "S\n",
            "t\n",
            "u\n",
            "d\n",
            "n\n",
            "t\n"
          ]
        }
      ]
    },
    {
      "cell_type": "markdown",
      "metadata": {
        "id": "Y6aBEGIx_2T9"
      },
      "source": [
        "Here the numbers divisible by `2` will prints and remaining numbers will skip "
      ]
    },
    {
      "cell_type": "code",
      "metadata": {
        "id": "xH9-BI2A_2T9",
        "outputId": "e5c578fa-59e9-4100-d345-eb871edca99c"
      },
      "source": [
        "for i in range (1, 10):\n",
        "    \n",
        "    if i % 2 == 0:\n",
        "        print (\"Is %s is an even number? \" % i)\n",
        "\n",
        "    else:    \n",
        "        continue\n",
        "        \n",
        "    print(\"Yes\")     "
      ],
      "execution_count": null,
      "outputs": [
        {
          "name": "stdout",
          "output_type": "stream",
          "text": [
            "Is 2 is an even number? \n",
            "Yes\n",
            "Is 4 is an even number? \n",
            "Yes\n",
            "Is 6 is an even number? \n",
            "Yes\n",
            "Is 8 is an even number? \n",
            "Yes\n"
          ]
        }
      ]
    },
    {
      "cell_type": "code",
      "metadata": {
        "id": "mxoP5c4P_2T9",
        "outputId": "fa316cad-eb2e-443a-9e09-28dc55804bae"
      },
      "source": [
        "for num in range(1, 10):\n",
        "    \n",
        "    if num % 2 == 0:\n",
        "        print(\"Found an even number:\", num)\n",
        "        \n",
        "        continue\n",
        "    print(num)"
      ],
      "execution_count": null,
      "outputs": [
        {
          "name": "stdout",
          "output_type": "stream",
          "text": [
            "1\n",
            "Found an even number: 2\n",
            "3\n",
            "Found an even number: 4\n",
            "5\n",
            "Found an even number: 6\n",
            "7\n",
            "Found an even number: 8\n",
            "9\n"
          ]
        }
      ]
    },
    {
      "cell_type": "markdown",
      "metadata": {
        "id": "4t2Wr0iL_2T9"
      },
      "source": [
        "Here the values divisible by `3` and `5` both got skipped"
      ]
    },
    {
      "cell_type": "code",
      "metadata": {
        "id": "dFtl06i3_2T9",
        "outputId": "265d09e1-79dd-4383-fa58-b6271f327ed9"
      },
      "source": [
        "for value in range(10):\n",
        "    \n",
        "    if value % 3 == 0 or value % 5== 0:\n",
        "        \n",
        "        continue\n",
        "        \n",
        "    print(value, \"is not divisible by either 3 or 5\")"
      ],
      "execution_count": null,
      "outputs": [
        {
          "name": "stdout",
          "output_type": "stream",
          "text": [
            "1 is not divisible by either 3 or 5\n",
            "2 is not divisible by either 3 or 5\n",
            "4 is not divisible by either 3 or 5\n",
            "7 is not divisible by either 3 or 5\n",
            "8 is not divisible by either 3 or 5\n"
          ]
        }
      ]
    },
    {
      "cell_type": "markdown",
      "metadata": {
        "id": "RTmiLuYz_2T-"
      },
      "source": [
        "Continue will despite the disruption when the variable number is evaluated as equivalent to `5`\n",
        "\n",
        "Here we see that the line Number is `5` never occurs in the output, but the loop `continues` after that point to print lines for the numbers `6-8` before leaving the loop."
      ]
    },
    {
      "cell_type": "code",
      "metadata": {
        "id": "U-v13fAj_2T-",
        "outputId": "c63dc34c-430f-48c2-cd91-1ce7c5fc6cb1"
      },
      "source": [
        "number = 0\n",
        "\n",
        "for number in range(8):\n",
        "    number = number + 1\n",
        "    \n",
        "    if number == 5:\n",
        "        continue\n",
        "        \n",
        "    print (\"number is: \" + str(number))\n",
        "print(\"out of the for loop\")        "
      ],
      "execution_count": null,
      "outputs": [
        {
          "name": "stdout",
          "output_type": "stream",
          "text": [
            "number is: 1\n",
            "number is: 2\n",
            "number is: 3\n",
            "number is: 4\n",
            "number is: 6\n",
            "number is: 7\n",
            "number is: 8\n",
            "out of the for loop\n"
          ]
        }
      ]
    },
    {
      "cell_type": "code",
      "metadata": {
        "id": "azpZz-7p_2T-",
        "outputId": "a02f08b8-63aa-4cb4-f82c-1e337e07896d"
      },
      "source": [
        "for i in range (1, 12):\n",
        "    \n",
        "    print()\n",
        "    print (\"Before the continue statement\", i)\n",
        "    \n",
        "    if i % 3 == 0:\n",
        "        continue\n",
        "        \n",
        "    print(\"After the continue statement\", i)"
      ],
      "execution_count": null,
      "outputs": [
        {
          "name": "stdout",
          "output_type": "stream",
          "text": [
            "\n",
            "Before the continue statement 1\n",
            "After the continue statement 1\n",
            "\n",
            "Before the continue statement 2\n",
            "After the continue statement 2\n",
            "\n",
            "Before the continue statement 3\n",
            "\n",
            "Before the continue statement 4\n",
            "After the continue statement 4\n",
            "\n",
            "Before the continue statement 5\n",
            "After the continue statement 5\n",
            "\n",
            "Before the continue statement 6\n",
            "\n",
            "Before the continue statement 7\n",
            "After the continue statement 7\n",
            "\n",
            "Before the continue statement 8\n",
            "After the continue statement 8\n",
            "\n",
            "Before the continue statement 9\n",
            "\n",
            "Before the continue statement 10\n",
            "After the continue statement 10\n",
            "\n",
            "Before the continue statement 11\n",
            "After the continue statement 11\n"
          ]
        }
      ]
    },
    {
      "cell_type": "markdown",
      "metadata": {
        "id": "6pInBK5i_2T-"
      },
      "source": [
        "printing `sum of all positive numbers` in given list"
      ]
    },
    {
      "cell_type": "code",
      "metadata": {
        "id": "fcUAm-Nl_2T-",
        "outputId": "0ff2963a-05a4-4b21-a47a-4f2b93f1bed1"
      },
      "source": [
        "num_list = [5, 4, -4, -3, 1, 2, -3, -5]\n",
        "\n",
        "total = 0\n",
        "\n",
        "for element in num_list:\n",
        "    if element <= 0:\n",
        "        \n",
        "        \n",
        "        continue\n",
        "    total += element\n",
        "    print(\"At index\",num_list.index(element) , \"sum is\", total)\n",
        "\n",
        "print(\"\\nSum of all positive numbers is:\", total)    "
      ],
      "execution_count": null,
      "outputs": [
        {
          "name": "stdout",
          "output_type": "stream",
          "text": [
            "At index 0 sum is 5\n",
            "At index 1 sum is 9\n",
            "At index 4 sum is 10\n",
            "At index 5 sum is 12\n",
            "\n",
            "Sum of all positive numbers is: 12\n"
          ]
        }
      ]
    },
    {
      "cell_type": "code",
      "metadata": {
        "id": "KZkzt4Yz_2T-",
        "outputId": "83f56f9a-b88b-4b7f-e42f-84169c5301a2"
      },
      "source": [
        "files = [\"Junk\", \"Trash\", \"Useless\", \"Important File\", \"Random File\"]\n",
        "\n",
        "for file in files:\n",
        "    print (file)\n",
        "    \n",
        "    if file == \"Important File\":        \n",
        "        print (\"That's exactly what we were looking for :)\")\n",
        "        \n",
        "        continue\n",
        "        \n",
        "    else:\n",
        "        print(\"We are not looking for this\")"
      ],
      "execution_count": null,
      "outputs": [
        {
          "name": "stdout",
          "output_type": "stream",
          "text": [
            "Junk\n",
            "We are not looking for this\n",
            "Trash\n",
            "We are not looking for this\n",
            "Useless\n",
            "We are not looking for this\n",
            "Important File\n",
            "That's exactly what we were looking for :)\n",
            "Random File\n",
            "We are not looking for this\n"
          ]
        }
      ]
    },
    {
      "cell_type": "markdown",
      "metadata": {
        "id": "sJMPvdqW_2T-"
      },
      "source": [
        "Here lists are created: one with the numeric items and other with months. Skip which are 30 days, 28 days and print remaining which has 31 days  "
      ]
    },
    {
      "cell_type": "code",
      "metadata": {
        "id": "eYy9euOT_2T_",
        "outputId": "1a5a0bd9-f93d-4037-c4a8-3af0f4d5b9aa"
      },
      "source": [
        "num_days = [31, 28, 31, 30, 31, 30, 31, 31, 30, 31, 30, 31] \n",
        "months = [\"Jan\", \"Feb\",\"Mar\", \"Apr\", \"May\", \"Jun\", \"Jul\", \"Aug\", \"Sep\", \"Oct\", \"Nov\", \"Dec\"]\n",
        " \n",
        "new_dict = dict() \n",
        "\n",
        "for i, j in zip(months, num_days):\n",
        "    new_dict.update({i:j})\n",
        "    \n",
        "    if new_dict[i] < 29:  \n",
        "        continue\n",
        "        \n",
        "    else:\n",
        "        print(i, \"month has\", new_dict[i], \"days\")"
      ],
      "execution_count": null,
      "outputs": [
        {
          "name": "stdout",
          "output_type": "stream",
          "text": [
            "Jan month has 31 days\n",
            "Mar month has 31 days\n",
            "Apr month has 30 days\n",
            "May month has 31 days\n",
            "Jun month has 30 days\n",
            "Jul month has 31 days\n",
            "Aug month has 31 days\n",
            "Sep month has 30 days\n",
            "Oct month has 31 days\n",
            "Nov month has 30 days\n",
            "Dec month has 31 days\n"
          ]
        }
      ]
    },
    {
      "cell_type": "markdown",
      "metadata": {
        "id": "GG7OKQeh_2T_"
      },
      "source": [
        "Here we are using both break and continue keyword in this list"
      ]
    },
    {
      "cell_type": "code",
      "metadata": {
        "id": "Ly_HuNfP_2T_",
        "outputId": "680e851b-6fdb-44f0-c0d2-abefea2b505c"
      },
      "source": [
        "animals = [\"Deer\", \"Rabbit\", \"Lion\", \"Dog\", \"Cat\", \"Elephant\", \"Giraffe\"]\n",
        "\n",
        "for pet in animals:\n",
        "    \n",
        "    if pet == \"Lion\":\n",
        "        \n",
        "        continue\n",
        "    if pet == \"Elephant\":\n",
        "        \n",
        "        break\n",
        "        \n",
        "    print (pet)"
      ],
      "execution_count": null,
      "outputs": [
        {
          "name": "stdout",
          "output_type": "stream",
          "text": [
            "Deer\n",
            "Rabbit\n",
            "Dog\n",
            "Cat\n"
          ]
        }
      ]
    },
    {
      "cell_type": "code",
      "metadata": {
        "collapsed": true,
        "id": "Bmrd91bD_2T_"
      },
      "source": [
        ""
      ],
      "execution_count": null,
      "outputs": []
    },
    {
      "cell_type": "markdown",
      "metadata": {
        "id": "HzC27UY7_2T_"
      },
      "source": [
        "#### Continue keyword\n",
        "* The continue statement is used to skip the rest of the code inside a loop for the current iteration only.\n",
        "* Loop does not terminate but continues on with the next iteration."
      ]
    },
    {
      "cell_type": "markdown",
      "metadata": {
        "id": "PRmCp2fN_2T_"
      },
      "source": [
        "Here letter `i` is skipped"
      ]
    },
    {
      "cell_type": "code",
      "metadata": {
        "id": "Fmy1TEMB_2T_",
        "outputId": "977710ef-859f-4901-a71d-905f67a903b7"
      },
      "source": [
        "for letter in \"string\":\n",
        "    \n",
        "    if letter == \"i\":\n",
        "        continue\n",
        "        \n",
        "    print(letter)  \n",
        "    \n",
        "print (\"The end\")"
      ],
      "execution_count": null,
      "outputs": [
        {
          "name": "stdout",
          "output_type": "stream",
          "text": [
            "s\n",
            "t\n",
            "r\n",
            "n\n",
            "g\n",
            "The end\n"
          ]
        }
      ]
    },
    {
      "cell_type": "markdown",
      "metadata": {
        "id": "t9CqZE_w_2UA"
      },
      "source": [
        "Here `e` and `s` both skipped"
      ]
    },
    {
      "cell_type": "code",
      "metadata": {
        "id": "C8u5HfTF_2UA",
        "outputId": "68a4c34a-ea07-4ab4-c061-d86f16a0ee3f"
      },
      "source": [
        "my_string = \"Students\"\n",
        "\n",
        "for letter in my_string:\n",
        "    if (letter == \"e\" or letter == \"s\"):\n",
        "        \n",
        "        continue\n",
        "    else:\n",
        "        print(letter)"
      ],
      "execution_count": null,
      "outputs": [
        {
          "name": "stdout",
          "output_type": "stream",
          "text": [
            "S\n",
            "t\n",
            "u\n",
            "d\n",
            "n\n",
            "t\n"
          ]
        }
      ]
    },
    {
      "cell_type": "markdown",
      "metadata": {
        "id": "yUbLpy6V_2UA"
      },
      "source": [
        "Here the numbers divisible by `2` will prints and remaining numbers will skip "
      ]
    },
    {
      "cell_type": "code",
      "metadata": {
        "id": "MP9ZPvOp_2UA",
        "outputId": "3052e234-1676-4d99-a3a2-f4ddca57a6bd"
      },
      "source": [
        "for i in range (1, 10):\n",
        "    \n",
        "    if i % 2 == 0:\n",
        "        print (\"Is %s is an even number? \" % i)\n",
        "\n",
        "    else:    \n",
        "        continue\n",
        "        \n",
        "    print(\"Yes\")     "
      ],
      "execution_count": null,
      "outputs": [
        {
          "name": "stdout",
          "output_type": "stream",
          "text": [
            "Is 2 is an even number? \n",
            "Yes\n",
            "Is 4 is an even number? \n",
            "Yes\n",
            "Is 6 is an even number? \n",
            "Yes\n",
            "Is 8 is an even number? \n",
            "Yes\n"
          ]
        }
      ]
    },
    {
      "cell_type": "code",
      "metadata": {
        "id": "l-eXJkqj_2UA",
        "outputId": "8aac6aef-f308-44e5-ae28-32f0b09e7ee9"
      },
      "source": [
        "for num in range(1, 10):\n",
        "    \n",
        "    if num % 2 == 0:\n",
        "        print(\"Found an even number:\", num)\n",
        "        \n",
        "        continue\n",
        "    print(num)"
      ],
      "execution_count": null,
      "outputs": [
        {
          "name": "stdout",
          "output_type": "stream",
          "text": [
            "1\n",
            "Found an even number: 2\n",
            "3\n",
            "Found an even number: 4\n",
            "5\n",
            "Found an even number: 6\n",
            "7\n",
            "Found an even number: 8\n",
            "9\n"
          ]
        }
      ]
    },
    {
      "cell_type": "markdown",
      "metadata": {
        "id": "WjhT8rrF_2UA"
      },
      "source": [
        "Here the values divisible by `3` and `5` both got skipped"
      ]
    },
    {
      "cell_type": "code",
      "metadata": {
        "id": "bsWyVKwT_2UA",
        "outputId": "2f986202-aa6e-45ba-d68c-f7498c4be9a8"
      },
      "source": [
        "for value in range(10):\n",
        "    \n",
        "    if value % 3 == 0 or value % 5== 0:\n",
        "        \n",
        "        continue\n",
        "        \n",
        "    print(value, \"is not divisible by either 3 or 5\")"
      ],
      "execution_count": null,
      "outputs": [
        {
          "name": "stdout",
          "output_type": "stream",
          "text": [
            "1 is not divisible by either 3 or 5\n",
            "2 is not divisible by either 3 or 5\n",
            "4 is not divisible by either 3 or 5\n",
            "7 is not divisible by either 3 or 5\n",
            "8 is not divisible by either 3 or 5\n"
          ]
        }
      ]
    },
    {
      "cell_type": "markdown",
      "metadata": {
        "id": "wfnvSxfK_2UB"
      },
      "source": [
        "Continue will despite the disruption when the variable number is evaluated as equivalent to `5`\n",
        "\n",
        "Here we see that the line Number is `5` never occurs in the output, but the loop `continues` after that point to print lines for the numbers `6-8` before leaving the loop."
      ]
    },
    {
      "cell_type": "code",
      "metadata": {
        "id": "a73jvsOC_2UB",
        "outputId": "1bcda0de-cc35-4806-b450-779d9a5ee94c"
      },
      "source": [
        "number = 0\n",
        "\n",
        "for number in range(8):\n",
        "    number = number + 1\n",
        "    \n",
        "    if number == 5:\n",
        "        continue\n",
        "        \n",
        "    print (\"number is: \" + str(number))\n",
        "print(\"out of the for loop\")        "
      ],
      "execution_count": null,
      "outputs": [
        {
          "name": "stdout",
          "output_type": "stream",
          "text": [
            "number is: 1\n",
            "number is: 2\n",
            "number is: 3\n",
            "number is: 4\n",
            "number is: 6\n",
            "number is: 7\n",
            "number is: 8\n",
            "out of the for loop\n"
          ]
        }
      ]
    },
    {
      "cell_type": "code",
      "metadata": {
        "id": "eOS11bQz_2UB",
        "outputId": "4abcb268-f5ec-4d74-c158-407004dc9664"
      },
      "source": [
        "for i in range (1, 12):\n",
        "    \n",
        "    print()\n",
        "    print (\"Before the continue statement\", i)\n",
        "    \n",
        "    if i % 3 == 0:\n",
        "        continue\n",
        "        \n",
        "    print(\"After the continue statement\", i)"
      ],
      "execution_count": null,
      "outputs": [
        {
          "name": "stdout",
          "output_type": "stream",
          "text": [
            "\n",
            "Before the continue statement 1\n",
            "After the continue statement 1\n",
            "\n",
            "Before the continue statement 2\n",
            "After the continue statement 2\n",
            "\n",
            "Before the continue statement 3\n",
            "\n",
            "Before the continue statement 4\n",
            "After the continue statement 4\n",
            "\n",
            "Before the continue statement 5\n",
            "After the continue statement 5\n",
            "\n",
            "Before the continue statement 6\n",
            "\n",
            "Before the continue statement 7\n",
            "After the continue statement 7\n",
            "\n",
            "Before the continue statement 8\n",
            "After the continue statement 8\n",
            "\n",
            "Before the continue statement 9\n",
            "\n",
            "Before the continue statement 10\n",
            "After the continue statement 10\n",
            "\n",
            "Before the continue statement 11\n",
            "After the continue statement 11\n"
          ]
        }
      ]
    },
    {
      "cell_type": "markdown",
      "metadata": {
        "id": "CkqFZ5vO_2UB"
      },
      "source": [
        "printing `sum of all positive numbers` in given list"
      ]
    },
    {
      "cell_type": "code",
      "metadata": {
        "id": "ahwGmOnD_2UB",
        "outputId": "4635c07c-d55a-4da9-f34d-5d340151e211"
      },
      "source": [
        "num_list = [5, 4, -4, -3, 1, 2, -3, -5]\n",
        "\n",
        "total = 0\n",
        "\n",
        "for element in num_list:\n",
        "    if element <= 0:\n",
        "        \n",
        "        \n",
        "        continue\n",
        "    total += element\n",
        "    print(\"At index\",num_list.index(element) , \"sum is\", total)\n",
        "\n",
        "print(\"\\nSum of all positive numbers is:\", total)    "
      ],
      "execution_count": null,
      "outputs": [
        {
          "name": "stdout",
          "output_type": "stream",
          "text": [
            "At index 0 sum is 5\n",
            "At index 1 sum is 9\n",
            "At index 4 sum is 10\n",
            "At index 5 sum is 12\n",
            "\n",
            "Sum of all positive numbers is: 12\n"
          ]
        }
      ]
    },
    {
      "cell_type": "code",
      "metadata": {
        "id": "tpKf1yvy_2UB",
        "outputId": "a55aaeda-c1ae-46d7-892f-88875186611a"
      },
      "source": [
        "files = [\"Junk\", \"Trash\", \"Useless\", \"Important File\", \"Random File\"]\n",
        "\n",
        "for file in files:\n",
        "    print (file)\n",
        "    \n",
        "    if file == \"Important File\":        \n",
        "        print (\"That's exactly what we were looking for :)\")\n",
        "        \n",
        "        continue\n",
        "        \n",
        "    else:\n",
        "        print(\"We are not looking for this\")"
      ],
      "execution_count": null,
      "outputs": [
        {
          "name": "stdout",
          "output_type": "stream",
          "text": [
            "Junk\n",
            "We are not looking for this\n",
            "Trash\n",
            "We are not looking for this\n",
            "Useless\n",
            "We are not looking for this\n",
            "Important File\n",
            "That's exactly what we were looking for :)\n",
            "Random File\n",
            "We are not looking for this\n"
          ]
        }
      ]
    },
    {
      "cell_type": "markdown",
      "metadata": {
        "id": "XBZCwD0N_2UB"
      },
      "source": [
        "Here lists are created: one with the numeric items and other with months. Skip which are 30 days, 28 days and print remaining which has 31 days  "
      ]
    },
    {
      "cell_type": "code",
      "metadata": {
        "id": "rxpItOG__2UB",
        "outputId": "c5a30287-b512-4140-c715-dd15e3aae724"
      },
      "source": [
        "num_days = [31, 28, 31, 30, 31, 30, 31, 31, 30, 31, 30, 31] \n",
        "months = [\"Jan\", \"Feb\",\"Mar\", \"Apr\", \"May\", \"Jun\", \"Jul\", \"Aug\", \"Sep\", \"Oct\", \"Nov\", \"Dec\"]\n",
        " \n",
        "new_dict = dict() \n",
        "\n",
        "for i, j in zip(months, num_days):\n",
        "    new_dict.update({i:j})\n",
        "    \n",
        "    if new_dict[i] < 29:  \n",
        "        continue\n",
        "        \n",
        "    else:\n",
        "        print(i, \"month has\", new_dict[i], \"days\")"
      ],
      "execution_count": null,
      "outputs": [
        {
          "name": "stdout",
          "output_type": "stream",
          "text": [
            "Jan month has 31 days\n",
            "Mar month has 31 days\n",
            "Apr month has 30 days\n",
            "May month has 31 days\n",
            "Jun month has 30 days\n",
            "Jul month has 31 days\n",
            "Aug month has 31 days\n",
            "Sep month has 30 days\n",
            "Oct month has 31 days\n",
            "Nov month has 30 days\n",
            "Dec month has 31 days\n"
          ]
        }
      ]
    },
    {
      "cell_type": "markdown",
      "metadata": {
        "id": "g9U8Y9ym_2UC"
      },
      "source": [
        "Here we are using both break and continue keyword in this list"
      ]
    },
    {
      "cell_type": "code",
      "metadata": {
        "id": "H7VQEY5L_2UC",
        "outputId": "d498f8ff-3495-41c0-d0b7-5a7491a0d4e7"
      },
      "source": [
        "animals = [\"Deer\", \"Rabbit\", \"Lion\", \"Dog\", \"Cat\", \"Elephant\", \"Giraffe\"]\n",
        "\n",
        "for pet in animals:\n",
        "    \n",
        "    if pet == \"Lion\":\n",
        "        \n",
        "        continue\n",
        "    if pet == \"Elephant\":\n",
        "        \n",
        "        break\n",
        "        \n",
        "    print (pet)"
      ],
      "execution_count": null,
      "outputs": [
        {
          "name": "stdout",
          "output_type": "stream",
          "text": [
            "Deer\n",
            "Rabbit\n",
            "Dog\n",
            "Cat\n"
          ]
        }
      ]
    },
    {
      "cell_type": "code",
      "metadata": {
        "collapsed": true,
        "id": "51WPDLXS_2UC"
      },
      "source": [
        ""
      ],
      "execution_count": null,
      "outputs": []
    },
    {
      "cell_type": "markdown",
      "metadata": {
        "id": "GqCQWdD7_2UC"
      },
      "source": [
        "#### Pass keyword"
      ]
    },
    {
      "cell_type": "markdown",
      "metadata": {
        "id": "AzwhKryP_2UC"
      },
      "source": [
        "The pass statement does nothing. It can be used when a statement is required syntactically but the program requires no action.\n",
        "\n",
        "The pass statement occurring after the if conditional statement is telling the program to continue to run the loop and ignore the fact that the variable number evaluates as equivalent to 5 during one of its iterations.\n",
        "\n",
        "The pass statement tells the program to disregard that condition and continue to run the program as usual.  This sttement is a null operation; nothing happens when it executes."
      ]
    },
    {
      "cell_type": "markdown",
      "metadata": {
        "id": "SIS2d8M9_2UC"
      },
      "source": [
        "The pass statement is used to write the empty loop"
      ]
    },
    {
      "cell_type": "code",
      "metadata": {
        "id": "-q3vLgDl_2UC",
        "outputId": "937daca3-f11c-41d4-88bf-1107ecd5f65b"
      },
      "source": [
        "for letter in \"string\": \n",
        "    if letter == \"r\":\n",
        "        pass\n",
        "        \n",
        "    print (letter)        "
      ],
      "execution_count": null,
      "outputs": [
        {
          "name": "stdout",
          "output_type": "stream",
          "text": [
            "s\n",
            "t\n",
            "r\n",
            "i\n",
            "n\n",
            "g\n"
          ]
        }
      ]
    },
    {
      "cell_type": "markdown",
      "metadata": {
        "id": "aGM3fJAy_2UC"
      },
      "source": [
        "# print statements"
      ]
    },
    {
      "cell_type": "code",
      "metadata": {
        "id": "bYG3Jcad_2UC",
        "outputId": "84d2dbc3-5428-426f-cd10-2b23bfae1cde"
      },
      "source": [
        "for letter in \"string\": \n",
        "    \n",
        "    if letter == \"r\":\n",
        "        \n",
        "        pass\n",
        "        print(\"This is the pass block\")\n",
        "    \n",
        "    else:   \n",
        "        print (\"Current Letter :\", letter)\n",
        "print (\"out of the loop\")"
      ],
      "execution_count": null,
      "outputs": [
        {
          "name": "stdout",
          "output_type": "stream",
          "text": [
            "Current Letter : s\n",
            "Current Letter : t\n",
            "This is the pass block\n",
            "Current Letter : i\n",
            "Current Letter : n\n",
            "Current Letter : g\n",
            "out of the loop\n"
          ]
        }
      ]
    },
    {
      "cell_type": "markdown",
      "metadata": {
        "id": "8MAElldA_2UC"
      },
      "source": [
        "program for getting all the odd numbers"
      ]
    },
    {
      "cell_type": "code",
      "metadata": {
        "id": "7RG3RVpO_2UC",
        "outputId": "483a8c7d-d485-4820-a338-7ce917a8f4a2"
      },
      "source": [
        "for i in range(10):\n",
        "    \n",
        "    if(i % 2 == 0):\n",
        "        pass\n",
        "    \n",
        "    else:\n",
        "        print(i)"
      ],
      "execution_count": null,
      "outputs": [
        {
          "name": "stdout",
          "output_type": "stream",
          "text": [
            "1\n",
            "3\n",
            "5\n",
            "7\n",
            "9\n"
          ]
        }
      ]
    },
    {
      "cell_type": "markdown",
      "metadata": {
        "id": "xfX7tK-Z_2UC"
      },
      "source": [
        "The difference becomes apparent if we added another statement after the if: After executing pass,  this further statement would be executed"
      ]
    },
    {
      "cell_type": "code",
      "metadata": {
        "id": "ocES9is0_2UD",
        "outputId": "134b8f53-6b04-4878-fe04-9e820b5ab0ff"
      },
      "source": [
        "odd_count = 0\n",
        "total_count = 0\n",
        "\n",
        "for i in range(10):\n",
        "    \n",
        "    if(i % 2 == 0):\n",
        "        pass\n",
        "    \n",
        "    else:\n",
        "        print(i)\n",
        "        odd_count += 1\n",
        "        \n",
        "    total_count += 1\n",
        "    \n",
        "    print(\"Count of odd numbers: \", odd_count)\n",
        "    print(\"Total count of numbers: \", total_count, \"\\n\")"
      ],
      "execution_count": null,
      "outputs": [
        {
          "name": "stdout",
          "output_type": "stream",
          "text": [
            "Count of odd numbers:  0\n",
            "Total count of numbers:  1 \n",
            "\n",
            "1\n",
            "Count of odd numbers:  1\n",
            "Total count of numbers:  2 \n",
            "\n",
            "Count of odd numbers:  1\n",
            "Total count of numbers:  3 \n",
            "\n",
            "3\n",
            "Count of odd numbers:  2\n",
            "Total count of numbers:  4 \n",
            "\n",
            "Count of odd numbers:  2\n",
            "Total count of numbers:  5 \n",
            "\n",
            "5\n",
            "Count of odd numbers:  3\n",
            "Total count of numbers:  6 \n",
            "\n",
            "Count of odd numbers:  3\n",
            "Total count of numbers:  7 \n",
            "\n",
            "7\n",
            "Count of odd numbers:  4\n",
            "Total count of numbers:  8 \n",
            "\n",
            "Count of odd numbers:  4\n",
            "Total count of numbers:  9 \n",
            "\n",
            "9\n",
            "Count of odd numbers:  5\n",
            "Total count of numbers:  10 \n",
            "\n"
          ]
        }
      ]
    },
    {
      "cell_type": "markdown",
      "metadata": {
        "id": "malaxd2i_2UD"
      },
      "source": [
        "Write a python program that accepts a string and calculate the number of digits and letters.\n",
        "\n",
        "Enter the following strings:\n",
        "* python3\n",
        "* python$$3"
      ]
    },
    {
      "cell_type": "code",
      "metadata": {
        "id": "P_FmR3Jf_2UD",
        "outputId": "1a820ecf-1765-420a-ed61-2dd900d463b4"
      },
      "source": [
        "my_str = input (\"Input a string: \")\n",
        "\n",
        "digits = 0\n",
        "letters = 0\n",
        "\n",
        "for i in my_str:\n",
        "    if i.isdigit():\n",
        "        digits = digits + 1\n",
        "        \n",
        "    elif i.isalpha():\n",
        "        letters = letters + 1\n",
        "        \n",
        "    else:\n",
        "        pass\n",
        "    \n",
        "print(\"Digits = \", digits)\n",
        "print(\"Letters = \", letters)        "
      ],
      "execution_count": null,
      "outputs": [
        {
          "name": "stdout",
          "output_type": "stream",
          "text": [
            "Input a string: python#$3\n",
            "Digits =  1\n",
            "Letters =  6\n"
          ]
        }
      ]
    },
    {
      "cell_type": "markdown",
      "metadata": {
        "id": "M2sQkErl_2UD"
      },
      "source": [
        "\"Write a program that accepts a sentence and calculate the number of upper case letters and lower case letters.\n",
        "Suppose the following input is supplied to the program:\n",
        "Hello world!\n",
        "Then, the output should be:\n",
        "UPPER CASE 1\n",
        "LOWER CASE 9\""
      ]
    },
    {
      "cell_type": "markdown",
      "metadata": {
        "id": "gcyv8CDG_2UD"
      },
      "source": [
        "Your Time Is Limited, So Don't Waste It Living Someone Else's Life."
      ]
    },
    {
      "cell_type": "code",
      "metadata": {
        "id": "9B2G8y9Z_2UD",
        "outputId": "563bf5e9-7212-4e65-b4b4-9cee5f6bc197"
      },
      "source": [
        "sentence = input(\"Pass In A Sentence : \")\n",
        "\n",
        "case = {\"upper_case\":0, \"lower_case\":0}\n",
        "\n",
        "for i in sentence:    \n",
        "    if i.isupper():\n",
        "        case[\"upper_case\"] += 1\n",
        "        \n",
        "    elif i.islower():\n",
        "            case[\"lower_case\"] += 1\n",
        "            \n",
        "    else:\n",
        "        pass\n",
        "\n",
        "print (\"no. of upper case characters : \", case[\"upper_case\"])\n",
        "print (\"no. of lower case Characters : \", case[\"lower_case\"])"
      ],
      "execution_count": null,
      "outputs": [
        {
          "name": "stdout",
          "output_type": "stream",
          "text": [
            "Pass In A Sentence : The rain in Spain is mainly in the Plain\n",
            "no. of upper case characters :  3\n",
            "no. of lower case Characters :  29\n"
          ]
        }
      ]
    },
    {
      "cell_type": "markdown",
      "metadata": {
        "id": "JDVHsHoH_2UD"
      },
      "source": [
        "let's see the difference between **break continue and pass** with one example"
      ]
    },
    {
      "cell_type": "code",
      "metadata": {
        "id": "OiyD-6jT_2UD",
        "outputId": "ee7a6400-2d78-4cf0-f57b-8857c342b0da"
      },
      "source": [
        "for i in range(10):\n",
        "    \n",
        "    print(i)\n",
        "    \n",
        "    if i > 3:\n",
        "        break\n",
        "        \n",
        "    else:\n",
        "        print(\"hello\")\n",
        "        \n",
        "    print(\"end of an iteration of the for loop\")"
      ],
      "execution_count": null,
      "outputs": [
        {
          "name": "stdout",
          "output_type": "stream",
          "text": [
            "0\n",
            "hello\n",
            "end of an iteration of for loop\n",
            "1\n",
            "hello\n",
            "end of an iteration of for loop\n",
            "2\n",
            "hello\n",
            "end of an iteration of for loop\n",
            "3\n",
            "hello\n",
            "end of an iteration of for loop\n",
            "4\n"
          ]
        }
      ]
    },
    {
      "cell_type": "markdown",
      "metadata": {
        "id": "lvqocY4g_2UD"
      },
      "source": [
        "here continue doesn't break out of the loop. it does not contine going down instead it goes back to the begining of the loop."
      ]
    },
    {
      "cell_type": "code",
      "metadata": {
        "id": "Z2HqVdKF_2UD",
        "outputId": "494df727-927a-4a3e-d86e-b62a91492a5b"
      },
      "source": [
        "for i in range(10):\n",
        "    \n",
        "    print(i)\n",
        "    \n",
        "    if i > 3:\n",
        "        continue\n",
        "        \n",
        "    else:\n",
        "        print(\"hello\")\n",
        "        \n",
        "    print(\"end of an iteration of the for loop\")"
      ],
      "execution_count": null,
      "outputs": [
        {
          "name": "stdout",
          "output_type": "stream",
          "text": [
            "0\n",
            "hello\n",
            "end of an iteration of for loop\n",
            "1\n",
            "hello\n",
            "end of an iteration of for loop\n",
            "2\n",
            "hello\n",
            "end of an iteration of for loop\n",
            "3\n",
            "hello\n",
            "end of an iteration of for loop\n",
            "4\n",
            "5\n",
            "6\n",
            "7\n",
            "8\n",
            "9\n"
          ]
        }
      ]
    },
    {
      "cell_type": "markdown",
      "metadata": {
        "id": "s0KEAum6_2UD"
      },
      "source": [
        "pass is nothing but do nothing"
      ]
    },
    {
      "cell_type": "code",
      "metadata": {
        "scrolled": true,
        "id": "iILK35Fm_2UD",
        "outputId": "4f63acae-f223-4b2e-84dd-a7d0f43101cc"
      },
      "source": [
        "for i in range(10):\n",
        "    \n",
        "    print(i)\n",
        "    \n",
        "    if i > 3:\n",
        "        pass\n",
        "    \n",
        "    else:\n",
        "        print(\"hello\")\n",
        "        \n",
        "    print(\"end of an iteration of the for loop\")    \n",
        "        "
      ],
      "execution_count": null,
      "outputs": [
        {
          "name": "stdout",
          "output_type": "stream",
          "text": [
            "0\n",
            "hello\n",
            "end of an iteration of for loop\n",
            "1\n",
            "hello\n",
            "end of an iteration of for loop\n",
            "2\n",
            "hello\n",
            "end of an iteration of for loop\n",
            "3\n",
            "hello\n",
            "end of an iteration of for loop\n",
            "4\n",
            "end of an iteration of for loop\n",
            "5\n",
            "end of an iteration of for loop\n",
            "6\n",
            "end of an iteration of for loop\n",
            "7\n",
            "end of an iteration of for loop\n",
            "8\n",
            "end of an iteration of for loop\n",
            "9\n",
            "end of an iteration of for loop\n"
          ]
        }
      ]
    },
    {
      "cell_type": "code",
      "metadata": {
        "collapsed": true,
        "id": "-tKIM0x6_2UE"
      },
      "source": [
        ""
      ],
      "execution_count": null,
      "outputs": []
    },
    {
      "cell_type": "markdown",
      "metadata": {
        "id": "dpUn6mSm_2UE"
      },
      "source": [
        "### List Comprehension\n",
        "#### An elegant way to define and create lists in python.  List comprehension allows you to generate a list of numbers from another list of numbes"
      ]
    },
    {
      "cell_type": "code",
      "metadata": {
        "collapsed": true,
        "id": "y4hJusEI_2UE"
      },
      "source": [
        "num = range(10)"
      ],
      "execution_count": null,
      "outputs": []
    },
    {
      "cell_type": "code",
      "metadata": {
        "id": "pU268_4W_2UE",
        "outputId": "f583755b-d231-4870-8d18-41c92cc8242c"
      },
      "source": [
        "[x * x for x in num]"
      ],
      "execution_count": null,
      "outputs": [
        {
          "data": {
            "text/plain": [
              "[0, 1, 4, 9, 16, 25, 36, 49, 64, 81]"
            ]
          },
          "execution_count": 2,
          "metadata": {},
          "output_type": "execute_result"
        }
      ]
    },
    {
      "cell_type": "code",
      "metadata": {
        "id": "nBpIG06Q_2UE",
        "outputId": "0642c6bc-cee0-4abf-eb37-9a363ab28946"
      },
      "source": [
        "letters = [letter for letter in \"anxiety\"]\n",
        "\n",
        "print (letters)"
      ],
      "execution_count": null,
      "outputs": [
        {
          "name": "stdout",
          "output_type": "stream",
          "text": [
            "['a', 'n', 'x', 'i', 'e', 't', 'y']\n"
          ]
        }
      ]
    },
    {
      "cell_type": "code",
      "metadata": {
        "id": "cIyEM_lE_2UE",
        "outputId": "c11027e8-3971-4d2e-c1d0-b619466b3772"
      },
      "source": [
        "list_of_words = [\"this\", \"is\", \"a\", \"list\", \"of\", \"words\"]\n",
        "\n",
        "items = [word[0] for word in list_of_words]\n",
        "\n",
        "print (items)"
      ],
      "execution_count": null,
      "outputs": [
        {
          "name": "stdout",
          "output_type": "stream",
          "text": [
            "['t', 'i', 'a', 'l', 'o', 'w']\n"
          ]
        }
      ]
    },
    {
      "cell_type": "code",
      "metadata": {
        "id": "0rZWuE4H_2UE",
        "outputId": "808187f9-9a26-4d2c-a0e6-f80ebbbeee9f"
      },
      "source": [
        "[word[0].upper() for word in list_of_words]"
      ],
      "execution_count": null,
      "outputs": [
        {
          "data": {
            "text/plain": [
              "['T', 'I', 'A', 'L', 'O', 'W']"
            ]
          },
          "execution_count": 5,
          "metadata": {},
          "output_type": "execute_result"
        }
      ]
    },
    {
      "cell_type": "code",
      "metadata": {
        "id": "ROg6EwZi_2UE",
        "outputId": "7dbab80a-c3a8-4afe-b509-0ae3f942f06e"
      },
      "source": [
        "[word.upper() for word in list_of_words]"
      ],
      "execution_count": null,
      "outputs": [
        {
          "data": {
            "text/plain": [
              "['THIS', 'IS', 'A', 'LIST', 'OF', 'WORDS']"
            ]
          },
          "execution_count": 6,
          "metadata": {},
          "output_type": "execute_result"
        }
      ]
    },
    {
      "cell_type": "markdown",
      "metadata": {
        "id": "0X5yOxI1_2UE"
      },
      "source": [
        "####  conditional expressions with for loops"
      ]
    },
    {
      "cell_type": "code",
      "metadata": {
        "id": "ix2qM8J-_2UE",
        "outputId": "3b654308-4c98-46bd-945a-70c7d87ce672"
      },
      "source": [
        "[x * x for x in num if x % 2 != 0]"
      ],
      "execution_count": null,
      "outputs": [
        {
          "data": {
            "text/plain": [
              "[1, 9, 25, 49, 81]"
            ]
          },
          "execution_count": 7,
          "metadata": {},
          "output_type": "execute_result"
        }
      ]
    },
    {
      "cell_type": "code",
      "metadata": {
        "id": "er9ycz6j_2UE",
        "outputId": "e12cbaea-f2af-43af-e0ea-e9fec476ca8c"
      },
      "source": [
        "number_list = [number for number in range(20) if number % 2 == 0]\n",
        "\n",
        "print(number_list)"
      ],
      "execution_count": null,
      "outputs": [
        {
          "name": "stdout",
          "output_type": "stream",
          "text": [
            "[0, 2, 4, 6, 8, 10, 12, 14, 16, 18]\n"
          ]
        }
      ]
    },
    {
      "cell_type": "markdown",
      "metadata": {
        "id": "uFydH47j_2UF"
      },
      "source": [
        "numbers that are divisible between 0 and 300 that are divisible by 27."
      ]
    },
    {
      "cell_type": "code",
      "metadata": {
        "id": "kpOxIIxf_2UF",
        "outputId": "67f105e4-f345-42af-c032-6d3b9638103f"
      },
      "source": [
        "multiples_27 = [i for i in range(300) if i % 27 == 0]\n",
        "\n",
        "print(multiples_27)"
      ],
      "execution_count": null,
      "outputs": [
        {
          "name": "stdout",
          "output_type": "stream",
          "text": [
            "[0, 27, 54, 81, 108, 135, 162, 189, 216, 243, 270, 297]\n"
          ]
        }
      ]
    },
    {
      "cell_type": "code",
      "metadata": {
        "id": "zcin8uOp_2UF",
        "outputId": "27d76e06-5d20-4db5-86bc-cd94caddf42c"
      },
      "source": [
        "[i for i in \"MATHEMATICS\" if i in [\"A\", \"E\", \"I\", \"O\", \"U\"]]"
      ],
      "execution_count": null,
      "outputs": [
        {
          "data": {
            "text/plain": [
              "['A', 'E', 'A', 'I']"
            ]
          },
          "execution_count": 10,
          "metadata": {},
          "output_type": "execute_result"
        }
      ]
    },
    {
      "cell_type": "markdown",
      "metadata": {
        "id": "XR5kjEQ3_2UF"
      },
      "source": [
        "Extracting all the numbers from a string"
      ]
    },
    {
      "cell_type": "code",
      "metadata": {
        "id": "3gijEaeA_2UF",
        "outputId": "a04d371c-cda9-4271-9040-080fba681152"
      },
      "source": [
        "string = \"Hello 12345 World\"\n",
        "\n",
        "numbers = [int(x) for x in string if x.isdigit()]\n",
        "\n",
        "print (numbers)"
      ],
      "execution_count": null,
      "outputs": [
        {
          "name": "stdout",
          "output_type": "stream",
          "text": [
            "[1, 2, 3, 4, 5]\n"
          ]
        }
      ]
    },
    {
      "cell_type": "markdown",
      "metadata": {
        "id": "G2mc7ifk_2UF"
      },
      "source": [
        "Extracting all the alpha from string"
      ]
    },
    {
      "cell_type": "code",
      "metadata": {
        "id": "uM3oKxjP_2UF",
        "outputId": "f4dcfbde-eb25-48c9-88b1-c5691508dcc6"
      },
      "source": [
        "alpha = [x for x in string if x.isalpha()]\n",
        "\n",
        "print (alpha)"
      ],
      "execution_count": null,
      "outputs": [
        {
          "name": "stdout",
          "output_type": "stream",
          "text": [
            "['H', 'e', 'l', 'l', 'o', 'W', 'o', 'r', 'l', 'd']\n"
          ]
        }
      ]
    },
    {
      "cell_type": "markdown",
      "metadata": {
        "id": "PA7Rq6Ik_2UF"
      },
      "source": [
        "#### nested for"
      ]
    },
    {
      "cell_type": "code",
      "metadata": {
        "id": "xV_R1z9y_2UF",
        "outputId": "9b35ec72-7363-43e3-9d4f-c8bb1017719c"
      },
      "source": [
        "stationery = [\"Pen\", \"Marker\", \"Ink\"]\n",
        "colors = [\"Red\", \"Blue\", \"Green\"]\n",
        "\n",
        "combined = [(i, j) for j in stationery for i in colors ]\n",
        "\n",
        "combined"
      ],
      "execution_count": null,
      "outputs": [
        {
          "data": {
            "text/plain": [
              "[('Red', 'Pen'),\n",
              " ('Blue', 'Pen'),\n",
              " ('Green', 'Pen'),\n",
              " ('Red', 'Marker'),\n",
              " ('Blue', 'Marker'),\n",
              " ('Green', 'Marker'),\n",
              " ('Red', 'Ink'),\n",
              " ('Blue', 'Ink'),\n",
              " ('Green', 'Ink')]"
            ]
          },
          "execution_count": 13,
          "metadata": {},
          "output_type": "execute_result"
        }
      ]
    },
    {
      "cell_type": "markdown",
      "metadata": {
        "id": "ZAWOjsDb_2UF"
      },
      "source": [
        "#### nested if"
      ]
    },
    {
      "cell_type": "code",
      "metadata": {
        "id": "EqXHkZwO_2UF",
        "outputId": "66f04911-7282-4ea5-8bf3-c70e8d63ccd8"
      },
      "source": [
        "number_list = [number for number in range(51) if number % 2 == 0 if number % 5 == 0]\n",
        "\n",
        "print(number_list)"
      ],
      "execution_count": null,
      "outputs": [
        {
          "name": "stdout",
          "output_type": "stream",
          "text": [
            "[0, 10, 20, 30, 40, 50]\n"
          ]
        }
      ]
    },
    {
      "cell_type": "markdown",
      "metadata": {
        "id": "DtHXEhXK_2UF"
      },
      "source": [
        "if-else"
      ]
    },
    {
      "cell_type": "code",
      "metadata": {
        "id": "_4lf_XCU_2UF",
        "outputId": "5618a0bd-57cb-4446-a3d8-6d15586ba123"
      },
      "source": [
        "num = [\"Even\" if i % 2 == 0 else \"Odd\" for i in range(10)]\n",
        "print(num)"
      ],
      "execution_count": null,
      "outputs": [
        {
          "name": "stdout",
          "output_type": "stream",
          "text": [
            "['Even', 'Odd', 'Even', 'Odd', 'Even', 'Odd', 'Even', 'Odd', 'Even', 'Odd']\n"
          ]
        }
      ]
    },
    {
      "cell_type": "code",
      "metadata": {
        "id": "_fi4hOQR_2UG",
        "outputId": "2ec0f271-a2a7-45e3-edfe-8e60bd20a4ef"
      },
      "source": [
        "numbers = [22, 30, 45, 50, 18, 69, 43, 44, 12]\n",
        "\n",
        "[x + 1  if x >= 45  else  x + 5  for x in numbers]"
      ],
      "execution_count": null,
      "outputs": [
        {
          "data": {
            "text/plain": [
              "[27, 35, 46, 51, 23, 70, 48, 49, 17]"
            ]
          },
          "execution_count": 16,
          "metadata": {},
          "output_type": "execute_result"
        }
      ]
    },
    {
      "cell_type": "code",
      "metadata": {
        "id": "kOK77u5O_2UG",
        "outputId": "3db48fc2-f566-4de9-f651-51df7012ad82"
      },
      "source": [
        "z = [\"small\" if number < 20 else \"large\" for number in numbers if number % 2 == 0 if number % 3 == 0]\n",
        "\n",
        "print(z)"
      ],
      "execution_count": null,
      "outputs": [
        {
          "name": "stdout",
          "output_type": "stream",
          "text": [
            "['large', 'small', 'small']\n"
          ]
        }
      ]
    },
    {
      "cell_type": "markdown",
      "metadata": {
        "id": "gEgdyxTo_2UG"
      },
      "source": [
        "#### Nested list comprehension"
      ]
    },
    {
      "cell_type": "code",
      "metadata": {
        "id": "tRFS43SS_2UG",
        "outputId": "53915f0a-1692-4ef5-cf1d-53e640640229"
      },
      "source": [
        "[ [ 1 if item_idx == row_idx else 0 for item_idx in range(0, 3) ] for row_idx in range(0, 3) ]"
      ],
      "execution_count": null,
      "outputs": [
        {
          "data": {
            "text/plain": [
              "[[1, 0, 0], [0, 1, 0], [0, 0, 1]]"
            ]
          },
          "execution_count": 18,
          "metadata": {},
          "output_type": "execute_result"
        }
      ]
    },
    {
      "cell_type": "markdown",
      "metadata": {
        "id": "LBc2dBCT_2UG"
      },
      "source": [
        "Transpose of a Matrix using List Comprehension<br>\n",
        "Find transpose of a matrix using nested loop inside list comprehension."
      ]
    },
    {
      "cell_type": "code",
      "metadata": {
        "id": "Q2B0pflt_2UG",
        "outputId": "0f6adbe6-2f3e-4126-f7a4-c67229f278c0"
      },
      "source": [
        "matrix = [[1, 2], [3,4], [5,6], [7,8]]\n",
        "\n",
        "transpose = [[row[i] for row in matrix] for i in range(2)]\n",
        "print (transpose)"
      ],
      "execution_count": null,
      "outputs": [
        {
          "name": "stdout",
          "output_type": "stream",
          "text": [
            "[[1, 3, 5, 7], [2, 4, 6, 8]]\n"
          ]
        }
      ]
    },
    {
      "cell_type": "code",
      "metadata": {
        "id": "dbBkTu0c_2UG",
        "outputId": "43216a12-5647-424e-a657-070c40157ac2"
      },
      "source": [
        "flattened = [item for row in matrix for item in row]\n",
        "print (flattened)"
      ],
      "execution_count": null,
      "outputs": [
        {
          "name": "stdout",
          "output_type": "stream",
          "text": [
            "[1, 2, 3, 4, 5, 6, 7, 8]\n"
          ]
        }
      ]
    },
    {
      "cell_type": "markdown",
      "metadata": {
        "id": "pBFJrTbz_2UG"
      },
      "source": [
        "##### Generator Comprehensions\n",
        "\n",
        "Generator Comprehensions are very similar to list comprehensions.  One difference between them is that generator comprhensions use circular brackets whereas list comprehensions use square brackets.  The major difference between them is that generators don't allocate memory for the whole list.  Instead, they generate each value one by one which is why they are memory efficient."
      ]
    },
    {
      "cell_type": "code",
      "metadata": {
        "id": "OCQeHfPp_2UG",
        "outputId": "1c27f3ca-b0ba-4012-f3bc-364d79b0d191"
      },
      "source": [
        "input_list = [1, 2, 3, 4, 5, 6, 7]\n",
        "\n",
        "output_gen = (var for var in input_list if var % 2 == 0)\n",
        "\n",
        "print(output_gen)"
      ],
      "execution_count": null,
      "outputs": [
        {
          "name": "stdout",
          "output_type": "stream",
          "text": [
            "<generator object <genexpr> at 0x1107faeb8>\n"
          ]
        }
      ]
    },
    {
      "cell_type": "markdown",
      "metadata": {
        "id": "3aGgjT8T_2UH"
      },
      "source": [
        "If we want to print the output for generator expressions, we can simply iterate it over generator object"
      ]
    },
    {
      "cell_type": "code",
      "metadata": {
        "id": "Izc2Sug0_2UH",
        "outputId": "6cec99b4-a65b-4524-cbbb-90e55a7c4fbc"
      },
      "source": [
        "for i in output_gen:\n",
        "    print(i)"
      ],
      "execution_count": null,
      "outputs": [
        {
          "name": "stdout",
          "output_type": "stream",
          "text": [
            "2\n",
            "4\n",
            "6\n"
          ]
        }
      ]
    },
    {
      "cell_type": "markdown",
      "metadata": {
        "id": "fSloJkac_2UH"
      },
      "source": [
        "Generator expression allows creating a generator on a fly without a yield keyword. However, it doesn't share the whole power of genertor created with a yield function."
      ]
    },
    {
      "cell_type": "code",
      "metadata": {
        "id": "EI6NK0LS_2UH",
        "outputId": "14e5dc8b-801b-490e-d348-8da22531fb01"
      },
      "source": [
        "gen_exp = (x ** 2 for x in range(10) if x % 2 == 0)\n",
        "\n",
        "for x in gen_exp:\n",
        "    print(x)"
      ],
      "execution_count": null,
      "outputs": [
        {
          "name": "stdout",
          "output_type": "stream",
          "text": [
            "0\n",
            "4\n",
            "16\n",
            "36\n",
            "64\n"
          ]
        }
      ]
    },
    {
      "cell_type": "markdown",
      "metadata": {
        "id": "sy0NpPRA_2UH"
      },
      "source": [
        "##### Set comprehension\n",
        "The code creates a set of all the first letters in a sequence of words\n",
        "\n",
        "you become what you believe"
      ]
    },
    {
      "cell_type": "code",
      "metadata": {
        "id": "-Xf0_R1P_2UH",
        "outputId": "47d72b7b-da2e-48b5-fe38-594d6e56e5ab"
      },
      "source": [
        "sentence = input(\"write a sentence: \")\n",
        "\n",
        "words = sentence.split()\n",
        "words"
      ],
      "execution_count": null,
      "outputs": [
        {
          "name": "stdout",
          "output_type": "stream",
          "text": [
            "write a sentence: you become what you believe\n"
          ]
        },
        {
          "data": {
            "text/plain": [
              "['you', 'become', 'what', 'you', 'believe']"
            ]
          },
          "execution_count": 24,
          "metadata": {},
          "output_type": "execute_result"
        }
      ]
    },
    {
      "cell_type": "code",
      "metadata": {
        "id": "hJBon37A_2UH",
        "outputId": "5fa7cd62-2aeb-41ca-fc48-d679685d98b7"
      },
      "source": [
        "first_letters = {w[0] for w in words}\n",
        "\n",
        "first_letters"
      ],
      "execution_count": null,
      "outputs": [
        {
          "data": {
            "text/plain": [
              "{'b', 'w', 'y'}"
            ]
          },
          "execution_count": 25,
          "metadata": {},
          "output_type": "execute_result"
        }
      ]
    },
    {
      "cell_type": "markdown",
      "metadata": {
        "id": "x3FDyU3v_2UH"
      },
      "source": [
        "##### Dictionary comprehension\n",
        "Code that makes a new dictionary by swapping the keys and values of the original one:"
      ]
    },
    {
      "cell_type": "code",
      "metadata": {
        "id": "2nSxr4T1_2UH",
        "outputId": "c72e0c1c-6b15-43ca-c08b-b033054a295f"
      },
      "source": [
        "original = {\"alpha\":\"a\", \"beta\":\"b\", \"gamma\":\"g\"}\n",
        "\n",
        "flipped = {value: key for key, value in original.items()}\n",
        "\n",
        "flipped"
      ],
      "execution_count": null,
      "outputs": [
        {
          "data": {
            "text/plain": [
              "{'a': 'alpha', 'b': 'beta', 'g': 'gamma'}"
            ]
          },
          "execution_count": 26,
          "metadata": {},
          "output_type": "execute_result"
        }
      ]
    },
    {
      "cell_type": "code",
      "metadata": {
        "id": "nQT2N1Im_2UH",
        "outputId": "2a07ee04-e54b-4f63-fe63-19898b9c3085"
      },
      "source": [
        "objects = [\"lunchbox\", \"candles\", \"tape\"]\n",
        "price = [13, 17, 6]\n",
        "\n",
        "dict_obj = {key:value for (key, value) in zip (objects, price)}\n",
        "\n",
        "print(dict_obj)"
      ],
      "execution_count": null,
      "outputs": [
        {
          "name": "stdout",
          "output_type": "stream",
          "text": [
            "{'lunchbox': 13, 'candles': 17, 'tape': 6}\n"
          ]
        }
      ]
    },
    {
      "cell_type": "markdown",
      "metadata": {
        "id": "e90xMBP0_2UH"
      },
      "source": [
        "#### Python Program to Create a List of Tuples with the First Element as the Number and Second Element as the Square of the Number\n"
      ]
    },
    {
      "cell_type": "code",
      "metadata": {
        "id": "xcEQN0j-_2UH",
        "outputId": "bc84665f-a744-435c-bb61-1ccd5cf22c71"
      },
      "source": [
        "num_1 = int(input(\"enter a number: \"))\n",
        "num_2 = int(input(\"enter another number: \"))\n",
        "\n",
        "a = [(x, x ** 2) for x in (num_1, num_2)]\n",
        "\n",
        "print(a)"
      ],
      "execution_count": null,
      "outputs": [
        {
          "name": "stdout",
          "output_type": "stream",
          "text": [
            "enter a number: 3\n",
            "enter another number: 8\n",
            "[(3, 9), (8, 64)]\n"
          ]
        }
      ]
    },
    {
      "cell_type": "code",
      "metadata": {
        "collapsed": true,
        "id": "UfoT020__2UH"
      },
      "source": [
        ""
      ],
      "execution_count": null,
      "outputs": []
    },
    {
      "cell_type": "markdown",
      "metadata": {
        "id": "0fLx9-q3_2UI"
      },
      "source": [
        "### List Comprehension\n",
        "#### An elegant way to define and create lists in python.  List comprehension allows you to generate a list of numbers from another list of numbes"
      ]
    },
    {
      "cell_type": "code",
      "metadata": {
        "collapsed": true,
        "id": "BVu_VrEa_2UI"
      },
      "source": [
        "num = range(10)"
      ],
      "execution_count": null,
      "outputs": []
    },
    {
      "cell_type": "code",
      "metadata": {
        "id": "xL2fKMcC_2UI",
        "outputId": "683df90d-9ef7-4901-d9df-f23d09977a4e"
      },
      "source": [
        "[x * x for x in num]"
      ],
      "execution_count": null,
      "outputs": [
        {
          "data": {
            "text/plain": [
              "[0, 1, 4, 9, 16, 25, 36, 49, 64, 81]"
            ]
          },
          "execution_count": 2,
          "metadata": {},
          "output_type": "execute_result"
        }
      ]
    },
    {
      "cell_type": "code",
      "metadata": {
        "id": "kmB_1-_w_2UI",
        "outputId": "f7498085-7d5f-4910-9391-653663cd1861"
      },
      "source": [
        "letters = [letter for letter in \"anxiety\"]\n",
        "\n",
        "print (letters)"
      ],
      "execution_count": null,
      "outputs": [
        {
          "name": "stdout",
          "output_type": "stream",
          "text": [
            "['a', 'n', 'x', 'i', 'e', 't', 'y']\n"
          ]
        }
      ]
    },
    {
      "cell_type": "code",
      "metadata": {
        "id": "V0RTlp8P_2UI",
        "outputId": "e2338114-a0c9-4d00-f8bb-22b18481650a"
      },
      "source": [
        "list_of_words = [\"this\", \"is\", \"a\", \"list\", \"of\", \"words\"]\n",
        "\n",
        "items = [word[0] for word in list_of_words]\n",
        "\n",
        "print (items)"
      ],
      "execution_count": null,
      "outputs": [
        {
          "name": "stdout",
          "output_type": "stream",
          "text": [
            "['t', 'i', 'a', 'l', 'o', 'w']\n"
          ]
        }
      ]
    },
    {
      "cell_type": "code",
      "metadata": {
        "id": "jRZ5iueC_2UI",
        "outputId": "bcaa18b2-cfd3-42ce-c138-f8b193eae540"
      },
      "source": [
        "[word[0].upper() for word in list_of_words]"
      ],
      "execution_count": null,
      "outputs": [
        {
          "data": {
            "text/plain": [
              "['T', 'I', 'A', 'L', 'O', 'W']"
            ]
          },
          "execution_count": 5,
          "metadata": {},
          "output_type": "execute_result"
        }
      ]
    },
    {
      "cell_type": "code",
      "metadata": {
        "id": "WIpc_wUB_2UI",
        "outputId": "d24c5cab-03f8-4ce3-84fb-e6f1a7a8454f"
      },
      "source": [
        "[word.upper() for word in list_of_words]"
      ],
      "execution_count": null,
      "outputs": [
        {
          "data": {
            "text/plain": [
              "['THIS', 'IS', 'A', 'LIST', 'OF', 'WORDS']"
            ]
          },
          "execution_count": 6,
          "metadata": {},
          "output_type": "execute_result"
        }
      ]
    },
    {
      "cell_type": "markdown",
      "metadata": {
        "id": "JOMUkwyP_2UI"
      },
      "source": [
        "####  conditional expressions with for loops"
      ]
    },
    {
      "cell_type": "code",
      "metadata": {
        "id": "hkCHnzfl_2UI",
        "outputId": "a5b23a9f-467a-43db-c635-f313d93a1187"
      },
      "source": [
        "[x * x for x in num if x % 2 != 0]"
      ],
      "execution_count": null,
      "outputs": [
        {
          "data": {
            "text/plain": [
              "[1, 9, 25, 49, 81]"
            ]
          },
          "execution_count": 7,
          "metadata": {},
          "output_type": "execute_result"
        }
      ]
    },
    {
      "cell_type": "code",
      "metadata": {
        "id": "tHnL-ZX4_2UI",
        "outputId": "3a74b4e9-43aa-4512-d5e4-1dbecf894464"
      },
      "source": [
        "number_list = [number for number in range(20) if number % 2 == 0]\n",
        "\n",
        "print(number_list)"
      ],
      "execution_count": null,
      "outputs": [
        {
          "name": "stdout",
          "output_type": "stream",
          "text": [
            "[0, 2, 4, 6, 8, 10, 12, 14, 16, 18]\n"
          ]
        }
      ]
    },
    {
      "cell_type": "markdown",
      "metadata": {
        "id": "SCYjTh2f_2UI"
      },
      "source": [
        "numbers that are divisible between 0 and 300 that are divisible by 27."
      ]
    },
    {
      "cell_type": "code",
      "metadata": {
        "id": "qeTTJd8x_2UI",
        "outputId": "8946f879-02a0-42ad-dc91-bcabe6a557dd"
      },
      "source": [
        "multiples_27 = [i for i in range(300) if i % 27 == 0]\n",
        "\n",
        "print(multiples_27)"
      ],
      "execution_count": null,
      "outputs": [
        {
          "name": "stdout",
          "output_type": "stream",
          "text": [
            "[0, 27, 54, 81, 108, 135, 162, 189, 216, 243, 270, 297]\n"
          ]
        }
      ]
    },
    {
      "cell_type": "code",
      "metadata": {
        "id": "oAqD00BJ_2UI",
        "outputId": "0a5d9af4-2a42-477d-ab93-4e1edca0d907"
      },
      "source": [
        "[i for i in \"MATHEMATICS\" if i in [\"A\", \"E\", \"I\", \"O\", \"U\"]]"
      ],
      "execution_count": null,
      "outputs": [
        {
          "data": {
            "text/plain": [
              "['A', 'E', 'A', 'I']"
            ]
          },
          "execution_count": 10,
          "metadata": {},
          "output_type": "execute_result"
        }
      ]
    },
    {
      "cell_type": "markdown",
      "metadata": {
        "id": "Ir5s5M9H_2UI"
      },
      "source": [
        "Extracting all the numbers from a string"
      ]
    },
    {
      "cell_type": "code",
      "metadata": {
        "id": "1gp6JIJu_2UJ",
        "outputId": "22567259-c2fd-4ad9-95e7-fff1f69f22d2"
      },
      "source": [
        "string = \"Hello 12345 World\"\n",
        "\n",
        "numbers = [int(x) for x in string if x.isdigit()]\n",
        "\n",
        "print (numbers)"
      ],
      "execution_count": null,
      "outputs": [
        {
          "name": "stdout",
          "output_type": "stream",
          "text": [
            "[1, 2, 3, 4, 5]\n"
          ]
        }
      ]
    },
    {
      "cell_type": "markdown",
      "metadata": {
        "id": "cbUEJ96F_2UJ"
      },
      "source": [
        "Extracting all the alpha from string"
      ]
    },
    {
      "cell_type": "code",
      "metadata": {
        "id": "E1P4IX4N_2UJ",
        "outputId": "d3d430d4-c025-411c-9e72-469e4885d095"
      },
      "source": [
        "alpha = [x for x in string if x.isalpha()]\n",
        "\n",
        "print (alpha)"
      ],
      "execution_count": null,
      "outputs": [
        {
          "name": "stdout",
          "output_type": "stream",
          "text": [
            "['H', 'e', 'l', 'l', 'o', 'W', 'o', 'r', 'l', 'd']\n"
          ]
        }
      ]
    },
    {
      "cell_type": "markdown",
      "metadata": {
        "id": "i9dKFnwJ_2UJ"
      },
      "source": [
        "#### nested for"
      ]
    },
    {
      "cell_type": "code",
      "metadata": {
        "id": "iIlAyZaP_2UJ",
        "outputId": "f45a8731-81a7-439e-9056-994fbbb544ef"
      },
      "source": [
        "stationery = [\"Pen\", \"Marker\", \"Ink\"]\n",
        "colors = [\"Red\", \"Blue\", \"Green\"]\n",
        "\n",
        "combined = [(i, j) for j in stationery for i in colors ]\n",
        "\n",
        "combined"
      ],
      "execution_count": null,
      "outputs": [
        {
          "data": {
            "text/plain": [
              "[('Red', 'Pen'),\n",
              " ('Blue', 'Pen'),\n",
              " ('Green', 'Pen'),\n",
              " ('Red', 'Marker'),\n",
              " ('Blue', 'Marker'),\n",
              " ('Green', 'Marker'),\n",
              " ('Red', 'Ink'),\n",
              " ('Blue', 'Ink'),\n",
              " ('Green', 'Ink')]"
            ]
          },
          "execution_count": 13,
          "metadata": {},
          "output_type": "execute_result"
        }
      ]
    },
    {
      "cell_type": "markdown",
      "metadata": {
        "id": "iULl9BjH_2UJ"
      },
      "source": [
        "#### nested if"
      ]
    },
    {
      "cell_type": "code",
      "metadata": {
        "id": "sUnF1eXN_2UJ",
        "outputId": "bca686e0-6f93-4593-a32b-e5d126f2b32e"
      },
      "source": [
        "number_list = [number for number in range(51) if number % 2 == 0 if number % 5 == 0]\n",
        "\n",
        "print(number_list)"
      ],
      "execution_count": null,
      "outputs": [
        {
          "name": "stdout",
          "output_type": "stream",
          "text": [
            "[0, 10, 20, 30, 40, 50]\n"
          ]
        }
      ]
    },
    {
      "cell_type": "markdown",
      "metadata": {
        "id": "WcV5WBDt_2UJ"
      },
      "source": [
        "if-else"
      ]
    },
    {
      "cell_type": "code",
      "metadata": {
        "id": "V7BysVEw_2UJ",
        "outputId": "422fa5ac-8c90-4d0c-c3c3-5a62bf60a0be"
      },
      "source": [
        "num = [\"Even\" if i % 2 == 0 else \"Odd\" for i in range(10)]\n",
        "print(num)"
      ],
      "execution_count": null,
      "outputs": [
        {
          "name": "stdout",
          "output_type": "stream",
          "text": [
            "['Even', 'Odd', 'Even', 'Odd', 'Even', 'Odd', 'Even', 'Odd', 'Even', 'Odd']\n"
          ]
        }
      ]
    },
    {
      "cell_type": "code",
      "metadata": {
        "id": "Bl6N71Ps_2UJ",
        "outputId": "cd9c4c32-25e9-43ac-e182-0233614db0d6"
      },
      "source": [
        "numbers = [22, 30, 45, 50, 18, 69, 43, 44, 12]\n",
        "\n",
        "[x + 1  if x >= 45  else  x + 5  for x in numbers]"
      ],
      "execution_count": null,
      "outputs": [
        {
          "data": {
            "text/plain": [
              "[27, 35, 46, 51, 23, 70, 48, 49, 17]"
            ]
          },
          "execution_count": 16,
          "metadata": {},
          "output_type": "execute_result"
        }
      ]
    },
    {
      "cell_type": "code",
      "metadata": {
        "id": "-0hpENJN_2UJ",
        "outputId": "8b880d51-d7b7-4f8c-827d-8f25609ce779"
      },
      "source": [
        "z = [\"small\" if number < 20 else \"large\" for number in numbers if number % 2 == 0 if number % 3 == 0]\n",
        "\n",
        "print(z)"
      ],
      "execution_count": null,
      "outputs": [
        {
          "name": "stdout",
          "output_type": "stream",
          "text": [
            "['large', 'small', 'small']\n"
          ]
        }
      ]
    },
    {
      "cell_type": "markdown",
      "metadata": {
        "id": "ppjU641u_2UJ"
      },
      "source": [
        "#### Nested list comprehension"
      ]
    },
    {
      "cell_type": "code",
      "metadata": {
        "id": "L4SpQCsn_2UJ",
        "outputId": "3935bc5f-a443-493a-fdb8-8baedf17249d"
      },
      "source": [
        "[ [ 1 if item_idx == row_idx else 0 for item_idx in range(0, 3) ] for row_idx in range(0, 3) ]"
      ],
      "execution_count": null,
      "outputs": [
        {
          "data": {
            "text/plain": [
              "[[1, 0, 0], [0, 1, 0], [0, 0, 1]]"
            ]
          },
          "execution_count": 18,
          "metadata": {},
          "output_type": "execute_result"
        }
      ]
    },
    {
      "cell_type": "markdown",
      "metadata": {
        "id": "304DLy0e_2UJ"
      },
      "source": [
        "Transpose of a Matrix using List Comprehension<br>\n",
        "Find transpose of a matrix using nested loop inside list comprehension."
      ]
    },
    {
      "cell_type": "code",
      "metadata": {
        "id": "0b6iVkXT_2UJ",
        "outputId": "24e08a9f-077a-4ed1-94fb-6d76f0a80211"
      },
      "source": [
        "matrix = [[1, 2], [3,4], [5,6], [7,8]]\n",
        "\n",
        "transpose = [[row[i] for row in matrix] for i in range(2)]\n",
        "print (transpose)"
      ],
      "execution_count": null,
      "outputs": [
        {
          "name": "stdout",
          "output_type": "stream",
          "text": [
            "[[1, 3, 5, 7], [2, 4, 6, 8]]\n"
          ]
        }
      ]
    },
    {
      "cell_type": "code",
      "metadata": {
        "id": "1j18Y29R_2UK",
        "outputId": "9412c889-4c82-43d6-983f-34b0abc6a317"
      },
      "source": [
        "flattened = [item for row in matrix for item in row]\n",
        "print (flattened)"
      ],
      "execution_count": null,
      "outputs": [
        {
          "name": "stdout",
          "output_type": "stream",
          "text": [
            "[1, 2, 3, 4, 5, 6, 7, 8]\n"
          ]
        }
      ]
    },
    {
      "cell_type": "markdown",
      "metadata": {
        "id": "UJkXYnoK_2UK"
      },
      "source": [
        "##### Generator Comprehensions\n",
        "\n",
        "Generator Comprehensions are very similar to list comprehensions.  One difference between them is that generator comprhensions use circular brackets whereas list comprehensions use square brackets.  The major difference between them is that generators don't allocate memory for the whole list.  Instead, they generate each value one by one which is why they are memory efficient."
      ]
    },
    {
      "cell_type": "code",
      "metadata": {
        "id": "9Fdo8Wsc_2UK",
        "outputId": "96776ca0-995c-4984-c348-733c5bfcadde"
      },
      "source": [
        "input_list = [1, 2, 3, 4, 5, 6, 7]\n",
        "\n",
        "output_gen = (var for var in input_list if var % 2 == 0)\n",
        "\n",
        "print(output_gen)"
      ],
      "execution_count": null,
      "outputs": [
        {
          "name": "stdout",
          "output_type": "stream",
          "text": [
            "<generator object <genexpr> at 0x1107faeb8>\n"
          ]
        }
      ]
    },
    {
      "cell_type": "markdown",
      "metadata": {
        "id": "bt5WaVc4_2UK"
      },
      "source": [
        "If we want to print the output for generator expressions, we can simply iterate it over generator object"
      ]
    },
    {
      "cell_type": "code",
      "metadata": {
        "id": "SDs1tG9G_2UK",
        "outputId": "d6d173e1-9595-4476-aafe-da104ed1f1e6"
      },
      "source": [
        "for i in output_gen:\n",
        "    print(i)"
      ],
      "execution_count": null,
      "outputs": [
        {
          "name": "stdout",
          "output_type": "stream",
          "text": [
            "2\n",
            "4\n",
            "6\n"
          ]
        }
      ]
    },
    {
      "cell_type": "markdown",
      "metadata": {
        "id": "fpJfI5zj_2UK"
      },
      "source": [
        "Generator expression allows creating a generator on a fly without a yield keyword. However, it doesn't share the whole power of genertor created with a yield function."
      ]
    },
    {
      "cell_type": "code",
      "metadata": {
        "id": "uLyiK6KY_2UK",
        "outputId": "0c74a850-af90-4276-b83e-746eb99b1dce"
      },
      "source": [
        "gen_exp = (x ** 2 for x in range(10) if x % 2 == 0)\n",
        "\n",
        "for x in gen_exp:\n",
        "    print(x)"
      ],
      "execution_count": null,
      "outputs": [
        {
          "name": "stdout",
          "output_type": "stream",
          "text": [
            "0\n",
            "4\n",
            "16\n",
            "36\n",
            "64\n"
          ]
        }
      ]
    },
    {
      "cell_type": "markdown",
      "metadata": {
        "id": "LS9CzRKj_2UK"
      },
      "source": [
        "##### Set comprehension\n",
        "The code creates a set of all the first letters in a sequence of words\n",
        "\n",
        "you become what you believe"
      ]
    },
    {
      "cell_type": "code",
      "metadata": {
        "id": "41faB7b3_2UK",
        "outputId": "ce6deec5-a357-4e1f-9ee5-8d7732b1f646"
      },
      "source": [
        "sentence = input(\"write a sentence: \")\n",
        "\n",
        "words = sentence.split()\n",
        "words"
      ],
      "execution_count": null,
      "outputs": [
        {
          "name": "stdout",
          "output_type": "stream",
          "text": [
            "write a sentence: you become what you believe\n"
          ]
        },
        {
          "data": {
            "text/plain": [
              "['you', 'become', 'what', 'you', 'believe']"
            ]
          },
          "execution_count": 24,
          "metadata": {},
          "output_type": "execute_result"
        }
      ]
    },
    {
      "cell_type": "code",
      "metadata": {
        "id": "TkjOs2l4_2UK",
        "outputId": "67b9eb0f-3c82-430a-a3b8-5918e318f7da"
      },
      "source": [
        "first_letters = {w[0] for w in words}\n",
        "\n",
        "first_letters"
      ],
      "execution_count": null,
      "outputs": [
        {
          "data": {
            "text/plain": [
              "{'b', 'w', 'y'}"
            ]
          },
          "execution_count": 25,
          "metadata": {},
          "output_type": "execute_result"
        }
      ]
    },
    {
      "cell_type": "markdown",
      "metadata": {
        "id": "Dx8TvLTW_2UK"
      },
      "source": [
        "##### Dictionary comprehension\n",
        "Code that makes a new dictionary by swapping the keys and values of the original one:"
      ]
    },
    {
      "cell_type": "code",
      "metadata": {
        "id": "oMc1XaJq_2UK",
        "outputId": "6166d738-f53f-410c-ce64-ef7dd9d3dbcc"
      },
      "source": [
        "original = {\"alpha\":\"a\", \"beta\":\"b\", \"gamma\":\"g\"}\n",
        "\n",
        "flipped = {value: key for key, value in original.items()}\n",
        "\n",
        "flipped"
      ],
      "execution_count": null,
      "outputs": [
        {
          "data": {
            "text/plain": [
              "{'a': 'alpha', 'b': 'beta', 'g': 'gamma'}"
            ]
          },
          "execution_count": 26,
          "metadata": {},
          "output_type": "execute_result"
        }
      ]
    },
    {
      "cell_type": "code",
      "metadata": {
        "id": "rXsRPzPn_2UL",
        "outputId": "540f1caa-a0ad-401b-d002-9026f504fca3"
      },
      "source": [
        "objects = [\"lunchbox\", \"candles\", \"tape\"]\n",
        "price = [13, 17, 6]\n",
        "\n",
        "dict_obj = {key:value for (key, value) in zip (objects, price)}\n",
        "\n",
        "print(dict_obj)"
      ],
      "execution_count": null,
      "outputs": [
        {
          "name": "stdout",
          "output_type": "stream",
          "text": [
            "{'lunchbox': 13, 'candles': 17, 'tape': 6}\n"
          ]
        }
      ]
    },
    {
      "cell_type": "markdown",
      "metadata": {
        "id": "Uq0lFN5Q_2UL"
      },
      "source": [
        "#### Python Program to Create a List of Tuples with the First Element as the Number and Second Element as the Square of the Number\n"
      ]
    },
    {
      "cell_type": "code",
      "metadata": {
        "id": "TLAhOyAi_2UL",
        "outputId": "e30db673-d341-4ed6-9a37-eb61c30dcc4f"
      },
      "source": [
        "num_1 = int(input(\"enter a number: \"))\n",
        "num_2 = int(input(\"enter another number: \"))\n",
        "\n",
        "a = [(x, x ** 2) for x in (num_1, num_2)]\n",
        "\n",
        "print(a)"
      ],
      "execution_count": null,
      "outputs": [
        {
          "name": "stdout",
          "output_type": "stream",
          "text": [
            "enter a number: 3\n",
            "enter another number: 8\n",
            "[(3, 9), (8, 64)]\n"
          ]
        }
      ]
    },
    {
      "cell_type": "code",
      "metadata": {
        "collapsed": true,
        "id": "O1yky11p_2UL"
      },
      "source": [
        ""
      ],
      "execution_count": null,
      "outputs": []
    }
  ]
}