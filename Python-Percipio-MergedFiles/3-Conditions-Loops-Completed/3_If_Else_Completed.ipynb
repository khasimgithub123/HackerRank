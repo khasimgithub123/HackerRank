{
  "cells": [
    {
      "cell_type": "code",
      "execution_count": 1,
      "metadata": {
        "colab": {
          "base_uri": "https://localhost:8080/"
        },
        "id": "Yhm537P5ZzPV",
        "outputId": "a943c36e-9cfd-4837-8820-be8d9a688ce9"
      },
      "outputs": [
        {
          "output_type": "execute_result",
          "data": {
            "text/plain": [
              "True"
            ]
          },
          "metadata": {},
          "execution_count": 1
        }
      ],
      "source": [
        "10 == 10"
      ]
    },
    {
      "cell_type": "code",
      "execution_count": 2,
      "metadata": {
        "colab": {
          "base_uri": "https://localhost:8080/"
        },
        "id": "13iM_cJ2ZzPZ",
        "outputId": "4a82d5d8-3f59-4f3a-8ab8-2c64b7088f15"
      },
      "outputs": [
        {
          "output_type": "execute_result",
          "data": {
            "text/plain": [
              "False"
            ]
          },
          "metadata": {},
          "execution_count": 2
        }
      ],
      "source": [
        "10 == 20"
      ]
    },
    {
      "cell_type": "code",
      "execution_count": 3,
      "metadata": {
        "colab": {
          "base_uri": "https://localhost:8080/"
        },
        "id": "hqGKzKrZZzPa",
        "outputId": "d6e592d4-d629-41cc-a324-0785ee40f970"
      },
      "outputs": [
        {
          "output_type": "execute_result",
          "data": {
            "text/plain": [
              "False"
            ]
          },
          "metadata": {},
          "execution_count": 3
        }
      ],
      "source": [
        "20 == \"Hello\""
      ]
    },
    {
      "cell_type": "code",
      "execution_count": 4,
      "metadata": {
        "colab": {
          "base_uri": "https://localhost:8080/",
          "height": 131
        },
        "id": "BN2mZVFUZzPb",
        "outputId": "af0752ad-65ee-41c4-8946-4dd1dcc0a3b1"
      },
      "outputs": [
        {
          "output_type": "error",
          "ename": "SyntaxError",
          "evalue": "ignored",
          "traceback": [
            "\u001b[0;36m  File \u001b[0;32m\"<ipython-input-4-d36b08588c45>\"\u001b[0;36m, line \u001b[0;32m1\u001b[0m\n\u001b[0;31m    20 = \"Hello\"\u001b[0m\n\u001b[0m                ^\u001b[0m\n\u001b[0;31mSyntaxError\u001b[0m\u001b[0;31m:\u001b[0m can't assign to literal\n"
          ]
        }
      ],
      "source": [
        "20 = \"Hello\""
      ]
    },
    {
      "cell_type": "code",
      "execution_count": 5,
      "metadata": {
        "colab": {
          "base_uri": "https://localhost:8080/"
        },
        "id": "4slMWIcqZzPb",
        "outputId": "2c711046-88fb-4773-a77e-223105b119c4"
      },
      "outputs": [
        {
          "output_type": "execute_result",
          "data": {
            "text/plain": [
              "False"
            ]
          },
          "metadata": {},
          "execution_count": 5
        }
      ],
      "source": [
        "\"Hello\" == 20"
      ]
    },
    {
      "cell_type": "code",
      "execution_count": 6,
      "metadata": {
        "colab": {
          "base_uri": "https://localhost:8080/"
        },
        "id": "b8G5CtA5ZzPb",
        "outputId": "4b7d6f8e-91c1-4bdb-cfa8-4e2832804763"
      },
      "outputs": [
        {
          "output_type": "execute_result",
          "data": {
            "text/plain": [
              "True"
            ]
          },
          "metadata": {},
          "execution_count": 6
        }
      ],
      "source": [
        "\"Hello\" == \"Hello\""
      ]
    },
    {
      "cell_type": "code",
      "execution_count": 7,
      "metadata": {
        "colab": {
          "base_uri": "https://localhost:8080/"
        },
        "id": "EfTnJcdCZzPc",
        "outputId": "7c9ddaa5-889b-4bcf-95d2-3d1a6669a895"
      },
      "outputs": [
        {
          "output_type": "execute_result",
          "data": {
            "text/plain": [
              "False"
            ]
          },
          "metadata": {},
          "execution_count": 7
        }
      ],
      "source": [
        "20 != 20"
      ]
    },
    {
      "cell_type": "code",
      "execution_count": 8,
      "metadata": {
        "colab": {
          "base_uri": "https://localhost:8080/"
        },
        "id": "gs4PzWhNZzPc",
        "outputId": "92238a3c-bd39-49cf-f4dd-ffc9d242e984"
      },
      "outputs": [
        {
          "output_type": "execute_result",
          "data": {
            "text/plain": [
              "True"
            ]
          },
          "metadata": {},
          "execution_count": 8
        }
      ],
      "source": [
        "20 != 10"
      ]
    },
    {
      "cell_type": "code",
      "execution_count": 9,
      "metadata": {
        "colab": {
          "base_uri": "https://localhost:8080/"
        },
        "id": "icx6jsvrZzPd",
        "outputId": "75ae92d9-f87a-4aa2-8b73-9c72204e857d"
      },
      "outputs": [
        {
          "output_type": "execute_result",
          "data": {
            "text/plain": [
              "True"
            ]
          },
          "metadata": {},
          "execution_count": 9
        }
      ],
      "source": [
        "20 != \"Hello\""
      ]
    },
    {
      "cell_type": "code",
      "execution_count": 10,
      "metadata": {
        "colab": {
          "base_uri": "https://localhost:8080/"
        },
        "id": "16ATygoAZzPd",
        "outputId": "994d3639-0eb4-4a9d-d158-8dd57b47f3c9"
      },
      "outputs": [
        {
          "output_type": "execute_result",
          "data": {
            "text/plain": [
              "False"
            ]
          },
          "metadata": {},
          "execution_count": 10
        }
      ],
      "source": [
        "\"Hello\" != \"Hello\""
      ]
    },
    {
      "cell_type": "code",
      "execution_count": 11,
      "metadata": {
        "id": "e0yHCnAHZzPe"
      },
      "outputs": [],
      "source": [
        "x = \"Hello\""
      ]
    },
    {
      "cell_type": "code",
      "execution_count": 12,
      "metadata": {
        "colab": {
          "base_uri": "https://localhost:8080/"
        },
        "id": "cc18WinxZzPe",
        "outputId": "46cc46e7-9f78-4a44-b343-cae65a1efcf7"
      },
      "outputs": [
        {
          "output_type": "execute_result",
          "data": {
            "text/plain": [
              "True"
            ]
          },
          "metadata": {},
          "execution_count": 12
        }
      ],
      "source": [
        "x == \"Hello\""
      ]
    },
    {
      "cell_type": "code",
      "execution_count": 13,
      "metadata": {
        "colab": {
          "base_uri": "https://localhost:8080/"
        },
        "id": "TcPCVF01ZzPe",
        "outputId": "3d1c049e-2595-4379-dd9b-2c8930de865b"
      },
      "outputs": [
        {
          "output_type": "execute_result",
          "data": {
            "text/plain": [
              "False"
            ]
          },
          "metadata": {},
          "execution_count": 13
        }
      ],
      "source": [
        "x == \"Python\""
      ]
    },
    {
      "cell_type": "code",
      "execution_count": 14,
      "metadata": {
        "colab": {
          "base_uri": "https://localhost:8080/"
        },
        "id": "tH9srdm6ZzPf",
        "outputId": "eb2d9027-9ed1-4791-b681-d18823fe8dae"
      },
      "outputs": [
        {
          "output_type": "execute_result",
          "data": {
            "text/plain": [
              "True"
            ]
          },
          "metadata": {},
          "execution_count": 14
        }
      ],
      "source": [
        "x != \"Python\""
      ]
    },
    {
      "cell_type": "code",
      "execution_count": 15,
      "metadata": {
        "colab": {
          "base_uri": "https://localhost:8080/"
        },
        "id": "2qJKj4z_ZzPf",
        "outputId": "48f050c5-d413-4ba2-945b-9ab4a9e20a9d"
      },
      "outputs": [
        {
          "output_type": "execute_result",
          "data": {
            "text/plain": [
              "True"
            ]
          },
          "metadata": {},
          "execution_count": 15
        }
      ],
      "source": [
        "10 < 20"
      ]
    },
    {
      "cell_type": "code",
      "execution_count": 16,
      "metadata": {
        "colab": {
          "base_uri": "https://localhost:8080/"
        },
        "id": "VHRwd5AIZzPf",
        "outputId": "7fcc4915-181b-4466-e42f-79b1cbbfdbe3"
      },
      "outputs": [
        {
          "output_type": "execute_result",
          "data": {
            "text/plain": [
              "False"
            ]
          },
          "metadata": {},
          "execution_count": 16
        }
      ],
      "source": [
        "10 < 9"
      ]
    },
    {
      "cell_type": "code",
      "execution_count": 17,
      "metadata": {
        "colab": {
          "base_uri": "https://localhost:8080/"
        },
        "id": "j_rMYAqUZzPf",
        "outputId": "938a6b89-65b6-4512-cde5-8e69b81e6376"
      },
      "outputs": [
        {
          "output_type": "execute_result",
          "data": {
            "text/plain": [
              "False"
            ]
          },
          "metadata": {},
          "execution_count": 17
        }
      ],
      "source": [
        "10 < 10"
      ]
    },
    {
      "cell_type": "code",
      "execution_count": 18,
      "metadata": {
        "colab": {
          "base_uri": "https://localhost:8080/"
        },
        "id": "-PuwlnMnZzPg",
        "outputId": "039aaa0a-034b-48ab-b16a-de56873e3fe9"
      },
      "outputs": [
        {
          "output_type": "execute_result",
          "data": {
            "text/plain": [
              "False"
            ]
          },
          "metadata": {},
          "execution_count": 18
        }
      ],
      "source": [
        "15 > 20"
      ]
    },
    {
      "cell_type": "code",
      "execution_count": 19,
      "metadata": {
        "colab": {
          "base_uri": "https://localhost:8080/"
        },
        "id": "Dvo5gkn0ZzPg",
        "outputId": "9685dc1d-43b5-40e8-91bc-2655b87d086a"
      },
      "outputs": [
        {
          "output_type": "execute_result",
          "data": {
            "text/plain": [
              "False"
            ]
          },
          "metadata": {},
          "execution_count": 19
        }
      ],
      "source": [
        "20 <= 15"
      ]
    },
    {
      "cell_type": "code",
      "execution_count": 20,
      "metadata": {
        "colab": {
          "base_uri": "https://localhost:8080/"
        },
        "id": "JHKUaES5ZzPg",
        "outputId": "e29c8d39-7de8-4b3e-971a-74d86fd563d0"
      },
      "outputs": [
        {
          "output_type": "execute_result",
          "data": {
            "text/plain": [
              "True"
            ]
          },
          "metadata": {},
          "execution_count": 20
        }
      ],
      "source": [
        "20 <= 20"
      ]
    },
    {
      "cell_type": "code",
      "execution_count": 21,
      "metadata": {
        "colab": {
          "base_uri": "https://localhost:8080/"
        },
        "id": "XtV9leO0ZzPg",
        "outputId": "73abe4cb-a480-4c91-d18b-a0bf573a3cb3"
      },
      "outputs": [
        {
          "output_type": "execute_result",
          "data": {
            "text/plain": [
              "False"
            ]
          },
          "metadata": {},
          "execution_count": 21
        }
      ],
      "source": [
        "20 < 20"
      ]
    },
    {
      "cell_type": "code",
      "execution_count": 22,
      "metadata": {
        "colab": {
          "base_uri": "https://localhost:8080/"
        },
        "id": "aDz06-CMZzPg",
        "outputId": "390cd4d3-6ab3-4d8b-f36b-6c36c65f7d4b"
      },
      "outputs": [
        {
          "output_type": "execute_result",
          "data": {
            "text/plain": [
              "False"
            ]
          },
          "metadata": {},
          "execution_count": 22
        }
      ],
      "source": [
        "10 >= 20"
      ]
    },
    {
      "cell_type": "code",
      "execution_count": 23,
      "metadata": {
        "colab": {
          "base_uri": "https://localhost:8080/"
        },
        "id": "aqUAsJNXZzPg",
        "outputId": "b52c7261-ba2b-47b6-ea21-e5a6547364b0"
      },
      "outputs": [
        {
          "output_type": "execute_result",
          "data": {
            "text/plain": [
              "True"
            ]
          },
          "metadata": {},
          "execution_count": 23
        }
      ],
      "source": [
        "2 + 3 < 6"
      ]
    },
    {
      "cell_type": "code",
      "execution_count": 24,
      "metadata": {
        "colab": {
          "base_uri": "https://localhost:8080/"
        },
        "id": "D5iK3UPTZzPh",
        "outputId": "155994dd-ca7c-4e47-8d78-981ed2d381e4"
      },
      "outputs": [
        {
          "output_type": "execute_result",
          "data": {
            "text/plain": [
              "True"
            ]
          },
          "metadata": {},
          "execution_count": 24
        }
      ],
      "source": [
        "(2 + 3) < 6"
      ]
    },
    {
      "cell_type": "code",
      "execution_count": 25,
      "metadata": {
        "colab": {
          "base_uri": "https://localhost:8080/"
        },
        "id": "q0Mb9o9DZzPh",
        "outputId": "e8b084d0-e142-42cd-e5ab-a932b9f410eb"
      },
      "outputs": [
        {
          "output_type": "execute_result",
          "data": {
            "text/plain": [
              "True"
            ]
          },
          "metadata": {},
          "execution_count": 25
        }
      ],
      "source": [
        "8 + 5 > 10 + 2"
      ]
    },
    {
      "cell_type": "code",
      "execution_count": 26,
      "metadata": {
        "colab": {
          "base_uri": "https://localhost:8080/"
        },
        "id": "NR17j8brZzPh",
        "outputId": "72ef25cb-8f74-4642-f4a0-2ad24f41fa5d"
      },
      "outputs": [
        {
          "output_type": "execute_result",
          "data": {
            "text/plain": [
              "True"
            ]
          },
          "metadata": {},
          "execution_count": 26
        }
      ],
      "source": [
        "8 + 5 == 10 + 3"
      ]
    },
    {
      "cell_type": "code",
      "execution_count": 27,
      "metadata": {
        "colab": {
          "base_uri": "https://localhost:8080/"
        },
        "id": "zVPlBI2QZzPh",
        "outputId": "c9d14991-a788-4684-97f6-b57257202a93"
      },
      "outputs": [
        {
          "output_type": "execute_result",
          "data": {
            "text/plain": [
              "False"
            ]
          },
          "metadata": {},
          "execution_count": 27
        }
      ],
      "source": [
        "2 * 5 > 10 "
      ]
    },
    {
      "cell_type": "code",
      "execution_count": 28,
      "metadata": {
        "colab": {
          "base_uri": "https://localhost:8080/"
        },
        "id": "mQHUY8ryZzPh",
        "outputId": "34db778d-4f13-4425-e1f2-1be7b1d0ac3a"
      },
      "outputs": [
        {
          "output_type": "execute_result",
          "data": {
            "text/plain": [
              "True"
            ]
          },
          "metadata": {},
          "execution_count": 28
        }
      ],
      "source": [
        "2 * 5 >= 10 "
      ]
    },
    {
      "cell_type": "code",
      "execution_count": 29,
      "metadata": {
        "colab": {
          "base_uri": "https://localhost:8080/"
        },
        "id": "r50hcIojZzPh",
        "outputId": "adbbdf2c-f6d2-48d2-b8fd-f53f6b6a5d3c"
      },
      "outputs": [
        {
          "output_type": "execute_result",
          "data": {
            "text/plain": [
              "False"
            ]
          },
          "metadata": {},
          "execution_count": 29
        }
      ],
      "source": [
        "40 % 3 == 0"
      ]
    },
    {
      "cell_type": "code",
      "execution_count": 30,
      "metadata": {
        "colab": {
          "base_uri": "https://localhost:8080/"
        },
        "id": "zKHB8iVZZzPi",
        "outputId": "07942a56-428a-4557-a7b0-b1c14849850f"
      },
      "outputs": [
        {
          "output_type": "execute_result",
          "data": {
            "text/plain": [
              "True"
            ]
          },
          "metadata": {},
          "execution_count": 30
        }
      ],
      "source": [
        "40 % 2 == 0"
      ]
    },
    {
      "cell_type": "code",
      "execution_count": 31,
      "metadata": {
        "colab": {
          "base_uri": "https://localhost:8080/"
        },
        "id": "gJfiNq3iZzPi",
        "outputId": "83457e3d-e4e5-48b6-8991-90137ed4e164"
      },
      "outputs": [
        {
          "output_type": "execute_result",
          "data": {
            "text/plain": [
              "True"
            ]
          },
          "metadata": {},
          "execution_count": 31
        }
      ],
      "source": [
        "0 == 40 % 2 "
      ]
    },
    {
      "cell_type": "code",
      "execution_count": 32,
      "metadata": {
        "colab": {
          "base_uri": "https://localhost:8080/"
        },
        "id": "L6HSjKEKZzPi",
        "outputId": "5c039b97-6a63-426f-9af8-8bb48dad29e9"
      },
      "outputs": [
        {
          "output_type": "execute_result",
          "data": {
            "text/plain": [
              "True"
            ]
          },
          "metadata": {},
          "execution_count": 32
        }
      ],
      "source": [
        "5 > 3 and 4 < 6"
      ]
    },
    {
      "cell_type": "code",
      "execution_count": 33,
      "metadata": {
        "colab": {
          "base_uri": "https://localhost:8080/"
        },
        "id": "1P6YyBfDZzPi",
        "outputId": "70edc03e-f532-460d-c53c-5df04a5e5cbc"
      },
      "outputs": [
        {
          "output_type": "execute_result",
          "data": {
            "text/plain": [
              "True"
            ]
          },
          "metadata": {},
          "execution_count": 33
        }
      ],
      "source": [
        "(5 > 3) and (4 < 6)"
      ]
    },
    {
      "cell_type": "code",
      "execution_count": 34,
      "metadata": {
        "colab": {
          "base_uri": "https://localhost:8080/"
        },
        "id": "ZQ261a6aZzPi",
        "outputId": "aef724f8-c875-431a-fe37-d2e2c5077d08"
      },
      "outputs": [
        {
          "output_type": "execute_result",
          "data": {
            "text/plain": [
              "False"
            ]
          },
          "metadata": {},
          "execution_count": 34
        }
      ],
      "source": [
        "5 > 3 and 4 < 2"
      ]
    },
    {
      "cell_type": "code",
      "execution_count": 36,
      "metadata": {
        "colab": {
          "base_uri": "https://localhost:8080/"
        },
        "id": "fTzc6AnMZzPi",
        "outputId": "002448ea-ad5f-4da9-c974-fd2f81f4a840"
      },
      "outputs": [
        {
          "output_type": "execute_result",
          "data": {
            "text/plain": [
              "False"
            ]
          },
          "metadata": {},
          "execution_count": 36
        }
      ],
      "source": [
        "10 == 10 == True"
      ]
    },
    {
      "cell_type": "code",
      "execution_count": 35,
      "metadata": {
        "colab": {
          "base_uri": "https://localhost:8080/"
        },
        "id": "i9WLPRhVZzPi",
        "outputId": "4bbda1c6-056f-4a81-8b22-6123156a3a3e"
      },
      "outputs": [
        {
          "output_type": "execute_result",
          "data": {
            "text/plain": [
              "False"
            ]
          },
          "metadata": {},
          "execution_count": 35
        }
      ],
      "source": [
        "10 == 10 and 10 == True"
      ]
    },
    {
      "cell_type": "code",
      "execution_count": 37,
      "metadata": {
        "colab": {
          "base_uri": "https://localhost:8080/"
        },
        "id": "wIrb0pVBZzPi",
        "outputId": "a6e8b3e7-7718-4a45-b34a-3db69a6c4f9d"
      },
      "outputs": [
        {
          "output_type": "execute_result",
          "data": {
            "text/plain": [
              "True"
            ]
          },
          "metadata": {},
          "execution_count": 37
        }
      ],
      "source": [
        "(10 == 10) == True"
      ]
    },
    {
      "cell_type": "code",
      "execution_count": 38,
      "metadata": {
        "colab": {
          "base_uri": "https://localhost:8080/"
        },
        "id": "7JTuGu7uZzPj",
        "outputId": "942b2f8c-12c0-4f58-a4fa-b8cf79f5b12d"
      },
      "outputs": [
        {
          "output_type": "execute_result",
          "data": {
            "text/plain": [
              "True"
            ]
          },
          "metadata": {},
          "execution_count": 38
        }
      ],
      "source": [
        "5 > 3 or 4 < 2"
      ]
    },
    {
      "cell_type": "code",
      "execution_count": 39,
      "metadata": {
        "colab": {
          "base_uri": "https://localhost:8080/"
        },
        "id": "5rH7oTaUZzPj",
        "outputId": "deb391ab-e2a0-476c-e503-00999d4f8573"
      },
      "outputs": [
        {
          "output_type": "execute_result",
          "data": {
            "text/plain": [
              "True"
            ]
          },
          "metadata": {},
          "execution_count": 39
        }
      ],
      "source": [
        "5 > 3 or 4 < 6"
      ]
    },
    {
      "cell_type": "code",
      "execution_count": 40,
      "metadata": {
        "colab": {
          "base_uri": "https://localhost:8080/"
        },
        "id": "rOpj2S5BZzPj",
        "outputId": "bbb4243a-885d-442b-da39-d42a4a4096b5"
      },
      "outputs": [
        {
          "output_type": "execute_result",
          "data": {
            "text/plain": [
              "False"
            ]
          },
          "metadata": {},
          "execution_count": 40
        }
      ],
      "source": [
        "5 > 6 or 4 < 2"
      ]
    },
    {
      "cell_type": "code",
      "execution_count": 41,
      "metadata": {
        "colab": {
          "base_uri": "https://localhost:8080/"
        },
        "id": "K-OqE2xYZzPj",
        "outputId": "1e97794b-17f8-4f1c-a4fe-dbeae10d3357"
      },
      "outputs": [
        {
          "output_type": "execute_result",
          "data": {
            "text/plain": [
              "True"
            ]
          },
          "metadata": {},
          "execution_count": 41
        }
      ],
      "source": [
        "not(5 > 3 and 4 < 2)"
      ]
    },
    {
      "cell_type": "code",
      "execution_count": 42,
      "metadata": {
        "colab": {
          "base_uri": "https://localhost:8080/"
        },
        "id": "LUCvqJwOZzPj",
        "outputId": "9f4b82f5-f125-49ff-f496-dd3b3f60b02d"
      },
      "outputs": [
        {
          "output_type": "execute_result",
          "data": {
            "text/plain": [
              "False"
            ]
          },
          "metadata": {},
          "execution_count": 42
        }
      ],
      "source": [
        "not(5 > 3 or 4 < 6)"
      ]
    },
    {
      "cell_type": "code",
      "execution_count": null,
      "metadata": {
        "id": "_CME2oR9ZzPj"
      },
      "outputs": [],
      "source": [
        ""
      ]
    },
    {
      "cell_type": "code",
      "execution_count": null,
      "metadata": {
        "id": "Wi4PCT1XZzPj"
      },
      "outputs": [],
      "source": [
        ""
      ]
    },
    {
      "cell_type": "code",
      "execution_count": null,
      "metadata": {
        "id": "6xNwBUaxZzPj"
      },
      "outputs": [],
      "source": [
        ""
      ]
    },
    {
      "cell_type": "code",
      "execution_count": null,
      "metadata": {
        "id": "PyU7_QhgZzPj"
      },
      "outputs": [],
      "source": [
        ""
      ]
    },
    {
      "cell_type": "code",
      "execution_count": 43,
      "metadata": {
        "colab": {
          "base_uri": "https://localhost:8080/"
        },
        "id": "sOpCvkeeZzPj",
        "outputId": "ab34308a-5f03-4192-ebd0-88fdb82d172a"
      },
      "outputs": [
        {
          "output_type": "stream",
          "name": "stdout",
          "text": [
            "10 is less than 15\n"
          ]
        }
      ],
      "source": [
        "if 10 < 15:\n",
        "    \n",
        "    print(\"10 is less than 15\")"
      ]
    },
    {
      "cell_type": "code",
      "execution_count": 44,
      "metadata": {
        "colab": {
          "base_uri": "https://localhost:8080/"
        },
        "id": "-3M9E54EZzPk",
        "outputId": "ad38a9f1-e664-4104-872b-e54d9f949ec9"
      },
      "outputs": [
        {
          "output_type": "stream",
          "name": "stdout",
          "text": [
            "46 is greater than 45\n"
          ]
        }
      ],
      "source": [
        "if 46 > 40 + 5:\n",
        "    \n",
        "    print(\"46 is greater than 45\")"
      ]
    },
    {
      "cell_type": "code",
      "execution_count": 45,
      "metadata": {
        "colab": {
          "base_uri": "https://localhost:8080/",
          "height": 131
        },
        "id": "wDDeJZhzZzPk",
        "outputId": "809fa082-cbb3-46a3-afe2-b723048c7f9c"
      },
      "outputs": [
        {
          "output_type": "error",
          "ename": "IndentationError",
          "evalue": "ignored",
          "traceback": [
            "\u001b[0;36m  File \u001b[0;32m\"<ipython-input-45-3d53fbde06da>\"\u001b[0;36m, line \u001b[0;32m3\u001b[0m\n\u001b[0;31m    print(\"46 is greater than 40\")\u001b[0m\n\u001b[0m        ^\u001b[0m\n\u001b[0;31mIndentationError\u001b[0m\u001b[0;31m:\u001b[0m expected an indented block\n"
          ]
        }
      ],
      "source": [
        "if 46 > 40:\n",
        "    \n",
        "print(\"46 is greater than 40\")"
      ]
    },
    {
      "cell_type": "code",
      "execution_count": 46,
      "metadata": {
        "id": "QyVJ5WsvZzPk"
      },
      "outputs": [],
      "source": [
        "x_value = 65\n",
        "\n",
        "y_value = 25"
      ]
    },
    {
      "cell_type": "code",
      "execution_count": 47,
      "metadata": {
        "id": "BRFG-2Y8ZzPk"
      },
      "outputs": [],
      "source": [
        "if x_value < y_value:\n",
        "    \n",
        "    print('Value of x is less than the value of y')"
      ]
    },
    {
      "cell_type": "code",
      "execution_count": 48,
      "metadata": {
        "colab": {
          "base_uri": "https://localhost:8080/"
        },
        "id": "BDyzEX6aZzPk",
        "outputId": "42796742-57dc-424d-c813-7b8b5e34018f"
      },
      "outputs": [
        {
          "output_type": "stream",
          "name": "stdout",
          "text": [
            "Value of x is greater than the value of y\n"
          ]
        }
      ],
      "source": [
        "if x_value > y_value:\n",
        "    \n",
        "    print('Value of x is greater than the value of y')"
      ]
    },
    {
      "cell_type": "code",
      "execution_count": 49,
      "metadata": {
        "id": "EFeUqtawZzPk"
      },
      "outputs": [],
      "source": [
        "my_string = \"Hello python world\""
      ]
    },
    {
      "cell_type": "code",
      "execution_count": 50,
      "metadata": {
        "colab": {
          "base_uri": "https://localhost:8080/"
        },
        "id": "QTO59UK6ZzPk",
        "outputId": "4385be69-a3bb-4b74-ecca-4cc4ae87c371"
      },
      "outputs": [
        {
          "output_type": "stream",
          "name": "stdout",
          "text": [
            "Yes, \"python\" is in my_string\n"
          ]
        }
      ],
      "source": [
        "if \"python\" in my_string:\n",
        "    \n",
        "    print('Yes, \"python\" is in my_string')"
      ]
    },
    {
      "cell_type": "code",
      "execution_count": 51,
      "metadata": {
        "id": "tpDvlXpQZzPl"
      },
      "outputs": [],
      "source": [
        "if \"pythonworld\" in my_string:\n",
        "    \n",
        "    print('Yes, \"python world\" is in my_string')"
      ]
    },
    {
      "cell_type": "code",
      "execution_count": 52,
      "metadata": {
        "colab": {
          "base_uri": "https://localhost:8080/"
        },
        "id": "z98FPSmcZzPl",
        "outputId": "16924f0f-6d59-4df4-fcab-cc66a8833c2d"
      },
      "outputs": [
        {
          "output_type": "stream",
          "name": "stdout",
          "text": [
            "Yes, \"python world\" is in my_string\n"
          ]
        }
      ],
      "source": [
        "if \"python world\" in my_string:\n",
        "    \n",
        "    print('Yes, \"python world\" is in my_string')"
      ]
    },
    {
      "cell_type": "code",
      "execution_count": 53,
      "metadata": {
        "id": "iOu2eIvsZzPl"
      },
      "outputs": [],
      "source": [
        "if \"Python World\" in my_string:\n",
        "    \n",
        "    print('Yes, \"python world\" is in my_string')"
      ]
    },
    {
      "cell_type": "code",
      "execution_count": 54,
      "metadata": {
        "colab": {
          "base_uri": "https://localhost:8080/"
        },
        "id": "PhIl_8ocZzPl",
        "outputId": "1d587a1c-ff67-4aaf-9638-70e80253bac4"
      },
      "outputs": [
        {
          "output_type": "execute_result",
          "data": {
            "text/plain": [
              "['Ayden', 'Gavin', 'Ian', 'Jose', 'Jane']"
            ]
          },
          "metadata": {},
          "execution_count": 54
        }
      ],
      "source": [
        "list_student = [\"Ayden\", \"Gavin\", \"Ian\", \"Jose\", \"Jane\"]\n",
        "\n",
        "list_student"
      ]
    },
    {
      "cell_type": "code",
      "execution_count": 55,
      "metadata": {
        "colab": {
          "base_uri": "https://localhost:8080/"
        },
        "id": "h5JQJMMYZzPl",
        "outputId": "a362cc8a-c1cd-4eaa-e90f-9125cafe8aec"
      },
      "outputs": [
        {
          "output_type": "stream",
          "name": "stdout",
          "text": [
            "Jose is a student\n"
          ]
        }
      ],
      "source": [
        "if \"Jose\" in list_student:\n",
        "    \n",
        "    print(\"Jose is a student\")"
      ]
    },
    {
      "cell_type": "code",
      "execution_count": 56,
      "metadata": {
        "id": "a_qxaB5VZzPl"
      },
      "outputs": [],
      "source": [
        "if \"Eva\" in list_student:\n",
        "    \n",
        "    print(\"Eva is a student\")"
      ]
    },
    {
      "cell_type": "code",
      "execution_count": 57,
      "metadata": {
        "colab": {
          "base_uri": "https://localhost:8080/"
        },
        "id": "_KJpT-WkZzPl",
        "outputId": "623b651d-f069-45fb-a33a-39e3e958e413"
      },
      "outputs": [
        {
          "output_type": "execute_result",
          "data": {
            "text/plain": [
              "('Alice', 'Alexa', 'Robert', 'Bella')"
            ]
          },
          "metadata": {},
          "execution_count": 57
        }
      ],
      "source": [
        "tuple_teachers = (\"Alice\", \"Alexa\", \"Robert\", \"Bella\")\n",
        "\n",
        "tuple_teachers"
      ]
    },
    {
      "cell_type": "code",
      "execution_count": 58,
      "metadata": {
        "colab": {
          "base_uri": "https://localhost:8080/"
        },
        "id": "lABzoZpMZzPm",
        "outputId": "88c7b680-e3a6-4a31-c303-df8643582945"
      },
      "outputs": [
        {
          "output_type": "stream",
          "name": "stdout",
          "text": [
            "Alexa is a teacher\n"
          ]
        }
      ],
      "source": [
        "if \"Alexa\" in tuple_teachers:\n",
        "    \n",
        "    print(\"Alexa is a teacher\")"
      ]
    },
    {
      "cell_type": "code",
      "execution_count": 59,
      "metadata": {
        "colab": {
          "base_uri": "https://localhost:8080/"
        },
        "id": "Iu0glsq-ZzPm",
        "outputId": "6be578b4-e146-4343-da8e-2ce5bb04b0be"
      },
      "outputs": [
        {
          "output_type": "execute_result",
          "data": {
            "text/plain": [
              "{'Ayden': 60, 'Gavin': 85, 'Ian': 76, 'Jane': 82, 'Jose': 70}"
            ]
          },
          "metadata": {},
          "execution_count": 59
        }
      ],
      "source": [
        "student_score = {\"Ayden\":60, \"Gavin\":85, \"Ian\":76, \"Jose\":70, \"Jane\":82}\n",
        "student_score"
      ]
    },
    {
      "cell_type": "code",
      "execution_count": 60,
      "metadata": {
        "colab": {
          "base_uri": "https://localhost:8080/"
        },
        "id": "UJUDwHoyZzPm",
        "outputId": "c2c64b58-cd75-484c-d65e-22eb3f45c13c"
      },
      "outputs": [
        {
          "output_type": "stream",
          "name": "stdout",
          "text": [
            "Ian is in the student_score dictionary\n"
          ]
        }
      ],
      "source": [
        "if \"Ian\" in student_score:\n",
        "    \n",
        "    print(\"Ian is in the student_score dictionary\")"
      ]
    },
    {
      "cell_type": "code",
      "execution_count": 61,
      "metadata": {
        "colab": {
          "base_uri": "https://localhost:8080/"
        },
        "id": "eTupRFObZzPm",
        "outputId": "457f9951-225e-47ea-c3f4-8b76de048b14"
      },
      "outputs": [
        {
          "output_type": "stream",
          "name": "stdout",
          "text": [
            "Jane's score: 82\n"
          ]
        }
      ],
      "source": [
        "if \"Jane\" in student_score:\n",
        "    \n",
        "    print(\"Jane's score:\", student_score[\"Jane\"])"
      ]
    },
    {
      "cell_type": "code",
      "execution_count": 62,
      "metadata": {
        "colab": {
          "base_uri": "https://localhost:8080/"
        },
        "id": "ltKkyrJfZzPm",
        "outputId": "637de93c-e6ea-49d9-9e04-726df85f91da"
      },
      "outputs": [
        {
          "output_type": "stream",
          "name": "stdout",
          "text": [
            "Ayden's score: 60\n"
          ]
        }
      ],
      "source": [
        "if \"Ayden\" in student_score:\n",
        "    \n",
        "    print(\"Ayden's score:\", student_score[\"Ayden\"])"
      ]
    },
    {
      "cell_type": "code",
      "execution_count": 63,
      "metadata": {
        "id": "FMlbcG8hZzPm"
      },
      "outputs": [],
      "source": [
        "a = 60\n",
        "b = 35"
      ]
    },
    {
      "cell_type": "code",
      "execution_count": 64,
      "metadata": {
        "colab": {
          "base_uri": "https://localhost:8080/"
        },
        "id": "r6jjWRk5ZzPm",
        "outputId": "af825619-11c3-4f89-f816-3a491aa8b55f"
      },
      "outputs": [
        {
          "output_type": "stream",
          "name": "stdout",
          "text": [
            "a is greater than b\n"
          ]
        }
      ],
      "source": [
        "if a > b and b < a:\n",
        "    print(\"a is greater than b\")"
      ]
    },
    {
      "cell_type": "code",
      "execution_count": 65,
      "metadata": {
        "id": "RF6DeBsiZzPm"
      },
      "outputs": [],
      "source": [
        "if a > b and b > a:\n",
        "    print(\"a is greater than b\")"
      ]
    },
    {
      "cell_type": "code",
      "execution_count": 66,
      "metadata": {
        "colab": {
          "base_uri": "https://localhost:8080/"
        },
        "id": "s1Vw4ulEZzPm",
        "outputId": "e366f1ea-e8d0-4a40-bbbb-8cd791f77dc8"
      },
      "outputs": [
        {
          "output_type": "stream",
          "name": "stdout",
          "text": [
            "65\n",
            "25\n"
          ]
        }
      ],
      "source": [
        "print(x_value)\n",
        "print(y_value)"
      ]
    },
    {
      "cell_type": "code",
      "execution_count": 67,
      "metadata": {
        "colab": {
          "base_uri": "https://localhost:8080/"
        },
        "id": "eHRnnoJ5ZzPn",
        "outputId": "56cf7b10-7bc9-46bf-8e01-d48bc7d159f2"
      },
      "outputs": [
        {
          "output_type": "execute_result",
          "data": {
            "text/plain": [
              "90"
            ]
          },
          "metadata": {},
          "execution_count": 67
        }
      ],
      "source": [
        "z_value = x_value + y_value\n",
        "z_value"
      ]
    },
    {
      "cell_type": "code",
      "execution_count": 68,
      "metadata": {
        "colab": {
          "base_uri": "https://localhost:8080/"
        },
        "id": "HfigzIrSZzPn",
        "outputId": "5acea8d3-77fe-4d67-b21f-60c9796430e5"
      },
      "outputs": [
        {
          "output_type": "stream",
          "name": "stdout",
          "text": [
            "Both conditions are True\n"
          ]
        }
      ],
      "source": [
        "if x_value > y_value and y_value < z_value:\n",
        "    \n",
        "    print(\"Both conditions are True\")"
      ]
    },
    {
      "cell_type": "code",
      "execution_count": 69,
      "metadata": {
        "colab": {
          "base_uri": "https://localhost:8080/"
        },
        "id": "EnGQ708rZzPn",
        "outputId": "cc92eb0e-d2b2-4914-ce0a-617ef68bb9f3"
      },
      "outputs": [
        {
          "output_type": "execute_result",
          "data": {
            "text/plain": [
              "(60, 35)"
            ]
          },
          "metadata": {},
          "execution_count": 69
        }
      ],
      "source": [
        "a,b"
      ]
    },
    {
      "cell_type": "code",
      "execution_count": 70,
      "metadata": {
        "colab": {
          "base_uri": "https://localhost:8080/"
        },
        "id": "SdKTSQJyZzPn",
        "outputId": "f16e317f-a5f7-4424-80b5-50d892632922"
      },
      "outputs": [
        {
          "output_type": "stream",
          "name": "stdout",
          "text": [
            "At least one of the above conditions is true\n"
          ]
        }
      ],
      "source": [
        "if a > b or b < a:\n",
        "    print(\"At least one of the above conditions is true\")"
      ]
    },
    {
      "cell_type": "code",
      "execution_count": 71,
      "metadata": {
        "id": "6gNvOlaSZzPn"
      },
      "outputs": [],
      "source": [
        "bike_price = 716"
      ]
    },
    {
      "cell_type": "code",
      "execution_count": 72,
      "metadata": {
        "id": "UbqXehyiZzPn"
      },
      "outputs": [],
      "source": [
        "bike_is_electric = False"
      ]
    },
    {
      "cell_type": "code",
      "execution_count": 73,
      "metadata": {
        "colab": {
          "base_uri": "https://localhost:8080/"
        },
        "id": "hMsjwiQFZzPn",
        "outputId": "2d535690-ff6d-41dd-fe90-7b8824252b8b"
      },
      "outputs": [
        {
          "output_type": "stream",
          "name": "stdout",
          "text": [
            "At least one of the above conditions is true\n"
          ]
        }
      ],
      "source": [
        "if bike_price > 500 or bike_is_electric:\n",
        "    print(\"At least one of the above conditions is true\")"
      ]
    },
    {
      "cell_type": "code",
      "execution_count": 74,
      "metadata": {
        "id": "7GbyO7OtZzPo"
      },
      "outputs": [],
      "source": [
        "if bike_price > 1000 or bike_is_electric:\n",
        "    print(\"At least one of the above conditions is true\")"
      ]
    },
    {
      "cell_type": "code",
      "execution_count": 75,
      "metadata": {
        "colab": {
          "base_uri": "https://localhost:8080/"
        },
        "id": "9UEoXVJHZzPo",
        "outputId": "452ea55b-e39d-42d2-8505-0c5850e792ef"
      },
      "outputs": [
        {
          "output_type": "stream",
          "name": "stdout",
          "text": [
            "It's a human-powered bike\n"
          ]
        }
      ],
      "source": [
        "if not bike_is_electric:\n",
        "    print(\"It's a human-powered bike\")"
      ]
    },
    {
      "cell_type": "code",
      "execution_count": 76,
      "metadata": {
        "id": "oJYbg1NbZzPo"
      },
      "outputs": [],
      "source": [
        "x = 45\n",
        "y = 78"
      ]
    },
    {
      "cell_type": "code",
      "execution_count": 77,
      "metadata": {
        "id": "FEAkvGU3ZzPo"
      },
      "outputs": [],
      "source": [
        "if not (x < y):\n",
        "    print(\"x is not less than y\")"
      ]
    },
    {
      "cell_type": "code",
      "execution_count": 78,
      "metadata": {
        "colab": {
          "base_uri": "https://localhost:8080/"
        },
        "id": "nIrVkKHhZzPo",
        "outputId": "794bd715-dc58-4711-fa56-c9fc41b28d78"
      },
      "outputs": [
        {
          "output_type": "stream",
          "name": "stdout",
          "text": [
            "x is not greater than y\n"
          ]
        }
      ],
      "source": [
        "if not (x > y):\n",
        "    print(\"x is not greater than y\")"
      ]
    },
    {
      "cell_type": "code",
      "execution_count": null,
      "metadata": {
        "id": "27y_Xf-pZzPo"
      },
      "outputs": [],
      "source": [
        ""
      ]
    },
    {
      "cell_type": "code",
      "execution_count": null,
      "metadata": {
        "id": "TTFB35CiZzPo"
      },
      "outputs": [],
      "source": [
        ""
      ]
    },
    {
      "cell_type": "code",
      "execution_count": null,
      "metadata": {
        "id": "nfVNyRU4ZzPt"
      },
      "outputs": [],
      "source": [
        ""
      ]
    },
    {
      "cell_type": "code",
      "execution_count": 79,
      "metadata": {
        "colab": {
          "base_uri": "https://localhost:8080/"
        },
        "id": "9IJDcMuIZzPt",
        "outputId": "c47af74e-5845-4498-ae89-7b7757a90df4"
      },
      "outputs": [
        {
          "output_type": "stream",
          "name": "stdout",
          "text": [
            "10 is less than 20\n",
            "else block activated\n"
          ]
        }
      ],
      "source": [
        "if 10 > 20:\n",
        "    print(\"10 is greater than 20\")\n",
        "    print(\"if block activated\")\n",
        "    \n",
        "else:\n",
        "    print(\"10 is less than 20\")\n",
        "    print(\"else block activated\")"
      ]
    },
    {
      "cell_type": "code",
      "execution_count": 80,
      "metadata": {
        "colab": {
          "base_uri": "https://localhost:8080/"
        },
        "id": "cqDzOHcrZzPt",
        "outputId": "628c7c5b-b445-4339-8ef9-e7a7c5a58265"
      },
      "outputs": [
        {
          "output_type": "execute_result",
          "data": {
            "text/plain": [
              "7160"
            ]
          },
          "metadata": {},
          "execution_count": 80
        }
      ],
      "source": [
        "bike_price = 7160\n",
        "bike_price"
      ]
    },
    {
      "cell_type": "code",
      "execution_count": 81,
      "metadata": {
        "colab": {
          "base_uri": "https://localhost:8080/"
        },
        "id": "P3Zu-JOHZzPt",
        "outputId": "985ba3b5-dd87-42c2-9a99-e68f3a26a031"
      },
      "outputs": [
        {
          "output_type": "stream",
          "name": "stdout",
          "text": [
            "It's a cheap bike\n",
            "if block activated\n"
          ]
        }
      ],
      "source": [
        "if bike_price <= 8000:\n",
        "    print(\"It's a cheap bike\")\n",
        "    print(\"if block activated\")\n",
        "    \n",
        "else:\n",
        "    print(\"It's an expensive bike\")\n",
        "    print(\"else block activated\")"
      ]
    },
    {
      "cell_type": "code",
      "execution_count": 82,
      "metadata": {
        "colab": {
          "base_uri": "https://localhost:8080/",
          "height": 131
        },
        "id": "ElhhJIExZzPu",
        "outputId": "736585df-6c6f-461d-ccb6-afc1c011d274"
      },
      "outputs": [
        {
          "output_type": "error",
          "ename": "SyntaxError",
          "evalue": "ignored",
          "traceback": [
            "\u001b[0;36m  File \u001b[0;32m\"<ipython-input-82-2fa0f571119d>\"\u001b[0;36m, line \u001b[0;32m6\u001b[0m\n\u001b[0;31m    else:\u001b[0m\n\u001b[0m       ^\u001b[0m\n\u001b[0;31mSyntaxError\u001b[0m\u001b[0;31m:\u001b[0m invalid syntax\n"
          ]
        }
      ],
      "source": [
        "bike_price = 9000\n",
        "\n",
        "if bike_price <= 8000:\n",
        "    print(\"It's a cheap bike\")\n",
        "    \n",
        "    else:\n",
        "        print(\"It's an expensive bike\")"
      ]
    },
    {
      "cell_type": "code",
      "execution_count": 83,
      "metadata": {
        "colab": {
          "base_uri": "https://localhost:8080/"
        },
        "id": "xhX3OJeYZzPu",
        "outputId": "6335b626-c3c8-421e-d2f9-8abc4c6cb97b"
      },
      "outputs": [
        {
          "output_type": "stream",
          "name": "stdout",
          "text": [
            "It's an expensive bike\n"
          ]
        }
      ],
      "source": [
        "bike_price = 9000\n",
        "\n",
        "if bike_price <= 8000:\n",
        "    print(\"It's a cheap bike\")\n",
        "    \n",
        "else:\n",
        "    print(\"It's an expensive bike\")"
      ]
    },
    {
      "cell_type": "code",
      "execution_count": 84,
      "metadata": {
        "colab": {
          "base_uri": "https://localhost:8080/"
        },
        "id": "7WeGhBZcZzPu",
        "outputId": "1e377231-c6f9-4912-8d6d-a2499509014e"
      },
      "outputs": [
        {
          "output_type": "stream",
          "name": "stdout",
          "text": [
            "num before expression:  50\n",
            "num after expression:  30\n"
          ]
        }
      ],
      "source": [
        "num = 50\n",
        "print(\"num before expression: \", num)\n",
        "\n",
        "num = num - 20 if num > 20 else num + 20\n",
        "\n",
        "print(\"num after expression: \", num)"
      ]
    },
    {
      "cell_type": "code",
      "execution_count": 85,
      "metadata": {
        "colab": {
          "base_uri": "https://localhost:8080/"
        },
        "id": "u4Boyh-mZzPu",
        "outputId": "bbd7fe6f-ecb6-4f02-c3c3-7622c1639720"
      },
      "outputs": [
        {
          "output_type": "stream",
          "name": "stdout",
          "text": [
            "num before expression:  50\n",
            "num after expression:  30\n"
          ]
        }
      ],
      "source": [
        "num = 50\n",
        "print(\"num before expression: \", num)\n",
        "\n",
        "if num > 20:\n",
        "    num = num - 20\n",
        "else:\n",
        "    num = num + 20\n",
        "\n",
        "print(\"num after expression: \", num)"
      ]
    },
    {
      "cell_type": "code",
      "execution_count": 86,
      "metadata": {
        "colab": {
          "base_uri": "https://localhost:8080/"
        },
        "id": "whyW9ZdJZzPu",
        "outputId": "1bb5a16d-934b-4323-a70d-ea0ba014ba20"
      },
      "outputs": [
        {
          "output_type": "stream",
          "name": "stdout",
          "text": [
            "Number before expression :  100\n",
            "Number after expression :  500\n"
          ]
        }
      ],
      "source": [
        "num = 100\n",
        "print(\"Number before expression : \", num)\n",
        "\n",
        "result = num / 5 if num < 50 else num * 5\n",
        "\n",
        "print(\"Number after expression : \", result)"
      ]
    },
    {
      "cell_type": "code",
      "execution_count": 87,
      "metadata": {
        "colab": {
          "base_uri": "https://localhost:8080/"
        },
        "id": "GALa4F9jZzPu",
        "outputId": "70db2fbe-f306-48f4-8d07-a6f6c55c2840"
      },
      "outputs": [
        {
          "output_type": "stream",
          "name": "stdout",
          "text": [
            "15 is less than 20\n",
            "elif block activated\n"
          ]
        }
      ],
      "source": [
        "if 15 > 20:\n",
        "    print(\"15 is greater than 20\")\n",
        "    print(\"if block activated\")\n",
        "    \n",
        "elif 15 < 20:\n",
        "    print(\"15 is less than 20\")\n",
        "    print(\"elif block activated\")\n",
        "    \n",
        "else:\n",
        "    print(\"Both are equal\")\n",
        "    print(\"else block activated\")"
      ]
    },
    {
      "cell_type": "code",
      "execution_count": 88,
      "metadata": {
        "colab": {
          "base_uri": "https://localhost:8080/"
        },
        "id": "0Z1ZH4WTZzPv",
        "outputId": "63d0dfd5-a629-433c-9f7e-86efc502dc4f"
      },
      "outputs": [
        {
          "output_type": "stream",
          "name": "stdout",
          "text": [
            "a and b are equal\n",
            "elif block activated\n"
          ]
        }
      ],
      "source": [
        "a = 45\n",
        "b = 45\n",
        "\n",
        "if b > a:\n",
        "    print(\"b is greater than a\")\n",
        "    print(\"if block activated\")\n",
        "    \n",
        "elif a == b:\n",
        "    print(\"a and b are equal\")\n",
        "    print(\"elif block activated\")\n",
        "    \n",
        "else:\n",
        "    print(\"a is greater than b\")\n",
        "    print(\"else block activated\")    "
      ]
    },
    {
      "cell_type": "code",
      "execution_count": 89,
      "metadata": {
        "id": "dfTV--0AZzPv"
      },
      "outputs": [],
      "source": [
        "bike_price = 20000"
      ]
    },
    {
      "cell_type": "code",
      "execution_count": 90,
      "metadata": {
        "id": "V_PKqZjAZzPv"
      },
      "outputs": [],
      "source": [
        "if bike_price < 6000:\n",
        "    print(\"It's a cheap bike\")\n",
        "    \n",
        "elif bike_price >= 6000 and bike_price < 10000:\n",
        "    print(\"It's a moderately priced bike\")\n",
        "    \n",
        "elif bike_price >= 10000 and bike_price < 15000:\n",
        "    print(\"It's a somewhat expensive bike\")"
      ]
    },
    {
      "cell_type": "code",
      "execution_count": 91,
      "metadata": {
        "colab": {
          "base_uri": "https://localhost:8080/"
        },
        "id": "2kZ2YMygZzPv",
        "outputId": "cac1c06c-6284-4f3f-e4a4-82ab4b7a5236"
      },
      "outputs": [
        {
          "output_type": "stream",
          "name": "stdout",
          "text": [
            "It's a somewhat expensive bike\n"
          ]
        }
      ],
      "source": [
        "if bike_price < 6000:\n",
        "    print(\"It's a cheap bike\")\n",
        "    \n",
        "elif bike_price >= 6000 and bike_price < 10000:\n",
        "    print(\"It's a moderately priced bike\")\n",
        "    \n",
        "elif bike_price >= 10000:\n",
        "    print(\"It's a somewhat expensive bike\")\n",
        "    \n",
        "elif bike_price >= 20000:\n",
        "    print(\"It's a very expensive bike\")"
      ]
    },
    {
      "cell_type": "code",
      "execution_count": 92,
      "metadata": {
        "id": "2pCcbJC0ZzPv"
      },
      "outputs": [],
      "source": [
        "x = 25\n",
        "y = 35\n",
        "z = 45"
      ]
    },
    {
      "cell_type": "code",
      "execution_count": 93,
      "metadata": {
        "colab": {
          "base_uri": "https://localhost:8080/"
        },
        "id": "ORjxov4TZzPv",
        "outputId": "a8231f06-6e92-4ed0-aeff-fe8566422a24"
      },
      "outputs": [
        {
          "output_type": "stream",
          "name": "stdout",
          "text": [
            "The first condition is true\n",
            "Both conditions are true\n"
          ]
        }
      ],
      "source": [
        "if x < y:\n",
        "    print(\"The first condition is true\")\n",
        "    \n",
        "    if x < z:\n",
        "        print(\"Both conditions are true\")\n",
        "        \n",
        "    else:\n",
        "        print(\"The first condition is true, the second one is false\")"
      ]
    },
    {
      "cell_type": "code",
      "execution_count": 94,
      "metadata": {
        "colab": {
          "base_uri": "https://localhost:8080/"
        },
        "id": "n37kzeqFZzPv",
        "outputId": "fe933d6b-8308-40b2-8526-7cc93324c76b"
      },
      "outputs": [
        {
          "output_type": "stream",
          "name": "stdout",
          "text": [
            "The first condition is false\n"
          ]
        }
      ],
      "source": [
        "x = 55\n",
        "\n",
        "if x < y:\n",
        "    print(\"The first condition is true\")\n",
        "    \n",
        "    if x < z:\n",
        "        print(\"Both conditions are true\")\n",
        "        \n",
        "    else:\n",
        "        print(\"The first condition is true, the second one is false\")\n",
        "        \n",
        "else:\n",
        "    print(\"The first condition is false\")"
      ]
    },
    {
      "cell_type": "code",
      "execution_count": 95,
      "metadata": {
        "colab": {
          "base_uri": "https://localhost:8080/"
        },
        "id": "uccU5ZpXZzPv",
        "outputId": "ff018a6e-434f-4d8b-d269-2194fb69b4b2"
      },
      "outputs": [
        {
          "output_type": "stream",
          "name": "stdout",
          "text": [
            "Enter your age: 21\n",
            "You are too old for this camping trip!\n"
          ]
        }
      ],
      "source": [
        "age = int(input(\"Enter your age: \"))\n",
        "\n",
        "if age >= 15:\n",
        "    \n",
        "    if age > 20:\n",
        "        print(\"You are too old for this camping trip!\")\n",
        "        \n",
        "    else:\n",
        "        print(\"You are of the right age for this camping trip!\")\n",
        "        \n",
        "else:\n",
        "    print(\"You are too young for this camping trip!\")"
      ]
    },
    {
      "cell_type": "code",
      "execution_count": 96,
      "metadata": {
        "colab": {
          "base_uri": "https://localhost:8080/"
        },
        "id": "IVhal4dGZzPv",
        "outputId": "86af9801-0375-40ab-b6d3-cce5893ecdc4"
      },
      "outputs": [
        {
          "output_type": "stream",
          "name": "stdout",
          "text": [
            "What is the total amount of your online shopping? 80\n",
            "USA or Canada? USA\n",
            "Shipping Cost is $6.00\n"
          ]
        }
      ],
      "source": [
        "total = int(input(\"What is the total amount of your online shopping? \"))\n",
        "country = input(\"USA or Canada? \")\n",
        "\n",
        "if country == \"USA\":\n",
        "    if total <= 50:\n",
        "        print (\"Shipping Cost is $9.00\")\n",
        "        \n",
        "    elif total <= 100:\n",
        "        print (\"Shipping Cost is $6.00\")\n",
        "        \n",
        "    else:\n",
        "        print (\"Shipping is FREE\")\n",
        "        \n",
        "if country == \"Canada\":\n",
        "    if total <= 50:\n",
        "        print (\"Shipping Cost is $12.00\")\n",
        "        \n",
        "    elif total <= 100:\n",
        "        print (\"Shipping Cost is $8.00\")\n",
        "   \n",
        "    else:\n",
        "        print (\" Shipping is FREE\")"
      ]
    },
    {
      "cell_type": "code",
      "execution_count": null,
      "metadata": {
        "id": "OHAzWqaXZzPw"
      },
      "outputs": [],
      "source": [
        ""
      ]
    },
    {
      "cell_type": "code",
      "execution_count": null,
      "metadata": {
        "id": "7YAfB8fqZzPw"
      },
      "outputs": [],
      "source": [
        ""
      ]
    },
    {
      "cell_type": "code",
      "execution_count": null,
      "metadata": {
        "id": "H-rrDim7ZzPy"
      },
      "outputs": [],
      "source": [
        ""
      ]
    },
    {
      "cell_type": "code",
      "execution_count": 97,
      "metadata": {
        "id": "uwQiy9ZQZzPy"
      },
      "outputs": [],
      "source": [
        "fruit_list = [\"apple\", \"orange\", \"grape\", \"banana\", \"avocado\"]"
      ]
    },
    {
      "cell_type": "code",
      "execution_count": 98,
      "metadata": {
        "colab": {
          "base_uri": "https://localhost:8080/"
        },
        "id": "1vDG5OkDZzPy",
        "outputId": "e46e898a-0b55-432b-e1ba-8c48cd2f4aa2"
      },
      "outputs": [
        {
          "output_type": "stream",
          "name": "stdout",
          "text": [
            "Yes, grape is in the fruit list\n"
          ]
        }
      ],
      "source": [
        "if \"grape\" in fruit_list:\n",
        "    print(\"Yes, grape is in the fruit list\")\n",
        "    \n",
        "else:\n",
        "    print(\"No, grape is not in the fruit list\")"
      ]
    },
    {
      "cell_type": "code",
      "execution_count": 99,
      "metadata": {
        "colab": {
          "base_uri": "https://localhost:8080/"
        },
        "id": "6qRvGP4XZzPz",
        "outputId": "df625bd8-9637-43ec-d5e6-354569ae8328"
      },
      "outputs": [
        {
          "output_type": "stream",
          "name": "stdout",
          "text": [
            "orange is in the fruit list\n"
          ]
        }
      ],
      "source": [
        "if \"strawberry\" in fruit_list:\n",
        "    print(\"strawberry is in the fruit list\")\n",
        "    \n",
        "elif \"orange\" in fruit_list:\n",
        "    print(\"orange is in the fruit list\")\n",
        "    \n",
        "else:\n",
        "    print(\"Both strawberry and orange are not in the fruit list\")"
      ]
    },
    {
      "cell_type": "code",
      "execution_count": 100,
      "metadata": {
        "colab": {
          "base_uri": "https://localhost:8080/"
        },
        "id": "dvnMhUwFZzPz",
        "outputId": "b59a44e6-5b5e-40bb-d8a9-5d7fd84d9f0a"
      },
      "outputs": [
        {
          "output_type": "stream",
          "name": "stdout",
          "text": [
            "True\n"
          ]
        }
      ],
      "source": [
        "if fruit_list[1] == \"orange\":\n",
        "    print(\"True\")\n",
        "    \n",
        "else:\n",
        "    print(\"False\")"
      ]
    },
    {
      "cell_type": "code",
      "execution_count": 101,
      "metadata": {
        "colab": {
          "base_uri": "https://localhost:8080/"
        },
        "id": "BwRdeJMkZzPz",
        "outputId": "0be53395-c15f-456d-a899-f8d4d7bfbb87"
      },
      "outputs": [
        {
          "output_type": "stream",
          "name": "stdout",
          "text": [
            "Yes, avocado is at the fourth index\n",
            "Replacing avocado with strawberry at the fourth index\n",
            "['apple', 'orange', 'grape', 'banana', 'strawberry']\n"
          ]
        }
      ],
      "source": [
        "if fruit_list[4] == \"avocado\":\n",
        "    \n",
        "    print(\"Yes, avocado is at the fourth index\")\n",
        "    print(\"Replacing avocado with strawberry at the fourth index\")\n",
        "    \n",
        "    fruit_list[4] = \"strawberry\"\n",
        "    print(fruit_list)\n",
        "    \n",
        "else:\n",
        "    print(\"avocado is not at the fourth index\")"
      ]
    },
    {
      "cell_type": "code",
      "execution_count": 102,
      "metadata": {
        "id": "lp9G4BnCZzPz"
      },
      "outputs": [],
      "source": [
        "car_tuple = ('Toyota Camry', 'Honda Accord', 'Honda Civic', 'Toyota Corolla')"
      ]
    },
    {
      "cell_type": "code",
      "execution_count": 103,
      "metadata": {
        "colab": {
          "base_uri": "https://localhost:8080/"
        },
        "id": "KLIcniC0ZzPz",
        "outputId": "e9f7e5a8-7abc-4f0b-aea8-d0e52ff328b3"
      },
      "outputs": [
        {
          "output_type": "stream",
          "name": "stdout",
          "text": [
            "Honda Accord is present in our car tuple\n"
          ]
        }
      ],
      "source": [
        "if \"Honda Accord\" in car_tuple:\n",
        "    print(\"Honda Accord is present in our car tuple\")\n",
        "    \n",
        "else:\n",
        "    print(\"Honda Accord is not present in our car tuple\")"
      ]
    },
    {
      "cell_type": "code",
      "execution_count": 104,
      "metadata": {
        "colab": {
          "base_uri": "https://localhost:8080/"
        },
        "id": "qkdan_ewZzPz",
        "outputId": "a719b353-ae16-4dcd-d6d3-1a314df9f315"
      },
      "outputs": [
        {
          "output_type": "stream",
          "name": "stdout",
          "text": [
            "Ducati Monster is not a car\n"
          ]
        }
      ],
      "source": [
        "if \"Ducati Monster\" in car_tuple:\n",
        "    print(\"Ducati Monster is a car\")\n",
        "    \n",
        "else:\n",
        "    print(\"Ducati Monster is not a car\")"
      ]
    },
    {
      "cell_type": "code",
      "execution_count": 105,
      "metadata": {
        "colab": {
          "base_uri": "https://localhost:8080/"
        },
        "id": "o2eiG7J2ZzP0",
        "outputId": "0ba02b0a-c601-4fab-f8b2-a852effbfa56"
      },
      "outputs": [
        {
          "output_type": "stream",
          "name": "stdout",
          "text": [
            "At least one of Ducati Monster and Honda Accord is not a car\n"
          ]
        }
      ],
      "source": [
        "if \"Ducati Monster\" in car_tuple and 'Honda Accord' in car_tuple:\n",
        "    \n",
        "    print(\"Ducati Monster and Honda Accord are both cars\")\n",
        "    \n",
        "else:\n",
        "    print(\"At least one of Ducati Monster and Honda Accord is not a car\")"
      ]
    },
    {
      "cell_type": "code",
      "execution_count": 106,
      "metadata": {
        "colab": {
          "base_uri": "https://localhost:8080/"
        },
        "id": "_A7WNvy8ZzP0",
        "outputId": "416d8b2d-91d7-4b74-b543-b6edc03541f7"
      },
      "outputs": [
        {
          "output_type": "stream",
          "name": "stdout",
          "text": [
            "At least one of Ducati Monster and Honda Accord is a car\n"
          ]
        }
      ],
      "source": [
        "if \"Ducati Monster\" in car_tuple or 'Honda Accord' in car_tuple:\n",
        "    print(\"At least one of Ducati Monster and Honda Accord is a car\")\n",
        "    \n",
        "else:\n",
        "    print(\"Neither Ducati Monster nor Honda Accord is a car\")"
      ]
    },
    {
      "cell_type": "code",
      "execution_count": 107,
      "metadata": {
        "id": "4OYLAgz6ZzP0"
      },
      "outputs": [],
      "source": [
        "salary_details = {\"Lisa\":25000,\n",
        "                  \"Jason\":45000,\n",
        "                  \"Cooper\":35000,\n",
        "                  \"Elias\":23000,\n",
        "                  \"Jordan\":77000}"
      ]
    },
    {
      "cell_type": "code",
      "execution_count": 108,
      "metadata": {
        "colab": {
          "base_uri": "https://localhost:8080/"
        },
        "id": "DZ-_f41OZzP0",
        "outputId": "e3c56936-1f84-42aa-ca53-7a9a33ba871e"
      },
      "outputs": [
        {
          "output_type": "execute_result",
          "data": {
            "text/plain": [
              "{'Cooper': 35000,\n",
              " 'Elias': 23000,\n",
              " 'Jason': 45000,\n",
              " 'Jordan': 77000,\n",
              " 'Lisa': 25000}"
            ]
          },
          "metadata": {},
          "execution_count": 108
        }
      ],
      "source": [
        "salary_details"
      ]
    },
    {
      "cell_type": "code",
      "execution_count": 109,
      "metadata": {
        "colab": {
          "base_uri": "https://localhost:8080/"
        },
        "id": "n5zhMuCGZzP0",
        "outputId": "dad172ec-7a0d-4cc8-af7f-fe5797e50668"
      },
      "outputs": [
        {
          "output_type": "stream",
          "name": "stdout",
          "text": [
            "We have the salary details for Lisa\n"
          ]
        }
      ],
      "source": [
        "if \"Lisa\" in salary_details:\n",
        "    print(\"We have the salary details for Lisa\")\n",
        "    \n",
        "else:\n",
        "    print(\"We don't have the salary details for Lisa\") "
      ]
    },
    {
      "cell_type": "code",
      "execution_count": 110,
      "metadata": {
        "colab": {
          "base_uri": "https://localhost:8080/"
        },
        "id": "Zgp06PYjZzP0",
        "outputId": "872e59bd-4a92-4f5b-cce5-02e2912b7589"
      },
      "outputs": [
        {
          "output_type": "stream",
          "name": "stdout",
          "text": [
            "We don't have the salary details for Ruby \n"
          ]
        }
      ],
      "source": [
        "if \"Ruby\" in salary_details:\n",
        "    print(\"We have the salary details for Ruby \")\n",
        "    \n",
        "else:\n",
        "    print(\"We don't have the salary details for Ruby \") "
      ]
    },
    {
      "cell_type": "code",
      "execution_count": 111,
      "metadata": {
        "colab": {
          "base_uri": "https://localhost:8080/"
        },
        "id": "D6EsIISOZzP0",
        "outputId": "7e221605-faca-4c7c-ffad-a1df6969ead0"
      },
      "outputs": [
        {
          "output_type": "stream",
          "name": "stdout",
          "text": [
            "Cora's annual income is 31000\n"
          ]
        }
      ],
      "source": [
        "if \"Cora\" in salary_details:\n",
        "    print(\"We have salary details for Cora\")\n",
        "    \n",
        "else :\n",
        "    salary_details[\"Cora\"] = 31000\n",
        "    print(\"Cora's annual income is %s\"%salary_details[\"Cora\"])"
      ]
    },
    {
      "cell_type": "code",
      "execution_count": 112,
      "metadata": {
        "colab": {
          "base_uri": "https://localhost:8080/"
        },
        "id": "lAaJozLOZzP0",
        "outputId": "48b9e8df-d1ec-40e9-d0ca-c363957ce9f7"
      },
      "outputs": [
        {
          "output_type": "execute_result",
          "data": {
            "text/plain": [
              "{'Cooper': 35000,\n",
              " 'Cora': 31000,\n",
              " 'Elias': 23000,\n",
              " 'Jason': 45000,\n",
              " 'Jordan': 77000,\n",
              " 'Lisa': 25000}"
            ]
          },
          "metadata": {},
          "execution_count": 112
        }
      ],
      "source": [
        "salary_details"
      ]
    },
    {
      "cell_type": "code",
      "execution_count": 113,
      "metadata": {
        "id": "ZZkohFqzZzP0"
      },
      "outputs": [],
      "source": [
        "age_details = {\"Lisa\": 25, \"Jason\": 30, \"Cooper\": 29, \"Sarah\": 22}"
      ]
    },
    {
      "cell_type": "code",
      "execution_count": 114,
      "metadata": {
        "colab": {
          "base_uri": "https://localhost:8080/"
        },
        "id": "ZVPuttxGZzP0",
        "outputId": "e9083b4a-6232-4392-aae0-94f0b17bc34f"
      },
      "outputs": [
        {
          "output_type": "stream",
          "name": "stdout",
          "text": [
            "Jason is older than Lisa\n",
            "Jason is older than Cooper\n",
            "Jason is the oldest person in the given dictionary\n"
          ]
        }
      ],
      "source": [
        "if age_details[\"Lisa\"] < age_details[\"Jason\"]:\n",
        "    \n",
        "    print(\"Jason is older than Lisa\")\n",
        "    \n",
        "    if age_details[\"Jason\"] > age_details[\"Cooper\"]:\n",
        "        \n",
        "        print(\"Jason is older than Cooper\")\n",
        "        \n",
        "        if age_details[\"Cooper\"] < age_details[\"Sarah\"]:\n",
        "\n",
        "             print(\"Cooper is younger than Sarah\")\n",
        "                \n",
        "        elif age_details[\"Cooper\"] > age_details[\"Sarah\"]:\n",
        "\n",
        "             print(\"Jason is the oldest person in the given dictionary\")\n",
        "            \n",
        "else:\n",
        "    print(\"Jason is not the oldest person in the given dictionary\")"
      ]
    },
    {
      "cell_type": "code",
      "execution_count": 115,
      "metadata": {
        "id": "sDfcbGXpZzP1"
      },
      "outputs": [],
      "source": [
        "details = [['Jane', 'Amanda', 'Emma'], \n",
        "           [35, 40, 50], \n",
        "           [20000, 50000, 40000]]"
      ]
    },
    {
      "cell_type": "code",
      "execution_count": 116,
      "metadata": {
        "colab": {
          "base_uri": "https://localhost:8080/"
        },
        "id": "bBZ4XZDxZzP1",
        "outputId": "a8c4a34e-280a-4eba-b99e-6e4fa24f2394"
      },
      "outputs": [
        {
          "output_type": "stream",
          "name": "stdout",
          "text": [
            "Amanda has the highest salary and her age is greater than 30\n"
          ]
        }
      ],
      "source": [
        "max_sal = max(details[2])\n",
        "\n",
        "if (details[2][1] == max_sal):\n",
        "        \n",
        "        if(details[1][1] > 30):\n",
        "            print(details[0][1], \"has the highest salary and her age is greater than 30\")\n",
        "            \n",
        "        elif(details[1][1] == 30):\n",
        "            print(details[0][1],\"has the highest salary and she is 30 years old\")\n",
        "           \n",
        "        else:\n",
        "            print(\"Amanda has the highest salary and her age is less than 30\")\n",
        "else:\n",
        "    print(\"Amanda is not the highest paid employee\")\n",
        "            "
      ]
    },
    {
      "cell_type": "code",
      "execution_count": null,
      "metadata": {
        "id": "6gudNMalZzP1"
      },
      "outputs": [],
      "source": [
        ""
      ]
    },
    {
      "cell_type": "code",
      "execution_count": null,
      "metadata": {
        "id": "8L6XpLbNZzP1"
      },
      "outputs": [],
      "source": [
        ""
      ]
    },
    {
      "cell_type": "code",
      "execution_count": null,
      "metadata": {
        "id": "xZlJdcEcZzP1"
      },
      "outputs": [],
      "source": [
        ""
      ]
    },
    {
      "cell_type": "code",
      "execution_count": 117,
      "metadata": {
        "colab": {
          "base_uri": "https://localhost:8080/"
        },
        "id": "MzWbu6tFZzP1",
        "outputId": "61b58c79-143a-449e-901d-484d3380ae13"
      },
      "outputs": [
        {
          "output_type": "execute_result",
          "data": {
            "text/plain": [
              "int"
            ]
          },
          "metadata": {},
          "execution_count": 117
        }
      ],
      "source": [
        "type(66)"
      ]
    },
    {
      "cell_type": "code",
      "execution_count": 118,
      "metadata": {
        "colab": {
          "base_uri": "https://localhost:8080/"
        },
        "id": "09aDLyv7ZzP1",
        "outputId": "d776d15d-4727-4088-d68c-b0fed46d828e"
      },
      "outputs": [
        {
          "output_type": "execute_result",
          "data": {
            "text/plain": [
              "66.0"
            ]
          },
          "metadata": {},
          "execution_count": 118
        }
      ],
      "source": [
        "float(66)"
      ]
    },
    {
      "cell_type": "code",
      "execution_count": 119,
      "metadata": {
        "colab": {
          "base_uri": "https://localhost:8080/"
        },
        "id": "RUs8mWRPZzP1",
        "outputId": "0a2e7180-580b-47d4-971a-910ee79ff82b"
      },
      "outputs": [
        {
          "output_type": "execute_result",
          "data": {
            "text/plain": [
              "int"
            ]
          },
          "metadata": {},
          "execution_count": 119
        }
      ],
      "source": [
        "a = 66\n",
        "\n",
        "type(a)"
      ]
    },
    {
      "cell_type": "code",
      "execution_count": 120,
      "metadata": {
        "colab": {
          "base_uri": "https://localhost:8080/"
        },
        "id": "hnH29bpqZzP1",
        "outputId": "799e711d-2a68-42ae-e842-e38396209ce7"
      },
      "outputs": [
        {
          "output_type": "execute_result",
          "data": {
            "text/plain": [
              "66.0"
            ]
          },
          "metadata": {},
          "execution_count": 120
        }
      ],
      "source": [
        "my_float = float(a)\n",
        "\n",
        "my_float"
      ]
    },
    {
      "cell_type": "code",
      "execution_count": 121,
      "metadata": {
        "colab": {
          "base_uri": "https://localhost:8080/"
        },
        "id": "722P8ZFTZzP2",
        "outputId": "ba0bd173-8b5c-4d3c-e73a-0ef041d2b322"
      },
      "outputs": [
        {
          "output_type": "execute_result",
          "data": {
            "text/plain": [
              "float"
            ]
          },
          "metadata": {},
          "execution_count": 121
        }
      ],
      "source": [
        "type(my_float)"
      ]
    },
    {
      "cell_type": "code",
      "execution_count": 122,
      "metadata": {
        "colab": {
          "base_uri": "https://localhost:8080/"
        },
        "id": "ul_yfGgWZzP2",
        "outputId": "d93bd1a2-6024-4f20-d5db-682b372e968f"
      },
      "outputs": [
        {
          "output_type": "execute_result",
          "data": {
            "text/plain": [
              "float"
            ]
          },
          "metadata": {},
          "execution_count": 122
        }
      ],
      "source": [
        "type(390.8)"
      ]
    },
    {
      "cell_type": "code",
      "execution_count": 123,
      "metadata": {
        "colab": {
          "base_uri": "https://localhost:8080/"
        },
        "id": "3xt8k-C7ZzP2",
        "outputId": "68b345ee-624d-4552-e6d8-13054d033a2a"
      },
      "outputs": [
        {
          "output_type": "execute_result",
          "data": {
            "text/plain": [
              "390"
            ]
          },
          "metadata": {},
          "execution_count": 123
        }
      ],
      "source": [
        "int(390.8)"
      ]
    },
    {
      "cell_type": "code",
      "execution_count": 124,
      "metadata": {
        "colab": {
          "base_uri": "https://localhost:8080/"
        },
        "id": "y7l8qQWcZzP2",
        "outputId": "5c64c695-51ce-4df9-d2cd-623515f00249"
      },
      "outputs": [
        {
          "output_type": "execute_result",
          "data": {
            "text/plain": [
              "66"
            ]
          },
          "metadata": {},
          "execution_count": 124
        }
      ],
      "source": [
        "b = 66.6\n",
        "\n",
        "my_int = int(b)\n",
        "\n",
        "my_int"
      ]
    },
    {
      "cell_type": "code",
      "execution_count": 125,
      "metadata": {
        "colab": {
          "base_uri": "https://localhost:8080/"
        },
        "id": "OiIXEg-KZzP2",
        "outputId": "32ec50e5-af46-4f09-e6fb-0b7d4f919d67"
      },
      "outputs": [
        {
          "output_type": "execute_result",
          "data": {
            "text/plain": [
              "float"
            ]
          },
          "metadata": {},
          "execution_count": 125
        }
      ],
      "source": [
        "type(b)"
      ]
    },
    {
      "cell_type": "code",
      "execution_count": 126,
      "metadata": {
        "colab": {
          "base_uri": "https://localhost:8080/"
        },
        "id": "zkOJ2TszZzP2",
        "outputId": "fd590179-8b6d-4d25-eca6-71e45170c26c"
      },
      "outputs": [
        {
          "output_type": "execute_result",
          "data": {
            "text/plain": [
              "int"
            ]
          },
          "metadata": {},
          "execution_count": 126
        }
      ],
      "source": [
        "type(my_int)"
      ]
    },
    {
      "cell_type": "code",
      "execution_count": 128,
      "metadata": {
        "colab": {
          "base_uri": "https://localhost:8080/"
        },
        "id": "R5yONphPZzP2",
        "outputId": "ff36a444-f7d8-446e-e9fe-84525630e9db"
      },
      "outputs": [
        {
          "output_type": "stream",
          "name": "stdout",
          "text": [
            "datatype of num_int: <class 'int'>\n",
            "datatype of num_float: <class 'float'>\n"
          ]
        }
      ],
      "source": [
        "num_int = 76\n",
        "num_float = 23.4\n",
        "\n",
        "print(\"datatype of num_int:\", type(num_int))\n",
        "print(\"datatype of num_float:\", type(num_float))"
      ]
    },
    {
      "cell_type": "code",
      "execution_count": 129,
      "metadata": {
        "colab": {
          "base_uri": "https://localhost:8080/"
        },
        "id": "d3jMjGbLZzP2",
        "outputId": "9cc251db-2a20-4f06-f9c3-300c50a9e2bf"
      },
      "outputs": [
        {
          "output_type": "stream",
          "name": "stdout",
          "text": [
            "99.4\n",
            "datatype of new_num is <class 'float'>\n"
          ]
        }
      ],
      "source": [
        "new_num = num_int + num_float\n",
        "\n",
        "print(new_num)\n",
        "print(\"datatype of new_num is\", type(new_num))"
      ]
    },
    {
      "cell_type": "code",
      "execution_count": 130,
      "metadata": {
        "id": "KsvEJi-TZzP2"
      },
      "outputs": [],
      "source": [
        "my_float = 66.999999"
      ]
    },
    {
      "cell_type": "code",
      "execution_count": 131,
      "metadata": {
        "colab": {
          "base_uri": "https://localhost:8080/"
        },
        "id": "-YmBIly4ZzP2",
        "outputId": "3f323892-8786-47bb-a354-f6d0a4a8075b"
      },
      "outputs": [
        {
          "output_type": "execute_result",
          "data": {
            "text/plain": [
              "66"
            ]
          },
          "metadata": {},
          "execution_count": 131
        }
      ],
      "source": [
        "my_num = int(my_float)\n",
        "\n",
        "my_num"
      ]
    },
    {
      "cell_type": "code",
      "execution_count": 132,
      "metadata": {
        "colab": {
          "base_uri": "https://localhost:8080/"
        },
        "id": "rxRSoKZGZzP3",
        "outputId": "eb4049eb-d7cf-4ca2-b2a0-a5212db3fae2"
      },
      "outputs": [
        {
          "output_type": "stream",
          "name": "stdout",
          "text": [
            "125\n",
            "390\n"
          ]
        }
      ],
      "source": [
        "a = 125.0\n",
        "b = 390.8\n",
        "\n",
        "print(int (a))\n",
        "print(int (b))"
      ]
    },
    {
      "cell_type": "code",
      "execution_count": 133,
      "metadata": {
        "colab": {
          "base_uri": "https://localhost:8080/"
        },
        "id": "KvFAc-_QZzP3",
        "outputId": "dbbbfe15-fe78-44f5-e6db-1521320bc180"
      },
      "outputs": [
        {
          "output_type": "execute_result",
          "data": {
            "text/plain": [
              "12"
            ]
          },
          "metadata": {},
          "execution_count": 133
        }
      ],
      "source": [
        "int('12')"
      ]
    },
    {
      "cell_type": "code",
      "execution_count": 134,
      "metadata": {
        "colab": {
          "base_uri": "https://localhost:8080/"
        },
        "id": "ifobJYfEZzP3",
        "outputId": "a1806642-72ed-403c-9757-bee359fb3041"
      },
      "outputs": [
        {
          "output_type": "execute_result",
          "data": {
            "text/plain": [
              "str"
            ]
          },
          "metadata": {},
          "execution_count": 134
        }
      ],
      "source": [
        "a = \"66\"\n",
        "\n",
        "type(a)"
      ]
    },
    {
      "cell_type": "code",
      "execution_count": 135,
      "metadata": {
        "colab": {
          "base_uri": "https://localhost:8080/"
        },
        "id": "TYtpol_iZzP3",
        "outputId": "8c88895b-3d26-4d26-be4f-b03f3d62ed0c"
      },
      "outputs": [
        {
          "output_type": "execute_result",
          "data": {
            "text/plain": [
              "66"
            ]
          },
          "metadata": {},
          "execution_count": 135
        }
      ],
      "source": [
        "my_int = int(a)\n",
        "\n",
        "my_int"
      ]
    },
    {
      "cell_type": "code",
      "execution_count": 136,
      "metadata": {
        "colab": {
          "base_uri": "https://localhost:8080/"
        },
        "id": "Wx9uBBIwZzP3",
        "outputId": "4fcfc765-9fcc-478e-a9a1-24d3e25c5c70"
      },
      "outputs": [
        {
          "output_type": "execute_result",
          "data": {
            "text/plain": [
              "int"
            ]
          },
          "metadata": {},
          "execution_count": 136
        }
      ],
      "source": [
        "type (my_int)"
      ]
    },
    {
      "cell_type": "code",
      "execution_count": 137,
      "metadata": {
        "colab": {
          "base_uri": "https://localhost:8080/",
          "height": 201
        },
        "id": "In1tYfN-ZzP3",
        "outputId": "5868a986-2768-4db5-f222-991fa39b5494"
      },
      "outputs": [
        {
          "output_type": "error",
          "ename": "TypeError",
          "evalue": "ignored",
          "traceback": [
            "\u001b[0;31m---------------------------------------------------------------------------\u001b[0m",
            "\u001b[0;31mTypeError\u001b[0m                                 Traceback (most recent call last)",
            "\u001b[0;32m<ipython-input-137-c44667efbb63>\u001b[0m in \u001b[0;36m<module>\u001b[0;34m()\u001b[0m\n\u001b[1;32m      2\u001b[0m \u001b[0mnum_str\u001b[0m \u001b[0;34m=\u001b[0m \u001b[0;34m\"456\"\u001b[0m\u001b[0;34m\u001b[0m\u001b[0;34m\u001b[0m\u001b[0m\n\u001b[1;32m      3\u001b[0m \u001b[0;34m\u001b[0m\u001b[0m\n\u001b[0;32m----> 4\u001b[0;31m \u001b[0mprint\u001b[0m\u001b[0;34m(\u001b[0m\u001b[0mnum_int\u001b[0m \u001b[0;34m+\u001b[0m \u001b[0mnum_str\u001b[0m\u001b[0;34m)\u001b[0m\u001b[0;34m\u001b[0m\u001b[0;34m\u001b[0m\u001b[0m\n\u001b[0m",
            "\u001b[0;31mTypeError\u001b[0m: unsupported operand type(s) for +: 'int' and 'str'"
          ]
        }
      ],
      "source": [
        "num_int = 123\n",
        "num_str = \"456\"\n",
        "\n",
        "print(num_int + num_str)"
      ]
    },
    {
      "cell_type": "code",
      "execution_count": 138,
      "metadata": {
        "colab": {
          "base_uri": "https://localhost:8080/"
        },
        "id": "kl9ibfoyZzP3",
        "outputId": "33e96fbd-56d2-46f3-9edc-f1165e306e92"
      },
      "outputs": [
        {
          "output_type": "stream",
          "name": "stdout",
          "text": [
            "Data type of num_int: <class 'int'>\n",
            "Data type of num_str: <class 'str'>\n"
          ]
        }
      ],
      "source": [
        "print(\"Data type of num_int:\", type(num_int))\n",
        "print(\"Data type of num_str:\", type(num_str))"
      ]
    },
    {
      "cell_type": "code",
      "execution_count": 139,
      "metadata": {
        "colab": {
          "base_uri": "https://localhost:8080/"
        },
        "id": "uOmynukcZzP3",
        "outputId": "b439784d-204c-46d7-de21-bf605e6c952a"
      },
      "outputs": [
        {
          "output_type": "stream",
          "name": "stdout",
          "text": [
            "Data type of num_str: <class 'int'>\n"
          ]
        }
      ],
      "source": [
        "num_str = int(num_str)\n",
        "\n",
        "print(\"Data type of num_str:\", type(num_str))"
      ]
    },
    {
      "cell_type": "code",
      "execution_count": 140,
      "metadata": {
        "colab": {
          "base_uri": "https://localhost:8080/"
        },
        "id": "jE_4CQgtZzP3",
        "outputId": "08374b91-7546-40a2-fdce-81d3f525ca79"
      },
      "outputs": [
        {
          "output_type": "stream",
          "name": "stdout",
          "text": [
            "579\n",
            "Data type of sum_value: <class 'int'>\n"
          ]
        }
      ],
      "source": [
        "sum_value = num_int + num_str\n",
        "\n",
        "print(sum_value)\n",
        "print(\"Data type of sum_value:\",type(sum_value))"
      ]
    },
    {
      "cell_type": "code",
      "execution_count": 141,
      "metadata": {
        "colab": {
          "base_uri": "https://localhost:8080/",
          "height": 201
        },
        "id": "Y2qApdWMZzP3",
        "outputId": "9fbcd4fd-3cf2-4a1e-b1f9-4c94a0b72570"
      },
      "outputs": [
        {
          "output_type": "error",
          "ename": "ValueError",
          "evalue": "ignored",
          "traceback": [
            "\u001b[0;31m---------------------------------------------------------------------------\u001b[0m",
            "\u001b[0;31mValueError\u001b[0m                                Traceback (most recent call last)",
            "\u001b[0;32m<ipython-input-141-fba7bc20d09b>\u001b[0m in \u001b[0;36m<module>\u001b[0;34m()\u001b[0m\n\u001b[1;32m      1\u001b[0m \u001b[0mvalue_str\u001b[0m \u001b[0;34m=\u001b[0m \u001b[0;34m\"five\"\u001b[0m\u001b[0;34m\u001b[0m\u001b[0;34m\u001b[0m\u001b[0m\n\u001b[1;32m      2\u001b[0m \u001b[0;34m\u001b[0m\u001b[0m\n\u001b[0;32m----> 3\u001b[0;31m \u001b[0mvalue_int\u001b[0m \u001b[0;34m=\u001b[0m \u001b[0mint\u001b[0m\u001b[0;34m(\u001b[0m\u001b[0mvalue_str\u001b[0m\u001b[0;34m)\u001b[0m\u001b[0;34m\u001b[0m\u001b[0;34m\u001b[0m\u001b[0m\n\u001b[0m",
            "\u001b[0;31mValueError\u001b[0m: invalid literal for int() with base 10: 'five'"
          ]
        }
      ],
      "source": [
        "value_str = \"five\"\n",
        "\n",
        "value_int = int(value_str)"
      ]
    },
    {
      "cell_type": "code",
      "execution_count": 142,
      "metadata": {
        "colab": {
          "base_uri": "https://localhost:8080/",
          "height": 35
        },
        "id": "hWOVW5e9ZzP4",
        "outputId": "4bef4f4a-e673-49b9-c1e5-25aad5ca187a"
      },
      "outputs": [
        {
          "output_type": "execute_result",
          "data": {
            "application/vnd.google.colaboratory.intrinsic+json": {
              "type": "string"
            },
            "text/plain": [
              "'12'"
            ]
          },
          "metadata": {},
          "execution_count": 142
        }
      ],
      "source": [
        "str(12)"
      ]
    },
    {
      "cell_type": "code",
      "execution_count": 143,
      "metadata": {
        "colab": {
          "base_uri": "https://localhost:8080/",
          "height": 35
        },
        "id": "DrGoBg7DZzP4",
        "outputId": "963ab8d8-15f5-483b-9d30-69a8c8e476ce"
      },
      "outputs": [
        {
          "output_type": "execute_result",
          "data": {
            "application/vnd.google.colaboratory.intrinsic+json": {
              "type": "string"
            },
            "text/plain": [
              "'123'"
            ]
          },
          "metadata": {},
          "execution_count": 143
        }
      ],
      "source": [
        "my_str = str(num_int)\n",
        "my_str"
      ]
    },
    {
      "cell_type": "code",
      "execution_count": 144,
      "metadata": {
        "colab": {
          "base_uri": "https://localhost:8080/"
        },
        "id": "WvqvxZ1kZzP4",
        "outputId": "ab05d288-d1ac-4522-8e90-f5d14cb2c674"
      },
      "outputs": [
        {
          "output_type": "stream",
          "name": "stdout",
          "text": [
            "John has 5524.53 points.\n"
          ]
        }
      ],
      "source": [
        "my_float = 5524.53\n",
        "\n",
        "print(\"John has \" + str(my_float) + \" points.\")"
      ]
    },
    {
      "cell_type": "code",
      "execution_count": 145,
      "metadata": {
        "colab": {
          "base_uri": "https://localhost:8080/",
          "height": 201
        },
        "id": "4K89v-QvZzP4",
        "outputId": "aaa3563c-27d1-4232-f51e-334d1097c036"
      },
      "outputs": [
        {
          "output_type": "error",
          "ename": "TypeError",
          "evalue": "ignored",
          "traceback": [
            "\u001b[0;31m---------------------------------------------------------------------------\u001b[0m",
            "\u001b[0;31mTypeError\u001b[0m                                 Traceback (most recent call last)",
            "\u001b[0;32m<ipython-input-145-73bd9960d346>\u001b[0m in \u001b[0;36m<module>\u001b[0;34m()\u001b[0m\n\u001b[1;32m      2\u001b[0m \u001b[0mlines\u001b[0m \u001b[0;34m=\u001b[0m \u001b[0;36m50\u001b[0m\u001b[0;34m\u001b[0m\u001b[0;34m\u001b[0m\u001b[0m\n\u001b[1;32m      3\u001b[0m \u001b[0;34m\u001b[0m\u001b[0m\n\u001b[0;32m----> 4\u001b[0;31m \u001b[0mprint\u001b[0m\u001b[0;34m(\u001b[0m\u001b[0;34m\"Congratulations, \"\u001b[0m \u001b[0;34m+\u001b[0m \u001b[0muser\u001b[0m \u001b[0;34m+\u001b[0m \u001b[0;34m\"! You just wrote \"\u001b[0m \u001b[0;34m+\u001b[0m \u001b[0mlines\u001b[0m \u001b[0;34m+\u001b[0m \u001b[0;34m\" lines of code.\"\u001b[0m\u001b[0;34m)\u001b[0m\u001b[0;34m\u001b[0m\u001b[0;34m\u001b[0m\u001b[0m\n\u001b[0m",
            "\u001b[0;31mTypeError\u001b[0m: can only concatenate str (not \"int\") to str"
          ]
        }
      ],
      "source": [
        "user = \"John\"\n",
        "lines = 50\n",
        "\n",
        "print(\"Congratulations, \" + user + \"! You just wrote \" + lines + \" lines of code.\")"
      ]
    },
    {
      "cell_type": "code",
      "execution_count": 146,
      "metadata": {
        "colab": {
          "base_uri": "https://localhost:8080/"
        },
        "id": "1-yhbZANZzP4",
        "outputId": "1d7931d5-04d4-48a8-bd48-49e7eb5b43fa"
      },
      "outputs": [
        {
          "output_type": "stream",
          "name": "stdout",
          "text": [
            "Congratulations, John! You just wrote 50 lines of code.\n"
          ]
        }
      ],
      "source": [
        "user = \"John\"\n",
        "lines = 50\n",
        "\n",
        "print(\"Congratulations, \" + user + \"! You just wrote \" + str (lines) + \" lines of code.\")"
      ]
    },
    {
      "cell_type": "code",
      "execution_count": 147,
      "metadata": {
        "colab": {
          "base_uri": "https://localhost:8080/",
          "height": 218
        },
        "id": "UG-wZ7D-ZzP4",
        "outputId": "0c3aaf78-d6c2-40f1-fd4d-5ded28cef8ab"
      },
      "outputs": [
        {
          "name": "stdout",
          "output_type": "stream",
          "text": [
            "6\n"
          ]
        },
        {
          "output_type": "error",
          "ename": "TypeError",
          "evalue": "ignored",
          "traceback": [
            "\u001b[0;31m---------------------------------------------------------------------------\u001b[0m",
            "\u001b[0;31mTypeError\u001b[0m                                 Traceback (most recent call last)",
            "\u001b[0;32m<ipython-input-147-e6bea4f2be92>\u001b[0m in \u001b[0;36m<module>\u001b[0;34m()\u001b[0m\n\u001b[1;32m      1\u001b[0m \u001b[0mnumber\u001b[0m \u001b[0;34m=\u001b[0m \u001b[0minput\u001b[0m\u001b[0;34m(\u001b[0m\u001b[0;34m)\u001b[0m\u001b[0;34m\u001b[0m\u001b[0;34m\u001b[0m\u001b[0m\n\u001b[1;32m      2\u001b[0m \u001b[0;34m\u001b[0m\u001b[0m\n\u001b[0;32m----> 3\u001b[0;31m \u001b[0mplus_ten\u001b[0m \u001b[0;34m=\u001b[0m \u001b[0mnumber\u001b[0m \u001b[0;34m+\u001b[0m \u001b[0;36m10\u001b[0m\u001b[0;34m\u001b[0m\u001b[0;34m\u001b[0m\u001b[0m\n\u001b[0m",
            "\u001b[0;31mTypeError\u001b[0m: can only concatenate str (not \"int\") to str"
          ]
        }
      ],
      "source": [
        "number = input()\n",
        "\n",
        "plus_ten = number + 10"
      ]
    },
    {
      "cell_type": "code",
      "execution_count": 148,
      "metadata": {
        "colab": {
          "base_uri": "https://localhost:8080/"
        },
        "id": "lkfLz26cZzP4",
        "outputId": "a26a584c-101d-4491-8f45-65a4ab3fc911"
      },
      "outputs": [
        {
          "output_type": "execute_result",
          "data": {
            "text/plain": [
              "str"
            ]
          },
          "metadata": {},
          "execution_count": 148
        }
      ],
      "source": [
        "type(number)"
      ]
    },
    {
      "cell_type": "code",
      "execution_count": 149,
      "metadata": {
        "colab": {
          "base_uri": "https://localhost:8080/",
          "height": 218
        },
        "id": "r9QyIGHHZzP4",
        "outputId": "cd2c3adb-1fa0-4628-fcfd-5387df8ed7cf"
      },
      "outputs": [
        {
          "name": "stdout",
          "output_type": "stream",
          "text": [
            "7\n"
          ]
        },
        {
          "output_type": "error",
          "ename": "TypeError",
          "evalue": "ignored",
          "traceback": [
            "\u001b[0;31m---------------------------------------------------------------------------\u001b[0m",
            "\u001b[0;31mTypeError\u001b[0m                                 Traceback (most recent call last)",
            "\u001b[0;32m<ipython-input-149-ca282ef253ad>\u001b[0m in \u001b[0;36m<module>\u001b[0;34m()\u001b[0m\n\u001b[1;32m      3\u001b[0m \u001b[0mplus_ten\u001b[0m \u001b[0;34m=\u001b[0m \u001b[0mnumber\u001b[0m \u001b[0;34m+\u001b[0m \u001b[0;36m10\u001b[0m\u001b[0;34m\u001b[0m\u001b[0;34m\u001b[0m\u001b[0m\n\u001b[1;32m      4\u001b[0m \u001b[0;34m\u001b[0m\u001b[0m\n\u001b[0;32m----> 5\u001b[0;31m \u001b[0mprint\u001b[0m \u001b[0;34m(\u001b[0m\u001b[0;34m\"If we add 10 to this number, we get \"\u001b[0m \u001b[0;34m+\u001b[0m \u001b[0mplus_ten\u001b[0m\u001b[0;34m)\u001b[0m\u001b[0;34m\u001b[0m\u001b[0;34m\u001b[0m\u001b[0m\n\u001b[0m",
            "\u001b[0;31mTypeError\u001b[0m: can only concatenate str (not \"int\") to str"
          ]
        }
      ],
      "source": [
        "number = int(input())\n",
        "\n",
        "plus_ten = number + 10\n",
        "\n",
        "print (\"If we add 10 to this number, we get \" + plus_ten)"
      ]
    },
    {
      "cell_type": "code",
      "execution_count": 150,
      "metadata": {
        "colab": {
          "base_uri": "https://localhost:8080/"
        },
        "id": "REJ2rP-OZzP5",
        "outputId": "7a5568ee-f1ad-4823-9359-9833416e73e7"
      },
      "outputs": [
        {
          "output_type": "stream",
          "name": "stdout",
          "text": [
            "7\n",
            "If we add 10 to this number, we get 17\n"
          ]
        }
      ],
      "source": [
        "number = int(input())\n",
        "\n",
        "plus_ten = number + 10\n",
        "\n",
        "print (\"If we add 10 to this number, we get \" + str(plus_ten))"
      ]
    },
    {
      "cell_type": "code",
      "execution_count": 151,
      "metadata": {
        "colab": {
          "base_uri": "https://localhost:8080/"
        },
        "id": "Bs9sbKxvZzP5",
        "outputId": "0c278e5c-2e0c-4c36-bee2-2027053f6d02"
      },
      "outputs": [
        {
          "output_type": "stream",
          "name": "stdout",
          "text": [
            "7\n",
            "\n",
            "If we add 10 and 20 to this number, we get 17 and 27 \n"
          ]
        }
      ],
      "source": [
        "number = int(input())\n",
        "plus_ten = number + 10\n",
        "plus_twenty = number + 20\n",
        "\n",
        "print (\"\\nIf we add 10 and 20 to this number, we get %s and %s \" %(plus_ten, plus_twenty))"
      ]
    },
    {
      "cell_type": "code",
      "execution_count": null,
      "metadata": {
        "id": "p6B5EOsbZzP5"
      },
      "outputs": [],
      "source": [
        ""
      ]
    },
    {
      "cell_type": "code",
      "execution_count": null,
      "metadata": {
        "id": "YoDWpFicZzP5"
      },
      "outputs": [],
      "source": [
        ""
      ]
    },
    {
      "cell_type": "code",
      "execution_count": null,
      "metadata": {
        "id": "ca8P-GOLZzP5"
      },
      "outputs": [],
      "source": [
        ""
      ]
    },
    {
      "cell_type": "code",
      "execution_count": 152,
      "metadata": {
        "colab": {
          "base_uri": "https://localhost:8080/",
          "height": 201
        },
        "id": "MEFnDG6mZzP5",
        "outputId": "a367ef2d-8ef6-49a5-d2a9-95a3071f7058"
      },
      "outputs": [
        {
          "output_type": "error",
          "ename": "TypeError",
          "evalue": "ignored",
          "traceback": [
            "\u001b[0;31m---------------------------------------------------------------------------\u001b[0m",
            "\u001b[0;31mTypeError\u001b[0m                                 Traceback (most recent call last)",
            "\u001b[0;32m<ipython-input-152-ab2d6d835aef>\u001b[0m in \u001b[0;36m<module>\u001b[0;34m()\u001b[0m\n\u001b[1;32m      3\u001b[0m \u001b[0mnew_num\u001b[0m \u001b[0;34m=\u001b[0m \u001b[0;34m\"10\"\u001b[0m\u001b[0;34m\u001b[0m\u001b[0;34m\u001b[0m\u001b[0m\n\u001b[1;32m      4\u001b[0m \u001b[0;34m\u001b[0m\u001b[0m\n\u001b[0;32m----> 5\u001b[0;31m \u001b[0mremaining_num\u001b[0m \u001b[0;34m=\u001b[0m \u001b[0mold_num\u001b[0m \u001b[0;34m-\u001b[0m \u001b[0mnew_num\u001b[0m\u001b[0;34m\u001b[0m\u001b[0;34m\u001b[0m\u001b[0m\n\u001b[0m",
            "\u001b[0;31mTypeError\u001b[0m: unsupported operand type(s) for -: 'str' and 'str'"
          ]
        }
      ],
      "source": [
        "old_num = \"500\"\n",
        "\n",
        "new_num = \"10\"\n",
        "\n",
        "remaining_num = old_num - new_num"
      ]
    },
    {
      "cell_type": "code",
      "execution_count": 153,
      "metadata": {
        "colab": {
          "base_uri": "https://localhost:8080/"
        },
        "id": "4xjda5yLZzP5",
        "outputId": "ecf66e5e-32c2-41ce-fae1-aa17755cd9db"
      },
      "outputs": [
        {
          "output_type": "execute_result",
          "data": {
            "text/plain": [
              "str"
            ]
          },
          "metadata": {},
          "execution_count": 153
        }
      ],
      "source": [
        "type(old_num)"
      ]
    },
    {
      "cell_type": "code",
      "execution_count": 154,
      "metadata": {
        "colab": {
          "base_uri": "https://localhost:8080/"
        },
        "id": "FcS4QjisZzP5",
        "outputId": "3f887dd3-8d0a-4a19-884f-fa9022352bfe"
      },
      "outputs": [
        {
          "output_type": "execute_result",
          "data": {
            "text/plain": [
              "500"
            ]
          },
          "metadata": {},
          "execution_count": 154
        }
      ],
      "source": [
        "int(old_num)"
      ]
    },
    {
      "cell_type": "code",
      "execution_count": 155,
      "metadata": {
        "colab": {
          "base_uri": "https://localhost:8080/"
        },
        "id": "PupccVQgZzP5",
        "outputId": "88d9c3ba-9263-4117-b7b2-62a968b298fd"
      },
      "outputs": [
        {
          "output_type": "execute_result",
          "data": {
            "text/plain": [
              "int"
            ]
          },
          "metadata": {},
          "execution_count": 155
        }
      ],
      "source": [
        "type(int(old_num))"
      ]
    },
    {
      "cell_type": "code",
      "execution_count": 156,
      "metadata": {
        "colab": {
          "base_uri": "https://localhost:8080/"
        },
        "id": "vKEBiYkDZzP5",
        "outputId": "65c68d91-82ba-49a4-b98e-3f34553b7be9"
      },
      "outputs": [
        {
          "output_type": "execute_result",
          "data": {
            "text/plain": [
              "490"
            ]
          },
          "metadata": {},
          "execution_count": 156
        }
      ],
      "source": [
        "old_num = \"500\"\n",
        "new_num = \"10\"\n",
        "\n",
        "remaining_num = int(old_num) - int(new_num)\n",
        "\n",
        "remaining_num"
      ]
    },
    {
      "cell_type": "code",
      "execution_count": 157,
      "metadata": {
        "colab": {
          "base_uri": "https://localhost:8080/",
          "height": 35
        },
        "id": "m7vbb5iTZzP6",
        "outputId": "e8dbbd01-b246-4ada-a397-244695b5ab63"
      },
      "outputs": [
        {
          "output_type": "execute_result",
          "data": {
            "application/vnd.google.colaboratory.intrinsic+json": {
              "type": "string"
            },
            "text/plain": [
              "'40.660.8'"
            ]
          },
          "metadata": {},
          "execution_count": 157
        }
      ],
      "source": [
        "old_code = \"40.6\"\n",
        "new_code = \"60.8\"\n",
        "\n",
        "total_code = old_code + new_code\n",
        "\n",
        "total_code"
      ]
    },
    {
      "cell_type": "code",
      "execution_count": 158,
      "metadata": {
        "colab": {
          "base_uri": "https://localhost:8080/"
        },
        "id": "9UxtOfhSZzP6",
        "outputId": "852014c7-e2a2-4913-87ca-e4ffa8fcd1f9"
      },
      "outputs": [
        {
          "output_type": "execute_result",
          "data": {
            "text/plain": [
              "101.0"
            ]
          },
          "metadata": {},
          "execution_count": 158
        }
      ],
      "source": [
        "old_code = \"40.6\"\n",
        "new_code = \"60.4\"\n",
        "\n",
        "total_code = float(old_code) + float(new_code)\n",
        "\n",
        "total_code"
      ]
    },
    {
      "cell_type": "code",
      "execution_count": 159,
      "metadata": {
        "colab": {
          "base_uri": "https://localhost:8080/"
        },
        "id": "AjTwybvAZzP6",
        "outputId": "14caad2d-9307-4a05-c076-2c9b7070be5f"
      },
      "outputs": [
        {
          "output_type": "execute_result",
          "data": {
            "text/plain": [
              "10.6"
            ]
          },
          "metadata": {},
          "execution_count": 159
        }
      ],
      "source": [
        "my_float = \"4.6\"\n",
        "my_int = \"6\"\n",
        "\n",
        "total = float(my_float) + int(my_int)\n",
        "total"
      ]
    },
    {
      "cell_type": "code",
      "execution_count": 160,
      "metadata": {
        "colab": {
          "base_uri": "https://localhost:8080/"
        },
        "id": "8o_yWIebZzP6",
        "outputId": "2c535128-ede2-47cd-8da4-23d5c736abe0"
      },
      "outputs": [
        {
          "output_type": "execute_result",
          "data": {
            "text/plain": [
              "['p', 'y', 't', 'h', 'o', 'n', ' ', 'w', 'o', 'r', 'l', 'd']"
            ]
          },
          "metadata": {},
          "execution_count": 160
        }
      ],
      "source": [
        "value_str = \"python world\"\n",
        "\n",
        "value_list = list(value_str)\n",
        "value_list"
      ]
    },
    {
      "cell_type": "code",
      "execution_count": 161,
      "metadata": {
        "colab": {
          "base_uri": "https://localhost:8080/"
        },
        "id": "LdSWCvaLZzP6",
        "outputId": "f22bdf38-3133-4f8a-a2b4-ca4e567d31af"
      },
      "outputs": [
        {
          "output_type": "stream",
          "name": "stdout",
          "text": [
            "Type of value_str is: <class 'str'>\n",
            "Type of value_list is: <class 'list'>\n"
          ]
        }
      ],
      "source": [
        "print('Type of value_str is:', type(value_str))\n",
        "\n",
        "print('Type of value_list is:', type(value_list))"
      ]
    },
    {
      "cell_type": "code",
      "execution_count": 162,
      "metadata": {
        "colab": {
          "base_uri": "https://localhost:8080/",
          "height": 166
        },
        "id": "TGObgi0-ZzP6",
        "outputId": "bbc82265-ac12-4709-a24e-81e06f4c3072"
      },
      "outputs": [
        {
          "output_type": "error",
          "ename": "TypeError",
          "evalue": "ignored",
          "traceback": [
            "\u001b[0;31m---------------------------------------------------------------------------\u001b[0m",
            "\u001b[0;31mTypeError\u001b[0m                                 Traceback (most recent call last)",
            "\u001b[0;32m<ipython-input-162-f76743461436>\u001b[0m in \u001b[0;36m<module>\u001b[0;34m()\u001b[0m\n\u001b[0;32m----> 1\u001b[0;31m \u001b[0mlist\u001b[0m\u001b[0;34m(\u001b[0m\u001b[0;36m1\u001b[0m\u001b[0;34m,\u001b[0m \u001b[0;36m2\u001b[0m\u001b[0;34m,\u001b[0m \u001b[0;36m3\u001b[0m\u001b[0;34m,\u001b[0m \u001b[0;36m4\u001b[0m\u001b[0;34m,\u001b[0m \u001b[0;36m5\u001b[0m\u001b[0;34m)\u001b[0m\u001b[0;34m\u001b[0m\u001b[0;34m\u001b[0m\u001b[0m\n\u001b[0m",
            "\u001b[0;31mTypeError\u001b[0m: list expected at most 1 arguments, got 5"
          ]
        }
      ],
      "source": [
        "list(1, 2, 3, 4, 5)"
      ]
    },
    {
      "cell_type": "code",
      "execution_count": 163,
      "metadata": {
        "colab": {
          "base_uri": "https://localhost:8080/"
        },
        "id": "BYNwbRWsZzP6",
        "outputId": "de2586a5-6a93-43c2-828d-3f86a89e3512"
      },
      "outputs": [
        {
          "output_type": "execute_result",
          "data": {
            "text/plain": [
              "[1, 2, 3, 4, 5]"
            ]
          },
          "metadata": {},
          "execution_count": 163
        }
      ],
      "source": [
        "list((1, 2, 3, 4, 5))"
      ]
    },
    {
      "cell_type": "code",
      "execution_count": 164,
      "metadata": {
        "colab": {
          "base_uri": "https://localhost:8080/"
        },
        "id": "LLVdMzkfZzP6",
        "outputId": "0005388f-407e-42ca-fbad-9d0e70045700"
      },
      "outputs": [
        {
          "output_type": "execute_result",
          "data": {
            "text/plain": [
              "('Apple', 'Orange', 'Mango', 'Banana')"
            ]
          },
          "metadata": {},
          "execution_count": 164
        }
      ],
      "source": [
        "my_tuple = ('Apple', 'Orange', 'Mango', 'Banana')\n",
        "\n",
        "my_tuple"
      ]
    },
    {
      "cell_type": "code",
      "execution_count": 165,
      "metadata": {
        "colab": {
          "base_uri": "https://localhost:8080/"
        },
        "id": "cIQPjGg5ZzP7",
        "outputId": "ec683519-55e7-4c81-ddea-442333719c8c"
      },
      "outputs": [
        {
          "output_type": "execute_result",
          "data": {
            "text/plain": [
              "tuple"
            ]
          },
          "metadata": {},
          "execution_count": 165
        }
      ],
      "source": [
        "type(my_tuple)"
      ]
    },
    {
      "cell_type": "code",
      "execution_count": 166,
      "metadata": {
        "colab": {
          "base_uri": "https://localhost:8080/"
        },
        "id": "uHWUQ0CbZzP7",
        "outputId": "80b45ec3-5c51-4988-f4cc-9608414d7753"
      },
      "outputs": [
        {
          "output_type": "execute_result",
          "data": {
            "text/plain": [
              "['Apple', 'Orange', 'Mango', 'Banana']"
            ]
          },
          "metadata": {},
          "execution_count": 166
        }
      ],
      "source": [
        "my_list = list(my_tuple)\n",
        "\n",
        "my_list"
      ]
    },
    {
      "cell_type": "code",
      "execution_count": 167,
      "metadata": {
        "colab": {
          "base_uri": "https://localhost:8080/"
        },
        "id": "JtZgMB1xZzP7",
        "outputId": "b2525a3f-fdd2-4edc-90ce-5529daca2fd1"
      },
      "outputs": [
        {
          "output_type": "execute_result",
          "data": {
            "text/plain": [
              "list"
            ]
          },
          "metadata": {},
          "execution_count": 167
        }
      ],
      "source": [
        "type (my_list)"
      ]
    },
    {
      "cell_type": "code",
      "execution_count": 168,
      "metadata": {
        "colab": {
          "base_uri": "https://localhost:8080/"
        },
        "id": "dBc3QbR8ZzP7",
        "outputId": "b07a2278-569e-48f1-e7f2-8559fb8e9282"
      },
      "outputs": [
        {
          "output_type": "execute_result",
          "data": {
            "text/plain": [
              "('p', 'y', 't', 'h', 'o', 'n', ' ', 'w', 'o', 'r', 'l', 'd')"
            ]
          },
          "metadata": {},
          "execution_count": 168
        }
      ],
      "source": [
        "value_str = \"python world\"\n",
        "\n",
        "value_tup = tuple(value_str)\n",
        "\n",
        "value_tup"
      ]
    },
    {
      "cell_type": "code",
      "execution_count": 169,
      "metadata": {
        "colab": {
          "base_uri": "https://localhost:8080/"
        },
        "id": "MdZmz7IMZzP7",
        "outputId": "92a31d8c-8bb4-42cf-afaf-d64e3124d6c4"
      },
      "outputs": [
        {
          "output_type": "stream",
          "name": "stdout",
          "text": [
            "Type of value_str is: <class 'str'>\n",
            "Type of value_tup is: <class 'tuple'>\n"
          ]
        }
      ],
      "source": [
        "print('Type of value_str is:', type(value_str))\n",
        "\n",
        "print('Type of value_tup is:', type(value_tup))"
      ]
    },
    {
      "cell_type": "code",
      "execution_count": 170,
      "metadata": {
        "colab": {
          "base_uri": "https://localhost:8080/",
          "height": 166
        },
        "id": "B5q4Bi9gZzP7",
        "outputId": "10e1f063-3490-48ec-ba39-dfa228d6ee4e"
      },
      "outputs": [
        {
          "output_type": "error",
          "ename": "TypeError",
          "evalue": "ignored",
          "traceback": [
            "\u001b[0;31m---------------------------------------------------------------------------\u001b[0m",
            "\u001b[0;31mTypeError\u001b[0m                                 Traceback (most recent call last)",
            "\u001b[0;32m<ipython-input-170-69ffd3dbb1e0>\u001b[0m in \u001b[0;36m<module>\u001b[0;34m()\u001b[0m\n\u001b[0;32m----> 1\u001b[0;31m \u001b[0mtuple\u001b[0m\u001b[0;34m(\u001b[0m\u001b[0;36m5000\u001b[0m\u001b[0;34m)\u001b[0m\u001b[0;34m\u001b[0m\u001b[0;34m\u001b[0m\u001b[0m\n\u001b[0m",
            "\u001b[0;31mTypeError\u001b[0m: 'int' object is not iterable"
          ]
        }
      ],
      "source": [
        "tuple(5000)"
      ]
    },
    {
      "cell_type": "code",
      "execution_count": 171,
      "metadata": {
        "colab": {
          "base_uri": "https://localhost:8080/"
        },
        "id": "47ry48r8ZzP7",
        "outputId": "23eb06ee-d62d-4369-fc7e-673464908f51"
      },
      "outputs": [
        {
          "output_type": "stream",
          "name": "stdout",
          "text": [
            "['Apple', 'Orange', 'Mango', 'Banana']\n"
          ]
        }
      ],
      "source": [
        "my_list = ['Apple', 'Orange', 'Mango', 'Banana']\n",
        "\n",
        "print(my_list)"
      ]
    },
    {
      "cell_type": "code",
      "execution_count": 172,
      "metadata": {
        "colab": {
          "base_uri": "https://localhost:8080/"
        },
        "id": "lnRt-zOsZzP7",
        "outputId": "48cc3b02-6fbd-45c2-9fbd-cb398d49ac2e"
      },
      "outputs": [
        {
          "output_type": "execute_result",
          "data": {
            "text/plain": [
              "list"
            ]
          },
          "metadata": {},
          "execution_count": 172
        }
      ],
      "source": [
        "type(my_list)"
      ]
    },
    {
      "cell_type": "code",
      "execution_count": 173,
      "metadata": {
        "colab": {
          "base_uri": "https://localhost:8080/"
        },
        "id": "GK6hT4u0ZzP7",
        "outputId": "563759ec-1224-4108-bb72-a16ce04b3074"
      },
      "outputs": [
        {
          "output_type": "stream",
          "name": "stdout",
          "text": [
            "('Apple', 'Orange', 'Mango', 'Banana')\n"
          ]
        }
      ],
      "source": [
        "my_tuple = tuple(my_list)\n",
        "\n",
        "print(my_tuple)"
      ]
    },
    {
      "cell_type": "code",
      "execution_count": 174,
      "metadata": {
        "colab": {
          "base_uri": "https://localhost:8080/"
        },
        "id": "8kBbx4YNZzP7",
        "outputId": "79ae1d3e-e10f-499f-84f4-b9fe0e5c0c84"
      },
      "outputs": [
        {
          "output_type": "execute_result",
          "data": {
            "text/plain": [
              "tuple"
            ]
          },
          "metadata": {},
          "execution_count": 174
        }
      ],
      "source": [
        "type (my_tuple)"
      ]
    },
    {
      "cell_type": "code",
      "execution_count": 175,
      "metadata": {
        "colab": {
          "base_uri": "https://localhost:8080/"
        },
        "id": "OGPT5pG6ZzP7",
        "outputId": "db995bbd-0201-4823-ab7a-a9942342c271"
      },
      "outputs": [
        {
          "output_type": "execute_result",
          "data": {
            "text/plain": [
              "(['William', 50], ['Henry', 60], ['James', 90])"
            ]
          },
          "metadata": {},
          "execution_count": 175
        }
      ],
      "source": [
        "age_list = [['William', 50], ['Henry', 60], ['James', 90]]\n",
        "\n",
        "age_tuple = tuple(age_list)\n",
        "\n",
        "age_tuple"
      ]
    },
    {
      "cell_type": "code",
      "execution_count": 176,
      "metadata": {
        "colab": {
          "base_uri": "https://localhost:8080/"
        },
        "id": "853IHt2kZzP7",
        "outputId": "2475a09e-acb4-4e55-f257-60c9c07480ff"
      },
      "outputs": [
        {
          "output_type": "execute_result",
          "data": {
            "text/plain": [
              "('William', 50)"
            ]
          },
          "metadata": {},
          "execution_count": 176
        }
      ],
      "source": [
        "age_tuple = tuple(age_list[0])\n",
        "\n",
        "age_tuple"
      ]
    },
    {
      "cell_type": "code",
      "execution_count": 177,
      "metadata": {
        "colab": {
          "base_uri": "https://localhost:8080/"
        },
        "id": "dpmgttKfZzP8",
        "outputId": "9b1fab1c-5413-4628-b12b-bfc925d50678"
      },
      "outputs": [
        {
          "output_type": "stream",
          "name": "stdout",
          "text": [
            "Type of age_list is: <class 'list'>\n",
            "Type of age_tuple is: <class 'tuple'>\n"
          ]
        }
      ],
      "source": [
        "print('Type of age_list is:', type(age_list))\n",
        "\n",
        "print('Type of age_tuple is:', type(age_tuple))"
      ]
    },
    {
      "cell_type": "code",
      "execution_count": 178,
      "metadata": {
        "id": "JaBQZjORZzP8"
      },
      "outputs": [],
      "source": [
        "pet_list = [('Dog', 1), ('Cat', 2), ('Cow', 3), ('Goat', 4)]"
      ]
    },
    {
      "cell_type": "code",
      "execution_count": 179,
      "metadata": {
        "colab": {
          "base_uri": "https://localhost:8080/"
        },
        "id": "7xhMOrCDZzP8",
        "outputId": "41730b26-8242-4bd5-fc3a-cb49a8551cbe"
      },
      "outputs": [
        {
          "output_type": "execute_result",
          "data": {
            "text/plain": [
              "(('Dog', 1), ('Cat', 2), ('Cow', 3), ('Goat', 4))"
            ]
          },
          "metadata": {},
          "execution_count": 179
        }
      ],
      "source": [
        "pet_tuple = tuple(pet_list)\n",
        "\n",
        "pet_tuple"
      ]
    },
    {
      "cell_type": "code",
      "execution_count": 180,
      "metadata": {
        "id": "xyG5PAVwZzP8"
      },
      "outputs": [],
      "source": [
        "age_tuple = ('Leo', 18,\n",
        "             'Aaron', 25,\n",
        "             'Easton', 34,\n",
        "             'Jordan', 30)"
      ]
    },
    {
      "cell_type": "code",
      "execution_count": 181,
      "metadata": {
        "colab": {
          "base_uri": "https://localhost:8080/"
        },
        "id": "nzc1WB3QZzP8",
        "outputId": "8e5138a8-dbaf-40dd-f7f1-b90b37305b4e"
      },
      "outputs": [
        {
          "output_type": "execute_result",
          "data": {
            "text/plain": [
              "('Leo', 18, 'Aaron', 25, 'Easton', 34, 'Jordan', 30)"
            ]
          },
          "metadata": {},
          "execution_count": 181
        }
      ],
      "source": [
        "age_tuple"
      ]
    },
    {
      "cell_type": "code",
      "execution_count": 182,
      "metadata": {
        "colab": {
          "base_uri": "https://localhost:8080/",
          "height": 166
        },
        "id": "QWIFgpyoZzP8",
        "outputId": "7c772a09-0f43-4f91-ffce-d7b1d1deb93e"
      },
      "outputs": [
        {
          "output_type": "error",
          "ename": "ValueError",
          "evalue": "ignored",
          "traceback": [
            "\u001b[0;31m---------------------------------------------------------------------------\u001b[0m",
            "\u001b[0;31mValueError\u001b[0m                                Traceback (most recent call last)",
            "\u001b[0;32m<ipython-input-182-c428f45057a9>\u001b[0m in \u001b[0;36m<module>\u001b[0;34m()\u001b[0m\n\u001b[0;32m----> 1\u001b[0;31m \u001b[0mdict\u001b[0m\u001b[0;34m(\u001b[0m\u001b[0mage_tuple\u001b[0m\u001b[0;34m)\u001b[0m\u001b[0;34m\u001b[0m\u001b[0;34m\u001b[0m\u001b[0m\n\u001b[0m",
            "\u001b[0;31mValueError\u001b[0m: dictionary update sequence element #0 has length 3; 2 is required"
          ]
        }
      ],
      "source": [
        "dict(age_tuple)"
      ]
    },
    {
      "cell_type": "code",
      "execution_count": 183,
      "metadata": {
        "colab": {
          "base_uri": "https://localhost:8080/"
        },
        "id": "tlDVw0bjZzP8",
        "outputId": "02a36620-0ac3-4a08-9bc0-be24ecfd9199"
      },
      "outputs": [
        {
          "output_type": "execute_result",
          "data": {
            "text/plain": [
              "(('Leo', 18), ('Aaron', 25), ('Easton', 34), ('Jordan', 30))"
            ]
          },
          "metadata": {},
          "execution_count": 183
        }
      ],
      "source": [
        "age_tuple1 = (('Leo', 18),\n",
        "              ('Aaron', 25),\n",
        "              ('Easton', 34),\n",
        "              ('Jordan', 30))\n",
        "\n",
        "\n",
        "age_tuple1"
      ]
    },
    {
      "cell_type": "code",
      "execution_count": 184,
      "metadata": {
        "colab": {
          "base_uri": "https://localhost:8080/"
        },
        "id": "Gna-marnZzP8",
        "outputId": "cba9bb81-77fb-4bce-ffea-51ba43b45320"
      },
      "outputs": [
        {
          "output_type": "execute_result",
          "data": {
            "text/plain": [
              "{'Aaron': 25, 'Easton': 34, 'Jordan': 30, 'Leo': 18}"
            ]
          },
          "metadata": {},
          "execution_count": 184
        }
      ],
      "source": [
        "dict(age_tuple1)"
      ]
    },
    {
      "cell_type": "code",
      "execution_count": 185,
      "metadata": {
        "colab": {
          "base_uri": "https://localhost:8080/"
        },
        "id": "8z1Eki2cZzP8",
        "outputId": "8d1c4def-216c-40d7-840d-b93d1e9b9769"
      },
      "outputs": [
        {
          "output_type": "execute_result",
          "data": {
            "text/plain": [
              "(('Leo', 18), ('Aaron', 25), ('Easton', 34), (['Jordan', 'John'], 30))"
            ]
          },
          "metadata": {},
          "execution_count": 185
        }
      ],
      "source": [
        "age_tuple2 = (('Leo', 18),\n",
        "              ('Aaron', 25),\n",
        "              ('Easton', 34),\n",
        "              (['Jordan', 'John'], 30))\n",
        "\n",
        "age_tuple2"
      ]
    },
    {
      "cell_type": "code",
      "execution_count": 186,
      "metadata": {
        "colab": {
          "base_uri": "https://localhost:8080/",
          "height": 166
        },
        "id": "97CwyXwOZzP8",
        "outputId": "e860607f-783e-4d24-d037-715fe151c363"
      },
      "outputs": [
        {
          "output_type": "error",
          "ename": "TypeError",
          "evalue": "ignored",
          "traceback": [
            "\u001b[0;31m---------------------------------------------------------------------------\u001b[0m",
            "\u001b[0;31mTypeError\u001b[0m                                 Traceback (most recent call last)",
            "\u001b[0;32m<ipython-input-186-b4453b4af653>\u001b[0m in \u001b[0;36m<module>\u001b[0;34m()\u001b[0m\n\u001b[0;32m----> 1\u001b[0;31m \u001b[0mdict\u001b[0m\u001b[0;34m(\u001b[0m\u001b[0mage_tuple2\u001b[0m\u001b[0;34m)\u001b[0m\u001b[0;34m\u001b[0m\u001b[0;34m\u001b[0m\u001b[0m\n\u001b[0m",
            "\u001b[0;31mTypeError\u001b[0m: unhashable type: 'list'"
          ]
        }
      ],
      "source": [
        "dict(age_tuple2)"
      ]
    },
    {
      "cell_type": "code",
      "execution_count": 187,
      "metadata": {
        "colab": {
          "base_uri": "https://localhost:8080/"
        },
        "id": "YfRgH4OaZzP8",
        "outputId": "d2a1abd8-f8d9-424d-b74a-cb9fae4f53bd"
      },
      "outputs": [
        {
          "output_type": "execute_result",
          "data": {
            "text/plain": [
              "(('Leo', 18), ('Aaron', 25), ('Easton', 34), ('Jordan', ['John', 30]))"
            ]
          },
          "metadata": {},
          "execution_count": 187
        }
      ],
      "source": [
        "age_tuple3 = (('Leo', 18),\n",
        "              ('Aaron', 25),\n",
        "              ('Easton', 34),\n",
        "              ('Jordan', ['John', 30]))\n",
        "\n",
        "age_tuple3"
      ]
    },
    {
      "cell_type": "code",
      "execution_count": 188,
      "metadata": {
        "colab": {
          "base_uri": "https://localhost:8080/"
        },
        "id": "cQ1thqFQZzP9",
        "outputId": "1594bd81-85b5-42bb-89d5-17b6dfc431f7"
      },
      "outputs": [
        {
          "output_type": "execute_result",
          "data": {
            "text/plain": [
              "{'Aaron': 25, 'Easton': 34, 'Jordan': ['John', 30], 'Leo': 18}"
            ]
          },
          "metadata": {},
          "execution_count": 188
        }
      ],
      "source": [
        "dict(age_tuple3)"
      ]
    },
    {
      "cell_type": "code",
      "execution_count": 189,
      "metadata": {
        "colab": {
          "base_uri": "https://localhost:8080/"
        },
        "id": "lFkLA77yZzP9",
        "outputId": "6182d42a-7a57-4421-f495-46ef777ce3ad"
      },
      "outputs": [
        {
          "output_type": "execute_result",
          "data": {
            "text/plain": [
              "{'Joanne': 60, 'Maria': 90, 'William': 50}"
            ]
          },
          "metadata": {},
          "execution_count": 189
        }
      ],
      "source": [
        "age_list = [['William', 50],\n",
        "            ['Joanne', 60],\n",
        "            ['Maria', 90]]\n",
        "\n",
        "age_dict = dict(age_list)\n",
        "\n",
        "age_dict"
      ]
    },
    {
      "cell_type": "code",
      "execution_count": 190,
      "metadata": {
        "colab": {
          "base_uri": "https://localhost:8080/"
        },
        "id": "HJHr8xBOZzP9",
        "outputId": "c0d359b7-cb5d-46d6-d4db-164f4f308204"
      },
      "outputs": [
        {
          "output_type": "stream",
          "name": "stdout",
          "text": [
            "Type of age_list is: <class 'list'>\n",
            "Type of age_dict is: <class 'dict'>\n"
          ]
        }
      ],
      "source": [
        "print('Type of age_list is:', type(age_list))\n",
        "\n",
        "print('Type of age_dict is:', type(age_dict))"
      ]
    },
    {
      "cell_type": "code",
      "execution_count": 191,
      "metadata": {
        "colab": {
          "base_uri": "https://localhost:8080/"
        },
        "id": "RmDn8ROEZzP9",
        "outputId": "33498acc-4ed7-45d4-e5af-8389383d8504"
      },
      "outputs": [
        {
          "output_type": "execute_result",
          "data": {
            "text/plain": [
              "{'a', 'e', 'l', 'p'}"
            ]
          },
          "metadata": {},
          "execution_count": 191
        }
      ],
      "source": [
        "set('apple')"
      ]
    },
    {
      "cell_type": "code",
      "execution_count": 192,
      "metadata": {
        "colab": {
          "base_uri": "https://localhost:8080/"
        },
        "id": "bA-W6a_mZzP9",
        "outputId": "b1f5e64c-5cad-488e-ec28-d20afa85dbb9"
      },
      "outputs": [
        {
          "output_type": "execute_result",
          "data": {
            "text/plain": [
              "{'Apple', 'Banana', 'Mango', 'Orange'}"
            ]
          },
          "metadata": {},
          "execution_count": 192
        }
      ],
      "source": [
        "fruit_tuple = ('Apple', 'Orange', 'Mango', 'Banana', 'Banana')\n",
        "\n",
        "fruit_set = set(fruit_tuple)\n",
        "\n",
        "fruit_set"
      ]
    },
    {
      "cell_type": "code",
      "execution_count": 193,
      "metadata": {
        "colab": {
          "base_uri": "https://localhost:8080/"
        },
        "id": "HDsudjejZzP9",
        "outputId": "0fcb5b2b-bfb9-4c6c-8ab5-fff25c3539a5"
      },
      "outputs": [
        {
          "output_type": "execute_result",
          "data": {
            "text/plain": [
              "set"
            ]
          },
          "metadata": {},
          "execution_count": 193
        }
      ],
      "source": [
        "type(fruit_set) "
      ]
    },
    {
      "cell_type": "code",
      "execution_count": 194,
      "metadata": {
        "colab": {
          "base_uri": "https://localhost:8080/",
          "height": 35
        },
        "id": "QrZ-CLZtZzP9",
        "outputId": "190ffc56-f137-43f9-9be7-162a8e2de6a7"
      },
      "outputs": [
        {
          "output_type": "execute_result",
          "data": {
            "application/vnd.google.colaboratory.intrinsic+json": {
              "type": "string"
            },
            "text/plain": [
              "'0x32'"
            ]
          },
          "metadata": {},
          "execution_count": 194
        }
      ],
      "source": [
        "hex(50)"
      ]
    },
    {
      "cell_type": "code",
      "execution_count": 195,
      "metadata": {
        "colab": {
          "base_uri": "https://localhost:8080/",
          "height": 35
        },
        "id": "cJBG1MoOZzP9",
        "outputId": "6a194cba-9502-433b-df81-86cb3e04d603"
      },
      "outputs": [
        {
          "output_type": "execute_result",
          "data": {
            "application/vnd.google.colaboratory.intrinsic+json": {
              "type": "string"
            },
            "text/plain": [
              "'0x3c'"
            ]
          },
          "metadata": {},
          "execution_count": 195
        }
      ],
      "source": [
        "hex(60)"
      ]
    },
    {
      "cell_type": "code",
      "execution_count": 196,
      "metadata": {
        "colab": {
          "base_uri": "https://localhost:8080/",
          "height": 35
        },
        "id": "x1PEMpcXZzP9",
        "outputId": "3245fc58-9fb0-4224-f504-691c1f71ce8f"
      },
      "outputs": [
        {
          "output_type": "execute_result",
          "data": {
            "application/vnd.google.colaboratory.intrinsic+json": {
              "type": "string"
            },
            "text/plain": [
              "'0o62'"
            ]
          },
          "metadata": {},
          "execution_count": 196
        }
      ],
      "source": [
        "oct(50) "
      ]
    },
    {
      "cell_type": "code",
      "execution_count": 197,
      "metadata": {
        "colab": {
          "base_uri": "https://localhost:8080/",
          "height": 35
        },
        "id": "MtjGA1-DZzP-",
        "outputId": "bcd64c55-2824-4c7d-8184-8dc94b960feb"
      },
      "outputs": [
        {
          "output_type": "execute_result",
          "data": {
            "application/vnd.google.colaboratory.intrinsic+json": {
              "type": "string"
            },
            "text/plain": [
              "'0o11'"
            ]
          },
          "metadata": {},
          "execution_count": 197
        }
      ],
      "source": [
        "oct(9)"
      ]
    },
    {
      "cell_type": "code",
      "execution_count": 198,
      "metadata": {
        "colab": {
          "base_uri": "https://localhost:8080/",
          "height": 35
        },
        "id": "iMwlY1yvZzP-",
        "outputId": "fe238822-043f-442f-cd06-955ab34d30fa"
      },
      "outputs": [
        {
          "output_type": "execute_result",
          "data": {
            "application/vnd.google.colaboratory.intrinsic+json": {
              "type": "string"
            },
            "text/plain": [
              "'0b101'"
            ]
          },
          "metadata": {},
          "execution_count": 198
        }
      ],
      "source": [
        "bin(5)"
      ]
    },
    {
      "cell_type": "code",
      "execution_count": 199,
      "metadata": {
        "colab": {
          "base_uri": "https://localhost:8080/",
          "height": 35
        },
        "id": "jbQQLMtyZzP-",
        "outputId": "cf982bff-6191-4e36-8e1f-1a444b724294"
      },
      "outputs": [
        {
          "output_type": "execute_result",
          "data": {
            "application/vnd.google.colaboratory.intrinsic+json": {
              "type": "string"
            },
            "text/plain": [
              "'0b1010'"
            ]
          },
          "metadata": {},
          "execution_count": 199
        }
      ],
      "source": [
        "bin(10)"
      ]
    },
    {
      "cell_type": "code",
      "execution_count": 200,
      "metadata": {
        "colab": {
          "base_uri": "https://localhost:8080/"
        },
        "id": "iN2OzujXZzP-",
        "outputId": "4c7f3f0e-156e-4bf3-9929-c481446577fc"
      },
      "outputs": [
        {
          "output_type": "execute_result",
          "data": {
            "text/plain": [
              "10"
            ]
          },
          "metadata": {},
          "execution_count": 200
        }
      ],
      "source": [
        "int('0b1010',2)"
      ]
    },
    {
      "cell_type": "code",
      "execution_count": 201,
      "metadata": {
        "colab": {
          "base_uri": "https://localhost:8080/"
        },
        "id": "E4aeKZiZZzP-",
        "outputId": "6cc8bf4b-96e3-4b4f-b90c-29f252ed6616"
      },
      "outputs": [
        {
          "output_type": "execute_result",
          "data": {
            "text/plain": [
              "10"
            ]
          },
          "metadata": {},
          "execution_count": 201
        }
      ],
      "source": [
        "int('0b1010', 0)"
      ]
    },
    {
      "cell_type": "code",
      "execution_count": 202,
      "metadata": {
        "colab": {
          "base_uri": "https://localhost:8080/"
        },
        "id": "eVHIrc4QZzP-",
        "outputId": "3593f077-534f-4a6f-ea4a-5036b8dc0880"
      },
      "outputs": [
        {
          "output_type": "execute_result",
          "data": {
            "text/plain": [
              "257"
            ]
          },
          "metadata": {},
          "execution_count": 202
        }
      ],
      "source": [
        "int('0x101', 16)"
      ]
    },
    {
      "cell_type": "code",
      "execution_count": 203,
      "metadata": {
        "colab": {
          "base_uri": "https://localhost:8080/"
        },
        "id": "Vzsg1ochZzP-",
        "outputId": "df6102b3-664c-4c62-f769-0ab8473acd9f"
      },
      "outputs": [
        {
          "output_type": "execute_result",
          "data": {
            "text/plain": [
              "97"
            ]
          },
          "metadata": {},
          "execution_count": 203
        }
      ],
      "source": [
        "ord('a')"
      ]
    },
    {
      "cell_type": "code",
      "execution_count": 204,
      "metadata": {
        "colab": {
          "base_uri": "https://localhost:8080/"
        },
        "id": "rrjMxYNmZzP-",
        "outputId": "e20e207e-47bd-427d-d118-ed9a4f68aaa0"
      },
      "outputs": [
        {
          "output_type": "execute_result",
          "data": {
            "text/plain": [
              "65"
            ]
          },
          "metadata": {},
          "execution_count": 204
        }
      ],
      "source": [
        "ord('A')"
      ]
    },
    {
      "cell_type": "code",
      "execution_count": 205,
      "metadata": {
        "colab": {
          "base_uri": "https://localhost:8080/",
          "height": 35
        },
        "id": "TfGuf9A1ZzQA",
        "outputId": "2b839b71-4134-4f6b-f41a-85e026756fce"
      },
      "outputs": [
        {
          "output_type": "execute_result",
          "data": {
            "application/vnd.google.colaboratory.intrinsic+json": {
              "type": "string"
            },
            "text/plain": [
              "'d'"
            ]
          },
          "metadata": {},
          "execution_count": 205
        }
      ],
      "source": [
        "chr(100)"
      ]
    },
    {
      "cell_type": "code",
      "execution_count": 206,
      "metadata": {
        "colab": {
          "base_uri": "https://localhost:8080/",
          "height": 35
        },
        "id": "TpMOpwEMZzQA",
        "outputId": "02360e82-9dfc-454e-aaf3-bf7e26ba38e5"
      },
      "outputs": [
        {
          "output_type": "execute_result",
          "data": {
            "application/vnd.google.colaboratory.intrinsic+json": {
              "type": "string"
            },
            "text/plain": [
              "'a'"
            ]
          },
          "metadata": {},
          "execution_count": 206
        }
      ],
      "source": [
        "chr(97)"
      ]
    },
    {
      "cell_type": "code",
      "execution_count": 207,
      "metadata": {
        "colab": {
          "base_uri": "https://localhost:8080/"
        },
        "id": "e2xsS9JRZzQB",
        "outputId": "59183cf5-a9e9-429b-b951-a1d82816a319"
      },
      "outputs": [
        {
          "output_type": "execute_result",
          "data": {
            "text/plain": [
              "1j"
            ]
          },
          "metadata": {},
          "execution_count": 207
        }
      ],
      "source": [
        "complex(1j)"
      ]
    },
    {
      "cell_type": "code",
      "execution_count": 208,
      "metadata": {
        "colab": {
          "base_uri": "https://localhost:8080/"
        },
        "id": "ZuNtp61BZzQB",
        "outputId": "cceca05a-33c6-4c8b-832f-551dd9d768a9"
      },
      "outputs": [
        {
          "output_type": "execute_result",
          "data": {
            "text/plain": [
              "(10+0j)"
            ]
          },
          "metadata": {},
          "execution_count": 208
        }
      ],
      "source": [
        "complex(10)"
      ]
    },
    {
      "cell_type": "code",
      "execution_count": 209,
      "metadata": {
        "colab": {
          "base_uri": "https://localhost:8080/"
        },
        "id": "JLRt5UBGZzQB",
        "outputId": "b9fcb4f6-bb6c-4c25-dd78-2556066cf879"
      },
      "outputs": [
        {
          "output_type": "execute_result",
          "data": {
            "text/plain": [
              "(1+2j)"
            ]
          },
          "metadata": {},
          "execution_count": 209
        }
      ],
      "source": [
        "complex(1,2)"
      ]
    },
    {
      "cell_type": "code",
      "execution_count": null,
      "metadata": {
        "id": "CCauPyLVZzQB"
      },
      "outputs": [],
      "source": [
        ""
      ]
    },
    {
      "cell_type": "code",
      "execution_count": null,
      "metadata": {
        "id": "p1Y_Ql3zZzQB"
      },
      "outputs": [],
      "source": [
        ""
      ]
    },
    {
      "cell_type": "code",
      "execution_count": null,
      "metadata": {
        "id": "LkEMnsTMZzQJ"
      },
      "outputs": [],
      "source": [
        ""
      ]
    },
    {
      "cell_type": "code",
      "execution_count": 210,
      "metadata": {
        "colab": {
          "base_uri": "https://localhost:8080/"
        },
        "id": "O3u870gpZzQJ",
        "outputId": "ab65f8fc-9556-4d2e-c5cb-ec92a47e8236"
      },
      "outputs": [
        {
          "output_type": "stream",
          "name": "stdout",
          "text": [
            "Enter salary amount: 700\n",
            "Enter expenses: 230\n",
            "My total savings in a month is:  470\n"
          ]
        }
      ],
      "source": [
        "salary = int(input(\"Enter salary amount: \"))\n",
        "expenses = int(input(\"Enter expenses: \"))\n",
        "\n",
        "savings = salary - expenses\n",
        "\n",
        "print(\"My total savings in a month is: \", savings)"
      ]
    },
    {
      "cell_type": "code",
      "execution_count": 211,
      "metadata": {
        "colab": {
          "base_uri": "https://localhost:8080/"
        },
        "id": "tbHTRQwyZzQJ",
        "outputId": "fef5bdd8-7e97-4bb5-8c67-74ba2be49ed5"
      },
      "outputs": [
        {
          "output_type": "stream",
          "name": "stdout",
          "text": [
            "Enter first variable: 20\n",
            "Enter second variable: 25\n",
            "\n",
            "First_num is: 25 \n",
            "Second_num is: 20\n"
          ]
        }
      ],
      "source": [
        "first_num = int(input(\"Enter first variable: \"))      \n",
        "second_num = int(input(\"Enter second variable: \"))    \n",
        "\n",
        "first_num = first_num + second_num       \n",
        "second_num = first_num - second_num       \n",
        "first_num = first_num - second_num       \n",
        "\n",
        "print (\"\\nFirst_num is:\", first_num , \"\\nSecond_num is:\", second_num)"
      ]
    },
    {
      "cell_type": "code",
      "execution_count": 212,
      "metadata": {
        "colab": {
          "base_uri": "https://localhost:8080/"
        },
        "id": "vIvnpW8kZzQJ",
        "outputId": "ac973d01-e7db-4ffc-a9d7-a32102010fac"
      },
      "outputs": [
        {
          "output_type": "stream",
          "name": "stdout",
          "text": [
            "Enter a number: 12\n",
            "12 + 1212 + 121212 = 122436\n"
          ]
        }
      ],
      "source": [
        "num = int(input(\"Enter a number: \"))\n",
        "\n",
        "temp1 = str(num)                       \n",
        "temp2 = temp1 + temp1                  \n",
        "temp3 = temp1 + temp1 + temp1           \n",
        "\n",
        "total = num + (int(temp2) + int(temp3)) \n",
        "\n",
        "print(temp1, '+', temp2, '+', temp3, '=', total) "
      ]
    },
    {
      "cell_type": "code",
      "execution_count": 213,
      "metadata": {
        "colab": {
          "base_uri": "https://localhost:8080/"
        },
        "id": "y4fypbfaZzQJ",
        "outputId": "d7b27b16-01bb-455f-8d1f-9cc7d79c741f"
      },
      "outputs": [
        {
          "output_type": "stream",
          "name": "stdout",
          "text": [
            "Enter first number: 12\n",
            "Enter second number: 10\n",
            "\n",
            "Quotient: 1\n",
            "Remainder: 2\n"
          ]
        }
      ],
      "source": [
        "num_1 = int(input(\"Enter first number: \"))\n",
        "num_2 = int(input(\"Enter second number: \"))\n",
        "\n",
        "Quotient = int(num_1 / num_2)\n",
        "print(\"\\nQuotient:\", Quotient)\n",
        "        \n",
        "Remainder = num_1 % num_2\n",
        "print(\"Remainder:\", Remainder)"
      ]
    },
    {
      "cell_type": "code",
      "execution_count": 214,
      "metadata": {
        "colab": {
          "base_uri": "https://localhost:8080/"
        },
        "id": "u1zRtjeJZzQJ",
        "outputId": "2253eed1-78e0-4273-93f0-36ec78707dc5"
      },
      "outputs": [
        {
          "output_type": "stream",
          "name": "stdout",
          "text": [
            "Enter the principle amount: 10\n",
            "Enter the time(years): 12\n",
            "Enter the rate: 20\n",
            "The simple interest is: 24.0\n"
          ]
        }
      ],
      "source": [
        "principle = float(input(\"Enter the principle amount: \"))\n",
        "time = int(input(\"Enter the time(years): \"))\n",
        "rate = float(input(\"Enter the rate: \"))\n",
        "\n",
        "simple_int = (principle * time * rate) / 100\n",
        "\n",
        "print(\"The simple interest is:\",simple_int)"
      ]
    },
    {
      "cell_type": "code",
      "execution_count": 215,
      "metadata": {
        "colab": {
          "base_uri": "https://localhost:8080/"
        },
        "id": "0dKS37prZzQJ",
        "outputId": "c66fb102-5fdc-43e3-8505-513d8b177553"
      },
      "outputs": [
        {
          "output_type": "stream",
          "name": "stdout",
          "text": [
            "Give the height in centimeters: 168\n",
            "The length in inches:  66.19\n",
            "The length in feet:  5.44\n"
          ]
        }
      ],
      "source": [
        "cm = int(input(\"Give the height in centimeters: \"))\n",
        "inches = 0.394 * cm\n",
        "feet = 0.0324 * cm\n",
        "\n",
        "print (\"The length in inches: \", round(inches, 2))\n",
        "print (\"The length in feet: \", round(feet, 2))"
      ]
    },
    {
      "cell_type": "code",
      "execution_count": 216,
      "metadata": {
        "colab": {
          "base_uri": "https://localhost:8080/"
        },
        "id": "SV3e41hNZzQJ",
        "outputId": "87039e22-2069-4165-bdd1-dce762a4380e"
      },
      "outputs": [
        {
          "output_type": "stream",
          "name": "stdout",
          "text": [
            "List of cars before the swap:  ['Toyota Camry', 'Honda Accord', 'Honda Civic', 'Toyota Corolla']\n",
            "List of cars after the swap:  ['Honda Civic', 'Honda Accord', 'Toyota Camry', 'Toyota Corolla']\n"
          ]
        }
      ],
      "source": [
        "cars_list = [\"Toyota Camry\", \"Honda Accord\", \"Honda Civic\", \"Toyota Corolla\"]\n",
        "\n",
        "print(\"List of cars before the swap: \", cars_list)\n",
        "\n",
        "cars_list_temp = cars_list[0]\n",
        "\n",
        "cars_list[0] = cars_list[2]\n",
        "\n",
        "cars_list[2] = cars_list_temp\n",
        "\n",
        "print(\"List of cars after the swap: \", cars_list)"
      ]
    },
    {
      "cell_type": "code",
      "execution_count": 217,
      "metadata": {
        "colab": {
          "base_uri": "https://localhost:8080/"
        },
        "id": "RRMSvqBcZzQK",
        "outputId": "b54cb09c-d09f-436e-839c-86150d112565"
      },
      "outputs": [
        {
          "output_type": "stream",
          "name": "stdout",
          "text": [
            "list of cars before the swap:  ['Toyota Camry', 'Honda Accord', 'Honda Civic', 'Toyota Corolla']\n",
            "list of cars after  the swap:  ['Toyota Camry', 'Honda Civic', 'Honda Accord', 'Toyota Corolla']\n"
          ]
        }
      ],
      "source": [
        "cars_list = [\"Toyota Camry\", \"Honda Accord\", \"Honda Civic\", \"Toyota Corolla\"]\n",
        "\n",
        "print(\"list of cars before the swap: \", cars_list)\n",
        "\n",
        "car1 = 1\n",
        "car2 = 2\n",
        "\n",
        "cars_list[car1], cars_list[car2] = cars_list[car2], cars_list[car1]\n",
        "\n",
        "print(\"list of cars after  the swap: \", cars_list)"
      ]
    },
    {
      "cell_type": "code",
      "execution_count": 218,
      "metadata": {
        "colab": {
          "base_uri": "https://localhost:8080/"
        },
        "id": "AsegKmzgZzQK",
        "outputId": "8deaab91-7d7e-427e-d9cb-a897116045a6"
      },
      "outputs": [
        {
          "output_type": "stream",
          "name": "stdout",
          "text": [
            "Student list:  ['Sofia', 'Ella', 'Samuel', 'Ella', 'Aiden', 'Sofia']\n",
            "Number of Students:  6\n",
            "\n",
            "New student list:  ['Aiden', 'Sofia', 'Samuel', 'Ella']\n",
            "Length of modified students list:  4\n",
            "There are 2 duplicate elements\n"
          ]
        }
      ],
      "source": [
        "list_student = [\"Sofia\", \"Ella\", \"Samuel\", \"Ella\", \"Aiden\", \"Sofia\"]\n",
        "\n",
        "print(\"Student list: \", list_student)\n",
        "\n",
        "print(\"Number of Students: \", len(list_student))\n",
        "\n",
        "student_set = set(list_student)\n",
        "\n",
        "print(\"\\nNew student list: \", list(student_set))\n",
        "\n",
        "print(\"Length of modified students list: \", len(student_set))\n",
        "\n",
        "print(\"There are %s duplicate elements\"%(len(list_student) - len(student_set)))"
      ]
    },
    {
      "cell_type": "code",
      "execution_count": 219,
      "metadata": {
        "colab": {
          "base_uri": "https://localhost:8080/"
        },
        "id": "5S-_X5lHZzQK",
        "outputId": "08470b02-1fa1-458f-a709-52508687d077"
      },
      "outputs": [
        {
          "output_type": "stream",
          "name": "stdout",
          "text": [
            "There are 2 duplicate elements\n"
          ]
        }
      ],
      "source": [
        "list_str = [\"Sofia\",\"Ella\",\"Samuel\",\"Ella\",\"Aiden\",\"Sofia\"]\n",
        "\n",
        "len_list_str = len(list_str)\n",
        "\n",
        "len_set_str = len(set(list_str))\n",
        "\n",
        "if len_list_str == len_set_str:\n",
        "    \n",
        "    print(\"There are no duplicate elements\")\n",
        "    \n",
        "else:\n",
        "    \n",
        "    print(\"There are {} duplicate elements\".format(len_list_str - len_set_str))"
      ]
    },
    {
      "cell_type": "code",
      "execution_count": 220,
      "metadata": {
        "colab": {
          "base_uri": "https://localhost:8080/"
        },
        "id": "LHkd7MZEZzQK",
        "outputId": "941124b8-51f5-4a80-ec54-20a013b7cb01"
      },
      "outputs": [
        {
          "output_type": "stream",
          "name": "stdout",
          "text": [
            "The number stored in num_value is : 50\n",
            "The number is an even number\n"
          ]
        }
      ],
      "source": [
        "num_value = 50\n",
        "print(\"The number stored in num_value is :\", num_value)\n",
        "\n",
        "if not num_value % 2 == 0:\n",
        "    print(\"The number is an odd number\")\n",
        "else:\n",
        "    print(\"The number is an even number\")"
      ]
    },
    {
      "cell_type": "code",
      "execution_count": 221,
      "metadata": {
        "colab": {
          "base_uri": "https://localhost:8080/"
        },
        "id": "xgvaEFjEZzQK",
        "outputId": "19237191-b6f3-458c-833a-00ec90a66951"
      },
      "outputs": [
        {
          "output_type": "stream",
          "name": "stdout",
          "text": [
            "Enter some comma separated numbers : 12,23,42,28\n",
            "List :  ['12', '23', '42', '28']\n",
            "Tuple :  ('12', '23', '42', '28')\n"
          ]
        }
      ],
      "source": [
        "values = input(\"Enter some comma separated numbers : \")\n",
        "\n",
        "list_value = values.split(\",\")\n",
        "tuple_value = tuple(list_value)\n",
        "\n",
        "print(\"List : \", list_value)\n",
        "print(\"Tuple : \", tuple_value)"
      ]
    },
    {
      "cell_type": "code",
      "execution_count": 222,
      "metadata": {
        "colab": {
          "base_uri": "https://localhost:8080/"
        },
        "id": "zbPx62fyZzQK",
        "outputId": "64aff285-68f0-4f54-f88b-ea9364567ebc"
      },
      "outputs": [
        {
          "output_type": "stream",
          "name": "stdout",
          "text": [
            "Enter some comma separated words : Kiwi,Apple,Banana\n",
            "['Apple', 'Banana', 'Kiwi']\n"
          ]
        }
      ],
      "source": [
        "list_words = input(\"Enter some comma separated words : \")\n",
        "\n",
        "words = list_words.split(\",\")\n",
        "\n",
        "new_list_words = sorted(words)\n",
        "\n",
        "print (new_list_words)"
      ]
    },
    {
      "cell_type": "markdown",
      "metadata": {
        "id": "Ox1Rb3JgZzQK"
      },
      "source": [
        "what lies behind us and what lies before us are tiny matters compared to what lies within us"
      ]
    },
    {
      "cell_type": "code",
      "execution_count": 223,
      "metadata": {
        "colab": {
          "base_uri": "https://localhost:8080/"
        },
        "id": "GsZazP_QZzQM",
        "outputId": "9f8a76eb-526d-4df0-c99d-24779bee362c"
      },
      "outputs": [
        {
          "output_type": "stream",
          "name": "stdout",
          "text": [
            "Enter some whitespace-separated words : what lies behind us and what lies before us are tiny matters compared to what lies within us\n",
            "and are before behind compared lies matters tiny to us what within\n"
          ]
        }
      ],
      "source": [
        "sentence = input(\"Enter some whitespace-separated words : \")\n",
        "\n",
        "words = sentence.split(\" \")\n",
        "\n",
        "set_of_words = set(words)\n",
        "\n",
        "sorted_set_of_words = sorted(set_of_words)\n",
        "\n",
        "print(\" \".join(sorted_set_of_words))"
      ]
    },
    {
      "cell_type": "code",
      "execution_count": 224,
      "metadata": {
        "colab": {
          "base_uri": "https://localhost:8080/"
        },
        "id": "yazttPHEZzQM",
        "outputId": "72411e15-4b15-40f1-d21d-636969f84f40"
      },
      "outputs": [
        {
          "output_type": "stream",
          "name": "stdout",
          "text": [
            "{1: 1, 2: 4, 3: 9}\n"
          ]
        }
      ],
      "source": [
        "num_dict = dict()\n",
        "\n",
        "num_dict[1] = 1\n",
        "num_dict[2] = 2 ** 2\n",
        "num_dict[3] = 3 ** 2\n",
        "\n",
        "print (num_dict)"
      ]
    },
    {
      "cell_type": "code",
      "execution_count": 225,
      "metadata": {
        "colab": {
          "base_uri": "https://localhost:8080/"
        },
        "id": "lzlyPiUCZzQM",
        "outputId": "0d1794c4-1177-4399-d521-a150e2460183"
      },
      "outputs": [
        {
          "output_type": "stream",
          "name": "stdout",
          "text": [
            "Enter first string: python\n",
            "Enter second string: hello\n",
            "\n",
            "Common letters:  ['o', 'h']\n"
          ]
        }
      ],
      "source": [
        "string_1 = input(\"Enter first string: \")\n",
        "\n",
        "string_2 = input(\"Enter second string: \")\n",
        "\n",
        "set_1 = set(string_1)\n",
        "set_2 = set(string_2)\n",
        "\n",
        "common_char = set_1.intersection(set_2)\n",
        "\n",
        "print(\"\\nCommon letters: \", list(common_char))"
      ]
    },
    {
      "cell_type": "code",
      "execution_count": 226,
      "metadata": {
        "colab": {
          "base_uri": "https://localhost:8080/"
        },
        "id": "zgpczSU9ZzQM",
        "outputId": "994821fc-392b-4c15-933c-335d9afb69b6"
      },
      "outputs": [
        {
          "output_type": "stream",
          "name": "stdout",
          "text": [
            "Numbers before slicing: [10, 11, 12, 13, 14, 15, 16, 17, 18, 19, 20, 21]\n",
            "Length of numbers before slicing:  12\n",
            "\n",
            "First half: [10, 11, 12, 13, 14, 15]\n",
            "Second half: [16, 17, 18, 19, 20, 21]\n"
          ]
        }
      ],
      "source": [
        "list_num = [10, 11, 12, 13, 14, 15, 16, 17, 18, 19, 20, 21]\n",
        "\n",
        "len_of_list = len(list_num)\n",
        "\n",
        "print(\"Numbers before slicing: %s\" %list_num)\n",
        "print(\"Length of numbers before slicing: \", len_of_list)\n",
        "\n",
        "half = int(len_of_list / 2)\n",
        "\n",
        "list_num1 = list_num[:half]\n",
        "list_num2 = list_num[half:]\n",
        "\n",
        "print(\"\\nFirst half: %s\" %list_num1)\n",
        "print(\"Second half: %s\" %list_num2)"
      ]
    },
    {
      "cell_type": "code",
      "execution_count": 227,
      "metadata": {
        "colab": {
          "base_uri": "https://localhost:8080/"
        },
        "id": "fieqPsWoZzQN",
        "outputId": "8b633590-0522-4a22-a460-db8fe73782a6"
      },
      "outputs": [
        {
          "output_type": "stream",
          "name": "stdout",
          "text": [
            "Enter a number: 12\n",
            "Positive number\n"
          ]
        }
      ],
      "source": [
        "num = float(input(\"Enter a number: \"))\n",
        "\n",
        "if num >= 0:\n",
        "    \n",
        "    if num == 0:\n",
        "        print(\"Zero\")\n",
        "        \n",
        "    else:\n",
        "        print(\"Positive number\")\n",
        "        \n",
        "else:\n",
        "    \n",
        "    print(\"Negative number\")"
      ]
    },
    {
      "cell_type": "markdown",
      "metadata": {
        "id": "eGGryifkZzQN"
      },
      "source": [
        "run this cell twice first with var = 3\n",
        "\n",
        "the var = 1+2j"
      ]
    },
    {
      "cell_type": "code",
      "execution_count": 228,
      "metadata": {
        "colab": {
          "base_uri": "https://localhost:8080/"
        },
        "id": "uSWse3GFZzQN",
        "outputId": "9b278aac-c8d4-4b23-f40a-ed5dc866db49"
      },
      "outputs": [
        {
          "output_type": "stream",
          "name": "stdout",
          "text": [
            "Type of the variable is Integer\n"
          ]
        }
      ],
      "source": [
        "var = 3\n",
        "\n",
        "if (type(var) == int):\n",
        "    print(\"Type of the variable is Integer\")\n",
        "    \n",
        "elif (type(var) == float):\n",
        "    print(\"Type of the variable is Float\")\n",
        "    \n",
        "elif (type(var) == complex):\n",
        "    print(\"Type of the variable is Complex\")\n",
        "\n",
        "else:\n",
        "    print(\"Type of the variable is Unknown\")"
      ]
    },
    {
      "cell_type": "code",
      "execution_count": 229,
      "metadata": {
        "colab": {
          "base_uri": "https://localhost:8080/"
        },
        "id": "Zqp4sqRLZzQN",
        "outputId": "c613b85a-9fce-46f1-de20-dce9aaedb35a"
      },
      "outputs": [
        {
          "output_type": "stream",
          "name": "stdout",
          "text": [
            "Enter a number: 59\n",
            "59 is Odd\n"
          ]
        }
      ],
      "source": [
        "num = int(input(\"Enter a number: \"))\n",
        "\n",
        "if (num % 2) == 0:\n",
        "    \n",
        "    print(\"%d is Even\" % num)\n",
        "    \n",
        "else:\n",
        "    \n",
        "    print(\"%d is Odd\" % num)"
      ]
    },
    {
      "cell_type": "code",
      "execution_count": 230,
      "metadata": {
        "colab": {
          "base_uri": "https://localhost:8080/"
        },
        "id": "Bxn2EhvdZzQN",
        "outputId": "652ec3a6-2a0e-4833-84d5-f9757a06a429"
      },
      "outputs": [
        {
          "output_type": "stream",
          "name": "stdout",
          "text": [
            "Enter the first number: 12\n",
            "Operator: /\n",
            "Enter the second number: 10\n",
            "Division:  1.2\n"
          ]
        }
      ],
      "source": [
        "num1 = float(input(\"Enter the first number: \"))\n",
        "\n",
        "operator = input(\"Operator: \")\n",
        "\n",
        "num2 = float(input(\"Enter the second number: \"))\n",
        "\n",
        "if operator == \"+\":\n",
        "    print(\"Addition: \", num1 + num2)\n",
        "\n",
        "elif operator == \"-\":\n",
        "    print(\"Subtraction: \", num1 - num2)\n",
        "\n",
        "elif operator == \"*\":\n",
        "    print(\"Multiplication: \", num1 * num2)\n",
        "\n",
        "elif operator == \"/\":\n",
        "    print(\"Division: \", num1 / num2)\n",
        "    \n",
        "else:\n",
        "    print(\"This is not a valid operator\")"
      ]
    },
    {
      "cell_type": "code",
      "execution_count": 231,
      "metadata": {
        "colab": {
          "base_uri": "https://localhost:8080/"
        },
        "id": "W3pUd9OCZzQO",
        "outputId": "164efe76-8112-4382-e489-776baeb20c4c"
      },
      "outputs": [
        {
          "output_type": "stream",
          "name": "stdout",
          "text": [
            "Enter a number: 10\n",
            "This number is divisible by 5\n"
          ]
        }
      ],
      "source": [
        "num_1 = int(input(\"Enter a number: \"))\n",
        "\n",
        "if num_1 % 5 == 0 and num_1 % 7 == 0:\n",
        "    print(\"This number is divisible by both 5 and 7\")\n",
        "    \n",
        "elif num_1 % 5 == 0:\n",
        "    print(\"This number is divisible by 5\")\n",
        "    \n",
        "elif num_1 % 7 == 0:\n",
        "    print(\"This number is divisible by 7\")\n",
        "    \n",
        "else:\n",
        "    print(\"This number is neither divisible by 5 nor 7\")"
      ]
    },
    {
      "cell_type": "code",
      "execution_count": 232,
      "metadata": {
        "colab": {
          "base_uri": "https://localhost:8080/"
        },
        "id": "eLDy4kDpZzQO",
        "outputId": "6edabc6b-2ec7-40d6-f1cc-ba537157999a"
      },
      "outputs": [
        {
          "output_type": "stream",
          "name": "stdout",
          "text": [
            "Enter a number: 13000\n",
            "This bike is very expensive\n"
          ]
        }
      ],
      "source": [
        "bike_price = int(input('Enter a number: '))\n",
        "\n",
        "if bike_price < 4000:\n",
        "    \n",
        "    print(\"It's a cheap bike\")\n",
        "    \n",
        "elif bike_price >= 4000 and bike_price < 7000:\n",
        "    print(\"It's a moderately priced bike\")\n",
        "    \n",
        "elif bike_price >= 7000 and bike_price < 12000:\n",
        "    print(\"It's an expensive bike\")\n",
        "    \n",
        "else:\n",
        "    print(\"This bike is very expensive\")"
      ]
    },
    {
      "cell_type": "code",
      "execution_count": 233,
      "metadata": {
        "colab": {
          "base_uri": "https://localhost:8080/"
        },
        "id": "1lKaM1eXZzQO",
        "outputId": "1e13cc1a-ef78-4485-f035-035418e31ce2"
      },
      "outputs": [
        {
          "output_type": "stream",
          "name": "stdout",
          "text": [
            "Enter dog's age in human years: 3\n",
            "The dog's age in dog years is 25\n"
          ]
        }
      ],
      "source": [
        "human_age = int(input(\"Enter dog's age in human years: \"))\n",
        "\n",
        "if human_age < 0:\n",
        "    print(\"Age must be a positive number.\")\n",
        "    exit()\n",
        "    \n",
        "if human_age <= 2:\n",
        "    dog_age = human_age * 10.5\n",
        "    \n",
        "else:\n",
        "    dog_age = 21 + (human_age - 2)*4\n",
        "\n",
        "print(\"The dog's age in dog years is\", dog_age)"
      ]
    },
    {
      "cell_type": "code",
      "execution_count": 234,
      "metadata": {
        "colab": {
          "base_uri": "https://localhost:8080/"
        },
        "id": "ta9ijv_uZzQO",
        "outputId": "689c1dcb-be15-4317-c214-70cb59842ceb"
      },
      "outputs": [
        {
          "output_type": "stream",
          "name": "stdout",
          "text": [
            "Enter a letter of the alphabet: y\n",
            "Y is ambiguous. It depends where it is used\n"
          ]
        }
      ],
      "source": [
        "letter = input(\"Enter a letter of the alphabet: \")\n",
        "letter = letter.lower()\n",
        "\n",
        "if letter in ('a', 'e', 'i', 'o', 'u'):\n",
        "    \n",
        "    print(\"%s is a vowel.\" % letter)\n",
        "    \n",
        "elif letter == 'y':\n",
        "    print(\"Y is ambiguous. It depends where it is used\")\n",
        "    \n",
        "else:\n",
        "    print(\"%s is a consonant.\" % letter) "
      ]
    },
    {
      "cell_type": "code",
      "execution_count": 235,
      "metadata": {
        "colab": {
          "base_uri": "https://localhost:8080/"
        },
        "id": "Y4kUcGLCZzQO",
        "outputId": "76d8cef4-5ffc-495e-96b7-82b5ee63d8ad"
      },
      "outputs": [
        {
          "output_type": "stream",
          "name": "stdout",
          "text": [
            "Enter the name of the Month: April\n",
            "No. of days: 30 days\n"
          ]
        }
      ],
      "source": [
        "month_name = input(\"Enter the name of the Month: \")\n",
        "\n",
        "if month_name == \"February\":\n",
        "    print(\"No. of days: 28/29 days\")\n",
        "    \n",
        "elif month_name in (\"April\", \"June\", \"September\", \"November\"):\n",
        "    print(\"No. of days: 30 days\")\n",
        "    \n",
        "elif month_name in (\"January\", \"March\", \"May\", \"July\", \"August\", \"October\", \"December\"):\n",
        "    print(\"No. of days: 31 days\")\n",
        "    \n",
        "else:\n",
        "    print(\"Give a correct month name\") "
      ]
    },
    {
      "cell_type": "code",
      "execution_count": 236,
      "metadata": {
        "colab": {
          "base_uri": "https://localhost:8080/"
        },
        "id": "DEsodppQZzQO",
        "outputId": "5606c68a-6064-42b7-ed4c-6be79f720433"
      },
      "outputs": [
        {
          "output_type": "stream",
          "name": "stdout",
          "text": [
            "Enter first number: 34\n",
            "Enter second number: 23\n",
            "Enter third number: 45\n",
            "\n",
            "The median is 34.0\n"
          ]
        }
      ],
      "source": [
        "num_1 = float(input(\"Enter first number: \"))\n",
        "num_2 = float(input(\"Enter second number: \"))\n",
        "num_3 = float(input(\"Enter third number: \"))\n",
        "\n",
        "if num_1 > num_2:\n",
        "    \n",
        "    if num_1 < num_3:\n",
        "        median = num_1\n",
        "        \n",
        "    elif num_2 > num_3:\n",
        "        median = num_2\n",
        "        \n",
        "    else:\n",
        "        median = num_3\n",
        "        \n",
        "else:\n",
        "    if num_1 > num_3:\n",
        "        median = num_1\n",
        "        \n",
        "    elif num_2 < num_3:\n",
        "        median = num_2\n",
        "        \n",
        "    else:\n",
        "        median = num_3\n",
        "\n",
        "print(\"\\nThe median is\", median)"
      ]
    },
    {
      "cell_type": "code",
      "execution_count": 237,
      "metadata": {
        "colab": {
          "base_uri": "https://localhost:8080/"
        },
        "id": "2Mc9xUG_ZzQO",
        "outputId": "b12bd499-7700-494b-f7f7-4cd59dcd2453"
      },
      "outputs": [
        {
          "output_type": "stream",
          "name": "stdout",
          "text": [
            "a: 1\n",
            "b: 12\n",
            "c: 12\n",
            "Isosceles triangle\n"
          ]
        }
      ],
      "source": [
        "a = int(input(\"a: \"))\n",
        "b = int(input(\"b: \"))\n",
        "c = int(input(\"c: \"))\n",
        "\n",
        "if a == b == c:\n",
        "    print(\"Equilateral triangle\")\n",
        "    \n",
        "elif a == b or b == c or c == a:\n",
        "    print(\"Isosceles triangle\")\n",
        "    \n",
        "else:\n",
        "    print(\"\\nScalene triangle\")"
      ]
    },
    {
      "cell_type": "code",
      "execution_count": 238,
      "metadata": {
        "colab": {
          "base_uri": "https://localhost:8080/"
        },
        "id": "kh80tnIpZzQP",
        "outputId": "8a7b46e5-f314-4697-bb82-833be02ecf70"
      },
      "outputs": [
        {
          "output_type": "stream",
          "name": "stdout",
          "text": [
            "Enter the string: madam\n",
            "The string is a palindrome\n"
          ]
        }
      ],
      "source": [
        "str_value = input(\"Enter the string: \")\n",
        "\n",
        "reversed_str = str_value[::-1]\n",
        "\n",
        "if(str_value == reversed_str):\n",
        "      print(\"The string is a palindrome\")\n",
        "        \n",
        "else:\n",
        "      print(\"The string is not a palindrome\")"
      ]
    },
    {
      "cell_type": "code",
      "execution_count": 239,
      "metadata": {
        "colab": {
          "base_uri": "https://localhost:8080/"
        },
        "id": "E9IMA3vdZzQP",
        "outputId": "2a8577ad-3d78-4d31-e660-3bdadd1c20bf"
      },
      "outputs": [
        {
          "output_type": "stream",
          "name": "stdout",
          "text": [
            "How many days are there in a leap year? 366\n",
            "You entered: 366\n",
            "You have cleared the first level.\n",
            "\n",
            "Which month has an extra day in a leap year?march\n",
            "You have failed the test.\n"
          ]
        }
      ],
      "source": [
        "ans = int(input(\"How many days are there in a leap year? \"))\n",
        "print(\"You entered:\", ans)\n",
        "    \n",
        "if ans == 366 :\n",
        "    print(\"You have cleared the first level.\")\n",
        "    \n",
        "    ans = input(\"\\nWhich month has an extra day in a leap year?\").lower()\n",
        "    if ans == \"february\" :\n",
        "        \n",
        "        print(\"You have cleared the test.\")\n",
        "        \n",
        "    else :\n",
        "        \n",
        "        print(\"You have failed the test.\")\n",
        "        \n",
        "else :\n",
        "    print(\"Your answer is wrong, please try again.\")"
      ]
    },
    {
      "cell_type": "code",
      "execution_count": 240,
      "metadata": {
        "colab": {
          "base_uri": "https://localhost:8080/"
        },
        "id": "Dtfts2-YZzQP",
        "outputId": "db702829-276e-4cb6-de72-069b8dcbfc39"
      },
      "outputs": [
        {
          "output_type": "stream",
          "name": "stdout",
          "text": [
            "Enter a score: 75\n",
            "C grade\n"
          ]
        }
      ],
      "source": [
        "score = int(input(\"Enter a score: \"))\n",
        "\n",
        "if score >= 90:\n",
        "    print(\"A grade\")\n",
        "\n",
        "elif score >=80:\n",
        "    print(\"B grade\")\n",
        "\n",
        "elif score >=70:\n",
        "    print(\"C grade\")\n",
        "\n",
        "elif score >= 50:\n",
        "    print(\"D grade\")\n",
        "\n",
        "else:\n",
        "    print(\"Fail\")"
      ]
    },
    {
      "cell_type": "code",
      "execution_count": 241,
      "metadata": {
        "colab": {
          "base_uri": "https://localhost:8080/"
        },
        "id": "kH-PSHnPZzQP",
        "outputId": "935e233b-5ba8-420c-c2d5-a82e2359b23f"
      },
      "outputs": [
        {
          "output_type": "stream",
          "name": "stdout",
          "text": [
            "Enter annual salary: 40000\n",
            "Enter years of service: 8\n",
            "Bonus is:  2000.0\n"
          ]
        }
      ],
      "source": [
        "salary = int(input(\"Enter annual salary: \"))\n",
        "\n",
        "years_service = int(input(\"Enter years of service: \"))\n",
        "\n",
        "if years_service >= 10: \n",
        "    print (\"Bonus is: \", .15 * salary)\n",
        "\n",
        "elif years_service >= 5 and years_service < 10:\n",
        "    print (\"Bonus is: \", .05 * salary)\n",
        "    \n",
        "else:\n",
        "    print (\"No bonus\")"
      ]
    },
    {
      "cell_type": "code",
      "execution_count": 242,
      "metadata": {
        "colab": {
          "base_uri": "https://localhost:8080/"
        },
        "id": "W1bynBCLZzQP",
        "outputId": "3c4a9d16-c164-475b-b069-33429da87314"
      },
      "outputs": [
        {
          "output_type": "stream",
          "name": "stdout",
          "text": [
            "Enter salary amount: 700\n",
            "Enter expenses: 230\n",
            "My total savings in a month is:  470\n"
          ]
        }
      ],
      "source": [
        "salary = int(input(\"Enter salary amount: \"))\n",
        "expenses = int(input(\"Enter expenses: \"))\n",
        "\n",
        "savings = salary - expenses\n",
        "\n",
        "print(\"My total savings in a month is: \", savings)"
      ]
    },
    {
      "cell_type": "code",
      "execution_count": 243,
      "metadata": {
        "colab": {
          "base_uri": "https://localhost:8080/"
        },
        "id": "d89EkElRZzQS",
        "outputId": "c2bdd959-bf35-4f36-c4c1-29095e6e4ef8"
      },
      "outputs": [
        {
          "output_type": "stream",
          "name": "stdout",
          "text": [
            "Type of the variable is Integer\n"
          ]
        }
      ],
      "source": [
        "var = 3\n",
        "\n",
        "if (type(var) == int):\n",
        "    print(\"Type of the variable is Integer\")\n",
        "    \n",
        "elif (type(var) == float):\n",
        "    print(\"Type of the variable is Float\")\n",
        "    \n",
        "elif (type(var) == complex):\n",
        "    print(\"Type of the variable is Complex\")\n",
        "\n",
        "else:\n",
        "    print(\"Type of the variable is Unknown\")"
      ]
    },
    {
      "cell_type": "code",
      "execution_count": 244,
      "metadata": {
        "colab": {
          "base_uri": "https://localhost:8080/"
        },
        "id": "qd-zwSOHZzQT",
        "outputId": "7d6065e6-82c4-444e-9e4e-6c855541dd19"
      },
      "outputs": [
        {
          "output_type": "stream",
          "name": "stdout",
          "text": [
            "Enter a number: 35\n",
            "This number is divisible by both 5 and 7\n"
          ]
        }
      ],
      "source": [
        "num_1 = int(input(\"Enter a number: \"))\n",
        "\n",
        "if num_1 % 5 == 0 and num_1 % 7 == 0:\n",
        "    print(\"This number is divisible by both 5 and 7\")\n",
        "    \n",
        "elif num_1 % 5 == 0:\n",
        "    print(\"This number is divisible by 5\")\n",
        "    \n",
        "elif num_1 % 7 == 0:\n",
        "    print(\"This number is divisible by 7\")\n",
        "    \n",
        "else:\n",
        "    print(\"This number is neither divisible by 5 nor 7\")"
      ]
    },
    {
      "cell_type": "code",
      "execution_count": 245,
      "metadata": {
        "colab": {
          "base_uri": "https://localhost:8080/"
        },
        "id": "giGXexlOZzQT",
        "outputId": "5e93396e-4d58-4ccf-908a-f40e04ab6f3f"
      },
      "outputs": [
        {
          "output_type": "stream",
          "name": "stdout",
          "text": [
            "Enter dog's age in human years: 3\n",
            "The dog's age in dog years is 25\n"
          ]
        }
      ],
      "source": [
        "human_age = int(input(\"Enter dog's age in human years: \"))\n",
        "\n",
        "if human_age < 0:\n",
        "    print(\"Age must be a positive number.\")\n",
        "    exit()\n",
        "    \n",
        "if human_age <= 2:\n",
        "    dog_age = human_age * 10.5\n",
        "    \n",
        "else:\n",
        "    dog_age = 21 + (human_age - 2)*4\n",
        "\n",
        "print(\"The dog's age in dog years is\", dog_age)"
      ]
    },
    {
      "cell_type": "code",
      "execution_count": null,
      "metadata": {
        "id": "HG6-OP4SZzQV",
        "outputId": "39ff836a-a251-4eb3-e145-224476ebd1b5"
      },
      "outputs": [
        {
          "name": "stdout",
          "output_type": "stream",
          "text": [
            "Enter annual salary: 40000\n",
            "Enter years of service: 8\n",
            "Bonus is:  2000.0\n"
          ]
        }
      ],
      "source": [
        "salary = int(input(\"Enter annual salary: \"))\n",
        "\n",
        "years_service = int(input(\"Enter years of service: \"))\n",
        "\n",
        "if years_service >= 10: \n",
        "    print (\"Bonus is: \", .15 * salary)\n",
        "\n",
        "elif years_service >= 5 and years_service < 10:\n",
        "    print (\"Bonus is: \", .05 * salary)\n",
        "    \n",
        "else:\n",
        "    print (\"No bonus\")"
      ]
    },
    {
      "cell_type": "code",
      "execution_count": 247,
      "metadata": {
        "colab": {
          "base_uri": "https://localhost:8080/"
        },
        "id": "4u1NBL0mZzQZ",
        "outputId": "d1bfbd34-07b3-4c8f-c65e-508e262c6c4e"
      },
      "outputs": [
        {
          "output_type": "stream",
          "name": "stdout",
          "text": [
            "Enter a letter of the alphabet: p\n",
            "p is a consonant.\n"
          ]
        }
      ],
      "source": [
        "letter = input(\"Enter a letter of the alphabet: \")\n",
        "letter = letter.lower()\n",
        "\n",
        "if letter in ('a', 'e', 'i', 'o', 'u'):\n",
        "    \n",
        "    print(\"%s is a vowel.\" % letter)\n",
        "    \n",
        "elif letter == 'y':\n",
        "    print(\"Y is ambiguous. It depends where it is used\")\n",
        "    \n",
        "else:\n",
        "    print(\"%s is a consonant.\" % letter) "
      ]
    }
  ],
  "metadata": {
    "kernelspec": {
      "display_name": "Python 3",
      "language": "python",
      "name": "python3"
    },
    "language_info": {
      "codemirror_mode": {
        "name": "ipython",
        "version": 3
      },
      "file_extension": ".py",
      "mimetype": "text/x-python",
      "name": "python",
      "nbconvert_exporter": "python",
      "pygments_lexer": "ipython3",
      "version": "3.7.3"
    },
    "colab": {
      "name": "3-If-Else.ipynb",
      "provenance": [],
      "collapsed_sections": []
    }
  },
  "nbformat": 4,
  "nbformat_minor": 0
}