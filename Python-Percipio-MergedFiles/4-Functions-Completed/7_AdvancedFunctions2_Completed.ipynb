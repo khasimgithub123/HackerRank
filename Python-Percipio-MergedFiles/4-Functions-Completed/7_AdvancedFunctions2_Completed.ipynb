{
  "cells": [
    {
      "cell_type": "code",
      "execution_count": 1,
      "metadata": {
        "id": "I8BteNxOjzUg"
      },
      "outputs": [],
      "source": [
        "def hello(name):\n",
        "    \n",
        "    print(\"Hello\", name)\n",
        "    hello(name)"
      ]
    },
    {
      "cell_type": "code",
      "execution_count": null,
      "metadata": {
        "id": "eW8_d6rdjzUh",
        "outputId": "61864cf9-3eec-44ed-98c5-cca0e94e8b89"
      },
      "outputs": [
        {
          "name": "stdout",
          "output_type": "stream",
          "text": [
            "Hello Ron\n",
            "Hello Ron\n",
            "Hello Ron\n",
            "Hello Ron\n",
            "Hello Ron\n",
            "Hello Ron\n",
            "Hello Ron\n",
            "Hello Ron\n",
            "Hello Ron\n",
            "Hello Ron\n",
            "Hello Ron\n",
            "Hello Ron\n",
            "Hello Ron\n",
            "Hello Ron\n",
            "Hello Ron\n",
            "Hello Ron\n",
            "Hello Ron\n",
            "Hello Ron\n",
            "Hello Ron\n",
            "Hello Ron\n",
            "Hello Ron\n",
            "Hello Ron\n",
            "Hello Ron\n",
            "Hello Ron\n",
            "Hello Ron\n",
            "Hello Ron\n",
            "Hello Ron\n",
            "Hello Ron\n",
            "Hello Ron\n",
            "Hello Ron\n",
            "Hello Ron\n",
            "Hello Ron\n",
            "Hello Ron\n",
            "Hello Ron\n",
            "Hello Ron\n",
            "Hello Ron\n",
            "Hello Ron\n",
            "Hello Ron\n",
            "Hello Ron\n",
            "Hello Ron\n",
            "Hello Ron\n",
            "Hello Ron\n",
            "Hello Ron\n",
            "Hello Ron\n",
            "Hello Ron\n",
            "Hello Ron\n",
            "Hello Ron\n",
            "Hello Ron\n",
            "Hello Ron\n",
            "Hello Ron\n",
            "Hello Ron\n",
            "Hello Ron\n",
            "Hello Ron\n",
            "Hello Ron\n",
            "Hello Ron\n",
            "Hello Ron\n",
            "Hello Ron\n",
            "Hello Ron\n",
            "Hello Ron\n",
            "Hello Ron\n",
            "Hello Ron\n",
            "Hello Ron\n",
            "Hello Ron\n",
            "Hello Ron\n",
            "Hello Ron\n",
            "Hello Ron\n",
            "Hello Ron\n",
            "Hello Ron\n",
            "Hello Ron\n",
            "Hello Ron\n",
            "Hello Ron\n",
            "Hello Ron\n",
            "Hello Ron\n",
            "Hello Ron\n",
            "Hello Ron\n",
            "Hello Ron\n",
            "Hello Ron\n",
            "Hello Ron\n",
            "Hello Ron\n",
            "Hello Ron\n",
            "Hello Ron\n",
            "Hello Ron\n",
            "Hello Ron\n",
            "Hello Ron\n",
            "Hello Ron\n",
            "Hello Ron\n",
            "Hello Ron\n",
            "Hello Ron\n",
            "Hello Ron\n",
            "Hello Ron\n",
            "Hello Ron\n",
            "Hello Ron\n",
            "Hello Ron\n",
            "Hello Ron\n",
            "Hello Ron\n",
            "Hello Ron\n",
            "Hello Ron\n",
            "Hello Ron\n",
            "Hello Ron\n",
            "Hello Ron\n",
            "Hello Ron\n",
            "Hello Ron\n",
            "Hello Ron\n",
            "Hello Ron\n",
            "Hello Ron\n",
            "Hello Ron\n",
            "Hello Ron\n",
            "Hello Ron\n",
            "Hello Ron\n",
            "Hello Ron\n",
            "Hello Ron\n",
            "Hello Ron\n",
            "Hello Ron\n",
            "Hello Ron\n",
            "Hello Ron\n",
            "Hello Ron\n",
            "Hello Ron\n",
            "Hello Ron\n",
            "Hello Ron\n",
            "Hello Ron\n",
            "Hello Ron\n",
            "Hello Ron\n",
            "Hello Ron\n",
            "Hello Ron\n",
            "Hello Ron\n",
            "Hello Ron\n",
            "Hello Ron\n",
            "Hello Ron\n",
            "Hello Ron\n",
            "Hello Ron\n",
            "Hello Ron\n",
            "Hello Ron\n",
            "Hello Ron\n",
            "Hello Ron\n",
            "Hello Ron\n",
            "Hello Ron\n",
            "Hello Ron\n",
            "Hello Ron\n",
            "Hello Ron\n",
            "Hello Ron\n",
            "Hello Ron\n",
            "Hello Ron\n",
            "Hello Ron\n",
            "Hello Ron\n",
            "Hello Ron\n",
            "Hello Ron\n",
            "Hello Ron\n",
            "Hello Ron\n",
            "Hello Ron\n",
            "Hello Ron\n",
            "Hello Ron\n",
            "Hello Ron\n",
            "Hello Ron\n",
            "Hello Ron\n",
            "Hello Ron\n",
            "Hello Ron\n",
            "Hello Ron\n",
            "Hello Ron\n",
            "Hello Ron\n",
            "Hello Ron\n",
            "Hello Ron\n",
            "Hello Ron\n",
            "Hello Ron\n",
            "Hello Ron\n",
            "Hello Ron\n",
            "Hello Ron\n",
            "Hello Ron\n",
            "Hello Ron\n",
            "Hello Ron\n",
            "Hello Ron\n",
            "Hello Ron\n",
            "Hello Ron\n",
            "Hello Ron\n",
            "Hello Ron\n",
            "Hello Ron\n",
            "Hello Ron\n",
            "Hello Ron\n",
            "Hello Ron\n",
            "Hello Ron\n",
            "Hello Ron\n",
            "Hello Ron\n",
            "Hello Ron\n",
            "Hello Ron\n",
            "Hello Ron\n",
            "Hello Ron\n",
            "Hello Ron\n",
            "Hello Ron\n",
            "Hello Ron\n",
            "Hello Ron\n",
            "Hello Ron\n",
            "Hello Ron\n",
            "Hello Ron\n",
            "Hello Ron\n",
            "Hello Ron\n",
            "Hello Ron\n",
            "Hello Ron\n",
            "Hello Ron\n",
            "Hello Ron\n",
            "Hello Ron\n",
            "Hello Ron\n",
            "Hello Ron\n",
            "Hello Ron\n",
            "Hello Ron\n",
            "Hello Ron\n",
            "Hello Ron\n",
            "Hello Ron\n",
            "Hello Ron\n",
            "Hello Ron\n",
            "Hello Ron\n",
            "Hello Ron\n",
            "Hello Ron\n",
            "Hello Ron\n",
            "Hello Ron\n",
            "Hello Ron\n",
            "Hello Ron\n",
            "Hello Ron\n",
            "Hello Ron\n",
            "Hello Ron\n",
            "Hello Ron\n",
            "Hello Ron\n",
            "Hello Ron\n",
            "Hello Ron\n",
            "Hello Ron\n",
            "Hello Ron\n",
            "Hello Ron\n",
            "Hello Ron\n",
            "Hello Ron\n",
            "Hello Ron\n",
            "Hello Ron\n",
            "Hello Ron\n",
            "Hello Ron\n",
            "Hello Ron\n",
            "Hello Ron\n",
            "Hello Ron\n",
            "Hello Ron\n",
            "Hello Ron\n",
            "Hello Ron\n",
            "Hello Ron\n",
            "Hello Ron\n",
            "Hello Ron\n",
            "Hello Ron\n",
            "Hello Ron\n",
            "Hello Ron\n",
            "Hello Ron\n",
            "Hello Ron\n",
            "Hello Ron\n",
            "Hello Ron\n",
            "Hello Ron\n",
            "Hello Ron\n",
            "Hello Ron\n",
            "Hello Ron\n",
            "Hello Ron\n",
            "Hello Ron\n",
            "Hello Ron\n",
            "Hello Ron\n",
            "Hello Ron\n",
            "Hello Ron\n",
            "Hello Ron\n",
            "Hello Ron\n",
            "Hello Ron\n",
            "Hello Ron\n",
            "Hello Ron\n",
            "Hello Ron\n",
            "Hello Ron\n",
            "Hello Ron\n",
            "Hello Ron\n",
            "Hello Ron\n",
            "Hello Ron\n",
            "Hello Ron\n",
            "Hello Ron\n",
            "Hello Ron\n",
            "Hello Ron\n",
            "Hello Ron\n",
            "Hello Ron\n",
            "Hello Ron\n",
            "Hello Ron\n",
            "Hello Ron\n",
            "Hello Ron\n",
            "Hello Ron\n",
            "Hello Ron\n",
            "Hello Ron\n",
            "Hello Ron\n",
            "Hello Ron\n",
            "Hello Ron\n",
            "Hello Ron\n",
            "Hello Ron\n",
            "Hello Ron\n",
            "Hello Ron\n",
            "Hello Ron\n",
            "Hello Ron\n",
            "Hello Ron\n",
            "Hello Ron\n",
            "Hello Ron\n",
            "Hello Ron\n",
            "Hello Ron\n",
            "Hello Ron\n",
            "Hello Ron\n",
            "Hello Ron\n",
            "Hello Ron\n",
            "Hello Ron\n",
            "Hello Ron\n",
            "Hello Ron\n",
            "Hello Ron\n",
            "Hello Ron\n",
            "Hello Ron\n",
            "Hello Ron\n",
            "Hello Ron\n",
            "Hello Ron\n",
            "Hello Ron\n",
            "Hello Ron\n",
            "Hello Ron\n",
            "Hello Ron\n",
            "Hello Ron\n",
            "Hello Ron\n",
            "Hello Ron\n",
            "Hello Ron\n",
            "Hello Ron\n",
            "Hello Ron\n",
            "Hello Ron\n",
            "Hello Ron\n",
            "Hello Ron\n",
            "Hello Ron\n",
            "Hello Ron\n",
            "Hello Ron\n",
            "Hello Ron\n",
            "Hello Ron\n",
            "Hello Ron\n",
            "Hello Ron\n",
            "Hello Ron\n",
            "Hello Ron\n",
            "Hello Ron\n",
            "Hello Ron\n",
            "Hello Ron\n",
            "Hello Ron\n",
            "Hello Ron\n",
            "Hello Ron\n",
            "Hello Ron\n",
            "Hello Ron\n",
            "Hello Ron\n",
            "Hello Ron\n",
            "Hello Ron\n",
            "Hello Ron\n",
            "Hello Ron\n",
            "Hello Ron\n",
            "Hello Ron\n",
            "Hello Ron\n",
            "Hello Ron\n",
            "Hello Ron\n",
            "Hello Ron\n",
            "Hello Ron\n",
            "Hello Ron\n",
            "Hello Ron\n",
            "Hello Ron\n",
            "Hello Ron\n",
            "Hello Ron\n",
            "Hello Ron\n",
            "Hello Ron\n",
            "Hello Ron\n",
            "Hello Ron\n",
            "Hello Ron\n",
            "Hello Ron\n",
            "Hello Ron\n",
            "Hello Ron\n",
            "Hello Ron\n",
            "Hello Ron\n",
            "Hello Ron\n",
            "Hello Ron\n",
            "Hello Ron\n",
            "Hello Ron\n",
            "Hello Ron\n",
            "Hello Ron\n",
            "Hello Ron\n",
            "Hello Ron\n",
            "Hello Ron\n",
            "Hello Ron\n",
            "Hello Ron\n",
            "Hello Ron\n",
            "Hello Ron\n",
            "Hello Ron\n",
            "Hello Ron\n",
            "Hello Ron\n",
            "Hello Ron\n",
            "Hello Ron\n",
            "Hello Ron\n",
            "Hello Ron\n",
            "Hello Ron\n",
            "Hello Ron\n",
            "Hello Ron\n",
            "Hello Ron\n",
            "Hello Ron\n",
            "Hello Ron\n",
            "Hello Ron\n",
            "Hello Ron\n",
            "Hello Ron\n",
            "Hello Ron\n",
            "Hello Ron\n",
            "Hello Ron\n",
            "Hello Ron\n",
            "Hello Ron\n",
            "Hello Ron\n",
            "Hello Ron\n",
            "Hello Ron\n",
            "Hello Ron\n",
            "Hello Ron\n",
            "Hello Ron\n",
            "Hello Ron\n",
            "Hello Ron\n",
            "Hello Ron\n",
            "Hello Ron\n",
            "Hello Ron\n",
            "Hello Ron\n",
            "Hello Ron\n",
            "Hello Ron\n",
            "Hello Ron\n",
            "Hello Ron\n",
            "Hello Ron\n",
            "Hello Ron\n",
            "Hello Ron\n",
            "Hello Ron\n",
            "Hello Ron\n",
            "Hello Ron\n",
            "Hello Ron\n",
            "Hello Ron\n",
            "Hello Ron\n",
            "Hello Ron\n",
            "Hello Ron\n",
            "Hello Ron\n",
            "Hello Ron\n",
            "Hello Ron\n",
            "Hello Ron\n",
            "Hello Ron\n",
            "Hello Ron\n",
            "Hello Ron\n",
            "Hello Ron\n",
            "Hello Ron\n",
            "Hello Ron\n",
            "Hello Ron\n",
            "Hello Ron\n",
            "Hello Ron\n",
            "Hello Ron\n",
            "Hello Ron\n",
            "Hello Ron\n",
            "Hello Ron\n",
            "Hello Ron\n",
            "Hello Ron\n",
            "Hello Ron\n",
            "Hello Ron\n",
            "Hello Ron\n",
            "Hello Ron\n",
            "Hello Ron\n",
            "Hello Ron\n",
            "Hello Ron\n",
            "Hello Ron\n",
            "Hello Ron\n",
            "Hello Ron\n",
            "Hello Ron\n",
            "Hello Ron\n",
            "Hello Ron\n",
            "Hello Ron\n",
            "Hello Ron\n",
            "Hello Ron\n",
            "Hello Ron\n",
            "Hello Ron\n",
            "Hello Ron\n",
            "Hello Ron\n",
            "Hello Ron\n",
            "Hello Ron\n",
            "Hello Ron\n",
            "Hello Ron\n",
            "Hello Ron\n",
            "Hello Ron\n",
            "Hello Ron\n",
            "Hello Ron\n",
            "Hello Ron\n",
            "Hello Ron\n",
            "Hello Ron\n",
            "Hello Ron\n",
            "Hello Ron\n",
            "Hello Ron\n",
            "Hello Ron\n",
            "Hello Ron\n",
            "Hello Ron\n",
            "Hello Ron\n",
            "Hello Ron\n",
            "Hello Ron\n",
            "Hello Ron\n",
            "Hello Ron\n",
            "Hello Ron\n",
            "Hello Ron\n",
            "Hello Ron\n",
            "Hello Ron\n",
            "Hello Ron\n",
            "Hello Ron\n",
            "Hello Ron\n",
            "Hello Ron\n",
            "Hello Ron\n",
            "Hello Ron\n",
            "Hello Ron\n",
            "Hello Ron\n",
            "Hello Ron\n",
            "Hello Ron\n",
            "Hello Ron\n",
            "Hello Ron\n",
            "Hello Ron\n",
            "Hello Ron\n",
            "Hello Ron\n",
            "Hello Ron\n",
            "Hello Ron\n",
            "Hello Ron\n",
            "Hello Ron\n",
            "Hello Ron\n",
            "Hello Ron\n",
            "Hello Ron\n",
            "Hello Ron\n",
            "Hello Ron\n",
            "Hello Ron\n",
            "Hello Ron\n",
            "Hello Ron\n",
            "Hello Ron\n",
            "Hello Ron\n",
            "Hello Ron\n",
            "Hello Ron\n",
            "Hello Ron\n",
            "Hello Ron\n",
            "Hello Ron\n",
            "Hello Ron\n",
            "Hello Ron\n",
            "Hello Ron\n",
            "Hello Ron\n",
            "Hello Ron\n",
            "Hello Ron\n",
            "Hello Ron\n",
            "Hello Ron\n",
            "Hello Ron\n",
            "Hello Ron\n",
            "Hello Ron\n",
            "Hello Ron\n",
            "Hello Ron\n",
            "Hello Ron\n",
            "Hello Ron\n",
            "Hello Ron\n",
            "Hello Ron\n",
            "Hello Ron\n",
            "Hello Ron\n",
            "Hello Ron\n",
            "Hello Ron\n",
            "Hello Ron\n",
            "Hello Ron\n",
            "Hello Ron\n",
            "Hello Ron\n",
            "Hello Ron\n",
            "Hello Ron\n",
            "Hello Ron\n",
            "Hello Ron\n",
            "Hello Ron\n",
            "Hello Ron\n",
            "Hello Ron\n",
            "Hello Ron\n",
            "Hello Ron\n",
            "Hello Ron\n",
            "Hello Ron\n",
            "Hello Ron\n",
            "Hello Ron\n",
            "Hello Ron\n",
            "Hello Ron\n",
            "Hello Ron\n",
            "Hello Ron\n",
            "Hello Ron\n",
            "Hello Ron\n",
            "Hello Ron\n",
            "Hello Ron\n",
            "Hello Ron\n",
            "Hello Ron\n",
            "Hello Ron\n",
            "Hello Ron\n",
            "Hello Ron\n",
            "Hello Ron\n",
            "Hello Ron\n",
            "Hello Ron\n",
            "Hello Ron\n",
            "Hello Ron\n",
            "Hello Ron\n",
            "Hello Ron\n",
            "Hello Ron\n",
            "Hello Ron\n",
            "Hello Ron\n",
            "Hello Ron\n",
            "Hello Ron\n",
            "Hello Ron\n",
            "Hello Ron\n",
            "Hello Ron\n",
            "Hello Ron\n",
            "Hello Ron\n",
            "Hello Ron\n",
            "Hello Ron\n",
            "Hello Ron\n",
            "Hello Ron\n",
            "Hello Ron\n",
            "Hello Ron\n",
            "Hello Ron\n",
            "Hello Ron\n",
            "Hello Ron\n",
            "Hello Ron\n",
            "Hello Ron\n",
            "Hello Ron\n",
            "Hello Ron\n",
            "Hello Ron\n",
            "Hello Ron\n",
            "Hello Ron\n",
            "Hello Ron\n",
            "Hello Ron\n",
            "Hello Ron\n",
            "Hello Ron\n",
            "Hello Ron\n",
            "Hello Ron\n",
            "Hello Ron\n",
            "Hello Ron\n",
            "Hello Ron\n",
            "Hello Ron\n",
            "Hello Ron\n",
            "Hello Ron\n",
            "Hello Ron\n",
            "Hello Ron\n",
            "Hello Ron\n",
            "Hello Ron\n",
            "Hello Ron\n",
            "Hello Ron\n",
            "Hello Ron\n",
            "Hello Ron\n",
            "Hello Ron\n",
            "Hello Ron\n",
            "Hello Ron\n",
            "Hello Ron\n",
            "Hello Ron\n",
            "Hello Ron\n",
            "Hello Ron\n",
            "Hello Ron\n",
            "Hello Ron\n",
            "Hello Ron\n",
            "Hello Ron\n",
            "Hello Ron\n",
            "Hello Ron\n",
            "Hello Ron\n",
            "Hello Ron\n",
            "Hello Ron\n",
            "Hello Ron\n",
            "Hello Ron\n",
            "Hello Ron\n",
            "Hello Ron\n",
            "Hello Ron\n",
            "Hello Ron\n",
            "Hello Ron\n",
            "Hello Ron\n",
            "Hello Ron\n",
            "Hello Ron\n",
            "Hello Ron\n",
            "Hello Ron\n",
            "Hello Ron\n",
            "Hello Ron\n",
            "Hello Ron\n",
            "Hello Ron\n",
            "Hello Ron\n",
            "Hello Ron\n",
            "Hello Ron\n",
            "Hello Ron\n",
            "Hello Ron\n",
            "Hello Ron\n",
            "Hello Ron\n",
            "Hello Ron\n",
            "Hello Ron\n",
            "Hello Ron\n",
            "Hello Ron\n",
            "Hello Ron\n",
            "Hello Ron\n",
            "Hello Ron\n",
            "Hello Ron\n",
            "Hello Ron\n",
            "Hello Ron\n",
            "Hello Ron\n",
            "Hello Ron\n",
            "Hello Ron\n",
            "Hello Ron\n",
            "Hello Ron\n",
            "Hello Ron\n",
            "Hello Ron\n",
            "Hello Ron\n",
            "Hello Ron\n",
            "Hello Ron\n",
            "Hello Ron\n",
            "Hello Ron\n",
            "Hello Ron\n",
            "Hello Ron\n",
            "Hello Ron\n",
            "Hello Ron\n",
            "Hello Ron\n",
            "Hello Ron\n",
            "Hello Ron\n",
            "Hello Ron\n",
            "Hello Ron\n",
            "Hello Ron\n",
            "Hello Ron\n",
            "Hello Ron\n",
            "Hello Ron\n",
            "Hello Ron\n",
            "Hello Ron\n",
            "Hello Ron\n",
            "Hello Ron\n",
            "Hello Ron\n",
            "Hello Ron\n",
            "Hello Ron\n",
            "Hello Ron\n",
            "Hello Ron\n",
            "Hello Ron\n",
            "Hello Ron\n",
            "Hello Ron\n",
            "Hello Ron\n",
            "Hello Ron\n",
            "Hello Ron\n",
            "Hello Ron\n",
            "Hello Ron\n",
            "Hello Ron\n",
            "Hello Ron\n",
            "Hello Ron\n",
            "Hello Ron\n",
            "Hello Ron\n",
            "Hello Ron\n",
            "Hello Ron\n",
            "Hello Ron\n",
            "Hello Ron\n",
            "Hello Ron\n",
            "Hello Ron\n",
            "Hello Ron\n",
            "Hello Ron\n",
            "Hello Ron\n",
            "Hello Ron\n",
            "Hello Ron\n",
            "Hello Ron\n",
            "Hello Ron\n",
            "Hello Ron\n",
            "Hello Ron\n",
            "Hello Ron\n",
            "Hello Ron\n",
            "Hello Ron\n",
            "Hello Ron\n",
            "Hello Ron\n",
            "Hello Ron\n",
            "Hello Ron\n",
            "Hello Ron\n",
            "Hello Ron\n",
            "Hello Ron\n",
            "Hello Ron\n",
            "Hello Ron\n",
            "Hello Ron\n",
            "Hello Ron\n",
            "Hello Ron\n",
            "Hello Ron\n",
            "Hello Ron\n",
            "Hello Ron\n",
            "Hello Ron\n",
            "Hello Ron\n",
            "Hello Ron\n",
            "Hello Ron\n",
            "Hello Ron\n",
            "Hello Ron\n",
            "Hello Ron\n",
            "Hello Ron\n",
            "Hello Ron\n",
            "Hello Ron\n",
            "Hello Ron\n",
            "Hello Ron\n",
            "Hello Ron\n",
            "Hello Ron\n",
            "Hello Ron\n",
            "Hello Ron\n",
            "Hello Ron\n",
            "Hello Ron\n",
            "Hello Ron\n",
            "Hello Ron\n",
            "Hello Ron\n",
            "Hello Ron\n",
            "Hello Ron\n",
            "Hello Ron\n",
            "Hello Ron\n",
            "Hello Ron\n",
            "Hello Ron\n",
            "Hello Ron\n",
            "Hello Ron\n",
            "Hello Ron\n",
            "Hello Ron\n",
            "Hello Ron\n",
            "Hello Ron\n",
            "Hello Ron\n",
            "Hello Ron\n",
            "Hello Ron\n",
            "Hello Ron\n",
            "Hello Ron\n",
            "Hello Ron\n",
            "Hello Ron\n",
            "Hello Ron\n",
            "Hello Ron\n",
            "Hello Ron\n",
            "Hello Ron\n",
            "Hello Ron\n",
            "Hello Ron\n",
            "Hello Ron\n",
            "Hello Ron\n",
            "Hello Ron\n",
            "Hello Ron\n",
            "Hello Ron\n",
            "Hello Ron\n",
            "Hello Ron\n",
            "Hello Ron\n",
            "Hello Ron\n",
            "Hello Ron\n",
            "Hello Ron\n",
            "Hello Ron\n",
            "Hello Ron\n",
            "Hello Ron\n",
            "Hello Ron\n",
            "Hello Ron\n",
            "Hello Ron\n",
            "Hello Ron\n",
            "Hello Ron\n",
            "Hello Ron\n",
            "Hello Ron\n",
            "Hello Ron\n",
            "Hello Ron\n",
            "Hello Ron\n",
            "Hello Ron\n",
            "Hello Ron\n",
            "Hello Ron\n",
            "Hello Ron\n",
            "Hello Ron\n",
            "Hello Ron\n",
            "Hello Ron\n",
            "Hello Ron\n",
            "Hello Ron\n",
            "Hello Ron\n",
            "Hello Ron\n",
            "Hello Ron\n",
            "Hello Ron\n",
            "Hello Ron\n",
            "Hello Ron\n",
            "Hello Ron\n",
            "Hello Ron\n",
            "Hello Ron\n",
            "Hello Ron\n",
            "Hello Ron\n",
            "Hello Ron\n",
            "Hello Ron\n",
            "Hello Ron\n",
            "Hello Ron\n",
            "Hello Ron\n",
            "Hello Ron\n",
            "Hello Ron\n",
            "Hello Ron\n",
            "Hello Ron\n",
            "Hello Ron\n",
            "Hello Ron\n",
            "Hello Ron\n",
            "Hello Ron\n",
            "Hello Ron\n",
            "Hello Ron\n",
            "Hello Ron\n",
            "Hello Ron\n",
            "Hello Ron\n",
            "Hello Ron\n",
            "Hello Ron\n",
            "Hello Ron\n",
            "Hello Ron\n",
            "Hello Ron\n",
            "Hello Ron\n",
            "Hello Ron\n",
            "Hello Ron\n",
            "Hello Ron\n",
            "Hello Ron\n",
            "Hello Ron\n",
            "Hello Ron\n",
            "Hello Ron\n",
            "Hello Ron\n",
            "Hello Ron\n",
            "Hello Ron\n",
            "Hello Ron\n",
            "Hello Ron\n",
            "Hello Ron\n",
            "Hello Ron\n",
            "Hello Ron\n",
            "Hello Ron\n",
            "Hello Ron\n",
            "Hello Ron\n",
            "Hello Ron\n",
            "Hello Ron\n",
            "Hello Ron\n",
            "Hello Ron\n",
            "Hello Ron\n",
            "Hello Ron\n",
            "Hello Ron\n",
            "Hello Ron\n",
            "Hello Ron\n",
            "Hello Ron\n",
            "Hello Ron\n",
            "Hello Ron\n",
            "Hello Ron\n",
            "Hello Ron\n",
            "Hello Ron\n",
            "Hello Ron\n",
            "Hello Ron\n",
            "Hello Ron\n",
            "Hello Ron\n",
            "Hello Ron\n",
            "Hello Ron\n",
            "Hello Ron\n",
            "Hello Ron\n",
            "Hello Ron\n",
            "Hello Ron\n",
            "Hello Ron\n",
            "Hello Ron\n",
            "Hello Ron\n",
            "Hello Ron\n",
            "Hello Ron\n",
            "Hello Ron\n",
            "Hello Ron\n",
            "Hello Ron\n",
            "Hello Ron\n",
            "Hello Ron\n",
            "Hello Ron\n",
            "Hello Ron\n",
            "Hello Ron\n",
            "Hello Ron\n",
            "Hello Ron\n",
            "Hello Ron\n",
            "Hello Ron\n",
            "Hello Ron\n",
            "Hello Ron\n",
            "Hello Ron\n",
            "Hello Ron\n",
            "Hello Ron\n",
            "Hello Ron\n",
            "Hello Ron\n",
            "Hello Ron\n",
            "Hello Ron\n",
            "Hello Ron\n",
            "Hello Ron\n",
            "Hello Ron\n",
            "Hello Ron\n",
            "Hello Ron\n",
            "Hello Ron\n",
            "Hello Ron\n",
            "Hello Ron\n",
            "Hello Ron\n",
            "Hello Ron\n",
            "Hello Ron\n",
            "Hello Ron\n",
            "Hello Ron\n",
            "Hello Ron\n",
            "Hello Ron\n",
            "Hello Ron\n",
            "Hello Ron\n",
            "Hello Ron\n",
            "Hello Ron\n",
            "Hello Ron\n",
            "Hello Ron\n",
            "Hello Ron\n",
            "Hello Ron\n",
            "Hello Ron\n",
            "Hello Ron\n",
            "Hello Ron\n",
            "Hello Ron\n",
            "Hello Ron\n",
            "Hello Ron\n",
            "Hello Ron\n",
            "Hello Ron\n",
            "Hello Ron\n",
            "Hello Ron\n",
            "Hello Ron\n",
            "Hello Ron\n",
            "Hello Ron\n",
            "Hello Ron\n",
            "Hello Ron\n",
            "Hello Ron\n",
            "Hello Ron\n",
            "Hello Ron\n",
            "Hello Ron\n",
            "Hello Ron\n",
            "Hello Ron\n",
            "Hello Ron\n",
            "Hello Ron\n",
            "Hello Ron\n",
            "Hello Ron\n",
            "Hello Ron\n",
            "Hello Ron\n",
            "Hello Ron\n",
            "Hello Ron\n",
            "Hello Ron\n",
            "Hello Ron\n",
            "Hello Ron\n",
            "Hello Ron\n",
            "Hello Ron\n",
            "Hello Ron\n",
            "Hello Ron\n",
            "Hello Ron\n",
            "Hello Ron\n",
            "Hello Ron\n",
            "Hello Ron\n",
            "Hello Ron\n",
            "Hello Ron\n",
            "Hello Ron\n",
            "Hello Ron\n",
            "Hello Ron\n",
            "Hello Ron\n",
            "Hello Ron\n",
            "Hello Ron\n",
            "Hello Ron\n",
            "Hello Ron\n",
            "Hello Ron\n",
            "Hello Ron\n",
            "Hello Ron\n",
            "Hello Ron\n",
            "Hello Ron\n",
            "Hello Ron\n",
            "Hello Ron\n",
            "Hello Ron\n",
            "Hello Ron\n",
            "Hello Ron\n",
            "Hello Ron\n",
            "Hello Ron\n",
            "Hello Ron\n",
            "Hello Ron\n",
            "Hello Ron\n",
            "Hello Ron\n",
            "Hello Ron\n",
            "Hello Ron\n",
            "Hello Ron\n",
            "Hello Ron\n",
            "Hello Ron\n",
            "Hello Ron\n",
            "Hello Ron\n",
            "Hello Ron\n",
            "Hello Ron\n",
            "Hello Ron\n",
            "Hello Ron\n",
            "Hello Ron\n",
            "Hello Ron\n",
            "Hello Ron\n",
            "Hello Ron\n",
            "Hello Ron\n",
            "Hello Ron\n",
            "Hello Ron\n",
            "Hello Ron\n",
            "Hello Ron\n",
            "Hello Ron\n",
            "Hello Ron\n",
            "Hello Ron\n",
            "Hello Ron\n",
            "Hello Ron\n",
            "Hello Ron\n",
            "Hello Ron\n",
            "Hello Ron\n",
            "Hello Ron\n",
            "Hello Ron\n",
            "Hello Ron\n",
            "Hello Ron\n",
            "Hello Ron\n",
            "Hello Ron\n",
            "Hello Ron\n",
            "Hello Ron\n",
            "Hello Ron\n",
            "Hello Ron\n",
            "Hello Ron\n",
            "Hello Ron\n",
            "Hello Ron\n",
            "Hello Ron\n",
            "Hello Ron\n",
            "Hello Ron\n",
            "Hello Ron\n",
            "Hello Ron\n",
            "Hello Ron\n",
            "Hello Ron\n",
            "Hello Ron\n",
            "Hello Ron\n",
            "Hello Ron\n",
            "Hello Ron\n",
            "Hello Ron\n",
            "Hello Ron\n",
            "Hello Ron\n",
            "Hello Ron\n",
            "Hello Ron\n",
            "Hello Ron\n",
            "Hello Ron\n",
            "Hello Ron\n",
            "Hello Ron\n",
            "Hello Ron\n",
            "Hello Ron\n",
            "Hello Ron\n",
            "Hello Ron\n",
            "Hello Ron\n",
            "Hello Ron\n",
            "Hello Ron\n",
            "Hello Ron\n",
            "Hello Ron\n",
            "Hello Ron\n",
            "Hello Ron\n",
            "Hello Ron\n",
            "Hello Ron\n",
            "Hello Ron\n",
            "Hello Ron\n",
            "Hello Ron\n",
            "Hello Ron\n",
            "Hello Ron\n",
            "Hello Ron\n",
            "Hello Ron\n",
            "Hello Ron\n",
            "Hello Ron\n",
            "Hello Ron\n",
            "Hello Ron\n",
            "Hello Ron\n",
            "Hello Ron\n",
            "Hello Ron\n",
            "Hello Ron\n",
            "Hello Ron\n",
            "Hello Ron\n",
            "Hello Ron\n",
            "Hello Ron\n",
            "Hello Ron\n",
            "Hello Ron\n",
            "Hello Ron\n",
            "Hello Ron\n",
            "Hello Ron\n",
            "Hello Ron\n",
            "Hello Ron\n",
            "Hello Ron\n",
            "Hello Ron\n",
            "Hello Ron\n",
            "Hello Ron\n",
            "Hello Ron\n",
            "Hello Ron\n",
            "Hello Ron\n",
            "Hello Ron\n",
            "Hello Ron\n",
            "Hello Ron\n",
            "Hello Ron\n",
            "Hello Ron\n",
            "Hello Ron\n",
            "Hello Ron\n",
            "Hello Ron\n",
            "Hello Ron\n",
            "Hello Ron\n",
            "Hello Ron\n",
            "Hello Ron\n",
            "Hello Ron\n",
            "Hello Ron\n",
            "Hello Ron\n",
            "Hello Ron\n",
            "Hello Ron\n",
            "Hello Ron\n",
            "Hello Ron\n",
            "Hello Ron\n",
            "Hello Ron\n",
            "Hello Ron\n",
            "Hello Ron\n",
            "Hello Ron\n",
            "Hello Ron\n",
            "Hello Ron\n",
            "Hello Ron\n",
            "Hello Ron\n",
            "Hello Ron\n",
            "Hello Ron\n",
            "Hello Ron\n",
            "Hello Ron\n",
            "Hello Ron\n",
            "Hello Ron\n",
            "Hello Ron\n",
            "Hello Ron\n",
            "Hello Ron\n",
            "Hello Ron\n",
            "Hello Ron\n",
            "Hello Ron\n",
            "Hello Ron\n",
            "Hello Ron\n",
            "Hello Ron\n",
            "Hello Ron\n",
            "Hello Ron\n",
            "Hello Ron\n",
            "Hello Ron\n",
            "Hello Ron\n",
            "Hello Ron\n",
            "Hello Ron\n",
            "Hello Ron\n",
            "Hello Ron\n",
            "Hello Ron\n",
            "Hello Ron\n",
            "Hello Ron\n",
            "Hello Ron\n",
            "Hello Ron\n",
            "Hello Ron\n",
            "Hello Ron\n",
            "Hello Ron\n",
            "Hello Ron\n",
            "Hello Ron\n",
            "Hello Ron\n",
            "Hello Ron\n",
            "Hello Ron\n",
            "Hello Ron\n",
            "Hello Ron\n",
            "Hello Ron\n",
            "Hello Ron\n",
            "Hello Ron\n",
            "Hello Ron\n",
            "Hello Ron\n",
            "Hello Ron\n",
            "Hello Ron\n",
            "Hello Ron\n",
            "Hello Ron\n",
            "Hello Ron\n",
            "Hello Ron\n",
            "Hello Ron\n",
            "Hello Ron\n",
            "Hello Ron\n",
            "Hello Ron\n",
            "Hello Ron\n",
            "Hello Ron\n",
            "Hello Ron\n",
            "Hello Ron\n",
            "Hello Ron\n",
            "Hello Ron\n",
            "Hello Ron\n",
            "Hello Ron\n",
            "Hello Ron\n",
            "Hello Ron\n",
            "Hello Ron\n",
            "Hello Ron\n",
            "Hello Ron\n",
            "Hello Ron\n",
            "Hello Ron\n",
            "Hello Ron\n",
            "Hello Ron\n",
            "Hello Ron\n",
            "Hello Ron\n"
          ]
        },
        {
          "name": "stdout",
          "output_type": "stream",
          "text": [
            "Hello Ron\n",
            "Hello Ron\n",
            "Hello Ron\n",
            "Hello Ron\n",
            "Hello Ron\n",
            "Hello Ron\n",
            "Hello Ron\n",
            "Hello Ron\n",
            "Hello Ron\n",
            "Hello Ron\n",
            "Hello Ron\n",
            "Hello Ron\n",
            "Hello Ron\n",
            "Hello Ron\n",
            "Hello Ron\n",
            "Hello Ron\n",
            "Hello Ron\n",
            "Hello Ron\n",
            "Hello Ron\n",
            "Hello Ron\n",
            "Hello Ron\n",
            "Hello Ron\n",
            "Hello Ron\n",
            "Hello Ron\n",
            "Hello Ron\n",
            "Hello Ron\n",
            "Hello Ron\n",
            "Hello Ron\n",
            "Hello Ron\n",
            "Hello Ron\n",
            "Hello Ron\n",
            "Hello Ron\n",
            "Hello Ron\n",
            "Hello Ron\n",
            "Hello Ron\n",
            "Hello Ron\n",
            "Hello Ron\n",
            "Hello Ron\n",
            "Hello Ron\n",
            "Hello Ron\n",
            "Hello Ron\n",
            "Hello Ron\n",
            "Hello Ron\n",
            "Hello Ron\n",
            "Hello Ron\n",
            "Hello Ron\n",
            "Hello Ron\n",
            "Hello Ron\n",
            "Hello Ron\n",
            "Hello Ron\n",
            "Hello Ron\n",
            "Hello Ron\n",
            "Hello Ron\n",
            "Hello Ron\n",
            "Hello Ron\n",
            "Hello Ron\n",
            "Hello Ron\n",
            "Hello Ron\n",
            "Hello Ron\n",
            "Hello Ron\n",
            "Hello Ron\n",
            "Hello Ron\n",
            "Hello Ron\n",
            "Hello Ron\n",
            "Hello Ron\n",
            "Hello Ron\n",
            "Hello Ron\n",
            "Hello Ron\n",
            "Hello Ron\n",
            "Hello Ron\n",
            "Hello Ron\n",
            "Hello Ron\n",
            "Hello Ron\n",
            "Hello Ron\n",
            "Hello Ron\n",
            "Hello Ron\n",
            "Hello Ron\n",
            "Hello Ron\n",
            "Hello Ron\n",
            "Hello Ron\n",
            "Hello Ron\n",
            "Hello Ron\n",
            "Hello Ron\n",
            "Hello Ron\n",
            "Hello Ron\n",
            "Hello Ron\n",
            "Hello Ron\n",
            "Hello Ron\n",
            "Hello Ron\n",
            "Hello Ron\n",
            "Hello Ron\n",
            "Hello Ron\n",
            "Hello Ron\n",
            "Hello Ron\n",
            "Hello Ron\n",
            "Hello Ron\n",
            "Hello Ron\n",
            "Hello Ron\n",
            "Hello Ron\n",
            "Hello Ron\n",
            "Hello Ron\n",
            "Hello Ron\n",
            "Hello Ron\n",
            "Hello Ron\n",
            "Hello Ron\n",
            "Hello Ron\n",
            "Hello Ron\n",
            "Hello Ron\n",
            "Hello Ron\n",
            "Hello Ron\n",
            "Hello Ron\n",
            "Hello Ron\n",
            "Hello Ron\n",
            "Hello Ron\n",
            "Hello Ron\n",
            "Hello Ron\n",
            "Hello Ron\n",
            "Hello Ron\n",
            "Hello Ron\n",
            "Hello Ron\n",
            "Hello Ron\n",
            "Hello Ron\n",
            "Hello Ron\n",
            "Hello Ron\n",
            "Hello Ron\n",
            "Hello Ron\n",
            "Hello Ron\n",
            "Hello Ron\n",
            "Hello Ron\n",
            "Hello Ron\n",
            "Hello Ron\n",
            "Hello Ron\n",
            "Hello Ron\n",
            "Hello Ron\n",
            "Hello Ron\n",
            "Hello Ron\n",
            "Hello Ron\n",
            "Hello Ron\n",
            "Hello Ron\n",
            "Hello Ron\n",
            "Hello Ron\n",
            "Hello Ron\n",
            "Hello Ron\n",
            "Hello Ron\n",
            "Hello Ron\n",
            "Hello Ron\n",
            "Hello Ron\n",
            "Hello Ron\n",
            "Hello Ron\n",
            "Hello Ron\n",
            "Hello Ron\n",
            "Hello Ron\n",
            "Hello Ron\n",
            "Hello Ron\n",
            "Hello Ron\n",
            "Hello Ron\n",
            "Hello Ron\n",
            "Hello Ron\n",
            "Hello Ron\n",
            "Hello Ron\n",
            "Hello Ron\n",
            "Hello Ron\n",
            "Hello Ron\n",
            "Hello Ron\n",
            "Hello Ron\n",
            "Hello Ron\n",
            "Hello Ron\n",
            "Hello Ron\n",
            "Hello Ron\n",
            "Hello Ron\n",
            "Hello Ron\n",
            "Hello Ron\n",
            "Hello Ron\n",
            "Hello Ron\n",
            "Hello Ron\n",
            "Hello Ron\n",
            "Hello Ron\n",
            "Hello Ron\n",
            "Hello Ron\n",
            "Hello Ron\n",
            "Hello Ron\n",
            "Hello Ron\n",
            "Hello Ron\n",
            "Hello Ron\n",
            "Hello Ron\n",
            "Hello Ron\n",
            "Hello Ron\n",
            "Hello Ron\n",
            "Hello Ron\n",
            "Hello Ron\n",
            "Hello Ron\n",
            "Hello Ron\n",
            "Hello Ron\n",
            "Hello Ron\n",
            "Hello Ron\n",
            "Hello Ron\n",
            "Hello Ron\n",
            "Hello Ron\n",
            "Hello Ron\n",
            "Hello Ron\n",
            "Hello Ron\n",
            "Hello Ron\n",
            "Hello Ron\n",
            "Hello Ron\n",
            "Hello Ron\n",
            "Hello Ron\n",
            "Hello Ron\n",
            "Hello Ron\n",
            "Hello Ron\n",
            "Hello Ron\n",
            "Hello Ron\n",
            "Hello Ron\n",
            "Hello Ron\n",
            "Hello Ron\n",
            "Hello Ron\n",
            "Hello Ron\n",
            "Hello Ron\n",
            "Hello Ron\n",
            "Hello Ron\n",
            "Hello Ron\n",
            "Hello Ron\n",
            "Hello Ron\n",
            "Hello Ron\n",
            "Hello Ron\n",
            "Hello Ron\n",
            "Hello Ron\n",
            "Hello Ron\n",
            "Hello Ron\n",
            "Hello Ron\n",
            "Hello Ron\n",
            "Hello Ron\n",
            "Hello Ron\n",
            "Hello Ron\n",
            "Hello Ron\n",
            "Hello Ron\n",
            "Hello Ron\n",
            "Hello Ron\n",
            "Hello Ron\n",
            "Hello Ron\n",
            "Hello Ron\n",
            "Hello Ron\n",
            "Hello Ron\n",
            "Hello Ron\n",
            "Hello Ron\n",
            "Hello Ron\n",
            "Hello Ron\n",
            "Hello Ron\n",
            "Hello Ron\n",
            "Hello Ron\n",
            "Hello Ron\n",
            "Hello Ron\n",
            "Hello Ron\n",
            "Hello Ron\n",
            "Hello Ron\n",
            "Hello Ron\n",
            "Hello Ron\n",
            "Hello Ron\n",
            "Hello Ron\n",
            "Hello Ron\n",
            "Hello Ron\n",
            "Hello Ron\n",
            "Hello Ron\n",
            "Hello Ron\n",
            "Hello Ron\n",
            "Hello Ron\n",
            "Hello Ron\n",
            "Hello Ron\n",
            "Hello Ron\n",
            "Hello Ron\n",
            "Hello Ron\n",
            "Hello Ron\n",
            "Hello Ron\n",
            "Hello Ron\n",
            "Hello Ron\n",
            "Hello Ron\n",
            "Hello Ron\n",
            "Hello Ron\n",
            "Hello Ron\n",
            "Hello Ron\n",
            "Hello Ron\n",
            "Hello Ron\n",
            "Hello Ron\n",
            "Hello Ron\n",
            "Hello Ron\n",
            "Hello Ron\n",
            "Hello Ron\n",
            "Hello Ron\n",
            "Hello Ron\n",
            "Hello Ron\n",
            "Hello Ron\n",
            "Hello Ron\n",
            "Hello Ron\n",
            "Hello Ron\n",
            "Hello Ron\n",
            "Hello Ron\n",
            "Hello Ron\n",
            "Hello Ron\n",
            "Hello Ron\n",
            "Hello Ron\n",
            "Hello Ron\n",
            "Hello Ron\n",
            "Hello Ron\n",
            "Hello Ron\n",
            "Hello Ron\n",
            "Hello Ron\n",
            "Hello Ron\n",
            "Hello Ron\n",
            "Hello Ron\n",
            "Hello Ron\n",
            "Hello Ron\n",
            "Hello Ron\n",
            "Hello Ron\n",
            "Hello Ron\n",
            "Hello Ron\n",
            "Hello Ron\n",
            "Hello Ron\n",
            "Hello Ron\n",
            "Hello Ron\n",
            "Hello Ron\n",
            "Hello Ron\n",
            "Hello Ron\n",
            "Hello Ron\n",
            "Hello Ron\n",
            "Hello Ron\n",
            "Hello Ron\n",
            "Hello Ron\n",
            "Hello Ron\n",
            "Hello Ron\n",
            "Hello Ron\n",
            "Hello Ron\n",
            "Hello Ron\n",
            "Hello Ron\n",
            "Hello Ron\n",
            "Hello Ron\n",
            "Hello Ron\n",
            "Hello Ron\n",
            "Hello Ron\n",
            "Hello Ron\n",
            "Hello Ron\n",
            "Hello Ron\n",
            "Hello Ron\n",
            "Hello Ron\n",
            "Hello Ron\n",
            "Hello Ron\n",
            "Hello Ron\n",
            "Hello Ron\n",
            "Hello Ron\n",
            "Hello Ron\n",
            "Hello Ron\n",
            "Hello Ron\n",
            "Hello Ron\n",
            "Hello Ron\n",
            "Hello Ron\n",
            "Hello Ron\n",
            "Hello Ron\n",
            "Hello Ron\n",
            "Hello Ron\n",
            "Hello Ron\n",
            "Hello Ron\n",
            "Hello Ron\n",
            "Hello Ron\n",
            "Hello Ron\n",
            "Hello Ron\n",
            "Hello Ron\n",
            "Hello Ron\n",
            "Hello Ron\n",
            "Hello Ron\n",
            "Hello Ron\n",
            "Hello Ron\n",
            "Hello Ron\n",
            "Hello Ron\n",
            "Hello Ron\n",
            "Hello Ron\n",
            "Hello Ron\n",
            "Hello Ron\n",
            "Hello Ron\n",
            "Hello Ron\n",
            "Hello Ron\n",
            "Hello Ron\n",
            "Hello Ron\n",
            "Hello Ron\n",
            "Hello Ron\n",
            "Hello Ron\n",
            "Hello Ron\n",
            "Hello Ron\n",
            "Hello Ron\n",
            "Hello Ron\n",
            "Hello Ron\n",
            "Hello Ron\n",
            "Hello Ron\n",
            "Hello Ron\n",
            "Hello Ron\n",
            "Hello Ron\n",
            "Hello Ron\n",
            "Hello Ron\n",
            "Hello Ron\n",
            "Hello Ron\n",
            "Hello Ron\n",
            "Hello Ron\n",
            "Hello Ron\n",
            "Hello Ron\n",
            "Hello Ron\n",
            "Hello Ron\n",
            "Hello Ron\n",
            "Hello Ron\n",
            "Hello Ron\n",
            "Hello Ron\n",
            "Hello Ron\n",
            "Hello Ron\n",
            "Hello Ron\n",
            "Hello Ron\n",
            "Hello Ron\n",
            "Hello Ron\n",
            "Hello Ron\n",
            "Hello Ron\n",
            "Hello Ron\n",
            "Hello Ron\n",
            "Hello Ron\n",
            "Hello Ron\n",
            "Hello Ron\n",
            "Hello Ron\n",
            "Hello Ron\n",
            "Hello Ron\n",
            "Hello Ron\n",
            "Hello Ron\n",
            "Hello Ron\n",
            "Hello Ron\n",
            "Hello Ron\n",
            "Hello Ron\n",
            "Hello Ron\n",
            "Hello Ron\n",
            "Hello Ron\n",
            "Hello Ron\n",
            "Hello Ron\n",
            "Hello Ron\n",
            "Hello Ron\n",
            "Hello Ron\n",
            "Hello Ron\n",
            "Hello Ron\n",
            "Hello Ron\n",
            "Hello Ron\n",
            "Hello Ron\n",
            "Hello Ron\n",
            "Hello Ron\n",
            "Hello Ron\n",
            "Hello Ron\n",
            "Hello Ron\n",
            "Hello Ron\n",
            "Hello Ron\n",
            "Hello Ron\n",
            "Hello Ron\n",
            "Hello Ron\n",
            "Hello Ron\n",
            "Hello Ron\n",
            "Hello Ron\n",
            "Hello Ron\n",
            "Hello Ron\n",
            "Hello Ron\n",
            "Hello Ron\n",
            "Hello Ron\n",
            "Hello Ron\n",
            "Hello Ron\n",
            "Hello Ron\n",
            "Hello Ron\n",
            "Hello Ron\n",
            "Hello Ron\n",
            "Hello Ron\n",
            "Hello Ron\n",
            "Hello Ron\n",
            "Hello Ron\n",
            "Hello Ron\n",
            "Hello Ron\n",
            "Hello Ron\n",
            "Hello Ron\n",
            "Hello Ron\n",
            "Hello Ron\n",
            "Hello Ron\n",
            "Hello Ron\n",
            "Hello Ron\n",
            "Hello Ron\n",
            "Hello Ron\n",
            "Hello Ron\n",
            "Hello Ron\n",
            "Hello Ron\n",
            "Hello Ron\n",
            "Hello Ron\n",
            "Hello Ron\n",
            "Hello Ron\n",
            "Hello Ron\n",
            "Hello Ron\n",
            "Hello Ron\n",
            "Hello Ron\n",
            "Hello Ron\n",
            "Hello Ron\n",
            "Hello Ron\n",
            "Hello Ron\n",
            "Hello Ron\n",
            "Hello Ron\n",
            "Hello Ron\n",
            "Hello Ron\n",
            "Hello Ron\n",
            "Hello Ron\n",
            "Hello Ron\n",
            "Hello Ron\n",
            "Hello Ron\n",
            "Hello Ron\n",
            "Hello Ron\n",
            "Hello Ron\n",
            "Hello Ron\n",
            "Hello Ron\n",
            "Hello Ron\n",
            "Hello Ron\n",
            "Hello Ron\n",
            "Hello Ron\n",
            "Hello Ron\n",
            "Hello Ron\n",
            "Hello Ron\n",
            "Hello Ron\n",
            "Hello Ron\n",
            "Hello Ron\n",
            "Hello Ron\n",
            "Hello Ron\n",
            "Hello Ron\n",
            "Hello Ron\n",
            "Hello Ron\n",
            "Hello Ron\n",
            "Hello Ron\n",
            "Hello Ron\n",
            "Hello Ron\n",
            "Hello Ron\n",
            "Hello Ron\n",
            "Hello Ron\n",
            "Hello Ron\n",
            "Hello Ron\n",
            "Hello Ron\n",
            "Hello Ron\n",
            "Hello Ron\n",
            "Hello Ron\n",
            "Hello Ron\n",
            "Hello Ron\n",
            "Hello Ron\n",
            "Hello Ron\n",
            "Hello Ron\n",
            "Hello Ron\n",
            "Hello Ron\n",
            "Hello Ron\n",
            "Hello Ron\n",
            "Hello Ron\n",
            "Hello Ron\n",
            "Hello Ron\n",
            "Hello Ron\n",
            "Hello Ron\n",
            "Hello Ron\n",
            "Hello Ron\n",
            "Hello Ron\n",
            "Hello Ron\n",
            "Hello Ron\n",
            "Hello Ron\n",
            "Hello Ron\n",
            "Hello Ron\n",
            "Hello Ron\n",
            "Hello Ron\n",
            "Hello Ron\n",
            "Hello Ron\n",
            "Hello Ron\n",
            "Hello Ron\n",
            "Hello Ron\n",
            "Hello Ron\n",
            "Hello Ron\n",
            "Hello Ron\n",
            "Hello Ron\n",
            "Hello Ron\n",
            "Hello Ron\n",
            "Hello Ron\n",
            "Hello Ron\n",
            "Hello Ron\n",
            "Hello Ron\n",
            "Hello Ron\n",
            "Hello Ron\n",
            "Hello Ron\n",
            "Hello Ron\n",
            "Hello Ron\n",
            "Hello Ron\n",
            "Hello Ron\n",
            "Hello Ron\n",
            "Hello Ron\n",
            "Hello Ron\n",
            "Hello Ron\n",
            "Hello Ron\n",
            "Hello Ron\n",
            "Hello Ron\n",
            "Hello Ron\n",
            "Hello Ron\n",
            "Hello Ron\n",
            "Hello Ron\n",
            "Hello Ron\n",
            "Hello Ron\n",
            "Hello Ron\n",
            "Hello Ron\n",
            "Hello Ron\n",
            "Hello Ron\n",
            "Hello Ron\n",
            "Hello Ron\n",
            "Hello Ron\n",
            "Hello Ron\n",
            "Hello Ron\n",
            "Hello Ron\n",
            "Hello Ron\n",
            "Hello Ron\n",
            "Hello Ron\n",
            "Hello Ron\n",
            "Hello Ron\n",
            "Hello Ron\n",
            "Hello Ron\n",
            "Hello Ron\n",
            "Hello Ron\n",
            "Hello Ron\n",
            "Hello Ron\n",
            "Hello Ron\n",
            "Hello Ron\n",
            "Hello Ron\n",
            "Hello Ron\n",
            "Hello Ron\n",
            "Hello Ron\n",
            "Hello Ron\n",
            "Hello Ron\n",
            "Hello Ron\n",
            "Hello Ron\n",
            "Hello Ron\n",
            "Hello Ron\n",
            "Hello Ron\n",
            "Hello Ron\n",
            "Hello Ron\n",
            "Hello Ron\n",
            "Hello Ron\n",
            "Hello Ron\n",
            "Hello Ron\n",
            "Hello Ron\n",
            "Hello Ron\n",
            "Hello Ron\n",
            "Hello Ron\n",
            "Hello Ron\n",
            "Hello Ron\n",
            "Hello Ron\n",
            "Hello Ron\n",
            "Hello Ron\n",
            "Hello Ron\n",
            "Hello Ron\n",
            "Hello Ron\n",
            "Hello Ron\n",
            "Hello Ron\n",
            "Hello Ron\n",
            "Hello Ron\n",
            "Hello Ron\n",
            "Hello Ron\n",
            "Hello Ron\n",
            "Hello Ron\n",
            "Hello Ron\n",
            "Hello Ron\n",
            "Hello Ron\n",
            "Hello Ron\n",
            "Hello Ron\n",
            "Hello Ron\n",
            "Hello Ron\n",
            "Hello Ron\n",
            "Hello Ron\n",
            "Hello Ron\n",
            "Hello Ron\n",
            "Hello Ron\n",
            "Hello Ron\n",
            "Hello Ron\n",
            "Hello Ron\n",
            "Hello Ron\n",
            "Hello Ron\n",
            "Hello Ron\n",
            "Hello Ron\n",
            "Hello Ron\n",
            "Hello Ron\n",
            "Hello Ron\n",
            "Hello Ron\n",
            "Hello Ron\n",
            "Hello Ron\n",
            "Hello Ron\n",
            "Hello Ron\n",
            "Hello Ron\n",
            "Hello Ron\n",
            "Hello Ron\n",
            "Hello Ron\n",
            "Hello Ron\n",
            "Hello Ron\n",
            "Hello Ron\n",
            "Hello Ron\n",
            "Hello Ron\n",
            "Hello Ron\n",
            "Hello Ron\n",
            "Hello Ron\n",
            "Hello Ron\n",
            "Hello Ron\n",
            "Hello Ron\n",
            "Hello Ron\n",
            "Hello Ron\n",
            "Hello Ron\n",
            "Hello Ron\n",
            "Hello Ron\n",
            "Hello Ron\n",
            "Hello Ron\n",
            "Hello Ron\n",
            "Hello Ron\n",
            "Hello Ron\n",
            "Hello Ron\n",
            "Hello Ron\n",
            "Hello Ron\n",
            "Hello Ron\n",
            "Hello Ron\n",
            "Hello Ron\n",
            "Hello Ron\n",
            "Hello Ron\n",
            "Hello Ron\n",
            "Hello Ron\n",
            "Hello Ron\n",
            "Hello Ron\n",
            "Hello Ron\n",
            "Hello Ron\n",
            "Hello Ron\n",
            "Hello Ron\n",
            "Hello Ron\n",
            "Hello Ron\n",
            "Hello Ron\n",
            "Hello Ron\n",
            "Hello Ron\n",
            "Hello Ron\n",
            "Hello Ron\n",
            "Hello Ron\n",
            "Hello Ron\n",
            "Hello Ron\n",
            "Hello Ron\n",
            "Hello Ron\n",
            "Hello Ron\n",
            "Hello Ron\n",
            "Hello Ron\n",
            "Hello Ron\n",
            "Hello Ron\n",
            "Hello Ron\n",
            "Hello Ron\n",
            "Hello Ron\n",
            "Hello Ron\n",
            "Hello Ron\n",
            "Hello Ron\n",
            "Hello Ron\n",
            "Hello Ron\n",
            "Hello Ron\n",
            "Hello Ron\n",
            "Hello Ron\n",
            "Hello Ron\n",
            "Hello Ron\n",
            "Hello Ron\n",
            "Hello Ron\n",
            "Hello Ron\n",
            "Hello Ron\n",
            "Hello Ron\n",
            "Hello Ron\n",
            "Hello Ron\n",
            "Hello Ron\n",
            "Hello Ron\n",
            "Hello Ron\n",
            "Hello Ron\n",
            "Hello Ron\n",
            "Hello Ron\n",
            "Hello Ron\n",
            "Hello Ron\n",
            "Hello Ron\n",
            "Hello Ron\n",
            "Hello Ron\n",
            "Hello Ron\n",
            "Hello Ron\n",
            "Hello Ron\n",
            "Hello Ron\n",
            "Hello Ron\n",
            "Hello Ron\n",
            "Hello Ron\n",
            "Hello Ron\n",
            "Hello Ron\n",
            "Hello Ron\n",
            "Hello Ron\n",
            "Hello Ron\n",
            "Hello Ron\n",
            "Hello Ron\n",
            "Hello Ron\n",
            "Hello Ron\n",
            "Hello Ron\n",
            "Hello Ron\n",
            "Hello Ron\n",
            "Hello Ron\n",
            "Hello Ron\n",
            "Hello Ron\n",
            "Hello Ron\n",
            "Hello Ron\n",
            "Hello Ron\n",
            "Hello Ron\n",
            "Hello Ron\n",
            "Hello Ron\n",
            "Hello Ron\n",
            "Hello Ron\n",
            "Hello Ron\n",
            "Hello Ron\n",
            "Hello Ron\n",
            "Hello Ron\n",
            "Hello Ron\n",
            "Hello Ron\n",
            "Hello Ron\n",
            "Hello Ron\n",
            "Hello Ron\n",
            "Hello Ron\n",
            "Hello Ron\n",
            "Hello Ron\n",
            "Hello Ron\n",
            "Hello Ron\n",
            "Hello Ron\n",
            "Hello Ron\n",
            "Hello Ron\n",
            "Hello Ron\n",
            "Hello Ron\n",
            "Hello Ron\n",
            "Hello Ron\n",
            "Hello Ron\n",
            "Hello Ron\n",
            "Hello Ron\n",
            "Hello Ron\n",
            "Hello Ron\n",
            "Hello Ron\n",
            "Hello Ron\n",
            "Hello Ron\n",
            "Hello Ron\n",
            "Hello Ron\n",
            "Hello Ron\n",
            "Hello Ron\n",
            "Hello Ron\n",
            "Hello Ron\n",
            "Hello Ron\n",
            "Hello Ron\n",
            "Hello Ron\n",
            "Hello Ron\n",
            "Hello Ron\n",
            "Hello Ron\n",
            "Hello Ron\n",
            "Hello Ron\n",
            "Hello Ron\n",
            "Hello Ron\n",
            "Hello Ron\n",
            "Hello Ron\n",
            "Hello Ron\n",
            "Hello Ron\n",
            "Hello Ron\n",
            "Hello Ron\n",
            "Hello Ron\n",
            "Hello Ron\n",
            "Hello Ron\n",
            "Hello Ron\n",
            "Hello Ron\n",
            "Hello Ron\n",
            "Hello Ron\n",
            "Hello Ron\n",
            "Hello Ron\n",
            "Hello Ron\n",
            "Hello Ron\n",
            "Hello Ron\n",
            "Hello Ron\n",
            "Hello Ron\n",
            "Hello Ron\n",
            "Hello Ron\n",
            "Hello Ron\n",
            "Hello Ron\n",
            "Hello Ron\n",
            "Hello Ron\n",
            "Hello Ron\n",
            "Hello Ron\n",
            "Hello Ron\n",
            "Hello Ron\n",
            "Hello Ron\n",
            "Hello Ron\n",
            "Hello Ron\n",
            "Hello Ron\n",
            "Hello Ron\n",
            "Hello Ron\n",
            "Hello Ron\n",
            "Hello Ron\n",
            "Hello Ron\n",
            "Hello Ron\n",
            "Hello Ron\n",
            "Hello Ron\n",
            "Hello Ron\n",
            "Hello Ron\n",
            "Hello Ron\n",
            "Hello Ron\n",
            "Hello Ron\n",
            "Hello Ron\n",
            "Hello Ron\n",
            "Hello Ron\n",
            "Hello Ron\n",
            "Hello Ron\n",
            "Hello Ron\n",
            "Hello Ron\n",
            "Hello Ron\n",
            "Hello Ron\n",
            "Hello Ron\n",
            "Hello Ron\n",
            "Hello Ron\n",
            "Hello Ron\n",
            "Hello Ron\n",
            "Hello Ron\n",
            "Hello Ron\n",
            "Hello Ron\n",
            "Hello Ron\n",
            "Hello Ron\n",
            "Hello Ron\n",
            "Hello Ron\n",
            "Hello Ron\n",
            "Hello Ron\n",
            "Hello Ron\n",
            "Hello Ron\n",
            "Hello Ron\n",
            "Hello Ron\n",
            "Hello Ron\n",
            "Hello Ron\n",
            "Hello Ron\n",
            "Hello Ron\n",
            "Hello Ron\n",
            "Hello Ron\n",
            "Hello Ron\n",
            "Hello Ron\n",
            "Hello Ron\n",
            "Hello Ron\n",
            "Hello Ron\n",
            "Hello Ron\n",
            "Hello Ron\n",
            "Hello Ron\n",
            "Hello Ron\n",
            "Hello Ron\n",
            "Hello Ron\n",
            "Hello Ron\n",
            "Hello Ron\n",
            "Hello Ron\n",
            "Hello Ron\n",
            "Hello Ron\n",
            "Hello Ron\n",
            "Hello Ron\n",
            "Hello Ron\n",
            "Hello Ron\n",
            "Hello Ron\n",
            "Hello Ron\n",
            "Hello Ron\n",
            "Hello Ron\n",
            "Hello Ron\n",
            "Hello Ron\n",
            "Hello Ron\n",
            "Hello Ron\n",
            "Hello Ron\n",
            "Hello Ron\n",
            "Hello Ron\n",
            "Hello Ron\n",
            "Hello Ron\n",
            "Hello Ron\n",
            "Hello Ron\n",
            "Hello Ron\n",
            "Hello Ron\n",
            "Hello Ron\n",
            "Hello Ron\n",
            "Hello Ron\n",
            "Hello Ron\n",
            "Hello Ron\n",
            "Hello Ron\n",
            "Hello Ron\n",
            "Hello Ron\n",
            "Hello Ron\n",
            "Hello Ron\n",
            "Hello Ron\n",
            "Hello Ron\n",
            "Hello Ron\n",
            "Hello Ron\n",
            "Hello Ron\n",
            "Hello Ron\n",
            "Hello Ron\n",
            "Hello Ron\n",
            "Hello Ron\n",
            "Hello Ron\n",
            "Hello Ron\n",
            "Hello Ron\n",
            "Hello Ron\n",
            "Hello Ron\n",
            "Hello Ron\n",
            "Hello Ron\n",
            "Hello Ron\n",
            "Hello Ron\n",
            "Hello Ron\n",
            "Hello Ron\n",
            "Hello Ron\n",
            "Hello Ron\n",
            "Hello Ron\n",
            "Hello Ron\n"
          ]
        },
        {
          "name": "stdout",
          "output_type": "stream",
          "text": [
            "Hello Ron\n",
            "Hello Ron\n",
            "Hello Ron\n",
            "Hello Ron\n",
            "Hello Ron\n",
            "Hello Ron\n",
            "Hello Ron\n",
            "Hello Ron\n",
            "Hello Ron\n",
            "Hello Ron\n",
            "Hello Ron\n",
            "Hello Ron\n",
            "Hello Ron\n",
            "Hello Ron\n",
            "Hello Ron\n",
            "Hello Ron\n",
            "Hello Ron\n",
            "Hello Ron\n",
            "Hello Ron\n",
            "Hello Ron\n",
            "Hello Ron\n",
            "Hello Ron\n",
            "Hello Ron\n",
            "Hello Ron\n",
            "Hello Ron\n",
            "Hello Ron\n",
            "Hello Ron\n",
            "Hello Ron\n",
            "Hello Ron\n",
            "Hello Ron\n",
            "Hello Ron\n",
            "Hello Ron\n",
            "Hello Ron\n",
            "Hello Ron\n",
            "Hello Ron\n",
            "Hello Ron\n",
            "Hello Ron\n",
            "Hello Ron\n",
            "Hello Ron\n",
            "Hello Ron\n",
            "Hello Ron\n",
            "Hello Ron\n",
            "Hello Ron\n",
            "Hello Ron\n",
            "Hello Ron\n",
            "Hello Ron\n",
            "Hello Ron\n",
            "Hello Ron\n",
            "Hello Ron\n",
            "Hello Ron\n",
            "Hello Ron\n",
            "Hello Ron\n",
            "Hello Ron\n",
            "Hello Ron\n",
            "Hello Ron\n",
            "Hello Ron\n",
            "Hello Ron\n",
            "Hello Ron\n",
            "Hello Ron\n",
            "Hello Ron\n",
            "Hello Ron\n",
            "Hello Ron\n",
            "Hello Ron\n",
            "Hello Ron\n",
            "Hello Ron\n",
            "Hello Ron\n",
            "Hello Ron\n",
            "Hello Ron\n",
            "Hello Ron\n",
            "Hello Ron\n",
            "Hello Ron\n",
            "Hello Ron\n",
            "Hello Ron\n",
            "Hello Ron\n",
            "Hello Ron\n",
            "Hello Ron\n",
            "Hello Ron\n",
            "Hello Ron\n",
            "Hello Ron\n",
            "Hello Ron\n",
            "Hello Ron\n",
            "Hello Ron\n",
            "Hello Ron\n",
            "Hello Ron\n",
            "Hello Ron\n",
            "Hello Ron\n",
            "Hello Ron\n",
            "Hello Ron\n",
            "Hello Ron\n",
            "Hello Ron\n",
            "Hello Ron\n",
            "Hello Ron\n",
            "Hello Ron\n",
            "Hello Ron\n",
            "Hello Ron\n",
            "Hello Ron\n",
            "Hello Ron\n",
            "Hello Ron\n",
            "Hello Ron\n",
            "Hello Ron\n",
            "Hello Ron\n",
            "Hello Ron\n",
            "Hello Ron\n",
            "Hello Ron\n",
            "Hello Ron\n",
            "Hello Ron\n",
            "Hello Ron\n",
            "Hello Ron\n",
            "Hello Ron\n",
            "Hello Ron\n",
            "Hello Ron\n",
            "Hello Ron\n",
            "Hello Ron\n",
            "Hello Ron\n",
            "Hello Ron\n",
            "Hello Ron\n",
            "Hello Ron\n",
            "Hello Ron\n",
            "Hello Ron\n",
            "Hello Ron\n",
            "Hello Ron\n",
            "Hello Ron\n",
            "Hello Ron\n",
            "Hello Ron\n",
            "Hello Ron\n",
            "Hello Ron\n",
            "Hello Ron\n",
            "Hello Ron\n",
            "Hello Ron\n",
            "Hello Ron\n",
            "Hello Ron\n",
            "Hello Ron\n",
            "Hello Ron\n",
            "Hello Ron\n",
            "Hello Ron\n",
            "Hello Ron\n",
            "Hello Ron\n",
            "Hello Ron\n",
            "Hello Ron\n",
            "Hello Ron\n",
            "Hello Ron\n",
            "Hello Ron\n",
            "Hello Ron\n",
            "Hello Ron\n",
            "Hello Ron\n",
            "Hello Ron\n",
            "Hello Ron\n",
            "Hello Ron\n",
            "Hello Ron\n",
            "Hello Ron\n",
            "Hello Ron\n",
            "Hello Ron\n",
            "Hello Ron\n",
            "Hello Ron\n",
            "Hello Ron\n",
            "Hello Ron\n",
            "Hello Ron\n",
            "Hello Ron\n",
            "Hello Ron\n",
            "Hello Ron\n",
            "Hello Ron\n",
            "Hello Ron\n",
            "Hello Ron\n",
            "Hello Ron\n",
            "Hello Ron\n",
            "Hello Ron\n",
            "Hello Ron\n",
            "Hello Ron\n",
            "Hello Ron\n",
            "Hello Ron\n",
            "Hello Ron\n",
            "Hello Ron\n",
            "Hello Ron\n",
            "Hello Ron\n",
            "Hello Ron\n",
            "Hello Ron\n",
            "Hello Ron\n",
            "Hello Ron\n",
            "Hello Ron\n",
            "Hello Ron\n",
            "Hello Ron\n",
            "Hello Ron\n",
            "Hello Ron\n",
            "Hello Ron\n",
            "Hello Ron\n",
            "Hello Ron\n",
            "Hello Ron\n",
            "Hello Ron\n",
            "Hello Ron\n",
            "Hello Ron\n",
            "Hello Ron\n",
            "Hello Ron\n",
            "Hello Ron\n",
            "Hello Ron\n",
            "Hello Ron\n",
            "Hello Ron\n",
            "Hello Ron\n",
            "Hello Ron\n",
            "Hello Ron\n",
            "Hello Ron\n",
            "Hello Ron\n",
            "Hello Ron\n",
            "Hello Ron\n",
            "Hello Ron\n",
            "Hello Ron\n",
            "Hello Ron\n",
            "Hello Ron\n",
            "Hello Ron\n",
            "Hello Ron\n",
            "Hello Ron\n",
            "Hello Ron\n",
            "Hello Ron\n",
            "Hello Ron\n",
            "Hello Ron\n",
            "Hello Ron\n",
            "Hello Ron\n",
            "Hello Ron\n",
            "Hello Ron\n",
            "Hello Ron\n",
            "Hello Ron\n",
            "Hello Ron\n",
            "Hello Ron\n",
            "Hello Ron\n",
            "Hello Ron\n",
            "Hello Ron\n",
            "Hello Ron\n",
            "Hello Ron\n",
            "Hello Ron\n",
            "Hello Ron\n",
            "Hello Ron\n",
            "Hello Ron\n",
            "Hello Ron\n",
            "Hello Ron\n",
            "Hello Ron\n",
            "Hello Ron\n",
            "Hello Ron\n",
            "Hello Ron\n",
            "Hello Ron\n",
            "Hello Ron\n",
            "Hello Ron\n",
            "Hello Ron\n",
            "Hello Ron\n",
            "Hello Ron\n",
            "Hello Ron\n",
            "Hello Ron\n",
            "Hello Ron\n",
            "Hello Ron\n",
            "Hello Ron\n",
            "Hello Ron\n",
            "Hello Ron\n",
            "Hello Ron\n",
            "Hello Ron\n",
            "Hello Ron\n",
            "Hello Ron\n",
            "Hello Ron\n",
            "Hello Ron\n",
            "Hello Ron\n",
            "Hello Ron\n",
            "Hello Ron\n",
            "Hello Ron\n",
            "Hello Ron\n",
            "Hello Ron\n",
            "Hello Ron\n",
            "Hello Ron\n",
            "Hello Ron\n",
            "Hello Ron\n",
            "Hello Ron\n",
            "Hello Ron\n",
            "Hello Ron\n",
            "Hello Ron\n",
            "Hello Ron\n",
            "Hello Ron\n",
            "Hello Ron\n",
            "Hello Ron\n",
            "Hello Ron\n",
            "Hello Ron\n",
            "Hello Ron\n",
            "Hello Ron\n",
            "Hello Ron\n",
            "Hello Ron\n",
            "Hello Ron\n",
            "Hello Ron\n",
            "Hello Ron\n",
            "Hello Ron\n",
            "Hello Ron\n",
            "Hello Ron\n",
            "Hello Ron\n",
            "Hello Ron\n",
            "Hello Ron\n",
            "Hello Ron\n",
            "Hello Ron\n",
            "Hello Ron\n",
            "Hello Ron\n",
            "Hello Ron\n",
            "Hello Ron\n",
            "Hello Ron\n",
            "Hello Ron\n",
            "Hello Ron\n",
            "Hello Ron\n",
            "Hello Ron\n",
            "Hello Ron\n",
            "Hello Ron\n",
            "Hello Ron\n",
            "Hello Ron\n",
            "Hello Ron\n",
            "Hello Ron\n",
            "Hello Ron\n",
            "Hello Ron\n",
            "Hello Ron\n",
            "Hello Ron\n",
            "Hello Ron\n",
            "Hello Ron\n",
            "Hello Ron\n",
            "Hello Ron\n",
            "Hello Ron\n",
            "Hello Ron\n",
            "Hello Ron\n",
            "Hello Ron\n",
            "Hello Ron\n",
            "Hello Ron\n",
            "Hello Ron\n",
            "Hello Ron\n",
            "Hello Ron\n",
            "Hello Ron\n",
            "Hello Ron\n",
            "Hello Ron\n",
            "Hello Ron\n",
            "Hello Ron\n",
            "Hello Ron\n",
            "Hello Ron\n",
            "Hello Ron\n",
            "Hello Ron\n",
            "Hello Ron\n",
            "Hello Ron\n",
            "Hello Ron\n",
            "Hello Ron\n",
            "Hello Ron\n",
            "Hello Ron\n",
            "Hello Ron\n",
            "Hello Ron\n",
            "Hello Ron\n",
            "Hello Ron\n",
            "Hello Ron\n",
            "Hello Ron\n",
            "Hello Ron\n",
            "Hello Ron\n",
            "Hello Ron\n",
            "Hello Ron\n",
            "Hello Ron\n",
            "Hello Ron\n",
            "Hello Ron\n",
            "Hello Ron\n",
            "Hello Ron\n",
            "Hello Ron\n",
            "Hello Ron\n",
            "Hello Ron\n",
            "Hello Ron\n",
            "Hello Ron\n",
            "Hello Ron\n",
            "Hello Ron\n",
            "Hello Ron\n",
            "Hello Ron\n",
            "Hello Ron\n",
            "Hello Ron\n",
            "Hello Ron\n",
            "Hello Ron\n",
            "Hello Ron\n",
            "Hello Ron\n",
            "Hello Ron\n",
            "Hello Ron\n",
            "Hello Ron\n",
            "Hello Ron\n",
            "Hello Ron\n",
            "Hello Ron\n",
            "Hello Ron\n",
            "Hello Ron\n",
            "Hello Ron\n",
            "Hello Ron\n",
            "Hello Ron\n",
            "Hello Ron\n",
            "Hello Ron\n",
            "Hello Ron\n",
            "Hello Ron\n",
            "Hello Ron\n",
            "Hello Ron\n",
            "Hello Ron\n",
            "Hello Ron\n",
            "Hello Ron\n",
            "Hello Ron\n",
            "Hello Ron\n",
            "Hello Ron\n",
            "Hello Ron\n",
            "Hello Ron\n",
            "Hello Ron\n",
            "Hello Ron\n",
            "Hello Ron\n",
            "Hello Ron\n",
            "Hello Ron\n",
            "Hello Ron\n",
            "Hello Ron\n",
            "Hello Ron\n",
            "Hello Ron\n",
            "Hello Ron\n",
            "Hello Ron\n",
            "Hello Ron\n",
            "Hello Ron\n",
            "Hello Ron\n",
            "Hello Ron\n",
            "Hello Ron\n",
            "Hello Ron\n",
            "Hello Ron\n",
            "Hello Ron\n",
            "Hello Ron\n",
            "Hello Ron\n",
            "Hello Ron\n",
            "Hello Ron\n",
            "Hello Ron\n",
            "Hello Ron\n",
            "Hello Ron\n",
            "Hello Ron\n",
            "Hello Ron\n",
            "Hello Ron\n",
            "Hello Ron\n",
            "Hello Ron\n",
            "Hello Ron\n",
            "Hello Ron\n",
            "Hello Ron\n",
            "Hello Ron\n",
            "Hello Ron\n",
            "Hello Ron\n",
            "Hello Ron\n",
            "Hello Ron\n",
            "Hello Ron\n",
            "Hello Ron\n",
            "Hello Ron\n",
            "Hello Ron\n",
            "Hello Ron\n",
            "Hello Ron\n",
            "Hello Ron\n",
            "Hello Ron\n",
            "Hello Ron\n",
            "Hello Ron\n",
            "Hello Ron\n",
            "Hello Ron\n",
            "Hello Ron\n",
            "Hello Ron\n",
            "Hello Ron\n",
            "Hello Ron\n",
            "Hello Ron\n",
            "Hello Ron\n",
            "Hello Ron\n",
            "Hello Ron\n",
            "Hello Ron\n",
            "Hello Ron\n",
            "Hello Ron\n",
            "Hello Ron\n",
            "Hello Ron\n",
            "Hello Ron\n",
            "Hello Ron\n",
            "Hello Ron\n",
            "Hello Ron\n",
            "Hello Ron\n",
            "Hello Ron\n",
            "Hello Ron\n",
            "Hello Ron\n",
            "Hello Ron\n",
            "Hello Ron\n",
            "Hello Ron\n",
            "Hello Ron\n",
            "Hello Ron\n",
            "Hello Ron\n",
            "Hello Ron\n",
            "Hello Ron\n",
            "Hello Ron\n",
            "Hello Ron\n",
            "Hello Ron\n",
            "Hello Ron\n",
            "Hello Ron\n",
            "Hello Ron\n",
            "Hello Ron\n",
            "Hello Ron\n",
            "Hello Ron\n",
            "Hello Ron\n",
            "Hello Ron\n",
            "Hello Ron\n",
            "Hello Ron\n",
            "Hello Ron\n",
            "Hello Ron\n",
            "Hello Ron\n",
            "Hello Ron\n",
            "Hello Ron\n",
            "Hello Ron\n",
            "Hello Ron\n",
            "Hello Ron\n",
            "Hello Ron\n",
            "Hello Ron\n",
            "Hello Ron\n",
            "Hello Ron\n",
            "Hello Ron\n",
            "Hello Ron\n",
            "Hello Ron\n",
            "Hello Ron\n",
            "Hello Ron\n",
            "Hello Ron\n",
            "Hello Ron\n",
            "Hello Ron\n",
            "Hello Ron\n",
            "Hello Ron\n",
            "Hello Ron\n",
            "Hello Ron\n",
            "Hello Ron\n",
            "Hello Ron\n",
            "Hello Ron\n",
            "Hello Ron\n",
            "Hello Ron\n",
            "Hello Ron\n",
            "Hello Ron\n",
            "Hello Ron\n",
            "Hello Ron\n",
            "Hello Ron\n",
            "Hello Ron\n",
            "Hello Ron\n",
            "Hello Ron\n",
            "Hello Ron\n",
            "Hello Ron\n",
            "Hello Ron\n",
            "Hello Ron\n",
            "Hello Ron\n",
            "Hello Ron\n",
            "Hello Ron\n",
            "Hello Ron\n",
            "Hello Ron\n",
            "Hello Ron\n",
            "Hello Ron\n",
            "Hello Ron\n",
            "Hello Ron\n",
            "Hello Ron\n",
            "Hello Ron\n",
            "Hello Ron\n",
            "Hello Ron\n",
            "Hello Ron\n",
            "Hello Ron\n",
            "Hello Ron\n",
            "Hello Ron\n",
            "Hello Ron\n",
            "Hello Ron\n",
            "Hello Ron\n",
            "Hello Ron\n",
            "Hello Ron\n",
            "Hello Ron\n",
            "Hello Ron\n",
            "Hello Ron\n",
            "Hello Ron\n",
            "Hello Ron\n",
            "Hello Ron\n",
            "Hello Ron\n",
            "Hello Ron\n",
            "Hello Ron\n",
            "Hello Ron\n",
            "Hello Ron\n",
            "Hello Ron\n",
            "Hello Ron\n",
            "Hello Ron\n",
            "Hello Ron\n",
            "Hello Ron\n",
            "Hello Ron\n",
            "Hello Ron\n",
            "Hello Ron\n",
            "Hello Ron\n",
            "Hello Ron\n",
            "Hello Ron\n",
            "Hello Ron\n",
            "Hello Ron\n",
            "Hello Ron\n",
            "Hello Ron\n",
            "Hello Ron\n",
            "Hello Ron\n",
            "Hello Ron\n",
            "Hello Ron\n",
            "Hello Ron\n",
            "Hello Ron\n",
            "Hello Ron\n",
            "Hello Ron\n",
            "Hello Ron\n",
            "Hello Ron\n",
            "Hello Ron\n",
            "Hello Ron\n",
            "Hello Ron\n",
            "Hello Ron\n",
            "Hello Ron\n",
            "Hello Ron\n",
            "Hello Ron\n",
            "Hello Ron\n",
            "Hello Ron\n",
            "Hello Ron\n",
            "Hello Ron\n",
            "Hello Ron\n",
            "Hello Ron\n",
            "Hello Ron\n",
            "Hello Ron\n",
            "Hello Ron\n",
            "Hello Ron\n",
            "Hello Ron\n",
            "Hello Ron\n",
            "Hello Ron\n",
            "Hello Ron\n",
            "Hello Ron\n",
            "Hello Ron\n",
            "Hello Ron\n",
            "Hello Ron\n",
            "Hello Ron\n",
            "Hello Ron\n",
            "Hello Ron\n",
            "Hello Ron\n",
            "Hello Ron\n",
            "Hello Ron\n",
            "Hello Ron\n",
            "Hello Ron\n",
            "Hello Ron\n",
            "Hello Ron\n",
            "Hello Ron\n",
            "Hello Ron\n",
            "Hello Ron\n",
            "Hello Ron\n",
            "Hello Ron\n",
            "Hello Ron\n",
            "Hello Ron\n",
            "Hello Ron\n",
            "Hello Ron\n",
            "Hello Ron\n",
            "Hello Ron\n",
            "Hello Ron\n",
            "Hello Ron\n",
            "Hello Ron\n",
            "Hello Ron\n",
            "Hello Ron\n",
            "Hello Ron\n",
            "Hello Ron\n",
            "Hello Ron\n",
            "Hello Ron\n",
            "Hello Ron\n",
            "Hello Ron\n",
            "Hello Ron\n",
            "Hello Ron\n",
            "Hello Ron\n",
            "Hello Ron\n",
            "Hello Ron\n",
            "Hello Ron\n",
            "Hello Ron\n",
            "Hello Ron\n",
            "Hello Ron\n",
            "Hello Ron\n",
            "Hello Ron\n",
            "Hello Ron\n",
            "Hello Ron\n",
            "Hello Ron\n",
            "Hello Ron\n",
            "Hello Ron\n",
            "Hello Ron\n",
            "Hello Ron\n",
            "Hello Ron\n",
            "Hello Ron\n",
            "Hello Ron\n",
            "Hello Ron\n",
            "Hello Ron\n",
            "Hello Ron\n",
            "Hello Ron\n",
            "Hello Ron\n",
            "Hello Ron\n",
            "Hello Ron\n",
            "Hello Ron\n",
            "Hello Ron\n",
            "Hello Ron\n",
            "Hello Ron\n",
            "Hello Ron\n",
            "Hello Ron\n",
            "Hello Ron\n",
            "Hello Ron\n",
            "Hello Ron\n",
            "Hello Ron\n",
            "Hello Ron\n",
            "Hello Ron\n",
            "Hello Ron\n",
            "Hello Ron\n",
            "Hello Ron\n",
            "Hello Ron\n",
            "Hello Ron\n",
            "Hello Ron\n",
            "Hello Ron\n",
            "Hello Ron\n",
            "Hello Ron\n",
            "Hello Ron\n",
            "Hello Ron\n",
            "Hello Ron\n",
            "Hello Ron\n",
            "Hello Ron\n",
            "Hello Ron\n",
            "Hello Ron\n",
            "Hello Ron\n",
            "Hello Ron\n",
            "Hello Ron\n",
            "Hello Ron\n",
            "Hello Ron\n",
            "Hello Ron\n",
            "Hello Ron\n",
            "Hello Ron\n",
            "Hello Ron\n",
            "Hello Ron\n",
            "Hello Ron\n",
            "Hello Ron\n",
            "Hello Ron\n",
            "Hello Ron\n",
            "Hello Ron\n",
            "Hello Ron\n",
            "Hello Ron\n",
            "Hello Ron\n",
            "Hello Ron\n",
            "Hello Ron\n",
            "Hello Ron\n",
            "Hello Ron\n",
            "Hello Ron\n",
            "Hello Ron\n",
            "Hello Ron\n",
            "Hello Ron\n",
            "Hello Ron\n",
            "Hello Ron\n",
            "Hello Ron\n",
            "Hello Ron\n",
            "Hello"
          ]
        },
        {
          "ename": "RecursionError",
          "evalue": "maximum recursion depth exceeded in comparison",
          "output_type": "error",
          "traceback": [
            "\u001b[0;31m---------------------------------------------------------------------------\u001b[0m",
            "\u001b[0;31mRecursionError\u001b[0m                            Traceback (most recent call last)",
            "\u001b[0;32m<ipython-input-2-48c876cb7128>\u001b[0m in \u001b[0;36m<module>\u001b[0;34m()\u001b[0m\n\u001b[0;32m----> 1\u001b[0;31m \u001b[0mhello\u001b[0m\u001b[0;34m(\u001b[0m\u001b[0;34m\"Ron\"\u001b[0m\u001b[0;34m)\u001b[0m\u001b[0;34m\u001b[0m\u001b[0m\n\u001b[0m",
            "\u001b[0;32m<ipython-input-1-617e0c2a1db3>\u001b[0m in \u001b[0;36mhello\u001b[0;34m(name)\u001b[0m\n\u001b[1;32m      2\u001b[0m \u001b[0;34m\u001b[0m\u001b[0m\n\u001b[1;32m      3\u001b[0m     \u001b[0mprint\u001b[0m\u001b[0;34m(\u001b[0m\u001b[0;34m\"Hello\"\u001b[0m\u001b[0;34m,\u001b[0m \u001b[0mname\u001b[0m\u001b[0;34m)\u001b[0m\u001b[0;34m\u001b[0m\u001b[0m\n\u001b[0;32m----> 4\u001b[0;31m     \u001b[0mhello\u001b[0m\u001b[0;34m(\u001b[0m\u001b[0mname\u001b[0m\u001b[0;34m)\u001b[0m\u001b[0;34m\u001b[0m\u001b[0m\n\u001b[0m",
            "... last 1 frames repeated, from the frame below ...\n",
            "\u001b[0;32m<ipython-input-1-617e0c2a1db3>\u001b[0m in \u001b[0;36mhello\u001b[0;34m(name)\u001b[0m\n\u001b[1;32m      2\u001b[0m \u001b[0;34m\u001b[0m\u001b[0m\n\u001b[1;32m      3\u001b[0m     \u001b[0mprint\u001b[0m\u001b[0;34m(\u001b[0m\u001b[0;34m\"Hello\"\u001b[0m\u001b[0;34m,\u001b[0m \u001b[0mname\u001b[0m\u001b[0;34m)\u001b[0m\u001b[0;34m\u001b[0m\u001b[0m\n\u001b[0;32m----> 4\u001b[0;31m     \u001b[0mhello\u001b[0m\u001b[0;34m(\u001b[0m\u001b[0mname\u001b[0m\u001b[0;34m)\u001b[0m\u001b[0;34m\u001b[0m\u001b[0m\n\u001b[0m",
            "\u001b[0;31mRecursionError\u001b[0m: maximum recursion depth exceeded in comparison"
          ]
        }
      ],
      "source": [
        "hello(\"Ron\")"
      ]
    },
    {
      "cell_type": "code",
      "execution_count": 2,
      "metadata": {
        "colab": {
          "base_uri": "https://localhost:8080/"
        },
        "id": "KI-ZZXEmjzUh",
        "outputId": "db1b4403-310f-4e04-9e09-4907b150fd20"
      },
      "outputs": [
        {
          "output_type": "execute_result",
          "data": {
            "text/plain": [
              "1000"
            ]
          },
          "metadata": {},
          "execution_count": 2
        }
      ],
      "source": [
        "import sys\n",
        "sys.getrecursionlimit()"
      ]
    },
    {
      "cell_type": "code",
      "execution_count": 3,
      "metadata": {
        "id": "9KJl1UbIjzUi"
      },
      "outputs": [],
      "source": [
        "def increment(num): \n",
        "    print(num, end = \" \")\n",
        "\n",
        "    increment(num + 1)\n",
        "    \n",
        "    return"
      ]
    },
    {
      "cell_type": "code",
      "execution_count": 4,
      "metadata": {
        "colab": {
          "base_uri": "https://localhost:8080/",
          "height": 383
        },
        "id": "wIeOqYvBjzUi",
        "outputId": "418cd085-33b2-445a-ed42-42f57e7a5c39"
      },
      "outputs": [
        {
          "output_type": "stream",
          "name": "stdout",
          "text": [
            "1 2 3 4 5 6 7 8 9 10 11 12 13 14 15 16 17 18 19 20 21 22 23 24 25 26 27 28 29 30 31 32 33 34 35 36 37 38 39 40 41 42 43 44 45 46 47 48 49 50 51 52 53 54 55 56 57 58 59 60 61 62 63 64 65 66 67 68 69 70 71 72 73 74 75 76 77 78 79 80 81 82 83 84 85 86 87 88 89 90 91 92 93 94 95 96 97 98 99 100 101 102 103 104 105 106 107 108 109 110 111 112 113 114 115 116 117 118 119 120 121 122 123 124 125 126 127 128 129 130 131 132 133 134 135 136 137 138 139 140 141 142 143 144 145 146 147 148 149 150 151 152 153 154 155 156 157 158 159 160 161 162 163 164 165 166 167 168 169 170 171 172 173 174 175 176 177 178 179 180 181 182 183 184 185 186 187 188 189 190 191 192 193 194 195 196 197 198 199 200 201 202 203 204 205 206 207 208 209 210 211 212 213 214 215 216 217 218 219 220 221 222 223 224 225 226 227 228 229 230 231 232 233 234 235 236 237 238 239 240 241 242 243 244 245 246 247 248 249 250 251 252 253 254 255 256 257 258 259 260 261 262 263 264 265 266 267 268 269 270 271 272 273 274 275 276 277 278 279 280 281 282 283 284 285 286 287 288 289 290 291 292 293 294 295 296 297 298 299 300 301 302 303 304 305 306 307 308 309 310 311 312 313 314 315 316 317 318 319 320 321 322 323 324 325 326 327 328 329 330 331 332 333 334 335 336 337 338 339 340 341 342 343 344 345 346 347 348 349 350 351 352 353 354 355 356 357 358 359 360 361 362 363 364 365 366 367 368 369 370 371 372 373 374 375 376 377 378 379 380 381 382 383 384 385 386 387 388 389 390 391 392 393 394 395 396 397 398 399 400 401 402 403 404 405 406 407 408 409 410 411 412 413 414 415 416 417 418 419 420 421 422 423 424 425 426 427 428 429 430 431 432 433 434 435 436 437 438 439 440 441 442 443 444 445 446 447 448 449 450 451 452 453 454 455 456 457 458 459 460 461 462 463 464 465 466 467 468 469 470 471 472 473 474 475 476 477 478 479 480 481 482 483 484 485 486 487 488 489 490 491 492 493 494 495 496 497 498 499 500 501 502 503 504 505 506 507 508 509 510 511 512 513 514 515 516 517 518 519 520 521 522 523 524 525 526 527 528 529 530 531 532 533 534 535 536 537 538 539 540 541 542 543 544 545 546 547 548 549 550 551 552 553 554 555 556 557 558 559 560 561 562 563 564 565 566 567 568 569 570 571 572 573 574 575 576 577 578 579 580 581 582 583 584 585 586 587 588 589 590 591 592 593 594 595 596 597 598 599 600 601 602 603 604 605 606 607 608 609 610 611 612 613 614 615 616 617 618 619 620 621 622 623 624 625 626 627 628 629 630 631 632 633 634 635 636 637 638 639 640 641 642 643 644 645 646 647 648 649 650 651 652 653 654 655 656 657 658 659 660 661 662 663 664 665 666 667 668 669 670 671 672 673 674 675 676 677 678 679 680 681 682 683 684 685 686 687 688 689 690 691 692 693 694 695 696 697 698 699 700 701 702 703 704 705 706 707 708 709 710 711 712 713 714 715 716 717 718 719 720 721 722 723 724 725 726 727 728 729 730 731 732 733 734 735 736 737 738 739 740 741 742 743 744 745 746 747 748 749 750 751 752 753 754 755 756 757 758 759 760 761 762 763 764 765 766 767 768 769 770 771 772 773 774 775 776 777 778 779 780 781 782 783 784 785 786 787 788 789 790 791 792 793 794 795 796 797 798 799 800 801 802 803 804 805 806 807 808 809 810 811 812 813 814 815 816 817 818 819 820 821 822 823 824 825 826 827 828 829 830 831 832 833 834 835 836 837 838 839 840 841 842 843 844 845 846 847 848 849 850 851 852 853 854 855 856 857 858 859 860 861 862 863 864 865 866 867 868 869 870 871 872 873 874 875 876 877 878 879 880 881 882 883 884 885 886 887 888 889 890 891 892 893 894 895 896 897 898 899 900 901 902 903 904 905 906 907 908 909 910 911 912 913 914 915 916 917 918 919 920 921 922 923 924 925 926 927 928 929 930 931 932 933 934 935 936 937 938 939 940 941 942 943 944 945 946 947 948 949 950 951 952 953 954 955 956 957 958 959 960 961 962 963 "
          ]
        },
        {
          "output_type": "error",
          "ename": "RecursionError",
          "evalue": "ignored",
          "traceback": [
            "\u001b[0;31m---------------------------------------------------------------------------\u001b[0m",
            "\u001b[0;31mRecursionError\u001b[0m                            Traceback (most recent call last)",
            "\u001b[0;32m<ipython-input-4-a4a9538b2996>\u001b[0m in \u001b[0;36m<module>\u001b[0;34m()\u001b[0m\n\u001b[0;32m----> 1\u001b[0;31m \u001b[0mincrement\u001b[0m\u001b[0;34m(\u001b[0m\u001b[0;36m1\u001b[0m\u001b[0;34m)\u001b[0m\u001b[0;34m\u001b[0m\u001b[0;34m\u001b[0m\u001b[0m\n\u001b[0m",
            "\u001b[0;32m<ipython-input-3-be83220b8ada>\u001b[0m in \u001b[0;36mincrement\u001b[0;34m(num)\u001b[0m\n\u001b[1;32m      2\u001b[0m     \u001b[0mprint\u001b[0m\u001b[0;34m(\u001b[0m\u001b[0mnum\u001b[0m\u001b[0;34m,\u001b[0m \u001b[0mend\u001b[0m \u001b[0;34m=\u001b[0m \u001b[0;34m\" \"\u001b[0m\u001b[0;34m)\u001b[0m\u001b[0;34m\u001b[0m\u001b[0;34m\u001b[0m\u001b[0m\n\u001b[1;32m      3\u001b[0m \u001b[0;34m\u001b[0m\u001b[0m\n\u001b[0;32m----> 4\u001b[0;31m     \u001b[0mincrement\u001b[0m\u001b[0;34m(\u001b[0m\u001b[0mnum\u001b[0m \u001b[0;34m+\u001b[0m \u001b[0;36m1\u001b[0m\u001b[0;34m)\u001b[0m\u001b[0;34m\u001b[0m\u001b[0;34m\u001b[0m\u001b[0m\n\u001b[0m\u001b[1;32m      5\u001b[0m \u001b[0;34m\u001b[0m\u001b[0m\n\u001b[1;32m      6\u001b[0m     \u001b[0;32mreturn\u001b[0m\u001b[0;34m\u001b[0m\u001b[0;34m\u001b[0m\u001b[0m\n",
            "... last 1 frames repeated, from the frame below ...\n",
            "\u001b[0;32m<ipython-input-3-be83220b8ada>\u001b[0m in \u001b[0;36mincrement\u001b[0;34m(num)\u001b[0m\n\u001b[1;32m      2\u001b[0m     \u001b[0mprint\u001b[0m\u001b[0;34m(\u001b[0m\u001b[0mnum\u001b[0m\u001b[0;34m,\u001b[0m \u001b[0mend\u001b[0m \u001b[0;34m=\u001b[0m \u001b[0;34m\" \"\u001b[0m\u001b[0;34m)\u001b[0m\u001b[0;34m\u001b[0m\u001b[0;34m\u001b[0m\u001b[0m\n\u001b[1;32m      3\u001b[0m \u001b[0;34m\u001b[0m\u001b[0m\n\u001b[0;32m----> 4\u001b[0;31m     \u001b[0mincrement\u001b[0m\u001b[0;34m(\u001b[0m\u001b[0mnum\u001b[0m \u001b[0;34m+\u001b[0m \u001b[0;36m1\u001b[0m\u001b[0;34m)\u001b[0m\u001b[0;34m\u001b[0m\u001b[0;34m\u001b[0m\u001b[0m\n\u001b[0m\u001b[1;32m      5\u001b[0m \u001b[0;34m\u001b[0m\u001b[0m\n\u001b[1;32m      6\u001b[0m     \u001b[0;32mreturn\u001b[0m\u001b[0;34m\u001b[0m\u001b[0;34m\u001b[0m\u001b[0m\n",
            "\u001b[0;31mRecursionError\u001b[0m: maximum recursion depth exceeded while calling a Python object"
          ]
        }
      ],
      "source": [
        "increment(1)"
      ]
    },
    {
      "cell_type": "code",
      "execution_count": 5,
      "metadata": {
        "id": "vCrhC0WhjzUi"
      },
      "outputs": [],
      "source": [
        "sys.setrecursionlimit(100)"
      ]
    },
    {
      "cell_type": "code",
      "execution_count": 6,
      "metadata": {
        "colab": {
          "base_uri": "https://localhost:8080/",
          "height": 349
        },
        "id": "CzvsW7JQjzUi",
        "outputId": "163ea03d-518f-45e1-b424-3d239bf56ac4"
      },
      "outputs": [
        {
          "output_type": "stream",
          "name": "stdout",
          "text": [
            "1 2 3 4 5 6 7 8 9 10 11 12 13 14 15 16 17 18 19 20 21 22 23 24 25 26 27 28 29 30 31 32 33 34 35 36 37 38 39 40 41 42 43 44 45 46 47 48 49 50 51 52 53 54 55 56 57 58 59 60 61 62 63 "
          ]
        },
        {
          "output_type": "error",
          "ename": "RecursionError",
          "evalue": "ignored",
          "traceback": [
            "\u001b[0;31m---------------------------------------------------------------------------\u001b[0m",
            "\u001b[0;31mRecursionError\u001b[0m                            Traceback (most recent call last)",
            "\u001b[0;32m<ipython-input-6-a4a9538b2996>\u001b[0m in \u001b[0;36m<module>\u001b[0;34m()\u001b[0m\n\u001b[0;32m----> 1\u001b[0;31m \u001b[0mincrement\u001b[0m\u001b[0;34m(\u001b[0m\u001b[0;36m1\u001b[0m\u001b[0;34m)\u001b[0m\u001b[0;34m\u001b[0m\u001b[0;34m\u001b[0m\u001b[0m\n\u001b[0m",
            "\u001b[0;32m<ipython-input-3-be83220b8ada>\u001b[0m in \u001b[0;36mincrement\u001b[0;34m(num)\u001b[0m\n\u001b[1;32m      2\u001b[0m     \u001b[0mprint\u001b[0m\u001b[0;34m(\u001b[0m\u001b[0mnum\u001b[0m\u001b[0;34m,\u001b[0m \u001b[0mend\u001b[0m \u001b[0;34m=\u001b[0m \u001b[0;34m\" \"\u001b[0m\u001b[0;34m)\u001b[0m\u001b[0;34m\u001b[0m\u001b[0;34m\u001b[0m\u001b[0m\n\u001b[1;32m      3\u001b[0m \u001b[0;34m\u001b[0m\u001b[0m\n\u001b[0;32m----> 4\u001b[0;31m     \u001b[0mincrement\u001b[0m\u001b[0;34m(\u001b[0m\u001b[0mnum\u001b[0m \u001b[0;34m+\u001b[0m \u001b[0;36m1\u001b[0m\u001b[0;34m)\u001b[0m\u001b[0;34m\u001b[0m\u001b[0;34m\u001b[0m\u001b[0m\n\u001b[0m\u001b[1;32m      5\u001b[0m \u001b[0;34m\u001b[0m\u001b[0m\n\u001b[1;32m      6\u001b[0m     \u001b[0;32mreturn\u001b[0m\u001b[0;34m\u001b[0m\u001b[0;34m\u001b[0m\u001b[0m\n",
            "\u001b[0;32m<ipython-input-3-be83220b8ada>\u001b[0m in \u001b[0;36mincrement\u001b[0;34m(num)\u001b[0m\n\u001b[1;32m      2\u001b[0m     \u001b[0mprint\u001b[0m\u001b[0;34m(\u001b[0m\u001b[0mnum\u001b[0m\u001b[0;34m,\u001b[0m \u001b[0mend\u001b[0m \u001b[0;34m=\u001b[0m \u001b[0;34m\" \"\u001b[0m\u001b[0;34m)\u001b[0m\u001b[0;34m\u001b[0m\u001b[0;34m\u001b[0m\u001b[0m\n\u001b[1;32m      3\u001b[0m \u001b[0;34m\u001b[0m\u001b[0m\n\u001b[0;32m----> 4\u001b[0;31m     \u001b[0mincrement\u001b[0m\u001b[0;34m(\u001b[0m\u001b[0mnum\u001b[0m \u001b[0;34m+\u001b[0m \u001b[0;36m1\u001b[0m\u001b[0;34m)\u001b[0m\u001b[0;34m\u001b[0m\u001b[0;34m\u001b[0m\u001b[0m\n\u001b[0m\u001b[1;32m      5\u001b[0m \u001b[0;34m\u001b[0m\u001b[0m\n\u001b[1;32m      6\u001b[0m     \u001b[0;32mreturn\u001b[0m\u001b[0;34m\u001b[0m\u001b[0;34m\u001b[0m\u001b[0m\n",
            "\u001b[0;32m<ipython-input-3-be83220b8ada>\u001b[0m in \u001b[0;36mincrement\u001b[0;34m(num)\u001b[0m\n\u001b[1;32m      2\u001b[0m     \u001b[0mprint\u001b[0m\u001b[0;34m(\u001b[0m\u001b[0mnum\u001b[0m\u001b[0;34m,\u001b[0m \u001b[0mend\u001b[0m \u001b[0;34m=\u001b[0m \u001b[0;34m\" \"\u001b[0m\u001b[0;34m)\u001b[0m\u001b[0;34m\u001b[0m\u001b[0;34m\u001b[0m\u001b[0m\n\u001b[1;32m      3\u001b[0m \u001b[0;34m\u001b[0m\u001b[0m\n\u001b[0;32m----> 4\u001b[0;31m     \u001b[0mincrement\u001b[0m\u001b[0;34m(\u001b[0m\u001b[0mnum\u001b[0m \u001b[0;34m+\u001b[0m \u001b[0;36m1\u001b[0m\u001b[0;34m)\u001b[0m\u001b[0;34m\u001b[0m\u001b[0;34m\u001b[0m\u001b[0m\n\u001b[0m\u001b[1;32m      5\u001b[0m \u001b[0;34m\u001b[0m\u001b[0m\n\u001b[1;32m      6\u001b[0m     \u001b[0;32mreturn\u001b[0m\u001b[0;34m\u001b[0m\u001b[0;34m\u001b[0m\u001b[0m\n",
            "\u001b[0;32m<ipython-input-3-be83220b8ada>\u001b[0m in \u001b[0;36mincrement\u001b[0;34m(num)\u001b[0m\n\u001b[1;32m      2\u001b[0m     \u001b[0mprint\u001b[0m\u001b[0;34m(\u001b[0m\u001b[0mnum\u001b[0m\u001b[0;34m,\u001b[0m \u001b[0mend\u001b[0m \u001b[0;34m=\u001b[0m \u001b[0;34m\" \"\u001b[0m\u001b[0;34m)\u001b[0m\u001b[0;34m\u001b[0m\u001b[0;34m\u001b[0m\u001b[0m\n\u001b[1;32m      3\u001b[0m \u001b[0;34m\u001b[0m\u001b[0m\n\u001b[0;32m----> 4\u001b[0;31m     \u001b[0mincrement\u001b[0m\u001b[0;34m(\u001b[0m\u001b[0mnum\u001b[0m \u001b[0;34m+\u001b[0m \u001b[0;36m1\u001b[0m\u001b[0;34m)\u001b[0m\u001b[0;34m\u001b[0m\u001b[0;34m\u001b[0m\u001b[0m\n\u001b[0m\u001b[1;32m      5\u001b[0m \u001b[0;34m\u001b[0m\u001b[0m\n\u001b[1;32m      6\u001b[0m     \u001b[0;32mreturn\u001b[0m\u001b[0;34m\u001b[0m\u001b[0;34m\u001b[0m\u001b[0m\n",
            "\u001b[0;32m<ipython-input-3-be83220b8ada>\u001b[0m in \u001b[0;36mincrement\u001b[0;34m(num)\u001b[0m\n\u001b[1;32m      2\u001b[0m     \u001b[0mprint\u001b[0m\u001b[0;34m(\u001b[0m\u001b[0mnum\u001b[0m\u001b[0;34m,\u001b[0m \u001b[0mend\u001b[0m \u001b[0;34m=\u001b[0m \u001b[0;34m\" \"\u001b[0m\u001b[0;34m)\u001b[0m\u001b[0;34m\u001b[0m\u001b[0;34m\u001b[0m\u001b[0m\n\u001b[1;32m      3\u001b[0m \u001b[0;34m\u001b[0m\u001b[0m\n\u001b[0;32m----> 4\u001b[0;31m     \u001b[0mincrement\u001b[0m\u001b[0;34m(\u001b[0m\u001b[0mnum\u001b[0m \u001b[0;34m+\u001b[0m \u001b[0;36m1\u001b[0m\u001b[0;34m)\u001b[0m\u001b[0;34m\u001b[0m\u001b[0;34m\u001b[0m\u001b[0m\n\u001b[0m\u001b[1;32m      5\u001b[0m \u001b[0;34m\u001b[0m\u001b[0m\n\u001b[1;32m      6\u001b[0m     \u001b[0;32mreturn\u001b[0m\u001b[0;34m\u001b[0m\u001b[0;34m\u001b[0m\u001b[0m\n",
            "\u001b[0;32m<ipython-input-3-be83220b8ada>\u001b[0m in \u001b[0;36mincrement\u001b[0;34m(num)\u001b[0m\n\u001b[1;32m      2\u001b[0m     \u001b[0mprint\u001b[0m\u001b[0;34m(\u001b[0m\u001b[0mnum\u001b[0m\u001b[0;34m,\u001b[0m \u001b[0mend\u001b[0m \u001b[0;34m=\u001b[0m \u001b[0;34m\" \"\u001b[0m\u001b[0;34m)\u001b[0m\u001b[0;34m\u001b[0m\u001b[0;34m\u001b[0m\u001b[0m\n\u001b[1;32m      3\u001b[0m \u001b[0;34m\u001b[0m\u001b[0m\n\u001b[0;32m----> 4\u001b[0;31m     \u001b[0mincrement\u001b[0m\u001b[0;34m(\u001b[0m\u001b[0mnum\u001b[0m \u001b[0;34m+\u001b[0m \u001b[0;36m1\u001b[0m\u001b[0;34m)\u001b[0m\u001b[0;34m\u001b[0m\u001b[0;34m\u001b[0m\u001b[0m\n\u001b[0m\u001b[1;32m      5\u001b[0m \u001b[0;34m\u001b[0m\u001b[0m\n\u001b[1;32m      6\u001b[0m     \u001b[0;32mreturn\u001b[0m\u001b[0;34m\u001b[0m\u001b[0;34m\u001b[0m\u001b[0m\n",
            "\u001b[0;32m<ipython-input-3-be83220b8ada>\u001b[0m in \u001b[0;36mincrement\u001b[0;34m(num)\u001b[0m\n\u001b[1;32m      2\u001b[0m     \u001b[0mprint\u001b[0m\u001b[0;34m(\u001b[0m\u001b[0mnum\u001b[0m\u001b[0;34m,\u001b[0m \u001b[0mend\u001b[0m \u001b[0;34m=\u001b[0m \u001b[0;34m\" \"\u001b[0m\u001b[0;34m)\u001b[0m\u001b[0;34m\u001b[0m\u001b[0;34m\u001b[0m\u001b[0m\n\u001b[1;32m      3\u001b[0m \u001b[0;34m\u001b[0m\u001b[0m\n\u001b[0;32m----> 4\u001b[0;31m     \u001b[0mincrement\u001b[0m\u001b[0;34m(\u001b[0m\u001b[0mnum\u001b[0m \u001b[0;34m+\u001b[0m \u001b[0;36m1\u001b[0m\u001b[0;34m)\u001b[0m\u001b[0;34m\u001b[0m\u001b[0;34m\u001b[0m\u001b[0m\n\u001b[0m\u001b[1;32m      5\u001b[0m \u001b[0;34m\u001b[0m\u001b[0m\n\u001b[1;32m      6\u001b[0m     \u001b[0;32mreturn\u001b[0m\u001b[0;34m\u001b[0m\u001b[0;34m\u001b[0m\u001b[0m\n",
            "\u001b[0;32m<ipython-input-3-be83220b8ada>\u001b[0m in \u001b[0;36mincrement\u001b[0;34m(num)\u001b[0m\n\u001b[1;32m      2\u001b[0m     \u001b[0mprint\u001b[0m\u001b[0;34m(\u001b[0m\u001b[0mnum\u001b[0m\u001b[0;34m,\u001b[0m \u001b[0mend\u001b[0m \u001b[0;34m=\u001b[0m \u001b[0;34m\" \"\u001b[0m\u001b[0;34m)\u001b[0m\u001b[0;34m\u001b[0m\u001b[0;34m\u001b[0m\u001b[0m\n\u001b[1;32m      3\u001b[0m \u001b[0;34m\u001b[0m\u001b[0m\n\u001b[0;32m----> 4\u001b[0;31m     \u001b[0mincrement\u001b[0m\u001b[0;34m(\u001b[0m\u001b[0mnum\u001b[0m \u001b[0;34m+\u001b[0m \u001b[0;36m1\u001b[0m\u001b[0;34m)\u001b[0m\u001b[0;34m\u001b[0m\u001b[0;34m\u001b[0m\u001b[0m\n\u001b[0m\u001b[1;32m      5\u001b[0m \u001b[0;34m\u001b[0m\u001b[0m\n\u001b[1;32m      6\u001b[0m     \u001b[0;32mreturn\u001b[0m\u001b[0;34m\u001b[0m\u001b[0;34m\u001b[0m\u001b[0m\n",
            "\u001b[0;32m<ipython-input-3-be83220b8ada>\u001b[0m in \u001b[0;36mincrement\u001b[0;34m(num)\u001b[0m\n\u001b[1;32m      2\u001b[0m     \u001b[0mprint\u001b[0m\u001b[0;34m(\u001b[0m\u001b[0mnum\u001b[0m\u001b[0;34m,\u001b[0m \u001b[0mend\u001b[0m \u001b[0;34m=\u001b[0m \u001b[0;34m\" \"\u001b[0m\u001b[0;34m)\u001b[0m\u001b[0;34m\u001b[0m\u001b[0;34m\u001b[0m\u001b[0m\n\u001b[1;32m      3\u001b[0m \u001b[0;34m\u001b[0m\u001b[0m\n\u001b[0;32m----> 4\u001b[0;31m     \u001b[0mincrement\u001b[0m\u001b[0;34m(\u001b[0m\u001b[0mnum\u001b[0m \u001b[0;34m+\u001b[0m \u001b[0;36m1\u001b[0m\u001b[0;34m)\u001b[0m\u001b[0;34m\u001b[0m\u001b[0;34m\u001b[0m\u001b[0m\n\u001b[0m\u001b[1;32m      5\u001b[0m \u001b[0;34m\u001b[0m\u001b[0m\n\u001b[1;32m      6\u001b[0m     \u001b[0;32mreturn\u001b[0m\u001b[0;34m\u001b[0m\u001b[0;34m\u001b[0m\u001b[0m\n",
            "\u001b[0;32m<ipython-input-3-be83220b8ada>\u001b[0m in \u001b[0;36mincrement\u001b[0;34m(num)\u001b[0m\n\u001b[1;32m      2\u001b[0m     \u001b[0mprint\u001b[0m\u001b[0;34m(\u001b[0m\u001b[0mnum\u001b[0m\u001b[0;34m,\u001b[0m \u001b[0mend\u001b[0m \u001b[0;34m=\u001b[0m \u001b[0;34m\" \"\u001b[0m\u001b[0;34m)\u001b[0m\u001b[0;34m\u001b[0m\u001b[0;34m\u001b[0m\u001b[0m\n\u001b[1;32m      3\u001b[0m \u001b[0;34m\u001b[0m\u001b[0m\n\u001b[0;32m----> 4\u001b[0;31m     \u001b[0mincrement\u001b[0m\u001b[0;34m(\u001b[0m\u001b[0mnum\u001b[0m \u001b[0;34m+\u001b[0m \u001b[0;36m1\u001b[0m\u001b[0;34m)\u001b[0m\u001b[0;34m\u001b[0m\u001b[0;34m\u001b[0m\u001b[0m\n\u001b[0m\u001b[1;32m      5\u001b[0m \u001b[0;34m\u001b[0m\u001b[0m\n\u001b[1;32m      6\u001b[0m     \u001b[0;32mreturn\u001b[0m\u001b[0;34m\u001b[0m\u001b[0;34m\u001b[0m\u001b[0m\n",
            "\u001b[0;32m<ipython-input-3-be83220b8ada>\u001b[0m in \u001b[0;36mincrement\u001b[0;34m(num)\u001b[0m\n\u001b[1;32m      2\u001b[0m     \u001b[0mprint\u001b[0m\u001b[0;34m(\u001b[0m\u001b[0mnum\u001b[0m\u001b[0;34m,\u001b[0m \u001b[0mend\u001b[0m \u001b[0;34m=\u001b[0m \u001b[0;34m\" \"\u001b[0m\u001b[0;34m)\u001b[0m\u001b[0;34m\u001b[0m\u001b[0;34m\u001b[0m\u001b[0m\n\u001b[1;32m      3\u001b[0m \u001b[0;34m\u001b[0m\u001b[0m\n\u001b[0;32m----> 4\u001b[0;31m     \u001b[0mincrement\u001b[0m\u001b[0;34m(\u001b[0m\u001b[0mnum\u001b[0m \u001b[0;34m+\u001b[0m \u001b[0;36m1\u001b[0m\u001b[0;34m)\u001b[0m\u001b[0;34m\u001b[0m\u001b[0;34m\u001b[0m\u001b[0m\n\u001b[0m\u001b[1;32m      5\u001b[0m \u001b[0;34m\u001b[0m\u001b[0m\n\u001b[1;32m      6\u001b[0m     \u001b[0;32mreturn\u001b[0m\u001b[0;34m\u001b[0m\u001b[0;34m\u001b[0m\u001b[0m\n",
            "\u001b[0;32m<ipython-input-3-be83220b8ada>\u001b[0m in \u001b[0;36mincrement\u001b[0;34m(num)\u001b[0m\n\u001b[1;32m      2\u001b[0m     \u001b[0mprint\u001b[0m\u001b[0;34m(\u001b[0m\u001b[0mnum\u001b[0m\u001b[0;34m,\u001b[0m \u001b[0mend\u001b[0m \u001b[0;34m=\u001b[0m \u001b[0;34m\" \"\u001b[0m\u001b[0;34m)\u001b[0m\u001b[0;34m\u001b[0m\u001b[0;34m\u001b[0m\u001b[0m\n\u001b[1;32m      3\u001b[0m \u001b[0;34m\u001b[0m\u001b[0m\n\u001b[0;32m----> 4\u001b[0;31m     \u001b[0mincrement\u001b[0m\u001b[0;34m(\u001b[0m\u001b[0mnum\u001b[0m \u001b[0;34m+\u001b[0m \u001b[0;36m1\u001b[0m\u001b[0;34m)\u001b[0m\u001b[0;34m\u001b[0m\u001b[0;34m\u001b[0m\u001b[0m\n\u001b[0m\u001b[1;32m      5\u001b[0m \u001b[0;34m\u001b[0m\u001b[0m\n\u001b[1;32m      6\u001b[0m     \u001b[0;32mreturn\u001b[0m\u001b[0;34m\u001b[0m\u001b[0;34m\u001b[0m\u001b[0m\n",
            "\u001b[0;32m<ipython-input-3-be83220b8ada>\u001b[0m in \u001b[0;36mincrement\u001b[0;34m(num)\u001b[0m\n\u001b[1;32m      2\u001b[0m     \u001b[0mprint\u001b[0m\u001b[0;34m(\u001b[0m\u001b[0mnum\u001b[0m\u001b[0;34m,\u001b[0m \u001b[0mend\u001b[0m \u001b[0;34m=\u001b[0m \u001b[0;34m\" \"\u001b[0m\u001b[0;34m)\u001b[0m\u001b[0;34m\u001b[0m\u001b[0;34m\u001b[0m\u001b[0m\n\u001b[1;32m      3\u001b[0m \u001b[0;34m\u001b[0m\u001b[0m\n\u001b[0;32m----> 4\u001b[0;31m     \u001b[0mincrement\u001b[0m\u001b[0;34m(\u001b[0m\u001b[0mnum\u001b[0m \u001b[0;34m+\u001b[0m \u001b[0;36m1\u001b[0m\u001b[0;34m)\u001b[0m\u001b[0;34m\u001b[0m\u001b[0;34m\u001b[0m\u001b[0m\n\u001b[0m\u001b[1;32m      5\u001b[0m \u001b[0;34m\u001b[0m\u001b[0m\n\u001b[1;32m      6\u001b[0m     \u001b[0;32mreturn\u001b[0m\u001b[0;34m\u001b[0m\u001b[0;34m\u001b[0m\u001b[0m\n",
            "\u001b[0;32m<ipython-input-3-be83220b8ada>\u001b[0m in \u001b[0;36mincrement\u001b[0;34m(num)\u001b[0m\n\u001b[1;32m      2\u001b[0m     \u001b[0mprint\u001b[0m\u001b[0;34m(\u001b[0m\u001b[0mnum\u001b[0m\u001b[0;34m,\u001b[0m \u001b[0mend\u001b[0m \u001b[0;34m=\u001b[0m \u001b[0;34m\" \"\u001b[0m\u001b[0;34m)\u001b[0m\u001b[0;34m\u001b[0m\u001b[0;34m\u001b[0m\u001b[0m\n\u001b[1;32m      3\u001b[0m \u001b[0;34m\u001b[0m\u001b[0m\n\u001b[0;32m----> 4\u001b[0;31m     \u001b[0mincrement\u001b[0m\u001b[0;34m(\u001b[0m\u001b[0mnum\u001b[0m \u001b[0;34m+\u001b[0m \u001b[0;36m1\u001b[0m\u001b[0;34m)\u001b[0m\u001b[0;34m\u001b[0m\u001b[0;34m\u001b[0m\u001b[0m\n\u001b[0m\u001b[1;32m      5\u001b[0m \u001b[0;34m\u001b[0m\u001b[0m\n\u001b[1;32m      6\u001b[0m     \u001b[0;32mreturn\u001b[0m\u001b[0;34m\u001b[0m\u001b[0;34m\u001b[0m\u001b[0m\n",
            "\u001b[0;32m<ipython-input-3-be83220b8ada>\u001b[0m in \u001b[0;36mincrement\u001b[0;34m(num)\u001b[0m\n\u001b[1;32m      2\u001b[0m     \u001b[0mprint\u001b[0m\u001b[0;34m(\u001b[0m\u001b[0mnum\u001b[0m\u001b[0;34m,\u001b[0m \u001b[0mend\u001b[0m \u001b[0;34m=\u001b[0m \u001b[0;34m\" \"\u001b[0m\u001b[0;34m)\u001b[0m\u001b[0;34m\u001b[0m\u001b[0;34m\u001b[0m\u001b[0m\n\u001b[1;32m      3\u001b[0m \u001b[0;34m\u001b[0m\u001b[0m\n\u001b[0;32m----> 4\u001b[0;31m     \u001b[0mincrement\u001b[0m\u001b[0;34m(\u001b[0m\u001b[0mnum\u001b[0m \u001b[0;34m+\u001b[0m \u001b[0;36m1\u001b[0m\u001b[0;34m)\u001b[0m\u001b[0;34m\u001b[0m\u001b[0;34m\u001b[0m\u001b[0m\n\u001b[0m\u001b[1;32m      5\u001b[0m \u001b[0;34m\u001b[0m\u001b[0m\n\u001b[1;32m      6\u001b[0m     \u001b[0;32mreturn\u001b[0m\u001b[0;34m\u001b[0m\u001b[0;34m\u001b[0m\u001b[0m\n",
            "\u001b[0;32m<ipython-input-3-be83220b8ada>\u001b[0m in \u001b[0;36mincrement\u001b[0;34m(num)\u001b[0m\n\u001b[1;32m      2\u001b[0m     \u001b[0mprint\u001b[0m\u001b[0;34m(\u001b[0m\u001b[0mnum\u001b[0m\u001b[0;34m,\u001b[0m \u001b[0mend\u001b[0m \u001b[0;34m=\u001b[0m \u001b[0;34m\" \"\u001b[0m\u001b[0;34m)\u001b[0m\u001b[0;34m\u001b[0m\u001b[0;34m\u001b[0m\u001b[0m\n\u001b[1;32m      3\u001b[0m \u001b[0;34m\u001b[0m\u001b[0m\n\u001b[0;32m----> 4\u001b[0;31m     \u001b[0mincrement\u001b[0m\u001b[0;34m(\u001b[0m\u001b[0mnum\u001b[0m \u001b[0;34m+\u001b[0m \u001b[0;36m1\u001b[0m\u001b[0;34m)\u001b[0m\u001b[0;34m\u001b[0m\u001b[0;34m\u001b[0m\u001b[0m\n\u001b[0m\u001b[1;32m      5\u001b[0m \u001b[0;34m\u001b[0m\u001b[0m\n\u001b[1;32m      6\u001b[0m     \u001b[0;32mreturn\u001b[0m\u001b[0;34m\u001b[0m\u001b[0;34m\u001b[0m\u001b[0m\n",
            "\u001b[0;32m<ipython-input-3-be83220b8ada>\u001b[0m in \u001b[0;36mincrement\u001b[0;34m(num)\u001b[0m\n\u001b[1;32m      2\u001b[0m     \u001b[0mprint\u001b[0m\u001b[0;34m(\u001b[0m\u001b[0mnum\u001b[0m\u001b[0;34m,\u001b[0m \u001b[0mend\u001b[0m \u001b[0;34m=\u001b[0m \u001b[0;34m\" \"\u001b[0m\u001b[0;34m)\u001b[0m\u001b[0;34m\u001b[0m\u001b[0;34m\u001b[0m\u001b[0m\n\u001b[1;32m      3\u001b[0m \u001b[0;34m\u001b[0m\u001b[0m\n\u001b[0;32m----> 4\u001b[0;31m     \u001b[0mincrement\u001b[0m\u001b[0;34m(\u001b[0m\u001b[0mnum\u001b[0m \u001b[0;34m+\u001b[0m \u001b[0;36m1\u001b[0m\u001b[0;34m)\u001b[0m\u001b[0;34m\u001b[0m\u001b[0;34m\u001b[0m\u001b[0m\n\u001b[0m\u001b[1;32m      5\u001b[0m \u001b[0;34m\u001b[0m\u001b[0m\n\u001b[1;32m      6\u001b[0m     \u001b[0;32mreturn\u001b[0m\u001b[0;34m\u001b[0m\u001b[0;34m\u001b[0m\u001b[0m\n",
            "\u001b[0;32m<ipython-input-3-be83220b8ada>\u001b[0m in \u001b[0;36mincrement\u001b[0;34m(num)\u001b[0m\n\u001b[1;32m      2\u001b[0m     \u001b[0mprint\u001b[0m\u001b[0;34m(\u001b[0m\u001b[0mnum\u001b[0m\u001b[0;34m,\u001b[0m \u001b[0mend\u001b[0m \u001b[0;34m=\u001b[0m \u001b[0;34m\" \"\u001b[0m\u001b[0;34m)\u001b[0m\u001b[0;34m\u001b[0m\u001b[0;34m\u001b[0m\u001b[0m\n\u001b[1;32m      3\u001b[0m \u001b[0;34m\u001b[0m\u001b[0m\n\u001b[0;32m----> 4\u001b[0;31m     \u001b[0mincrement\u001b[0m\u001b[0;34m(\u001b[0m\u001b[0mnum\u001b[0m \u001b[0;34m+\u001b[0m \u001b[0;36m1\u001b[0m\u001b[0;34m)\u001b[0m\u001b[0;34m\u001b[0m\u001b[0;34m\u001b[0m\u001b[0m\n\u001b[0m\u001b[1;32m      5\u001b[0m \u001b[0;34m\u001b[0m\u001b[0m\n\u001b[1;32m      6\u001b[0m     \u001b[0;32mreturn\u001b[0m\u001b[0;34m\u001b[0m\u001b[0;34m\u001b[0m\u001b[0m\n",
            "\u001b[0;32m<ipython-input-3-be83220b8ada>\u001b[0m in \u001b[0;36mincrement\u001b[0;34m(num)\u001b[0m\n\u001b[1;32m      2\u001b[0m     \u001b[0mprint\u001b[0m\u001b[0;34m(\u001b[0m\u001b[0mnum\u001b[0m\u001b[0;34m,\u001b[0m \u001b[0mend\u001b[0m \u001b[0;34m=\u001b[0m \u001b[0;34m\" \"\u001b[0m\u001b[0;34m)\u001b[0m\u001b[0;34m\u001b[0m\u001b[0;34m\u001b[0m\u001b[0m\n\u001b[1;32m      3\u001b[0m \u001b[0;34m\u001b[0m\u001b[0m\n\u001b[0;32m----> 4\u001b[0;31m     \u001b[0mincrement\u001b[0m\u001b[0;34m(\u001b[0m\u001b[0mnum\u001b[0m \u001b[0;34m+\u001b[0m \u001b[0;36m1\u001b[0m\u001b[0;34m)\u001b[0m\u001b[0;34m\u001b[0m\u001b[0;34m\u001b[0m\u001b[0m\n\u001b[0m\u001b[1;32m      5\u001b[0m \u001b[0;34m\u001b[0m\u001b[0m\n\u001b[1;32m      6\u001b[0m     \u001b[0;32mreturn\u001b[0m\u001b[0;34m\u001b[0m\u001b[0;34m\u001b[0m\u001b[0m\n",
            "\u001b[0;32m<ipython-input-3-be83220b8ada>\u001b[0m in \u001b[0;36mincrement\u001b[0;34m(num)\u001b[0m\n\u001b[1;32m      2\u001b[0m     \u001b[0mprint\u001b[0m\u001b[0;34m(\u001b[0m\u001b[0mnum\u001b[0m\u001b[0;34m,\u001b[0m \u001b[0mend\u001b[0m \u001b[0;34m=\u001b[0m \u001b[0;34m\" \"\u001b[0m\u001b[0;34m)\u001b[0m\u001b[0;34m\u001b[0m\u001b[0;34m\u001b[0m\u001b[0m\n\u001b[1;32m      3\u001b[0m \u001b[0;34m\u001b[0m\u001b[0m\n\u001b[0;32m----> 4\u001b[0;31m     \u001b[0mincrement\u001b[0m\u001b[0;34m(\u001b[0m\u001b[0mnum\u001b[0m \u001b[0;34m+\u001b[0m \u001b[0;36m1\u001b[0m\u001b[0;34m)\u001b[0m\u001b[0;34m\u001b[0m\u001b[0;34m\u001b[0m\u001b[0m\n\u001b[0m\u001b[1;32m      5\u001b[0m \u001b[0;34m\u001b[0m\u001b[0m\n\u001b[1;32m      6\u001b[0m     \u001b[0;32mreturn\u001b[0m\u001b[0;34m\u001b[0m\u001b[0;34m\u001b[0m\u001b[0m\n",
            "\u001b[0;32m<ipython-input-3-be83220b8ada>\u001b[0m in \u001b[0;36mincrement\u001b[0;34m(num)\u001b[0m\n\u001b[1;32m      2\u001b[0m     \u001b[0mprint\u001b[0m\u001b[0;34m(\u001b[0m\u001b[0mnum\u001b[0m\u001b[0;34m,\u001b[0m \u001b[0mend\u001b[0m \u001b[0;34m=\u001b[0m \u001b[0;34m\" \"\u001b[0m\u001b[0;34m)\u001b[0m\u001b[0;34m\u001b[0m\u001b[0;34m\u001b[0m\u001b[0m\n\u001b[1;32m      3\u001b[0m \u001b[0;34m\u001b[0m\u001b[0m\n\u001b[0;32m----> 4\u001b[0;31m     \u001b[0mincrement\u001b[0m\u001b[0;34m(\u001b[0m\u001b[0mnum\u001b[0m \u001b[0;34m+\u001b[0m \u001b[0;36m1\u001b[0m\u001b[0;34m)\u001b[0m\u001b[0;34m\u001b[0m\u001b[0;34m\u001b[0m\u001b[0m\n\u001b[0m\u001b[1;32m      5\u001b[0m \u001b[0;34m\u001b[0m\u001b[0m\n\u001b[1;32m      6\u001b[0m     \u001b[0;32mreturn\u001b[0m\u001b[0;34m\u001b[0m\u001b[0;34m\u001b[0m\u001b[0m\n",
            "\u001b[0;32m<ipython-input-3-be83220b8ada>\u001b[0m in \u001b[0;36mincrement\u001b[0;34m(num)\u001b[0m\n\u001b[1;32m      2\u001b[0m     \u001b[0mprint\u001b[0m\u001b[0;34m(\u001b[0m\u001b[0mnum\u001b[0m\u001b[0;34m,\u001b[0m \u001b[0mend\u001b[0m \u001b[0;34m=\u001b[0m \u001b[0;34m\" \"\u001b[0m\u001b[0;34m)\u001b[0m\u001b[0;34m\u001b[0m\u001b[0;34m\u001b[0m\u001b[0m\n\u001b[1;32m      3\u001b[0m \u001b[0;34m\u001b[0m\u001b[0m\n\u001b[0;32m----> 4\u001b[0;31m     \u001b[0mincrement\u001b[0m\u001b[0;34m(\u001b[0m\u001b[0mnum\u001b[0m \u001b[0;34m+\u001b[0m \u001b[0;36m1\u001b[0m\u001b[0;34m)\u001b[0m\u001b[0;34m\u001b[0m\u001b[0;34m\u001b[0m\u001b[0m\n\u001b[0m\u001b[1;32m      5\u001b[0m \u001b[0;34m\u001b[0m\u001b[0m\n\u001b[1;32m      6\u001b[0m     \u001b[0;32mreturn\u001b[0m\u001b[0;34m\u001b[0m\u001b[0;34m\u001b[0m\u001b[0m\n",
            "\u001b[0;32m<ipython-input-3-be83220b8ada>\u001b[0m in \u001b[0;36mincrement\u001b[0;34m(num)\u001b[0m\n\u001b[1;32m      2\u001b[0m     \u001b[0mprint\u001b[0m\u001b[0;34m(\u001b[0m\u001b[0mnum\u001b[0m\u001b[0;34m,\u001b[0m \u001b[0mend\u001b[0m \u001b[0;34m=\u001b[0m \u001b[0;34m\" \"\u001b[0m\u001b[0;34m)\u001b[0m\u001b[0;34m\u001b[0m\u001b[0;34m\u001b[0m\u001b[0m\n\u001b[1;32m      3\u001b[0m \u001b[0;34m\u001b[0m\u001b[0m\n\u001b[0;32m----> 4\u001b[0;31m     \u001b[0mincrement\u001b[0m\u001b[0;34m(\u001b[0m\u001b[0mnum\u001b[0m \u001b[0;34m+\u001b[0m \u001b[0;36m1\u001b[0m\u001b[0;34m)\u001b[0m\u001b[0;34m\u001b[0m\u001b[0;34m\u001b[0m\u001b[0m\n\u001b[0m\u001b[1;32m      5\u001b[0m \u001b[0;34m\u001b[0m\u001b[0m\n\u001b[1;32m      6\u001b[0m     \u001b[0;32mreturn\u001b[0m\u001b[0;34m\u001b[0m\u001b[0;34m\u001b[0m\u001b[0m\n",
            "\u001b[0;32m<ipython-input-3-be83220b8ada>\u001b[0m in \u001b[0;36mincrement\u001b[0;34m(num)\u001b[0m\n\u001b[1;32m      2\u001b[0m     \u001b[0mprint\u001b[0m\u001b[0;34m(\u001b[0m\u001b[0mnum\u001b[0m\u001b[0;34m,\u001b[0m \u001b[0mend\u001b[0m \u001b[0;34m=\u001b[0m \u001b[0;34m\" \"\u001b[0m\u001b[0;34m)\u001b[0m\u001b[0;34m\u001b[0m\u001b[0;34m\u001b[0m\u001b[0m\n\u001b[1;32m      3\u001b[0m \u001b[0;34m\u001b[0m\u001b[0m\n\u001b[0;32m----> 4\u001b[0;31m     \u001b[0mincrement\u001b[0m\u001b[0;34m(\u001b[0m\u001b[0mnum\u001b[0m \u001b[0;34m+\u001b[0m \u001b[0;36m1\u001b[0m\u001b[0;34m)\u001b[0m\u001b[0;34m\u001b[0m\u001b[0;34m\u001b[0m\u001b[0m\n\u001b[0m\u001b[1;32m      5\u001b[0m \u001b[0;34m\u001b[0m\u001b[0m\n\u001b[1;32m      6\u001b[0m     \u001b[0;32mreturn\u001b[0m\u001b[0;34m\u001b[0m\u001b[0;34m\u001b[0m\u001b[0m\n",
            "\u001b[0;32m<ipython-input-3-be83220b8ada>\u001b[0m in \u001b[0;36mincrement\u001b[0;34m(num)\u001b[0m\n\u001b[1;32m      2\u001b[0m     \u001b[0mprint\u001b[0m\u001b[0;34m(\u001b[0m\u001b[0mnum\u001b[0m\u001b[0;34m,\u001b[0m \u001b[0mend\u001b[0m \u001b[0;34m=\u001b[0m \u001b[0;34m\" \"\u001b[0m\u001b[0;34m)\u001b[0m\u001b[0;34m\u001b[0m\u001b[0;34m\u001b[0m\u001b[0m\n\u001b[1;32m      3\u001b[0m \u001b[0;34m\u001b[0m\u001b[0m\n\u001b[0;32m----> 4\u001b[0;31m     \u001b[0mincrement\u001b[0m\u001b[0;34m(\u001b[0m\u001b[0mnum\u001b[0m \u001b[0;34m+\u001b[0m \u001b[0;36m1\u001b[0m\u001b[0;34m)\u001b[0m\u001b[0;34m\u001b[0m\u001b[0;34m\u001b[0m\u001b[0m\n\u001b[0m\u001b[1;32m      5\u001b[0m \u001b[0;34m\u001b[0m\u001b[0m\n\u001b[1;32m      6\u001b[0m     \u001b[0;32mreturn\u001b[0m\u001b[0;34m\u001b[0m\u001b[0;34m\u001b[0m\u001b[0m\n",
            "\u001b[0;32m<ipython-input-3-be83220b8ada>\u001b[0m in \u001b[0;36mincrement\u001b[0;34m(num)\u001b[0m\n\u001b[1;32m      2\u001b[0m     \u001b[0mprint\u001b[0m\u001b[0;34m(\u001b[0m\u001b[0mnum\u001b[0m\u001b[0;34m,\u001b[0m \u001b[0mend\u001b[0m \u001b[0;34m=\u001b[0m \u001b[0;34m\" \"\u001b[0m\u001b[0;34m)\u001b[0m\u001b[0;34m\u001b[0m\u001b[0;34m\u001b[0m\u001b[0m\n\u001b[1;32m      3\u001b[0m \u001b[0;34m\u001b[0m\u001b[0m\n\u001b[0;32m----> 4\u001b[0;31m     \u001b[0mincrement\u001b[0m\u001b[0;34m(\u001b[0m\u001b[0mnum\u001b[0m \u001b[0;34m+\u001b[0m \u001b[0;36m1\u001b[0m\u001b[0;34m)\u001b[0m\u001b[0;34m\u001b[0m\u001b[0;34m\u001b[0m\u001b[0m\n\u001b[0m\u001b[1;32m      5\u001b[0m \u001b[0;34m\u001b[0m\u001b[0m\n\u001b[1;32m      6\u001b[0m     \u001b[0;32mreturn\u001b[0m\u001b[0;34m\u001b[0m\u001b[0;34m\u001b[0m\u001b[0m\n",
            "\u001b[0;32m<ipython-input-3-be83220b8ada>\u001b[0m in \u001b[0;36mincrement\u001b[0;34m(num)\u001b[0m\n\u001b[1;32m      2\u001b[0m     \u001b[0mprint\u001b[0m\u001b[0;34m(\u001b[0m\u001b[0mnum\u001b[0m\u001b[0;34m,\u001b[0m \u001b[0mend\u001b[0m \u001b[0;34m=\u001b[0m \u001b[0;34m\" \"\u001b[0m\u001b[0;34m)\u001b[0m\u001b[0;34m\u001b[0m\u001b[0;34m\u001b[0m\u001b[0m\n\u001b[1;32m      3\u001b[0m \u001b[0;34m\u001b[0m\u001b[0m\n\u001b[0;32m----> 4\u001b[0;31m     \u001b[0mincrement\u001b[0m\u001b[0;34m(\u001b[0m\u001b[0mnum\u001b[0m \u001b[0;34m+\u001b[0m \u001b[0;36m1\u001b[0m\u001b[0;34m)\u001b[0m\u001b[0;34m\u001b[0m\u001b[0;34m\u001b[0m\u001b[0m\n\u001b[0m\u001b[1;32m      5\u001b[0m \u001b[0;34m\u001b[0m\u001b[0m\n\u001b[1;32m      6\u001b[0m     \u001b[0;32mreturn\u001b[0m\u001b[0;34m\u001b[0m\u001b[0;34m\u001b[0m\u001b[0m\n",
            "\u001b[0;32m<ipython-input-3-be83220b8ada>\u001b[0m in \u001b[0;36mincrement\u001b[0;34m(num)\u001b[0m\n\u001b[1;32m      2\u001b[0m     \u001b[0mprint\u001b[0m\u001b[0;34m(\u001b[0m\u001b[0mnum\u001b[0m\u001b[0;34m,\u001b[0m \u001b[0mend\u001b[0m \u001b[0;34m=\u001b[0m \u001b[0;34m\" \"\u001b[0m\u001b[0;34m)\u001b[0m\u001b[0;34m\u001b[0m\u001b[0;34m\u001b[0m\u001b[0m\n\u001b[1;32m      3\u001b[0m \u001b[0;34m\u001b[0m\u001b[0m\n\u001b[0;32m----> 4\u001b[0;31m     \u001b[0mincrement\u001b[0m\u001b[0;34m(\u001b[0m\u001b[0mnum\u001b[0m \u001b[0;34m+\u001b[0m \u001b[0;36m1\u001b[0m\u001b[0;34m)\u001b[0m\u001b[0;34m\u001b[0m\u001b[0;34m\u001b[0m\u001b[0m\n\u001b[0m\u001b[1;32m      5\u001b[0m \u001b[0;34m\u001b[0m\u001b[0m\n\u001b[1;32m      6\u001b[0m     \u001b[0;32mreturn\u001b[0m\u001b[0;34m\u001b[0m\u001b[0;34m\u001b[0m\u001b[0m\n",
            "\u001b[0;32m<ipython-input-3-be83220b8ada>\u001b[0m in \u001b[0;36mincrement\u001b[0;34m(num)\u001b[0m\n\u001b[1;32m      2\u001b[0m     \u001b[0mprint\u001b[0m\u001b[0;34m(\u001b[0m\u001b[0mnum\u001b[0m\u001b[0;34m,\u001b[0m \u001b[0mend\u001b[0m \u001b[0;34m=\u001b[0m \u001b[0;34m\" \"\u001b[0m\u001b[0;34m)\u001b[0m\u001b[0;34m\u001b[0m\u001b[0;34m\u001b[0m\u001b[0m\n\u001b[1;32m      3\u001b[0m \u001b[0;34m\u001b[0m\u001b[0m\n\u001b[0;32m----> 4\u001b[0;31m     \u001b[0mincrement\u001b[0m\u001b[0;34m(\u001b[0m\u001b[0mnum\u001b[0m \u001b[0;34m+\u001b[0m \u001b[0;36m1\u001b[0m\u001b[0;34m)\u001b[0m\u001b[0;34m\u001b[0m\u001b[0;34m\u001b[0m\u001b[0m\n\u001b[0m\u001b[1;32m      5\u001b[0m \u001b[0;34m\u001b[0m\u001b[0m\n\u001b[1;32m      6\u001b[0m     \u001b[0;32mreturn\u001b[0m\u001b[0;34m\u001b[0m\u001b[0;34m\u001b[0m\u001b[0m\n",
            "\u001b[0;32m<ipython-input-3-be83220b8ada>\u001b[0m in \u001b[0;36mincrement\u001b[0;34m(num)\u001b[0m\n\u001b[1;32m      2\u001b[0m     \u001b[0mprint\u001b[0m\u001b[0;34m(\u001b[0m\u001b[0mnum\u001b[0m\u001b[0;34m,\u001b[0m \u001b[0mend\u001b[0m \u001b[0;34m=\u001b[0m \u001b[0;34m\" \"\u001b[0m\u001b[0;34m)\u001b[0m\u001b[0;34m\u001b[0m\u001b[0;34m\u001b[0m\u001b[0m\n\u001b[1;32m      3\u001b[0m \u001b[0;34m\u001b[0m\u001b[0m\n\u001b[0;32m----> 4\u001b[0;31m     \u001b[0mincrement\u001b[0m\u001b[0;34m(\u001b[0m\u001b[0mnum\u001b[0m \u001b[0;34m+\u001b[0m \u001b[0;36m1\u001b[0m\u001b[0;34m)\u001b[0m\u001b[0;34m\u001b[0m\u001b[0;34m\u001b[0m\u001b[0m\n\u001b[0m\u001b[1;32m      5\u001b[0m \u001b[0;34m\u001b[0m\u001b[0m\n\u001b[1;32m      6\u001b[0m     \u001b[0;32mreturn\u001b[0m\u001b[0;34m\u001b[0m\u001b[0;34m\u001b[0m\u001b[0m\n",
            "\u001b[0;32m<ipython-input-3-be83220b8ada>\u001b[0m in \u001b[0;36mincrement\u001b[0;34m(num)\u001b[0m\n\u001b[1;32m      2\u001b[0m     \u001b[0mprint\u001b[0m\u001b[0;34m(\u001b[0m\u001b[0mnum\u001b[0m\u001b[0;34m,\u001b[0m \u001b[0mend\u001b[0m \u001b[0;34m=\u001b[0m \u001b[0;34m\" \"\u001b[0m\u001b[0;34m)\u001b[0m\u001b[0;34m\u001b[0m\u001b[0;34m\u001b[0m\u001b[0m\n\u001b[1;32m      3\u001b[0m \u001b[0;34m\u001b[0m\u001b[0m\n\u001b[0;32m----> 4\u001b[0;31m     \u001b[0mincrement\u001b[0m\u001b[0;34m(\u001b[0m\u001b[0mnum\u001b[0m \u001b[0;34m+\u001b[0m \u001b[0;36m1\u001b[0m\u001b[0;34m)\u001b[0m\u001b[0;34m\u001b[0m\u001b[0;34m\u001b[0m\u001b[0m\n\u001b[0m\u001b[1;32m      5\u001b[0m \u001b[0;34m\u001b[0m\u001b[0m\n\u001b[1;32m      6\u001b[0m     \u001b[0;32mreturn\u001b[0m\u001b[0;34m\u001b[0m\u001b[0;34m\u001b[0m\u001b[0m\n",
            "\u001b[0;32m<ipython-input-3-be83220b8ada>\u001b[0m in \u001b[0;36mincrement\u001b[0;34m(num)\u001b[0m\n\u001b[1;32m      2\u001b[0m     \u001b[0mprint\u001b[0m\u001b[0;34m(\u001b[0m\u001b[0mnum\u001b[0m\u001b[0;34m,\u001b[0m \u001b[0mend\u001b[0m \u001b[0;34m=\u001b[0m \u001b[0;34m\" \"\u001b[0m\u001b[0;34m)\u001b[0m\u001b[0;34m\u001b[0m\u001b[0;34m\u001b[0m\u001b[0m\n\u001b[1;32m      3\u001b[0m \u001b[0;34m\u001b[0m\u001b[0m\n\u001b[0;32m----> 4\u001b[0;31m     \u001b[0mincrement\u001b[0m\u001b[0;34m(\u001b[0m\u001b[0mnum\u001b[0m \u001b[0;34m+\u001b[0m \u001b[0;36m1\u001b[0m\u001b[0;34m)\u001b[0m\u001b[0;34m\u001b[0m\u001b[0;34m\u001b[0m\u001b[0m\n\u001b[0m\u001b[1;32m      5\u001b[0m \u001b[0;34m\u001b[0m\u001b[0m\n\u001b[1;32m      6\u001b[0m     \u001b[0;32mreturn\u001b[0m\u001b[0;34m\u001b[0m\u001b[0;34m\u001b[0m\u001b[0m\n",
            "\u001b[0;32m<ipython-input-3-be83220b8ada>\u001b[0m in \u001b[0;36mincrement\u001b[0;34m(num)\u001b[0m\n\u001b[1;32m      2\u001b[0m     \u001b[0mprint\u001b[0m\u001b[0;34m(\u001b[0m\u001b[0mnum\u001b[0m\u001b[0;34m,\u001b[0m \u001b[0mend\u001b[0m \u001b[0;34m=\u001b[0m \u001b[0;34m\" \"\u001b[0m\u001b[0;34m)\u001b[0m\u001b[0;34m\u001b[0m\u001b[0;34m\u001b[0m\u001b[0m\n\u001b[1;32m      3\u001b[0m \u001b[0;34m\u001b[0m\u001b[0m\n\u001b[0;32m----> 4\u001b[0;31m     \u001b[0mincrement\u001b[0m\u001b[0;34m(\u001b[0m\u001b[0mnum\u001b[0m \u001b[0;34m+\u001b[0m \u001b[0;36m1\u001b[0m\u001b[0;34m)\u001b[0m\u001b[0;34m\u001b[0m\u001b[0;34m\u001b[0m\u001b[0m\n\u001b[0m\u001b[1;32m      5\u001b[0m \u001b[0;34m\u001b[0m\u001b[0m\n\u001b[1;32m      6\u001b[0m     \u001b[0;32mreturn\u001b[0m\u001b[0;34m\u001b[0m\u001b[0;34m\u001b[0m\u001b[0m\n",
            "\u001b[0;32m<ipython-input-3-be83220b8ada>\u001b[0m in \u001b[0;36mincrement\u001b[0;34m(num)\u001b[0m\n\u001b[1;32m      2\u001b[0m     \u001b[0mprint\u001b[0m\u001b[0;34m(\u001b[0m\u001b[0mnum\u001b[0m\u001b[0;34m,\u001b[0m \u001b[0mend\u001b[0m \u001b[0;34m=\u001b[0m \u001b[0;34m\" \"\u001b[0m\u001b[0;34m)\u001b[0m\u001b[0;34m\u001b[0m\u001b[0;34m\u001b[0m\u001b[0m\n\u001b[1;32m      3\u001b[0m \u001b[0;34m\u001b[0m\u001b[0m\n\u001b[0;32m----> 4\u001b[0;31m     \u001b[0mincrement\u001b[0m\u001b[0;34m(\u001b[0m\u001b[0mnum\u001b[0m \u001b[0;34m+\u001b[0m \u001b[0;36m1\u001b[0m\u001b[0;34m)\u001b[0m\u001b[0;34m\u001b[0m\u001b[0;34m\u001b[0m\u001b[0m\n\u001b[0m\u001b[1;32m      5\u001b[0m \u001b[0;34m\u001b[0m\u001b[0m\n\u001b[1;32m      6\u001b[0m     \u001b[0;32mreturn\u001b[0m\u001b[0;34m\u001b[0m\u001b[0;34m\u001b[0m\u001b[0m\n",
            "\u001b[0;32m<ipython-input-3-be83220b8ada>\u001b[0m in \u001b[0;36mincrement\u001b[0;34m(num)\u001b[0m\n\u001b[1;32m      2\u001b[0m     \u001b[0mprint\u001b[0m\u001b[0;34m(\u001b[0m\u001b[0mnum\u001b[0m\u001b[0;34m,\u001b[0m \u001b[0mend\u001b[0m \u001b[0;34m=\u001b[0m \u001b[0;34m\" \"\u001b[0m\u001b[0;34m)\u001b[0m\u001b[0;34m\u001b[0m\u001b[0;34m\u001b[0m\u001b[0m\n\u001b[1;32m      3\u001b[0m \u001b[0;34m\u001b[0m\u001b[0m\n\u001b[0;32m----> 4\u001b[0;31m     \u001b[0mincrement\u001b[0m\u001b[0;34m(\u001b[0m\u001b[0mnum\u001b[0m \u001b[0;34m+\u001b[0m \u001b[0;36m1\u001b[0m\u001b[0;34m)\u001b[0m\u001b[0;34m\u001b[0m\u001b[0;34m\u001b[0m\u001b[0m\n\u001b[0m\u001b[1;32m      5\u001b[0m \u001b[0;34m\u001b[0m\u001b[0m\n\u001b[1;32m      6\u001b[0m     \u001b[0;32mreturn\u001b[0m\u001b[0;34m\u001b[0m\u001b[0;34m\u001b[0m\u001b[0m\n",
            "\u001b[0;32m<ipython-input-3-be83220b8ada>\u001b[0m in \u001b[0;36mincrement\u001b[0;34m(num)\u001b[0m\n\u001b[1;32m      2\u001b[0m     \u001b[0mprint\u001b[0m\u001b[0;34m(\u001b[0m\u001b[0mnum\u001b[0m\u001b[0;34m,\u001b[0m \u001b[0mend\u001b[0m \u001b[0;34m=\u001b[0m \u001b[0;34m\" \"\u001b[0m\u001b[0;34m)\u001b[0m\u001b[0;34m\u001b[0m\u001b[0;34m\u001b[0m\u001b[0m\n\u001b[1;32m      3\u001b[0m \u001b[0;34m\u001b[0m\u001b[0m\n\u001b[0;32m----> 4\u001b[0;31m     \u001b[0mincrement\u001b[0m\u001b[0;34m(\u001b[0m\u001b[0mnum\u001b[0m \u001b[0;34m+\u001b[0m \u001b[0;36m1\u001b[0m\u001b[0;34m)\u001b[0m\u001b[0;34m\u001b[0m\u001b[0;34m\u001b[0m\u001b[0m\n\u001b[0m\u001b[1;32m      5\u001b[0m \u001b[0;34m\u001b[0m\u001b[0m\n\u001b[1;32m      6\u001b[0m     \u001b[0;32mreturn\u001b[0m\u001b[0;34m\u001b[0m\u001b[0;34m\u001b[0m\u001b[0m\n",
            "\u001b[0;32m<ipython-input-3-be83220b8ada>\u001b[0m in \u001b[0;36mincrement\u001b[0;34m(num)\u001b[0m\n\u001b[1;32m      2\u001b[0m     \u001b[0mprint\u001b[0m\u001b[0;34m(\u001b[0m\u001b[0mnum\u001b[0m\u001b[0;34m,\u001b[0m \u001b[0mend\u001b[0m \u001b[0;34m=\u001b[0m \u001b[0;34m\" \"\u001b[0m\u001b[0;34m)\u001b[0m\u001b[0;34m\u001b[0m\u001b[0;34m\u001b[0m\u001b[0m\n\u001b[1;32m      3\u001b[0m \u001b[0;34m\u001b[0m\u001b[0m\n\u001b[0;32m----> 4\u001b[0;31m     \u001b[0mincrement\u001b[0m\u001b[0;34m(\u001b[0m\u001b[0mnum\u001b[0m \u001b[0;34m+\u001b[0m \u001b[0;36m1\u001b[0m\u001b[0;34m)\u001b[0m\u001b[0;34m\u001b[0m\u001b[0;34m\u001b[0m\u001b[0m\n\u001b[0m\u001b[1;32m      5\u001b[0m \u001b[0;34m\u001b[0m\u001b[0m\n\u001b[1;32m      6\u001b[0m     \u001b[0;32mreturn\u001b[0m\u001b[0;34m\u001b[0m\u001b[0;34m\u001b[0m\u001b[0m\n",
            "\u001b[0;32m<ipython-input-3-be83220b8ada>\u001b[0m in \u001b[0;36mincrement\u001b[0;34m(num)\u001b[0m\n\u001b[1;32m      2\u001b[0m     \u001b[0mprint\u001b[0m\u001b[0;34m(\u001b[0m\u001b[0mnum\u001b[0m\u001b[0;34m,\u001b[0m \u001b[0mend\u001b[0m \u001b[0;34m=\u001b[0m \u001b[0;34m\" \"\u001b[0m\u001b[0;34m)\u001b[0m\u001b[0;34m\u001b[0m\u001b[0;34m\u001b[0m\u001b[0m\n\u001b[1;32m      3\u001b[0m \u001b[0;34m\u001b[0m\u001b[0m\n\u001b[0;32m----> 4\u001b[0;31m     \u001b[0mincrement\u001b[0m\u001b[0;34m(\u001b[0m\u001b[0mnum\u001b[0m \u001b[0;34m+\u001b[0m \u001b[0;36m1\u001b[0m\u001b[0;34m)\u001b[0m\u001b[0;34m\u001b[0m\u001b[0;34m\u001b[0m\u001b[0m\n\u001b[0m\u001b[1;32m      5\u001b[0m \u001b[0;34m\u001b[0m\u001b[0m\n\u001b[1;32m      6\u001b[0m     \u001b[0;32mreturn\u001b[0m\u001b[0;34m\u001b[0m\u001b[0;34m\u001b[0m\u001b[0m\n",
            "\u001b[0;32m<ipython-input-3-be83220b8ada>\u001b[0m in \u001b[0;36mincrement\u001b[0;34m(num)\u001b[0m\n\u001b[1;32m      2\u001b[0m     \u001b[0mprint\u001b[0m\u001b[0;34m(\u001b[0m\u001b[0mnum\u001b[0m\u001b[0;34m,\u001b[0m \u001b[0mend\u001b[0m \u001b[0;34m=\u001b[0m \u001b[0;34m\" \"\u001b[0m\u001b[0;34m)\u001b[0m\u001b[0;34m\u001b[0m\u001b[0;34m\u001b[0m\u001b[0m\n\u001b[1;32m      3\u001b[0m \u001b[0;34m\u001b[0m\u001b[0m\n\u001b[0;32m----> 4\u001b[0;31m     \u001b[0mincrement\u001b[0m\u001b[0;34m(\u001b[0m\u001b[0mnum\u001b[0m \u001b[0;34m+\u001b[0m \u001b[0;36m1\u001b[0m\u001b[0;34m)\u001b[0m\u001b[0;34m\u001b[0m\u001b[0;34m\u001b[0m\u001b[0m\n\u001b[0m\u001b[1;32m      5\u001b[0m \u001b[0;34m\u001b[0m\u001b[0m\n\u001b[1;32m      6\u001b[0m     \u001b[0;32mreturn\u001b[0m\u001b[0;34m\u001b[0m\u001b[0;34m\u001b[0m\u001b[0m\n",
            "\u001b[0;32m<ipython-input-3-be83220b8ada>\u001b[0m in \u001b[0;36mincrement\u001b[0;34m(num)\u001b[0m\n\u001b[1;32m      2\u001b[0m     \u001b[0mprint\u001b[0m\u001b[0;34m(\u001b[0m\u001b[0mnum\u001b[0m\u001b[0;34m,\u001b[0m \u001b[0mend\u001b[0m \u001b[0;34m=\u001b[0m \u001b[0;34m\" \"\u001b[0m\u001b[0;34m)\u001b[0m\u001b[0;34m\u001b[0m\u001b[0;34m\u001b[0m\u001b[0m\n\u001b[1;32m      3\u001b[0m \u001b[0;34m\u001b[0m\u001b[0m\n\u001b[0;32m----> 4\u001b[0;31m     \u001b[0mincrement\u001b[0m\u001b[0;34m(\u001b[0m\u001b[0mnum\u001b[0m \u001b[0;34m+\u001b[0m \u001b[0;36m1\u001b[0m\u001b[0;34m)\u001b[0m\u001b[0;34m\u001b[0m\u001b[0;34m\u001b[0m\u001b[0m\n\u001b[0m\u001b[1;32m      5\u001b[0m \u001b[0;34m\u001b[0m\u001b[0m\n\u001b[1;32m      6\u001b[0m     \u001b[0;32mreturn\u001b[0m\u001b[0;34m\u001b[0m\u001b[0;34m\u001b[0m\u001b[0m\n",
            "\u001b[0;32m<ipython-input-3-be83220b8ada>\u001b[0m in \u001b[0;36mincrement\u001b[0;34m(num)\u001b[0m\n\u001b[1;32m      2\u001b[0m     \u001b[0mprint\u001b[0m\u001b[0;34m(\u001b[0m\u001b[0mnum\u001b[0m\u001b[0;34m,\u001b[0m \u001b[0mend\u001b[0m \u001b[0;34m=\u001b[0m \u001b[0;34m\" \"\u001b[0m\u001b[0;34m)\u001b[0m\u001b[0;34m\u001b[0m\u001b[0;34m\u001b[0m\u001b[0m\n\u001b[1;32m      3\u001b[0m \u001b[0;34m\u001b[0m\u001b[0m\n\u001b[0;32m----> 4\u001b[0;31m     \u001b[0mincrement\u001b[0m\u001b[0;34m(\u001b[0m\u001b[0mnum\u001b[0m \u001b[0;34m+\u001b[0m \u001b[0;36m1\u001b[0m\u001b[0;34m)\u001b[0m\u001b[0;34m\u001b[0m\u001b[0;34m\u001b[0m\u001b[0m\n\u001b[0m\u001b[1;32m      5\u001b[0m \u001b[0;34m\u001b[0m\u001b[0m\n\u001b[1;32m      6\u001b[0m     \u001b[0;32mreturn\u001b[0m\u001b[0;34m\u001b[0m\u001b[0;34m\u001b[0m\u001b[0m\n",
            "\u001b[0;32m<ipython-input-3-be83220b8ada>\u001b[0m in \u001b[0;36mincrement\u001b[0;34m(num)\u001b[0m\n\u001b[1;32m      2\u001b[0m     \u001b[0mprint\u001b[0m\u001b[0;34m(\u001b[0m\u001b[0mnum\u001b[0m\u001b[0;34m,\u001b[0m \u001b[0mend\u001b[0m \u001b[0;34m=\u001b[0m \u001b[0;34m\" \"\u001b[0m\u001b[0;34m)\u001b[0m\u001b[0;34m\u001b[0m\u001b[0;34m\u001b[0m\u001b[0m\n\u001b[1;32m      3\u001b[0m \u001b[0;34m\u001b[0m\u001b[0m\n\u001b[0;32m----> 4\u001b[0;31m     \u001b[0mincrement\u001b[0m\u001b[0;34m(\u001b[0m\u001b[0mnum\u001b[0m \u001b[0;34m+\u001b[0m \u001b[0;36m1\u001b[0m\u001b[0;34m)\u001b[0m\u001b[0;34m\u001b[0m\u001b[0;34m\u001b[0m\u001b[0m\n\u001b[0m\u001b[1;32m      5\u001b[0m \u001b[0;34m\u001b[0m\u001b[0m\n\u001b[1;32m      6\u001b[0m     \u001b[0;32mreturn\u001b[0m\u001b[0;34m\u001b[0m\u001b[0;34m\u001b[0m\u001b[0m\n",
            "\u001b[0;32m<ipython-input-3-be83220b8ada>\u001b[0m in \u001b[0;36mincrement\u001b[0;34m(num)\u001b[0m\n\u001b[1;32m      2\u001b[0m     \u001b[0mprint\u001b[0m\u001b[0;34m(\u001b[0m\u001b[0mnum\u001b[0m\u001b[0;34m,\u001b[0m \u001b[0mend\u001b[0m \u001b[0;34m=\u001b[0m \u001b[0;34m\" \"\u001b[0m\u001b[0;34m)\u001b[0m\u001b[0;34m\u001b[0m\u001b[0;34m\u001b[0m\u001b[0m\n\u001b[1;32m      3\u001b[0m \u001b[0;34m\u001b[0m\u001b[0m\n\u001b[0;32m----> 4\u001b[0;31m     \u001b[0mincrement\u001b[0m\u001b[0;34m(\u001b[0m\u001b[0mnum\u001b[0m \u001b[0;34m+\u001b[0m \u001b[0;36m1\u001b[0m\u001b[0;34m)\u001b[0m\u001b[0;34m\u001b[0m\u001b[0;34m\u001b[0m\u001b[0m\n\u001b[0m\u001b[1;32m      5\u001b[0m \u001b[0;34m\u001b[0m\u001b[0m\n\u001b[1;32m      6\u001b[0m     \u001b[0;32mreturn\u001b[0m\u001b[0;34m\u001b[0m\u001b[0;34m\u001b[0m\u001b[0m\n",
            "\u001b[0;32m<ipython-input-3-be83220b8ada>\u001b[0m in \u001b[0;36mincrement\u001b[0;34m(num)\u001b[0m\n\u001b[1;32m      2\u001b[0m     \u001b[0mprint\u001b[0m\u001b[0;34m(\u001b[0m\u001b[0mnum\u001b[0m\u001b[0;34m,\u001b[0m \u001b[0mend\u001b[0m \u001b[0;34m=\u001b[0m \u001b[0;34m\" \"\u001b[0m\u001b[0;34m)\u001b[0m\u001b[0;34m\u001b[0m\u001b[0;34m\u001b[0m\u001b[0m\n\u001b[1;32m      3\u001b[0m \u001b[0;34m\u001b[0m\u001b[0m\n\u001b[0;32m----> 4\u001b[0;31m     \u001b[0mincrement\u001b[0m\u001b[0;34m(\u001b[0m\u001b[0mnum\u001b[0m \u001b[0;34m+\u001b[0m \u001b[0;36m1\u001b[0m\u001b[0;34m)\u001b[0m\u001b[0;34m\u001b[0m\u001b[0;34m\u001b[0m\u001b[0m\n\u001b[0m\u001b[1;32m      5\u001b[0m \u001b[0;34m\u001b[0m\u001b[0m\n\u001b[1;32m      6\u001b[0m     \u001b[0;32mreturn\u001b[0m\u001b[0;34m\u001b[0m\u001b[0;34m\u001b[0m\u001b[0m\n",
            "\u001b[0;32m<ipython-input-3-be83220b8ada>\u001b[0m in \u001b[0;36mincrement\u001b[0;34m(num)\u001b[0m\n\u001b[1;32m      2\u001b[0m     \u001b[0mprint\u001b[0m\u001b[0;34m(\u001b[0m\u001b[0mnum\u001b[0m\u001b[0;34m,\u001b[0m \u001b[0mend\u001b[0m \u001b[0;34m=\u001b[0m \u001b[0;34m\" \"\u001b[0m\u001b[0;34m)\u001b[0m\u001b[0;34m\u001b[0m\u001b[0;34m\u001b[0m\u001b[0m\n\u001b[1;32m      3\u001b[0m \u001b[0;34m\u001b[0m\u001b[0m\n\u001b[0;32m----> 4\u001b[0;31m     \u001b[0mincrement\u001b[0m\u001b[0;34m(\u001b[0m\u001b[0mnum\u001b[0m \u001b[0;34m+\u001b[0m \u001b[0;36m1\u001b[0m\u001b[0;34m)\u001b[0m\u001b[0;34m\u001b[0m\u001b[0;34m\u001b[0m\u001b[0m\n\u001b[0m\u001b[1;32m      5\u001b[0m \u001b[0;34m\u001b[0m\u001b[0m\n\u001b[1;32m      6\u001b[0m     \u001b[0;32mreturn\u001b[0m\u001b[0;34m\u001b[0m\u001b[0;34m\u001b[0m\u001b[0m\n",
            "\u001b[0;32m<ipython-input-3-be83220b8ada>\u001b[0m in \u001b[0;36mincrement\u001b[0;34m(num)\u001b[0m\n\u001b[1;32m      2\u001b[0m     \u001b[0mprint\u001b[0m\u001b[0;34m(\u001b[0m\u001b[0mnum\u001b[0m\u001b[0;34m,\u001b[0m \u001b[0mend\u001b[0m \u001b[0;34m=\u001b[0m \u001b[0;34m\" \"\u001b[0m\u001b[0;34m)\u001b[0m\u001b[0;34m\u001b[0m\u001b[0;34m\u001b[0m\u001b[0m\n\u001b[1;32m      3\u001b[0m \u001b[0;34m\u001b[0m\u001b[0m\n\u001b[0;32m----> 4\u001b[0;31m     \u001b[0mincrement\u001b[0m\u001b[0;34m(\u001b[0m\u001b[0mnum\u001b[0m \u001b[0;34m+\u001b[0m \u001b[0;36m1\u001b[0m\u001b[0;34m)\u001b[0m\u001b[0;34m\u001b[0m\u001b[0;34m\u001b[0m\u001b[0m\n\u001b[0m\u001b[1;32m      5\u001b[0m \u001b[0;34m\u001b[0m\u001b[0m\n\u001b[1;32m      6\u001b[0m     \u001b[0;32mreturn\u001b[0m\u001b[0;34m\u001b[0m\u001b[0;34m\u001b[0m\u001b[0m\n",
            "\u001b[0;32m<ipython-input-3-be83220b8ada>\u001b[0m in \u001b[0;36mincrement\u001b[0;34m(num)\u001b[0m\n\u001b[1;32m      2\u001b[0m     \u001b[0mprint\u001b[0m\u001b[0;34m(\u001b[0m\u001b[0mnum\u001b[0m\u001b[0;34m,\u001b[0m \u001b[0mend\u001b[0m \u001b[0;34m=\u001b[0m \u001b[0;34m\" \"\u001b[0m\u001b[0;34m)\u001b[0m\u001b[0;34m\u001b[0m\u001b[0;34m\u001b[0m\u001b[0m\n\u001b[1;32m      3\u001b[0m \u001b[0;34m\u001b[0m\u001b[0m\n\u001b[0;32m----> 4\u001b[0;31m     \u001b[0mincrement\u001b[0m\u001b[0;34m(\u001b[0m\u001b[0mnum\u001b[0m \u001b[0;34m+\u001b[0m \u001b[0;36m1\u001b[0m\u001b[0;34m)\u001b[0m\u001b[0;34m\u001b[0m\u001b[0;34m\u001b[0m\u001b[0m\n\u001b[0m\u001b[1;32m      5\u001b[0m \u001b[0;34m\u001b[0m\u001b[0m\n\u001b[1;32m      6\u001b[0m     \u001b[0;32mreturn\u001b[0m\u001b[0;34m\u001b[0m\u001b[0;34m\u001b[0m\u001b[0m\n",
            "\u001b[0;32m<ipython-input-3-be83220b8ada>\u001b[0m in \u001b[0;36mincrement\u001b[0;34m(num)\u001b[0m\n\u001b[1;32m      2\u001b[0m     \u001b[0mprint\u001b[0m\u001b[0;34m(\u001b[0m\u001b[0mnum\u001b[0m\u001b[0;34m,\u001b[0m \u001b[0mend\u001b[0m \u001b[0;34m=\u001b[0m \u001b[0;34m\" \"\u001b[0m\u001b[0;34m)\u001b[0m\u001b[0;34m\u001b[0m\u001b[0;34m\u001b[0m\u001b[0m\n\u001b[1;32m      3\u001b[0m \u001b[0;34m\u001b[0m\u001b[0m\n\u001b[0;32m----> 4\u001b[0;31m     \u001b[0mincrement\u001b[0m\u001b[0;34m(\u001b[0m\u001b[0mnum\u001b[0m \u001b[0;34m+\u001b[0m \u001b[0;36m1\u001b[0m\u001b[0;34m)\u001b[0m\u001b[0;34m\u001b[0m\u001b[0;34m\u001b[0m\u001b[0m\n\u001b[0m\u001b[1;32m      5\u001b[0m \u001b[0;34m\u001b[0m\u001b[0m\n\u001b[1;32m      6\u001b[0m     \u001b[0;32mreturn\u001b[0m\u001b[0;34m\u001b[0m\u001b[0;34m\u001b[0m\u001b[0m\n",
            "\u001b[0;32m<ipython-input-3-be83220b8ada>\u001b[0m in \u001b[0;36mincrement\u001b[0;34m(num)\u001b[0m\n\u001b[1;32m      2\u001b[0m     \u001b[0mprint\u001b[0m\u001b[0;34m(\u001b[0m\u001b[0mnum\u001b[0m\u001b[0;34m,\u001b[0m \u001b[0mend\u001b[0m \u001b[0;34m=\u001b[0m \u001b[0;34m\" \"\u001b[0m\u001b[0;34m)\u001b[0m\u001b[0;34m\u001b[0m\u001b[0;34m\u001b[0m\u001b[0m\n\u001b[1;32m      3\u001b[0m \u001b[0;34m\u001b[0m\u001b[0m\n\u001b[0;32m----> 4\u001b[0;31m     \u001b[0mincrement\u001b[0m\u001b[0;34m(\u001b[0m\u001b[0mnum\u001b[0m \u001b[0;34m+\u001b[0m \u001b[0;36m1\u001b[0m\u001b[0;34m)\u001b[0m\u001b[0;34m\u001b[0m\u001b[0;34m\u001b[0m\u001b[0m\n\u001b[0m\u001b[1;32m      5\u001b[0m \u001b[0;34m\u001b[0m\u001b[0m\n\u001b[1;32m      6\u001b[0m     \u001b[0;32mreturn\u001b[0m\u001b[0;34m\u001b[0m\u001b[0;34m\u001b[0m\u001b[0m\n",
            "\u001b[0;32m<ipython-input-3-be83220b8ada>\u001b[0m in \u001b[0;36mincrement\u001b[0;34m(num)\u001b[0m\n\u001b[1;32m      2\u001b[0m     \u001b[0mprint\u001b[0m\u001b[0;34m(\u001b[0m\u001b[0mnum\u001b[0m\u001b[0;34m,\u001b[0m \u001b[0mend\u001b[0m \u001b[0;34m=\u001b[0m \u001b[0;34m\" \"\u001b[0m\u001b[0;34m)\u001b[0m\u001b[0;34m\u001b[0m\u001b[0;34m\u001b[0m\u001b[0m\n\u001b[1;32m      3\u001b[0m \u001b[0;34m\u001b[0m\u001b[0m\n\u001b[0;32m----> 4\u001b[0;31m     \u001b[0mincrement\u001b[0m\u001b[0;34m(\u001b[0m\u001b[0mnum\u001b[0m \u001b[0;34m+\u001b[0m \u001b[0;36m1\u001b[0m\u001b[0;34m)\u001b[0m\u001b[0;34m\u001b[0m\u001b[0;34m\u001b[0m\u001b[0m\n\u001b[0m\u001b[1;32m      5\u001b[0m \u001b[0;34m\u001b[0m\u001b[0m\n\u001b[1;32m      6\u001b[0m     \u001b[0;32mreturn\u001b[0m\u001b[0;34m\u001b[0m\u001b[0;34m\u001b[0m\u001b[0m\n",
            "\u001b[0;32m<ipython-input-3-be83220b8ada>\u001b[0m in \u001b[0;36mincrement\u001b[0;34m(num)\u001b[0m\n\u001b[1;32m      2\u001b[0m     \u001b[0mprint\u001b[0m\u001b[0;34m(\u001b[0m\u001b[0mnum\u001b[0m\u001b[0;34m,\u001b[0m \u001b[0mend\u001b[0m \u001b[0;34m=\u001b[0m \u001b[0;34m\" \"\u001b[0m\u001b[0;34m)\u001b[0m\u001b[0;34m\u001b[0m\u001b[0;34m\u001b[0m\u001b[0m\n\u001b[1;32m      3\u001b[0m \u001b[0;34m\u001b[0m\u001b[0m\n\u001b[0;32m----> 4\u001b[0;31m     \u001b[0mincrement\u001b[0m\u001b[0;34m(\u001b[0m\u001b[0mnum\u001b[0m \u001b[0;34m+\u001b[0m \u001b[0;36m1\u001b[0m\u001b[0;34m)\u001b[0m\u001b[0;34m\u001b[0m\u001b[0;34m\u001b[0m\u001b[0m\n\u001b[0m\u001b[1;32m      5\u001b[0m \u001b[0;34m\u001b[0m\u001b[0m\n\u001b[1;32m      6\u001b[0m     \u001b[0;32mreturn\u001b[0m\u001b[0;34m\u001b[0m\u001b[0;34m\u001b[0m\u001b[0m\n",
            "\u001b[0;32m<ipython-input-3-be83220b8ada>\u001b[0m in \u001b[0;36mincrement\u001b[0;34m(num)\u001b[0m\n\u001b[1;32m      2\u001b[0m     \u001b[0mprint\u001b[0m\u001b[0;34m(\u001b[0m\u001b[0mnum\u001b[0m\u001b[0;34m,\u001b[0m \u001b[0mend\u001b[0m \u001b[0;34m=\u001b[0m \u001b[0;34m\" \"\u001b[0m\u001b[0;34m)\u001b[0m\u001b[0;34m\u001b[0m\u001b[0;34m\u001b[0m\u001b[0m\n\u001b[1;32m      3\u001b[0m \u001b[0;34m\u001b[0m\u001b[0m\n\u001b[0;32m----> 4\u001b[0;31m     \u001b[0mincrement\u001b[0m\u001b[0;34m(\u001b[0m\u001b[0mnum\u001b[0m \u001b[0;34m+\u001b[0m \u001b[0;36m1\u001b[0m\u001b[0;34m)\u001b[0m\u001b[0;34m\u001b[0m\u001b[0;34m\u001b[0m\u001b[0m\n\u001b[0m\u001b[1;32m      5\u001b[0m \u001b[0;34m\u001b[0m\u001b[0m\n\u001b[1;32m      6\u001b[0m     \u001b[0;32mreturn\u001b[0m\u001b[0;34m\u001b[0m\u001b[0;34m\u001b[0m\u001b[0m\n",
            "\u001b[0;32m<ipython-input-3-be83220b8ada>\u001b[0m in \u001b[0;36mincrement\u001b[0;34m(num)\u001b[0m\n\u001b[1;32m      2\u001b[0m     \u001b[0mprint\u001b[0m\u001b[0;34m(\u001b[0m\u001b[0mnum\u001b[0m\u001b[0;34m,\u001b[0m \u001b[0mend\u001b[0m \u001b[0;34m=\u001b[0m \u001b[0;34m\" \"\u001b[0m\u001b[0;34m)\u001b[0m\u001b[0;34m\u001b[0m\u001b[0;34m\u001b[0m\u001b[0m\n\u001b[1;32m      3\u001b[0m \u001b[0;34m\u001b[0m\u001b[0m\n\u001b[0;32m----> 4\u001b[0;31m     \u001b[0mincrement\u001b[0m\u001b[0;34m(\u001b[0m\u001b[0mnum\u001b[0m \u001b[0;34m+\u001b[0m \u001b[0;36m1\u001b[0m\u001b[0;34m)\u001b[0m\u001b[0;34m\u001b[0m\u001b[0;34m\u001b[0m\u001b[0m\n\u001b[0m\u001b[1;32m      5\u001b[0m \u001b[0;34m\u001b[0m\u001b[0m\n\u001b[1;32m      6\u001b[0m     \u001b[0;32mreturn\u001b[0m\u001b[0;34m\u001b[0m\u001b[0;34m\u001b[0m\u001b[0m\n",
            "\u001b[0;32m<ipython-input-3-be83220b8ada>\u001b[0m in \u001b[0;36mincrement\u001b[0;34m(num)\u001b[0m\n\u001b[1;32m      2\u001b[0m     \u001b[0mprint\u001b[0m\u001b[0;34m(\u001b[0m\u001b[0mnum\u001b[0m\u001b[0;34m,\u001b[0m \u001b[0mend\u001b[0m \u001b[0;34m=\u001b[0m \u001b[0;34m\" \"\u001b[0m\u001b[0;34m)\u001b[0m\u001b[0;34m\u001b[0m\u001b[0;34m\u001b[0m\u001b[0m\n\u001b[1;32m      3\u001b[0m \u001b[0;34m\u001b[0m\u001b[0m\n\u001b[0;32m----> 4\u001b[0;31m     \u001b[0mincrement\u001b[0m\u001b[0;34m(\u001b[0m\u001b[0mnum\u001b[0m \u001b[0;34m+\u001b[0m \u001b[0;36m1\u001b[0m\u001b[0;34m)\u001b[0m\u001b[0;34m\u001b[0m\u001b[0;34m\u001b[0m\u001b[0m\n\u001b[0m\u001b[1;32m      5\u001b[0m \u001b[0;34m\u001b[0m\u001b[0m\n\u001b[1;32m      6\u001b[0m     \u001b[0;32mreturn\u001b[0m\u001b[0;34m\u001b[0m\u001b[0;34m\u001b[0m\u001b[0m\n",
            "\u001b[0;32m<ipython-input-3-be83220b8ada>\u001b[0m in \u001b[0;36mincrement\u001b[0;34m(num)\u001b[0m\n\u001b[1;32m      2\u001b[0m     \u001b[0mprint\u001b[0m\u001b[0;34m(\u001b[0m\u001b[0mnum\u001b[0m\u001b[0;34m,\u001b[0m \u001b[0mend\u001b[0m \u001b[0;34m=\u001b[0m \u001b[0;34m\" \"\u001b[0m\u001b[0;34m)\u001b[0m\u001b[0;34m\u001b[0m\u001b[0;34m\u001b[0m\u001b[0m\n\u001b[1;32m      3\u001b[0m \u001b[0;34m\u001b[0m\u001b[0m\n\u001b[0;32m----> 4\u001b[0;31m     \u001b[0mincrement\u001b[0m\u001b[0;34m(\u001b[0m\u001b[0mnum\u001b[0m \u001b[0;34m+\u001b[0m \u001b[0;36m1\u001b[0m\u001b[0;34m)\u001b[0m\u001b[0;34m\u001b[0m\u001b[0;34m\u001b[0m\u001b[0m\n\u001b[0m\u001b[1;32m      5\u001b[0m \u001b[0;34m\u001b[0m\u001b[0m\n\u001b[1;32m      6\u001b[0m     \u001b[0;32mreturn\u001b[0m\u001b[0;34m\u001b[0m\u001b[0;34m\u001b[0m\u001b[0m\n",
            "\u001b[0;32m<ipython-input-3-be83220b8ada>\u001b[0m in \u001b[0;36mincrement\u001b[0;34m(num)\u001b[0m\n\u001b[1;32m      2\u001b[0m     \u001b[0mprint\u001b[0m\u001b[0;34m(\u001b[0m\u001b[0mnum\u001b[0m\u001b[0;34m,\u001b[0m \u001b[0mend\u001b[0m \u001b[0;34m=\u001b[0m \u001b[0;34m\" \"\u001b[0m\u001b[0;34m)\u001b[0m\u001b[0;34m\u001b[0m\u001b[0;34m\u001b[0m\u001b[0m\n\u001b[1;32m      3\u001b[0m \u001b[0;34m\u001b[0m\u001b[0m\n\u001b[0;32m----> 4\u001b[0;31m     \u001b[0mincrement\u001b[0m\u001b[0;34m(\u001b[0m\u001b[0mnum\u001b[0m \u001b[0;34m+\u001b[0m \u001b[0;36m1\u001b[0m\u001b[0;34m)\u001b[0m\u001b[0;34m\u001b[0m\u001b[0;34m\u001b[0m\u001b[0m\n\u001b[0m\u001b[1;32m      5\u001b[0m \u001b[0;34m\u001b[0m\u001b[0m\n\u001b[1;32m      6\u001b[0m     \u001b[0;32mreturn\u001b[0m\u001b[0;34m\u001b[0m\u001b[0;34m\u001b[0m\u001b[0m\n",
            "\u001b[0;32m<ipython-input-3-be83220b8ada>\u001b[0m in \u001b[0;36mincrement\u001b[0;34m(num)\u001b[0m\n\u001b[1;32m      2\u001b[0m     \u001b[0mprint\u001b[0m\u001b[0;34m(\u001b[0m\u001b[0mnum\u001b[0m\u001b[0;34m,\u001b[0m \u001b[0mend\u001b[0m \u001b[0;34m=\u001b[0m \u001b[0;34m\" \"\u001b[0m\u001b[0;34m)\u001b[0m\u001b[0;34m\u001b[0m\u001b[0;34m\u001b[0m\u001b[0m\n\u001b[1;32m      3\u001b[0m \u001b[0;34m\u001b[0m\u001b[0m\n\u001b[0;32m----> 4\u001b[0;31m     \u001b[0mincrement\u001b[0m\u001b[0;34m(\u001b[0m\u001b[0mnum\u001b[0m \u001b[0;34m+\u001b[0m \u001b[0;36m1\u001b[0m\u001b[0;34m)\u001b[0m\u001b[0;34m\u001b[0m\u001b[0;34m\u001b[0m\u001b[0m\n\u001b[0m\u001b[1;32m      5\u001b[0m \u001b[0;34m\u001b[0m\u001b[0m\n\u001b[1;32m      6\u001b[0m     \u001b[0;32mreturn\u001b[0m\u001b[0;34m\u001b[0m\u001b[0;34m\u001b[0m\u001b[0m\n",
            "\u001b[0;32m<ipython-input-3-be83220b8ada>\u001b[0m in \u001b[0;36mincrement\u001b[0;34m(num)\u001b[0m\n\u001b[1;32m      2\u001b[0m     \u001b[0mprint\u001b[0m\u001b[0;34m(\u001b[0m\u001b[0mnum\u001b[0m\u001b[0;34m,\u001b[0m \u001b[0mend\u001b[0m \u001b[0;34m=\u001b[0m \u001b[0;34m\" \"\u001b[0m\u001b[0;34m)\u001b[0m\u001b[0;34m\u001b[0m\u001b[0;34m\u001b[0m\u001b[0m\n\u001b[1;32m      3\u001b[0m \u001b[0;34m\u001b[0m\u001b[0m\n\u001b[0;32m----> 4\u001b[0;31m     \u001b[0mincrement\u001b[0m\u001b[0;34m(\u001b[0m\u001b[0mnum\u001b[0m \u001b[0;34m+\u001b[0m \u001b[0;36m1\u001b[0m\u001b[0;34m)\u001b[0m\u001b[0;34m\u001b[0m\u001b[0;34m\u001b[0m\u001b[0m\n\u001b[0m\u001b[1;32m      5\u001b[0m \u001b[0;34m\u001b[0m\u001b[0m\n\u001b[1;32m      6\u001b[0m     \u001b[0;32mreturn\u001b[0m\u001b[0;34m\u001b[0m\u001b[0;34m\u001b[0m\u001b[0m\n",
            "\u001b[0;32m<ipython-input-3-be83220b8ada>\u001b[0m in \u001b[0;36mincrement\u001b[0;34m(num)\u001b[0m\n\u001b[1;32m      2\u001b[0m     \u001b[0mprint\u001b[0m\u001b[0;34m(\u001b[0m\u001b[0mnum\u001b[0m\u001b[0;34m,\u001b[0m \u001b[0mend\u001b[0m \u001b[0;34m=\u001b[0m \u001b[0;34m\" \"\u001b[0m\u001b[0;34m)\u001b[0m\u001b[0;34m\u001b[0m\u001b[0;34m\u001b[0m\u001b[0m\n\u001b[1;32m      3\u001b[0m \u001b[0;34m\u001b[0m\u001b[0m\n\u001b[0;32m----> 4\u001b[0;31m     \u001b[0mincrement\u001b[0m\u001b[0;34m(\u001b[0m\u001b[0mnum\u001b[0m \u001b[0;34m+\u001b[0m \u001b[0;36m1\u001b[0m\u001b[0;34m)\u001b[0m\u001b[0;34m\u001b[0m\u001b[0;34m\u001b[0m\u001b[0m\n\u001b[0m\u001b[1;32m      5\u001b[0m \u001b[0;34m\u001b[0m\u001b[0m\n\u001b[1;32m      6\u001b[0m     \u001b[0;32mreturn\u001b[0m\u001b[0;34m\u001b[0m\u001b[0;34m\u001b[0m\u001b[0m\n",
            "\u001b[0;32m<ipython-input-3-be83220b8ada>\u001b[0m in \u001b[0;36mincrement\u001b[0;34m(num)\u001b[0m\n\u001b[1;32m      2\u001b[0m     \u001b[0mprint\u001b[0m\u001b[0;34m(\u001b[0m\u001b[0mnum\u001b[0m\u001b[0;34m,\u001b[0m \u001b[0mend\u001b[0m \u001b[0;34m=\u001b[0m \u001b[0;34m\" \"\u001b[0m\u001b[0;34m)\u001b[0m\u001b[0;34m\u001b[0m\u001b[0;34m\u001b[0m\u001b[0m\n\u001b[1;32m      3\u001b[0m \u001b[0;34m\u001b[0m\u001b[0m\n\u001b[0;32m----> 4\u001b[0;31m     \u001b[0mincrement\u001b[0m\u001b[0;34m(\u001b[0m\u001b[0mnum\u001b[0m \u001b[0;34m+\u001b[0m \u001b[0;36m1\u001b[0m\u001b[0;34m)\u001b[0m\u001b[0;34m\u001b[0m\u001b[0;34m\u001b[0m\u001b[0m\n\u001b[0m\u001b[1;32m      5\u001b[0m \u001b[0;34m\u001b[0m\u001b[0m\n\u001b[1;32m      6\u001b[0m     \u001b[0;32mreturn\u001b[0m\u001b[0;34m\u001b[0m\u001b[0;34m\u001b[0m\u001b[0m\n",
            "\u001b[0;32m<ipython-input-3-be83220b8ada>\u001b[0m in \u001b[0;36mincrement\u001b[0;34m(num)\u001b[0m\n\u001b[1;32m      2\u001b[0m     \u001b[0mprint\u001b[0m\u001b[0;34m(\u001b[0m\u001b[0mnum\u001b[0m\u001b[0;34m,\u001b[0m \u001b[0mend\u001b[0m \u001b[0;34m=\u001b[0m \u001b[0;34m\" \"\u001b[0m\u001b[0;34m)\u001b[0m\u001b[0;34m\u001b[0m\u001b[0;34m\u001b[0m\u001b[0m\n\u001b[1;32m      3\u001b[0m \u001b[0;34m\u001b[0m\u001b[0m\n\u001b[0;32m----> 4\u001b[0;31m     \u001b[0mincrement\u001b[0m\u001b[0;34m(\u001b[0m\u001b[0mnum\u001b[0m \u001b[0;34m+\u001b[0m \u001b[0;36m1\u001b[0m\u001b[0;34m)\u001b[0m\u001b[0;34m\u001b[0m\u001b[0;34m\u001b[0m\u001b[0m\n\u001b[0m\u001b[1;32m      5\u001b[0m \u001b[0;34m\u001b[0m\u001b[0m\n\u001b[1;32m      6\u001b[0m     \u001b[0;32mreturn\u001b[0m\u001b[0;34m\u001b[0m\u001b[0;34m\u001b[0m\u001b[0m\n",
            "\u001b[0;32m<ipython-input-3-be83220b8ada>\u001b[0m in \u001b[0;36mincrement\u001b[0;34m(num)\u001b[0m\n\u001b[1;32m      2\u001b[0m     \u001b[0mprint\u001b[0m\u001b[0;34m(\u001b[0m\u001b[0mnum\u001b[0m\u001b[0;34m,\u001b[0m \u001b[0mend\u001b[0m \u001b[0;34m=\u001b[0m \u001b[0;34m\" \"\u001b[0m\u001b[0;34m)\u001b[0m\u001b[0;34m\u001b[0m\u001b[0;34m\u001b[0m\u001b[0m\n\u001b[1;32m      3\u001b[0m \u001b[0;34m\u001b[0m\u001b[0m\n\u001b[0;32m----> 4\u001b[0;31m     \u001b[0mincrement\u001b[0m\u001b[0;34m(\u001b[0m\u001b[0mnum\u001b[0m \u001b[0;34m+\u001b[0m \u001b[0;36m1\u001b[0m\u001b[0;34m)\u001b[0m\u001b[0;34m\u001b[0m\u001b[0;34m\u001b[0m\u001b[0m\n\u001b[0m\u001b[1;32m      5\u001b[0m \u001b[0;34m\u001b[0m\u001b[0m\n\u001b[1;32m      6\u001b[0m     \u001b[0;32mreturn\u001b[0m\u001b[0;34m\u001b[0m\u001b[0;34m\u001b[0m\u001b[0m\n",
            "\u001b[0;32m<ipython-input-3-be83220b8ada>\u001b[0m in \u001b[0;36mincrement\u001b[0;34m(num)\u001b[0m\n\u001b[1;32m      2\u001b[0m     \u001b[0mprint\u001b[0m\u001b[0;34m(\u001b[0m\u001b[0mnum\u001b[0m\u001b[0;34m,\u001b[0m \u001b[0mend\u001b[0m \u001b[0;34m=\u001b[0m \u001b[0;34m\" \"\u001b[0m\u001b[0;34m)\u001b[0m\u001b[0;34m\u001b[0m\u001b[0;34m\u001b[0m\u001b[0m\n\u001b[1;32m      3\u001b[0m \u001b[0;34m\u001b[0m\u001b[0m\n\u001b[0;32m----> 4\u001b[0;31m     \u001b[0mincrement\u001b[0m\u001b[0;34m(\u001b[0m\u001b[0mnum\u001b[0m \u001b[0;34m+\u001b[0m \u001b[0;36m1\u001b[0m\u001b[0;34m)\u001b[0m\u001b[0;34m\u001b[0m\u001b[0;34m\u001b[0m\u001b[0m\n\u001b[0m\u001b[1;32m      5\u001b[0m \u001b[0;34m\u001b[0m\u001b[0m\n\u001b[1;32m      6\u001b[0m     \u001b[0;32mreturn\u001b[0m\u001b[0;34m\u001b[0m\u001b[0;34m\u001b[0m\u001b[0m\n",
            "\u001b[0;32m<ipython-input-3-be83220b8ada>\u001b[0m in \u001b[0;36mincrement\u001b[0;34m(num)\u001b[0m\n\u001b[1;32m      1\u001b[0m \u001b[0;32mdef\u001b[0m \u001b[0mincrement\u001b[0m\u001b[0;34m(\u001b[0m\u001b[0mnum\u001b[0m\u001b[0;34m)\u001b[0m\u001b[0;34m:\u001b[0m\u001b[0;34m\u001b[0m\u001b[0;34m\u001b[0m\u001b[0m\n\u001b[0;32m----> 2\u001b[0;31m     \u001b[0mprint\u001b[0m\u001b[0;34m(\u001b[0m\u001b[0mnum\u001b[0m\u001b[0;34m,\u001b[0m \u001b[0mend\u001b[0m \u001b[0;34m=\u001b[0m \u001b[0;34m\" \"\u001b[0m\u001b[0;34m)\u001b[0m\u001b[0;34m\u001b[0m\u001b[0;34m\u001b[0m\u001b[0m\n\u001b[0m\u001b[1;32m      3\u001b[0m \u001b[0;34m\u001b[0m\u001b[0m\n\u001b[1;32m      4\u001b[0m     \u001b[0mincrement\u001b[0m\u001b[0;34m(\u001b[0m\u001b[0mnum\u001b[0m \u001b[0;34m+\u001b[0m \u001b[0;36m1\u001b[0m\u001b[0;34m)\u001b[0m\u001b[0;34m\u001b[0m\u001b[0;34m\u001b[0m\u001b[0m\n\u001b[1;32m      5\u001b[0m \u001b[0;34m\u001b[0m\u001b[0m\n",
            "\u001b[0;32m/usr/local/lib/python3.7/dist-packages/ipykernel/iostream.py\u001b[0m in \u001b[0;36mwrite\u001b[0;34m(self, string)\u001b[0m\n\u001b[1;32m    398\u001b[0m             \u001b[0mis_child\u001b[0m \u001b[0;34m=\u001b[0m \u001b[0;34m(\u001b[0m\u001b[0;32mnot\u001b[0m \u001b[0mself\u001b[0m\u001b[0;34m.\u001b[0m\u001b[0m_is_master_process\u001b[0m\u001b[0;34m(\u001b[0m\u001b[0;34m)\u001b[0m\u001b[0;34m)\u001b[0m\u001b[0;34m\u001b[0m\u001b[0;34m\u001b[0m\u001b[0m\n\u001b[1;32m    399\u001b[0m             \u001b[0;31m# only touch the buffer in the IO thread to avoid races\u001b[0m\u001b[0;34m\u001b[0m\u001b[0;34m\u001b[0m\u001b[0;34m\u001b[0m\u001b[0m\n\u001b[0;32m--> 400\u001b[0;31m             \u001b[0mself\u001b[0m\u001b[0;34m.\u001b[0m\u001b[0mpub_thread\u001b[0m\u001b[0;34m.\u001b[0m\u001b[0mschedule\u001b[0m\u001b[0;34m(\u001b[0m\u001b[0;32mlambda\u001b[0m \u001b[0;34m:\u001b[0m \u001b[0mself\u001b[0m\u001b[0;34m.\u001b[0m\u001b[0m_buffer\u001b[0m\u001b[0;34m.\u001b[0m\u001b[0mwrite\u001b[0m\u001b[0;34m(\u001b[0m\u001b[0mstring\u001b[0m\u001b[0;34m)\u001b[0m\u001b[0;34m)\u001b[0m\u001b[0;34m\u001b[0m\u001b[0;34m\u001b[0m\u001b[0m\n\u001b[0m\u001b[1;32m    401\u001b[0m             \u001b[0;32mif\u001b[0m \u001b[0mis_child\u001b[0m\u001b[0;34m:\u001b[0m\u001b[0;34m\u001b[0m\u001b[0;34m\u001b[0m\u001b[0m\n\u001b[1;32m    402\u001b[0m                 \u001b[0;31m# newlines imply flush in subprocesses\u001b[0m\u001b[0;34m\u001b[0m\u001b[0;34m\u001b[0m\u001b[0;34m\u001b[0m\u001b[0m\n",
            "\u001b[0;32m/usr/local/lib/python3.7/dist-packages/ipykernel/iostream.py\u001b[0m in \u001b[0;36mschedule\u001b[0;34m(self, f)\u001b[0m\n\u001b[1;32m    198\u001b[0m         \u001b[0mIf\u001b[0m \u001b[0mthe\u001b[0m \u001b[0mthread\u001b[0m \u001b[0;32mis\u001b[0m \u001b[0;32mnot\u001b[0m \u001b[0mrunning\u001b[0m\u001b[0;34m,\u001b[0m \u001b[0mcall\u001b[0m \u001b[0mimmediately\u001b[0m\u001b[0;34m.\u001b[0m\u001b[0;34m\u001b[0m\u001b[0;34m\u001b[0m\u001b[0m\n\u001b[1;32m    199\u001b[0m         \"\"\"\n\u001b[0;32m--> 200\u001b[0;31m         \u001b[0;32mif\u001b[0m \u001b[0mself\u001b[0m\u001b[0;34m.\u001b[0m\u001b[0mthread\u001b[0m\u001b[0;34m.\u001b[0m\u001b[0mis_alive\u001b[0m\u001b[0;34m(\u001b[0m\u001b[0;34m)\u001b[0m\u001b[0;34m:\u001b[0m\u001b[0;34m\u001b[0m\u001b[0;34m\u001b[0m\u001b[0m\n\u001b[0m\u001b[1;32m    201\u001b[0m             \u001b[0mself\u001b[0m\u001b[0;34m.\u001b[0m\u001b[0m_events\u001b[0m\u001b[0;34m.\u001b[0m\u001b[0mappend\u001b[0m\u001b[0;34m(\u001b[0m\u001b[0mf\u001b[0m\u001b[0;34m)\u001b[0m\u001b[0;34m\u001b[0m\u001b[0;34m\u001b[0m\u001b[0m\n\u001b[1;32m    202\u001b[0m             \u001b[0;31m# wake event thread (message content is ignored)\u001b[0m\u001b[0;34m\u001b[0m\u001b[0;34m\u001b[0m\u001b[0;34m\u001b[0m\u001b[0m\n",
            "\u001b[0;32m/usr/lib/python3.7/threading.py\u001b[0m in \u001b[0;36mis_alive\u001b[0;34m(self)\u001b[0m\n\u001b[1;32m   1101\u001b[0m         \u001b[0;32mif\u001b[0m \u001b[0mself\u001b[0m\u001b[0;34m.\u001b[0m\u001b[0m_is_stopped\u001b[0m \u001b[0;32mor\u001b[0m \u001b[0;32mnot\u001b[0m \u001b[0mself\u001b[0m\u001b[0;34m.\u001b[0m\u001b[0m_started\u001b[0m\u001b[0;34m.\u001b[0m\u001b[0mis_set\u001b[0m\u001b[0;34m(\u001b[0m\u001b[0;34m)\u001b[0m\u001b[0;34m:\u001b[0m\u001b[0;34m\u001b[0m\u001b[0;34m\u001b[0m\u001b[0m\n\u001b[1;32m   1102\u001b[0m             \u001b[0;32mreturn\u001b[0m \u001b[0;32mFalse\u001b[0m\u001b[0;34m\u001b[0m\u001b[0;34m\u001b[0m\u001b[0m\n\u001b[0;32m-> 1103\u001b[0;31m         \u001b[0mself\u001b[0m\u001b[0;34m.\u001b[0m\u001b[0m_wait_for_tstate_lock\u001b[0m\u001b[0;34m(\u001b[0m\u001b[0;32mFalse\u001b[0m\u001b[0;34m)\u001b[0m\u001b[0;34m\u001b[0m\u001b[0;34m\u001b[0m\u001b[0m\n\u001b[0m\u001b[1;32m   1104\u001b[0m         \u001b[0;32mreturn\u001b[0m \u001b[0;32mnot\u001b[0m \u001b[0mself\u001b[0m\u001b[0;34m.\u001b[0m\u001b[0m_is_stopped\u001b[0m\u001b[0;34m\u001b[0m\u001b[0;34m\u001b[0m\u001b[0m\n\u001b[1;32m   1105\u001b[0m \u001b[0;34m\u001b[0m\u001b[0m\n",
            "\u001b[0;32m/usr/lib/python3.7/threading.py\u001b[0m in \u001b[0;36m_wait_for_tstate_lock\u001b[0;34m(self, block, timeout)\u001b[0m\n\u001b[1;32m   1058\u001b[0m         \u001b[0;32mif\u001b[0m \u001b[0mlock\u001b[0m \u001b[0;32mis\u001b[0m \u001b[0;32mNone\u001b[0m\u001b[0;34m:\u001b[0m  \u001b[0;31m# already determined that the C code is done\u001b[0m\u001b[0;34m\u001b[0m\u001b[0;34m\u001b[0m\u001b[0m\n\u001b[1;32m   1059\u001b[0m             \u001b[0;32massert\u001b[0m \u001b[0mself\u001b[0m\u001b[0;34m.\u001b[0m\u001b[0m_is_stopped\u001b[0m\u001b[0;34m\u001b[0m\u001b[0;34m\u001b[0m\u001b[0m\n\u001b[0;32m-> 1060\u001b[0;31m         \u001b[0;32melif\u001b[0m \u001b[0mlock\u001b[0m\u001b[0;34m.\u001b[0m\u001b[0macquire\u001b[0m\u001b[0;34m(\u001b[0m\u001b[0mblock\u001b[0m\u001b[0;34m,\u001b[0m \u001b[0mtimeout\u001b[0m\u001b[0;34m)\u001b[0m\u001b[0;34m:\u001b[0m\u001b[0;34m\u001b[0m\u001b[0;34m\u001b[0m\u001b[0m\n\u001b[0m\u001b[1;32m   1061\u001b[0m             \u001b[0mlock\u001b[0m\u001b[0;34m.\u001b[0m\u001b[0mrelease\u001b[0m\u001b[0;34m(\u001b[0m\u001b[0;34m)\u001b[0m\u001b[0;34m\u001b[0m\u001b[0;34m\u001b[0m\u001b[0m\n\u001b[1;32m   1062\u001b[0m             \u001b[0mself\u001b[0m\u001b[0;34m.\u001b[0m\u001b[0m_stop\u001b[0m\u001b[0;34m(\u001b[0m\u001b[0;34m)\u001b[0m\u001b[0;34m\u001b[0m\u001b[0;34m\u001b[0m\u001b[0m\n",
            "\u001b[0;31mRecursionError\u001b[0m: maximum recursion depth exceeded while calling a Python object"
          ]
        }
      ],
      "source": [
        "increment(1)"
      ]
    },
    {
      "cell_type": "code",
      "execution_count": 7,
      "metadata": {
        "id": "ePo1FytHjzUj"
      },
      "outputs": [],
      "source": [
        "def decrement(num):\n",
        "    \n",
        "    while num > 0:\n",
        "        print(num)\n",
        "        num = num - 1"
      ]
    },
    {
      "cell_type": "code",
      "execution_count": 8,
      "metadata": {
        "colab": {
          "base_uri": "https://localhost:8080/"
        },
        "id": "2svPqGwgjzUj",
        "outputId": "22102cad-fcfa-4db5-f64d-e29daba36d75"
      },
      "outputs": [
        {
          "output_type": "stream",
          "name": "stdout",
          "text": [
            "10\n",
            "9\n",
            "8\n",
            "7\n",
            "6\n",
            "5\n",
            "4\n",
            "3\n",
            "2\n",
            "1\n"
          ]
        }
      ],
      "source": [
        "decrement(10)"
      ]
    },
    {
      "cell_type": "code",
      "execution_count": 9,
      "metadata": {
        "id": "Geq_Ymt5jzUj"
      },
      "outputs": [],
      "source": [
        "def decrement(num):\n",
        "    \n",
        "    if num == 0:\n",
        "        return\n",
        "    \n",
        "    print(num)\n",
        "    decrement(num - 1)"
      ]
    },
    {
      "cell_type": "code",
      "execution_count": 10,
      "metadata": {
        "colab": {
          "base_uri": "https://localhost:8080/"
        },
        "id": "xq2an0mWjzUj",
        "outputId": "e38798f5-1ec8-4814-8640-5bf161e28ec7"
      },
      "outputs": [
        {
          "output_type": "stream",
          "name": "stdout",
          "text": [
            "10\n",
            "9\n",
            "8\n",
            "7\n",
            "6\n",
            "5\n",
            "4\n",
            "3\n",
            "2\n",
            "1\n"
          ]
        }
      ],
      "source": [
        "decrement(10)"
      ]
    },
    {
      "cell_type": "code",
      "execution_count": 11,
      "metadata": {
        "id": "fSgr9_aQjzUj"
      },
      "outputs": [],
      "source": [
        "def recursive_sum(num):\n",
        "    \n",
        "    if num == 0:\n",
        "        return 0\n",
        "    \n",
        "    result = num + recursive_sum(num - 1)\n",
        "    \n",
        "    return result"
      ]
    },
    {
      "cell_type": "code",
      "execution_count": 12,
      "metadata": {
        "colab": {
          "base_uri": "https://localhost:8080/"
        },
        "id": "WB3n_KcAjzUk",
        "outputId": "3c4a45a9-b273-47e4-9c3b-f1acb54691c6"
      },
      "outputs": [
        {
          "output_type": "execute_result",
          "data": {
            "text/plain": [
              "6"
            ]
          },
          "metadata": {},
          "execution_count": 12
        }
      ],
      "source": [
        "recursive_sum(3)"
      ]
    },
    {
      "cell_type": "code",
      "execution_count": 13,
      "metadata": {
        "colab": {
          "base_uri": "https://localhost:8080/"
        },
        "id": "TFiiWpS2jzUk",
        "outputId": "e5add90d-f02f-4953-db03-d822c8023d8a"
      },
      "outputs": [
        {
          "output_type": "execute_result",
          "data": {
            "text/plain": [
              "55"
            ]
          },
          "metadata": {},
          "execution_count": 13
        }
      ],
      "source": [
        "recursive_sum(10)"
      ]
    },
    {
      "cell_type": "code",
      "execution_count": 14,
      "metadata": {
        "id": "sqPCiMxvjzUk"
      },
      "outputs": [],
      "source": [
        "def factorial(number):\n",
        "    \n",
        "    if number < 0:\n",
        "        print(\"Sorry, factorial does not exist for negative numbers\")\n",
        "        return\n",
        "    \n",
        "    if number == 0:\n",
        "        return 1\n",
        "    \n",
        "    return number * factorial(number - 1)"
      ]
    },
    {
      "cell_type": "code",
      "execution_count": 15,
      "metadata": {
        "colab": {
          "base_uri": "https://localhost:8080/"
        },
        "id": "EBNJh9UrjzUk",
        "outputId": "4034ebca-9ad2-4a19-f7fe-2967eba7c490"
      },
      "outputs": [
        {
          "output_type": "execute_result",
          "data": {
            "text/plain": [
              "6"
            ]
          },
          "metadata": {},
          "execution_count": 15
        }
      ],
      "source": [
        "factorial(3)"
      ]
    },
    {
      "cell_type": "code",
      "execution_count": 16,
      "metadata": {
        "colab": {
          "base_uri": "https://localhost:8080/"
        },
        "id": "7PxoRLPtjzUl",
        "outputId": "564bb644-e4d4-41bd-d2b6-2a605fa5bd27"
      },
      "outputs": [
        {
          "output_type": "execute_result",
          "data": {
            "text/plain": [
              "120"
            ]
          },
          "metadata": {},
          "execution_count": 16
        }
      ],
      "source": [
        "factorial(5)"
      ]
    },
    {
      "cell_type": "code",
      "execution_count": 17,
      "metadata": {
        "colab": {
          "base_uri": "https://localhost:8080/"
        },
        "id": "Xid2BXq-jzUl",
        "outputId": "1bc23839-32c8-463f-acc5-90e1ddaeffc8"
      },
      "outputs": [
        {
          "output_type": "execute_result",
          "data": {
            "text/plain": [
              "3628800"
            ]
          },
          "metadata": {},
          "execution_count": 17
        }
      ],
      "source": [
        "factorial(10)"
      ]
    },
    {
      "cell_type": "code",
      "execution_count": 18,
      "metadata": {
        "id": "Vp3KRM-1jzUl"
      },
      "outputs": [],
      "source": [
        "def fibonacci(number, fib_series):\n",
        "    \n",
        "    if number < 2:\n",
        "        return\n",
        "\n",
        "    l = len(fib_series)\n",
        "\n",
        "    new_number = fib_series[l - 1] + fib_series[l - 2]\n",
        "    \n",
        "    fib_series.append(new_number)\n",
        "    \n",
        "    fibonacci(number - 1, fib_series)"
      ]
    },
    {
      "cell_type": "code",
      "execution_count": 19,
      "metadata": {
        "id": "_Itj9pg1jzUl"
      },
      "outputs": [],
      "source": [
        "series = [0, 1]\n",
        "\n",
        "fibonacci(4, series)"
      ]
    },
    {
      "cell_type": "code",
      "execution_count": 20,
      "metadata": {
        "colab": {
          "base_uri": "https://localhost:8080/"
        },
        "id": "eU58EoWljzUl",
        "outputId": "a718102d-6c20-4671-dc7d-a236783ecd46"
      },
      "outputs": [
        {
          "output_type": "execute_result",
          "data": {
            "text/plain": [
              "[0, 1, 1, 2, 3]"
            ]
          },
          "metadata": {},
          "execution_count": 20
        }
      ],
      "source": [
        "series"
      ]
    },
    {
      "cell_type": "code",
      "execution_count": 21,
      "metadata": {
        "id": "pTcCqtCzjzUm"
      },
      "outputs": [],
      "source": [
        "series = [0, 1]\n",
        "\n",
        "fibonacci(10, series)"
      ]
    },
    {
      "cell_type": "code",
      "execution_count": 22,
      "metadata": {
        "colab": {
          "base_uri": "https://localhost:8080/"
        },
        "id": "E5caAbMRjzUm",
        "outputId": "d5436440-d6a0-4fc2-fbc2-f66ede0b5045"
      },
      "outputs": [
        {
          "output_type": "execute_result",
          "data": {
            "text/plain": [
              "[0, 1, 1, 2, 3, 5, 8, 13, 21, 34, 55]"
            ]
          },
          "metadata": {},
          "execution_count": 22
        }
      ],
      "source": [
        "series"
      ]
    },
    {
      "cell_type": "code",
      "execution_count": 23,
      "metadata": {
        "id": "hqs2Sgy3jzUm"
      },
      "outputs": [],
      "source": [
        "def fibonacci(number, fib_series):\n",
        "    \n",
        "    if number < 2:\n",
        "        return\n",
        "\n",
        "    l = len(fib_series)\n",
        "\n",
        "    new_number = fib_series[l - 1] + fib_series[l - 2]\n",
        "    \n",
        "    fib_series.append(new_number)\n",
        "    \n",
        "    print(\"Series so far\", fib_series)\n",
        "    \n",
        "    fibonacci(number - 1, fib_series)"
      ]
    },
    {
      "cell_type": "code",
      "execution_count": 24,
      "metadata": {
        "colab": {
          "base_uri": "https://localhost:8080/"
        },
        "id": "kj--0nPhjzUm",
        "outputId": "8ec070a1-6091-497d-eca9-02d60b2fc443"
      },
      "outputs": [
        {
          "output_type": "stream",
          "name": "stdout",
          "text": [
            "Series so far [0, 1, 1]\n",
            "Series so far [0, 1, 1, 2]\n",
            "Series so far [0, 1, 1, 2, 3]\n",
            "Series so far [0, 1, 1, 2, 3, 5]\n",
            "Series so far [0, 1, 1, 2, 3, 5, 8]\n",
            "Series so far [0, 1, 1, 2, 3, 5, 8, 13]\n",
            "Series so far [0, 1, 1, 2, 3, 5, 8, 13, 21]\n",
            "Series so far [0, 1, 1, 2, 3, 5, 8, 13, 21, 34]\n",
            "Series so far [0, 1, 1, 2, 3, 5, 8, 13, 21, 34, 55]\n"
          ]
        }
      ],
      "source": [
        "series = [0, 1]\n",
        "\n",
        "fibonacci(10, series)"
      ]
    },
    {
      "cell_type": "code",
      "execution_count": null,
      "metadata": {
        "id": "XUqoI0CdjzUm"
      },
      "outputs": [],
      "source": [
        ""
      ]
    },
    {
      "cell_type": "code",
      "execution_count": 25,
      "metadata": {
        "id": "EMHmhHT_jzUu"
      },
      "outputs": [],
      "source": [
        "def generator():\n",
        "    print('One!')\n",
        "    yield 1\n",
        "\n",
        "    print('Two!')\n",
        "    yield 2\n",
        "\n",
        "    print('Three!')\n",
        "    yield 3\n",
        "    \n",
        "    print('Four!')\n",
        "    yield 4"
      ]
    },
    {
      "cell_type": "code",
      "execution_count": 26,
      "metadata": {
        "colab": {
          "base_uri": "https://localhost:8080/"
        },
        "id": "5-7f_TG-jzUu",
        "outputId": "1b3d1508-21d9-47a1-eeed-8091ada9c79e"
      },
      "outputs": [
        {
          "output_type": "execute_result",
          "data": {
            "text/plain": [
              "<generator object generator at 0x7f707a0a6650>"
            ]
          },
          "metadata": {},
          "execution_count": 26
        }
      ],
      "source": [
        "g = generator()\n",
        "\n",
        "g"
      ]
    },
    {
      "cell_type": "code",
      "execution_count": 27,
      "metadata": {
        "colab": {
          "base_uri": "https://localhost:8080/"
        },
        "id": "4BQ4gD5AjzUu",
        "outputId": "abfcc502-4b54-41d5-c9a2-54334e54a943"
      },
      "outputs": [
        {
          "output_type": "stream",
          "name": "stdout",
          "text": [
            "One!\n"
          ]
        },
        {
          "output_type": "execute_result",
          "data": {
            "text/plain": [
              "1"
            ]
          },
          "metadata": {},
          "execution_count": 27
        }
      ],
      "source": [
        "next(g)"
      ]
    },
    {
      "cell_type": "code",
      "execution_count": 28,
      "metadata": {
        "colab": {
          "base_uri": "https://localhost:8080/"
        },
        "id": "5HVfFsbWjzUu",
        "outputId": "19d3f858-e304-401b-e4f0-642718d17e86"
      },
      "outputs": [
        {
          "output_type": "stream",
          "name": "stdout",
          "text": [
            "Two!\n"
          ]
        },
        {
          "output_type": "execute_result",
          "data": {
            "text/plain": [
              "2"
            ]
          },
          "metadata": {},
          "execution_count": 28
        }
      ],
      "source": [
        "next(g)"
      ]
    },
    {
      "cell_type": "code",
      "execution_count": 29,
      "metadata": {
        "colab": {
          "base_uri": "https://localhost:8080/"
        },
        "id": "V-Smf5bMjzUu",
        "outputId": "758db148-7a87-44f7-89f5-2dc76e2d2ae8"
      },
      "outputs": [
        {
          "output_type": "stream",
          "name": "stdout",
          "text": [
            "Three!\n"
          ]
        },
        {
          "output_type": "execute_result",
          "data": {
            "text/plain": [
              "3"
            ]
          },
          "metadata": {},
          "execution_count": 29
        }
      ],
      "source": [
        "next(g)"
      ]
    },
    {
      "cell_type": "code",
      "execution_count": 30,
      "metadata": {
        "colab": {
          "base_uri": "https://localhost:8080/"
        },
        "id": "Js_mEM8djzUv",
        "outputId": "8021b3dd-69a1-4b49-a08d-e0da9f448219"
      },
      "outputs": [
        {
          "output_type": "stream",
          "name": "stdout",
          "text": [
            "Four!\n"
          ]
        },
        {
          "output_type": "execute_result",
          "data": {
            "text/plain": [
              "4"
            ]
          },
          "metadata": {},
          "execution_count": 30
        }
      ],
      "source": [
        "next(g)"
      ]
    },
    {
      "cell_type": "code",
      "execution_count": 31,
      "metadata": {
        "colab": {
          "base_uri": "https://localhost:8080/",
          "height": 166
        },
        "id": "Disy2BwOjzUv",
        "outputId": "b8afc830-20c8-45de-e9a7-7e6e01d589da"
      },
      "outputs": [
        {
          "output_type": "error",
          "ename": "StopIteration",
          "evalue": "ignored",
          "traceback": [
            "\u001b[0;31m---------------------------------------------------------------------------\u001b[0m",
            "\u001b[0;31mStopIteration\u001b[0m                             Traceback (most recent call last)",
            "\u001b[0;32m<ipython-input-31-e734f8aca5ac>\u001b[0m in \u001b[0;36m<module>\u001b[0;34m()\u001b[0m\n\u001b[0;32m----> 1\u001b[0;31m \u001b[0mnext\u001b[0m\u001b[0;34m(\u001b[0m\u001b[0mg\u001b[0m\u001b[0;34m)\u001b[0m\u001b[0;34m\u001b[0m\u001b[0;34m\u001b[0m\u001b[0m\n\u001b[0m",
            "\u001b[0;31mStopIteration\u001b[0m: "
          ]
        }
      ],
      "source": [
        "next(g)"
      ]
    },
    {
      "cell_type": "code",
      "execution_count": 32,
      "metadata": {
        "colab": {
          "base_uri": "https://localhost:8080/"
        },
        "id": "wk7AQgIFjzUv",
        "outputId": "7d60875a-6b90-4e3b-92d9-63b56cddb6f2"
      },
      "outputs": [
        {
          "output_type": "execute_result",
          "data": {
            "text/plain": [
              "<generator object generator at 0x7f707a0a60d0>"
            ]
          },
          "metadata": {},
          "execution_count": 32
        }
      ],
      "source": [
        "g = generator()\n",
        "\n",
        "g"
      ]
    },
    {
      "cell_type": "code",
      "execution_count": 33,
      "metadata": {
        "colab": {
          "base_uri": "https://localhost:8080/"
        },
        "id": "PQEr4pz0jzUv",
        "outputId": "c9504336-250d-4522-8156-261bc05b8230"
      },
      "outputs": [
        {
          "output_type": "stream",
          "name": "stdout",
          "text": [
            "One!\n"
          ]
        },
        {
          "output_type": "execute_result",
          "data": {
            "text/plain": [
              "1"
            ]
          },
          "metadata": {},
          "execution_count": 33
        }
      ],
      "source": [
        "next(g)"
      ]
    },
    {
      "cell_type": "code",
      "execution_count": 34,
      "metadata": {
        "id": "1U2oqWBMjzUv"
      },
      "outputs": [],
      "source": [
        "def generator():\n",
        "    n = 1\n",
        "    print('One!')\n",
        "    yield n\n",
        "\n",
        "    n += 1\n",
        "    print('Two!')\n",
        "    yield n\n",
        "\n",
        "    n += 1\n",
        "    print('Three!')\n",
        "    yield n\n",
        "\n",
        "    n += 1\n",
        "    print('Four!')\n",
        "    yield n"
      ]
    },
    {
      "cell_type": "code",
      "execution_count": 35,
      "metadata": {
        "colab": {
          "base_uri": "https://localhost:8080/"
        },
        "id": "Qqq_5UOPjzUw",
        "outputId": "9c3d5057-4de9-46fc-e771-7aa8b0a37341"
      },
      "outputs": [
        {
          "output_type": "execute_result",
          "data": {
            "text/plain": [
              "<generator object generator at 0x7f707a0a6dd0>"
            ]
          },
          "metadata": {},
          "execution_count": 35
        }
      ],
      "source": [
        "g = generator()\n",
        "\n",
        "g"
      ]
    },
    {
      "cell_type": "code",
      "execution_count": 37,
      "metadata": {
        "colab": {
          "base_uri": "https://localhost:8080/"
        },
        "id": "z72VSYbmjzUw",
        "outputId": "cd6cf34d-edf9-4b19-ec4e-e36c6a67ba3d"
      },
      "outputs": [
        {
          "output_type": "stream",
          "name": "stdout",
          "text": [
            "Two!\n"
          ]
        },
        {
          "output_type": "execute_result",
          "data": {
            "text/plain": [
              "2"
            ]
          },
          "metadata": {},
          "execution_count": 37
        }
      ],
      "source": [
        "next(g)"
      ]
    },
    {
      "cell_type": "code",
      "execution_count": 36,
      "metadata": {
        "colab": {
          "base_uri": "https://localhost:8080/"
        },
        "id": "JH9TwDotjzUw",
        "outputId": "ec7222be-130f-4fbf-827a-a8ac3452f2fa"
      },
      "outputs": [
        {
          "output_type": "stream",
          "name": "stdout",
          "text": [
            "One!\n"
          ]
        },
        {
          "output_type": "execute_result",
          "data": {
            "text/plain": [
              "1"
            ]
          },
          "metadata": {},
          "execution_count": 36
        }
      ],
      "source": [
        "next(g)"
      ]
    },
    {
      "cell_type": "code",
      "execution_count": 38,
      "metadata": {
        "colab": {
          "base_uri": "https://localhost:8080/"
        },
        "id": "XnZJL9RmjzUw",
        "outputId": "241d9205-3213-42bb-b6dd-4696e5cfcd30"
      },
      "outputs": [
        {
          "output_type": "stream",
          "name": "stdout",
          "text": [
            "Three!\n"
          ]
        },
        {
          "output_type": "execute_result",
          "data": {
            "text/plain": [
              "3"
            ]
          },
          "metadata": {},
          "execution_count": 38
        }
      ],
      "source": [
        "next(g)"
      ]
    },
    {
      "cell_type": "code",
      "execution_count": 39,
      "metadata": {
        "colab": {
          "base_uri": "https://localhost:8080/"
        },
        "id": "s1q38vAJjzUx",
        "outputId": "99506c16-6fa0-4f9c-e3f1-f86daf6d8859"
      },
      "outputs": [
        {
          "output_type": "stream",
          "name": "stdout",
          "text": [
            "Four!\n"
          ]
        },
        {
          "output_type": "execute_result",
          "data": {
            "text/plain": [
              "4"
            ]
          },
          "metadata": {},
          "execution_count": 39
        }
      ],
      "source": [
        "next(g)"
      ]
    },
    {
      "cell_type": "code",
      "execution_count": 40,
      "metadata": {
        "id": "gqFnatzFjzUx"
      },
      "outputs": [],
      "source": [
        "def generate_even_numbers(limit):\n",
        "    \n",
        "    for i in range(0, limit, 2):\n",
        "        yield i"
      ]
    },
    {
      "cell_type": "code",
      "execution_count": 41,
      "metadata": {
        "id": "I4LGFSXCjzUx"
      },
      "outputs": [],
      "source": [
        "g = generate_even_numbers(7)"
      ]
    },
    {
      "cell_type": "code",
      "execution_count": 42,
      "metadata": {
        "colab": {
          "base_uri": "https://localhost:8080/"
        },
        "id": "5DGul-f3jzUx",
        "outputId": "8ec37efd-b87b-4b13-eb28-61de345e34ad"
      },
      "outputs": [
        {
          "output_type": "execute_result",
          "data": {
            "text/plain": [
              "0"
            ]
          },
          "metadata": {},
          "execution_count": 42
        }
      ],
      "source": [
        "next(g)"
      ]
    },
    {
      "cell_type": "code",
      "execution_count": 43,
      "metadata": {
        "colab": {
          "base_uri": "https://localhost:8080/"
        },
        "id": "k9kYw9lFjzUx",
        "outputId": "934ec984-8880-4803-d39c-2203fa1e7f5b"
      },
      "outputs": [
        {
          "output_type": "execute_result",
          "data": {
            "text/plain": [
              "2"
            ]
          },
          "metadata": {},
          "execution_count": 43
        }
      ],
      "source": [
        "next(g)"
      ]
    },
    {
      "cell_type": "code",
      "execution_count": 44,
      "metadata": {
        "colab": {
          "base_uri": "https://localhost:8080/"
        },
        "id": "aLRq112_jzUx",
        "outputId": "854b0b3d-fcbf-4287-83f9-31865064e0d8"
      },
      "outputs": [
        {
          "output_type": "execute_result",
          "data": {
            "text/plain": [
              "4"
            ]
          },
          "metadata": {},
          "execution_count": 44
        }
      ],
      "source": [
        "next(g)"
      ]
    },
    {
      "cell_type": "code",
      "execution_count": 45,
      "metadata": {
        "colab": {
          "base_uri": "https://localhost:8080/"
        },
        "id": "7RbCMSspjzUx",
        "outputId": "684153d1-dc12-4ff7-edc8-e518efd70100"
      },
      "outputs": [
        {
          "output_type": "execute_result",
          "data": {
            "text/plain": [
              "6"
            ]
          },
          "metadata": {},
          "execution_count": 45
        }
      ],
      "source": [
        "next(g)"
      ]
    },
    {
      "cell_type": "code",
      "execution_count": 46,
      "metadata": {
        "colab": {
          "base_uri": "https://localhost:8080/",
          "height": 166
        },
        "id": "yg9o3c6ojzUx",
        "outputId": "c45b5cc4-4e1c-4b8a-e008-d4b9de5a34fa"
      },
      "outputs": [
        {
          "output_type": "error",
          "ename": "StopIteration",
          "evalue": "ignored",
          "traceback": [
            "\u001b[0;31m---------------------------------------------------------------------------\u001b[0m",
            "\u001b[0;31mStopIteration\u001b[0m                             Traceback (most recent call last)",
            "\u001b[0;32m<ipython-input-46-e734f8aca5ac>\u001b[0m in \u001b[0;36m<module>\u001b[0;34m()\u001b[0m\n\u001b[0;32m----> 1\u001b[0;31m \u001b[0mnext\u001b[0m\u001b[0;34m(\u001b[0m\u001b[0mg\u001b[0m\u001b[0;34m)\u001b[0m\u001b[0;34m\u001b[0m\u001b[0;34m\u001b[0m\u001b[0m\n\u001b[0m",
            "\u001b[0;31mStopIteration\u001b[0m: "
          ]
        }
      ],
      "source": [
        "next(g)"
      ]
    },
    {
      "cell_type": "code",
      "execution_count": 47,
      "metadata": {
        "id": "o5SddHrNjzUy"
      },
      "outputs": [],
      "source": [
        "g = generate_even_numbers(7)\n",
        "\n",
        "l = list(g)"
      ]
    },
    {
      "cell_type": "code",
      "execution_count": 48,
      "metadata": {
        "colab": {
          "base_uri": "https://localhost:8080/"
        },
        "id": "imT7Wj1ljzUy",
        "outputId": "ba9a6a7f-cc76-45aa-8091-893f44d97109"
      },
      "outputs": [
        {
          "output_type": "execute_result",
          "data": {
            "text/plain": [
              "[0, 2, 4, 6]"
            ]
          },
          "metadata": {},
          "execution_count": 48
        }
      ],
      "source": [
        "l"
      ]
    },
    {
      "cell_type": "code",
      "execution_count": 49,
      "metadata": {
        "id": "1M7l8BY2jzUy"
      },
      "outputs": [],
      "source": [
        "def generate_squares(limit):\n",
        "    \n",
        "    for i in range(0, limit):\n",
        "        yield i**2"
      ]
    },
    {
      "cell_type": "code",
      "execution_count": 50,
      "metadata": {
        "id": "pYOY7zPqjzUy"
      },
      "outputs": [],
      "source": [
        "gen = generate_squares(10)"
      ]
    },
    {
      "cell_type": "code",
      "execution_count": 51,
      "metadata": {
        "colab": {
          "base_uri": "https://localhost:8080/"
        },
        "id": "W7wTH13GjzUy",
        "outputId": "e0845df8-ca64-41e9-be0e-bada5716d5b9"
      },
      "outputs": [
        {
          "output_type": "execute_result",
          "data": {
            "text/plain": [
              "0"
            ]
          },
          "metadata": {},
          "execution_count": 51
        }
      ],
      "source": [
        "next(gen)"
      ]
    },
    {
      "cell_type": "code",
      "execution_count": 52,
      "metadata": {
        "colab": {
          "base_uri": "https://localhost:8080/"
        },
        "id": "Ws-H7WIjjzUy",
        "outputId": "107a3a9a-9640-4725-d1cd-c02aa1b5a656"
      },
      "outputs": [
        {
          "output_type": "execute_result",
          "data": {
            "text/plain": [
              "1"
            ]
          },
          "metadata": {},
          "execution_count": 52
        }
      ],
      "source": [
        "next(gen)"
      ]
    },
    {
      "cell_type": "code",
      "execution_count": 53,
      "metadata": {
        "colab": {
          "base_uri": "https://localhost:8080/"
        },
        "id": "BquriwfWjzUy",
        "outputId": "296e12c1-c602-445b-dfaa-662ad0fbaec1"
      },
      "outputs": [
        {
          "output_type": "execute_result",
          "data": {
            "text/plain": [
              "4"
            ]
          },
          "metadata": {},
          "execution_count": 53
        }
      ],
      "source": [
        "next(gen)"
      ]
    },
    {
      "cell_type": "code",
      "execution_count": 54,
      "metadata": {
        "colab": {
          "base_uri": "https://localhost:8080/"
        },
        "id": "8OdxxGGyjzUy",
        "outputId": "d2331b75-27e8-4566-8f02-589535d417f6"
      },
      "outputs": [
        {
          "output_type": "execute_result",
          "data": {
            "text/plain": [
              "9"
            ]
          },
          "metadata": {},
          "execution_count": 54
        }
      ],
      "source": [
        "next(gen)"
      ]
    },
    {
      "cell_type": "code",
      "execution_count": 55,
      "metadata": {
        "colab": {
          "base_uri": "https://localhost:8080/"
        },
        "id": "4n8XFSRZjzUy",
        "outputId": "80c1aeea-960b-475e-8881-dff7f9594796"
      },
      "outputs": [
        {
          "output_type": "execute_result",
          "data": {
            "text/plain": [
              "[0, 1, 4, 9, 16, 25, 36, 49, 64, 81]"
            ]
          },
          "metadata": {},
          "execution_count": 55
        }
      ],
      "source": [
        "squares_list = list(generate_squares(10))\n",
        "\n",
        "squares_list"
      ]
    },
    {
      "cell_type": "code",
      "execution_count": 56,
      "metadata": {
        "colab": {
          "base_uri": "https://localhost:8080/"
        },
        "id": "ZRe0R7zyjzUz",
        "outputId": "615ce0a2-4786-4656-e1e6-5ef69955c48a"
      },
      "outputs": [
        {
          "output_type": "execute_result",
          "data": {
            "text/plain": [
              "(0, 1, 4, 9, 16, 25, 36, 49, 64, 81)"
            ]
          },
          "metadata": {},
          "execution_count": 56
        }
      ],
      "source": [
        "squares_tuple = tuple(generate_squares(10))\n",
        "\n",
        "squares_tuple"
      ]
    },
    {
      "cell_type": "code",
      "execution_count": 57,
      "metadata": {
        "id": "FNwJIkkAjzUz"
      },
      "outputs": [],
      "source": [
        "def generate_powers_of_two():\n",
        "    \n",
        "    num = 0\n",
        "    while True:\n",
        "        num = num + 1\n",
        "\n",
        "        yield 2 ** num"
      ]
    },
    {
      "cell_type": "code",
      "execution_count": 58,
      "metadata": {
        "id": "_B1BCQ5wjzUz"
      },
      "outputs": [],
      "source": [
        "gen = generate_powers_of_two()"
      ]
    },
    {
      "cell_type": "code",
      "execution_count": 59,
      "metadata": {
        "colab": {
          "base_uri": "https://localhost:8080/"
        },
        "id": "20x1eU16jzUz",
        "outputId": "3d00c7e7-b4cb-4e18-b451-16cc475b3830"
      },
      "outputs": [
        {
          "output_type": "execute_result",
          "data": {
            "text/plain": [
              "2"
            ]
          },
          "metadata": {},
          "execution_count": 59
        }
      ],
      "source": [
        "next(gen)"
      ]
    },
    {
      "cell_type": "code",
      "execution_count": 60,
      "metadata": {
        "colab": {
          "base_uri": "https://localhost:8080/"
        },
        "id": "rAfgChRJjzUz",
        "outputId": "10116ddb-15f4-4814-b779-7118769d87eb"
      },
      "outputs": [
        {
          "output_type": "execute_result",
          "data": {
            "text/plain": [
              "4"
            ]
          },
          "metadata": {},
          "execution_count": 60
        }
      ],
      "source": [
        "next(gen)"
      ]
    },
    {
      "cell_type": "code",
      "execution_count": 61,
      "metadata": {
        "colab": {
          "base_uri": "https://localhost:8080/"
        },
        "id": "ypwHyRe2jzUz",
        "outputId": "32549b29-a94c-49bc-f759-817c01d4d77b"
      },
      "outputs": [
        {
          "output_type": "stream",
          "name": "stdout",
          "text": [
            "8\n",
            "16\n",
            "32\n",
            "64\n",
            "128\n",
            "256\n",
            "512\n",
            "1024\n",
            "2048\n",
            "4096\n",
            "8192\n"
          ]
        }
      ],
      "source": [
        "count = 0\n",
        "for p in gen:\n",
        "    print(p)\n",
        "\n",
        "    count = count + 1\n",
        "    if count > 10:\n",
        "        break"
      ]
    },
    {
      "cell_type": "code",
      "execution_count": 62,
      "metadata": {
        "colab": {
          "base_uri": "https://localhost:8080/"
        },
        "id": "xQPi1ckLjzUz",
        "outputId": "cd56cae3-ce9b-46eb-d683-19f3a315ba74"
      },
      "outputs": [
        {
          "output_type": "stream",
          "name": "stdout",
          "text": [
            "16384\n",
            "32768\n",
            "65536\n",
            "131072\n",
            "262144\n",
            "524288\n",
            "1048576\n",
            "2097152\n",
            "4194304\n",
            "8388608\n",
            "16777216\n"
          ]
        }
      ],
      "source": [
        "count = 0\n",
        "for p in gen:\n",
        "    print(p)\n",
        "\n",
        "    count = count + 1\n",
        "    if count > 10:\n",
        "        break"
      ]
    },
    {
      "cell_type": "code",
      "execution_count": null,
      "metadata": {
        "id": "5FHTjZ6GjzUz"
      },
      "outputs": [],
      "source": [
        ""
      ]
    },
    {
      "cell_type": "code",
      "source": [
        ""
      ],
      "metadata": {
        "id": "xlfuHpJustFK"
      },
      "execution_count": null,
      "outputs": []
    },
    {
      "cell_type": "code",
      "source": [
        ""
      ],
      "metadata": {
        "id": "lk7T6tsMstjG"
      },
      "execution_count": null,
      "outputs": []
    },
    {
      "cell_type": "code",
      "execution_count": 63,
      "metadata": {
        "id": "xVZeE5D5jzU5"
      },
      "outputs": [],
      "source": [
        "def nested_hello_fn():\n",
        "    \n",
        "    def hello():\n",
        "        print(\"Hello Cathy!\")\n",
        "        \n",
        "    hello()"
      ]
    },
    {
      "cell_type": "code",
      "execution_count": 64,
      "metadata": {
        "colab": {
          "base_uri": "https://localhost:8080/"
        },
        "id": "5rbvtluCjzU5",
        "outputId": "de6776f5-db91-490d-8881-dedad1307858"
      },
      "outputs": [
        {
          "output_type": "stream",
          "name": "stdout",
          "text": [
            "Hello Cathy!\n"
          ]
        }
      ],
      "source": [
        "nested_hello_fn()"
      ]
    },
    {
      "cell_type": "code",
      "execution_count": 65,
      "metadata": {
        "colab": {
          "base_uri": "https://localhost:8080/",
          "height": 166
        },
        "id": "RWPUyh66jzU5",
        "outputId": "6a31e2cb-eca3-43bb-e1e1-e11c49de9756"
      },
      "outputs": [
        {
          "output_type": "error",
          "ename": "TypeError",
          "evalue": "ignored",
          "traceback": [
            "\u001b[0;31m---------------------------------------------------------------------------\u001b[0m",
            "\u001b[0;31mTypeError\u001b[0m                                 Traceback (most recent call last)",
            "\u001b[0;32m<ipython-input-65-a75d7781aaeb>\u001b[0m in \u001b[0;36m<module>\u001b[0;34m()\u001b[0m\n\u001b[0;32m----> 1\u001b[0;31m \u001b[0mhello\u001b[0m\u001b[0;34m(\u001b[0m\u001b[0;34m)\u001b[0m\u001b[0;34m\u001b[0m\u001b[0;34m\u001b[0m\u001b[0m\n\u001b[0m",
            "\u001b[0;31mTypeError\u001b[0m: hello() missing 1 required positional argument: 'name'"
          ]
        }
      ],
      "source": [
        "hello()"
      ]
    },
    {
      "cell_type": "code",
      "execution_count": 66,
      "metadata": {
        "id": "P_JWi--UjzU5"
      },
      "outputs": [],
      "source": [
        "def get_hello_fn():\n",
        "    \n",
        "    def hello():\n",
        "        print(\"Hello Cathy!\")\n",
        "        \n",
        "    return hello"
      ]
    },
    {
      "cell_type": "code",
      "execution_count": 67,
      "metadata": {
        "colab": {
          "base_uri": "https://localhost:8080/"
        },
        "id": "Ew0BhwR_jzU5",
        "outputId": "75d55173-2adf-447d-c69a-f0f18df94b00"
      },
      "outputs": [
        {
          "output_type": "execute_result",
          "data": {
            "text/plain": [
              "<function __main__.get_hello_fn.<locals>.hello>"
            ]
          },
          "metadata": {},
          "execution_count": 67
        }
      ],
      "source": [
        "hello_fn = get_hello_fn()\n",
        "\n",
        "hello_fn"
      ]
    },
    {
      "cell_type": "code",
      "execution_count": 68,
      "metadata": {
        "colab": {
          "base_uri": "https://localhost:8080/"
        },
        "id": "Y9EoV2W1jzU5",
        "outputId": "a6a3120e-4c05-41c2-be67-f7e6786607ad"
      },
      "outputs": [
        {
          "output_type": "stream",
          "name": "stdout",
          "text": [
            "Hello Cathy!\n"
          ]
        }
      ],
      "source": [
        "hello_fn()"
      ]
    },
    {
      "cell_type": "code",
      "execution_count": 69,
      "metadata": {
        "id": "Foos3hOJjzU6"
      },
      "outputs": [],
      "source": [
        "def greet_hello_by_name(name):\n",
        "    \n",
        "    def hello():\n",
        "        print(\"Hello!\", name)\n",
        "        \n",
        "    hello()\n",
        "    \n",
        "    return hello"
      ]
    },
    {
      "cell_type": "code",
      "execution_count": 70,
      "metadata": {
        "colab": {
          "base_uri": "https://localhost:8080/"
        },
        "id": "NFt1eAxYjzU6",
        "outputId": "d820c4db-bf86-4801-dda6-f607cf751138"
      },
      "outputs": [
        {
          "output_type": "stream",
          "name": "stdout",
          "text": [
            "Hello! Chris\n"
          ]
        }
      ],
      "source": [
        "greet_hello_fn = greet_hello_by_name(\"Chris\")"
      ]
    },
    {
      "cell_type": "code",
      "execution_count": 71,
      "metadata": {
        "colab": {
          "base_uri": "https://localhost:8080/"
        },
        "id": "qvPYp8YKjzU6",
        "outputId": "87fe77c4-6273-4628-830d-787657e0eb57"
      },
      "outputs": [
        {
          "output_type": "execute_result",
          "data": {
            "text/plain": [
              "<function __main__.greet_hello_by_name.<locals>.hello>"
            ]
          },
          "metadata": {},
          "execution_count": 71
        }
      ],
      "source": [
        "greet_hello_fn"
      ]
    },
    {
      "cell_type": "code",
      "execution_count": 72,
      "metadata": {
        "colab": {
          "base_uri": "https://localhost:8080/"
        },
        "id": "FXfwjnYPjzU6",
        "outputId": "5d6a67ca-165a-4e44-e662-003eca4f23fe"
      },
      "outputs": [
        {
          "output_type": "stream",
          "name": "stdout",
          "text": [
            "Hello! Chris\n"
          ]
        }
      ],
      "source": [
        "greet_hello_fn()"
      ]
    },
    {
      "cell_type": "code",
      "execution_count": 73,
      "metadata": {
        "id": "HTdFZp9njzU6"
      },
      "outputs": [],
      "source": [
        "def greet_by_name(name):\n",
        "    \n",
        "    greeting_msg = \"Hi there!\"\n",
        "\n",
        "    def greeting():\n",
        "        print(greeting_msg, name)\n",
        "        \n",
        "    return greeting"
      ]
    },
    {
      "cell_type": "code",
      "execution_count": 74,
      "metadata": {
        "id": "HI601b80jzU6"
      },
      "outputs": [],
      "source": [
        "greet_fn = greet_by_name(\"Alex\")"
      ]
    },
    {
      "cell_type": "code",
      "execution_count": 75,
      "metadata": {
        "colab": {
          "base_uri": "https://localhost:8080/"
        },
        "id": "qD9xy8OtjzU6",
        "outputId": "4d70e807-82d4-44b7-d95c-432adfdc32e1"
      },
      "outputs": [
        {
          "output_type": "stream",
          "name": "stdout",
          "text": [
            "Hi there! Alex\n"
          ]
        }
      ],
      "source": [
        "greet_fn()"
      ]
    },
    {
      "cell_type": "code",
      "execution_count": 76,
      "metadata": {
        "id": "6e9Wvo7BjzU7"
      },
      "outputs": [],
      "source": [
        "del greet_by_name"
      ]
    },
    {
      "cell_type": "code",
      "execution_count": 77,
      "metadata": {
        "colab": {
          "base_uri": "https://localhost:8080/",
          "height": 166
        },
        "id": "Q4Du-81DjzU7",
        "outputId": "3b2d04a2-0838-4a66-a307-7d5439376e38"
      },
      "outputs": [
        {
          "output_type": "error",
          "ename": "NameError",
          "evalue": "ignored",
          "traceback": [
            "\u001b[0;31m---------------------------------------------------------------------------\u001b[0m",
            "\u001b[0;31mNameError\u001b[0m                                 Traceback (most recent call last)",
            "\u001b[0;32m<ipython-input-77-ea721c7ff5b2>\u001b[0m in \u001b[0;36m<module>\u001b[0;34m()\u001b[0m\n\u001b[0;32m----> 1\u001b[0;31m \u001b[0mgreet_by_name\u001b[0m\u001b[0;34m(\u001b[0m\u001b[0;34m\"Alex\"\u001b[0m\u001b[0;34m)\u001b[0m\u001b[0;34m\u001b[0m\u001b[0;34m\u001b[0m\u001b[0m\n\u001b[0m",
            "\u001b[0;31mNameError\u001b[0m: name 'greet_by_name' is not defined"
          ]
        }
      ],
      "source": [
        "greet_by_name(\"Alex\")"
      ]
    },
    {
      "cell_type": "code",
      "execution_count": 78,
      "metadata": {
        "colab": {
          "base_uri": "https://localhost:8080/"
        },
        "id": "1KPPJghejzU7",
        "outputId": "c0ca8474-82fc-41e9-81f3-980d2c6958ee"
      },
      "outputs": [
        {
          "output_type": "stream",
          "name": "stdout",
          "text": [
            "Hi there! Alex\n"
          ]
        }
      ],
      "source": [
        "greet_fn()"
      ]
    },
    {
      "cell_type": "code",
      "execution_count": 79,
      "metadata": {
        "id": "zThUOGaDjzU7"
      },
      "outputs": [],
      "source": [
        "import random\n",
        "\n",
        "def greet_with_personal_message(name, message):\n",
        "    \n",
        "    annotations = ['-', '*', '+', ':', '^']\n",
        "    annotate = random.choice(annotations)\n",
        "    \n",
        "    def greeting():\n",
        "        print(annotate * 50)\n",
        "        print(message, name)\n",
        "        print(annotate * 50)\n",
        "        \n",
        "    return greeting"
      ]
    },
    {
      "cell_type": "code",
      "execution_count": 80,
      "metadata": {
        "id": "enCEZycGjzU7"
      },
      "outputs": [],
      "source": [
        "greet_greg_fn = greet_with_personal_message('Greg', 'Hello!')"
      ]
    },
    {
      "cell_type": "code",
      "execution_count": 81,
      "metadata": {
        "id": "b980XEeUjzU7"
      },
      "outputs": [],
      "source": [
        "greet_claudia_fn = greet_with_personal_message('Claudia', 'Good morning!')"
      ]
    },
    {
      "cell_type": "code",
      "execution_count": 82,
      "metadata": {
        "id": "3DAabRT2jzU7"
      },
      "outputs": [],
      "source": [
        "greet_jon_fn = greet_with_personal_message('Jon', 'Hey!')"
      ]
    },
    {
      "cell_type": "code",
      "execution_count": 83,
      "metadata": {
        "colab": {
          "base_uri": "https://localhost:8080/"
        },
        "id": "eQhceFp0jzU7",
        "outputId": "6332e376-b4a4-432f-d3ed-eb9f4852a1da"
      },
      "outputs": [
        {
          "output_type": "stream",
          "name": "stdout",
          "text": [
            "**************************************************\n",
            "Hello! Greg\n",
            "**************************************************\n"
          ]
        }
      ],
      "source": [
        "greet_greg_fn()"
      ]
    },
    {
      "cell_type": "code",
      "execution_count": 84,
      "metadata": {
        "colab": {
          "base_uri": "https://localhost:8080/"
        },
        "id": "JBM_xZsyjzU7",
        "outputId": "19e0bc6a-6910-46be-e418-bf7a6082b511"
      },
      "outputs": [
        {
          "output_type": "stream",
          "name": "stdout",
          "text": [
            "++++++++++++++++++++++++++++++++++++++++++++++++++\n",
            "Good morning! Claudia\n",
            "++++++++++++++++++++++++++++++++++++++++++++++++++\n"
          ]
        }
      ],
      "source": [
        "greet_claudia_fn()"
      ]
    },
    {
      "cell_type": "code",
      "execution_count": 85,
      "metadata": {
        "colab": {
          "base_uri": "https://localhost:8080/"
        },
        "id": "MPiBrFuFjzU8",
        "outputId": "916e03f7-e54a-4c0e-8b94-3796f23989e7"
      },
      "outputs": [
        {
          "output_type": "stream",
          "name": "stdout",
          "text": [
            "**************************************************\n",
            "Hey! Jon\n",
            "**************************************************\n"
          ]
        }
      ],
      "source": [
        "greet_jon_fn()"
      ]
    },
    {
      "cell_type": "code",
      "execution_count": 86,
      "metadata": {
        "colab": {
          "base_uri": "https://localhost:8080/"
        },
        "id": "1kFCdyOTjzU8",
        "outputId": "dfb58de7-9e26-4414-8379-d8d3242ae1aa"
      },
      "outputs": [
        {
          "output_type": "stream",
          "name": "stdout",
          "text": [
            "**************************************************\n",
            "Hello! Greg\n",
            "**************************************************\n"
          ]
        }
      ],
      "source": [
        "greet_greg_fn()"
      ]
    },
    {
      "cell_type": "code",
      "execution_count": 87,
      "metadata": {
        "colab": {
          "base_uri": "https://localhost:8080/",
          "height": 201
        },
        "id": "dYtVY7TDjzU8",
        "outputId": "db3d916c-fda7-4e60-c6c7-4ad9c83009cc"
      },
      "outputs": [
        {
          "output_type": "error",
          "ename": "NameError",
          "evalue": "ignored",
          "traceback": [
            "\u001b[0;31m---------------------------------------------------------------------------\u001b[0m",
            "\u001b[0;31mNameError\u001b[0m                                 Traceback (most recent call last)",
            "\u001b[0;32m<ipython-input-87-6af5583c1c38>\u001b[0m in \u001b[0;36m<module>\u001b[0;34m()\u001b[0m\n\u001b[1;32m      1\u001b[0m \u001b[0;32mdel\u001b[0m \u001b[0mgreet_with_personal_message\u001b[0m\u001b[0;34m\u001b[0m\u001b[0;34m\u001b[0m\u001b[0m\n\u001b[1;32m      2\u001b[0m \u001b[0;34m\u001b[0m\u001b[0m\n\u001b[0;32m----> 3\u001b[0;31m \u001b[0mgreet_with_personal_message\u001b[0m\u001b[0;34m(\u001b[0m\u001b[0;34m'Greg'\u001b[0m\u001b[0;34m,\u001b[0m \u001b[0;34m'Hello!'\u001b[0m\u001b[0;34m)\u001b[0m\u001b[0;34m\u001b[0m\u001b[0;34m\u001b[0m\u001b[0m\n\u001b[0m",
            "\u001b[0;31mNameError\u001b[0m: name 'greet_with_personal_message' is not defined"
          ]
        }
      ],
      "source": [
        "del greet_with_personal_message\n",
        "\n",
        "greet_with_personal_message('Greg', 'Hello!')"
      ]
    },
    {
      "cell_type": "code",
      "execution_count": 88,
      "metadata": {
        "colab": {
          "base_uri": "https://localhost:8080/"
        },
        "id": "diQixZBcjzU8",
        "outputId": "a46361c5-7838-4a4d-8ff5-71ac7fa408a2"
      },
      "outputs": [
        {
          "output_type": "stream",
          "name": "stdout",
          "text": [
            "**************************************************\n",
            "Hello! Greg\n",
            "**************************************************\n"
          ]
        }
      ],
      "source": [
        "greet_greg_fn()"
      ]
    },
    {
      "cell_type": "code",
      "execution_count": 89,
      "metadata": {
        "colab": {
          "base_uri": "https://localhost:8080/"
        },
        "id": "bvtBF91AjzU8",
        "outputId": "90176972-3c61-4373-96a6-ebff4a6a6f21"
      },
      "outputs": [
        {
          "output_type": "stream",
          "name": "stdout",
          "text": [
            "++++++++++++++++++++++++++++++++++++++++++++++++++\n",
            "Good morning! Claudia\n",
            "++++++++++++++++++++++++++++++++++++++++++++++++++\n"
          ]
        }
      ],
      "source": [
        "greet_claudia_fn()"
      ]
    },
    {
      "cell_type": "code",
      "execution_count": 90,
      "metadata": {
        "id": "A9_72wDrjzU8"
      },
      "outputs": [],
      "source": [
        "def enroll_in_college(college_name):\n",
        "    \n",
        "    student_list = []\n",
        "    \n",
        "    def enroll_student(student_name):\n",
        "        \n",
        "        student_list.append(student_name)\n",
        "        print(\"Student\", student_name, \"has been enrolled in\", college_name)\n",
        "        print(\"Current students\", student_list, end=\"\\n\\n\")\n",
        "        \n",
        "    return enroll_student"
      ]
    },
    {
      "cell_type": "code",
      "execution_count": 91,
      "metadata": {
        "id": "mfspnAWcjzU8"
      },
      "outputs": [],
      "source": [
        "enroll_in_yale_fn = enroll_in_college('Yale')"
      ]
    },
    {
      "cell_type": "code",
      "execution_count": 92,
      "metadata": {
        "id": "Dlv-icVLjzU8"
      },
      "outputs": [],
      "source": [
        "enroll_in_duke_fn = enroll_in_college('Duke')"
      ]
    },
    {
      "cell_type": "code",
      "execution_count": 93,
      "metadata": {
        "colab": {
          "base_uri": "https://localhost:8080/"
        },
        "id": "a1iJay9kjzU8",
        "outputId": "3f921a3a-92cd-4165-f6db-2ab749d2cdd8"
      },
      "outputs": [
        {
          "output_type": "stream",
          "name": "stdout",
          "text": [
            "Student Sam has been enrolled in Yale\n",
            "Current students ['Sam']\n",
            "\n"
          ]
        }
      ],
      "source": [
        "enroll_in_yale_fn('Sam')"
      ]
    },
    {
      "cell_type": "code",
      "execution_count": 94,
      "metadata": {
        "colab": {
          "base_uri": "https://localhost:8080/"
        },
        "id": "TFwVb5mXjzU9",
        "outputId": "bfcb9256-78cb-4c8e-c289-f1a7d4635eb6"
      },
      "outputs": [
        {
          "output_type": "stream",
          "name": "stdout",
          "text": [
            "Student Jill has been enrolled in Duke\n",
            "Current students ['Jill']\n",
            "\n"
          ]
        }
      ],
      "source": [
        "enroll_in_duke_fn('Jill')"
      ]
    },
    {
      "cell_type": "code",
      "execution_count": 95,
      "metadata": {
        "colab": {
          "base_uri": "https://localhost:8080/"
        },
        "id": "WPHY9GKyjzU9",
        "outputId": "0986f84a-2aca-449f-e278-e8672757ea36"
      },
      "outputs": [
        {
          "output_type": "stream",
          "name": "stdout",
          "text": [
            "Student Donald has been enrolled in Yale\n",
            "Current students ['Sam', 'Donald']\n",
            "\n",
            "Student John has been enrolled in Yale\n",
            "Current students ['Sam', 'Donald', 'John']\n",
            "\n",
            "Student Trisha has been enrolled in Yale\n",
            "Current students ['Sam', 'Donald', 'John', 'Trisha']\n",
            "\n"
          ]
        }
      ],
      "source": [
        "enroll_in_yale_fn('Donald')\n",
        "enroll_in_yale_fn('John')\n",
        "enroll_in_yale_fn('Trisha')"
      ]
    },
    {
      "cell_type": "code",
      "execution_count": 96,
      "metadata": {
        "colab": {
          "base_uri": "https://localhost:8080/"
        },
        "id": "ShDQUxKOjzU9",
        "outputId": "f1ccd364-98f5-435d-81e7-e438deb4d958"
      },
      "outputs": [
        {
          "output_type": "stream",
          "name": "stdout",
          "text": [
            "Student Olga has been enrolled in Duke\n",
            "Current students ['Jill', 'Olga']\n",
            "\n",
            "Student Steven has been enrolled in Duke\n",
            "Current students ['Jill', 'Olga', 'Steven']\n",
            "\n"
          ]
        }
      ],
      "source": [
        "enroll_in_duke_fn('Olga')\n",
        "enroll_in_duke_fn('Steven')"
      ]
    },
    {
      "cell_type": "code",
      "execution_count": 97,
      "metadata": {
        "id": "u9wSzyMvjzU9"
      },
      "outputs": [],
      "source": [
        "def formal_greeting():\n",
        "    \n",
        "    greeting = \"How are you doing?\"\n",
        "    \n",
        "    def informal_greeting():\n",
        "        \n",
        "        greeting = \"Hi there!\"\n",
        "        print(greeting)\n",
        "        \n",
        "    informal_greeting()\n",
        "    print(greeting)"
      ]
    },
    {
      "cell_type": "code",
      "execution_count": 98,
      "metadata": {
        "colab": {
          "base_uri": "https://localhost:8080/"
        },
        "id": "EF838UamjzU9",
        "outputId": "a2597837-90e2-40c5-8f4f-678b969cd9dd"
      },
      "outputs": [
        {
          "output_type": "stream",
          "name": "stdout",
          "text": [
            "Hi there!\n",
            "How are you doing?\n"
          ]
        }
      ],
      "source": [
        "formal_greeting()"
      ]
    },
    {
      "cell_type": "code",
      "execution_count": 99,
      "metadata": {
        "id": "_d_0WNm1jzU9"
      },
      "outputs": [],
      "source": [
        "def formal_greeting():\n",
        "    \n",
        "    greeting = \"How are you doing?\"\n",
        "    \n",
        "    def informal_greeting():\n",
        "        nonlocal greeting\n",
        "\n",
        "        greeting = \"Hi there!\"\n",
        "        print(greeting)\n",
        "        \n",
        "    informal_greeting()\n",
        "    print(greeting)"
      ]
    },
    {
      "cell_type": "code",
      "execution_count": 100,
      "metadata": {
        "colab": {
          "base_uri": "https://localhost:8080/"
        },
        "id": "Z1vdOiq0jzU9",
        "outputId": "0eca9d80-0695-4bf5-ff66-3764fb6f0de5"
      },
      "outputs": [
        {
          "output_type": "stream",
          "name": "stdout",
          "text": [
            "Hi there!\n",
            "Hi there!\n"
          ]
        }
      ],
      "source": [
        "formal_greeting()"
      ]
    },
    {
      "cell_type": "code",
      "execution_count": null,
      "metadata": {
        "id": "zQ3pcwGtjzU-"
      },
      "outputs": [],
      "source": [
        ""
      ]
    },
    {
      "cell_type": "code",
      "execution_count": null,
      "metadata": {
        "id": "C_ldMXgQjzU-"
      },
      "outputs": [],
      "source": [
        ""
      ]
    },
    {
      "cell_type": "code",
      "execution_count": null,
      "metadata": {
        "id": "j1ZH-3vUjzU-"
      },
      "outputs": [],
      "source": [
        ""
      ]
    },
    {
      "cell_type": "code",
      "execution_count": 101,
      "metadata": {
        "id": "klKZWmMFjzVG"
      },
      "outputs": [],
      "source": [
        "def print_message():\n",
        "    print(\"Yoohoo! Decorators are cool!\")"
      ]
    },
    {
      "cell_type": "code",
      "execution_count": 102,
      "metadata": {
        "colab": {
          "base_uri": "https://localhost:8080/"
        },
        "id": "i0XXwRQgjzVG",
        "outputId": "8b2fd530-f623-4a9c-e619-2abbe2bbd733"
      },
      "outputs": [
        {
          "output_type": "stream",
          "name": "stdout",
          "text": [
            "Yoohoo! Decorators are cool!\n"
          ]
        }
      ],
      "source": [
        "print_message()"
      ]
    },
    {
      "cell_type": "code",
      "execution_count": 103,
      "metadata": {
        "id": "2rozozdxjzVG"
      },
      "outputs": [],
      "source": [
        "import random\n",
        "\n",
        "def highlight():\n",
        "    \n",
        "    annotations = ['-', '*', '+', ':', '^']\n",
        "    annotate = random.choice(annotations)\n",
        "    \n",
        "    print(annotate * 50)\n",
        "    \n",
        "    print_message()\n",
        "    \n",
        "    print(annotate * 50)"
      ]
    },
    {
      "cell_type": "code",
      "execution_count": 104,
      "metadata": {
        "colab": {
          "base_uri": "https://localhost:8080/"
        },
        "id": "Wmz7GwD-jzVG",
        "outputId": "3ea2df2c-cdf1-475c-de6c-6ec7642362b2"
      },
      "outputs": [
        {
          "output_type": "stream",
          "name": "stdout",
          "text": [
            "::::::::::::::::::::::::::::::::::::::::::::::::::\n",
            "Yoohoo! Decorators are cool!\n",
            "::::::::::::::::::::::::::::::::::::::::::::::::::\n"
          ]
        }
      ],
      "source": [
        "highlight()"
      ]
    },
    {
      "cell_type": "code",
      "execution_count": 105,
      "metadata": {
        "id": "qVHZte-AjzVG"
      },
      "outputs": [],
      "source": [
        "def print_another_message():\n",
        "    print(\"Did you know? Decorators use closures.\")"
      ]
    },
    {
      "cell_type": "code",
      "execution_count": 106,
      "metadata": {
        "colab": {
          "base_uri": "https://localhost:8080/"
        },
        "id": "5KAi--ubjzVG",
        "outputId": "73bf1a3b-8ae2-4ee4-bea9-17079850251a"
      },
      "outputs": [
        {
          "output_type": "stream",
          "name": "stdout",
          "text": [
            "++++++++++++++++++++++++++++++++++++++++++++++++++\n",
            "Yoohoo! Decorators are cool!\n",
            "++++++++++++++++++++++++++++++++++++++++++++++++++\n"
          ]
        }
      ],
      "source": [
        "highlight()"
      ]
    },
    {
      "cell_type": "code",
      "execution_count": 107,
      "metadata": {
        "id": "JPXIX_ZkjzVG"
      },
      "outputs": [],
      "source": [
        "def make_highlighted(func):\n",
        "    \n",
        "    annotations = ['-', '*', '+', ':', '^']\n",
        "    annotate = random.choice(annotations)\n",
        "    \n",
        "    def highlight():\n",
        "        print(annotate * 50)\n",
        "\n",
        "        func()\n",
        "\n",
        "        print(annotate * 50)            \n",
        "    \n",
        "    return highlight"
      ]
    },
    {
      "cell_type": "code",
      "execution_count": 108,
      "metadata": {
        "colab": {
          "base_uri": "https://localhost:8080/"
        },
        "id": "aycv5OjFjzVG",
        "outputId": "6b72afe9-43a9-48ee-a58c-b96dcf6de16b"
      },
      "outputs": [
        {
          "output_type": "stream",
          "name": "stdout",
          "text": [
            "Yoohoo! Decorators are cool!\n"
          ]
        }
      ],
      "source": [
        "print_message()"
      ]
    },
    {
      "cell_type": "code",
      "execution_count": 109,
      "metadata": {
        "colab": {
          "base_uri": "https://localhost:8080/"
        },
        "id": "LoZUEZ65jzVG",
        "outputId": "e8492134-9412-4a6f-f8a5-141da061938e"
      },
      "outputs": [
        {
          "output_type": "stream",
          "name": "stdout",
          "text": [
            "Did you know? Decorators use closures.\n"
          ]
        }
      ],
      "source": [
        "print_another_message()"
      ]
    },
    {
      "cell_type": "code",
      "execution_count": 110,
      "metadata": {
        "colab": {
          "base_uri": "https://localhost:8080/"
        },
        "id": "XmQNQRtTjzVG",
        "outputId": "9d07ac9e-7498-4ecb-8060-0822627a0ddc"
      },
      "outputs": [
        {
          "output_type": "stream",
          "name": "stdout",
          "text": [
            "**************************************************\n",
            "Yoohoo! Decorators are cool!\n",
            "**************************************************\n"
          ]
        }
      ],
      "source": [
        "highlight_and_print_message = make_highlighted(print_message)\n",
        "\n",
        "highlight_and_print_message()"
      ]
    },
    {
      "cell_type": "code",
      "execution_count": 111,
      "metadata": {
        "colab": {
          "base_uri": "https://localhost:8080/"
        },
        "id": "gJX6MWcmjzVG",
        "outputId": "3808a4b8-67e3-40a0-dcd3-32028d9cbc46"
      },
      "outputs": [
        {
          "output_type": "stream",
          "name": "stdout",
          "text": [
            "::::::::::::::::::::::::::::::::::::::::::::::::::\n",
            "Did you know? Decorators use closures.\n",
            "::::::::::::::::::::::::::::::::::::::::::::::::::\n"
          ]
        }
      ],
      "source": [
        "highlight_and_print_another_message = make_highlighted(print_another_message)\n",
        "\n",
        "highlight_and_print_another_message()"
      ]
    },
    {
      "cell_type": "code",
      "execution_count": 112,
      "metadata": {
        "id": "lanohRYujzVH"
      },
      "outputs": [],
      "source": [
        "@make_highlighted\n",
        "def print_a_third_message():\n",
        "    print(\"Now you'll see how decorators are used\")"
      ]
    },
    {
      "cell_type": "code",
      "execution_count": 113,
      "metadata": {
        "colab": {
          "base_uri": "https://localhost:8080/"
        },
        "id": "ZwRpAQrejzVH",
        "outputId": "8a96d988-bb53-449d-dce9-fbed23939e3d"
      },
      "outputs": [
        {
          "output_type": "stream",
          "name": "stdout",
          "text": [
            "**************************************************\n",
            "Now you'll see how decorators are used\n",
            "**************************************************\n"
          ]
        }
      ],
      "source": [
        "print_a_third_message()"
      ]
    },
    {
      "cell_type": "code",
      "execution_count": 114,
      "metadata": {
        "id": "gDyzEEe3jzVH"
      },
      "outputs": [],
      "source": [
        "@make_highlighted\n",
        "def print_any_message():\n",
        "    print(\"This is an important result that needs to be highlighted!\")"
      ]
    },
    {
      "cell_type": "code",
      "execution_count": 115,
      "metadata": {
        "colab": {
          "base_uri": "https://localhost:8080/"
        },
        "id": "N3_o79DQjzVH",
        "outputId": "f58981c3-50f4-4f7d-e02c-9bca531aa792"
      },
      "outputs": [
        {
          "output_type": "stream",
          "name": "stdout",
          "text": [
            "::::::::::::::::::::::::::::::::::::::::::::::::::\n",
            "This is an important result that needs to be highlighted!\n",
            "::::::::::::::::::::::::::::::::::::::::::::::::::\n"
          ]
        }
      ],
      "source": [
        "print_any_message()"
      ]
    },
    {
      "cell_type": "code",
      "execution_count": 116,
      "metadata": {
        "id": "YGqzW46VjzVH"
      },
      "outputs": [],
      "source": [
        "import math\n",
        "\n",
        "def area_circle_fn(radius):\n",
        "    \n",
        "    return math.pi * radius * radius"
      ]
    },
    {
      "cell_type": "code",
      "execution_count": 117,
      "metadata": {
        "id": "Fu85kEegjzVH"
      },
      "outputs": [],
      "source": [
        "def perimeter_circle_fn(radius):\n",
        "    \n",
        "    return 2 * math.pi * radius"
      ]
    },
    {
      "cell_type": "code",
      "execution_count": 118,
      "metadata": {
        "id": "uIRnRzKwjzVH"
      },
      "outputs": [],
      "source": [
        "def diameter_circle_fn(radius):\n",
        "    \n",
        "    return 2 * radius"
      ]
    },
    {
      "cell_type": "code",
      "execution_count": 119,
      "metadata": {
        "colab": {
          "base_uri": "https://localhost:8080/"
        },
        "id": "tKGLC7rMjzVH",
        "outputId": "fb8b5050-aae5-4d0b-c753-354c5414b534"
      },
      "outputs": [
        {
          "output_type": "execute_result",
          "data": {
            "text/plain": [
              "78.53981633974483"
            ]
          },
          "metadata": {},
          "execution_count": 119
        }
      ],
      "source": [
        "area_circle_fn(5)"
      ]
    },
    {
      "cell_type": "code",
      "execution_count": 120,
      "metadata": {
        "colab": {
          "base_uri": "https://localhost:8080/"
        },
        "id": "mgWfu6c1jzVH",
        "outputId": "a77c78d7-295a-470b-dc9c-7fd197d42ac4"
      },
      "outputs": [
        {
          "output_type": "execute_result",
          "data": {
            "text/plain": [
              "3.141592653589793"
            ]
          },
          "metadata": {},
          "execution_count": 120
        }
      ],
      "source": [
        "area_circle_fn(-1)"
      ]
    },
    {
      "cell_type": "code",
      "execution_count": 121,
      "metadata": {
        "id": "nJ3fYTQTjzVH"
      },
      "outputs": [],
      "source": [
        "def safe_calculate(func):\n",
        "    \n",
        "    def calculate(r):\n",
        "        if r <= 0:\n",
        "            raise ValueError(\"Radius cannot be negative or zero\")\n",
        "        \n",
        "        return func(r)\n",
        "    \n",
        "    return calculate"
      ]
    },
    {
      "cell_type": "code",
      "execution_count": 122,
      "metadata": {
        "id": "B3U6c_17jzVH"
      },
      "outputs": [],
      "source": [
        "area_circle_safe = safe_calculate(area_circle_fn)"
      ]
    },
    {
      "cell_type": "code",
      "execution_count": 123,
      "metadata": {
        "colab": {
          "base_uri": "https://localhost:8080/"
        },
        "id": "qf3BxzwojzVH",
        "outputId": "cfefc73d-3f43-4b8b-ee3b-490656734e4d"
      },
      "outputs": [
        {
          "output_type": "execute_result",
          "data": {
            "text/plain": [
              "78.53981633974483"
            ]
          },
          "metadata": {},
          "execution_count": 123
        }
      ],
      "source": [
        "area_circle_safe(5)"
      ]
    },
    {
      "cell_type": "code",
      "execution_count": 124,
      "metadata": {
        "colab": {
          "base_uri": "https://localhost:8080/",
          "height": 287
        },
        "id": "PI6sbmR2jzVI",
        "outputId": "407d4da7-13bd-4c64-971a-c43cecebe3df"
      },
      "outputs": [
        {
          "output_type": "error",
          "ename": "ValueError",
          "evalue": "ignored",
          "traceback": [
            "\u001b[0;31m---------------------------------------------------------------------------\u001b[0m",
            "\u001b[0;31mValueError\u001b[0m                                Traceback (most recent call last)",
            "\u001b[0;32m<ipython-input-124-eb7bf528ad11>\u001b[0m in \u001b[0;36m<module>\u001b[0;34m()\u001b[0m\n\u001b[0;32m----> 1\u001b[0;31m \u001b[0marea_circle_safe\u001b[0m\u001b[0;34m(\u001b[0m\u001b[0;34m-\u001b[0m\u001b[0;36m1\u001b[0m\u001b[0;34m)\u001b[0m\u001b[0;34m\u001b[0m\u001b[0;34m\u001b[0m\u001b[0m\n\u001b[0m",
            "\u001b[0;32m<ipython-input-121-0f61d2a01e16>\u001b[0m in \u001b[0;36mcalculate\u001b[0;34m(r)\u001b[0m\n\u001b[1;32m      3\u001b[0m     \u001b[0;32mdef\u001b[0m \u001b[0mcalculate\u001b[0m\u001b[0;34m(\u001b[0m\u001b[0mr\u001b[0m\u001b[0;34m)\u001b[0m\u001b[0;34m:\u001b[0m\u001b[0;34m\u001b[0m\u001b[0;34m\u001b[0m\u001b[0m\n\u001b[1;32m      4\u001b[0m         \u001b[0;32mif\u001b[0m \u001b[0mr\u001b[0m \u001b[0;34m<=\u001b[0m \u001b[0;36m0\u001b[0m\u001b[0;34m:\u001b[0m\u001b[0;34m\u001b[0m\u001b[0;34m\u001b[0m\u001b[0m\n\u001b[0;32m----> 5\u001b[0;31m             \u001b[0;32mraise\u001b[0m \u001b[0mValueError\u001b[0m\u001b[0;34m(\u001b[0m\u001b[0;34m\"Radius cannot be negative or zero\"\u001b[0m\u001b[0;34m)\u001b[0m\u001b[0;34m\u001b[0m\u001b[0;34m\u001b[0m\u001b[0m\n\u001b[0m\u001b[1;32m      6\u001b[0m \u001b[0;34m\u001b[0m\u001b[0m\n\u001b[1;32m      7\u001b[0m         \u001b[0;32mreturn\u001b[0m \u001b[0mfunc\u001b[0m\u001b[0;34m(\u001b[0m\u001b[0mr\u001b[0m\u001b[0;34m)\u001b[0m\u001b[0;34m\u001b[0m\u001b[0;34m\u001b[0m\u001b[0m\n",
            "\u001b[0;31mValueError\u001b[0m: Radius cannot be negative or zero"
          ]
        }
      ],
      "source": [
        "area_circle_safe(-1)"
      ]
    },
    {
      "cell_type": "code",
      "execution_count": 125,
      "metadata": {
        "colab": {
          "base_uri": "https://localhost:8080/"
        },
        "id": "Zc9NEvvDjzVI",
        "outputId": "8a3ca2f9-f717-4a62-adab-aa478d41e01f"
      },
      "outputs": [
        {
          "output_type": "execute_result",
          "data": {
            "text/plain": [
              "62.83185307179586"
            ]
          },
          "metadata": {},
          "execution_count": 125
        }
      ],
      "source": [
        "perimeter_circle_safe = safe_calculate(perimeter_circle_fn)\n",
        "\n",
        "perimeter_circle_safe(10)"
      ]
    },
    {
      "cell_type": "code",
      "execution_count": 126,
      "metadata": {
        "colab": {
          "base_uri": "https://localhost:8080/",
          "height": 287
        },
        "id": "LQRb-01hjzVI",
        "outputId": "8a531b7f-a4f1-4778-b86b-a9dcd87bac78"
      },
      "outputs": [
        {
          "output_type": "error",
          "ename": "ValueError",
          "evalue": "ignored",
          "traceback": [
            "\u001b[0;31m---------------------------------------------------------------------------\u001b[0m",
            "\u001b[0;31mValueError\u001b[0m                                Traceback (most recent call last)",
            "\u001b[0;32m<ipython-input-126-4007c2375d14>\u001b[0m in \u001b[0;36m<module>\u001b[0;34m()\u001b[0m\n\u001b[0;32m----> 1\u001b[0;31m \u001b[0mperimeter_circle_safe\u001b[0m\u001b[0;34m(\u001b[0m\u001b[0;34m-\u001b[0m\u001b[0;36m10\u001b[0m\u001b[0;34m)\u001b[0m\u001b[0;34m\u001b[0m\u001b[0;34m\u001b[0m\u001b[0m\n\u001b[0m",
            "\u001b[0;32m<ipython-input-121-0f61d2a01e16>\u001b[0m in \u001b[0;36mcalculate\u001b[0;34m(r)\u001b[0m\n\u001b[1;32m      3\u001b[0m     \u001b[0;32mdef\u001b[0m \u001b[0mcalculate\u001b[0m\u001b[0;34m(\u001b[0m\u001b[0mr\u001b[0m\u001b[0;34m)\u001b[0m\u001b[0;34m:\u001b[0m\u001b[0;34m\u001b[0m\u001b[0;34m\u001b[0m\u001b[0m\n\u001b[1;32m      4\u001b[0m         \u001b[0;32mif\u001b[0m \u001b[0mr\u001b[0m \u001b[0;34m<=\u001b[0m \u001b[0;36m0\u001b[0m\u001b[0;34m:\u001b[0m\u001b[0;34m\u001b[0m\u001b[0;34m\u001b[0m\u001b[0m\n\u001b[0;32m----> 5\u001b[0;31m             \u001b[0;32mraise\u001b[0m \u001b[0mValueError\u001b[0m\u001b[0;34m(\u001b[0m\u001b[0;34m\"Radius cannot be negative or zero\"\u001b[0m\u001b[0;34m)\u001b[0m\u001b[0;34m\u001b[0m\u001b[0;34m\u001b[0m\u001b[0m\n\u001b[0m\u001b[1;32m      6\u001b[0m \u001b[0;34m\u001b[0m\u001b[0m\n\u001b[1;32m      7\u001b[0m         \u001b[0;32mreturn\u001b[0m \u001b[0mfunc\u001b[0m\u001b[0;34m(\u001b[0m\u001b[0mr\u001b[0m\u001b[0;34m)\u001b[0m\u001b[0;34m\u001b[0m\u001b[0;34m\u001b[0m\u001b[0m\n",
            "\u001b[0;31mValueError\u001b[0m: Radius cannot be negative or zero"
          ]
        }
      ],
      "source": [
        "perimeter_circle_safe(-10)"
      ]
    },
    {
      "cell_type": "code",
      "execution_count": 127,
      "metadata": {
        "id": "4gMkIKtNjzVI"
      },
      "outputs": [],
      "source": [
        "@safe_calculate\n",
        "def area_circle_fn(radius):\n",
        "    return math.pi * radius * radius\n",
        "\n",
        "@safe_calculate\n",
        "def perimeter_circle_fn(radius):\n",
        "    return 2 * math.pi * radius"
      ]
    },
    {
      "cell_type": "code",
      "execution_count": 128,
      "metadata": {
        "colab": {
          "base_uri": "https://localhost:8080/"
        },
        "id": "_feO4fqfjzVI",
        "outputId": "d7b8eea8-57a2-422c-fb5f-a22f387b2c60"
      },
      "outputs": [
        {
          "output_type": "execute_result",
          "data": {
            "text/plain": [
              "18.84955592153876"
            ]
          },
          "metadata": {},
          "execution_count": 128
        }
      ],
      "source": [
        "perimeter_circle_fn(3)"
      ]
    },
    {
      "cell_type": "code",
      "execution_count": 129,
      "metadata": {
        "colab": {
          "base_uri": "https://localhost:8080/",
          "height": 287
        },
        "id": "fMm38QQ0jzVI",
        "outputId": "19d4d901-bd63-410e-f80a-81546c39e9c7"
      },
      "outputs": [
        {
          "output_type": "error",
          "ename": "ValueError",
          "evalue": "ignored",
          "traceback": [
            "\u001b[0;31m---------------------------------------------------------------------------\u001b[0m",
            "\u001b[0;31mValueError\u001b[0m                                Traceback (most recent call last)",
            "\u001b[0;32m<ipython-input-129-bae717914e66>\u001b[0m in \u001b[0;36m<module>\u001b[0;34m()\u001b[0m\n\u001b[0;32m----> 1\u001b[0;31m \u001b[0mperimeter_circle_fn\u001b[0m\u001b[0;34m(\u001b[0m\u001b[0;34m-\u001b[0m\u001b[0;36m3\u001b[0m\u001b[0;34m)\u001b[0m\u001b[0;34m\u001b[0m\u001b[0;34m\u001b[0m\u001b[0m\n\u001b[0m",
            "\u001b[0;32m<ipython-input-121-0f61d2a01e16>\u001b[0m in \u001b[0;36mcalculate\u001b[0;34m(r)\u001b[0m\n\u001b[1;32m      3\u001b[0m     \u001b[0;32mdef\u001b[0m \u001b[0mcalculate\u001b[0m\u001b[0;34m(\u001b[0m\u001b[0mr\u001b[0m\u001b[0;34m)\u001b[0m\u001b[0;34m:\u001b[0m\u001b[0;34m\u001b[0m\u001b[0;34m\u001b[0m\u001b[0m\n\u001b[1;32m      4\u001b[0m         \u001b[0;32mif\u001b[0m \u001b[0mr\u001b[0m \u001b[0;34m<=\u001b[0m \u001b[0;36m0\u001b[0m\u001b[0;34m:\u001b[0m\u001b[0;34m\u001b[0m\u001b[0;34m\u001b[0m\u001b[0m\n\u001b[0;32m----> 5\u001b[0;31m             \u001b[0;32mraise\u001b[0m \u001b[0mValueError\u001b[0m\u001b[0;34m(\u001b[0m\u001b[0;34m\"Radius cannot be negative or zero\"\u001b[0m\u001b[0;34m)\u001b[0m\u001b[0;34m\u001b[0m\u001b[0;34m\u001b[0m\u001b[0m\n\u001b[0m\u001b[1;32m      6\u001b[0m \u001b[0;34m\u001b[0m\u001b[0m\n\u001b[1;32m      7\u001b[0m         \u001b[0;32mreturn\u001b[0m \u001b[0mfunc\u001b[0m\u001b[0;34m(\u001b[0m\u001b[0mr\u001b[0m\u001b[0;34m)\u001b[0m\u001b[0;34m\u001b[0m\u001b[0;34m\u001b[0m\u001b[0m\n",
            "\u001b[0;31mValueError\u001b[0m: Radius cannot be negative or zero"
          ]
        }
      ],
      "source": [
        "perimeter_circle_fn(-3)"
      ]
    },
    {
      "cell_type": "code",
      "execution_count": 130,
      "metadata": {
        "id": "wKktEbXejzVI"
      },
      "outputs": [],
      "source": [
        "@safe_calculate\n",
        "def area_rectangle_fn(length, breadth):\n",
        "    return length * breadth"
      ]
    },
    {
      "cell_type": "code",
      "execution_count": 131,
      "metadata": {
        "colab": {
          "base_uri": "https://localhost:8080/",
          "height": 166
        },
        "id": "reg_sKJfjzVI",
        "outputId": "d51a6f26-46a7-4672-c1fc-f703d4c7b773"
      },
      "outputs": [
        {
          "output_type": "error",
          "ename": "TypeError",
          "evalue": "ignored",
          "traceback": [
            "\u001b[0;31m---------------------------------------------------------------------------\u001b[0m",
            "\u001b[0;31mTypeError\u001b[0m                                 Traceback (most recent call last)",
            "\u001b[0;32m<ipython-input-131-85683c4cc650>\u001b[0m in \u001b[0;36m<module>\u001b[0;34m()\u001b[0m\n\u001b[0;32m----> 1\u001b[0;31m \u001b[0marea_rectangle_fn\u001b[0m\u001b[0;34m(\u001b[0m\u001b[0;36m4\u001b[0m\u001b[0;34m,\u001b[0m \u001b[0;36m5\u001b[0m\u001b[0;34m)\u001b[0m\u001b[0;34m\u001b[0m\u001b[0;34m\u001b[0m\u001b[0m\n\u001b[0m",
            "\u001b[0;31mTypeError\u001b[0m: calculate() takes 1 positional argument but 2 were given"
          ]
        }
      ],
      "source": [
        "area_rectangle_fn(4, 5)"
      ]
    },
    {
      "cell_type": "code",
      "execution_count": 132,
      "metadata": {
        "id": "xzjKxwz1jzVI"
      },
      "outputs": [],
      "source": [
        "def safe_calculate_all(func):\n",
        "    \n",
        "    def calculate(*args):\n",
        "        \n",
        "        for arg in args:\n",
        "            if arg <= 0:\n",
        "                raise ValueError(\"Argument cannot be negative or zero\")\n",
        "        \n",
        "        return func(*args)\n",
        "    \n",
        "    return calculate"
      ]
    },
    {
      "cell_type": "code",
      "execution_count": 133,
      "metadata": {
        "id": "DzBLXrnrjzVI"
      },
      "outputs": [],
      "source": [
        "@safe_calculate_all\n",
        "def area_rectangle_fn(length, breadth):\n",
        "    return length * breadth\n",
        "\n",
        "@safe_calculate_all\n",
        "def perimeter_rectangle_fn(length, breadth):\n",
        "    return 2 * (length + breadth)"
      ]
    },
    {
      "cell_type": "code",
      "execution_count": 134,
      "metadata": {
        "colab": {
          "base_uri": "https://localhost:8080/"
        },
        "id": "bB0G1_RGjzVJ",
        "outputId": "d5533c27-ab0e-469c-852f-5c0142870f0b"
      },
      "outputs": [
        {
          "output_type": "execute_result",
          "data": {
            "text/plain": [
              "20"
            ]
          },
          "metadata": {},
          "execution_count": 134
        }
      ],
      "source": [
        "area_rectangle_fn(5, 4)"
      ]
    },
    {
      "cell_type": "code",
      "execution_count": 135,
      "metadata": {
        "colab": {
          "base_uri": "https://localhost:8080/",
          "height": 287
        },
        "id": "BOgrzPwujzVJ",
        "outputId": "1775a385-951a-41d1-d1da-bc49280b644b"
      },
      "outputs": [
        {
          "output_type": "error",
          "ename": "ValueError",
          "evalue": "ignored",
          "traceback": [
            "\u001b[0;31m---------------------------------------------------------------------------\u001b[0m",
            "\u001b[0;31mValueError\u001b[0m                                Traceback (most recent call last)",
            "\u001b[0;32m<ipython-input-135-123c18e1f927>\u001b[0m in \u001b[0;36m<module>\u001b[0;34m()\u001b[0m\n\u001b[0;32m----> 1\u001b[0;31m \u001b[0marea_rectangle_fn\u001b[0m\u001b[0;34m(\u001b[0m\u001b[0;36m5\u001b[0m\u001b[0;34m,\u001b[0m \u001b[0;34m-\u001b[0m\u001b[0;36m4\u001b[0m\u001b[0;34m)\u001b[0m\u001b[0;34m\u001b[0m\u001b[0;34m\u001b[0m\u001b[0m\n\u001b[0m",
            "\u001b[0;32m<ipython-input-132-d25203655ed3>\u001b[0m in \u001b[0;36mcalculate\u001b[0;34m(*args)\u001b[0m\n\u001b[1;32m      5\u001b[0m         \u001b[0;32mfor\u001b[0m \u001b[0marg\u001b[0m \u001b[0;32min\u001b[0m \u001b[0margs\u001b[0m\u001b[0;34m:\u001b[0m\u001b[0;34m\u001b[0m\u001b[0;34m\u001b[0m\u001b[0m\n\u001b[1;32m      6\u001b[0m             \u001b[0;32mif\u001b[0m \u001b[0marg\u001b[0m \u001b[0;34m<=\u001b[0m \u001b[0;36m0\u001b[0m\u001b[0;34m:\u001b[0m\u001b[0;34m\u001b[0m\u001b[0;34m\u001b[0m\u001b[0m\n\u001b[0;32m----> 7\u001b[0;31m                 \u001b[0;32mraise\u001b[0m \u001b[0mValueError\u001b[0m\u001b[0;34m(\u001b[0m\u001b[0;34m\"Argument cannot be negative or zero\"\u001b[0m\u001b[0;34m)\u001b[0m\u001b[0;34m\u001b[0m\u001b[0;34m\u001b[0m\u001b[0m\n\u001b[0m\u001b[1;32m      8\u001b[0m \u001b[0;34m\u001b[0m\u001b[0m\n\u001b[1;32m      9\u001b[0m         \u001b[0;32mreturn\u001b[0m \u001b[0mfunc\u001b[0m\u001b[0;34m(\u001b[0m\u001b[0;34m*\u001b[0m\u001b[0margs\u001b[0m\u001b[0;34m)\u001b[0m\u001b[0;34m\u001b[0m\u001b[0;34m\u001b[0m\u001b[0m\n",
            "\u001b[0;31mValueError\u001b[0m: Argument cannot be negative or zero"
          ]
        }
      ],
      "source": [
        "area_rectangle_fn(5, -4)"
      ]
    },
    {
      "cell_type": "code",
      "execution_count": 136,
      "metadata": {
        "colab": {
          "base_uri": "https://localhost:8080/",
          "height": 287
        },
        "id": "W7SycOwHjzVJ",
        "outputId": "41e9ab24-b0c2-40e6-b05b-366ccb33f0c7"
      },
      "outputs": [
        {
          "output_type": "error",
          "ename": "ValueError",
          "evalue": "ignored",
          "traceback": [
            "\u001b[0;31m---------------------------------------------------------------------------\u001b[0m",
            "\u001b[0;31mValueError\u001b[0m                                Traceback (most recent call last)",
            "\u001b[0;32m<ipython-input-136-ec692b921aa6>\u001b[0m in \u001b[0;36m<module>\u001b[0;34m()\u001b[0m\n\u001b[0;32m----> 1\u001b[0;31m \u001b[0marea_rectangle_fn\u001b[0m\u001b[0;34m(\u001b[0m\u001b[0;34m-\u001b[0m\u001b[0;36m5\u001b[0m\u001b[0;34m,\u001b[0m \u001b[0;36m4\u001b[0m\u001b[0;34m)\u001b[0m\u001b[0;34m\u001b[0m\u001b[0;34m\u001b[0m\u001b[0m\n\u001b[0m",
            "\u001b[0;32m<ipython-input-132-d25203655ed3>\u001b[0m in \u001b[0;36mcalculate\u001b[0;34m(*args)\u001b[0m\n\u001b[1;32m      5\u001b[0m         \u001b[0;32mfor\u001b[0m \u001b[0marg\u001b[0m \u001b[0;32min\u001b[0m \u001b[0margs\u001b[0m\u001b[0;34m:\u001b[0m\u001b[0;34m\u001b[0m\u001b[0;34m\u001b[0m\u001b[0m\n\u001b[1;32m      6\u001b[0m             \u001b[0;32mif\u001b[0m \u001b[0marg\u001b[0m \u001b[0;34m<=\u001b[0m \u001b[0;36m0\u001b[0m\u001b[0;34m:\u001b[0m\u001b[0;34m\u001b[0m\u001b[0;34m\u001b[0m\u001b[0m\n\u001b[0;32m----> 7\u001b[0;31m                 \u001b[0;32mraise\u001b[0m \u001b[0mValueError\u001b[0m\u001b[0;34m(\u001b[0m\u001b[0;34m\"Argument cannot be negative or zero\"\u001b[0m\u001b[0;34m)\u001b[0m\u001b[0;34m\u001b[0m\u001b[0;34m\u001b[0m\u001b[0m\n\u001b[0m\u001b[1;32m      8\u001b[0m \u001b[0;34m\u001b[0m\u001b[0m\n\u001b[1;32m      9\u001b[0m         \u001b[0;32mreturn\u001b[0m \u001b[0mfunc\u001b[0m\u001b[0;34m(\u001b[0m\u001b[0;34m*\u001b[0m\u001b[0margs\u001b[0m\u001b[0;34m)\u001b[0m\u001b[0;34m\u001b[0m\u001b[0;34m\u001b[0m\u001b[0m\n",
            "\u001b[0;31mValueError\u001b[0m: Argument cannot be negative or zero"
          ]
        }
      ],
      "source": [
        "area_rectangle_fn(-5, 4)"
      ]
    },
    {
      "cell_type": "code",
      "execution_count": 137,
      "metadata": {
        "colab": {
          "base_uri": "https://localhost:8080/"
        },
        "id": "85vZsWS9jzVJ",
        "outputId": "60f27941-c11f-42c4-e941-fc861b74d3d1"
      },
      "outputs": [
        {
          "output_type": "execute_result",
          "data": {
            "text/plain": [
              "18"
            ]
          },
          "metadata": {},
          "execution_count": 137
        }
      ],
      "source": [
        "perimeter_rectangle_fn(5, 4)"
      ]
    },
    {
      "cell_type": "code",
      "execution_count": 138,
      "metadata": {
        "colab": {
          "base_uri": "https://localhost:8080/",
          "height": 287
        },
        "id": "QvHn0eYgjzVJ",
        "outputId": "ddaf17d6-1616-48c3-e386-2f1bcd9e77ad"
      },
      "outputs": [
        {
          "output_type": "error",
          "ename": "ValueError",
          "evalue": "ignored",
          "traceback": [
            "\u001b[0;31m---------------------------------------------------------------------------\u001b[0m",
            "\u001b[0;31mValueError\u001b[0m                                Traceback (most recent call last)",
            "\u001b[0;32m<ipython-input-138-38767e469576>\u001b[0m in \u001b[0;36m<module>\u001b[0;34m()\u001b[0m\n\u001b[0;32m----> 1\u001b[0;31m \u001b[0mperimeter_rectangle_fn\u001b[0m\u001b[0;34m(\u001b[0m\u001b[0;34m-\u001b[0m\u001b[0;36m5\u001b[0m\u001b[0;34m,\u001b[0m \u001b[0;36m4\u001b[0m\u001b[0;34m)\u001b[0m\u001b[0;34m\u001b[0m\u001b[0;34m\u001b[0m\u001b[0m\n\u001b[0m",
            "\u001b[0;32m<ipython-input-132-d25203655ed3>\u001b[0m in \u001b[0;36mcalculate\u001b[0;34m(*args)\u001b[0m\n\u001b[1;32m      5\u001b[0m         \u001b[0;32mfor\u001b[0m \u001b[0marg\u001b[0m \u001b[0;32min\u001b[0m \u001b[0margs\u001b[0m\u001b[0;34m:\u001b[0m\u001b[0;34m\u001b[0m\u001b[0;34m\u001b[0m\u001b[0m\n\u001b[1;32m      6\u001b[0m             \u001b[0;32mif\u001b[0m \u001b[0marg\u001b[0m \u001b[0;34m<=\u001b[0m \u001b[0;36m0\u001b[0m\u001b[0;34m:\u001b[0m\u001b[0;34m\u001b[0m\u001b[0;34m\u001b[0m\u001b[0m\n\u001b[0;32m----> 7\u001b[0;31m                 \u001b[0;32mraise\u001b[0m \u001b[0mValueError\u001b[0m\u001b[0;34m(\u001b[0m\u001b[0;34m\"Argument cannot be negative or zero\"\u001b[0m\u001b[0;34m)\u001b[0m\u001b[0;34m\u001b[0m\u001b[0;34m\u001b[0m\u001b[0m\n\u001b[0m\u001b[1;32m      8\u001b[0m \u001b[0;34m\u001b[0m\u001b[0m\n\u001b[1;32m      9\u001b[0m         \u001b[0;32mreturn\u001b[0m \u001b[0mfunc\u001b[0m\u001b[0;34m(\u001b[0m\u001b[0;34m*\u001b[0m\u001b[0margs\u001b[0m\u001b[0;34m)\u001b[0m\u001b[0;34m\u001b[0m\u001b[0;34m\u001b[0m\u001b[0m\n",
            "\u001b[0;31mValueError\u001b[0m: Argument cannot be negative or zero"
          ]
        }
      ],
      "source": [
        "perimeter_rectangle_fn(-5, 4)"
      ]
    },
    {
      "cell_type": "code",
      "execution_count": 139,
      "metadata": {
        "id": "MVmQ8xdojzVJ"
      },
      "outputs": [],
      "source": [
        "@safe_calculate_all\n",
        "def perimeter_circle_fn(radius):\n",
        "    \n",
        "    return 2 * math.pi * radius"
      ]
    },
    {
      "cell_type": "code",
      "execution_count": 140,
      "metadata": {
        "colab": {
          "base_uri": "https://localhost:8080/"
        },
        "id": "_k2JxwwZjzVJ",
        "outputId": "eb56ad9e-171f-4e0d-e1a1-1b6b51d51687"
      },
      "outputs": [
        {
          "output_type": "execute_result",
          "data": {
            "text/plain": [
              "25.132741228718345"
            ]
          },
          "metadata": {},
          "execution_count": 140
        }
      ],
      "source": [
        "perimeter_circle_fn(4)"
      ]
    },
    {
      "cell_type": "code",
      "execution_count": 141,
      "metadata": {
        "colab": {
          "base_uri": "https://localhost:8080/",
          "height": 287
        },
        "id": "4u-soVfwjzVJ",
        "outputId": "9463c88b-c862-436b-b328-4c53195a2793"
      },
      "outputs": [
        {
          "output_type": "error",
          "ename": "ValueError",
          "evalue": "ignored",
          "traceback": [
            "\u001b[0;31m---------------------------------------------------------------------------\u001b[0m",
            "\u001b[0;31mValueError\u001b[0m                                Traceback (most recent call last)",
            "\u001b[0;32m<ipython-input-141-06941d224155>\u001b[0m in \u001b[0;36m<module>\u001b[0;34m()\u001b[0m\n\u001b[0;32m----> 1\u001b[0;31m \u001b[0mperimeter_circle_fn\u001b[0m\u001b[0;34m(\u001b[0m\u001b[0;34m-\u001b[0m\u001b[0;36m4\u001b[0m\u001b[0;34m)\u001b[0m\u001b[0;34m\u001b[0m\u001b[0;34m\u001b[0m\u001b[0m\n\u001b[0m",
            "\u001b[0;32m<ipython-input-132-d25203655ed3>\u001b[0m in \u001b[0;36mcalculate\u001b[0;34m(*args)\u001b[0m\n\u001b[1;32m      5\u001b[0m         \u001b[0;32mfor\u001b[0m \u001b[0marg\u001b[0m \u001b[0;32min\u001b[0m \u001b[0margs\u001b[0m\u001b[0;34m:\u001b[0m\u001b[0;34m\u001b[0m\u001b[0;34m\u001b[0m\u001b[0m\n\u001b[1;32m      6\u001b[0m             \u001b[0;32mif\u001b[0m \u001b[0marg\u001b[0m \u001b[0;34m<=\u001b[0m \u001b[0;36m0\u001b[0m\u001b[0;34m:\u001b[0m\u001b[0;34m\u001b[0m\u001b[0;34m\u001b[0m\u001b[0m\n\u001b[0;32m----> 7\u001b[0;31m                 \u001b[0;32mraise\u001b[0m \u001b[0mValueError\u001b[0m\u001b[0;34m(\u001b[0m\u001b[0;34m\"Argument cannot be negative or zero\"\u001b[0m\u001b[0;34m)\u001b[0m\u001b[0;34m\u001b[0m\u001b[0;34m\u001b[0m\u001b[0m\n\u001b[0m\u001b[1;32m      8\u001b[0m \u001b[0;34m\u001b[0m\u001b[0m\n\u001b[1;32m      9\u001b[0m         \u001b[0;32mreturn\u001b[0m \u001b[0mfunc\u001b[0m\u001b[0;34m(\u001b[0m\u001b[0;34m*\u001b[0m\u001b[0margs\u001b[0m\u001b[0;34m)\u001b[0m\u001b[0;34m\u001b[0m\u001b[0;34m\u001b[0m\u001b[0m\n",
            "\u001b[0;31mValueError\u001b[0m: Argument cannot be negative or zero"
          ]
        }
      ],
      "source": [
        "perimeter_circle_fn(-4)"
      ]
    },
    {
      "cell_type": "code",
      "execution_count": 142,
      "metadata": {
        "id": "wnVOjQ37jzVJ"
      },
      "outputs": [],
      "source": [
        "def asterisk_highlight(func):\n",
        "    \n",
        "    def highlight():\n",
        "        print(\"*\" * 50)\n",
        "\n",
        "        func()\n",
        "\n",
        "        print(\"*\" * 50)            \n",
        "    \n",
        "    return highlight"
      ]
    },
    {
      "cell_type": "code",
      "execution_count": 143,
      "metadata": {
        "id": "53wi9veHjzVJ"
      },
      "outputs": [],
      "source": [
        "def plus_highlight(func):\n",
        "    \n",
        "    def highlight():\n",
        "        print(\"+\" * 50)\n",
        "\n",
        "        func()\n",
        "\n",
        "        print(\"+\" * 50)            \n",
        "    \n",
        "    return highlight"
      ]
    },
    {
      "cell_type": "code",
      "execution_count": 144,
      "metadata": {
        "id": "ool6S3fnjzVJ"
      },
      "outputs": [],
      "source": [
        "@asterisk_highlight\n",
        "def print_message_one():\n",
        "    print(\"Yoohoo! Decorators are cool!\")"
      ]
    },
    {
      "cell_type": "code",
      "execution_count": 145,
      "metadata": {
        "colab": {
          "base_uri": "https://localhost:8080/"
        },
        "id": "dofOADe-jzVJ",
        "outputId": "2f27a224-2fed-4cb0-81ed-0b29cba68f8a"
      },
      "outputs": [
        {
          "output_type": "stream",
          "name": "stdout",
          "text": [
            "**************************************************\n",
            "Yoohoo! Decorators are cool!\n",
            "**************************************************\n"
          ]
        }
      ],
      "source": [
        "print_message_one()"
      ]
    },
    {
      "cell_type": "code",
      "execution_count": 146,
      "metadata": {
        "id": "OvrFzFb7jzVJ"
      },
      "outputs": [],
      "source": [
        "@plus_highlight\n",
        "@asterisk_highlight\n",
        "def print_message_one():\n",
        "    print(\"Yoohoo! Decorators are cool!\")"
      ]
    },
    {
      "cell_type": "code",
      "execution_count": 147,
      "metadata": {
        "colab": {
          "base_uri": "https://localhost:8080/"
        },
        "id": "8j5sGTyKjzVK",
        "outputId": "3032642c-fc03-441d-9f0b-c39d756041b8"
      },
      "outputs": [
        {
          "output_type": "stream",
          "name": "stdout",
          "text": [
            "++++++++++++++++++++++++++++++++++++++++++++++++++\n",
            "**************************************************\n",
            "Yoohoo! Decorators are cool!\n",
            "**************************************************\n",
            "++++++++++++++++++++++++++++++++++++++++++++++++++\n"
          ]
        }
      ],
      "source": [
        "print_message_one()"
      ]
    },
    {
      "cell_type": "code",
      "execution_count": 148,
      "metadata": {
        "id": "itBcAls2jzVK"
      },
      "outputs": [],
      "source": [
        "@asterisk_highlight\n",
        "@plus_highlight\n",
        "def print_message_one():\n",
        "    print(\"Yoohoo! Decorators are cool!\")"
      ]
    },
    {
      "cell_type": "code",
      "execution_count": 149,
      "metadata": {
        "colab": {
          "base_uri": "https://localhost:8080/"
        },
        "id": "x4GbiX_VjzVK",
        "outputId": "7982a212-4153-4e5e-9820-9114925a9835"
      },
      "outputs": [
        {
          "output_type": "stream",
          "name": "stdout",
          "text": [
            "**************************************************\n",
            "++++++++++++++++++++++++++++++++++++++++++++++++++\n",
            "Yoohoo! Decorators are cool!\n",
            "++++++++++++++++++++++++++++++++++++++++++++++++++\n",
            "**************************************************\n"
          ]
        }
      ],
      "source": [
        "print_message_one()"
      ]
    },
    {
      "cell_type": "code",
      "execution_count": null,
      "metadata": {
        "id": "qXeofo54jzVK"
      },
      "outputs": [],
      "source": [
        ""
      ]
    }
  ],
  "metadata": {
    "kernelspec": {
      "display_name": "Python 3",
      "language": "python",
      "name": "python3"
    },
    "language_info": {
      "codemirror_mode": {
        "name": "ipython",
        "version": 3
      },
      "file_extension": ".py",
      "mimetype": "text/x-python",
      "name": "python",
      "nbconvert_exporter": "python",
      "pygments_lexer": "ipython3",
      "version": "3.6.4"
    },
    "colab": {
      "name": "7-AdvancedFunctions2.ipynb",
      "provenance": [],
      "collapsed_sections": []
    }
  },
  "nbformat": 4,
  "nbformat_minor": 0
}